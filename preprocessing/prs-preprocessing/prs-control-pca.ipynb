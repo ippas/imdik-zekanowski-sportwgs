{
 "cells": [
  {
   "cell_type": "code",
   "execution_count": 1,
   "id": "f0006385-753c-4479-81b3-4df528228f14",
   "metadata": {},
   "outputs": [
    {
     "name": "stdout",
     "output_type": "stream",
     "text": [
      "2022-02-11 16:30:28 WARN  NativeCodeLoader:62 - Unable to load native-hadoop library for your platform... using builtin-java classes where applicable\n"
     ]
    },
    {
     "name": "stderr",
     "output_type": "stream",
     "text": [
      "Setting default log level to \"WARN\".\n",
      "To adjust logging level use sc.setLogLevel(newLevel). For SparkR, use setLogLevel(newLevel).\n"
     ]
    },
    {
     "name": "stdout",
     "output_type": "stream",
     "text": [
      "2022-02-11 16:30:28 WARN  SparkConf:69 - Note that spark.local.dir will be overridden by the value set by the cluster manager (via SPARK_LOCAL_DIRS in mesos/standalone/kubernetes and LOCAL_DIRS in YARN).\n"
     ]
    },
    {
     "name": "stderr",
     "output_type": "stream",
     "text": [
      "Running on Apache Spark version 3.1.2\n",
      "SparkUI available at http://p0651.prometheus:4040\n",
      "Welcome to\n",
      "     __  __     <>__\n",
      "    / /_/ /__  __/ /\n",
      "   / __  / _ `/ / /\n",
      "  /_/ /_/\\_,_/_/_/   version 0.2.79-f141af259254\n",
      "LOGGING: writing to /net/archive/groups/plggneuromol/matzieb/hail-log/hail-log-2d117dfe-4b31-4216-b6be-a40eb6ff6bca.log\n"
     ]
    }
   ],
   "source": [
    "import os\n",
    "from uuid import uuid4\n",
    "import hail as hl\n",
    "\n",
    "\n",
    "spark_master_host = os.environ.get('SPARK_MASTER_HOST')\n",
    "spark_master_port = os.environ.get('SPARK_MASTER_PORT')\n",
    "localfs_path = os.environ.get('SCRATCH_LOCAL')\n",
    "\n",
    "hl.init(\n",
    "    master=f'spark://{spark_master_host}:{spark_master_port}',\n",
    "    tmp_dir=os.path.join(localfs_path, 'hail-tmpdir'),\n",
    "    default_reference='GRCh38',\n",
    "    spark_conf={'spark.driver.memory': '40G', 'spark.executor.memory': '80G'},\n",
    "    log=f'/net/archive/groups/plggneuromol/matzieb/hail-log/hail-log-{str(uuid4())}.log',\n",
    ")"
   ]
  },
  {
   "cell_type": "code",
   "execution_count": 2,
   "id": "bb128eeb-34d9-406e-b304-2fc8f57d7e7d",
   "metadata": {},
   "outputs": [
    {
     "data": {
      "text/html": [
       "\n",
       "    <div class=\"bk-root\">\n",
       "        <a href=\"https://bokeh.org\" target=\"_blank\" class=\"bk-logo bk-logo-small bk-logo-notebook\"></a>\n",
       "        <span id=\"1001\">Loading BokehJS ...</span>\n",
       "    </div>"
      ]
     },
     "metadata": {},
     "output_type": "display_data"
    },
    {
     "data": {
      "application/javascript": [
       "\n",
       "(function(root) {\n",
       "  function now() {\n",
       "    return new Date();\n",
       "  }\n",
       "\n",
       "  var force = true;\n",
       "\n",
       "  if (typeof root._bokeh_onload_callbacks === \"undefined\" || force === true) {\n",
       "    root._bokeh_onload_callbacks = [];\n",
       "    root._bokeh_is_loading = undefined;\n",
       "  }\n",
       "\n",
       "  var JS_MIME_TYPE = 'application/javascript';\n",
       "  var HTML_MIME_TYPE = 'text/html';\n",
       "  var EXEC_MIME_TYPE = 'application/vnd.bokehjs_exec.v0+json';\n",
       "  var CLASS_NAME = 'output_bokeh rendered_html';\n",
       "\n",
       "  /**\n",
       "   * Render data to the DOM node\n",
       "   */\n",
       "  function render(props, node) {\n",
       "    var script = document.createElement(\"script\");\n",
       "    node.appendChild(script);\n",
       "  }\n",
       "\n",
       "  /**\n",
       "   * Handle when an output is cleared or removed\n",
       "   */\n",
       "  function handleClearOutput(event, handle) {\n",
       "    var cell = handle.cell;\n",
       "\n",
       "    var id = cell.output_area._bokeh_element_id;\n",
       "    var server_id = cell.output_area._bokeh_server_id;\n",
       "    // Clean up Bokeh references\n",
       "    if (id != null && id in Bokeh.index) {\n",
       "      Bokeh.index[id].model.document.clear();\n",
       "      delete Bokeh.index[id];\n",
       "    }\n",
       "\n",
       "    if (server_id !== undefined) {\n",
       "      // Clean up Bokeh references\n",
       "      var cmd = \"from bokeh.io.state import curstate; print(curstate().uuid_to_server['\" + server_id + \"'].get_sessions()[0].document.roots[0]._id)\";\n",
       "      cell.notebook.kernel.execute(cmd, {\n",
       "        iopub: {\n",
       "          output: function(msg) {\n",
       "            var id = msg.content.text.trim();\n",
       "            if (id in Bokeh.index) {\n",
       "              Bokeh.index[id].model.document.clear();\n",
       "              delete Bokeh.index[id];\n",
       "            }\n",
       "          }\n",
       "        }\n",
       "      });\n",
       "      // Destroy server and session\n",
       "      var cmd = \"import bokeh.io.notebook as ion; ion.destroy_server('\" + server_id + \"')\";\n",
       "      cell.notebook.kernel.execute(cmd);\n",
       "    }\n",
       "  }\n",
       "\n",
       "  /**\n",
       "   * Handle when a new output is added\n",
       "   */\n",
       "  function handleAddOutput(event, handle) {\n",
       "    var output_area = handle.output_area;\n",
       "    var output = handle.output;\n",
       "\n",
       "    // limit handleAddOutput to display_data with EXEC_MIME_TYPE content only\n",
       "    if ((output.output_type != \"display_data\") || (!output.data.hasOwnProperty(EXEC_MIME_TYPE))) {\n",
       "      return\n",
       "    }\n",
       "\n",
       "    var toinsert = output_area.element.find(\".\" + CLASS_NAME.split(' ')[0]);\n",
       "\n",
       "    if (output.metadata[EXEC_MIME_TYPE][\"id\"] !== undefined) {\n",
       "      toinsert[toinsert.length - 1].firstChild.textContent = output.data[JS_MIME_TYPE];\n",
       "      // store reference to embed id on output_area\n",
       "      output_area._bokeh_element_id = output.metadata[EXEC_MIME_TYPE][\"id\"];\n",
       "    }\n",
       "    if (output.metadata[EXEC_MIME_TYPE][\"server_id\"] !== undefined) {\n",
       "      var bk_div = document.createElement(\"div\");\n",
       "      bk_div.innerHTML = output.data[HTML_MIME_TYPE];\n",
       "      var script_attrs = bk_div.children[0].attributes;\n",
       "      for (var i = 0; i < script_attrs.length; i++) {\n",
       "        toinsert[toinsert.length - 1].firstChild.setAttribute(script_attrs[i].name, script_attrs[i].value);\n",
       "      }\n",
       "      // store reference to server id on output_area\n",
       "      output_area._bokeh_server_id = output.metadata[EXEC_MIME_TYPE][\"server_id\"];\n",
       "    }\n",
       "  }\n",
       "\n",
       "  function register_renderer(events, OutputArea) {\n",
       "\n",
       "    function append_mime(data, metadata, element) {\n",
       "      // create a DOM node to render to\n",
       "      var toinsert = this.create_output_subarea(\n",
       "        metadata,\n",
       "        CLASS_NAME,\n",
       "        EXEC_MIME_TYPE\n",
       "      );\n",
       "      this.keyboard_manager.register_events(toinsert);\n",
       "      // Render to node\n",
       "      var props = {data: data, metadata: metadata[EXEC_MIME_TYPE]};\n",
       "      render(props, toinsert[toinsert.length - 1]);\n",
       "      element.append(toinsert);\n",
       "      return toinsert\n",
       "    }\n",
       "\n",
       "    /* Handle when an output is cleared or removed */\n",
       "    events.on('clear_output.CodeCell', handleClearOutput);\n",
       "    events.on('delete.Cell', handleClearOutput);\n",
       "\n",
       "    /* Handle when a new output is added */\n",
       "    events.on('output_added.OutputArea', handleAddOutput);\n",
       "\n",
       "    /**\n",
       "     * Register the mime type and append_mime function with output_area\n",
       "     */\n",
       "    OutputArea.prototype.register_mime_type(EXEC_MIME_TYPE, append_mime, {\n",
       "      /* Is output safe? */\n",
       "      safe: true,\n",
       "      /* Index of renderer in `output_area.display_order` */\n",
       "      index: 0\n",
       "    });\n",
       "  }\n",
       "\n",
       "  // register the mime type if in Jupyter Notebook environment and previously unregistered\n",
       "  if (root.Jupyter !== undefined) {\n",
       "    var events = require('base/js/events');\n",
       "    var OutputArea = require('notebook/js/outputarea').OutputArea;\n",
       "\n",
       "    if (OutputArea.prototype.mime_types().indexOf(EXEC_MIME_TYPE) == -1) {\n",
       "      register_renderer(events, OutputArea);\n",
       "    }\n",
       "  }\n",
       "\n",
       "  \n",
       "  if (typeof (root._bokeh_timeout) === \"undefined\" || force === true) {\n",
       "    root._bokeh_timeout = Date.now() + 5000;\n",
       "    root._bokeh_failed_load = false;\n",
       "  }\n",
       "\n",
       "  var NB_LOAD_WARNING = {'data': {'text/html':\n",
       "     \"<div style='background-color: #fdd'>\\n\"+\n",
       "     \"<p>\\n\"+\n",
       "     \"BokehJS does not appear to have successfully loaded. If loading BokehJS from CDN, this \\n\"+\n",
       "     \"may be due to a slow or bad network connection. Possible fixes:\\n\"+\n",
       "     \"</p>\\n\"+\n",
       "     \"<ul>\\n\"+\n",
       "     \"<li>re-rerun `output_notebook()` to attempt to load from CDN again, or</li>\\n\"+\n",
       "     \"<li>use INLINE resources instead, as so:</li>\\n\"+\n",
       "     \"</ul>\\n\"+\n",
       "     \"<code>\\n\"+\n",
       "     \"from bokeh.resources import INLINE\\n\"+\n",
       "     \"output_notebook(resources=INLINE)\\n\"+\n",
       "     \"</code>\\n\"+\n",
       "     \"</div>\"}};\n",
       "\n",
       "  function display_loaded() {\n",
       "    var el = document.getElementById(\"1001\");\n",
       "    if (el != null) {\n",
       "      el.textContent = \"BokehJS is loading...\";\n",
       "    }\n",
       "    if (root.Bokeh !== undefined) {\n",
       "      if (el != null) {\n",
       "        el.textContent = \"BokehJS \" + root.Bokeh.version + \" successfully loaded.\";\n",
       "      }\n",
       "    } else if (Date.now() < root._bokeh_timeout) {\n",
       "      setTimeout(display_loaded, 100)\n",
       "    }\n",
       "  }\n",
       "\n",
       "\n",
       "  function run_callbacks() {\n",
       "    try {\n",
       "      root._bokeh_onload_callbacks.forEach(function(callback) {\n",
       "        if (callback != null)\n",
       "          callback();\n",
       "      });\n",
       "    } finally {\n",
       "      delete root._bokeh_onload_callbacks\n",
       "    }\n",
       "    console.debug(\"Bokeh: all callbacks have finished\");\n",
       "  }\n",
       "\n",
       "  function load_libs(css_urls, js_urls, callback) {\n",
       "    if (css_urls == null) css_urls = [];\n",
       "    if (js_urls == null) js_urls = [];\n",
       "\n",
       "    root._bokeh_onload_callbacks.push(callback);\n",
       "    if (root._bokeh_is_loading > 0) {\n",
       "      console.debug(\"Bokeh: BokehJS is being loaded, scheduling callback at\", now());\n",
       "      return null;\n",
       "    }\n",
       "    if (js_urls == null || js_urls.length === 0) {\n",
       "      run_callbacks();\n",
       "      return null;\n",
       "    }\n",
       "    console.debug(\"Bokeh: BokehJS not loaded, scheduling load and callback at\", now());\n",
       "    root._bokeh_is_loading = css_urls.length + js_urls.length;\n",
       "\n",
       "    function on_load() {\n",
       "      root._bokeh_is_loading--;\n",
       "      if (root._bokeh_is_loading === 0) {\n",
       "        console.debug(\"Bokeh: all BokehJS libraries/stylesheets loaded\");\n",
       "        run_callbacks()\n",
       "      }\n",
       "    }\n",
       "\n",
       "    function on_error() {\n",
       "      console.error(\"failed to load \" + url);\n",
       "    }\n",
       "\n",
       "    for (var i = 0; i < css_urls.length; i++) {\n",
       "      var url = css_urls[i];\n",
       "      const element = document.createElement(\"link\");\n",
       "      element.onload = on_load;\n",
       "      element.onerror = on_error;\n",
       "      element.rel = \"stylesheet\";\n",
       "      element.type = \"text/css\";\n",
       "      element.href = url;\n",
       "      console.debug(\"Bokeh: injecting link tag for BokehJS stylesheet: \", url);\n",
       "      document.body.appendChild(element);\n",
       "    }\n",
       "\n",
       "    for (var i = 0; i < js_urls.length; i++) {\n",
       "      var url = js_urls[i];\n",
       "      var element = document.createElement('script');\n",
       "      element.onload = on_load;\n",
       "      element.onerror = on_error;\n",
       "      element.async = false;\n",
       "      element.src = url;\n",
       "      console.debug(\"Bokeh: injecting script tag for BokehJS library: \", url);\n",
       "      document.head.appendChild(element);\n",
       "    }\n",
       "  };var element = document.getElementById(\"1001\");\n",
       "  if (element == null) {\n",
       "    console.error(\"Bokeh: ERROR: autoload.js configured with elementid '1001' but no matching script tag was found. \")\n",
       "    return false;\n",
       "  }\n",
       "\n",
       "  function inject_raw_css(css) {\n",
       "    const element = document.createElement(\"style\");\n",
       "    element.appendChild(document.createTextNode(css));\n",
       "    document.body.appendChild(element);\n",
       "  }\n",
       "\n",
       "  \n",
       "  var js_urls = [\"https://cdn.pydata.org/bokeh/release/bokeh-1.4.0.min.js\", \"https://cdn.pydata.org/bokeh/release/bokeh-widgets-1.4.0.min.js\", \"https://cdn.pydata.org/bokeh/release/bokeh-tables-1.4.0.min.js\", \"https://cdn.pydata.org/bokeh/release/bokeh-gl-1.4.0.min.js\"];\n",
       "  var css_urls = [];\n",
       "  \n",
       "\n",
       "  var inline_js = [\n",
       "    function(Bokeh) {\n",
       "      Bokeh.set_log_level(\"info\");\n",
       "    },\n",
       "    function(Bokeh) {\n",
       "    \n",
       "    \n",
       "    }\n",
       "  ];\n",
       "\n",
       "  function run_inline_js() {\n",
       "    \n",
       "    if (root.Bokeh !== undefined || force === true) {\n",
       "      \n",
       "    for (var i = 0; i < inline_js.length; i++) {\n",
       "      inline_js[i].call(root, root.Bokeh);\n",
       "    }\n",
       "    if (force === true) {\n",
       "        display_loaded();\n",
       "      }} else if (Date.now() < root._bokeh_timeout) {\n",
       "      setTimeout(run_inline_js, 100);\n",
       "    } else if (!root._bokeh_failed_load) {\n",
       "      console.log(\"Bokeh: BokehJS failed to load within specified timeout.\");\n",
       "      root._bokeh_failed_load = true;\n",
       "    } else if (force !== true) {\n",
       "      var cell = $(document.getElementById(\"1001\")).parents('.cell').data().cell;\n",
       "      cell.output_area.append_execute_result(NB_LOAD_WARNING)\n",
       "    }\n",
       "\n",
       "  }\n",
       "\n",
       "  if (root._bokeh_is_loading === 0) {\n",
       "    console.debug(\"Bokeh: BokehJS loaded, going straight to plotting\");\n",
       "    run_inline_js();\n",
       "  } else {\n",
       "    load_libs(css_urls, js_urls, function() {\n",
       "      console.debug(\"Bokeh: BokehJS plotting callback run at\", now());\n",
       "      run_inline_js();\n",
       "    });\n",
       "  }\n",
       "}(window));"
      ],
      "application/vnd.bokehjs_load.v0+json": "\n(function(root) {\n  function now() {\n    return new Date();\n  }\n\n  var force = true;\n\n  if (typeof root._bokeh_onload_callbacks === \"undefined\" || force === true) {\n    root._bokeh_onload_callbacks = [];\n    root._bokeh_is_loading = undefined;\n  }\n\n  \n\n  \n  if (typeof (root._bokeh_timeout) === \"undefined\" || force === true) {\n    root._bokeh_timeout = Date.now() + 5000;\n    root._bokeh_failed_load = false;\n  }\n\n  var NB_LOAD_WARNING = {'data': {'text/html':\n     \"<div style='background-color: #fdd'>\\n\"+\n     \"<p>\\n\"+\n     \"BokehJS does not appear to have successfully loaded. If loading BokehJS from CDN, this \\n\"+\n     \"may be due to a slow or bad network connection. Possible fixes:\\n\"+\n     \"</p>\\n\"+\n     \"<ul>\\n\"+\n     \"<li>re-rerun `output_notebook()` to attempt to load from CDN again, or</li>\\n\"+\n     \"<li>use INLINE resources instead, as so:</li>\\n\"+\n     \"</ul>\\n\"+\n     \"<code>\\n\"+\n     \"from bokeh.resources import INLINE\\n\"+\n     \"output_notebook(resources=INLINE)\\n\"+\n     \"</code>\\n\"+\n     \"</div>\"}};\n\n  function display_loaded() {\n    var el = document.getElementById(\"1001\");\n    if (el != null) {\n      el.textContent = \"BokehJS is loading...\";\n    }\n    if (root.Bokeh !== undefined) {\n      if (el != null) {\n        el.textContent = \"BokehJS \" + root.Bokeh.version + \" successfully loaded.\";\n      }\n    } else if (Date.now() < root._bokeh_timeout) {\n      setTimeout(display_loaded, 100)\n    }\n  }\n\n\n  function run_callbacks() {\n    try {\n      root._bokeh_onload_callbacks.forEach(function(callback) {\n        if (callback != null)\n          callback();\n      });\n    } finally {\n      delete root._bokeh_onload_callbacks\n    }\n    console.debug(\"Bokeh: all callbacks have finished\");\n  }\n\n  function load_libs(css_urls, js_urls, callback) {\n    if (css_urls == null) css_urls = [];\n    if (js_urls == null) js_urls = [];\n\n    root._bokeh_onload_callbacks.push(callback);\n    if (root._bokeh_is_loading > 0) {\n      console.debug(\"Bokeh: BokehJS is being loaded, scheduling callback at\", now());\n      return null;\n    }\n    if (js_urls == null || js_urls.length === 0) {\n      run_callbacks();\n      return null;\n    }\n    console.debug(\"Bokeh: BokehJS not loaded, scheduling load and callback at\", now());\n    root._bokeh_is_loading = css_urls.length + js_urls.length;\n\n    function on_load() {\n      root._bokeh_is_loading--;\n      if (root._bokeh_is_loading === 0) {\n        console.debug(\"Bokeh: all BokehJS libraries/stylesheets loaded\");\n        run_callbacks()\n      }\n    }\n\n    function on_error() {\n      console.error(\"failed to load \" + url);\n    }\n\n    for (var i = 0; i < css_urls.length; i++) {\n      var url = css_urls[i];\n      const element = document.createElement(\"link\");\n      element.onload = on_load;\n      element.onerror = on_error;\n      element.rel = \"stylesheet\";\n      element.type = \"text/css\";\n      element.href = url;\n      console.debug(\"Bokeh: injecting link tag for BokehJS stylesheet: \", url);\n      document.body.appendChild(element);\n    }\n\n    for (var i = 0; i < js_urls.length; i++) {\n      var url = js_urls[i];\n      var element = document.createElement('script');\n      element.onload = on_load;\n      element.onerror = on_error;\n      element.async = false;\n      element.src = url;\n      console.debug(\"Bokeh: injecting script tag for BokehJS library: \", url);\n      document.head.appendChild(element);\n    }\n  };var element = document.getElementById(\"1001\");\n  if (element == null) {\n    console.error(\"Bokeh: ERROR: autoload.js configured with elementid '1001' but no matching script tag was found. \")\n    return false;\n  }\n\n  function inject_raw_css(css) {\n    const element = document.createElement(\"style\");\n    element.appendChild(document.createTextNode(css));\n    document.body.appendChild(element);\n  }\n\n  \n  var js_urls = [\"https://cdn.pydata.org/bokeh/release/bokeh-1.4.0.min.js\", \"https://cdn.pydata.org/bokeh/release/bokeh-widgets-1.4.0.min.js\", \"https://cdn.pydata.org/bokeh/release/bokeh-tables-1.4.0.min.js\", \"https://cdn.pydata.org/bokeh/release/bokeh-gl-1.4.0.min.js\"];\n  var css_urls = [];\n  \n\n  var inline_js = [\n    function(Bokeh) {\n      Bokeh.set_log_level(\"info\");\n    },\n    function(Bokeh) {\n    \n    \n    }\n  ];\n\n  function run_inline_js() {\n    \n    if (root.Bokeh !== undefined || force === true) {\n      \n    for (var i = 0; i < inline_js.length; i++) {\n      inline_js[i].call(root, root.Bokeh);\n    }\n    if (force === true) {\n        display_loaded();\n      }} else if (Date.now() < root._bokeh_timeout) {\n      setTimeout(run_inline_js, 100);\n    } else if (!root._bokeh_failed_load) {\n      console.log(\"Bokeh: BokehJS failed to load within specified timeout.\");\n      root._bokeh_failed_load = true;\n    } else if (force !== true) {\n      var cell = $(document.getElementById(\"1001\")).parents('.cell').data().cell;\n      cell.output_area.append_execute_result(NB_LOAD_WARNING)\n    }\n\n  }\n\n  if (root._bokeh_is_loading === 0) {\n    console.debug(\"Bokeh: BokehJS loaded, going straight to plotting\");\n    run_inline_js();\n  } else {\n    load_libs(css_urls, js_urls, function() {\n      console.debug(\"Bokeh: BokehJS plotting callback run at\", now());\n      run_inline_js();\n    });\n  }\n}(window));"
     },
     "metadata": {},
     "output_type": "display_data"
    }
   ],
   "source": [
    "from hail.plot import show\n",
    "from pprint import pprint\n",
    "hl.plot.output_notebook()\n",
    " "
   ]
  },
  {
   "cell_type": "code",
   "execution_count": 3,
   "id": "0be88169-8a80-4def-8a89-aa1bc4f8e7f0",
   "metadata": {},
   "outputs": [],
   "source": [
    "# Read vcf and reduce data\n",
    "# mt = hl.import_vcf(\n",
    "#     '/net/archive/groups/plggneuromol/matzieb/projects/imdik-zekanowski-sportwgs/data/prs-data/1kg-sportsmen-merged.vcf.gz',\n",
    "#     array_elements_required=False,\n",
    "#     force_bgz = True,\n",
    "#     find_replace=('\\tinf\\t', '\\t50\\t')\n",
    "# )\n",
    "# # filter rows with p = 0.001\n",
    "# mt = mt.sample_rows(0.001, seed = 42)"
   ]
  },
  {
   "cell_type": "code",
   "execution_count": 4,
   "id": "414f3eba-24d3-4de3-b8a0-c03381665fa5",
   "metadata": {},
   "outputs": [],
   "source": [
    "# mt.write('/net/archive/groups/plggneuromol/matzieb/projects/imdik-zekanowski-sportwgs/data/prs-data/sample-1kg-sportsmen-merged.mt', overwrite=True)"
   ]
  },
  {
   "cell_type": "code",
   "execution_count": 3,
   "id": "e6bc569a-71d6-4adf-b403-a5d586e8d998",
   "metadata": {},
   "outputs": [],
   "source": [
    "mt = hl.read_matrix_table('/net/archive/groups/plggneuromol/matzieb/projects/imdik-zekanowski-sportwgs/data/prs-data/sample-1kg-sportsmen-merged.mt')"
   ]
  },
  {
   "cell_type": "code",
   "execution_count": 4,
   "id": "4990e000-18bb-45ba-a035-8a7ebaecb5d7",
   "metadata": {},
   "outputs": [
    {
     "name": "stdout",
     "output_type": "stream",
     "text": [
      "----------------------------------------\n",
      "Global fields:\n",
      "    None\n",
      "----------------------------------------\n",
      "Column fields:\n",
      "    's': str\n",
      "----------------------------------------\n",
      "Row fields:\n",
      "    'locus': locus<GRCh38>\n",
      "    'alleles': array<str>\n",
      "    'rsid': str\n",
      "    'qual': float64\n",
      "    'filters': set<str>\n",
      "    'info': struct {\n",
      "        AF: array<float64>, \n",
      "        AC: array<int32>, \n",
      "        NS: int32, \n",
      "        AN: int32, \n",
      "        EAS_AF: array<float64>, \n",
      "        EUR_AF: array<float64>, \n",
      "        AFR_AF: array<float64>, \n",
      "        AMR_AF: array<float64>, \n",
      "        SAS_AF: array<float64>, \n",
      "        VT: array<str>, \n",
      "        EX_TARGET: bool, \n",
      "        DP: int32, \n",
      "        BaseQRankSum: float64, \n",
      "        END: int32, \n",
      "        ExcessHet: float64, \n",
      "        FS: float64, \n",
      "        InbreedingCoeff: float64, \n",
      "        MLEAC: array<int32>, \n",
      "        MLEAF: array<float64>, \n",
      "        MQ: float64, \n",
      "        MQRankSum: float64, \n",
      "        QD: float64, \n",
      "        RAW_MQandDP: array<int32>, \n",
      "        ReadPosRankSum: float64, \n",
      "        SOR: float64\n",
      "    }\n",
      "----------------------------------------\n",
      "Entry fields:\n",
      "    'GT': call\n",
      "    'AD': array<int32>\n",
      "    'DP': int32\n",
      "    'GQ': int32\n",
      "    'MIN_DP': int32\n",
      "    'PGT': call\n",
      "    'PID': str\n",
      "    'PL': array<int32>\n",
      "    'PS': int32\n",
      "    'RGQ': int32\n",
      "    'SB': array<int32>\n",
      "----------------------------------------\n",
      "Column key: ['s']\n",
      "Row key: ['locus', 'alleles']\n",
      "----------------------------------------\n"
     ]
    },
    {
     "data": {
      "text/plain": [
       "(78280, 2650)"
      ]
     },
     "execution_count": 4,
     "metadata": {},
     "output_type": "execute_result"
    }
   ],
   "source": [
    "mt.describe()\n",
    "mt.count()"
   ]
  },
  {
   "cell_type": "code",
   "execution_count": 5,
   "id": "ad068429-55e1-490f-8cf5-f9e39c0f0dcd",
   "metadata": {},
   "outputs": [
    {
     "name": "stderr",
     "output_type": "stream",
     "text": [
      "2022-02-11 16:30:34 Hail: WARN: Name collision: field 'sample' already in object dict. \n",
      "  This field must be referenced with __getitem__ syntax: obj['sample']\n",
      "2022-02-11 16:30:34 Hail: INFO: Reading table to impute column types\n",
      "2022-02-11 16:30:38 Hail: INFO: Finished type imputation            (0 + 1) / 1]\n",
      "  Loading field 'sample' as type str (imputed)\n",
      "  Loading field 'pop' as type str (imputed)\n",
      "  Loading field 'super_pop' as type str (imputed)\n",
      "  Loading field 'gender' as type str (imputed)\n",
      "  Loading field 'group' as type str (imputed)\n"
     ]
    }
   ],
   "source": [
    "# read table with meta data\n",
    "table = (hl.import_table('/net/archive/groups/plggneuromol/imdik-zekanowski-sportwgs/data/prs-data/1kg-sportsmen-pheno.tsv', impute=True)\n",
    "         .key_by('sample'))"
   ]
  },
  {
   "cell_type": "code",
   "execution_count": 6,
   "id": "de2a7e56-1452-47de-be9f-140026a028d3",
   "metadata": {},
   "outputs": [],
   "source": [
    "# adding meta data into matrix table\n",
    "mt = mt.annotate_cols(pheno = table[mt.s])"
   ]
  },
  {
   "cell_type": "code",
   "execution_count": 7,
   "id": "c4757adf-c9ed-4df2-9b42-3ba8a08ded5d",
   "metadata": {},
   "outputs": [
    {
     "data": {
      "text/plain": [
       "frozendict({'AFR': 660, 'AMR': 347, 'EAS': 504, 'EUR': 503, 'SAS': 489, 'sportsman': 102, None: 45})"
      ]
     },
     "execution_count": 7,
     "metadata": {},
     "output_type": "execute_result"
    }
   ],
   "source": [
    "mt.aggregate_cols(hl.agg.counter(mt.pheno.super_pop))\n"
   ]
  },
  {
   "cell_type": "code",
   "execution_count": 8,
   "id": "adb7c7d9-6089-4c2c-aaf6-62961239b213",
   "metadata": {},
   "outputs": [],
   "source": [
    "mt = mt.filter_cols(mt.pheno.super_pop != \"NA\")"
   ]
  },
  {
   "cell_type": "code",
   "execution_count": 9,
   "id": "875a7417-9e76-40ed-9cc3-ce43ae8baaa5",
   "metadata": {},
   "outputs": [
    {
     "data": {
      "text/plain": [
       "frozendict({'AFR': 660, 'AMR': 347, 'EAS': 504, 'EUR': 503, 'SAS': 489, 'sportsman': 102})"
      ]
     },
     "execution_count": 9,
     "metadata": {},
     "output_type": "execute_result"
    }
   ],
   "source": [
    "mt.aggregate_cols(hl.agg.counter(mt.pheno.super_pop))"
   ]
  },
  {
   "cell_type": "code",
   "execution_count": 10,
   "id": "333bb9bf-1783-49ec-a789-60f53aae49fd",
   "metadata": {},
   "outputs": [
    {
     "name": "stdout",
     "output_type": "stream",
     "text": [
      "----------------------------------------\n",
      "Global fields:\n",
      "    None\n",
      "----------------------------------------\n",
      "Column fields:\n",
      "    's': str\n",
      "    'pheno': struct {\n",
      "        pop: str, \n",
      "        super_pop: str, \n",
      "        gender: str, \n",
      "        group: str\n",
      "    }\n",
      "----------------------------------------\n",
      "Row fields:\n",
      "    'locus': locus<GRCh38>\n",
      "    'alleles': array<str>\n",
      "    'rsid': str\n",
      "    'qual': float64\n",
      "    'filters': set<str>\n",
      "    'info': struct {\n",
      "        AF: array<float64>, \n",
      "        AC: array<int32>, \n",
      "        NS: int32, \n",
      "        AN: int32, \n",
      "        EAS_AF: array<float64>, \n",
      "        EUR_AF: array<float64>, \n",
      "        AFR_AF: array<float64>, \n",
      "        AMR_AF: array<float64>, \n",
      "        SAS_AF: array<float64>, \n",
      "        VT: array<str>, \n",
      "        EX_TARGET: bool, \n",
      "        DP: int32, \n",
      "        BaseQRankSum: float64, \n",
      "        END: int32, \n",
      "        ExcessHet: float64, \n",
      "        FS: float64, \n",
      "        InbreedingCoeff: float64, \n",
      "        MLEAC: array<int32>, \n",
      "        MLEAF: array<float64>, \n",
      "        MQ: float64, \n",
      "        MQRankSum: float64, \n",
      "        QD: float64, \n",
      "        RAW_MQandDP: array<int32>, \n",
      "        ReadPosRankSum: float64, \n",
      "        SOR: float64\n",
      "    }\n",
      "----------------------------------------\n",
      "Entry fields:\n",
      "    'GT': call\n",
      "    'AD': array<int32>\n",
      "    'DP': int32\n",
      "    'GQ': int32\n",
      "    'MIN_DP': int32\n",
      "    'PGT': call\n",
      "    'PID': str\n",
      "    'PL': array<int32>\n",
      "    'PS': int32\n",
      "    'RGQ': int32\n",
      "    'SB': array<int32>\n",
      "----------------------------------------\n",
      "Column key: ['s']\n",
      "Row key: ['locus', 'alleles']\n",
      "----------------------------------------\n"
     ]
    }
   ],
   "source": [
    "mt.describe()"
   ]
  },
  {
   "cell_type": "code",
   "execution_count": 11,
   "id": "135fddd7-844d-4d08-9de4-313b20e07b76",
   "metadata": {},
   "outputs": [
    {
     "name": "stderr",
     "output_type": "stream",
     "text": [
      "2022-02-11 16:30:44 Hail: INFO: hwe_normalize: found 76496 variants after filtering out monomorphic sites.\n",
      "2022-02-11 16:30:48 Hail: INFO: pca: running PCA with 10 components...12) / 327]\n",
      "[Stage 273:============================================>       (278 + 12) / 327]\r"
     ]
    }
   ],
   "source": [
    "# execute pca on matrix table\n",
    "eigenvalues, pcs, _ = hl.hwe_normalized_pca(mt.GT)"
   ]
  },
  {
   "cell_type": "code",
   "execution_count": 12,
   "id": "8544db1c-9c8d-48ff-a939-4d1c06f3d230",
   "metadata": {},
   "outputs": [
    {
     "name": "stdout",
     "output_type": "stream",
     "text": [
      "[46.95772179217532, 15.030188722578329, 5.991234608757417, 4.372042668284087, 4.013099499014391, 3.049046793432457, 2.5527460228672254, 2.4880358515832883, 2.4762415375941162, 2.4449301358272435]\n"
     ]
    },
    {
     "data": {
      "text/html": [
       "<table><thead><tr><td style=\"white-space: nowrap; max-width: 500px; overflow: hidden; text-overflow: ellipsis; \" colspan=\"1\"><div style=\"text-align: left;\"></div></td><td style=\"white-space: nowrap; max-width: 500px; overflow: hidden; text-overflow: ellipsis; \" colspan=\"1\"><div style=\"text-align: left;\"></div></td></tr><tr><td style=\"white-space: nowrap; max-width: 500px; overflow: hidden; text-overflow: ellipsis; \" colspan=\"1\"><div style=\"text-align: left;border-bottom: solid 2px #000; padding-bottom: 5px\">s</div></td><td style=\"white-space: nowrap; max-width: 500px; overflow: hidden; text-overflow: ellipsis; \" colspan=\"1\"><div style=\"text-align: left;border-bottom: solid 2px #000; padding-bottom: 5px\">scores</div></td></tr><tr><td style=\"white-space: nowrap; max-width: 500px; overflow: hidden; text-overflow: ellipsis; text-align: left;\">str</td><td style=\"white-space: nowrap; max-width: 500px; overflow: hidden; text-overflow: ellipsis; text-align: left;\">array&lt;float64&gt;</td></tr>\n",
       "</thead><tbody><tr><td style=\"white-space: nowrap; max-width: 500px; overflow: hidden; text-overflow: ellipsis; \">&quot;B102&quot;</td><td style=\"white-space: nowrap; max-width: 500px; overflow: hidden; text-overflow: ellipsis; \">[7,88e-02,8,84e-02,-3,56e-02,-3,93e-02,-1,90e-03,4,79e-05,3,59e-05,5,45e-04,-1,02e-03,-8,07e-04]</td></tr>\n",
       "<tr><td style=\"white-space: nowrap; max-width: 500px; overflow: hidden; text-overflow: ellipsis; \">&quot;B156&quot;</td><td style=\"white-space: nowrap; max-width: 500px; overflow: hidden; text-overflow: ellipsis; \">[7,40e-02,8,76e-02,-3,60e-02,-3,89e-02,-3,86e-03,3,55e-04,8,07e-04,5,61e-04,-1,99e-03,3,61e-04]</td></tr>\n",
       "<tr><td style=\"white-space: nowrap; max-width: 500px; overflow: hidden; text-overflow: ellipsis; \">&quot;B24&quot;</td><td style=\"white-space: nowrap; max-width: 500px; overflow: hidden; text-overflow: ellipsis; \">[7,41e-02,1,01e-01,-3,74e-02,-2,87e-02,-1,20e-03,1,14e-03,7,56e-04,7,88e-04,-1,24e-03,-1,42e-03]</td></tr>\n",
       "<tr><td style=\"white-space: nowrap; max-width: 500px; overflow: hidden; text-overflow: ellipsis; \">&quot;B338&quot;</td><td style=\"white-space: nowrap; max-width: 500px; overflow: hidden; text-overflow: ellipsis; \">[7,60e-02,8,89e-02,-3,08e-02,-4,57e-02,-3,30e-03,-1,09e-03,-2,73e-05,1,08e-03,-4,26e-03,8,13e-05]</td></tr>\n",
       "<tr><td style=\"white-space: nowrap; max-width: 500px; overflow: hidden; text-overflow: ellipsis; \">&quot;B382&quot;</td><td style=\"white-space: nowrap; max-width: 500px; overflow: hidden; text-overflow: ellipsis; \">[7,79e-02,9,22e-02,-3,27e-02,-3,71e-02,-3,74e-03,5,13e-04,-6,88e-04,2,89e-03,-1,25e-03,-8,99e-04]</td></tr>\n",
       "</tbody></table><p style=\"background: #fdd; padding: 0.4em;\">showing top 5 rows</p>\n"
      ],
      "text/plain": [
       "+--------+\n",
       "| s      |\n",
       "+--------+\n",
       "| str    |\n",
       "+--------+\n",
       "| \"B102\" |\n",
       "| \"B156\" |\n",
       "| \"B24\"  |\n",
       "| \"B338\" |\n",
       "| \"B382\" |\n",
       "+--------+\n",
       "\n",
       "+--------------------------------------------------------------------------------------------------+\n",
       "| scores                                                                                           |\n",
       "+--------------------------------------------------------------------------------------------------+\n",
       "| array<float64>                                                                                   |\n",
       "+--------------------------------------------------------------------------------------------------+\n",
       "| [7,88e-02,8,84e-02,-3,56e-02,-3,93e-02,-1,90e-03,4,79e-05,3,59e-05,5,45e-04,-1,02e-03,-8,07e-04] |\n",
       "| [7,40e-02,8,76e-02,-3,60e-02,-3,89e-02,-3,86e-03,3,55e-04,8,07e-04,5,61e-04,-1,99e-03,3,61e-04]  |\n",
       "| [7,41e-02,1,01e-01,-3,74e-02,-2,87e-02,-1,20e-03,1,14e-03,7,56e-04,7,88e-04,-1,24e-03,-1,42e-03] |\n",
       "| [7,60e-02,8,89e-02,-3,08e-02,-4,57e-02,-3,30e-03,-1,09e-03,-2,73e-05,1,08e-03,-4,26e-03,8,13e... |\n",
       "| [7,79e-02,9,22e-02,-3,27e-02,-3,71e-02,-3,74e-03,5,13e-04,-6,88e-04,2,89e-03,-1,25e-03,-8,99e... |\n",
       "+--------------------------------------------------------------------------------------------------+\n",
       "showing top 5 rows"
      ]
     },
     "metadata": {},
     "output_type": "display_data"
    }
   ],
   "source": [
    "print(eigenvalues)\n",
    "pcs.show(5, width=100)\n",
    "mt = mt.annotate_cols(scores = pcs[mt.s].scores)"
   ]
  },
  {
   "cell_type": "code",
   "execution_count": 13,
   "id": "3cf00067-cb32-4cb7-9416-3cba5e3b5347",
   "metadata": {},
   "outputs": [],
   "source": [
    "import pandas as pd\n",
    "import matplotlib.pyplot as plt\n",
    "import seaborn as sns\n",
    "from bokeh.models import CategoricalColorMapper\n",
    "mapper = CategoricalColorMapper(palette=[\"red\", \"yellow\", \"green\", \"blue\", \"purple\", \"orange\"], factors=[\"AFR\", \"AMR\", \"EAS\", \"EUR\", \"SAS\", \"sportsman\"])\n",
    "palette = dict(sportsman=\"orange\", AFR=\"red\", AMR=\"yellow\", EAS=\"green\", EUR=\"blue\", SAS=\"purple\")\n",
    "sns.set_style('darkgrid')"
   ]
  },
  {
   "cell_type": "code",
   "execution_count": 14,
   "id": "6170715e-7e95-4bdd-96db-196fbe971e62",
   "metadata": {},
   "outputs": [
    {
     "data": {
      "text/html": [
       "\n",
       "\n",
       "\n",
       "\n",
       "\n",
       "\n",
       "  <div class=\"bk-root\" id=\"ec74bcf7-f52c-434e-a162-c33b27624268\" data-root-id=\"1003\"></div>\n"
      ]
     },
     "metadata": {},
     "output_type": "display_data"
    },
    {
     "data": {
      "application/javascript": [
       "(function(root) {\n",
       "  function embed_document(root) {\n",
       "    \n",
       "  var docs_json = {\"041be422-65c8-4712-a11e-4139fe1bec40\":{\"roots\":{\"references\":[{\"attributes\":{\"below\":[{\"id\":\"1014\",\"type\":\"LinearAxis\"}],\"center\":[{\"id\":\"1018\",\"type\":\"Grid\"},{\"id\":\"1023\",\"type\":\"Grid\"}],\"left\":[{\"id\":\"1019\",\"type\":\"LinearAxis\"},{\"id\":\"1082\",\"type\":\"Legend\"},{\"id\":\"1083\",\"type\":\"ColorBar\"}],\"plot_height\":800,\"plot_width\":800,\"renderers\":[{\"id\":\"1045\",\"type\":\"GlyphRenderer\"},{\"id\":\"1051\",\"type\":\"GlyphRenderer\"},{\"id\":\"1057\",\"type\":\"GlyphRenderer\"},{\"id\":\"1063\",\"type\":\"GlyphRenderer\"},{\"id\":\"1069\",\"type\":\"GlyphRenderer\"},{\"id\":\"1075\",\"type\":\"GlyphRenderer\"}],\"title\":{\"id\":\"1004\",\"type\":\"Title\"},\"toolbar\":{\"id\":\"1030\",\"type\":\"Toolbar\"},\"x_range\":{\"id\":\"1006\",\"type\":\"DataRange1d\"},\"x_scale\":{\"id\":\"1010\",\"type\":\"LinearScale\"},\"y_range\":{\"id\":\"1008\",\"type\":\"DataRange1d\"},\"y_scale\":{\"id\":\"1012\",\"type\":\"LinearScale\"}},\"id\":\"1003\",\"subtype\":\"Figure\",\"type\":\"Plot\"},{\"attributes\":{\"active_drag\":\"auto\",\"active_inspect\":\"auto\",\"active_multi\":null,\"active_scroll\":\"auto\",\"active_tap\":\"auto\",\"tools\":[{\"id\":\"1024\",\"type\":\"PanTool\"},{\"id\":\"1025\",\"type\":\"WheelZoomTool\"},{\"id\":\"1026\",\"type\":\"BoxZoomTool\"},{\"id\":\"1027\",\"type\":\"SaveTool\"},{\"id\":\"1028\",\"type\":\"ResetTool\"},{\"id\":\"1029\",\"type\":\"HelpTool\"},{\"id\":\"1038\",\"type\":\"HoverTool\"}]},\"id\":\"1030\",\"type\":\"Toolbar\"},{\"attributes\":{\"label\":{\"value\":\"AFR\"},\"renderers\":[{\"id\":\"1045\",\"type\":\"GlyphRenderer\"}]},\"id\":\"1076\",\"type\":\"LegendItem\"},{\"attributes\":{\"data_source\":{\"id\":\"1039\",\"type\":\"ColumnDataSource\"},\"glyph\":{\"id\":\"1067\",\"type\":\"Circle\"},\"hover_glyph\":null,\"muted_glyph\":null,\"nonselection_glyph\":{\"id\":\"1068\",\"type\":\"Circle\"},\"selection_glyph\":null,\"view\":{\"id\":\"1065\",\"type\":\"CDSView\"}},\"id\":\"1069\",\"type\":\"GlyphRenderer\"},{\"attributes\":{\"data_source\":{\"id\":\"1039\",\"type\":\"ColumnDataSource\"},\"glyph\":{\"id\":\"1049\",\"type\":\"Circle\"},\"hover_glyph\":null,\"muted_glyph\":null,\"nonselection_glyph\":{\"id\":\"1050\",\"type\":\"Circle\"},\"selection_glyph\":null,\"view\":{\"id\":\"1047\",\"type\":\"CDSView\"}},\"id\":\"1051\",\"type\":\"GlyphRenderer\"},{\"attributes\":{\"label\":{\"value\":\"sportsman\"},\"renderers\":[{\"id\":\"1075\",\"type\":\"GlyphRenderer\"}]},\"id\":\"1081\",\"type\":\"LegendItem\"},{\"attributes\":{},\"id\":\"1027\",\"type\":\"SaveTool\"},{\"attributes\":{\"column_name\":\"label\",\"group\":\"EUR\"},\"id\":\"1058\",\"type\":\"GroupFilter\"},{\"attributes\":{\"callback\":null,\"tooltips\":[[\"x\",\"@x\"],[\"y\",\"@y\"],[\"label\",\"@label\"]]},\"id\":\"1038\",\"type\":\"HoverTool\"},{\"attributes\":{\"fill_alpha\":{\"value\":0.1},\"fill_color\":{\"value\":\"#1f77b4\"},\"line_alpha\":{\"value\":0.1},\"line_color\":{\"value\":\"#1f77b4\"},\"x\":{\"field\":\"x\"},\"y\":{\"field\":\"y\"}},\"id\":\"1074\",\"type\":\"Circle\"},{\"attributes\":{},\"id\":\"1091\",\"type\":\"UnionRenderers\"},{\"attributes\":{\"ticker\":{\"id\":\"1015\",\"type\":\"BasicTicker\"}},\"id\":\"1018\",\"type\":\"Grid\"},{\"attributes\":{\"data_source\":{\"id\":\"1039\",\"type\":\"ColumnDataSource\"},\"glyph\":{\"id\":\"1073\",\"type\":\"Circle\"},\"hover_glyph\":null,\"muted_glyph\":null,\"nonselection_glyph\":{\"id\":\"1074\",\"type\":\"Circle\"},\"selection_glyph\":null,\"view\":{\"id\":\"1071\",\"type\":\"CDSView\"}},\"id\":\"1075\",\"type\":\"GlyphRenderer\"},{\"attributes\":{\"fill_color\":{\"field\":\"label\",\"transform\":{\"id\":\"1002\",\"type\":\"CategoricalColorMapper\"}},\"line_color\":{\"field\":\"label\",\"transform\":{\"id\":\"1002\",\"type\":\"CategoricalColorMapper\"}},\"x\":{\"field\":\"x\"},\"y\":{\"field\":\"y\"}},\"id\":\"1067\",\"type\":\"Circle\"},{\"attributes\":{},\"id\":\"1029\",\"type\":\"HelpTool\"},{\"attributes\":{\"data_source\":{\"id\":\"1039\",\"type\":\"ColumnDataSource\"},\"glyph\":{\"id\":\"1061\",\"type\":\"Circle\"},\"hover_glyph\":null,\"muted_glyph\":null,\"nonselection_glyph\":{\"id\":\"1062\",\"type\":\"Circle\"},\"selection_glyph\":null,\"view\":{\"id\":\"1059\",\"type\":\"CDSView\"}},\"id\":\"1063\",\"type\":\"GlyphRenderer\"},{\"attributes\":{},\"id\":\"1086\",\"type\":\"BasicTickFormatter\"},{\"attributes\":{\"callback\":null,\"data\":{\"index\":[0,1,2,3,4,5,6,7,8,9,10,11,12,13,14,15,16,17,18,19,20,21,22,23,24,25,26,27,28,29,30,31,32,33,34,35,36,37,38,39,40,41,42,43,44,45,46,47,48,49,50,51,52,53,54,55,56,57,58,59,60,61,62,63,64,65,66,67,68,69,70,71,72,73,74,75,76,77,78,79,80,81,82,83,84,85,86,87,88,89,90,91,92,93,94,95,96,97,98,99,100,101,102,103,104,105,106,107,108,109,110,111,112,113,114,115,116,117,118,119,120,121,122,123,124,125,126,127,128,129,130,131,132,133,134,135,136,137,138,139,140,141,142,143,144,145,146,147,148,149,150,151,152,153,154,155,156,157,158,159,160,161,162,163,164,165,166,167,168,169,170,171,172,173,174,175,176,177,178,179,180,181,182,183,184,185,186,187,188,189,190,191,192,193,194,195,196,197,198,199,200,201,202,203,204,205,206,207,208,209,210,211,212,213,214,215,216,217,218,219,220,221,222,223,224,225,226,227,228,229,230,231,232,233,234,235,236,237,238,239,240,241,242,243,244,245,246,247,248,249,250,251,252,253,254,255,256,257,258,259,260,261,262,263,264,265,266,267,268,269,270,271,272,273,274,275,276,277,278,279,280,281,282,283,284,285,286,287,288,289,290,291,292,293,294,295,296,297,298,299,300,301,302,303,304,305,306,307,308,309,310,311,312,313,314,315,316,317,318,319,320,321,322,323,324,325,326,327,328,329,330,331,332,333,334,335,336,337,338,339,340,341,342,343,344,345,346,347,348,349,350,351,352,353,354,355,356,357,358,359,360,361,362,363,364,365,366,367,368,369,370,371,372,373,374,375,376,377,378,379,380,381,382,383,384,385,386,387,388,389,390,391,392,393,394,395,396,397,398,399,400,401,402,403,404,405,406,407,408,409,410,411,412,413,414,415,416,417,418,419,420,421,422,423,424,425,426,427,428,429,430,431,432,433,434,435,436,437,438,439,440,441,442,443,444,445,446,447,448,449,450,451,452,453,454,455,456,457,458,459,460,461,462,463,464,465,466,467,468,469,470,471,472,473,474,475,476,477,478,479,480,481,482,483,484,485,486,487,488,489,490,491,492,493,494,495,496,497,498,499,500,501,502,503,504,505,506,507,508,509,510,511,512,513,514,515,516,517,518,519,520,521,522,523,524,525,526,527,528,529,530,531,532,533,534,535,536,537,538,539,540,541,542,543,544,545,546,547,548,549,550,551,552,553,554,555,556,557,558,559,560,561,562,563,564,565,566,567,568,569,570,571,572,573,574,575,576,577,578,579,580,581,582,583,584,585,586,587,588,589,590,591,592,593,594,595,596,597,598,599,600,601,602,603,604,605,606,607,608,609,610,611,612,613,614,615,616,617,618,619,620,621,622,623,624,625,626,627,628,629,630,631,632,633,634,635,636,637,638,639,640,641,642,643,644,645,646,647,648,649,650,651,652,653,654,655,656,657,658,659,660,661,662,663,664,665,666,667,668,669,670,671,672,673,674,675,676,677,678,679,680,681,682,683,684,685,686,687,688,689,690,691,692,693,694,695,696,697,698,699,700,701,702,703,704,705,706,707,708,709,710,711,712,713,714,715,716,717,718,719,720,721,722,723,724,725,726,727,728,729,730,731,732,733,734,735,736,737,738,739,740,741,742,743,744,745,746,747,748,749,750,751,752,753,754,755,756,757,758,759,760,761,762,763,764,765,766,767,768,769,770,771,772,773,774,775,776,777,778,779,780,781,782,783,784,785,786,787,788,789,790,791,792,793,794,795,796,797,798,799,800,801,802,803,804,805,806,807,808,809,810,811,812,813,814,815,816,817,818,819,820,821,822,823,824,825,826,827,828,829,830,831,832,833,834,835,836,837,838,839,840,841,842,843,844,845,846,847,848,849,850,851,852,853,854,855,856,857,858,859,860,861,862,863,864,865,866,867,868,869,870,871,872,873,874,875,876,877,878,879,880,881,882,883,884,885,886,887,888,889,890,891,892,893,894,895,896,897,898,899,900,901,902,903,904,905,906,907,908,909,910,911,912,913,914,915,916,917,918,919,920,921,922,923,924,925,926,927,928,929,930,931,932,933,934,935,936,937,938,939,940,941,942,943,944,945,946,947,948,949,950,951,952,953,954,955,956,957,958,959,960,961,962,963,964,965,966,967,968,969,970,971,972,973,974,975,976,977,978,979,980,981,982,983,984,985,986,987,988,989,990,991,992,993,994,995,996,997,998,999,1000,1001,1002,1003,1004,1005,1006,1007,1008,1009,1010,1011,1012,1013,1014,1015,1016,1017,1018,1019,1020,1021,1022,1023,1024,1025,1026,1027,1028,1029,1030,1031,1032,1033,1034,1035,1036,1037,1038,1039,1040,1041,1042,1043,1044,1045,1046,1047,1048,1049,1050,1051,1052,1053,1054,1055,1056,1057,1058,1059,1060,1061,1062,1063,1064,1065,1066,1067,1068,1069,1070,1071,1072,1073,1074,1075,1076,1077,1078,1079,1080,1081,1082,1083,1084,1085,1086,1087,1088,1089,1090,1091,1092,1093,1094,1095,1096,1097,1098,1099,1100,1101,1102,1103,1104,1105,1106,1107,1108,1109,1110,1111,1112,1113,1114,1115,1116,1117,1118,1119,1120,1121,1122,1123,1124,1125,1126,1127,1128,1129,1130,1131,1132,1133,1134,1135,1136,1137,1138,1139,1140,1141,1142,1143,1144,1145,1146,1147,1148,1149,1150,1151,1152,1153,1154,1155,1156,1157,1158,1159,1160,1161,1162,1163,1164,1165,1166,1167,1168,1169,1170,1171,1172,1173,1174,1175,1176,1177,1178,1179,1180,1181,1182,1183,1184,1185,1186,1187,1188,1189,1190,1191,1192,1193,1194,1195,1196,1197,1198,1199,1200,1201,1202,1203,1204,1205,1206,1207,1208,1209,1210,1211,1212,1213,1214,1215,1216,1217,1218,1219,1220,1221,1222,1223,1224,1225,1226,1227,1228,1229,1230,1231,1232,1233,1234,1235,1236,1237,1238,1239,1240,1241,1242,1243,1244,1245,1246,1247,1248,1249,1250,1251,1252,1253,1254,1255,1256,1257,1258,1259,1260,1261,1262,1263,1264,1265,1266,1267,1268,1269,1270,1271,1272,1273,1274,1275,1276,1277,1278,1279,1280,1281,1282,1283,1284,1285,1286,1287,1288,1289,1290,1291,1292,1293,1294,1295,1296,1297,1298,1299,1300,1301,1302,1303,1304,1305,1306,1307,1308,1309,1310,1311,1312,1313,1314,1315,1316,1317,1318,1319,1320,1321,1322,1323,1324,1325,1326,1327,1328,1329,1330,1331,1332,1333,1334,1335,1336,1337,1338,1339,1340,1341,1342,1343,1344,1345,1346,1347,1348,1349,1350,1351,1352,1353,1354,1355,1356,1357,1358,1359,1360,1361,1362,1363,1364,1365,1366,1367,1368,1369,1370,1371,1372,1373,1374,1375,1376,1377,1378,1379,1380,1381,1382,1383,1384,1385,1386,1387,1388,1389,1390,1391,1392,1393,1394,1395,1396,1397,1398,1399,1400,1401,1402,1403,1404,1405,1406,1407,1408,1409,1410,1411,1412,1413,1414,1415,1416,1417,1418,1419,1420,1421,1422,1423,1424,1425,1426,1427,1428,1429,1430,1431,1432,1433,1434,1435,1436,1437,1438,1439,1440,1441,1442,1443,1444,1445,1446,1447,1448,1449,1450,1451,1452,1453,1454,1455,1456,1457,1458,1459,1460,1461,1462,1463,1464,1465,1466,1467,1468,1469,1470,1471,1472,1473,1474,1475,1476,1477,1478,1479,1480,1481,1482,1483,1484,1485,1486,1487,1488,1489,1490,1491,1492,1493,1494,1495,1496,1497,1498,1499,1500,1501,1502,1503,1504,1505,1506,1507,1508,1509,1510,1511,1512,1513,1514,1515,1516,1517,1518,1519,1520,1521,1522,1523,1524,1525,1526,1527,1528,1529,1530,1531,1532,1533,1534,1535,1536,1537,1538,1539,1540,1541,1542,1543,1544,1545,1546,1547,1548,1549,1550,1551,1552,1553,1554,1555,1556,1557,1558,1559,1560,1561,1562,1563,1564,1565,1566,1567,1568,1569,1570,1571,1572,1573,1574,1575,1576,1577,1578,1579,1580,1581,1582,1583,1584,1585,1586,1587,1588,1589,1590,1591,1592,1593,1594,1595,1596,1597,1598,1599,1600,1601,1602,1603,1604,1605,1606,1607,1608,1609,1610,1611,1612,1613,1614,1615,1616,1617,1618,1619,1620,1621,1622,1623,1624,1625,1626,1627,1628,1629,1630,1631,1632,1633,1634,1635,1636,1637,1638,1639,1640,1641,1642,1643,1644,1645,1646,1647,1648,1649,1650,1651,1652,1653,1654,1655,1656,1657,1658,1659,1660,1661,1662,1663,1664,1665,1666,1667,1668,1669,1670,1671,1672,1673,1674,1675,1676,1677,1678,1679,1680,1681,1682,1683,1684,1685,1686,1687,1688,1689,1690,1691,1692,1693,1694,1695,1696,1697,1698,1699,1700,1701,1702,1703,1704,1705,1706,1707,1708,1709,1710,1711,1712,1713,1714,1715,1716,1717,1718,1719,1720,1721,1722,1723,1724,1725,1726,1727,1728,1729,1730,1731,1732,1733,1734,1735,1736,1737,1738,1739,1740,1741,1742,1743,1744,1745,1746,1747,1748,1749,1750,1751,1752,1753,1754,1755,1756,1757,1758,1759,1760,1761,1762,1763,1764,1765,1766,1767,1768,1769,1770,1771,1772,1773,1774,1775,1776,1777,1778,1779,1780,1781,1782,1783,1784,1785,1786,1787,1788,1789,1790,1791,1792,1793,1794,1795,1796,1797,1798,1799,1800,1801,1802,1803,1804,1805,1806,1807,1808,1809,1810,1811,1812,1813,1814,1815,1816,1817,1818,1819,1820,1821,1822,1823,1824,1825,1826,1827,1828,1829,1830,1831,1832,1833,1834,1835,1836,1837,1838,1839,1840,1841,1842,1843,1844,1845,1846,1847,1848,1849,1850,1851,1852,1853,1854,1855,1856,1857,1858,1859,1860,1861,1862,1863,1864,1865,1866,1867,1868,1869,1870,1871,1872,1873,1874,1875,1876,1877,1878,1879,1880,1881,1882,1883,1884,1885,1886,1887,1888,1889,1890,1891,1892,1893,1894,1895,1896,1897,1898,1899,1900,1901,1902,1903,1904,1905,1906,1907,1908,1909,1910,1911,1912,1913,1914,1915,1916,1917,1918,1919,1920,1921,1922,1923,1924,1925,1926,1927,1928,1929,1930,1931,1932,1933,1934,1935,1936,1937,1938,1939,1940,1941,1942,1943,1944,1945,1946,1947,1948,1949,1950,1951,1952,1953,1954,1955,1956,1957,1958,1959,1960,1961,1962,1963,1964,1965,1966,1967,1968,1969,1970,1971,1972,1973,1974,1975,1976,1977,1978,1979,1980,1981,1982,1983,1984,1985,1986,1987,1988,1989,1990,1991,1992,1993,1994,1995,1996,1997,1998,1999,2000,2001,2002,2003,2004,2005,2006,2007,2008,2009,2010,2011,2012,2013,2014,2015,2016,2017,2018,2019,2020,2021,2022,2023,2024,2025,2026,2027,2028,2029,2030,2031,2032,2033,2034,2035,2036,2037,2038,2039,2040,2041,2042,2043,2044,2045,2046,2047,2048,2049,2050,2051,2052,2053,2054,2055,2056,2057,2058,2059],\"label\":[\"AFR\",\"AFR\",\"AFR\",\"AFR\",\"AFR\",\"AFR\",\"AFR\",\"AFR\",\"AFR\",\"AFR\",\"AFR\",\"AFR\",\"AFR\",\"AFR\",\"AFR\",\"AFR\",\"AFR\",\"AFR\",\"AFR\",\"AFR\",\"AFR\",\"AFR\",\"AFR\",\"AFR\",\"AFR\",\"AFR\",\"AFR\",\"AFR\",\"AFR\",\"AFR\",\"AFR\",\"AFR\",\"AFR\",\"AFR\",\"AFR\",\"AFR\",\"AFR\",\"AFR\",\"AFR\",\"AFR\",\"AFR\",\"AFR\",\"AFR\",\"AFR\",\"AFR\",\"AFR\",\"AFR\",\"AFR\",\"AFR\",\"AFR\",\"AFR\",\"AFR\",\"AFR\",\"AFR\",\"AFR\",\"AFR\",\"AFR\",\"AFR\",\"AFR\",\"AFR\",\"AFR\",\"AFR\",\"AFR\",\"AFR\",\"AFR\",\"AFR\",\"AFR\",\"AFR\",\"AFR\",\"AFR\",\"AFR\",\"AFR\",\"AFR\",\"AFR\",\"AFR\",\"AFR\",\"AFR\",\"AFR\",\"AFR\",\"AFR\",\"AFR\",\"AFR\",\"AFR\",\"AFR\",\"AFR\",\"AFR\",\"AFR\",\"AFR\",\"AFR\",\"AFR\",\"AFR\",\"AFR\",\"AFR\",\"AFR\",\"AFR\",\"AFR\",\"AFR\",\"AFR\",\"AFR\",\"AFR\",\"AFR\",\"AFR\",\"AFR\",\"AFR\",\"AFR\",\"AFR\",\"AFR\",\"AFR\",\"AFR\",\"AFR\",\"AFR\",\"AFR\",\"AFR\",\"AFR\",\"AFR\",\"AFR\",\"AFR\",\"AFR\",\"AFR\",\"AFR\",\"AFR\",\"AFR\",\"AFR\",\"AFR\",\"AFR\",\"AFR\",\"AFR\",\"AFR\",\"AFR\",\"AFR\",\"AFR\",\"AFR\",\"AFR\",\"AFR\",\"AFR\",\"AFR\",\"AFR\",\"AFR\",\"AFR\",\"AFR\",\"AFR\",\"AFR\",\"AFR\",\"AFR\",\"AFR\",\"AFR\",\"AFR\",\"AFR\",\"AFR\",\"AFR\",\"AFR\",\"AFR\",\"AFR\",\"AFR\",\"AFR\",\"AFR\",\"AFR\",\"AFR\",\"AFR\",\"AFR\",\"AFR\",\"AFR\",\"AFR\",\"AFR\",\"AFR\",\"AFR\",\"AFR\",\"AFR\",\"AFR\",\"AFR\",\"AFR\",\"AFR\",\"AFR\",\"AFR\",\"AFR\",\"AFR\",\"AFR\",\"AFR\",\"AFR\",\"AFR\",\"AFR\",\"AFR\",\"AFR\",\"AFR\",\"AFR\",\"AFR\",\"AFR\",\"AFR\",\"AFR\",\"AFR\",\"AFR\",\"AFR\",\"AFR\",\"AFR\",\"AFR\",\"AFR\",\"AFR\",\"AFR\",\"AFR\",\"AFR\",\"AFR\",\"AFR\",\"AFR\",\"AFR\",\"AFR\",\"AFR\",\"AFR\",\"AFR\",\"AFR\",\"AFR\",\"AFR\",\"AFR\",\"AFR\",\"AFR\",\"AFR\",\"AFR\",\"AFR\",\"AFR\",\"AFR\",\"AFR\",\"AFR\",\"AFR\",\"AFR\",\"AFR\",\"AFR\",\"AFR\",\"AFR\",\"AFR\",\"AFR\",\"AFR\",\"AFR\",\"AFR\",\"AFR\",\"AFR\",\"AFR\",\"AFR\",\"AFR\",\"AFR\",\"AFR\",\"AFR\",\"AFR\",\"AFR\",\"AFR\",\"AFR\",\"AFR\",\"AFR\",\"AFR\",\"AFR\",\"AFR\",\"AFR\",\"AFR\",\"AFR\",\"AFR\",\"AFR\",\"AFR\",\"AFR\",\"AFR\",\"AFR\",\"AFR\",\"AFR\",\"AFR\",\"AFR\",\"AFR\",\"AFR\",\"AFR\",\"AFR\",\"AFR\",\"AFR\",\"AFR\",\"AFR\",\"AFR\",\"AFR\",\"AFR\",\"AFR\",\"AFR\",\"AFR\",\"AFR\",\"AFR\",\"AFR\",\"AFR\",\"AFR\",\"AFR\",\"AFR\",\"AFR\",\"AFR\",\"AFR\",\"AFR\",\"AFR\",\"AFR\",\"AFR\",\"AFR\",\"AFR\",\"AFR\",\"AFR\",\"AFR\",\"AFR\",\"AFR\",\"AFR\",\"AFR\",\"AFR\",\"AFR\",\"AFR\",\"AFR\",\"AFR\",\"AFR\",\"AFR\",\"AFR\",\"AFR\",\"AFR\",\"AFR\",\"AFR\",\"AFR\",\"AFR\",\"AFR\",\"AFR\",\"AFR\",\"AFR\",\"AFR\",\"AFR\",\"AFR\",\"AFR\",\"AFR\",\"AFR\",\"AFR\",\"AFR\",\"AFR\",\"AFR\",\"AFR\",\"AFR\",\"AFR\",\"AFR\",\"AFR\",\"AFR\",\"AFR\",\"AFR\",\"AFR\",\"AFR\",\"AFR\",\"AFR\",\"AFR\",\"AFR\",\"AFR\",\"AFR\",\"AFR\",\"AFR\",\"AFR\",\"AFR\",\"AFR\",\"AFR\",\"AFR\",\"AFR\",\"AFR\",\"AFR\",\"AFR\",\"AFR\",\"AFR\",\"AFR\",\"AFR\",\"AFR\",\"AFR\",\"AFR\",\"AFR\",\"AFR\",\"AFR\",\"AFR\",\"AFR\",\"AFR\",\"AFR\",\"AFR\",\"AFR\",\"AFR\",\"AFR\",\"AFR\",\"AFR\",\"AFR\",\"AFR\",\"AFR\",\"AFR\",\"AFR\",\"AFR\",\"AFR\",\"AFR\",\"AFR\",\"AFR\",\"AFR\",\"AFR\",\"AFR\",\"AFR\",\"AFR\",\"AFR\",\"AFR\",\"AFR\",\"AFR\",\"AFR\",\"AFR\",\"AFR\",\"AFR\",\"AFR\",\"AFR\",\"AFR\",\"AFR\",\"AFR\",\"AFR\",\"AFR\",\"AFR\",\"AFR\",\"AFR\",\"AFR\",\"AFR\",\"AFR\",\"AFR\",\"AFR\",\"AFR\",\"AFR\",\"AFR\",\"AFR\",\"AFR\",\"AFR\",\"AFR\",\"AFR\",\"AFR\",\"AFR\",\"AFR\",\"AFR\",\"AFR\",\"AFR\",\"AFR\",\"AFR\",\"AFR\",\"AFR\",\"AFR\",\"AFR\",\"AFR\",\"AFR\",\"AFR\",\"AFR\",\"AFR\",\"AFR\",\"AFR\",\"AFR\",\"AFR\",\"AFR\",\"AFR\",\"AFR\",\"AFR\",\"AFR\",\"AFR\",\"AFR\",\"AFR\",\"AFR\",\"AFR\",\"AFR\",\"AFR\",\"AFR\",\"AFR\",\"AFR\",\"AFR\",\"AFR\",\"AFR\",\"AFR\",\"AFR\",\"AFR\",\"AFR\",\"AFR\",\"AFR\",\"AFR\",\"AFR\",\"AFR\",\"AFR\",\"AFR\",\"AFR\",\"AFR\",\"AFR\",\"AFR\",\"AFR\",\"AFR\",\"AFR\",\"AFR\",\"AFR\",\"AFR\",\"AFR\",\"AFR\",\"AFR\",\"AFR\",\"AFR\",\"AFR\",\"AFR\",\"AFR\",\"AFR\",\"AFR\",\"AFR\",\"AFR\",\"AFR\",\"AFR\",\"AFR\",\"AFR\",\"AFR\",\"AFR\",\"AFR\",\"AFR\",\"AFR\",\"AFR\",\"AFR\",\"AFR\",\"AFR\",\"AFR\",\"AFR\",\"AFR\",\"AFR\",\"AFR\",\"AFR\",\"AFR\",\"AFR\",\"AFR\",\"AFR\",\"AFR\",\"AFR\",\"AFR\",\"AFR\",\"AFR\",\"AFR\",\"AFR\",\"AFR\",\"AFR\",\"AFR\",\"AFR\",\"AFR\",\"AFR\",\"AFR\",\"AMR\",\"AFR\",\"AFR\",\"AFR\",\"AFR\",\"AFR\",\"AFR\",\"AFR\",\"AMR\",\"AFR\",\"AFR\",\"AFR\",\"AFR\",\"AMR\",\"AFR\",\"AFR\",\"AFR\",\"AFR\",\"AFR\",\"AFR\",\"AFR\",\"AFR\",\"AMR\",\"AMR\",\"AMR\",\"AMR\",\"AMR\",\"AFR\",\"AFR\",\"AFR\",\"AMR\",\"AMR\",\"AMR\",\"AMR\",\"AMR\",\"AMR\",\"AMR\",\"AMR\",\"AMR\",\"AMR\",\"AMR\",\"AMR\",\"AMR\",\"AMR\",\"AMR\",\"AMR\",\"AMR\",\"sportsman\",\"AMR\",\"AMR\",\"AMR\",\"AMR\",\"AMR\",\"AMR\",\"AMR\",\"AMR\",\"AMR\",\"AMR\",\"AMR\",\"AMR\",\"AMR\",\"AMR\",\"AMR\",\"AMR\",\"AMR\",\"AMR\",\"AMR\",\"AMR\",\"AMR\",\"AMR\",\"AMR\",\"AMR\",\"sportsman\",\"AMR\",\"AMR\",\"AMR\",\"AMR\",\"AMR\",\"AMR\",\"AMR\",\"AMR\",\"AMR\",\"AMR\",\"AMR\",\"AMR\",\"AMR\",\"AMR\",\"AMR\",\"AMR\",\"AMR\",\"AMR\",\"AMR\",\"AMR\",\"AMR\",\"AMR\",\"AMR\",\"AMR\",\"AMR\",\"AMR\",\"AMR\",\"AMR\",\"AMR\",\"AMR\",\"AMR\",\"AMR\",\"AMR\",\"AMR\",\"AMR\",\"AMR\",\"AMR\",\"AMR\",\"AMR\",\"AMR\",\"AMR\",\"AMR\",\"AMR\",\"AMR\",\"AMR\",\"AMR\",\"AMR\",\"AMR\",\"AMR\",\"AMR\",\"AMR\",\"AMR\",\"AMR\",\"AMR\",\"AMR\",\"AMR\",\"AMR\",\"AMR\",\"AMR\",\"AMR\",\"AMR\",\"AMR\",\"AMR\",\"AMR\",\"AMR\",\"AMR\",\"AMR\",\"EUR\",\"AMR\",\"AMR\",\"AMR\",\"AMR\",\"AMR\",\"AMR\",\"AMR\",\"AMR\",\"AMR\",\"AMR\",\"AMR\",\"AMR\",\"AMR\",\"AMR\",\"AMR\",\"AMR\",\"AMR\",\"AMR\",\"AMR\",\"AMR\",\"AMR\",\"AMR\",\"AMR\",\"AMR\",\"AMR\",\"AMR\",\"AMR\",\"AMR\",\"AMR\",\"AMR\",\"AMR\",\"AMR\",\"EUR\",\"AMR\",\"AMR\",\"AMR\",\"AMR\",\"AMR\",\"AMR\",\"AMR\",\"AMR\",\"AMR\",\"AMR\",\"AMR\",\"EUR\",\"AMR\",\"AMR\",\"AMR\",\"AMR\",\"AMR\",\"AMR\",\"AMR\",\"AMR\",\"AMR\",\"AMR\",\"AMR\",\"AMR\",\"AMR\",\"AMR\",\"AMR\",\"AMR\",\"EUR\",\"EUR\",\"AMR\",\"AMR\",\"AMR\",\"AMR\",\"AMR\",\"EUR\",\"AMR\",\"AMR\",\"AMR\",\"EUR\",\"EUR\",\"AMR\",\"AMR\",\"AMR\",\"EUR\",\"EUR\",\"AMR\",\"AMR\",\"AMR\",\"AMR\",\"AMR\",\"EUR\",\"EUR\",\"EUR\",\"AMR\",\"AMR\",\"AMR\",\"AMR\",\"AMR\",\"AMR\",\"EUR\",\"EUR\",\"EUR\",\"EUR\",\"EUR\",\"AMR\",\"AMR\",\"SAS\",\"EUR\",\"EUR\",\"EUR\",\"SAS\",\"AMR\",\"AMR\",\"EUR\",\"EUR\",\"EUR\",\"EUR\",\"EUR\",\"AMR\",\"SAS\",\"AMR\",\"AMR\",\"AMR\",\"EUR\",\"EUR\",\"EUR\",\"EUR\",\"EUR\",\"AMR\",\"AMR\",\"AMR\",\"AMR\",\"AMR\",\"AMR\",\"SAS\",\"SAS\",\"SAS\",\"AMR\",\"SAS\",\"AMR\",\"AMR\",\"AMR\",\"AMR\",\"AMR\",\"EUR\",\"EUR\",\"EUR\",\"EUR\",\"EUR\",\"EUR\",\"EUR\",\"EUR\",\"AMR\",\"AMR\",\"SAS\",\"AMR\",\"SAS\",\"SAS\",\"SAS\",\"SAS\",\"SAS\",\"SAS\",\"AMR\",\"AMR\",\"AMR\",\"AMR\",\"SAS\",\"SAS\",\"AMR\",\"AMR\",\"AMR\",\"EUR\",\"EUR\",\"EUR\",\"EUR\",\"EUR\",\"EUR\",\"EUR\",\"EUR\",\"EUR\",\"EUR\",\"AMR\",\"SAS\",\"SAS\",\"SAS\",\"SAS\",\"SAS\",\"SAS\",\"SAS\",\"SAS\",\"SAS\",\"SAS\",\"SAS\",\"SAS\",\"SAS\",\"SAS\",\"SAS\",\"SAS\",\"SAS\",\"SAS\",\"AMR\",\"AMR\",\"EUR\",\"EUR\",\"EUR\",\"EUR\",\"sportsman\",\"EUR\",\"EUR\",\"sportsman\",\"EUR\",\"EUR\",\"EUR\",\"EUR\",\"SAS\",\"SAS\",\"SAS\",\"SAS\",\"SAS\",\"SAS\",\"SAS\",\"SAS\",\"SAS\",\"SAS\",\"SAS\",\"SAS\",\"SAS\",\"AMR\",\"SAS\",\"SAS\",\"AMR\",\"EUR\",\"EUR\",\"EUR\",\"EUR\",\"EUR\",\"EUR\",\"EUR\",\"EUR\",\"EUR\",\"sportsman\",\"EUR\",\"EUR\",\"EUR\",\"EUR\",\"SAS\",\"SAS\",\"SAS\",\"SAS\",\"SAS\",\"SAS\",\"SAS\",\"SAS\",\"SAS\",\"SAS\",\"SAS\",\"SAS\",\"SAS\",\"SAS\",\"SAS\",\"SAS\",\"SAS\",\"SAS\",\"AMR\",\"SAS\",\"SAS\",\"AMR\",\"AMR\",\"AMR\",\"AMR\",\"EUR\",\"EUR\",\"EUR\",\"EUR\",\"EUR\",\"EUR\",\"EUR\",\"EUR\",\"EUR\",\"EUR\",\"EUR\",\"EUR\",\"EUR\",\"EUR\",\"EUR\",\"EUR\",\"EUR\",\"AMR\",\"SAS\",\"SAS\",\"SAS\",\"SAS\",\"SAS\",\"SAS\",\"SAS\",\"SAS\",\"SAS\",\"SAS\",\"SAS\",\"SAS\",\"SAS\",\"SAS\",\"SAS\",\"SAS\",\"SAS\",\"SAS\",\"SAS\",\"SAS\",\"AMR\",\"SAS\",\"SAS\",\"SAS\",\"AMR\",\"AMR\",\"EUR\",\"EUR\",\"EUR\",\"EUR\",\"sportsman\",\"EUR\",\"EUR\",\"EUR\",\"EUR\",\"sportsman\",\"EUR\",\"EUR\",\"EUR\",\"EUR\",\"EUR\",\"EUR\",\"AMR\",\"AMR\",\"SAS\",\"SAS\",\"SAS\",\"SAS\",\"SAS\",\"SAS\",\"SAS\",\"SAS\",\"SAS\",\"SAS\",\"SAS\",\"SAS\",\"SAS\",\"SAS\",\"SAS\",\"SAS\",\"SAS\",\"SAS\",\"SAS\",\"SAS\",\"SAS\",\"SAS\",\"AMR\",\"sportsman\",\"EUR\",\"EUR\",\"sportsman\",\"EUR\",\"sportsman\",\"sportsman\",\"EUR\",\"EUR\",\"sportsman\",\"sportsman\",\"EUR\",\"sportsman\",\"EUR\",\"EUR\",\"EUR\",\"EUR\",\"sportsman\",\"EUR\",\"sportsman\",\"EUR\",\"sportsman\",\"SAS\",\"SAS\",\"SAS\",\"SAS\",\"SAS\",\"SAS\",\"SAS\",\"SAS\",\"SAS\",\"SAS\",\"SAS\",\"SAS\",\"SAS\",\"SAS\",\"SAS\",\"SAS\",\"SAS\",\"SAS\",\"AMR\",\"SAS\",\"SAS\",\"SAS\",\"SAS\",\"SAS\",\"SAS\",\"SAS\",\"SAS\",\"SAS\",\"SAS\",\"SAS\",\"SAS\",\"SAS\",\"SAS\",\"SAS\",\"SAS\",\"SAS\",\"SAS\",\"SAS\",\"AMR\",\"SAS\",\"sportsman\",\"sportsman\",\"EUR\",\"EUR\",\"sportsman\",\"sportsman\",\"EUR\",\"EUR\",\"EUR\",\"sportsman\",\"EUR\",\"EUR\",\"EUR\",\"EUR\",\"sportsman\",\"sportsman\",\"AMR\",\"AMR\",\"SAS\",\"SAS\",\"SAS\",\"SAS\",\"SAS\",\"SAS\",\"SAS\",\"SAS\",\"SAS\",\"SAS\",\"SAS\",\"SAS\",\"SAS\",\"SAS\",\"SAS\",\"SAS\",\"SAS\",\"SAS\",\"SAS\",\"SAS\",\"SAS\",\"SAS\",\"SAS\",\"SAS\",\"SAS\",\"SAS\",\"SAS\",\"SAS\",\"SAS\",\"SAS\",\"SAS\",\"SAS\",\"SAS\",\"SAS\",\"SAS\",\"SAS\",\"SAS\",\"SAS\",\"SAS\",\"SAS\",\"AMR\",\"EUR\",\"sportsman\",\"EUR\",\"sportsman\",\"EUR\",\"EUR\",\"sportsman\",\"sportsman\",\"sportsman\",\"sportsman\",\"sportsman\",\"EUR\",\"sportsman\",\"EUR\",\"EUR\",\"EUR\",\"sportsman\",\"EUR\",\"EUR\",\"EUR\",\"EUR\",\"AMR\",\"SAS\",\"SAS\",\"SAS\",\"SAS\",\"SAS\",\"SAS\",\"SAS\",\"SAS\",\"SAS\",\"SAS\",\"SAS\",\"SAS\",\"SAS\",\"SAS\",\"SAS\",\"SAS\",\"SAS\",\"SAS\",\"SAS\",\"SAS\",\"SAS\",\"SAS\",\"SAS\",\"SAS\",\"SAS\",\"SAS\",\"SAS\",\"SAS\",\"SAS\",\"SAS\",\"SAS\",\"SAS\",\"SAS\",\"SAS\",\"SAS\",\"SAS\",\"AMR\",\"SAS\",\"SAS\",\"SAS\",\"SAS\",\"SAS\",\"SAS\",\"AMR\",\"AMR\",\"EUR\",\"EUR\",\"sportsman\",\"EUR\",\"EUR\",\"EUR\",\"sportsman\",\"sportsman\",\"EUR\",\"EUR\",\"EUR\",\"EUR\",\"sportsman\",\"EUR\",\"sportsman\",\"EUR\",\"EUR\",\"EUR\",\"EUR\",\"SAS\",\"SAS\",\"SAS\",\"SAS\",\"SAS\",\"SAS\",\"SAS\",\"SAS\",\"SAS\",\"SAS\",\"SAS\",\"SAS\",\"SAS\",\"SAS\",\"SAS\",\"SAS\",\"SAS\",\"SAS\",\"SAS\",\"SAS\",\"SAS\",\"SAS\",\"SAS\",\"SAS\",\"SAS\",\"SAS\",\"AMR\",\"SAS\",\"SAS\",\"SAS\",\"SAS\",\"SAS\",\"SAS\",\"SAS\",\"SAS\",\"SAS\",\"EUR\",\"EUR\",\"sportsman\",\"EUR\",\"sportsman\",\"EUR\",\"EUR\",\"sportsman\",\"EUR\",\"sportsman\",\"EUR\",\"sportsman\",\"EUR\",\"EUR\",\"EUR\",\"EUR\",\"EUR\",\"EUR\",\"AMR\",\"SAS\",\"SAS\",\"AMR\",\"SAS\",\"SAS\",\"SAS\",\"SAS\",\"SAS\",\"SAS\",\"SAS\",\"SAS\",\"SAS\",\"SAS\",\"SAS\",\"SAS\",\"SAS\",\"SAS\",\"SAS\",\"SAS\",\"SAS\",\"SAS\",\"SAS\",\"SAS\",\"SAS\",\"SAS\",\"SAS\",\"SAS\",\"AMR\",\"SAS\",\"SAS\",\"EUR\",\"EUR\",\"sportsman\",\"EUR\",\"sportsman\",\"sportsman\",\"sportsman\",\"sportsman\",\"sportsman\",\"sportsman\",\"sportsman\",\"sportsman\",\"EUR\",\"EUR\",\"sportsman\",\"EUR\",\"EUR\",\"EUR\",\"EUR\",\"EUR\",\"EUR\",\"sportsman\",\"EUR\",\"EUR\",\"EUR\",\"EUR\",\"sportsman\",\"AMR\",\"AMR\",\"AMR\",\"SAS\",\"SAS\",\"SAS\",\"SAS\",\"SAS\",\"SAS\",\"SAS\",\"SAS\",\"SAS\",\"SAS\",\"SAS\",\"SAS\",\"SAS\",\"SAS\",\"SAS\",\"SAS\",\"SAS\",\"SAS\",\"SAS\",\"SAS\",\"SAS\",\"SAS\",\"SAS\",\"SAS\",\"AMR\",\"EUR\",\"EUR\",\"EUR\",\"EUR\",\"EUR\",\"EUR\",\"sportsman\",\"sportsman\",\"EUR\",\"sportsman\",\"sportsman\",\"EUR\",\"sportsman\",\"sportsman\",\"EUR\",\"EUR\",\"sportsman\",\"sportsman\",\"sportsman\",\"sportsman\",\"EUR\",\"EUR\",\"EUR\",\"EUR\",\"EUR\",\"sportsman\",\"AMR\",\"SAS\",\"SAS\",\"SAS\",\"SAS\",\"SAS\",\"SAS\",\"SAS\",\"SAS\",\"SAS\",\"SAS\",\"SAS\",\"SAS\",\"SAS\",\"SAS\",\"SAS\",\"SAS\",\"SAS\",\"SAS\",\"SAS\",\"AMR\",\"SAS\",\"SAS\",\"SAS\",\"SAS\",\"AMR\",\"EUR\",\"EUR\",\"EUR\",\"EUR\",\"EUR\",\"EUR\",\"EUR\",\"sportsman\",\"sportsman\",\"EUR\",\"EUR\",\"EUR\",\"EUR\",\"EUR\",\"sportsman\",\"sportsman\",\"EUR\",\"sportsman\",\"EUR\",\"EUR\",\"EUR\",\"sportsman\",\"EUR\",\"EUR\",\"EUR\",\"EUR\",\"EUR\",\"EUR\",\"AMR\",\"SAS\",\"SAS\",\"AMR\",\"SAS\",\"SAS\",\"SAS\",\"SAS\",\"SAS\",\"SAS\",\"SAS\",\"SAS\",\"SAS\",\"SAS\",\"SAS\",\"SAS\",\"SAS\",\"SAS\",\"SAS\",\"SAS\",\"SAS\",\"SAS\",\"EUR\",\"EUR\",\"EUR\",\"EUR\",\"EUR\",\"EUR\",\"EUR\",\"EUR\",\"EUR\",\"EUR\",\"EUR\",\"EUR\",\"EUR\",\"EUR\",\"sportsman\",\"sportsman\",\"sportsman\",\"EUR\",\"EUR\",\"EUR\",\"EUR\",\"EUR\",\"EUR\",\"EUR\",\"EUR\",\"EUR\",\"SAS\",\"SAS\",\"AMR\",\"SAS\",\"SAS\",\"AMR\",\"SAS\",\"SAS\",\"SAS\",\"SAS\",\"SAS\",\"SAS\",\"AMR\",\"EUR\",\"EUR\",\"EUR\",\"EUR\",\"EUR\",\"EUR\",\"EUR\",\"EUR\",\"EUR\",\"EUR\",\"EUR\",\"EUR\",\"EUR\",\"sportsman\",\"EUR\",\"EUR\",\"EUR\",\"EUR\",\"EUR\",\"EUR\",\"EUR\",\"EUR\",\"EUR\",\"EUR\",\"EUR\",\"AMR\",\"SAS\",\"AMR\",\"SAS\",\"SAS\",\"SAS\",\"SAS\",\"SAS\",\"SAS\",\"SAS\",\"SAS\",\"SAS\",\"SAS\",\"SAS\",\"SAS\",\"EUR\",\"EUR\",\"EUR\",\"EUR\",\"EUR\",\"sportsman\",\"EUR\",\"EUR\",\"sportsman\",\"EUR\",\"EUR\",\"EUR\",\"EUR\",\"EUR\",\"EUR\",\"sportsman\",\"sportsman\",\"EUR\",\"EUR\",\"EUR\",\"AMR\",\"SAS\",\"SAS\",\"SAS\",\"SAS\",\"SAS\",\"SAS\",\"SAS\",\"EUR\",\"EUR\",\"EUR\",\"EUR\",\"EUR\",\"EUR\",\"EUR\",\"EUR\",\"EUR\",\"EUR\",\"EUR\",\"EUR\",\"EUR\",\"EUR\",\"EUR\",\"EUR\",\"sportsman\",\"EUR\",\"AMR\",\"AMR\",\"AMR\",\"AMR\",\"SAS\",\"SAS\",\"SAS\",\"EUR\",\"EUR\",\"EUR\",\"EUR\",\"EUR\",\"EUR\",\"EUR\",\"EUR\",\"EUR\",\"EUR\",\"EUR\",\"EUR\",\"EUR\",\"AMR\",\"AMR\",\"AMR\",\"SAS\",\"SAS\",\"EUR\",\"EUR\",\"EUR\",\"EUR\",\"EUR\",\"EUR\",\"EUR\",\"EUR\",\"EUR\",\"EUR\",\"EUR\",\"EUR\",\"AMR\",\"AMR\",\"SAS\",\"EUR\",\"EUR\",\"EUR\",\"EUR\",\"EUR\",\"EUR\",\"EUR\",\"EUR\",\"AMR\",\"AMR\",\"AMR\",\"AMR\",\"AFR\",\"EUR\",\"EUR\",\"EUR\",\"EUR\",\"EUR\",\"EUR\",\"EUR\",\"EUR\",\"EAS\",\"AMR\",\"AMR\",\"AMR\",\"AMR\",\"EUR\",\"EUR\",\"EUR\",\"EUR\",\"EUR\",\"AMR\",\"AMR\",\"AMR\",\"AMR\",\"EUR\",\"EUR\",\"EUR\",\"EUR\",\"EUR\",\"EUR\",\"EAS\",\"AMR\",\"AMR\",\"AMR\",\"EAS\",\"EAS\",\"EAS\",\"EAS\",\"AMR\",\"AMR\",\"AMR\",\"AMR\",\"AMR\",\"EAS\",\"EAS\",\"EAS\",\"EAS\",\"EAS\",\"EAS\",\"EAS\",\"EAS\",\"AMR\",\"AMR\",\"AMR\",\"AMR\",\"AMR\",\"AMR\",\"AMR\",\"EUR\",\"EAS\",\"EAS\",\"EAS\",\"EAS\",\"EAS\",\"EAS\",\"EAS\",\"EAS\",\"EAS\",\"AMR\",\"AMR\",\"AMR\",\"AMR\",\"EAS\",\"EAS\",\"EAS\",\"EAS\",\"EAS\",\"EAS\",\"EAS\",\"EAS\",\"EAS\",\"EAS\",\"EAS\",\"EAS\",\"EAS\",\"EAS\",\"EAS\",\"EAS\",\"EAS\",\"EAS\",\"AMR\",\"AMR\",\"AMR\",\"EAS\",\"EAS\",\"EAS\",\"EAS\",\"EAS\",\"EAS\",\"EAS\",\"EAS\",\"EAS\",\"EAS\",\"EAS\",\"EAS\",\"EAS\",\"EAS\",\"AMR\",\"AMR\",\"AMR\",\"EAS\",\"EAS\",\"EAS\",\"EAS\",\"EAS\",\"EAS\",\"EAS\",\"EAS\",\"EAS\",\"EAS\",\"EAS\",\"EAS\",\"EAS\",\"EAS\",\"EAS\",\"EAS\",\"EAS\",\"EAS\",\"EAS\",\"EAS\",\"EAS\",\"EAS\",\"EAS\",\"EAS\",\"AMR\",\"AMR\",\"AMR\",\"AMR\",\"AMR\",\"EAS\",\"EAS\",\"EAS\",\"EAS\",\"EAS\",\"EAS\",\"EAS\",\"EAS\",\"EAS\",\"EAS\",\"EAS\",\"EAS\",\"EAS\",\"EAS\",\"EAS\",\"EAS\",\"EAS\",\"EAS\",\"EAS\",\"EAS\",\"EAS\",\"EAS\",\"EAS\",\"EAS\",\"EAS\",\"EAS\",\"EAS\",\"AMR\",\"AMR\",\"AMR\",\"EAS\",\"EAS\",\"EAS\",\"EAS\",\"EAS\",\"EAS\",\"EAS\",\"EAS\",\"EAS\",\"EAS\",\"EAS\",\"EAS\",\"EAS\",\"EAS\",\"EAS\",\"EAS\",\"EAS\",\"EAS\",\"EAS\",\"EAS\",\"EAS\",\"EAS\",\"EAS\",\"EAS\",\"EAS\",\"EAS\",\"EAS\",\"EAS\",\"EAS\",\"EAS\",\"EAS\",\"EAS\",\"EAS\",\"EAS\",\"AMR\",\"AMR\",\"AMR\",\"EAS\",\"EAS\",\"EAS\",\"EAS\",\"EAS\",\"EAS\",\"EAS\",\"EAS\",\"EAS\",\"EAS\",\"EAS\",\"EAS\",\"EAS\",\"EAS\",\"EAS\",\"EAS\",\"EAS\",\"EAS\",\"EAS\",\"EAS\",\"EAS\",\"EAS\",\"EAS\",\"EAS\",\"EAS\",\"EAS\",\"EAS\",\"EAS\",\"EAS\",\"AMR\",\"EAS\",\"EAS\",\"EAS\",\"EAS\",\"EAS\",\"EAS\",\"EAS\",\"EAS\",\"EAS\",\"EAS\",\"EAS\",\"EAS\",\"EAS\",\"EAS\",\"EAS\",\"EAS\",\"EAS\",\"EAS\",\"EAS\",\"EAS\",\"EAS\",\"EAS\",\"EAS\",\"EAS\",\"EAS\",\"EAS\",\"EAS\",\"EAS\",\"EAS\",\"EAS\",\"EAS\",\"AMR\",\"EAS\",\"EAS\",\"EAS\",\"EAS\",\"EAS\",\"EAS\",\"EAS\",\"EAS\",\"EAS\",\"EAS\",\"EAS\",\"EAS\",\"EAS\",\"EAS\",\"EAS\",\"EAS\",\"EAS\",\"EAS\",\"EAS\",\"EAS\",\"EAS\",\"EAS\",\"EAS\",\"EAS\",\"EAS\",\"EAS\",\"EAS\",\"EAS\",\"EAS\",\"EAS\",\"EAS\",\"EAS\",\"EAS\",\"EAS\",\"EAS\",\"EAS\",\"AMR\",\"EAS\",\"EAS\",\"EAS\",\"EAS\",\"EAS\",\"EAS\",\"EAS\",\"EAS\",\"EAS\",\"EAS\",\"EAS\",\"EAS\",\"EAS\",\"EAS\",\"EAS\",\"EAS\",\"EAS\",\"EAS\",\"EAS\",\"EAS\",\"EAS\",\"EAS\",\"EAS\",\"EAS\",\"EAS\",\"EAS\",\"EAS\",\"EAS\",\"EAS\",\"EAS\",\"AMR\",\"AMR\",\"EAS\",\"EAS\",\"EAS\",\"EAS\",\"EAS\",\"EAS\",\"EAS\",\"EAS\",\"EAS\",\"EAS\",\"EAS\",\"EAS\",\"EAS\",\"EAS\",\"EAS\",\"EAS\",\"EAS\",\"EAS\",\"EAS\",\"EAS\",\"EAS\",\"EAS\",\"EAS\",\"EAS\",\"EAS\",\"EAS\",\"EAS\",\"EAS\",\"EAS\",\"EAS\",\"EAS\",\"EAS\",\"EAS\",\"EAS\",\"EAS\",\"EAS\",\"EAS\",\"EAS\",\"EAS\",\"EAS\",\"EAS\",\"EAS\",\"EAS\",\"EAS\",\"EAS\",\"EAS\",\"EAS\",\"EAS\",\"EAS\",\"EAS\",\"EAS\",\"EAS\",\"EAS\",\"EAS\",\"EAS\",\"EAS\",\"EAS\",\"EAS\",\"EAS\",\"EAS\",\"EAS\",\"EAS\",\"EAS\",\"EAS\",\"EAS\",\"EAS\",\"EAS\",\"EAS\",\"EAS\",\"EAS\",\"EAS\",\"EAS\",\"EAS\",\"EAS\",\"EAS\",\"EAS\",\"EAS\",\"EAS\",\"EAS\"],\"x\":{\"__ndarray__\":\"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\",\"dtype\":\"float64\",\"shape\":[2060]},\"y\":{\"__ndarray__\":\"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\",\"dtype\":\"float64\",\"shape\":[2060]}},\"selected\":{\"id\":\"1092\",\"type\":\"Selection\"},\"selection_policy\":{\"id\":\"1091\",\"type\":\"UnionRenderers\"}},\"id\":\"1039\",\"type\":\"ColumnDataSource\"},{\"attributes\":{},\"id\":\"1025\",\"type\":\"WheelZoomTool\"},{\"attributes\":{\"column_name\":\"label\",\"group\":\"EAS\"},\"id\":\"1052\",\"type\":\"GroupFilter\"},{\"attributes\":{\"column_name\":\"label\",\"group\":\"SAS\"},\"id\":\"1064\",\"type\":\"GroupFilter\"},{\"attributes\":{\"data_source\":{\"id\":\"1039\",\"type\":\"ColumnDataSource\"},\"glyph\":{\"id\":\"1043\",\"type\":\"Circle\"},\"hover_glyph\":null,\"muted_glyph\":null,\"nonselection_glyph\":{\"id\":\"1044\",\"type\":\"Circle\"},\"selection_glyph\":null,\"view\":{\"id\":\"1041\",\"type\":\"CDSView\"}},\"id\":\"1045\",\"type\":\"GlyphRenderer\"},{\"attributes\":{\"label\":{\"value\":\"AMR\"},\"renderers\":[{\"id\":\"1051\",\"type\":\"GlyphRenderer\"}]},\"id\":\"1077\",\"type\":\"LegendItem\"},{\"attributes\":{\"label\":{\"value\":\"SAS\"},\"renderers\":[{\"id\":\"1069\",\"type\":\"GlyphRenderer\"}]},\"id\":\"1080\",\"type\":\"LegendItem\"},{\"attributes\":{},\"id\":\"1020\",\"type\":\"BasicTicker\"},{\"attributes\":{\"fill_alpha\":{\"value\":0.1},\"fill_color\":{\"value\":\"#1f77b4\"},\"line_alpha\":{\"value\":0.1},\"line_color\":{\"value\":\"#1f77b4\"},\"x\":{\"field\":\"x\"},\"y\":{\"field\":\"y\"}},\"id\":\"1062\",\"type\":\"Circle\"},{\"attributes\":{\"click_policy\":\"hide\",\"items\":[{\"id\":\"1076\",\"type\":\"LegendItem\"},{\"id\":\"1077\",\"type\":\"LegendItem\"},{\"id\":\"1078\",\"type\":\"LegendItem\"},{\"id\":\"1079\",\"type\":\"LegendItem\"},{\"id\":\"1080\",\"type\":\"LegendItem\"},{\"id\":\"1081\",\"type\":\"LegendItem\"}]},\"id\":\"1082\",\"type\":\"Legend\"},{\"attributes\":{\"text\":\"PCA\"},\"id\":\"1004\",\"type\":\"Title\"},{\"attributes\":{},\"id\":\"1012\",\"type\":\"LinearScale\"},{\"attributes\":{},\"id\":\"1015\",\"type\":\"BasicTicker\"},{\"attributes\":{\"filters\":[{\"id\":\"1058\",\"type\":\"GroupFilter\"}],\"source\":{\"id\":\"1039\",\"type\":\"ColumnDataSource\"}},\"id\":\"1059\",\"type\":\"CDSView\"},{\"attributes\":{\"fill_alpha\":{\"value\":0.1},\"fill_color\":{\"value\":\"#1f77b4\"},\"line_alpha\":{\"value\":0.1},\"line_color\":{\"value\":\"#1f77b4\"},\"x\":{\"field\":\"x\"},\"y\":{\"field\":\"y\"}},\"id\":\"1068\",\"type\":\"Circle\"},{\"attributes\":{\"filters\":[{\"id\":\"1064\",\"type\":\"GroupFilter\"}],\"source\":{\"id\":\"1039\",\"type\":\"ColumnDataSource\"}},\"id\":\"1065\",\"type\":\"CDSView\"},{\"attributes\":{},\"id\":\"1092\",\"type\":\"Selection\"},{\"attributes\":{\"data_source\":{\"id\":\"1039\",\"type\":\"ColumnDataSource\"},\"glyph\":{\"id\":\"1055\",\"type\":\"Circle\"},\"hover_glyph\":null,\"muted_glyph\":null,\"nonselection_glyph\":{\"id\":\"1056\",\"type\":\"Circle\"},\"selection_glyph\":null,\"view\":{\"id\":\"1053\",\"type\":\"CDSView\"}},\"id\":\"1057\",\"type\":\"GlyphRenderer\"},{\"attributes\":{\"factors\":[\"AFR\",\"AMR\",\"EAS\",\"EUR\",\"SAS\",\"sportsman\"],\"palette\":[\"red\",\"yellow\",\"green\",\"blue\",\"purple\",\"orange\"]},\"id\":\"1002\",\"type\":\"CategoricalColorMapper\"},{\"attributes\":{},\"id\":\"1010\",\"type\":\"LinearScale\"},{\"attributes\":{\"fill_alpha\":{\"value\":0.1},\"fill_color\":{\"value\":\"#1f77b4\"},\"line_alpha\":{\"value\":0.1},\"line_color\":{\"value\":\"#1f77b4\"},\"x\":{\"field\":\"x\"},\"y\":{\"field\":\"y\"}},\"id\":\"1050\",\"type\":\"Circle\"},{\"attributes\":{},\"id\":\"1028\",\"type\":\"ResetTool\"},{\"attributes\":{\"fill_alpha\":{\"value\":0.1},\"fill_color\":{\"value\":\"#1f77b4\"},\"line_alpha\":{\"value\":0.1},\"line_color\":{\"value\":\"#1f77b4\"},\"x\":{\"field\":\"x\"},\"y\":{\"field\":\"y\"}},\"id\":\"1056\",\"type\":\"Circle\"},{\"attributes\":{\"filters\":[{\"id\":\"1040\",\"type\":\"GroupFilter\"}],\"source\":{\"id\":\"1039\",\"type\":\"ColumnDataSource\"}},\"id\":\"1041\",\"type\":\"CDSView\"},{\"attributes\":{\"fill_color\":{\"field\":\"label\",\"transform\":{\"id\":\"1002\",\"type\":\"CategoricalColorMapper\"}},\"line_color\":{\"field\":\"label\",\"transform\":{\"id\":\"1002\",\"type\":\"CategoricalColorMapper\"}},\"x\":{\"field\":\"x\"},\"y\":{\"field\":\"y\"}},\"id\":\"1055\",\"type\":\"Circle\"},{\"attributes\":{\"fill_color\":{\"field\":\"label\",\"transform\":{\"id\":\"1002\",\"type\":\"CategoricalColorMapper\"}},\"line_color\":{\"field\":\"label\",\"transform\":{\"id\":\"1002\",\"type\":\"CategoricalColorMapper\"}},\"x\":{\"field\":\"x\"},\"y\":{\"field\":\"y\"}},\"id\":\"1061\",\"type\":\"Circle\"},{\"attributes\":{\"axis_label\":\"PC1\",\"formatter\":{\"id\":\"1086\",\"type\":\"BasicTickFormatter\"},\"ticker\":{\"id\":\"1015\",\"type\":\"BasicTicker\"}},\"id\":\"1014\",\"type\":\"LinearAxis\"},{\"attributes\":{\"filters\":[{\"id\":\"1046\",\"type\":\"GroupFilter\"}],\"source\":{\"id\":\"1039\",\"type\":\"ColumnDataSource\"}},\"id\":\"1047\",\"type\":\"CDSView\"},{\"attributes\":{\"color_mapper\":null,\"formatter\":{\"id\":\"1090\",\"type\":\"BasicTickFormatter\"},\"ticker\":{\"id\":\"1089\",\"type\":\"BasicTicker\"},\"visible\":false},\"id\":\"1083\",\"type\":\"ColorBar\"},{\"attributes\":{\"label\":{\"value\":\"EAS\"},\"renderers\":[{\"id\":\"1057\",\"type\":\"GlyphRenderer\"}]},\"id\":\"1078\",\"type\":\"LegendItem\"},{\"attributes\":{\"fill_color\":{\"field\":\"label\",\"transform\":{\"id\":\"1002\",\"type\":\"CategoricalColorMapper\"}},\"line_color\":{\"field\":\"label\",\"transform\":{\"id\":\"1002\",\"type\":\"CategoricalColorMapper\"}},\"x\":{\"field\":\"x\"},\"y\":{\"field\":\"y\"}},\"id\":\"1043\",\"type\":\"Circle\"},{\"attributes\":{\"column_name\":\"label\",\"group\":\"AFR\"},\"id\":\"1040\",\"type\":\"GroupFilter\"},{\"attributes\":{},\"id\":\"1088\",\"type\":\"BasicTickFormatter\"},{\"attributes\":{},\"id\":\"1024\",\"type\":\"PanTool\"},{\"attributes\":{\"column_name\":\"label\",\"group\":\"AMR\"},\"id\":\"1046\",\"type\":\"GroupFilter\"},{\"attributes\":{\"bottom_units\":\"screen\",\"fill_alpha\":{\"value\":0.5},\"fill_color\":{\"value\":\"lightgrey\"},\"left_units\":\"screen\",\"level\":\"overlay\",\"line_alpha\":{\"value\":1.0},\"line_color\":{\"value\":\"black\"},\"line_dash\":[4,4],\"line_width\":{\"value\":2},\"render_mode\":\"css\",\"right_units\":\"screen\",\"top_units\":\"screen\"},\"id\":\"1093\",\"type\":\"BoxAnnotation\"},{\"attributes\":{\"callback\":null},\"id\":\"1006\",\"type\":\"DataRange1d\"},{\"attributes\":{\"filters\":[{\"id\":\"1052\",\"type\":\"GroupFilter\"}],\"source\":{\"id\":\"1039\",\"type\":\"ColumnDataSource\"}},\"id\":\"1053\",\"type\":\"CDSView\"},{\"attributes\":{\"overlay\":{\"id\":\"1093\",\"type\":\"BoxAnnotation\"}},\"id\":\"1026\",\"type\":\"BoxZoomTool\"},{\"attributes\":{\"axis_label\":\"PC2\",\"formatter\":{\"id\":\"1088\",\"type\":\"BasicTickFormatter\"},\"ticker\":{\"id\":\"1020\",\"type\":\"BasicTicker\"}},\"id\":\"1019\",\"type\":\"LinearAxis\"},{\"attributes\":{\"fill_alpha\":{\"value\":0.1},\"fill_color\":{\"value\":\"#1f77b4\"},\"line_alpha\":{\"value\":0.1},\"line_color\":{\"value\":\"#1f77b4\"},\"x\":{\"field\":\"x\"},\"y\":{\"field\":\"y\"}},\"id\":\"1044\",\"type\":\"Circle\"},{\"attributes\":{\"dimension\":1,\"ticker\":{\"id\":\"1020\",\"type\":\"BasicTicker\"}},\"id\":\"1023\",\"type\":\"Grid\"},{\"attributes\":{\"fill_color\":{\"field\":\"label\",\"transform\":{\"id\":\"1002\",\"type\":\"CategoricalColorMapper\"}},\"line_color\":{\"field\":\"label\",\"transform\":{\"id\":\"1002\",\"type\":\"CategoricalColorMapper\"}},\"x\":{\"field\":\"x\"},\"y\":{\"field\":\"y\"}},\"id\":\"1073\",\"type\":\"Circle\"},{\"attributes\":{\"column_name\":\"label\",\"group\":\"sportsman\"},\"id\":\"1070\",\"type\":\"GroupFilter\"},{\"attributes\":{},\"id\":\"1090\",\"type\":\"BasicTickFormatter\"},{\"attributes\":{\"fill_color\":{\"field\":\"label\",\"transform\":{\"id\":\"1002\",\"type\":\"CategoricalColorMapper\"}},\"line_color\":{\"field\":\"label\",\"transform\":{\"id\":\"1002\",\"type\":\"CategoricalColorMapper\"}},\"x\":{\"field\":\"x\"},\"y\":{\"field\":\"y\"}},\"id\":\"1049\",\"type\":\"Circle\"},{\"attributes\":{\"filters\":[{\"id\":\"1070\",\"type\":\"GroupFilter\"}],\"source\":{\"id\":\"1039\",\"type\":\"ColumnDataSource\"}},\"id\":\"1071\",\"type\":\"CDSView\"},{\"attributes\":{},\"id\":\"1089\",\"type\":\"BasicTicker\"},{\"attributes\":{\"label\":{\"value\":\"EUR\"},\"renderers\":[{\"id\":\"1063\",\"type\":\"GlyphRenderer\"}]},\"id\":\"1079\",\"type\":\"LegendItem\"},{\"attributes\":{\"callback\":null},\"id\":\"1008\",\"type\":\"DataRange1d\"}],\"root_ids\":[\"1003\"]},\"title\":\"Bokeh Application\",\"version\":\"1.4.0\"}};\n",
       "  var render_items = [{\"docid\":\"041be422-65c8-4712-a11e-4139fe1bec40\",\"roots\":{\"1003\":\"ec74bcf7-f52c-434e-a162-c33b27624268\"}}];\n",
       "  root.Bokeh.embed.embed_items_notebook(docs_json, render_items);\n",
       "\n",
       "  }\n",
       "  if (root.Bokeh !== undefined) {\n",
       "    embed_document(root);\n",
       "  } else {\n",
       "    var attempts = 0;\n",
       "    var timer = setInterval(function(root) {\n",
       "      if (root.Bokeh !== undefined) {\n",
       "        clearInterval(timer);\n",
       "        embed_document(root);\n",
       "      } else {\n",
       "        attempts++;\n",
       "        if (attempts > 100) {\n",
       "          clearInterval(timer);\n",
       "          console.log(\"Bokeh: ERROR: Unable to run BokehJS code because BokehJS library is missing\");\n",
       "        }\n",
       "      }\n",
       "    }, 10, root)\n",
       "  }\n",
       "})(window);"
      ],
      "application/vnd.bokehjs_exec.v0+json": ""
     },
     "metadata": {
      "application/vnd.bokehjs_exec.v0+json": {
       "id": "1003"
      }
     },
     "output_type": "display_data"
    }
   ],
   "source": [
    "# plot for pca\n",
    "p = hl.plot.scatter(mt.scores[0],\n",
    "                    mt.scores[1],\n",
    "                    label=mt.pheno.super_pop,\n",
    "                    colors=mapper, \n",
    "                    title='PCA', xlabel='PC1', ylabel='PC2')\n",
    "show(p)"
   ]
  },
  {
   "cell_type": "code",
   "execution_count": 15,
   "id": "8820d83a-6b57-4477-8d43-2261291e5f4d",
   "metadata": {},
   "outputs": [
    {
     "name": "stderr",
     "output_type": "stream",
     "text": [
      "2022-02-11 16:32:21 Hail: WARN: cols(): Resulting column table is sorted by 'col_key'.\n",
      "    To preserve matrix table column order, first unkey columns with 'key_cols_by()'\n",
      "2022-02-11 16:32:22 Hail: INFO: Coerced sorted dataset\n",
      "[Stage 280:>                                                      (0 + 12) / 16]\r"
     ]
    },
    {
     "data": {
      "image/png": "[encoded data removed]",
      "text/plain": [
       "<Figure size 432x288 with 1 Axes>"
      ]
     },
     "metadata": {},
     "output_type": "display_data"
    },
    {
     "data": {
      "text/plain": [
       "<Figure size 432x288 with 0 Axes>"
      ]
     },
     "metadata": {},
     "output_type": "display_data"
    }
   ],
   "source": [
    "pca_df = mt.cols().flatten().to_pandas(flatten = True).rename(columns={'pheno.super_pop': 'super_pop'})\n",
    "pca_df[['PC1','PC2', 'PC3','PC4', 'PC5', \n",
    "        'PC6', 'PC7', 'PC8', 'PC9', 'PC10']] = pd.DataFrame(pca_df.scores.tolist(), \n",
    "                                                            index = pca_df.index)\n",
    "\n",
    "palette = dict(sportsman=\"orange\", AFR=\"red\", AMR=\"yellow\", EAS=\"green\", EUR=\"blue\", SAS=\"purple\")\n",
    "colors = [\"yellow\", \"red\", \"green\", \"purple\", \"blue\", \"orange\"]\n",
    "population = [\"AMR\", \"AFR\", \"EAS\", \"SAS\", \"EUR\", \"sportsman\"]\n",
    "\n",
    "# create plot for pc1 and pc2\n",
    "for col, pop in zip(colors, population):\n",
    "    plt.scatter(pca_df[pca_df.super_pop == pop]['PC1'],\n",
    "                pca_df[pca_df.super_pop == pop]['PC2'], \n",
    "                color = col, s = 5)\n",
    "plt.legend(population, loc = 'center left', bbox_to_anchor=(1, 0.5), title = \"Population\")\n",
    "plt.xlabel('PC1')\n",
    "plt.ylabel('PC2')\n",
    "plt.show()\n",
    "\n",
    "plt.savefig(\"/net/archive/groups/plggneuromol/matzieb/projects/imdik-zekanowski-sportwgs/results/prs-plots/pca.svg\", \n",
    "            facecolor='white')"
   ]
  },
  {
   "cell_type": "code",
   "execution_count": 16,
   "id": "016e303f-0c81-4359-842e-9f9d99c722d4",
   "metadata": {},
   "outputs": [],
   "source": [
    "# calculate meadian absolute deviation for PC1 i PC2\n",
    "mad_pc1 = hl.median(\n",
    "    hl.abs(\n",
    "        hl.median(\n",
    "            mt.filter_cols(mt.pheno.super_pop == \"sportsman\")\n",
    "            .scores[0].collect())-mt.filter_cols(mt.pheno.super_pop==\"sportsman\")\n",
    "        .scores[0]\n",
    "    ).collect())\n",
    "mad_pc2 =  hl.median(\n",
    "    hl.abs(\n",
    "        hl.median(\n",
    "            mt.filter_cols(mt.pheno.super_pop == \"sportsman\")\n",
    "            .scores[1].collect())-mt.filter_cols(mt.pheno.super_pop==\"sportsman\")\n",
    "        .scores[1]\n",
    "    ).collect())"
   ]
  },
  {
   "cell_type": "code",
   "execution_count": 17,
   "id": "6bf4a53d-e2ba-468f-b5c1-59d3a48ed133",
   "metadata": {},
   "outputs": [
    {
     "data": {
      "text/html": [
       "<table><thead><tr><td style=\"white-space: nowrap; max-width: 500px; overflow: hidden; text-overflow: ellipsis; \" colspan=\"1\"><div style=\"text-align: left;\"></div></td></tr><tr><td style=\"white-space: nowrap; max-width: 500px; overflow: hidden; text-overflow: ellipsis; \" colspan=\"1\"><div style=\"text-align: left;border-bottom: solid 2px #000; padding-bottom: 5px\"><expr></div></td></tr><tr><td style=\"white-space: nowrap; max-width: 500px; overflow: hidden; text-overflow: ellipsis; text-align: left;\">float64</td></tr>\n",
       "</thead><tbody><tr><td style=\"white-space: nowrap; max-width: 500px; overflow: hidden; text-overflow: ellipsis; \">1,65e-03</td></tr>\n",
       "</tbody></table>"
      ],
      "text/plain": [
       "+----------+\n",
       "|   <expr> |\n",
       "+----------+\n",
       "|  float64 |\n",
       "+----------+\n",
       "| 1,65e-03 |\n",
       "+----------+"
      ]
     },
     "metadata": {},
     "output_type": "display_data"
    },
    {
     "data": {
      "text/html": [
       "<table><thead><tr><td style=\"white-space: nowrap; max-width: 500px; overflow: hidden; text-overflow: ellipsis; \" colspan=\"1\"><div style=\"text-align: left;\"></div></td></tr><tr><td style=\"white-space: nowrap; max-width: 500px; overflow: hidden; text-overflow: ellipsis; \" colspan=\"1\"><div style=\"text-align: left;border-bottom: solid 2px #000; padding-bottom: 5px\"><expr></div></td></tr><tr><td style=\"white-space: nowrap; max-width: 500px; overflow: hidden; text-overflow: ellipsis; text-align: left;\">float64</td></tr>\n",
       "</thead><tbody><tr><td style=\"white-space: nowrap; max-width: 500px; overflow: hidden; text-overflow: ellipsis; \">2,24e-03</td></tr>\n",
       "</tbody></table>"
      ],
      "text/plain": [
       "+----------+\n",
       "|   <expr> |\n",
       "+----------+\n",
       "|  float64 |\n",
       "+----------+\n",
       "| 2,24e-03 |\n",
       "+----------+"
      ]
     },
     "metadata": {},
     "output_type": "display_data"
    }
   ],
   "source": [
    "mad_pc1.show()\n",
    "mad_pc2.show()"
   ]
  },
  {
   "cell_type": "code",
   "execution_count": 18,
   "id": "68c14fd3-4d01-4567-a721-5210b8ce02ed",
   "metadata": {},
   "outputs": [],
   "source": [
    "# filter data near MAD for sportsmen\n",
    "mt_filter = mt.filter_cols(\n",
    "    (mt.scores[0] > hl.median(mt.filter_cols(mt.pheno.super_pop == \"sportsman\").scores[0].collect())-6*mad_pc1) &\n",
    "    (mt.scores[0] < hl.median(mt.filter_cols(mt.pheno.super_pop == \"sportsman\").scores[0].collect())+6*mad_pc1) & \n",
    "    (mt.scores[1] > hl.median(mt.filter_cols(mt.pheno.super_pop == \"sportsman\").scores[1].collect())-6*mad_pc2) &\n",
    "    (mt.scores[1] < hl.median(mt.filter_cols(mt.pheno.super_pop == \"sportsman\").scores[1].collect())+6*mad_pc2) &\n",
    "    (mt.pheno.super_pop != \"AMR\")\n",
    ")"
   ]
  },
  {
   "cell_type": "code",
   "execution_count": 19,
   "id": "60020c3c-ebfe-4261-a1d1-49eadd7e79f9",
   "metadata": {},
   "outputs": [
    {
     "data": {
      "text/plain": [
       "(78280, 550)"
      ]
     },
     "execution_count": 19,
     "metadata": {},
     "output_type": "execute_result"
    }
   ],
   "source": [
    "mt_filter.count()"
   ]
  },
  {
   "cell_type": "code",
   "execution_count": 20,
   "id": "bd350460-075f-4a1a-aa7e-28af86154f6b",
   "metadata": {},
   "outputs": [
    {
     "data": {
      "text/plain": [
       "frozendict({'EUR': 450, 'sportsman': 100})"
      ]
     },
     "execution_count": 20,
     "metadata": {},
     "output_type": "execute_result"
    }
   ],
   "source": [
    "mt_filter.aggregate_cols(hl.agg.counter(mt_filter.pheno.super_pop))"
   ]
  },
  {
   "cell_type": "code",
   "execution_count": 21,
   "id": "228da113-e470-4f2f-a6f4-2d911d3585b0",
   "metadata": {},
   "outputs": [
    {
     "data": {
      "text/html": [
       "\n",
       "\n",
       "\n",
       "\n",
       "\n",
       "\n",
       "  <div class=\"bk-root\" id=\"fa9537d8-5f71-4359-a6a8-aada209192be\" data-root-id=\"1154\"></div>\n"
      ]
     },
     "metadata": {},
     "output_type": "display_data"
    },
    {
     "data": {
      "application/javascript": [
       "(function(root) {\n",
       "  function embed_document(root) {\n",
       "    \n",
       "  var docs_json = {\"b5e24afd-b984-4f0f-b26c-9d2971fe0c35\":{\"roots\":{\"references\":[{\"attributes\":{\"below\":[{\"id\":\"1165\",\"type\":\"LinearAxis\"}],\"center\":[{\"id\":\"1169\",\"type\":\"Grid\"},{\"id\":\"1174\",\"type\":\"Grid\"}],\"left\":[{\"id\":\"1170\",\"type\":\"LinearAxis\"},{\"id\":\"1205\",\"type\":\"Legend\"},{\"id\":\"1206\",\"type\":\"ColorBar\"}],\"plot_height\":800,\"plot_width\":800,\"renderers\":[{\"id\":\"1196\",\"type\":\"GlyphRenderer\"},{\"id\":\"1202\",\"type\":\"GlyphRenderer\"}],\"title\":{\"id\":\"1155\",\"type\":\"Title\"},\"toolbar\":{\"id\":\"1181\",\"type\":\"Toolbar\"},\"x_range\":{\"id\":\"1157\",\"type\":\"DataRange1d\"},\"x_scale\":{\"id\":\"1161\",\"type\":\"LinearScale\"},\"y_range\":{\"id\":\"1159\",\"type\":\"DataRange1d\"},\"y_scale\":{\"id\":\"1163\",\"type\":\"LinearScale\"}},\"id\":\"1154\",\"subtype\":\"Figure\",\"type\":\"Plot\"},{\"attributes\":{\"color_mapper\":null,\"formatter\":{\"id\":\"1223\",\"type\":\"BasicTickFormatter\"},\"ticker\":{\"id\":\"1222\",\"type\":\"BasicTicker\"},\"visible\":false},\"id\":\"1206\",\"type\":\"ColorBar\"},{\"attributes\":{\"callback\":null},\"id\":\"1159\",\"type\":\"DataRange1d\"},{\"attributes\":{\"fill_color\":{\"field\":\"label\",\"transform\":{\"id\":\"1002\",\"type\":\"CategoricalColorMapper\"}},\"line_color\":{\"field\":\"label\",\"transform\":{\"id\":\"1002\",\"type\":\"CategoricalColorMapper\"}},\"x\":{\"field\":\"x\"},\"y\":{\"field\":\"y\"}},\"id\":\"1194\",\"type\":\"Circle\"},{\"attributes\":{\"callback\":null,\"tooltips\":[[\"x\",\"@x\"],[\"y\",\"@y\"],[\"label\",\"@label\"]]},\"id\":\"1189\",\"type\":\"HoverTool\"},{\"attributes\":{\"filters\":[{\"id\":\"1197\",\"type\":\"GroupFilter\"}],\"source\":{\"id\":\"1190\",\"type\":\"ColumnDataSource\"}},\"id\":\"1198\",\"type\":\"CDSView\"},{\"attributes\":{\"active_drag\":\"auto\",\"active_inspect\":\"auto\",\"active_multi\":null,\"active_scroll\":\"auto\",\"active_tap\":\"auto\",\"tools\":[{\"id\":\"1175\",\"type\":\"PanTool\"},{\"id\":\"1176\",\"type\":\"WheelZoomTool\"},{\"id\":\"1177\",\"type\":\"BoxZoomTool\"},{\"id\":\"1178\",\"type\":\"SaveTool\"},{\"id\":\"1179\",\"type\":\"ResetTool\"},{\"id\":\"1180\",\"type\":\"HelpTool\"},{\"id\":\"1189\",\"type\":\"HoverTool\"}]},\"id\":\"1181\",\"type\":\"Toolbar\"},{\"attributes\":{},\"id\":\"1180\",\"type\":\"HelpTool\"},{\"attributes\":{},\"id\":\"1221\",\"type\":\"BasicTickFormatter\"},{\"attributes\":{},\"id\":\"1179\",\"type\":\"ResetTool\"},{\"attributes\":{\"fill_alpha\":{\"value\":0.1},\"fill_color\":{\"value\":\"#1f77b4\"},\"line_alpha\":{\"value\":0.1},\"line_color\":{\"value\":\"#1f77b4\"},\"x\":{\"field\":\"x\"},\"y\":{\"field\":\"y\"}},\"id\":\"1195\",\"type\":\"Circle\"},{\"attributes\":{},\"id\":\"1163\",\"type\":\"LinearScale\"},{\"attributes\":{\"data_source\":{\"id\":\"1190\",\"type\":\"ColumnDataSource\"},\"glyph\":{\"id\":\"1194\",\"type\":\"Circle\"},\"hover_glyph\":null,\"muted_glyph\":null,\"nonselection_glyph\":{\"id\":\"1195\",\"type\":\"Circle\"},\"selection_glyph\":null,\"view\":{\"id\":\"1192\",\"type\":\"CDSView\"}},\"id\":\"1196\",\"type\":\"GlyphRenderer\"},{\"attributes\":{},\"id\":\"1176\",\"type\":\"WheelZoomTool\"},{\"attributes\":{\"label\":{\"value\":\"EUR\"},\"renderers\":[{\"id\":\"1196\",\"type\":\"GlyphRenderer\"}]},\"id\":\"1203\",\"type\":\"LegendItem\"},{\"attributes\":{},\"id\":\"1222\",\"type\":\"BasicTicker\"},{\"attributes\":{\"factors\":[\"AFR\",\"AMR\",\"EAS\",\"EUR\",\"SAS\",\"sportsman\"],\"palette\":[\"red\",\"yellow\",\"green\",\"blue\",\"purple\",\"orange\"]},\"id\":\"1002\",\"type\":\"CategoricalColorMapper\"},{\"attributes\":{\"bottom_units\":\"screen\",\"fill_alpha\":{\"value\":0.5},\"fill_color\":{\"value\":\"lightgrey\"},\"left_units\":\"screen\",\"level\":\"overlay\",\"line_alpha\":{\"value\":1.0},\"line_color\":{\"value\":\"black\"},\"line_dash\":[4,4],\"line_width\":{\"value\":2},\"render_mode\":\"css\",\"right_units\":\"screen\",\"top_units\":\"screen\"},\"id\":\"1226\",\"type\":\"BoxAnnotation\"},{\"attributes\":{},\"id\":\"1224\",\"type\":\"UnionRenderers\"},{\"attributes\":{\"axis_label\":\"PC1\",\"formatter\":{\"id\":\"1219\",\"type\":\"BasicTickFormatter\"},\"ticker\":{\"id\":\"1166\",\"type\":\"BasicTicker\"}},\"id\":\"1165\",\"type\":\"LinearAxis\"},{\"attributes\":{\"dimension\":1,\"ticker\":{\"id\":\"1171\",\"type\":\"BasicTicker\"}},\"id\":\"1174\",\"type\":\"Grid\"},{\"attributes\":{\"fill_color\":{\"field\":\"label\",\"transform\":{\"id\":\"1002\",\"type\":\"CategoricalColorMapper\"}},\"line_color\":{\"field\":\"label\",\"transform\":{\"id\":\"1002\",\"type\":\"CategoricalColorMapper\"}},\"x\":{\"field\":\"x\"},\"y\":{\"field\":\"y\"}},\"id\":\"1200\",\"type\":\"Circle\"},{\"attributes\":{\"ticker\":{\"id\":\"1166\",\"type\":\"BasicTicker\"}},\"id\":\"1169\",\"type\":\"Grid\"},{\"attributes\":{},\"id\":\"1225\",\"type\":\"Selection\"},{\"attributes\":{\"column_name\":\"label\",\"group\":\"sportsman\"},\"id\":\"1197\",\"type\":\"GroupFilter\"},{\"attributes\":{},\"id\":\"1166\",\"type\":\"BasicTicker\"},{\"attributes\":{\"column_name\":\"label\",\"group\":\"EUR\"},\"id\":\"1191\",\"type\":\"GroupFilter\"},{\"attributes\":{},\"id\":\"1171\",\"type\":\"BasicTicker\"},{\"attributes\":{},\"id\":\"1175\",\"type\":\"PanTool\"},{\"attributes\":{\"text\":\"PCA\"},\"id\":\"1155\",\"type\":\"Title\"},{\"attributes\":{\"fill_alpha\":{\"value\":0.1},\"fill_color\":{\"value\":\"#1f77b4\"},\"line_alpha\":{\"value\":0.1},\"line_color\":{\"value\":\"#1f77b4\"},\"x\":{\"field\":\"x\"},\"y\":{\"field\":\"y\"}},\"id\":\"1201\",\"type\":\"Circle\"},{\"attributes\":{\"data_source\":{\"id\":\"1190\",\"type\":\"ColumnDataSource\"},\"glyph\":{\"id\":\"1200\",\"type\":\"Circle\"},\"hover_glyph\":null,\"muted_glyph\":null,\"nonselection_glyph\":{\"id\":\"1201\",\"type\":\"Circle\"},\"selection_glyph\":null,\"view\":{\"id\":\"1198\",\"type\":\"CDSView\"}},\"id\":\"1202\",\"type\":\"GlyphRenderer\"},{\"attributes\":{\"filters\":[{\"id\":\"1191\",\"type\":\"GroupFilter\"}],\"source\":{\"id\":\"1190\",\"type\":\"ColumnDataSource\"}},\"id\":\"1192\",\"type\":\"CDSView\"},{\"attributes\":{},\"id\":\"1223\",\"type\":\"BasicTickFormatter\"},{\"attributes\":{},\"id\":\"1178\",\"type\":\"SaveTool\"},{\"attributes\":{\"click_policy\":\"hide\",\"items\":[{\"id\":\"1203\",\"type\":\"LegendItem\"},{\"id\":\"1204\",\"type\":\"LegendItem\"}]},\"id\":\"1205\",\"type\":\"Legend\"},{\"attributes\":{},\"id\":\"1161\",\"type\":\"LinearScale\"},{\"attributes\":{\"callback\":null},\"id\":\"1157\",\"type\":\"DataRange1d\"},{\"attributes\":{\"axis_label\":\"PC2\",\"formatter\":{\"id\":\"1221\",\"type\":\"BasicTickFormatter\"},\"ticker\":{\"id\":\"1171\",\"type\":\"BasicTicker\"}},\"id\":\"1170\",\"type\":\"LinearAxis\"},{\"attributes\":{\"callback\":null,\"data\":{\"index\":[0,1,2,3,4,5,6,7,8,9,10,11,12,13,14,15,16,17,18,19,20,21,22,23,24,25,26,27,28,29,30,31,32,33,34,35,36,37,38,39,40,41,42,43,44,45,46,47,48,49,50,51,52,53,54,55,56,57,58,59,60,61,62,63,64,65,66,67,68,69,70,71,72,73,74,75,76,77,78,79,80,81,82,83,84,85,86,87,88,89,90,91,92,93,94,95,96,97,98,99,100,101,102,103,104,105,106,107,108,109,110,111,112,113,114,115,116,117,118,119,120,121,122,123,124,125,126,127,128,129,130,131,132,133,134,135,136,137,138,139,140,141,142,143,144,145,146,147,148,149,150,151,152,153,154,155,156,157,158,159,160,161,162,163,164,165,166,167,168,169,170,171,172,173,174,175,176,177,178,179,180,181,182,183,184,185,186,187,188,189,190,191,192,193,194,195,196,197,198,199,200,201,202,203,204,205,206,207,208,209,210,211,212,213,214,215,216,217,218,219,220,221,222,223,224,225,226,227,228,229,230,231,232,233,234,235,236,237,238,239,240,241,242,243,244,245,246,247,248,249,250,251,252,253,254,255,256,257,258,259,260,261,262,263,264,265,266,267,268,269,270,271,272,273,274,275,276,277,278,279,280,281,282,283,284,285,286,287,288,289,290,291,292,293,294,295,296,297,298,299,300,301,302,303,304,305,306,307,308,309,310,311,312,313,314,315,316,317,318,319,320,321,322,323,324,325,326,327,328,329,330,331,332,333,334,335,336,337,338,339,340,341,342,343,344,345,346,347,348,349,350,351,352,353,354,355,356,357,358,359,360,361,362,363,364,365,366,367,368,369,370,371,372,373,374,375,376,377,378,379,380,381,382,383,384,385,386,387,388,389,390,391,392,393,394,395,396,397,398,399,400,401,402,403,404,405,406,407,408,409,410,411,412,413,414,415,416,417,418,419,420,421,422,423,424,425,426,427,428,429,430,431,432,433,434,435,436,437,438,439,440,441,442,443,444,445,446,447,448,449,450,451,452,453,454,455,456,457,458,459,460,461,462,463,464,465,466,467,468,469,470,471,472,473,474,475,476,477,478,479,480,481,482,483,484,485,486,487,488,489,490,491,492,493,494,495,496,497,498,499,500,501,502,503,504,505,506,507,508,509,510,511,512,513,514,515,516,517,518,519,520,521,522,523,524,525,526,527,528,529,530,531,532,533,534],\"label\":[\"EUR\",\"EUR\",\"EUR\",\"EUR\",\"EUR\",\"EUR\",\"EUR\",\"EUR\",\"EUR\",\"EUR\",\"EUR\",\"EUR\",\"EUR\",\"EUR\",\"EUR\",\"EUR\",\"EUR\",\"EUR\",\"EUR\",\"EUR\",\"EUR\",\"EUR\",\"EUR\",\"EUR\",\"EUR\",\"EUR\",\"EUR\",\"EUR\",\"EUR\",\"EUR\",\"EUR\",\"EUR\",\"EUR\",\"EUR\",\"EUR\",\"EUR\",\"sportsman\",\"EUR\",\"EUR\",\"EUR\",\"EUR\",\"EUR\",\"EUR\",\"EUR\",\"EUR\",\"EUR\",\"EUR\",\"EUR\",\"EUR\",\"EUR\",\"sportsman\",\"EUR\",\"EUR\",\"EUR\",\"EUR\",\"EUR\",\"EUR\",\"EUR\",\"EUR\",\"EUR\",\"EUR\",\"EUR\",\"EUR\",\"EUR\",\"sportsman\",\"EUR\",\"EUR\",\"EUR\",\"EUR\",\"EUR\",\"EUR\",\"EUR\",\"EUR\",\"EUR\",\"EUR\",\"EUR\",\"EUR\",\"EUR\",\"EUR\",\"EUR\",\"EUR\",\"EUR\",\"EUR\",\"EUR\",\"EUR\",\"EUR\",\"EUR\",\"EUR\",\"EUR\",\"EUR\",\"EUR\",\"EUR\",\"EUR\",\"EUR\",\"EUR\",\"EUR\",\"EUR\",\"EUR\",\"sportsman\",\"EUR\",\"sportsman\",\"EUR\",\"EUR\",\"EUR\",\"EUR\",\"EUR\",\"EUR\",\"EUR\",\"EUR\",\"EUR\",\"EUR\",\"EUR\",\"EUR\",\"EUR\",\"EUR\",\"EUR\",\"EUR\",\"EUR\",\"EUR\",\"EUR\",\"EUR\",\"sportsman\",\"EUR\",\"EUR\",\"EUR\",\"EUR\",\"EUR\",\"EUR\",\"EUR\",\"sportsman\",\"EUR\",\"EUR\",\"EUR\",\"EUR\",\"EUR\",\"EUR\",\"sportsman\",\"EUR\",\"EUR\",\"sportsman\",\"sportsman\",\"EUR\",\"sportsman\",\"EUR\",\"EUR\",\"sportsman\",\"sportsman\",\"EUR\",\"EUR\",\"EUR\",\"sportsman\",\"EUR\",\"sportsman\",\"EUR\",\"EUR\",\"sportsman\",\"EUR\",\"sportsman\",\"EUR\",\"EUR\",\"EUR\",\"sportsman\",\"EUR\",\"EUR\",\"sportsman\",\"EUR\",\"sportsman\",\"EUR\",\"sportsman\",\"EUR\",\"EUR\",\"EUR\",\"EUR\",\"EUR\",\"sportsman\",\"EUR\",\"sportsman\",\"EUR\",\"EUR\",\"EUR\",\"EUR\",\"EUR\",\"EUR\",\"sportsman\",\"EUR\",\"EUR\",\"sportsman\",\"sportsman\",\"EUR\",\"EUR\",\"sportsman\",\"sportsman\",\"EUR\",\"EUR\",\"sportsman\",\"sportsman\",\"EUR\",\"EUR\",\"EUR\",\"EUR\",\"EUR\",\"sportsman\",\"EUR\",\"EUR\",\"EUR\",\"EUR\",\"EUR\",\"EUR\",\"EUR\",\"EUR\",\"sportsman\",\"EUR\",\"EUR\",\"sportsman\",\"EUR\",\"EUR\",\"sportsman\",\"sportsman\",\"EUR\",\"EUR\",\"EUR\",\"EUR\",\"EUR\",\"EUR\",\"EUR\",\"EUR\",\"EUR\",\"sportsman\",\"EUR\",\"EUR\",\"sportsman\",\"EUR\",\"EUR\",\"EUR\",\"EUR\",\"EUR\",\"EUR\",\"EUR\",\"EUR\",\"EUR\",\"EUR\",\"EUR\",\"EUR\",\"EUR\",\"EUR\",\"EUR\",\"EUR\",\"EUR\",\"EUR\",\"sportsman\",\"sportsman\",\"sportsman\",\"sportsman\",\"sportsman\",\"EUR\",\"EUR\",\"EUR\",\"EUR\",\"EUR\",\"EUR\",\"EUR\",\"EUR\",\"sportsman\",\"EUR\",\"sportsman\",\"EUR\",\"sportsman\",\"EUR\",\"sportsman\",\"EUR\",\"sportsman\",\"EUR\",\"EUR\",\"EUR\",\"sportsman\",\"EUR\",\"EUR\",\"sportsman\",\"EUR\",\"EUR\",\"EUR\",\"EUR\",\"EUR\",\"sportsman\",\"EUR\",\"EUR\",\"EUR\",\"EUR\",\"EUR\",\"EUR\",\"sportsman\",\"sportsman\",\"sportsman\",\"EUR\",\"sportsman\",\"EUR\",\"sportsman\",\"EUR\",\"sportsman\",\"EUR\",\"sportsman\",\"EUR\",\"sportsman\",\"sportsman\",\"EUR\",\"EUR\",\"EUR\",\"EUR\",\"EUR\",\"EUR\",\"EUR\",\"EUR\",\"EUR\",\"sportsman\",\"sportsman\",\"EUR\",\"sportsman\",\"EUR\",\"EUR\",\"sportsman\",\"sportsman\",\"EUR\",\"EUR\",\"sportsman\",\"sportsman\",\"EUR\",\"EUR\",\"EUR\",\"EUR\",\"sportsman\",\"sportsman\",\"sportsman\",\"EUR\",\"EUR\",\"EUR\",\"sportsman\",\"sportsman\",\"sportsman\",\"EUR\",\"EUR\",\"EUR\",\"sportsman\",\"EUR\",\"EUR\",\"sportsman\",\"EUR\",\"EUR\",\"EUR\",\"EUR\",\"EUR\",\"EUR\",\"sportsman\",\"EUR\",\"EUR\",\"EUR\",\"sportsman\",\"EUR\",\"EUR\",\"EUR\",\"EUR\",\"EUR\",\"sportsman\",\"EUR\",\"EUR\",\"EUR\",\"EUR\",\"EUR\",\"EUR\",\"EUR\",\"sportsman\",\"sportsman\",\"sportsman\",\"EUR\",\"EUR\",\"EUR\",\"EUR\",\"EUR\",\"sportsman\",\"EUR\",\"EUR\",\"EUR\",\"EUR\",\"sportsman\",\"EUR\",\"EUR\",\"EUR\",\"EUR\",\"EUR\",\"EUR\",\"EUR\",\"sportsman\",\"sportsman\",\"EUR\",\"EUR\",\"EUR\",\"EUR\",\"EUR\",\"EUR\",\"EUR\",\"EUR\",\"EUR\",\"EUR\",\"EUR\",\"EUR\",\"EUR\",\"EUR\",\"EUR\",\"sportsman\",\"EUR\",\"EUR\",\"EUR\",\"EUR\",\"EUR\",\"sportsman\",\"EUR\",\"EUR\",\"EUR\",\"EUR\",\"EUR\",\"EUR\",\"EUR\",\"EUR\",\"EUR\",\"EUR\",\"EUR\",\"EUR\",\"sportsman\",\"EUR\",\"EUR\",\"EUR\",\"EUR\",\"EUR\",\"EUR\",\"EUR\",\"EUR\",\"EUR\",\"EUR\",\"EUR\",\"EUR\",\"EUR\",\"EUR\",\"EUR\",\"EUR\",\"EUR\",\"EUR\",\"EUR\",\"sportsman\",\"EUR\",\"EUR\",\"EUR\",\"EUR\",\"EUR\",\"EUR\",\"EUR\",\"EUR\",\"EUR\",\"EUR\",\"EUR\",\"EUR\",\"EUR\",\"EUR\",\"EUR\",\"EUR\",\"EUR\",\"EUR\",\"EUR\",\"EUR\",\"EUR\",\"sportsman\",\"EUR\",\"EUR\",\"sportsman\",\"EUR\",\"EUR\",\"EUR\",\"EUR\",\"EUR\",\"EUR\",\"EUR\",\"EUR\",\"EUR\",\"EUR\",\"EUR\",\"EUR\",\"EUR\",\"EUR\",\"EUR\",\"EUR\",\"sportsman\",\"EUR\",\"EUR\",\"EUR\",\"EUR\",\"EUR\",\"EUR\",\"EUR\",\"EUR\",\"EUR\",\"EUR\",\"EUR\",\"EUR\",\"EUR\",\"EUR\",\"EUR\",\"EUR\",\"EUR\",\"EUR\",\"EUR\",\"EUR\",\"EUR\",\"EUR\",\"EUR\",\"EUR\",\"EUR\",\"EUR\",\"EUR\",\"EUR\",\"EUR\",\"EUR\",\"EUR\",\"EUR\",\"EUR\",\"EUR\",\"EUR\",\"EUR\",\"EUR\",\"EUR\",\"EUR\",\"EUR\",\"EUR\",\"EUR\",\"EUR\",\"EUR\",\"EUR\",\"EUR\"],\"x\":{\"__ndarray__\":\"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\",\"dtype\":\"float64\",\"shape\":[535]},\"y\":{\"__ndarray__\":\"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\",\"dtype\":\"float64\",\"shape\":[535]}},\"selected\":{\"id\":\"1225\",\"type\":\"Selection\"},\"selection_policy\":{\"id\":\"1224\",\"type\":\"UnionRenderers\"}},\"id\":\"1190\",\"type\":\"ColumnDataSource\"},{\"attributes\":{\"overlay\":{\"id\":\"1226\",\"type\":\"BoxAnnotation\"}},\"id\":\"1177\",\"type\":\"BoxZoomTool\"},{\"attributes\":{\"label\":{\"value\":\"sportsman\"},\"renderers\":[{\"id\":\"1202\",\"type\":\"GlyphRenderer\"}]},\"id\":\"1204\",\"type\":\"LegendItem\"},{\"attributes\":{},\"id\":\"1219\",\"type\":\"BasicTickFormatter\"}],\"root_ids\":[\"1154\"]},\"title\":\"Bokeh Application\",\"version\":\"1.4.0\"}};\n",
       "  var render_items = [{\"docid\":\"b5e24afd-b984-4f0f-b26c-9d2971fe0c35\",\"roots\":{\"1154\":\"fa9537d8-5f71-4359-a6a8-aada209192be\"}}];\n",
       "  root.Bokeh.embed.embed_items_notebook(docs_json, render_items);\n",
       "\n",
       "  }\n",
       "  if (root.Bokeh !== undefined) {\n",
       "    embed_document(root);\n",
       "  } else {\n",
       "    var attempts = 0;\n",
       "    var timer = setInterval(function(root) {\n",
       "      if (root.Bokeh !== undefined) {\n",
       "        clearInterval(timer);\n",
       "        embed_document(root);\n",
       "      } else {\n",
       "        attempts++;\n",
       "        if (attempts > 100) {\n",
       "          clearInterval(timer);\n",
       "          console.log(\"Bokeh: ERROR: Unable to run BokehJS code because BokehJS library is missing\");\n",
       "        }\n",
       "      }\n",
       "    }, 10, root)\n",
       "  }\n",
       "})(window);"
      ],
      "application/vnd.bokehjs_exec.v0+json": ""
     },
     "metadata": {
      "application/vnd.bokehjs_exec.v0+json": {
       "id": "1154"
      }
     },
     "output_type": "display_data"
    }
   ],
   "source": [
    "p = hl.plot.scatter(mt_filter.scores[0],\n",
    "                    mt_filter.scores[1],\n",
    "                    label=mt_filter.pheno.super_pop,\n",
    "                    colors=mapper,\n",
    "                    title='PCA', xlabel='PC1', ylabel='PC2')\n",
    "show(p)"
   ]
  },
  {
   "cell_type": "code",
   "execution_count": 37,
   "id": "ef249a19-0c46-4ed1-92b8-34603963c979",
   "metadata": {},
   "outputs": [
    {
     "data": {
      "image/png": "[encoded data removed]",
      "text/plain": [
       "<Figure size 432x288 with 1 Axes>"
      ]
     },
     "metadata": {},
     "output_type": "display_data"
    },
    {
     "data": {
      "text/plain": [
       "<Figure size 432x288 with 0 Axes>"
      ]
     },
     "metadata": {},
     "output_type": "display_data"
    }
   ],
   "source": [
    "pca_filter_df = mt_filter.cols().flatten().to_pandas(flatten = True).rename(columns={'pheno.super_pop': 'super_pop'})\n",
    "pca_filter_df[['PC1','PC2', 'PC3','PC4', 'PC5', \n",
    "                      'PC6', 'PC7', 'PC8', 'PC9', 'PC10']] = pd.DataFrame(pca_filter_df.scores.tolist(), \n",
    "                                                                          index = pca_filter_df.index)\n",
    "\n",
    "colors = [\"blue\", \"orange\"]\n",
    "population = [\"EUR\", \"sportsman\"]\n",
    "\n",
    "# create plot for pc1 and pc2\n",
    "for col, pop in zip(colors, population):\n",
    "    plt.scatter(pca_filter_df[pca_filter_df.super_pop == pop]['PC1'],\n",
    "                pca_filter_df[pca_filter_df.super_pop == pop]['PC2'], \n",
    "                color = col, s = 5)\n",
    "plt.legend(population, loc = 'center left', bbox_to_anchor=(1, 0.5), title = \"Population\")\n",
    "plt.xlabel('PC1')\n",
    "plt.ylabel('PC2')\n",
    "plt.show()\n",
    "\n",
    "plt.savefig(\"/net/archive/groups/plggneuromol/matzieb/projects/imdik-zekanowski-sportwgs/results/prs-plots/pca-filter.svg\", \n",
    "            facecolor='white')"
   ]
  },
  {
   "cell_type": "code",
   "execution_count": 38,
   "id": "47a6f60b-520d-4e4d-a825-26db02b52a40",
   "metadata": {},
   "outputs": [
    {
     "name": "stderr",
     "output_type": "stream",
     "text": [
      "2022-02-11 16:42:53 Hail: INFO: hwe_normalize: found 22744 variants after filtering out monomorphic sites.\n",
      "2022-02-11 16:42:56 Hail: INFO: pca: running PCA with 10 components...12) / 327]\n",
      "[Stage 616:===================================================> (318 + 9) / 327]\r"
     ]
    }
   ],
   "source": [
    "eigenvalues_filter, pcs_filter, _ = hl.hwe_normalized_pca(mt_filter.GT)"
   ]
  },
  {
   "cell_type": "code",
   "execution_count": 39,
   "id": "ab929425-328a-4be7-a540-f284ec10909f",
   "metadata": {},
   "outputs": [
    {
     "name": "stdout",
     "output_type": "stream",
     "text": [
      "[2.893186787305392, 2.0144059758172506, 1.7109307821570474, 1.6607276439772813, 1.6420614758280916, 1.6287988341702049, 1.6223625694248265, 1.6158915940633052, 1.6082058266623955, 1.5904868100361393]\n"
     ]
    },
    {
     "data": {
      "text/html": [
       "<table><thead><tr><td style=\"white-space: nowrap; max-width: 500px; overflow: hidden; text-overflow: ellipsis; \" colspan=\"1\"><div style=\"text-align: left;\"></div></td><td style=\"white-space: nowrap; max-width: 500px; overflow: hidden; text-overflow: ellipsis; \" colspan=\"1\"><div style=\"text-align: left;\"></div></td></tr><tr><td style=\"white-space: nowrap; max-width: 500px; overflow: hidden; text-overflow: ellipsis; \" colspan=\"1\"><div style=\"text-align: left;border-bottom: solid 2px #000; padding-bottom: 5px\">s</div></td><td style=\"white-space: nowrap; max-width: 500px; overflow: hidden; text-overflow: ellipsis; \" colspan=\"1\"><div style=\"text-align: left;border-bottom: solid 2px #000; padding-bottom: 5px\">scores</div></td></tr><tr><td style=\"white-space: nowrap; max-width: 500px; overflow: hidden; text-overflow: ellipsis; text-align: left;\">str</td><td style=\"white-space: nowrap; max-width: 500px; overflow: hidden; text-overflow: ellipsis; text-align: left;\">array&lt;float64&gt;</td></tr>\n",
       "</thead><tbody><tr><td style=\"white-space: nowrap; max-width: 500px; overflow: hidden; text-overflow: ellipsis; \">&quot;B102&quot;</td><td style=\"white-space: nowrap; max-width: 500px; overflow: hidden; text-overflow: ellipsis; \">[-1,62e-01,3,53e-02,-8,02e-03,8,70e-03,5,85e-03,-2,89e-03,1,13e-02,-6,67e-03,-2,70e-03,9,47e-03]</td></tr>\n",
       "<tr><td style=\"white-space: nowrap; max-width: 500px; overflow: hidden; text-overflow: ellipsis; \">&quot;B156&quot;</td><td style=\"white-space: nowrap; max-width: 500px; overflow: hidden; text-overflow: ellipsis; \">[-1,30e-01,3,89e-02,-2,88e-03,9,33e-03,-2,50e-03,-7,83e-03,-5,48e-03,-2,94e-03,-1,16e-03,6,65e-03]</td></tr>\n",
       "<tr><td style=\"white-space: nowrap; max-width: 500px; overflow: hidden; text-overflow: ellipsis; \">&quot;B24&quot;</td><td style=\"white-space: nowrap; max-width: 500px; overflow: hidden; text-overflow: ellipsis; \">[-1,43e-01,4,61e-02,-7,98e-03,1,07e-02,-8,63e-03,-7,85e-03,-4,38e-03,2,32e-03,3,73e-03,-8,30e-03]</td></tr>\n",
       "<tr><td style=\"white-space: nowrap; max-width: 500px; overflow: hidden; text-overflow: ellipsis; \">&quot;B338&quot;</td><td style=\"white-space: nowrap; max-width: 500px; overflow: hidden; text-overflow: ellipsis; \">[-1,62e-01,4,09e-02,-6,82e-03,1,49e-03,-6,36e-03,-2,14e-03,4,59e-03,-4,07e-03,5,00e-03,-3,41e-03]</td></tr>\n",
       "<tr><td style=\"white-space: nowrap; max-width: 500px; overflow: hidden; text-overflow: ellipsis; \">&quot;B382&quot;</td><td style=\"white-space: nowrap; max-width: 500px; overflow: hidden; text-overflow: ellipsis; \">[-1,50e-01,3,63e-02,4,20e-03,5,20e-03,-3,00e-03,7,08e-03,4,41e-04,1,71e-03,-8,25e-04,2,11e-03]</td></tr>\n",
       "</tbody></table><p style=\"background: #fdd; padding: 0.4em;\">showing top 5 rows</p>\n"
      ],
      "text/plain": [
       "+--------+\n",
       "| s      |\n",
       "+--------+\n",
       "| str    |\n",
       "+--------+\n",
       "| \"B102\" |\n",
       "| \"B156\" |\n",
       "| \"B24\"  |\n",
       "| \"B338\" |\n",
       "| \"B382\" |\n",
       "+--------+\n",
       "\n",
       "+--------------------------------------------------------------------------------------------------+\n",
       "| scores                                                                                           |\n",
       "+--------------------------------------------------------------------------------------------------+\n",
       "| array<float64>                                                                                   |\n",
       "+--------------------------------------------------------------------------------------------------+\n",
       "| [-1,62e-01,3,53e-02,-8,02e-03,8,70e-03,5,85e-03,-2,89e-03,1,13e-02,-6,67e-03,-2,70e-03,9,47e-03] |\n",
       "| [-1,30e-01,3,89e-02,-2,88e-03,9,33e-03,-2,50e-03,-7,83e-03,-5,48e-03,-2,94e-03,-1,16e-03,6,65... |\n",
       "| [-1,43e-01,4,61e-02,-7,98e-03,1,07e-02,-8,63e-03,-7,85e-03,-4,38e-03,2,32e-03,3,73e-03,-8,30e... |\n",
       "| [-1,62e-01,4,09e-02,-6,82e-03,1,49e-03,-6,36e-03,-2,14e-03,4,59e-03,-4,07e-03,5,00e-03,-3,41e... |\n",
       "| [-1,50e-01,3,63e-02,4,20e-03,5,20e-03,-3,00e-03,7,08e-03,4,41e-04,1,71e-03,-8,25e-04,2,11e-03]   |\n",
       "+--------------------------------------------------------------------------------------------------+\n",
       "showing top 5 rows"
      ]
     },
     "metadata": {},
     "output_type": "display_data"
    }
   ],
   "source": [
    "print(eigenvalues_filter)\n",
    "pcs_filter.show(5, width=100)\n",
    "mt_second_pca = mt_filter.annotate_cols(scores = pcs_filter[mt_filter.s].scores)"
   ]
  },
  {
   "cell_type": "code",
   "execution_count": 40,
   "id": "95b6b1c0-fab7-4526-8cf7-21215c96602d",
   "metadata": {},
   "outputs": [
    {
     "data": {
      "text/html": [
       "\n",
       "\n",
       "\n",
       "\n",
       "\n",
       "\n",
       "  <div class=\"bk-root\" id=\"df161814-bc75-49e6-9b0d-eacb2522ea56\" data-root-id=\"1287\"></div>\n"
      ]
     },
     "metadata": {},
     "output_type": "display_data"
    },
    {
     "data": {
      "application/javascript": [
       "(function(root) {\n",
       "  function embed_document(root) {\n",
       "    \n",
       "  var docs_json = {\"50b1729c-8c26-4ec7-825e-695bb531340e\":{\"roots\":{\"references\":[{\"attributes\":{\"below\":[{\"id\":\"1298\",\"type\":\"LinearAxis\"}],\"center\":[{\"id\":\"1302\",\"type\":\"Grid\"},{\"id\":\"1307\",\"type\":\"Grid\"}],\"left\":[{\"id\":\"1303\",\"type\":\"LinearAxis\"},{\"id\":\"1338\",\"type\":\"Legend\"},{\"id\":\"1339\",\"type\":\"ColorBar\"}],\"plot_height\":800,\"plot_width\":800,\"renderers\":[{\"id\":\"1329\",\"type\":\"GlyphRenderer\"},{\"id\":\"1335\",\"type\":\"GlyphRenderer\"}],\"title\":{\"id\":\"1288\",\"type\":\"Title\"},\"toolbar\":{\"id\":\"1314\",\"type\":\"Toolbar\"},\"x_range\":{\"id\":\"1290\",\"type\":\"DataRange1d\"},\"x_scale\":{\"id\":\"1294\",\"type\":\"LinearScale\"},\"y_range\":{\"id\":\"1292\",\"type\":\"DataRange1d\"},\"y_scale\":{\"id\":\"1296\",\"type\":\"LinearScale\"}},\"id\":\"1287\",\"subtype\":\"Figure\",\"type\":\"Plot\"},{\"attributes\":{\"filters\":[{\"id\":\"1330\",\"type\":\"GroupFilter\"}],\"source\":{\"id\":\"1323\",\"type\":\"ColumnDataSource\"}},\"id\":\"1331\",\"type\":\"CDSView\"},{\"attributes\":{\"overlay\":{\"id\":\"1369\",\"type\":\"BoxAnnotation\"}},\"id\":\"1310\",\"type\":\"BoxZoomTool\"},{\"attributes\":{\"callback\":null,\"data\":{\"index\":[0,1,2,3,4,5,6,7,8,9,10,11,12,13,14,15,16,17,18,19,20,21,22,23,24,25,26,27,28,29,30,31,32,33,34,35,36,37,38,39,40,41,42,43,44,45,46,47,48,49,50,51,52,53,54,55,56,57,58,59,60,61,62,63,64,65,66,67,68,69,70,71,72,73,74,75,76,77,78,79,80,81,82,83,84,85,86,87,88,89,90,91,92,93,94,95,96,97,98,99,100,101,102,103,104,105,106,107,108,109,110,111,112,113,114,115,116,117,118,119,120,121,122,123,124,125,126,127,128,129,130,131,132,133,134,135,136,137,138,139,140,141,142,143,144,145,146,147,148,149,150,151,152,153,154,155,156,157,158,159,160,161,162,163,164,165,166,167,168,169,170,171,172,173,174,175,176,177,178,179,180,181,182,183,184,185,186,187,188,189,190,191,192,193,194,195,196,197,198,199,200,201,202,203,204,205,206,207,208,209,210,211,212,213,214,215,216,217,218,219,220,221,222,223,224,225,226,227,228,229,230,231,232,233,234,235,236,237,238,239,240,241,242,243,244,245,246,247,248,249,250,251,252,253,254,255,256,257,258,259,260,261,262,263,264,265,266,267,268,269,270,271,272,273,274,275,276,277,278,279,280,281,282,283,284,285,286,287,288,289,290,291,292,293,294,295,296,297,298,299,300,301,302,303,304,305,306,307,308,309,310,311,312,313,314,315,316,317,318,319,320,321,322,323,324,325,326,327,328,329,330,331,332,333,334,335,336,337,338,339,340,341,342,343,344,345,346,347,348,349,350,351,352,353,354,355,356,357,358,359,360,361,362,363,364,365,366,367,368,369,370,371,372,373,374,375,376,377,378,379,380,381,382,383,384,385,386,387,388,389,390,391,392,393,394,395,396,397,398,399,400,401,402,403,404,405,406,407,408,409,410,411,412,413,414,415,416,417,418,419,420,421,422,423,424,425,426,427,428,429,430,431,432,433,434,435,436,437,438,439,440,441,442,443,444,445,446,447,448,449,450,451,452,453,454,455,456,457,458,459,460,461,462,463,464,465,466,467,468,469,470,471,472,473,474,475,476,477,478,479,480,481,482,483,484,485,486,487,488,489,490,491,492,493,494,495,496,497,498,499,500,501,502,503,504,505,506,507,508,509,510,511,512],\"label\":[\"EUR\",\"EUR\",\"EUR\",\"EUR\",\"EUR\",\"EUR\",\"EUR\",\"EUR\",\"EUR\",\"EUR\",\"EUR\",\"EUR\",\"EUR\",\"EUR\",\"EUR\",\"EUR\",\"EUR\",\"EUR\",\"EUR\",\"EUR\",\"EUR\",\"EUR\",\"EUR\",\"EUR\",\"EUR\",\"EUR\",\"EUR\",\"EUR\",\"EUR\",\"EUR\",\"EUR\",\"EUR\",\"EUR\",\"EUR\",\"EUR\",\"EUR\",\"EUR\",\"EUR\",\"EUR\",\"EUR\",\"EUR\",\"EUR\",\"EUR\",\"EUR\",\"EUR\",\"EUR\",\"EUR\",\"EUR\",\"EUR\",\"EUR\",\"EUR\",\"EUR\",\"EUR\",\"EUR\",\"EUR\",\"EUR\",\"EUR\",\"EUR\",\"EUR\",\"EUR\",\"EUR\",\"EUR\",\"EUR\",\"EUR\",\"EUR\",\"EUR\",\"EUR\",\"EUR\",\"EUR\",\"EUR\",\"EUR\",\"EUR\",\"EUR\",\"EUR\",\"EUR\",\"EUR\",\"EUR\",\"EUR\",\"EUR\",\"EUR\",\"EUR\",\"EUR\",\"EUR\",\"EUR\",\"EUR\",\"EUR\",\"EUR\",\"EUR\",\"EUR\",\"EUR\",\"EUR\",\"EUR\",\"EUR\",\"EUR\",\"EUR\",\"EUR\",\"EUR\",\"EUR\",\"EUR\",\"EUR\",\"EUR\",\"EUR\",\"EUR\",\"EUR\",\"EUR\",\"EUR\",\"EUR\",\"EUR\",\"EUR\",\"EUR\",\"EUR\",\"EUR\",\"EUR\",\"EUR\",\"EUR\",\"EUR\",\"EUR\",\"EUR\",\"EUR\",\"EUR\",\"EUR\",\"EUR\",\"EUR\",\"EUR\",\"EUR\",\"EUR\",\"EUR\",\"EUR\",\"EUR\",\"EUR\",\"EUR\",\"EUR\",\"EUR\",\"EUR\",\"EUR\",\"EUR\",\"EUR\",\"EUR\",\"EUR\",\"EUR\",\"EUR\",\"EUR\",\"EUR\",\"EUR\",\"EUR\",\"EUR\",\"EUR\",\"EUR\",\"EUR\",\"EUR\",\"EUR\",\"EUR\",\"EUR\",\"EUR\",\"EUR\",\"EUR\",\"EUR\",\"EUR\",\"EUR\",\"EUR\",\"EUR\",\"EUR\",\"EUR\",\"EUR\",\"EUR\",\"EUR\",\"EUR\",\"EUR\",\"EUR\",\"EUR\",\"EUR\",\"EUR\",\"EUR\",\"EUR\",\"EUR\",\"EUR\",\"EUR\",\"EUR\",\"EUR\",\"EUR\",\"EUR\",\"EUR\",\"EUR\",\"EUR\",\"EUR\",\"EUR\",\"EUR\",\"EUR\",\"EUR\",\"EUR\",\"EUR\",\"EUR\",\"EUR\",\"EUR\",\"EUR\",\"EUR\",\"EUR\",\"EUR\",\"EUR\",\"EUR\",\"EUR\",\"EUR\",\"EUR\",\"EUR\",\"EUR\",\"EUR\",\"EUR\",\"EUR\",\"EUR\",\"EUR\",\"EUR\",\"EUR\",\"EUR\",\"EUR\",\"EUR\",\"EUR\",\"EUR\",\"EUR\",\"EUR\",\"EUR\",\"EUR\",\"EUR\",\"EUR\",\"EUR\",\"EUR\",\"EUR\",\"EUR\",\"EUR\",\"EUR\",\"EUR\",\"EUR\",\"EUR\",\"EUR\",\"EUR\",\"EUR\",\"EUR\",\"EUR\",\"EUR\",\"EUR\",\"EUR\",\"EUR\",\"EUR\",\"EUR\",\"EUR\",\"EUR\",\"EUR\",\"EUR\",\"EUR\",\"EUR\",\"EUR\",\"EUR\",\"EUR\",\"EUR\",\"EUR\",\"EUR\",\"EUR\",\"EUR\",\"EUR\",\"EUR\",\"EUR\",\"EUR\",\"EUR\",\"EUR\",\"EUR\",\"sportsman\",\"EUR\",\"EUR\",\"EUR\",\"EUR\",\"EUR\",\"EUR\",\"EUR\",\"EUR\",\"EUR\",\"EUR\",\"EUR\",\"EUR\",\"sportsman\",\"sportsman\",\"EUR\",\"EUR\",\"EUR\",\"EUR\",\"EUR\",\"EUR\",\"sportsman\",\"sportsman\",\"sportsman\",\"sportsman\",\"EUR\",\"EUR\",\"sportsman\",\"sportsman\",\"EUR\",\"EUR\",\"sportsman\",\"sportsman\",\"sportsman\",\"EUR\",\"EUR\",\"EUR\",\"EUR\",\"EUR\",\"EUR\",\"sportsman\",\"EUR\",\"EUR\",\"EUR\",\"sportsman\",\"sportsman\",\"sportsman\",\"EUR\",\"EUR\",\"sportsman\",\"sportsman\",\"EUR\",\"EUR\",\"sportsman\",\"sportsman\",\"EUR\",\"EUR\",\"sportsman\",\"sportsman\",\"EUR\",\"EUR\",\"sportsman\",\"sportsman\",\"EUR\",\"sportsman\",\"sportsman\",\"EUR\",\"sportsman\",\"sportsman\",\"sportsman\",\"sportsman\",\"EUR\",\"sportsman\",\"EUR\",\"sportsman\",\"sportsman\",\"sportsman\",\"EUR\",\"sportsman\",\"sportsman\",\"EUR\",\"sportsman\",\"EUR\",\"sportsman\",\"sportsman\",\"EUR\",\"EUR\",\"EUR\",\"sportsman\",\"sportsman\",\"sportsman\",\"sportsman\",\"sportsman\",\"sportsman\",\"sportsman\",\"EUR\",\"EUR\",\"sportsman\",\"EUR\",\"EUR\",\"EUR\",\"sportsman\",\"sportsman\",\"EUR\",\"sportsman\",\"sportsman\",\"sportsman\",\"EUR\",\"sportsman\",\"EUR\",\"EUR\",\"sportsman\",\"sportsman\",\"EUR\",\"EUR\",\"sportsman\",\"sportsman\",\"sportsman\",\"sportsman\",\"EUR\",\"EUR\",\"EUR\",\"EUR\",\"EUR\",\"sportsman\",\"EUR\",\"sportsman\",\"sportsman\",\"sportsman\",\"EUR\",\"EUR\",\"EUR\",\"sportsman\",\"sportsman\",\"EUR\",\"EUR\",\"EUR\",\"EUR\",\"EUR\",\"EUR\",\"sportsman\",\"EUR\",\"EUR\",\"EUR\",\"sportsman\",\"EUR\",\"sportsman\",\"sportsman\",\"sportsman\",\"EUR\",\"sportsman\",\"sportsman\",\"sportsman\",\"EUR\",\"sportsman\",\"EUR\",\"sportsman\",\"EUR\",\"EUR\",\"EUR\",\"EUR\",\"EUR\",\"EUR\",\"sportsman\",\"EUR\",\"EUR\",\"EUR\",\"EUR\",\"sportsman\",\"sportsman\",\"sportsman\",\"sportsman\",\"EUR\",\"EUR\",\"EUR\",\"EUR\",\"EUR\",\"EUR\",\"EUR\",\"EUR\",\"EUR\",\"EUR\",\"EUR\",\"sportsman\",\"EUR\",\"EUR\",\"sportsman\",\"EUR\",\"EUR\",\"EUR\",\"EUR\",\"EUR\",\"EUR\",\"EUR\",\"sportsman\",\"EUR\",\"EUR\",\"EUR\",\"EUR\",\"sportsman\",\"EUR\",\"EUR\",\"EUR\",\"EUR\",\"sportsman\",\"EUR\",\"sportsman\",\"EUR\",\"EUR\",\"EUR\",\"EUR\",\"EUR\",\"EUR\",\"EUR\",\"EUR\",\"EUR\",\"EUR\",\"EUR\",\"EUR\",\"EUR\",\"EUR\",\"EUR\",\"EUR\",\"EUR\",\"EUR\",\"EUR\",\"EUR\",\"EUR\",\"EUR\",\"EUR\",\"EUR\",\"EUR\",\"EUR\",\"EUR\",\"EUR\",\"EUR\",\"EUR\",\"EUR\",\"EUR\",\"EUR\",\"EUR\",\"EUR\",\"EUR\",\"EUR\",\"EUR\",\"EUR\",\"EUR\",\"EUR\",\"EUR\"],\"x\":{\"__ndarray__\":\"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\",\"dtype\":\"float64\",\"shape\":[513]},\"y\":{\"__ndarray__\":\"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\",\"dtype\":\"float64\",\"shape\":[513]}},\"selected\":{\"id\":\"1368\",\"type\":\"Selection\"},\"selection_policy\":{\"id\":\"1367\",\"type\":\"UnionRenderers\"}},\"id\":\"1323\",\"type\":\"ColumnDataSource\"},{\"attributes\":{\"column_name\":\"label\",\"group\":\"EUR\"},\"id\":\"1324\",\"type\":\"GroupFilter\"},{\"attributes\":{\"label\":{\"value\":\"sportsman\"},\"renderers\":[{\"id\":\"1335\",\"type\":\"GlyphRenderer\"}]},\"id\":\"1337\",\"type\":\"LegendItem\"},{\"attributes\":{},\"id\":\"1308\",\"type\":\"PanTool\"},{\"attributes\":{},\"id\":\"1309\",\"type\":\"WheelZoomTool\"},{\"attributes\":{},\"id\":\"1367\",\"type\":\"UnionRenderers\"},{\"attributes\":{\"callback\":null},\"id\":\"1290\",\"type\":\"DataRange1d\"},{\"attributes\":{},\"id\":\"1365\",\"type\":\"BasicTicker\"},{\"attributes\":{\"ticker\":{\"id\":\"1299\",\"type\":\"BasicTicker\"}},\"id\":\"1302\",\"type\":\"Grid\"},{\"attributes\":{},\"id\":\"1312\",\"type\":\"ResetTool\"},{\"attributes\":{},\"id\":\"1364\",\"type\":\"BasicTickFormatter\"},{\"attributes\":{\"fill_alpha\":{\"value\":0.1},\"fill_color\":{\"value\":\"#1f77b4\"},\"line_alpha\":{\"value\":0.1},\"line_color\":{\"value\":\"#1f77b4\"},\"x\":{\"field\":\"x\"},\"y\":{\"field\":\"y\"}},\"id\":\"1328\",\"type\":\"Circle\"},{\"attributes\":{},\"id\":\"1304\",\"type\":\"BasicTicker\"},{\"attributes\":{\"fill_color\":{\"field\":\"label\",\"transform\":{\"id\":\"1002\",\"type\":\"CategoricalColorMapper\"}},\"line_color\":{\"field\":\"label\",\"transform\":{\"id\":\"1002\",\"type\":\"CategoricalColorMapper\"}},\"x\":{\"field\":\"x\"},\"y\":{\"field\":\"y\"}},\"id\":\"1327\",\"type\":\"Circle\"},{\"attributes\":{\"data_source\":{\"id\":\"1323\",\"type\":\"ColumnDataSource\"},\"glyph\":{\"id\":\"1327\",\"type\":\"Circle\"},\"hover_glyph\":null,\"muted_glyph\":null,\"nonselection_glyph\":{\"id\":\"1328\",\"type\":\"Circle\"},\"selection_glyph\":null,\"view\":{\"id\":\"1325\",\"type\":\"CDSView\"}},\"id\":\"1329\",\"type\":\"GlyphRenderer\"},{\"attributes\":{\"text\":\"PCA\"},\"id\":\"1288\",\"type\":\"Title\"},{\"attributes\":{},\"id\":\"1313\",\"type\":\"HelpTool\"},{\"attributes\":{\"label\":{\"value\":\"EUR\"},\"renderers\":[{\"id\":\"1329\",\"type\":\"GlyphRenderer\"}]},\"id\":\"1336\",\"type\":\"LegendItem\"},{\"attributes\":{},\"id\":\"1311\",\"type\":\"SaveTool\"},{\"attributes\":{\"factors\":[\"AFR\",\"AMR\",\"EAS\",\"EUR\",\"SAS\",\"sportsman\"],\"palette\":[\"red\",\"yellow\",\"green\",\"blue\",\"purple\",\"orange\"]},\"id\":\"1002\",\"type\":\"CategoricalColorMapper\"},{\"attributes\":{\"active_drag\":\"auto\",\"active_inspect\":\"auto\",\"active_multi\":null,\"active_scroll\":\"auto\",\"active_tap\":\"auto\",\"tools\":[{\"id\":\"1308\",\"type\":\"PanTool\"},{\"id\":\"1309\",\"type\":\"WheelZoomTool\"},{\"id\":\"1310\",\"type\":\"BoxZoomTool\"},{\"id\":\"1311\",\"type\":\"SaveTool\"},{\"id\":\"1312\",\"type\":\"ResetTool\"},{\"id\":\"1313\",\"type\":\"HelpTool\"},{\"id\":\"1322\",\"type\":\"HoverTool\"}]},\"id\":\"1314\",\"type\":\"Toolbar\"},{\"attributes\":{\"color_mapper\":null,\"formatter\":{\"id\":\"1366\",\"type\":\"BasicTickFormatter\"},\"ticker\":{\"id\":\"1365\",\"type\":\"BasicTicker\"},\"visible\":false},\"id\":\"1339\",\"type\":\"ColorBar\"},{\"attributes\":{\"axis_label\":\"PC2\",\"formatter\":{\"id\":\"1362\",\"type\":\"BasicTickFormatter\"},\"ticker\":{\"id\":\"1299\",\"type\":\"BasicTicker\"}},\"id\":\"1298\",\"type\":\"LinearAxis\"},{\"attributes\":{\"axis_label\":\"PC3\",\"formatter\":{\"id\":\"1364\",\"type\":\"BasicTickFormatter\"},\"ticker\":{\"id\":\"1304\",\"type\":\"BasicTicker\"}},\"id\":\"1303\",\"type\":\"LinearAxis\"},{\"attributes\":{},\"id\":\"1366\",\"type\":\"BasicTickFormatter\"},{\"attributes\":{},\"id\":\"1299\",\"type\":\"BasicTicker\"},{\"attributes\":{\"bottom_units\":\"screen\",\"fill_alpha\":{\"value\":0.5},\"fill_color\":{\"value\":\"lightgrey\"},\"left_units\":\"screen\",\"level\":\"overlay\",\"line_alpha\":{\"value\":1.0},\"line_color\":{\"value\":\"black\"},\"line_dash\":[4,4],\"line_width\":{\"value\":2},\"render_mode\":\"css\",\"right_units\":\"screen\",\"top_units\":\"screen\"},\"id\":\"1369\",\"type\":\"BoxAnnotation\"},{\"attributes\":{\"fill_color\":{\"field\":\"label\",\"transform\":{\"id\":\"1002\",\"type\":\"CategoricalColorMapper\"}},\"line_color\":{\"field\":\"label\",\"transform\":{\"id\":\"1002\",\"type\":\"CategoricalColorMapper\"}},\"x\":{\"field\":\"x\"},\"y\":{\"field\":\"y\"}},\"id\":\"1333\",\"type\":\"Circle\"},{\"attributes\":{},\"id\":\"1362\",\"type\":\"BasicTickFormatter\"},{\"attributes\":{\"column_name\":\"label\",\"group\":\"sportsman\"},\"id\":\"1330\",\"type\":\"GroupFilter\"},{\"attributes\":{\"callback\":null,\"tooltips\":[[\"x\",\"@x\"],[\"y\",\"@y\"],[\"label\",\"@label\"]]},\"id\":\"1322\",\"type\":\"HoverTool\"},{\"attributes\":{},\"id\":\"1368\",\"type\":\"Selection\"},{\"attributes\":{\"callback\":null},\"id\":\"1292\",\"type\":\"DataRange1d\"},{\"attributes\":{\"fill_alpha\":{\"value\":0.1},\"fill_color\":{\"value\":\"#1f77b4\"},\"line_alpha\":{\"value\":0.1},\"line_color\":{\"value\":\"#1f77b4\"},\"x\":{\"field\":\"x\"},\"y\":{\"field\":\"y\"}},\"id\":\"1334\",\"type\":\"Circle\"},{\"attributes\":{\"data_source\":{\"id\":\"1323\",\"type\":\"ColumnDataSource\"},\"glyph\":{\"id\":\"1333\",\"type\":\"Circle\"},\"hover_glyph\":null,\"muted_glyph\":null,\"nonselection_glyph\":{\"id\":\"1334\",\"type\":\"Circle\"},\"selection_glyph\":null,\"view\":{\"id\":\"1331\",\"type\":\"CDSView\"}},\"id\":\"1335\",\"type\":\"GlyphRenderer\"},{\"attributes\":{\"filters\":[{\"id\":\"1324\",\"type\":\"GroupFilter\"}],\"source\":{\"id\":\"1323\",\"type\":\"ColumnDataSource\"}},\"id\":\"1325\",\"type\":\"CDSView\"},{\"attributes\":{\"click_policy\":\"hide\",\"items\":[{\"id\":\"1336\",\"type\":\"LegendItem\"},{\"id\":\"1337\",\"type\":\"LegendItem\"}]},\"id\":\"1338\",\"type\":\"Legend\"},{\"attributes\":{},\"id\":\"1296\",\"type\":\"LinearScale\"},{\"attributes\":{},\"id\":\"1294\",\"type\":\"LinearScale\"},{\"attributes\":{\"dimension\":1,\"ticker\":{\"id\":\"1304\",\"type\":\"BasicTicker\"}},\"id\":\"1307\",\"type\":\"Grid\"}],\"root_ids\":[\"1287\"]},\"title\":\"Bokeh Application\",\"version\":\"1.4.0\"}};\n",
       "  var render_items = [{\"docid\":\"50b1729c-8c26-4ec7-825e-695bb531340e\",\"roots\":{\"1287\":\"df161814-bc75-49e6-9b0d-eacb2522ea56\"}}];\n",
       "  root.Bokeh.embed.embed_items_notebook(docs_json, render_items);\n",
       "\n",
       "  }\n",
       "  if (root.Bokeh !== undefined) {\n",
       "    embed_document(root);\n",
       "  } else {\n",
       "    var attempts = 0;\n",
       "    var timer = setInterval(function(root) {\n",
       "      if (root.Bokeh !== undefined) {\n",
       "        clearInterval(timer);\n",
       "        embed_document(root);\n",
       "      } else {\n",
       "        attempts++;\n",
       "        if (attempts > 100) {\n",
       "          clearInterval(timer);\n",
       "          console.log(\"Bokeh: ERROR: Unable to run BokehJS code because BokehJS library is missing\");\n",
       "        }\n",
       "      }\n",
       "    }, 10, root)\n",
       "  }\n",
       "})(window);"
      ],
      "application/vnd.bokehjs_exec.v0+json": ""
     },
     "metadata": {
      "application/vnd.bokehjs_exec.v0+json": {
       "id": "1287"
      }
     },
     "output_type": "display_data"
    }
   ],
   "source": [
    "plot_second_pca = hl.plot.scatter(mt_second_pca.scores[1],\n",
    "                                    mt_second_pca.scores[2],\n",
    "                                    label=mt_second_pca.pheno.super_pop,\n",
    "                                    colors=mapper,\n",
    "                                    title='PCA', xlabel='PC2', ylabel='PC3')\n",
    "show(plot_second_pca)"
   ]
  },
  {
   "cell_type": "code",
   "execution_count": 44,
   "id": "a58782ce-7295-43f8-8c2f-719a9946c499",
   "metadata": {},
   "outputs": [
    {
     "name": "stderr",
     "output_type": "stream",
     "text": [
      "2022-02-11 17:05:31 Hail: INFO: Coerced sorted dataset\n"
     ]
    },
    {
     "data": {
      "image/png": "[encoded data removed]",
      "text/plain": [
       "<Figure size 432x288 with 1 Axes>"
      ]
     },
     "metadata": {},
     "output_type": "display_data"
    },
    {
     "data": {
      "text/plain": [
       "<Figure size 432x288 with 0 Axes>"
      ]
     },
     "metadata": {},
     "output_type": "display_data"
    }
   ],
   "source": [
    "second_pca_df = mt_second_pca.cols().flatten().to_pandas(flatten = True).rename(columns={'pheno.super_pop': 'super_pop'})\n",
    "second_pca_df[['PC1','PC2', 'PC3','PC4', 'PC5', \n",
    "                      'PC6', 'PC7', 'PC8', 'PC9', 'PC10']] = pd.DataFrame(second_pca_df.scores.tolist(), \n",
    "                                                                          index = second_pca_df.index)\n",
    "\n",
    "# create plot for pc2 and pc3\n",
    "for col, pop in zip(colors, population):\n",
    "    plt.scatter(second_pca_df[second_pca_df.super_pop == pop]['PC2'],\n",
    "                second_pca_df[second_pca_df.super_pop == pop]['PC3'], \n",
    "                color = col, s = 5)\n",
    "plt.legend(population, loc = 'center left', bbox_to_anchor=(1, 0.5), title = \"Population\")\n",
    "plt.xlabel('PC2')\n",
    "plt.ylabel('PC3')\n",
    "plt.show()\n",
    "\n",
    "\n",
    "plt.savefig(\"/net/archive/groups/plggneuromol/matzieb/projects/imdik-zekanowski-sportwgs/results/prs-plots/second-pca.svg\", \n",
    "            facecolor='white')"
   ]
  },
  {
   "cell_type": "code",
   "execution_count": 45,
   "id": "a910658b-d529-41ff-a81f-6eda21f091b9",
   "metadata": {},
   "outputs": [],
   "source": [
    "mad_second_pc2 = hl.median(\n",
    "    hl.abs(\n",
    "        hl.median(\n",
    "            mt_second_pca.filter_cols(mt_second_pca.pheno.super_pop == \"sportsman\")\n",
    "            .scores[1].collect())-mt_second_pca.filter_cols(mt_second_pca.pheno.super_pop==\"sportsman\")\n",
    "        .scores[1]\n",
    "    ).collect())\n",
    "mad_second_pc3 =  hl.median(\n",
    "    hl.abs(\n",
    "        hl.median(\n",
    "            mt_second_pca.filter_cols(mt_second_pca.pheno.super_pop == \"sportsman\")\n",
    "            .scores[2].collect())-mt_second_pca.filter_cols(mt_second_pca.pheno.super_pop==\"sportsman\")\n",
    "        .scores[2]\n",
    "    ).collect())"
   ]
  },
  {
   "cell_type": "code",
   "execution_count": 46,
   "id": "497e4002-6f8a-4cb2-b58c-3732a565a4e5",
   "metadata": {},
   "outputs": [
    {
     "data": {
      "text/html": [
       "<table><thead><tr><td style=\"white-space: nowrap; max-width: 500px; overflow: hidden; text-overflow: ellipsis; \" colspan=\"1\"><div style=\"text-align: left;\"></div></td></tr><tr><td style=\"white-space: nowrap; max-width: 500px; overflow: hidden; text-overflow: ellipsis; \" colspan=\"1\"><div style=\"text-align: left;border-bottom: solid 2px #000; padding-bottom: 5px\"><expr></div></td></tr><tr><td style=\"white-space: nowrap; max-width: 500px; overflow: hidden; text-overflow: ellipsis; text-align: left;\">float64</td></tr>\n",
       "</thead><tbody><tr><td style=\"white-space: nowrap; max-width: 500px; overflow: hidden; text-overflow: ellipsis; \">5,58e-03</td></tr>\n",
       "</tbody></table>"
      ],
      "text/plain": [
       "+----------+\n",
       "|   <expr> |\n",
       "+----------+\n",
       "|  float64 |\n",
       "+----------+\n",
       "| 5,58e-03 |\n",
       "+----------+"
      ]
     },
     "metadata": {},
     "output_type": "display_data"
    },
    {
     "data": {
      "text/html": [
       "<table><thead><tr><td style=\"white-space: nowrap; max-width: 500px; overflow: hidden; text-overflow: ellipsis; \" colspan=\"1\"><div style=\"text-align: left;\"></div></td></tr><tr><td style=\"white-space: nowrap; max-width: 500px; overflow: hidden; text-overflow: ellipsis; \" colspan=\"1\"><div style=\"text-align: left;border-bottom: solid 2px #000; padding-bottom: 5px\"><expr></div></td></tr><tr><td style=\"white-space: nowrap; max-width: 500px; overflow: hidden; text-overflow: ellipsis; text-align: left;\">float64</td></tr>\n",
       "</thead><tbody><tr><td style=\"white-space: nowrap; max-width: 500px; overflow: hidden; text-overflow: ellipsis; \">4,30e-03</td></tr>\n",
       "</tbody></table>"
      ],
      "text/plain": [
       "+----------+\n",
       "|   <expr> |\n",
       "+----------+\n",
       "|  float64 |\n",
       "+----------+\n",
       "| 4,30e-03 |\n",
       "+----------+"
      ]
     },
     "metadata": {},
     "output_type": "display_data"
    }
   ],
   "source": [
    "mad_second_pc2.show()\n",
    "mad_second_pc3.show()"
   ]
  },
  {
   "cell_type": "code",
   "execution_count": 47,
   "id": "342aed2f-2b0a-42a7-979e-f083b36b96d2",
   "metadata": {},
   "outputs": [],
   "source": [
    "# filter data near MAD for sportsmen\n",
    "mt_second_filter = mt_second_pca.filter_cols(\n",
    "    (mt_second_pca.scores[1] > hl.median(mt_second_pca.filter_cols(mt_second_pca.pheno.super_pop==\"sportsman\").scores[1].collect()) - 5*mad_second_pc2) &\n",
    "    (mt_second_pca.scores[1] < hl.median(mt_second_pca.filter_cols(mt_second_pca.pheno.super_pop==\"sportsman\").scores[1].collect()) + 5*mad_second_pc2) &\n",
    "    (mt_second_pca.scores[2] > hl.median(mt_second_pca.filter_cols(mt_second_pca.pheno.super_pop==\"sportsman\").scores[2].collect()) - 5*mad_second_pc3) &\n",
    "    (mt_second_pca.scores[2] < hl.median(mt_second_pca.filter_cols(mt_second_pca.pheno.super_pop==\"sportsman\").scores[2].collect()) + 5*mad_second_pc3)\n",
    ")\n"
   ]
  },
  {
   "cell_type": "code",
   "execution_count": 48,
   "id": "68670f2a-6a75-420f-9cd7-900d0e1e31b7",
   "metadata": {},
   "outputs": [
    {
     "data": {
      "text/plain": [
       "(78280, 198)"
      ]
     },
     "execution_count": 48,
     "metadata": {},
     "output_type": "execute_result"
    }
   ],
   "source": [
    "mt_second_filter.count()"
   ]
  },
  {
   "cell_type": "code",
   "execution_count": 49,
   "id": "bf353e1c-ed50-441d-89a6-42714458588d",
   "metadata": {},
   "outputs": [
    {
     "data": {
      "text/plain": [
       "frozendict({'EUR': 98, 'sportsman': 100})"
      ]
     },
     "execution_count": 49,
     "metadata": {},
     "output_type": "execute_result"
    }
   ],
   "source": [
    "mt_second_filter.aggregate_cols(hl.agg.counter(mt_second_filter.pheno.super_pop))"
   ]
  },
  {
   "cell_type": "code",
   "execution_count": 50,
   "id": "23927056-d563-4ad3-bce8-1ab625a338c2",
   "metadata": {},
   "outputs": [
    {
     "data": {
      "text/html": [
       "\n",
       "\n",
       "\n",
       "\n",
       "\n",
       "\n",
       "  <div class=\"bk-root\" id=\"c42e291d-42d5-4e36-939d-460665d9bdf4\" data-root-id=\"1430\"></div>\n"
      ]
     },
     "metadata": {},
     "output_type": "display_data"
    },
    {
     "data": {
      "application/javascript": [
       "(function(root) {\n",
       "  function embed_document(root) {\n",
       "    \n",
       "  var docs_json = {\"888e88b6-b023-4880-8c5c-b20d4c2a375b\":{\"roots\":{\"references\":[{\"attributes\":{\"below\":[{\"id\":\"1441\",\"type\":\"LinearAxis\"}],\"center\":[{\"id\":\"1445\",\"type\":\"Grid\"},{\"id\":\"1450\",\"type\":\"Grid\"}],\"left\":[{\"id\":\"1446\",\"type\":\"LinearAxis\"},{\"id\":\"1481\",\"type\":\"Legend\"},{\"id\":\"1482\",\"type\":\"ColorBar\"}],\"plot_height\":800,\"plot_width\":800,\"renderers\":[{\"id\":\"1472\",\"type\":\"GlyphRenderer\"},{\"id\":\"1478\",\"type\":\"GlyphRenderer\"}],\"title\":{\"id\":\"1431\",\"type\":\"Title\"},\"toolbar\":{\"id\":\"1457\",\"type\":\"Toolbar\"},\"x_range\":{\"id\":\"1433\",\"type\":\"DataRange1d\"},\"x_scale\":{\"id\":\"1437\",\"type\":\"LinearScale\"},\"y_range\":{\"id\":\"1435\",\"type\":\"DataRange1d\"},\"y_scale\":{\"id\":\"1439\",\"type\":\"LinearScale\"}},\"id\":\"1430\",\"subtype\":\"Figure\",\"type\":\"Plot\"},{\"attributes\":{},\"id\":\"1519\",\"type\":\"BasicTickFormatter\"},{\"attributes\":{\"filters\":[{\"id\":\"1473\",\"type\":\"GroupFilter\"}],\"source\":{\"id\":\"1466\",\"type\":\"ColumnDataSource\"}},\"id\":\"1474\",\"type\":\"CDSView\"},{\"attributes\":{},\"id\":\"1452\",\"type\":\"WheelZoomTool\"},{\"attributes\":{\"callback\":null,\"data\":{\"index\":[0,1,2,3,4,5,6,7,8,9,10,11,12,13,14,15,16,17,18,19,20,21,22,23,24,25,26,27,28,29,30,31,32,33,34,35,36,37,38,39,40,41,42,43,44,45,46,47,48,49,50,51,52,53,54,55,56,57,58,59,60,61,62,63,64,65,66,67,68,69,70,71,72,73,74,75,76,77,78,79,80,81,82,83,84,85,86,87,88,89,90,91,92,93,94,95,96,97,98,99,100,101,102,103,104,105,106,107,108,109,110,111,112,113,114,115,116,117,118,119,120,121,122,123,124,125,126,127,128,129,130,131,132,133,134,135,136,137,138,139,140,141,142,143,144,145,146,147,148,149,150,151,152,153,154,155,156,157,158,159,160,161,162,163,164,165,166,167,168,169,170,171,172,173,174,175,176,177,178,179,180,181,182,183,184,185,186,187,188,189,190,191,192,193,194,195,196,197],\"label\":[\"EUR\",\"EUR\",\"EUR\",\"EUR\",\"EUR\",\"EUR\",\"EUR\",\"EUR\",\"EUR\",\"sportsman\",\"EUR\",\"EUR\",\"EUR\",\"EUR\",\"EUR\",\"EUR\",\"EUR\",\"EUR\",\"EUR\",\"EUR\",\"EUR\",\"EUR\",\"sportsman\",\"EUR\",\"sportsman\",\"EUR\",\"EUR\",\"EUR\",\"EUR\",\"sportsman\",\"sportsman\",\"sportsman\",\"sportsman\",\"EUR\",\"sportsman\",\"sportsman\",\"sportsman\",\"sportsman\",\"EUR\",\"sportsman\",\"EUR\",\"sportsman\",\"EUR\",\"sportsman\",\"EUR\",\"EUR\",\"EUR\",\"EUR\",\"sportsman\",\"EUR\",\"sportsman\",\"sportsman\",\"EUR\",\"sportsman\",\"sportsman\",\"EUR\",\"sportsman\",\"sportsman\",\"EUR\",\"sportsman\",\"EUR\",\"sportsman\",\"sportsman\",\"sportsman\",\"EUR\",\"sportsman\",\"sportsman\",\"EUR\",\"sportsman\",\"EUR\",\"sportsman\",\"sportsman\",\"sportsman\",\"EUR\",\"sportsman\",\"sportsman\",\"sportsman\",\"EUR\",\"EUR\",\"sportsman\",\"sportsman\",\"sportsman\",\"EUR\",\"sportsman\",\"sportsman\",\"sportsman\",\"sportsman\",\"sportsman\",\"sportsman\",\"EUR\",\"sportsman\",\"sportsman\",\"EUR\",\"sportsman\",\"sportsman\",\"sportsman\",\"EUR\",\"sportsman\",\"EUR\",\"EUR\",\"sportsman\",\"sportsman\",\"sportsman\",\"sportsman\",\"sportsman\",\"sportsman\",\"sportsman\",\"sportsman\",\"EUR\",\"EUR\",\"EUR\",\"EUR\",\"sportsman\",\"sportsman\",\"sportsman\",\"sportsman\",\"sportsman\",\"sportsman\",\"EUR\",\"sportsman\",\"EUR\",\"EUR\",\"sportsman\",\"sportsman\",\"EUR\",\"sportsman\",\"sportsman\",\"sportsman\",\"sportsman\",\"sportsman\",\"EUR\",\"EUR\",\"sportsman\",\"EUR\",\"sportsman\",\"sportsman\",\"EUR\",\"sportsman\",\"EUR\",\"EUR\",\"EUR\",\"sportsman\",\"EUR\",\"sportsman\",\"sportsman\",\"sportsman\",\"EUR\",\"EUR\",\"EUR\",\"sportsman\",\"EUR\",\"sportsman\",\"sportsman\",\"sportsman\",\"sportsman\",\"sportsman\",\"sportsman\",\"sportsman\",\"EUR\",\"sportsman\",\"sportsman\",\"EUR\",\"EUR\",\"EUR\",\"EUR\",\"EUR\",\"EUR\",\"sportsman\",\"EUR\",\"sportsman\",\"sportsman\",\"sportsman\",\"sportsman\",\"EUR\",\"EUR\",\"EUR\",\"EUR\",\"EUR\",\"EUR\",\"EUR\",\"sportsman\",\"EUR\",\"sportsman\",\"EUR\",\"EUR\",\"EUR\",\"EUR\",\"sportsman\",\"EUR\",\"sportsman\",\"EUR\",\"sportsman\",\"sportsman\",\"EUR\",\"EUR\",\"EUR\",\"EUR\",\"EUR\"],\"x\":{\"__ndarray__\":\"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\",\"dtype\":\"float64\",\"shape\":[198]},\"y\":{\"__ndarray__\":\"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\",\"dtype\":\"float64\",\"shape\":[198]}},\"selected\":{\"id\":\"1521\",\"type\":\"Selection\"},\"selection_policy\":{\"id\":\"1520\",\"type\":\"UnionRenderers\"}},\"id\":\"1466\",\"type\":\"ColumnDataSource\"},{\"attributes\":{\"data_source\":{\"id\":\"1466\",\"type\":\"ColumnDataSource\"},\"glyph\":{\"id\":\"1476\",\"type\":\"Circle\"},\"hover_glyph\":null,\"muted_glyph\":null,\"nonselection_glyph\":{\"id\":\"1477\",\"type\":\"Circle\"},\"selection_glyph\":null,\"view\":{\"id\":\"1474\",\"type\":\"CDSView\"}},\"id\":\"1478\",\"type\":\"GlyphRenderer\"},{\"attributes\":{\"fill_color\":{\"field\":\"label\",\"transform\":{\"id\":\"1002\",\"type\":\"CategoricalColorMapper\"}},\"line_color\":{\"field\":\"label\",\"transform\":{\"id\":\"1002\",\"type\":\"CategoricalColorMapper\"}},\"x\":{\"field\":\"x\"},\"y\":{\"field\":\"y\"}},\"id\":\"1476\",\"type\":\"Circle\"},{\"attributes\":{},\"id\":\"1456\",\"type\":\"HelpTool\"},{\"attributes\":{\"label\":{\"value\":\"EUR\"},\"renderers\":[{\"id\":\"1472\",\"type\":\"GlyphRenderer\"}]},\"id\":\"1479\",\"type\":\"LegendItem\"},{\"attributes\":{},\"id\":\"1442\",\"type\":\"BasicTicker\"},{\"attributes\":{},\"id\":\"1437\",\"type\":\"LinearScale\"},{\"attributes\":{\"data_source\":{\"id\":\"1466\",\"type\":\"ColumnDataSource\"},\"glyph\":{\"id\":\"1470\",\"type\":\"Circle\"},\"hover_glyph\":null,\"muted_glyph\":null,\"nonselection_glyph\":{\"id\":\"1471\",\"type\":\"Circle\"},\"selection_glyph\":null,\"view\":{\"id\":\"1468\",\"type\":\"CDSView\"}},\"id\":\"1472\",\"type\":\"GlyphRenderer\"},{\"attributes\":{\"click_policy\":\"hide\",\"items\":[{\"id\":\"1479\",\"type\":\"LegendItem\"},{\"id\":\"1480\",\"type\":\"LegendItem\"}]},\"id\":\"1481\",\"type\":\"Legend\"},{\"attributes\":{\"ticker\":{\"id\":\"1442\",\"type\":\"BasicTicker\"}},\"id\":\"1445\",\"type\":\"Grid\"},{\"attributes\":{\"fill_alpha\":{\"value\":0.1},\"fill_color\":{\"value\":\"#1f77b4\"},\"line_alpha\":{\"value\":0.1},\"line_color\":{\"value\":\"#1f77b4\"},\"x\":{\"field\":\"x\"},\"y\":{\"field\":\"y\"}},\"id\":\"1471\",\"type\":\"Circle\"},{\"attributes\":{\"overlay\":{\"id\":\"1522\",\"type\":\"BoxAnnotation\"}},\"id\":\"1453\",\"type\":\"BoxZoomTool\"},{\"attributes\":{},\"id\":\"1454\",\"type\":\"SaveTool\"},{\"attributes\":{},\"id\":\"1520\",\"type\":\"UnionRenderers\"},{\"attributes\":{\"callback\":null},\"id\":\"1433\",\"type\":\"DataRange1d\"},{\"attributes\":{},\"id\":\"1455\",\"type\":\"ResetTool\"},{\"attributes\":{},\"id\":\"1447\",\"type\":\"BasicTicker\"},{\"attributes\":{\"bottom_units\":\"screen\",\"fill_alpha\":{\"value\":0.5},\"fill_color\":{\"value\":\"lightgrey\"},\"left_units\":\"screen\",\"level\":\"overlay\",\"line_alpha\":{\"value\":1.0},\"line_color\":{\"value\":\"black\"},\"line_dash\":[4,4],\"line_width\":{\"value\":2},\"render_mode\":\"css\",\"right_units\":\"screen\",\"top_units\":\"screen\"},\"id\":\"1522\",\"type\":\"BoxAnnotation\"},{\"attributes\":{\"axis_label\":\"PC3\",\"formatter\":{\"id\":\"1517\",\"type\":\"BasicTickFormatter\"},\"ticker\":{\"id\":\"1447\",\"type\":\"BasicTicker\"}},\"id\":\"1446\",\"type\":\"LinearAxis\"},{\"attributes\":{\"factors\":[\"AFR\",\"AMR\",\"EAS\",\"EUR\",\"SAS\",\"sportsman\"],\"palette\":[\"red\",\"yellow\",\"green\",\"blue\",\"purple\",\"orange\"]},\"id\":\"1002\",\"type\":\"CategoricalColorMapper\"},{\"attributes\":{\"column_name\":\"label\",\"group\":\"sportsman\"},\"id\":\"1473\",\"type\":\"GroupFilter\"},{\"attributes\":{\"fill_color\":{\"field\":\"label\",\"transform\":{\"id\":\"1002\",\"type\":\"CategoricalColorMapper\"}},\"line_color\":{\"field\":\"label\",\"transform\":{\"id\":\"1002\",\"type\":\"CategoricalColorMapper\"}},\"x\":{\"field\":\"x\"},\"y\":{\"field\":\"y\"}},\"id\":\"1470\",\"type\":\"Circle\"},{\"attributes\":{\"active_drag\":\"auto\",\"active_inspect\":\"auto\",\"active_multi\":null,\"active_scroll\":\"auto\",\"active_tap\":\"auto\",\"tools\":[{\"id\":\"1451\",\"type\":\"PanTool\"},{\"id\":\"1452\",\"type\":\"WheelZoomTool\"},{\"id\":\"1453\",\"type\":\"BoxZoomTool\"},{\"id\":\"1454\",\"type\":\"SaveTool\"},{\"id\":\"1455\",\"type\":\"ResetTool\"},{\"id\":\"1456\",\"type\":\"HelpTool\"},{\"id\":\"1465\",\"type\":\"HoverTool\"}]},\"id\":\"1457\",\"type\":\"Toolbar\"},{\"attributes\":{},\"id\":\"1517\",\"type\":\"BasicTickFormatter\"},{\"attributes\":{},\"id\":\"1518\",\"type\":\"BasicTicker\"},{\"attributes\":{\"fill_alpha\":{\"value\":0.1},\"fill_color\":{\"value\":\"#1f77b4\"},\"line_alpha\":{\"value\":0.1},\"line_color\":{\"value\":\"#1f77b4\"},\"x\":{\"field\":\"x\"},\"y\":{\"field\":\"y\"}},\"id\":\"1477\",\"type\":\"Circle\"},{\"attributes\":{\"callback\":null},\"id\":\"1435\",\"type\":\"DataRange1d\"},{\"attributes\":{\"label\":{\"value\":\"sportsman\"},\"renderers\":[{\"id\":\"1478\",\"type\":\"GlyphRenderer\"}]},\"id\":\"1480\",\"type\":\"LegendItem\"},{\"attributes\":{\"filters\":[{\"id\":\"1467\",\"type\":\"GroupFilter\"}],\"source\":{\"id\":\"1466\",\"type\":\"ColumnDataSource\"}},\"id\":\"1468\",\"type\":\"CDSView\"},{\"attributes\":{},\"id\":\"1451\",\"type\":\"PanTool\"},{\"attributes\":{},\"id\":\"1515\",\"type\":\"BasicTickFormatter\"},{\"attributes\":{},\"id\":\"1521\",\"type\":\"Selection\"},{\"attributes\":{\"text\":\"PCA\"},\"id\":\"1431\",\"type\":\"Title\"},{\"attributes\":{},\"id\":\"1439\",\"type\":\"LinearScale\"},{\"attributes\":{\"axis_label\":\"PC2\",\"formatter\":{\"id\":\"1515\",\"type\":\"BasicTickFormatter\"},\"ticker\":{\"id\":\"1442\",\"type\":\"BasicTicker\"}},\"id\":\"1441\",\"type\":\"LinearAxis\"},{\"attributes\":{\"column_name\":\"label\",\"group\":\"EUR\"},\"id\":\"1467\",\"type\":\"GroupFilter\"},{\"attributes\":{\"color_mapper\":null,\"formatter\":{\"id\":\"1519\",\"type\":\"BasicTickFormatter\"},\"ticker\":{\"id\":\"1518\",\"type\":\"BasicTicker\"},\"visible\":false},\"id\":\"1482\",\"type\":\"ColorBar\"},{\"attributes\":{\"callback\":null,\"tooltips\":[[\"x\",\"@x\"],[\"y\",\"@y\"],[\"label\",\"@label\"]]},\"id\":\"1465\",\"type\":\"HoverTool\"},{\"attributes\":{\"dimension\":1,\"ticker\":{\"id\":\"1447\",\"type\":\"BasicTicker\"}},\"id\":\"1450\",\"type\":\"Grid\"}],\"root_ids\":[\"1430\"]},\"title\":\"Bokeh Application\",\"version\":\"1.4.0\"}};\n",
       "  var render_items = [{\"docid\":\"888e88b6-b023-4880-8c5c-b20d4c2a375b\",\"roots\":{\"1430\":\"c42e291d-42d5-4e36-939d-460665d9bdf4\"}}];\n",
       "  root.Bokeh.embed.embed_items_notebook(docs_json, render_items);\n",
       "\n",
       "  }\n",
       "  if (root.Bokeh !== undefined) {\n",
       "    embed_document(root);\n",
       "  } else {\n",
       "    var attempts = 0;\n",
       "    var timer = setInterval(function(root) {\n",
       "      if (root.Bokeh !== undefined) {\n",
       "        clearInterval(timer);\n",
       "        embed_document(root);\n",
       "      } else {\n",
       "        attempts++;\n",
       "        if (attempts > 100) {\n",
       "          clearInterval(timer);\n",
       "          console.log(\"Bokeh: ERROR: Unable to run BokehJS code because BokehJS library is missing\");\n",
       "        }\n",
       "      }\n",
       "    }, 10, root)\n",
       "  }\n",
       "})(window);"
      ],
      "application/vnd.bokehjs_exec.v0+json": ""
     },
     "metadata": {
      "application/vnd.bokehjs_exec.v0+json": {
       "id": "1430"
      }
     },
     "output_type": "display_data"
    }
   ],
   "source": [
    "plot_second_filter = hl.plot.scatter(mt_second_filter.scores[1],\n",
    "                                     mt_second_filter.scores[2],\n",
    "                                     label=mt_second_filter.pheno.super_pop,\n",
    "                                     colors=mapper,\n",
    "                                     title='PCA', xlabel='PC2', ylabel='PC3')\n",
    "\n",
    "show(plot_second_filter)\n"
   ]
  },
  {
   "cell_type": "code",
   "execution_count": 59,
   "id": "a01a955b-3f4f-4c11-a581-2a43739780ef",
   "metadata": {},
   "outputs": [
    {
     "data": {
      "image/png": "[encoded data removed]",
      "text/plain": [
       "<Figure size 432x288 with 1 Axes>"
      ]
     },
     "metadata": {},
     "output_type": "display_data"
    }
   ],
   "source": [
    "pca_second_filter_df = mt_second_filter.cols().flatten().to_pandas(flatten = True).rename(columns={'pheno.super_pop': 'super_pop'})\n",
    "pca_second_filter_df[['PC1','PC2', 'PC3','PC4', 'PC5', \n",
    "                      'PC6', 'PC7', 'PC8', 'PC9', 'PC10']] = pd.DataFrame(pca_second_filter_df.scores.tolist(), \n",
    "                                                                          index = pca_second_filter_df.index)\n",
    "\n",
    "# create plot for pc2 and pc3\n",
    "for col, pop in zip(colors, population):\n",
    "    plt.scatter(pca_second_filter_df[pca_second_filter_df.super_pop == pop]['PC2'],\n",
    "                pca_second_filter_df[pca_second_filter_df.super_pop == pop]['PC3'], \n",
    "                color = col, s = 5)\n",
    "plt.legend(population, loc = 'center left', bbox_to_anchor=(1, 0.5), title = \"Population\")\n",
    "plt.xlabel('PC2')\n",
    "plt.ylabel('PC3')\n",
    "plt.show()\n",
    "\n",
    "\n",
    "plt.savefig(\"/net/archive/groups/plggneuromol/matzieb/projects/imdik-zekanowski-sportwgs/results/prs-plots/pca-second-filter.svg\", \n",
    "            facecolor='white')"
   ]
  },
  {
   "cell_type": "code",
   "execution_count": null,
   "id": "b1ebc875-5d3e-433f-a8b8-43235a250aac",
   "metadata": {},
   "outputs": [],
   "source": [
    "# save metadata with sportsmen and control to tsv file\n",
    "sportsmen_control_pheno = mt_second_filter.cols()\n",
    "\n",
    "sportsmen_control_pheno = sportsmen_control_pheno.annotate(group = sportsmen_control_pheno.pheno.group.replace(\"1kg\", \"control\"))\n",
    "\n",
    "sportsmen_control_pheno = sportsmen_control_pheno.drop(sportsmen_control_pheno.scores).flatten()\n",
    "\n",
    "sportsmen_control_pheno = sportsmen_control_pheno.drop(sportsmen_control_pheno['pheno.group']).rename({\n",
    "    's':'sample',\n",
    "    'pheno.pop': 'pop', \n",
    "    'pheno.super_pop': 'super_pop', \n",
    "    'pheno.gender':'gender'}).export(\n",
    "    '/net/archive/groups/plggneuromol/imdik-zekanowski-sportwgs/data/prs-data/sportsmen-control-pheno.tsv',\n",
    "    header=True\n",
    ")"
   ]
  }
 ],
 "metadata": {
  "kernelspec": {
   "display_name": "Python 3 (ipykernel)",
   "language": "python",
   "name": "python3"
  },
  "language_info": {
   "codemirror_mode": {
    "name": "ipython",
    "version": 3
   },
   "file_extension": ".py",
   "mimetype": "text/x-python",
   "name": "python",
   "nbconvert_exporter": "python",
   "pygments_lexer": "ipython3",
   "version": "3.7.7"
  }
 },
 "nbformat": 4,
 "nbformat_minor": 5
}
