{
 "cells": [
  {
   "cell_type": "code",
   "execution_count": 1,
   "id": "f0006385-753c-4479-81b3-4df528228f14",
   "metadata": {},
   "outputs": [
    {
     "name": "stdout",
     "output_type": "stream",
     "text": [
      "2022-08-08 11:59:56 WARN  NativeCodeLoader:62 - Unable to load native-hadoop library for your platform... using builtin-java classes where applicable\n"
     ]
    },
    {
     "name": "stderr",
     "output_type": "stream",
     "text": [
      "Setting default log level to \"WARN\".\n",
      "To adjust logging level use sc.setLogLevel(newLevel). For SparkR, use setLogLevel(newLevel).\n"
     ]
    },
    {
     "name": "stdout",
     "output_type": "stream",
     "text": [
      "2022-08-08 11:59:57 WARN  SparkConf:69 - Note that spark.local.dir will be overridden by the value set by the cluster manager (via SPARK_LOCAL_DIRS in mesos/standalone/kubernetes and LOCAL_DIRS in YARN).\n"
     ]
    },
    {
     "name": "stderr",
     "output_type": "stream",
     "text": [
      "Running on Apache Spark version 3.1.2\n",
      "SparkUI available at http://p0209.prometheus:4040\n",
      "Welcome to\n",
      "     __  __     <>__\n",
      "    / /_/ /__  __/ /\n",
      "   / __  / _ `/ / /\n",
      "  /_/ /_/\\_,_/_/_/   version 0.2.79-f141af259254\n",
      "LOGGING: writing to /net/archive/groups/plggneuromol/matzieb/hail-log/hail-log-359817e4-f16e-4c53-83fb-c98e429e2f8f.log\n"
     ]
    }
   ],
   "source": [
    "import os\n",
    "from uuid import uuid4\n",
    "import hail as hl\n",
    "\n",
    "\n",
    "spark_master_host = os.environ.get('SPARK_MASTER_HOST')\n",
    "spark_master_port = os.environ.get('SPARK_MASTER_PORT')\n",
    "localfs_path = os.environ.get('SCRATCH_LOCAL')\n",
    "\n",
    "hl.init(\n",
    "    master=f'spark://{spark_master_host}:{spark_master_port}',\n",
    "    tmp_dir=os.path.join(localfs_path, 'hail-tmpdir'),\n",
    "    default_reference='GRCh38',\n",
    "    spark_conf={'spark.driver.memory': '40G', 'spark.executor.memory': '80G'},\n",
    "    log=f'/net/archive/groups/plggneuromol/matzieb/hail-log/hail-log-{str(uuid4())}.log',\n",
    ")"
   ]
  },
  {
   "cell_type": "code",
   "execution_count": 35,
   "id": "bb128eeb-34d9-406e-b304-2fc8f57d7e7d",
   "metadata": {},
   "outputs": [
    {
     "data": {
      "text/html": [
       "\n",
       "    <div class=\"bk-root\">\n",
       "        <a href=\"https://bokeh.org\" target=\"_blank\" class=\"bk-logo bk-logo-small bk-logo-notebook\"></a>\n",
       "        <span id=\"1317\">Loading BokehJS ...</span>\n",
       "    </div>"
      ]
     },
     "metadata": {},
     "output_type": "display_data"
    },
    {
     "data": {
      "application/javascript": [
       "\n",
       "(function(root) {\n",
       "  function now() {\n",
       "    return new Date();\n",
       "  }\n",
       "\n",
       "  var force = true;\n",
       "\n",
       "  if (typeof root._bokeh_onload_callbacks === \"undefined\" || force === true) {\n",
       "    root._bokeh_onload_callbacks = [];\n",
       "    root._bokeh_is_loading = undefined;\n",
       "  }\n",
       "\n",
       "  var JS_MIME_TYPE = 'application/javascript';\n",
       "  var HTML_MIME_TYPE = 'text/html';\n",
       "  var EXEC_MIME_TYPE = 'application/vnd.bokehjs_exec.v0+json';\n",
       "  var CLASS_NAME = 'output_bokeh rendered_html';\n",
       "\n",
       "  /**\n",
       "   * Render data to the DOM node\n",
       "   */\n",
       "  function render(props, node) {\n",
       "    var script = document.createElement(\"script\");\n",
       "    node.appendChild(script);\n",
       "  }\n",
       "\n",
       "  /**\n",
       "   * Handle when an output is cleared or removed\n",
       "   */\n",
       "  function handleClearOutput(event, handle) {\n",
       "    var cell = handle.cell;\n",
       "\n",
       "    var id = cell.output_area._bokeh_element_id;\n",
       "    var server_id = cell.output_area._bokeh_server_id;\n",
       "    // Clean up Bokeh references\n",
       "    if (id != null && id in Bokeh.index) {\n",
       "      Bokeh.index[id].model.document.clear();\n",
       "      delete Bokeh.index[id];\n",
       "    }\n",
       "\n",
       "    if (server_id !== undefined) {\n",
       "      // Clean up Bokeh references\n",
       "      var cmd = \"from bokeh.io.state import curstate; print(curstate().uuid_to_server['\" + server_id + \"'].get_sessions()[0].document.roots[0]._id)\";\n",
       "      cell.notebook.kernel.execute(cmd, {\n",
       "        iopub: {\n",
       "          output: function(msg) {\n",
       "            var id = msg.content.text.trim();\n",
       "            if (id in Bokeh.index) {\n",
       "              Bokeh.index[id].model.document.clear();\n",
       "              delete Bokeh.index[id];\n",
       "            }\n",
       "          }\n",
       "        }\n",
       "      });\n",
       "      // Destroy server and session\n",
       "      var cmd = \"import bokeh.io.notebook as ion; ion.destroy_server('\" + server_id + \"')\";\n",
       "      cell.notebook.kernel.execute(cmd);\n",
       "    }\n",
       "  }\n",
       "\n",
       "  /**\n",
       "   * Handle when a new output is added\n",
       "   */\n",
       "  function handleAddOutput(event, handle) {\n",
       "    var output_area = handle.output_area;\n",
       "    var output = handle.output;\n",
       "\n",
       "    // limit handleAddOutput to display_data with EXEC_MIME_TYPE content only\n",
       "    if ((output.output_type != \"display_data\") || (!output.data.hasOwnProperty(EXEC_MIME_TYPE))) {\n",
       "      return\n",
       "    }\n",
       "\n",
       "    var toinsert = output_area.element.find(\".\" + CLASS_NAME.split(' ')[0]);\n",
       "\n",
       "    if (output.metadata[EXEC_MIME_TYPE][\"id\"] !== undefined) {\n",
       "      toinsert[toinsert.length - 1].firstChild.textContent = output.data[JS_MIME_TYPE];\n",
       "      // store reference to embed id on output_area\n",
       "      output_area._bokeh_element_id = output.metadata[EXEC_MIME_TYPE][\"id\"];\n",
       "    }\n",
       "    if (output.metadata[EXEC_MIME_TYPE][\"server_id\"] !== undefined) {\n",
       "      var bk_div = document.createElement(\"div\");\n",
       "      bk_div.innerHTML = output.data[HTML_MIME_TYPE];\n",
       "      var script_attrs = bk_div.children[0].attributes;\n",
       "      for (var i = 0; i < script_attrs.length; i++) {\n",
       "        toinsert[toinsert.length - 1].firstChild.setAttribute(script_attrs[i].name, script_attrs[i].value);\n",
       "      }\n",
       "      // store reference to server id on output_area\n",
       "      output_area._bokeh_server_id = output.metadata[EXEC_MIME_TYPE][\"server_id\"];\n",
       "    }\n",
       "  }\n",
       "\n",
       "  function register_renderer(events, OutputArea) {\n",
       "\n",
       "    function append_mime(data, metadata, element) {\n",
       "      // create a DOM node to render to\n",
       "      var toinsert = this.create_output_subarea(\n",
       "        metadata,\n",
       "        CLASS_NAME,\n",
       "        EXEC_MIME_TYPE\n",
       "      );\n",
       "      this.keyboard_manager.register_events(toinsert);\n",
       "      // Render to node\n",
       "      var props = {data: data, metadata: metadata[EXEC_MIME_TYPE]};\n",
       "      render(props, toinsert[toinsert.length - 1]);\n",
       "      element.append(toinsert);\n",
       "      return toinsert\n",
       "    }\n",
       "\n",
       "    /* Handle when an output is cleared or removed */\n",
       "    events.on('clear_output.CodeCell', handleClearOutput);\n",
       "    events.on('delete.Cell', handleClearOutput);\n",
       "\n",
       "    /* Handle when a new output is added */\n",
       "    events.on('output_added.OutputArea', handleAddOutput);\n",
       "\n",
       "    /**\n",
       "     * Register the mime type and append_mime function with output_area\n",
       "     */\n",
       "    OutputArea.prototype.register_mime_type(EXEC_MIME_TYPE, append_mime, {\n",
       "      /* Is output safe? */\n",
       "      safe: true,\n",
       "      /* Index of renderer in `output_area.display_order` */\n",
       "      index: 0\n",
       "    });\n",
       "  }\n",
       "\n",
       "  // register the mime type if in Jupyter Notebook environment and previously unregistered\n",
       "  if (root.Jupyter !== undefined) {\n",
       "    var events = require('base/js/events');\n",
       "    var OutputArea = require('notebook/js/outputarea').OutputArea;\n",
       "\n",
       "    if (OutputArea.prototype.mime_types().indexOf(EXEC_MIME_TYPE) == -1) {\n",
       "      register_renderer(events, OutputArea);\n",
       "    }\n",
       "  }\n",
       "\n",
       "  \n",
       "  if (typeof (root._bokeh_timeout) === \"undefined\" || force === true) {\n",
       "    root._bokeh_timeout = Date.now() + 5000;\n",
       "    root._bokeh_failed_load = false;\n",
       "  }\n",
       "\n",
       "  var NB_LOAD_WARNING = {'data': {'text/html':\n",
       "     \"<div style='background-color: #fdd'>\\n\"+\n",
       "     \"<p>\\n\"+\n",
       "     \"BokehJS does not appear to have successfully loaded. If loading BokehJS from CDN, this \\n\"+\n",
       "     \"may be due to a slow or bad network connection. Possible fixes:\\n\"+\n",
       "     \"</p>\\n\"+\n",
       "     \"<ul>\\n\"+\n",
       "     \"<li>re-rerun `output_notebook()` to attempt to load from CDN again, or</li>\\n\"+\n",
       "     \"<li>use INLINE resources instead, as so:</li>\\n\"+\n",
       "     \"</ul>\\n\"+\n",
       "     \"<code>\\n\"+\n",
       "     \"from bokeh.resources import INLINE\\n\"+\n",
       "     \"output_notebook(resources=INLINE)\\n\"+\n",
       "     \"</code>\\n\"+\n",
       "     \"</div>\"}};\n",
       "\n",
       "  function display_loaded() {\n",
       "    var el = document.getElementById(\"1317\");\n",
       "    if (el != null) {\n",
       "      el.textContent = \"BokehJS is loading...\";\n",
       "    }\n",
       "    if (root.Bokeh !== undefined) {\n",
       "      if (el != null) {\n",
       "        el.textContent = \"BokehJS \" + root.Bokeh.version + \" successfully loaded.\";\n",
       "      }\n",
       "    } else if (Date.now() < root._bokeh_timeout) {\n",
       "      setTimeout(display_loaded, 100)\n",
       "    }\n",
       "  }\n",
       "\n",
       "\n",
       "  function run_callbacks() {\n",
       "    try {\n",
       "      root._bokeh_onload_callbacks.forEach(function(callback) {\n",
       "        if (callback != null)\n",
       "          callback();\n",
       "      });\n",
       "    } finally {\n",
       "      delete root._bokeh_onload_callbacks\n",
       "    }\n",
       "    console.debug(\"Bokeh: all callbacks have finished\");\n",
       "  }\n",
       "\n",
       "  function load_libs(css_urls, js_urls, callback) {\n",
       "    if (css_urls == null) css_urls = [];\n",
       "    if (js_urls == null) js_urls = [];\n",
       "\n",
       "    root._bokeh_onload_callbacks.push(callback);\n",
       "    if (root._bokeh_is_loading > 0) {\n",
       "      console.debug(\"Bokeh: BokehJS is being loaded, scheduling callback at\", now());\n",
       "      return null;\n",
       "    }\n",
       "    if (js_urls == null || js_urls.length === 0) {\n",
       "      run_callbacks();\n",
       "      return null;\n",
       "    }\n",
       "    console.debug(\"Bokeh: BokehJS not loaded, scheduling load and callback at\", now());\n",
       "    root._bokeh_is_loading = css_urls.length + js_urls.length;\n",
       "\n",
       "    function on_load() {\n",
       "      root._bokeh_is_loading--;\n",
       "      if (root._bokeh_is_loading === 0) {\n",
       "        console.debug(\"Bokeh: all BokehJS libraries/stylesheets loaded\");\n",
       "        run_callbacks()\n",
       "      }\n",
       "    }\n",
       "\n",
       "    function on_error() {\n",
       "      console.error(\"failed to load \" + url);\n",
       "    }\n",
       "\n",
       "    for (var i = 0; i < css_urls.length; i++) {\n",
       "      var url = css_urls[i];\n",
       "      const element = document.createElement(\"link\");\n",
       "      element.onload = on_load;\n",
       "      element.onerror = on_error;\n",
       "      element.rel = \"stylesheet\";\n",
       "      element.type = \"text/css\";\n",
       "      element.href = url;\n",
       "      console.debug(\"Bokeh: injecting link tag for BokehJS stylesheet: \", url);\n",
       "      document.body.appendChild(element);\n",
       "    }\n",
       "\n",
       "    for (var i = 0; i < js_urls.length; i++) {\n",
       "      var url = js_urls[i];\n",
       "      var element = document.createElement('script');\n",
       "      element.onload = on_load;\n",
       "      element.onerror = on_error;\n",
       "      element.async = false;\n",
       "      element.src = url;\n",
       "      console.debug(\"Bokeh: injecting script tag for BokehJS library: \", url);\n",
       "      document.head.appendChild(element);\n",
       "    }\n",
       "  };var element = document.getElementById(\"1317\");\n",
       "  if (element == null) {\n",
       "    console.error(\"Bokeh: ERROR: autoload.js configured with elementid '1317' but no matching script tag was found. \")\n",
       "    return false;\n",
       "  }\n",
       "\n",
       "  function inject_raw_css(css) {\n",
       "    const element = document.createElement(\"style\");\n",
       "    element.appendChild(document.createTextNode(css));\n",
       "    document.body.appendChild(element);\n",
       "  }\n",
       "\n",
       "  \n",
       "  var js_urls = [\"https://cdn.pydata.org/bokeh/release/bokeh-1.4.0.min.js\", \"https://cdn.pydata.org/bokeh/release/bokeh-widgets-1.4.0.min.js\", \"https://cdn.pydata.org/bokeh/release/bokeh-tables-1.4.0.min.js\", \"https://cdn.pydata.org/bokeh/release/bokeh-gl-1.4.0.min.js\"];\n",
       "  var css_urls = [];\n",
       "  \n",
       "\n",
       "  var inline_js = [\n",
       "    function(Bokeh) {\n",
       "      Bokeh.set_log_level(\"info\");\n",
       "    },\n",
       "    function(Bokeh) {\n",
       "    \n",
       "    \n",
       "    }\n",
       "  ];\n",
       "\n",
       "  function run_inline_js() {\n",
       "    \n",
       "    if (root.Bokeh !== undefined || force === true) {\n",
       "      \n",
       "    for (var i = 0; i < inline_js.length; i++) {\n",
       "      inline_js[i].call(root, root.Bokeh);\n",
       "    }\n",
       "    if (force === true) {\n",
       "        display_loaded();\n",
       "      }} else if (Date.now() < root._bokeh_timeout) {\n",
       "      setTimeout(run_inline_js, 100);\n",
       "    } else if (!root._bokeh_failed_load) {\n",
       "      console.log(\"Bokeh: BokehJS failed to load within specified timeout.\");\n",
       "      root._bokeh_failed_load = true;\n",
       "    } else if (force !== true) {\n",
       "      var cell = $(document.getElementById(\"1317\")).parents('.cell').data().cell;\n",
       "      cell.output_area.append_execute_result(NB_LOAD_WARNING)\n",
       "    }\n",
       "\n",
       "  }\n",
       "\n",
       "  if (root._bokeh_is_loading === 0) {\n",
       "    console.debug(\"Bokeh: BokehJS loaded, going straight to plotting\");\n",
       "    run_inline_js();\n",
       "  } else {\n",
       "    load_libs(css_urls, js_urls, function() {\n",
       "      console.debug(\"Bokeh: BokehJS plotting callback run at\", now());\n",
       "      run_inline_js();\n",
       "    });\n",
       "  }\n",
       "}(window));"
      ],
      "application/vnd.bokehjs_load.v0+json": "\n(function(root) {\n  function now() {\n    return new Date();\n  }\n\n  var force = true;\n\n  if (typeof root._bokeh_onload_callbacks === \"undefined\" || force === true) {\n    root._bokeh_onload_callbacks = [];\n    root._bokeh_is_loading = undefined;\n  }\n\n  \n\n  \n  if (typeof (root._bokeh_timeout) === \"undefined\" || force === true) {\n    root._bokeh_timeout = Date.now() + 5000;\n    root._bokeh_failed_load = false;\n  }\n\n  var NB_LOAD_WARNING = {'data': {'text/html':\n     \"<div style='background-color: #fdd'>\\n\"+\n     \"<p>\\n\"+\n     \"BokehJS does not appear to have successfully loaded. If loading BokehJS from CDN, this \\n\"+\n     \"may be due to a slow or bad network connection. Possible fixes:\\n\"+\n     \"</p>\\n\"+\n     \"<ul>\\n\"+\n     \"<li>re-rerun `output_notebook()` to attempt to load from CDN again, or</li>\\n\"+\n     \"<li>use INLINE resources instead, as so:</li>\\n\"+\n     \"</ul>\\n\"+\n     \"<code>\\n\"+\n     \"from bokeh.resources import INLINE\\n\"+\n     \"output_notebook(resources=INLINE)\\n\"+\n     \"</code>\\n\"+\n     \"</div>\"}};\n\n  function display_loaded() {\n    var el = document.getElementById(\"1317\");\n    if (el != null) {\n      el.textContent = \"BokehJS is loading...\";\n    }\n    if (root.Bokeh !== undefined) {\n      if (el != null) {\n        el.textContent = \"BokehJS \" + root.Bokeh.version + \" successfully loaded.\";\n      }\n    } else if (Date.now() < root._bokeh_timeout) {\n      setTimeout(display_loaded, 100)\n    }\n  }\n\n\n  function run_callbacks() {\n    try {\n      root._bokeh_onload_callbacks.forEach(function(callback) {\n        if (callback != null)\n          callback();\n      });\n    } finally {\n      delete root._bokeh_onload_callbacks\n    }\n    console.debug(\"Bokeh: all callbacks have finished\");\n  }\n\n  function load_libs(css_urls, js_urls, callback) {\n    if (css_urls == null) css_urls = [];\n    if (js_urls == null) js_urls = [];\n\n    root._bokeh_onload_callbacks.push(callback);\n    if (root._bokeh_is_loading > 0) {\n      console.debug(\"Bokeh: BokehJS is being loaded, scheduling callback at\", now());\n      return null;\n    }\n    if (js_urls == null || js_urls.length === 0) {\n      run_callbacks();\n      return null;\n    }\n    console.debug(\"Bokeh: BokehJS not loaded, scheduling load and callback at\", now());\n    root._bokeh_is_loading = css_urls.length + js_urls.length;\n\n    function on_load() {\n      root._bokeh_is_loading--;\n      if (root._bokeh_is_loading === 0) {\n        console.debug(\"Bokeh: all BokehJS libraries/stylesheets loaded\");\n        run_callbacks()\n      }\n    }\n\n    function on_error() {\n      console.error(\"failed to load \" + url);\n    }\n\n    for (var i = 0; i < css_urls.length; i++) {\n      var url = css_urls[i];\n      const element = document.createElement(\"link\");\n      element.onload = on_load;\n      element.onerror = on_error;\n      element.rel = \"stylesheet\";\n      element.type = \"text/css\";\n      element.href = url;\n      console.debug(\"Bokeh: injecting link tag for BokehJS stylesheet: \", url);\n      document.body.appendChild(element);\n    }\n\n    for (var i = 0; i < js_urls.length; i++) {\n      var url = js_urls[i];\n      var element = document.createElement('script');\n      element.onload = on_load;\n      element.onerror = on_error;\n      element.async = false;\n      element.src = url;\n      console.debug(\"Bokeh: injecting script tag for BokehJS library: \", url);\n      document.head.appendChild(element);\n    }\n  };var element = document.getElementById(\"1317\");\n  if (element == null) {\n    console.error(\"Bokeh: ERROR: autoload.js configured with elementid '1317' but no matching script tag was found. \")\n    return false;\n  }\n\n  function inject_raw_css(css) {\n    const element = document.createElement(\"style\");\n    element.appendChild(document.createTextNode(css));\n    document.body.appendChild(element);\n  }\n\n  \n  var js_urls = [\"https://cdn.pydata.org/bokeh/release/bokeh-1.4.0.min.js\", \"https://cdn.pydata.org/bokeh/release/bokeh-widgets-1.4.0.min.js\", \"https://cdn.pydata.org/bokeh/release/bokeh-tables-1.4.0.min.js\", \"https://cdn.pydata.org/bokeh/release/bokeh-gl-1.4.0.min.js\"];\n  var css_urls = [];\n  \n\n  var inline_js = [\n    function(Bokeh) {\n      Bokeh.set_log_level(\"info\");\n    },\n    function(Bokeh) {\n    \n    \n    }\n  ];\n\n  function run_inline_js() {\n    \n    if (root.Bokeh !== undefined || force === true) {\n      \n    for (var i = 0; i < inline_js.length; i++) {\n      inline_js[i].call(root, root.Bokeh);\n    }\n    if (force === true) {\n        display_loaded();\n      }} else if (Date.now() < root._bokeh_timeout) {\n      setTimeout(run_inline_js, 100);\n    } else if (!root._bokeh_failed_load) {\n      console.log(\"Bokeh: BokehJS failed to load within specified timeout.\");\n      root._bokeh_failed_load = true;\n    } else if (force !== true) {\n      var cell = $(document.getElementById(\"1317\")).parents('.cell').data().cell;\n      cell.output_area.append_execute_result(NB_LOAD_WARNING)\n    }\n\n  }\n\n  if (root._bokeh_is_loading === 0) {\n    console.debug(\"Bokeh: BokehJS loaded, going straight to plotting\");\n    run_inline_js();\n  } else {\n    load_libs(css_urls, js_urls, function() {\n      console.debug(\"Bokeh: BokehJS plotting callback run at\", now());\n      run_inline_js();\n    });\n  }\n}(window));"
     },
     "metadata": {},
     "output_type": "display_data"
    }
   ],
   "source": [
    "from hail.plot import show\n",
    "from pprint import pprint\n",
    "hl.plot.output_notebook()\n",
    " "
   ]
  },
  {
   "cell_type": "code",
   "execution_count": 3,
   "id": "0be88169-8a80-4def-8a89-aa1bc4f8e7f0",
   "metadata": {},
   "outputs": [],
   "source": [
    "# Read vcf and reduce data\n",
    "# mt = hl.import_vcf(\n",
    "#     '/net/archive/groups/plggneuromol/matzieb/projects/imdik-zekanowski-sportwgs/data/prs-data/1kg-sportsmen-merged.vcf.gz',\n",
    "#     array_elements_required=False,\n",
    "#     force_bgz = True,\n",
    "#     find_replace=('\\tinf\\t', '\\t50\\t')\n",
    "# )\n",
    "# # filter rows with p = 0.001\n",
    "# mt = mt.sample_rows(0.001, seed = 42)"
   ]
  },
  {
   "cell_type": "code",
   "execution_count": 4,
   "id": "414f3eba-24d3-4de3-b8a0-c03381665fa5",
   "metadata": {},
   "outputs": [],
   "source": [
    "# mt.write('/net/archive/groups/plggneuromol/matzieb/projects/imdik-zekanowski-sportwgs/data/prs-data/sample-1kg-sportsmen-merged.mt', overwrite=True)"
   ]
  },
  {
   "cell_type": "code",
   "execution_count": 125,
   "id": "e6bc569a-71d6-4adf-b403-a5d586e8d998",
   "metadata": {},
   "outputs": [],
   "source": [
    "mt = hl.read_matrix_table('/net/archive/groups/plggneuromol/matzieb/projects/imdik-zekanowski-sportwgs/data/prs-data/sample-1kg-sportsmen-merged.mt')"
   ]
  },
  {
   "cell_type": "code",
   "execution_count": 126,
   "id": "4990e000-18bb-45ba-a035-8a7ebaecb5d7",
   "metadata": {},
   "outputs": [
    {
     "name": "stdout",
     "output_type": "stream",
     "text": [
      "----------------------------------------\n",
      "Global fields:\n",
      "    None\n",
      "----------------------------------------\n",
      "Column fields:\n",
      "    's': str\n",
      "----------------------------------------\n",
      "Row fields:\n",
      "    'locus': locus<GRCh38>\n",
      "    'alleles': array<str>\n",
      "    'rsid': str\n",
      "    'qual': float64\n",
      "    'filters': set<str>\n",
      "    'info': struct {\n",
      "        AF: array<float64>, \n",
      "        AC: array<int32>, \n",
      "        NS: int32, \n",
      "        AN: int32, \n",
      "        EAS_AF: array<float64>, \n",
      "        EUR_AF: array<float64>, \n",
      "        AFR_AF: array<float64>, \n",
      "        AMR_AF: array<float64>, \n",
      "        SAS_AF: array<float64>, \n",
      "        VT: array<str>, \n",
      "        EX_TARGET: bool, \n",
      "        DP: int32, \n",
      "        BaseQRankSum: float64, \n",
      "        END: int32, \n",
      "        ExcessHet: float64, \n",
      "        FS: float64, \n",
      "        InbreedingCoeff: float64, \n",
      "        MLEAC: array<int32>, \n",
      "        MLEAF: array<float64>, \n",
      "        MQ: float64, \n",
      "        MQRankSum: float64, \n",
      "        QD: float64, \n",
      "        RAW_MQandDP: array<int32>, \n",
      "        ReadPosRankSum: float64, \n",
      "        SOR: float64\n",
      "    }\n",
      "----------------------------------------\n",
      "Entry fields:\n",
      "    'GT': call\n",
      "    'AD': array<int32>\n",
      "    'DP': int32\n",
      "    'GQ': int32\n",
      "    'MIN_DP': int32\n",
      "    'PGT': call\n",
      "    'PID': str\n",
      "    'PL': array<int32>\n",
      "    'PS': int32\n",
      "    'RGQ': int32\n",
      "    'SB': array<int32>\n",
      "----------------------------------------\n",
      "Column key: ['s']\n",
      "Row key: ['locus', 'alleles']\n",
      "----------------------------------------\n"
     ]
    },
    {
     "data": {
      "text/plain": [
       "(78280, 2650)"
      ]
     },
     "execution_count": 126,
     "metadata": {},
     "output_type": "execute_result"
    }
   ],
   "source": [
    "mt.describe()\n",
    "mt.count()"
   ]
  },
  {
   "cell_type": "code",
   "execution_count": 127,
   "id": "ad068429-55e1-490f-8cf5-f9e39c0f0dcd",
   "metadata": {},
   "outputs": [
    {
     "name": "stderr",
     "output_type": "stream",
     "text": [
      "2022-08-08 13:11:55 Hail: INFO: Reading table to impute column types\n",
      "2022-08-08 13:11:55 Hail: INFO: Finished type imputation\n",
      "  Loading field 'sample' as type str (imputed)\n",
      "  Loading field 'pop' as type str (imputed)\n",
      "  Loading field 'super_pop' as type str (imputed)\n",
      "  Loading field 'gender' as type str (imputed)\n",
      "  Loading field 'group' as type str (imputed)\n"
     ]
    }
   ],
   "source": [
    "# read table with meta data\n",
    "table = (hl.import_table('/net/archive/groups/plggneuromol/imdik-zekanowski-sportwgs/data/prs-data/1kg-sportsmen-pheno.tsv', impute=True)\n",
    "         .key_by('sample'))"
   ]
  },
  {
   "cell_type": "code",
   "execution_count": 122,
   "id": "dc061514-a81b-45ef-b9c5-834e65283a3d",
   "metadata": {},
   "outputs": [
    {
     "data": {
      "text/html": [
       "<table><thead><tr><td style=\"white-space: nowrap; max-width: 500px; overflow: hidden; text-overflow: ellipsis; \" colspan=\"1\"><div style=\"text-align: left;\"></div></td><td style=\"white-space: nowrap; max-width: 500px; overflow: hidden; text-overflow: ellipsis; \" colspan=\"1\"><div style=\"text-align: left;\"></div></td><td style=\"white-space: nowrap; max-width: 500px; overflow: hidden; text-overflow: ellipsis; \" colspan=\"1\"><div style=\"text-align: left;\"></div></td><td style=\"white-space: nowrap; max-width: 500px; overflow: hidden; text-overflow: ellipsis; \" colspan=\"1\"><div style=\"text-align: left;\"></div></td><td style=\"white-space: nowrap; max-width: 500px; overflow: hidden; text-overflow: ellipsis; \" colspan=\"1\"><div style=\"text-align: left;\"></div></td></tr><tr><td style=\"white-space: nowrap; max-width: 500px; overflow: hidden; text-overflow: ellipsis; \" colspan=\"1\"><div style=\"text-align: left;border-bottom: solid 2px #000; padding-bottom: 5px\">sample</div></td><td style=\"white-space: nowrap; max-width: 500px; overflow: hidden; text-overflow: ellipsis; \" colspan=\"1\"><div style=\"text-align: left;border-bottom: solid 2px #000; padding-bottom: 5px\">pop</div></td><td style=\"white-space: nowrap; max-width: 500px; overflow: hidden; text-overflow: ellipsis; \" colspan=\"1\"><div style=\"text-align: left;border-bottom: solid 2px #000; padding-bottom: 5px\">super_pop</div></td><td style=\"white-space: nowrap; max-width: 500px; overflow: hidden; text-overflow: ellipsis; \" colspan=\"1\"><div style=\"text-align: left;border-bottom: solid 2px #000; padding-bottom: 5px\">gender</div></td><td style=\"white-space: nowrap; max-width: 500px; overflow: hidden; text-overflow: ellipsis; \" colspan=\"1\"><div style=\"text-align: left;border-bottom: solid 2px #000; padding-bottom: 5px\">group</div></td></tr><tr><td style=\"white-space: nowrap; max-width: 500px; overflow: hidden; text-overflow: ellipsis; text-align: left;\">str</td><td style=\"white-space: nowrap; max-width: 500px; overflow: hidden; text-overflow: ellipsis; text-align: left;\">str</td><td style=\"white-space: nowrap; max-width: 500px; overflow: hidden; text-overflow: ellipsis; text-align: left;\">str</td><td style=\"white-space: nowrap; max-width: 500px; overflow: hidden; text-overflow: ellipsis; text-align: left;\">str</td><td style=\"white-space: nowrap; max-width: 500px; overflow: hidden; text-overflow: ellipsis; text-align: left;\">str</td></tr>\n",
       "</thead><tbody><tr><td style=\"white-space: nowrap; max-width: 500px; overflow: hidden; text-overflow: ellipsis; \">&quot;B102&quot;</td><td style=\"white-space: nowrap; max-width: 500px; overflow: hidden; text-overflow: ellipsis; \">&quot;speed&quot;</td><td style=\"white-space: nowrap; max-width: 500px; overflow: hidden; text-overflow: ellipsis; \">&quot;sportsmen&quot;</td><td style=\"white-space: nowrap; max-width: 500px; overflow: hidden; text-overflow: ellipsis; \">&quot;none&quot;</td><td style=\"white-space: nowrap; max-width: 500px; overflow: hidden; text-overflow: ellipsis; \">&quot;sportsman&quot;</td></tr>\n",
       "<tr><td style=\"white-space: nowrap; max-width: 500px; overflow: hidden; text-overflow: ellipsis; \">&quot;B156&quot;</td><td style=\"white-space: nowrap; max-width: 500px; overflow: hidden; text-overflow: ellipsis; \">&quot;endurance&quot;</td><td style=\"white-space: nowrap; max-width: 500px; overflow: hidden; text-overflow: ellipsis; \">&quot;sportsmen&quot;</td><td style=\"white-space: nowrap; max-width: 500px; overflow: hidden; text-overflow: ellipsis; \">&quot;none&quot;</td><td style=\"white-space: nowrap; max-width: 500px; overflow: hidden; text-overflow: ellipsis; \">&quot;sportsman&quot;</td></tr>\n",
       "<tr><td style=\"white-space: nowrap; max-width: 500px; overflow: hidden; text-overflow: ellipsis; \">&quot;B24&quot;</td><td style=\"white-space: nowrap; max-width: 500px; overflow: hidden; text-overflow: ellipsis; \">&quot;speed&quot;</td><td style=\"white-space: nowrap; max-width: 500px; overflow: hidden; text-overflow: ellipsis; \">&quot;sportsmen&quot;</td><td style=\"white-space: nowrap; max-width: 500px; overflow: hidden; text-overflow: ellipsis; \">&quot;none&quot;</td><td style=\"white-space: nowrap; max-width: 500px; overflow: hidden; text-overflow: ellipsis; \">&quot;sportsman&quot;</td></tr>\n",
       "<tr><td style=\"white-space: nowrap; max-width: 500px; overflow: hidden; text-overflow: ellipsis; \">&quot;B338&quot;</td><td style=\"white-space: nowrap; max-width: 500px; overflow: hidden; text-overflow: ellipsis; \">&quot;endurance&quot;</td><td style=\"white-space: nowrap; max-width: 500px; overflow: hidden; text-overflow: ellipsis; \">&quot;sportsmen&quot;</td><td style=\"white-space: nowrap; max-width: 500px; overflow: hidden; text-overflow: ellipsis; \">&quot;none&quot;</td><td style=\"white-space: nowrap; max-width: 500px; overflow: hidden; text-overflow: ellipsis; \">&quot;sportsman&quot;</td></tr>\n",
       "<tr><td style=\"white-space: nowrap; max-width: 500px; overflow: hidden; text-overflow: ellipsis; \">&quot;B382&quot;</td><td style=\"white-space: nowrap; max-width: 500px; overflow: hidden; text-overflow: ellipsis; \">&quot;endurance&quot;</td><td style=\"white-space: nowrap; max-width: 500px; overflow: hidden; text-overflow: ellipsis; \">&quot;sportsmen&quot;</td><td style=\"white-space: nowrap; max-width: 500px; overflow: hidden; text-overflow: ellipsis; \">&quot;none&quot;</td><td style=\"white-space: nowrap; max-width: 500px; overflow: hidden; text-overflow: ellipsis; \">&quot;sportsman&quot;</td></tr>\n",
       "<tr><td style=\"white-space: nowrap; max-width: 500px; overflow: hidden; text-overflow: ellipsis; \">&quot;B399&quot;</td><td style=\"white-space: nowrap; max-width: 500px; overflow: hidden; text-overflow: ellipsis; \">&quot;speed&quot;</td><td style=\"white-space: nowrap; max-width: 500px; overflow: hidden; text-overflow: ellipsis; \">&quot;sportsmen&quot;</td><td style=\"white-space: nowrap; max-width: 500px; overflow: hidden; text-overflow: ellipsis; \">&quot;none&quot;</td><td style=\"white-space: nowrap; max-width: 500px; overflow: hidden; text-overflow: ellipsis; \">&quot;sportsman&quot;</td></tr>\n",
       "<tr><td style=\"white-space: nowrap; max-width: 500px; overflow: hidden; text-overflow: ellipsis; \">&quot;B427&quot;</td><td style=\"white-space: nowrap; max-width: 500px; overflow: hidden; text-overflow: ellipsis; \">&quot;endurance&quot;</td><td style=\"white-space: nowrap; max-width: 500px; overflow: hidden; text-overflow: ellipsis; \">&quot;sportsmen&quot;</td><td style=\"white-space: nowrap; max-width: 500px; overflow: hidden; text-overflow: ellipsis; \">&quot;none&quot;</td><td style=\"white-space: nowrap; max-width: 500px; overflow: hidden; text-overflow: ellipsis; \">&quot;sportsman&quot;</td></tr>\n",
       "<tr><td style=\"white-space: nowrap; max-width: 500px; overflow: hidden; text-overflow: ellipsis; \">&quot;B430&quot;</td><td style=\"white-space: nowrap; max-width: 500px; overflow: hidden; text-overflow: ellipsis; \">&quot;endurance&quot;</td><td style=\"white-space: nowrap; max-width: 500px; overflow: hidden; text-overflow: ellipsis; \">&quot;sportsmen&quot;</td><td style=\"white-space: nowrap; max-width: 500px; overflow: hidden; text-overflow: ellipsis; \">&quot;none&quot;</td><td style=\"white-space: nowrap; max-width: 500px; overflow: hidden; text-overflow: ellipsis; \">&quot;sportsman&quot;</td></tr>\n",
       "<tr><td style=\"white-space: nowrap; max-width: 500px; overflow: hidden; text-overflow: ellipsis; \">&quot;B431&quot;</td><td style=\"white-space: nowrap; max-width: 500px; overflow: hidden; text-overflow: ellipsis; \">&quot;endurance&quot;</td><td style=\"white-space: nowrap; max-width: 500px; overflow: hidden; text-overflow: ellipsis; \">&quot;sportsmen&quot;</td><td style=\"white-space: nowrap; max-width: 500px; overflow: hidden; text-overflow: ellipsis; \">&quot;none&quot;</td><td style=\"white-space: nowrap; max-width: 500px; overflow: hidden; text-overflow: ellipsis; \">&quot;sportsman&quot;</td></tr>\n",
       "<tr><td style=\"white-space: nowrap; max-width: 500px; overflow: hidden; text-overflow: ellipsis; \">&quot;B432&quot;</td><td style=\"white-space: nowrap; max-width: 500px; overflow: hidden; text-overflow: ellipsis; \">&quot;endurance&quot;</td><td style=\"white-space: nowrap; max-width: 500px; overflow: hidden; text-overflow: ellipsis; \">&quot;sportsmen&quot;</td><td style=\"white-space: nowrap; max-width: 500px; overflow: hidden; text-overflow: ellipsis; \">&quot;none&quot;</td><td style=\"white-space: nowrap; max-width: 500px; overflow: hidden; text-overflow: ellipsis; \">&quot;sportsman&quot;</td></tr>\n",
       "</tbody></table><p style=\"background: #fdd; padding: 0.4em;\">showing top 10 rows</p>\n"
      ],
      "text/plain": [
       "+--------+-------------+-------------+--------+-------------+\n",
       "| sample | pop         | super_pop   | gender | group       |\n",
       "+--------+-------------+-------------+--------+-------------+\n",
       "| str    | str         | str         | str    | str         |\n",
       "+--------+-------------+-------------+--------+-------------+\n",
       "| \"B102\" | \"speed\"     | \"sportsmen\" | \"none\" | \"sportsman\" |\n",
       "| \"B156\" | \"endurance\" | \"sportsmen\" | \"none\" | \"sportsman\" |\n",
       "| \"B24\"  | \"speed\"     | \"sportsmen\" | \"none\" | \"sportsman\" |\n",
       "| \"B338\" | \"endurance\" | \"sportsmen\" | \"none\" | \"sportsman\" |\n",
       "| \"B382\" | \"endurance\" | \"sportsmen\" | \"none\" | \"sportsman\" |\n",
       "| \"B399\" | \"speed\"     | \"sportsmen\" | \"none\" | \"sportsman\" |\n",
       "| \"B427\" | \"endurance\" | \"sportsmen\" | \"none\" | \"sportsman\" |\n",
       "| \"B430\" | \"endurance\" | \"sportsmen\" | \"none\" | \"sportsman\" |\n",
       "| \"B431\" | \"endurance\" | \"sportsmen\" | \"none\" | \"sportsman\" |\n",
       "| \"B432\" | \"endurance\" | \"sportsmen\" | \"none\" | \"sportsman\" |\n",
       "+--------+-------------+-------------+--------+-------------+\n",
       "showing top 10 rows"
      ]
     },
     "metadata": {},
     "output_type": "display_data"
    }
   ],
   "source": [
    "table.show()"
   ]
  },
  {
   "cell_type": "code",
   "execution_count": 129,
   "id": "de2a7e56-1452-47de-be9f-140026a028d3",
   "metadata": {},
   "outputs": [],
   "source": [
    "# adding meta data into matrix table\n",
    "mt = mt.annotate_cols(pheno = table[mt.s])"
   ]
  },
  {
   "cell_type": "code",
   "execution_count": 130,
   "id": "c4757adf-c9ed-4df2-9b42-3ba8a08ded5d",
   "metadata": {},
   "outputs": [
    {
     "data": {
      "text/plain": [
       "frozendict({'AFR': 660, 'AMR': 347, 'EAS': 504, 'EUR': 503, 'SAS': 489, 'sportsmen': 102, None: 45})"
      ]
     },
     "execution_count": 130,
     "metadata": {},
     "output_type": "execute_result"
    }
   ],
   "source": [
    "mt.aggregate_cols(hl.agg.counter(mt.pheno.super_pop))\n"
   ]
  },
  {
   "cell_type": "code",
   "execution_count": 131,
   "id": "adb7c7d9-6089-4c2c-aaf6-62961239b213",
   "metadata": {},
   "outputs": [],
   "source": [
    "mt = mt.filter_cols(mt.pheno.super_pop != \"NA\")"
   ]
  },
  {
   "cell_type": "code",
   "execution_count": 132,
   "id": "875a7417-9e76-40ed-9cc3-ce43ae8baaa5",
   "metadata": {},
   "outputs": [
    {
     "data": {
      "text/plain": [
       "frozendict({'AFR': 660, 'AMR': 347, 'EAS': 504, 'EUR': 503, 'SAS': 489, 'sportsmen': 102})"
      ]
     },
     "execution_count": 132,
     "metadata": {},
     "output_type": "execute_result"
    }
   ],
   "source": [
    "mt.aggregate_cols(hl.agg.counter(mt.pheno.super_pop))"
   ]
  },
  {
   "cell_type": "code",
   "execution_count": 133,
   "id": "333bb9bf-1783-49ec-a789-60f53aae49fd",
   "metadata": {},
   "outputs": [
    {
     "name": "stdout",
     "output_type": "stream",
     "text": [
      "----------------------------------------\n",
      "Global fields:\n",
      "    None\n",
      "----------------------------------------\n",
      "Column fields:\n",
      "    's': str\n",
      "    'pheno': struct {\n",
      "        pop: str, \n",
      "        super_pop: str, \n",
      "        gender: str, \n",
      "        group: str\n",
      "    }\n",
      "----------------------------------------\n",
      "Row fields:\n",
      "    'locus': locus<GRCh38>\n",
      "    'alleles': array<str>\n",
      "    'rsid': str\n",
      "    'qual': float64\n",
      "    'filters': set<str>\n",
      "    'info': struct {\n",
      "        AF: array<float64>, \n",
      "        AC: array<int32>, \n",
      "        NS: int32, \n",
      "        AN: int32, \n",
      "        EAS_AF: array<float64>, \n",
      "        EUR_AF: array<float64>, \n",
      "        AFR_AF: array<float64>, \n",
      "        AMR_AF: array<float64>, \n",
      "        SAS_AF: array<float64>, \n",
      "        VT: array<str>, \n",
      "        EX_TARGET: bool, \n",
      "        DP: int32, \n",
      "        BaseQRankSum: float64, \n",
      "        END: int32, \n",
      "        ExcessHet: float64, \n",
      "        FS: float64, \n",
      "        InbreedingCoeff: float64, \n",
      "        MLEAC: array<int32>, \n",
      "        MLEAF: array<float64>, \n",
      "        MQ: float64, \n",
      "        MQRankSum: float64, \n",
      "        QD: float64, \n",
      "        RAW_MQandDP: array<int32>, \n",
      "        ReadPosRankSum: float64, \n",
      "        SOR: float64\n",
      "    }\n",
      "----------------------------------------\n",
      "Entry fields:\n",
      "    'GT': call\n",
      "    'AD': array<int32>\n",
      "    'DP': int32\n",
      "    'GQ': int32\n",
      "    'MIN_DP': int32\n",
      "    'PGT': call\n",
      "    'PID': str\n",
      "    'PL': array<int32>\n",
      "    'PS': int32\n",
      "    'RGQ': int32\n",
      "    'SB': array<int32>\n",
      "----------------------------------------\n",
      "Column key: ['s']\n",
      "Row key: ['locus', 'alleles']\n",
      "----------------------------------------\n"
     ]
    }
   ],
   "source": [
    "mt.describe()"
   ]
  },
  {
   "cell_type": "code",
   "execution_count": 93,
   "id": "135fddd7-844d-4d08-9de4-313b20e07b76",
   "metadata": {},
   "outputs": [
    {
     "name": "stderr",
     "output_type": "stream",
     "text": [
      "2022-08-08 12:46:10 Hail: INFO: hwe_normalize: found 76496 variants after filtering out monomorphic sites.\n",
      "2022-08-08 12:46:12 Hail: INFO: pca: running PCA with 10 components...24) / 327]\n",
      "[Stage 974:===============================================>    (296 + 24) / 327]\r"
     ]
    }
   ],
   "source": [
    "# execute pca on matrix table\n",
    "eigenvalues, pcs, _ = hl.hwe_normalized_pca(mt.GT)"
   ]
  },
  {
   "cell_type": "code",
   "execution_count": 134,
   "id": "8544db1c-9c8d-48ff-a939-4d1c06f3d230",
   "metadata": {},
   "outputs": [
    {
     "name": "stdout",
     "output_type": "stream",
     "text": [
      "[46.95772179217532, 15.030188722578318, 5.991234608757411, 4.372042668284096, 4.013099499014388, 3.049046793432452, 2.552746022867229, 2.488035851583296, 2.47624153759411, 2.4449301358272466]\n"
     ]
    },
    {
     "data": {
      "text/html": [
       "<table><thead><tr><td style=\"white-space: nowrap; max-width: 500px; overflow: hidden; text-overflow: ellipsis; \" colspan=\"1\"><div style=\"text-align: left;\"></div></td><td style=\"white-space: nowrap; max-width: 500px; overflow: hidden; text-overflow: ellipsis; \" colspan=\"1\"><div style=\"text-align: left;\"></div></td></tr><tr><td style=\"white-space: nowrap; max-width: 500px; overflow: hidden; text-overflow: ellipsis; \" colspan=\"1\"><div style=\"text-align: left;border-bottom: solid 2px #000; padding-bottom: 5px\">s</div></td><td style=\"white-space: nowrap; max-width: 500px; overflow: hidden; text-overflow: ellipsis; \" colspan=\"1\"><div style=\"text-align: left;border-bottom: solid 2px #000; padding-bottom: 5px\">scores</div></td></tr><tr><td style=\"white-space: nowrap; max-width: 500px; overflow: hidden; text-overflow: ellipsis; text-align: left;\">str</td><td style=\"white-space: nowrap; max-width: 500px; overflow: hidden; text-overflow: ellipsis; text-align: left;\">array&lt;float64&gt;</td></tr>\n",
       "</thead><tbody><tr><td style=\"white-space: nowrap; max-width: 500px; overflow: hidden; text-overflow: ellipsis; \">&quot;B102&quot;</td><td style=\"white-space: nowrap; max-width: 500px; overflow: hidden; text-overflow: ellipsis; \">[-7.88e-02,-8.84e-02,-3.56e-02,3.93e-02,-1.90e-03,4.79e-05,3.59e-05,5.45e-04,-1.02e-03,-8.07e-04]</td></tr>\n",
       "<tr><td style=\"white-space: nowrap; max-width: 500px; overflow: hidden; text-overflow: ellipsis; \">&quot;B156&quot;</td><td style=\"white-space: nowrap; max-width: 500px; overflow: hidden; text-overflow: ellipsis; \">[-7.40e-02,-8.76e-02,-3.60e-02,3.89e-02,-3.86e-03,3.55e-04,8.07e-04,5.61e-04,-1.99e-03,3.61e-04]</td></tr>\n",
       "<tr><td style=\"white-space: nowrap; max-width: 500px; overflow: hidden; text-overflow: ellipsis; \">&quot;B24&quot;</td><td style=\"white-space: nowrap; max-width: 500px; overflow: hidden; text-overflow: ellipsis; \">[-7.41e-02,-1.01e-01,-3.74e-02,2.87e-02,-1.20e-03,1.14e-03,7.56e-04,7.88e-04,-1.24e-03,-1.42e-03]</td></tr>\n",
       "<tr><td style=\"white-space: nowrap; max-width: 500px; overflow: hidden; text-overflow: ellipsis; \">&quot;B338&quot;</td><td style=\"white-space: nowrap; max-width: 500px; overflow: hidden; text-overflow: ellipsis; \">[-7.60e-02,-8.89e-02,-3.08e-02,4.57e-02,-3.30e-03,-1.09e-03,-2.73e-05,1.08e-03,-4.26e-03,8.13e-05]</td></tr>\n",
       "<tr><td style=\"white-space: nowrap; max-width: 500px; overflow: hidden; text-overflow: ellipsis; \">&quot;B382&quot;</td><td style=\"white-space: nowrap; max-width: 500px; overflow: hidden; text-overflow: ellipsis; \">[-7.79e-02,-9.22e-02,-3.27e-02,3.71e-02,-3.74e-03,5.13e-04,-6.88e-04,2.89e-03,-1.25e-03,-8.99e-04]</td></tr>\n",
       "</tbody></table><p style=\"background: #fdd; padding: 0.4em;\">showing top 5 rows</p>\n"
      ],
      "text/plain": [
       "+--------+\n",
       "| s      |\n",
       "+--------+\n",
       "| str    |\n",
       "+--------+\n",
       "| \"B102\" |\n",
       "| \"B156\" |\n",
       "| \"B24\"  |\n",
       "| \"B338\" |\n",
       "| \"B382\" |\n",
       "+--------+\n",
       "\n",
       "+--------------------------------------------------------------------------------------------------+\n",
       "| scores                                                                                           |\n",
       "+--------------------------------------------------------------------------------------------------+\n",
       "| array<float64>                                                                                   |\n",
       "+--------------------------------------------------------------------------------------------------+\n",
       "| [-7.88e-02,-8.84e-02,-3.56e-02,3.93e-02,-1.90e-03,4.79e-05,3.59e-05,5.45e-04,-1.02e-03,-8.07e... |\n",
       "| [-7.40e-02,-8.76e-02,-3.60e-02,3.89e-02,-3.86e-03,3.55e-04,8.07e-04,5.61e-04,-1.99e-03,3.61e-04] |\n",
       "| [-7.41e-02,-1.01e-01,-3.74e-02,2.87e-02,-1.20e-03,1.14e-03,7.56e-04,7.88e-04,-1.24e-03,-1.42e... |\n",
       "| [-7.60e-02,-8.89e-02,-3.08e-02,4.57e-02,-3.30e-03,-1.09e-03,-2.73e-05,1.08e-03,-4.26e-03,8.13... |\n",
       "| [-7.79e-02,-9.22e-02,-3.27e-02,3.71e-02,-3.74e-03,5.13e-04,-6.88e-04,2.89e-03,-1.25e-03,-8.99... |\n",
       "+--------------------------------------------------------------------------------------------------+\n",
       "showing top 5 rows"
      ]
     },
     "metadata": {},
     "output_type": "display_data"
    }
   ],
   "source": [
    "print(eigenvalues)\n",
    "pcs.show(5, width=100)\n",
    "mt = mt.annotate_cols(scores = pcs[mt.s].scores)"
   ]
  },
  {
   "cell_type": "code",
   "execution_count": 135,
   "id": "3cf00067-cb32-4cb7-9416-3cba5e3b5347",
   "metadata": {},
   "outputs": [],
   "source": [
    "import pandas as pd\n",
    "import matplotlib.pyplot as plt\n",
    "import seaborn as sns\n",
    "from bokeh.models import CategoricalColorMapper\n",
    "mapper = CategoricalColorMapper(palette=[\"red\", \"yellow\", \"green\", \"blue\", \"purple\", \"orange\"], factors=[\"AFR\", \"AMR\", \"EAS\", \"EUR\", \"SAS\", \"sportsmen\"])\n",
    "palette = dict(sporstmen=\"orange\", AFR=\"red\", AMR=\"yellow\", EAS=\"green\", EUR=\"blue\", SAS=\"purple\")\n",
    "sns.set_style('darkgrid')"
   ]
  },
  {
   "cell_type": "code",
   "execution_count": 136,
   "id": "6170715e-7e95-4bdd-96db-196fbe971e62",
   "metadata": {},
   "outputs": [
    {
     "data": {
      "text/html": [
       "\n",
       "\n",
       "\n",
       "\n",
       "\n",
       "\n",
       "  <div class=\"bk-root\" id=\"e21e7934-fbaf-4d8a-b6a9-7e096750e7d7\" data-root-id=\"2977\"></div>\n"
      ]
     },
     "metadata": {},
     "output_type": "display_data"
    },
    {
     "data": {
      "application/javascript": [
       "(function(root) {\n",
       "  function embed_document(root) {\n",
       "    \n",
       "  var docs_json = {\"a5b2a6c5-e04d-4e7a-a5a9-5e3c962c6d86\":{\"roots\":{\"references\":[{\"attributes\":{\"below\":[{\"id\":\"2988\",\"type\":\"LinearAxis\"}],\"center\":[{\"id\":\"2992\",\"type\":\"Grid\"},{\"id\":\"2997\",\"type\":\"Grid\"}],\"left\":[{\"id\":\"2993\",\"type\":\"LinearAxis\"},{\"id\":\"3056\",\"type\":\"Legend\"},{\"id\":\"3057\",\"type\":\"ColorBar\"}],\"plot_height\":800,\"plot_width\":800,\"renderers\":[{\"id\":\"3019\",\"type\":\"GlyphRenderer\"},{\"id\":\"3025\",\"type\":\"GlyphRenderer\"},{\"id\":\"3031\",\"type\":\"GlyphRenderer\"},{\"id\":\"3037\",\"type\":\"GlyphRenderer\"},{\"id\":\"3043\",\"type\":\"GlyphRenderer\"},{\"id\":\"3049\",\"type\":\"GlyphRenderer\"}],\"title\":{\"id\":\"2978\",\"type\":\"Title\"},\"toolbar\":{\"id\":\"3004\",\"type\":\"Toolbar\"},\"x_range\":{\"id\":\"2980\",\"type\":\"DataRange1d\"},\"x_scale\":{\"id\":\"2984\",\"type\":\"LinearScale\"},\"y_range\":{\"id\":\"2982\",\"type\":\"DataRange1d\"},\"y_scale\":{\"id\":\"2986\",\"type\":\"LinearScale\"}},\"id\":\"2977\",\"subtype\":\"Figure\",\"type\":\"Plot\"},{\"attributes\":{\"fill_color\":{\"field\":\"label\",\"transform\":{\"id\":\"2976\",\"type\":\"CategoricalColorMapper\"}},\"line_color\":{\"field\":\"label\",\"transform\":{\"id\":\"2976\",\"type\":\"CategoricalColorMapper\"}},\"x\":{\"field\":\"x\"},\"y\":{\"field\":\"y\"}},\"id\":\"3017\",\"type\":\"Circle\"},{\"attributes\":{\"filters\":[{\"id\":\"3044\",\"type\":\"GroupFilter\"}],\"source\":{\"id\":\"3013\",\"type\":\"ColumnDataSource\"}},\"id\":\"3045\",\"type\":\"CDSView\"},{\"attributes\":{\"axis_label\":\"PC1\",\"formatter\":{\"id\":\"3159\",\"type\":\"BasicTickFormatter\"},\"ticker\":{\"id\":\"2989\",\"type\":\"BasicTicker\"}},\"id\":\"2988\",\"type\":\"LinearAxis\"},{\"attributes\":{},\"id\":\"2999\",\"type\":\"WheelZoomTool\"},{\"attributes\":{\"factors\":[\"AFR\",\"AMR\",\"EAS\",\"EUR\",\"SAS\",\"sportsmen\"],\"palette\":[\"red\",\"yellow\",\"green\",\"blue\",\"purple\",\"orange\"]},\"id\":\"2976\",\"type\":\"CategoricalColorMapper\"},{\"attributes\":{\"column_name\":\"label\",\"group\":\"sportsmen\"},\"id\":\"3044\",\"type\":\"GroupFilter\"},{\"attributes\":{\"fill_alpha\":{\"value\":0.1},\"fill_color\":{\"value\":\"#1f77b4\"},\"line_alpha\":{\"value\":0.1},\"line_color\":{\"value\":\"#1f77b4\"},\"x\":{\"field\":\"x\"},\"y\":{\"field\":\"y\"}},\"id\":\"3018\",\"type\":\"Circle\"},{\"attributes\":{\"filters\":[{\"id\":\"3032\",\"type\":\"GroupFilter\"}],\"source\":{\"id\":\"3013\",\"type\":\"ColumnDataSource\"}},\"id\":\"3033\",\"type\":\"CDSView\"},{\"attributes\":{\"fill_alpha\":{\"value\":0.1},\"fill_color\":{\"value\":\"#1f77b4\"},\"line_alpha\":{\"value\":0.1},\"line_color\":{\"value\":\"#1f77b4\"},\"x\":{\"field\":\"x\"},\"y\":{\"field\":\"y\"}},\"id\":\"3030\",\"type\":\"Circle\"},{\"attributes\":{},\"id\":\"3002\",\"type\":\"ResetTool\"},{\"attributes\":{\"data_source\":{\"id\":\"3013\",\"type\":\"ColumnDataSource\"},\"glyph\":{\"id\":\"3029\",\"type\":\"Circle\"},\"hover_glyph\":null,\"muted_glyph\":null,\"nonselection_glyph\":{\"id\":\"3030\",\"type\":\"Circle\"},\"selection_glyph\":null,\"view\":{\"id\":\"3027\",\"type\":\"CDSView\"}},\"id\":\"3031\",\"type\":\"GlyphRenderer\"},{\"attributes\":{\"data_source\":{\"id\":\"3013\",\"type\":\"ColumnDataSource\"},\"glyph\":{\"id\":\"3017\",\"type\":\"Circle\"},\"hover_glyph\":null,\"muted_glyph\":null,\"nonselection_glyph\":{\"id\":\"3018\",\"type\":\"Circle\"},\"selection_glyph\":null,\"view\":{\"id\":\"3015\",\"type\":\"CDSView\"}},\"id\":\"3019\",\"type\":\"GlyphRenderer\"},{\"attributes\":{\"dimension\":1,\"ticker\":{\"id\":\"2994\",\"type\":\"BasicTicker\"}},\"id\":\"2997\",\"type\":\"Grid\"},{\"attributes\":{\"click_policy\":\"hide\",\"items\":[{\"id\":\"3050\",\"type\":\"LegendItem\"},{\"id\":\"3051\",\"type\":\"LegendItem\"},{\"id\":\"3052\",\"type\":\"LegendItem\"},{\"id\":\"3053\",\"type\":\"LegendItem\"},{\"id\":\"3054\",\"type\":\"LegendItem\"},{\"id\":\"3055\",\"type\":\"LegendItem\"}]},\"id\":\"3056\",\"type\":\"Legend\"},{\"attributes\":{\"text\":\"PCA\"},\"id\":\"2978\",\"type\":\"Title\"},{\"attributes\":{\"label\":{\"value\":\"EAS\"},\"renderers\":[{\"id\":\"3031\",\"type\":\"GlyphRenderer\"}]},\"id\":\"3052\",\"type\":\"LegendItem\"},{\"attributes\":{},\"id\":\"2998\",\"type\":\"PanTool\"},{\"attributes\":{\"fill_color\":{\"field\":\"label\",\"transform\":{\"id\":\"2976\",\"type\":\"CategoricalColorMapper\"}},\"line_color\":{\"field\":\"label\",\"transform\":{\"id\":\"2976\",\"type\":\"CategoricalColorMapper\"}},\"x\":{\"field\":\"x\"},\"y\":{\"field\":\"y\"}},\"id\":\"3035\",\"type\":\"Circle\"},{\"attributes\":{\"fill_alpha\":{\"value\":0.1},\"fill_color\":{\"value\":\"#1f77b4\"},\"line_alpha\":{\"value\":0.1},\"line_color\":{\"value\":\"#1f77b4\"},\"x\":{\"field\":\"x\"},\"y\":{\"field\":\"y\"}},\"id\":\"3048\",\"type\":\"Circle\"},{\"attributes\":{\"overlay\":{\"id\":\"3167\",\"type\":\"BoxAnnotation\"}},\"id\":\"3000\",\"type\":\"BoxZoomTool\"},{\"attributes\":{},\"id\":\"3166\",\"type\":\"Selection\"},{\"attributes\":{\"data_source\":{\"id\":\"3013\",\"type\":\"ColumnDataSource\"},\"glyph\":{\"id\":\"3047\",\"type\":\"Circle\"},\"hover_glyph\":null,\"muted_glyph\":null,\"nonselection_glyph\":{\"id\":\"3048\",\"type\":\"Circle\"},\"selection_glyph\":null,\"view\":{\"id\":\"3045\",\"type\":\"CDSView\"}},\"id\":\"3049\",\"type\":\"GlyphRenderer\"},{\"attributes\":{\"label\":{\"value\":\"AMR\"},\"renderers\":[{\"id\":\"3025\",\"type\":\"GlyphRenderer\"}]},\"id\":\"3051\",\"type\":\"LegendItem\"},{\"attributes\":{},\"id\":\"3001\",\"type\":\"SaveTool\"},{\"attributes\":{\"column_name\":\"label\",\"group\":\"EUR\"},\"id\":\"3032\",\"type\":\"GroupFilter\"},{\"attributes\":{},\"id\":\"3003\",\"type\":\"HelpTool\"},{\"attributes\":{},\"id\":\"2989\",\"type\":\"BasicTicker\"},{\"attributes\":{\"label\":{\"value\":\"AFR\"},\"renderers\":[{\"id\":\"3019\",\"type\":\"GlyphRenderer\"}]},\"id\":\"3050\",\"type\":\"LegendItem\"},{\"attributes\":{\"label\":{\"value\":\"EUR\"},\"renderers\":[{\"id\":\"3037\",\"type\":\"GlyphRenderer\"}]},\"id\":\"3053\",\"type\":\"LegendItem\"},{\"attributes\":{},\"id\":\"3163\",\"type\":\"BasicTickFormatter\"},{\"attributes\":{\"filters\":[{\"id\":\"3038\",\"type\":\"GroupFilter\"}],\"source\":{\"id\":\"3013\",\"type\":\"ColumnDataSource\"}},\"id\":\"3039\",\"type\":\"CDSView\"},{\"attributes\":{},\"id\":\"2986\",\"type\":\"LinearScale\"},{\"attributes\":{\"fill_alpha\":{\"value\":0.1},\"fill_color\":{\"value\":\"#1f77b4\"},\"line_alpha\":{\"value\":0.1},\"line_color\":{\"value\":\"#1f77b4\"},\"x\":{\"field\":\"x\"},\"y\":{\"field\":\"y\"}},\"id\":\"3036\",\"type\":\"Circle\"},{\"attributes\":{\"label\":{\"value\":\"sportsmen\"},\"renderers\":[{\"id\":\"3049\",\"type\":\"GlyphRenderer\"}]},\"id\":\"3055\",\"type\":\"LegendItem\"},{\"attributes\":{\"data_source\":{\"id\":\"3013\",\"type\":\"ColumnDataSource\"},\"glyph\":{\"id\":\"3035\",\"type\":\"Circle\"},\"hover_glyph\":null,\"muted_glyph\":null,\"nonselection_glyph\":{\"id\":\"3036\",\"type\":\"Circle\"},\"selection_glyph\":null,\"view\":{\"id\":\"3033\",\"type\":\"CDSView\"}},\"id\":\"3037\",\"type\":\"GlyphRenderer\"},{\"attributes\":{\"fill_color\":{\"field\":\"label\",\"transform\":{\"id\":\"2976\",\"type\":\"CategoricalColorMapper\"}},\"line_color\":{\"field\":\"label\",\"transform\":{\"id\":\"2976\",\"type\":\"CategoricalColorMapper\"}},\"x\":{\"field\":\"x\"},\"y\":{\"field\":\"y\"}},\"id\":\"3023\",\"type\":\"Circle\"},{\"attributes\":{\"label\":{\"value\":\"SAS\"},\"renderers\":[{\"id\":\"3043\",\"type\":\"GlyphRenderer\"}]},\"id\":\"3054\",\"type\":\"LegendItem\"},{\"attributes\":{\"column_name\":\"label\",\"group\":\"AMR\"},\"id\":\"3020\",\"type\":\"GroupFilter\"},{\"attributes\":{},\"id\":\"2984\",\"type\":\"LinearScale\"},{\"attributes\":{\"active_drag\":\"auto\",\"active_inspect\":\"auto\",\"active_multi\":null,\"active_scroll\":\"auto\",\"active_tap\":\"auto\",\"tools\":[{\"id\":\"2998\",\"type\":\"PanTool\"},{\"id\":\"2999\",\"type\":\"WheelZoomTool\"},{\"id\":\"3000\",\"type\":\"BoxZoomTool\"},{\"id\":\"3001\",\"type\":\"SaveTool\"},{\"id\":\"3002\",\"type\":\"ResetTool\"},{\"id\":\"3003\",\"type\":\"HelpTool\"},{\"id\":\"3012\",\"type\":\"HoverTool\"}]},\"id\":\"3004\",\"type\":\"Toolbar\"},{\"attributes\":{\"callback\":null},\"id\":\"2980\",\"type\":\"DataRange1d\"},{\"attributes\":{\"filters\":[{\"id\":\"3026\",\"type\":\"GroupFilter\"}],\"source\":{\"id\":\"3013\",\"type\":\"ColumnDataSource\"}},\"id\":\"3027\",\"type\":\"CDSView\"},{\"attributes\":{\"fill_color\":{\"field\":\"label\",\"transform\":{\"id\":\"2976\",\"type\":\"CategoricalColorMapper\"}},\"line_color\":{\"field\":\"label\",\"transform\":{\"id\":\"2976\",\"type\":\"CategoricalColorMapper\"}},\"x\":{\"field\":\"x\"},\"y\":{\"field\":\"y\"}},\"id\":\"3041\",\"type\":\"Circle\"},{\"attributes\":{\"column_name\":\"label\",\"group\":\"AFR\"},\"id\":\"3014\",\"type\":\"GroupFilter\"},{\"attributes\":{},\"id\":\"3159\",\"type\":\"BasicTickFormatter\"},{\"attributes\":{\"fill_alpha\":{\"value\":0.1},\"fill_color\":{\"value\":\"#1f77b4\"},\"line_alpha\":{\"value\":0.1},\"line_color\":{\"value\":\"#1f77b4\"},\"x\":{\"field\":\"x\"},\"y\":{\"field\":\"y\"}},\"id\":\"3024\",\"type\":\"Circle\"},{\"attributes\":{\"column_name\":\"label\",\"group\":\"SAS\"},\"id\":\"3038\",\"type\":\"GroupFilter\"},{\"attributes\":{\"data_source\":{\"id\":\"3013\",\"type\":\"ColumnDataSource\"},\"glyph\":{\"id\":\"3023\",\"type\":\"Circle\"},\"hover_glyph\":null,\"muted_glyph\":null,\"nonselection_glyph\":{\"id\":\"3024\",\"type\":\"Circle\"},\"selection_glyph\":null,\"view\":{\"id\":\"3021\",\"type\":\"CDSView\"}},\"id\":\"3025\",\"type\":\"GlyphRenderer\"},{\"attributes\":{\"color_mapper\":null,\"formatter\":{\"id\":\"3163\",\"type\":\"BasicTickFormatter\"},\"ticker\":{\"id\":\"3164\",\"type\":\"BasicTicker\"},\"visible\":false},\"id\":\"3057\",\"type\":\"ColorBar\"},{\"attributes\":{\"callback\":null},\"id\":\"2982\",\"type\":\"DataRange1d\"},{\"attributes\":{\"ticker\":{\"id\":\"2989\",\"type\":\"BasicTicker\"}},\"id\":\"2992\",\"type\":\"Grid\"},{\"attributes\":{\"filters\":[{\"id\":\"3014\",\"type\":\"GroupFilter\"}],\"source\":{\"id\":\"3013\",\"type\":\"ColumnDataSource\"}},\"id\":\"3015\",\"type\":\"CDSView\"},{\"attributes\":{\"axis_label\":\"PC2\",\"formatter\":{\"id\":\"3161\",\"type\":\"BasicTickFormatter\"},\"ticker\":{\"id\":\"2994\",\"type\":\"BasicTicker\"}},\"id\":\"2993\",\"type\":\"LinearAxis\"},{\"attributes\":{\"callback\":null,\"data\":{\"index\":[0,1,2,3,4,5,6,7,8,9,10,11,12,13,14,15,16,17,18,19,20,21,22,23,24,25,26,27,28,29,30,31,32,33,34,35,36,37,38,39,40,41,42,43,44,45,46,47,48,49,50,51,52,53,54,55,56,57,58,59,60,61,62,63,64,65,66,67,68,69,70,71,72,73,74,75,76,77,78,79,80,81,82,83,84,85,86,87,88,89,90,91,92,93,94,95,96,97,98,99,100,101,102,103,104,105,106,107,108,109,110,111,112,113,114,115,116,117,118,119,120,121,122,123,124,125,126,127,128,129,130,131,132,133,134,135,136,137,138,139,140,141,142,143,144,145,146,147,148,149,150,151,152,153,154,155,156,157,158,159,160,161,162,163,164,165,166,167,168,169,170,171,172,173,174,175,176,177,178,179,180,181,182,183,184,185,186,187,188,189,190,191,192,193,194,195,196,197,198,199,200,201,202,203,204,205,206,207,208,209,210,211,212,213,214,215,216,217,218,219,220,221,222,223,224,225,226,227,228,229,230,231,232,233,234,235,236,237,238,239,240,241,242,243,244,245,246,247,248,249,250,251,252,253,254,255,256,257,258,259,260,261,262,263,264,265,266,267,268,269,270,271,272,273,274,275,276,277,278,279,280,281,282,283,284,285,286,287,288,289,290,291,292,293,294,295,296,297,298,299,300,301,302,303,304,305,306,307,308,309,310,311,312,313,314,315,316,317,318,319,320,321,322,323,324,325,326,327,328,329,330,331,332,333,334,335,336,337,338,339,340,341,342,343,344,345,346,347,348,349,350,351,352,353,354,355,356,357,358,359,360,361,362,363,364,365,366,367,368,369,370,371,372,373,374,375,376,377,378,379,380,381,382,383,384,385,386,387,388,389,390,391,392,393,394,395,396,397,398,399,400,401,402,403,404,405,406,407,408,409,410,411,412,413,414,415,416,417,418,419,420,421,422,423,424,425,426,427,428,429,430,431,432,433,434,435,436,437,438,439,440,441,442,443,444,445,446,447,448,449,450,451,452,453,454,455,456,457,458,459,460,461,462,463,464,465,466,467,468,469,470,471,472,473,474,475,476,477,478,479,480,481,482,483,484,485,486,487,488,489,490,491,492,493,494,495,496,497,498,499,500,501,502,503,504,505,506,507,508,509,510,511,512,513,514,515,516,517,518,519,520,521,522,523,524,525,526,527,528,529,530,531,532,533,534,535,536,537,538,539,540,541,542,543,544,545,546,547,548,549,550,551,552,553,554,555,556,557,558,559,560,561,562,563,564,565,566,567,568,569,570,571,572,573,574,575,576,577,578,579,580,581,582,583,584,585,586,587,588,589,590,591,592,593,594,595,596,597,598,599,600,601,602,603,604,605,606,607,608,609,610,611,612,613,614,615,616,617,618,619,620,621,622,623,624,625,626,627,628,629,630,631,632,633,634,635,636,637,638,639,640,641,642,643,644,645,646,647,648,649,650,651,652,653,654,655,656,657,658,659,660,661,662,663,664,665,666,667,668,669,670,671,672,673,674,675,676,677,678,679,680,681,682,683,684,685,686,687,688,689,690,691,692,693,694,695,696,697,698,699,700,701,702,703,704,705,706,707,708,709,710,711,712,713,714,715,716,717,718,719,720,721,722,723,724,725,726,727,728,729,730,731,732,733,734,735,736,737,738,739,740,741,742,743,744,745,746,747,748,749,750,751,752,753,754,755,756,757,758,759,760,761,762,763,764,765,766,767,768,769,770,771,772,773,774,775,776,777,778,779,780,781,782,783,784,785,786,787,788,789,790,791,792,793,794,795,796,797,798,799,800,801,802,803,804,805,806,807,808,809,810,811,812,813,814,815,816,817,818,819,820,821,822,823,824,825,826,827,828,829,830,831,832,833,834,835,836,837,838,839,840,841,842,843,844,845,846,847,848,849,850,851,852,853,854,855,856,857,858,859,860,861,862,863,864,865,866,867,868,869,870,871,872,873,874,875,876,877,878,879,880,881,882,883,884,885,886,887,888,889,890,891,892,893,894,895,896,897,898,899,900,901,902,903,904,905,906,907,908,909,910,911,912,913,914,915,916,917,918,919,920,921,922,923,924,925,926,927,928,929,930,931,932,933,934,935,936,937,938,939,940,941,942,943,944,945,946,947,948,949,950,951,952,953,954,955,956,957,958,959,960,961,962,963,964,965,966,967,968,969,970,971,972,973,974,975,976,977,978,979,980,981,982,983,984,985,986,987,988,989,990,991,992,993,994,995,996,997,998,999,1000,1001,1002,1003,1004,1005,1006,1007,1008,1009,1010,1011,1012,1013,1014,1015,1016,1017,1018,1019,1020,1021,1022,1023,1024,1025,1026,1027,1028,1029,1030,1031,1032,1033,1034,1035,1036,1037,1038,1039,1040,1041,1042,1043,1044,1045,1046,1047,1048,1049,1050,1051,1052,1053,1054,1055,1056,1057,1058,1059,1060,1061,1062,1063,1064,1065,1066,1067,1068,1069,1070,1071,1072,1073,1074,1075,1076,1077,1078,1079,1080,1081,1082,1083,1084,1085,1086,1087,1088,1089,1090,1091,1092,1093,1094,1095,1096,1097,1098,1099,1100,1101,1102,1103,1104,1105,1106,1107,1108,1109,1110,1111,1112,1113,1114,1115,1116,1117,1118,1119,1120,1121,1122,1123,1124,1125,1126,1127,1128,1129,1130,1131,1132,1133,1134,1135,1136,1137,1138,1139,1140,1141,1142,1143,1144,1145,1146,1147,1148,1149,1150,1151,1152,1153,1154,1155,1156,1157,1158,1159,1160,1161,1162,1163,1164,1165,1166,1167,1168,1169,1170,1171,1172,1173,1174,1175,1176,1177,1178,1179,1180,1181,1182,1183,1184,1185,1186,1187,1188,1189,1190,1191,1192,1193,1194,1195,1196,1197,1198,1199,1200,1201,1202,1203,1204,1205,1206,1207,1208,1209,1210,1211,1212,1213,1214,1215,1216,1217,1218,1219,1220,1221,1222,1223,1224,1225,1226,1227,1228,1229,1230,1231,1232,1233,1234,1235,1236,1237,1238,1239,1240,1241,1242,1243,1244,1245,1246,1247,1248,1249,1250,1251,1252,1253,1254,1255,1256,1257,1258,1259,1260,1261,1262,1263,1264,1265,1266,1267,1268,1269,1270,1271,1272,1273,1274,1275,1276,1277,1278,1279,1280,1281,1282,1283,1284,1285,1286,1287,1288,1289,1290,1291,1292,1293,1294,1295,1296,1297,1298,1299,1300,1301,1302,1303,1304,1305,1306,1307,1308,1309,1310,1311,1312,1313,1314,1315,1316,1317,1318,1319,1320,1321,1322,1323,1324,1325,1326,1327,1328,1329,1330,1331,1332,1333,1334,1335,1336,1337,1338,1339,1340,1341,1342,1343,1344,1345,1346,1347,1348,1349,1350,1351,1352,1353,1354,1355,1356,1357,1358,1359,1360,1361,1362,1363,1364,1365,1366,1367,1368,1369,1370,1371,1372,1373,1374,1375,1376,1377,1378,1379,1380,1381,1382,1383,1384,1385,1386,1387,1388,1389,1390,1391,1392,1393,1394,1395,1396,1397,1398,1399,1400,1401,1402,1403,1404,1405,1406,1407,1408,1409,1410,1411,1412,1413,1414,1415,1416,1417,1418,1419,1420,1421,1422,1423,1424,1425,1426,1427,1428,1429,1430,1431,1432,1433,1434,1435,1436,1437,1438,1439,1440,1441,1442,1443,1444,1445,1446,1447,1448,1449,1450,1451,1452,1453,1454,1455,1456,1457,1458,1459,1460,1461,1462,1463,1464,1465,1466,1467,1468,1469,1470,1471,1472,1473,1474,1475,1476,1477,1478,1479,1480,1481,1482,1483,1484,1485,1486,1487,1488,1489,1490,1491,1492,1493,1494,1495,1496,1497,1498,1499,1500,1501,1502,1503,1504,1505,1506,1507,1508,1509,1510,1511,1512,1513,1514,1515,1516,1517,1518,1519,1520,1521,1522,1523,1524,1525,1526,1527,1528,1529,1530,1531,1532,1533,1534,1535,1536,1537,1538,1539,1540,1541,1542,1543,1544,1545,1546,1547,1548,1549,1550,1551,1552,1553,1554,1555,1556,1557,1558,1559,1560,1561,1562,1563,1564,1565,1566,1567,1568,1569,1570,1571,1572,1573,1574,1575,1576,1577,1578,1579,1580,1581,1582,1583,1584,1585,1586,1587,1588,1589,1590,1591,1592,1593,1594,1595,1596,1597,1598,1599,1600,1601,1602,1603,1604,1605,1606,1607,1608,1609,1610,1611,1612,1613,1614,1615,1616,1617,1618,1619,1620,1621,1622,1623,1624,1625,1626,1627,1628,1629,1630,1631,1632,1633,1634,1635,1636,1637,1638,1639,1640,1641,1642,1643,1644,1645,1646,1647,1648,1649,1650,1651,1652,1653,1654,1655,1656,1657,1658,1659,1660,1661,1662,1663,1664,1665,1666,1667,1668,1669,1670,1671,1672,1673,1674,1675,1676,1677,1678,1679,1680,1681,1682,1683,1684,1685,1686,1687,1688,1689,1690,1691,1692,1693,1694,1695,1696,1697,1698,1699,1700,1701,1702,1703,1704,1705,1706,1707,1708,1709,1710,1711,1712,1713,1714,1715,1716,1717,1718,1719,1720,1721,1722,1723,1724,1725,1726,1727,1728,1729,1730,1731,1732,1733,1734,1735,1736,1737,1738,1739,1740,1741,1742,1743,1744,1745,1746,1747,1748,1749,1750,1751,1752,1753,1754,1755,1756,1757,1758,1759,1760,1761,1762,1763,1764,1765,1766,1767,1768,1769,1770,1771,1772,1773,1774,1775,1776,1777,1778,1779,1780,1781,1782,1783,1784,1785,1786,1787,1788,1789,1790,1791,1792,1793,1794,1795,1796,1797,1798,1799,1800,1801,1802,1803,1804,1805,1806,1807,1808,1809,1810,1811,1812,1813,1814,1815,1816,1817,1818,1819,1820,1821,1822,1823,1824,1825,1826,1827,1828,1829,1830,1831,1832,1833,1834,1835,1836,1837,1838,1839,1840,1841,1842,1843,1844,1845,1846,1847,1848,1849,1850,1851,1852,1853,1854,1855,1856,1857,1858,1859,1860,1861,1862,1863,1864,1865,1866,1867,1868,1869,1870,1871,1872,1873,1874,1875,1876,1877,1878,1879,1880,1881,1882,1883,1884,1885,1886,1887,1888,1889,1890,1891,1892,1893,1894,1895,1896,1897,1898,1899,1900,1901,1902,1903,1904,1905,1906,1907,1908,1909,1910,1911,1912,1913,1914,1915,1916,1917,1918,1919,1920,1921,1922,1923,1924,1925,1926,1927,1928,1929,1930,1931,1932,1933,1934,1935,1936,1937,1938,1939,1940,1941,1942,1943,1944,1945,1946,1947,1948,1949,1950,1951,1952,1953,1954,1955,1956,1957,1958,1959,1960,1961,1962,1963,1964,1965,1966,1967,1968,1969,1970,1971,1972,1973,1974,1975,1976,1977,1978,1979,1980,1981,1982,1983,1984,1985,1986,1987,1988,1989,1990,1991,1992,1993,1994,1995,1996,1997,1998,1999,2000,2001,2002,2003,2004,2005,2006,2007,2008,2009,2010,2011,2012,2013,2014,2015,2016,2017,2018,2019,2020,2021,2022,2023,2024,2025,2026,2027,2028,2029,2030,2031,2032,2033,2034,2035,2036,2037,2038,2039,2040,2041,2042,2043,2044,2045,2046,2047,2048,2049,2050,2051,2052,2053,2054,2055,2056,2057,2058,2059,2060,2061],\"label\":[\"EAS\",\"EAS\",\"EAS\",\"EAS\",\"EAS\",\"EAS\",\"EAS\",\"EAS\",\"EAS\",\"EAS\",\"EAS\",\"EAS\",\"EAS\",\"EAS\",\"EAS\",\"EAS\",\"EAS\",\"EAS\",\"EAS\",\"EAS\",\"EAS\",\"EAS\",\"EAS\",\"EAS\",\"EAS\",\"EAS\",\"EAS\",\"EAS\",\"EAS\",\"EAS\",\"EAS\",\"EAS\",\"EAS\",\"EAS\",\"EAS\",\"EAS\",\"EAS\",\"EAS\",\"EAS\",\"EAS\",\"EAS\",\"EAS\",\"EAS\",\"EAS\",\"EAS\",\"EAS\",\"EAS\",\"EAS\",\"EAS\",\"EAS\",\"EAS\",\"EAS\",\"EAS\",\"EAS\",\"EAS\",\"EAS\",\"EAS\",\"EAS\",\"EAS\",\"EAS\",\"EAS\",\"EAS\",\"EAS\",\"EAS\",\"EAS\",\"EAS\",\"EAS\",\"EAS\",\"EAS\",\"EAS\",\"EAS\",\"EAS\",\"EAS\",\"EAS\",\"EAS\",\"AMR\",\"AMR\",\"EAS\",\"EAS\",\"EAS\",\"EAS\",\"EAS\",\"EAS\",\"EAS\",\"EAS\",\"EAS\",\"EAS\",\"EAS\",\"EAS\",\"EAS\",\"EAS\",\"EAS\",\"EAS\",\"EAS\",\"EAS\",\"EAS\",\"EAS\",\"EAS\",\"EAS\",\"EAS\",\"EAS\",\"EAS\",\"EAS\",\"EAS\",\"EAS\",\"EAS\",\"EAS\",\"EAS\",\"EAS\",\"EAS\",\"EAS\",\"EAS\",\"EAS\",\"EAS\",\"EAS\",\"EAS\",\"EAS\",\"EAS\",\"EAS\",\"EAS\",\"EAS\",\"EAS\",\"EAS\",\"EAS\",\"EAS\",\"EAS\",\"EAS\",\"EAS\",\"EAS\",\"EAS\",\"EAS\",\"EAS\",\"EAS\",\"EAS\",\"EAS\",\"EAS\",\"EAS\",\"EAS\",\"EAS\",\"EAS\",\"AMR\",\"AMR\",\"EAS\",\"EAS\",\"EAS\",\"EAS\",\"EAS\",\"EAS\",\"EAS\",\"EAS\",\"EAS\",\"EAS\",\"EAS\",\"EAS\",\"EAS\",\"EAS\",\"EAS\",\"EAS\",\"EAS\",\"EAS\",\"EAS\",\"EAS\",\"EAS\",\"EAS\",\"EAS\",\"EAS\",\"EAS\",\"EAS\",\"EAS\",\"EAS\",\"AMR\",\"EAS\",\"EAS\",\"EAS\",\"EAS\",\"EAS\",\"EAS\",\"EAS\",\"EAS\",\"EAS\",\"EAS\",\"EAS\",\"EAS\",\"EAS\",\"EAS\",\"EAS\",\"EAS\",\"EAS\",\"EAS\",\"EAS\",\"EAS\",\"EAS\",\"EAS\",\"EAS\",\"EAS\",\"EAS\",\"EAS\",\"EAS\",\"EAS\",\"EAS\",\"EAS\",\"EAS\",\"AMR\",\"AMR\",\"AMR\",\"EAS\",\"EAS\",\"EAS\",\"EAS\",\"EAS\",\"EAS\",\"EAS\",\"EAS\",\"EAS\",\"EAS\",\"EAS\",\"EAS\",\"EAS\",\"EAS\",\"EAS\",\"EAS\",\"EAS\",\"EAS\",\"EAS\",\"EAS\",\"EAS\",\"EAS\",\"EAS\",\"EAS\",\"EAS\",\"EAS\",\"EAS\",\"EAS\",\"EAS\",\"AMR\",\"AMR\",\"EAS\",\"EAS\",\"EAS\",\"EAS\",\"EAS\",\"EAS\",\"EAS\",\"EAS\",\"EAS\",\"EAS\",\"EAS\",\"EAS\",\"EAS\",\"EAS\",\"EAS\",\"EAS\",\"EAS\",\"EAS\",\"EAS\",\"EAS\",\"EAS\",\"EAS\",\"EAS\",\"EAS\",\"EAS\",\"EAS\",\"EAS\",\"EAS\",\"EAS\",\"AMR\",\"AMR\",\"AMR\",\"AMR\",\"AMR\",\"AMR\",\"EAS\",\"EAS\",\"EAS\",\"EAS\",\"EAS\",\"EAS\",\"EAS\",\"EAS\",\"EAS\",\"EAS\",\"EAS\",\"EAS\",\"EAS\",\"EAS\",\"EAS\",\"EAS\",\"EAS\",\"EAS\",\"EAS\",\"EAS\",\"EAS\",\"EAS\",\"EAS\",\"AMR\",\"AMR\",\"EAS\",\"EAS\",\"EAS\",\"EAS\",\"EAS\",\"EAS\",\"EAS\",\"EAS\",\"EAS\",\"EAS\",\"EAS\",\"EAS\",\"AMR\",\"AMR\",\"AMR\",\"EAS\",\"EAS\",\"EAS\",\"EAS\",\"EAS\",\"EAS\",\"EAS\",\"EAS\",\"EAS\",\"EAS\",\"EAS\",\"EAS\",\"EAS\",\"EAS\",\"EAS\",\"EAS\",\"EAS\",\"EAS\",\"AMR\",\"AMR\",\"AMR\",\"AMR\",\"AMR\",\"EAS\",\"EAS\",\"EAS\",\"EAS\",\"EAS\",\"EAS\",\"EAS\",\"EAS\",\"EUR\",\"AMR\",\"AMR\",\"AMR\",\"AMR\",\"AMR\",\"AMR\",\"AMR\",\"EAS\",\"EAS\",\"EAS\",\"EAS\",\"EAS\",\"EAS\",\"EAS\",\"EAS\",\"EAS\",\"EAS\",\"AMR\",\"AMR\",\"AMR\",\"AMR\",\"EAS\",\"EAS\",\"EAS\",\"EAS\",\"EAS\",\"EAS\",\"AMR\",\"AMR\",\"AMR\",\"EAS\",\"EUR\",\"EUR\",\"EUR\",\"EUR\",\"EUR\",\"AMR\",\"AMR\",\"AMR\",\"AMR\",\"AMR\",\"EUR\",\"EUR\",\"AMR\",\"AMR\",\"AMR\",\"AMR\",\"EAS\",\"EUR\",\"EUR\",\"EUR\",\"EUR\",\"EUR\",\"EUR\",\"EUR\",\"AFR\",\"AMR\",\"AMR\",\"EUR\",\"EUR\",\"EUR\",\"EUR\",\"EUR\",\"EUR\",\"EUR\",\"SAS\",\"AMR\",\"AMR\",\"AMR\",\"AMR\",\"AMR\",\"EUR\",\"EUR\",\"EUR\",\"EUR\",\"EUR\",\"EUR\",\"EUR\",\"EUR\",\"EUR\",\"AMR\",\"AMR\",\"EUR\",\"EUR\",\"EUR\",\"EUR\",\"EUR\",\"EUR\",\"EUR\",\"EUR\",\"EUR\",\"EUR\",\"EUR\",\"SAS\",\"SAS\",\"SAS\",\"AMR\",\"AMR\",\"AMR\",\"EUR\",\"sportsmen\",\"EUR\",\"EUR\",\"EUR\",\"EUR\",\"EUR\",\"EUR\",\"EUR\",\"EUR\",\"EUR\",\"EUR\",\"SAS\",\"SAS\",\"SAS\",\"AMR\",\"AMR\",\"AMR\",\"AMR\",\"EUR\",\"EUR\",\"EUR\",\"EUR\",\"sportsmen\",\"EUR\",\"EUR\",\"EUR\",\"EUR\",\"sportsmen\",\"EUR\",\"EUR\",\"EUR\",\"EUR\",\"EUR\",\"EUR\",\"EUR\",\"EUR\",\"EUR\",\"EUR\",\"SAS\",\"SAS\",\"SAS\",\"SAS\",\"SAS\",\"SAS\",\"SAS\",\"SAS\",\"SAS\",\"SAS\",\"SAS\",\"AMR\",\"AMR\",\"EUR\",\"EUR\",\"EUR\",\"EUR\",\"EUR\",\"sportsmen\",\"EUR\",\"sportsmen\",\"EUR\",\"EUR\",\"EUR\",\"EUR\",\"EUR\",\"EUR\",\"EUR\",\"EUR\",\"EUR\",\"sportsmen\",\"EUR\",\"EUR\",\"EUR\",\"EUR\",\"SAS\",\"SAS\",\"SAS\",\"SAS\",\"SAS\",\"SAS\",\"AMR\",\"SAS\",\"SAS\",\"SAS\",\"SAS\",\"EUR\",\"EUR\",\"EUR\",\"EUR\",\"EUR\",\"EUR\",\"EUR\",\"EUR\",\"EUR\",\"EUR\",\"sportsmen\",\"EUR\",\"EUR\",\"sportsmen\",\"EUR\",\"EUR\",\"EUR\",\"EUR\",\"EUR\",\"EUR\",\"EUR\",\"EUR\",\"EUR\",\"EUR\",\"EUR\",\"EUR\",\"AMR\",\"SAS\",\"SAS\",\"SAS\",\"SAS\",\"SAS\",\"SAS\",\"SAS\",\"SAS\",\"SAS\",\"SAS\",\"SAS\",\"SAS\",\"SAS\",\"AMR\",\"SAS\",\"SAS\",\"SAS\",\"SAS\",\"AMR\",\"EUR\",\"EUR\",\"EUR\",\"sportsmen\",\"EUR\",\"EUR\",\"EUR\",\"EUR\",\"EUR\",\"EUR\",\"EUR\",\"EUR\",\"EUR\",\"sportsmen\",\"sportsmen\",\"sportsmen\",\"EUR\",\"EUR\",\"EUR\",\"EUR\",\"EUR\",\"EUR\",\"EUR\",\"EUR\",\"EUR\",\"EUR\",\"EUR\",\"EUR\",\"EUR\",\"EUR\",\"AMR\",\"SAS\",\"SAS\",\"SAS\",\"SAS\",\"SAS\",\"AMR\",\"SAS\",\"SAS\",\"SAS\",\"SAS\",\"SAS\",\"SAS\",\"SAS\",\"SAS\",\"SAS\",\"SAS\",\"SAS\",\"AMR\",\"SAS\",\"SAS\",\"AMR\",\"EUR\",\"sportsmen\",\"EUR\",\"EUR\",\"EUR\",\"sportsmen\",\"EUR\",\"EUR\",\"EUR\",\"sportsmen\",\"EUR\",\"sportsmen\",\"EUR\",\"EUR\",\"EUR\",\"EUR\",\"EUR\",\"sportsmen\",\"EUR\",\"sportsmen\",\"EUR\",\"sportsmen\",\"sportsmen\",\"EUR\",\"EUR\",\"sportsmen\",\"EUR\",\"EUR\",\"EUR\",\"AMR\",\"SAS\",\"SAS\",\"SAS\",\"SAS\",\"SAS\",\"SAS\",\"SAS\",\"SAS\",\"SAS\",\"SAS\",\"SAS\",\"SAS\",\"SAS\",\"SAS\",\"SAS\",\"SAS\",\"SAS\",\"SAS\",\"SAS\",\"SAS\",\"SAS\",\"SAS\",\"SAS\",\"SAS\",\"SAS\",\"sportsmen\",\"EUR\",\"EUR\",\"EUR\",\"EUR\",\"EUR\",\"sportsmen\",\"EUR\",\"EUR\",\"sportsmen\",\"sportsmen\",\"sportsmen\",\"sportsmen\",\"EUR\",\"EUR\",\"EUR\",\"sportsmen\",\"sportsmen\",\"EUR\",\"sportsmen\",\"sportsmen\",\"sportsmen\",\"sportsmen\",\"EUR\",\"EUR\",\"EUR\",\"EUR\",\"EUR\",\"SAS\",\"SAS\",\"SAS\",\"SAS\",\"SAS\",\"SAS\",\"SAS\",\"SAS\",\"SAS\",\"SAS\",\"SAS\",\"SAS\",\"SAS\",\"SAS\",\"SAS\",\"SAS\",\"SAS\",\"SAS\",\"SAS\",\"SAS\",\"SAS\",\"SAS\",\"AMR\",\"AMR\",\"AMR\",\"EUR\",\"EUR\",\"EUR\",\"EUR\",\"EUR\",\"EUR\",\"EUR\",\"EUR\",\"sportsmen\",\"EUR\",\"sportsmen\",\"sportsmen\",\"EUR\",\"sportsmen\",\"sportsmen\",\"sportsmen\",\"sportsmen\",\"EUR\",\"EUR\",\"EUR\",\"EUR\",\"EUR\",\"SAS\",\"SAS\",\"SAS\",\"SAS\",\"AMR\",\"SAS\",\"SAS\",\"SAS\",\"SAS\",\"SAS\",\"SAS\",\"SAS\",\"SAS\",\"SAS\",\"SAS\",\"SAS\",\"SAS\",\"SAS\",\"SAS\",\"SAS\",\"SAS\",\"SAS\",\"SAS\",\"SAS\",\"SAS\",\"SAS\",\"SAS\",\"SAS\",\"AMR\",\"SAS\",\"SAS\",\"SAS\",\"SAS\",\"AMR\",\"EUR\",\"EUR\",\"EUR\",\"EUR\",\"EUR\",\"EUR\",\"EUR\",\"EUR\",\"sportsmen\",\"EUR\",\"sportsmen\",\"EUR\",\"sportsmen\",\"EUR\",\"EUR\",\"sportsmen\",\"EUR\",\"sportsmen\",\"AMR\",\"AMR\",\"SAS\",\"SAS\",\"SAS\",\"SAS\",\"SAS\",\"SAS\",\"SAS\",\"SAS\",\"SAS\",\"AMR\",\"SAS\",\"SAS\",\"SAS\",\"SAS\",\"SAS\",\"SAS\",\"SAS\",\"SAS\",\"SAS\",\"SAS\",\"SAS\",\"SAS\",\"SAS\",\"SAS\",\"SAS\",\"SAS\",\"SAS\",\"SAS\",\"SAS\",\"SAS\",\"SAS\",\"SAS\",\"SAS\",\"SAS\",\"SAS\",\"SAS\",\"SAS\",\"SAS\",\"SAS\",\"SAS\",\"EUR\",\"EUR\",\"EUR\",\"sportsmen\",\"EUR\",\"sportsmen\",\"EUR\",\"EUR\",\"EUR\",\"EUR\",\"sportsmen\",\"sportsmen\",\"sportsmen\",\"EUR\",\"EUR\",\"EUR\",\"EUR\",\"EUR\",\"EUR\",\"EUR\",\"SAS\",\"SAS\",\"SAS\",\"SAS\",\"SAS\",\"SAS\",\"SAS\",\"SAS\",\"AMR\",\"SAS\",\"SAS\",\"SAS\",\"SAS\",\"SAS\",\"SAS\",\"SAS\",\"SAS\",\"SAS\",\"SAS\",\"SAS\",\"SAS\",\"SAS\",\"SAS\",\"SAS\",\"SAS\",\"SAS\",\"SAS\",\"SAS\",\"SAS\",\"SAS\",\"SAS\",\"SAS\",\"SAS\",\"SAS\",\"SAS\",\"SAS\",\"SAS\",\"SAS\",\"SAS\",\"SAS\",\"SAS\",\"SAS\",\"SAS\",\"AMR\",\"AMR\",\"EUR\",\"sportsmen\",\"EUR\",\"EUR\",\"EUR\",\"EUR\",\"sportsmen\",\"EUR\",\"sportsmen\",\"sportsmen\",\"sportsmen\",\"sportsmen\",\"sportsmen\",\"EUR\",\"sportsmen\",\"sportsmen\",\"EUR\",\"sportsmen\",\"sportsmen\",\"EUR\",\"AMR\",\"AMR\",\"SAS\",\"SAS\",\"SAS\",\"SAS\",\"SAS\",\"SAS\",\"SAS\",\"SAS\",\"SAS\",\"SAS\",\"SAS\",\"SAS\",\"SAS\",\"SAS\",\"SAS\",\"SAS\",\"SAS\",\"SAS\",\"SAS\",\"SAS\",\"SAS\",\"SAS\",\"SAS\",\"SAS\",\"SAS\",\"SAS\",\"SAS\",\"SAS\",\"SAS\",\"SAS\",\"SAS\",\"SAS\",\"SAS\",\"SAS\",\"AMR\",\"sportsmen\",\"EUR\",\"sportsmen\",\"EUR\",\"EUR\",\"EUR\",\"EUR\",\"sportsmen\",\"EUR\",\"EUR\",\"EUR\",\"sportsmen\",\"EUR\",\"sportsmen\",\"EUR\",\"sportsmen\",\"SAS\",\"SAS\",\"SAS\",\"SAS\",\"SAS\",\"SAS\",\"SAS\",\"SAS\",\"SAS\",\"SAS\",\"SAS\",\"SAS\",\"SAS\",\"SAS\",\"SAS\",\"SAS\",\"SAS\",\"SAS\",\"AMR\",\"SAS\",\"SAS\",\"SAS\",\"SAS\",\"SAS\",\"SAS\",\"SAS\",\"SAS\",\"SAS\",\"SAS\",\"SAS\",\"SAS\",\"SAS\",\"SAS\",\"SAS\",\"SAS\",\"AMR\",\"EUR\",\"sportsmen\",\"EUR\",\"EUR\",\"EUR\",\"EUR\",\"sportsmen\",\"EUR\",\"EUR\",\"sportsmen\",\"EUR\",\"EUR\",\"sportsmen\",\"EUR\",\"EUR\",\"sportsmen\",\"EUR\",\"EUR\",\"sportsmen\",\"EUR\",\"AMR\",\"AMR\",\"SAS\",\"SAS\",\"SAS\",\"SAS\",\"SAS\",\"SAS\",\"SAS\",\"SAS\",\"SAS\",\"SAS\",\"SAS\",\"SAS\",\"SAS\",\"SAS\",\"SAS\",\"SAS\",\"SAS\",\"SAS\",\"SAS\",\"SAS\",\"AMR\",\"EUR\",\"EUR\",\"EUR\",\"EUR\",\"EUR\",\"EUR\",\"EUR\",\"EUR\",\"sportsmen\",\"EUR\",\"EUR\",\"EUR\",\"EUR\",\"sportsmen\",\"EUR\",\"EUR\",\"EUR\",\"AMR\",\"SAS\",\"SAS\",\"SAS\",\"SAS\",\"SAS\",\"AMR\",\"SAS\",\"SAS\",\"SAS\",\"SAS\",\"SAS\",\"SAS\",\"SAS\",\"SAS\",\"SAS\",\"SAS\",\"SAS\",\"SAS\",\"SAS\",\"SAS\",\"SAS\",\"SAS\",\"SAS\",\"SAS\",\"SAS\",\"SAS\",\"AMR\",\"EUR\",\"EUR\",\"EUR\",\"EUR\",\"EUR\",\"EUR\",\"EUR\",\"EUR\",\"EUR\",\"EUR\",\"EUR\",\"EUR\",\"EUR\",\"EUR\",\"EUR\",\"AMR\",\"AMR\",\"AMR\",\"AMR\",\"SAS\",\"AMR\",\"SAS\",\"SAS\",\"SAS\",\"SAS\",\"SAS\",\"SAS\",\"SAS\",\"SAS\",\"SAS\",\"SAS\",\"SAS\",\"SAS\",\"SAS\",\"SAS\",\"SAS\",\"SAS\",\"SAS\",\"AMR\",\"EUR\",\"EUR\",\"EUR\",\"EUR\",\"sportsmen\",\"sportsmen\",\"EUR\",\"EUR\",\"EUR\",\"EUR\",\"EUR\",\"EUR\",\"EUR\",\"EUR\",\"EUR\",\"AMR\",\"SAS\",\"SAS\",\"SAS\",\"AMR\",\"SAS\",\"SAS\",\"SAS\",\"SAS\",\"SAS\",\"SAS\",\"SAS\",\"SAS\",\"SAS\",\"SAS\",\"SAS\",\"SAS\",\"SAS\",\"SAS\",\"SAS\",\"EUR\",\"EUR\",\"EUR\",\"EUR\",\"EUR\",\"EUR\",\"EUR\",\"EUR\",\"EUR\",\"EUR\",\"AMR\",\"AMR\",\"SAS\",\"SAS\",\"SAS\",\"SAS\",\"SAS\",\"SAS\",\"SAS\",\"SAS\",\"SAS\",\"SAS\",\"SAS\",\"SAS\",\"SAS\",\"SAS\",\"SAS\",\"SAS\",\"AMR\",\"EUR\",\"EUR\",\"EUR\",\"EUR\",\"EUR\",\"EUR\",\"EUR\",\"EUR\",\"AMR\",\"AMR\",\"AMR\",\"SAS\",\"SAS\",\"AMR\",\"AMR\",\"AMR\",\"AMR\",\"SAS\",\"SAS\",\"SAS\",\"SAS\",\"SAS\",\"SAS\",\"AMR\",\"SAS\",\"AMR\",\"AMR\",\"EUR\",\"EUR\",\"EUR\",\"EUR\",\"EUR\",\"EUR\",\"EUR\",\"EUR\",\"AMR\",\"AMR\",\"AMR\",\"AMR\",\"AMR\",\"AMR\",\"SAS\",\"SAS\",\"SAS\",\"AMR\",\"AMR\",\"AMR\",\"AMR\",\"AMR\",\"AMR\",\"EUR\",\"EUR\",\"EUR\",\"EUR\",\"EUR\",\"AMR\",\"AMR\",\"AMR\",\"SAS\",\"AMR\",\"EUR\",\"EUR\",\"EUR\",\"EUR\",\"EUR\",\"AMR\",\"AMR\",\"SAS\",\"EUR\",\"EUR\",\"EUR\",\"SAS\",\"AMR\",\"AMR\",\"EUR\",\"EUR\",\"EUR\",\"EUR\",\"EUR\",\"AMR\",\"AMR\",\"AMR\",\"AMR\",\"AMR\",\"AMR\",\"EUR\",\"EUR\",\"EUR\",\"AMR\",\"AMR\",\"AMR\",\"AMR\",\"AMR\",\"EUR\",\"EUR\",\"AMR\",\"AMR\",\"AMR\",\"EUR\",\"EUR\",\"AMR\",\"AMR\",\"AMR\",\"EUR\",\"AMR\",\"AMR\",\"AMR\",\"AMR\",\"AMR\",\"EUR\",\"AMR\",\"AMR\",\"AMR\",\"AMR\",\"AMR\",\"AMR\",\"AMR\",\"EUR\",\"AMR\",\"AMR\",\"AMR\",\"AMR\",\"AMR\",\"AMR\",\"AMR\",\"AMR\",\"AMR\",\"EUR\",\"AMR\",\"AMR\",\"AMR\",\"AMR\",\"AMR\",\"AMR\",\"AMR\",\"AMR\",\"AMR\",\"AMR\",\"EUR\",\"AMR\",\"AMR\",\"AMR\",\"AMR\",\"AMR\",\"AMR\",\"AMR\",\"AMR\",\"AMR\",\"AMR\",\"AMR\",\"AMR\",\"AMR\",\"AMR\",\"AMR\",\"AMR\",\"AMR\",\"AMR\",\"AMR\",\"AMR\",\"AMR\",\"AMR\",\"AMR\",\"AMR\",\"AMR\",\"AMR\",\"AMR\",\"AMR\",\"AMR\",\"AMR\",\"AMR\",\"AMR\",\"AMR\",\"AMR\",\"EUR\",\"AMR\",\"AMR\",\"AMR\",\"AMR\",\"AMR\",\"AMR\",\"AMR\",\"AMR\",\"AMR\",\"AMR\",\"AMR\",\"AMR\",\"AMR\",\"AMR\",\"AMR\",\"AMR\",\"AMR\",\"AMR\",\"AMR\",\"AMR\",\"AMR\",\"AMR\",\"AMR\",\"AMR\",\"AMR\",\"AMR\",\"AMR\",\"AMR\",\"AMR\",\"AMR\",\"AMR\",\"AMR\",\"AMR\",\"AMR\",\"AMR\",\"AMR\",\"AMR\",\"AMR\",\"AMR\",\"AMR\",\"AMR\",\"AMR\",\"AMR\",\"AMR\",\"AMR\",\"AMR\",\"AMR\",\"AMR\",\"AMR\",\"AMR\",\"AMR\",\"AMR\",\"AMR\",\"AMR\",\"AMR\",\"AMR\",\"AMR\",\"AMR\",\"AMR\",\"AMR\",\"AMR\",\"AMR\",\"AMR\",\"AMR\",\"AMR\",\"AMR\",\"sportsmen\",\"AMR\",\"AMR\",\"AMR\",\"AMR\",\"AMR\",\"AMR\",\"AMR\",\"AMR\",\"AMR\",\"AMR\",\"AMR\",\"AMR\",\"AMR\",\"AMR\",\"AMR\",\"AMR\",\"AMR\",\"AMR\",\"AMR\",\"AMR\",\"AMR\",\"AMR\",\"AMR\",\"AMR\",\"sportsmen\",\"AMR\",\"AMR\",\"AMR\",\"AMR\",\"AMR\",\"AMR\",\"AMR\",\"AMR\",\"AMR\",\"AMR\",\"AMR\",\"AMR\",\"AMR\",\"AMR\",\"AMR\",\"AMR\",\"AMR\",\"AFR\",\"AFR\",\"AFR\",\"AMR\",\"AMR\",\"AMR\",\"AMR\",\"AMR\",\"AFR\",\"AFR\",\"AFR\",\"AFR\",\"AFR\",\"AFR\",\"AFR\",\"AFR\",\"AMR\",\"AFR\",\"AFR\",\"AFR\",\"AFR\",\"AMR\",\"AFR\",\"AFR\",\"AFR\",\"AFR\",\"AFR\",\"AFR\",\"AFR\",\"AMR\",\"AFR\",\"AFR\",\"AFR\",\"AFR\",\"AFR\",\"AFR\",\"AFR\",\"AFR\",\"AFR\",\"AFR\",\"AFR\",\"AFR\",\"AFR\",\"AFR\",\"AFR\",\"AFR\",\"AFR\",\"AFR\",\"AFR\",\"AFR\",\"AFR\",\"AFR\",\"AFR\",\"AFR\",\"AFR\",\"AFR\",\"AFR\",\"AFR\",\"AFR\",\"AFR\",\"AFR\",\"AFR\",\"AFR\",\"AFR\",\"AFR\",\"AFR\",\"AFR\",\"AFR\",\"AFR\",\"AFR\",\"AFR\",\"AFR\",\"AFR\",\"AFR\",\"AFR\",\"AFR\",\"AFR\",\"AFR\",\"AFR\",\"AFR\",\"AFR\",\"AFR\",\"AFR\",\"AFR\",\"AFR\",\"AFR\",\"AFR\",\"AFR\",\"AFR\",\"AFR\",\"AFR\",\"AFR\",\"AFR\",\"AFR\",\"AFR\",\"AFR\",\"AFR\",\"AFR\",\"AFR\",\"AFR\",\"AFR\",\"AFR\",\"AFR\",\"AFR\",\"AFR\",\"AFR\",\"AFR\",\"AFR\",\"AFR\",\"AFR\",\"AFR\",\"AFR\",\"AFR\",\"AFR\",\"AFR\",\"AFR\",\"AFR\",\"AFR\",\"AFR\",\"AFR\",\"AFR\",\"AFR\",\"AFR\",\"AFR\",\"AFR\",\"AFR\",\"AFR\",\"AFR\",\"AFR\",\"AFR\",\"AFR\",\"AFR\",\"AFR\",\"AFR\",\"AFR\",\"AFR\",\"AFR\",\"AFR\",\"AFR\",\"AFR\",\"AFR\",\"AFR\",\"AFR\",\"AFR\",\"AFR\",\"AFR\",\"AFR\",\"AFR\",\"AFR\",\"AFR\",\"AFR\",\"AFR\",\"AFR\",\"AFR\",\"AFR\",\"AFR\",\"AFR\",\"AFR\",\"AFR\",\"AFR\",\"AFR\",\"AFR\",\"AFR\",\"AFR\",\"AFR\",\"AFR\",\"AFR\",\"AFR\",\"AFR\",\"AFR\",\"AFR\",\"AFR\",\"AFR\",\"AFR\",\"AFR\",\"AFR\",\"AFR\",\"AFR\",\"AFR\",\"AFR\",\"AFR\",\"AFR\",\"AFR\",\"AFR\",\"AFR\",\"AFR\",\"AFR\",\"AFR\",\"AFR\",\"AFR\",\"AFR\",\"AFR\",\"AFR\",\"AFR\",\"AFR\",\"AFR\",\"AFR\",\"AFR\",\"AFR\",\"AFR\",\"AFR\",\"AFR\",\"AFR\",\"AFR\",\"AFR\",\"AFR\",\"AFR\",\"AFR\",\"AFR\",\"AFR\",\"AFR\",\"AFR\",\"AFR\",\"AFR\",\"AFR\",\"AFR\",\"AFR\",\"AFR\",\"AFR\",\"AFR\",\"AFR\",\"AFR\",\"AFR\",\"AFR\",\"AFR\",\"AFR\",\"AFR\",\"AFR\",\"AFR\",\"AFR\",\"AFR\",\"AFR\",\"AFR\",\"AFR\",\"AFR\",\"AFR\",\"AFR\",\"AFR\",\"AFR\",\"AFR\",\"AFR\",\"AFR\",\"AFR\",\"AFR\",\"AFR\",\"AFR\",\"AFR\",\"AFR\",\"AFR\",\"AFR\",\"AFR\",\"AFR\",\"AFR\",\"AFR\",\"AFR\",\"AFR\",\"AFR\",\"AFR\",\"AFR\",\"AFR\",\"AFR\",\"AFR\",\"AFR\",\"AFR\",\"AFR\",\"AFR\",\"AFR\",\"AFR\",\"AFR\",\"AFR\",\"AFR\",\"AFR\",\"AFR\",\"AFR\",\"AFR\",\"AFR\",\"AFR\",\"AFR\",\"AFR\",\"AFR\",\"AFR\",\"AFR\",\"AFR\",\"AFR\",\"AFR\",\"AFR\",\"AFR\",\"AFR\",\"AFR\",\"AFR\",\"AFR\",\"AFR\",\"AFR\",\"AFR\",\"AFR\",\"AFR\",\"AFR\",\"AFR\",\"AFR\",\"AFR\",\"AFR\",\"AFR\",\"AFR\",\"AFR\",\"AFR\",\"AFR\",\"AFR\",\"AFR\",\"AFR\",\"AFR\",\"AFR\",\"AFR\",\"AFR\",\"AFR\",\"AFR\",\"AFR\",\"AFR\",\"AFR\",\"AFR\",\"AFR\",\"AFR\",\"AFR\",\"AFR\",\"AFR\",\"AFR\",\"AFR\",\"AFR\",\"AFR\",\"AFR\",\"AFR\",\"AFR\",\"AFR\",\"AFR\",\"AFR\",\"AFR\",\"AFR\",\"AFR\",\"AFR\",\"AFR\",\"AFR\",\"AFR\",\"AFR\",\"AFR\",\"AFR\",\"AFR\",\"AFR\",\"AFR\",\"AFR\",\"AFR\",\"AFR\",\"AFR\",\"AFR\",\"AFR\",\"AFR\",\"AFR\",\"AFR\",\"AFR\",\"AFR\",\"AFR\",\"AFR\",\"AFR\",\"AFR\",\"AFR\",\"AFR\",\"AFR\",\"AFR\",\"AFR\",\"AFR\",\"AFR\",\"AFR\",\"AFR\",\"AFR\",\"AFR\",\"AFR\",\"AFR\",\"AFR\",\"AFR\",\"AFR\",\"AFR\",\"AFR\",\"AFR\",\"AFR\",\"AFR\",\"AFR\",\"AFR\",\"AFR\",\"AFR\",\"AFR\",\"AFR\",\"AFR\",\"AFR\",\"AFR\",\"AFR\",\"AFR\",\"AFR\",\"AFR\",\"AFR\",\"AFR\",\"AFR\",\"AFR\",\"AFR\",\"AFR\",\"AFR\",\"AFR\",\"AFR\",\"AFR\",\"AFR\",\"AFR\",\"AFR\",\"AFR\",\"AFR\",\"AFR\",\"AFR\",\"AFR\",\"AFR\",\"AFR\",\"AFR\",\"AFR\",\"AFR\",\"AFR\",\"AFR\",\"AFR\",\"AFR\",\"AFR\",\"AFR\",\"AFR\",\"AFR\",\"AFR\",\"AFR\",\"AFR\",\"AFR\",\"AFR\",\"AFR\",\"AFR\",\"AFR\",\"AFR\",\"AFR\",\"AFR\",\"AFR\",\"AFR\",\"AFR\",\"AFR\",\"AFR\",\"AFR\",\"AFR\",\"AFR\",\"AFR\",\"AFR\",\"AFR\",\"AFR\",\"AFR\",\"AFR\",\"AFR\",\"AFR\",\"AFR\",\"AFR\",\"AFR\",\"AFR\",\"AFR\",\"AFR\",\"AFR\",\"AFR\",\"AFR\",\"AFR\",\"AFR\",\"AFR\",\"AFR\",\"AFR\",\"AFR\",\"AFR\",\"AFR\",\"AFR\",\"AFR\",\"AFR\",\"AFR\",\"AFR\",\"AFR\",\"AFR\",\"AFR\",\"AFR\",\"AFR\",\"AFR\",\"AFR\",\"AFR\",\"AFR\",\"AFR\",\"AFR\",\"AFR\",\"AFR\",\"AFR\",\"AFR\",\"AFR\",\"AFR\",\"AFR\",\"AFR\",\"AFR\",\"AFR\",\"AFR\",\"AFR\",\"AFR\",\"AFR\",\"AFR\",\"AFR\",\"AFR\",\"AFR\",\"AFR\",\"AFR\",\"AFR\",\"AFR\",\"AFR\",\"AFR\",\"AFR\",\"AFR\",\"AFR\",\"AFR\",\"AFR\",\"AFR\",\"AFR\",\"AFR\",\"AFR\",\"AFR\",\"AFR\",\"AFR\",\"AFR\",\"AFR\",\"AFR\",\"AFR\",\"AFR\",\"AFR\",\"AFR\",\"AFR\",\"AFR\",\"AFR\",\"AFR\",\"AFR\",\"AFR\",\"AFR\",\"AFR\",\"AFR\",\"AFR\",\"AFR\",\"AFR\",\"AFR\",\"AFR\",\"AFR\",\"AFR\",\"AFR\",\"AFR\",\"AFR\",\"AFR\",\"AFR\",\"AFR\",\"AFR\",\"AFR\",\"AFR\",\"AFR\",\"AFR\",\"AFR\",\"AFR\",\"AFR\",\"AFR\",\"AFR\",\"AFR\",\"AFR\",\"AFR\"],\"x\":{\"__ndarray__\":\"r6FZLcq6ub9qCOxP5kW5vxXZDmvZUrm/Xg2H1wZZub+Xu+84Ukq5v1Otm4iwIrm/l2b+nhQYub+f5fjVttG4vxKVOywU7Li/u7wr6/bvuL/VqPvpTOO4vwHZuAsj9bi/41E0NF7suL+/RxiFV924v4GlLMms9Li/f5ftl9HhuL/tS4LEp7G4vxJx9i8rv7i/NzifNjDCuL8JhjQCPsS4v8AVXdrvo7i/rElORIKnuL/JC9QH1La4v4k0ngVEvLi/PbAi2Wq/uL8kqlCgaLW4v/Wo1fRTsLi/S2arGnOkuL+V21wfxby4vy348spXvri/Q55Y+7R/uL9ziI1JkpW4v4okFcv4gri/vZjI93aIuL+a8ru90pG4v/tJuK6ojri/EXNpiJWFuL+Ud373/nq4v4GTLhhdnLi/R3A1R/B/uL+hiO2Ub4S4v+9/KkLSmLi/TLWlWnGGuL8YBq/mAoS4v0+8kKPfg7i/9e2GyBKMuL+a8Z6a+Xe4v9FkVHAsjri/E8zGZ2GNuL+TLjWQgIW4v2k0R7/ki7i/gF5kpTR4uL+MR25g0Y+4v8Qv1dP1YLi/HdB++IttuL/U263mCm+4vxp9C5U5S7i/hs+Ka8BpuL+M4MC0aGK4v4wxaHAYZLi/7Ef21ONquL+rvSfql064v6IBwYIMT7i/Fjx6FaliuL+BLKfuh2S4v6XfoZ76W7i/cv7IIF5huL/8XqZiE1i4vxIPPDhKVri/9c9PGpNhuL+/xPkCxGm4vzfdn67gULi/b+lTVfd0uL+lWUUdRnO4v/FiRh0uari/mdruSRwkuL/A/bih6z+4vzs+W3ZVQLi/PxnhecU8uL8y/r9JHSW4v2D1nMB+Nri/3QT544EzuL8Gyi4DIUe4vzaanQarIri/tPwTr25CuL+WIOxvISm4v8toi+lzNbi/FovrulZEuL+8Q4J6rze4vwVXVHhJQri/YpEYtkItuL88+mBh6Ci4v33NHi6cKLi/64qgxCE9uL91CvGcXkG4vwyJZil+ILi/il2DxsQquL9xgGlgBTW4vwn+kV2INbi/wiLTM+8ruL9syA/to0O4v5+K7qnjKri/oSu9F+IquL/vHPh8yT+4v2KPzT7xLri/Hmz+Dy44uL87yt8bcBa4v+2F0s1n+Le/tcD5bYYHuL+l0fgidPu3v0hOZQvdBbi/RARtG+cVuL+wJiNA6Q+4v3OTOD5aEbi/MrKkHsoWuL9paxL5FPq3vzcstcBMB7i/L/7jOUUGuL92TnparAK4vypLmx7MD7i/e5trgYILuL9+GkU7cvu3v8ETA23F8re/OzoYQj0FuL+GU+QGKwy4v9Bm87bOALi/xTK2zE0buL9dAVhP9wa4vxGja7yt87e/oKRq1QgNuL/ipjEKswK4v8ZUaF4MC7i/yPq5vNAHuL8M3UaAmg+4v0157BluALi/npPvr5cQuL++S7meoPu3v6kYc6w8B7i/4j8WiKwPuL8iW6MxCQy4v2+Hxc1d2Le/uaQDDtHvt78DN00hic+3v67JAnVz1be/9Q809O3ot78jS+xgveq3vx3WmQUM2be/AOfrYZbnt78BKfV+uNu3vyjhoAfG1Le/eJf/DDnct7/6B3EPBda3v6lOZhuc2re/SUKe0Yvkt7988O/MV8y3v4Et5o0iybe/KkBtf7fMt7/dk04mida3v1ACugdC6Le/0Ua+tJPut7+D9wsLNu23vwWd9BJWz7e/2lT9w9vlt7+SzcyW3Mi3v8QW8P4V27e/nZ0PPXjat798KLFkTu63v9xIgGGx47e/4GeH7Nbot78NOQncqOK3vwHsbDBVqbe/EyahnhWot7+jejKLSra3vw9Yotr3ore/6tPsGjrFt7+QZEB5Lr63vxEdjKqarbe/pn27L2C8t79WucdzfaW3v/CUpa5hobe/bEasxaygt7/5yqze5Li3v/YQUXEom7e/7rSQRpmwt78QrgOByJu3v7Wz0DaWnLe/8bWkjeukt7+ccg/cgqu3v3zKbsbaxbe/0zYfkG3At78h3RPc2ai3v/i3Xrm3sbe/z4FjKNG9t7/6eDRtCLO3v0UQINqOwLe/UFvl89Oet7+gcejJDrK3v9a/iBtIobe/o3WJ68+Zt7/lWT3Mn5q3vxdAQumOu7e/kcvrT/G5t7/xBgE0B4K3vyx4ybfQere/xvp6/Jl7t78Kv3r7woq3v70F5o23jre/iEft4/KJt7/92TI1n4O3v/NUgpUfg7e/yf8cVHKIt78RnzoWeHK3v5rm8Jmjmbe/Riz2t++Bt79zxujVPHq3vwoOaampfLe/Ar4bht6Et79wQ0JEY5G3v4G9evmpl7e/3wz1dYlwt7898RIkmXi3vzlqLFzGj7e/CzITzz2Mt7/O8LMW+om3vzfhheLabbe/dDTBxxOQt78/JZQnnIi3vwPXbkbYjbe/hMOGiDePt7/ggnCLH4K3vw8M8EWSbre/5b/VrzN2t7/HSLjH7I63v59bY07hcre/t9OWVDlXt79lol2pN0u3v2exC6ELWbe/X5dJJY1bt7/ZZNgtMF63v2Cp6LvrXLe/UXNBJblmt7/eyOy/aFy3v5m95F4OSre/8u3cUoxKt78qnsUk+V63vwAIklr+Vbe/2YvRLqJkt7+FzwDHok+3v+OmETHgZre/RpZ7Z1Bst7+ar11N5Gy3v6raz/RMQre/YzZdSXFEt79IlwAC9mW3v/ZX1LvhWLe/fNuVH/Flt797yJGi0VC3vz7XV+fISbe/rtFsb2tct78EGOhDckO3v610WIpUULe/pK2j/XBrt7986i84wma3vykMB5vdZre/0GpF89Rgt79vMIdMiDy3v49H4/JuKre/LStAg4Qht79P+2Iw/i23v+OKzjCDG7e/3zNMSLkjt78AZAJbMhq3v28kVe9FNbe/etoJYFMZt7+fbtE5jDG3v0NuYKJTKre/jB2OrURAt7+yFur+khy3v2OafmCbJbe/oIPKn70it7+vN51X2h23vzvHsbsWJ7e/25Pz4qQpt7+sTkBz9R23vxzQFnG6OLe/Ymfl7+4ot790EfV0Ozi3v7lkLL3wP7e/BIf0u/wkt7+IWAkQhyO3v3Gd8T73Gre/MF/V36kht79KicHFXSa3vxf/mf4wHbe/KTL/jnXztr8qaSFqRv22vzzaqmqmB7e/jcS+Dfnttr8UhHe9Ffi2v5SnDDrjDbe/TmNorVcIt79gNAIB0v+2vzzWfXMMB7e/Uwn6cG/8tr8mTIKNNg23v/bsayk867a/WlPkcnj5tr8zHldnDBW3v0TURP+q4ra/9kBMdQnbtr9musJP88m2v2K7qLowv7a/6MfsIe3Str/DXsd1u9m2v5WNTm1p3ra/5R7+kzjWtr8rsSxbk8K2v5RZHmEk17a/OaL9wgbBtr9UEjfCJ9a2v+MVP3W0zra/R64ozt/ftr805W8vcOG2v/yJuoXd5ra/0aJjyNvotr/Hl1DvWdW2v5sWFRtX2La/SI0mNHTStr9MdgdEFOW2v2mwACrll7a/cxRRXZCWtr+gioDkkpq2v2qQmtF6qba/b6d7uY2vtr9QyZGx0J22v5QQJuoGlra/yb3gVTCftr8UyeXlJbO2v2HMHRX6tLa/e9Wi/2e6tr8KeiRo2qi2v8Ati7OYqra/0ibZVs18tr/AB3zKA3e2v/bQp6z5i7a/uYioLVZstr+ooeESpWy2v6tbRiOUa7a/OQCW6q1ltr8P/ApcgG62v7/C+mbGbLa/LZGcM+J+tr8HLegz4G22vwsgyX4afra/+YNV+QOLtr+r1svsKIq2vxsLUbgLhra/7TPXopVztr+hfUQ7Amu2v8DvcfNrgba/3UZ+5PtMtr9cfXfwkVS2v3Xr9ZEGQba/1hRhGFZgtr84BeeVRGC2v+4hRwesRba/QUOagsU+tr9btmYu9j22v1npAmtuYra/PS2Rqlk+tr/Y4Ug/xSq2vyxZVOCtGra/7mfeNwk2tr/jROEYfCS2v52/ogaB47W/5ayqz1fjtb83fCnf8eq1v41Jptvi5LW/c4lv6qHttb+mXaOVtPe1vxJv65xx7rW/H/VTA6bytb9y3juweQK2v9x3vZJ8Ara/LksTos/Ftb8WvKFoet+1v6b6nm9YxLW//NGnkmG+tb+4IZ+QSs21vyuvNjpM07W/SVSn4T7Mtb8vOAp+3JS1v3j2nzMoirW/E0uGec+ttb9RGHmnBqu1v6pPENDbr7W//4oSsFuOtb/L46847qi1v40RKArbmrW/kwKHPb+Ytb8i/c4EPrO1v2wKP1zPg7W/IJMABhiFtb8ZdIxVI2G1v4Hx1FrVbbW/g5zfoGBetb+4ZmYE42G1v5ZrCuYkh7W/bYjGAsdetb8z4NlVw4W1v8Qik4NIebW/g9zxmMFztb8g8rb4a261vygr0oT2g7W/n6LAj3hQtb8zN1OU7Uy1v93jJ5jePLW/svtaEgQ1tb9BTbA+hTa1vymtL6ssPbW/vOyXeoM3tb8ODiNZBDa1v4H9fr4OV7W/NXzEvrw4tb8megsMt1e1v5nAlRivL7W/RdAtg50rtb9VQ6eoQBa1v+yYh2QvGLW/Yza2NRQqtb9o4rDdOQi1v98GQd3/JbW/vWJQgqoHtb+ufs2QvA+1v/fOAM7ZDrW/0Il+3pYhtb+iWAORLyC1v70Vid/VHLW/fZ+0cpsQtb/VlrEkmia1v80Wjvo6E7W/UG6MDrAptb8fMysQU9m0v4Oa9AQV6LS/Bq9Crxf3tL/a3KsJ4dy0vzMBz8Fn/bS//RAPiFPktL/apqgvz+S0v0P8TBu8+bS/T1o28qoAtb/nR9rBo+G0vxANUyOV/bS/f3sv9jLptL/VRmMS2/+0v4X6zCuP2LS/SWETezT0tL8e4fAqPfG0v3ObPakO7bS/hxGCtpb0tL89z/Q6sfu0v3LvrmeVvrS/w69TGGHUtL9bKTIT5tK0v0qLTK3rt7S/8a6Q3SiytL/hKO1tMsC0v7CKfDoXsLS/qm/pme7CtL+mYE8PkrW0v8xzhO2Av7S/6lYvs7jItL+Fa8bDt8O0v5KMZ/YhzLS/fuD0MbK4tL9uJVC1xq60vzd4Y0O+rbS/xKmXBqTOtL8EYEqi1sq0v9+rYqSF0bS/e/j3tdfFtL/hbtug8b60vwv1w9SbsrS/uAf24U7LtL9T5U055LC0v62YgUbhxbS/F3GCUcjWtL8Ep3OsR7u0v4xOd2nhzbS/CAWx213DtL+COPTQeb20vyx7IN7SwbS/iWvYxGqvtL9qFV//ybC0v6sfiFw6g7S/UEMiURCUtL8Ca/6bsYe0v9nNJwSEgrS/k3OmTQCGtL+E69s0vZe0v96kzjHHj7S/29YL7tSOtL9PFyImSom0v/T9mSLDp7S/6QF8YXCStL8L4JGj5qm0vwVhlNcjqrS/BVr9rEKBtL9LDRSg04K0v8AsJ1W6mrS/mkxKYDSltL8yTP4aXpO0v4rYHtUum7S/8pR8rSKQtL8CTe3LU5+0vwI/sN14irS/hbW1uxiVtL+bPz3RqoS0v0riW/D4qbS/UwgNah+btL+6HrLxqqm0vwl1C78lqbS/Zg6Ndm2EtL/HT2YDK5+0v1c6NuAmlLS/3DNTyo+YtL+ZW+U7N5q0v+4MmLqPWLS/eeUAR592tL+4tEwE1Gi0v3rrEW48brS/4eNhc0FitL9fTorc3nO0vyHoaalhe7S/iBRPVplVtL8FqDE3aGy0v6yvHDpucLS/OpVzpLhutL+IFlIoBG+0v/IKCFXHVbS/lnLLQa1itL/1wcsma1a0v1aWG9sue7S/nZjxEH1xtL84G4tcYlu0v1BZ7J7IVrS/rzO+MI5vtL8isO9m+G60v6aghIsCVbS/YNld+YtYtL/QS+pG2Xq0vwVM/oWgeLS/gwVd+Bh7tL8kBybeXH20vxpOu3rDb7S/BxBGZphktL8l+/EGnX+0v849cTFeVbS/nyaogIhktL8vlxxCfHm0vxfeZycdY7S/HoyAvOhTtL+ui1xznXq0vxyiSPuvWLS/VJE7KQt6tL8w086+YH20v187zV7fXrS/JuTmLGR7tL+yOoH/W3C0vwu4benjdbS/MvBY3qRitL+R8MRNHV20v3TnUWtBYLS/r9nWOGtQtL9A162vBzK0v1CHsthMPLS/YiYkElgutL/sVcl+zky0v8WWsdvqRrS/rbIF1Dc+tL9VZDMeLy+0v1A6BodJN7S/ZOF6bVY6tL+KAuoKUS20v8NeQGjALrS/FKCf/BUstL8MvvBiNUO0v3ztvTlEQ7S/ZSgPCvcptL80QiaXKEu0v9uiE8+lQrS/jy5EqL1QtL+p7Ckj3i+0v9XHQiI2M7S/1v5SjDRGtL+II15IUyy0v8sdOmhxSbS/1wjB8PE7tL+D0Y8WQEG0vyUS4852TrS/Z1Y40T08tL+Y4Nj6D0S0v46peRdZQLS/H+AR73cptL9drbNVYEe0vxh49+j2QrS/BxOKB3wstL/taXVjAyi0v9axSp6qKbS//+GOJeQntL/oxB9TiDS0v0SrwfmcPbS/lrBRQ2sstL/Y9QCfKyi0v7GRFIQjObS/INGbefREtL+9WvTnSTW0v/FHdBzjULS/po4yi9tBtL+S4f/sskG0v3GqL5S4NbS/6vOLDuNDtL+Xw60SfT60v2rqG1LPKbS/kGC/K/kutL/4uJl3JA60vwraClpZ/7O/AW6JgpUmtL8HKkrL0w60vxvmykNPIrS/SSmQJaYTtL/GHZTbchK0v7yZ7ZVrDbS/Jyo3ZukmtL/Zi7iMihe0vxx7AXkNArS/r/ZH7soetL8nqoEt1CW0v+R2wjv/ArS/lAD06xcYtL9fJeM32A20vyxZd019JLS/tHd3W+IEtL8Mtf3mvSG0v0LriVc8DrS/Z5Vq/YUmtL883Z/AD/6zv7b/lKotAbS/E/xxbqUItL8IfiH0yxK0vygqJrVz/rO/RP9ycicDtL8v3D5MxQG0v/42pEQMJLS/6IBIXCwAtL9g3pevSie0v1uQppsDCrS/+dghSfkDtL8zFdUgVgW0v3e4giw4F7S/2X4n4QoEtL+SDzKBGwS0vyr+8YouHrS/mHCKqJULtL8loa1p9Rm0vxe6TH7aCLS/uvVOJSUTtL8WxqwqgxS0vx9FFPOKJbS/UOBoQzj8s7+FcqL11Be0v8lOgMs/ErS/aAdnj3YatL8/9E9Isfyzv5z7ThJAErS/jnppOgMktL9+gzXiQQe0v4w79Op8ELS/3gEHs6cItL9LkzMRHhq0v/W4t1YA1rO/Mj7juEDks78aUCSHTduzv+9VwniH67O/o+NxUNbds7+Mzar7rNqzvzN89i5f1bO/bCE12fLzs7+UzwRzGfazv355bB1h07O/DJT0zK/us78NJ74vj/Szv54OAoNm+rO/VRnWJmPes786r1N5GfSzv/FeXr2l4LO/wn8X8kbqs7/jsYt/9+uzv0sfjXlz9rO/wL9FeHjRs7/97EhOU/Gzv0M7ZkSH8rO/14W4CHjWs78nEDSIUOyzvy+Ve88n+rO/WGZ4Cjz7s7/TFkWN1fWzv/laZ5om3bO/1RctVvnTs7+v7sw52eazv0GQpaIu2LO/eA53HujQs7+skk8hjPezvxVOjVOl1LO/R5oM8Njes7/UK17OXdizvze27CzZ77O/mPGZj2fus7/VDLGmnOyzvwCv5+4V5rO/m8qX+APxs79oqI3VI+Ozv0c+uxO387O/vQDML+zps7+HEQXm0tuzv2bOIMnU1rO/lFZvb6vls7/IpDHlIO2zv5shPT0B+LO/eoKUyYXfs7/u2r50q+yzv11kQOWc6bO/zp09vobls78eqFVofM2zv1hRL9FgxrO/LDVRSmGys787Skk3Zaezv23sx2pFz7O/xJoLUpLMs7+17lFczMazv/q6Ud5TvLO/FThiE5Grs79TR4H3hsezvwxUX38hy7O/lchn4jnKs7+C66k3cq6zv0xKiOB1qLO/Pkw67pS0s7/3WYp7SMCzv7QPKk4RuLO/JOYxwo2ts7/BjKe9usmzv0DggXxVrLO/KAYRFAyrs7/1prKqdMuzv7P7HKrXp7O/3iXnbxfKs78F6csCvc2zvyEpX4JBrLO/OhIJZaXNs78nJ8RSfM2zv9ugagQRqLO/2v+iOIvAs7/So5u4N72zv9ChYAaguLO/IWO+h6+6s7+8SFL8TMazvxcDll/br7O/kvbfv369s7+EHnxbSsGzvxk3N0pDsbO/kc56sA2+s791HdknpqOzv2CIIef4qrO/X1rU1JG2s7/XzZxdJ7OzvwyHwVfiwLO/nopoBRyms78bPhx13Lmzvxgdw5SytbO/ZOcWP9a6s7/ghH6Ng7Wzv60h5uHsx7O/4aEj8mG+s7/aWBFb/sOzvxINIveVrbO/cXY9hCiks79ikLBDOcyzv2DbPqAwzrO/h3TigbGgs7/G+ZUpLJazv34UAjMjg7O/mPhwUox/s7/naMmmkH6zvwMVAnYfoLO/V0M3+uGKs7+HLTe98KCzv+UceidNnLO/jZj4al6Js78p5yCyDJqzvxVm91VuirO/NUnnVzSfs78PCQ97N5ezvyqT6iBWhrO/PetvKfyds7/Axm5U25Gzvx4LzY2xoLO/9tZ8XUeEs7/XveQtAISzv06MdozkgbO/NFLQa7Oes7+UeFyaRImzv0PvOJyEjbO/UNf3IM6Ys7/910e4hICzv7AVjnlok7O/E/jHcFmjs7+5ISCOCY2zv95WC/lylbO/p/4jKU2Zs78ZDO6SAY6zv3x7r79gjLO/a09Qrjybs78ozKA4ZXmzvw+mcIoWjrO/lDkkaj14s795EivX6KCzvyc+jd2Yj7O/yuPsayWLs7/8aVGgkKCzvxlVe0JNi7O/fsijrsCEs78UcftNEZezv2qbYBjnfbO/FmLnxiCFs78TESjZwXyzvzKVRS3xlbO/PRRoIoCYs7+T+eWB8Xmzv4GERpNxnrO/KjZg+riIs78TeCbN2JKzv4sDjKBpnrO/9/fyLUqMs78c+AnSYICzvxYGO5lEgbO/cJrr2PKDs78fw/QfOYyzv2zYCI6ShLO/HVo3qSNqs78AZzELFFOzv2LOvTWNUrO/e8eKQlpZs7+pBFPOeGqzvxj5z6pjcbO/J4G6Q3lVs78fQ5EEul+zvzM5/h8UVrO/XqJpmBB3s78XDJLmzU+zv0lQy9KacrO/FJElXINds789Dlqp21azv9+tVH3obrO/yPQIKQxxs79jc8iKYlezv5fDMKcMbrO/3YQPX1Bgs7/IstBo8F+zvzP/Az0zVbO/g4zsRjJrs78ctrB89W6zv2tfgyDkTLO/qyvpbfxXs79IPH6Jilmzv2D70M1UULO/yj+mPvxds7+kLnYqA1izvzvHy11fYbO/2+nTtH9xs788WsULEVezvzgrTsOocrO/lRHG4jZOs7+o4LZEF2Gzv0Kh2x1fbrO/C7QvBDRis7+swFq0PU+zv23vXv5PdbO/wZbYho9Ls79Hu5sjUVyzvxhTzAbkc7O/BaERzD5Us7+FTEaOBWCzv91iAQaJdbO/lOXV6Lpls7+i7MH8pG6zv69GwpL9dbO/DOzg/m1fs78Z8+N13WKzv2aweWk+XrO/M02VF5Jhs7+MSiTtT1ezv+FZElXpXbO/UyEH8E9fs7+jC1HqOW2zv1XvgBNXWLO/69w/eghUs7/6Kns7aVyzvybHoJZFc7O/4ss3f15us7/5N1CMKFKzv+RiwPnrWrO/jOkBLzVcs78tVdi7ulezv7m1n3ZvPLO/7JiF1bAls78wlna1SUizvzYyxOY1IrO/Va0/Bacvs79IOvng6iyzvyErbDDiP7O/gt+CU+8ts790ya9nGUezv1lRBb4GLbO/RcGm8CtEs78r799Pejezv7aBGZQAJ7O/BgJeL3VFs795eE327Dazv2WBVncTS7O/vRVR47s+s787Eac9DR+zv3KgBrpBRrO/wmU56ys1s7/emUIunD6zv3J5Vn+CJLO/TD2mpjQys7+AC7QTpECzv5xD4s7zQrO/dtLiMOZIs7+fBLD7HyKzv9ajtOtiSLO//pX1mxM1s794lyrD3kWzv7B/WzMQQLO/7wEHabEis7+f9bAyEjGzv087ssl1K7O/VKNnP3Ass78qcUKTcCCzv75sqaY8ILO/2lwmbPdFs79SS5l7sjqzv4R09o3OMLO/JCyuEDszs7+1OmB0ADGzvwhATzJHPLO/4h/MCp42s79x/S6MakOzvzZmoKF0PbO/LcFGgWlCs7/clB4Npkizv4TLJE3mSbO/WCly5q0ms78x57p5/iezvxBEEsTqN7O/UzqbFgozs79JfRgcjS+zvwMuEW01N7O/81xuD7Qys7+kef8gZS6zv1eqJF3i97K/kNYvwaAQs7+uUqm3wvuyvwxThzcIErO/OIFIZPMJs78YWIUkq/2yv61ztqnt+7K/nfSJ3Vkds79RcM9o1f+yvwEI+hOz+bK/+JHCdFEYs7+BqogCwROzvyB03Yq7CrO/a8Iqqez3sr97Z0o51fuyv/beaVwYGrO/AYFbD4fzsr/bYLKI0Rqzv/qVzso7DbO/YaJMhzYZs7/FU3JE3hGzv0JZVCQ3HrO/5nyAn+0Zs78zDfBUpP6yvxNF12XZGrO/MNh79ukas7+qVI1LBgKzv3GuB0Hy+LK/ndbA4Q8Ts7/7QTHAThezvwHjqoLWEbO/WgNUwe0es788N925bAyzv3RWHb1O+LK/ABVbrU3+sr+OOjV0uBKzv7/d4PnZGrO/ThIlFRIcs79GFmSIUgyzv4jJ9EZHALO/45JX8eMOs784WSigVQKzv78Un/87ErO/v/ewUQ78sr9EBoYObgyzv5nnoS8WC7O/rEXUUB8es7+QnaRbHwezv1Cs/fH1CbO/x4oQPOgZs7+eon8XUP+yv31ScdwU/LK/DmETRZLrsr8G2ILRiuWyv8VvIUTw1LK/1Q+TfTnmsr993GdZdN2yv8zSt7tc27K/33ad76fksr/pW9xxpM2yv0UnI4mD4LK/Bqqo9q3Xsr/zd5Om3uOyv+Pxyr8G47K/Wy14CeXusr8Un36/xM+yv/FR/+na0LK/TyC14Jbesr/1U71VvOyyv2E/kGTO17K/76vRGzrysr9LcgmskMyyvzzmIgdB2rK/bLtnhxrOsr/Pf6ScH9Kyv/Zb5TUr3LK/M6U4gVzVsr8h2Lqaj9+yv0cMjNPG5rK/u54RRK7bsr9Iq4qmjeWyv8BeN2NB3LK/1Hg51Ofjsr+f7X6bOt2yv1Rk3rPN17K/g7BW/6bUsr8KtFsSad+yvw/q0Szo07K/L80jiTXasr9/G+n8oM2yv2vxczqN7rK/EDGzh+rNsr9JTV41B9+yv0pHUWRS7LK/FfXZCBbnsr+WqZ8288Oyv4mVfRaSorK/WO67/Ne9sr9wdVuXkaOyv9fKPs+Gu7K/p07fSmyzsr+gco8OucKyv3sTd8gdprK/uJqNnC62sr9oVEOE1cGyv20BrMBPwrK/xKU8Zl2jsr+Wd0QTTLOyv3s1KBKTsbK/2N4+Qua1sr93YHjOBLeyv5fPFv4qq7K/SGcnKdK6sr9HPWhi3MOyv28ttcnPnrK/gVlYUYa1sr//boWIr56yv31DVZI/urK/TTqFzRzFsr+q+V2wNruyv9usse4SsLK/ZpZnMYjBsr8vW/U9nqWyv32H/2SvorK/SIL1hZrBsr8NYAVwg52yv7aSBnR0xLK/aFhKUB3Csr/5Ibf6QL6yvzRIDgvSt7K/lV/eBtKpsr9JeszgFr6yvw34mPTZvbK/vXwMSAG1sr/YSt6ONLCyv/kUhOHBu7K/rS/8N6y2sr+j8Q7DCr+yv7j0xXV+ubK/wkKDLMS+sr8MMGFg+Xmyv0gDtiuhdrK/1ucMBXWQsr8Z36jM9X2yv6ON7UqGirK/Xl0qVRmYsr9V2gELyZSyv+hQeMZ3b7K/btyhqLqTsr+5ORSkVJCyv/0VkbstjrK/WDpNkVmMsr+SznkO+IKyv15TTCIYibK/g23aPmCYsr+35IKp/4qyvwl0kx/yk7K/JW9tj4R8sr9GHg3aOZGyv11J73sofLK/QPzFRr+Msr9trWuGZoCyvwETLlmJmrK/G3e/KpqJsr+q7EwR4Yiyv5zbPprXiLK/YKrJf4eTsr/pY3Um7Hiyv3cZ3Y/rcbK/H92xez6Fsr+DYKHXxYSyv6uneor0dbK/HPeTssqOsr+urCvlQniyvwCyli+/hLK/PBmcp1p/sr96itZsKJKyv9JXQ6dFjbK/EDMW0Ah0sr/Qyknb82iyv5rUYTBLVrK/Hjflu+hIsr/5Kbau4EKyv84WqK0vRrK/76jHh+5rsr8N7YHx/Fayv+XfdJKuZ7K/q/asrfZVsr/onJ8efWayv9JFtsu0YrK/HtWSIjpusr8K3WMI/0qyv3dLg2BJY7K/75TFQbxtsr/VRR9moVKyv5LpNVJvXrK/zAF/CSxGsr9EfqWJUWeyv8XQ9lz5WrK/9TNnNipEsr+pw4owiESyvxa7HJQ+RbK/u7N5+cxJsr/W+wINvl+yvxqGJJKyTLK/ekzWY/ZRsr/LfHJTk2eyv0DFSRQfSbK/9+fq+mFWsr99oH0eikSyv15Ew83qZbK/cgqbFKxMsr+6zUJ9PmuyvzGPe6LnZ7K/8d2FUOgWsr9JtjkgADuyv4Zi2vh7K7K//9+4cXY7sr/DgpQOeiSyv7PypCkGF7K/7/lRNTUzsr9P3YDvJymyv5bhacLJLbK/QYiwRFJBsr+XO13+VC2yv7moTlZ0P7K/bpPLeZYXsr+Li5FeAD+yv8f3gornJLK/IQjS8roosr8gNvccmCOyvwW1KJCdI7K/r5IiQhM5sr/2RDtljCWyvwDNMHMeQrK/3bNq9N8asr+fLRMwliiyv9XdcGVfILK/TkFS6Qw7sr+7ARgE2zWyv0qY4H40PrK/oXgvJCQmsr/Xh4Pjmi2yv/JUK5DZAbK/ng+QjKP6sb9osPmmbv2xv6e1tWdkCrK/Bu2JlBIAsr+v0oonSBSyv1/SEH01+LG/WAz37jsMsr/80xp5lhKyv4wqB8ur8bG/hJF15iAHsr/olB1JROyxv4jgBpbUBLK/bu/Qsvjzsb+yS2DbYxGyv2VwgjXsAbK/D9njvHYVsr8mALw5RQCyv6ENt7qI/bG/l8BtKZsJsr+GsNRdDg2yv4X+fLDO97G/ebwC08oRsr/K1HKpnQCyv5dk2idw+LG/6yq6MLj/sb8FuuXPlfKxv+Nzb9Em0rG/PRbNyqrnsb+nzoST8M6xvwEMHpNo3rG/WvDr4i7Ksb9JSzUMdNmxvzXmgS8yzbG/yVTxfOPosb9h7J9YQOWxv1jSDGBD5bG/Bea8o27csb8XHF0cLeexv5o6fHiYyrG/z8u271fasb+gRR087uWxvz6wwgyGzrG/2/oM2iPmsb8RXzJhcNKxv2TlMQCI3rG/OSjpGKDYsb9MJbhZTs6xv5Ge1Ymiz7G/qncFxr/Vsb8Jvff8C6uxv3SQkVXetLG/NPVTBRSosb84ff9Z76ixv93rL+6GtLG/uGYgUKSWsb8T+MZyvLexv12k4xV5m7G/mxzp34mysb9xh9Zffq2xv/XAVrTIebG/EsgM2CmJsb+JYCsEk4ixv2iAOwSFf7G/yV1Z3/dqsb88qaF195Cxv78ti1tvg7G/K5e+iKR7sb9dgSmALE6xvxeJWOMTVLG/8YkcfJ5Ssb8fnMUkKlyxv1BFHzNISbG/zpMf3UpWsb8dyB/H4iixv8sVMqX8ELG/fA2DpF4rsb8T4syr4yaxv77vj1kjILG/pLTlMUU3sb8uwJgQ+zGxvwNET7glI7G/6v6qPu4ksb8CXniE2xmxvysKurrxNbG/Kq9dbFzpsL+hN1bnxPuwv1Bw1k/5BbG/9+AQ2tIAsb+vnKW3cPywv4G7z57b/bC/s/OSiWMMsb+VbVXeSvywv/UHFntu4LC/MjBOjFrEsL9TNmngKb2wvyoFLV0Z37C/RbeteEfUsL8ZmHL7IZCwv36SXDHgqbC/VIJMisatsL/VtmzEhq6wv04n6cZ3jrC/jaBr4a5nsL8uAAVZdGqwv1aZXEdUdbC//P8tkwpksL9YcqUHQniwv4isHpGOfrC/VVEKdVRQsL8xery4fUmwv8u6/YgQR7C/s1zR8a0zsL+VDzvSekOwvy9ECB/mNLC/F1dpdORXsL9O5h4Cljewv1rYRavjLbC/yEYM+ywwsL+RMBJJPwiwvxP2Smy9ILC/Ma7MYsDqr7/xLJOqvgSwv67LiFHLbK+/cN+MUA+Gr7+xhKLasoKvv/qai5M9aa+/jV9ueg80r79ZFpxKVjCvvzZDLs7BNq+/BK2JEIour79hL9Q4vwavv9ei6+cPq66/H/HXJgXCrr9VK/Dye+6uvymFWa25aK6/J1PLPXt7rr+d1PicY1Suv4LxGEC/IK6/4dsm05ZKrr8vq/T0d66tv9Mrc+fk7K2/zxSEvO+8rb9vtwtkZMCtvxuFVSNatq2//OOvJbOXrb+7PdjBZSWtv3NHhD9/Qq2/g3T+GnDQrL+wj+LW/s+sv5rlRjyoTqy/fiY5YMFyrL+PAG3vY2isv5SBqcaVK6y/MZBXCk05rL8qHNr3Zxesv8GHzDOG6au/FkDvBkb9q793DH6rhSGsvz00xKCd0au/8EotW62Pq7/tUzRqO+Srv9XYOzgrsqu/ElvQl/XSq791zd14apOrvxCjyEVwaqu/arY1Ljpiq7/KTu8sU4yrv1RHk2GFZqu/vEkFJD7uqr/Gs3VBoh+rv9azmqs0Kqu/s3xyq8KOqr9Aq/F+AW+qv0w37X70aKq/BQoTbXAwqr+sq3hjVESqv1X378T6M6q/HlGw+lzxqb8aBXgN1CSqv2hZKK1XAqq/gqr8fpT4qb8dzOuaP/epvwutV1rIxqm/uU7f/8iGqb+RLZyOsdGpv0pZUukccqm/jVCkQpUuqb9zMVeP7gupvw2CHtXc5Ki/lnw1wYjnqL+ErIFDT5Sov+4ODKD0jKi/yYTyURdbqL8QmqQFmfOnv5lWt0sr8ae/a3yAnsfqp7/wQA/zr6Gnv65zW8iSPqe/FaJfKxNLp7+JqLa9HUanv69vtIQ5B6e/VzUqB+f6pr9xhSvt+nqmvy5rCJQ5Faa/z6jeiF8rpr/x07fTkvelv6nlFnayxKW/AG19y6Fmpb/dK6aqnmalv2TavYKHm6W/Qx4BMnOepb+Ertw4DD6lv4+RPj8DRaW/6tT7AEI9pb+860QG9TKlv3t3P2jOV6W/Ifg9yXjqpL8BKGk2bHqkvxGi4+ijgaS/+RpPs1KepL+90+ZTgmSkv+5SQZwhW6S/Lhp2Y/IipL/ooDpCjROkv5yLatF3vqO/Doz+pPbGo79+G5wgCoejv6NgD5Z7iKO/ZfxDchV1o7/0E2qRAo+iv5ASyL2fH6K/22UC2Yo8or8XO2TmpaShvyzhTSGTN6G/lW1rqGEWob9iSmyDt8OgvzqWVskZkKC/1waCoaa5oL8OTIZCadSfv3sN36Geo5+/izXKGxDInr9xNrd7j2+ev/BoCrOgKJ6/Ea8gJHYLnb+KlExY5Pqcv7BIhW8S55q/EV9r6ndvm7/Xc9OBeg6bv8t+CczwP5q/2/+0R8q7mb96M4B6MMWZvydlh5v7bZi/Bm719Vn9l78/QSplGNaWvwwcjwZQy5a/MQiZ3WFKl7+f3wyskN+Wv0qBZInfQpa/PFeWV2Izlr+3yPEVSXCVv8rI48jINpS/iLg6/0IolL+ruQECTHaUvxfL6dRqsJO/UaDE/7FOk7/5wFd/x52Sv7aX3Mk7epK/Lx1I0cyjkb/94b0JHXiKvyoxpyvqjIe/biP2V9iGhb/KAxrum2iBvxFclH+bSX+/gvF2gE10f7+S4Px+GYF4v4v3Ra2imnS/C3dtBl7Fdb/23CxlLatkvw9U4og84yg/LLkGejWIWj/W6kdYKa6BPwvWIJtD+4U/xtMsDknWhz8Kotx/GW6MP7C+4TkMeYw/c73JLM/knT+nKyfZw7OfP36BX2ETAaM/iKDI65LUoz/AJF5jeR+kP1w7HvF7qqc/sS0R9BhXqD8eXz859BarP+ai/eYonq0/haRevmN8sD+U3Ux2yYSxP0gxleLX+bM/qGBBVvaqtT9EN7w4HtK2P4wRRIw4gbg/GxizwOaZvD9EZGEGz0G9P0YGpXss/b0/dFY73t35vj+W/cEpuDi/P3m54oWSnMA/T3LVeoUxwT9n4svV7XLBP5zDSkCqrsE/xJ8GMbLmwT9LU/sopJPCP8JyDvLQq8I/h3D+bzvawj8s9DxK5QnDPyGETnHRNMM/zZD4AXddwz+6+DsEI5bDP7ReMxunW8Q/KcpoY2h3xD/JSCRJ5XjEP9GbHXzopcQ/2BLlB5E9xT/8cWM8fm3FPwUy0TsiecU/lKi9gSOfxT+XNHzF+KvFP9ox5xauqMU/qzoV/J3zxT8uB9Uhb+TFPy15GXUFAMY/hmtPvOVJxj9vQv2cIkDGP7el27nCs8Y/J12RwETCxj9iGKIrDvvGP2hNBGVA/MY/9HHlUj0sxz+xdHwjalbHPyxfPPdgRcc/yjCG3SZvxz+MiY2PcHLHP9YG6wzBvMc/yhuLBcLuxz9vryv4ZAPIP3Jqd3AK/sc/qoPr03sJyD9EFWcdQBLIPya7hkyYKMg//B2TUNI5yD/Tac0y11jIP+KkPSwBacg/2uf46HhpyD/nXgAY+ofIP7DIaLm2iMg/GEJ4EP6OyD84us7157HIPy4yj8vJw8g/v9wMACHXyD90YPCk7NjIPxeeVVhK6sg/3wjXzaUCyT9fUY8Ruv7IP65zemhYJMk/zS844tUiyT+uqjLDvFjJP1moLv2DWsk/0qFmugFayT+iVbiXpH7JP8lWT8mLf8k/yNSeIUipyT809jdD6sHJP+p1+MXM1ck/vNA5JDICyj98iU3Q4hbKP1cXk6LaIMo/jTMm3OQsyj+kfrfRzkfKP4kM0VXGSso/lbbJ7wpuyj+stRp1pWPKP8QDVliOYso/ntsji6Fsyj+u6pfeSXHKP9mJGp6/dso/X1h2HI2Fyj+X7tai84PKP0Eu4fqicso/O5H8Semyyj8POb5vmrvKP1uAWV/Ft8o/OQR6fqrWyj/QuRZnUvTKPy09Nz6BBcs/LJ+9Q1gKyz/3Fg7FbP/KP2Dft2KKGcs/nap7TFsWyz+06EIY5B3LP5EVx+yoIcs/wklJUaoZyz+feCsgsBHLPwfwxa3EL8s/Qt6TjL8wyz9EudCizTDLP5B9vbNpMss/e0aIqO1Ayz+/l9eVB2rLPzRhMoHlf8s/wiNrjaOCyz9t4tjGzX7LPwfXYI0Un8s/9r+JOp6eyz8lbk6gg5XLP6iKz/G4oMs/SVUKrsylyz9vwhGFObrLP/kcoYKSsss/MBIhVZewyz8oXe+7u7nLP7ZI+4WwrMs/Fkqm6UC/yz+38B1/g8DLP5NkG5u/3cs/WHuIyhDcyz++u3hHgeHLPxeVjJyW5cs/wTGX483iyz/f2bnr2NbLP8vYvFtd28s/jeB8Vuryyz/TubrF0+zLP3P3F2s0+8s/0DBPvzX9yz8v8FGye/3LP5FkxGWn9ss/FxPqcn4HzD+jIOQhcg7MPyDFVSw3GMw/Um2F42EqzD+ONqCM1RjMP1iD78ymHcw/EMJaEx00zD/ynWDj6DPMP5BOhxNGOMw/J3y7f8Y6zD9ps8dw1jHMP3xw/VDVM8w/Mrc2dZc0zD9xyX7kRUHMP6zcLmlVT8w/nNnnn29CzD/I2hJoxFfMP8FJ85n4aMw/XUlpIOtezD84vfbRLmjMP/w4rqOsWsw/IO2jcARdzD951S8GfZHMPwsVYxK/hMw/WCxiDWiOzD9HjDoa8YnMP0nDgcDuhcw/FuQdiM+JzD81iEtL56DMPxN2wIGDqcw/9qhF1uyjzD9+TtXvyKnMPzGYiq8nrsw/UGS0WhqizD9rRO72uMPMP4vcWpZxtMw/wIEATEC0zD/dmQkB1LLMP0RDfrUzwsw/PsyC07qwzD8U3VcnVdLMP6bKRr+k1Mw/xfWoIT3PzD9r5pbaStfMP2Jd2zWJysw/mAeitqrhzD+L8ot1/OjMPw0YAguu38w/03G4EIsGzT9Y1VLIk/nMPwhFQ9tACM0/xrabChARzT/QI2KuxhnNPxi//AbpD80/OAZi5M4VzT9Dz9vhXQnNP4iAmkeHJ80/eB6ynaUgzT/yji2BIR/NP84I1mpePM0/Mw3nPcs2zT9tOyAtpTbNP+i6AAYnOs0/mnb6Ek5DzT/XmrPFUzzNP7VO5lQoOs0/GPUwOS9VzT9efD1Np1bNPy8PplS5Uc0/tLWaeLRRzT/ZP+HYzkzNP8kccPk0Tc0/xetNE6VwzT+z9HlmR2PNP2CBwybmYM0/rTsjkaWAzT9N9I/ebIXNP5jzPXCCgM0/7T+YK/p+zT+0GeWkr3/NP/HkGu+ngs0/IANgFQJ3zT9DO0CgkHjNP0f60cYkm80/Sdja02uizT+m9jtpnq/NP7X7C9Plt80/9AmMZ3K0zT8GHGXSRbTNPzidI8gmr80/t2MOgAemzT9cqZn5F6TNP6w44zh+ps0/Y2VdEsW9zT8iI6smS8zNP2iyimlXxM0/p7f5D6bLzT/t9DlpR7rNP8FEFjijvc0/HuVrUuq4zT8Pe6LW79fNP5mToF35480/7Yxt/0/izT+pZGCLWtjNP1ZAGJi+1M0/pr8qS07gzT9XkHSlB8/NP7p9NQee2c0/r1II5fHZzT95FuvZYPTNP0ZX6uDb7M0/tmswLc3qzT/R4o1ncObNP7G5APQk9s0/uHwX0onvzT9wQ/C/hOzNP+zW4xkM5c0/UuL1GDAHzj/XvRBAI/3NPy0o82w9/s0/RjTkCWj7zT+ApwOWMgHOPzXDvuwlBM4/3BbR5tgNzj/V/Q4MLBTOP4fiN5COH84/2Au4Ji4Rzj9oOxWduyXOPyRMqUOQHc4/sr0VXpgfzj9GfcZ5QxbOPwD4BbfxFs4/XRpnMXAXzj/hQmQ1fRzOP1gIqJsiO84/Hq3gzpUqzj9mTcyo3SbOP3hvSkOXKc4/3GmWuGUvzj/dFs6rOkXOP2rOCW7QRM4/SRK2iQJNzj+hkLfpPUfOPzPs/LpYUs4/dIcT5kVAzj8XHV02YEPOPwo1fqlJXc4/AJltNVtfzj9PFYRyl1vOP3sFMWMTVs4/AkzQly1Vzj/wVPx6ymHOP4khc5SQVc4/yK0a3Ahbzj9FBaCEgXPOP8Uq1Y97ac4/TEXsBk14zj80FN/ywGzOP56LoCvwb84/nJ01pqBtzj+fLz2amHLOPy6ATr/7aM4/cO1Zd7B4zj+p7KuYI3zOP7f4tM0lgs4/Z6NySNuHzj+NCNkFoYzOP5LYKPhGj84/cEozSJ9/zj+RodVOD4vOP7P8tPUlhM4/iDZI7OSHzj+g5jMXyIHOPyTiK6zmiM4/y+kniJmOzj++3DKsKKHOP68pvtqMoM4/jSg8MXOlzj9FgFMa357OP/aOY7SJqs4/31HlTD2lzj8YNS1a5J7OP5v2E0lWqM4/zNjdbMO+zj+Z3zI+drXOP0yiUbE/r84/kBgyrUG9zj92Bdvlm6zOP54cE/WqsM4/Js8ykWLAzj8su2v5oa7OP7vd3pZasM4/FFbZAlmszj/Ogv1Vm8zOP0aUPpjewc4/0zs0IDzUzj+bbgW+GcnOPyIhQMRYyM4/5/mBfR3Fzj9KMVHX6sPOPzhwt4HMwc4/ubU6Fwfszj8+ln8yL97OP1CnK5vR2M4/48gN6jPdzj+IiHqQiuLOP0IimxGW5c4/NOzufUjkzj/pSi05iOPOP/DmsXFD3M4/zRKa+kXlzj9Ib2ubhvrOP4vtmZdp9M4/4yoATzX1zj9TqNCPyvzOP5lj0NMz/M4/GQTUc5v4zj8pcTjUXvLOP+Sc7Vn8/c4/0YTNwOH7zj+L29YU+RTPP73sDP9vFs8/6+qnKyQHzz/7j5QOvBjPPz0YQIJvCc8/+B3vAqMPzz8R/meDqhjPP/l49H/iFM8/iX3Zh+IDzz8TMTV2rQ/PP+slsRtUCs8/VfJTuLsWzz+6FWYziAXPP9UESAJfC88/nI1uj7kTzz9xtbQdLSDPP+AL29zXJs8/TZoOIU0izz9tQn93Nx3PP2FsVmuYHM8/JrgMrZ4lzz9Byjkf1yrPPzzRCaNZK88/cKz99Egozz/uLhLQxSvPP/arhA7KNM8/kILXBfQ/zz90kk3QXznPP4loMw6PMc8/mujBFAU2zz/ZRQcYrznPP333GxqtQs8/JXmOvfEwzz/Z0TPJLULPP/W1luFqT88/5wEdHu9Kzz9rsR3PhVfPPzn5q7vBTs8/5kWCza5Ozz8fPghRFU7PP9BF8ZwpVc8/tACnxzBbzz90hzSCE1TPP39AXdgHVc8/PPBSkk5Lzz+ullIcXkfPP2ZHoieARs8/Oz0EoQ5uzz/pwaYrIWDPPyrDGPugas8/pGxvJAVjzz9+pourtVzPP8epXNizYc8/z4Jf+xZizz9owlDkjGnPP3nWBIveaM8/3IRmiANpzz+ZrQiwRYPPP5VdIXN4hc8/aHSKl02Ezz//FwGElX7PP5WWwEu7d88/iHZo3UN7zz9l1UdVon3PP0kURIrEiM8/7O9xNX2Lzz9K3X8Os4nPP4HO0nlujc8/ylzHdrObzz8E5fDYFI7PPxkBwk6jjs8/484w+YyNzz8+u/QGpJnPP+2X+F+oic8/o9c5Ugiczz+4DE/CcpLPPyg95eZdr88/DewJewemzz+76RriDaTPPxRU37sAss8/L0XGTBmxzz8UkttWI57PP8q1zQ7rqs8/j9aZDESqzz9lHDZu86XPP7XO135Uwc8/68Z+qNyzzz+SgbikPMfPPwdxajn+uM8/V8ye30/Dzz8JqdBD+dTPPxyLEc3pzM8/284zy7rMzz8ld93PjtPPP8jt7A7y2s8/t1M1z17fzz/RDwxB7c3PP48yehOLzs8/m2IiBCXrzz8GzqiOL+DPP4xrhl+45s8/1OJTq7vszz93qXHLw+PPPzZJwwQ88M8/nhjMsbTvzz+ffjt9sufPP0vPlW41BdA/WzcizRcD0D/nry4kUfbPPwcn80kz/c8/PTbo3ysC0D/l4jpxwQHQP4Xj/6j2A9A/K0UcoWEC0D/2IHtYhgPQP+BV92i0+88/fD8QTNYJ0D9URJkQ2A/QP4YGW2kFCdA/o25MPhgG0D8c4VUgLwzQP0IHNjfCBtA/xpzGu7cP0D9z1wpndgjQP2OhhQB4CNA/HPlin/QU0D+VvJlNQhvQP2l9syRQGtA/UoO0fOUZ0D8ZTOpf/RLQPzp3bmb9FtA/maejLrca0D/anM1iSxrQPzJUaaPXGNA/yjPznpQT0D+Nb9YhvRrQP4he8RxiH9A/ElsV+rMj0D/RrXC2MSbQPxzCyXqJJNA/pWt60xUd0D8MTNQHBibQP0td4V//H9A/yWGLchcw0D/aLbcjdy3QP5F3aKGzJ9A/Npj6viEq0D/3KgQgujnQPy3OwbsvOdA/nJkbr2A60D/G4shJZzvQPyJuotmzO9A/WYbBz9M50D9SNm4sMTLQPxsVVWqTNdA/uxgdne050D+QVgu7jzjQP3Ped9okRtA/4aw49VBG0D/D6V0ry0HQP2JGo6gLS9A/vyK3Ta5K0D/Q2dqrfUvQPyfNUaAzSNA/KTW4B1NK0D+M1LJdoFDQP9cpiiQNXdA/MuLnrHVk0D8gPSHWeWfQPxQ3q/RiZdA/3gNfSQhg0D8MNEmbXGDQP3FRN6fEbNA/jXSoQKxr0D/xsL1Ck2vQPykD1PKFatA/Ka25AZZ80D/R0tYJZ33QP4vB2DQOddA/5RMBfCGK0D/7EH0D3o/QP7IBWfzPk9A/7nJmf82f0D/L9rcoQ5fQP4aM9Ti2ltA/wGMcRzWY0D+/ts0moaTQP59R5LmjrtA/G3wqJQ/I0D9epTaVVdfQP6aRKkA83NA/ea5B+nLZ0D8=\",\"dtype\":\"float64\",\"shape\":[2062]},\"y\":{\"__ndarray__\":\"iUn0MkEtwT85phLs0rrBP/oIhhro6cE/A8EkWUxOwj/rOibqv5fCP/yFGrK838E/yi/A0oeHwz+xP7HOVCbBPymc/WtnVcE/NmHI/ChlwT+xAYan733BP2+3wEoilsE/HPFwHBC6wT9i+0gzuMjBPzPv+Oor0cE/cr+RF9olwj/wPU2wE8LAP299CoxP5MA/wozM25L5wD9PwZwNsSXBPwbRFos7YME/GMw7h0p4wT9fZasPIn7BP19NxqhmmcE/qNLRRuy8wT9kpj1D5TvCPwl15HxJgsI/BovbqaSqwj/jS9zuOK3CP3fCMqEq8cI/4bNqq4ROwD9NR+aQ6W/AP+z+oO9mj8A/eFXp0tgCwT87jDZKHgvBP1BJs/00J8E/tlSF+bk4wT+5/cfyWj3BP7DYRKrhTsE/bFBw1yRnwT+F4rwwF4LBP+/ggNxvvcE/Hj6QT57gwT/J8uYktwTCP3IKeOdlGMI/j4HOzuMtwj+x+bBkmTrCPyghdyIjX8I/jlPJtktywj9a47TSToXCPwrMv+Tji8I/3Y6kdsudwj8IEIbezsPCP7bm4Dxxf70/IVKvlwrgvj97rclRKOi/Pzrwm23YK8A/tfQtchZVwD+8e9zEfmbAP0w1LmAZlsA/JNgbJfIWwT/lyHRLMyTBP+GedJauMME/gWB5jdNGwT8u+Z+xoGbBP8t62hPrxcE/USSnkUnXwT/whAdgtffBP1DDJ1OVKMI/Lke0jwtTwj97DXV9RYDCP0oHvKLxscI//zVKFoTawj+xNv9HAxTDP4qmL4bmfsM/ExrPVonMpz9lgqqXwwmsP1EY9sphlr8/hEtSyQ5EwD88vFEmJk/APwiCXpoVZsA/x5mGoBZ4wD9E92+qzoTAP0bupUVVtcA/O5C78xnXwD8b/J4DzerAP/kVjAwZ+8A/rsWh8asWwT9X6oasLyXBP1miNVf8NcE/SygkIBo6wT8bfzqKPGLBP85kYSaJdsE/0tj34UKSwT9KdHeMf57BP1A5JEPmv8E/wY9HxVfrwT9M7jaPzvTBP+Vl7OZoCcI/1SBUqa4bwj8RNo+LGD7CP4NixEz2VMI/RHJ96BtZwj95tshUVHfCPyGK8syan8I/7J8V0aUfwz8S0Qmave2+P9+Yx9epxL8/Q4KAhwYTwD9cTXxtmUTAP5nfScTQUsA/tX+Zsqp3wD+G2lQ0AJzAP7Az3dPYwcA/bIDX9mrDwD+AqVyw+OHAP0BA1+MW6sA/lcIwpvsZwT98ug2KQT3BP5jmbGjjT8E/UJjx1GNgwT8l+D2aY3fBP5xxz4xgjME/nvswF7OVwT86Gp3M3K7BPxDBPxx8s8E/e9vlE3fbwT8OfPzVVefBPwq7A4TW/sE/ESPPdpYNwj9Wd1UiwCHCP1Hnww8CKcI/XfuH3ItCwj+jRqYriFLCPw92hIHAYcI/TVPU3714wj+VoGQsoo3CP0tnhsP+38I/wyjbLO8lwz/rx9Zg6nLDP0VQDghUrqQ/BAr0oCnIrT+y9B606zy+P954xzTyg74/edbYdF6+vz86SHdhgy7AP0SKciLjYsA/sV0uineNwD+n83vc0prAP4AP1c/avsA/agMg+JDIwD+GyRSmgd7AP9CQqZze6sA/AikUUfEBwT9IJKNUqhTBP7HWUno4I8E/OdcBxBg0wT/d3G0OwUHBPwGn5r0UY8E/5CurBdePwT9vXzJElaDBPz68dlZlssE/lm2E40PEwT98/6VHJO/BP4ACx6F6/sE/lQCEF3ghwj+sdAqHky3CP3kcFOQuRsI/HfQ0IaaXwj+qjsloi6TCP3o84uHauKc/QX7wfhRlvz950TvM6wDAPy7p4RyOEMA/av0RRKQowD8NH+2dMy/APxluk8TdTsA/VdfGFyR/wD/AQ63ghYXAP2VoGY6GlcA/FPONnQexwD+pEnJ2yNvAP8EidpYN5sA/RmGRl9H/wD/gDQ/w8xTBPyLT/xl1PcE/wWbPn9hLwT8SoiikTl7BP2OdNufZa8E/B4ODdmx9wT/eQEJgp43BP4MO5PQdtcE/wtRKZTXCwT8zqBnnANbBPxgUjm/w48E/zI5GhCIVwj+wZ0bzty3CP9Os5TEGPMI/R+DIrMdSwj8DlmcUeG7CP/a0AGrTesI/73KUim6Owj/7vTN8oKKQPzgilPLrVKk/Un3/E6BprD/th274scy/P6ybd6qlJ8A/ib4oqN8twD+i0/kAMEbAP0xNJPVmasA/Niq7AkB2wD9O0HABVJHAP+RuHjLRvMA/XqgxpU7KwD/bpx/3B+PAP/yAU4lwFcE/lAh+Ch81wT+qhQzl/0LBP9HDZoxoYME/BLwMURR6wT9+rFzzBojBP3NS3yv4jcE/stHCTZKfwT/fZU+DJb7BPxHwaVd+18E/XSc7bnXlwT/46jM2ifrBP+gWBHoTBMI/hCIYJrsUwj+VW/0JxTPCP6eR5JclbcI/OahIqXF7wj86jh/a7qbCP0OIFcLgA8M/GO/0iKnIpT8e2WIKZMmoP36oFaQ59r0/e1d3j5uqvz+UDbB2lw7AP5jimYGqfsA/D7Bv9YmAwD+Ok865OZjAP3CEXgX8rcA/kr+B3nK+wD/CNeiMjMrAP2RlAzis18A/cch8X4vpwD9m0X2fwCTBP7NsF2YlNcE/qccf4YFAwT8Tufi/WkrBPxWyMcrcX8E/zIn2U793wT/obJRaP4DBP5vI5A2rtsE/kKK1rIvOwT9mnGa2rg/CPwoLHAcqGcI//TRWIxYuwj86yUrErjrCPyOK7lDHX8I/EUu82j9uwj+EjJWhSZfCP/8MjV4/p8I/vieiQwxDwz9OkDhOCTagP8bYX59KKaQ/r4MCioaxpz/tTyzgOfmpP8f/RbIX46o/FDdgmo4TrT9tccNxJt27P1WlC9Vblrw/NLw2etjOvz/WXrXxTgTAPwokbRIpMcA/+6oKaW1awD+okP9UdmrAP3CkTXiUnsA/VaMSZUCnwD+pakfn4MLAPxTDuocX4MA/y5zPEXXwwD90kH6WLvnAP/S6eeknEcE/NTI9tmQ3wT+Dg/L96D7BPzkWqKu6X8E/PGBN3cV7wT91P86FpqXBP1CismWSycE/LOS4fTzXwT8hphgGtJLCP76YZ1JJCsM/8ixA8htqpz/V+9cstjqoPyymHZZFWL8/Qr5mv9xpwD8gMh0U8rPAP6EEREvqw8A/KDnc5b7xwD/TX9oKXxDBPz5aSjuOLsE/KogR/B5IwT/gn11fIl/BP5THmI34b8E/O/3ymPGtwT+JYLTWyr/BPzrpwIQDJqc/Bl7pfZLuqD9jANMPaXWpP6sYWKuJKr8/mz95ce/lvz9nht1zfgHAP2wOW3KiKcA/SNYvNx1dwD973FmaIGDAP+xeVQNNgMA/dIOedca3wD8QyzjUMQTBP1lQuvHnN8E/EIWemb9CwT+sE622W1XBP2RJBINad8E/yxfolTelwT+iNKeDQMXBPy1D1EYBJMI/q48HEzVLwj/+DQ6q4gvDPzTx9RTkqJQ/Jme/evnAlD9PMXKoM+OmP0UdByswkqc/1j/8GuOFqD+TdxPcxhvAPx32roIla8A/RPGQDEbQwD9VlpzyY/TAPyZUBBIXF8E/pRQ+kz4cwT9EPtgkL3bBP/baaBYrr8E/BPQ45nxVsr/A+e1pqbONP0yVhYl3eZM/0T4xb2sJlz/18hFJozCdP9RkpaivwZ0/hbsXTKYhqD+h/otbMQ2qP1IwKXCwirw/S9pz23IswD9oCnQOi2fAP41KJhYScsA/X88mrd+JwD+sDoX76tbAP7yw8RasCsE/2kuBPTdBwT+2R2gcNWDBP2DJLg22xsE/WCRGQJchmj9Qbp/DKAWhP1GzUVANA6Y/SESp8kCxpz+fZi5y1jPAP6/zHP+YVsA/aNWSxo1mwD9GQamuFgPBPxaBLqvMJME/4AxX5YuBwT+dBZBxpK90P2IhkXdQzJ8/t5VQekwjpz+7CPCRf8fAP5r97fz/DLe/W/gUw9c0tb86+MZgxxK0v/dUnzHv/rK/g/OuHGNDsr/xUKed7HCYP6HFyY02Spk/SnEojOLHmj9FReCVzuygPzeSdFJWN6c/SdORi7cLtr8N9e38Gmuzv9/oSixS74U/gDNfOwO7mz8NX60kX8ahP1G34vKcRKY/fAbCYPyevD9dv0U/n/W5v+qBAcxDKrm/2OWf2SaStL/eRlg82ji0v4qMEh/B57K/ArTzdZE4sr8Ili5qiMixv+nDXovwzmQ/FIeqqteDcD+987EYI4auP2yqRxzi5bm/iql8iacdtr+ajgdqlua0v/kw+2KebrS/7xvC6fAgtL9SuINPbGyzvy3IFBsUjbK/g+j3IMzgk78t/U6jc7CTP4FQOSVTYJo/mCIv7K5/nD+5gkd+B2KiP7ThgVCv6LE/O1y5hGajuL+l6COYOD+3v4wj45JdyLa/SZJVjjcctr+BtQV6aJ21v7UN+E3NLLW/XF3+wD60tL9HKkYKNA20v6/03YKLvrO/wp7QvxZtmj84JnzOzTGcP56zQoZtwbi/YInGmpcnuL8ch9EfEau3v0zru01Li7e/7G442pz2tr/cnBpMux22v2a5rxCtybS/ikwNp94KtL/KY+rwbDSzv4/VN1l7DLO/OU6CHPMnsr9Ph6LaVXaZv/KJUzq2Y4S/gQfBSOH7cb+PVBrCd6l0P5dw0WRGoIE/wBfCAJkqoj/z1gUJU+64v9yAnrtgvri/9sNml+CMuL9y7Nzsomm4v8qh+t2zJLi/G7/BfLnPt7+Ueg8JsDW2v2JlsRXYPbW/zevMtuUatb9K/MTu3Ri0vzuIp0gy37O/c6X67I5Zs78FRZij2XV2v3etrAZ1bDC/4atJH6XLXj+0LYlzTaJ+PxDypeGN4Yg/gJhvt6exjz/t6DAWlLWiP3SLed+wf7i/4K9p8UheuL8TX1Tzv0K4v/OBLpiD0Le/KeQQuPeUt78PPrnNnAu3v55Fkuiu6ra/02AEArC1tr9yuqTeeue1v0kNQ3sPzLW/6j6E1QJetb+8DSPSJvq0v/n+RMoi0LS/ckKYf6S5tL9/eqxWm020v/OTvtLm5bO/ItTxjLwxs79XLZIg48WyvzGy8L9Wl7K/AuTgK5wqsr8chNw7pDChv6nSXbckCJ6/261xsN99nL8QRAjUYwqav1vs/HZx4ZC/UkrB7xiegb+TzLcJSoF9v4MWNqBVE3G/Yh1COYTIab/hX0f38ARgv2SLzXQp+Vg/1jg+2V0KbT+zQK1KyfqWP2oBsfG3Drq/9xW32kezub836x9Bzri4v3u8gf4IQ7i/iBl2S6wPuL+seDJUxte3v6OewWuFrbe/cB+lyNJ2t7+Quz83gGK3v5G6J+yeSLe/rgMXgwQTt7+4HVOsicS2v31K4UxgrLa/F8a44LRXtr9uJV6Ym8i1v1DLtOwBmrW/lZJYdLJ8tb+4kkKWgeq0v983vP2/urS/RvzytYImtL8GbvTbWrSzv+PvZjq2j7O/xxNZlS5Zob+DP1lG6/6gv/0lu8OYRJ6/VofwcBc6m7+fFPSYuy2Rv8qChnsiGJC/jxRwKeCFhb8NxnVPz6B7v9xXiI4iknq/xbretNiiXL+YK6nJzY6APxuiAjVBc7m/BAdEwBH2uL9bPEqpltu4v2rcmkSQRLi/yPIqHw0duL+OPM556fe3v8X+P5CD77e/LpAuetbMt78mKMD5Uma3vxLFBRlTK7e/17/4ZK4Xt7+ZeYmIb/K2v7HNQI2i2ba/BhlRxhNptr+c9siJ+D62v1OjR5HcM7a/0D3g2X7ttb/9x8bthqG1v0ba0YbUNLW/oYFGXNkOtb9N9STT6iK0v1utt7aE+rO/V3LLyRlas78Yn/WtoT2zvw/UrxWBIbO/PzsNe/q/sr/LWSUr8n2nv3C6pAmfiKa/q/oGElmwoL8UV8r52i+gv8SNtP24Wp6/GWEP2hhUnb+/LnkCtn6Xv/hzcYyoG5W/tzCjB52RlL+JaCyghVqQv3m2ESWBoYu/UcATM/rdf7/X6MKUQhx3v0y2k6fMCHS/e+bhi0O5cb9zosj+OZZqv9FephKaLia/FPUAzNfUQz8NhD3z28huP+KkJUseiJM/5XlSTjHtub+v/FYESKq5v+IbDK2ZBLm/tcscxQP4uL9N5ImICtq4v4/h0f+SYbi/3yKgnVlHuL9DmEyh8+u3v/qug6Bsqbe/DRMY1Otrt78Qrreahlm3vw0d9YTbMbe/cNNUcbMet79FBpZgoPK2v/wMHmhAyLa/G+XVcy6ftr+w9N6vQHe2vxaAFNNwRba/bxa+9kMWtr+3WA2gw+e1v8IthsJ4zrW/2PDgweistb+HKMx3Pe60v62b8YWtvbS/W/HlnyE2tL85/1TX48izv9biqSJeSrO/VtX1p6PFsr+ccaRz6XCyv0pCZGyisLG/aSY0d1pEqr9DfrnYotKiv8TdeZPxtKG/M/9RFrdUob9sgtvSZYGgv+mTQ5UY3J+/zzwg10VVn78X0/ygkp+ev3OzaJCDlJy/dbEPl739m7+V3GRKLhObv7tMI1CseJq/G89h99sQkr9P55zYEy+QvycCIVO7RY2/GK2u7b39hb/yTzhGc8OCv5eGJqZia/E+UtxYBMUoSj/iIcAxO+NlP8kn1pOKL2w/NN1H0JV9mT+Rpx5R2Ne6v6gt32SwsLm/WFi6hK9rub/wqOilIv64v8pREUtwxLi/mVVMV/ShuL8E5zhDAXi4v54wRrm4Mri/v0s5lF7Tt78eTfAND8S3v57iMXnpmbe/ZAjAifBtt78jHtiho0m3v7KrqKC+O7e/m51UDCUWt79CpoVIz+u2v393mtf717a/xm+YNYDAtr+nmbT0GIW2v+FEoNtDaba/mwfCG2hCtr8/1mPGSjS2v2cSYupY/bW/Xx7nz+Lutb8CjlUWbqq1vxfRGCGtZbW/DBsAWUFKtb80VkbI0vSzv/95JEtVDLK/U9908ahOqb8TNmSAlDOmv/u4e9xPZ6O/mTszwKAmor+JP62uZYyhv5GWhgMNUqC/dLGN0mlnn78YkSK/1POdv6AC7ua6Ppq/IeYNci/imb+9t+1l2qGZv0xbhpYedpW/b1BQgAw2lb/UHXPOqKqUv9j/TROaM5S/KJxg64WAjb+flUO4DJmLv9P89Sm3XIq/nFkCGjIHiL9cw74ykAKEv1l6DtMaDoG/XSMhCwp9gL/4jheBR4B+v5lTzb9N/Hq/FfUgRpNYbb+anKY91dFdP05ybhIRRLm/KISrolXsuL+pC/qhj8u4v3ef6lJmqLi/DcvJMQOSuL/JvpHKi1u4v1ybqeAhOri/FVObOAQzuL8jGpV7KPa3v18y6oUKxbe/rdv1+seZt7+JUM3t/Ui3v1q7OEXULbe/XwzuOD4Qt7/yqT3iI9u2v4+2uPQpuLa/CajsBQKLtr/CPspufHy2v8I+PDHHWba/y5GsTqY5tr+y1PMu8wq2v3Bmv24z1LW/WOUYqTNDtb+/6aU2WOm0vzKt6/NiKbO/ZBW+twSSsr9PrMZ+YEeyvzQl41JaRrK/jymGzgdnor+NFOyNonehv3ku8GM9W6C/1lEW+tSgnb91zVe/jiedvyoVIAypsZy/zWmWGy6xmb8lUWRq/zuZv1IQSskbaZi/6mEDzlQGlr+N6tYQbdOTv9ixPLXttJK/9TLGQyM8jr/AiFzTArKLv9sH3cMaG4q/S0NsdW55gr8rUu7J2Z12v6xfxNGeg3W/SiJrG0DcbL/aOHb1qcNjv1x8uotOj0i/vjN56DR4L7/uCBuNoHc6P21SwDP95YI/plXt/OTimj9QZZw+Iaq4vzBLc7Qbgri/K9Q0JeleuL/Xe7PuLju4vxXTwMbm8re/Wi5O0dDgt78JIvI2JLu3v/ykFVKzere/TnJEsmpMt78CEkCtByu3v6aqQpJl9ba/WCsTvk3btr/t2E1wj7C2v3K1meIMk7a/6usvluxytr+oA7T58zq2vynB20spKra/eLzgCTcDtr9lH+X2QLe1v6oUqqSYIrW/CivGxEz7s79b2deoLy2zv1QUSEpTl6m/haQBOs5Hqb+/bog2lHylv05VcYdgiaS/bnRaZtsZpL/ZufUQYV2jv1/znxGlVKK/uPH0kkA8ob8nl8ZL8Hiev3Fer1hF1py/0ZBICQeUnL88EIocLkOcv/DHj1+mYJm/0TVkVgzUmL/irav4L4yYv4COxN5+bJe/GYIQWx4blr8w165KrNKVv1JnIxPv8JS/i1QnE2SZlL+pEGuFfzCUv+07QVRpnpK/2bE4VORCkb9c5y31ufeMvwwNY3J8LYi/EPjst1qGh79BrI8b/zN5v3W4GxosH3i/ZMteSRIAdL91RuEP7yVpv1sXBywhLlk/jQ7XzC6zXz+UDj686Sh+P2U/QyoTcJE/jOklpUWOub+CL2MzmVq5v8GBeHOqEbm/aLshH3ihuL9al8co1Ty4v7kQLF+m8be/awquftTwt7+uW54USMm3vw60zuonXLe/2VQLQ9fjtr+eYe8K5uG2v0URdYf0vra/pLX0PXmftr8SH5xD+mu2vzJi53KoQba/fwdEJckvtr8MqH/VUg22v7QbqXFxqbW/rxWu77pQsb+LzlhM1+CrvxuJGkjQdai/nTJQBdpTqL9MKSv5NpOnv0nWKDUYLae/OR2hKa00pr+AYKpkc4+lvwlelBZyVqW/h6d2CwbfpL9sG8hccnCjv1EssHIFzaK/kYJlfzt4or/OXWOnsk6ivzw6u5YT6KG/w4jlAPOXob/30Cvc+uqgv13qBQ4CSaC/ZF8J2QA7oL+mhaCn+c+ev6UFEePUn52/YWds6Kwsnb+4Tk1IwgKcv2i5I1B3N5u/VApQPT5tmr9GryguJiGav4MZWsgh4pi/2oexruy/l78LydtOUYWWvwN5aML5Mpa/BdtHz+Kzlb8AY2rSNEyTvz4l1KWCQZK/zwPcpf+ikb8q7pKPDAKRvyPtjUCPYZC/KnBDYrYKjb8GmU3VipKFvy/PItDccHi/9abwx8Bxdb9R7kjJ2Fxqv/zT7oaPCle/DlKjHkCyub+0xtGvIbq4v4UVyHZIh7i//nw/fywsuL8B1SIz2ve3v4nuLd0R3re/x/Ocgl/Ht7+2wW+ZA6q3v8n7OsMDSre/vyqnetQft79zoHQ4Rv+2vwMrGb9mwra/AB6gmOmstr8SLWZNoZW2v7DLnd3YZLa/krGykr9Ktr+jIa4XB/a1v+KIVPeUvrW/bTnDI/udtb8S5fEeAXC0v7dH222EWqu/9rqEEvTEqb9cNmjbkoGpv86lZRQqG6m/DPb/kspqp78htIa00w+nv2JotaaCYaa/1h4VxXompr9Kcwm02dmlv8uHFCXgKaW/gJmkIkazpL+ubzE7eZ6jv0ekywSR56K/eCWsdngVob9QTEMlr4ugvwMARxM+gp6/R2mKQGoVnb/fC7TwhOmbv+XOBRMLHZu/7eB7lLA4mr/wMkDyuxWav2zSUjkpepm/kNG+/Jobmb8+a+8gGfmXv/GzKN6TXpe/3IjKEDbOlb8k16EXWmSVv09oo45g0ZS/rOnh6Lxukr/d98L1jWmRv6a1sUT255C/TnIKHR4Vj7/nMkP+w1eMv+QECUxs+Yq/sOoGHeryiL9x+l1jalmIv9Ci+22lNIG/QEkHrRyOer8MKfzHJm13v1G7ewWBe3S/GyEH33ubcL9TD2YjtN5ev7FnxSd9O1K/B938xTcRdD9A6GeJpeOGP3KBTWK6FLm/RCZ7wmcBuL+80BngQ++3vwGpFMjPsre/bEPN3R+rt784F9Q7+363v954d/xjV7e/Qy1q3Awat78/fpxkWuK2vwhZ2rarvLa/eK3A0A+Vtr8ILzJ+n1m2v8bW4Y7KMba/eMRE837Xtb8VXqAoQc61v4BTVTZQrbW/HZKm89CRtb+vIMFVSTO1v7m1PATHxLS/QK9cIXpVs7++DY/3kJawvz/4CH6hrqa/yifp9yEJpr+V8wk1kuOjv3nsNIDTjKO/q8V3UuA1or8MR4mvq/Shv0RI6kWXJaC/rC6pL5iEnb+26oJVwwedvwk84IDPXJy/XbYubdjXm7+U7UkFQHmbv0jYbyR7aJq/teEVCU0Mmr/j/KSoDaeZv1rI3lK2FJi/Kdjn+ljwl78pvLdi0hiXv8H0ZJ989Ja/sjkmtO1qlr+xL/9AiX2Vv2qzVTDXzJO/r/xjHixLk7/YiWdWTFySvz2UMBWi0JG/PEd7+jGQkL/+N0McAJGPv+wFASMxYo6//XOXe13XjL8z/HC3DnGIv88OgwUklYO/5P7j86ETgr9SrgxoHWx3vyx9ZzTQhmq/zwwT6ln2U7+TDviD2xF8P4yNvu0Dx7m/jcHZLxxFuL9YrHvscOe3v4NB/jGRybe/93nN5Dxbt7/VJHTuVD63vxUVl7XPCre/uBNpIpzqtr9PZW4Ahs+2vwJnumN8rLa/39rNMDF+tr+JhMUojEy2v5RzqkgO7rW/PO9/qA3Stb+NL+8Bu7K1vy+XSyDfpbS/ndDyjN8aqr8VVDbHXRKpv7GUPXUL3qW/jVaxvKtxpL87x0GK2Fqjv8NNsuHT1KK/+CNHBLvtob8A5F6t7CChv9zDitr/eKC/CFDXMbkToL/OtSvd27SfvxSU/IWlcZ6/T9qs2E+enL8avdpvJCWcvx0DfTDybJu/TPG+rTLnmr/0ckZXxQmZv95D/c84cpe/5EecH28ilb8Z7vDNrYmUv+5GgU4sQ5S/zVpiq/C3k79uD44lg3mSvwq302DTZJG/jaOm+R0Jkb+k6QGlXkGQv4xkGnAA8Y+/RIIwt7qmjb//EBEfoJmHv/qdpiaR4oO/96wdpJPrgr+PTyleHOF5v4ukhuT+PHO/0Yn1WzClYr/LQ8RgTbJWP5axqG1OrIc/fn099An7uL984MXev5i4v/ySKpdyube/lhoZpyKUt7+girMan3W3vz734eCsW7e/JyB7xVY/t78gV+Fu/xG3v1YKz7IL+La/ki6XfTzRtr9HOPEitLy2v4fzEoHqlLa/V4x2GCVutr9cJganbj62v+wncqieGba/cq7Y41sLtr87RTT5a+q1v44YpGm4tbW/rDNsfcWYtb8kW+B+x1e1v/W16E05o7K/w6uR4BDusL85jvo/40iov3+PRRYb8aa/QC2lmZYipL+5ZZ6ypo2iv/Kt4bDSpKG/vO8gOGdZnL/igAUaVByav9wtSPoHo5i/UO57/d2tl781Bmgv3UKXv/PfNL62d5W/t4CQHlwalb/l0A6Vw/2TvwEYM+PBBZC/QRSBBqRRjb9hORSSyc2Gv+pUrXxJlYC/iFlltJ02cL/qH6ACV4NWv/w1EmlbREq/teiqNAN/oD/1hz8HptS4v0TKB5ONbbi/21yE0WAbuL8V6WZRuxG4v5g999scxre/6ANAi4+Vt7/4XevCW323v9u365DqNLe/i/gxRO4Pt7+Fedaswuq2v9qBCKKW4ba/OV49pSyatr+fK3xqDWy2v0HnBHiyCba/DY/WtBnItb/4ZPdZH6K1v48GEeUDMLW/OVwKUlVuqb894hqWmHSnv9QbHJ3i1Ka/buOkG5Napb8pc8MqnQehvz46mHx2L6C/kSeT9k/Tnr/1G7kVwRiev4cvcLcN05y/7dHmKg3umr/S9a4FfJuZv2OS/Dq4spi/NitDh4BSmL8B/A43nZCXvxd8X4fghJe/fAqm/LFflr8cMk8oNcSVv5p66BUQJZW/q77MptT4kr8M/kkswWuSv5HGClUHwJG/EEoJSYW8kb9pcN+XryGRvwCy0YW46o2/PpcPTpeJh792mbYLt1t+v6zhAIDGSGS/cAH+T7yikj/souCVfNO4v7JvMtWHhri/jUkz/tB3uL+Oa0pXH9+3v5uS25XUo7e/muCABkdyt7+KBDxQZFa3v0HbOy5GJLe/eiZVz8ECt7/mqLTF0tu2v5omRcJyrba/MWPbTI9Jtr9P1WgdgRa2v/yqgjeq6LW/w1mjGHLStb/KlKZl6p21v4FDqWrtBbO/fYLeObhXsL8MYOmeByasv5Plld+cEKO/MxH8Dwlhor9jDuOXLYyfv/sreCb8lp2/p/PQCvaam7+/LEtsAsuavw8IuLBgYZq/iukGBw+mmL8noQorMTyYvzDxz5kAhZe/wyl2s2bwlr/Y5aK1sJeUv8t8YVd0apO/oQk2OYzEj78eZd9TEeiOv50QEO7uqo2/v+IP3YvBdL890yVT3r5vv2GcMyxd4VG/du2w2RQkYT+cGH03YzC5v6JZ1iqhObi/Ch8O2hkPuL8KuCyFf++3v5OPv2opvLe/ZnxUfl10t79K7DTq2F63vwFKWIGRPre/irViohwbt79CZSHuNfa2v+1zdKH+3La/dZbxJuGUtr8gttcIiB62v/f7OkQ5Bra/twu6+fxVtb9OZ6iU3bmpv3pjUM5J26S/beji4uyDoL/35NTJrhOgv0AH+OCk85+/E9bS/02Vm7+KFGjN4ZCZv8y+0feHT5i/PU0Oi27yl78B15D404uWv/wJ5NkscJW/Z0MANniOlL/Tnf0tVlKUv4txSN2SdZO/rzmyK5/6kr88bXoS97yRvzMGnTIWV5C/L2HqaCJ7jb+BDfJeU5+Dv9XH8tvwR2E/7kRR43XpuL89RGomSJ24v/GwQtyWH7i/SE8yhv+tt7/E7gjC5za3vwOKRbIA+ba/LbHXIwfZtr9q1WZY1KS2vyyoxIcqZ7a/qKSiJHcPtb8Kq5EYcwmyv1OuXPWuOrG/DWHXUBAFqL+nhW1dWjSlv/vN49lWuaC/dPm7ctx7nL/8J1gVkLmZv0SfFv2KkJm/Ik3CdSqfl7+eHUlrE6WVv99LhJoqH5W/kplZhkxqlL9mP0r64/yTv9jnmMctyJG/1xnMcLxhkb8s38Cw4NKQvxCwpkciBo+/Jt4kPM/7jb8RTdaUoo9uv2rgLUo3fLe/N2hjyv0ot79VQfl+oxC3vx98Uu9D0La/Kq61V2t1tr9KfB9z20i2v/0SBEyexLW/ab3uVBJhtb/ioQyfCIWwv+NkZzVE4qq/SR7yoV19qr9IU42FBTWnvw2+Rdcb9qW/b5190xZcpb8g3t3wldCgv7LG8GUzxqC/oS3Na9GXnr/Xu+g6G6uZvyLpq/WAUpi/sPxgz2Mzl7+OprWJn7yUv6KYby7xwpK/sLUBdF/Fkb+VnpKLVp2DvyET2hyUzn+/aCNh9l88e7/VaoNVzYmhP9t9Z4yZc7i/LGh3GU5Qt7/ki4SLQTK3v/VjG2/n9ra/x8tW3C6ltr+YcD/uxYG2v51frr+8Qba/tiyj479utb8ISW6zvQu1v9ge9hsS4LS/mrmA1PV8tL8bLaMXaQSvv3P2kxM/0Ki/oMmF3hfopL+TmWbkQ5ajv/E0m452Jpe/WEov4Hp3iL/Zrfoob7Rvv0oblf6xB1O/TvggO+wBVz9NgJwGZy+PP5aatcdfAKE/yRP3OePyoj/tyf65S6O2v+jlR39mgra/BrFMpQJVtr8779FD1jW2vzI5VHVE4LS/buBYSLRTtL9QZfDmJP2ev7K6WrdXP5C//nWkG8g3h7/3pfjgLY15v0EOiZI867e/rqIQbsnHtr9MA4J2PmS2v3cnAxecFra/EkCxNl3mtb/6C5SHffCtv9fFbziLaKK/gYn5IPoilb/HLDgZnJu4v+fTfFDiVbe/IcDHVvTJtr+kwdFKuSSav0n6xu3/xnu/fBMZ2gjOlT+j8TJYFcW3vyt+ns3d+7a/AaRT2siytr8/mQz0jyy2v7h0iGGehbW/UjUfmyZxp78ZcdgCJk+kv+W5OT4X2aK/xqod5Y2Nob/IFF3ru4WIv/qDodKLWkm/k8DTTJiyt79/zRMh/cO2vwulZ21Yrra/v36IYKHwsr/xABSFBW+svz+NQR7xd6S/t+ys0qSzjr/GrBSTSc5+vwZgqtbV6ba/PpSztVMltr+l/dVNZoKrv04YDUyeXp2/Hxweep5wmL+61zlmdTC3v/4mjpTlpLa/K89koDnRqb8e/BZnGWSJvz8cxu3gm4C/QkyWxXWOtr+emArgdZasv77tnGtotKe/EUxsFkl0p7/P1HyNmAmfvxHgpVtKVJc/Wy/Gq1LGtb9hZvtddbiqv9A9QhMTqpy/lCFoIzwhm7+U8h1Sy2eVv+r7jdHSrFu/cqlWiaAPWz+2HRfGq9t+P2dNdsiHi7S/NYePdEalsr+gXB8mA/qlvyq/Gt7RwKC/crwlFG1Ksr+WnNwa676tv7HJlDdhLbK/dxxDmjIXor/4qxbWXE2NvyQonh8nHYE/oXR7vKIgt7/qiBipwYO0v96IKFufFq+/YZdhGibWpr+jwFXRSzCfv5QO/YL2b7O/KZ917Zo5rL96QlbZml9vP/IIAY9vxai/BMoltFQEmb+2hVyPWHOSvy97BEGik7W/93zF/H76rr+PFDs4Pc2yv9qMweWnv7G/6U5cwHlYrL+equhyqQSsv8y11ZlMxaa/PJt/vsBOsL9bqa4Hb8unvx0RysGIWZs/U+RjDdyasr8WGceVsSOsvw1HVzNhLa6/QG4I/7jRpr+uaSotq/WMv0/vO66GQbG/k/yRxlzqr79rhemKymusv/38XSstm6e/v0OVUbM+p78s9N6n7ESTv6AfKjQEo7K/k47sSA01sL9Ya1Q7O/avv97RyihYXau/SH/43miiqL/pxlWpJKKlv2mti0+rALG/FzFP9tL/qb+HW4WngZqnv8mJJgUHlqK/lqaCa7kssb8fKgVlp0Svv1DhE8vJNo6/jRpq9uGaor9ioac4WmC2v5l3Qly8ZLO/Ss3HxDZusb9poSOght+wv6Zqf5wLP66/TyxpbyJksr8FgL4XcTSvv2OWEyv8kqy/n47OCG0apL/AqpsNxR6Qv3e5t1Ehr7C/sl9c9/BArr+ysdSrWD6iPyecofq/YrK/SUC3Ez2Mr7+jko9demSxv80w2yuSAbG/Pt4/LxaWq7+E82T2LW6tv9Uht1z8caq/YHZbYYJxrL/UfBUo+Tixv9pOTQ8aqLC/RctI4PRUrL+rK++XCLavv/mVcPqDUq2/ieVzseTYrL+acqlEFdKlv4zMqxTtz6y/7d4VJth+kL+k/qrLY+qXvy62KzDyNZ+/RG4TiNSvYj96um4Imlawv5XC4H5d5Z6/S6ZcTWpQrr+kRy4FPu6sv9wE+E8lmKq/rXhCt3qcpb+P8OL1GKywv9mto6YCXLC/yxjxGrWFr79Ohm3/f2Wqv4DNpFZft4W/hQYVq8ifrL9mlDTw8K2tvycTuoSYPKm/zQc8orcNp7/IngaPGoSiv3VX5MGlfaC/8Groi+/err/nZzVS0WtXv8W0eHkWe6+/ZIexJMPZo78dJDJ4BW6tvyR/X98yOqy/jty+nFlOqr+sFtnryvGsv3Nu3hud1K+/5N+rcH8bp79JoGYhO0t5P87+1D6RCK2/x5S7hpklqL9wCPxdyzitv1ufw8GuLay/nkA+sfKrpb/viYY09mumv+Ryp/jjzqO/5xkIHCbSpL/zdft3CTuiv6YFawMAjKi//h7lOndRq79h0/DAxbmbvzlqx5jdZqa/r6+HW8DClr/Hhvnl6uugP1LvMnOpwai/PWeVA8sArb9ZFLFypFWav8/nVE/ePqi/+8D3w2Vklr8cLG0RYrGtv0Wi0ZVk2qq/AWfO6iTNp795mfB2uaScv2fc3oJfi6u/lQ4GTTk9m78mWZXggWitv0kqf65RQ6q/NPV576zWqL/hiwI3NwmhvwoDBvdkt6q/QxXVlooSkr8AFWyE7EarvwXEranB26S/cOI5E4czrL+C26vH5Rykv7cH0PW7j5y/5qziqrfjpb8G5kc8bdqpvx4DE3qEHai/Bye08ZNTkj9iYLzpATurv12GW8Pyb6i/MuVv3wYAp7+9LDYTFh+mv0F4sHgaSaS/BOaP/H3Zqr9Up25YW3CLv6xhBUWAtJa/JRjI2qYVk79czIra6nqVv6+lnYzKZJA/w71yg5l8p7+JzdhDuk+SvzmMWXqbMJS/vd/GeOzlm7+Flq1Q/TuDv4cmKyG9VWS/oUg7MSiihr+/lCY8uhRKv/EamsYDzZQ/WwDBiOynLT9kmU8S80RkPzy4wi1GTn0/IxojYDx6pL+C2QXn02mev5PGpTEsKXE/FLrxzJZamr8+gvY+daiUv71emN9/PKC/rq7zkfVEk7+XuibwUNyBP8ZUPvo0dpC/TOtlVHqhmL+7ERnMC2SWv5xVe5WY+42/yBtNsuVygr+TTzHn+hSQvzjOpq106IS/+i7Pa+vvlL8qNqZgXy2Uv7khadmxo5O/noFE7IUBlL9kIjKUe/aGv1YvFkWdxJO/hZvTz3iWhL+tAWZDzyiDv2xkizsnb4q/UGDDZ411ir/K3kuNepeGv7rkECAxVIK/JtpoxgVCf7/puDvb8BSIv0aeF/GKZYe/gEXbCJjGg7/7Nwtd/w6Bvx/AOYK4rmK/vr1Kkq8Lhb8kTC+T92KBvx+wmPSatIi/wlz1fVDPgb99xwb/K3eJv19w2+DV72q/FTN+M4grh7+nd89U4I2GvyOBuuxHoW0/lrdMsCXZZr/stjhM+YdbP38Hg2lCJ3y///KXoaBGPb9o6Xin5DCAv8OuMxMPfXq/BgCOByfid7/eFZKJtIpsv4E0boZ4JY6//UqaznGOh79BMPfjqiOAvwY0kFCQ5YO/3gWoQqdLeL9iQ+2wbqxkv6pfSxQUgmg/ZL767qRcYr+HdWJ6xMJnv91RFt1/bWG/gekPfoUUd78bilDflVJmv3s1C9QcNoi/z+NZL0ktZ7++GtG/LtUdv1LUzpKFZHC/FiA5RyGQXr8CEnx2/32Hv1CLKOztlHC/GVccgdkoQj8DbrPv3LGAvz2Rt6Rm/Fm/DgrjAAEsWb+ENcq1k89Zvwkor2L0aX+/A6SI8Yp4hb/gs2QfeY12P9QT/YYyWmg/RPvx1Lnudj9fQ568qgJkv4xSi+LAiHU/RIVGajGQa79/0dgeNqUgvzhA+pRF8lk/82fVrveuZD96m7EtfIiCP8wRZabHgHW/MGMs8Oi1YL9h1RyZUfNNv4OYXDCtkXc/f4cVpAJoLr8g9ARb2AdlPyPBvVwLK2g/uegjNJPkcj/CH2xJmpJgPwPeBBDfXVk/NfeFKRpmfz9GlLBaLYqAP4+wP46BHk6/qo29AJapYT9MSNdGf4FlP/CQL6ZgrXI/LuAM282kez+LrgUPM1qBPwVGNSq0m2i/rIWYHO8XWD9kN5P5ZZ57P5GgSRMh9YY/NPXZCtumV78U9NF+5NJ3PxW8Zeu4IV2/bRAUpyM7Uj/9pC8Z0VxwP/fcrXHYw3C/bcd5BCVDb78Ng3xdO2Qkv0yX36IPT2Q/zILrSB/Ihj8OVs2sEgdav3iwYdtBNkc/Fny2QbM/bj9oMZbwFS6BP1eREXAkPII/rTn3fojDIr9nR674DVCFP4eufx4hulo/jPGjlaY8az/eIQ8V3x9xP5/SBuUdonY/TR7z1cjQeT+OA1SLwwyGP8vaKIBbdIc/E6kYtO+mQb+4DQlo4wAlP1nJFtDBxnI/JPUHJmR2gz9Fv5k4+mKHP+Crb5SWu4k/QDT6slXSeD+h0Tq0LZd+P2t6onnq83k/mUtYd4uPgD/UpquAuhqCP8MEZVh454I/aROQiOgMJz8U4QZcqX1eP4HyyxyjtHA/J2o41pSpdz8wjVqtCvV5PwMvp3EOlII/ADB/LuXshz86b3XrYZKJP8/3mklRaHY/ocAwcvyFgT97rFc0Qxhqv6q8AIHlvmQ/JQpjmxw/dD9dEUJ3Bw2CPyQQSfWFm4c/6JUCmMjXjD9PcxaVPRJlP4DYBtvlH3U/2t86q/uidz8KotAU+B5/P/N62mqZdoI/WbbKaOuvhz8LVg2+90dnv//z4GIlblA/gRin5awRfD+r3VPZLZOAP3YLTA5pq4M/AEVyiIiwjj/8w35boaxPPz4YzOB5yWU/HdBROc+YfD8C5pUrwuyIP1Zxmt/WNYs/grz1rRJQkD9pYVg6cWttP05q69krAnQ/NaQ0uD98dj+Gg8nrGh6FP0AQg7m+log/A/krnGISZz9EGJQQdCp4P/b7wys2/YE/EogrCzErfT8rDBTHQgyJPxUT6dT+MGY/9OFjlqoYej8VkeMicPmDP7voq3TN9oQ/L8nghk21hj99AFeQPQWLPzn/6tLpKGo/EQduku79ez/y7k46b0uHP7KISX4nPWQ/QqktGkTdez9KiMi7cSl8Pzxlxb1dm34/3imGiyrAgT+rfMNNt42EPzprSoIX2IU/jW/jsTY8Rr9k1+wJZeRZP0QBV/unbHM/KtmnPKL+dT9KjoYj9bWDP4YW2MJwlYU/lAITecPVbj9bk5HALq58PwYnHoQEtoA/nydNNJMaZT+Mhdw7HRNpP8BqSZlcPm4/SxOl9mLueT80vhNbCO18PwcN2EWDWn4/oPx8gv3AgD9sVJsPTuGCPyEBvfb5XzS/UPCcmPOeiz/knSXVzFJ0P6uu+NTXoXY/PTO3lQuoez+1NaU9vBCCP1iW6ONsGYQ/dKXiOSmHhD/KwRXt13GLP/drFGrwMY4/g8ODShpMUb/CLAa3AIp0P6VYC5TtTnk/FuDYwN1lgD87GEZ2FQ6EP9lurGrpgYk/jYmtlzfjjz9idtqhsIFpP8yJS1AozW8/gSmoF2P5dj9neVJihCx7Pw6NmIl8LX4/fkq42Bgxfz8GBtWS+9yAP3FZPRhDpoQ/7TQy2PmFhj+zbxhn0IJiP/jOcx3wH38/mIxU4vNLgD+RrTlQAIqCP5LUQwFX4YM/WVw/BKGsiz9HsoPkSmmNP5hMKZitVY8/FTwmCndRhL4pUqIx/nN2P2pfkQDCYYA/Sl57ZV8Jgj9W62BAKimFP1L98UDMmoc/1cpu4oL7iT/PB0QE+Lh3P0ovl9qcGXw/hRX14vTpfT+QXPZml7Z/P8NIIBK7ZIA/8N1zcc9cgT95UFu3mVeCP5ZcbU9HQoU/aE7SbU+Ghz/ozdXTozaLP8nwhzpb43Q/2xXhyK4ydj+iMLNawvp8PxVCK8K4JYQ/QLIOTchbiz8XPzpP4AN5P/e0sK/J43w/U0Gf+Z/ZgT8Yn5C/MHqGP9K7YGjolYY/J+B4kbw3iD8jMwy19/WNP8LM97YZX2o/a0Rpy6C5dT+vUtRhnh16P3tbIBicZXw/SYbhI+Xkfj96AAj/VK2BP3IcdYHjAIQ/geKPywuShz8wQMTjQFhrPxlbqrbv83M/k7PFEoIofD9314XpcFmBP9r+Hy+JRIU/dmTHUUSwhT+RXsG2k16HPyRlCOZdE4g/V5LfYXnFjD8HdpOlqkeNP2NsFqweuWM/o3v+U+v9bz91LC/5UlSAP8IP3LOQ44E/czga6MLbgj/IHQGkodqEP14Ds9YzjoU/8OYAyaVlhz/dNX3bymqIP9z5q2IZfYo/jsB022ocjD/3N4GJkuh6Pz1uz0xml34/To4+R+GjgT+JFF0yd3WGP6VAZekeBog/7DtDqOS3iT8C5JBIb8yKPzAVrMqq3I4/uzzRCLwIfD/mzFVcl4R8P3WMP+DMuH8//9dgOB8UgT8hrQx8HEiBPyiu80GEvYU/SpwPTraKhj+u2DYNRriIPyu+kEtMh4s/SCngkeE5jj94S4dSTeFoP7upaHH9NX8/+Ljqy/v5gD8mdMNeje6BP+5L7uIzYoI/E0dAAspWgz9h8VlclGOIP92FpPLMgos/77Nsmjp4cj8aLx7PAsp3P961GeMmtHo/ptreZvOXgD+c9hNrMyKCP7cmc9uBZII/dnsrleO8hD8YJWXA57+FP3zoS30COIc/hIwuloP9hz8pqVrSpPF5P6vaNknsz3o/QJBoOipsfj+BOC1Tf0mBP9GO6glhyIQ/7IpkcDq2hT+YA0KZkpWHP2Z8Y/QFMIo/XlbfWL/hjj/uT6K53nHmvg/YNaNBP3I/SYJZhwoSfD8M3VFqSzeAP6s2cuxgS4E/ripEuNL8gz8jojSNTVqFP3BVFNP08YU/zi0xincehz9pnn1bU7OHPxUjBZeBBok/cg05SILYiT/2D0+9fBqNP2vJz3jmRY4/9KxLsVMikT9NMJyJPPxqP5oA7Sj+rn8/4hvlBzBAgT8PY5JBxDuDP9U3iTEbK4Q/o1kkVu6Fhz9xjndT1Z+IPxdq/DjRsok/qHTjwOzJiz/qIWPns/mPP0BbDzoeX3s/58SAEgBofj9ud2FWeoqBP+EPiIZe14Q/JR2KwksMhz+hdOQWKZyIP54QAqzRtYg/kjzKycXDiz8qzbrS4emLP+B3LASPsHI/TdGENsXcdz9MHDYJnh6APx317l/RSIE/G0OB3OFngj/IZjvt6quEP3npYTkA84U/fMS/3co0hz+gX3SFuVSKP+6iylFPMYs/ujDoVuLHjT9i7Yi60nWPP4YP47w6BJI/rQbtspNscD/goTKNvIx+PwQTBInUOYE/DSZSh15bhD+GBlJILWuFPzf10gyboYY/tPALs4ybiT/ofP8fzUeLP4ytl0f6J4w/RrHUggs5jT/I+PjjbJ12P8Xsq9/kM3w/22xH+8EQgD/5Qv8Okw+IPx3EDFOMaIk/2gN3Nbhaij+hnMI5GhSPP89sY8Sfsm0/sSRGh5hFcz91XUM2HeV2Pwfqp5QRcXg/Jzr6Oefqgj8z9rXoe2eDP8XlcgjEhIY/txRxa2UliD/C0srd4TuKP+l7vWFt3Yo/JGCi21R7jz/PIrRjurWQPyCnOc6W0XM/QE17wVcjgj9YL0qjyT+FP3/AH5kWhIc/0a1/mcntiD8gQid1fc+LP5GE84szhZA/dkStMbmykD9WXBBDTFKTP8fVulgrJkY/zJCJbtKgdD8YDWP5s4h6PzyzYcRb94Q/lZ7uTk/Ahz/0KAVMNotyP32d9hePdH8/+1XLMLmHgT8xpl7CXOKDP3fZ/O/X24Q/gbPJIhUQiD9gJf7EGr6LP2PUooZbQY8/HJmWrLZfbj8DyNsHeL15PzdDzIRSEn0/R4yLL5jcgT9OpgmBuraIP7DnludxbI0/zg2boaFfjj9NliJp3DiSP3ZdpKmGmHg/Iohi4rlCfT+uafrzdBN/P+/LVBVrjIA/Up4t6/27gT89xJRahgGDP3Q/mG06uYY/+rxKznJXiz+d9zgia/iOP3gTKYoeNZA/RN5AChuccT/LyVQWrlx2P5lCbRaT9Hg/zTSbGm+3gj+Vy4rcHXyEP+Ao1GSwtYY/y4Ij2oeshz8c8Ik9JLKMP1wehJb4npA/SGrdaQNBYz9saL6ggdR8P1mgDFJ7sX8/H8o2/JWdgz+tdRO516eEP4dBimm4Loc/9PwjAtlCiD9kDVplDumIP+BcULSbVIw/V/889Zv+kT828O915p6TP/c34Ov//X4/IMsCxRYMgj8iLjx24MyHP78N9A+s3Ig/4WHfG6Jtij/AhWQvvGeLP1TYTku2BpE/2mXQ8K/deD87GoHihvqBPylMGqEHkYU/aOBvRLKSiD9HxIb2kQJ8P+ZDCFwUkoA/29SQiPyXgj8DcJy0DkqEPxHy62EIbIY/kf87NZAYiD94Imnh7fOIP13rtq0gvoo/DcIRr3dPjj8LjhHhXMqSP2Qauj0yyHc/rjissWJUeD9nbTpeJViNP3rAlfk7jnU/2j9jqWjBgz/MisFJsCGFPzCPaFxjfIU/R7Mb0Zu+ij9mQLRO8KSOP6HkKmSoO44/kTujKPp1fj8nKdP8edqAP+YTM24+IoY/WdPbpTH9iT96xal0UcSUP8eyR9tUJ4I/6zRYMc5Fhz+7gdlQvaiJP6H3IDooHY0/X4udJLongj89JgeoTRKHP6pOQiE/r4g/tqD2eHL4kT+Vk2RKwvGGPy2tTUpcGpA/fOrVeu5AhD+3TVY2PmuIPyKx9cCkeIw/wvMM58Ocjz9+LKvMivmGP6vx7lN6hYM/GwqyYKq/gD8jmWGXJ9WFPztVnxqeE4U/2VwNCedYjD8=\",\"dtype\":\"float64\",\"shape\":[2062]}},\"selected\":{\"id\":\"3166\",\"type\":\"Selection\"},\"selection_policy\":{\"id\":\"3165\",\"type\":\"UnionRenderers\"}},\"id\":\"3013\",\"type\":\"ColumnDataSource\"},{\"attributes\":{},\"id\":\"3165\",\"type\":\"UnionRenderers\"},{\"attributes\":{\"fill_color\":{\"field\":\"label\",\"transform\":{\"id\":\"2976\",\"type\":\"CategoricalColorMapper\"}},\"line_color\":{\"field\":\"label\",\"transform\":{\"id\":\"2976\",\"type\":\"CategoricalColorMapper\"}},\"x\":{\"field\":\"x\"},\"y\":{\"field\":\"y\"}},\"id\":\"3047\",\"type\":\"Circle\"},{\"attributes\":{},\"id\":\"3164\",\"type\":\"BasicTicker\"},{\"attributes\":{\"bottom_units\":\"screen\",\"fill_alpha\":{\"value\":0.5},\"fill_color\":{\"value\":\"lightgrey\"},\"left_units\":\"screen\",\"level\":\"overlay\",\"line_alpha\":{\"value\":1.0},\"line_color\":{\"value\":\"black\"},\"line_dash\":[4,4],\"line_width\":{\"value\":2},\"render_mode\":\"css\",\"right_units\":\"screen\",\"top_units\":\"screen\"},\"id\":\"3167\",\"type\":\"BoxAnnotation\"},{\"attributes\":{\"fill_alpha\":{\"value\":0.1},\"fill_color\":{\"value\":\"#1f77b4\"},\"line_alpha\":{\"value\":0.1},\"line_color\":{\"value\":\"#1f77b4\"},\"x\":{\"field\":\"x\"},\"y\":{\"field\":\"y\"}},\"id\":\"3042\",\"type\":\"Circle\"},{\"attributes\":{\"callback\":null,\"tooltips\":[[\"x\",\"@x\"],[\"y\",\"@y\"],[\"label\",\"@label\"]]},\"id\":\"3012\",\"type\":\"HoverTool\"},{\"attributes\":{\"data_source\":{\"id\":\"3013\",\"type\":\"ColumnDataSource\"},\"glyph\":{\"id\":\"3041\",\"type\":\"Circle\"},\"hover_glyph\":null,\"muted_glyph\":null,\"nonselection_glyph\":{\"id\":\"3042\",\"type\":\"Circle\"},\"selection_glyph\":null,\"view\":{\"id\":\"3039\",\"type\":\"CDSView\"}},\"id\":\"3043\",\"type\":\"GlyphRenderer\"},{\"attributes\":{\"filters\":[{\"id\":\"3020\",\"type\":\"GroupFilter\"}],\"source\":{\"id\":\"3013\",\"type\":\"ColumnDataSource\"}},\"id\":\"3021\",\"type\":\"CDSView\"},{\"attributes\":{\"fill_color\":{\"field\":\"label\",\"transform\":{\"id\":\"2976\",\"type\":\"CategoricalColorMapper\"}},\"line_color\":{\"field\":\"label\",\"transform\":{\"id\":\"2976\",\"type\":\"CategoricalColorMapper\"}},\"x\":{\"field\":\"x\"},\"y\":{\"field\":\"y\"}},\"id\":\"3029\",\"type\":\"Circle\"},{\"attributes\":{},\"id\":\"3161\",\"type\":\"BasicTickFormatter\"},{\"attributes\":{\"column_name\":\"label\",\"group\":\"EAS\"},\"id\":\"3026\",\"type\":\"GroupFilter\"},{\"attributes\":{},\"id\":\"2994\",\"type\":\"BasicTicker\"}],\"root_ids\":[\"2977\"]},\"title\":\"Bokeh Application\",\"version\":\"1.4.0\"}};\n",
       "  var render_items = [{\"docid\":\"a5b2a6c5-e04d-4e7a-a5a9-5e3c962c6d86\",\"roots\":{\"2977\":\"e21e7934-fbaf-4d8a-b6a9-7e096750e7d7\"}}];\n",
       "  root.Bokeh.embed.embed_items_notebook(docs_json, render_items);\n",
       "\n",
       "  }\n",
       "  if (root.Bokeh !== undefined) {\n",
       "    embed_document(root);\n",
       "  } else {\n",
       "    var attempts = 0;\n",
       "    var timer = setInterval(function(root) {\n",
       "      if (root.Bokeh !== undefined) {\n",
       "        clearInterval(timer);\n",
       "        embed_document(root);\n",
       "      } else {\n",
       "        attempts++;\n",
       "        if (attempts > 100) {\n",
       "          clearInterval(timer);\n",
       "          console.log(\"Bokeh: ERROR: Unable to run BokehJS code because BokehJS library is missing\");\n",
       "        }\n",
       "      }\n",
       "    }, 10, root)\n",
       "  }\n",
       "})(window);"
      ],
      "application/vnd.bokehjs_exec.v0+json": ""
     },
     "metadata": {
      "application/vnd.bokehjs_exec.v0+json": {
       "id": "2977"
      }
     },
     "output_type": "display_data"
    }
   ],
   "source": [
    "# plot for pca\n",
    "p = hl.plot.scatter(mt.scores[0],\n",
    "                    mt.scores[1],\n",
    "                    label=mt.pheno.super_pop,\n",
    "                    colors=mapper, \n",
    "                    title='PCA', xlabel='PC1', ylabel='PC2')\n",
    "show(p)"
   ]
  },
  {
   "cell_type": "code",
   "execution_count": 171,
   "id": "8820d83a-6b57-4477-8d43-2261291e5f4d",
   "metadata": {},
   "outputs": [
    {
     "name": "stderr",
     "output_type": "stream",
     "text": [
      "2022-08-08 13:31:34 Hail: INFO: Coerced sorted dataset\n"
     ]
    },
    {
     "data": {
      "image/png": "[encoded data removed]",
      "text/plain": [
       "<Figure size 432x288 with 1 Axes>"
      ]
     },
     "metadata": {},
     "output_type": "display_data"
    }
   ],
   "source": [
    "pca_df = mt.cols().flatten().to_pandas(flatten = True).rename(columns={'pheno.super_pop': 'super_pop'})\n",
    "pca_df[['PC1','PC2', 'PC3','PC4', 'PC5', \n",
    "        'PC6', 'PC7', 'PC8', 'PC9', 'PC10']] = pd.DataFrame(pca_df.scores.tolist(), \n",
    "                                                            index = pca_df.index)\n",
    "\n",
    "palette = dict(sportsmen=\"orange\", AFR=\"red\", AMR=\"yellow\", EAS=\"green\", EUR=\"blue\", SAS=\"purple\")\n",
    "colors = [\"yellow\", \"red\", \"green\", \"purple\", \"blue\", \"orange\"]\n",
    "population = [\"AMR\", \"AFR\", \"EAS\", \"SAS\", \"EUR\", \"sportsmen\"]\n",
    "\n",
    "# create plot for pc1 and pc2\n",
    "for col, pop in zip(colors, population):\n",
    "    plt.scatter(pca_df[pca_df.super_pop == pop]['PC1'],\n",
    "                pca_df[pca_df.super_pop == pop]['PC2'], \n",
    "                color = col, s = 5)\n",
    "plt.legend(population, loc = 'center left', bbox_to_anchor=(1, 0.5), title = \"Population\")\n",
    "plt.xlabel('PC1')\n",
    "plt.ylabel('PC2')\n",
    "# plt.show()\n",
    "\n",
    "plt.savefig(\"/net/archive/groups/plggneuromol/matzieb/projects/imdik-zekanowski-sportwgs/results/prs-plots/pca.svg\", \n",
    "            facecolor='white', bbox_inches='tight')"
   ]
  },
  {
   "cell_type": "code",
   "execution_count": 145,
   "id": "016e303f-0c81-4359-842e-9f9d99c722d4",
   "metadata": {},
   "outputs": [],
   "source": [
    "# calculate meadian absolute deviation for PC1 i PC2\n",
    "mad_pc1 = hl.median(\n",
    "    hl.abs(\n",
    "        hl.median(\n",
    "            mt.filter_cols(mt.pheno.super_pop == \"sportsmen\")\n",
    "            .scores[0].collect())-mt.filter_cols(mt.pheno.super_pop==\"sportsmen\")\n",
    "        .scores[0]\n",
    "    ).collect())\n",
    "mad_pc2 =  hl.median(\n",
    "    hl.abs(\n",
    "        hl.median(\n",
    "            mt.filter_cols(mt.pheno.super_pop == \"sportsmen\")\n",
    "            .scores[1].collect())-mt.filter_cols(mt.pheno.super_pop==\"sportsmen\")\n",
    "        .scores[1]\n",
    "    ).collect())"
   ]
  },
  {
   "cell_type": "code",
   "execution_count": 146,
   "id": "6bf4a53d-e2ba-468f-b5c1-59d3a48ed133",
   "metadata": {},
   "outputs": [
    {
     "data": {
      "text/html": [
       "<table><thead><tr><td style=\"white-space: nowrap; max-width: 500px; overflow: hidden; text-overflow: ellipsis; \" colspan=\"1\"><div style=\"text-align: left;\"></div></td></tr><tr><td style=\"white-space: nowrap; max-width: 500px; overflow: hidden; text-overflow: ellipsis; \" colspan=\"1\"><div style=\"text-align: left;border-bottom: solid 2px #000; padding-bottom: 5px\"><expr></div></td></tr><tr><td style=\"white-space: nowrap; max-width: 500px; overflow: hidden; text-overflow: ellipsis; text-align: left;\">float64</td></tr>\n",
       "</thead><tbody><tr><td style=\"white-space: nowrap; max-width: 500px; overflow: hidden; text-overflow: ellipsis; \">1.65e-03</td></tr>\n",
       "</tbody></table>"
      ],
      "text/plain": [
       "+----------+\n",
       "|   <expr> |\n",
       "+----------+\n",
       "|  float64 |\n",
       "+----------+\n",
       "| 1.65e-03 |\n",
       "+----------+"
      ]
     },
     "metadata": {},
     "output_type": "display_data"
    },
    {
     "data": {
      "text/html": [
       "<table><thead><tr><td style=\"white-space: nowrap; max-width: 500px; overflow: hidden; text-overflow: ellipsis; \" colspan=\"1\"><div style=\"text-align: left;\"></div></td></tr><tr><td style=\"white-space: nowrap; max-width: 500px; overflow: hidden; text-overflow: ellipsis; \" colspan=\"1\"><div style=\"text-align: left;border-bottom: solid 2px #000; padding-bottom: 5px\"><expr></div></td></tr><tr><td style=\"white-space: nowrap; max-width: 500px; overflow: hidden; text-overflow: ellipsis; text-align: left;\">float64</td></tr>\n",
       "</thead><tbody><tr><td style=\"white-space: nowrap; max-width: 500px; overflow: hidden; text-overflow: ellipsis; \">2.24e-03</td></tr>\n",
       "</tbody></table>"
      ],
      "text/plain": [
       "+----------+\n",
       "|   <expr> |\n",
       "+----------+\n",
       "|  float64 |\n",
       "+----------+\n",
       "| 2.24e-03 |\n",
       "+----------+"
      ]
     },
     "metadata": {},
     "output_type": "display_data"
    }
   ],
   "source": [
    "mad_pc1.show()\n",
    "mad_pc2.show()"
   ]
  },
  {
   "cell_type": "code",
   "execution_count": 148,
   "id": "68c14fd3-4d01-4567-a721-5210b8ce02ed",
   "metadata": {},
   "outputs": [],
   "source": [
    "# filter data near MAD for sportsmen\n",
    "mt_filter = mt.filter_cols(\n",
    "    (mt.scores[0] > hl.median(mt.filter_cols(mt.pheno.super_pop == \"sportsmen\").scores[0].collect())-6*mad_pc1) &\n",
    "    (mt.scores[0] < hl.median(mt.filter_cols(mt.pheno.super_pop == \"sportsmen\").scores[0].collect())+6*mad_pc1) & \n",
    "    (mt.scores[1] > hl.median(mt.filter_cols(mt.pheno.super_pop == \"sportsmen\").scores[1].collect())-6*mad_pc2) &\n",
    "    (mt.scores[1] < hl.median(mt.filter_cols(mt.pheno.super_pop == \"sportsmen\").scores[1].collect())+6*mad_pc2) &\n",
    "    (mt.pheno.super_pop != \"AMR\")\n",
    ")"
   ]
  },
  {
   "cell_type": "code",
   "execution_count": 149,
   "id": "60020c3c-ebfe-4261-a1d1-49eadd7e79f9",
   "metadata": {},
   "outputs": [
    {
     "data": {
      "text/plain": [
       "(78280, 550)"
      ]
     },
     "execution_count": 149,
     "metadata": {},
     "output_type": "execute_result"
    }
   ],
   "source": [
    "mt_filter.count()"
   ]
  },
  {
   "cell_type": "code",
   "execution_count": 150,
   "id": "bd350460-075f-4a1a-aa7e-28af86154f6b",
   "metadata": {},
   "outputs": [
    {
     "data": {
      "text/plain": [
       "frozendict({'EUR': 450, 'sportsmen': 100})"
      ]
     },
     "execution_count": 150,
     "metadata": {},
     "output_type": "execute_result"
    }
   ],
   "source": [
    "mt_filter.aggregate_cols(hl.agg.counter(mt_filter.pheno.super_pop))"
   ]
  },
  {
   "cell_type": "code",
   "execution_count": 151,
   "id": "228da113-e470-4f2f-a6f4-2d911d3585b0",
   "metadata": {},
   "outputs": [
    {
     "data": {
      "text/html": [
       "\n",
       "\n",
       "\n",
       "\n",
       "\n",
       "\n",
       "  <div class=\"bk-root\" id=\"39038427-5da8-4dec-b6ab-9476c424ca6d\" data-root-id=\"3228\"></div>\n"
      ]
     },
     "metadata": {},
     "output_type": "display_data"
    },
    {
     "data": {
      "application/javascript": [
       "(function(root) {\n",
       "  function embed_document(root) {\n",
       "    \n",
       "  var docs_json = {\"2036cdf5-0d16-46e0-b313-6337162f9349\":{\"roots\":{\"references\":[{\"attributes\":{\"below\":[{\"id\":\"3239\",\"type\":\"LinearAxis\"}],\"center\":[{\"id\":\"3243\",\"type\":\"Grid\"},{\"id\":\"3248\",\"type\":\"Grid\"}],\"left\":[{\"id\":\"3244\",\"type\":\"LinearAxis\"},{\"id\":\"3279\",\"type\":\"Legend\"},{\"id\":\"3280\",\"type\":\"ColorBar\"}],\"plot_height\":800,\"plot_width\":800,\"renderers\":[{\"id\":\"3270\",\"type\":\"GlyphRenderer\"},{\"id\":\"3276\",\"type\":\"GlyphRenderer\"}],\"title\":{\"id\":\"3229\",\"type\":\"Title\"},\"toolbar\":{\"id\":\"3255\",\"type\":\"Toolbar\"},\"x_range\":{\"id\":\"3231\",\"type\":\"DataRange1d\"},\"x_scale\":{\"id\":\"3235\",\"type\":\"LinearScale\"},\"y_range\":{\"id\":\"3233\",\"type\":\"DataRange1d\"},\"y_scale\":{\"id\":\"3237\",\"type\":\"LinearScale\"}},\"id\":\"3228\",\"subtype\":\"Figure\",\"type\":\"Plot\"},{\"attributes\":{\"factors\":[\"AFR\",\"AMR\",\"EAS\",\"EUR\",\"SAS\",\"sportsmen\"],\"palette\":[\"red\",\"yellow\",\"green\",\"blue\",\"purple\",\"orange\"]},\"id\":\"2976\",\"type\":\"CategoricalColorMapper\"},{\"attributes\":{\"color_mapper\":null,\"formatter\":{\"id\":\"3396\",\"type\":\"BasicTickFormatter\"},\"ticker\":{\"id\":\"3397\",\"type\":\"BasicTicker\"},\"visible\":false},\"id\":\"3280\",\"type\":\"ColorBar\"},{\"attributes\":{\"filters\":[{\"id\":\"3271\",\"type\":\"GroupFilter\"}],\"source\":{\"id\":\"3264\",\"type\":\"ColumnDataSource\"}},\"id\":\"3272\",\"type\":\"CDSView\"},{\"attributes\":{\"bottom_units\":\"screen\",\"fill_alpha\":{\"value\":0.5},\"fill_color\":{\"value\":\"lightgrey\"},\"left_units\":\"screen\",\"level\":\"overlay\",\"line_alpha\":{\"value\":1.0},\"line_color\":{\"value\":\"black\"},\"line_dash\":[4,4],\"line_width\":{\"value\":2},\"render_mode\":\"css\",\"right_units\":\"screen\",\"top_units\":\"screen\"},\"id\":\"3400\",\"type\":\"BoxAnnotation\"},{\"attributes\":{},\"id\":\"3394\",\"type\":\"BasicTickFormatter\"},{\"attributes\":{},\"id\":\"3254\",\"type\":\"HelpTool\"},{\"attributes\":{\"column_name\":\"label\",\"group\":\"EUR\"},\"id\":\"3265\",\"type\":\"GroupFilter\"},{\"attributes\":{\"column_name\":\"label\",\"group\":\"sportsmen\"},\"id\":\"3271\",\"type\":\"GroupFilter\"},{\"attributes\":{\"label\":{\"value\":\"sportsmen\"},\"renderers\":[{\"id\":\"3276\",\"type\":\"GlyphRenderer\"}]},\"id\":\"3278\",\"type\":\"LegendItem\"},{\"attributes\":{},\"id\":\"3397\",\"type\":\"BasicTicker\"},{\"attributes\":{\"fill_color\":{\"field\":\"label\",\"transform\":{\"id\":\"2976\",\"type\":\"CategoricalColorMapper\"}},\"line_color\":{\"field\":\"label\",\"transform\":{\"id\":\"2976\",\"type\":\"CategoricalColorMapper\"}},\"x\":{\"field\":\"x\"},\"y\":{\"field\":\"y\"}},\"id\":\"3274\",\"type\":\"Circle\"},{\"attributes\":{},\"id\":\"3398\",\"type\":\"UnionRenderers\"},{\"attributes\":{\"active_drag\":\"auto\",\"active_inspect\":\"auto\",\"active_multi\":null,\"active_scroll\":\"auto\",\"active_tap\":\"auto\",\"tools\":[{\"id\":\"3249\",\"type\":\"PanTool\"},{\"id\":\"3250\",\"type\":\"WheelZoomTool\"},{\"id\":\"3251\",\"type\":\"BoxZoomTool\"},{\"id\":\"3252\",\"type\":\"SaveTool\"},{\"id\":\"3253\",\"type\":\"ResetTool\"},{\"id\":\"3254\",\"type\":\"HelpTool\"},{\"id\":\"3263\",\"type\":\"HoverTool\"}]},\"id\":\"3255\",\"type\":\"Toolbar\"},{\"attributes\":{},\"id\":\"3252\",\"type\":\"SaveTool\"},{\"attributes\":{\"axis_label\":\"PC2\",\"formatter\":{\"id\":\"3394\",\"type\":\"BasicTickFormatter\"},\"ticker\":{\"id\":\"3245\",\"type\":\"BasicTicker\"}},\"id\":\"3244\",\"type\":\"LinearAxis\"},{\"attributes\":{\"click_policy\":\"hide\",\"items\":[{\"id\":\"3277\",\"type\":\"LegendItem\"},{\"id\":\"3278\",\"type\":\"LegendItem\"}]},\"id\":\"3279\",\"type\":\"Legend\"},{\"attributes\":{\"callback\":null,\"data\":{\"index\":[0,1,2,3,4,5,6,7,8,9,10,11,12,13,14,15,16,17,18,19,20,21,22,23,24,25,26,27,28,29,30,31,32,33,34,35,36,37,38,39,40,41,42,43,44,45,46,47,48,49,50,51,52,53,54,55,56,57,58,59,60,61,62,63,64,65,66,67,68,69,70,71,72,73,74,75,76,77,78,79,80,81,82,83,84,85,86,87,88,89,90,91,92,93,94,95,96,97,98,99,100,101,102,103,104,105,106,107,108,109,110,111,112,113,114,115,116,117,118,119,120,121,122,123,124,125,126,127,128,129,130,131,132,133,134,135,136,137,138,139,140,141,142,143,144,145,146,147,148,149,150,151,152,153,154,155,156,157,158,159,160,161,162,163,164,165,166,167,168,169,170,171,172,173,174,175,176,177,178,179,180,181,182,183,184,185,186,187,188,189,190,191,192,193,194,195,196,197,198,199,200,201,202,203,204,205,206,207,208,209,210,211,212,213,214,215,216,217,218,219,220,221,222,223,224,225,226,227,228,229,230,231,232,233,234,235,236,237,238,239,240,241,242,243,244,245,246,247,248,249,250,251,252,253,254,255,256,257,258,259,260,261,262,263,264,265,266,267,268,269,270,271,272,273,274,275,276,277,278,279,280,281,282,283,284,285,286,287,288,289,290,291,292,293,294,295,296,297,298,299,300,301,302,303,304,305,306,307,308,309,310,311,312,313,314,315,316,317,318,319,320,321,322,323,324,325,326,327,328,329,330,331,332,333,334,335,336,337,338,339,340,341,342,343,344,345,346,347,348,349,350,351,352,353,354,355,356,357,358,359,360,361,362,363,364,365,366,367,368,369,370,371,372,373,374,375,376,377,378,379,380,381,382,383,384,385,386,387,388,389,390,391,392,393,394,395,396,397,398,399,400,401,402,403,404,405,406,407,408,409,410,411,412,413,414,415,416,417,418,419,420,421,422,423,424,425,426,427,428,429,430,431,432,433,434,435,436,437,438,439,440,441,442,443,444,445,446,447,448,449,450,451,452,453,454,455,456,457,458,459,460,461,462,463,464,465,466,467,468,469,470,471,472,473,474,475,476,477,478,479,480,481,482,483,484,485,486,487,488,489,490,491,492,493,494,495,496,497,498,499,500,501,502,503,504,505,506,507,508,509,510,511,512,513,514,515,516,517,518,519,520,521,522,523,524,525,526,527,528,529,530,531,532,533,534],\"label\":[\"EUR\",\"EUR\",\"EUR\",\"EUR\",\"EUR\",\"EUR\",\"EUR\",\"EUR\",\"EUR\",\"EUR\",\"EUR\",\"EUR\",\"EUR\",\"EUR\",\"EUR\",\"EUR\",\"EUR\",\"EUR\",\"EUR\",\"EUR\",\"EUR\",\"EUR\",\"EUR\",\"EUR\",\"EUR\",\"EUR\",\"EUR\",\"EUR\",\"EUR\",\"EUR\",\"EUR\",\"EUR\",\"EUR\",\"EUR\",\"EUR\",\"EUR\",\"EUR\",\"EUR\",\"EUR\",\"EUR\",\"EUR\",\"EUR\",\"EUR\",\"EUR\",\"EUR\",\"EUR\",\"sportsmen\",\"EUR\",\"EUR\",\"EUR\",\"EUR\",\"EUR\",\"EUR\",\"EUR\",\"EUR\",\"EUR\",\"EUR\",\"EUR\",\"EUR\",\"EUR\",\"EUR\",\"EUR\",\"EUR\",\"sportsmen\",\"EUR\",\"EUR\",\"sportsmen\",\"EUR\",\"EUR\",\"EUR\",\"EUR\",\"EUR\",\"EUR\",\"EUR\",\"EUR\",\"EUR\",\"EUR\",\"EUR\",\"EUR\",\"EUR\",\"EUR\",\"EUR\",\"EUR\",\"EUR\",\"EUR\",\"EUR\",\"EUR\",\"EUR\",\"sportsmen\",\"EUR\",\"EUR\",\"EUR\",\"EUR\",\"EUR\",\"EUR\",\"EUR\",\"EUR\",\"EUR\",\"EUR\",\"EUR\",\"EUR\",\"EUR\",\"EUR\",\"EUR\",\"EUR\",\"EUR\",\"EUR\",\"EUR\",\"sportsmen\",\"EUR\",\"EUR\",\"EUR\",\"EUR\",\"EUR\",\"EUR\",\"EUR\",\"EUR\",\"EUR\",\"EUR\",\"EUR\",\"EUR\",\"sportsmen\",\"EUR\",\"EUR\",\"EUR\",\"EUR\",\"EUR\",\"sportsmen\",\"EUR\",\"EUR\",\"EUR\",\"EUR\",\"EUR\",\"EUR\",\"EUR\",\"EUR\",\"EUR\",\"EUR\",\"EUR\",\"EUR\",\"EUR\",\"EUR\",\"EUR\",\"sportsmen\",\"sportsmen\",\"EUR\",\"EUR\",\"EUR\",\"EUR\",\"EUR\",\"EUR\",\"EUR\",\"sportsmen\",\"EUR\",\"EUR\",\"EUR\",\"EUR\",\"sportsmen\",\"EUR\",\"EUR\",\"EUR\",\"EUR\",\"EUR\",\"sportsmen\",\"sportsmen\",\"sportsmen\",\"EUR\",\"EUR\",\"EUR\",\"EUR\",\"EUR\",\"EUR\",\"EUR\",\"sportsmen\",\"EUR\",\"EUR\",\"EUR\",\"EUR\",\"EUR\",\"sportsmen\",\"EUR\",\"EUR\",\"EUR\",\"sportsmen\",\"EUR\",\"EUR\",\"EUR\",\"EUR\",\"EUR\",\"EUR\",\"sportsmen\",\"EUR\",\"EUR\",\"sportsmen\",\"EUR\",\"EUR\",\"EUR\",\"sportsmen\",\"sportsmen\",\"sportsmen\",\"EUR\",\"EUR\",\"EUR\",\"sportsmen\",\"sportsmen\",\"sportsmen\",\"EUR\",\"EUR\",\"EUR\",\"EUR\",\"sportsmen\",\"sportsmen\",\"EUR\",\"EUR\",\"sportsmen\",\"sportsmen\",\"EUR\",\"EUR\",\"sportsmen\",\"EUR\",\"sportsmen\",\"sportsmen\",\"EUR\",\"EUR\",\"EUR\",\"EUR\",\"EUR\",\"EUR\",\"EUR\",\"EUR\",\"EUR\",\"sportsmen\",\"sportsmen\",\"EUR\",\"sportsmen\",\"EUR\",\"sportsmen\",\"EUR\",\"sportsmen\",\"EUR\",\"sportsmen\",\"EUR\",\"sportsmen\",\"sportsmen\",\"sportsmen\",\"EUR\",\"EUR\",\"EUR\",\"EUR\",\"EUR\",\"EUR\",\"sportsmen\",\"EUR\",\"EUR\",\"EUR\",\"EUR\",\"EUR\",\"sportsmen\",\"EUR\",\"EUR\",\"sportsmen\",\"EUR\",\"EUR\",\"EUR\",\"sportsmen\",\"EUR\",\"sportsmen\",\"EUR\",\"sportsmen\",\"EUR\",\"sportsmen\",\"EUR\",\"sportsmen\",\"EUR\",\"EUR\",\"EUR\",\"EUR\",\"EUR\",\"EUR\",\"EUR\",\"EUR\",\"sportsmen\",\"sportsmen\",\"sportsmen\",\"sportsmen\",\"sportsmen\",\"EUR\",\"EUR\",\"EUR\",\"EUR\",\"EUR\",\"EUR\",\"EUR\",\"EUR\",\"EUR\",\"EUR\",\"EUR\",\"EUR\",\"EUR\",\"EUR\",\"EUR\",\"EUR\",\"EUR\",\"EUR\",\"sportsmen\",\"EUR\",\"EUR\",\"sportsmen\",\"EUR\",\"EUR\",\"EUR\",\"EUR\",\"EUR\",\"EUR\",\"EUR\",\"EUR\",\"EUR\",\"sportsmen\",\"sportsmen\",\"EUR\",\"EUR\",\"sportsmen\",\"EUR\",\"EUR\",\"sportsmen\",\"EUR\",\"EUR\",\"EUR\",\"EUR\",\"EUR\",\"EUR\",\"EUR\",\"EUR\",\"sportsmen\",\"EUR\",\"EUR\",\"EUR\",\"EUR\",\"EUR\",\"sportsmen\",\"sportsmen\",\"EUR\",\"EUR\",\"sportsmen\",\"sportsmen\",\"EUR\",\"EUR\",\"sportsmen\",\"sportsmen\",\"EUR\",\"EUR\",\"sportsmen\",\"EUR\",\"EUR\",\"EUR\",\"EUR\",\"EUR\",\"EUR\",\"sportsmen\",\"EUR\",\"sportsmen\",\"EUR\",\"EUR\",\"EUR\",\"EUR\",\"EUR\",\"sportsmen\",\"EUR\",\"sportsmen\",\"EUR\",\"sportsmen\",\"EUR\",\"EUR\",\"sportsmen\",\"EUR\",\"EUR\",\"EUR\",\"sportsmen\",\"EUR\",\"sportsmen\",\"EUR\",\"EUR\",\"sportsmen\",\"EUR\",\"sportsmen\",\"EUR\",\"EUR\",\"EUR\",\"sportsmen\",\"sportsmen\",\"EUR\",\"EUR\",\"sportsmen\",\"EUR\",\"sportsmen\",\"sportsmen\",\"EUR\",\"EUR\",\"sportsmen\",\"EUR\",\"EUR\",\"EUR\",\"EUR\",\"EUR\",\"EUR\",\"sportsmen\",\"EUR\",\"EUR\",\"EUR\",\"EUR\",\"EUR\",\"EUR\",\"EUR\",\"sportsmen\",\"EUR\",\"EUR\",\"EUR\",\"EUR\",\"EUR\",\"EUR\",\"EUR\",\"EUR\",\"EUR\",\"EUR\",\"EUR\",\"EUR\",\"EUR\",\"EUR\",\"EUR\",\"EUR\",\"EUR\",\"EUR\",\"EUR\",\"EUR\",\"sportsmen\",\"EUR\",\"sportsmen\",\"EUR\",\"EUR\",\"EUR\",\"EUR\",\"EUR\",\"EUR\",\"EUR\",\"EUR\",\"EUR\",\"EUR\",\"EUR\",\"EUR\",\"EUR\",\"EUR\",\"EUR\",\"EUR\",\"EUR\",\"EUR\",\"EUR\",\"EUR\",\"EUR\",\"EUR\",\"EUR\",\"EUR\",\"EUR\",\"EUR\",\"EUR\",\"EUR\",\"EUR\",\"EUR\",\"EUR\",\"EUR\",\"EUR\",\"sportsmen\",\"EUR\",\"EUR\",\"EUR\",\"EUR\",\"EUR\",\"EUR\",\"EUR\",\"EUR\",\"EUR\",\"EUR\",\"EUR\",\"EUR\",\"EUR\",\"sportsmen\",\"EUR\",\"EUR\",\"EUR\",\"EUR\",\"EUR\",\"EUR\",\"EUR\",\"EUR\",\"EUR\",\"EUR\",\"EUR\",\"EUR\",\"EUR\",\"sportsmen\",\"EUR\",\"EUR\",\"EUR\",\"EUR\",\"EUR\",\"EUR\",\"EUR\",\"EUR\",\"EUR\",\"EUR\",\"EUR\",\"EUR\",\"EUR\",\"EUR\",\"EUR\",\"EUR\",\"EUR\",\"EUR\",\"EUR\",\"EUR\",\"EUR\",\"EUR\",\"EUR\",\"EUR\",\"EUR\",\"EUR\",\"EUR\",\"EUR\",\"EUR\",\"EUR\",\"EUR\",\"EUR\",\"EUR\",\"EUR\",\"EUR\",\"EUR\"],\"x\":{\"__ndarray__\":\"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\",\"dtype\":\"float64\",\"shape\":[535]},\"y\":{\"__ndarray__\":\"mv3t/P8Mt79b+BTD1zS1vzr4xmDHErS/DfXt/Bprs79J05GLtwu2v9jln9kmkrS/3kZYPNo4tL+ZEmN2eyO0v12/RT+f9bm/6oEBzEMqub9Dw9xuWx+0v2yqRxzi5bm/iql8iacdtr+tj4sM9yi2v/kw+2KebrS/mo4HapbmtL/vG8Lp8CC0v1K4g09sbLO/r/Tdgou+s787XLmEZqO4v6XoI5g4P7e/jCPjkl3Itr+1DfhNzSy1v0mSVY43HLa/gbUFemidtb9cXf7APrS0v0cqRgo0DbS/uPVnXfbVs7+es0KGbcG4v2CJxpqXJ7i/7G442pz2tr9mua8Qrcm0vxyH0R8Rq7e/TOu7TUuLt7+Ve1d73O62v9f6ttQv67S/3JwaTLsdtr9fWqAtT9+0v3TO3uci2rS/ikwNp94KtL/KofrdsyS4v83rzLblGrW/O4inSDLfs7/2w2aX4Iy4v2JlsRXYPbW/g78b0CAotb/cgJ67YL64vxu/wXy5z7e/lHoPCbA1tr9zpfrsjlmzv/PWBQlT7ri/cuzc7KJpuL9K/MTu3Ri0v0A11fFh4LO/4K9p8UheuL8TX1Tzv0K4v9NgBAKwtba/6j6E1QJetb+8DSPSJvq0v/n+RMoi0LS/dIt537B/uL/zgS6Yg9C3vw8+uc2cC7e/SQ1Dew/Mtb+HCTWDZum0v3JCmH+kubS/KeQQuPeUt7+eRZLoruq2v3K6pN5657W/f3qsVptNtL/zk77S5uWzv5G6J+yeSLe/uB1TrInEtr+xFch9ubi2v31K4UxgrLa/lZJYdLJ8tb9QTUg9WuKzv5iSJA2kqLi/EIfTwLHct79Qy7TsAZq1v983vP2/urS/Bm7021q0s7/3FbfaR7O5v6OewWuFrbe/BVW1C2l6t79SeYfZR2y3v64DF4MEE7e/Wjk2sKl8tb+4kkKWgeq0v0b88rWCJrS/agGx8bcOur836x9Bzri4v4ciFQuxp7i/e7yB/ghDuL+IGXZLrA+4v5C7PzeAYre/F8a44LRXtr9uJV6Ym8i1v8UiUl7hI7S/4+9mOraPs78EB0TAEfa4v8X+P5CD77e/U6NHkdwztr9q3JpEkES4v448znnp97e/JijA+VJmt7+6x6q7iE63vxLFBRlTK7e/17/4ZK4Xt7+ZeYmIb/K2vwkTCGUgfba/0D3g2X7ttb+hgUZc2Q61v031JNPqIrS/WzxKqZbbuL/I8iofDR24vyNkMCpudre/kYpACYFlt7+MdQGONCe3v7gtapGU8ra/Lve/SUR9tr8GGVHGE2m2v+x7mlOkMrS/G6ICNUFzub+Y7QkNzVK4v2uW4QcoNLi/LpAuetbMt7/IqIwtd1W3v7HNQI2i2ba/nPbIifg+tr/9x8bthqG1v0ba0YbUNLW/W623toT6s79XcsvJGVqzv+V5Uk4x7bm/TeSJiArauL/wVpklJHe3v7D03q9Ad7a/bxa+9kMWtr+tm/GFrb20v3N1CJnawbi/qJw/PXNpuL+P4dH/kmG4v0UGlmCg8ra//AweaEDItr8WgBTTcEW2v9jw4MHorLW/Of9U1+PIs7/iGwytmQS5v98ioJ1ZR7i/+q6DoGypt78NExjU62u3v07jv+88xLa/dTor8wfftb9b8eWfITa0v6/8VgRIqrm/7VjLTAgKub+1yxzFA/i4v0OYTKHz67e/EK63moZZt78NHfWE2zG3v3DTVHGzHre/TR0DFtrEtr8b5dVzLp+2vx35MvYDe7a/4ALzwWNstr+3WA2gw+e1v8IthsJ4zrW/hyjMdz3utL9YWLqEr2u5v8pREUtwxLi/PEbLzaifuL+/SzmUXtO3v2QIwInwbbe/Ix7YoaNJt79/d5rX+9e2v6eZtPQYhba/mwfCG2hCtr/KKgOkUfS1v5lVTFf0obi/xhtvnOeYuL8E5zhDAXi4vyB01UR7Jbi/Hk3wDQ/Et7+ryrdOtDW3v5udVAwlFre/JmYnpxQutr8CjlUWbqq1v/Co6KUi/ri/njBGubgyuL8hYDo66E23v9fO4TNoFbe/QqaFSM/rtr/hRKDbQ2m2v/ezkdGlSLa/r/0i0xcVtr9fHufP4u61v6gt32SwsLm/whP53/7Kt7+x+0Kl18K3v57iMXnpmbe/squooL47t78R0TawOMO2vz/WY8ZKNLa/ZxJi6lj9tb8X0RghrWW1vwwbAFlBSrW/NFZGyNL0s78VU5s4BDO4vyMalXso9re/iVDN7f1It79auzhF1C23v/KpPeIj27a/wj48McdZtr+y1PMu8wq2v3Bmv24z1LW/bCtKe2lQub93n+pSZqi4v63b9frHmbe/IaIpPd1Vt78JqOwFAou2v8I+ym58fLa/IzUJY0YRtr+/6aU2WOm0vyiEq6JV7Li/qQv6oY/LuL8Ny8kxA5K4v+HLltpBM7i/XwzuOD4Qt7+Ptrj0Kbi2vwfWno3edra/Fp4PUToNtr9Ocm4SEUS5v8m+kcqLW7i/XJup4CE6uL+MSNjVdh24v18y6oUKxbe/6HBpLcCet790jHB7Fkq3vykak5nnC7e/yAanu327tr9yjK5lVZ62v9L5pSqfiba/y5GsTqY5tr9Y5RipM0O1v1BlnD4hqri/MEtztBuCuL8V08DG5vK3v1ouTtHQ4Le/CSLyNiS7t78CEkCtByu3v6aqQpJl9ba/w5Wue7/dtr+xSo6wqIq2v3UdusyVDra/ZR/l9kC3tb/8pBVSs3q3vwHKNn4m+7a/frb+mdDStr9EVvwvv622v6gDtPnzOra/XY9ObxbDtb8r1DQl6V64vwudWy5r87e/kC7lSr08t7+3QbfXqie3v+rrL5bscra/DglMx4RKtr8pwdtLKSq2v9d7s+4uO7i/TnJEsmpMt7/t2E1wj7C2v3K1meIMk7a/MLZ92BNntr/oZj/fY1G2v3i84Ak3A7a/qhSqpJgitb8KK8bETPuzv4zpJaVFjrm/uRAsX6bxt7+uW54USMm3vw60zuonXLe/nmHvCubhtr+ktfQ9eZ+2v38HRCXJL7a/tBupcXGptb+CL2MzmVq5v3UMVqg/Tbe/UjfwpCuTtr8SH5xD+mu2vwyof9VSDba/wYF4c6oRub9rCq5+1PC3vx2W2Wgw7La/2VQLQ9fjtr9FEXWH9L62vzJi53KoQba/hiLrrZoNub9ouyEfeKG4v1qXxyjVPLi/4GlRC17Xt78im8oh6lW3v5kFWp+81ba/aMxWa2SZtr+J7i3dEd63v78qp3rUH7e/woWxUdnutr8DKxm/ZsK2v7LjBlDqhra/SybWh8N5tr+wy53d2GS2v5KxspK/Sra/4ohU95S+tb8OUqMeQLK5vwHVIjPa97e/x8h6+vGft79xou4UCq+5v/58P38sLLi/DOorho/ht7+oHFlOudO3v7bBb5kDqre/AB6gmOmstr8SLWZNoZW2v6MhrhcH9rW/TxrbyGrEtb9tOcMj+521vxLl8R4BcLS/tMbRryG6uL+FFch2SIe4vyIjacp5LLi/x/Ocgl/Ht7/ihEWwhrW3v8n7OsMDSre/c6B0OEb/tr9jwcQ+IJa2vwTj8PHS4rW/bKLBZWy3tb+80BngQ++3v74IOPXJ4ba/eK3A0A+Vtr/YUj70sIW2v0x7mmJdVLa/eMRE837Xtb+AU1U2UK21v7m1PATHxLS/coFNYroUub/C+LZySHy3v954d/xjV7e/CC8yfp9Ztr8qMfhHwUy2v3f5165Q07W/FV6gKEHOtb8BzOQtib+1vx2SpvPQkbW/QK9cIXpVs79sQ83dH6u3vzgX1Dv7fre/Qy1q3Awat78IWdq2q7y2vx2RvbdNybW/RCZ7wmcBuL8BqRTIz7K3v2VSaIAIore/0F0uzKGRt79p0WVoCL62v77ZeB+ouba/xtbhjsoxtr/7EqI2H6i1v68gwVVJM7W/1oeuUO0Pt7+4E2kinOq2v9/azTAxfra/E5bDoa9Ftr8vl0sg36W0v43B2S8cRbi/g0H+MZHJt7/3ec3kPFu3v4mExSiMTLa/lHOqSA7utb9+N7NJy1W4v1gzrs8G97a/T2VuAIbPtr+Mjb7tA8e5v4bVu7O1Rri/WKx77HDnt7/VJHTuVD63vxUVl7XPCre/Ame6Y3ystr96N2XgT0K2vzzvf6gN0rW/jS/vAbuytb9+fT30Cfu4v1eMdhglbra/O0U0+Wvqtb+sM2x9xZi1v3zgxd6/mLi/lhoZpyKUt7+girMan3W3vycge8VWP7e/VgrPsgv4tr9HOPEitLy2v4fzEoHqlLa/q0aT+xo5tr/vCfOn+ja2v8xEkzkYGLa/cq7Y41sLtr/8kiqXcrm3v+vu35xcn7e/Pvfh4Kxbt78KMB5jPT63vyRPkaWRC7e/YPbGy8f/tr9HV2fQ5vC2v5Iul3080ba/UoU1UnW5tr9/Dtb2WYm2v9Vb55WLFba/jhikabi1tb8gV+Fu/xG3v1wmBqduPra/7CdyqJ4Ztr8kW+B+x1e1v/WHPwem1Li/21yE0WAbuL8Q5/DkpY63v/hd68Jbfbe/ivgXaIdct7+PradZcii3v4V51qzC6ra/2oEIopbhtr+YPffbHMa3v+gDQIuPlbe/peluBe1Gt78/j54u9TK3v4v4MUTuD7e/nyt8ag1str9B5wR4sgm2vw2P1rQZyLW/+GT3WR+itb/bt+uQ6jS3v48GEeUDMLW/RMoHk41tuL/jI+L5oWa4vwdfJtmvNLi/FelmUbsRuL9fkcwwuAW4v9z/JniLcre/NP9GXqoct785Xj2lLJq2v32vj8vL0bW/jUkz/tB3uL/2S2oNxnW3v4oEPFBkVre/eiZVz8ECt7/mqLTF0tu2v8NZoxhy0rW/m5LbldSjt7+aJkXCcq22vzFj20yPSba//KqCN6rotb/souCVfNO4v+vZ1wmUwbi/jmtKVx/ft79P1WgdgRa2v7JvMtWHhri/yOs+V41dt79B2zsuRiS3v3QP2pxP5ba/nBh9N2Mwub+ipTsyeeC3v2Z8VH5ddLe/AUpYgZE+t79CZSHuNfa2v3WW8SbhlLa/9/s6RDkGtr+3C7r5/FW1v73vCmi8a7e/7XN0of7ctr+iWdYqoTm4v0rsNOrYXre/43wojl9Et7+KtWKiHBu3vwofDtoZD7i/CrgshX/vt7+Tj79qKby3vwKpBKSvYbe/ILbXCIgetr89RGomSJ24v0hPMob/rbe/qKSiJHcPtb8tsdcjB9m2v43e8WaD07a/LKjEhypntr/xsELclh+4v8TuCMLnNre/DN7jDE+2tr9q1WZY1KS2v+5EUeN16bi/jdcq28k+t78DikWyAPm2v0p8H3PbSLa/vE4b9/TAtb9pve5UEmG1v2rgLUo3fLe/H3xS70PQtr8qrrVXa3W2vy5oOcr0N7e/N2hjyv0ot79VQfl+oxC3v/0SBEyexLW/LGh3GU5Qt7+2LKPjv261v/VjG2/n9ra/mHA/7sWBtr8QUmxxwUy2v9t9Z4yZc7i/5IuEi0Eyt7/Hy1bcLqW2vyAZsou8jLa/nV+uv7xBtr/o5Ud/ZoK2v52/LjAEQra/MjlUdUTgtL/tyf65S6O2vwaxTKUCVba/O+/RQ9Y1tr+uohBuyce2v0wDgnY+ZLa/dycDF5wWtr9BDomSPOu3v51OgzZn1Le/EkCxNl3mtb/n03xQ4lW3vyHAx1b0yba/xyw4GZybuL8=\",\"dtype\":\"float64\",\"shape\":[535]}},\"selected\":{\"id\":\"3399\",\"type\":\"Selection\"},\"selection_policy\":{\"id\":\"3398\",\"type\":\"UnionRenderers\"}},\"id\":\"3264\",\"type\":\"ColumnDataSource\"},{\"attributes\":{\"fill_alpha\":{\"value\":0.1},\"fill_color\":{\"value\":\"#1f77b4\"},\"line_alpha\":{\"value\":0.1},\"line_color\":{\"value\":\"#1f77b4\"},\"x\":{\"field\":\"x\"},\"y\":{\"field\":\"y\"}},\"id\":\"3275\",\"type\":\"Circle\"},{\"attributes\":{},\"id\":\"3399\",\"type\":\"Selection\"},{\"attributes\":{\"axis_label\":\"PC1\",\"formatter\":{\"id\":\"3392\",\"type\":\"BasicTickFormatter\"},\"ticker\":{\"id\":\"3240\",\"type\":\"BasicTicker\"}},\"id\":\"3239\",\"type\":\"LinearAxis\"},{\"attributes\":{},\"id\":\"3245\",\"type\":\"BasicTicker\"},{\"attributes\":{},\"id\":\"3250\",\"type\":\"WheelZoomTool\"},{\"attributes\":{\"ticker\":{\"id\":\"3240\",\"type\":\"BasicTicker\"}},\"id\":\"3243\",\"type\":\"Grid\"},{\"attributes\":{},\"id\":\"3249\",\"type\":\"PanTool\"},{\"attributes\":{\"callback\":null},\"id\":\"3231\",\"type\":\"DataRange1d\"},{\"attributes\":{},\"id\":\"3396\",\"type\":\"BasicTickFormatter\"},{\"attributes\":{},\"id\":\"3253\",\"type\":\"ResetTool\"},{\"attributes\":{},\"id\":\"3237\",\"type\":\"LinearScale\"},{\"attributes\":{},\"id\":\"3392\",\"type\":\"BasicTickFormatter\"},{\"attributes\":{\"overlay\":{\"id\":\"3400\",\"type\":\"BoxAnnotation\"}},\"id\":\"3251\",\"type\":\"BoxZoomTool\"},{\"attributes\":{\"filters\":[{\"id\":\"3265\",\"type\":\"GroupFilter\"}],\"source\":{\"id\":\"3264\",\"type\":\"ColumnDataSource\"}},\"id\":\"3266\",\"type\":\"CDSView\"},{\"attributes\":{\"fill_alpha\":{\"value\":0.1},\"fill_color\":{\"value\":\"#1f77b4\"},\"line_alpha\":{\"value\":0.1},\"line_color\":{\"value\":\"#1f77b4\"},\"x\":{\"field\":\"x\"},\"y\":{\"field\":\"y\"}},\"id\":\"3269\",\"type\":\"Circle\"},{\"attributes\":{\"callback\":null,\"tooltips\":[[\"x\",\"@x\"],[\"y\",\"@y\"],[\"label\",\"@label\"]]},\"id\":\"3263\",\"type\":\"HoverTool\"},{\"attributes\":{\"data_source\":{\"id\":\"3264\",\"type\":\"ColumnDataSource\"},\"glyph\":{\"id\":\"3274\",\"type\":\"Circle\"},\"hover_glyph\":null,\"muted_glyph\":null,\"nonselection_glyph\":{\"id\":\"3275\",\"type\":\"Circle\"},\"selection_glyph\":null,\"view\":{\"id\":\"3272\",\"type\":\"CDSView\"}},\"id\":\"3276\",\"type\":\"GlyphRenderer\"},{\"attributes\":{},\"id\":\"3235\",\"type\":\"LinearScale\"},{\"attributes\":{\"text\":\"PCA\"},\"id\":\"3229\",\"type\":\"Title\"},{\"attributes\":{\"dimension\":1,\"ticker\":{\"id\":\"3245\",\"type\":\"BasicTicker\"}},\"id\":\"3248\",\"type\":\"Grid\"},{\"attributes\":{\"callback\":null},\"id\":\"3233\",\"type\":\"DataRange1d\"},{\"attributes\":{\"fill_color\":{\"field\":\"label\",\"transform\":{\"id\":\"2976\",\"type\":\"CategoricalColorMapper\"}},\"line_color\":{\"field\":\"label\",\"transform\":{\"id\":\"2976\",\"type\":\"CategoricalColorMapper\"}},\"x\":{\"field\":\"x\"},\"y\":{\"field\":\"y\"}},\"id\":\"3268\",\"type\":\"Circle\"},{\"attributes\":{\"label\":{\"value\":\"EUR\"},\"renderers\":[{\"id\":\"3270\",\"type\":\"GlyphRenderer\"}]},\"id\":\"3277\",\"type\":\"LegendItem\"},{\"attributes\":{\"data_source\":{\"id\":\"3264\",\"type\":\"ColumnDataSource\"},\"glyph\":{\"id\":\"3268\",\"type\":\"Circle\"},\"hover_glyph\":null,\"muted_glyph\":null,\"nonselection_glyph\":{\"id\":\"3269\",\"type\":\"Circle\"},\"selection_glyph\":null,\"view\":{\"id\":\"3266\",\"type\":\"CDSView\"}},\"id\":\"3270\",\"type\":\"GlyphRenderer\"},{\"attributes\":{},\"id\":\"3240\",\"type\":\"BasicTicker\"}],\"root_ids\":[\"3228\"]},\"title\":\"Bokeh Application\",\"version\":\"1.4.0\"}};\n",
       "  var render_items = [{\"docid\":\"2036cdf5-0d16-46e0-b313-6337162f9349\",\"roots\":{\"3228\":\"39038427-5da8-4dec-b6ab-9476c424ca6d\"}}];\n",
       "  root.Bokeh.embed.embed_items_notebook(docs_json, render_items);\n",
       "\n",
       "  }\n",
       "  if (root.Bokeh !== undefined) {\n",
       "    embed_document(root);\n",
       "  } else {\n",
       "    var attempts = 0;\n",
       "    var timer = setInterval(function(root) {\n",
       "      if (root.Bokeh !== undefined) {\n",
       "        clearInterval(timer);\n",
       "        embed_document(root);\n",
       "      } else {\n",
       "        attempts++;\n",
       "        if (attempts > 100) {\n",
       "          clearInterval(timer);\n",
       "          console.log(\"Bokeh: ERROR: Unable to run BokehJS code because BokehJS library is missing\");\n",
       "        }\n",
       "      }\n",
       "    }, 10, root)\n",
       "  }\n",
       "})(window);"
      ],
      "application/vnd.bokehjs_exec.v0+json": ""
     },
     "metadata": {
      "application/vnd.bokehjs_exec.v0+json": {
       "id": "3228"
      }
     },
     "output_type": "display_data"
    }
   ],
   "source": [
    "p = hl.plot.scatter(mt_filter.scores[0],\n",
    "                    mt_filter.scores[1],\n",
    "                    label=mt_filter.pheno.super_pop,\n",
    "                    colors=mapper,\n",
    "                    title='PCA', xlabel='PC1', ylabel='PC2')\n",
    "show(p)"
   ]
  },
  {
   "cell_type": "code",
   "execution_count": 170,
   "id": "ef249a19-0c46-4ed1-92b8-34603963c979",
   "metadata": {},
   "outputs": [
    {
     "data": {
      "image/png": "[encoded data removed]",
      "text/plain": [
       "<Figure size 432x288 with 1 Axes>"
      ]
     },
     "metadata": {},
     "output_type": "display_data"
    }
   ],
   "source": [
    "pca_filter_df = mt_filter.cols().flatten().to_pandas(flatten = True).rename(columns={'pheno.super_pop': 'super_pop'})\n",
    "pca_filter_df[['PC1','PC2', 'PC3','PC4', 'PC5', \n",
    "                      'PC6', 'PC7', 'PC8', 'PC9', 'PC10']] = pd.DataFrame(pca_filter_df.scores.tolist(), \n",
    "                                                                          index = pca_filter_df.index)\n",
    "\n",
    "colors = [\"blue\", \"orange\"]\n",
    "population = [\"EUR\", \"sportsmen\"]\n",
    "\n",
    "# create plot for pc1 and pc2\n",
    "for col, pop in zip(colors, population):\n",
    "    plt.scatter(pca_filter_df[pca_filter_df.super_pop == pop]['PC1'],\n",
    "                pca_filter_df[pca_filter_df.super_pop == pop]['PC2'], \n",
    "                color = col, s = 5)\n",
    "plt.legend(population, loc = 'center left', bbox_to_anchor=(1, 0.5), title = \"Population\")\n",
    "plt.xlabel('PC1')\n",
    "plt.ylabel('PC2')\n",
    "# plt.show()\n",
    "\n",
    "plt.savefig(\"/net/archive/groups/plggneuromol/matzieb/projects/imdik-zekanowski-sportwgs/results/prs-plots/pca-filter.svg\", \n",
    "            facecolor='white', bbox_inches='tight')"
   ]
  },
  {
   "cell_type": "code",
   "execution_count": 154,
   "id": "47a6f60b-520d-4e4d-a825-26db02b52a40",
   "metadata": {},
   "outputs": [
    {
     "name": "stderr",
     "output_type": "stream",
     "text": [
      "2022-08-08 13:17:19 Hail: INFO: hwe_normalize: found 22744 variants after filtering out monomorphic sites.\n",
      "2022-08-08 13:17:22 Hail: INFO: pca: running PCA with 10 components...24) / 327]\n",
      "[Stage 1326:===========================================>       (281 + 24) / 327]\r"
     ]
    }
   ],
   "source": [
    "eigenvalues_filter, pcs_filter, _ = hl.hwe_normalized_pca(mt_filter.GT)"
   ]
  },
  {
   "cell_type": "code",
   "execution_count": 155,
   "id": "ab929425-328a-4be7-a540-f284ec10909f",
   "metadata": {},
   "outputs": [
    {
     "name": "stdout",
     "output_type": "stream",
     "text": [
      "[2.8931867873053942, 2.014405975817246, 1.710930782157045, 1.6607276439772871, 1.6420614758280974, 1.62879883417021, 1.6223625694248305, 1.6158915940633063, 1.6082058266623966, 1.590486810036136]\n"
     ]
    },
    {
     "data": {
      "text/html": [
       "<table><thead><tr><td style=\"white-space: nowrap; max-width: 500px; overflow: hidden; text-overflow: ellipsis; \" colspan=\"1\"><div style=\"text-align: left;\"></div></td><td style=\"white-space: nowrap; max-width: 500px; overflow: hidden; text-overflow: ellipsis; \" colspan=\"1\"><div style=\"text-align: left;\"></div></td></tr><tr><td style=\"white-space: nowrap; max-width: 500px; overflow: hidden; text-overflow: ellipsis; \" colspan=\"1\"><div style=\"text-align: left;border-bottom: solid 2px #000; padding-bottom: 5px\">s</div></td><td style=\"white-space: nowrap; max-width: 500px; overflow: hidden; text-overflow: ellipsis; \" colspan=\"1\"><div style=\"text-align: left;border-bottom: solid 2px #000; padding-bottom: 5px\">scores</div></td></tr><tr><td style=\"white-space: nowrap; max-width: 500px; overflow: hidden; text-overflow: ellipsis; text-align: left;\">str</td><td style=\"white-space: nowrap; max-width: 500px; overflow: hidden; text-overflow: ellipsis; text-align: left;\">array&lt;float64&gt;</td></tr>\n",
       "</thead><tbody><tr><td style=\"white-space: nowrap; max-width: 500px; overflow: hidden; text-overflow: ellipsis; \">&quot;B102&quot;</td><td style=\"white-space: nowrap; max-width: 500px; overflow: hidden; text-overflow: ellipsis; \">[-1.62e-01,-3.53e-02,-8.02e-03,-8.70e-03,5.85e-03,2.89e-03,-1.13e-02,6.67e-03,-2.70e-03,9.47e-03]</td></tr>\n",
       "<tr><td style=\"white-space: nowrap; max-width: 500px; overflow: hidden; text-overflow: ellipsis; \">&quot;B156&quot;</td><td style=\"white-space: nowrap; max-width: 500px; overflow: hidden; text-overflow: ellipsis; \">[-1.30e-01,-3.89e-02,-2.88e-03,-9.33e-03,-2.50e-03,7.83e-03,5.48e-03,2.94e-03,-1.16e-03,6.65e-03]</td></tr>\n",
       "<tr><td style=\"white-space: nowrap; max-width: 500px; overflow: hidden; text-overflow: ellipsis; \">&quot;B24&quot;</td><td style=\"white-space: nowrap; max-width: 500px; overflow: hidden; text-overflow: ellipsis; \">[-1.43e-01,-4.61e-02,-7.98e-03,-1.07e-02,-8.63e-03,7.85e-03,4.38e-03,-2.32e-03,3.73e-03,-8.30e-03]</td></tr>\n",
       "<tr><td style=\"white-space: nowrap; max-width: 500px; overflow: hidden; text-overflow: ellipsis; \">&quot;B338&quot;</td><td style=\"white-space: nowrap; max-width: 500px; overflow: hidden; text-overflow: ellipsis; \">[-1.62e-01,-4.09e-02,-6.82e-03,-1.49e-03,-6.36e-03,2.14e-03,-4.59e-03,4.07e-03,5.00e-03,-3.41e-03]</td></tr>\n",
       "<tr><td style=\"white-space: nowrap; max-width: 500px; overflow: hidden; text-overflow: ellipsis; \">&quot;B382&quot;</td><td style=\"white-space: nowrap; max-width: 500px; overflow: hidden; text-overflow: ellipsis; \">[-1.50e-01,-3.63e-02,4.20e-03,-5.20e-03,-3.00e-03,-7.08e-03,-4.41e-04,-1.71e-03,-8.25e-04,2.11e-03]</td></tr>\n",
       "</tbody></table><p style=\"background: #fdd; padding: 0.4em;\">showing top 5 rows</p>\n"
      ],
      "text/plain": [
       "+--------+\n",
       "| s      |\n",
       "+--------+\n",
       "| str    |\n",
       "+--------+\n",
       "| \"B102\" |\n",
       "| \"B156\" |\n",
       "| \"B24\"  |\n",
       "| \"B338\" |\n",
       "| \"B382\" |\n",
       "+--------+\n",
       "\n",
       "+--------------------------------------------------------------------------------------------------+\n",
       "| scores                                                                                           |\n",
       "+--------------------------------------------------------------------------------------------------+\n",
       "| array<float64>                                                                                   |\n",
       "+--------------------------------------------------------------------------------------------------+\n",
       "| [-1.62e-01,-3.53e-02,-8.02e-03,-8.70e-03,5.85e-03,2.89e-03,-1.13e-02,6.67e-03,-2.70e-03,9.47e... |\n",
       "| [-1.30e-01,-3.89e-02,-2.88e-03,-9.33e-03,-2.50e-03,7.83e-03,5.48e-03,2.94e-03,-1.16e-03,6.65e... |\n",
       "| [-1.43e-01,-4.61e-02,-7.98e-03,-1.07e-02,-8.63e-03,7.85e-03,4.38e-03,-2.32e-03,3.73e-03,-8.30... |\n",
       "| [-1.62e-01,-4.09e-02,-6.82e-03,-1.49e-03,-6.36e-03,2.14e-03,-4.59e-03,4.07e-03,5.00e-03,-3.41... |\n",
       "| [-1.50e-01,-3.63e-02,4.20e-03,-5.20e-03,-3.00e-03,-7.08e-03,-4.41e-04,-1.71e-03,-8.25e-04,2.1... |\n",
       "+--------------------------------------------------------------------------------------------------+\n",
       "showing top 5 rows"
      ]
     },
     "metadata": {},
     "output_type": "display_data"
    }
   ],
   "source": [
    "print(eigenvalues_filter)\n",
    "pcs_filter.show(5, width=100)\n",
    "mt_second_pca = mt_filter.annotate_cols(scores = pcs_filter[mt_filter.s].scores)"
   ]
  },
  {
   "cell_type": "code",
   "execution_count": 156,
   "id": "95b6b1c0-fab7-4526-8cf7-21215c96602d",
   "metadata": {},
   "outputs": [
    {
     "data": {
      "text/html": [
       "\n",
       "\n",
       "\n",
       "\n",
       "\n",
       "\n",
       "  <div class=\"bk-root\" id=\"ef6936fb-ee92-4835-abbe-7526c81cc49f\" data-root-id=\"3461\"></div>\n"
      ]
     },
     "metadata": {},
     "output_type": "display_data"
    },
    {
     "data": {
      "application/javascript": [
       "(function(root) {\n",
       "  function embed_document(root) {\n",
       "    \n",
       "  var docs_json = {\"234d793b-d1eb-4ec3-a647-76ceaeca9b39\":{\"roots\":{\"references\":[{\"attributes\":{\"below\":[{\"id\":\"3472\",\"type\":\"LinearAxis\"}],\"center\":[{\"id\":\"3476\",\"type\":\"Grid\"},{\"id\":\"3481\",\"type\":\"Grid\"}],\"left\":[{\"id\":\"3477\",\"type\":\"LinearAxis\"},{\"id\":\"3512\",\"type\":\"Legend\"},{\"id\":\"3513\",\"type\":\"ColorBar\"}],\"plot_height\":800,\"plot_width\":800,\"renderers\":[{\"id\":\"3503\",\"type\":\"GlyphRenderer\"},{\"id\":\"3509\",\"type\":\"GlyphRenderer\"}],\"title\":{\"id\":\"3462\",\"type\":\"Title\"},\"toolbar\":{\"id\":\"3488\",\"type\":\"Toolbar\"},\"x_range\":{\"id\":\"3464\",\"type\":\"DataRange1d\"},\"x_scale\":{\"id\":\"3468\",\"type\":\"LinearScale\"},\"y_range\":{\"id\":\"3466\",\"type\":\"DataRange1d\"},\"y_scale\":{\"id\":\"3470\",\"type\":\"LinearScale\"}},\"id\":\"3461\",\"subtype\":\"Figure\",\"type\":\"Plot\"},{\"attributes\":{\"fill_alpha\":{\"value\":0.1},\"fill_color\":{\"value\":\"#1f77b4\"},\"line_alpha\":{\"value\":0.1},\"line_color\":{\"value\":\"#1f77b4\"},\"x\":{\"field\":\"x\"},\"y\":{\"field\":\"y\"}},\"id\":\"3502\",\"type\":\"Circle\"},{\"attributes\":{\"bottom_units\":\"screen\",\"fill_alpha\":{\"value\":0.5},\"fill_color\":{\"value\":\"lightgrey\"},\"left_units\":\"screen\",\"level\":\"overlay\",\"line_alpha\":{\"value\":1.0},\"line_color\":{\"value\":\"black\"},\"line_dash\":[4,4],\"line_width\":{\"value\":2},\"render_mode\":\"css\",\"right_units\":\"screen\",\"top_units\":\"screen\"},\"id\":\"3643\",\"type\":\"BoxAnnotation\"},{\"attributes\":{},\"id\":\"3641\",\"type\":\"UnionRenderers\"},{\"attributes\":{\"factors\":[\"AFR\",\"AMR\",\"EAS\",\"EUR\",\"SAS\",\"sportsmen\"],\"palette\":[\"red\",\"yellow\",\"green\",\"blue\",\"purple\",\"orange\"]},\"id\":\"2976\",\"type\":\"CategoricalColorMapper\"},{\"attributes\":{\"fill_color\":{\"field\":\"label\",\"transform\":{\"id\":\"2976\",\"type\":\"CategoricalColorMapper\"}},\"line_color\":{\"field\":\"label\",\"transform\":{\"id\":\"2976\",\"type\":\"CategoricalColorMapper\"}},\"x\":{\"field\":\"x\"},\"y\":{\"field\":\"y\"}},\"id\":\"3501\",\"type\":\"Circle\"},{\"attributes\":{},\"id\":\"3639\",\"type\":\"BasicTickFormatter\"},{\"attributes\":{\"fill_alpha\":{\"value\":0.1},\"fill_color\":{\"value\":\"#1f77b4\"},\"line_alpha\":{\"value\":0.1},\"line_color\":{\"value\":\"#1f77b4\"},\"x\":{\"field\":\"x\"},\"y\":{\"field\":\"y\"}},\"id\":\"3508\",\"type\":\"Circle\"},{\"attributes\":{},\"id\":\"3487\",\"type\":\"HelpTool\"},{\"attributes\":{\"data_source\":{\"id\":\"3497\",\"type\":\"ColumnDataSource\"},\"glyph\":{\"id\":\"3507\",\"type\":\"Circle\"},\"hover_glyph\":null,\"muted_glyph\":null,\"nonselection_glyph\":{\"id\":\"3508\",\"type\":\"Circle\"},\"selection_glyph\":null,\"view\":{\"id\":\"3505\",\"type\":\"CDSView\"}},\"id\":\"3509\",\"type\":\"GlyphRenderer\"},{\"attributes\":{\"fill_color\":{\"field\":\"label\",\"transform\":{\"id\":\"2976\",\"type\":\"CategoricalColorMapper\"}},\"line_color\":{\"field\":\"label\",\"transform\":{\"id\":\"2976\",\"type\":\"CategoricalColorMapper\"}},\"x\":{\"field\":\"x\"},\"y\":{\"field\":\"y\"}},\"id\":\"3507\",\"type\":\"Circle\"},{\"attributes\":{},\"id\":\"3637\",\"type\":\"BasicTickFormatter\"},{\"attributes\":{\"overlay\":{\"id\":\"3643\",\"type\":\"BoxAnnotation\"}},\"id\":\"3484\",\"type\":\"BoxZoomTool\"},{\"attributes\":{\"callback\":null},\"id\":\"3464\",\"type\":\"DataRange1d\"},{\"attributes\":{},\"id\":\"3468\",\"type\":\"LinearScale\"},{\"attributes\":{},\"id\":\"3478\",\"type\":\"BasicTicker\"},{\"attributes\":{\"axis_label\":\"PC3\",\"formatter\":{\"id\":\"3637\",\"type\":\"BasicTickFormatter\"},\"ticker\":{\"id\":\"3478\",\"type\":\"BasicTicker\"}},\"id\":\"3477\",\"type\":\"LinearAxis\"},{\"attributes\":{\"label\":{\"value\":\"sportsmen\"},\"renderers\":[{\"id\":\"3509\",\"type\":\"GlyphRenderer\"}]},\"id\":\"3511\",\"type\":\"LegendItem\"},{\"attributes\":{\"text\":\"PCA\"},\"id\":\"3462\",\"type\":\"Title\"},{\"attributes\":{\"callback\":null},\"id\":\"3466\",\"type\":\"DataRange1d\"},{\"attributes\":{},\"id\":\"3635\",\"type\":\"BasicTickFormatter\"},{\"attributes\":{\"filters\":[{\"id\":\"3504\",\"type\":\"GroupFilter\"}],\"source\":{\"id\":\"3497\",\"type\":\"ColumnDataSource\"}},\"id\":\"3505\",\"type\":\"CDSView\"},{\"attributes\":{},\"id\":\"3486\",\"type\":\"ResetTool\"},{\"attributes\":{},\"id\":\"3473\",\"type\":\"BasicTicker\"},{\"attributes\":{\"callback\":null,\"tooltips\":[[\"x\",\"@x\"],[\"y\",\"@y\"],[\"label\",\"@label\"]]},\"id\":\"3496\",\"type\":\"HoverTool\"},{\"attributes\":{},\"id\":\"3642\",\"type\":\"Selection\"},{\"attributes\":{\"ticker\":{\"id\":\"3473\",\"type\":\"BasicTicker\"}},\"id\":\"3476\",\"type\":\"Grid\"},{\"attributes\":{\"color_mapper\":null,\"formatter\":{\"id\":\"3639\",\"type\":\"BasicTickFormatter\"},\"ticker\":{\"id\":\"3640\",\"type\":\"BasicTicker\"},\"visible\":false},\"id\":\"3513\",\"type\":\"ColorBar\"},{\"attributes\":{\"filters\":[{\"id\":\"3498\",\"type\":\"GroupFilter\"}],\"source\":{\"id\":\"3497\",\"type\":\"ColumnDataSource\"}},\"id\":\"3499\",\"type\":\"CDSView\"},{\"attributes\":{\"active_drag\":\"auto\",\"active_inspect\":\"auto\",\"active_multi\":null,\"active_scroll\":\"auto\",\"active_tap\":\"auto\",\"tools\":[{\"id\":\"3482\",\"type\":\"PanTool\"},{\"id\":\"3483\",\"type\":\"WheelZoomTool\"},{\"id\":\"3484\",\"type\":\"BoxZoomTool\"},{\"id\":\"3485\",\"type\":\"SaveTool\"},{\"id\":\"3486\",\"type\":\"ResetTool\"},{\"id\":\"3487\",\"type\":\"HelpTool\"},{\"id\":\"3496\",\"type\":\"HoverTool\"}]},\"id\":\"3488\",\"type\":\"Toolbar\"},{\"attributes\":{\"column_name\":\"label\",\"group\":\"EUR\"},\"id\":\"3498\",\"type\":\"GroupFilter\"},{\"attributes\":{\"label\":{\"value\":\"EUR\"},\"renderers\":[{\"id\":\"3503\",\"type\":\"GlyphRenderer\"}]},\"id\":\"3510\",\"type\":\"LegendItem\"},{\"attributes\":{},\"id\":\"3470\",\"type\":\"LinearScale\"},{\"attributes\":{},\"id\":\"3483\",\"type\":\"WheelZoomTool\"},{\"attributes\":{\"axis_label\":\"PC2\",\"formatter\":{\"id\":\"3635\",\"type\":\"BasicTickFormatter\"},\"ticker\":{\"id\":\"3473\",\"type\":\"BasicTicker\"}},\"id\":\"3472\",\"type\":\"LinearAxis\"},{\"attributes\":{},\"id\":\"3482\",\"type\":\"PanTool\"},{\"attributes\":{\"dimension\":1,\"ticker\":{\"id\":\"3478\",\"type\":\"BasicTicker\"}},\"id\":\"3481\",\"type\":\"Grid\"},{\"attributes\":{\"data_source\":{\"id\":\"3497\",\"type\":\"ColumnDataSource\"},\"glyph\":{\"id\":\"3501\",\"type\":\"Circle\"},\"hover_glyph\":null,\"muted_glyph\":null,\"nonselection_glyph\":{\"id\":\"3502\",\"type\":\"Circle\"},\"selection_glyph\":null,\"view\":{\"id\":\"3499\",\"type\":\"CDSView\"}},\"id\":\"3503\",\"type\":\"GlyphRenderer\"},{\"attributes\":{\"click_policy\":\"hide\",\"items\":[{\"id\":\"3510\",\"type\":\"LegendItem\"},{\"id\":\"3511\",\"type\":\"LegendItem\"}]},\"id\":\"3512\",\"type\":\"Legend\"},{\"attributes\":{\"callback\":null,\"data\":{\"index\":[0,1,2,3,4,5,6,7,8,9,10,11,12,13,14,15,16,17,18,19,20,21,22,23,24,25,26,27,28,29,30,31,32,33,34,35,36,37,38,39,40,41,42,43,44,45,46,47,48,49,50,51,52,53,54,55,56,57,58,59,60,61,62,63,64,65,66,67,68,69,70,71,72,73,74,75,76,77,78,79,80,81,82,83,84,85,86,87,88,89,90,91,92,93,94,95,96,97,98,99,100,101,102,103,104,105,106,107,108,109,110,111,112,113,114,115,116,117,118,119,120,121,122,123,124,125,126,127,128,129,130,131,132,133,134,135,136,137,138,139,140,141,142,143,144,145,146,147,148,149,150,151,152,153,154,155,156,157,158,159,160,161,162,163,164,165,166,167,168,169,170,171,172,173,174,175,176,177,178,179,180,181,182,183,184,185,186,187,188,189,190,191,192,193,194,195,196,197,198,199,200,201,202,203,204,205,206,207,208,209,210,211,212,213,214,215,216,217,218,219,220,221,222,223,224,225,226,227,228,229,230,231,232,233,234,235,236,237,238,239,240,241,242,243,244,245,246,247,248,249,250,251,252,253,254,255,256,257,258,259,260,261,262,263,264,265,266,267,268,269,270,271,272,273,274,275,276,277,278,279,280,281,282,283,284,285,286,287,288,289,290,291,292,293,294,295,296,297,298,299,300,301,302,303,304,305,306,307,308,309,310,311,312,313,314,315,316,317,318,319,320,321,322,323,324,325,326,327,328,329,330,331,332,333,334,335,336,337,338,339,340,341,342,343,344,345,346,347,348,349,350,351,352,353,354,355,356,357,358,359,360,361,362,363,364,365,366,367,368,369,370,371,372,373,374,375,376,377,378,379,380,381,382,383,384,385,386,387,388,389,390,391,392,393,394,395,396,397,398,399,400,401,402,403,404,405,406,407,408,409,410,411,412,413,414,415,416,417,418,419,420,421,422,423,424,425,426,427,428,429,430,431,432,433,434,435,436,437,438,439,440,441,442,443,444,445,446,447,448,449,450,451,452,453,454,455,456,457,458,459,460,461,462,463,464,465,466,467,468,469,470,471,472,473,474,475,476,477,478,479,480,481,482,483,484,485,486,487,488,489,490,491,492,493,494,495,496,497,498,499,500,501,502,503,504,505,506,507,508,509,510,511,512,513],\"label\":[\"EUR\",\"EUR\",\"EUR\",\"EUR\",\"EUR\",\"EUR\",\"EUR\",\"EUR\",\"EUR\",\"EUR\",\"EUR\",\"EUR\",\"EUR\",\"EUR\",\"EUR\",\"EUR\",\"EUR\",\"EUR\",\"EUR\",\"EUR\",\"EUR\",\"EUR\",\"EUR\",\"EUR\",\"EUR\",\"EUR\",\"EUR\",\"EUR\",\"EUR\",\"EUR\",\"EUR\",\"EUR\",\"EUR\",\"EUR\",\"EUR\",\"EUR\",\"EUR\",\"EUR\",\"EUR\",\"EUR\",\"EUR\",\"EUR\",\"sportsmen\",\"EUR\",\"sportsmen\",\"sportsmen\",\"EUR\",\"EUR\",\"EUR\",\"EUR\",\"EUR\",\"sportsmen\",\"EUR\",\"EUR\",\"EUR\",\"EUR\",\"EUR\",\"EUR\",\"sportsmen\",\"EUR\",\"EUR\",\"EUR\",\"EUR\",\"EUR\",\"EUR\",\"sportsmen\",\"EUR\",\"EUR\",\"EUR\",\"EUR\",\"EUR\",\"EUR\",\"EUR\",\"EUR\",\"EUR\",\"EUR\",\"EUR\",\"EUR\",\"sportsmen\",\"sportsmen\",\"sportsmen\",\"sportsmen\",\"EUR\",\"sportsmen\",\"EUR\",\"EUR\",\"EUR\",\"EUR\",\"EUR\",\"EUR\",\"sportsmen\",\"EUR\",\"EUR\",\"EUR\",\"EUR\",\"sportsmen\",\"sportsmen\",\"sportsmen\",\"EUR\",\"sportsmen\",\"EUR\",\"sportsmen\",\"sportsmen\",\"sportsmen\",\"EUR\",\"EUR\",\"EUR\",\"EUR\",\"EUR\",\"sportsmen\",\"EUR\",\"EUR\",\"EUR\",\"EUR\",\"sportsmen\",\"sportsmen\",\"EUR\",\"sportsmen\",\"EUR\",\"EUR\",\"EUR\",\"EUR\",\"sportsmen\",\"EUR\",\"sportsmen\",\"EUR\",\"sportsmen\",\"sportsmen\",\"EUR\",\"EUR\",\"EUR\",\"EUR\",\"sportsmen\",\"sportsmen\",\"EUR\",\"sportsmen\",\"sportsmen\",\"EUR\",\"EUR\",\"sportsmen\",\"sportsmen\",\"EUR\",\"sportsmen\",\"EUR\",\"sportsmen\",\"sportsmen\",\"EUR\",\"sportsmen\",\"EUR\",\"sportsmen\",\"EUR\",\"EUR\",\"EUR\",\"sportsmen\",\"sportsmen\",\"sportsmen\",\"sportsmen\",\"EUR\",\"EUR\",\"EUR\",\"sportsmen\",\"sportsmen\",\"sportsmen\",\"sportsmen\",\"sportsmen\",\"EUR\",\"sportsmen\",\"EUR\",\"EUR\",\"sportsmen\",\"sportsmen\",\"EUR\",\"sportsmen\",\"sportsmen\",\"sportsmen\",\"sportsmen\",\"EUR\",\"sportsmen\",\"EUR\",\"sportsmen\",\"sportsmen\",\"EUR\",\"sportsmen\",\"sportsmen\",\"sportsmen\",\"sportsmen\",\"sportsmen\",\"EUR\",\"EUR\",\"sportsmen\",\"sportsmen\",\"EUR\",\"EUR\",\"sportsmen\",\"sportsmen\",\"EUR\",\"EUR\",\"sportsmen\",\"sportsmen\",\"EUR\",\"EUR\",\"sportsmen\",\"sportsmen\",\"sportsmen\",\"EUR\",\"EUR\",\"EUR\",\"sportsmen\",\"sportsmen\",\"EUR\",\"EUR\",\"sportsmen\",\"EUR\",\"EUR\",\"EUR\",\"EUR\",\"EUR\",\"EUR\",\"sportsmen\",\"sportsmen\",\"sportsmen\",\"sportsmen\",\"EUR\",\"EUR\",\"EUR\",\"sportsmen\",\"sportsmen\",\"sportsmen\",\"sportsmen\",\"EUR\",\"EUR\",\"EUR\",\"EUR\",\"EUR\",\"EUR\",\"sportsmen\",\"sportsmen\",\"EUR\",\"EUR\",\"EUR\",\"EUR\",\"EUR\",\"EUR\",\"EUR\",\"EUR\",\"EUR\",\"EUR\",\"EUR\",\"EUR\",\"sportsmen\",\"EUR\",\"EUR\",\"EUR\",\"EUR\",\"EUR\",\"EUR\",\"EUR\",\"EUR\",\"EUR\",\"EUR\",\"EUR\",\"EUR\",\"EUR\",\"EUR\",\"EUR\",\"EUR\",\"EUR\",\"EUR\",\"EUR\",\"EUR\",\"EUR\",\"EUR\",\"EUR\",\"EUR\",\"EUR\",\"EUR\",\"EUR\",\"EUR\",\"EUR\",\"EUR\",\"EUR\",\"EUR\",\"EUR\",\"EUR\",\"EUR\",\"EUR\",\"EUR\",\"EUR\",\"EUR\",\"EUR\",\"EUR\",\"EUR\",\"EUR\",\"EUR\",\"EUR\",\"EUR\",\"EUR\",\"EUR\",\"EUR\",\"EUR\",\"EUR\",\"EUR\",\"EUR\",\"EUR\",\"EUR\",\"EUR\",\"EUR\",\"EUR\",\"EUR\",\"EUR\",\"EUR\",\"EUR\",\"EUR\",\"EUR\",\"EUR\",\"EUR\",\"EUR\",\"EUR\",\"EUR\",\"EUR\",\"EUR\",\"EUR\",\"EUR\",\"EUR\",\"EUR\",\"EUR\",\"EUR\",\"EUR\",\"EUR\",\"EUR\",\"EUR\",\"EUR\",\"EUR\",\"EUR\",\"EUR\",\"EUR\",\"EUR\",\"EUR\",\"EUR\",\"EUR\",\"EUR\",\"EUR\",\"EUR\",\"EUR\",\"EUR\",\"EUR\",\"EUR\",\"EUR\",\"EUR\",\"EUR\",\"EUR\",\"EUR\",\"EUR\",\"EUR\",\"EUR\",\"EUR\",\"EUR\",\"EUR\",\"EUR\",\"EUR\",\"EUR\",\"EUR\",\"EUR\",\"EUR\",\"EUR\",\"EUR\",\"EUR\",\"EUR\",\"EUR\",\"EUR\",\"EUR\",\"EUR\",\"EUR\",\"EUR\",\"EUR\",\"EUR\",\"EUR\",\"EUR\",\"EUR\",\"EUR\",\"EUR\",\"EUR\",\"EUR\",\"EUR\",\"EUR\",\"EUR\",\"EUR\",\"EUR\",\"EUR\",\"EUR\",\"EUR\",\"EUR\",\"EUR\",\"EUR\",\"EUR\",\"EUR\",\"EUR\",\"EUR\",\"EUR\",\"EUR\",\"EUR\",\"EUR\",\"EUR\",\"EUR\",\"EUR\",\"EUR\",\"EUR\",\"EUR\",\"EUR\",\"EUR\",\"EUR\",\"EUR\",\"EUR\",\"EUR\",\"EUR\",\"EUR\",\"EUR\",\"EUR\",\"EUR\",\"EUR\",\"EUR\",\"EUR\",\"EUR\",\"EUR\",\"EUR\",\"EUR\",\"EUR\",\"EUR\",\"EUR\",\"EUR\",\"EUR\",\"EUR\",\"EUR\",\"EUR\",\"EUR\",\"EUR\",\"EUR\",\"EUR\",\"EUR\",\"EUR\",\"EUR\",\"EUR\",\"EUR\",\"EUR\",\"EUR\",\"EUR\",\"EUR\",\"EUR\",\"EUR\",\"EUR\",\"EUR\",\"EUR\",\"EUR\",\"EUR\",\"EUR\",\"EUR\",\"EUR\",\"EUR\",\"EUR\",\"EUR\",\"EUR\",\"EUR\",\"EUR\",\"EUR\",\"EUR\",\"EUR\",\"EUR\",\"EUR\",\"EUR\",\"EUR\",\"EUR\",\"EUR\",\"EUR\",\"EUR\",\"EUR\",\"EUR\",\"EUR\",\"EUR\",\"EUR\",\"EUR\",\"EUR\",\"EUR\",\"EUR\",\"EUR\",\"EUR\",\"EUR\",\"EUR\",\"EUR\",\"EUR\",\"EUR\",\"EUR\",\"EUR\",\"EUR\",\"EUR\",\"EUR\",\"EUR\",\"EUR\",\"EUR\",\"EUR\",\"EUR\",\"EUR\",\"EUR\",\"EUR\",\"EUR\",\"EUR\",\"EUR\",\"EUR\",\"EUR\",\"EUR\",\"EUR\",\"EUR\",\"EUR\",\"EUR\",\"EUR\"],\"x\":{\"__ndarray__\":\"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\",\"dtype\":\"float64\",\"shape\":[514]},\"y\":{\"__ndarray__\":\"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\",\"dtype\":\"float64\",\"shape\":[514]}},\"selected\":{\"id\":\"3642\",\"type\":\"Selection\"},\"selection_policy\":{\"id\":\"3641\",\"type\":\"UnionRenderers\"}},\"id\":\"3497\",\"type\":\"ColumnDataSource\"},{\"attributes\":{},\"id\":\"3485\",\"type\":\"SaveTool\"},{\"attributes\":{},\"id\":\"3640\",\"type\":\"BasicTicker\"},{\"attributes\":{\"column_name\":\"label\",\"group\":\"sportsmen\"},\"id\":\"3504\",\"type\":\"GroupFilter\"}],\"root_ids\":[\"3461\"]},\"title\":\"Bokeh Application\",\"version\":\"1.4.0\"}};\n",
       "  var render_items = [{\"docid\":\"234d793b-d1eb-4ec3-a647-76ceaeca9b39\",\"roots\":{\"3461\":\"ef6936fb-ee92-4835-abbe-7526c81cc49f\"}}];\n",
       "  root.Bokeh.embed.embed_items_notebook(docs_json, render_items);\n",
       "\n",
       "  }\n",
       "  if (root.Bokeh !== undefined) {\n",
       "    embed_document(root);\n",
       "  } else {\n",
       "    var attempts = 0;\n",
       "    var timer = setInterval(function(root) {\n",
       "      if (root.Bokeh !== undefined) {\n",
       "        clearInterval(timer);\n",
       "        embed_document(root);\n",
       "      } else {\n",
       "        attempts++;\n",
       "        if (attempts > 100) {\n",
       "          clearInterval(timer);\n",
       "          console.log(\"Bokeh: ERROR: Unable to run BokehJS code because BokehJS library is missing\");\n",
       "        }\n",
       "      }\n",
       "    }, 10, root)\n",
       "  }\n",
       "})(window);"
      ],
      "application/vnd.bokehjs_exec.v0+json": ""
     },
     "metadata": {
      "application/vnd.bokehjs_exec.v0+json": {
       "id": "3461"
      }
     },
     "output_type": "display_data"
    }
   ],
   "source": [
    "plot_second_pca = hl.plot.scatter(mt_second_pca.scores[1],\n",
    "                                    mt_second_pca.scores[2],\n",
    "                                    label=mt_second_pca.pheno.super_pop,\n",
    "                                    colors=mapper,\n",
    "                                    title='PCA', xlabel='PC2', ylabel='PC3')\n",
    "show(plot_second_pca)"
   ]
  },
  {
   "cell_type": "code",
   "execution_count": 169,
   "id": "a58782ce-7295-43f8-8c2f-719a9946c499",
   "metadata": {},
   "outputs": [
    {
     "name": "stderr",
     "output_type": "stream",
     "text": [
      "2022-08-08 13:31:20 Hail: INFO: Coerced sorted dataset\n"
     ]
    },
    {
     "data": {
      "image/png": "[encoded data removed]",
      "text/plain": [
       "<Figure size 432x288 with 1 Axes>"
      ]
     },
     "metadata": {},
     "output_type": "display_data"
    }
   ],
   "source": [
    "second_pca_df = mt_second_pca.cols().flatten().to_pandas(flatten = True).rename(columns={'pheno.super_pop': 'super_pop'})\n",
    "second_pca_df[['PC1','PC2', 'PC3','PC4', 'PC5', \n",
    "                      'PC6', 'PC7', 'PC8', 'PC9', 'PC10']] = pd.DataFrame(second_pca_df.scores.tolist(), \n",
    "                                                                          index = second_pca_df.index)\n",
    "\n",
    "# create plot for pc2 and pc3\n",
    "for col, pop in zip(colors, population):\n",
    "    plt.scatter(second_pca_df[second_pca_df.super_pop == pop]['PC2'],\n",
    "                second_pca_df[second_pca_df.super_pop == pop]['PC3'], \n",
    "                color = col, s = 5)\n",
    "plt.legend(population, loc = 'center left', bbox_to_anchor=(1, 0.5), title = \"Population\")\n",
    "plt.xlabel('PC2')\n",
    "plt.ylabel('PC3')\n",
    "# plt.show()\n",
    "\n",
    "\n",
    "plt.savefig(\"/net/archive/groups/plggneuromol/matzieb/projects/imdik-zekanowski-sportwgs/results/prs-plots/second-pca.svg\", \n",
    "            facecolor='white', bbox_inches='tight')"
   ]
  },
  {
   "cell_type": "code",
   "execution_count": 159,
   "id": "a910658b-d529-41ff-a81f-6eda21f091b9",
   "metadata": {},
   "outputs": [],
   "source": [
    "mad_second_pc2 = hl.median(\n",
    "    hl.abs(\n",
    "        hl.median(\n",
    "            mt_second_pca.filter_cols(mt_second_pca.pheno.super_pop == \"sportsmen\")\n",
    "            .scores[1].collect())-mt_second_pca.filter_cols(mt_second_pca.pheno.super_pop==\"sportsmen\")\n",
    "        .scores[1]\n",
    "    ).collect())\n",
    "mad_second_pc3 =  hl.median(\n",
    "    hl.abs(\n",
    "        hl.median(\n",
    "            mt_second_pca.filter_cols(mt_second_pca.pheno.super_pop == \"sportsmen\")\n",
    "            .scores[2].collect())-mt_second_pca.filter_cols(mt_second_pca.pheno.super_pop==\"sportsmen\")\n",
    "        .scores[2]\n",
    "    ).collect())"
   ]
  },
  {
   "cell_type": "code",
   "execution_count": 160,
   "id": "497e4002-6f8a-4cb2-b58c-3732a565a4e5",
   "metadata": {},
   "outputs": [
    {
     "data": {
      "text/html": [
       "<table><thead><tr><td style=\"white-space: nowrap; max-width: 500px; overflow: hidden; text-overflow: ellipsis; \" colspan=\"1\"><div style=\"text-align: left;\"></div></td></tr><tr><td style=\"white-space: nowrap; max-width: 500px; overflow: hidden; text-overflow: ellipsis; \" colspan=\"1\"><div style=\"text-align: left;border-bottom: solid 2px #000; padding-bottom: 5px\"><expr></div></td></tr><tr><td style=\"white-space: nowrap; max-width: 500px; overflow: hidden; text-overflow: ellipsis; text-align: left;\">float64</td></tr>\n",
       "</thead><tbody><tr><td style=\"white-space: nowrap; max-width: 500px; overflow: hidden; text-overflow: ellipsis; \">5.58e-03</td></tr>\n",
       "</tbody></table>"
      ],
      "text/plain": [
       "+----------+\n",
       "|   <expr> |\n",
       "+----------+\n",
       "|  float64 |\n",
       "+----------+\n",
       "| 5.58e-03 |\n",
       "+----------+"
      ]
     },
     "metadata": {},
     "output_type": "display_data"
    },
    {
     "data": {
      "text/html": [
       "<table><thead><tr><td style=\"white-space: nowrap; max-width: 500px; overflow: hidden; text-overflow: ellipsis; \" colspan=\"1\"><div style=\"text-align: left;\"></div></td></tr><tr><td style=\"white-space: nowrap; max-width: 500px; overflow: hidden; text-overflow: ellipsis; \" colspan=\"1\"><div style=\"text-align: left;border-bottom: solid 2px #000; padding-bottom: 5px\"><expr></div></td></tr><tr><td style=\"white-space: nowrap; max-width: 500px; overflow: hidden; text-overflow: ellipsis; text-align: left;\">float64</td></tr>\n",
       "</thead><tbody><tr><td style=\"white-space: nowrap; max-width: 500px; overflow: hidden; text-overflow: ellipsis; \">4.30e-03</td></tr>\n",
       "</tbody></table>"
      ],
      "text/plain": [
       "+----------+\n",
       "|   <expr> |\n",
       "+----------+\n",
       "|  float64 |\n",
       "+----------+\n",
       "| 4.30e-03 |\n",
       "+----------+"
      ]
     },
     "metadata": {},
     "output_type": "display_data"
    }
   ],
   "source": [
    "mad_second_pc2.show()\n",
    "mad_second_pc3.show()"
   ]
  },
  {
   "cell_type": "code",
   "execution_count": 161,
   "id": "342aed2f-2b0a-42a7-979e-f083b36b96d2",
   "metadata": {},
   "outputs": [],
   "source": [
    "# filter data near MAD for sportsmen\n",
    "mt_second_filter = mt_second_pca.filter_cols(\n",
    "    (mt_second_pca.scores[1] > hl.median(mt_second_pca.filter_cols(mt_second_pca.pheno.super_pop==\"sportsmen\").scores[1].collect()) - 5*mad_second_pc2) &\n",
    "    (mt_second_pca.scores[1] < hl.median(mt_second_pca.filter_cols(mt_second_pca.pheno.super_pop==\"sportsmen\").scores[1].collect()) + 5*mad_second_pc2) &\n",
    "    (mt_second_pca.scores[2] > hl.median(mt_second_pca.filter_cols(mt_second_pca.pheno.super_pop==\"sportsmen\").scores[2].collect()) - 5*mad_second_pc3) &\n",
    "    (mt_second_pca.scores[2] < hl.median(mt_second_pca.filter_cols(mt_second_pca.pheno.super_pop==\"sportsmen\").scores[2].collect()) + 5*mad_second_pc3)\n",
    ")\n"
   ]
  },
  {
   "cell_type": "code",
   "execution_count": 162,
   "id": "68670f2a-6a75-420f-9cd7-900d0e1e31b7",
   "metadata": {},
   "outputs": [
    {
     "data": {
      "text/plain": [
       "(78280, 198)"
      ]
     },
     "execution_count": 162,
     "metadata": {},
     "output_type": "execute_result"
    }
   ],
   "source": [
    "mt_second_filter.count()"
   ]
  },
  {
   "cell_type": "code",
   "execution_count": 163,
   "id": "bf353e1c-ed50-441d-89a6-42714458588d",
   "metadata": {},
   "outputs": [
    {
     "data": {
      "text/plain": [
       "frozendict({'EUR': 98, 'sportsmen': 100})"
      ]
     },
     "execution_count": 163,
     "metadata": {},
     "output_type": "execute_result"
    }
   ],
   "source": [
    "mt_second_filter.aggregate_cols(hl.agg.counter(mt_second_filter.pheno.super_pop))"
   ]
  },
  {
   "cell_type": "code",
   "execution_count": 164,
   "id": "23927056-d563-4ad3-bce8-1ab625a338c2",
   "metadata": {},
   "outputs": [
    {
     "data": {
      "text/html": [
       "\n",
       "\n",
       "\n",
       "\n",
       "\n",
       "\n",
       "  <div class=\"bk-root\" id=\"e4a6dacd-6f65-4270-a2f7-fee44734adb2\" data-root-id=\"3704\"></div>\n"
      ]
     },
     "metadata": {},
     "output_type": "display_data"
    },
    {
     "data": {
      "application/javascript": [
       "(function(root) {\n",
       "  function embed_document(root) {\n",
       "    \n",
       "  var docs_json = {\"57b6307e-99ae-4956-81e4-120b87d83c4d\":{\"roots\":{\"references\":[{\"attributes\":{\"below\":[{\"id\":\"3715\",\"type\":\"LinearAxis\"}],\"center\":[{\"id\":\"3719\",\"type\":\"Grid\"},{\"id\":\"3724\",\"type\":\"Grid\"}],\"left\":[{\"id\":\"3720\",\"type\":\"LinearAxis\"},{\"id\":\"3755\",\"type\":\"Legend\"},{\"id\":\"3756\",\"type\":\"ColorBar\"}],\"plot_height\":800,\"plot_width\":800,\"renderers\":[{\"id\":\"3746\",\"type\":\"GlyphRenderer\"},{\"id\":\"3752\",\"type\":\"GlyphRenderer\"}],\"title\":{\"id\":\"3705\",\"type\":\"Title\"},\"toolbar\":{\"id\":\"3731\",\"type\":\"Toolbar\"},\"x_range\":{\"id\":\"3707\",\"type\":\"DataRange1d\"},\"x_scale\":{\"id\":\"3711\",\"type\":\"LinearScale\"},\"y_range\":{\"id\":\"3709\",\"type\":\"DataRange1d\"},\"y_scale\":{\"id\":\"3713\",\"type\":\"LinearScale\"}},\"id\":\"3704\",\"subtype\":\"Figure\",\"type\":\"Plot\"},{\"attributes\":{},\"id\":\"3890\",\"type\":\"BasicTickFormatter\"},{\"attributes\":{\"factors\":[\"AFR\",\"AMR\",\"EAS\",\"EUR\",\"SAS\",\"sportsmen\"],\"palette\":[\"red\",\"yellow\",\"green\",\"blue\",\"purple\",\"orange\"]},\"id\":\"2976\",\"type\":\"CategoricalColorMapper\"},{\"attributes\":{\"axis_label\":\"PC3\",\"formatter\":{\"id\":\"3890\",\"type\":\"BasicTickFormatter\"},\"ticker\":{\"id\":\"3721\",\"type\":\"BasicTicker\"}},\"id\":\"3720\",\"type\":\"LinearAxis\"},{\"attributes\":{},\"id\":\"3892\",\"type\":\"BasicTickFormatter\"},{\"attributes\":{\"filters\":[{\"id\":\"3747\",\"type\":\"GroupFilter\"}],\"source\":{\"id\":\"3740\",\"type\":\"ColumnDataSource\"}},\"id\":\"3748\",\"type\":\"CDSView\"},{\"attributes\":{},\"id\":\"3730\",\"type\":\"HelpTool\"},{\"attributes\":{\"column_name\":\"label\",\"group\":\"EUR\"},\"id\":\"3741\",\"type\":\"GroupFilter\"},{\"attributes\":{\"filters\":[{\"id\":\"3741\",\"type\":\"GroupFilter\"}],\"source\":{\"id\":\"3740\",\"type\":\"ColumnDataSource\"}},\"id\":\"3742\",\"type\":\"CDSView\"},{\"attributes\":{\"active_drag\":\"auto\",\"active_inspect\":\"auto\",\"active_multi\":null,\"active_scroll\":\"auto\",\"active_tap\":\"auto\",\"tools\":[{\"id\":\"3725\",\"type\":\"PanTool\"},{\"id\":\"3726\",\"type\":\"WheelZoomTool\"},{\"id\":\"3727\",\"type\":\"BoxZoomTool\"},{\"id\":\"3728\",\"type\":\"SaveTool\"},{\"id\":\"3729\",\"type\":\"ResetTool\"},{\"id\":\"3730\",\"type\":\"HelpTool\"},{\"id\":\"3739\",\"type\":\"HoverTool\"}]},\"id\":\"3731\",\"type\":\"Toolbar\"},{\"attributes\":{},\"id\":\"3893\",\"type\":\"BasicTicker\"},{\"attributes\":{\"callback\":null,\"tooltips\":[[\"x\",\"@x\"],[\"y\",\"@y\"],[\"label\",\"@label\"]]},\"id\":\"3739\",\"type\":\"HoverTool\"},{\"attributes\":{\"dimension\":1,\"ticker\":{\"id\":\"3721\",\"type\":\"BasicTicker\"}},\"id\":\"3724\",\"type\":\"Grid\"},{\"attributes\":{\"fill_color\":{\"field\":\"label\",\"transform\":{\"id\":\"2976\",\"type\":\"CategoricalColorMapper\"}},\"line_color\":{\"field\":\"label\",\"transform\":{\"id\":\"2976\",\"type\":\"CategoricalColorMapper\"}},\"x\":{\"field\":\"x\"},\"y\":{\"field\":\"y\"}},\"id\":\"3750\",\"type\":\"Circle\"},{\"attributes\":{},\"id\":\"3726\",\"type\":\"WheelZoomTool\"},{\"attributes\":{},\"id\":\"3729\",\"type\":\"ResetTool\"},{\"attributes\":{\"bottom_units\":\"screen\",\"fill_alpha\":{\"value\":0.5},\"fill_color\":{\"value\":\"lightgrey\"},\"left_units\":\"screen\",\"level\":\"overlay\",\"line_alpha\":{\"value\":1.0},\"line_color\":{\"value\":\"black\"},\"line_dash\":[4,4],\"line_width\":{\"value\":2},\"render_mode\":\"css\",\"right_units\":\"screen\",\"top_units\":\"screen\"},\"id\":\"3896\",\"type\":\"BoxAnnotation\"},{\"attributes\":{\"callback\":null,\"data\":{\"index\":[0,1,2,3,4,5,6,7,8,9,10,11,12,13,14,15,16,17,18,19,20,21,22,23,24,25,26,27,28,29,30,31,32,33,34,35,36,37,38,39,40,41,42,43,44,45,46,47,48,49,50,51,52,53,54,55,56,57,58,59,60,61,62,63,64,65,66,67,68,69,70,71,72,73,74,75,76,77,78,79,80,81,82,83,84,85,86,87,88,89,90,91,92,93,94,95,96,97,98,99,100,101,102,103,104,105,106,107,108,109,110,111,112,113,114,115,116,117,118,119,120,121,122,123,124,125,126,127,128,129,130,131,132,133,134,135,136,137,138,139,140,141,142,143,144,145,146,147,148,149,150,151,152,153,154,155,156,157,158,159,160,161,162,163,164,165,166,167,168,169,170,171,172,173,174,175,176,177,178,179,180,181,182,183,184,185,186,187,188,189,190,191,192,193,194,195,196,197],\"label\":[\"EUR\",\"EUR\",\"EUR\",\"EUR\",\"EUR\",\"sportsmen\",\"sportsmen\",\"sportsmen\",\"EUR\",\"EUR\",\"sportsmen\",\"EUR\",\"EUR\",\"EUR\",\"EUR\",\"sportsmen\",\"EUR\",\"sportsmen\",\"EUR\",\"EUR\",\"EUR\",\"EUR\",\"EUR\",\"EUR\",\"EUR\",\"sportsmen\",\"sportsmen\",\"sportsmen\",\"sportsmen\",\"sportsmen\",\"EUR\",\"EUR\",\"EUR\",\"EUR\",\"EUR\",\"EUR\",\"sportsmen\",\"sportsmen\",\"EUR\",\"EUR\",\"sportsmen\",\"sportsmen\",\"sportsmen\",\"sportsmen\",\"sportsmen\",\"sportsmen\",\"sportsmen\",\"EUR\",\"EUR\",\"EUR\",\"sportsmen\",\"EUR\",\"sportsmen\",\"sportsmen\",\"sportsmen\",\"EUR\",\"sportsmen\",\"EUR\",\"EUR\",\"sportsmen\",\"EUR\",\"sportsmen\",\"EUR\",\"sportsmen\",\"sportsmen\",\"EUR\",\"EUR\",\"EUR\",\"sportsmen\",\"sportsmen\",\"sportsmen\",\"sportsmen\",\"sportsmen\",\"EUR\",\"sportsmen\",\"sportsmen\",\"EUR\",\"sportsmen\",\"EUR\",\"sportsmen\",\"EUR\",\"sportsmen\",\"sportsmen\",\"sportsmen\",\"sportsmen\",\"sportsmen\",\"EUR\",\"EUR\",\"EUR\",\"EUR\",\"sportsmen\",\"sportsmen\",\"sportsmen\",\"sportsmen\",\"sportsmen\",\"sportsmen\",\"sportsmen\",\"EUR\",\"sportsmen\",\"EUR\",\"sportsmen\",\"sportsmen\",\"EUR\",\"sportsmen\",\"sportsmen\",\"sportsmen\",\"EUR\",\"sportsmen\",\"EUR\",\"sportsmen\",\"sportsmen\",\"sportsmen\",\"sportsmen\",\"sportsmen\",\"sportsmen\",\"sportsmen\",\"EUR\",\"sportsmen\",\"EUR\",\"sportsmen\",\"sportsmen\",\"EUR\",\"sportsmen\",\"sportsmen\",\"sportsmen\",\"sportsmen\",\"EUR\",\"sportsmen\",\"EUR\",\"sportsmen\",\"sportsmen\",\"EUR\",\"sportsmen\",\"sportsmen\",\"EUR\",\"sportsmen\",\"sportsmen\",\"EUR\",\"sportsmen\",\"EUR\",\"sportsmen\",\"sportsmen\",\"EUR\",\"sportsmen\",\"sportsmen\",\"EUR\",\"sportsmen\",\"EUR\",\"sportsmen\",\"EUR\",\"sportsmen\",\"EUR\",\"EUR\",\"EUR\",\"sportsmen\",\"EUR\",\"sportsmen\",\"EUR\",\"sportsmen\",\"sportsmen\",\"EUR\",\"sportsmen\",\"sportsmen\",\"sportsmen\",\"EUR\",\"sportsmen\",\"sportsmen\",\"sportsmen\",\"sportsmen\",\"EUR\",\"EUR\",\"EUR\",\"EUR\",\"EUR\",\"sportsmen\",\"sportsmen\",\"EUR\",\"EUR\",\"EUR\",\"EUR\",\"EUR\",\"EUR\",\"EUR\",\"EUR\",\"EUR\",\"EUR\",\"EUR\",\"EUR\",\"sportsmen\",\"EUR\",\"EUR\",\"EUR\",\"EUR\",\"EUR\",\"EUR\",\"EUR\",\"EUR\",\"EUR\"],\"x\":{\"__ndarray__\":\"8gi9OGOHsL9659+Esz2wv6XlMk5Faa+/41D738HSrr/7ReuAEl6uvwAUM6cdSq6/0hPhipNMrr9TOXsVFvWtvzlL1PAE6q2/YZT1yq/hrb/jYB+IDr6tv4GJJC5osa2/eOXeJWm1rb9wwbK9boWtv9A7G0pqOa2/J4QB7PIXrb/nV4wGCIysvxmBdmzufqy/EtSu1U90rL+J2SmtYVWsv6IMFZ9hIKy/R7zSkIwjrL882OMWBg2svxLlM7tStau/3yOgMPudq79TUxExL2Grv2eve/eSJKu/pKCMOdUkq7/UZ+5smC+rv2O4j0BtD6u/c0UTFGkTq78mcyeOSPiqv9cTYIYG3Kq//a3TKBu4qr/xUCOy5Wiqvzck8xppGaq/4KZbQUryqb9YAd+wZ/epv8750sIR/qm/kv/9zg/oqb/Ghngd6rWpv+DseGQQham/WUZI/S1+qb/FT/pNtjmpvxwmj0T8GKm/dttCroDLqL+FG9ylZn+ov4vUiUuVPKi/SqK8/pQdqL/sXJVpmheov+CKVHgWG6i/jOId4oLWp79s6JG1obGnvybW9emzrKe/Arkb9JaZp7/uaFxxfXSnv6keSlqNWqe/CVW4Dmwzp7+9MmoeNz6nvxrp11S3B6e/UFQb6vwIp79BcUgE4/Smv6zBUeqQ7qa//6w8HAe+pr/vZ8SHhLumv6+z/dkkt6a/RoiNvhOfpr8xluJ9+ZKmv3QXxwIPb6a/JjtdeJZdpr8LV7KyqzWmv6IQCkskAKa/+LcOPpj1pb9gUwd5Mtqlv6kcL4e9mKW/wHI4EYWOpb/JrP9FIoSlv2odaYD6cqW/IkL4zGdxpb9aeWnfBUylv32J04TPTKW/aDV6kxhApb8efQWmFESlv/PF6FCjLKW/zL6L18H3pL8WlwBxfvakv0YhXsee6KS/A2I102PSpL/5Y6q5XMekv8uDH4zbuKS/GVO4h2KdpL+OEUFL4aCkv1u3V6yOpqS/MuZwcqSmpL/05VGTVW2kvxvRlGCAc6S/APZulfhgpL+V5jhAHyykv9hmC4TTOaS/WtDEzwYqpL93X/a8xg6kv3sXwK+2D6S/6Ih6JsEZpL/gdZZVmhKkv+s7darLA6S/jQ7vNhPso79P7316x+2jv4vzJnR1d6O/2kLdTPUlo7+XhU+HUgqjv+IStI00E6O/3YnkW8T7or8sgtPXswGjvwiZsfwJ9qK/Xs/VYI+bor9KvuwXZpCiv0QXIbvOjKK/+dmyWYWEor/NBX9ApG+iv3DPDUiVdqK/Gkk37C4yor/yQHa+YDOiv1dAZ2kBGKK/gLI5W3sYor8J23pAwReivym2we8PFaK/Pv1ZMmAMor85/gzFKfGhvzw9Imo946G/y92gK1+0ob+SUekn3pWhv045WhVVkqG/BwJL1Fl9ob+Bgui1r2Whv4k/Nc2VZqG/BWY8x98pob/jVq/cmh+hv5h+3dws6qC/5cUNUFrjoL9Evt2ZNbagv/SyceC0paC/AvykwEGcoL+M+Hw3X4qgvzh4+5tPgKC/qXVQByltoL/JZqHb4Tmgv2SYcPQYMqC/TuKLe9IboL/7nfi5ACGgv54gUe1NDaC/+7vZ6u8ToL/EQBTSDOOfvzqAKwi2tJ+/RCoS55+rn78v8Qn5ioufvxDaAlfAW5+/TWhSK83/nr8d8Z3uusmevyWyO80clZ6/8hQIFj1Qnr/u98quwVaev5R48tjWNZ6/4ZkKnzMnnr9psZ13XAqev92RFj0xkp2/43TVUhqmnL8+I5p7M7acvyUkch+1Ipy/9YiWwuC6m7/4R2LoNPKav9kKbbD3ipq/fku2y7TCmb/F8AFwH6GZv5VpPvyiMpm/f97J0Pokmb+e1abfiACZv8+VmiXJCpa/j6QwM9wSlr9X+LJMy/yVv3hns3+FiJW/uPJqkOzGlL+VPJfZItGUv1bghW71xJS//og6hnvWk78+tQz3V1qTv3eHXc+CNJO/H6tzLzvTkr9fmgdsfaCSvzWzNZrJmJG/AL/6TsudkL9pfG1eEHCQv7MphiBrbJC/YhXFbnZQkL+pG0+sy26Ov7kWuC/pho2/QsIbiw7Uir+vmVHA6i+JvzM9EHn35oi/\",\"dtype\":\"float64\",\"shape\":[198]},\"y\":{\"__ndarray__\":\"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\",\"dtype\":\"float64\",\"shape\":[198]}},\"selected\":{\"id\":\"3895\",\"type\":\"Selection\"},\"selection_policy\":{\"id\":\"3894\",\"type\":\"UnionRenderers\"}},\"id\":\"3740\",\"type\":\"ColumnDataSource\"},{\"attributes\":{\"fill_alpha\":{\"value\":0.1},\"fill_color\":{\"value\":\"#1f77b4\"},\"line_alpha\":{\"value\":0.1},\"line_color\":{\"value\":\"#1f77b4\"},\"x\":{\"field\":\"x\"},\"y\":{\"field\":\"y\"}},\"id\":\"3745\",\"type\":\"Circle\"},{\"attributes\":{\"fill_color\":{\"field\":\"label\",\"transform\":{\"id\":\"2976\",\"type\":\"CategoricalColorMapper\"}},\"line_color\":{\"field\":\"label\",\"transform\":{\"id\":\"2976\",\"type\":\"CategoricalColorMapper\"}},\"x\":{\"field\":\"x\"},\"y\":{\"field\":\"y\"}},\"id\":\"3744\",\"type\":\"Circle\"},{\"attributes\":{},\"id\":\"3716\",\"type\":\"BasicTicker\"},{\"attributes\":{\"color_mapper\":null,\"formatter\":{\"id\":\"3892\",\"type\":\"BasicTickFormatter\"},\"ticker\":{\"id\":\"3893\",\"type\":\"BasicTicker\"},\"visible\":false},\"id\":\"3756\",\"type\":\"ColorBar\"},{\"attributes\":{},\"id\":\"3725\",\"type\":\"PanTool\"},{\"attributes\":{\"column_name\":\"label\",\"group\":\"sportsmen\"},\"id\":\"3747\",\"type\":\"GroupFilter\"},{\"attributes\":{},\"id\":\"3711\",\"type\":\"LinearScale\"},{\"attributes\":{\"click_policy\":\"hide\",\"items\":[{\"id\":\"3753\",\"type\":\"LegendItem\"},{\"id\":\"3754\",\"type\":\"LegendItem\"}]},\"id\":\"3755\",\"type\":\"Legend\"},{\"attributes\":{\"ticker\":{\"id\":\"3716\",\"type\":\"BasicTicker\"}},\"id\":\"3719\",\"type\":\"Grid\"},{\"attributes\":{\"callback\":null},\"id\":\"3709\",\"type\":\"DataRange1d\"},{\"attributes\":{\"fill_alpha\":{\"value\":0.1},\"fill_color\":{\"value\":\"#1f77b4\"},\"line_alpha\":{\"value\":0.1},\"line_color\":{\"value\":\"#1f77b4\"},\"x\":{\"field\":\"x\"},\"y\":{\"field\":\"y\"}},\"id\":\"3751\",\"type\":\"Circle\"},{\"attributes\":{\"label\":{\"value\":\"EUR\"},\"renderers\":[{\"id\":\"3746\",\"type\":\"GlyphRenderer\"}]},\"id\":\"3753\",\"type\":\"LegendItem\"},{\"attributes\":{},\"id\":\"3888\",\"type\":\"BasicTickFormatter\"},{\"attributes\":{},\"id\":\"3721\",\"type\":\"BasicTicker\"},{\"attributes\":{},\"id\":\"3713\",\"type\":\"LinearScale\"},{\"attributes\":{\"axis_label\":\"PC2\",\"formatter\":{\"id\":\"3888\",\"type\":\"BasicTickFormatter\"},\"ticker\":{\"id\":\"3716\",\"type\":\"BasicTicker\"}},\"id\":\"3715\",\"type\":\"LinearAxis\"},{\"attributes\":{\"data_source\":{\"id\":\"3740\",\"type\":\"ColumnDataSource\"},\"glyph\":{\"id\":\"3750\",\"type\":\"Circle\"},\"hover_glyph\":null,\"muted_glyph\":null,\"nonselection_glyph\":{\"id\":\"3751\",\"type\":\"Circle\"},\"selection_glyph\":null,\"view\":{\"id\":\"3748\",\"type\":\"CDSView\"}},\"id\":\"3752\",\"type\":\"GlyphRenderer\"},{\"attributes\":{\"overlay\":{\"id\":\"3896\",\"type\":\"BoxAnnotation\"}},\"id\":\"3727\",\"type\":\"BoxZoomTool\"},{\"attributes\":{},\"id\":\"3895\",\"type\":\"Selection\"},{\"attributes\":{\"callback\":null},\"id\":\"3707\",\"type\":\"DataRange1d\"},{\"attributes\":{},\"id\":\"3894\",\"type\":\"UnionRenderers\"},{\"attributes\":{\"text\":\"PCA\"},\"id\":\"3705\",\"type\":\"Title\"},{\"attributes\":{\"label\":{\"value\":\"sportsmen\"},\"renderers\":[{\"id\":\"3752\",\"type\":\"GlyphRenderer\"}]},\"id\":\"3754\",\"type\":\"LegendItem\"},{\"attributes\":{},\"id\":\"3728\",\"type\":\"SaveTool\"},{\"attributes\":{\"data_source\":{\"id\":\"3740\",\"type\":\"ColumnDataSource\"},\"glyph\":{\"id\":\"3744\",\"type\":\"Circle\"},\"hover_glyph\":null,\"muted_glyph\":null,\"nonselection_glyph\":{\"id\":\"3745\",\"type\":\"Circle\"},\"selection_glyph\":null,\"view\":{\"id\":\"3742\",\"type\":\"CDSView\"}},\"id\":\"3746\",\"type\":\"GlyphRenderer\"}],\"root_ids\":[\"3704\"]},\"title\":\"Bokeh Application\",\"version\":\"1.4.0\"}};\n",
       "  var render_items = [{\"docid\":\"57b6307e-99ae-4956-81e4-120b87d83c4d\",\"roots\":{\"3704\":\"e4a6dacd-6f65-4270-a2f7-fee44734adb2\"}}];\n",
       "  root.Bokeh.embed.embed_items_notebook(docs_json, render_items);\n",
       "\n",
       "  }\n",
       "  if (root.Bokeh !== undefined) {\n",
       "    embed_document(root);\n",
       "  } else {\n",
       "    var attempts = 0;\n",
       "    var timer = setInterval(function(root) {\n",
       "      if (root.Bokeh !== undefined) {\n",
       "        clearInterval(timer);\n",
       "        embed_document(root);\n",
       "      } else {\n",
       "        attempts++;\n",
       "        if (attempts > 100) {\n",
       "          clearInterval(timer);\n",
       "          console.log(\"Bokeh: ERROR: Unable to run BokehJS code because BokehJS library is missing\");\n",
       "        }\n",
       "      }\n",
       "    }, 10, root)\n",
       "  }\n",
       "})(window);"
      ],
      "application/vnd.bokehjs_exec.v0+json": ""
     },
     "metadata": {
      "application/vnd.bokehjs_exec.v0+json": {
       "id": "3704"
      }
     },
     "output_type": "display_data"
    }
   ],
   "source": [
    "plot_second_filter = hl.plot.scatter(mt_second_filter.scores[1],\n",
    "                                     mt_second_filter.scores[2],\n",
    "                                     label=mt_second_filter.pheno.super_pop,\n",
    "                                     colors=mapper,\n",
    "                                     title='PCA', xlabel='PC2', ylabel='PC3')\n",
    "\n",
    "show(plot_second_filter)\n"
   ]
  },
  {
   "cell_type": "code",
   "execution_count": 168,
   "id": "a01a955b-3f4f-4c11-a581-2a43739780ef",
   "metadata": {},
   "outputs": [
    {
     "data": {
      "image/png": "[encoded data removed]",
      "text/plain": [
       "<Figure size 432x288 with 1 Axes>"
      ]
     },
     "metadata": {},
     "output_type": "display_data"
    }
   ],
   "source": [
    "pca_second_filter_df = mt_second_filter.cols().flatten().to_pandas(flatten = True).rename(columns={'pheno.super_pop': 'super_pop'})\n",
    "pca_second_filter_df[['PC1','PC2', 'PC3','PC4', 'PC5', \n",
    "                      'PC6', 'PC7', 'PC8', 'PC9', 'PC10']] = pd.DataFrame(pca_second_filter_df.scores.tolist(), \n",
    "                                                                          index = pca_second_filter_df.index)\n",
    "\n",
    "# create plot for pc2 and pc3\n",
    "for col, pop in zip(colors, population):\n",
    "    plt.scatter(pca_second_filter_df[pca_second_filter_df.super_pop == pop]['PC2'],\n",
    "                pca_second_filter_df[pca_second_filter_df.super_pop == pop]['PC3'], \n",
    "                color = col, s = 5)\n",
    "plt.legend(population, loc = 'center left', bbox_to_anchor=(1, 0.5), title = \"Population\")\n",
    "plt.xlabel('PC2')\n",
    "plt.ylabel('PC3')\n",
    "# plt.show()\n",
    "\n",
    "plt.savefig(\"/net/archive/groups/plggneuromol/matzieb/projects/imdik-zekanowski-sportwgs/results/prs-plots/pca-second-filter.svg\", \n",
    "            facecolor='white', bbox_inches='tight')"
   ]
  },
  {
   "cell_type": "code",
   "execution_count": 167,
   "id": "b1ebc875-5d3e-433f-a8b8-43235a250aac",
   "metadata": {},
   "outputs": [
    {
     "name": "stderr",
     "output_type": "stream",
     "text": [
      "2022-08-08 13:22:24 Hail: INFO: Coerced sorted dataset\n",
      "2022-08-08 13:22:25 Hail: INFO: merging 16 files totalling 6.6K...\n",
      "2022-08-08 13:22:25 Hail: INFO: while writing:\n",
      "    /net/archive/groups/plggneuromol/imdik-zekanowski-sportwgs/data/prs-data/sportsmen-control-pheno.tsv\n",
      "  merge time: 16.086ms\n"
     ]
    }
   ],
   "source": [
    "# save metadata with sportsmen and control to tsv file\n",
    "sportsmen_control_pheno = mt_second_filter.cols()\n",
    "\n",
    "sportsmen_control_pheno = sportsmen_control_pheno.annotate(group = sportsmen_control_pheno.pheno.group.replace(\"1kg\", \"control\"))\n",
    "\n",
    "sportsmen_control_pheno = sportsmen_control_pheno.drop(sportsmen_control_pheno.scores).flatten()\n",
    "\n",
    "sportsmen_control_pheno = sportsmen_control_pheno.drop(sportsmen_control_pheno['pheno.group']).rename({\n",
    "    's':'sample',\n",
    "    'pheno.pop': 'pop', \n",
    "    'pheno.super_pop': 'super_pop', \n",
    "    'pheno.gender':'gender'}).export(\n",
    "    '/net/archive/groups/plggneuromol/imdik-zekanowski-sportwgs/data/prs-data/sportsmen-control-pheno.tsv',\n",
    "    header=True\n",
    ")"
   ]
  }
 ],
 "metadata": {
  "kernelspec": {
   "display_name": "Python 3 (ipykernel)",
   "language": "python",
   "name": "python3"
  },
  "language_info": {
   "codemirror_mode": {
    "name": "ipython",
    "version": 3
   },
   "file_extension": ".py",
   "mimetype": "text/x-python",
   "name": "python",
   "nbconvert_exporter": "python",
   "pygments_lexer": "ipython3",
   "version": "3.7.7"
  }
 },
 "nbformat": 4,
 "nbformat_minor": 5
}
