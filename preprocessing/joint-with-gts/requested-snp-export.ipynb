{
 "cells": [
  {
   "cell_type": "code",
   "execution_count": 1,
   "metadata": {},
   "outputs": [
    {
     "data": {
      "text/html": [
       "<style>.container { width:100% !important; }</style>"
      ],
      "text/plain": [
       "<IPython.core.display.HTML object>"
      ]
     },
     "metadata": {},
     "output_type": "display_data"
    },
    {
     "name": "stdout",
     "output_type": "stream",
     "text": [
      "2022-04-20 13:41:49 WARN  NativeCodeLoader:60 - Unable to load native-hadoop library for your platform... using builtin-java classes where applicable\n"
     ]
    },
    {
     "name": "stderr",
     "output_type": "stream",
     "text": [
      "Setting default log level to \"WARN\".\n",
      "To adjust logging level use sc.setLogLevel(newLevel). For SparkR, use setLogLevel(newLevel).\n",
      "Running on Apache Spark version 3.1.2\n",
      "SparkUI available at http://p1411.prometheus:4040\n",
      "Welcome to\n",
      "     __  __     <>__\n",
      "    / /_/ /__  __/ /\n",
      "   / __  / _ `/ / /\n",
      "  /_/ /_/\\_,_/_/_/   version 0.2.85-9b98676b6ad8\n",
      "LOGGING: writing to /net/archive/groups/plggneuromol/imdik-zekanowski-sportwgs/preprocessing/joint-with-gts/hail-20220420-1341-0.2.85-9b98676b6ad8.log\n"
     ]
    }
   ],
   "source": [
    "import hail as hl\n",
    "import sys\n",
    "import os\n",
    "import pandas as pd\n",
    "import numpy as np\n",
    "\n",
    "from IPython.display import display\n",
    "from IPython.display import HTML\n",
    "\n",
    "display(HTML(\"<style>.container { width:100% !important; }</style>\"))\n",
    "\n",
    "hl.init(tmp_dir='temp2',\n",
    "        spark_conf={'spark.driver.memory': '30G',\n",
    "                    'spark.executor.memory': '30G'}, default_reference='GRCh38')"
   ]
  },
  {
   "cell_type": "markdown",
   "metadata": {},
   "source": [
    "## This part starts unfiltered matrix tables per chromosome, sportsmen and healthy unrelated GTS are kept"
   ]
  },
  {
   "cell_type": "markdown",
   "metadata": {},
   "source": [
    "MCT1\n",
    "chr1:112,911,847-112,957,593 (chr1:112913924)\n",
    "\n"
   ]
  },
  {
   "cell_type": "code",
   "execution_count": 6,
   "metadata": {},
   "outputs": [
    {
     "name": "stdout",
     "output_type": "stream",
     "text": [
      "\u001b[0m\u001b[38;5;27m1kg\u001b[0m/                       \u001b[38;5;27mdbNSFP4.3a\u001b[0m/       human-genes-with-GO-and-symbols\r\n",
      "Human.MitoCarta3.0.xls     \u001b[38;5;27mfathmm-xf.ht\u001b[0m/     \u001b[38;5;27mpharmvar\u001b[0m/\r\n",
      "\u001b[38;5;27mcadd.ht\u001b[0m/                   \u001b[38;5;27mgenebass\u001b[0m/         \u001b[38;5;27mpolish-genomes\u001b[0m/\r\n",
      "\u001b[38;5;27mchain-files-for-liftover\u001b[0m/  \u001b[38;5;27mgenecode_v32.ht\u001b[0m/  \u001b[38;5;27mrepeatmasker-extended-keyed.ht\u001b[0m/\r\n",
      "\u001b[38;5;27mdann\u001b[0m/                      \u001b[38;5;27mgnomad\u001b[0m/           \u001b[38;5;27mvep38\u001b[0m/\r\n",
      "\u001b[38;5;27mdann.ht\u001b[0m/                   hpo.tsv\r\n"
     ]
    }
   ],
   "source": [
    "ls /net/archive/groups/plggneuromol/resources/"
   ]
  },
  {
   "cell_type": "code",
   "execution_count": null,
   "metadata": {},
   "outputs": [],
   "source": [
    "chr1 = hl.read_matrix_table('/net/archive/groups/plggneuromol/imdik-zekanowski-sportwgs/data/joint/dense-all.mt')\n",
    "\n",
    "mct1 = hl.filter_intervals(chr1, [(hl.parse_locus_interval('chr1:112911847-112957593', reference_genome='GRCh38'))])\n",
    "mct1 = mct1.naive_coalesce(5)\n",
    "mct1.write('mct1.mt')\n",
    "\n",
    "mt = hl.read_matrix_table('/net/archive/groups/plggneuromol/imdik-zekanowski-sportwgs/preprocessing/joint-with-gts/mct1.mt')\n",
    "\n",
    "rpmk = hl.read_table('/net/archive/groups/plggneuromol/resources/repeatmasker-extended-keyed.ht')\n",
    "cov = hl.read_table('/net/archive/groups/plggneuromol/resources/gnomad/gnomad-cov-keyed.ht')\n",
    "\n",
    "mt = mt.filter_rows(hl.is_defined(rpmk[mt.locus]), keep = False)\n",
    "mt = mt.filter_rows(hl.is_defined(cov[mt.locus]), keep = True)\n",
    "\n",
    "mt = mt.annotate_cols(group = hl.if_else(\n",
    "     mt.s.contains('B'), 'sport', hl.if_else(\n",
    "     mt.s.contains('HG'), '1kg', hl.if_else(\n",
    "           mt.s.contains('NA'), '1kg', 'GTS'))))\n",
    "\n",
    "mt = mt.annotate_rows(dp_qc = hl.agg.group_by(mt.group, hl.agg.stats(mt.DP)),\n",
    "                      gq_qc = hl.agg.group_by(mt.group, hl.agg.stats(mt.GQ)),\n",
    "                      hwe = hl.agg.group_by(mt.group, hl.agg.hardy_weinberg_test(mt.GT)))\n",
    "\n",
    "mt = mt.annotate_rows(n_below_dp_3 = hl.agg.group_by(mt.group, hl.agg.count_where(mt.DP < 3)),\n",
    "                      n_below_gq_30 = hl.agg.group_by(mt.group, hl.agg.count_where(mt.GQ <30)))\n",
    "\n",
    "snp1 = mt.filter_rows(mt.locus.position == 112913924)\n",
    "\n",
    "mt = mt.filter_rows((mt.dp_qc.get('GTS', hl.struct(mean=6.0, stdev=0.0, min=0.0, max=0.0, n=0, sum=0.0)).mean > 5) &\n",
    "                    (mt.dp_qc.get('sport', hl.struct(mean=6.0, stdev=0.0, min=0.0, max=0.0, n=0, sum=0.0)).mean > 5) &\n",
    "                    (mt.gq_qc.get('GTS', hl.struct(mean=60.0, stdev=0.0, min=0.0, max=0.0, n=0, sum=0.0)).mean > 50) &\n",
    "                    (mt.gq_qc.get('sport', hl.struct(mean=60.0, stdev=0.0, min=0.0, max=0.0, n=0, sum=0.0)).mean > 50) &\n",
    "                    (mt.hwe.get('GTS', hl.struct(het_freq_hwe=0.0, p_value=0.5)).p_value > 0.05) &\n",
    "                    (mt.hwe.get('sport', hl.struct(het_freq_hwe=0.0, p_value=0.5)).p_value > 0.05) &\n",
    "                    (mt.n_below_dp_3.get('sport', 0) < 3) &\n",
    "                    (mt.n_below_gq_30.get('sport', 0) < 30) &\n",
    "                    (mt.n_below_dp_3.get('GTS', 0) < 3) &\n",
    "                    (mt.n_below_gq_30.get('GTS', 0) <30))\n",
    "\n",
    "### At this stage we have 1) single SNP 2) other variants in the mt. First we will select unrelated individuals from GTS cohort:\n",
    "\n",
    "healthy_unrelated = ['S_7212', 'S_7213','S_7227','S_7255','S_7237','S_7245','S_7246','S_7229','S_7254','WGS_147c','S_7261','S_7263','S_7269','S_7274','S_7294','S_7306','WGS_37b','WGS_37c','WGS_85b','WGS_7118',\n",
    "'WGS_7120','WGS_7142','WGS_7143','WGS_7152','WGS_7153','WGS_163d','WGS_180b','WGS_6819','WGS_D6813','WGS_D6815','462','468','475','476','477','478','479','482','490','492','494']\n",
    "\n",
    "mt = mt.filter_cols(((mt.s.contains('B')) | hl.literal(healthy_unrelated).contains(mt.s)))\n",
    "mt = mt.filter_cols(mt.s == 'B454', keep = False)\n",
    "\n",
    "mt = mt.filter_rows(hl.agg.any(mt.GT.is_non_ref()))\n",
    "\n",
    "mt.write('/net/archive/groups/plggneuromol/imdik-zekanowski-sportwgs/preprocessing/joint-with-gts/mct1-selected-4.mt')\n",
    "\n",
    "snp1 = snp1.filter_cols(((snp1.s.contains('B')) | hl.literal(healthy_unrelated).contains(snp1.s)))\n",
    "snp1 = snp1.filter_cols(snp1.s == 'B454', keep = False)\n",
    "\n",
    "snp1.count()\n",
    "\n",
    "mt = hl.read_matrix_table('/net/archive/groups/plggneuromol/imdik-zekanowski-sportwgs/preprocessing/joint-with-gts/mct1-selected-4.mt')\n",
    "\n",
    "mt = mt.union_rows(snp1)\n",
    "\n",
    "mt.checkpoint('/net/archive/groups/plggneuromol/imdik-zekanowski-sportwgs/preprocessing/joint-with-gts/mct1-joined.mt')"
   ]
  },
  {
   "cell_type": "markdown",
   "metadata": {},
   "source": [
    "### annotate matrix table with important info:"
   ]
  },
  {
   "cell_type": "code",
   "execution_count": null,
   "metadata": {},
   "outputs": [],
   "source": [
    "genes = hl.read_table('/net/archive/groups/plggneuromol/imdik-zekanowski-gts/data/external-data/genecode_v32.ht')\n",
    "genes = genes.filter(hl.is_valid_contig(genes['hg38.knownGene.chrom'], reference_genome='GRCh38'))\n",
    "hpo = hl.import_table('/net/archive/groups/plggneuromol/imdik-zekanowski-gts/data/external-data/hpo.tsv', impute = True, no_header=True)\n",
    "\n",
    "start = genes['hg38.knownGene.txStart']\n",
    "stop =  genes['hg38.knownGene.txEnd']\n",
    "\n",
    "genes = genes.transmute(interval = \n",
    "                        hl.locus_interval(genes['hg38.knownGene.chrom'], \n",
    "                                          start,\n",
    "                                          stop,\n",
    "                                          reference_genome='GRCh38', includes_start=False))\n",
    "\n",
    "genes = genes.key_by(genes['hg38.kgXref.geneSymbol'])\n",
    "\n",
    "hpo = hpo.key_by(hpo.f0)\n",
    "\n",
    "genes = genes.annotate(hpo = hpo.index(genes['hg38.kgXref.geneSymbol'], all_matches = True)['f1'])\n",
    "genes = genes.key_by(genes.interval)\n",
    "\n",
    "gnomad = hl.read_table('/net/archive/groups/plggneuromol/ifpan-gosborcz-ukb/raw/gnomad/gnomad.genomes.v3.1.1.sites.ht/')\n",
    "cadd = hl.read_table('/net/archive/groups/plggneuromol/imdik-zekanowski-gts/data/external-data/cadd-full.ht')\n",
    "vep = hl.read_table('/net/archive/groups/plggneuromol/imdik-zekanowski-sportwgs/data/external-data/vep38/grch38_context_vep_annotated.ht')\n",
    "sport_pheno = hl.import_table('/net/archive/groups/plggneuromol/imdik-zekanowski-sportwgs/data/external-data/sporstmen-pheno.csv', impute = True, key='sample_id', quote =\"\\\"\")\n",
    "poles = hl.read_matrix_table('/net/archive/groups/plggneuromol/imdik-zekanowski-sportwgs/data/external-data/polish-genomes/polish-genomes.mt')\n",
    "\n",
    "mt = mt.distinct_by_row()\n",
    "mt = mt.key_rows_by(mt.locus, mt.alleles)\n",
    "mt = hl.split_multi_hts(mt)\n",
    "mt = mt.annotate_rows(gnomad_v_3_1 = gnomad[mt.row_key])\n",
    "mt = mt.annotate_rows(within_gene = hl.array(hl.set(genes.index(mt.locus, all_matches=True)['hg38.kgXref.geneSymbol'])))\n",
    "mt = mt.annotate_rows(hpo = hl.array(hl.set(genes.index(mt.locus, all_matches=True)['hpo'])))\n",
    "mt = mt.annotate_rows(cadd = cadd[mt.row_key])\n",
    "mt = mt.annotate_rows(vep = vep[mt.row_key])\n",
    "mt = mt.annotate_cols(sport_phenotypes = sport_pheno[mt.s])\n",
    "mt = mt.annotate_rows(polish_af = poles.rows()[mt.row_key]['info'])\n",
    "\n",
    "mt.write('/net/archive/groups/plggneuromol/imdik-zekanowski-sportwgs/results/hail-mts/mct1.mt')\n",
    "\n",
    "mt = hl.read_matrix_table('/net/archive/groups/plggneuromol/imdik-zekanowski-sportwgs/results/hail-mts/mct1.mt')\n",
    "\n",
    "mt = mt.annotate_cols(group = hl.if_else(\n",
    "     mt.s.contains('B'), 'sport', hl.if_else(\n",
    "     mt.s.contains('HG'), '1kg', hl.if_else(\n",
    "           mt.s.contains('NA'), '1kg', 'control'))))\n",
    "\n",
    "mt = mt.annotate_rows(het_non_refs = hl.agg.group_by(mt.group, hl.agg.count_where(mt.GT.is_het())))\n",
    "mt = mt.annotate_rows(hom_refs = hl.agg.group_by(mt.group, hl.agg.count_where(mt.GT.is_hom_ref())))\n",
    "mt = mt.annotate_rows(hom_non_refs = hl.agg.group_by(mt.group, hl.agg.count_where(mt.GT.is_hom_var())))\n",
    "\n",
    "mt = mt.annotate_rows(het_non_refs_e_vs_s = hl.agg.group_by(mt.sport_phenotypes.type, hl.agg.count_where(mt.GT.is_het())))\n",
    "mt = mt.annotate_rows(hom_refs_e_vs_s = hl.agg.group_by(mt.sport_phenotypes.type, hl.agg.count_where(mt.GT.is_hom_ref())))\n",
    "mt = mt.annotate_rows(hom_non_refs_e_vs_s = hl.agg.group_by(mt.sport_phenotypes.type, hl.agg.count_where(mt.GT.is_hom_var())))\n",
    "\n",
    "sport_AC_non_ref = hl.int32(mt.het_non_refs.get('sport', 0) + (mt.hom_non_refs.get('sport', 0)*2))\n",
    "sport_AC_ref = hl.int32(mt.het_non_refs.get('sport', 0) + (mt.hom_refs.get('sport', 0)*2))\n",
    "control_AC_non_ref = hl.int32(mt.het_non_refs.get('control', 0) + (mt.hom_non_refs.get('control', 0)*2))\n",
    "control_AC_ref = hl.int32(mt.het_non_refs.get('control', 0) + (mt.hom_refs.get('control', 0)*2))\n",
    "speed_AC_non_ref = hl.int32(mt.het_non_refs_e_vs_s.get('speed', 0) + (mt.hom_non_refs_e_vs_s.get('speed', 0)*2))\n",
    "speed_AC_ref = hl.int32(mt.het_non_refs_e_vs_s.get('speed', 0) + (mt.hom_refs_e_vs_s.get('speed', 0)*2))\n",
    "endurance_AC_non_ref = hl.int32(mt.het_non_refs_e_vs_s.get('endurance', 0) + (mt.hom_non_refs_e_vs_s.get('endurance', 0)*2))\n",
    "endurance_AC_ref = hl.int32(mt.het_non_refs_e_vs_s.get('endurance', 0) + (mt.hom_refs_e_vs_s.get('endurance', 0)*2))\n",
    "gnomad_AC_non_ref = mt.gnomad_v_3_1.freq.AC[2]\n",
    "gnomad_AC_ref = mt.gnomad_v_3_1.freq.AN[2] - mt.gnomad_v_3_1.freq.AC[2]\n",
    "polish_AC_non_ref = hl.int32(mt.polish_af.AC[0])\n",
    "polish_AC_ref = hl.int32(mt.polish_af.AN - mt.polish_af.AC[0])\n",
    "\n",
    "mt = mt.annotate_rows(fisher_sport_vs_control = hl.fisher_exact_test(sport_AC_non_ref, sport_AC_ref, control_AC_non_ref, control_AC_ref),\n",
    "                              fisher_e_vs_s = hl.fisher_exact_test(speed_AC_non_ref, speed_AC_ref, endurance_AC_non_ref, endurance_AC_ref),\n",
    "                              fisher_sport_vs_gnomad = hl.fisher_exact_test(sport_AC_non_ref, sport_AC_ref, gnomad_AC_non_ref, gnomad_AC_ref),\n",
    "                              fisher_sport_vs_polish = hl.fisher_exact_test(sport_AC_non_ref, sport_AC_ref, polish_AC_non_ref, polish_AC_ref))\n",
    "\n",
    "mt = mt.drop(mt['a_index'], mt['was_split'])"
   ]
  },
  {
   "cell_type": "code",
   "execution_count": null,
   "metadata": {},
   "outputs": [],
   "source": [
    "mt = mt.transmute_rows(DP_stats = mt.dp_qc,\n",
    "                             GQ_stats = mt.gq_qc, \n",
    "                             hwe_controls_p_value = mt.hwe.get('GTS', hl.struct(het_freq_hwe=0.0, p_value=1)).p_value,\n",
    "                             hwe_sport_p_value = mt.hwe.get('sport', hl.struct(het_freq_hwe=0.0, p_value=1)).p_value,\n",
    "                             gnomad_v3_nfe_af = mt.gnomad_v_3_1.freq.AF[2],\n",
    "                             gnomad_v3_nfe_homozygote_count = mt.gnomad_v_3_1.freq.homozygote_count[2],\n",
    "                             cadd = mt.cadd.cadd_score,\n",
    "                             within_gene = mt.within_gene,\n",
    "                             hpo = mt.hpo,\n",
    "                             fisher_sport_vs_control  = mt.fisher_sport_vs_control,\n",
    "                             fisher_e_vs_s = mt.fisher_e_vs_s ,\n",
    "                             fisher_sport_vs_gnomad  = mt.fisher_sport_vs_gnomad,\n",
    "                             fisher_sport_vs_polish = mt.fisher_sport_vs_polish,                         \n",
    "                             het_sport = mt.het_non_refs.get('sport', 0),\n",
    "                             het_controls = mt.het_non_refs.get('control', 0),\n",
    "                             hom_ref_sport = mt.hom_refs.get('sport', 0),\n",
    "                             hom_ref_controls = mt.hom_refs.get('control', 0),\n",
    "                             hom_var_sport = mt.hom_non_refs.get('sport', 0),\n",
    "                             how_var_controls = mt.hom_non_refs.get('control',0),\n",
    "                             het_endurance = mt.het_non_refs_e_vs_s.get('endurance', 0),\n",
    "                             het_speed = mt.het_non_refs_e_vs_s.get('speed', 0),\n",
    "                             hom_ref_endurance = mt.hom_refs_e_vs_s.get('endurance', 0),\n",
    "                             hom_ref_speed = mt.hom_refs_e_vs_s.get('speed', 0),\n",
    "                             hom_var_endurance = mt.hom_non_refs_e_vs_s.get('endurance', 0),\n",
    "                             how_var_speed = mt.hom_non_refs_e_vs_s.get('speed',0),\n",
    "                             most_severe_consequence = mt.vep.vep.most_severe_consequence,\n",
    "                             transcript_consequences = mt.vep.vep.transcript_consequences,\n",
    "                             intergenic_consequences = mt.vep.vep.intergenic_consequences,\n",
    "                             motif_feature_consequences = mt.vep.vep.motif_feature_consequences,\n",
    "                             regulatory_feature_consequences = mt.vep.vep.regulatory_feature_consequences,\n",
    "                             polish_af = mt.polish_af)\n",
    "\n",
    "mt = mt.select_entries(mt.GT)\n",
    "\n",
    "mt = mt.make_table()\n",
    "mt.write('/net/archive/groups/plggneuromol/imdik-zekanowski-sportwgs/preprocessing/joint-with-gts/mct1-to-export7.mt')"
   ]
  },
  {
   "cell_type": "code",
   "execution_count": 67,
   "metadata": {},
   "outputs": [],
   "source": [
    "mt = hl.read_table('/net/archive/groups/plggneuromol/imdik-zekanowski-sportwgs/preprocessing/joint-with-gts/mct1-to-export7.mt')"
   ]
  },
  {
   "cell_type": "code",
   "execution_count": 60,
   "metadata": {},
   "outputs": [
    {
     "name": "stderr",
     "output_type": "stream",
     "text": [
      "2021-12-06 12:22:57 Hail: INFO: merging 6 files totalling 641.5K...\n",
      "2021-12-06 12:22:57 Hail: INFO: while writing:\n",
      "    /net/archive/groups/plggneuromol/imdik-zekanowski-sportwgs/results/hail-mts/mct1-single.csv\n",
      "  merge time: 21.888ms\n",
      "2021-12-06 12:22:57 Hail: INFO: merging 6 files totalling 641.5K...\n",
      "2021-12-06 12:22:57 Hail: INFO: while writing:\n",
      "    mct1-single.csv\n",
      "  merge time: 19.666ms\n"
     ]
    }
   ],
   "source": [
    "to_export = mt.flatten()\n",
    "to_export.export('/net/archive/groups/plggneuromol/imdik-zekanowski-sportwgs/results/hail-mts/mct1-single.csv')\n",
    "to_export.export('mct1-single.csv')"
   ]
  },
  {
   "cell_type": "markdown",
   "metadata": {},
   "source": [
    "#### Add speed vs controls and endurance vs controls"
   ]
  },
  {
   "cell_type": "code",
   "execution_count": 9,
   "metadata": {},
   "outputs": [
    {
     "name": "stderr",
     "output_type": "stream",
     "text": [
      "2022-04-19 12:51:26 Hail: INFO: Loading 193 fields. Counts by type:\n",
      "  str: 193\n"
     ]
    }
   ],
   "source": [
    "mct1 = hl.import_table('/net/archive/groups/plggneuromol/imdik-zekanowski-sportwgs/results/hail-mts/mct1-single.csv')"
   ]
  },
  {
   "cell_type": "code",
   "execution_count": 18,
   "metadata": {},
   "outputs": [],
   "source": [
    "control_AC_non_ref = hl.int32(mct1.het_controls) + (hl.int32(mct1.how_var_controls)*2)\n",
    "control_AC_ref = hl.int32(mct1.het_controls) + (hl.int32(mct1.hom_ref_controls)*2)\n",
    "speed_AC_non_ref = hl.int32(mct1.het_speed) + (hl.int32(mct1.how_var_speed)*2)\n",
    "speed_AC_ref = hl.int32(mct1.het_speed) + (hl.int32(mct1.hom_ref_speed)*2)\n",
    "endurance_AC_non_ref = hl.int32(mct1.het_endurance) + (hl.int32(mct1.hom_var_endurance)*2)\n",
    "endurance_AC_ref = hl.int32(mct1.het_endurance) + (hl.int32(mct1.hom_ref_endurance)*2)"
   ]
  },
  {
   "cell_type": "code",
   "execution_count": 19,
   "metadata": {},
   "outputs": [],
   "source": [
    "mct1 = mct1.annotate(\n",
    "    fisher_speed_vs_controls = hl.fisher_exact_test(\n",
    "        speed_AC_non_ref,\n",
    "        speed_AC_ref,\n",
    "        control_AC_non_ref,\n",
    "        control_AC_ref\n",
    "    ),\n",
    "    fisher_endurance_vs_controls = hl.fisher_exact_test(\n",
    "        endurance_AC_non_ref,\n",
    "        endurance_AC_ref,\n",
    "        control_AC_non_ref,\n",
    "        control_AC_ref\n",
    "    )\n",
    ")"
   ]
  },
  {
   "cell_type": "code",
   "execution_count": 26,
   "metadata": {},
   "outputs": [
    {
     "name": "stderr",
     "output_type": "stream",
     "text": [
      "2022-04-19 13:37:11 Hail: INFO: merging 1 files totalling 648.0K...\n",
      "2022-04-19 13:37:11 Hail: INFO: while writing:\n",
      "    /net/archive/groups/plggneuromol/imdik-zekanowski-sportwgs/results/hail-mts/mct1-extra-tests.csv\n",
      "  merge time: 15.698ms\n",
      "2022-04-19 13:37:12 Hail: INFO: merging 1 files totalling 648.0K...\n",
      "2022-04-19 13:37:12 Hail: INFO: while writing:\n",
      "    mct1-extra-tests.csv\n",
      "  merge time: 12.801ms\n"
     ]
    }
   ],
   "source": [
    "mct1 = mct1.flatten()\n",
    "mct1.export('/net/archive/groups/plggneuromol/imdik-zekanowski-sportwgs/results/hail-mts/mct1-extra-tests.csv')\n",
    "mct1.export('mct1-extra-tests.csv')"
   ]
  },
  {
   "cell_type": "markdown",
   "metadata": {},
   "source": [
    "## burden analysis mct1"
   ]
  },
  {
   "cell_type": "code",
   "execution_count": 2,
   "metadata": {},
   "outputs": [],
   "source": [
    "mt = hl.read_matrix_table('/net/archive/groups/plggneuromol/imdik-zekanowski-sportwgs/results/snp-results/mct1.mt')\n",
    "\n",
    "mt = mt.annotate_entries(burden_entry = hl.if_else(mt.GT.is_non_ref(), ((mt.GT.n_alt_alleles())*(mt.cadd.cadd_score)), 0))\n",
    "\n",
    "mt = mt.annotate_cols(burden_all = hl.agg.sum(mt.burden_entry))\n",
    "\n",
    "columns = mt.cols()\n",
    "\n",
    "columns.aggregate(hl.agg.group_by(columns.group, hl.agg.stats(columns.burden_all)))\n",
    "\n",
    "columns.aggregate(hl.agg.group_by(columns.sport_phenotypes.type, hl.agg.stats(columns.burden_all)))\n",
    "\n",
    "group = np.array(columns.group.collect())\n",
    "pheno = np.array(columns.sport_phenotypes.type.collect())\n",
    "burden_all_test = np.array(columns.burden_all.collect())\n",
    "\n",
    "from scipy import stats\n",
    "\n",
    "stats.ttest_ind(burden_all_test[group == 'sport'], burden_all_test[group == 'GTS'])\n",
    "\n",
    "stats.ttest_ind(burden_all_test[pheno == 'endurance'], burden_all_test[pheno == 'speed'])"
   ]
  },
  {
   "cell_type": "markdown",
   "metadata": {},
   "source": [
    "##  NRF-2\n",
    "chr15:50,275,389-50,359,306 (chr15:50329637)\n"
   ]
  },
  {
   "cell_type": "code",
   "execution_count": 35,
   "metadata": {},
   "outputs": [],
   "source": [
    "chr15 = hl.read_matrix_table('/net/archive/groups/plggneuromol/imdik-zekanowski-sportwgs/data/joint/dense-all_chr15.mt')\n",
    "\n",
    "nrf2 = hl.filter_intervals(chr15, [(hl.parse_locus_interval('chr15:50275389-50359306', reference_genome='GRCh38'))])\n",
    "nrf2 = nrf2.naive_coalesce(5)\n",
    "nrf2.write('/net/archive/groups/plggneuromol/imdik-zekanowski-sportwgs/preprocessing/joint-with-gts/nrf.mt')\n",
    "\n",
    "mt = hl.read_matrix_table('/net/archive/groups/plggneuromol/imdik-zekanowski-sportwgs/preprocessing/joint-with-gts/nrf.mt')\n",
    "\n",
    "rpmk = hl.read_table('/net/archive/groups/plggneuromol/imdik-zekanowski-gts/data/external-data/repeatmasker-extended-keyed.ht')\n",
    "cov = hl.read_table('/net/archive/groups/plggneuromol/ifpan-gosborcz-ukb/raw/gnomad/gnomad.genomes.r3.0.1.coverage-repartitioned.ht')\n",
    "\n",
    "cov = cov.filter(cov.over_1 > 0.9)\n",
    "\n",
    "mt = mt.filter_rows(hl.is_defined(rpmk[mt.locus]), keep = False)\n",
    "mt = mt.filter_rows(hl.is_defined(cov[mt.locus]), keep = True)\n",
    "\n",
    "mt = mt.annotate_cols(group = hl.if_else(\n",
    "     mt.s.contains('B'), 'sport', hl.if_else(\n",
    "     mt.s.contains('HG'), '1kg', hl.if_else(\n",
    "           mt.s.contains('NA'), '1kg', 'GTS'))))\n",
    "\n",
    "mt = mt.annotate_rows(dp_qc = hl.agg.group_by(mt.group, hl.agg.stats(mt.DP)),\n",
    "                      gq_qc = hl.agg.group_by(mt.group, hl.agg.stats(mt.GQ)),\n",
    "                      hwe = hl.agg.group_by(mt.group, hl.agg.hardy_weinberg_test(mt.GT)))\n",
    "\n",
    "mt = mt.annotate_rows(n_below_dp_3 = hl.agg.group_by(mt.group, hl.agg.count_where(mt.DP < 3)),\n",
    "                      n_below_gq_30 = hl.agg.group_by(mt.group, hl.agg.count_where(mt.GQ <30)))\n",
    "\n",
    "snp1 = mt.filter_rows(mt.locus.position == 50329637)\n",
    "\n",
    "mt = mt.filter_rows((mt.dp_qc.get('GTS', hl.struct(mean=6.0, stdev=0.0, min=0.0, max=0.0, n=0, sum=0.0)).mean > 5) &\n",
    "                    (mt.dp_qc.get('sport', hl.struct(mean=6.0, stdev=0.0, min=0.0, max=0.0, n=0, sum=0.0)).mean > 5) &\n",
    "                    (mt.gq_qc.get('GTS', hl.struct(mean=60.0, stdev=0.0, min=0.0, max=0.0, n=0, sum=0.0)).mean > 50) &\n",
    "                    (mt.gq_qc.get('sport', hl.struct(mean=60.0, stdev=0.0, min=0.0, max=0.0, n=0, sum=0.0)).mean > 50) &\n",
    "                    (mt.hwe.get('GTS', hl.struct(het_freq_hwe=0.0, p_value=0.5)).p_value > 0.05) &\n",
    "                    (mt.hwe.get('sport', hl.struct(het_freq_hwe=0.0, p_value=0.5)).p_value > 0.05) &\n",
    "                    (mt.n_below_dp_3.get('sport', 0) < 3) &\n",
    "                    (mt.n_below_gq_30.get('sport', 0) < 30) &\n",
    "                    (mt.n_below_dp_3.get('GTS', 0) < 3) &\n",
    "                    (mt.n_below_gq_30.get('GTS', 0) <30))\n",
    "\n",
    "### At this stage we have 1) single SNP 2) other variants in the mt. First we will select unrelated individuals from GTS cohort:\n",
    "\n",
    "healthy_unrelated = ['S_7212', 'S_7213','S_7227','S_7255','S_7237','S_7245','S_7246','S_7229','S_7254','WGS_147c','S_7261','S_7263','S_7269','S_7274','S_7294','S_7306','WGS_37b','WGS_37c','WGS_85b','WGS_7118',\n",
    "'WGS_7120','WGS_7142','WGS_7143','WGS_7152','WGS_7153','WGS_163d','WGS_180b','WGS_6819','WGS_D6813','WGS_D6815','462','468','475','476','477','478','479','482','490','492','494']\n",
    "\n",
    "mt = mt.filter_cols(((mt.s.contains('B')) | hl.literal(healthy_unrelated).contains(mt.s)))\n",
    "mt = mt.filter_cols(mt.s == 'B454', keep = False)\n",
    "\n",
    "mt = mt.filter_rows(hl.agg.any(mt.GT.is_non_ref()))\n",
    "\n",
    "mt.checkpoint('/net/archive/groups/plggneuromol/imdik-zekanowski-sportwgs/preprocessing/joint-with-gts/nrf2-selected-4.mt')\n",
    "\n",
    "snp1 = snp1.filter_cols(((snp1.s.contains('B')) | hl.literal(healthy_unrelated).contains(snp1.s)))\n",
    "snp1 = snp1.filter_cols(snp1.s == 'B454', keep = False)\n",
    "\n",
    "snp1.count()\n",
    "\n",
    "mt = mt.union_rows(snp1)\n",
    "\n",
    "mt.checkpoint('/net/archive/groups/plggneuromol/imdik-zekanowski-sportwgs/preprocessing/joint-with-gts/nrf2-joined-2.mt')"
   ]
  },
  {
   "cell_type": "markdown",
   "metadata": {},
   "source": [
    "### annotate matrix table with important info:"
   ]
  },
  {
   "cell_type": "code",
   "execution_count": 92,
   "metadata": {},
   "outputs": [
    {
     "name": "stderr",
     "output_type": "stream",
     "text": [
      "2021-12-03 23:11:00 Hail: INFO: Reading table to impute column types\n",
      "2021-12-03 23:11:00 Hail: INFO: Finished type imputation\n",
      "  Loading field 'f0' as type str (imputed)\n",
      "  Loading field 'f1' as type str (imputed)\n",
      "2021-12-03 23:11:01 Hail: INFO: Reading table to impute column types\n",
      "2021-12-03 23:11:02 Hail: INFO: Finished type imputation\n",
      "  Loading field 'sport' as type str (imputed)\n",
      "  Loading field 'type' as type str (imputed)\n",
      "  Loading field 'age' as type int32 (imputed)\n",
      "  Loading field 'sample_id' as type str (imputed)\n"
     ]
    }
   ],
   "source": [
    "genes = hl.read_table('/net/archive/groups/plggneuromol/imdik-zekanowski-gts/data/external-data/genecode_v32.ht')\n",
    "genes = genes.filter(hl.is_valid_contig(genes['hg38.knownGene.chrom'], reference_genome='GRCh38'))\n",
    "hpo = hl.import_table('/net/archive/groups/plggneuromol/imdik-zekanowski-gts/data/external-data/hpo.tsv', impute = True, no_header=True)\n",
    "\n",
    "start = genes['hg38.knownGene.txStart']\n",
    "stop =  genes['hg38.knownGene.txEnd']\n",
    "\n",
    "genes = genes.transmute(interval = \n",
    "                        hl.locus_interval(genes['hg38.knownGene.chrom'], \n",
    "                                          start,\n",
    "                                          stop,\n",
    "                                          reference_genome='GRCh38', includes_start=False))\n",
    "\n",
    "genes = genes.key_by(genes['hg38.kgXref.geneSymbol'])\n",
    "\n",
    "hpo = hpo.key_by(hpo.f0)\n",
    "\n",
    "genes = genes.annotate(hpo = hpo.index(genes['hg38.kgXref.geneSymbol'], all_matches = True)['f1'])\n",
    "genes = genes.key_by(genes.interval)\n",
    "\n",
    "gnomad = hl.read_table('/net/archive/groups/plggneuromol/ifpan-gosborcz-ukb/raw/gnomad/gnomad.genomes.v3.1.1.sites.ht/')\n",
    "cadd = hl.read_table('/net/archive/groups/plggneuromol/imdik-zekanowski-gts/data/external-data/cadd-full.ht')\n",
    "vep = hl.read_table('/net/archive/groups/plggneuromol/imdik-zekanowski-sportwgs/data/external-data/vep38/grch38_context_vep_annotated.ht')\n",
    "sport_pheno = hl.import_table('/net/archive/groups/plggneuromol/imdik-zekanowski-sportwgs/data/external-data/sporstmen-pheno.csv', impute = True, key='sample_id', quote =\"\\\"\")\n",
    "poles = hl.read_matrix_table('/net/archive/groups/plggneuromol/imdik-zekanowski-sportwgs/data/external-data/polish-genomes/polish-genomes.mt')\n",
    "\n",
    "mt = mt.distinct_by_row()\n",
    "mt = mt.key_rows_by(mt.locus, mt.alleles)\n",
    "mt = hl.split_multi_hts(mt)\n",
    "mt = mt.annotate_rows(gnomad_v_3_1 = gnomad[mt.row_key])\n",
    "mt = mt.annotate_rows(within_gene = hl.array(hl.set(genes.index(mt.locus, all_matches=True)['hg38.kgXref.geneSymbol'])))\n",
    "mt = mt.annotate_rows(hpo = hl.array(hl.set(genes.index(mt.locus, all_matches=True)['hpo'])))\n",
    "mt = mt.annotate_rows(cadd = cadd[mt.row_key])\n",
    "mt = mt.annotate_rows(vep = vep[mt.row_key])\n",
    "mt = mt.annotate_cols(sport_phenotypes = sport_pheno[mt.s])\n",
    "mt = mt.annotate_rows(polish_af = poles.rows()[mt.row_key]['info'])\n",
    "\n",
    "mt.write('/net/archive/groups/plggneuromol/imdik-zekanowski-sportwgs/results/hail-mts/nrf2-2.mt')\n",
    "\n",
    "mt = hl.read_matrix_table('/net/archive/groups/plggneuromol/imdik-zekanowski-sportwgs/results/hail-mts/nrf2-2.mt')"
   ]
  },
  {
   "cell_type": "code",
   "execution_count": 14,
   "metadata": {},
   "outputs": [
    {
     "data": {
      "text/plain": [
       "(180, 142)"
      ]
     },
     "execution_count": 14,
     "metadata": {},
     "output_type": "execute_result"
    }
   ],
   "source": [
    "mt.count()"
   ]
  },
  {
   "cell_type": "code",
   "execution_count": null,
   "metadata": {},
   "outputs": [],
   "source": [
    "mt = mt.annotate_cols(group = hl.if_else(\n",
    "     mt.s.contains('B'), 'sport', hl.if_else(\n",
    "     mt.s.contains('HG'), '1kg', hl.if_else(\n",
    "           mt.s.contains('NA'), '1kg', 'control'))))\n",
    "\n",
    "mt = mt.annotate_rows(het_non_refs = hl.agg.group_by(mt.group, hl.agg.count_where(mt.GT.is_het())))\n",
    "mt = mt.annotate_rows(hom_refs = hl.agg.group_by(mt.group, hl.agg.count_where(mt.GT.is_hom_ref())))\n",
    "mt = mt.annotate_rows(hom_non_refs = hl.agg.group_by(mt.group, hl.agg.count_where(mt.GT.is_hom_var())))\n",
    "\n",
    "mt = mt.annotate_rows(het_non_refs_e_vs_s = hl.agg.group_by(mt.sport_phenotypes.type, hl.agg.count_where(mt.GT.is_het())))\n",
    "mt = mt.annotate_rows(hom_refs_e_vs_s = hl.agg.group_by(mt.sport_phenotypes.type, hl.agg.count_where(mt.GT.is_hom_ref())))\n",
    "mt = mt.annotate_rows(hom_non_refs_e_vs_s = hl.agg.group_by(mt.sport_phenotypes.type, hl.agg.count_where(mt.GT.is_hom_var())))\n",
    "\n",
    "sport_AC_non_ref = hl.int32(mt.het_non_refs.get('sport', 0) + (mt.hom_non_refs.get('sport', 0)*2))\n",
    "sport_AC_ref = hl.int32(mt.het_non_refs.get('sport', 0) + (mt.hom_refs.get('sport', 0)*2))\n",
    "control_AC_non_ref = hl.int32(mt.het_non_refs.get('control', 0) + (mt.hom_non_refs.get('control', 0)*2))\n",
    "control_AC_ref = hl.int32(mt.het_non_refs.get('control', 0) + (mt.hom_refs.get('control', 0)*2))\n",
    "speed_AC_non_ref = hl.int32(mt.het_non_refs_e_vs_s.get('speed', 0) + (mt.hom_non_refs_e_vs_s.get('speed', 0)*2))\n",
    "speed_AC_ref = hl.int32(mt.het_non_refs_e_vs_s.get('speed', 0) + (mt.hom_refs_e_vs_s.get('speed', 0)*2))\n",
    "endurance_AC_non_ref = hl.int32(mt.het_non_refs_e_vs_s.get('endurance', 0) + (mt.hom_non_refs_e_vs_s.get('endurance', 0)*2))\n",
    "endurance_AC_ref = hl.int32(mt.het_non_refs_e_vs_s.get('endurance', 0) + (mt.hom_refs_e_vs_s.get('endurance', 0)*2))\n",
    "gnomad_AC_non_ref = mt.gnomad_v_3_1.freq.AC[2]\n",
    "gnomad_AC_ref = mt.gnomad_v_3_1.freq.AN[2] - mt.gnomad_v_3_1.freq.AC[2]\n",
    "polish_AC_non_ref = hl.int32(mt.polish_af.AC[0])\n",
    "polish_AC_ref = hl.int32(mt.polish_af.AN - mt.polish_af.AC[0])\n",
    "\n",
    "mt = mt.annotate_rows(fisher_sport_vs_control = hl.fisher_exact_test(sport_AC_non_ref, sport_AC_ref, control_AC_non_ref, control_AC_ref),\n",
    "                              fisher_e_vs_s = hl.fisher_exact_test(speed_AC_non_ref, speed_AC_ref, endurance_AC_non_ref, endurance_AC_ref),\n",
    "                              fisher_sport_vs_gnomad = hl.fisher_exact_test(sport_AC_non_ref, sport_AC_ref, gnomad_AC_non_ref, gnomad_AC_ref),\n",
    "                              fisher_sport_vs_polish = hl.fisher_exact_test(sport_AC_non_ref, sport_AC_ref, polish_AC_non_ref, polish_AC_ref))\n",
    "\n",
    "mt = mt.drop(mt['a_index'], mt['was_split'])\n",
    "\n",
    "mt = mt.transmute_rows(DP_stats = mt.dp_qc,\n",
    "                             GQ_stats = mt.gq_qc, \n",
    "                             hwe_controls_p_value = mt.hwe.get('GTS', hl.struct(het_freq_hwe=0.0, p_value=1)).p_value,\n",
    "                             hwe_sport_p_value = mt.hwe.get('sport', hl.struct(het_freq_hwe=0.0, p_value=1)).p_value,\n",
    "                             gnomad_v3_nfe_af = mt.gnomad_v_3_1.freq.AF[2],\n",
    "                             gnomad_v3_nfe_homozygote_count = mt.gnomad_v_3_1.freq.homozygote_count[2],\n",
    "                             cadd = mt.cadd.cadd_score,\n",
    "                             within_gene = mt.within_gene,\n",
    "                             hpo = mt.hpo,\n",
    "                             fisher_sport_vs_control  = mt.fisher_sport_vs_control,\n",
    "                             fisher_e_vs_s = mt.fisher_e_vs_s ,\n",
    "                             fisher_sport_vs_gnomad  = mt.fisher_sport_vs_gnomad,\n",
    "                             fisher_sport_vs_polish = mt.fisher_sport_vs_polish,                         \n",
    "                             het_sport = mt.het_non_refs.get('sport', 0),\n",
    "                             het_controls = mt.het_non_refs.get('control', 0),\n",
    "                             hom_ref_sport = mt.hom_refs.get('sport', 0),\n",
    "                             hom_ref_controls = mt.hom_refs.get('control', 0),\n",
    "                             hom_var_sport = mt.hom_non_refs.get('sport', 0),\n",
    "                             how_var_controls = mt.hom_non_refs.get('control',0),\n",
    "                             het_endurance = mt.het_non_refs_e_vs_s.get('endurance', 0),\n",
    "                             het_speed = mt.het_non_refs_e_vs_s.get('speed', 0),\n",
    "                             hom_ref_endurance = mt.hom_refs_e_vs_s.get('endurance', 0),\n",
    "                             hom_ref_speed = mt.hom_refs_e_vs_s.get('speed', 0),\n",
    "                             hom_var_endurance = mt.hom_non_refs_e_vs_s.get('endurance', 0),\n",
    "                             how_var_speed = mt.hom_non_refs_e_vs_s.get('speed',0),\n",
    "                             most_severe_consequence = mt.vep.vep.most_severe_consequence,\n",
    "                             transcript_consequences = mt.vep.vep.transcript_consequences,\n",
    "                             intergenic_consequences = mt.vep.vep.intergenic_consequences,\n",
    "                             motif_feature_consequences = mt.vep.vep.motif_feature_consequences,\n",
    "                             regulatory_feature_consequences = mt.vep.vep.regulatory_feature_consequences,\n",
    "                             polish_af = mt.polish_af)\n",
    "\n",
    "mt = mt.select_entries(mt.GT)\n",
    "\n",
    "mt = mt.make_table()\n",
    "mt.write('/net/archive/groups/plggneuromol/imdik-zekanowski-sportwgs/preprocessing/joint-with-gts/nrf2-to-export-.mt')"
   ]
  },
  {
   "cell_type": "code",
   "execution_count": 59,
   "metadata": {},
   "outputs": [
    {
     "name": "stderr",
     "output_type": "stream",
     "text": [
      "2021-12-06 12:22:24 Hail: INFO: merging 6 files totalling 1.6M...\n",
      "2021-12-06 12:22:24 Hail: INFO: while writing:\n",
      "    /net/archive/groups/plggneuromol/imdik-zekanowski-sportwgs/results/hail-mts/nrf2-single.csv\n",
      "  merge time: 23.134ms\n",
      "2021-12-06 12:22:25 Hail: INFO: merging 6 files totalling 1.6M...\n",
      "2021-12-06 12:22:25 Hail: INFO: while writing:\n",
      "    nrf2-single.csv\n",
      "  merge time: 22.982ms\n"
     ]
    }
   ],
   "source": [
    "mt = hl.read_table('/net/archive/groups/plggneuromol/imdik-zekanowski-sportwgs/preprocessing/joint-with-gts/nrf2-to-export-.mt')\n",
    "\n",
    "to_export = mt.flatten()\n",
    "to_export.export('/net/archive/groups/plggneuromol/imdik-zekanowski-sportwgs/results/hail-mts/nrf2-single.csv')\n",
    "to_export.export('nrf2-single.csv')"
   ]
  },
  {
   "cell_type": "markdown",
   "metadata": {},
   "source": [
    "#### Add speed vs controls and endurance vs controls"
   ]
  },
  {
   "cell_type": "code",
   "execution_count": 27,
   "metadata": {},
   "outputs": [
    {
     "name": "stderr",
     "output_type": "stream",
     "text": [
      "2022-04-19 13:45:25 Hail: INFO: Loading 193 fields. Counts by type:\n",
      "  str: 193\n"
     ]
    }
   ],
   "source": [
    "nrf = hl.import_table('/net/archive/groups/plggneuromol/imdik-zekanowski-sportwgs/results/hail-mts/nrf2-single.csv')"
   ]
  },
  {
   "cell_type": "code",
   "execution_count": 28,
   "metadata": {},
   "outputs": [],
   "source": [
    "control_AC_non_ref = hl.int32(nrf.het_controls) + (hl.int32(nrf.how_var_controls)*2)\n",
    "control_AC_ref = hl.int32(nrf.het_controls) + (hl.int32(nrf.hom_ref_controls)*2)\n",
    "speed_AC_non_ref = hl.int32(nrf.het_speed) + (hl.int32(nrf.how_var_speed)*2)\n",
    "speed_AC_ref = hl.int32(nrf.het_speed) + (hl.int32(nrf.hom_ref_speed)*2)\n",
    "endurance_AC_non_ref = hl.int32(nrf.het_endurance) + (hl.int32(nrf.hom_var_endurance)*2)\n",
    "endurance_AC_ref = hl.int32(nrf.het_endurance) + (hl.int32(nrf.hom_ref_endurance)*2)\n",
    "\n",
    "nrf = nrf.annotate(\n",
    "    fisher_speed_vs_controls = hl.fisher_exact_test(\n",
    "        speed_AC_non_ref,\n",
    "        speed_AC_ref,\n",
    "        control_AC_non_ref,\n",
    "        control_AC_ref\n",
    "    ),\n",
    "    fisher_endurance_vs_controls = hl.fisher_exact_test(\n",
    "        endurance_AC_non_ref,\n",
    "        endurance_AC_ref,\n",
    "        control_AC_non_ref,\n",
    "        control_AC_ref\n",
    "    )\n",
    ")"
   ]
  },
  {
   "cell_type": "code",
   "execution_count": 29,
   "metadata": {},
   "outputs": [
    {
     "name": "stderr",
     "output_type": "stream",
     "text": [
      "2022-04-19 13:46:22 Hail: INFO: merging 1 files totalling 1.6M...\n",
      "2022-04-19 13:46:22 Hail: INFO: while writing:\n",
      "    /net/archive/groups/plggneuromol/imdik-zekanowski-sportwgs/results/hail-mts/nrf-extra-tests.csv\n",
      "  merge time: 15.141ms\n",
      "2022-04-19 13:46:22 Hail: INFO: merging 1 files totalling 1.6M...\n",
      "2022-04-19 13:46:22 Hail: INFO: while writing:\n",
      "    nrf-extra-tests.csv\n",
      "  merge time: 14.498ms\n"
     ]
    }
   ],
   "source": [
    "nrf = nrf.flatten()\n",
    "nrf.export('/net/archive/groups/plggneuromol/imdik-zekanowski-sportwgs/results/hail-mts/nrf-extra-tests.csv')\n",
    "nrf.export('nrf-extra-tests.csv')"
   ]
  },
  {
   "cell_type": "markdown",
   "metadata": {},
   "source": [
    "## burden analysis nrf2"
   ]
  },
  {
   "cell_type": "code",
   "execution_count": 2,
   "metadata": {},
   "outputs": [],
   "source": [
    "mt = hl.read_matrix_table('/net/archive/groups/plggneuromol/imdik-zekanowski-sportwgs/results/hail-mts/nrf2-2.mt')"
   ]
  },
  {
   "cell_type": "code",
   "execution_count": 3,
   "metadata": {},
   "outputs": [],
   "source": [
    "mt = mt.annotate_entries(burden_entry = hl.if_else(mt.GT.is_non_ref(), ((mt.GT.n_alt_alleles())*(mt.cadd.cadd_score)), 0))"
   ]
  },
  {
   "cell_type": "code",
   "execution_count": 4,
   "metadata": {},
   "outputs": [],
   "source": [
    "mt = mt.annotate_cols(burden_all = hl.agg.sum(mt.burden_entry))"
   ]
  },
  {
   "cell_type": "code",
   "execution_count": 5,
   "metadata": {},
   "outputs": [
    {
     "name": "stderr",
     "output_type": "stream",
     "text": [
      "2021-12-06 10:35:19 Hail: WARN: cols(): Resulting column table is sorted by 'col_key'.\n",
      "    To preserve matrix table column order, first unkey columns with 'key_cols_by()'\n"
     ]
    }
   ],
   "source": [
    "columns = mt.cols()"
   ]
  },
  {
   "cell_type": "code",
   "execution_count": 16,
   "metadata": {},
   "outputs": [
    {
     "data": {
      "text/plain": [
       "frozendict({'GTS': Struct(mean=158.22380487804878, stdev=96.92767397299689, min=0.0, max=339.37, n=41, sum=6487.176), 'sport': Struct(mean=170.28698019801982, stdev=99.26955702799451, min=1.726, max=382.05400000000003, n=101, sum=17198.985)})"
      ]
     },
     "execution_count": 16,
     "metadata": {},
     "output_type": "execute_result"
    }
   ],
   "source": [
    "columns.aggregate(hl.agg.group_by(columns.group, hl.agg.stats(columns.burden_all)))"
   ]
  },
  {
   "cell_type": "code",
   "execution_count": 17,
   "metadata": {},
   "outputs": [
    {
     "data": {
      "text/plain": [
       "frozendict({'endurance': Struct(mean=172.9305416666667, stdev=101.70455621225425, min=4.116, max=382.05400000000003, n=48, sum=8300.666000000001), 'speed': Struct(mean=167.89281132075473, stdev=96.94936371448567, min=1.726, max=381.068, n=53, sum=8898.319000000001), None: Struct(mean=158.22380487804878, stdev=96.92767397299689, min=0.0, max=339.37, n=41, sum=6487.176)})"
      ]
     },
     "execution_count": 17,
     "metadata": {},
     "output_type": "execute_result"
    }
   ],
   "source": [
    "columns.aggregate(hl.agg.group_by(columns.sport_phenotypes.type, hl.agg.stats(columns.burden_all)))"
   ]
  },
  {
   "cell_type": "code",
   "execution_count": 18,
   "metadata": {},
   "outputs": [
    {
     "name": "stderr",
     "output_type": "stream",
     "text": [
      "2021-12-05 20:02:10 Hail: INFO: Coerced sorted dataset\n",
      "2021-12-05 20:02:11 Hail: INFO: Coerced sorted dataset\n",
      "2021-12-05 20:02:11 Hail: INFO: Coerced sorted dataset\n"
     ]
    }
   ],
   "source": [
    "group = np.array(columns.group.collect())\n",
    "pheno = np.array(columns.sport_phenotypes.type.collect())\n",
    "burden_all_test = np.array(columns.burden_all.collect())"
   ]
  },
  {
   "cell_type": "code",
   "execution_count": 19,
   "metadata": {},
   "outputs": [],
   "source": [
    "from scipy import stats"
   ]
  },
  {
   "cell_type": "code",
   "execution_count": 20,
   "metadata": {},
   "outputs": [
    {
     "data": {
      "text/plain": [
       "Ttest_indResult(statistic=0.6560199036456881, pvalue=0.5128880293578033)"
      ]
     },
     "execution_count": 20,
     "metadata": {},
     "output_type": "execute_result"
    }
   ],
   "source": [
    "stats.ttest_ind(burden_all_test[group == 'sport'], burden_all_test[group == 'GTS'])"
   ]
  },
  {
   "cell_type": "code",
   "execution_count": 21,
   "metadata": {},
   "outputs": [
    {
     "data": {
      "text/plain": [
       "Ttest_indResult(statistic=0.25223951377962145, pvalue=0.8013788737234933)"
      ]
     },
     "execution_count": 21,
     "metadata": {},
     "output_type": "execute_result"
    }
   ],
   "source": [
    "stats.ttest_ind(burden_all_test[pheno == 'endurance'], burden_all_test[pheno == 'speed'])"
   ]
  },
  {
   "cell_type": "markdown",
   "metadata": {},
   "source": [
    "## MYBPC3\n",
    "chr11:47,331,406-47,352,702 (chr11:47333236)\n"
   ]
  },
  {
   "cell_type": "code",
   "execution_count": null,
   "metadata": {},
   "outputs": [],
   "source": [
    "chr11 = hl.read_matrix_table('/net/archive/groups/plggneuromol/imdik-zekanowski-sportwgs/data/joint/dense-all_chr11.mt')\n",
    "\n",
    "myb = hl.filter_intervals(chr11, [(hl.parse_locus_interval('chr11:47331406-47352702', reference_genome='GRCh38'))])\n",
    "myb = myb.naive_coalesce(5)\n",
    "myb.write('myb.mt')\n",
    "\n",
    "mt = hl.read_matrix_table('/net/archive/groups/plggneuromol/imdik-zekanowski-sportwgs/preprocessing/joint-with-gts/myb.mt')\n",
    "\n",
    "rpmk = hl.read_table('/net/archive/groups/plggneuromol/imdik-zekanowski-gts/data/external-data/repeatmasker-extended-keyed.ht')\n",
    "cov = hl.read_table('/net/archive/groups/plggneuromol/ifpan-gosborcz-ukb/raw/gnomad/gnomad.genomes.r3.0.1.coverage.ht')\n",
    "\n",
    "cov = cov.filter(cov.over_1 > 0.9)\n",
    "\n",
    "\n",
    "mt = mt.filter_rows(hl.is_defined(rpmk[mt.locus]), keep = False)\n",
    "mt = mt.filter_rows(hl.is_defined(cov[mt.locus]), keep = True)\n",
    "\n",
    "mt = mt.annotate_cols(group = hl.if_else(\n",
    "     mt.s.contains('B'), 'sport', hl.if_else(\n",
    "     mt.s.contains('HG'), '1kg', hl.if_else(\n",
    "           mt.s.contains('NA'), '1kg', 'GTS'))))\n",
    "\n",
    "mt = mt.annotate_rows(dp_qc = hl.agg.group_by(mt.group, hl.agg.stats(mt.DP)),\n",
    "                      gq_qc = hl.agg.group_by(mt.group, hl.agg.stats(mt.GQ)),\n",
    "                      hwe = hl.agg.group_by(mt.group, hl.agg.hardy_weinberg_test(mt.GT)))\n",
    "\n",
    "mt = mt.annotate_rows(n_below_dp_3 = hl.agg.group_by(mt.group, hl.agg.count_where(mt.DP < 3)),\n",
    "                      n_below_gq_30 = hl.agg.group_by(mt.group, hl.agg.count_where(mt.GQ <30)))\n",
    "\n",
    "snp1 = mt.filter_rows(mt.locus.position == 47333236)\n",
    "\n",
    "mt = mt.filter_rows((mt.dp_qc.get('GTS', hl.struct(mean=6.0, stdev=0.0, min=0.0, max=0.0, n=0, sum=0.0)).mean > 5) &\n",
    "                    (mt.dp_qc.get('sport', hl.struct(mean=6.0, stdev=0.0, min=0.0, max=0.0, n=0, sum=0.0)).mean > 5) &\n",
    "                    (mt.gq_qc.get('GTS', hl.struct(mean=60.0, stdev=0.0, min=0.0, max=0.0, n=0, sum=0.0)).mean > 50) &\n",
    "                    (mt.gq_qc.get('sport', hl.struct(mean=60.0, stdev=0.0, min=0.0, max=0.0, n=0, sum=0.0)).mean > 50) &\n",
    "                    (mt.hwe.get('GTS', hl.struct(het_freq_hwe=0.0, p_value=0.5)).p_value > 0.05) &\n",
    "                    (mt.hwe.get('sport', hl.struct(het_freq_hwe=0.0, p_value=0.5)).p_value > 0.05) &\n",
    "                    (mt.n_below_dp_3.get('sport', 0) < 3) &\n",
    "                    (mt.n_below_gq_30.get('sport', 0) < 30) &\n",
    "                    (mt.n_below_dp_3.get('GTS', 0) < 3) &\n",
    "                    (mt.n_below_gq_30.get('GTS', 0) <30))\n",
    "\n",
    "### At this stage we have 1) single SNP 2) other variants in the mt. First we will select unrelated individuals from GTS cohort:\n",
    "\n",
    "healthy_unrelated = ['S_7212', 'S_7213','S_7227','S_7255','S_7237','S_7245','S_7246','S_7229','S_7254','WGS_147c','S_7261','S_7263','S_7269','S_7274','S_7294','S_7306','WGS_37b','WGS_37c','WGS_85b','WGS_7118',\n",
    "'WGS_7120','WGS_7142','WGS_7143','WGS_7152','WGS_7153','WGS_163d','WGS_180b','WGS_6819','WGS_D6813','WGS_D6815','462','468','475','476','477','478','479','482','490','492','494']\n",
    "\n",
    "mt = mt.filter_cols(((mt.s.contains('B')) | hl.literal(healthy_unrelated).contains(mt.s)))\n",
    "mt = mt.filter_cols(mt.s == 'B454', keep = False)\n",
    "\n",
    "mt = mt.filter_rows(hl.agg.any(mt.GT.is_non_ref()))\n",
    "\n",
    "mt.write('/net/archive/groups/plggneuromol/imdik-zekanowski-sportwgs/preprocessing/joint-with-gts/myb-selected-4.mt')\n",
    "\n",
    "snp1 = snp1.filter_cols(((snp1.s.contains('B')) | hl.literal(healthy_unrelated).contains(snp1.s)))\n",
    "snp1 = snp1.filter_cols(snp1.s == 'B454', keep = False)\n",
    "\n",
    "\n",
    "mt = hl.read_matrix_table('/net/archive/groups/plggneuromol/imdik-zekanowski-sportwgs/preprocessing/joint-with-gts/myb-selected-4.mt')\n",
    "mt = mt.union_rows(snp1)\n",
    "\n",
    "mt.checkpoint('/net/archive/groups/plggneuromol/imdik-zekanowski-sportwgs/preprocessing/joint-with-gts/myb-joined.mt')\n",
    "\n",
    "genes = hl.read_table('/net/archive/groups/plggneuromol/imdik-zekanowski-gts/data/external-data/genecode_v32.ht')\n",
    "genes = genes.filter(hl.is_valid_contig(genes['hg38.knownGene.chrom'], reference_genome='GRCh38'))\n",
    "hpo = hl.import_table('/net/archive/groups/plggneuromol/imdik-zekanowski-gts/data/external-data/hpo.tsv', impute = True, no_header=True)\n",
    "\n",
    "start = genes['hg38.knownGene.txStart']\n",
    "stop =  genes['hg38.knownGene.txEnd']\n",
    "\n",
    "genes = genes.transmute(interval = \n",
    "                        hl.locus_interval(genes['hg38.knownGene.chrom'], \n",
    "                                          start,\n",
    "                                          stop,\n",
    "                                          reference_genome='GRCh38', includes_start=False))\n",
    "\n",
    "genes = genes.key_by(genes['hg38.kgXref.geneSymbol'])\n",
    "\n",
    "hpo = hpo.key_by(hpo.f0)\n",
    "\n",
    "genes = genes.annotate(hpo = hpo.index(genes['hg38.kgXref.geneSymbol'], all_matches = True)['f1'])\n",
    "genes = genes.key_by(genes.interval)\n",
    "\n",
    "gnomad = hl.read_table('/net/archive/groups/plggneuromol/ifpan-gosborcz-ukb/raw/gnomad/gnomad.genomes.v3.1.1.sites.ht/')\n",
    "cadd = hl.read_table('/net/archive/groups/plggneuromol/imdik-zekanowski-gts/data/external-data/cadd-full.ht')\n",
    "vep = hl.read_table('/net/archive/groups/plggneuromol/imdik-zekanowski-sportwgs/data/external-data/vep38/grch38_context_vep_annotated.ht')\n",
    "sport_pheno = hl.import_table('/net/archive/groups/plggneuromol/imdik-zekanowski-sportwgs/data/external-data/sporstmen-pheno.csv', impute = True, key='sample_id', quote =\"\\\"\")\n",
    "poles = hl.read_matrix_table('/net/archive/groups/plggneuromol/imdik-zekanowski-sportwgs/data/external-data/polish-genomes/polish-genomes.mt')\n",
    "\n",
    "mt = mt.distinct_by_row()\n",
    "mt = mt.key_rows_by(mt.locus, mt.alleles)\n",
    "mt = hl.split_multi_hts(mt)\n",
    "mt = mt.annotate_rows(gnomad_v_3_1 = gnomad[mt.row_key])\n",
    "mt = mt.annotate_rows(within_gene = hl.array(hl.set(genes.index(mt.locus, all_matches=True)['hg38.kgXref.geneSymbol'])))\n",
    "mt = mt.annotate_rows(hpo = hl.array(hl.set(genes.index(mt.locus, all_matches=True)['hpo'])))\n",
    "mt = mt.annotate_rows(cadd = cadd[mt.row_key])\n",
    "mt = mt.annotate_rows(vep = vep[mt.row_key])\n",
    "mt = mt.annotate_cols(sport_phenotypes = sport_pheno[mt.s])\n",
    "mt = mt.annotate_rows(polish_af = poles.rows()[mt.row_key]['info'])\n",
    "\n",
    "mt.write('/net/archive/groups/plggneuromol/imdik-zekanowski-sportwgs/results/hail-mts/myb.mt')\n",
    "\n",
    "mt = hl.read_matrix_table('/net/archive/groups/plggneuromol/imdik-zekanowski-sportwgs/results/hail-mts/myb.mt')\n",
    "\n",
    "mt = mt.annotate_cols(group = hl.if_else(\n",
    "     mt.s.contains('B'), 'sport', hl.if_else(\n",
    "     mt.s.contains('HG'), '1kg', hl.if_else(\n",
    "           mt.s.contains('NA'), '1kg', 'control'))))\n",
    "\n",
    "mt = mt.annotate_rows(het_non_refs = hl.agg.group_by(mt.group, hl.agg.count_where(mt.GT.is_het())))\n",
    "mt = mt.annotate_rows(hom_refs = hl.agg.group_by(mt.group, hl.agg.count_where(mt.GT.is_hom_ref())))\n",
    "mt = mt.annotate_rows(hom_non_refs = hl.agg.group_by(mt.group, hl.agg.count_where(mt.GT.is_hom_var())))\n",
    "\n",
    "mt = mt.annotate_rows(het_non_refs_e_vs_s = hl.agg.group_by(mt.sport_phenotypes.type, hl.agg.count_where(mt.GT.is_het())))\n",
    "mt = mt.annotate_rows(hom_refs_e_vs_s = hl.agg.group_by(mt.sport_phenotypes.type, hl.agg.count_where(mt.GT.is_hom_ref())))\n",
    "mt = mt.annotate_rows(hom_non_refs_e_vs_s = hl.agg.group_by(mt.sport_phenotypes.type, hl.agg.count_where(mt.GT.is_hom_var())))\n",
    "\n",
    "sport_AC_non_ref = hl.int32(mt.het_non_refs.get('sport', 0) + (mt.hom_non_refs.get('sport', 0)*2))\n",
    "sport_AC_ref = hl.int32(mt.het_non_refs.get('sport', 0) + (mt.hom_refs.get('sport', 0)*2))\n",
    "control_AC_non_ref = hl.int32(mt.het_non_refs.get('control', 0) + (mt.hom_non_refs.get('control', 0)*2))\n",
    "control_AC_ref = hl.int32(mt.het_non_refs.get('control', 0) + (mt.hom_refs.get('control', 0)*2))\n",
    "speed_AC_non_ref = hl.int32(mt.het_non_refs_e_vs_s.get('speed', 0) + (mt.hom_non_refs_e_vs_s.get('speed', 0)*2))\n",
    "speed_AC_ref = hl.int32(mt.het_non_refs_e_vs_s.get('speed', 0) + (mt.hom_refs_e_vs_s.get('speed', 0)*2))\n",
    "endurance_AC_non_ref = hl.int32(mt.het_non_refs_e_vs_s.get('endurance', 0) + (mt.hom_non_refs_e_vs_s.get('endurance', 0)*2))\n",
    "endurance_AC_ref = hl.int32(mt.het_non_refs_e_vs_s.get('endurance', 0) + (mt.hom_refs_e_vs_s.get('endurance', 0)*2))\n",
    "gnomad_AC_non_ref = mt.gnomad_v_3_1.freq.AC[2]\n",
    "gnomad_AC_ref = mt.gnomad_v_3_1.freq.AN[2] - mt.gnomad_v_3_1.freq.AC[2]\n",
    "polish_AC_non_ref = hl.int32(mt.polish_af.AC[0])\n",
    "polish_AC_ref = hl.int32(mt.polish_af.AN - mt.polish_af.AC[0])\n",
    "\n",
    "mt = mt.annotate_rows(fisher_sport_vs_control = hl.fisher_exact_test(sport_AC_non_ref, sport_AC_ref, control_AC_non_ref, control_AC_ref),\n",
    "                              fisher_e_vs_s = hl.fisher_exact_test(speed_AC_non_ref, speed_AC_ref, endurance_AC_non_ref, endurance_AC_ref),\n",
    "                              fisher_sport_vs_gnomad = hl.fisher_exact_test(sport_AC_non_ref, sport_AC_ref, gnomad_AC_non_ref, gnomad_AC_ref),\n",
    "                              fisher_sport_vs_polish = hl.fisher_exact_test(sport_AC_non_ref, sport_AC_ref, polish_AC_non_ref, polish_AC_ref))\n",
    "\n",
    "mt = mt.drop(mt['a_index'], mt['was_split'])\n",
    "\n",
    "mt = mt.transmute_rows(DP_stats = mt.dp_qc,\n",
    "                             GQ_stats = mt.gq_qc, \n",
    "                             hwe_controls_p_value = mt.hwe.get('GTS', hl.struct(het_freq_hwe=0.0, p_value=1)).p_value,\n",
    "                             hwe_sport_p_value = mt.hwe.get('sport', hl.struct(het_freq_hwe=0.0, p_value=1)).p_value,\n",
    "                             gnomad_v3_nfe_af = mt.gnomad_v_3_1.freq.AF[2],\n",
    "                             gnomad_v3_nfe_homozygote_count = mt.gnomad_v_3_1.freq.homozygote_count[2],\n",
    "                             cadd = mt.cadd.cadd_score,\n",
    "                             within_gene = mt.within_gene,\n",
    "                             hpo = mt.hpo,\n",
    "                             fisher_sport_vs_control  = mt.fisher_sport_vs_control,\n",
    "                             fisher_e_vs_s = mt.fisher_e_vs_s ,\n",
    "                             fisher_sport_vs_gnomad  = mt.fisher_sport_vs_gnomad,\n",
    "                             fisher_sport_vs_polish = mt.fisher_sport_vs_polish,                         \n",
    "                             het_sport = mt.het_non_refs.get('sport', 0),\n",
    "                             het_controls = mt.het_non_refs.get('control', 0),\n",
    "                             hom_ref_sport = mt.hom_refs.get('sport', 0),\n",
    "                             hom_ref_controls = mt.hom_refs.get('control', 0),\n",
    "                             hom_var_sport = mt.hom_non_refs.get('sport', 0),\n",
    "                             how_var_controls = mt.hom_non_refs.get('control',0),\n",
    "                             het_endurance = mt.het_non_refs_e_vs_s.get('endurance', 0),\n",
    "                             het_speed = mt.het_non_refs_e_vs_s.get('speed', 0),\n",
    "                             hom_ref_endurance = mt.hom_refs_e_vs_s.get('endurance', 0),\n",
    "                             hom_ref_speed = mt.hom_refs_e_vs_s.get('speed', 0),\n",
    "                             hom_var_endurance = mt.hom_non_refs_e_vs_s.get('endurance', 0),\n",
    "                             how_var_speed = mt.hom_non_refs_e_vs_s.get('speed',0),\n",
    "                             most_severe_consequence = mt.vep.vep.most_severe_consequence,\n",
    "                             transcript_consequences = mt.vep.vep.transcript_consequences,\n",
    "                             intergenic_consequences = mt.vep.vep.intergenic_consequences,\n",
    "                             motif_feature_consequences = mt.vep.vep.motif_feature_consequences,\n",
    "                             regulatory_feature_consequences = mt.vep.vep.regulatory_feature_consequences,\n",
    "                             polish_af = mt.polish_af)\n",
    "\n",
    "mt = mt.select_entries(mt.GT)\n",
    "\n",
    "mt = mt.make_table()\n",
    "mt.write('/net/archive/groups/plggneuromol/imdik-zekanowski-sportwgs/preprocessing/joint-with-gts/myb-to-export.mt')"
   ]
  },
  {
   "cell_type": "code",
   "execution_count": 57,
   "metadata": {},
   "outputs": [],
   "source": [
    "mt = hl.read_table('/net/archive/groups/plggneuromol/imdik-zekanowski-sportwgs/preprocessing/joint-with-gts/myb-to-export.mt')"
   ]
  },
  {
   "cell_type": "code",
   "execution_count": 58,
   "metadata": {},
   "outputs": [
    {
     "name": "stderr",
     "output_type": "stream",
     "text": [
      "2021-12-06 12:21:41 Hail: INFO: merging 4 files totalling 434.0K...\n",
      "2021-12-06 12:21:41 Hail: INFO: while writing:\n",
      "    /net/archive/groups/plggneuromol/imdik-zekanowski-sportwgs/results/hail-mts/myb-single.csv\n",
      "  merge time: 15.812ms\n",
      "2021-12-06 12:21:42 Hail: INFO: merging 4 files totalling 434.0K...\n",
      "2021-12-06 12:21:42 Hail: INFO: while writing:\n",
      "    myb-single.csv\n",
      "  merge time: 15.486ms\n"
     ]
    }
   ],
   "source": [
    "to_export = mt.flatten()\n",
    "to_export.export('/net/archive/groups/plggneuromol/imdik-zekanowski-sportwgs/results/hail-mts/myb-single.csv')\n",
    "to_export.export('myb-single.csv')"
   ]
  },
  {
   "cell_type": "code",
   "execution_count": 30,
   "metadata": {},
   "outputs": [
    {
     "name": "stderr",
     "output_type": "stream",
     "text": [
      "2022-04-19 13:52:01 Hail: INFO: Loading 193 fields. Counts by type:\n",
      "  str: 193\n"
     ]
    }
   ],
   "source": [
    "myb = hl.import_table('/net/archive/groups/plggneuromol/imdik-zekanowski-sportwgs/results/hail-mts/myb-single.csv')"
   ]
  },
  {
   "cell_type": "code",
   "execution_count": 32,
   "metadata": {},
   "outputs": [
    {
     "name": "stderr",
     "output_type": "stream",
     "text": [
      "2022-04-19 13:52:14 Hail: INFO: merging 1 files totalling 437.9K...\n",
      "2022-04-19 13:52:14 Hail: INFO: while writing:\n",
      "    /net/archive/groups/plggneuromol/imdik-zekanowski-sportwgs/results/hail-mts/myb-extra-tests.csv\n",
      "  merge time: 10.348ms\n",
      "2022-04-19 13:52:14 Hail: INFO: merging 1 files totalling 437.9K...\n",
      "2022-04-19 13:52:14 Hail: INFO: while writing:\n",
      "    myb-extra-tests.csv\n",
      "  merge time: 10.157ms\n"
     ]
    }
   ],
   "source": [
    "control_AC_non_ref = hl.int32(myb.het_controls) + (hl.int32(myb.how_var_controls)*2)\n",
    "control_AC_ref = hl.int32(myb.het_controls) + (hl.int32(myb.hom_ref_controls)*2)\n",
    "speed_AC_non_ref = hl.int32(myb.het_speed) + (hl.int32(myb.how_var_speed)*2)\n",
    "speed_AC_ref = hl.int32(myb.het_speed) + (hl.int32(myb.hom_ref_speed)*2)\n",
    "endurance_AC_non_ref = hl.int32(myb.het_endurance) + (hl.int32(myb.hom_var_endurance)*2)\n",
    "endurance_AC_ref = hl.int32(myb.het_endurance) + (hl.int32(myb.hom_ref_endurance)*2)\n",
    "\n",
    "myb = myb.annotate(\n",
    "    fisher_speed_vs_controls = hl.fisher_exact_test(\n",
    "        speed_AC_non_ref,\n",
    "        speed_AC_ref,\n",
    "        control_AC_non_ref,\n",
    "        control_AC_ref\n",
    "    ),\n",
    "    fisher_endurance_vs_controls = hl.fisher_exact_test(\n",
    "        endurance_AC_non_ref,\n",
    "        endurance_AC_ref,\n",
    "        control_AC_non_ref,\n",
    "        control_AC_ref\n",
    "    )\n",
    ")\n",
    "\n",
    "myb = myb.flatten()\n",
    "myb.export('/net/archive/groups/plggneuromol/imdik-zekanowski-sportwgs/results/hail-mts/myb-extra-tests.csv')\n",
    "myb.export('myb-extra-tests.csv')"
   ]
  },
  {
   "cell_type": "code",
   "execution_count": 72,
   "metadata": {},
   "outputs": [],
   "source": [
    "mt = hl.read_matrix_table('/net/archive/groups/plggneuromol/imdik-zekanowski-sportwgs/results/hail-mts/myb.mt')\n",
    "\n",
    "mt = mt.annotate_entries(burden_entry = hl.if_else(mt.GT.is_non_ref(), ((mt.GT.n_alt_alleles())*(mt.cadd.cadd_score)), 0))\n",
    "\n",
    "mt = mt.annotate_cols(burden_all = hl.agg.sum(mt.burden_entry))\n",
    "\n",
    "columns = mt.cols()"
   ]
  },
  {
   "cell_type": "code",
   "execution_count": 73,
   "metadata": {},
   "outputs": [
    {
     "data": {
      "text/plain": [
       "frozendict({'GTS': Struct(mean=17.330243902439022, stdev=10.469869032144945, min=0.0, max=44.47500000000001, n=41, sum=710.54), 'sport': Struct(mean=20.57479207920792, stdev=13.945145838668003, min=0.0, max=89.811, n=101, sum=2078.054)})"
      ]
     },
     "execution_count": 73,
     "metadata": {},
     "output_type": "execute_result"
    }
   ],
   "source": [
    "columns.aggregate(hl.agg.group_by(columns.group, hl.agg.stats(columns.burden_all)))"
   ]
  },
  {
   "cell_type": "code",
   "execution_count": 75,
   "metadata": {},
   "outputs": [
    {
     "data": {
      "text/plain": [
       "frozendict({'endurance': Struct(mean=20.0169375, stdev=12.786128364700305, min=0.0, max=57.098, n=48, sum=960.813), 'speed': Struct(mean=21.08001886792453, stdev=14.89930124800788, min=0.0, max=89.811, n=53, sum=1117.241), None: Struct(mean=17.330243902439022, stdev=10.469869032144945, min=0.0, max=44.47500000000001, n=41, sum=710.54)})"
      ]
     },
     "execution_count": 75,
     "metadata": {},
     "output_type": "execute_result"
    }
   ],
   "source": [
    "columns.aggregate(hl.agg.group_by(columns.sport_phenotypes.type, hl.agg.stats(columns.burden_all)))"
   ]
  },
  {
   "cell_type": "code",
   "execution_count": 76,
   "metadata": {},
   "outputs": [
    {
     "name": "stderr",
     "output_type": "stream",
     "text": [
      "2021-12-06 13:20:48 Hail: INFO: Coerced sorted dataset\n",
      "2021-12-06 13:20:48 Hail: INFO: Coerced sorted dataset\n",
      "2021-12-06 13:20:49 Hail: INFO: Coerced sorted dataset\n"
     ]
    },
    {
     "data": {
      "text/plain": [
       "Ttest_indResult(statistic=1.3344378470157399, pvalue=0.18422675688029458)"
      ]
     },
     "execution_count": 76,
     "metadata": {},
     "output_type": "execute_result"
    }
   ],
   "source": [
    "group = np.array(columns.group.collect())\n",
    "pheno = np.array(columns.sport_phenotypes.type.collect())\n",
    "burden_all_test = np.array(columns.burden_all.collect())\n",
    "\n",
    "from scipy import stats\n",
    "\n",
    "stats.ttest_ind(burden_all_test[group == 'sport'], burden_all_test[group == 'GTS'])"
   ]
  },
  {
   "cell_type": "code",
   "execution_count": 77,
   "metadata": {},
   "outputs": [
    {
     "data": {
      "text/plain": [
       "Ttest_indResult(statistic=-0.3790645445539198, pvalue=0.7054517209972033)"
      ]
     },
     "execution_count": 77,
     "metadata": {},
     "output_type": "execute_result"
    }
   ],
   "source": [
    "stats.ttest_ind(burden_all_test[pheno == 'endurance'], burden_all_test[pheno == 'speed'])"
   ]
  },
  {
   "cell_type": "markdown",
   "metadata": {},
   "source": [
    "## HFE\n",
    "chr6:26,087,281-26,098,343 (chr6:26090951)"
   ]
  },
  {
   "cell_type": "code",
   "execution_count": 45,
   "metadata": {},
   "outputs": [
    {
     "name": "stderr",
     "output_type": "stream",
     "text": [
      "2021-12-06 12:12:42 Hail: INFO: wrote matrix table with 220 rows and 789 columns in 3 partitions to hfe-3.mt\n",
      "    Total size: 268.43 KiB\n",
      "    * Rows/entries: 265.21 KiB\n",
      "    * Columns: 3.22 KiB\n",
      "    * Globals: 11.00 B\n",
      "    * Smallest partition: 2 rows (4.95 KiB)\n",
      "    * Largest partition:  134 rows (155.24 KiB)\n"
     ]
    }
   ],
   "source": [
    "chr6 = hl.read_matrix_table('/net/archive/groups/plggneuromol/imdik-zekanowski-sportwgs/data/joint/dense-all_chr6.mt')\n",
    "\n",
    "hfe = hl.filter_intervals(chr6, [(hl.parse_locus_interval('chr6:26087281-26098343', reference_genome='GRCh38'))])\n",
    "hfe = hfe.naive_coalesce(5)\n",
    "hfe.write('hfe-3.mt')"
   ]
  },
  {
   "cell_type": "code",
   "execution_count": 46,
   "metadata": {},
   "outputs": [],
   "source": [
    "mt = hl.read_matrix_table('/net/archive/groups/plggneuromol/imdik-zekanowski-sportwgs/preprocessing/joint-with-gts/hfe-3.mt')\n",
    "\n",
    "rpmk = hl.read_table('/net/archive/groups/plggneuromol/imdik-zekanowski-gts/data/external-data/repeatmasker-extended-keyed.ht')\n",
    "cov = hl.read_table('/net/archive/groups/plggneuromol/ifpan-gosborcz-ukb/raw/gnomad/gnomad.genomes.r3.0.1.coverage.ht')\n",
    "\n",
    "cov = cov.filter(cov.over_1 > 0.9)\n",
    "\n",
    "mt = mt.annotate_cols(group = hl.if_else(\n",
    "     mt.s.contains('B'), 'sport', hl.if_else(\n",
    "     mt.s.contains('HG'), '1kg', hl.if_else(\n",
    "           mt.s.contains('NA'), '1kg', 'GTS'))))\n",
    "\n",
    "mt = mt.annotate_rows(dp_qc = hl.agg.group_by(mt.group, hl.agg.stats(mt.DP)),\n",
    "                      gq_qc = hl.agg.group_by(mt.group, hl.agg.stats(mt.GQ)),\n",
    "                      hwe = hl.agg.group_by(mt.group, hl.agg.hardy_weinberg_test(mt.GT)))\n",
    "\n",
    "mt = mt.annotate_rows(n_below_dp_3 = hl.agg.group_by(mt.group, hl.agg.count_where(mt.DP < 3)),\n",
    "                      n_below_gq_30 = hl.agg.group_by(mt.group, hl.agg.count_where(mt.GQ <30)))"
   ]
  },
  {
   "cell_type": "code",
   "execution_count": 47,
   "metadata": {},
   "outputs": [
    {
     "name": "stderr",
     "output_type": "stream",
     "text": [
      "2021-12-06 12:13:43 Hail: INFO: wrote matrix table with 34 rows and 142 columns in 3 partitions to /net/archive/groups/plggneuromol/imdik-zekanowski-sportwgs/preprocessing/joint-with-gts/hfe-selected-5.mt\n",
      "    Total size: 36.04 KiB\n",
      "    * Rows/entries: 35.39 KiB\n",
      "    * Columns: 647.00 B\n",
      "    * Globals: 11.00 B\n",
      "    * Smallest partition: 1 rows (2.22 KiB)\n",
      "    * Largest partition:  24 rows (23.19 KiB)\n",
      "2021-12-06 12:13:45 Hail: INFO: wrote matrix table with 35 rows and 142 columns in 4 partitions to /net/archive/groups/plggneuromol/imdik-zekanowski-sportwgs/preprocessing/joint-with-gts/hfe-joined-5.mt\n",
      "2021-12-06 12:13:45 Hail: INFO: Reading table to impute column types\n",
      "2021-12-06 12:13:46 Hail: INFO: Finished type imputation\n",
      "  Loading field 'f0' as type str (imputed)\n",
      "  Loading field 'f1' as type str (imputed)\n",
      "2021-12-06 12:13:46 Hail: INFO: Reading table to impute column types\n",
      "2021-12-06 12:13:47 Hail: INFO: Finished type imputation\n",
      "  Loading field 'sport' as type str (imputed)\n",
      "  Loading field 'type' as type str (imputed)\n",
      "  Loading field 'age' as type int32 (imputed)\n",
      "  Loading field 'sample_id' as type str (imputed)\n",
      "2021-12-06 12:13:50 Hail: INFO: Ordering unsorted dataset with network shuffle\n",
      "2021-12-06 12:13:50 Hail: INFO: Ordering unsorted dataset with network shuffle\n",
      "2021-12-06 12:13:51 Hail: INFO: Ordering unsorted dataset with network shuffle\n",
      "2021-12-06 12:13:51 Hail: INFO: Ordering unsorted dataset with network shuffle\n",
      "2021-12-06 12:13:52 Hail: INFO: Ordering unsorted dataset with network shuffle\n",
      "2021-12-06 12:13:53 Hail: INFO: Ordering unsorted dataset with network shuffle\n",
      "2021-12-06 12:14:04 Hail: INFO: wrote matrix table with 35 rows and 142 columns in 4 partitions to /net/archive/groups/plggneuromol/imdik-zekanowski-sportwgs/results/hail-mts/hfe-5.mt\n",
      "    Total size: 281.00 KiB\n",
      "    * Rows/entries: 279.84 KiB\n",
      "    * Columns: 1.15 KiB\n",
      "    * Globals: 11.00 B\n",
      "    * Smallest partition: 1 rows (9.79 KiB)\n",
      "    * Largest partition:  25 rows (186.01 KiB)\n",
      "2021-12-06 12:14:10 Hail: INFO: wrote table with 35 rows in 4 partitions to /net/archive/groups/plggneuromol/imdik-zekanowski-sportwgs/preprocessing/joint-with-gts/hfe-to-export-5.mt\n"
     ]
    }
   ],
   "source": [
    "snp1 = mt.filter_rows(mt.locus.position == 26090951)\n",
    "\n",
    "mt = mt.filter_rows(hl.is_defined(rpmk[mt.locus]), keep = False)\n",
    "mt = mt.filter_rows(hl.is_defined(cov[mt.locus]), keep = True)\n",
    "\n",
    "mt = mt.filter_rows((mt.dp_qc.get('GTS', hl.struct(mean=6.0, stdev=0.0, min=0.0, max=0.0, n=0, sum=0.0)).mean > 5) &\n",
    "                    (mt.dp_qc.get('sport', hl.struct(mean=6.0, stdev=0.0, min=0.0, max=0.0, n=0, sum=0.0)).mean > 5) &\n",
    "                    (mt.gq_qc.get('GTS', hl.struct(mean=60.0, stdev=0.0, min=0.0, max=0.0, n=0, sum=0.0)).mean > 50) &\n",
    "                    (mt.gq_qc.get('sport', hl.struct(mean=60.0, stdev=0.0, min=0.0, max=0.0, n=0, sum=0.0)).mean > 50) &\n",
    "                    (mt.hwe.get('GTS', hl.struct(het_freq_hwe=0.0, p_value=0.5)).p_value > 0.05) &\n",
    "                    (mt.hwe.get('sport', hl.struct(het_freq_hwe=0.0, p_value=0.5)).p_value > 0.05) &\n",
    "                    (mt.n_below_dp_3.get('sport', 0) < 3) &\n",
    "                    (mt.n_below_gq_30.get('sport', 0) < 30) &\n",
    "                    (mt.n_below_dp_3.get('GTS', 0) < 3) &\n",
    "                    (mt.n_below_gq_30.get('GTS', 0) <30))\n",
    "\n",
    "### At this stage we have 1) single SNP 2) other variants in the mt. First we will select unrelated individuals from GTS cohort:\n",
    "\n",
    "healthy_unrelated = ['S_7212', 'S_7213','S_7227','S_7255','S_7237','S_7245','S_7246','S_7229','S_7254','WGS_147c','S_7261','S_7263','S_7269','S_7274','S_7294','S_7306','WGS_37b','WGS_37c','WGS_85b','WGS_7118',\n",
    "'WGS_7120','WGS_7142','WGS_7143','WGS_7152','WGS_7153','WGS_163d','WGS_180b','WGS_6819','WGS_D6813','WGS_D6815','462','468','475','476','477','478','479','482','490','492','494']\n",
    "\n",
    "mt = mt.filter_cols(((mt.s.contains('B')) | hl.literal(healthy_unrelated).contains(mt.s)))\n",
    "mt = mt.filter_cols(mt.s == 'B454', keep = False)\n",
    "\n",
    "mt = mt.filter_rows(hl.agg.any(mt.GT.is_non_ref()))\n",
    "\n",
    "mt.write('/net/archive/groups/plggneuromol/imdik-zekanowski-sportwgs/preprocessing/joint-with-gts/hfe-selected-5.mt')\n",
    "\n",
    "snp1 = snp1.filter_cols(((snp1.s.contains('B')) | hl.literal(healthy_unrelated).contains(snp1.s)))\n",
    "snp1 = snp1.filter_cols(snp1.s == 'B454', keep = False)\n",
    "\n",
    "\n",
    "mt = hl.read_matrix_table('/net/archive/groups/plggneuromol/imdik-zekanowski-sportwgs/preprocessing/joint-with-gts/hfe-selected-5.mt')\n",
    "mt = mt.union_rows(snp1)\n",
    "\n",
    "mt.checkpoint('/net/archive/groups/plggneuromol/imdik-zekanowski-sportwgs/preprocessing/joint-with-gts/hfe-joined-5.mt')\n",
    "\n",
    "genes = hl.read_table('/net/archive/groups/plggneuromol/imdik-zekanowski-gts/data/external-data/genecode_v32.ht')\n",
    "genes = genes.filter(hl.is_valid_contig(genes['hg38.knownGene.chrom'], reference_genome='GRCh38'))\n",
    "hpo = hl.import_table('/net/archive/groups/plggneuromol/imdik-zekanowski-gts/data/external-data/hpo.tsv', impute = True, no_header=True)\n",
    "\n",
    "start = genes['hg38.knownGene.txStart']\n",
    "stop =  genes['hg38.knownGene.txEnd']\n",
    "\n",
    "genes = genes.transmute(interval = \n",
    "                        hl.locus_interval(genes['hg38.knownGene.chrom'], \n",
    "                                          start,\n",
    "                                          stop,\n",
    "                                          reference_genome='GRCh38', includes_start=False))\n",
    "\n",
    "genes = genes.key_by(genes['hg38.kgXref.geneSymbol'])\n",
    "\n",
    "hpo = hpo.key_by(hpo.f0)\n",
    "\n",
    "genes = genes.annotate(hpo = hpo.index(genes['hg38.kgXref.geneSymbol'], all_matches = True)['f1'])\n",
    "genes = genes.key_by(genes.interval)\n",
    "\n",
    "gnomad = hl.read_table('/net/archive/groups/plggneuromol/ifpan-gosborcz-ukb/raw/gnomad/gnomad.genomes.v3.1.1.sites.ht/')\n",
    "cadd = hl.read_table('/net/archive/groups/plggneuromol/imdik-zekanowski-gts/data/external-data/cadd-full.ht')\n",
    "vep = hl.read_table('/net/archive/groups/plggneuromol/imdik-zekanowski-sportwgs/data/external-data/vep38/grch38_context_vep_annotated.ht')\n",
    "sport_pheno = hl.import_table('/net/archive/groups/plggneuromol/imdik-zekanowski-sportwgs/data/external-data/sporstmen-pheno.csv', impute = True, key='sample_id', quote =\"\\\"\")\n",
    "poles = hl.read_matrix_table('/net/archive/groups/plggneuromol/imdik-zekanowski-sportwgs/data/external-data/polish-genomes/polish-genomes.mt')\n",
    "\n",
    "mt = mt.distinct_by_row()\n",
    "mt = mt.key_rows_by(mt.locus, mt.alleles)\n",
    "mt = hl.split_multi_hts(mt)\n",
    "mt = mt.annotate_rows(gnomad_v_3_1 = gnomad[mt.row_key])\n",
    "mt = mt.annotate_rows(within_gene = hl.array(hl.set(genes.index(mt.locus, all_matches=True)['hg38.kgXref.geneSymbol'])))\n",
    "mt = mt.annotate_rows(hpo = hl.array(hl.set(genes.index(mt.locus, all_matches=True)['hpo'])))\n",
    "mt = mt.annotate_rows(cadd = cadd[mt.row_key])\n",
    "mt = mt.annotate_rows(vep = vep[mt.row_key])\n",
    "mt = mt.annotate_cols(sport_phenotypes = sport_pheno[mt.s])\n",
    "mt = mt.annotate_rows(polish_af = poles.rows()[mt.row_key]['info'])\n",
    "\n",
    "mt.write('/net/archive/groups/plggneuromol/imdik-zekanowski-sportwgs/results/hail-mts/hfe-5.mt')\n",
    "\n",
    "mt = hl.read_matrix_table('/net/archive/groups/plggneuromol/imdik-zekanowski-sportwgs/results/hail-mts/hfe-5.mt')\n",
    "\n",
    "mt = mt.annotate_cols(group = hl.if_else(\n",
    "     mt.s.contains('B'), 'sport', hl.if_else(\n",
    "     mt.s.contains('HG'), '1kg', hl.if_else(\n",
    "           mt.s.contains('NA'), '1kg', 'control'))))\n",
    "\n",
    "mt = mt.annotate_rows(het_non_refs = hl.agg.group_by(mt.group, hl.agg.count_where(mt.GT.is_het())))\n",
    "mt = mt.annotate_rows(hom_refs = hl.agg.group_by(mt.group, hl.agg.count_where(mt.GT.is_hom_ref())))\n",
    "mt = mt.annotate_rows(hom_non_refs = hl.agg.group_by(mt.group, hl.agg.count_where(mt.GT.is_hom_var())))\n",
    "\n",
    "mt = mt.annotate_rows(het_non_refs_e_vs_s = hl.agg.group_by(mt.sport_phenotypes.type, hl.agg.count_where(mt.GT.is_het())))\n",
    "mt = mt.annotate_rows(hom_refs_e_vs_s = hl.agg.group_by(mt.sport_phenotypes.type, hl.agg.count_where(mt.GT.is_hom_ref())))\n",
    "mt = mt.annotate_rows(hom_non_refs_e_vs_s = hl.agg.group_by(mt.sport_phenotypes.type, hl.agg.count_where(mt.GT.is_hom_var())))\n",
    "\n",
    "sport_AC_non_ref = hl.int32(mt.het_non_refs.get('sport', 0) + (mt.hom_non_refs.get('sport', 0)*2))\n",
    "sport_AC_ref = hl.int32(mt.het_non_refs.get('sport', 0) + (mt.hom_refs.get('sport', 0)*2))\n",
    "control_AC_non_ref = hl.int32(mt.het_non_refs.get('control', 0) + (mt.hom_non_refs.get('control', 0)*2))\n",
    "control_AC_ref = hl.int32(mt.het_non_refs.get('control', 0) + (mt.hom_refs.get('control', 0)*2))\n",
    "speed_AC_non_ref = hl.int32(mt.het_non_refs_e_vs_s.get('speed', 0) + (mt.hom_non_refs_e_vs_s.get('speed', 0)*2))\n",
    "speed_AC_ref = hl.int32(mt.het_non_refs_e_vs_s.get('speed', 0) + (mt.hom_refs_e_vs_s.get('speed', 0)*2))\n",
    "endurance_AC_non_ref = hl.int32(mt.het_non_refs_e_vs_s.get('endurance', 0) + (mt.hom_non_refs_e_vs_s.get('endurance', 0)*2))\n",
    "endurance_AC_ref = hl.int32(mt.het_non_refs_e_vs_s.get('endurance', 0) + (mt.hom_refs_e_vs_s.get('endurance', 0)*2))\n",
    "gnomad_AC_non_ref = mt.gnomad_v_3_1.freq.AC[2]\n",
    "gnomad_AC_ref = mt.gnomad_v_3_1.freq.AN[2] - mt.gnomad_v_3_1.freq.AC[2]\n",
    "polish_AC_non_ref = hl.int32(mt.polish_af.AC[0])\n",
    "polish_AC_ref = hl.int32(mt.polish_af.AN - mt.polish_af.AC[0])\n",
    "\n",
    "mt = mt.annotate_rows(fisher_sport_vs_control = hl.fisher_exact_test(sport_AC_non_ref, sport_AC_ref, control_AC_non_ref, control_AC_ref),\n",
    "                              fisher_e_vs_s = hl.fisher_exact_test(speed_AC_non_ref, speed_AC_ref, endurance_AC_non_ref, endurance_AC_ref),\n",
    "                              fisher_sport_vs_gnomad = hl.fisher_exact_test(sport_AC_non_ref, sport_AC_ref, gnomad_AC_non_ref, gnomad_AC_ref),\n",
    "                              fisher_sport_vs_polish = hl.fisher_exact_test(sport_AC_non_ref, sport_AC_ref, polish_AC_non_ref, polish_AC_ref))\n",
    "\n",
    "mt = mt.drop(mt['a_index'], mt['was_split'])\n",
    "\n",
    "mt = mt.transmute_rows(DP_stats = mt.dp_qc,\n",
    "                             GQ_stats = mt.gq_qc, \n",
    "                             hwe_controls_p_value = mt.hwe.get('GTS', hl.struct(het_freq_hwe=0.0, p_value=1)).p_value,\n",
    "                             hwe_sport_p_value = mt.hwe.get('sport', hl.struct(het_freq_hwe=0.0, p_value=1)).p_value,\n",
    "                             gnomad_v3_nfe_af = mt.gnomad_v_3_1.freq.AF[2],\n",
    "                             gnomad_v3_nfe_homozygote_count = mt.gnomad_v_3_1.freq.homozygote_count[2],\n",
    "                             cadd = mt.cadd.cadd_score,\n",
    "                             within_gene = mt.within_gene,\n",
    "                             hpo = mt.hpo,\n",
    "                             fisher_sport_vs_control  = mt.fisher_sport_vs_control,\n",
    "                             fisher_e_vs_s = mt.fisher_e_vs_s ,\n",
    "                             fisher_sport_vs_gnomad  = mt.fisher_sport_vs_gnomad,\n",
    "                             fisher_sport_vs_polish = mt.fisher_sport_vs_polish,                         \n",
    "                             het_sport = mt.het_non_refs.get('sport', 0),\n",
    "                             het_controls = mt.het_non_refs.get('control', 0),\n",
    "                             hom_ref_sport = mt.hom_refs.get('sport', 0),\n",
    "                             hom_ref_controls = mt.hom_refs.get('control', 0),\n",
    "                             hom_var_sport = mt.hom_non_refs.get('sport', 0),\n",
    "                             how_var_controls = mt.hom_non_refs.get('control',0),\n",
    "                             het_endurance = mt.het_non_refs_e_vs_s.get('endurance', 0),\n",
    "                             het_speed = mt.het_non_refs_e_vs_s.get('speed', 0),\n",
    "                             hom_ref_endurance = mt.hom_refs_e_vs_s.get('endurance', 0),\n",
    "                             hom_ref_speed = mt.hom_refs_e_vs_s.get('speed', 0),\n",
    "                             hom_var_endurance = mt.hom_non_refs_e_vs_s.get('endurance', 0),\n",
    "                             how_var_speed = mt.hom_non_refs_e_vs_s.get('speed',0),\n",
    "                             most_severe_consequence = mt.vep.vep.most_severe_consequence,\n",
    "                             transcript_consequences = mt.vep.vep.transcript_consequences,\n",
    "                             intergenic_consequences = mt.vep.vep.intergenic_consequences,\n",
    "                             motif_feature_consequences = mt.vep.vep.motif_feature_consequences,\n",
    "                             regulatory_feature_consequences = mt.vep.vep.regulatory_feature_consequences,\n",
    "                             polish_af = mt.polish_af)\n",
    "\n",
    "mt = mt.select_entries(mt.GT)\n",
    "\n",
    "mt = mt.make_table()\n",
    "mt.write('/net/archive/groups/plggneuromol/imdik-zekanowski-sportwgs/preprocessing/joint-with-gts/hfe-to-export-5.mt')\n",
    "\n",
    "mt = hl.read_table('/net/archive/groups/plggneuromol/imdik-zekanowski-sportwgs/preprocessing/joint-with-gts/hfe-to-export-5.mt')"
   ]
  },
  {
   "cell_type": "code",
   "execution_count": 56,
   "metadata": {},
   "outputs": [],
   "source": [
    "mt = hl.read_table('/net/archive/groups/plggneuromol/imdik-zekanowski-sportwgs/preprocessing/joint-with-gts/hfe-to-export-5.mt')"
   ]
  },
  {
   "cell_type": "code",
   "execution_count": 55,
   "metadata": {},
   "outputs": [
    {
     "name": "stderr",
     "output_type": "stream",
     "text": [
      "2021-12-06 12:19:04 Hail: INFO: merging 4 files totalling 543.2K...\n",
      "2021-12-06 12:19:04 Hail: INFO: while writing:\n",
      "    /net/archive/groups/plggneuromol/imdik-zekanowski-sportwgs/results/hail-mts/hfe-single.csv\n",
      "  merge time: 17.113ms\n",
      "2021-12-06 12:19:04 Hail: INFO: merging 4 files totalling 543.2K...\n",
      "2021-12-06 12:19:04 Hail: INFO: while writing:\n",
      "    hfe-single.csv\n",
      "  merge time: 16.688ms\n"
     ]
    }
   ],
   "source": [
    "to_export = mt.flatten()\n",
    "to_export.export('/net/archive/groups/plggneuromol/imdik-zekanowski-sportwgs/results/hail-mts/hfe-single.csv')\n",
    "to_export.export('hfe-single.csv')"
   ]
  },
  {
   "cell_type": "markdown",
   "metadata": {},
   "source": [
    "#### Add speed vs controls and endurance vs controls"
   ]
  },
  {
   "cell_type": "code",
   "execution_count": 2,
   "metadata": {},
   "outputs": [
    {
     "name": "stderr",
     "output_type": "stream",
     "text": [
      "2022-04-20 13:43:15 Hail: INFO: Loading 193 fields. Counts by type:\n",
      "  str: 193\n"
     ]
    }
   ],
   "source": [
    "hfe = hl.import_table('/net/archive/groups/plggneuromol/imdik-zekanowski-sportwgs/results/hail-mts/hfe-single.csv')"
   ]
  },
  {
   "cell_type": "code",
   "execution_count": 3,
   "metadata": {},
   "outputs": [
    {
     "name": "stderr",
     "output_type": "stream",
     "text": [
      "2022-04-20 13:43:23 Hail: INFO: merging 1 files totalling 546.2K... (0 + 1) / 1]\n",
      "2022-04-20 13:43:23 Hail: INFO: while writing:\n",
      "    /net/archive/groups/plggneuromol/imdik-zekanowski-sportwgs/results/hail-mts/hfe-extra-tests.csv\n",
      "  merge time: 15.500ms\n",
      "2022-04-20 13:43:23 Hail: INFO: merging 1 files totalling 546.2K...\n",
      "2022-04-20 13:43:23 Hail: INFO: while writing:\n",
      "    hfe-extra-tests.csv\n",
      "  merge time: 12.968ms\n"
     ]
    }
   ],
   "source": [
    "control_AC_non_ref = hl.int32(hfe.het_controls) + (hl.int32(hfe.how_var_controls)*2)\n",
    "control_AC_ref = hl.int32(hfe.het_controls) + (hl.int32(hfe.hom_ref_controls)*2)\n",
    "speed_AC_non_ref = hl.int32(hfe.het_speed) + (hl.int32(hfe.how_var_speed)*2)\n",
    "speed_AC_ref = hl.int32(hfe.het_speed) + (hl.int32(hfe.hom_ref_speed)*2)\n",
    "endurance_AC_non_ref = hl.int32(hfe.het_endurance) + (hl.int32(hfe.hom_var_endurance)*2)\n",
    "endurance_AC_ref = hl.int32(hfe.het_endurance) + (hl.int32(hfe.hom_ref_endurance)*2)\n",
    "\n",
    "hfe = hfe.annotate(\n",
    "    fisher_speed_vs_controls = hl.fisher_exact_test(\n",
    "        speed_AC_non_ref,\n",
    "        speed_AC_ref,\n",
    "        control_AC_non_ref,\n",
    "        control_AC_ref\n",
    "    ),\n",
    "    fisher_endurance_vs_controls = hl.fisher_exact_test(\n",
    "        endurance_AC_non_ref,\n",
    "        endurance_AC_ref,\n",
    "        control_AC_non_ref,\n",
    "        control_AC_ref\n",
    "    )\n",
    ")\n",
    "\n",
    "hfe = hfe.flatten()\n",
    "hfe.export('/net/archive/groups/plggneuromol/imdik-zekanowski-sportwgs/results/hail-mts/hfe-extra-tests.csv')\n",
    "hfe.export('hfe-extra-tests.csv')"
   ]
  },
  {
   "cell_type": "code",
   "execution_count": 61,
   "metadata": {},
   "outputs": [],
   "source": [
    "mt = hl.read_matrix_table('/net/archive/groups/plggneuromol/imdik-zekanowski-sportwgs/results/hail-mts/hfe-5.mt')\n",
    "\n",
    "mt = mt.annotate_entries(burden_entry = hl.if_else(mt.GT.is_non_ref(), ((mt.GT.n_alt_alleles())*(mt.cadd.cadd_score)), 0))\n",
    "mt = mt.annotate_cols(burden_all = hl.agg.sum(mt.burden_entry))\n",
    "\n",
    "columns = mt.cols()"
   ]
  },
  {
   "cell_type": "code",
   "execution_count": 62,
   "metadata": {},
   "outputs": [
    {
     "data": {
      "text/plain": [
       "frozendict({'GTS': Struct(mean=19.969707317073173, stdev=15.678183358620721, min=0.0, max=50.456, n=41, sum=818.758), 'sport': Struct(mean=18.69779207920792, stdev=14.1567776059558, min=0.0, max=64.626, n=101, sum=1888.477)})"
      ]
     },
     "execution_count": 62,
     "metadata": {},
     "output_type": "execute_result"
    }
   ],
   "source": [
    "columns.aggregate(hl.agg.group_by(columns.group, hl.agg.stats(columns.burden_all)))"
   ]
  },
  {
   "cell_type": "code",
   "execution_count": 63,
   "metadata": {},
   "outputs": [
    {
     "data": {
      "text/plain": [
       "frozendict({'endurance': Struct(mean=19.082604166666666, stdev=13.058676797343697, min=0.0, max=51.019999999999996, n=48, sum=915.965), 'speed': Struct(mean=18.349283018867926, stdev=15.073975139451637, min=0.0, max=64.626, n=53, sum=972.5120000000001), None: Struct(mean=19.969707317073173, stdev=15.678183358620721, min=0.0, max=50.456, n=41, sum=818.758)})"
      ]
     },
     "execution_count": 63,
     "metadata": {},
     "output_type": "execute_result"
    }
   ],
   "source": [
    "columns.aggregate(hl.agg.group_by(columns.sport_phenotypes.type, hl.agg.stats(columns.burden_all)))"
   ]
  },
  {
   "cell_type": "code",
   "execution_count": 64,
   "metadata": {},
   "outputs": [
    {
     "name": "stderr",
     "output_type": "stream",
     "text": [
      "2021-12-06 12:25:49 Hail: INFO: Coerced sorted dataset\n",
      "2021-12-06 12:25:49 Hail: INFO: Coerced sorted dataset\n",
      "2021-12-06 12:25:50 Hail: INFO: Coerced sorted dataset\n"
     ]
    }
   ],
   "source": [
    "group = np.array(columns.group.collect())\n",
    "pheno = np.array(columns.sport_phenotypes.type.collect())\n",
    "burden_all_test = np.array(columns.burden_all.collect())"
   ]
  },
  {
   "cell_type": "code",
   "execution_count": 65,
   "metadata": {},
   "outputs": [
    {
     "data": {
      "text/plain": [
       "Ttest_indResult(statistic=-0.46673132195131334, pvalue=0.6414176157837872)"
      ]
     },
     "execution_count": 65,
     "metadata": {},
     "output_type": "execute_result"
    }
   ],
   "source": [
    "from scipy import stats\n",
    "\n",
    "stats.ttest_ind(burden_all_test[group == 'sport'], burden_all_test[group == 'GTS'])"
   ]
  },
  {
   "cell_type": "code",
   "execution_count": 66,
   "metadata": {},
   "outputs": [
    {
     "data": {
      "text/plain": [
       "Ttest_indResult(statistic=0.25747195646956944, pvalue=0.7973488688651403)"
      ]
     },
     "execution_count": 66,
     "metadata": {},
     "output_type": "execute_result"
    }
   ],
   "source": [
    "stats.ttest_ind(burden_all_test[pheno == 'endurance'], burden_all_test[pheno == 'speed'])"
   ]
  }
 ],
 "metadata": {
  "kernelspec": {
   "display_name": "Python 3 (ipykernel)",
   "language": "python",
   "name": "python3"
  },
  "language_info": {
   "codemirror_mode": {
    "name": "ipython",
    "version": 3
   },
   "file_extension": ".py",
   "mimetype": "text/x-python",
   "name": "python",
   "nbconvert_exporter": "python",
   "pygments_lexer": "ipython3",
   "version": "3.7.7"
  }
 },
 "nbformat": 4,
 "nbformat_minor": 2
}
