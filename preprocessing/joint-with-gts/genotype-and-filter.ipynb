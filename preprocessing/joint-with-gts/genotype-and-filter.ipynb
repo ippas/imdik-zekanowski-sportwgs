{
 "cells": [
  {
   "cell_type": "code",
   "execution_count": 1,
   "metadata": {},
   "outputs": [
    {
     "data": {
      "text/html": [
       "<style>.container { width:100% !important; }</style>"
      ],
      "text/plain": [
       "<IPython.core.display.HTML object>"
      ]
     },
     "metadata": {},
     "output_type": "display_data"
    },
    {
     "name": "stdout",
     "output_type": "stream",
     "text": [
      "2022-01-18 12:22:32 WARN  NativeCodeLoader:60 - Unable to load native-hadoop library for your platform... using builtin-java classes where applicable\n"
     ]
    },
    {
     "name": "stderr",
     "output_type": "stream",
     "text": [
      "Setting default log level to \"WARN\".\n",
      "To adjust logging level use sc.setLogLevel(newLevel). For SparkR, use setLogLevel(newLevel).\n",
      "Running on Apache Spark version 3.1.2\n",
      "SparkUI available at http://p1517.prometheus:4040\n",
      "Welcome to\n",
      "     __  __     <>__\n",
      "    / /_/ /__  __/ /\n",
      "   / __  / _ `/ / /\n",
      "  /_/ /_/\\_,_/_/_/   version 0.2.79-f141af259254\n",
      "LOGGING: writing to /net/archive/groups/plggneuromol/imdik-zekanowski-sportwgs/preprocessing/joint-with-gts/hail-20220118-1222-0.2.79-f141af259254.log\n"
     ]
    }
   ],
   "source": [
    "from IPython.display import display\n",
    "from IPython.display import HTML\n",
    "import IPython.core.display as di # Example: di.display_html('<h3>%s:</h3>' % str, raw=True)\n",
    "\n",
    "display(HTML(\"<style>.container { width:100% !important; }</style>\"))\n",
    "\n",
    "\n",
    "import hail as hl\n",
    "import sys\n",
    "import os\n",
    "\n",
    "hl.init(tmp_dir='temp', spark_conf={'spark.driver.memory': '20G', 'spark.executor.memory': '20G'}, default_reference='GRCh38') "
   ]
  },
  {
   "cell_type": "code",
   "execution_count": null,
   "metadata": {},
   "outputs": [],
   "source": [
    "from hail.plot import show\n",
    "from pprint import pprint\n",
    "from bokeh.layouts import gridplot\n",
    "hl.plot.output_notebook()\n",
    "import numpy as np\n",
    "import pandas as pd\n",
    "from functools import reduce\n",
    "from itertools import chain\n",
    "from bokeh.plotting import output_notebook, show, figure\n",
    "from bokeh.palettes import viridis\n",
    "\n",
    "output_notebook() "
   ]
  },
  {
   "cell_type": "markdown",
   "metadata": {},
   "source": [
    "## genotype all:"
   ]
  },
  {
   "cell_type": "code",
   "execution_count": null,
   "metadata": {
    "scrolled": true
   },
   "outputs": [],
   "source": [
    "sparse_sport = hl.read_matrix_table('/net/archive/groups/plggneuromol/imdik-zekanowski-sportwgs/data/joint/sport-sparse.mt')\n",
    "sparse_1kg = hl.read_matrix_table('/net/archive/groups/plggneuromol/imdik-zekanowski-sportwgs/data/external-data/1kg/1kg-europeans-sparse.ht/')\n",
    "sparse_gts = hl.read_matrix_table('/net/archive/groups/plggneuromol/imdik-zekanowski-gts/data/joint-gts-only/gts-sparse.mt/')\n",
    "\n",
    "sparse_1kg = sparse_1kg.key_rows_by(sparse_1kg.locus)\n",
    "sparse_gts = sparse_gts.key_rows_by(sparse_gts.locus)\n",
    "sparse_sport = sparse_sport.key_rows_by(sparse_sport.locus)\n",
    "\n",
    "sparse_sport = sparse_sport.drop(sparse_sport.gvcf_info)\n",
    "sparse_1kg = sparse_1kg.drop(sparse_1kg.gvcf_info)            \n",
    "sparse_gts = sparse_gts.drop(sparse_gts.gvcf_info)\n",
    "\n",
    "sparse_sport = sparse_sport.select_entries('DP', 'END', 'GQ', 'LA',\n",
    "                                           'LAD', 'LGT', 'LPGT', 'LPL',\n",
    "                                           'MIN_DP', 'PID', 'RGQ', 'SB')\n",
    "\n",
    "sparse_gts = sparse_gts.select_entries('DP', 'END', 'GQ', 'LA',\n",
    "                                           'LAD', 'LGT', 'LPGT', 'LPL',\n",
    "                                           'MIN_DP', 'PID', 'RGQ', 'SB')\n",
    "\n",
    "sparse_gts.naive_coalesce(20000).write('gts-sparse')\n",
    "sparse_sport.naive_coalesce(20000).write('sport-sparse')\n",
    "sparse_1kg.naive_coalesce(20000).write('1kg-sparse')"
   ]
  },
  {
   "cell_type": "code",
   "execution_count": null,
   "metadata": {},
   "outputs": [],
   "source": [
    "sparse_gts = hl.read_matrix_table('gts-sparse')\n",
    "sparse_sport = hl.read_matrix_table('sport-sparse')\n",
    "sparse_1kg = hl.read_matrix_table('1kg-sparse')"
   ]
  },
  {
   "cell_type": "code",
   "execution_count": null,
   "metadata": {},
   "outputs": [],
   "source": [
    "sparse_gts.naive_coalesce(5000).write('gts-sparse-repart')\n",
    "sparse_sport.naive_coalesce(5000).write('sport-sparse-repart')\n",
    "sparse_1kg.naive_coalesce(5000).write('1kg-sparse-repart')"
   ]
  },
  {
   "cell_type": "code",
   "execution_count": null,
   "metadata": {},
   "outputs": [],
   "source": [
    "sparse_gts = hl.read_matrix_table('gts-sparse-repart')\n",
    "sparse_sport = hl.read_matrix_table('sport-sparse-repart')\n",
    "sparse_1kg = hl.read_matrix_table('1kg-sparse-repart')"
   ]
  },
  {
   "cell_type": "code",
   "execution_count": null,
   "metadata": {
    "scrolled": true
   },
   "outputs": [],
   "source": [
    "sparse_1 = hl.experimental.vcf_combiner.vcf_combiner.combine_gvcfs([sparse_sport,sparse_gts])\n",
    "sparse_1.write('to-delete-01')\n",
    "sprarse_1 = hl.read_matrix_table('to-delete-01')\n",
    "sparse_all = hl.experimental.vcf_combiner.vcf_combiner.combine_gvcfs([sparse_1,sparse_1kg])\n",
    "sparse_all.write('/net/archive/groups/plggneuromol/imdik-zekanowski-sportwgs/data/joint/sparse_all.mt')"
   ]
  },
  {
   "cell_type": "code",
   "execution_count": null,
   "metadata": {},
   "outputs": [],
   "source": [
    "sparse = hl.read_matrix_table('/net/archive/groups/plggneuromol/imdik-zekanowski-sportwgs/data/joint/sparse_all.mt')"
   ]
  },
  {
   "cell_type": "code",
   "execution_count": null,
   "metadata": {},
   "outputs": [],
   "source": [
    "dense = hl.experimental.densify(sparse)\n",
    "dense = dense.annotate_entries(GT=hl.experimental.lgt_to_gt(dense.LGT, dense.LA))\n",
    "dense = dense.filter_rows(hl.agg.any(dense.GT.is_non_ref()))\n",
    "dense.write('/net/archive/groups/plggneuromol/imdik-zekanowski-sportwgs/data/joint/dense-all.mt')"
   ]
  },
  {
   "cell_type": "code",
   "execution_count": null,
   "metadata": {},
   "outputs": [],
   "source": [
    "mt = hl.read_matrix_table('/net/archive/groups/plggneuromol/imdik-zekanowski-sportwgs/data/joint/dense-all.mt')\n",
    "\n",
    "samples_to_keep = hl.import_table('/net/archive/groups/plggneuromol/matzieb/projects/imdik-zekanowski-sportwgs/data/prs-data/sportsmen-control-pheno.tsv')\n",
    "samples_to_keep = samples_to_keep.key_by(samples_to_keep['sample'])\n",
    "sample_filter = hl.literal(samples_to_keep['sample'].collect()).contains(mt.s)\n",
    "\n",
    "mt = mt.filter_cols(hl.if_else(mt.s.contains('B'), sample_filter,\n",
    "                          hl.if_else(mt.s.contains('HG'), sample_filter, hl.if_else(\n",
    "           mt.s.contains('NA'), sample_filter, True))))\n",
    "\n",
    "mt = mt.annotate_cols(group = hl.if_else(\n",
    "     mt.s.contains('B'), 'sport', hl.if_else(\n",
    "     mt.s.contains('HG'), '1kg', hl.if_else(\n",
    "           mt.s.contains('NA'), '1kg', 'GTS'))))\n",
    "\n",
    "mt = mt.filter_rows(hl.agg.any(mt.GT.is_non_ref()))\n",
    "\n",
    "rpmk = hl.read_table('/net/archive/groups/plggneuromol/imdik-zekanowski-gts/data/external-data/repeatmasker-extended-keyed.ht')\n",
    "cov = hl.read_table('/net/archive/groups/plggneuromol/ifpan-gosborcz-ukb/raw/gnomad/gnomad.genomes.r3.0.1.coverage.ht')\n",
    "\n",
    "cov = cov.filter(cov.over_1 > 0.9)"
   ]
  },
  {
   "cell_type": "code",
   "execution_count": null,
   "metadata": {},
   "outputs": [],
   "source": [
    "mt = mt.filter_rows(hl.is_defined(rpmk[mt.locus]), keep = False)\n",
    "mt = mt.filter_rows(hl.is_defined(cov[mt.locus]), keep = True)\n",
    "\n",
    "mt = mt.annotate_rows(dp_qc = hl.agg.group_by(mt.group, hl.agg.stats(mt.DP)),\n",
    "                      gq_qc = hl.agg.group_by(mt.group, hl.agg.stats(mt.GQ)),\n",
    "                      hwe = hl.agg.group_by(mt.group, hl.agg.hardy_weinberg_test(mt.GT)))\n",
    "\n",
    "mt = mt.annotate_rows(n_below_dp_3 = hl.agg.group_by(mt.group, hl.agg.count_where(mt.DP < 3)),\n",
    "                      n_below_gq_30 = hl.agg.group_by(mt.group, hl.agg.count_where(mt.GQ <30)))\n",
    "    \n",
    "mt = mt.filter_rows((mt.dp_qc.get('GTS', hl.struct(mean=0, stdev=0.0, min=0.0, max=0.0, n=0, sum=0.0)).mean > 5) &\n",
    "                    (mt.dp_qc.get('1kg', hl.struct(mean=0, stdev=0.0, min=0.0, max=0.0, n=0, sum=0.0)).mean > 5) &\n",
    "                    (mt.dp_qc.get('sport', hl.struct(mean=0, stdev=0.0, min=0.0, max=0.0, n=0, sum=0.0)).mean > 5) &\n",
    "                    (mt.gq_qc.get('GTS', hl.struct(mean=0.0, stdev=0.0, min=0.0, max=0.0, n=0, sum=0.0)).mean > 50) &\n",
    "                    (mt.gq_qc.get('1kg', hl.struct(mean=0.0, stdev=0.0, min=0.0, max=0.0, n=0, sum=0.0)).mean > 50) &\n",
    "                    (mt.gq_qc.get('sport', hl.struct(mean=0.0, stdev=0.0, min=0.0, max=0.0, n=0, sum=0.0)).mean > 50) &\n",
    "                    (mt.hwe.get('GTS', hl.struct(het_freq_hwe=0.0, p_value=0.5)).p_value > 0.05) &\n",
    "                    (mt.hwe.get('sport', hl.struct(het_freq_hwe=0.0, p_value=0.5)).p_value > 0.05) &\n",
    "                    (mt.hwe.get('1kg', hl.struct(het_freq_hwe=0.0, p_value=0.5)).p_value > 0.05) &\n",
    "                    (mt.n_below_dp_3.get('sport', 0) < 3) &\n",
    "                    (mt.n_below_gq_30.get('sport', 0) < 30) &\n",
    "                    (mt.n_below_dp_3.get('1kg', 0) < 3) &\n",
    "                    (mt.n_below_gq_30.get('1kg', 0) < 30) &\n",
    "                    (mt.n_below_dp_3.get('GTS', 0) < 3) &\n",
    "                    (mt.n_below_gq_30.get('GTS', 0) <30))"
   ]
  },
  {
   "cell_type": "code",
   "execution_count": null,
   "metadata": {},
   "outputs": [],
   "source": [
    "mt.write('filtered.mt')"
   ]
  },
  {
   "cell_type": "code",
   "execution_count": null,
   "metadata": {},
   "outputs": [],
   "source": [
    "mt = hl.read_matrix_table('filtered.mt')"
   ]
  },
  {
   "cell_type": "code",
   "execution_count": null,
   "metadata": {},
   "outputs": [],
   "source": [
    "genes = hl.read_table('/net/archive/groups/plggneuromol/imdik-zekanowski-gts/data/external-data/genecode_v32.ht')\n",
    "genes = genes.filter(hl.is_valid_contig(genes['hg38.knownGene.chrom'], reference_genome='GRCh38'))\n",
    "hpo = hl.import_table('/net/archive/groups/plggneuromol/imdik-zekanowski-gts/data/external-data/hpo.tsv', impute = True, no_header=True)\n",
    "\n",
    "start = genes['hg38.knownGene.txStart']\n",
    "stop =  genes['hg38.knownGene.txEnd']\n",
    "\n",
    "genes = genes.transmute(interval = \n",
    "                        hl.locus_interval(genes['hg38.knownGene.chrom'], \n",
    "                                          start,\n",
    "                                          stop,\n",
    "                                          reference_genome='GRCh38', includes_start=False))\n",
    "\n",
    "genes = genes.key_by(genes['hg38.kgXref.geneSymbol'])\n",
    "\n",
    "hpo = hpo.key_by(hpo.f0)\n",
    "\n",
    "genes = genes.annotate(hpo = hpo.index(genes['hg38.kgXref.geneSymbol'], all_matches = True)['f1'])\n",
    "genes = genes.key_by(genes.interval)\n",
    "\n",
    "gnomad = hl.read_table('/net/archive/groups/plggneuromol/ifpan-gosborcz-ukb/raw/gnomad/gnomad.genomes.v3.1.1.sites.ht/')\n",
    "cadd = hl.read_table('/net/archive/groups/plggneuromol/imdik-zekanowski-gts/data/external-data/cadd-full.ht')\n",
    "vep = hl.read_table('/net/archive/groups/plggneuromol/imdik-zekanowski-sportwgs/data/external-data/vep38/grch38_context_vep_annotated.ht')\n",
    "sport_pheno = hl.import_table('/net/archive/groups/plggneuromol/imdik-zekanowski-sportwgs/data/external-data/sportsmen-pheno.csv', impute = True, key='sample_id', quote =\"\\\"\")\n",
    "poles = hl.read_matrix_table('/net/archive/groups/plggneuromol/imdik-zekanowski-sportwgs/data/external-data/polish-genomes/polish-genomes.mt')\n",
    "\n",
    "mt = hl.read_matrix_table('filtered.mt')\n",
    "mt = mt.distinct_by_row()\n",
    "mt = mt.key_rows_by(mt.locus, mt.alleles)\n",
    "mt = hl.split_multi_hts(mt)\n",
    "mt = mt.annotate_rows(gnomad_v_3_1 = gnomad[mt.row_key])\n",
    "mt = mt.annotate_rows(within_gene = hl.array(hl.set(genes.index(mt.locus, all_matches=True)['hg38.kgXref.geneSymbol'])))\n",
    "mt = mt.annotate_rows(hpo = hl.array(hl.set(genes.index(mt.locus, all_matches=True)['hpo'])))\n",
    "mt = mt.annotate_rows(cadd = cadd[mt.row_key])\n",
    "mt = mt.annotate_rows(vep = vep[mt.row_key])\n",
    "mt = mt.annotate_cols(sport_phenotypes = sport_pheno[mt.s])\n",
    "mt = mt.annotate_rows(polish_af = poles.rows()[mt.row_key]['info'])\n",
    "\n",
    "mt = mt.annotate_cols(group = hl.if_else(\n",
    "     mt.s.contains('B'), 'sport', hl.if_else(\n",
    "     mt.s.contains('HG'), '1kg', hl.if_else(\n",
    "           mt.s.contains('NA'), '1kg', 'control'))))\n",
    "\n",
    "mt = mt.annotate_rows(het_non_refs = hl.agg.group_by(mt.group, hl.agg.count_where(mt.GT.is_het())))\n",
    "mt = mt.annotate_rows(hom_refs = hl.agg.group_by(mt.group, hl.agg.count_where(mt.GT.is_hom_ref())))\n",
    "mt = mt.annotate_rows(hom_non_refs = hl.agg.group_by(mt.group, hl.agg.count_where(mt.GT.is_hom_var())))\n",
    "\n",
    "mt = mt.annotate_rows(het_non_refs_e_vs_s = hl.agg.group_by(mt.sport_phenotypes.type, hl.agg.count_where(mt.GT.is_het())))\n",
    "mt = mt.annotate_rows(hom_refs_e_vs_s = hl.agg.group_by(mt.sport_phenotypes.type, hl.agg.count_where(mt.GT.is_hom_ref())))\n",
    "mt = mt.annotate_rows(hom_non_refs_e_vs_s = hl.agg.group_by(mt.sport_phenotypes.type, hl.agg.count_where(mt.GT.is_hom_var())))\n",
    "\n",
    "mt = mt.filter_cols(mt.s != '464')\n",
    "\n",
    "mt.write('temp-anno.mt')"
   ]
  },
  {
   "cell_type": "markdown",
   "metadata": {},
   "source": [
    "### Perform PCA to check:"
   ]
  },
  {
   "cell_type": "code",
   "execution_count": null,
   "metadata": {},
   "outputs": [],
   "source": [
    "mt = hl.read_matrix_table('/net/archive/groups/plggneuromol/imdik-zekanowski-sportwgs/preprocessing/joint-with-gts/temp-anno.mt')\n",
    "\n",
    "subset = mt.sample_rows(0.005)\n",
    "subset.write('temp-for-pca.mt')"
   ]
  },
  {
   "cell_type": "code",
   "execution_count": null,
   "metadata": {},
   "outputs": [],
   "source": [
    "subset = hl.read_matrix_table('/net/archive/groups/plggneuromol/imdik-zekanowski-sportwgs/preprocessing/joint-with-gts/temp-for-pca.mt')\n",
    "\n",
    "eigenvalues, pcs, _ = hl.hwe_normalized_pca(subset.GT)\n",
    "mt = mt.annotate_cols(scores = pcs[mt.s].scores)\n",
    "mt.write('/net/archive/groups/plggneuromol/imdik-zekanowski-sportwgs/data/joint/full.mt')"
   ]
  },
  {
   "cell_type": "code",
   "execution_count": null,
   "metadata": {},
   "outputs": [],
   "source": [
    "mt = hl.read_matrix_table('/net/archive/groups/plggneuromol/imdik-zekanowski-sportwgs/data/joint/full.mt')\n",
    "\n",
    "mt.aggregate_cols(hl.agg.counter(mt.group))\n",
    "\n",
    "p = hl.plot.scatter(mt.scores[0],\n",
    "                    mt.scores[1],\n",
    "                    label=mt.group,\n",
    "                    title='PCA', xlabel='PC1', ylabel='PC2')\n",
    "\n",
    "show(p) #this shows families mainly so we are removing related individuals"
   ]
  },
  {
   "cell_type": "markdown",
   "metadata": {},
   "source": [
    "### Selecting the matrixtable to contain only unrelated healthy controls from GTS:"
   ]
  },
  {
   "cell_type": "code",
   "execution_count": null,
   "metadata": {},
   "outputs": [],
   "source": [
    "mt = hl.read_matrix_table('/net/archive/groups/plggneuromol/imdik-zekanowski-sportwgs/data/joint/full.mt')"
   ]
  },
  {
   "cell_type": "code",
   "execution_count": null,
   "metadata": {},
   "outputs": [],
   "source": [
    "pheno = hl.import_table('/net/archive/groups/plggneuromol/imdik-zekanowski-gts/data/pheno/GTS-coded-corrected-june-2021.csv', impute = True, key='ID', delimiter = ',', quote =\"\\\"\")\n",
    "mt = mt.annotate_cols(gts_phenotypes = pheno[mt.s])"
   ]
  },
  {
   "cell_type": "code",
   "execution_count": null,
   "metadata": {},
   "outputs": [],
   "source": [
    "#first of all remove individuals with GTS:\n",
    "\n",
    "mt = mt.filter_cols(hl.if_else(hl.is_defined(mt.gts_phenotypes.disease), (mt.gts_phenotypes.disease != 'YES'), True))"
   ]
  },
  {
   "cell_type": "code",
   "execution_count": null,
   "metadata": {},
   "outputs": [],
   "source": [
    "mt.write('temp-subset.mt')"
   ]
  },
  {
   "cell_type": "code",
   "execution_count": null,
   "metadata": {},
   "outputs": [],
   "source": [
    "mt = hl.read_matrix_table('temp-subset.mt')"
   ]
  },
  {
   "cell_type": "code",
   "execution_count": null,
   "metadata": {},
   "outputs": [],
   "source": [
    "#to remove - based on kinship analisys and PCA + one outlier sportsmen\n",
    "samples_to_remove = [\"475\", \"477\", \"478\", \"479\", \"483\", \"S_7214\", \"S_7227\", \"S_7229\", \"S_7247\", \"S_7291\", \"WGS_180b\", \"WGS_6819\", \"WGS_163b\", \"WGS_163a\", \"WGS_D6813\", \"WGS_6814\", \"S_7237\"]"
   ]
  },
  {
   "cell_type": "code",
   "execution_count": null,
   "metadata": {},
   "outputs": [],
   "source": [
    "mt = mt.filter_cols(\n",
    "     hl.literal(samples_to_remove).contains(mt.s), keep = False)"
   ]
  },
  {
   "cell_type": "code",
   "execution_count": null,
   "metadata": {},
   "outputs": [],
   "source": [
    "mt = mt.filter_rows(hl.agg.any(mt.GT.is_non_ref()))"
   ]
  },
  {
   "cell_type": "code",
   "execution_count": null,
   "metadata": {},
   "outputs": [],
   "source": [
    "len(gts_controls)"
   ]
  },
  {
   "cell_type": "code",
   "execution_count": null,
   "metadata": {},
   "outputs": [],
   "source": [
    "subset = mt.sample_rows(0.02)"
   ]
  },
  {
   "cell_type": "code",
   "execution_count": null,
   "metadata": {
    "scrolled": true
   },
   "outputs": [],
   "source": [
    "subset.write('temp-for-pca-12.mt')"
   ]
  },
  {
   "cell_type": "code",
   "execution_count": null,
   "metadata": {},
   "outputs": [],
   "source": [
    "subset = hl.read_matrix_table('temp-for-pca-12.mt')"
   ]
  },
  {
   "cell_type": "code",
   "execution_count": null,
   "metadata": {
    "scrolled": true
   },
   "outputs": [],
   "source": [
    "eigenvalues, pcs, _ = hl.hwe_normalized_pca(subset.GT)"
   ]
  },
  {
   "cell_type": "code",
   "execution_count": null,
   "metadata": {},
   "outputs": [],
   "source": [
    "mt = mt.annotate_cols(scores = pcs[mt.s].scores)"
   ]
  },
  {
   "cell_type": "code",
   "execution_count": null,
   "metadata": {},
   "outputs": [],
   "source": [
    "p = hl.plot.scatter(mt.scores[0],\n",
    "                    mt.scores[1],\n",
    "                    label=mt.group,\n",
    "                    title='PCA', xlabel='PC1', ylabel='PC2')"
   ]
  },
  {
   "cell_type": "code",
   "execution_count": null,
   "metadata": {
    "scrolled": true
   },
   "outputs": [],
   "source": [
    "show(p)"
   ]
  },
  {
   "cell_type": "code",
   "execution_count": null,
   "metadata": {},
   "outputs": [],
   "source": [
    "mt.write('/net/archive/groups/plggneuromol/imdik-zekanowski-sportwgs/data/joint/full_healthy.mt')"
   ]
  },
  {
   "cell_type": "code",
   "execution_count": null,
   "metadata": {},
   "outputs": [],
   "source": []
  }
 ],
 "metadata": {
  "kernelspec": {
   "display_name": "Python 3 (ipykernel)",
   "language": "python",
   "name": "python3"
  },
  "language_info": {
   "codemirror_mode": {
    "name": "ipython",
    "version": 3
   },
   "file_extension": ".py",
   "mimetype": "text/x-python",
   "name": "python",
   "nbconvert_exporter": "python",
   "pygments_lexer": "ipython3",
   "version": "3.7.7"
  }
 },
 "nbformat": 4,
 "nbformat_minor": 2
}
