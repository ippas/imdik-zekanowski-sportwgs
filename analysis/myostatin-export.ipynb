{
 "cells": [
  {
   "cell_type": "code",
   "execution_count": 1,
   "id": "75c4da85",
   "metadata": {},
   "outputs": [
    {
     "data": {
      "text/html": [
       "<style>.container { width:100% !important; }</style>"
      ],
      "text/plain": [
       "<IPython.core.display.HTML object>"
      ]
     },
     "metadata": {},
     "output_type": "display_data"
    }
   ],
   "source": [
    "from IPython.display import display\n",
    "from IPython.display import HTML\n",
    "display(HTML(\"<style>.container { width:100% !important; }</style>\"))"
   ]
  },
  {
   "cell_type": "code",
   "execution_count": 2,
   "id": "656b1608",
   "metadata": {},
   "outputs": [
    {
     "name": "stdout",
     "output_type": "stream",
     "text": [
      "2022-04-25 10:05:58 WARN  NativeCodeLoader:60 - Unable to load native-hadoop library for your platform... using builtin-java classes where applicable\n"
     ]
    },
    {
     "name": "stderr",
     "output_type": "stream",
     "text": [
      "Setting default log level to \"WARN\".\n",
      "To adjust logging level use sc.setLogLevel(newLevel). For SparkR, use setLogLevel(newLevel).\n",
      "Running on Apache Spark version 3.1.2\n",
      "SparkUI available at http://p0577.prometheus:4040\n",
      "Welcome to\n",
      "     __  __     <>__\n",
      "    / /_/ /__  __/ /\n",
      "   / __  / _ `/ / /\n",
      "  /_/ /_/\\_,_/_/_/   version 0.2.85-9b98676b6ad8\n",
      "LOGGING: writing to /net/archive/groups/plggneuromol/imdik-zekanowski-sportwgs/analysis/hail-20220425-1005-0.2.85-9b98676b6ad8.log\n"
     ]
    }
   ],
   "source": [
    "import hail as hl\n",
    "import sys\n",
    "import os\n",
    "\n",
    "hl.init(tmp_dir=os.path.join(os.environ.get('SCRATCH'), 'hail-tmpdir'),\n",
    " local_tmpdir=os.path.join(os.environ.get('SCRATCH_LOCAL'), 'hail-local-tmpdir'),\n",
    " spark_conf={'spark.driver.memory': '20G', 'spark.executor.memory': '20G'}, default_reference='GRCh38') "
   ]
  },
  {
   "cell_type": "code",
   "execution_count": 3,
   "id": "4317ef28",
   "metadata": {},
   "outputs": [
    {
     "data": {
      "text/html": [
       "\n",
       "    <div class=\"bk-root\">\n",
       "        <a href=\"https://bokeh.org\" target=\"_blank\" class=\"bk-logo bk-logo-small bk-logo-notebook\"></a>\n",
       "        <span id=\"1001\">Loading BokehJS ...</span>\n",
       "    </div>"
      ]
     },
     "metadata": {},
     "output_type": "display_data"
    },
    {
     "data": {
      "application/javascript": [
       "\n",
       "(function(root) {\n",
       "  function now() {\n",
       "    return new Date();\n",
       "  }\n",
       "\n",
       "  var force = true;\n",
       "\n",
       "  if (typeof root._bokeh_onload_callbacks === \"undefined\" || force === true) {\n",
       "    root._bokeh_onload_callbacks = [];\n",
       "    root._bokeh_is_loading = undefined;\n",
       "  }\n",
       "\n",
       "  var JS_MIME_TYPE = 'application/javascript';\n",
       "  var HTML_MIME_TYPE = 'text/html';\n",
       "  var EXEC_MIME_TYPE = 'application/vnd.bokehjs_exec.v0+json';\n",
       "  var CLASS_NAME = 'output_bokeh rendered_html';\n",
       "\n",
       "  /**\n",
       "   * Render data to the DOM node\n",
       "   */\n",
       "  function render(props, node) {\n",
       "    var script = document.createElement(\"script\");\n",
       "    node.appendChild(script);\n",
       "  }\n",
       "\n",
       "  /**\n",
       "   * Handle when an output is cleared or removed\n",
       "   */\n",
       "  function handleClearOutput(event, handle) {\n",
       "    var cell = handle.cell;\n",
       "\n",
       "    var id = cell.output_area._bokeh_element_id;\n",
       "    var server_id = cell.output_area._bokeh_server_id;\n",
       "    // Clean up Bokeh references\n",
       "    if (id != null && id in Bokeh.index) {\n",
       "      Bokeh.index[id].model.document.clear();\n",
       "      delete Bokeh.index[id];\n",
       "    }\n",
       "\n",
       "    if (server_id !== undefined) {\n",
       "      // Clean up Bokeh references\n",
       "      var cmd = \"from bokeh.io.state import curstate; print(curstate().uuid_to_server['\" + server_id + \"'].get_sessions()[0].document.roots[0]._id)\";\n",
       "      cell.notebook.kernel.execute(cmd, {\n",
       "        iopub: {\n",
       "          output: function(msg) {\n",
       "            var id = msg.content.text.trim();\n",
       "            if (id in Bokeh.index) {\n",
       "              Bokeh.index[id].model.document.clear();\n",
       "              delete Bokeh.index[id];\n",
       "            }\n",
       "          }\n",
       "        }\n",
       "      });\n",
       "      // Destroy server and session\n",
       "      var cmd = \"import bokeh.io.notebook as ion; ion.destroy_server('\" + server_id + \"')\";\n",
       "      cell.notebook.kernel.execute(cmd);\n",
       "    }\n",
       "  }\n",
       "\n",
       "  /**\n",
       "   * Handle when a new output is added\n",
       "   */\n",
       "  function handleAddOutput(event, handle) {\n",
       "    var output_area = handle.output_area;\n",
       "    var output = handle.output;\n",
       "\n",
       "    // limit handleAddOutput to display_data with EXEC_MIME_TYPE content only\n",
       "    if ((output.output_type != \"display_data\") || (!output.data.hasOwnProperty(EXEC_MIME_TYPE))) {\n",
       "      return\n",
       "    }\n",
       "\n",
       "    var toinsert = output_area.element.find(\".\" + CLASS_NAME.split(' ')[0]);\n",
       "\n",
       "    if (output.metadata[EXEC_MIME_TYPE][\"id\"] !== undefined) {\n",
       "      toinsert[toinsert.length - 1].firstChild.textContent = output.data[JS_MIME_TYPE];\n",
       "      // store reference to embed id on output_area\n",
       "      output_area._bokeh_element_id = output.metadata[EXEC_MIME_TYPE][\"id\"];\n",
       "    }\n",
       "    if (output.metadata[EXEC_MIME_TYPE][\"server_id\"] !== undefined) {\n",
       "      var bk_div = document.createElement(\"div\");\n",
       "      bk_div.innerHTML = output.data[HTML_MIME_TYPE];\n",
       "      var script_attrs = bk_div.children[0].attributes;\n",
       "      for (var i = 0; i < script_attrs.length; i++) {\n",
       "        toinsert[toinsert.length - 1].firstChild.setAttribute(script_attrs[i].name, script_attrs[i].value);\n",
       "      }\n",
       "      // store reference to server id on output_area\n",
       "      output_area._bokeh_server_id = output.metadata[EXEC_MIME_TYPE][\"server_id\"];\n",
       "    }\n",
       "  }\n",
       "\n",
       "  function register_renderer(events, OutputArea) {\n",
       "\n",
       "    function append_mime(data, metadata, element) {\n",
       "      // create a DOM node to render to\n",
       "      var toinsert = this.create_output_subarea(\n",
       "        metadata,\n",
       "        CLASS_NAME,\n",
       "        EXEC_MIME_TYPE\n",
       "      );\n",
       "      this.keyboard_manager.register_events(toinsert);\n",
       "      // Render to node\n",
       "      var props = {data: data, metadata: metadata[EXEC_MIME_TYPE]};\n",
       "      render(props, toinsert[toinsert.length - 1]);\n",
       "      element.append(toinsert);\n",
       "      return toinsert\n",
       "    }\n",
       "\n",
       "    /* Handle when an output is cleared or removed */\n",
       "    events.on('clear_output.CodeCell', handleClearOutput);\n",
       "    events.on('delete.Cell', handleClearOutput);\n",
       "\n",
       "    /* Handle when a new output is added */\n",
       "    events.on('output_added.OutputArea', handleAddOutput);\n",
       "\n",
       "    /**\n",
       "     * Register the mime type and append_mime function with output_area\n",
       "     */\n",
       "    OutputArea.prototype.register_mime_type(EXEC_MIME_TYPE, append_mime, {\n",
       "      /* Is output safe? */\n",
       "      safe: true,\n",
       "      /* Index of renderer in `output_area.display_order` */\n",
       "      index: 0\n",
       "    });\n",
       "  }\n",
       "\n",
       "  // register the mime type if in Jupyter Notebook environment and previously unregistered\n",
       "  if (root.Jupyter !== undefined) {\n",
       "    var events = require('base/js/events');\n",
       "    var OutputArea = require('notebook/js/outputarea').OutputArea;\n",
       "\n",
       "    if (OutputArea.prototype.mime_types().indexOf(EXEC_MIME_TYPE) == -1) {\n",
       "      register_renderer(events, OutputArea);\n",
       "    }\n",
       "  }\n",
       "\n",
       "  \n",
       "  if (typeof (root._bokeh_timeout) === \"undefined\" || force === true) {\n",
       "    root._bokeh_timeout = Date.now() + 5000;\n",
       "    root._bokeh_failed_load = false;\n",
       "  }\n",
       "\n",
       "  var NB_LOAD_WARNING = {'data': {'text/html':\n",
       "     \"<div style='background-color: #fdd'>\\n\"+\n",
       "     \"<p>\\n\"+\n",
       "     \"BokehJS does not appear to have successfully loaded. If loading BokehJS from CDN, this \\n\"+\n",
       "     \"may be due to a slow or bad network connection. Possible fixes:\\n\"+\n",
       "     \"</p>\\n\"+\n",
       "     \"<ul>\\n\"+\n",
       "     \"<li>re-rerun `output_notebook()` to attempt to load from CDN again, or</li>\\n\"+\n",
       "     \"<li>use INLINE resources instead, as so:</li>\\n\"+\n",
       "     \"</ul>\\n\"+\n",
       "     \"<code>\\n\"+\n",
       "     \"from bokeh.resources import INLINE\\n\"+\n",
       "     \"output_notebook(resources=INLINE)\\n\"+\n",
       "     \"</code>\\n\"+\n",
       "     \"</div>\"}};\n",
       "\n",
       "  function display_loaded() {\n",
       "    var el = document.getElementById(\"1001\");\n",
       "    if (el != null) {\n",
       "      el.textContent = \"BokehJS is loading...\";\n",
       "    }\n",
       "    if (root.Bokeh !== undefined) {\n",
       "      if (el != null) {\n",
       "        el.textContent = \"BokehJS \" + root.Bokeh.version + \" successfully loaded.\";\n",
       "      }\n",
       "    } else if (Date.now() < root._bokeh_timeout) {\n",
       "      setTimeout(display_loaded, 100)\n",
       "    }\n",
       "  }\n",
       "\n",
       "\n",
       "  function run_callbacks() {\n",
       "    try {\n",
       "      root._bokeh_onload_callbacks.forEach(function(callback) {\n",
       "        if (callback != null)\n",
       "          callback();\n",
       "      });\n",
       "    } finally {\n",
       "      delete root._bokeh_onload_callbacks\n",
       "    }\n",
       "    console.debug(\"Bokeh: all callbacks have finished\");\n",
       "  }\n",
       "\n",
       "  function load_libs(css_urls, js_urls, callback) {\n",
       "    if (css_urls == null) css_urls = [];\n",
       "    if (js_urls == null) js_urls = [];\n",
       "\n",
       "    root._bokeh_onload_callbacks.push(callback);\n",
       "    if (root._bokeh_is_loading > 0) {\n",
       "      console.debug(\"Bokeh: BokehJS is being loaded, scheduling callback at\", now());\n",
       "      return null;\n",
       "    }\n",
       "    if (js_urls == null || js_urls.length === 0) {\n",
       "      run_callbacks();\n",
       "      return null;\n",
       "    }\n",
       "    console.debug(\"Bokeh: BokehJS not loaded, scheduling load and callback at\", now());\n",
       "    root._bokeh_is_loading = css_urls.length + js_urls.length;\n",
       "\n",
       "    function on_load() {\n",
       "      root._bokeh_is_loading--;\n",
       "      if (root._bokeh_is_loading === 0) {\n",
       "        console.debug(\"Bokeh: all BokehJS libraries/stylesheets loaded\");\n",
       "        run_callbacks()\n",
       "      }\n",
       "    }\n",
       "\n",
       "    function on_error() {\n",
       "      console.error(\"failed to load \" + url);\n",
       "    }\n",
       "\n",
       "    for (var i = 0; i < css_urls.length; i++) {\n",
       "      var url = css_urls[i];\n",
       "      const element = document.createElement(\"link\");\n",
       "      element.onload = on_load;\n",
       "      element.onerror = on_error;\n",
       "      element.rel = \"stylesheet\";\n",
       "      element.type = \"text/css\";\n",
       "      element.href = url;\n",
       "      console.debug(\"Bokeh: injecting link tag for BokehJS stylesheet: \", url);\n",
       "      document.body.appendChild(element);\n",
       "    }\n",
       "\n",
       "    for (var i = 0; i < js_urls.length; i++) {\n",
       "      var url = js_urls[i];\n",
       "      var element = document.createElement('script');\n",
       "      element.onload = on_load;\n",
       "      element.onerror = on_error;\n",
       "      element.async = false;\n",
       "      element.src = url;\n",
       "      console.debug(\"Bokeh: injecting script tag for BokehJS library: \", url);\n",
       "      document.head.appendChild(element);\n",
       "    }\n",
       "  };var element = document.getElementById(\"1001\");\n",
       "  if (element == null) {\n",
       "    console.error(\"Bokeh: ERROR: autoload.js configured with elementid '1001' but no matching script tag was found. \")\n",
       "    return false;\n",
       "  }\n",
       "\n",
       "  function inject_raw_css(css) {\n",
       "    const element = document.createElement(\"style\");\n",
       "    element.appendChild(document.createTextNode(css));\n",
       "    document.body.appendChild(element);\n",
       "  }\n",
       "\n",
       "  \n",
       "  var js_urls = [\"https://cdn.pydata.org/bokeh/release/bokeh-1.4.0.min.js\", \"https://cdn.pydata.org/bokeh/release/bokeh-widgets-1.4.0.min.js\", \"https://cdn.pydata.org/bokeh/release/bokeh-tables-1.4.0.min.js\", \"https://cdn.pydata.org/bokeh/release/bokeh-gl-1.4.0.min.js\"];\n",
       "  var css_urls = [];\n",
       "  \n",
       "\n",
       "  var inline_js = [\n",
       "    function(Bokeh) {\n",
       "      Bokeh.set_log_level(\"info\");\n",
       "    },\n",
       "    function(Bokeh) {\n",
       "    \n",
       "    \n",
       "    }\n",
       "  ];\n",
       "\n",
       "  function run_inline_js() {\n",
       "    \n",
       "    if (root.Bokeh !== undefined || force === true) {\n",
       "      \n",
       "    for (var i = 0; i < inline_js.length; i++) {\n",
       "      inline_js[i].call(root, root.Bokeh);\n",
       "    }\n",
       "    if (force === true) {\n",
       "        display_loaded();\n",
       "      }} else if (Date.now() < root._bokeh_timeout) {\n",
       "      setTimeout(run_inline_js, 100);\n",
       "    } else if (!root._bokeh_failed_load) {\n",
       "      console.log(\"Bokeh: BokehJS failed to load within specified timeout.\");\n",
       "      root._bokeh_failed_load = true;\n",
       "    } else if (force !== true) {\n",
       "      var cell = $(document.getElementById(\"1001\")).parents('.cell').data().cell;\n",
       "      cell.output_area.append_execute_result(NB_LOAD_WARNING)\n",
       "    }\n",
       "\n",
       "  }\n",
       "\n",
       "  if (root._bokeh_is_loading === 0) {\n",
       "    console.debug(\"Bokeh: BokehJS loaded, going straight to plotting\");\n",
       "    run_inline_js();\n",
       "  } else {\n",
       "    load_libs(css_urls, js_urls, function() {\n",
       "      console.debug(\"Bokeh: BokehJS plotting callback run at\", now());\n",
       "      run_inline_js();\n",
       "    });\n",
       "  }\n",
       "}(window));"
      ],
      "application/vnd.bokehjs_load.v0+json": "\n(function(root) {\n  function now() {\n    return new Date();\n  }\n\n  var force = true;\n\n  if (typeof root._bokeh_onload_callbacks === \"undefined\" || force === true) {\n    root._bokeh_onload_callbacks = [];\n    root._bokeh_is_loading = undefined;\n  }\n\n  \n\n  \n  if (typeof (root._bokeh_timeout) === \"undefined\" || force === true) {\n    root._bokeh_timeout = Date.now() + 5000;\n    root._bokeh_failed_load = false;\n  }\n\n  var NB_LOAD_WARNING = {'data': {'text/html':\n     \"<div style='background-color: #fdd'>\\n\"+\n     \"<p>\\n\"+\n     \"BokehJS does not appear to have successfully loaded. If loading BokehJS from CDN, this \\n\"+\n     \"may be due to a slow or bad network connection. Possible fixes:\\n\"+\n     \"</p>\\n\"+\n     \"<ul>\\n\"+\n     \"<li>re-rerun `output_notebook()` to attempt to load from CDN again, or</li>\\n\"+\n     \"<li>use INLINE resources instead, as so:</li>\\n\"+\n     \"</ul>\\n\"+\n     \"<code>\\n\"+\n     \"from bokeh.resources import INLINE\\n\"+\n     \"output_notebook(resources=INLINE)\\n\"+\n     \"</code>\\n\"+\n     \"</div>\"}};\n\n  function display_loaded() {\n    var el = document.getElementById(\"1001\");\n    if (el != null) {\n      el.textContent = \"BokehJS is loading...\";\n    }\n    if (root.Bokeh !== undefined) {\n      if (el != null) {\n        el.textContent = \"BokehJS \" + root.Bokeh.version + \" successfully loaded.\";\n      }\n    } else if (Date.now() < root._bokeh_timeout) {\n      setTimeout(display_loaded, 100)\n    }\n  }\n\n\n  function run_callbacks() {\n    try {\n      root._bokeh_onload_callbacks.forEach(function(callback) {\n        if (callback != null)\n          callback();\n      });\n    } finally {\n      delete root._bokeh_onload_callbacks\n    }\n    console.debug(\"Bokeh: all callbacks have finished\");\n  }\n\n  function load_libs(css_urls, js_urls, callback) {\n    if (css_urls == null) css_urls = [];\n    if (js_urls == null) js_urls = [];\n\n    root._bokeh_onload_callbacks.push(callback);\n    if (root._bokeh_is_loading > 0) {\n      console.debug(\"Bokeh: BokehJS is being loaded, scheduling callback at\", now());\n      return null;\n    }\n    if (js_urls == null || js_urls.length === 0) {\n      run_callbacks();\n      return null;\n    }\n    console.debug(\"Bokeh: BokehJS not loaded, scheduling load and callback at\", now());\n    root._bokeh_is_loading = css_urls.length + js_urls.length;\n\n    function on_load() {\n      root._bokeh_is_loading--;\n      if (root._bokeh_is_loading === 0) {\n        console.debug(\"Bokeh: all BokehJS libraries/stylesheets loaded\");\n        run_callbacks()\n      }\n    }\n\n    function on_error() {\n      console.error(\"failed to load \" + url);\n    }\n\n    for (var i = 0; i < css_urls.length; i++) {\n      var url = css_urls[i];\n      const element = document.createElement(\"link\");\n      element.onload = on_load;\n      element.onerror = on_error;\n      element.rel = \"stylesheet\";\n      element.type = \"text/css\";\n      element.href = url;\n      console.debug(\"Bokeh: injecting link tag for BokehJS stylesheet: \", url);\n      document.body.appendChild(element);\n    }\n\n    for (var i = 0; i < js_urls.length; i++) {\n      var url = js_urls[i];\n      var element = document.createElement('script');\n      element.onload = on_load;\n      element.onerror = on_error;\n      element.async = false;\n      element.src = url;\n      console.debug(\"Bokeh: injecting script tag for BokehJS library: \", url);\n      document.head.appendChild(element);\n    }\n  };var element = document.getElementById(\"1001\");\n  if (element == null) {\n    console.error(\"Bokeh: ERROR: autoload.js configured with elementid '1001' but no matching script tag was found. \")\n    return false;\n  }\n\n  function inject_raw_css(css) {\n    const element = document.createElement(\"style\");\n    element.appendChild(document.createTextNode(css));\n    document.body.appendChild(element);\n  }\n\n  \n  var js_urls = [\"https://cdn.pydata.org/bokeh/release/bokeh-1.4.0.min.js\", \"https://cdn.pydata.org/bokeh/release/bokeh-widgets-1.4.0.min.js\", \"https://cdn.pydata.org/bokeh/release/bokeh-tables-1.4.0.min.js\", \"https://cdn.pydata.org/bokeh/release/bokeh-gl-1.4.0.min.js\"];\n  var css_urls = [];\n  \n\n  var inline_js = [\n    function(Bokeh) {\n      Bokeh.set_log_level(\"info\");\n    },\n    function(Bokeh) {\n    \n    \n    }\n  ];\n\n  function run_inline_js() {\n    \n    if (root.Bokeh !== undefined || force === true) {\n      \n    for (var i = 0; i < inline_js.length; i++) {\n      inline_js[i].call(root, root.Bokeh);\n    }\n    if (force === true) {\n        display_loaded();\n      }} else if (Date.now() < root._bokeh_timeout) {\n      setTimeout(run_inline_js, 100);\n    } else if (!root._bokeh_failed_load) {\n      console.log(\"Bokeh: BokehJS failed to load within specified timeout.\");\n      root._bokeh_failed_load = true;\n    } else if (force !== true) {\n      var cell = $(document.getElementById(\"1001\")).parents('.cell').data().cell;\n      cell.output_area.append_execute_result(NB_LOAD_WARNING)\n    }\n\n  }\n\n  if (root._bokeh_is_loading === 0) {\n    console.debug(\"Bokeh: BokehJS loaded, going straight to plotting\");\n    run_inline_js();\n  } else {\n    load_libs(css_urls, js_urls, function() {\n      console.debug(\"Bokeh: BokehJS plotting callback run at\", now());\n      run_inline_js();\n    });\n  }\n}(window));"
     },
     "metadata": {},
     "output_type": "display_data"
    },
    {
     "data": {
      "text/html": [
       "\n",
       "    <div class=\"bk-root\">\n",
       "        <a href=\"https://bokeh.org\" target=\"_blank\" class=\"bk-logo bk-logo-small bk-logo-notebook\"></a>\n",
       "        <span id=\"1002\">Loading BokehJS ...</span>\n",
       "    </div>"
      ]
     },
     "metadata": {},
     "output_type": "display_data"
    },
    {
     "data": {
      "application/javascript": [
       "\n",
       "(function(root) {\n",
       "  function now() {\n",
       "    return new Date();\n",
       "  }\n",
       "\n",
       "  var force = true;\n",
       "\n",
       "  if (typeof root._bokeh_onload_callbacks === \"undefined\" || force === true) {\n",
       "    root._bokeh_onload_callbacks = [];\n",
       "    root._bokeh_is_loading = undefined;\n",
       "  }\n",
       "\n",
       "  var JS_MIME_TYPE = 'application/javascript';\n",
       "  var HTML_MIME_TYPE = 'text/html';\n",
       "  var EXEC_MIME_TYPE = 'application/vnd.bokehjs_exec.v0+json';\n",
       "  var CLASS_NAME = 'output_bokeh rendered_html';\n",
       "\n",
       "  /**\n",
       "   * Render data to the DOM node\n",
       "   */\n",
       "  function render(props, node) {\n",
       "    var script = document.createElement(\"script\");\n",
       "    node.appendChild(script);\n",
       "  }\n",
       "\n",
       "  /**\n",
       "   * Handle when an output is cleared or removed\n",
       "   */\n",
       "  function handleClearOutput(event, handle) {\n",
       "    var cell = handle.cell;\n",
       "\n",
       "    var id = cell.output_area._bokeh_element_id;\n",
       "    var server_id = cell.output_area._bokeh_server_id;\n",
       "    // Clean up Bokeh references\n",
       "    if (id != null && id in Bokeh.index) {\n",
       "      Bokeh.index[id].model.document.clear();\n",
       "      delete Bokeh.index[id];\n",
       "    }\n",
       "\n",
       "    if (server_id !== undefined) {\n",
       "      // Clean up Bokeh references\n",
       "      var cmd = \"from bokeh.io.state import curstate; print(curstate().uuid_to_server['\" + server_id + \"'].get_sessions()[0].document.roots[0]._id)\";\n",
       "      cell.notebook.kernel.execute(cmd, {\n",
       "        iopub: {\n",
       "          output: function(msg) {\n",
       "            var id = msg.content.text.trim();\n",
       "            if (id in Bokeh.index) {\n",
       "              Bokeh.index[id].model.document.clear();\n",
       "              delete Bokeh.index[id];\n",
       "            }\n",
       "          }\n",
       "        }\n",
       "      });\n",
       "      // Destroy server and session\n",
       "      var cmd = \"import bokeh.io.notebook as ion; ion.destroy_server('\" + server_id + \"')\";\n",
       "      cell.notebook.kernel.execute(cmd);\n",
       "    }\n",
       "  }\n",
       "\n",
       "  /**\n",
       "   * Handle when a new output is added\n",
       "   */\n",
       "  function handleAddOutput(event, handle) {\n",
       "    var output_area = handle.output_area;\n",
       "    var output = handle.output;\n",
       "\n",
       "    // limit handleAddOutput to display_data with EXEC_MIME_TYPE content only\n",
       "    if ((output.output_type != \"display_data\") || (!output.data.hasOwnProperty(EXEC_MIME_TYPE))) {\n",
       "      return\n",
       "    }\n",
       "\n",
       "    var toinsert = output_area.element.find(\".\" + CLASS_NAME.split(' ')[0]);\n",
       "\n",
       "    if (output.metadata[EXEC_MIME_TYPE][\"id\"] !== undefined) {\n",
       "      toinsert[toinsert.length - 1].firstChild.textContent = output.data[JS_MIME_TYPE];\n",
       "      // store reference to embed id on output_area\n",
       "      output_area._bokeh_element_id = output.metadata[EXEC_MIME_TYPE][\"id\"];\n",
       "    }\n",
       "    if (output.metadata[EXEC_MIME_TYPE][\"server_id\"] !== undefined) {\n",
       "      var bk_div = document.createElement(\"div\");\n",
       "      bk_div.innerHTML = output.data[HTML_MIME_TYPE];\n",
       "      var script_attrs = bk_div.children[0].attributes;\n",
       "      for (var i = 0; i < script_attrs.length; i++) {\n",
       "        toinsert[toinsert.length - 1].firstChild.setAttribute(script_attrs[i].name, script_attrs[i].value);\n",
       "      }\n",
       "      // store reference to server id on output_area\n",
       "      output_area._bokeh_server_id = output.metadata[EXEC_MIME_TYPE][\"server_id\"];\n",
       "    }\n",
       "  }\n",
       "\n",
       "  function register_renderer(events, OutputArea) {\n",
       "\n",
       "    function append_mime(data, metadata, element) {\n",
       "      // create a DOM node to render to\n",
       "      var toinsert = this.create_output_subarea(\n",
       "        metadata,\n",
       "        CLASS_NAME,\n",
       "        EXEC_MIME_TYPE\n",
       "      );\n",
       "      this.keyboard_manager.register_events(toinsert);\n",
       "      // Render to node\n",
       "      var props = {data: data, metadata: metadata[EXEC_MIME_TYPE]};\n",
       "      render(props, toinsert[toinsert.length - 1]);\n",
       "      element.append(toinsert);\n",
       "      return toinsert\n",
       "    }\n",
       "\n",
       "    /* Handle when an output is cleared or removed */\n",
       "    events.on('clear_output.CodeCell', handleClearOutput);\n",
       "    events.on('delete.Cell', handleClearOutput);\n",
       "\n",
       "    /* Handle when a new output is added */\n",
       "    events.on('output_added.OutputArea', handleAddOutput);\n",
       "\n",
       "    /**\n",
       "     * Register the mime type and append_mime function with output_area\n",
       "     */\n",
       "    OutputArea.prototype.register_mime_type(EXEC_MIME_TYPE, append_mime, {\n",
       "      /* Is output safe? */\n",
       "      safe: true,\n",
       "      /* Index of renderer in `output_area.display_order` */\n",
       "      index: 0\n",
       "    });\n",
       "  }\n",
       "\n",
       "  // register the mime type if in Jupyter Notebook environment and previously unregistered\n",
       "  if (root.Jupyter !== undefined) {\n",
       "    var events = require('base/js/events');\n",
       "    var OutputArea = require('notebook/js/outputarea').OutputArea;\n",
       "\n",
       "    if (OutputArea.prototype.mime_types().indexOf(EXEC_MIME_TYPE) == -1) {\n",
       "      register_renderer(events, OutputArea);\n",
       "    }\n",
       "  }\n",
       "\n",
       "  \n",
       "  if (typeof (root._bokeh_timeout) === \"undefined\" || force === true) {\n",
       "    root._bokeh_timeout = Date.now() + 5000;\n",
       "    root._bokeh_failed_load = false;\n",
       "  }\n",
       "\n",
       "  var NB_LOAD_WARNING = {'data': {'text/html':\n",
       "     \"<div style='background-color: #fdd'>\\n\"+\n",
       "     \"<p>\\n\"+\n",
       "     \"BokehJS does not appear to have successfully loaded. If loading BokehJS from CDN, this \\n\"+\n",
       "     \"may be due to a slow or bad network connection. Possible fixes:\\n\"+\n",
       "     \"</p>\\n\"+\n",
       "     \"<ul>\\n\"+\n",
       "     \"<li>re-rerun `output_notebook()` to attempt to load from CDN again, or</li>\\n\"+\n",
       "     \"<li>use INLINE resources instead, as so:</li>\\n\"+\n",
       "     \"</ul>\\n\"+\n",
       "     \"<code>\\n\"+\n",
       "     \"from bokeh.resources import INLINE\\n\"+\n",
       "     \"output_notebook(resources=INLINE)\\n\"+\n",
       "     \"</code>\\n\"+\n",
       "     \"</div>\"}};\n",
       "\n",
       "  function display_loaded() {\n",
       "    var el = document.getElementById(\"1002\");\n",
       "    if (el != null) {\n",
       "      el.textContent = \"BokehJS is loading...\";\n",
       "    }\n",
       "    if (root.Bokeh !== undefined) {\n",
       "      if (el != null) {\n",
       "        el.textContent = \"BokehJS \" + root.Bokeh.version + \" successfully loaded.\";\n",
       "      }\n",
       "    } else if (Date.now() < root._bokeh_timeout) {\n",
       "      setTimeout(display_loaded, 100)\n",
       "    }\n",
       "  }\n",
       "\n",
       "\n",
       "  function run_callbacks() {\n",
       "    try {\n",
       "      root._bokeh_onload_callbacks.forEach(function(callback) {\n",
       "        if (callback != null)\n",
       "          callback();\n",
       "      });\n",
       "    } finally {\n",
       "      delete root._bokeh_onload_callbacks\n",
       "    }\n",
       "    console.debug(\"Bokeh: all callbacks have finished\");\n",
       "  }\n",
       "\n",
       "  function load_libs(css_urls, js_urls, callback) {\n",
       "    if (css_urls == null) css_urls = [];\n",
       "    if (js_urls == null) js_urls = [];\n",
       "\n",
       "    root._bokeh_onload_callbacks.push(callback);\n",
       "    if (root._bokeh_is_loading > 0) {\n",
       "      console.debug(\"Bokeh: BokehJS is being loaded, scheduling callback at\", now());\n",
       "      return null;\n",
       "    }\n",
       "    if (js_urls == null || js_urls.length === 0) {\n",
       "      run_callbacks();\n",
       "      return null;\n",
       "    }\n",
       "    console.debug(\"Bokeh: BokehJS not loaded, scheduling load and callback at\", now());\n",
       "    root._bokeh_is_loading = css_urls.length + js_urls.length;\n",
       "\n",
       "    function on_load() {\n",
       "      root._bokeh_is_loading--;\n",
       "      if (root._bokeh_is_loading === 0) {\n",
       "        console.debug(\"Bokeh: all BokehJS libraries/stylesheets loaded\");\n",
       "        run_callbacks()\n",
       "      }\n",
       "    }\n",
       "\n",
       "    function on_error() {\n",
       "      console.error(\"failed to load \" + url);\n",
       "    }\n",
       "\n",
       "    for (var i = 0; i < css_urls.length; i++) {\n",
       "      var url = css_urls[i];\n",
       "      const element = document.createElement(\"link\");\n",
       "      element.onload = on_load;\n",
       "      element.onerror = on_error;\n",
       "      element.rel = \"stylesheet\";\n",
       "      element.type = \"text/css\";\n",
       "      element.href = url;\n",
       "      console.debug(\"Bokeh: injecting link tag for BokehJS stylesheet: \", url);\n",
       "      document.body.appendChild(element);\n",
       "    }\n",
       "\n",
       "    for (var i = 0; i < js_urls.length; i++) {\n",
       "      var url = js_urls[i];\n",
       "      var element = document.createElement('script');\n",
       "      element.onload = on_load;\n",
       "      element.onerror = on_error;\n",
       "      element.async = false;\n",
       "      element.src = url;\n",
       "      console.debug(\"Bokeh: injecting script tag for BokehJS library: \", url);\n",
       "      document.head.appendChild(element);\n",
       "    }\n",
       "  };var element = document.getElementById(\"1002\");\n",
       "  if (element == null) {\n",
       "    console.error(\"Bokeh: ERROR: autoload.js configured with elementid '1002' but no matching script tag was found. \")\n",
       "    return false;\n",
       "  }\n",
       "\n",
       "  function inject_raw_css(css) {\n",
       "    const element = document.createElement(\"style\");\n",
       "    element.appendChild(document.createTextNode(css));\n",
       "    document.body.appendChild(element);\n",
       "  }\n",
       "\n",
       "  \n",
       "  var js_urls = [\"https://cdn.pydata.org/bokeh/release/bokeh-1.4.0.min.js\", \"https://cdn.pydata.org/bokeh/release/bokeh-widgets-1.4.0.min.js\", \"https://cdn.pydata.org/bokeh/release/bokeh-tables-1.4.0.min.js\", \"https://cdn.pydata.org/bokeh/release/bokeh-gl-1.4.0.min.js\"];\n",
       "  var css_urls = [];\n",
       "  \n",
       "\n",
       "  var inline_js = [\n",
       "    function(Bokeh) {\n",
       "      Bokeh.set_log_level(\"info\");\n",
       "    },\n",
       "    function(Bokeh) {\n",
       "    \n",
       "    \n",
       "    }\n",
       "  ];\n",
       "\n",
       "  function run_inline_js() {\n",
       "    \n",
       "    if (root.Bokeh !== undefined || force === true) {\n",
       "      \n",
       "    for (var i = 0; i < inline_js.length; i++) {\n",
       "      inline_js[i].call(root, root.Bokeh);\n",
       "    }\n",
       "    if (force === true) {\n",
       "        display_loaded();\n",
       "      }} else if (Date.now() < root._bokeh_timeout) {\n",
       "      setTimeout(run_inline_js, 100);\n",
       "    } else if (!root._bokeh_failed_load) {\n",
       "      console.log(\"Bokeh: BokehJS failed to load within specified timeout.\");\n",
       "      root._bokeh_failed_load = true;\n",
       "    } else if (force !== true) {\n",
       "      var cell = $(document.getElementById(\"1002\")).parents('.cell').data().cell;\n",
       "      cell.output_area.append_execute_result(NB_LOAD_WARNING)\n",
       "    }\n",
       "\n",
       "  }\n",
       "\n",
       "  if (root._bokeh_is_loading === 0) {\n",
       "    console.debug(\"Bokeh: BokehJS loaded, going straight to plotting\");\n",
       "    run_inline_js();\n",
       "  } else {\n",
       "    load_libs(css_urls, js_urls, function() {\n",
       "      console.debug(\"Bokeh: BokehJS plotting callback run at\", now());\n",
       "      run_inline_js();\n",
       "    });\n",
       "  }\n",
       "}(window));"
      ],
      "application/vnd.bokehjs_load.v0+json": "\n(function(root) {\n  function now() {\n    return new Date();\n  }\n\n  var force = true;\n\n  if (typeof root._bokeh_onload_callbacks === \"undefined\" || force === true) {\n    root._bokeh_onload_callbacks = [];\n    root._bokeh_is_loading = undefined;\n  }\n\n  \n\n  \n  if (typeof (root._bokeh_timeout) === \"undefined\" || force === true) {\n    root._bokeh_timeout = Date.now() + 5000;\n    root._bokeh_failed_load = false;\n  }\n\n  var NB_LOAD_WARNING = {'data': {'text/html':\n     \"<div style='background-color: #fdd'>\\n\"+\n     \"<p>\\n\"+\n     \"BokehJS does not appear to have successfully loaded. If loading BokehJS from CDN, this \\n\"+\n     \"may be due to a slow or bad network connection. Possible fixes:\\n\"+\n     \"</p>\\n\"+\n     \"<ul>\\n\"+\n     \"<li>re-rerun `output_notebook()` to attempt to load from CDN again, or</li>\\n\"+\n     \"<li>use INLINE resources instead, as so:</li>\\n\"+\n     \"</ul>\\n\"+\n     \"<code>\\n\"+\n     \"from bokeh.resources import INLINE\\n\"+\n     \"output_notebook(resources=INLINE)\\n\"+\n     \"</code>\\n\"+\n     \"</div>\"}};\n\n  function display_loaded() {\n    var el = document.getElementById(\"1002\");\n    if (el != null) {\n      el.textContent = \"BokehJS is loading...\";\n    }\n    if (root.Bokeh !== undefined) {\n      if (el != null) {\n        el.textContent = \"BokehJS \" + root.Bokeh.version + \" successfully loaded.\";\n      }\n    } else if (Date.now() < root._bokeh_timeout) {\n      setTimeout(display_loaded, 100)\n    }\n  }\n\n\n  function run_callbacks() {\n    try {\n      root._bokeh_onload_callbacks.forEach(function(callback) {\n        if (callback != null)\n          callback();\n      });\n    } finally {\n      delete root._bokeh_onload_callbacks\n    }\n    console.debug(\"Bokeh: all callbacks have finished\");\n  }\n\n  function load_libs(css_urls, js_urls, callback) {\n    if (css_urls == null) css_urls = [];\n    if (js_urls == null) js_urls = [];\n\n    root._bokeh_onload_callbacks.push(callback);\n    if (root._bokeh_is_loading > 0) {\n      console.debug(\"Bokeh: BokehJS is being loaded, scheduling callback at\", now());\n      return null;\n    }\n    if (js_urls == null || js_urls.length === 0) {\n      run_callbacks();\n      return null;\n    }\n    console.debug(\"Bokeh: BokehJS not loaded, scheduling load and callback at\", now());\n    root._bokeh_is_loading = css_urls.length + js_urls.length;\n\n    function on_load() {\n      root._bokeh_is_loading--;\n      if (root._bokeh_is_loading === 0) {\n        console.debug(\"Bokeh: all BokehJS libraries/stylesheets loaded\");\n        run_callbacks()\n      }\n    }\n\n    function on_error() {\n      console.error(\"failed to load \" + url);\n    }\n\n    for (var i = 0; i < css_urls.length; i++) {\n      var url = css_urls[i];\n      const element = document.createElement(\"link\");\n      element.onload = on_load;\n      element.onerror = on_error;\n      element.rel = \"stylesheet\";\n      element.type = \"text/css\";\n      element.href = url;\n      console.debug(\"Bokeh: injecting link tag for BokehJS stylesheet: \", url);\n      document.body.appendChild(element);\n    }\n\n    for (var i = 0; i < js_urls.length; i++) {\n      var url = js_urls[i];\n      var element = document.createElement('script');\n      element.onload = on_load;\n      element.onerror = on_error;\n      element.async = false;\n      element.src = url;\n      console.debug(\"Bokeh: injecting script tag for BokehJS library: \", url);\n      document.head.appendChild(element);\n    }\n  };var element = document.getElementById(\"1002\");\n  if (element == null) {\n    console.error(\"Bokeh: ERROR: autoload.js configured with elementid '1002' but no matching script tag was found. \")\n    return false;\n  }\n\n  function inject_raw_css(css) {\n    const element = document.createElement(\"style\");\n    element.appendChild(document.createTextNode(css));\n    document.body.appendChild(element);\n  }\n\n  \n  var js_urls = [\"https://cdn.pydata.org/bokeh/release/bokeh-1.4.0.min.js\", \"https://cdn.pydata.org/bokeh/release/bokeh-widgets-1.4.0.min.js\", \"https://cdn.pydata.org/bokeh/release/bokeh-tables-1.4.0.min.js\", \"https://cdn.pydata.org/bokeh/release/bokeh-gl-1.4.0.min.js\"];\n  var css_urls = [];\n  \n\n  var inline_js = [\n    function(Bokeh) {\n      Bokeh.set_log_level(\"info\");\n    },\n    function(Bokeh) {\n    \n    \n    }\n  ];\n\n  function run_inline_js() {\n    \n    if (root.Bokeh !== undefined || force === true) {\n      \n    for (var i = 0; i < inline_js.length; i++) {\n      inline_js[i].call(root, root.Bokeh);\n    }\n    if (force === true) {\n        display_loaded();\n      }} else if (Date.now() < root._bokeh_timeout) {\n      setTimeout(run_inline_js, 100);\n    } else if (!root._bokeh_failed_load) {\n      console.log(\"Bokeh: BokehJS failed to load within specified timeout.\");\n      root._bokeh_failed_load = true;\n    } else if (force !== true) {\n      var cell = $(document.getElementById(\"1002\")).parents('.cell').data().cell;\n      cell.output_area.append_execute_result(NB_LOAD_WARNING)\n    }\n\n  }\n\n  if (root._bokeh_is_loading === 0) {\n    console.debug(\"Bokeh: BokehJS loaded, going straight to plotting\");\n    run_inline_js();\n  } else {\n    load_libs(css_urls, js_urls, function() {\n      console.debug(\"Bokeh: BokehJS plotting callback run at\", now());\n      run_inline_js();\n    });\n  }\n}(window));"
     },
     "metadata": {},
     "output_type": "display_data"
    }
   ],
   "source": [
    "from hail.plot import show\n",
    "from pprint import pprint\n",
    "from bokeh.layouts import gridplot\n",
    "hl.plot.output_notebook()\n",
    "\n",
    "\n",
    "import numpy as np\n",
    "import pandas as pd\n",
    "from functools import reduce\n",
    "from itertools import chain\n",
    "\n",
    "from bokeh.plotting import output_notebook, show, figure\n",
    "from bokeh.palettes import viridis\n",
    "from scipy import stats\n",
    "import seaborn as sns\n",
    "\n",
    "output_notebook()"
   ]
  },
  {
   "cell_type": "code",
   "execution_count": 4,
   "id": "3a96b973",
   "metadata": {},
   "outputs": [],
   "source": [
    "controls = [ 'S_7212','S_7213','S_7227','S_7255','S_7237','S_7245','S_7246','S_7229','S_7254','WGS_147c','S_7261','S_7263','S_7269','S_7274','S_7294','S_7306','WGS_37b','WGS_37c','WGS_85b','WGS_7118',\n",
    "'WGS_7120','WGS_7142','WGS_7143','WGS_7152','WGS_7153','WGS_163d','WGS_180b','WGS_6819','WGS_D6813','WGS_D6815','462','468','475','476','477','478','479','482','490','492','494']"
   ]
  },
  {
   "cell_type": "code",
   "execution_count": 5,
   "id": "37545427",
   "metadata": {},
   "outputs": [],
   "source": [
    "mt = hl.read_matrix_table('/net/archive/groups/plggneuromol/imdik-zekanowski-sportwgs/data/joint/dense-all.mt')"
   ]
  },
  {
   "cell_type": "code",
   "execution_count": 62,
   "id": "3734fd7d",
   "metadata": {},
   "outputs": [],
   "source": [
    "mt = hl.filter_intervals(mt, [(hl.parse_locus_interval('chr2:190055699-190062728', reference_genome='GRCh38'))])"
   ]
  },
  {
   "cell_type": "code",
   "execution_count": 63,
   "id": "d0efb380",
   "metadata": {},
   "outputs": [],
   "source": [
    "mt = mt.annotate_cols(group = hl.if_else(\n",
    "     mt.s.contains('B'), 'sport', hl.if_else(\n",
    "     mt.s.contains('HG'), '1kg', hl.if_else(\n",
    "           mt.s.contains('NA'), '1kg', 'GTS'))))"
   ]
  },
  {
   "cell_type": "code",
   "execution_count": 64,
   "id": "53db90f9",
   "metadata": {},
   "outputs": [],
   "source": [
    "mt = mt.filter_cols(\n",
    "    (mt.group == 'sport') |\n",
    "    (hl.literal(controls).contains(mt.s))\n",
    "    )"
   ]
  },
  {
   "cell_type": "code",
   "execution_count": 65,
   "id": "f8ea19d9",
   "metadata": {},
   "outputs": [],
   "source": [
    "mt = mt.filter_rows(hl.agg.any(mt.GT.is_non_ref()))"
   ]
  },
  {
   "cell_type": "code",
   "execution_count": 66,
   "id": "61ecf393",
   "metadata": {},
   "outputs": [
    {
     "data": {
      "text/plain": [
       "(55, 143)"
      ]
     },
     "execution_count": 66,
     "metadata": {},
     "output_type": "execute_result"
    }
   ],
   "source": [
    "mt.count()"
   ]
  },
  {
   "cell_type": "code",
   "execution_count": 67,
   "id": "8fbf45c7",
   "metadata": {},
   "outputs": [],
   "source": [
    "mt = mt.annotate_rows(dp_qc = hl.agg.group_by(mt.group, hl.agg.stats(mt.DP)),\n",
    "                      gq_qc = hl.agg.group_by(mt.group, hl.agg.stats(mt.GQ)),\n",
    "                      hwe = hl.agg.group_by(mt.group, hl.agg.hardy_weinberg_test(mt.GT)))\n",
    "\n",
    "mt = mt.annotate_rows(n_below_dp_3 = hl.agg.group_by(mt.group, hl.agg.count_where(mt.DP < 3)),\n",
    "                      n_below_gq_30 = hl.agg.group_by(mt.group, hl.agg.count_where(mt.GQ <30)))"
   ]
  },
  {
   "cell_type": "code",
   "execution_count": 68,
   "id": "6f45ae22",
   "metadata": {},
   "outputs": [
    {
     "name": "stderr",
     "output_type": "stream",
     "text": [
      "2022-04-13 19:04:38 Hail: INFO: wrote matrix table with 55 rows and 143 columns in 1 partition to /net/archive/groups/plggneuromol/imdik-zekanowski-sportwgs/data/joint/to-delete.mt\n"
     ]
    }
   ],
   "source": [
    "mt.write('/net/archive/groups/plggneuromol/imdik-zekanowski-sportwgs/data/joint/to-delete.mt')"
   ]
  },
  {
   "cell_type": "code",
   "execution_count": 69,
   "id": "77f7aabc",
   "metadata": {},
   "outputs": [],
   "source": [
    "mt = hl.read_matrix_table('/net/archive/groups/plggneuromol/imdik-zekanowski-sportwgs/data/joint/to-delete.mt')"
   ]
  },
  {
   "cell_type": "code",
   "execution_count": 70,
   "id": "679bf2bb",
   "metadata": {},
   "outputs": [],
   "source": [
    "mt = mt.filter_rows((mt.dp_qc.get('GTS', hl.struct(mean=6.0, stdev=0.0, min=0.0, max=0.0, n=0, sum=0.0)).mean > 5) &\n",
    "                    (mt.dp_qc.get('sport', hl.struct(mean=6.0, stdev=0.0, min=0.0, max=0.0, n=0, sum=0.0)).mean > 5) &\n",
    "                    (mt.gq_qc.get('GTS', hl.struct(mean=60.0, stdev=0.0, min=0.0, max=0.0, n=0, sum=0.0)).mean > 50) &\n",
    "                    (mt.gq_qc.get('sport', hl.struct(mean=60.0, stdev=0.0, min=0.0, max=0.0, n=0, sum=0.0)).mean > 50) &\n",
    "                    (mt.hwe.get('GTS', hl.struct(het_freq_hwe=0.0, p_value=0.5)).p_value > 0.05) &\n",
    "                    (mt.hwe.get('sport', hl.struct(het_freq_hwe=0.0, p_value=0.5)).p_value > 0.05) &\n",
    "                    (mt.n_below_dp_3.get('sport', 0) < 3) &\n",
    "                    (mt.n_below_gq_30.get('sport', 0) < 30) &\n",
    "                    (mt.n_below_dp_3.get('GTS', 0) < 3) &\n",
    "                    (mt.n_below_gq_30.get('GTS', 0) <30))"
   ]
  },
  {
   "cell_type": "code",
   "execution_count": 72,
   "id": "a91953ab",
   "metadata": {},
   "outputs": [
    {
     "data": {
      "text/plain": [
       "(53, 143)"
      ]
     },
     "execution_count": 72,
     "metadata": {},
     "output_type": "execute_result"
    }
   ],
   "source": [
    "mt.count()"
   ]
  },
  {
   "cell_type": "code",
   "execution_count": 80,
   "id": "840e56c2",
   "metadata": {},
   "outputs": [],
   "source": [
    "rpmk = hl.read_table('/net/archive/groups/plggneuromol/resources/repeatmasker-extended-keyed.ht')\n",
    "cov = hl.read_table('/net/archive/groups/plggneuromol/resources/gnomad/gnomad.genomes.r3.0.1.coverage.ht')"
   ]
  },
  {
   "cell_type": "code",
   "execution_count": 81,
   "id": "42088b9f",
   "metadata": {},
   "outputs": [],
   "source": [
    "cov = cov.filter(cov.over_1 > 0.9)"
   ]
  },
  {
   "cell_type": "code",
   "execution_count": 82,
   "id": "2cf2e48f",
   "metadata": {},
   "outputs": [],
   "source": [
    "mt = mt.filter_rows(hl.is_defined(rpmk[mt.locus]), keep = False)"
   ]
  },
  {
   "cell_type": "code",
   "execution_count": 83,
   "id": "df3ac2df",
   "metadata": {},
   "outputs": [
    {
     "name": "stderr",
     "output_type": "stream",
     "text": [
      "\r",
      "[Stage 12:>                 (0 + 1) / 1][Stage 13:>                 (0 + 1) / 1]\r"
     ]
    },
    {
     "data": {
      "text/plain": [
       "(40, 143)"
      ]
     },
     "execution_count": 83,
     "metadata": {},
     "output_type": "execute_result"
    }
   ],
   "source": [
    "mt.count()"
   ]
  },
  {
   "cell_type": "code",
   "execution_count": 84,
   "id": "9f240290",
   "metadata": {},
   "outputs": [],
   "source": [
    "mt = mt.filter_rows(hl.is_defined(cov[mt.locus]), keep = True)"
   ]
  },
  {
   "cell_type": "code",
   "execution_count": 85,
   "id": "f3946525",
   "metadata": {},
   "outputs": [
    {
     "name": "stderr",
     "output_type": "stream",
     "text": [
      "\r",
      "[Stage 15:>                 (0 + 1) / 1][Stage 16:>                 (0 + 1) / 1]\r"
     ]
    },
    {
     "data": {
      "text/plain": [
       "(40, 143)"
      ]
     },
     "execution_count": 85,
     "metadata": {},
     "output_type": "execute_result"
    }
   ],
   "source": [
    "mt.count()"
   ]
  },
  {
   "cell_type": "code",
   "execution_count": 88,
   "id": "68e98ea6",
   "metadata": {},
   "outputs": [
    {
     "name": "stderr",
     "output_type": "stream",
     "text": [
      "2022-04-13 19:12:55 Hail: INFO: wrote matrix table with 40 rows and 143 columns in 1 partition to /net/archive/groups/plggneuromol/imdik-zekanowski-sportwgs/data/hail-mts/myostatin.mt\n",
      "    Total size: 27.87 KiB\n",
      "    * Rows/entries: 27.22 KiB\n",
      "    * Columns: 651.00 B\n",
      "    * Globals: 11.00 B\n",
      "    * Smallest partition: 40 rows (27.22 KiB)\n",
      "    * Largest partition:  40 rows (27.22 KiB)\n"
     ]
    }
   ],
   "source": [
    "mt.write('/net/archive/groups/plggneuromol/imdik-zekanowski-sportwgs/data/hail-mts/myostatin.mt')"
   ]
  },
  {
   "cell_type": "code",
   "execution_count": 95,
   "id": "e0e24675",
   "metadata": {},
   "outputs": [
    {
     "name": "stderr",
     "output_type": "stream",
     "text": [
      "2022-04-13 19:28:05 Hail: INFO: Reading table to impute column types\n",
      "2022-04-13 19:28:06 Hail: INFO: Finished type imputation\n",
      "  Loading field 'f0' as type str (imputed)\n",
      "  Loading field 'f1' as type str (imputed)\n"
     ]
    }
   ],
   "source": [
    "genes = hl.read_table('/net/archive/groups/plggneuromol/resources/genecode_v32.ht')\n",
    "genes = genes.filter(hl.is_valid_contig(genes['hg38.knownGene.chrom'], reference_genome='GRCh38'))\n",
    "hpo = hl.import_table('/net/archive/groups/plggneuromol/resources/hpo.tsv', impute = True, no_header=True)"
   ]
  },
  {
   "cell_type": "code",
   "execution_count": 96,
   "id": "de03642d",
   "metadata": {},
   "outputs": [
    {
     "name": "stderr",
     "output_type": "stream",
     "text": [
      "2022-04-13 19:28:08 Hail: INFO: Reading table to impute column types\n",
      "2022-04-13 19:28:09 Hail: INFO: Finished type imputation\n",
      "  Loading field 'sport' as type str (imputed)\n",
      "  Loading field 'type' as type str (imputed)\n",
      "  Loading field 'age' as type int32 (imputed)\n",
      "  Loading field 'sample_id' as type str (imputed)\n"
     ]
    }
   ],
   "source": [
    "start = genes['hg38.knownGene.txStart']\n",
    "stop =  genes['hg38.knownGene.txEnd']\n",
    "\n",
    "genes = genes.transmute(interval = \n",
    "                        hl.locus_interval(genes['hg38.knownGene.chrom'], \n",
    "                                          start,\n",
    "                                          stop,\n",
    "                                          reference_genome='GRCh38', includes_start=False))\n",
    "\n",
    "genes = genes.key_by(genes['hg38.kgXref.geneSymbol'])\n",
    "\n",
    "hpo = hpo.key_by(hpo.f0)\n",
    "\n",
    "genes = genes.annotate(hpo = hpo.index(genes['hg38.kgXref.geneSymbol'], all_matches = True)['f1'])\n",
    "genes = genes.key_by(genes.interval)\n",
    "\n",
    "gnomad = hl.read_table('/net/archive/groups/plggneuromol/resources/gnomad/gnomad.genomes.v3.1.1.sites.ht/')\n",
    "cadd = hl.read_table('/net/archive/groups/plggneuromol/resources/cadd.ht')\n",
    "vep = hl.read_table('/net/archive/groups/plggneuromol/resources/vep38/grch38_context_vep_annotated.ht')\n",
    "sport_pheno = hl.import_table('/net/archive/groups/plggneuromol/imdik-zekanowski-sportwgs/data/external-data/sportsmen-pheno.csv', impute = True, key='sample_id', quote =\"\\\"\")\n",
    "poles = hl.read_matrix_table('/net/archive/groups/plggneuromol/resources/polish-genomes/polish-genomes.mt')"
   ]
  },
  {
   "cell_type": "code",
   "execution_count": null,
   "id": "d4b4b896",
   "metadata": {},
   "outputs": [],
   "source": [
    "mt = mt.distinct_by_row()\n",
    "mt = mt.key_rows_by(mt.locus, mt.alleles)\n",
    "mt = hl.split_multi_hts(mt)\n",
    "mt = mt.annotate_rows(gnomad_v_3_1 = gnomad[mt.row_key])\n",
    "mt = mt.annotate_rows(within_gene = hl.array(hl.set(genes.index(mt.locus, all_matches=True)['hg38.kgXref.geneSymbol'])))\n",
    "mt = mt.annotate_rows(hpo = hl.array(hl.set(genes.index(mt.locus, all_matches=True)['hpo'])))\n",
    "mt = mt.annotate_rows(cadd = cadd[mt.row_key])\n",
    "mt = mt.annotate_rows(vep = vep[mt.row_key])\n",
    "mt = mt.annotate_cols(sport_phenotypes = sport_pheno[mt.s])\n",
    "mt = mt.annotate_rows(polish_af = poles.rows()[mt.row_key]['info'])\n",
    "\n",
    "\n",
    "mt.write('/net/archive/groups/plggneuromol/imdik-zekanowski-sportwgs/results/hail-mts/mstn.mt')"
   ]
  },
  {
   "cell_type": "code",
   "execution_count": 102,
   "id": "3679c500",
   "metadata": {},
   "outputs": [],
   "source": [
    "mt = hl.read_matrix_table('/net/archive/groups/plggneuromol/imdik-zekanowski-sportwgs/results/hail-mts/mstn.mt')"
   ]
  },
  {
   "cell_type": "code",
   "execution_count": 103,
   "id": "b442fa64",
   "metadata": {},
   "outputs": [
    {
     "data": {
      "text/plain": [
       "(41, 143)"
      ]
     },
     "execution_count": 103,
     "metadata": {},
     "output_type": "execute_result"
    }
   ],
   "source": [
    "mt.count()"
   ]
  },
  {
   "cell_type": "code",
   "execution_count": 104,
   "id": "aae2ca04",
   "metadata": {},
   "outputs": [
    {
     "name": "stderr",
     "output_type": "stream",
     "text": [
      "2022-04-13 19:34:33 Hail: INFO: wrote table with 41 rows in 1 partition to /net/archive/groups/plggneuromol/imdik-zekanowski-sportwgs/results/hail-mts/mstn-to-export.mt\n"
     ]
    }
   ],
   "source": [
    "mt = mt.annotate_cols(group = hl.if_else(\n",
    "     mt.s.contains('B'), 'sport', hl.if_else(\n",
    "     mt.s.contains('HG'), '1kg', hl.if_else(\n",
    "           mt.s.contains('NA'), '1kg', 'control'))))\n",
    "\n",
    "mt = mt.annotate_rows(het_non_refs = hl.agg.group_by(mt.group, hl.agg.count_where(mt.GT.is_het())))\n",
    "mt = mt.annotate_rows(hom_refs = hl.agg.group_by(mt.group, hl.agg.count_where(mt.GT.is_hom_ref())))\n",
    "mt = mt.annotate_rows(hom_non_refs = hl.agg.group_by(mt.group, hl.agg.count_where(mt.GT.is_hom_var())))\n",
    "\n",
    "mt = mt.annotate_rows(het_non_refs_e_vs_s = hl.agg.group_by(mt.sport_phenotypes.type, hl.agg.count_where(mt.GT.is_het())))\n",
    "mt = mt.annotate_rows(hom_refs_e_vs_s = hl.agg.group_by(mt.sport_phenotypes.type, hl.agg.count_where(mt.GT.is_hom_ref())))\n",
    "mt = mt.annotate_rows(hom_non_refs_e_vs_s = hl.agg.group_by(mt.sport_phenotypes.type, hl.agg.count_where(mt.GT.is_hom_var())))\n",
    "\n",
    "sport_AC_non_ref = hl.int32(mt.het_non_refs.get('sport', 0) + (mt.hom_non_refs.get('sport', 0)*2))\n",
    "sport_AC_ref = hl.int32(mt.het_non_refs.get('sport', 0) + (mt.hom_refs.get('sport', 0)*2))\n",
    "control_AC_non_ref = hl.int32(mt.het_non_refs.get('control', 0) + (mt.hom_non_refs.get('control', 0)*2))\n",
    "control_AC_ref = hl.int32(mt.het_non_refs.get('control', 0) + (mt.hom_refs.get('control', 0)*2))\n",
    "speed_AC_non_ref = hl.int32(mt.het_non_refs_e_vs_s.get('speed', 0) + (mt.hom_non_refs_e_vs_s.get('speed', 0)*2))\n",
    "speed_AC_ref = hl.int32(mt.het_non_refs_e_vs_s.get('speed', 0) + (mt.hom_refs_e_vs_s.get('speed', 0)*2))\n",
    "endurance_AC_non_ref = hl.int32(mt.het_non_refs_e_vs_s.get('endurance', 0) + (mt.hom_non_refs_e_vs_s.get('endurance', 0)*2))\n",
    "endurance_AC_ref = hl.int32(mt.het_non_refs_e_vs_s.get('endurance', 0) + (mt.hom_refs_e_vs_s.get('endurance', 0)*2))\n",
    "gnomad_AC_non_ref = mt.gnomad_v_3_1.freq.AC[2]\n",
    "gnomad_AC_ref = mt.gnomad_v_3_1.freq.AN[2] - mt.gnomad_v_3_1.freq.AC[2]\n",
    "polish_AC_non_ref = hl.int32(mt.polish_af.AC[0])\n",
    "polish_AC_ref = hl.int32(mt.polish_af.AN - mt.polish_af.AC[0])\n",
    "\n",
    "mt = mt.annotate_rows(fisher_sport_vs_control = hl.fisher_exact_test(sport_AC_non_ref, sport_AC_ref, control_AC_non_ref, control_AC_ref),\n",
    "                              fisher_e_vs_s = hl.fisher_exact_test(speed_AC_non_ref, speed_AC_ref, endurance_AC_non_ref, endurance_AC_ref),\n",
    "                              fisher_sport_vs_gnomad = hl.fisher_exact_test(sport_AC_non_ref, sport_AC_ref, gnomad_AC_non_ref, gnomad_AC_ref),\n",
    "                              fisher_sport_vs_polish = hl.fisher_exact_test(sport_AC_non_ref, sport_AC_ref, polish_AC_non_ref, polish_AC_ref))\n",
    "\n",
    "mt = mt.drop(mt['a_index'], mt['was_split'])\n",
    "\n",
    "mt = mt.transmute_rows(DP_stats = mt.dp_qc,\n",
    "                             GQ_stats = mt.gq_qc, \n",
    "                             hwe_controls_p_value = mt.hwe.get('GTS', hl.struct(het_freq_hwe=0.0, p_value=1)).p_value,\n",
    "                             hwe_sport_p_value = mt.hwe.get('sport', hl.struct(het_freq_hwe=0.0, p_value=1)).p_value,\n",
    "                             gnomad_v3_nfe_af = mt.gnomad_v_3_1.freq.AF[2],\n",
    "                             gnomad_v3_nfe_homozygote_count = mt.gnomad_v_3_1.freq.homozygote_count[2],\n",
    "                             cadd = mt.cadd.score_phred,\n",
    "                             within_gene = mt.within_gene,\n",
    "                             hpo = mt.hpo,\n",
    "                             fisher_sport_vs_control  = mt.fisher_sport_vs_control,\n",
    "                             fisher_e_vs_s = mt.fisher_e_vs_s ,\n",
    "                             fisher_sport_vs_gnomad  = mt.fisher_sport_vs_gnomad,\n",
    "                             fisher_sport_vs_polish = mt.fisher_sport_vs_polish,                         \n",
    "                             het_sport = mt.het_non_refs.get('sport', 0),\n",
    "                             het_controls = mt.het_non_refs.get('control', 0),\n",
    "                             hom_ref_sport = mt.hom_refs.get('sport', 0),\n",
    "                             hom_ref_controls = mt.hom_refs.get('control', 0),\n",
    "                             hom_var_sport = mt.hom_non_refs.get('sport', 0),\n",
    "                             how_var_controls = mt.hom_non_refs.get('control',0),\n",
    "                             het_endurance = mt.het_non_refs_e_vs_s.get('endurance', 0),\n",
    "                             het_speed = mt.het_non_refs_e_vs_s.get('speed', 0),\n",
    "                             hom_ref_endurance = mt.hom_refs_e_vs_s.get('endurance', 0),\n",
    "                             hom_ref_speed = mt.hom_refs_e_vs_s.get('speed', 0),\n",
    "                             hom_var_endurance = mt.hom_non_refs_e_vs_s.get('endurance', 0),\n",
    "                             how_var_speed = mt.hom_non_refs_e_vs_s.get('speed',0),\n",
    "                             most_severe_consequence = mt.vep.vep.most_severe_consequence,\n",
    "                             transcript_consequences = mt.vep.vep.transcript_consequences,\n",
    "                             intergenic_consequences = mt.vep.vep.intergenic_consequences,\n",
    "                             motif_feature_consequences = mt.vep.vep.motif_feature_consequences,\n",
    "                             regulatory_feature_consequences = mt.vep.vep.regulatory_feature_consequences,\n",
    "                             polish_af = mt.polish_af)\n",
    "\n",
    "mt = mt.select_entries(mt.GT)\n",
    "\n",
    "mt = mt.make_table()\n",
    "mt.write('/net/archive/groups/plggneuromol/imdik-zekanowski-sportwgs/results/hail-mts/mstn-to-export.mt')"
   ]
  },
  {
   "cell_type": "code",
   "execution_count": 106,
   "id": "3164a193",
   "metadata": {},
   "outputs": [
    {
     "name": "stderr",
     "output_type": "stream",
     "text": [
      "2022-04-13 19:34:56 Hail: INFO: merging 1 files totalling 172.3K...\n",
      "2022-04-13 19:34:56 Hail: INFO: while writing:\n",
      "    /net/archive/groups/plggneuromol/imdik-zekanowski-sportwgs/results/hail-mts/myostatin.csv\n",
      "  merge time: 15.716ms\n",
      "2022-04-13 19:34:57 Hail: INFO: merging 1 files totalling 172.3K...\n",
      "2022-04-13 19:34:57 Hail: INFO: while writing:\n",
      "    myostatin.csv\n",
      "  merge time: 11.019ms\n"
     ]
    }
   ],
   "source": [
    "mt = hl.read_table('/net/archive/groups/plggneuromol/imdik-zekanowski-sportwgs/results/hail-mts/mstn-to-export.mt')\n",
    "\n",
    "to_export = mt.flatten()\n",
    "to_export.export('/net/archive/groups/plggneuromol/imdik-zekanowski-sportwgs/results/hail-mts/myostatin.csv')\n",
    "to_export.export('myostatin.csv')"
   ]
  },
  {
   "cell_type": "markdown",
   "id": "9f50a23d",
   "metadata": {},
   "source": [
    "#### Export of two other genes:"
   ]
  },
  {
   "cell_type": "markdown",
   "id": "90594555",
   "metadata": {},
   "source": [
    "#### ACVR2A i ACVR2B\n",
    "\n",
    "    x chr2:147,844,517-147,930,826\n",
    "    chr3:38,453,890-38,493,142"
   ]
  },
  {
   "cell_type": "code",
   "execution_count": 6,
   "id": "648f9865",
   "metadata": {},
   "outputs": [],
   "source": [
    "intervals = ['chr2:147844517-147930826', 'chr3:38453890-38493142']\n",
    "\n",
    "mt = hl.filter_intervals(\n",
    "    mt,\n",
    "    [hl.parse_locus_interval(x, reference_genome='GRCh38') for x in intervals]\n",
    ")"
   ]
  },
  {
   "cell_type": "code",
   "execution_count": 7,
   "id": "6b07f8c0",
   "metadata": {},
   "outputs": [],
   "source": [
    "mt = mt.annotate_cols(group = hl.if_else(\n",
    "     mt.s.contains('B'), 'sport', hl.if_else(\n",
    "     mt.s.contains('HG'), '1kg', hl.if_else(\n",
    "           mt.s.contains('NA'), '1kg', 'GTS'))))"
   ]
  },
  {
   "cell_type": "code",
   "execution_count": 8,
   "id": "f31756bf",
   "metadata": {},
   "outputs": [],
   "source": [
    "mt = mt.filter_cols(\n",
    "    (mt.group == 'sport') |\n",
    "    (hl.literal(controls).contains(mt.s))\n",
    "    )"
   ]
  },
  {
   "cell_type": "code",
   "execution_count": 9,
   "id": "8a360c9b",
   "metadata": {},
   "outputs": [],
   "source": [
    "mt = mt.filter_rows(hl.agg.any(mt.GT.is_non_ref()))"
   ]
  },
  {
   "cell_type": "code",
   "execution_count": 10,
   "id": "28fe0b9e",
   "metadata": {},
   "outputs": [
    {
     "name": "stderr",
     "output_type": "stream",
     "text": [
      "\r",
      "[Stage 0:>                                                          (0 + 2) / 2]\r"
     ]
    },
    {
     "data": {
      "text/plain": [
       "(768, 143)"
      ]
     },
     "execution_count": 10,
     "metadata": {},
     "output_type": "execute_result"
    }
   ],
   "source": [
    "mt.count()"
   ]
  },
  {
   "cell_type": "code",
   "execution_count": 11,
   "id": "b4a5193b",
   "metadata": {},
   "outputs": [],
   "source": [
    "mt = mt.annotate_rows(dp_qc = hl.agg.group_by(mt.group, hl.agg.stats(mt.DP)),\n",
    "                      gq_qc = hl.agg.group_by(mt.group, hl.agg.stats(mt.GQ)),\n",
    "                      hwe = hl.agg.group_by(mt.group, hl.agg.hardy_weinberg_test(mt.GT)))\n",
    "\n",
    "mt = mt.annotate_rows(n_below_dp_3 = hl.agg.group_by(mt.group, hl.agg.count_where(mt.DP < 3)),\n",
    "                      n_below_gq_30 = hl.agg.group_by(mt.group, hl.agg.count_where(mt.GQ <30)))"
   ]
  },
  {
   "cell_type": "code",
   "execution_count": 12,
   "id": "fc8c96f6",
   "metadata": {},
   "outputs": [
    {
     "name": "stderr",
     "output_type": "stream",
     "text": [
      "2022-04-25 10:11:02 Hail: INFO: wrote matrix table with 768 rows and 143 columns in 2 partitions to /net/archive/groups/plggneuromol/imdik-zekanowski-sportwgs/data/joint/to-delete.mt\n"
     ]
    }
   ],
   "source": [
    "mt.write('/net/archive/groups/plggneuromol/imdik-zekanowski-sportwgs/data/joint/to-delete.mt')"
   ]
  },
  {
   "cell_type": "code",
   "execution_count": 13,
   "id": "4ff456ce",
   "metadata": {},
   "outputs": [],
   "source": [
    "mt = hl.read_matrix_table('/net/archive/groups/plggneuromol/imdik-zekanowski-sportwgs/data/joint/to-delete.mt')"
   ]
  },
  {
   "cell_type": "code",
   "execution_count": 14,
   "id": "89c5a90a",
   "metadata": {},
   "outputs": [],
   "source": [
    "mt = mt.filter_rows((mt.dp_qc.get('GTS', hl.struct(mean=6.0, stdev=0.0, min=0.0, max=0.0, n=0, sum=0.0)).mean > 5) &\n",
    "                    (mt.dp_qc.get('sport', hl.struct(mean=6.0, stdev=0.0, min=0.0, max=0.0, n=0, sum=0.0)).mean > 5) &\n",
    "                    (mt.gq_qc.get('GTS', hl.struct(mean=60.0, stdev=0.0, min=0.0, max=0.0, n=0, sum=0.0)).mean > 50) &\n",
    "                    (mt.gq_qc.get('sport', hl.struct(mean=60.0, stdev=0.0, min=0.0, max=0.0, n=0, sum=0.0)).mean > 50) &\n",
    "                    (mt.hwe.get('GTS', hl.struct(het_freq_hwe=0.0, p_value=0.5)).p_value > 0.05) &\n",
    "                    (mt.hwe.get('sport', hl.struct(het_freq_hwe=0.0, p_value=0.5)).p_value > 0.05) &\n",
    "                    (mt.n_below_dp_3.get('sport', 0) < 3) &\n",
    "                    (mt.n_below_gq_30.get('sport', 0) < 30) &\n",
    "                    (mt.n_below_dp_3.get('GTS', 0) < 3) &\n",
    "                    (mt.n_below_gq_30.get('GTS', 0) <30))"
   ]
  },
  {
   "cell_type": "code",
   "execution_count": 15,
   "id": "d8797c51",
   "metadata": {},
   "outputs": [
    {
     "data": {
      "text/plain": [
       "(550, 143)"
      ]
     },
     "execution_count": 15,
     "metadata": {},
     "output_type": "execute_result"
    }
   ],
   "source": [
    "mt.count()"
   ]
  },
  {
   "cell_type": "code",
   "execution_count": 16,
   "id": "9d5c9864",
   "metadata": {},
   "outputs": [],
   "source": [
    "rpmk = hl.read_table('/net/archive/groups/plggneuromol/resources/repeatmasker-extended-keyed.ht')\n",
    "cov = hl.read_table('/net/archive/groups/plggneuromol/resources/gnomad/gnomad.genomes.r3.0.1.coverage.ht')"
   ]
  },
  {
   "cell_type": "code",
   "execution_count": 17,
   "id": "1d2dae86",
   "metadata": {},
   "outputs": [],
   "source": [
    "cov = cov.filter(cov.over_1 > 0.9)"
   ]
  },
  {
   "cell_type": "code",
   "execution_count": 18,
   "id": "46fe7ca5",
   "metadata": {},
   "outputs": [],
   "source": [
    "mt = mt.filter_rows(hl.is_defined(rpmk[mt.locus]), keep = False)"
   ]
  },
  {
   "cell_type": "code",
   "execution_count": 19,
   "id": "73672a57",
   "metadata": {},
   "outputs": [
    {
     "name": "stderr",
     "output_type": "stream",
     "text": [
      "\r",
      "[Stage 3:>                                                          (0 + 1) / 1]\r"
     ]
    },
    {
     "data": {
      "text/plain": [
       "(361, 143)"
      ]
     },
     "execution_count": 19,
     "metadata": {},
     "output_type": "execute_result"
    }
   ],
   "source": [
    "mt.count()"
   ]
  },
  {
   "cell_type": "code",
   "execution_count": 20,
   "id": "a50ac082",
   "metadata": {},
   "outputs": [],
   "source": [
    "mt = mt.filter_rows(hl.is_defined(cov[mt.locus]), keep = True)"
   ]
  },
  {
   "cell_type": "code",
   "execution_count": 21,
   "id": "d3730372",
   "metadata": {},
   "outputs": [
    {
     "name": "stderr",
     "output_type": "stream",
     "text": [
      "[Stage 6:=============================>                             (1 + 1) / 2]\r"
     ]
    },
    {
     "data": {
      "text/plain": [
       "(361, 143)"
      ]
     },
     "execution_count": 21,
     "metadata": {},
     "output_type": "execute_result"
    }
   ],
   "source": [
    "mt.count()"
   ]
  },
  {
   "cell_type": "code",
   "execution_count": 22,
   "id": "f10d8a3f",
   "metadata": {},
   "outputs": [
    {
     "name": "stderr",
     "output_type": "stream",
     "text": [
      "2022-04-25 10:12:11 Hail: INFO: wrote matrix table with 361 rows and 143 columns in 2 partitions to /net/archive/groups/plggneuromol/imdik-zekanowski-sportwgs/data/hail-mts/acvr.mt\n",
      "    Total size: 344.87 KiB\n",
      "    * Rows/entries: 344.22 KiB\n",
      "    * Columns: 651.00 B\n",
      "    * Globals: 11.00 B\n",
      "    * Smallest partition: 151 rows (156.65 KiB)\n",
      "    * Largest partition:  210 rows (187.57 KiB)\n"
     ]
    }
   ],
   "source": [
    "mt.write('/net/archive/groups/plggneuromol/imdik-zekanowski-sportwgs/data/hail-mts/acvr.mt')"
   ]
  },
  {
   "cell_type": "code",
   "execution_count": 23,
   "id": "8b975d06",
   "metadata": {},
   "outputs": [
    {
     "name": "stderr",
     "output_type": "stream",
     "text": [
      "2022-04-25 10:12:11 Hail: INFO: Reading table to impute column types\n",
      "2022-04-25 10:12:12 Hail: INFO: Finished type imputation\n",
      "  Loading field 'f0' as type str (imputed)\n",
      "  Loading field 'f1' as type str (imputed)\n"
     ]
    }
   ],
   "source": [
    "genes = hl.read_table('/net/archive/groups/plggneuromol/resources/genecode_v32.ht')\n",
    "genes = genes.filter(hl.is_valid_contig(genes['hg38.knownGene.chrom'], reference_genome='GRCh38'))\n",
    "hpo = hl.import_table('/net/archive/groups/plggneuromol/resources/hpo.tsv', impute = True, no_header=True)"
   ]
  },
  {
   "cell_type": "code",
   "execution_count": 24,
   "id": "e60a8b3c",
   "metadata": {},
   "outputs": [
    {
     "name": "stderr",
     "output_type": "stream",
     "text": [
      "2022-04-25 10:12:14 Hail: INFO: Reading table to impute column types\n",
      "2022-04-25 10:12:15 Hail: INFO: Finished type imputation            (0 + 1) / 1]\n",
      "  Loading field 'sport' as type str (imputed)\n",
      "  Loading field 'type' as type str (imputed)\n",
      "  Loading field 'age' as type int32 (imputed)\n",
      "  Loading field 'sample_id' as type str (imputed)\n"
     ]
    }
   ],
   "source": [
    "start = genes['hg38.knownGene.txStart']\n",
    "stop =  genes['hg38.knownGene.txEnd']\n",
    "\n",
    "genes = genes.transmute(interval = \n",
    "                        hl.locus_interval(genes['hg38.knownGene.chrom'], \n",
    "                                          start,\n",
    "                                          stop,\n",
    "                                          reference_genome='GRCh38', includes_start=False))\n",
    "\n",
    "genes = genes.key_by(genes['hg38.kgXref.geneSymbol'])\n",
    "\n",
    "hpo = hpo.key_by(hpo.f0)\n",
    "\n",
    "genes = genes.annotate(hpo = hpo.index(genes['hg38.kgXref.geneSymbol'], all_matches = True)['f1'])\n",
    "genes = genes.key_by(genes.interval)\n",
    "\n",
    "gnomad = hl.read_table('/net/archive/groups/plggneuromol/resources/gnomad/gnomad.genomes.v3.1.1.sites.ht/')\n",
    "cadd = hl.read_table('/net/archive/groups/plggneuromol/resources/cadd.ht')\n",
    "vep = hl.read_table('/net/archive/groups/plggneuromol/resources/vep38/grch38_context_vep_annotated.ht')\n",
    "sport_pheno = hl.import_table('/net/archive/groups/plggneuromol/imdik-zekanowski-sportwgs/data/external-data/sportsmen-pheno.csv', impute = True, key='sample_id', quote =\"\\\"\")\n",
    "poles = hl.read_matrix_table('/net/archive/groups/plggneuromol/resources/polish-genomes/polish-genomes.mt')"
   ]
  },
  {
   "cell_type": "code",
   "execution_count": 25,
   "id": "0e8fa96a",
   "metadata": {},
   "outputs": [
    {
     "name": "stderr",
     "output_type": "stream",
     "text": [
      "2022-04-25 10:12:36 Hail: INFO: Ordering unsorted dataset with network shuffle2]\n",
      "2022-04-25 10:12:38 Hail: INFO: Ordering unsorted dataset with network shuffle1]\n",
      "2022-04-25 10:12:40 Hail: INFO: Ordering unsorted dataset with network shuffle2]\n",
      "2022-04-25 10:12:40 Hail: INFO: Ordering unsorted dataset with network shuffle\n",
      "2022-04-25 10:12:41 Hail: INFO: Ordering unsorted dataset with network shuffle1]\n",
      "2022-04-25 10:12:42 Hail: INFO: Ordering unsorted dataset with network shuffle\n",
      "2022-04-25 10:13:03 Hail: INFO: wrote matrix table with 402 rows and 143 columns in 2 partitions to /net/archive/groups/plggneuromol/imdik-zekanowski-sportwgs/results/hail-mts/acvr-anno.mt\n",
      "    Total size: 2.04 MiB\n",
      "    * Rows/entries: 2.04 MiB\n",
      "    * Columns: 1.15 KiB\n",
      "    * Globals: 11.00 B\n",
      "    * Smallest partition: 166 rows (892.24 KiB)\n",
      "    * Largest partition:  236 rows (1.17 MiB)\n"
     ]
    }
   ],
   "source": [
    "mt = mt.distinct_by_row()\n",
    "mt = mt.key_rows_by(mt.locus, mt.alleles)\n",
    "mt = hl.split_multi_hts(mt)\n",
    "mt = mt.annotate_rows(gnomad_v_3_1 = gnomad[mt.row_key])\n",
    "mt = mt.annotate_rows(within_gene = hl.array(hl.set(genes.index(mt.locus, all_matches=True)['hg38.kgXref.geneSymbol'])))\n",
    "mt = mt.annotate_rows(hpo = hl.array(hl.set(genes.index(mt.locus, all_matches=True)['hpo'])))\n",
    "mt = mt.annotate_rows(cadd = cadd[mt.row_key])\n",
    "mt = mt.annotate_rows(vep = vep[mt.row_key])\n",
    "mt = mt.annotate_cols(sport_phenotypes = sport_pheno[mt.s])\n",
    "mt = mt.annotate_rows(polish_af = poles.rows()[mt.row_key]['info'])\n",
    "\n",
    "\n",
    "mt.write('/net/archive/groups/plggneuromol/imdik-zekanowski-sportwgs/results/hail-mts/acvr-anno.mt')"
   ]
  },
  {
   "cell_type": "code",
   "execution_count": 26,
   "id": "1a9c4d92",
   "metadata": {},
   "outputs": [],
   "source": [
    "mt = hl.read_matrix_table('/net/archive/groups/plggneuromol/imdik-zekanowski-sportwgs/results/hail-mts/acvr-anno.mt')"
   ]
  },
  {
   "cell_type": "code",
   "execution_count": 27,
   "id": "e39992b6",
   "metadata": {},
   "outputs": [
    {
     "data": {
      "text/plain": [
       "(402, 143)"
      ]
     },
     "execution_count": 27,
     "metadata": {},
     "output_type": "execute_result"
    }
   ],
   "source": [
    "mt.count()"
   ]
  },
  {
   "cell_type": "code",
   "execution_count": 28,
   "id": "77a80b39",
   "metadata": {},
   "outputs": [
    {
     "name": "stderr",
     "output_type": "stream",
     "text": [
      "2022-04-25 10:13:15 Hail: INFO: wrote table with 402 rows in 2 partitions to /net/archive/groups/plggneuromol/imdik-zekanowski-sportwgs/results/hail-mts/acvr-to-export.mt\n"
     ]
    }
   ],
   "source": [
    "mt = mt.annotate_cols(group = hl.if_else(\n",
    "     mt.s.contains('B'), 'sport', hl.if_else(\n",
    "     mt.s.contains('HG'), '1kg', hl.if_else(\n",
    "           mt.s.contains('NA'), '1kg', 'control'))))\n",
    "\n",
    "mt = mt.annotate_rows(het_non_refs = hl.agg.group_by(mt.group, hl.agg.count_where(mt.GT.is_het())))\n",
    "mt = mt.annotate_rows(hom_refs = hl.agg.group_by(mt.group, hl.agg.count_where(mt.GT.is_hom_ref())))\n",
    "mt = mt.annotate_rows(hom_non_refs = hl.agg.group_by(mt.group, hl.agg.count_where(mt.GT.is_hom_var())))\n",
    "\n",
    "mt = mt.annotate_rows(het_non_refs_e_vs_s = hl.agg.group_by(mt.sport_phenotypes.type, hl.agg.count_where(mt.GT.is_het())))\n",
    "mt = mt.annotate_rows(hom_refs_e_vs_s = hl.agg.group_by(mt.sport_phenotypes.type, hl.agg.count_where(mt.GT.is_hom_ref())))\n",
    "mt = mt.annotate_rows(hom_non_refs_e_vs_s = hl.agg.group_by(mt.sport_phenotypes.type, hl.agg.count_where(mt.GT.is_hom_var())))\n",
    "\n",
    "sport_AC_non_ref = hl.int32(mt.het_non_refs.get('sport', 0) + (mt.hom_non_refs.get('sport', 0)*2))\n",
    "sport_AC_ref = hl.int32(mt.het_non_refs.get('sport', 0) + (mt.hom_refs.get('sport', 0)*2))\n",
    "control_AC_non_ref = hl.int32(mt.het_non_refs.get('control', 0) + (mt.hom_non_refs.get('control', 0)*2))\n",
    "control_AC_ref = hl.int32(mt.het_non_refs.get('control', 0) + (mt.hom_refs.get('control', 0)*2))\n",
    "speed_AC_non_ref = hl.int32(mt.het_non_refs_e_vs_s.get('speed', 0) + (mt.hom_non_refs_e_vs_s.get('speed', 0)*2))\n",
    "speed_AC_ref = hl.int32(mt.het_non_refs_e_vs_s.get('speed', 0) + (mt.hom_refs_e_vs_s.get('speed', 0)*2))\n",
    "endurance_AC_non_ref = hl.int32(mt.het_non_refs_e_vs_s.get('endurance', 0) + (mt.hom_non_refs_e_vs_s.get('endurance', 0)*2))\n",
    "endurance_AC_ref = hl.int32(mt.het_non_refs_e_vs_s.get('endurance', 0) + (mt.hom_refs_e_vs_s.get('endurance', 0)*2))\n",
    "gnomad_AC_non_ref = mt.gnomad_v_3_1.freq.AC[2]\n",
    "gnomad_AC_ref = mt.gnomad_v_3_1.freq.AN[2] - mt.gnomad_v_3_1.freq.AC[2]\n",
    "polish_AC_non_ref = hl.int32(mt.polish_af.AC[0])\n",
    "polish_AC_ref = hl.int32(mt.polish_af.AN - mt.polish_af.AC[0])\n",
    "\n",
    "mt = mt.annotate_rows(fisher_sport_vs_control = hl.fisher_exact_test(sport_AC_non_ref, sport_AC_ref, control_AC_non_ref, control_AC_ref),\n",
    "                              fisher_e_vs_s = hl.fisher_exact_test(speed_AC_non_ref, speed_AC_ref, endurance_AC_non_ref, endurance_AC_ref),\n",
    "                              fisher_sport_vs_gnomad = hl.fisher_exact_test(sport_AC_non_ref, sport_AC_ref, gnomad_AC_non_ref, gnomad_AC_ref),\n",
    "                              fisher_sport_vs_polish = hl.fisher_exact_test(sport_AC_non_ref, sport_AC_ref, polish_AC_non_ref, polish_AC_ref))\n",
    "\n",
    "mt = mt.drop(mt['a_index'], mt['was_split'])\n",
    "\n",
    "mt = mt.transmute_rows(DP_stats = mt.dp_qc,\n",
    "                             GQ_stats = mt.gq_qc, \n",
    "                             hwe_controls_p_value = mt.hwe.get('GTS', hl.struct(het_freq_hwe=0.0, p_value=1)).p_value,\n",
    "                             hwe_sport_p_value = mt.hwe.get('sport', hl.struct(het_freq_hwe=0.0, p_value=1)).p_value,\n",
    "                             gnomad_v3_nfe_af = mt.gnomad_v_3_1.freq.AF[2],\n",
    "                             gnomad_v3_nfe_homozygote_count = mt.gnomad_v_3_1.freq.homozygote_count[2],\n",
    "                             cadd = mt.cadd.score_phred,\n",
    "                             within_gene = mt.within_gene,\n",
    "                             hpo = mt.hpo,\n",
    "                             fisher_sport_vs_control  = mt.fisher_sport_vs_control,\n",
    "                             fisher_e_vs_s = mt.fisher_e_vs_s ,\n",
    "                             fisher_sport_vs_gnomad  = mt.fisher_sport_vs_gnomad,\n",
    "                             fisher_sport_vs_polish = mt.fisher_sport_vs_polish,                         \n",
    "                             het_sport = mt.het_non_refs.get('sport', 0),\n",
    "                             het_controls = mt.het_non_refs.get('control', 0),\n",
    "                             hom_ref_sport = mt.hom_refs.get('sport', 0),\n",
    "                             hom_ref_controls = mt.hom_refs.get('control', 0),\n",
    "                             hom_var_sport = mt.hom_non_refs.get('sport', 0),\n",
    "                             how_var_controls = mt.hom_non_refs.get('control',0),\n",
    "                             het_endurance = mt.het_non_refs_e_vs_s.get('endurance', 0),\n",
    "                             het_speed = mt.het_non_refs_e_vs_s.get('speed', 0),\n",
    "                             hom_ref_endurance = mt.hom_refs_e_vs_s.get('endurance', 0),\n",
    "                             hom_ref_speed = mt.hom_refs_e_vs_s.get('speed', 0),\n",
    "                             hom_var_endurance = mt.hom_non_refs_e_vs_s.get('endurance', 0),\n",
    "                             how_var_speed = mt.hom_non_refs_e_vs_s.get('speed',0),\n",
    "                             most_severe_consequence = mt.vep.vep.most_severe_consequence,\n",
    "                             transcript_consequences = mt.vep.vep.transcript_consequences,\n",
    "                             intergenic_consequences = mt.vep.vep.intergenic_consequences,\n",
    "                             motif_feature_consequences = mt.vep.vep.motif_feature_consequences,\n",
    "                             regulatory_feature_consequences = mt.vep.vep.regulatory_feature_consequences,\n",
    "                             polish_af = mt.polish_af)\n",
    "\n",
    "mt = mt.select_entries(mt.GT)\n",
    "\n",
    "mt = mt.make_table()\n",
    "mt.write('/net/archive/groups/plggneuromol/imdik-zekanowski-sportwgs/results/hail-mts/acvr-to-export.mt')"
   ]
  },
  {
   "cell_type": "code",
   "execution_count": 29,
   "id": "7536e513",
   "metadata": {},
   "outputs": [
    {
     "name": "stderr",
     "output_type": "stream",
     "text": [
      "2022-04-25 10:13:34 Hail: INFO: merging 2 files totalling 2.0M...\n",
      "2022-04-25 10:13:34 Hail: INFO: while writing:\n",
      "    /net/archive/groups/plggneuromol/imdik-zekanowski-sportwgs/results/hail-mts/acvr.csv\n",
      "  merge time: 74.203ms\n",
      "2022-04-25 10:13:34 Hail: INFO: merging 2 files totalling 2.0M...\n",
      "2022-04-25 10:13:34 Hail: INFO: while writing:\n",
      "    acvr.csv\n",
      "  merge time: 16.756ms\n"
     ]
    }
   ],
   "source": [
    "mt = hl.read_table('/net/archive/groups/plggneuromol/imdik-zekanowski-sportwgs/results/hail-mts/acvr-to-export.mt')\n",
    "\n",
    "to_export = mt.flatten()\n",
    "to_export.export('/net/archive/groups/plggneuromol/imdik-zekanowski-sportwgs/results/hail-mts/acvr.csv')\n",
    "to_export.export('acvr.csv')"
   ]
  },
  {
   "cell_type": "code",
   "execution_count": null,
   "id": "a76185bb",
   "metadata": {},
   "outputs": [],
   "source": []
  }
 ],
 "metadata": {
  "kernelspec": {
   "display_name": "Python 3 (ipykernel)",
   "language": "python",
   "name": "python3"
  },
  "language_info": {
   "codemirror_mode": {
    "name": "ipython",
    "version": 3
   },
   "file_extension": ".py",
   "mimetype": "text/x-python",
   "name": "python",
   "nbconvert_exporter": "python",
   "pygments_lexer": "ipython3",
   "version": "3.7.7"
  }
 },
 "nbformat": 4,
 "nbformat_minor": 5
}
