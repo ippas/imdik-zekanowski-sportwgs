{
 "cells": [
  {
   "cell_type": "code",
   "execution_count": 60,
   "id": "b3efb106",
   "metadata": {
    "tags": []
   },
   "outputs": [],
   "source": [
    "import os"
   ]
  },
  {
   "cell_type": "code",
   "execution_count": 61,
   "id": "031fdc23",
   "metadata": {
    "collapsed": true,
    "jupyter": {
     "outputs_hidden": true
    },
    "tags": []
   },
   "outputs": [
    {
     "name": "stderr",
     "output_type": "stream",
     "text": [
      "2023-10-26 15:00:08.088 Hail: WARN: Hail has already been initialized. If this call was intended to change configuration, close the session with hl.stop() first.\n"
     ]
    },
    {
     "ename": "FatalError",
     "evalue": "IllegalArgumentException: requirement failed\n\nJava stack trace:\njava.lang.IllegalArgumentException: requirement failed\n\tat scala.Predef$.require(Predef.scala:268)\n\tat is.hail.backend.spark.SparkBackend$.apply(SparkBackend.scala:226)\n\tat is.hail.backend.spark.SparkBackend.apply(SparkBackend.scala)\n\tat java.base/jdk.internal.reflect.NativeMethodAccessorImpl.invoke0(Native Method)\n\tat java.base/jdk.internal.reflect.NativeMethodAccessorImpl.invoke(NativeMethodAccessorImpl.java:62)\n\tat java.base/jdk.internal.reflect.DelegatingMethodAccessorImpl.invoke(DelegatingMethodAccessorImpl.java:43)\n\tat java.base/java.lang.reflect.Method.invoke(Method.java:566)\n\tat py4j.reflection.MethodInvoker.invoke(MethodInvoker.java:244)\n\tat py4j.reflection.ReflectionEngine.invoke(ReflectionEngine.java:357)\n\tat py4j.Gateway.invoke(Gateway.java:282)\n\tat py4j.commands.AbstractCommand.invokeMethod(AbstractCommand.java:132)\n\tat py4j.commands.CallCommand.execute(CallCommand.java:79)\n\tat py4j.GatewayConnection.run(GatewayConnection.java:238)\n\tat java.base/java.lang.Thread.run(Thread.java:834)\n\n\n\nHail version: 0.2.109-b71b065e4bb6\nError summary: IllegalArgumentException: requirement failed",
     "output_type": "error",
     "traceback": [
      "\u001b[0;31m---------------------------------------------------------------------------\u001b[0m",
      "\u001b[0;31mFatalError\u001b[0m                                Traceback (most recent call last)",
      "Cell \u001b[0;32mIn[61], line 5\u001b[0m\n\u001b[1;32m      1\u001b[0m \u001b[38;5;28;01mimport\u001b[39;00m \u001b[38;5;21;01mhail\u001b[39;00m \u001b[38;5;28;01mas\u001b[39;00m \u001b[38;5;21;01mhl\u001b[39;00m\n\u001b[1;32m      3\u001b[0m localfs_path \u001b[38;5;241m=\u001b[39m os\u001b[38;5;241m.\u001b[39menviron\u001b[38;5;241m.\u001b[39mget(\u001b[38;5;124m'\u001b[39m\u001b[38;5;124mSCRATCH_LOCAL\u001b[39m\u001b[38;5;124m'\u001b[39m) \u001b[38;5;241m+\u001b[39m \u001b[38;5;124m'\u001b[39m\u001b[38;5;124m/\u001b[39m\u001b[38;5;124m'\u001b[39m\n\u001b[0;32m----> 5\u001b[0m \u001b[43mhl\u001b[49m\u001b[38;5;241;43m.\u001b[39;49m\u001b[43minit\u001b[49m\u001b[43m(\u001b[49m\n\u001b[1;32m      6\u001b[0m \u001b[43m    \u001b[49m\u001b[43mtmp_dir\u001b[49m\u001b[38;5;241;43m=\u001b[39;49m\u001b[43mlocalfs_path\u001b[49m\u001b[43m,\u001b[49m\n\u001b[1;32m      7\u001b[0m \u001b[43m    \u001b[49m\u001b[43mlocal_tmpdir\u001b[49m\u001b[38;5;241;43m=\u001b[39;49m\u001b[43mlocalfs_path\u001b[49m\n\u001b[1;32m      8\u001b[0m \u001b[43m       \u001b[49m\u001b[43m)\u001b[49m\n",
      "File \u001b[0;32m<decorator-gen-1788>:2\u001b[0m, in \u001b[0;36minit\u001b[0;34m(sc, app_name, master, local, log, quiet, append, min_block_size, branching_factor, tmp_dir, default_reference, idempotent, global_seed, spark_conf, skip_logging_configuration, local_tmpdir, _optimizer_iterations, backend, driver_cores, driver_memory, worker_cores, worker_memory, gcs_requester_pays_configuration)\u001b[0m\n",
      "File \u001b[0;32m/net/pr2/projects/plgrid/plggneuromol/imdik-zekanowski-sportwgs/venv-hail-0.2.109/lib/python3.10/site-packages/hail/typecheck/check.py:577\u001b[0m, in \u001b[0;36m_make_dec.<locals>.wrapper\u001b[0;34m(__original_func, *args, **kwargs)\u001b[0m\n\u001b[1;32m    574\u001b[0m \u001b[38;5;129m@decorator\u001b[39m\n\u001b[1;32m    575\u001b[0m \u001b[38;5;28;01mdef\u001b[39;00m \u001b[38;5;21mwrapper\u001b[39m(__original_func, \u001b[38;5;241m*\u001b[39margs, \u001b[38;5;241m*\u001b[39m\u001b[38;5;241m*\u001b[39mkwargs):\n\u001b[1;32m    576\u001b[0m     args_, kwargs_ \u001b[38;5;241m=\u001b[39m check_all(__original_func, args, kwargs, checkers, is_method\u001b[38;5;241m=\u001b[39mis_method)\n\u001b[0;32m--> 577\u001b[0m     \u001b[38;5;28;01mreturn\u001b[39;00m \u001b[43m__original_func\u001b[49m\u001b[43m(\u001b[49m\u001b[38;5;241;43m*\u001b[39;49m\u001b[43margs_\u001b[49m\u001b[43m,\u001b[49m\u001b[43m \u001b[49m\u001b[38;5;241;43m*\u001b[39;49m\u001b[38;5;241;43m*\u001b[39;49m\u001b[43mkwargs_\u001b[49m\u001b[43m)\u001b[49m\n",
      "File \u001b[0;32m/net/pr2/projects/plgrid/plggneuromol/imdik-zekanowski-sportwgs/venv-hail-0.2.109/lib/python3.10/site-packages/hail/context.py:345\u001b[0m, in \u001b[0;36minit\u001b[0;34m(sc, app_name, master, local, log, quiet, append, min_block_size, branching_factor, tmp_dir, default_reference, idempotent, global_seed, spark_conf, skip_logging_configuration, local_tmpdir, _optimizer_iterations, backend, driver_cores, driver_memory, worker_cores, worker_memory, gcs_requester_pays_configuration)\u001b[0m\n\u001b[1;32m    329\u001b[0m     \u001b[38;5;28;01mreturn\u001b[39;00m asyncio\u001b[38;5;241m.\u001b[39mget_event_loop()\u001b[38;5;241m.\u001b[39mrun_until_complete(init_batch(\n\u001b[1;32m    330\u001b[0m         log\u001b[38;5;241m=\u001b[39mlog,\n\u001b[1;32m    331\u001b[0m         quiet\u001b[38;5;241m=\u001b[39mquiet,\n\u001b[0;32m   (...)\u001b[0m\n\u001b[1;32m    342\u001b[0m         gcs_requester_pays_configuration\u001b[38;5;241m=\u001b[39mgcs_requester_pays_configuration\n\u001b[1;32m    343\u001b[0m     ))\n\u001b[1;32m    344\u001b[0m \u001b[38;5;28;01mif\u001b[39;00m backend \u001b[38;5;241m==\u001b[39m \u001b[38;5;124m'\u001b[39m\u001b[38;5;124mspark\u001b[39m\u001b[38;5;124m'\u001b[39m:\n\u001b[0;32m--> 345\u001b[0m     \u001b[38;5;28;01mreturn\u001b[39;00m \u001b[43minit_spark\u001b[49m\u001b[43m(\u001b[49m\n\u001b[1;32m    346\u001b[0m \u001b[43m        \u001b[49m\u001b[43msc\u001b[49m\u001b[38;5;241;43m=\u001b[39;49m\u001b[43msc\u001b[49m\u001b[43m,\u001b[49m\n\u001b[1;32m    347\u001b[0m \u001b[43m        \u001b[49m\u001b[43mapp_name\u001b[49m\u001b[38;5;241;43m=\u001b[39;49m\u001b[43mapp_name\u001b[49m\u001b[43m,\u001b[49m\n\u001b[1;32m    348\u001b[0m \u001b[43m        \u001b[49m\u001b[43mmaster\u001b[49m\u001b[38;5;241;43m=\u001b[39;49m\u001b[43mmaster\u001b[49m\u001b[43m,\u001b[49m\n\u001b[1;32m    349\u001b[0m \u001b[43m        \u001b[49m\u001b[43mlocal\u001b[49m\u001b[38;5;241;43m=\u001b[39;49m\u001b[43mlocal\u001b[49m\u001b[43m,\u001b[49m\n\u001b[1;32m    350\u001b[0m \u001b[43m        \u001b[49m\u001b[43mmin_block_size\u001b[49m\u001b[38;5;241;43m=\u001b[39;49m\u001b[43mmin_block_size\u001b[49m\u001b[43m,\u001b[49m\n\u001b[1;32m    351\u001b[0m \u001b[43m        \u001b[49m\u001b[43mbranching_factor\u001b[49m\u001b[38;5;241;43m=\u001b[39;49m\u001b[43mbranching_factor\u001b[49m\u001b[43m,\u001b[49m\n\u001b[1;32m    352\u001b[0m \u001b[43m        \u001b[49m\u001b[43mspark_conf\u001b[49m\u001b[38;5;241;43m=\u001b[39;49m\u001b[43mspark_conf\u001b[49m\u001b[43m,\u001b[49m\n\u001b[1;32m    353\u001b[0m \u001b[43m        \u001b[49m\u001b[43m_optimizer_iterations\u001b[49m\u001b[38;5;241;43m=\u001b[39;49m\u001b[43m_optimizer_iterations\u001b[49m\u001b[43m,\u001b[49m\n\u001b[1;32m    354\u001b[0m \u001b[43m        \u001b[49m\u001b[43mlog\u001b[49m\u001b[38;5;241;43m=\u001b[39;49m\u001b[43mlog\u001b[49m\u001b[43m,\u001b[49m\n\u001b[1;32m    355\u001b[0m \u001b[43m        \u001b[49m\u001b[43mquiet\u001b[49m\u001b[38;5;241;43m=\u001b[39;49m\u001b[43mquiet\u001b[49m\u001b[43m,\u001b[49m\n\u001b[1;32m    356\u001b[0m \u001b[43m        \u001b[49m\u001b[43mappend\u001b[49m\u001b[38;5;241;43m=\u001b[39;49m\u001b[43mappend\u001b[49m\u001b[43m,\u001b[49m\n\u001b[1;32m    357\u001b[0m \u001b[43m        \u001b[49m\u001b[43mtmp_dir\u001b[49m\u001b[38;5;241;43m=\u001b[39;49m\u001b[43mtmp_dir\u001b[49m\u001b[43m,\u001b[49m\n\u001b[1;32m    358\u001b[0m \u001b[43m        \u001b[49m\u001b[43mlocal_tmpdir\u001b[49m\u001b[38;5;241;43m=\u001b[39;49m\u001b[43mlocal_tmpdir\u001b[49m\u001b[43m,\u001b[49m\n\u001b[1;32m    359\u001b[0m \u001b[43m        \u001b[49m\u001b[43mdefault_reference\u001b[49m\u001b[38;5;241;43m=\u001b[39;49m\u001b[43mdefault_reference\u001b[49m\u001b[43m,\u001b[49m\n\u001b[1;32m    360\u001b[0m \u001b[43m        \u001b[49m\u001b[43mglobal_seed\u001b[49m\u001b[38;5;241;43m=\u001b[39;49m\u001b[43mglobal_seed\u001b[49m\u001b[43m,\u001b[49m\n\u001b[1;32m    361\u001b[0m \u001b[43m        \u001b[49m\u001b[43mskip_logging_configuration\u001b[49m\u001b[38;5;241;43m=\u001b[39;49m\u001b[43mskip_logging_configuration\u001b[49m\u001b[43m,\u001b[49m\n\u001b[1;32m    362\u001b[0m \u001b[43m        \u001b[49m\u001b[43mgcs_requester_pays_configuration\u001b[49m\u001b[38;5;241;43m=\u001b[39;49m\u001b[43mgcs_requester_pays_configuration\u001b[49m\n\u001b[1;32m    363\u001b[0m \u001b[43m    \u001b[49m\u001b[43m)\u001b[49m\n\u001b[1;32m    364\u001b[0m \u001b[38;5;28;01mif\u001b[39;00m backend \u001b[38;5;241m==\u001b[39m \u001b[38;5;124m'\u001b[39m\u001b[38;5;124mlocal\u001b[39m\u001b[38;5;124m'\u001b[39m:\n\u001b[1;32m    365\u001b[0m     \u001b[38;5;28;01mreturn\u001b[39;00m init_local(\n\u001b[1;32m    366\u001b[0m         log\u001b[38;5;241m=\u001b[39mlog,\n\u001b[1;32m    367\u001b[0m         quiet\u001b[38;5;241m=\u001b[39mquiet,\n\u001b[0;32m   (...)\u001b[0m\n\u001b[1;32m    373\u001b[0m         gcs_requester_pays_configuration\u001b[38;5;241m=\u001b[39mgcs_requester_pays_configuration\n\u001b[1;32m    374\u001b[0m     )\n",
      "File \u001b[0;32m<decorator-gen-1790>:2\u001b[0m, in \u001b[0;36minit_spark\u001b[0;34m(sc, app_name, master, local, log, quiet, append, min_block_size, branching_factor, tmp_dir, default_reference, idempotent, global_seed, spark_conf, skip_logging_configuration, local_tmpdir, _optimizer_iterations, gcs_requester_pays_configuration)\u001b[0m\n",
      "File \u001b[0;32m/net/pr2/projects/plgrid/plggneuromol/imdik-zekanowski-sportwgs/venv-hail-0.2.109/lib/python3.10/site-packages/hail/typecheck/check.py:577\u001b[0m, in \u001b[0;36m_make_dec.<locals>.wrapper\u001b[0;34m(__original_func, *args, **kwargs)\u001b[0m\n\u001b[1;32m    574\u001b[0m \u001b[38;5;129m@decorator\u001b[39m\n\u001b[1;32m    575\u001b[0m \u001b[38;5;28;01mdef\u001b[39;00m \u001b[38;5;21mwrapper\u001b[39m(__original_func, \u001b[38;5;241m*\u001b[39margs, \u001b[38;5;241m*\u001b[39m\u001b[38;5;241m*\u001b[39mkwargs):\n\u001b[1;32m    576\u001b[0m     args_, kwargs_ \u001b[38;5;241m=\u001b[39m check_all(__original_func, args, kwargs, checkers, is_method\u001b[38;5;241m=\u001b[39mis_method)\n\u001b[0;32m--> 577\u001b[0m     \u001b[38;5;28;01mreturn\u001b[39;00m \u001b[43m__original_func\u001b[49m\u001b[43m(\u001b[49m\u001b[38;5;241;43m*\u001b[39;49m\u001b[43margs_\u001b[49m\u001b[43m,\u001b[49m\u001b[43m \u001b[49m\u001b[38;5;241;43m*\u001b[39;49m\u001b[38;5;241;43m*\u001b[39;49m\u001b[43mkwargs_\u001b[49m\u001b[43m)\u001b[49m\n",
      "File \u001b[0;32m/net/pr2/projects/plgrid/plggneuromol/imdik-zekanowski-sportwgs/venv-hail-0.2.109/lib/python3.10/site-packages/hail/context.py:424\u001b[0m, in \u001b[0;36minit_spark\u001b[0;34m(sc, app_name, master, local, log, quiet, append, min_block_size, branching_factor, tmp_dir, default_reference, idempotent, global_seed, spark_conf, skip_logging_configuration, local_tmpdir, _optimizer_iterations, gcs_requester_pays_configuration)\u001b[0m\n\u001b[1;32m    422\u001b[0m app_name \u001b[38;5;241m=\u001b[39m app_name \u001b[38;5;129;01mor\u001b[39;00m \u001b[38;5;124m'\u001b[39m\u001b[38;5;124mHail\u001b[39m\u001b[38;5;124m'\u001b[39m\n\u001b[1;32m    423\u001b[0m gcs_requester_pays_project, gcs_requester_pays_buckets \u001b[38;5;241m=\u001b[39m convert_gcs_requester_pays_configuration_to_hadoop_conf_style(gcs_requester_pays_configuration)\n\u001b[0;32m--> 424\u001b[0m backend \u001b[38;5;241m=\u001b[39m \u001b[43mSparkBackend\u001b[49m\u001b[43m(\u001b[49m\n\u001b[1;32m    425\u001b[0m \u001b[43m    \u001b[49m\u001b[43midempotent\u001b[49m\u001b[43m,\u001b[49m\u001b[43m \u001b[49m\u001b[43msc\u001b[49m\u001b[43m,\u001b[49m\u001b[43m \u001b[49m\u001b[43mspark_conf\u001b[49m\u001b[43m,\u001b[49m\u001b[43m \u001b[49m\u001b[43mapp_name\u001b[49m\u001b[43m,\u001b[49m\u001b[43m \u001b[49m\u001b[43mmaster\u001b[49m\u001b[43m,\u001b[49m\u001b[43m \u001b[49m\u001b[43mlocal\u001b[49m\u001b[43m,\u001b[49m\u001b[43m \u001b[49m\u001b[43mlog\u001b[49m\u001b[43m,\u001b[49m\n\u001b[1;32m    426\u001b[0m \u001b[43m    \u001b[49m\u001b[43mquiet\u001b[49m\u001b[43m,\u001b[49m\u001b[43m \u001b[49m\u001b[43mappend\u001b[49m\u001b[43m,\u001b[49m\u001b[43m \u001b[49m\u001b[43mmin_block_size\u001b[49m\u001b[43m,\u001b[49m\u001b[43m \u001b[49m\u001b[43mbranching_factor\u001b[49m\u001b[43m,\u001b[49m\u001b[43m \u001b[49m\u001b[43mtmpdir\u001b[49m\u001b[43m,\u001b[49m\u001b[43m \u001b[49m\u001b[43mlocal_tmpdir\u001b[49m\u001b[43m,\u001b[49m\n\u001b[1;32m    427\u001b[0m \u001b[43m    \u001b[49m\u001b[43mskip_logging_configuration\u001b[49m\u001b[43m,\u001b[49m\u001b[43m \u001b[49m\u001b[43moptimizer_iterations\u001b[49m\u001b[43m,\u001b[49m\n\u001b[1;32m    428\u001b[0m \u001b[43m    \u001b[49m\u001b[43mgcs_requester_pays_project\u001b[49m\u001b[38;5;241;43m=\u001b[39;49m\u001b[43mgcs_requester_pays_project\u001b[49m\u001b[43m,\u001b[49m\n\u001b[1;32m    429\u001b[0m \u001b[43m    \u001b[49m\u001b[43mgcs_requester_pays_buckets\u001b[49m\u001b[38;5;241;43m=\u001b[39;49m\u001b[43mgcs_requester_pays_buckets\u001b[49m\n\u001b[1;32m    430\u001b[0m \u001b[43m\u001b[49m\u001b[43m)\u001b[49m\n\u001b[1;32m    431\u001b[0m \u001b[38;5;28;01mif\u001b[39;00m \u001b[38;5;129;01mnot\u001b[39;00m backend\u001b[38;5;241m.\u001b[39mfs\u001b[38;5;241m.\u001b[39mexists(tmpdir):\n\u001b[1;32m    432\u001b[0m     backend\u001b[38;5;241m.\u001b[39mfs\u001b[38;5;241m.\u001b[39mmkdir(tmpdir)\n",
      "File \u001b[0;32m/net/pr2/projects/plgrid/plggneuromol/imdik-zekanowski-sportwgs/venv-hail-0.2.109/lib/python3.10/site-packages/hail/backend/spark_backend.py:188\u001b[0m, in \u001b[0;36mSparkBackend.__init__\u001b[0;34m(self, idempotent, sc, spark_conf, app_name, master, local, log, quiet, append, min_block_size, branching_factor, tmpdir, local_tmpdir, skip_logging_configuration, optimizer_iterations, gcs_requester_pays_project, gcs_requester_pays_buckets)\u001b[0m\n\u001b[1;32m    185\u001b[0m     \u001b[38;5;28mself\u001b[39m\u001b[38;5;241m.\u001b[39m_jhc \u001b[38;5;241m=\u001b[39m hail_package\u001b[38;5;241m.\u001b[39mHailContext\u001b[38;5;241m.\u001b[39mgetOrCreate(\n\u001b[1;32m    186\u001b[0m         \u001b[38;5;28mself\u001b[39m\u001b[38;5;241m.\u001b[39m_jbackend, log, \u001b[38;5;28;01mTrue\u001b[39;00m, append, branching_factor, skip_logging_configuration, optimizer_iterations)\n\u001b[1;32m    187\u001b[0m \u001b[38;5;28;01melse\u001b[39;00m:\n\u001b[0;32m--> 188\u001b[0m     \u001b[38;5;28mself\u001b[39m\u001b[38;5;241m.\u001b[39m_jbackend \u001b[38;5;241m=\u001b[39m \u001b[43mhail_package\u001b[49m\u001b[38;5;241;43m.\u001b[39;49m\u001b[43mbackend\u001b[49m\u001b[38;5;241;43m.\u001b[39;49m\u001b[43mspark\u001b[49m\u001b[38;5;241;43m.\u001b[39;49m\u001b[43mSparkBackend\u001b[49m\u001b[38;5;241;43m.\u001b[39;49m\u001b[43mapply\u001b[49m\u001b[43m(\u001b[49m\n\u001b[1;32m    189\u001b[0m \u001b[43m        \u001b[49m\u001b[43mjsc\u001b[49m\u001b[43m,\u001b[49m\u001b[43m \u001b[49m\u001b[43mapp_name\u001b[49m\u001b[43m,\u001b[49m\u001b[43m \u001b[49m\u001b[43mmaster\u001b[49m\u001b[43m,\u001b[49m\u001b[43m \u001b[49m\u001b[43mlocal\u001b[49m\u001b[43m,\u001b[49m\u001b[43m \u001b[49m\u001b[38;5;28;43;01mTrue\u001b[39;49;00m\u001b[43m,\u001b[49m\u001b[43m \u001b[49m\u001b[43mmin_block_size\u001b[49m\u001b[43m,\u001b[49m\u001b[43m \u001b[49m\u001b[43mtmpdir\u001b[49m\u001b[43m,\u001b[49m\u001b[43m \u001b[49m\u001b[43mlocal_tmpdir\u001b[49m\u001b[43m,\u001b[49m\n\u001b[1;32m    190\u001b[0m \u001b[43m        \u001b[49m\u001b[43mgcs_requester_pays_project\u001b[49m\u001b[43m,\u001b[49m\u001b[43m \u001b[49m\u001b[43mgcs_requester_pays_buckets\u001b[49m\u001b[43m)\u001b[49m\n\u001b[1;32m    191\u001b[0m     \u001b[38;5;28mself\u001b[39m\u001b[38;5;241m.\u001b[39m_jhc \u001b[38;5;241m=\u001b[39m hail_package\u001b[38;5;241m.\u001b[39mHailContext\u001b[38;5;241m.\u001b[39mapply(\n\u001b[1;32m    192\u001b[0m         \u001b[38;5;28mself\u001b[39m\u001b[38;5;241m.\u001b[39m_jbackend, log, \u001b[38;5;28;01mTrue\u001b[39;00m, append, branching_factor, skip_logging_configuration, optimizer_iterations)\n\u001b[1;32m    194\u001b[0m \u001b[38;5;28mself\u001b[39m\u001b[38;5;241m.\u001b[39m_jsc \u001b[38;5;241m=\u001b[39m \u001b[38;5;28mself\u001b[39m\u001b[38;5;241m.\u001b[39m_jbackend\u001b[38;5;241m.\u001b[39msc()\n",
      "File \u001b[0;32m/net/pr2/projects/plgrid/plggneuromol/imdik-zekanowski-sportwgs/venv-hail-0.2.109/lib/python3.10/site-packages/py4j/java_gateway.py:1304\u001b[0m, in \u001b[0;36mJavaMember.__call__\u001b[0;34m(self, *args)\u001b[0m\n\u001b[1;32m   1298\u001b[0m command \u001b[38;5;241m=\u001b[39m proto\u001b[38;5;241m.\u001b[39mCALL_COMMAND_NAME \u001b[38;5;241m+\u001b[39m\\\n\u001b[1;32m   1299\u001b[0m     \u001b[38;5;28mself\u001b[39m\u001b[38;5;241m.\u001b[39mcommand_header \u001b[38;5;241m+\u001b[39m\\\n\u001b[1;32m   1300\u001b[0m     args_command \u001b[38;5;241m+\u001b[39m\\\n\u001b[1;32m   1301\u001b[0m     proto\u001b[38;5;241m.\u001b[39mEND_COMMAND_PART\n\u001b[1;32m   1303\u001b[0m answer \u001b[38;5;241m=\u001b[39m \u001b[38;5;28mself\u001b[39m\u001b[38;5;241m.\u001b[39mgateway_client\u001b[38;5;241m.\u001b[39msend_command(command)\n\u001b[0;32m-> 1304\u001b[0m return_value \u001b[38;5;241m=\u001b[39m \u001b[43mget_return_value\u001b[49m\u001b[43m(\u001b[49m\n\u001b[1;32m   1305\u001b[0m \u001b[43m    \u001b[49m\u001b[43manswer\u001b[49m\u001b[43m,\u001b[49m\u001b[43m \u001b[49m\u001b[38;5;28;43mself\u001b[39;49m\u001b[38;5;241;43m.\u001b[39;49m\u001b[43mgateway_client\u001b[49m\u001b[43m,\u001b[49m\u001b[43m \u001b[49m\u001b[38;5;28;43mself\u001b[39;49m\u001b[38;5;241;43m.\u001b[39;49m\u001b[43mtarget_id\u001b[49m\u001b[43m,\u001b[49m\u001b[43m \u001b[49m\u001b[38;5;28;43mself\u001b[39;49m\u001b[38;5;241;43m.\u001b[39;49m\u001b[43mname\u001b[49m\u001b[43m)\u001b[49m\n\u001b[1;32m   1307\u001b[0m \u001b[38;5;28;01mfor\u001b[39;00m temp_arg \u001b[38;5;129;01min\u001b[39;00m temp_args:\n\u001b[1;32m   1308\u001b[0m     temp_arg\u001b[38;5;241m.\u001b[39m_detach()\n",
      "File \u001b[0;32m/net/pr2/projects/plgrid/plggneuromol/imdik-zekanowski-sportwgs/venv-hail-0.2.109/lib/python3.10/site-packages/hail/backend/py4j_backend.py:31\u001b[0m, in \u001b[0;36mhandle_java_exception.<locals>.deco\u001b[0;34m(*args, **kwargs)\u001b[0m\n\u001b[1;32m     29\u001b[0m     tpl \u001b[38;5;241m=\u001b[39m Env\u001b[38;5;241m.\u001b[39mjutils()\u001b[38;5;241m.\u001b[39mhandleForPython(e\u001b[38;5;241m.\u001b[39mjava_exception)\n\u001b[1;32m     30\u001b[0m     deepest, full, error_id \u001b[38;5;241m=\u001b[39m tpl\u001b[38;5;241m.\u001b[39m_1(), tpl\u001b[38;5;241m.\u001b[39m_2(), tpl\u001b[38;5;241m.\u001b[39m_3()\n\u001b[0;32m---> 31\u001b[0m     \u001b[38;5;28;01mraise\u001b[39;00m fatal_error_from_java_error_triplet(deepest, full, error_id) \u001b[38;5;28;01mfrom\u001b[39;00m \u001b[38;5;28mNone\u001b[39m\n\u001b[1;32m     32\u001b[0m \u001b[38;5;28;01mexcept\u001b[39;00m pyspark\u001b[38;5;241m.\u001b[39msql\u001b[38;5;241m.\u001b[39mutils\u001b[38;5;241m.\u001b[39mCapturedException \u001b[38;5;28;01mas\u001b[39;00m e:\n\u001b[1;32m     33\u001b[0m     \u001b[38;5;28;01mraise\u001b[39;00m FatalError(\u001b[38;5;124m'\u001b[39m\u001b[38;5;132;01m%s\u001b[39;00m\u001b[38;5;130;01m\\n\u001b[39;00m\u001b[38;5;130;01m\\n\u001b[39;00m\u001b[38;5;124mJava stack trace:\u001b[39m\u001b[38;5;130;01m\\n\u001b[39;00m\u001b[38;5;132;01m%s\u001b[39;00m\u001b[38;5;130;01m\\n\u001b[39;00m\u001b[38;5;124m'\u001b[39m\n\u001b[1;32m     34\u001b[0m                      \u001b[38;5;124m'\u001b[39m\u001b[38;5;124mHail version: \u001b[39m\u001b[38;5;132;01m%s\u001b[39;00m\u001b[38;5;130;01m\\n\u001b[39;00m\u001b[38;5;124m'\u001b[39m\n\u001b[1;32m     35\u001b[0m                      \u001b[38;5;124m'\u001b[39m\u001b[38;5;124mError summary: \u001b[39m\u001b[38;5;132;01m%s\u001b[39;00m\u001b[38;5;124m'\u001b[39m \u001b[38;5;241m%\u001b[39m (e\u001b[38;5;241m.\u001b[39mdesc, e\u001b[38;5;241m.\u001b[39mstackTrace, hail\u001b[38;5;241m.\u001b[39m__version__, e\u001b[38;5;241m.\u001b[39mdesc)) \u001b[38;5;28;01mfrom\u001b[39;00m \u001b[38;5;28mNone\u001b[39m\n",
      "\u001b[0;31mFatalError\u001b[0m: IllegalArgumentException: requirement failed\n\nJava stack trace:\njava.lang.IllegalArgumentException: requirement failed\n\tat scala.Predef$.require(Predef.scala:268)\n\tat is.hail.backend.spark.SparkBackend$.apply(SparkBackend.scala:226)\n\tat is.hail.backend.spark.SparkBackend.apply(SparkBackend.scala)\n\tat java.base/jdk.internal.reflect.NativeMethodAccessorImpl.invoke0(Native Method)\n\tat java.base/jdk.internal.reflect.NativeMethodAccessorImpl.invoke(NativeMethodAccessorImpl.java:62)\n\tat java.base/jdk.internal.reflect.DelegatingMethodAccessorImpl.invoke(DelegatingMethodAccessorImpl.java:43)\n\tat java.base/java.lang.reflect.Method.invoke(Method.java:566)\n\tat py4j.reflection.MethodInvoker.invoke(MethodInvoker.java:244)\n\tat py4j.reflection.ReflectionEngine.invoke(ReflectionEngine.java:357)\n\tat py4j.Gateway.invoke(Gateway.java:282)\n\tat py4j.commands.AbstractCommand.invokeMethod(AbstractCommand.java:132)\n\tat py4j.commands.CallCommand.execute(CallCommand.java:79)\n\tat py4j.GatewayConnection.run(GatewayConnection.java:238)\n\tat java.base/java.lang.Thread.run(Thread.java:834)\n\n\n\nHail version: 0.2.109-b71b065e4bb6\nError summary: IllegalArgumentException: requirement failed"
     ]
    }
   ],
   "source": [
    "import hail as hl\n",
    "\n",
    "localfs_path = os.environ.get('SCRATCH_LOCAL') + '/'\n",
    "\n",
    "hl.init(\n",
    "    tmp_dir=localfs_path,\n",
    "    local_tmpdir=localfs_path\n",
    "       )"
   ]
  },
  {
   "cell_type": "code",
   "execution_count": 92,
   "id": "06c10ef3",
   "metadata": {
    "tags": []
   },
   "outputs": [
    {
     "data": {
      "text/html": [
       "\n",
       "    <div class=\"bk-root\">\n",
       "        <a href=\"https://bokeh.org\" target=\"_blank\" class=\"bk-logo bk-logo-small bk-logo-notebook\"></a>\n",
       "        <span id=\"1003\">Loading BokehJS ...</span>\n",
       "    </div>"
      ]
     },
     "metadata": {},
     "output_type": "display_data"
    },
    {
     "data": {
      "application/javascript": [
       "\n",
       "(function(root) {\n",
       "  function now() {\n",
       "    return new Date();\n",
       "  }\n",
       "\n",
       "  var force = true;\n",
       "\n",
       "  if (typeof root._bokeh_onload_callbacks === \"undefined\" || force === true) {\n",
       "    root._bokeh_onload_callbacks = [];\n",
       "    root._bokeh_is_loading = undefined;\n",
       "  }\n",
       "\n",
       "  var JS_MIME_TYPE = 'application/javascript';\n",
       "  var HTML_MIME_TYPE = 'text/html';\n",
       "  var EXEC_MIME_TYPE = 'application/vnd.bokehjs_exec.v0+json';\n",
       "  var CLASS_NAME = 'output_bokeh rendered_html';\n",
       "\n",
       "  /**\n",
       "   * Render data to the DOM node\n",
       "   */\n",
       "  function render(props, node) {\n",
       "    var script = document.createElement(\"script\");\n",
       "    node.appendChild(script);\n",
       "  }\n",
       "\n",
       "  /**\n",
       "   * Handle when an output is cleared or removed\n",
       "   */\n",
       "  function handleClearOutput(event, handle) {\n",
       "    var cell = handle.cell;\n",
       "\n",
       "    var id = cell.output_area._bokeh_element_id;\n",
       "    var server_id = cell.output_area._bokeh_server_id;\n",
       "    // Clean up Bokeh references\n",
       "    if (id != null && id in Bokeh.index) {\n",
       "      Bokeh.index[id].model.document.clear();\n",
       "      delete Bokeh.index[id];\n",
       "    }\n",
       "\n",
       "    if (server_id !== undefined) {\n",
       "      // Clean up Bokeh references\n",
       "      var cmd = \"from bokeh.io.state import curstate; print(curstate().uuid_to_server['\" + server_id + \"'].get_sessions()[0].document.roots[0]._id)\";\n",
       "      cell.notebook.kernel.execute(cmd, {\n",
       "        iopub: {\n",
       "          output: function(msg) {\n",
       "            var id = msg.content.text.trim();\n",
       "            if (id in Bokeh.index) {\n",
       "              Bokeh.index[id].model.document.clear();\n",
       "              delete Bokeh.index[id];\n",
       "            }\n",
       "          }\n",
       "        }\n",
       "      });\n",
       "      // Destroy server and session\n",
       "      var cmd = \"import bokeh.io.notebook as ion; ion.destroy_server('\" + server_id + \"')\";\n",
       "      cell.notebook.kernel.execute(cmd);\n",
       "    }\n",
       "  }\n",
       "\n",
       "  /**\n",
       "   * Handle when a new output is added\n",
       "   */\n",
       "  function handleAddOutput(event, handle) {\n",
       "    var output_area = handle.output_area;\n",
       "    var output = handle.output;\n",
       "\n",
       "    // limit handleAddOutput to display_data with EXEC_MIME_TYPE content only\n",
       "    if ((output.output_type != \"display_data\") || (!output.data.hasOwnProperty(EXEC_MIME_TYPE))) {\n",
       "      return\n",
       "    }\n",
       "\n",
       "    var toinsert = output_area.element.find(\".\" + CLASS_NAME.split(' ')[0]);\n",
       "\n",
       "    if (output.metadata[EXEC_MIME_TYPE][\"id\"] !== undefined) {\n",
       "      toinsert[toinsert.length - 1].firstChild.textContent = output.data[JS_MIME_TYPE];\n",
       "      // store reference to embed id on output_area\n",
       "      output_area._bokeh_element_id = output.metadata[EXEC_MIME_TYPE][\"id\"];\n",
       "    }\n",
       "    if (output.metadata[EXEC_MIME_TYPE][\"server_id\"] !== undefined) {\n",
       "      var bk_div = document.createElement(\"div\");\n",
       "      bk_div.innerHTML = output.data[HTML_MIME_TYPE];\n",
       "      var script_attrs = bk_div.children[0].attributes;\n",
       "      for (var i = 0; i < script_attrs.length; i++) {\n",
       "        toinsert[toinsert.length - 1].firstChild.setAttribute(script_attrs[i].name, script_attrs[i].value);\n",
       "      }\n",
       "      // store reference to server id on output_area\n",
       "      output_area._bokeh_server_id = output.metadata[EXEC_MIME_TYPE][\"server_id\"];\n",
       "    }\n",
       "  }\n",
       "\n",
       "  function register_renderer(events, OutputArea) {\n",
       "\n",
       "    function append_mime(data, metadata, element) {\n",
       "      // create a DOM node to render to\n",
       "      var toinsert = this.create_output_subarea(\n",
       "        metadata,\n",
       "        CLASS_NAME,\n",
       "        EXEC_MIME_TYPE\n",
       "      );\n",
       "      this.keyboard_manager.register_events(toinsert);\n",
       "      // Render to node\n",
       "      var props = {data: data, metadata: metadata[EXEC_MIME_TYPE]};\n",
       "      render(props, toinsert[toinsert.length - 1]);\n",
       "      element.append(toinsert);\n",
       "      return toinsert\n",
       "    }\n",
       "\n",
       "    /* Handle when an output is cleared or removed */\n",
       "    events.on('clear_output.CodeCell', handleClearOutput);\n",
       "    events.on('delete.Cell', handleClearOutput);\n",
       "\n",
       "    /* Handle when a new output is added */\n",
       "    events.on('output_added.OutputArea', handleAddOutput);\n",
       "\n",
       "    /**\n",
       "     * Register the mime type and append_mime function with output_area\n",
       "     */\n",
       "    OutputArea.prototype.register_mime_type(EXEC_MIME_TYPE, append_mime, {\n",
       "      /* Is output safe? */\n",
       "      safe: true,\n",
       "      /* Index of renderer in `output_area.display_order` */\n",
       "      index: 0\n",
       "    });\n",
       "  }\n",
       "\n",
       "  // register the mime type if in Jupyter Notebook environment and previously unregistered\n",
       "  if (root.Jupyter !== undefined) {\n",
       "    var events = require('base/js/events');\n",
       "    var OutputArea = require('notebook/js/outputarea').OutputArea;\n",
       "\n",
       "    if (OutputArea.prototype.mime_types().indexOf(EXEC_MIME_TYPE) == -1) {\n",
       "      register_renderer(events, OutputArea);\n",
       "    }\n",
       "  }\n",
       "\n",
       "  \n",
       "  if (typeof (root._bokeh_timeout) === \"undefined\" || force === true) {\n",
       "    root._bokeh_timeout = Date.now() + 5000;\n",
       "    root._bokeh_failed_load = false;\n",
       "  }\n",
       "\n",
       "  var NB_LOAD_WARNING = {'data': {'text/html':\n",
       "     \"<div style='background-color: #fdd'>\\n\"+\n",
       "     \"<p>\\n\"+\n",
       "     \"BokehJS does not appear to have successfully loaded. If loading BokehJS from CDN, this \\n\"+\n",
       "     \"may be due to a slow or bad network connection. Possible fixes:\\n\"+\n",
       "     \"</p>\\n\"+\n",
       "     \"<ul>\\n\"+\n",
       "     \"<li>re-rerun `output_notebook()` to attempt to load from CDN again, or</li>\\n\"+\n",
       "     \"<li>use INLINE resources instead, as so:</li>\\n\"+\n",
       "     \"</ul>\\n\"+\n",
       "     \"<code>\\n\"+\n",
       "     \"from bokeh.resources import INLINE\\n\"+\n",
       "     \"output_notebook(resources=INLINE)\\n\"+\n",
       "     \"</code>\\n\"+\n",
       "     \"</div>\"}};\n",
       "\n",
       "  function display_loaded() {\n",
       "    var el = document.getElementById(\"1003\");\n",
       "    if (el != null) {\n",
       "      el.textContent = \"BokehJS is loading...\";\n",
       "    }\n",
       "    if (root.Bokeh !== undefined) {\n",
       "      if (el != null) {\n",
       "        el.textContent = \"BokehJS \" + root.Bokeh.version + \" successfully loaded.\";\n",
       "      }\n",
       "    } else if (Date.now() < root._bokeh_timeout) {\n",
       "      setTimeout(display_loaded, 100)\n",
       "    }\n",
       "  }\n",
       "\n",
       "\n",
       "  function run_callbacks() {\n",
       "    try {\n",
       "      root._bokeh_onload_callbacks.forEach(function(callback) {\n",
       "        if (callback != null)\n",
       "          callback();\n",
       "      });\n",
       "    } finally {\n",
       "      delete root._bokeh_onload_callbacks\n",
       "    }\n",
       "    console.debug(\"Bokeh: all callbacks have finished\");\n",
       "  }\n",
       "\n",
       "  function load_libs(css_urls, js_urls, callback) {\n",
       "    if (css_urls == null) css_urls = [];\n",
       "    if (js_urls == null) js_urls = [];\n",
       "\n",
       "    root._bokeh_onload_callbacks.push(callback);\n",
       "    if (root._bokeh_is_loading > 0) {\n",
       "      console.debug(\"Bokeh: BokehJS is being loaded, scheduling callback at\", now());\n",
       "      return null;\n",
       "    }\n",
       "    if (js_urls == null || js_urls.length === 0) {\n",
       "      run_callbacks();\n",
       "      return null;\n",
       "    }\n",
       "    console.debug(\"Bokeh: BokehJS not loaded, scheduling load and callback at\", now());\n",
       "    root._bokeh_is_loading = css_urls.length + js_urls.length;\n",
       "\n",
       "    function on_load() {\n",
       "      root._bokeh_is_loading--;\n",
       "      if (root._bokeh_is_loading === 0) {\n",
       "        console.debug(\"Bokeh: all BokehJS libraries/stylesheets loaded\");\n",
       "        run_callbacks()\n",
       "      }\n",
       "    }\n",
       "\n",
       "    function on_error() {\n",
       "      console.error(\"failed to load \" + url);\n",
       "    }\n",
       "\n",
       "    for (var i = 0; i < css_urls.length; i++) {\n",
       "      var url = css_urls[i];\n",
       "      const element = document.createElement(\"link\");\n",
       "      element.onload = on_load;\n",
       "      element.onerror = on_error;\n",
       "      element.rel = \"stylesheet\";\n",
       "      element.type = \"text/css\";\n",
       "      element.href = url;\n",
       "      console.debug(\"Bokeh: injecting link tag for BokehJS stylesheet: \", url);\n",
       "      document.body.appendChild(element);\n",
       "    }\n",
       "\n",
       "    for (var i = 0; i < js_urls.length; i++) {\n",
       "      var url = js_urls[i];\n",
       "      var element = document.createElement('script');\n",
       "      element.onload = on_load;\n",
       "      element.onerror = on_error;\n",
       "      element.async = false;\n",
       "      element.src = url;\n",
       "      console.debug(\"Bokeh: injecting script tag for BokehJS library: \", url);\n",
       "      document.head.appendChild(element);\n",
       "    }\n",
       "  };var element = document.getElementById(\"1003\");\n",
       "  if (element == null) {\n",
       "    console.error(\"Bokeh: ERROR: autoload.js configured with elementid '1003' but no matching script tag was found. \")\n",
       "    return false;\n",
       "  }\n",
       "\n",
       "  function inject_raw_css(css) {\n",
       "    const element = document.createElement(\"style\");\n",
       "    element.appendChild(document.createTextNode(css));\n",
       "    document.body.appendChild(element);\n",
       "  }\n",
       "\n",
       "  \n",
       "  var js_urls = [\"https://cdn.pydata.org/bokeh/release/bokeh-1.4.0.min.js\", \"https://cdn.pydata.org/bokeh/release/bokeh-widgets-1.4.0.min.js\", \"https://cdn.pydata.org/bokeh/release/bokeh-tables-1.4.0.min.js\", \"https://cdn.pydata.org/bokeh/release/bokeh-gl-1.4.0.min.js\"];\n",
       "  var css_urls = [];\n",
       "  \n",
       "\n",
       "  var inline_js = [\n",
       "    function(Bokeh) {\n",
       "      Bokeh.set_log_level(\"info\");\n",
       "    },\n",
       "    function(Bokeh) {\n",
       "    \n",
       "    \n",
       "    }\n",
       "  ];\n",
       "\n",
       "  function run_inline_js() {\n",
       "    \n",
       "    if (root.Bokeh !== undefined || force === true) {\n",
       "      \n",
       "    for (var i = 0; i < inline_js.length; i++) {\n",
       "      inline_js[i].call(root, root.Bokeh);\n",
       "    }\n",
       "    if (force === true) {\n",
       "        display_loaded();\n",
       "      }} else if (Date.now() < root._bokeh_timeout) {\n",
       "      setTimeout(run_inline_js, 100);\n",
       "    } else if (!root._bokeh_failed_load) {\n",
       "      console.log(\"Bokeh: BokehJS failed to load within specified timeout.\");\n",
       "      root._bokeh_failed_load = true;\n",
       "    } else if (force !== true) {\n",
       "      var cell = $(document.getElementById(\"1003\")).parents('.cell').data().cell;\n",
       "      cell.output_area.append_execute_result(NB_LOAD_WARNING)\n",
       "    }\n",
       "\n",
       "  }\n",
       "\n",
       "  if (root._bokeh_is_loading === 0) {\n",
       "    console.debug(\"Bokeh: BokehJS loaded, going straight to plotting\");\n",
       "    run_inline_js();\n",
       "  } else {\n",
       "    load_libs(css_urls, js_urls, function() {\n",
       "      console.debug(\"Bokeh: BokehJS plotting callback run at\", now());\n",
       "      run_inline_js();\n",
       "    });\n",
       "  }\n",
       "}(window));"
      ],
      "application/vnd.bokehjs_load.v0+json": "\n(function(root) {\n  function now() {\n    return new Date();\n  }\n\n  var force = true;\n\n  if (typeof root._bokeh_onload_callbacks === \"undefined\" || force === true) {\n    root._bokeh_onload_callbacks = [];\n    root._bokeh_is_loading = undefined;\n  }\n\n  \n\n  \n  if (typeof (root._bokeh_timeout) === \"undefined\" || force === true) {\n    root._bokeh_timeout = Date.now() + 5000;\n    root._bokeh_failed_load = false;\n  }\n\n  var NB_LOAD_WARNING = {'data': {'text/html':\n     \"<div style='background-color: #fdd'>\\n\"+\n     \"<p>\\n\"+\n     \"BokehJS does not appear to have successfully loaded. If loading BokehJS from CDN, this \\n\"+\n     \"may be due to a slow or bad network connection. Possible fixes:\\n\"+\n     \"</p>\\n\"+\n     \"<ul>\\n\"+\n     \"<li>re-rerun `output_notebook()` to attempt to load from CDN again, or</li>\\n\"+\n     \"<li>use INLINE resources instead, as so:</li>\\n\"+\n     \"</ul>\\n\"+\n     \"<code>\\n\"+\n     \"from bokeh.resources import INLINE\\n\"+\n     \"output_notebook(resources=INLINE)\\n\"+\n     \"</code>\\n\"+\n     \"</div>\"}};\n\n  function display_loaded() {\n    var el = document.getElementById(\"1003\");\n    if (el != null) {\n      el.textContent = \"BokehJS is loading...\";\n    }\n    if (root.Bokeh !== undefined) {\n      if (el != null) {\n        el.textContent = \"BokehJS \" + root.Bokeh.version + \" successfully loaded.\";\n      }\n    } else if (Date.now() < root._bokeh_timeout) {\n      setTimeout(display_loaded, 100)\n    }\n  }\n\n\n  function run_callbacks() {\n    try {\n      root._bokeh_onload_callbacks.forEach(function(callback) {\n        if (callback != null)\n          callback();\n      });\n    } finally {\n      delete root._bokeh_onload_callbacks\n    }\n    console.debug(\"Bokeh: all callbacks have finished\");\n  }\n\n  function load_libs(css_urls, js_urls, callback) {\n    if (css_urls == null) css_urls = [];\n    if (js_urls == null) js_urls = [];\n\n    root._bokeh_onload_callbacks.push(callback);\n    if (root._bokeh_is_loading > 0) {\n      console.debug(\"Bokeh: BokehJS is being loaded, scheduling callback at\", now());\n      return null;\n    }\n    if (js_urls == null || js_urls.length === 0) {\n      run_callbacks();\n      return null;\n    }\n    console.debug(\"Bokeh: BokehJS not loaded, scheduling load and callback at\", now());\n    root._bokeh_is_loading = css_urls.length + js_urls.length;\n\n    function on_load() {\n      root._bokeh_is_loading--;\n      if (root._bokeh_is_loading === 0) {\n        console.debug(\"Bokeh: all BokehJS libraries/stylesheets loaded\");\n        run_callbacks()\n      }\n    }\n\n    function on_error() {\n      console.error(\"failed to load \" + url);\n    }\n\n    for (var i = 0; i < css_urls.length; i++) {\n      var url = css_urls[i];\n      const element = document.createElement(\"link\");\n      element.onload = on_load;\n      element.onerror = on_error;\n      element.rel = \"stylesheet\";\n      element.type = \"text/css\";\n      element.href = url;\n      console.debug(\"Bokeh: injecting link tag for BokehJS stylesheet: \", url);\n      document.body.appendChild(element);\n    }\n\n    for (var i = 0; i < js_urls.length; i++) {\n      var url = js_urls[i];\n      var element = document.createElement('script');\n      element.onload = on_load;\n      element.onerror = on_error;\n      element.async = false;\n      element.src = url;\n      console.debug(\"Bokeh: injecting script tag for BokehJS library: \", url);\n      document.head.appendChild(element);\n    }\n  };var element = document.getElementById(\"1003\");\n  if (element == null) {\n    console.error(\"Bokeh: ERROR: autoload.js configured with elementid '1003' but no matching script tag was found. \")\n    return false;\n  }\n\n  function inject_raw_css(css) {\n    const element = document.createElement(\"style\");\n    element.appendChild(document.createTextNode(css));\n    document.body.appendChild(element);\n  }\n\n  \n  var js_urls = [\"https://cdn.pydata.org/bokeh/release/bokeh-1.4.0.min.js\", \"https://cdn.pydata.org/bokeh/release/bokeh-widgets-1.4.0.min.js\", \"https://cdn.pydata.org/bokeh/release/bokeh-tables-1.4.0.min.js\", \"https://cdn.pydata.org/bokeh/release/bokeh-gl-1.4.0.min.js\"];\n  var css_urls = [];\n  \n\n  var inline_js = [\n    function(Bokeh) {\n      Bokeh.set_log_level(\"info\");\n    },\n    function(Bokeh) {\n    \n    \n    }\n  ];\n\n  function run_inline_js() {\n    \n    if (root.Bokeh !== undefined || force === true) {\n      \n    for (var i = 0; i < inline_js.length; i++) {\n      inline_js[i].call(root, root.Bokeh);\n    }\n    if (force === true) {\n        display_loaded();\n      }} else if (Date.now() < root._bokeh_timeout) {\n      setTimeout(run_inline_js, 100);\n    } else if (!root._bokeh_failed_load) {\n      console.log(\"Bokeh: BokehJS failed to load within specified timeout.\");\n      root._bokeh_failed_load = true;\n    } else if (force !== true) {\n      var cell = $(document.getElementById(\"1003\")).parents('.cell').data().cell;\n      cell.output_area.append_execute_result(NB_LOAD_WARNING)\n    }\n\n  }\n\n  if (root._bokeh_is_loading === 0) {\n    console.debug(\"Bokeh: BokehJS loaded, going straight to plotting\");\n    run_inline_js();\n  } else {\n    load_libs(css_urls, js_urls, function() {\n      console.debug(\"Bokeh: BokehJS plotting callback run at\", now());\n      run_inline_js();\n    });\n  }\n}(window));"
     },
     "metadata": {},
     "output_type": "display_data"
    },
    {
     "data": {
      "text/html": [
       "\n",
       "    <div class=\"bk-root\">\n",
       "        <a href=\"https://bokeh.org\" target=\"_blank\" class=\"bk-logo bk-logo-small bk-logo-notebook\"></a>\n",
       "        <span id=\"1004\">Loading BokehJS ...</span>\n",
       "    </div>"
      ]
     },
     "metadata": {},
     "output_type": "display_data"
    },
    {
     "data": {
      "application/javascript": [
       "\n",
       "(function(root) {\n",
       "  function now() {\n",
       "    return new Date();\n",
       "  }\n",
       "\n",
       "  var force = true;\n",
       "\n",
       "  if (typeof root._bokeh_onload_callbacks === \"undefined\" || force === true) {\n",
       "    root._bokeh_onload_callbacks = [];\n",
       "    root._bokeh_is_loading = undefined;\n",
       "  }\n",
       "\n",
       "  var JS_MIME_TYPE = 'application/javascript';\n",
       "  var HTML_MIME_TYPE = 'text/html';\n",
       "  var EXEC_MIME_TYPE = 'application/vnd.bokehjs_exec.v0+json';\n",
       "  var CLASS_NAME = 'output_bokeh rendered_html';\n",
       "\n",
       "  /**\n",
       "   * Render data to the DOM node\n",
       "   */\n",
       "  function render(props, node) {\n",
       "    var script = document.createElement(\"script\");\n",
       "    node.appendChild(script);\n",
       "  }\n",
       "\n",
       "  /**\n",
       "   * Handle when an output is cleared or removed\n",
       "   */\n",
       "  function handleClearOutput(event, handle) {\n",
       "    var cell = handle.cell;\n",
       "\n",
       "    var id = cell.output_area._bokeh_element_id;\n",
       "    var server_id = cell.output_area._bokeh_server_id;\n",
       "    // Clean up Bokeh references\n",
       "    if (id != null && id in Bokeh.index) {\n",
       "      Bokeh.index[id].model.document.clear();\n",
       "      delete Bokeh.index[id];\n",
       "    }\n",
       "\n",
       "    if (server_id !== undefined) {\n",
       "      // Clean up Bokeh references\n",
       "      var cmd = \"from bokeh.io.state import curstate; print(curstate().uuid_to_server['\" + server_id + \"'].get_sessions()[0].document.roots[0]._id)\";\n",
       "      cell.notebook.kernel.execute(cmd, {\n",
       "        iopub: {\n",
       "          output: function(msg) {\n",
       "            var id = msg.content.text.trim();\n",
       "            if (id in Bokeh.index) {\n",
       "              Bokeh.index[id].model.document.clear();\n",
       "              delete Bokeh.index[id];\n",
       "            }\n",
       "          }\n",
       "        }\n",
       "      });\n",
       "      // Destroy server and session\n",
       "      var cmd = \"import bokeh.io.notebook as ion; ion.destroy_server('\" + server_id + \"')\";\n",
       "      cell.notebook.kernel.execute(cmd);\n",
       "    }\n",
       "  }\n",
       "\n",
       "  /**\n",
       "   * Handle when a new output is added\n",
       "   */\n",
       "  function handleAddOutput(event, handle) {\n",
       "    var output_area = handle.output_area;\n",
       "    var output = handle.output;\n",
       "\n",
       "    // limit handleAddOutput to display_data with EXEC_MIME_TYPE content only\n",
       "    if ((output.output_type != \"display_data\") || (!output.data.hasOwnProperty(EXEC_MIME_TYPE))) {\n",
       "      return\n",
       "    }\n",
       "\n",
       "    var toinsert = output_area.element.find(\".\" + CLASS_NAME.split(' ')[0]);\n",
       "\n",
       "    if (output.metadata[EXEC_MIME_TYPE][\"id\"] !== undefined) {\n",
       "      toinsert[toinsert.length - 1].firstChild.textContent = output.data[JS_MIME_TYPE];\n",
       "      // store reference to embed id on output_area\n",
       "      output_area._bokeh_element_id = output.metadata[EXEC_MIME_TYPE][\"id\"];\n",
       "    }\n",
       "    if (output.metadata[EXEC_MIME_TYPE][\"server_id\"] !== undefined) {\n",
       "      var bk_div = document.createElement(\"div\");\n",
       "      bk_div.innerHTML = output.data[HTML_MIME_TYPE];\n",
       "      var script_attrs = bk_div.children[0].attributes;\n",
       "      for (var i = 0; i < script_attrs.length; i++) {\n",
       "        toinsert[toinsert.length - 1].firstChild.setAttribute(script_attrs[i].name, script_attrs[i].value);\n",
       "      }\n",
       "      // store reference to server id on output_area\n",
       "      output_area._bokeh_server_id = output.metadata[EXEC_MIME_TYPE][\"server_id\"];\n",
       "    }\n",
       "  }\n",
       "\n",
       "  function register_renderer(events, OutputArea) {\n",
       "\n",
       "    function append_mime(data, metadata, element) {\n",
       "      // create a DOM node to render to\n",
       "      var toinsert = this.create_output_subarea(\n",
       "        metadata,\n",
       "        CLASS_NAME,\n",
       "        EXEC_MIME_TYPE\n",
       "      );\n",
       "      this.keyboard_manager.register_events(toinsert);\n",
       "      // Render to node\n",
       "      var props = {data: data, metadata: metadata[EXEC_MIME_TYPE]};\n",
       "      render(props, toinsert[toinsert.length - 1]);\n",
       "      element.append(toinsert);\n",
       "      return toinsert\n",
       "    }\n",
       "\n",
       "    /* Handle when an output is cleared or removed */\n",
       "    events.on('clear_output.CodeCell', handleClearOutput);\n",
       "    events.on('delete.Cell', handleClearOutput);\n",
       "\n",
       "    /* Handle when a new output is added */\n",
       "    events.on('output_added.OutputArea', handleAddOutput);\n",
       "\n",
       "    /**\n",
       "     * Register the mime type and append_mime function with output_area\n",
       "     */\n",
       "    OutputArea.prototype.register_mime_type(EXEC_MIME_TYPE, append_mime, {\n",
       "      /* Is output safe? */\n",
       "      safe: true,\n",
       "      /* Index of renderer in `output_area.display_order` */\n",
       "      index: 0\n",
       "    });\n",
       "  }\n",
       "\n",
       "  // register the mime type if in Jupyter Notebook environment and previously unregistered\n",
       "  if (root.Jupyter !== undefined) {\n",
       "    var events = require('base/js/events');\n",
       "    var OutputArea = require('notebook/js/outputarea').OutputArea;\n",
       "\n",
       "    if (OutputArea.prototype.mime_types().indexOf(EXEC_MIME_TYPE) == -1) {\n",
       "      register_renderer(events, OutputArea);\n",
       "    }\n",
       "  }\n",
       "\n",
       "  \n",
       "  if (typeof (root._bokeh_timeout) === \"undefined\" || force === true) {\n",
       "    root._bokeh_timeout = Date.now() + 5000;\n",
       "    root._bokeh_failed_load = false;\n",
       "  }\n",
       "\n",
       "  var NB_LOAD_WARNING = {'data': {'text/html':\n",
       "     \"<div style='background-color: #fdd'>\\n\"+\n",
       "     \"<p>\\n\"+\n",
       "     \"BokehJS does not appear to have successfully loaded. If loading BokehJS from CDN, this \\n\"+\n",
       "     \"may be due to a slow or bad network connection. Possible fixes:\\n\"+\n",
       "     \"</p>\\n\"+\n",
       "     \"<ul>\\n\"+\n",
       "     \"<li>re-rerun `output_notebook()` to attempt to load from CDN again, or</li>\\n\"+\n",
       "     \"<li>use INLINE resources instead, as so:</li>\\n\"+\n",
       "     \"</ul>\\n\"+\n",
       "     \"<code>\\n\"+\n",
       "     \"from bokeh.resources import INLINE\\n\"+\n",
       "     \"output_notebook(resources=INLINE)\\n\"+\n",
       "     \"</code>\\n\"+\n",
       "     \"</div>\"}};\n",
       "\n",
       "  function display_loaded() {\n",
       "    var el = document.getElementById(\"1004\");\n",
       "    if (el != null) {\n",
       "      el.textContent = \"BokehJS is loading...\";\n",
       "    }\n",
       "    if (root.Bokeh !== undefined) {\n",
       "      if (el != null) {\n",
       "        el.textContent = \"BokehJS \" + root.Bokeh.version + \" successfully loaded.\";\n",
       "      }\n",
       "    } else if (Date.now() < root._bokeh_timeout) {\n",
       "      setTimeout(display_loaded, 100)\n",
       "    }\n",
       "  }\n",
       "\n",
       "\n",
       "  function run_callbacks() {\n",
       "    try {\n",
       "      root._bokeh_onload_callbacks.forEach(function(callback) {\n",
       "        if (callback != null)\n",
       "          callback();\n",
       "      });\n",
       "    } finally {\n",
       "      delete root._bokeh_onload_callbacks\n",
       "    }\n",
       "    console.debug(\"Bokeh: all callbacks have finished\");\n",
       "  }\n",
       "\n",
       "  function load_libs(css_urls, js_urls, callback) {\n",
       "    if (css_urls == null) css_urls = [];\n",
       "    if (js_urls == null) js_urls = [];\n",
       "\n",
       "    root._bokeh_onload_callbacks.push(callback);\n",
       "    if (root._bokeh_is_loading > 0) {\n",
       "      console.debug(\"Bokeh: BokehJS is being loaded, scheduling callback at\", now());\n",
       "      return null;\n",
       "    }\n",
       "    if (js_urls == null || js_urls.length === 0) {\n",
       "      run_callbacks();\n",
       "      return null;\n",
       "    }\n",
       "    console.debug(\"Bokeh: BokehJS not loaded, scheduling load and callback at\", now());\n",
       "    root._bokeh_is_loading = css_urls.length + js_urls.length;\n",
       "\n",
       "    function on_load() {\n",
       "      root._bokeh_is_loading--;\n",
       "      if (root._bokeh_is_loading === 0) {\n",
       "        console.debug(\"Bokeh: all BokehJS libraries/stylesheets loaded\");\n",
       "        run_callbacks()\n",
       "      }\n",
       "    }\n",
       "\n",
       "    function on_error() {\n",
       "      console.error(\"failed to load \" + url);\n",
       "    }\n",
       "\n",
       "    for (var i = 0; i < css_urls.length; i++) {\n",
       "      var url = css_urls[i];\n",
       "      const element = document.createElement(\"link\");\n",
       "      element.onload = on_load;\n",
       "      element.onerror = on_error;\n",
       "      element.rel = \"stylesheet\";\n",
       "      element.type = \"text/css\";\n",
       "      element.href = url;\n",
       "      console.debug(\"Bokeh: injecting link tag for BokehJS stylesheet: \", url);\n",
       "      document.body.appendChild(element);\n",
       "    }\n",
       "\n",
       "    for (var i = 0; i < js_urls.length; i++) {\n",
       "      var url = js_urls[i];\n",
       "      var element = document.createElement('script');\n",
       "      element.onload = on_load;\n",
       "      element.onerror = on_error;\n",
       "      element.async = false;\n",
       "      element.src = url;\n",
       "      console.debug(\"Bokeh: injecting script tag for BokehJS library: \", url);\n",
       "      document.head.appendChild(element);\n",
       "    }\n",
       "  };var element = document.getElementById(\"1004\");\n",
       "  if (element == null) {\n",
       "    console.error(\"Bokeh: ERROR: autoload.js configured with elementid '1004' but no matching script tag was found. \")\n",
       "    return false;\n",
       "  }\n",
       "\n",
       "  function inject_raw_css(css) {\n",
       "    const element = document.createElement(\"style\");\n",
       "    element.appendChild(document.createTextNode(css));\n",
       "    document.body.appendChild(element);\n",
       "  }\n",
       "\n",
       "  \n",
       "  var js_urls = [\"https://cdn.pydata.org/bokeh/release/bokeh-1.4.0.min.js\", \"https://cdn.pydata.org/bokeh/release/bokeh-widgets-1.4.0.min.js\", \"https://cdn.pydata.org/bokeh/release/bokeh-tables-1.4.0.min.js\", \"https://cdn.pydata.org/bokeh/release/bokeh-gl-1.4.0.min.js\"];\n",
       "  var css_urls = [];\n",
       "  \n",
       "\n",
       "  var inline_js = [\n",
       "    function(Bokeh) {\n",
       "      Bokeh.set_log_level(\"info\");\n",
       "    },\n",
       "    function(Bokeh) {\n",
       "    \n",
       "    \n",
       "    }\n",
       "  ];\n",
       "\n",
       "  function run_inline_js() {\n",
       "    \n",
       "    if (root.Bokeh !== undefined || force === true) {\n",
       "      \n",
       "    for (var i = 0; i < inline_js.length; i++) {\n",
       "      inline_js[i].call(root, root.Bokeh);\n",
       "    }\n",
       "    if (force === true) {\n",
       "        display_loaded();\n",
       "      }} else if (Date.now() < root._bokeh_timeout) {\n",
       "      setTimeout(run_inline_js, 100);\n",
       "    } else if (!root._bokeh_failed_load) {\n",
       "      console.log(\"Bokeh: BokehJS failed to load within specified timeout.\");\n",
       "      root._bokeh_failed_load = true;\n",
       "    } else if (force !== true) {\n",
       "      var cell = $(document.getElementById(\"1004\")).parents('.cell').data().cell;\n",
       "      cell.output_area.append_execute_result(NB_LOAD_WARNING)\n",
       "    }\n",
       "\n",
       "  }\n",
       "\n",
       "  if (root._bokeh_is_loading === 0) {\n",
       "    console.debug(\"Bokeh: BokehJS loaded, going straight to plotting\");\n",
       "    run_inline_js();\n",
       "  } else {\n",
       "    load_libs(css_urls, js_urls, function() {\n",
       "      console.debug(\"Bokeh: BokehJS plotting callback run at\", now());\n",
       "      run_inline_js();\n",
       "    });\n",
       "  }\n",
       "}(window));"
      ],
      "application/vnd.bokehjs_load.v0+json": "\n(function(root) {\n  function now() {\n    return new Date();\n  }\n\n  var force = true;\n\n  if (typeof root._bokeh_onload_callbacks === \"undefined\" || force === true) {\n    root._bokeh_onload_callbacks = [];\n    root._bokeh_is_loading = undefined;\n  }\n\n  \n\n  \n  if (typeof (root._bokeh_timeout) === \"undefined\" || force === true) {\n    root._bokeh_timeout = Date.now() + 5000;\n    root._bokeh_failed_load = false;\n  }\n\n  var NB_LOAD_WARNING = {'data': {'text/html':\n     \"<div style='background-color: #fdd'>\\n\"+\n     \"<p>\\n\"+\n     \"BokehJS does not appear to have successfully loaded. If loading BokehJS from CDN, this \\n\"+\n     \"may be due to a slow or bad network connection. Possible fixes:\\n\"+\n     \"</p>\\n\"+\n     \"<ul>\\n\"+\n     \"<li>re-rerun `output_notebook()` to attempt to load from CDN again, or</li>\\n\"+\n     \"<li>use INLINE resources instead, as so:</li>\\n\"+\n     \"</ul>\\n\"+\n     \"<code>\\n\"+\n     \"from bokeh.resources import INLINE\\n\"+\n     \"output_notebook(resources=INLINE)\\n\"+\n     \"</code>\\n\"+\n     \"</div>\"}};\n\n  function display_loaded() {\n    var el = document.getElementById(\"1004\");\n    if (el != null) {\n      el.textContent = \"BokehJS is loading...\";\n    }\n    if (root.Bokeh !== undefined) {\n      if (el != null) {\n        el.textContent = \"BokehJS \" + root.Bokeh.version + \" successfully loaded.\";\n      }\n    } else if (Date.now() < root._bokeh_timeout) {\n      setTimeout(display_loaded, 100)\n    }\n  }\n\n\n  function run_callbacks() {\n    try {\n      root._bokeh_onload_callbacks.forEach(function(callback) {\n        if (callback != null)\n          callback();\n      });\n    } finally {\n      delete root._bokeh_onload_callbacks\n    }\n    console.debug(\"Bokeh: all callbacks have finished\");\n  }\n\n  function load_libs(css_urls, js_urls, callback) {\n    if (css_urls == null) css_urls = [];\n    if (js_urls == null) js_urls = [];\n\n    root._bokeh_onload_callbacks.push(callback);\n    if (root._bokeh_is_loading > 0) {\n      console.debug(\"Bokeh: BokehJS is being loaded, scheduling callback at\", now());\n      return null;\n    }\n    if (js_urls == null || js_urls.length === 0) {\n      run_callbacks();\n      return null;\n    }\n    console.debug(\"Bokeh: BokehJS not loaded, scheduling load and callback at\", now());\n    root._bokeh_is_loading = css_urls.length + js_urls.length;\n\n    function on_load() {\n      root._bokeh_is_loading--;\n      if (root._bokeh_is_loading === 0) {\n        console.debug(\"Bokeh: all BokehJS libraries/stylesheets loaded\");\n        run_callbacks()\n      }\n    }\n\n    function on_error() {\n      console.error(\"failed to load \" + url);\n    }\n\n    for (var i = 0; i < css_urls.length; i++) {\n      var url = css_urls[i];\n      const element = document.createElement(\"link\");\n      element.onload = on_load;\n      element.onerror = on_error;\n      element.rel = \"stylesheet\";\n      element.type = \"text/css\";\n      element.href = url;\n      console.debug(\"Bokeh: injecting link tag for BokehJS stylesheet: \", url);\n      document.body.appendChild(element);\n    }\n\n    for (var i = 0; i < js_urls.length; i++) {\n      var url = js_urls[i];\n      var element = document.createElement('script');\n      element.onload = on_load;\n      element.onerror = on_error;\n      element.async = false;\n      element.src = url;\n      console.debug(\"Bokeh: injecting script tag for BokehJS library: \", url);\n      document.head.appendChild(element);\n    }\n  };var element = document.getElementById(\"1004\");\n  if (element == null) {\n    console.error(\"Bokeh: ERROR: autoload.js configured with elementid '1004' but no matching script tag was found. \")\n    return false;\n  }\n\n  function inject_raw_css(css) {\n    const element = document.createElement(\"style\");\n    element.appendChild(document.createTextNode(css));\n    document.body.appendChild(element);\n  }\n\n  \n  var js_urls = [\"https://cdn.pydata.org/bokeh/release/bokeh-1.4.0.min.js\", \"https://cdn.pydata.org/bokeh/release/bokeh-widgets-1.4.0.min.js\", \"https://cdn.pydata.org/bokeh/release/bokeh-tables-1.4.0.min.js\", \"https://cdn.pydata.org/bokeh/release/bokeh-gl-1.4.0.min.js\"];\n  var css_urls = [];\n  \n\n  var inline_js = [\n    function(Bokeh) {\n      Bokeh.set_log_level(\"info\");\n    },\n    function(Bokeh) {\n    \n    \n    }\n  ];\n\n  function run_inline_js() {\n    \n    if (root.Bokeh !== undefined || force === true) {\n      \n    for (var i = 0; i < inline_js.length; i++) {\n      inline_js[i].call(root, root.Bokeh);\n    }\n    if (force === true) {\n        display_loaded();\n      }} else if (Date.now() < root._bokeh_timeout) {\n      setTimeout(run_inline_js, 100);\n    } else if (!root._bokeh_failed_load) {\n      console.log(\"Bokeh: BokehJS failed to load within specified timeout.\");\n      root._bokeh_failed_load = true;\n    } else if (force !== true) {\n      var cell = $(document.getElementById(\"1004\")).parents('.cell').data().cell;\n      cell.output_area.append_execute_result(NB_LOAD_WARNING)\n    }\n\n  }\n\n  if (root._bokeh_is_loading === 0) {\n    console.debug(\"Bokeh: BokehJS loaded, going straight to plotting\");\n    run_inline_js();\n  } else {\n    load_libs(css_urls, js_urls, function() {\n      console.debug(\"Bokeh: BokehJS plotting callback run at\", now());\n      run_inline_js();\n    });\n  }\n}(window));"
     },
     "metadata": {},
     "output_type": "display_data"
    }
   ],
   "source": [
    "from hail.plot import show\n",
    "from pprint import pprint\n",
    "from bokeh.layouts import gridplot\n",
    "hl.plot.output_notebook()\n",
    "\n",
    "import numpy as np\n",
    "import pandas as pd\n",
    "from functools import reduce\n",
    "from itertools import chain\n",
    "\n",
    "from bokeh.plotting import output_notebook, show, figure\n",
    "from bokeh.palettes import viridis\n",
    "from scipy import stats\n",
    "import seaborn as sns\n",
    "\n",
    "output_notebook()"
   ]
  },
  {
   "cell_type": "code",
   "execution_count": null,
   "id": "0baa80c1-b413-404b-8eba-d6ace2132325",
   "metadata": {
    "tags": []
   },
   "outputs": [],
   "source": [
    "import sys\n",
    "!{sys.executable} -m pip install seaborn"
   ]
  },
  {
   "cell_type": "code",
   "execution_count": null,
   "id": "a5436028",
   "metadata": {
    "tags": []
   },
   "outputs": [],
   "source": [
    "mt = hl.read_matrix_table('/net/pr2/projects/plgrid/plggneuromol/imdik-zekanowski-gts/data/mts/oligogenic-model/for-qc-all.mt')"
   ]
  },
  {
   "cell_type": "code",
   "execution_count": null,
   "id": "c6dacc34",
   "metadata": {
    "scrolled": true,
    "tags": []
   },
   "outputs": [],
   "source": [
    "sport_pheno = hl.import_table('/net/pr2/projects/plgrid/plggneuromol/imdik-zekanowski-sportwgs/data/external-data/sportsmen-pheno.csv', impute = True, key='sample_id', quote =\"\\\"\")\n",
    "mt = mt.annotate_cols(sport_phenotypes = sport_pheno[mt.s])"
   ]
  },
  {
   "cell_type": "code",
   "execution_count": 9,
   "id": "d7a168f6",
   "metadata": {
    "tags": []
   },
   "outputs": [
    {
     "name": "stderr",
     "output_type": "stream",
     "text": [
      "2023-10-24 14:05:30.470 Hail: INFO: wrote matrix table with 6514756 rows and 280 columns in 488 partitions to /localfs/5684153/qc2.mt\n"
     ]
    },
    {
     "data": {
      "text/plain": [
       "<hail.matrixtable.MatrixTable at 0x14d409dc3850>"
      ]
     },
     "execution_count": 9,
     "metadata": {},
     "output_type": "execute_result"
    }
   ],
   "source": [
    "mt = hl.variant_qc(mt)\n",
    "mt.checkpoint(localfs_path+'qc2.mt')"
   ]
  },
  {
   "cell_type": "code",
   "execution_count": 10,
   "id": "5ba6c062",
   "metadata": {
    "tags": []
   },
   "outputs": [
    {
     "name": "stderr",
     "output_type": "stream",
     "text": [
      "2023-10-24 14:07:35.159 Hail: INFO: wrote matrix table with 6514756 rows and 280 columns in 488 partitions to /localfs/5684153/snps2.mt\n"
     ]
    },
    {
     "data": {
      "text/plain": [
       "<hail.matrixtable.MatrixTable at 0x14d409ab7880>"
      ]
     },
     "execution_count": 10,
     "metadata": {},
     "output_type": "execute_result"
    }
   ],
   "source": [
    "mt = mt.filter_rows(hl.is_snp(\n",
    "    mt.alleles[0], mt.alleles[1])\n",
    "                   )\n",
    "mt.checkpoint(localfs_path+'snps2.mt')"
   ]
  },
  {
   "cell_type": "code",
   "execution_count": 11,
   "id": "4543583c",
   "metadata": {
    "tags": []
   },
   "outputs": [],
   "source": [
    "mt = mt.filter_rows(hl.agg.any(mt.GT.is_non_ref()))"
   ]
  },
  {
   "cell_type": "code",
   "execution_count": 12,
   "id": "61ee9590-4f93-457a-aa1e-18895ae06917",
   "metadata": {
    "tags": []
   },
   "outputs": [
    {
     "name": "stderr",
     "output_type": "stream",
     "text": [
      "2023-10-24 14:09:40.468 Hail: INFO: wrote matrix table with 6514756 rows and 280 columns in 488 partitions to /localfs/5684153/all_snps2.mt\n"
     ]
    }
   ],
   "source": [
    "mt = mt.checkpoint(localfs_path+'all_snps2.mt')"
   ]
  },
  {
   "cell_type": "code",
   "execution_count": 13,
   "id": "9a951cef-7c2c-4b06-abf7-173ea6c5c329",
   "metadata": {
    "tags": []
   },
   "outputs": [
    {
     "data": {
      "text/plain": [
       "(6514756, 280)"
      ]
     },
     "execution_count": 13,
     "metadata": {},
     "output_type": "execute_result"
    }
   ],
   "source": [
    "mt.count()"
   ]
  },
  {
   "cell_type": "code",
   "execution_count": 14,
   "id": "ec577613-56a2-457d-8fa0-3f3baf4da3cf",
   "metadata": {
    "tags": []
   },
   "outputs": [
    {
     "name": "stderr",
     "output_type": "stream",
     "text": [
      "2023-10-24 14:18:23.639 Hail: INFO: wrote matrix table with 6514756 rows and 280 columns in 488 partitions to /net/pr2/projects/plgrid/plggneuromol/imdik-zekanowski-sportwgs/data/fanci/all-snps.mt\n"
     ]
    },
    {
     "data": {
      "text/plain": [
       "<hail.matrixtable.MatrixTable at 0x14d4092b4310>"
      ]
     },
     "execution_count": 14,
     "metadata": {},
     "output_type": "execute_result"
    }
   ],
   "source": [
    "mt.checkpoint('/net/pr2/projects/plgrid/plggneuromol/imdik-zekanowski-sportwgs/data/fanci/all-snps.mt')"
   ]
  },
  {
   "cell_type": "code",
   "execution_count": 16,
   "id": "9ac23185-f37f-493f-a4e0-ab3d19c50e52",
   "metadata": {
    "tags": []
   },
   "outputs": [],
   "source": [
    "mt = hl.read_matrix_table('/net/pr2/projects/plgrid/plggneuromol/imdik-zekanowski-sportwgs/data/fanci/all-snps.mt')"
   ]
  },
  {
   "cell_type": "markdown",
   "id": "6e9cb873-4d59-48f1-9844-1069a1068a2b",
   "metadata": {
    "tags": []
   },
   "source": [
    "### variants near our variant of interest:"
   ]
  },
  {
   "cell_type": "code",
   "execution_count": 17,
   "id": "d1ca7cdd-8f5d-4636-bff5-2386a3b64d1d",
   "metadata": {
    "tags": []
   },
   "outputs": [],
   "source": [
    "near = mt.filter_rows(\n",
    "    (mt.locus.contig == \"chr15\") &\n",
    "    (mt.locus.position > (89315318-100000)) &\n",
    "    (mt.locus.position < (89315318+100000))\n",
    ") # +/- 100 kb"
   ]
  },
  {
   "cell_type": "code",
   "execution_count": 18,
   "id": "79d1f88a-002b-46a2-883f-2bbe3c30f5eb",
   "metadata": {
    "tags": []
   },
   "outputs": [
    {
     "name": "stderr",
     "output_type": "stream",
     "text": [
      "2023-10-24 14:34:11.159 Hail: INFO: wrote matrix table with 685 rows and 280 columns in 488 partitions to /net/pr2/projects/plgrid/plggneuromol/imdik-zekanowski-sportwgs/data/fanci/vars-near-fanci.mt\n"
     ]
    },
    {
     "data": {
      "text/plain": [
       "<hail.matrixtable.MatrixTable at 0x14d4092f6470>"
      ]
     },
     "execution_count": 18,
     "metadata": {},
     "output_type": "execute_result"
    }
   ],
   "source": [
    "near.checkpoint('/net/pr2/projects/plgrid/plggneuromol/imdik-zekanowski-sportwgs/data/fanci/vars-near-fanci.mt')"
   ]
  },
  {
   "cell_type": "markdown",
   "id": "7b429222-c598-4171-ac45-2af63bec519a",
   "metadata": {
    "tags": []
   },
   "source": [
    "### \"our fanci variant\""
   ]
  },
  {
   "cell_type": "code",
   "execution_count": 24,
   "id": "cd2880c2-ca9f-4b7a-a571-81d6499218e1",
   "metadata": {
    "tags": []
   },
   "outputs": [],
   "source": [
    "voi = near.filter_rows(\n",
    "    (near.locus.contig == \"chr15\") &\n",
    "    (near.locus.position == 89315318)\n",
    ")"
   ]
  },
  {
   "cell_type": "code",
   "execution_count": 26,
   "id": "ba879c69-c9a2-4490-98fa-e8c07d7d163c",
   "metadata": {
    "tags": []
   },
   "outputs": [],
   "source": [
    "voi = voi.distinct_by_row()"
   ]
  },
  {
   "cell_type": "code",
   "execution_count": 27,
   "id": "fcb21359-80f1-4167-bbc7-9f1f5dbd921b",
   "metadata": {
    "tags": []
   },
   "outputs": [
    {
     "name": "stderr",
     "output_type": "stream",
     "text": [
      "2023-10-24 15:22:44.434 Hail: INFO: wrote matrix table with 1 row and 280 columns in 488 partitions to /net/pr2/projects/plgrid/plggneuromol/imdik-zekanowski-sportwgs/data/fanci/fanci-var.mt\n"
     ]
    }
   ],
   "source": [
    "voi.write('/net/pr2/projects/plgrid/plggneuromol/imdik-zekanowski-sportwgs/data/fanci/fanci-var.mt', overwrite = True)"
   ]
  },
  {
   "cell_type": "code",
   "execution_count": 28,
   "id": "52cf832f-35ce-4554-99c0-9d0f50744f77",
   "metadata": {
    "tags": []
   },
   "outputs": [
    {
     "name": "stderr",
     "output_type": "stream",
     "text": [
      "[Stage 30:=====================================================>(487 + 1) / 488]\r"
     ]
    },
    {
     "data": {
      "text/html": [
       "<table><thead><tr><td style=\"white-space: nowrap; max-width: 500px; overflow: hidden; text-overflow: ellipsis; \" colspan=\"1\"><div style=\"text-align: left;\"></div></td><td style=\"white-space: nowrap; max-width: 500px; overflow: hidden; text-overflow: ellipsis; \" colspan=\"1\"><div style=\"text-align: left;\"></div></td></tr><tr><td style=\"white-space: nowrap; max-width: 500px; overflow: hidden; text-overflow: ellipsis; \" colspan=\"1\"><div style=\"text-align: left;border-bottom: solid 2px #000; padding-bottom: 5px\">locus</div></td><td style=\"white-space: nowrap; max-width: 500px; overflow: hidden; text-overflow: ellipsis; \" colspan=\"1\"><div style=\"text-align: left;border-bottom: solid 2px #000; padding-bottom: 5px\">alleles</div></td></tr><tr><td style=\"white-space: nowrap; max-width: 500px; overflow: hidden; text-overflow: ellipsis; text-align: left;\">locus&lt;GRCh38&gt;</td><td style=\"white-space: nowrap; max-width: 500px; overflow: hidden; text-overflow: ellipsis; text-align: left;\">array&lt;str&gt;</td></tr>\n",
       "</thead><tbody><tr><td style=\"white-space: nowrap; max-width: 500px; overflow: hidden; text-overflow: ellipsis; \">chr15:89315318</td><td style=\"white-space: nowrap; max-width: 500px; overflow: hidden; text-overflow: ellipsis; \">[&quot;C&quot;,&quot;T&quot;]</td></tr>\n",
       "</tbody></table><p style=\"background: #fdd; padding: 0.4em;\">showing the first 0 of 280 columns</p>\n"
      ],
      "text/plain": [
       "+----------------+------------+\n",
       "| locus          | alleles    |\n",
       "+----------------+------------+\n",
       "| locus<GRCh38>  | array<str> |\n",
       "+----------------+------------+\n",
       "| chr15:89315318 | [\"C\",\"T\"]  |\n",
       "+----------------+------------+\n",
       "showing the first 0 of 280 columns"
      ]
     },
     "metadata": {},
     "output_type": "display_data"
    }
   ],
   "source": [
    "voi.show()"
   ]
  },
  {
   "cell_type": "code",
   "execution_count": 31,
   "id": "b06db749-6aa6-486b-94e4-a8cace6db697",
   "metadata": {
    "tags": []
   },
   "outputs": [
    {
     "name": "stderr",
     "output_type": "stream",
     "text": [
      "[Stage 37:=====================================================>(487 + 1) / 488]\r"
     ]
    },
    {
     "data": {
      "text/plain": [
       "(1, 280)"
      ]
     },
     "execution_count": 31,
     "metadata": {},
     "output_type": "execute_result"
    }
   ],
   "source": [
    "voi.count()"
   ]
  },
  {
   "cell_type": "code",
   "execution_count": 29,
   "id": "822b7164-7d77-40f0-8b69-d32cb002b7ef",
   "metadata": {
    "tags": []
   },
   "outputs": [
    {
     "name": "stderr",
     "output_type": "stream",
     "text": [
      "[Stage 36:=====================================================>(487 + 1) / 488]\r"
     ]
    },
    {
     "data": {
      "text/html": [
       "<table><thead><tr><td style=\"white-space: nowrap; max-width: 500px; overflow: hidden; text-overflow: ellipsis; \" colspan=\"1\"><div style=\"text-align: left;\"></div></td><td style=\"white-space: nowrap; max-width: 500px; overflow: hidden; text-overflow: ellipsis; \" colspan=\"1\"><div style=\"text-align: left;\"></div></td><td style=\"white-space: nowrap; max-width: 500px; overflow: hidden; text-overflow: ellipsis; \" colspan=\"21\"><div style=\"text-align: left;\"></div></td></tr><tr><td style=\"white-space: nowrap; max-width: 500px; overflow: hidden; text-overflow: ellipsis; \" colspan=\"1\"><div style=\"text-align: left;\"></div></td><td style=\"white-space: nowrap; max-width: 500px; overflow: hidden; text-overflow: ellipsis; \" colspan=\"1\"><div style=\"text-align: left;\"></div></td><td style=\"white-space: nowrap; max-width: 500px; overflow: hidden; text-overflow: ellipsis; \" colspan=\"21\"><div style=\"text-align: left;border-bottom: solid 2px #000; padding-bottom: 5px\">variant_qc</div></td></tr><tr><td style=\"white-space: nowrap; max-width: 500px; overflow: hidden; text-overflow: ellipsis; \" colspan=\"1\"><div style=\"text-align: left;\"></div></td><td style=\"white-space: nowrap; max-width: 500px; overflow: hidden; text-overflow: ellipsis; \" colspan=\"1\"><div style=\"text-align: left;\"></div></td><td style=\"white-space: nowrap; max-width: 500px; overflow: hidden; text-overflow: ellipsis; \" colspan=\"4\"><div style=\"text-align: left;border-bottom: solid 2px #000; padding-bottom: 5px\">dp_stats</div></td><td style=\"white-space: nowrap; max-width: 500px; overflow: hidden; text-overflow: ellipsis; \" colspan=\"4\"><div style=\"text-align: left;border-bottom: solid 2px #000; padding-bottom: 5px\">gq_stats</div></td><td style=\"white-space: nowrap; max-width: 500px; overflow: hidden; text-overflow: ellipsis; \" colspan=\"1\"><div style=\"text-align: left;\"></div></td><td style=\"white-space: nowrap; max-width: 500px; overflow: hidden; text-overflow: ellipsis; \" colspan=\"1\"><div style=\"text-align: left;\"></div></td><td style=\"white-space: nowrap; max-width: 500px; overflow: hidden; text-overflow: ellipsis; \" colspan=\"1\"><div style=\"text-align: left;\"></div></td><td style=\"white-space: nowrap; max-width: 500px; overflow: hidden; text-overflow: ellipsis; \" colspan=\"1\"><div style=\"text-align: left;\"></div></td><td style=\"white-space: nowrap; max-width: 500px; overflow: hidden; text-overflow: ellipsis; \" colspan=\"1\"><div style=\"text-align: left;\"></div></td><td style=\"white-space: nowrap; max-width: 500px; overflow: hidden; text-overflow: ellipsis; \" colspan=\"1\"><div style=\"text-align: left;\"></div></td><td style=\"white-space: nowrap; max-width: 500px; overflow: hidden; text-overflow: ellipsis; \" colspan=\"1\"><div style=\"text-align: left;\"></div></td><td style=\"white-space: nowrap; max-width: 500px; overflow: hidden; text-overflow: ellipsis; \" colspan=\"1\"><div style=\"text-align: left;\"></div></td><td style=\"white-space: nowrap; max-width: 500px; overflow: hidden; text-overflow: ellipsis; \" colspan=\"1\"><div style=\"text-align: left;\"></div></td><td style=\"white-space: nowrap; max-width: 500px; overflow: hidden; text-overflow: ellipsis; \" colspan=\"1\"><div style=\"text-align: left;\"></div></td><td style=\"white-space: nowrap; max-width: 500px; overflow: hidden; text-overflow: ellipsis; \" colspan=\"1\"><div style=\"text-align: left;\"></div></td><td style=\"white-space: nowrap; max-width: 500px; overflow: hidden; text-overflow: ellipsis; \" colspan=\"1\"><div style=\"text-align: left;\"></div></td><td style=\"white-space: nowrap; max-width: 500px; overflow: hidden; text-overflow: ellipsis; \" colspan=\"1\"><div style=\"text-align: left;\"></div></td></tr><tr><td style=\"white-space: nowrap; max-width: 500px; overflow: hidden; text-overflow: ellipsis; \" colspan=\"1\"><div style=\"text-align: left;border-bottom: solid 2px #000; padding-bottom: 5px\">locus</div></td><td style=\"white-space: nowrap; max-width: 500px; overflow: hidden; text-overflow: ellipsis; \" colspan=\"1\"><div style=\"text-align: left;border-bottom: solid 2px #000; padding-bottom: 5px\">alleles</div></td><td style=\"white-space: nowrap; max-width: 500px; overflow: hidden; text-overflow: ellipsis; \" colspan=\"1\"><div style=\"text-align: left;border-bottom: solid 2px #000; padding-bottom: 5px\">mean</div></td><td style=\"white-space: nowrap; max-width: 500px; overflow: hidden; text-overflow: ellipsis; \" colspan=\"1\"><div style=\"text-align: left;border-bottom: solid 2px #000; padding-bottom: 5px\">stdev</div></td><td style=\"white-space: nowrap; max-width: 500px; overflow: hidden; text-overflow: ellipsis; \" colspan=\"1\"><div style=\"text-align: left;border-bottom: solid 2px #000; padding-bottom: 5px\">min</div></td><td style=\"white-space: nowrap; max-width: 500px; overflow: hidden; text-overflow: ellipsis; \" colspan=\"1\"><div style=\"text-align: left;border-bottom: solid 2px #000; padding-bottom: 5px\">max</div></td><td style=\"white-space: nowrap; max-width: 500px; overflow: hidden; text-overflow: ellipsis; \" colspan=\"1\"><div style=\"text-align: left;border-bottom: solid 2px #000; padding-bottom: 5px\">mean</div></td><td style=\"white-space: nowrap; max-width: 500px; overflow: hidden; text-overflow: ellipsis; \" colspan=\"1\"><div style=\"text-align: left;border-bottom: solid 2px #000; padding-bottom: 5px\">stdev</div></td><td style=\"white-space: nowrap; max-width: 500px; overflow: hidden; text-overflow: ellipsis; \" colspan=\"1\"><div style=\"text-align: left;border-bottom: solid 2px #000; padding-bottom: 5px\">min</div></td><td style=\"white-space: nowrap; max-width: 500px; overflow: hidden; text-overflow: ellipsis; \" colspan=\"1\"><div style=\"text-align: left;border-bottom: solid 2px #000; padding-bottom: 5px\">max</div></td><td style=\"white-space: nowrap; max-width: 500px; overflow: hidden; text-overflow: ellipsis; \" colspan=\"1\"><div style=\"text-align: left;border-bottom: solid 2px #000; padding-bottom: 5px\">AC</div></td><td style=\"white-space: nowrap; max-width: 500px; overflow: hidden; text-overflow: ellipsis; \" colspan=\"1\"><div style=\"text-align: left;border-bottom: solid 2px #000; padding-bottom: 5px\">AF</div></td><td style=\"white-space: nowrap; max-width: 500px; overflow: hidden; text-overflow: ellipsis; \" colspan=\"1\"><div style=\"text-align: left;border-bottom: solid 2px #000; padding-bottom: 5px\">AN</div></td><td style=\"white-space: nowrap; max-width: 500px; overflow: hidden; text-overflow: ellipsis; \" colspan=\"1\"><div style=\"text-align: left;border-bottom: solid 2px #000; padding-bottom: 5px\">homozygote_count</div></td><td style=\"white-space: nowrap; max-width: 500px; overflow: hidden; text-overflow: ellipsis; \" colspan=\"1\"><div style=\"text-align: left;border-bottom: solid 2px #000; padding-bottom: 5px\">call_rate</div></td><td style=\"white-space: nowrap; max-width: 500px; overflow: hidden; text-overflow: ellipsis; \" colspan=\"1\"><div style=\"text-align: left;border-bottom: solid 2px #000; padding-bottom: 5px\">n_called</div></td><td style=\"white-space: nowrap; max-width: 500px; overflow: hidden; text-overflow: ellipsis; \" colspan=\"1\"><div style=\"text-align: left;border-bottom: solid 2px #000; padding-bottom: 5px\">n_not_called</div></td><td style=\"white-space: nowrap; max-width: 500px; overflow: hidden; text-overflow: ellipsis; \" colspan=\"1\"><div style=\"text-align: left;border-bottom: solid 2px #000; padding-bottom: 5px\">n_filtered</div></td><td style=\"white-space: nowrap; max-width: 500px; overflow: hidden; text-overflow: ellipsis; \" colspan=\"1\"><div style=\"text-align: left;border-bottom: solid 2px #000; padding-bottom: 5px\">n_het</div></td><td style=\"white-space: nowrap; max-width: 500px; overflow: hidden; text-overflow: ellipsis; \" colspan=\"1\"><div style=\"text-align: left;border-bottom: solid 2px #000; padding-bottom: 5px\">n_non_ref</div></td><td style=\"white-space: nowrap; max-width: 500px; overflow: hidden; text-overflow: ellipsis; \" colspan=\"1\"><div style=\"text-align: left;border-bottom: solid 2px #000; padding-bottom: 5px\">het_freq_hwe</div></td><td style=\"white-space: nowrap; max-width: 500px; overflow: hidden; text-overflow: ellipsis; \" colspan=\"1\"><div style=\"text-align: left;border-bottom: solid 2px #000; padding-bottom: 5px\">p_value_hwe</div></td><td style=\"white-space: nowrap; max-width: 500px; overflow: hidden; text-overflow: ellipsis; \" colspan=\"1\"><div style=\"text-align: left;border-bottom: solid 2px #000; padding-bottom: 5px\">p_value_excess_het</div></td></tr><tr><td style=\"white-space: nowrap; max-width: 500px; overflow: hidden; text-overflow: ellipsis; text-align: left;\">locus&lt;GRCh38&gt;</td><td style=\"white-space: nowrap; max-width: 500px; overflow: hidden; text-overflow: ellipsis; text-align: left;\">array&lt;str&gt;</td><td style=\"white-space: nowrap; max-width: 500px; overflow: hidden; text-overflow: ellipsis; text-align: left;\">float64</td><td style=\"white-space: nowrap; max-width: 500px; overflow: hidden; text-overflow: ellipsis; text-align: left;\">float64</td><td style=\"white-space: nowrap; max-width: 500px; overflow: hidden; text-overflow: ellipsis; text-align: left;\">float64</td><td style=\"white-space: nowrap; max-width: 500px; overflow: hidden; text-overflow: ellipsis; text-align: left;\">float64</td><td style=\"white-space: nowrap; max-width: 500px; overflow: hidden; text-overflow: ellipsis; text-align: left;\">float64</td><td style=\"white-space: nowrap; max-width: 500px; overflow: hidden; text-overflow: ellipsis; text-align: left;\">float64</td><td style=\"white-space: nowrap; max-width: 500px; overflow: hidden; text-overflow: ellipsis; text-align: left;\">float64</td><td style=\"white-space: nowrap; max-width: 500px; overflow: hidden; text-overflow: ellipsis; text-align: left;\">float64</td><td style=\"white-space: nowrap; max-width: 500px; overflow: hidden; text-overflow: ellipsis; text-align: left;\">array&lt;int32&gt;</td><td style=\"white-space: nowrap; max-width: 500px; overflow: hidden; text-overflow: ellipsis; text-align: left;\">array&lt;float64&gt;</td><td style=\"white-space: nowrap; max-width: 500px; overflow: hidden; text-overflow: ellipsis; text-align: left;\">int32</td><td style=\"white-space: nowrap; max-width: 500px; overflow: hidden; text-overflow: ellipsis; text-align: left;\">array&lt;int32&gt;</td><td style=\"white-space: nowrap; max-width: 500px; overflow: hidden; text-overflow: ellipsis; text-align: left;\">float64</td><td style=\"white-space: nowrap; max-width: 500px; overflow: hidden; text-overflow: ellipsis; text-align: left;\">int64</td><td style=\"white-space: nowrap; max-width: 500px; overflow: hidden; text-overflow: ellipsis; text-align: left;\">int64</td><td style=\"white-space: nowrap; max-width: 500px; overflow: hidden; text-overflow: ellipsis; text-align: left;\">int64</td><td style=\"white-space: nowrap; max-width: 500px; overflow: hidden; text-overflow: ellipsis; text-align: left;\">int64</td><td style=\"white-space: nowrap; max-width: 500px; overflow: hidden; text-overflow: ellipsis; text-align: left;\">int64</td><td style=\"white-space: nowrap; max-width: 500px; overflow: hidden; text-overflow: ellipsis; text-align: left;\">float64</td><td style=\"white-space: nowrap; max-width: 500px; overflow: hidden; text-overflow: ellipsis; text-align: left;\">float64</td><td style=\"white-space: nowrap; max-width: 500px; overflow: hidden; text-overflow: ellipsis; text-align: left;\">float64</td></tr>\n",
       "</thead><tbody><tr><td style=\"white-space: nowrap; max-width: 500px; overflow: hidden; text-overflow: ellipsis; \">chr15:89315318</td><td style=\"white-space: nowrap; max-width: 500px; overflow: hidden; text-overflow: ellipsis; \">[&quot;C&quot;,&quot;T&quot;]</td><td style=\"white-space: nowrap; max-width: 500px; overflow: hidden; text-overflow: ellipsis; \">2.94e+01</td><td style=\"white-space: nowrap; max-width: 500px; overflow: hidden; text-overflow: ellipsis; \">1.02e+01</td><td style=\"white-space: nowrap; max-width: 500px; overflow: hidden; text-overflow: ellipsis; \">2.00e+00</td><td style=\"white-space: nowrap; max-width: 500px; overflow: hidden; text-overflow: ellipsis; \">5.80e+01</td><td style=\"white-space: nowrap; max-width: 500px; overflow: hidden; text-overflow: ellipsis; \">7.49e+01</td><td style=\"white-space: nowrap; max-width: 500px; overflow: hidden; text-overflow: ellipsis; \">2.24e+01</td><td style=\"white-space: nowrap; max-width: 500px; overflow: hidden; text-overflow: ellipsis; \">0.00e+00</td><td style=\"white-space: nowrap; max-width: 500px; overflow: hidden; text-overflow: ellipsis; \">9.90e+01</td><td style=\"white-space: nowrap; max-width: 500px; overflow: hidden; text-overflow: ellipsis; \">[557,3]</td><td style=\"white-space: nowrap; max-width: 500px; overflow: hidden; text-overflow: ellipsis; \">[9.95e-01,5.36e-03]</td><td style=\"white-space: nowrap; max-width: 500px; overflow: hidden; text-overflow: ellipsis; \">560</td><td style=\"white-space: nowrap; max-width: 500px; overflow: hidden; text-overflow: ellipsis; \">[277,0]</td><td style=\"white-space: nowrap; max-width: 500px; overflow: hidden; text-overflow: ellipsis; \">1.00e+00</td><td style=\"white-space: nowrap; max-width: 500px; overflow: hidden; text-overflow: ellipsis; \">280</td><td style=\"white-space: nowrap; max-width: 500px; overflow: hidden; text-overflow: ellipsis; \">0</td><td style=\"white-space: nowrap; max-width: 500px; overflow: hidden; text-overflow: ellipsis; \">0</td><td style=\"white-space: nowrap; max-width: 500px; overflow: hidden; text-overflow: ellipsis; \">3</td><td style=\"white-space: nowrap; max-width: 500px; overflow: hidden; text-overflow: ellipsis; \">3</td><td style=\"white-space: nowrap; max-width: 500px; overflow: hidden; text-overflow: ellipsis; \">1.07e-02</td><td style=\"white-space: nowrap; max-width: 500px; overflow: hidden; text-overflow: ellipsis; \">5.03e-01</td><td style=\"white-space: nowrap; max-width: 500px; overflow: hidden; text-overflow: ellipsis; \">4.97e-01</td></tr>\n",
       "</tbody></table>"
      ],
      "text/plain": [
       "+----------------+------------+--------------------------+\n",
       "| locus          | alleles    | variant_qc.dp_stats.mean |\n",
       "+----------------+------------+--------------------------+\n",
       "| locus<GRCh38>  | array<str> |                  float64 |\n",
       "+----------------+------------+--------------------------+\n",
       "| chr15:89315318 | [\"C\",\"T\"]  |                 2.94e+01 |\n",
       "+----------------+------------+--------------------------+\n",
       "\n",
       "+---------------------------+-------------------------+\n",
       "| variant_qc.dp_stats.stdev | variant_qc.dp_stats.min |\n",
       "+---------------------------+-------------------------+\n",
       "|                   float64 |                 float64 |\n",
       "+---------------------------+-------------------------+\n",
       "|                  1.02e+01 |                2.00e+00 |\n",
       "+---------------------------+-------------------------+\n",
       "\n",
       "+-------------------------+--------------------------+\n",
       "| variant_qc.dp_stats.max | variant_qc.gq_stats.mean |\n",
       "+-------------------------+--------------------------+\n",
       "|                 float64 |                  float64 |\n",
       "+-------------------------+--------------------------+\n",
       "|                5.80e+01 |                 7.49e+01 |\n",
       "+-------------------------+--------------------------+\n",
       "\n",
       "+---------------------------+-------------------------+\n",
       "| variant_qc.gq_stats.stdev | variant_qc.gq_stats.min |\n",
       "+---------------------------+-------------------------+\n",
       "|                   float64 |                 float64 |\n",
       "+---------------------------+-------------------------+\n",
       "|                  2.24e+01 |                0.00e+00 |\n",
       "+---------------------------+-------------------------+\n",
       "\n",
       "+-------------------------+---------------+---------------------+\n",
       "| variant_qc.gq_stats.max | variant_qc.AC | variant_qc.AF       |\n",
       "+-------------------------+---------------+---------------------+\n",
       "|                 float64 | array<int32>  | array<float64>      |\n",
       "+-------------------------+---------------+---------------------+\n",
       "|                9.90e+01 | [557,3]       | [9.95e-01,5.36e-03] |\n",
       "+-------------------------+---------------+---------------------+\n",
       "\n",
       "+---------------+-----------------------------+----------------------+\n",
       "| variant_qc.AN | variant_qc.homozygote_count | variant_qc.call_rate |\n",
       "+---------------+-----------------------------+----------------------+\n",
       "|         int32 | array<int32>                |              float64 |\n",
       "+---------------+-----------------------------+----------------------+\n",
       "|           560 | [277,0]                     |             1.00e+00 |\n",
       "+---------------+-----------------------------+----------------------+\n",
       "\n",
       "+---------------------+-------------------------+-----------------------+\n",
       "| variant_qc.n_called | variant_qc.n_not_called | variant_qc.n_filtered |\n",
       "+---------------------+-------------------------+-----------------------+\n",
       "|               int64 |                   int64 |                 int64 |\n",
       "+---------------------+-------------------------+-----------------------+\n",
       "|                 280 |                       0 |                     0 |\n",
       "+---------------------+-------------------------+-----------------------+\n",
       "\n",
       "+------------------+----------------------+-------------------------+\n",
       "| variant_qc.n_het | variant_qc.n_non_ref | variant_qc.het_freq_hwe |\n",
       "+------------------+----------------------+-------------------------+\n",
       "|            int64 |                int64 |                 float64 |\n",
       "+------------------+----------------------+-------------------------+\n",
       "|                3 |                    3 |                1.07e-02 |\n",
       "+------------------+----------------------+-------------------------+\n",
       "\n",
       "+------------------------+-------------------------------+\n",
       "| variant_qc.p_value_hwe | variant_qc.p_value_excess_het |\n",
       "+------------------------+-------------------------------+\n",
       "|                float64 |                       float64 |\n",
       "+------------------------+-------------------------------+\n",
       "|               5.03e-01 |                      4.97e-01 |\n",
       "+------------------------+-------------------------------+"
      ]
     },
     "metadata": {},
     "output_type": "display_data"
    }
   ],
   "source": [
    "voi.variant_qc.show()"
   ]
  },
  {
   "cell_type": "code",
   "execution_count": null,
   "id": "132c8068-3f14-48fb-89c6-ee74d7c934db",
   "metadata": {
    "tags": []
   },
   "outputs": [
    {
     "name": "stderr",
     "output_type": "stream",
     "text": [
      "[Stage 44:>                                                      (0 + 15) / 488]\r"
     ]
    }
   ],
   "source": [
    "p = hl.plot.histogram(voi.DP, range=(0, 65), bins=30)"
   ]
  },
  {
   "cell_type": "code",
   "execution_count": null,
   "id": "92c8506e-84b3-4603-8a01-f8b16ee8cda6",
   "metadata": {
    "tags": []
   },
   "outputs": [],
   "source": [
    "show(p)"
   ]
  },
  {
   "cell_type": "code",
   "execution_count": 48,
   "id": "e3331e5f-08d0-4044-acc4-d942c6255bb4",
   "metadata": {
    "tags": []
   },
   "outputs": [],
   "source": [
    "voi = voi.annotate_cols(\n",
    "    group = hl.if_else(\n",
    "        voi.s.contains('B'), 'sport', 'GTS'\n",
    "    )\n",
    ")"
   ]
  },
  {
   "cell_type": "code",
   "execution_count": null,
   "id": "b5e82531-908b-497b-9b54-ab509e488ba2",
   "metadata": {
    "tags": []
   },
   "outputs": [],
   "source": [
    "voi_sport = voi.filter_cols(voi.group == 'sport')"
   ]
  },
  {
   "cell_type": "code",
   "execution_count": 50,
   "id": "5d947590-2c33-4166-8184-61af61922487",
   "metadata": {
    "tags": []
   },
   "outputs": [
    {
     "name": "stderr",
     "output_type": "stream",
     "text": [
      "[Stage 52:=====================================================>(486 + 2) / 488]\r"
     ]
    }
   ],
   "source": [
    "ps = hl.plot.histogram(voi_sport.DP, range=(0, 65), bins=30)"
   ]
  },
  {
   "cell_type": "code",
   "execution_count": 51,
   "id": "466828f4-86ce-46be-9e46-65eeff545d98",
   "metadata": {
    "collapsed": true,
    "jupyter": {
     "outputs_hidden": true
    },
    "tags": []
   },
   "outputs": [
    {
     "data": {
      "text/html": [
       "\n",
       "\n",
       "\n",
       "\n",
       "\n",
       "\n",
       "  <div class=\"bk-root\" id=\"398d2bca-d763-47ab-a000-e8d2fd92d2c2\" data-root-id=\"1737\"></div>\n"
      ]
     },
     "metadata": {},
     "output_type": "display_data"
    },
    {
     "data": {
      "application/javascript": [
       "(function(root) {\n",
       "  function embed_document(root) {\n",
       "    \n",
       "  var docs_json = {\"f6a1c9be-1bf5-470a-ae4c-cf7a015068d0\":{\"roots\":{\"references\":[{\"attributes\":{\"background_fill_color\":{\"value\":\"#EEEEEE\"},\"below\":[{\"id\":\"1747\",\"type\":\"LinearAxis\"}],\"center\":[{\"id\":\"1751\",\"type\":\"Grid\"},{\"id\":\"1756\",\"type\":\"Grid\"},{\"id\":\"1781\",\"type\":\"Legend\"}],\"left\":[{\"id\":\"1752\",\"type\":\"LinearAxis\"}],\"renderers\":[{\"id\":\"1773\",\"type\":\"GlyphRenderer\"}],\"title\":null,\"toolbar\":{\"id\":\"1763\",\"type\":\"Toolbar\"},\"x_range\":{\"id\":\"1739\",\"type\":\"Range1d\"},\"x_scale\":{\"id\":\"1743\",\"type\":\"LinearScale\"},\"y_range\":{\"id\":\"1741\",\"type\":\"DataRange1d\"},\"y_scale\":{\"id\":\"1745\",\"type\":\"LinearScale\"}},\"id\":\"1737\",\"subtype\":\"Figure\",\"type\":\"Plot\"},{\"attributes\":{},\"id\":\"1778\",\"type\":\"BasicTickFormatter\"},{\"attributes\":{},\"id\":\"1836\",\"type\":\"UnionRenderers\"},{\"attributes\":{\"bottom_units\":\"screen\",\"fill_alpha\":{\"value\":0.5},\"fill_color\":{\"value\":\"lightgrey\"},\"left_units\":\"screen\",\"level\":\"overlay\",\"line_alpha\":{\"value\":1.0},\"line_color\":{\"value\":\"black\"},\"line_dash\":[4,4],\"line_width\":{\"value\":2},\"render_mode\":\"css\",\"right_units\":\"screen\",\"top_units\":\"screen\"},\"id\":\"1780\",\"type\":\"BoxAnnotation\"},{\"attributes\":{\"dimension\":1,\"ticker\":{\"id\":\"1753\",\"type\":\"BasicTicker\"}},\"id\":\"1756\",\"type\":\"Grid\"},{\"attributes\":{},\"id\":\"1837\",\"type\":\"Selection\"},{\"attributes\":{\"active_drag\":\"auto\",\"active_inspect\":\"auto\",\"active_multi\":null,\"active_scroll\":\"auto\",\"active_tap\":\"auto\",\"tools\":[{\"id\":\"1757\",\"type\":\"PanTool\"},{\"id\":\"1758\",\"type\":\"WheelZoomTool\"},{\"id\":\"1759\",\"type\":\"BoxZoomTool\"},{\"id\":\"1760\",\"type\":\"SaveTool\"},{\"id\":\"1761\",\"type\":\"ResetTool\"},{\"id\":\"1762\",\"type\":\"HelpTool\"}]},\"id\":\"1763\",\"type\":\"Toolbar\"},{\"attributes\":{\"data_source\":{\"id\":\"1770\",\"type\":\"ColumnDataSource\"},\"glyph\":{\"id\":\"1771\",\"type\":\"Quad\"},\"hover_glyph\":null,\"muted_glyph\":null,\"nonselection_glyph\":{\"id\":\"1772\",\"type\":\"Quad\"},\"selection_glyph\":null,\"view\":{\"id\":\"1774\",\"type\":\"CDSView\"}},\"id\":\"1773\",\"type\":\"GlyphRenderer\"},{\"attributes\":{\"source\":{\"id\":\"1770\",\"type\":\"ColumnDataSource\"}},\"id\":\"1774\",\"type\":\"CDSView\"},{\"attributes\":{},\"id\":\"1753\",\"type\":\"BasicTicker\"},{\"attributes\":{\"callback\":null},\"id\":\"1741\",\"type\":\"DataRange1d\"},{\"attributes\":{},\"id\":\"1748\",\"type\":\"BasicTicker\"},{\"attributes\":{\"formatter\":{\"id\":\"1778\",\"type\":\"BasicTickFormatter\"},\"ticker\":{\"id\":\"1748\",\"type\":\"BasicTicker\"}},\"id\":\"1747\",\"type\":\"LinearAxis\"},{\"attributes\":{},\"id\":\"1743\",\"type\":\"LinearScale\"},{\"attributes\":{},\"id\":\"1761\",\"type\":\"ResetTool\"},{\"attributes\":{},\"id\":\"1758\",\"type\":\"WheelZoomTool\"},{\"attributes\":{\"bottom\":{\"value\":0},\"fill_alpha\":{\"value\":0.1},\"fill_color\":{\"value\":\"#1f77b4\"},\"left\":{\"field\":\"left\"},\"line_alpha\":{\"value\":0.1},\"line_color\":{\"value\":\"#1f77b4\"},\"right\":{\"field\":\"right\"},\"top\":{\"field\":\"top\"}},\"id\":\"1772\",\"type\":\"Quad\"},{\"attributes\":{},\"id\":\"1745\",\"type\":\"LinearScale\"},{\"attributes\":{\"axis_label\":\"Frequency\",\"formatter\":{\"id\":\"1776\",\"type\":\"BasicTickFormatter\"},\"ticker\":{\"id\":\"1753\",\"type\":\"BasicTicker\"}},\"id\":\"1752\",\"type\":\"LinearAxis\"},{\"attributes\":{\"label\":{\"value\":\"\"},\"renderers\":[{\"id\":\"1773\",\"type\":\"GlyphRenderer\"}]},\"id\":\"1782\",\"type\":\"LegendItem\"},{\"attributes\":{\"ticker\":{\"id\":\"1748\",\"type\":\"BasicTicker\"}},\"id\":\"1751\",\"type\":\"Grid\"},{\"attributes\":{\"callback\":null,\"data\":{\"left\":[0.0,2.1666666666666665,4.333333333333333,6.5,8.666666666666666,10.833333333333332,13.0,15.166666666666666,17.333333333333332,19.5,21.666666666666664,23.833333333333332,26.0,28.166666666666664,30.333333333333332,32.5,34.666666666666664,36.83333333333333,39.0,41.166666666666664,43.33333333333333,45.5,47.666666666666664,49.83333333333333,52.0,54.166666666666664,56.33333333333333,58.49999999999999,60.666666666666664,62.83333333333333],\"right\":[2.1666666666666665,4.333333333333333,6.5,8.666666666666666,10.833333333333332,13.0,15.166666666666666,17.333333333333332,19.5,21.666666666666664,23.833333333333332,26.0,28.166666666666664,30.333333333333332,32.5,34.666666666666664,36.83333333333333,39.0,41.166666666666664,43.33333333333333,45.5,47.666666666666664,49.83333333333333,52.0,54.166666666666664,56.33333333333333,58.49999999999999,60.666666666666664,62.83333333333333,65.0],\"top\":[0,0,0,0,0,0,2,0,0,0,4,4,10,11,9,7,8,8,10,7,7,2,3,1,1,4,2,0,0,0]},\"selected\":{\"id\":\"1837\",\"type\":\"Selection\"},\"selection_policy\":{\"id\":\"1836\",\"type\":\"UnionRenderers\"}},\"id\":\"1770\",\"type\":\"ColumnDataSource\"},{\"attributes\":{},\"id\":\"1762\",\"type\":\"HelpTool\"},{\"attributes\":{},\"id\":\"1757\",\"type\":\"PanTool\"},{\"attributes\":{\"overlay\":{\"id\":\"1780\",\"type\":\"BoxAnnotation\"}},\"id\":\"1759\",\"type\":\"BoxZoomTool\"},{\"attributes\":{},\"id\":\"1760\",\"type\":\"SaveTool\"},{\"attributes\":{\"bottom\":{\"value\":0},\"fill_color\":{\"value\":\"#1f77b4\"},\"left\":{\"field\":\"left\"},\"right\":{\"field\":\"right\"},\"top\":{\"field\":\"top\"}},\"id\":\"1771\",\"type\":\"Quad\"},{\"attributes\":{\"items\":[{\"id\":\"1782\",\"type\":\"LegendItem\"}]},\"id\":\"1781\",\"type\":\"Legend\"},{\"attributes\":{\"callback\":null,\"end\":68.25,\"start\":-3.25},\"id\":\"1739\",\"type\":\"Range1d\"},{\"attributes\":{},\"id\":\"1776\",\"type\":\"BasicTickFormatter\"}],\"root_ids\":[\"1737\"]},\"title\":\"Bokeh Application\",\"version\":\"1.4.0\"}};\n",
       "  var render_items = [{\"docid\":\"f6a1c9be-1bf5-470a-ae4c-cf7a015068d0\",\"roots\":{\"1737\":\"398d2bca-d763-47ab-a000-e8d2fd92d2c2\"}}];\n",
       "  root.Bokeh.embed.embed_items_notebook(docs_json, render_items);\n",
       "\n",
       "  }\n",
       "  if (root.Bokeh !== undefined) {\n",
       "    embed_document(root);\n",
       "  } else {\n",
       "    var attempts = 0;\n",
       "    var timer = setInterval(function(root) {\n",
       "      if (root.Bokeh !== undefined) {\n",
       "        clearInterval(timer);\n",
       "        embed_document(root);\n",
       "      } else {\n",
       "        attempts++;\n",
       "        if (attempts > 100) {\n",
       "          clearInterval(timer);\n",
       "          console.log(\"Bokeh: ERROR: Unable to run BokehJS code because BokehJS library is missing\");\n",
       "        }\n",
       "      }\n",
       "    }, 10, root)\n",
       "  }\n",
       "})(window);"
      ],
      "application/vnd.bokehjs_exec.v0+json": ""
     },
     "metadata": {
      "application/vnd.bokehjs_exec.v0+json": {
       "id": "1737"
      }
     },
     "output_type": "display_data"
    }
   ],
   "source": [
    "show(ps)"
   ]
  },
  {
   "cell_type": "code",
   "execution_count": 57,
   "id": "04dc4faa-1dfa-4fd8-b695-d80ea0f615e4",
   "metadata": {
    "tags": []
   },
   "outputs": [
    {
     "name": "stderr",
     "output_type": "stream",
     "text": [
      "[Stage 60:=====================================================>(487 + 1) / 488]\r"
     ]
    }
   ],
   "source": [
    "p2 = hl.plot.histogram(voi_sport.GQ, range=(0, 100), bins=30)"
   ]
  },
  {
   "cell_type": "code",
   "execution_count": 58,
   "id": "8761926b-768f-41f5-9a60-1c98d9d779cd",
   "metadata": {
    "collapsed": true,
    "jupyter": {
     "outputs_hidden": true
    },
    "tags": []
   },
   "outputs": [
    {
     "data": {
      "text/html": [
       "\n",
       "\n",
       "\n",
       "\n",
       "\n",
       "\n",
       "  <div class=\"bk-root\" id=\"31473b80-6f4a-4813-865f-d3d78a7690f4\" data-root-id=\"1887\"></div>\n"
      ]
     },
     "metadata": {},
     "output_type": "display_data"
    },
    {
     "data": {
      "application/javascript": [
       "(function(root) {\n",
       "  function embed_document(root) {\n",
       "    \n",
       "  var docs_json = {\"2d888217-2d5d-484e-b61b-c21ce5eb8efb\":{\"roots\":{\"references\":[{\"attributes\":{\"background_fill_color\":{\"value\":\"#EEEEEE\"},\"below\":[{\"id\":\"1897\",\"type\":\"LinearAxis\"}],\"center\":[{\"id\":\"1901\",\"type\":\"Grid\"},{\"id\":\"1906\",\"type\":\"Grid\"},{\"id\":\"1931\",\"type\":\"Legend\"}],\"left\":[{\"id\":\"1902\",\"type\":\"LinearAxis\"}],\"renderers\":[{\"id\":\"1923\",\"type\":\"GlyphRenderer\"}],\"title\":null,\"toolbar\":{\"id\":\"1913\",\"type\":\"Toolbar\"},\"x_range\":{\"id\":\"1889\",\"type\":\"Range1d\"},\"x_scale\":{\"id\":\"1893\",\"type\":\"LinearScale\"},\"y_range\":{\"id\":\"1891\",\"type\":\"DataRange1d\"},\"y_scale\":{\"id\":\"1895\",\"type\":\"LinearScale\"}},\"id\":\"1887\",\"subtype\":\"Figure\",\"type\":\"Plot\"},{\"attributes\":{},\"id\":\"1893\",\"type\":\"LinearScale\"},{\"attributes\":{},\"id\":\"1907\",\"type\":\"PanTool\"},{\"attributes\":{},\"id\":\"1908\",\"type\":\"WheelZoomTool\"},{\"attributes\":{\"items\":[{\"id\":\"1932\",\"type\":\"LegendItem\"}]},\"id\":\"1931\",\"type\":\"Legend\"},{\"attributes\":{},\"id\":\"1928\",\"type\":\"BasicTickFormatter\"},{\"attributes\":{},\"id\":\"1994\",\"type\":\"UnionRenderers\"},{\"attributes\":{},\"id\":\"1898\",\"type\":\"BasicTicker\"},{\"attributes\":{},\"id\":\"1926\",\"type\":\"BasicTickFormatter\"},{\"attributes\":{\"ticker\":{\"id\":\"1898\",\"type\":\"BasicTicker\"}},\"id\":\"1901\",\"type\":\"Grid\"},{\"attributes\":{\"active_drag\":\"auto\",\"active_inspect\":\"auto\",\"active_multi\":null,\"active_scroll\":\"auto\",\"active_tap\":\"auto\",\"tools\":[{\"id\":\"1907\",\"type\":\"PanTool\"},{\"id\":\"1908\",\"type\":\"WheelZoomTool\"},{\"id\":\"1909\",\"type\":\"BoxZoomTool\"},{\"id\":\"1910\",\"type\":\"SaveTool\"},{\"id\":\"1911\",\"type\":\"ResetTool\"},{\"id\":\"1912\",\"type\":\"HelpTool\"}]},\"id\":\"1913\",\"type\":\"Toolbar\"},{\"attributes\":{},\"id\":\"1912\",\"type\":\"HelpTool\"},{\"attributes\":{\"dimension\":1,\"ticker\":{\"id\":\"1903\",\"type\":\"BasicTicker\"}},\"id\":\"1906\",\"type\":\"Grid\"},{\"attributes\":{},\"id\":\"1903\",\"type\":\"BasicTicker\"},{\"attributes\":{\"bottom\":{\"value\":0},\"fill_alpha\":{\"value\":0.1},\"fill_color\":{\"value\":\"#1f77b4\"},\"left\":{\"field\":\"left\"},\"line_alpha\":{\"value\":0.1},\"line_color\":{\"value\":\"#1f77b4\"},\"right\":{\"field\":\"right\"},\"top\":{\"field\":\"top\"}},\"id\":\"1922\",\"type\":\"Quad\"},{\"attributes\":{},\"id\":\"1995\",\"type\":\"Selection\"},{\"attributes\":{},\"id\":\"1895\",\"type\":\"LinearScale\"},{\"attributes\":{\"callback\":null,\"end\":105.0,\"start\":-5.0},\"id\":\"1889\",\"type\":\"Range1d\"},{\"attributes\":{\"overlay\":{\"id\":\"1930\",\"type\":\"BoxAnnotation\"}},\"id\":\"1909\",\"type\":\"BoxZoomTool\"},{\"attributes\":{\"axis_label\":\"Frequency\",\"formatter\":{\"id\":\"1926\",\"type\":\"BasicTickFormatter\"},\"ticker\":{\"id\":\"1903\",\"type\":\"BasicTicker\"}},\"id\":\"1902\",\"type\":\"LinearAxis\"},{\"attributes\":{\"data_source\":{\"id\":\"1920\",\"type\":\"ColumnDataSource\"},\"glyph\":{\"id\":\"1921\",\"type\":\"Quad\"},\"hover_glyph\":null,\"muted_glyph\":null,\"nonselection_glyph\":{\"id\":\"1922\",\"type\":\"Quad\"},\"selection_glyph\":null,\"view\":{\"id\":\"1924\",\"type\":\"CDSView\"}},\"id\":\"1923\",\"type\":\"GlyphRenderer\"},{\"attributes\":{\"source\":{\"id\":\"1920\",\"type\":\"ColumnDataSource\"}},\"id\":\"1924\",\"type\":\"CDSView\"},{\"attributes\":{\"bottom\":{\"value\":0},\"fill_color\":{\"value\":\"#1f77b4\"},\"left\":{\"field\":\"left\"},\"right\":{\"field\":\"right\"},\"top\":{\"field\":\"top\"}},\"id\":\"1921\",\"type\":\"Quad\"},{\"attributes\":{\"callback\":null,\"data\":{\"left\":[0.0,3.3333333333333335,6.666666666666667,10.0,13.333333333333334,16.666666666666668,20.0,23.333333333333336,26.666666666666668,30.0,33.333333333333336,36.66666666666667,40.0,43.333333333333336,46.66666666666667,50.0,53.333333333333336,56.66666666666667,60.0,63.333333333333336,66.66666666666667,70.0,73.33333333333334,76.66666666666667,80.0,83.33333333333334,86.66666666666667,90.0,93.33333333333334,96.66666666666667],\"right\":[3.3333333333333335,6.666666666666667,10.0,13.333333333333334,16.666666666666668,20.0,23.333333333333336,26.666666666666668,30.0,33.333333333333336,36.66666666666667,40.0,43.333333333333336,46.66666666666667,50.0,53.333333333333336,56.66666666666667,60.0,63.333333333333336,66.66666666666667,70.0,73.33333333333334,76.66666666666667,80.0,83.33333333333334,86.66666666666667,90.0,93.33333333333334,96.66666666666667,100.0],\"top\":[0,0,0,0,0,0,0,0,0,0,1,0,1,1,1,0,1,0,7,1,0,6,1,0,11,3,1,9,0,56]},\"selected\":{\"id\":\"1995\",\"type\":\"Selection\"},\"selection_policy\":{\"id\":\"1994\",\"type\":\"UnionRenderers\"}},\"id\":\"1920\",\"type\":\"ColumnDataSource\"},{\"attributes\":{},\"id\":\"1911\",\"type\":\"ResetTool\"},{\"attributes\":{\"callback\":null},\"id\":\"1891\",\"type\":\"DataRange1d\"},{\"attributes\":{},\"id\":\"1910\",\"type\":\"SaveTool\"},{\"attributes\":{\"formatter\":{\"id\":\"1928\",\"type\":\"BasicTickFormatter\"},\"ticker\":{\"id\":\"1898\",\"type\":\"BasicTicker\"}},\"id\":\"1897\",\"type\":\"LinearAxis\"},{\"attributes\":{\"bottom_units\":\"screen\",\"fill_alpha\":{\"value\":0.5},\"fill_color\":{\"value\":\"lightgrey\"},\"left_units\":\"screen\",\"level\":\"overlay\",\"line_alpha\":{\"value\":1.0},\"line_color\":{\"value\":\"black\"},\"line_dash\":[4,4],\"line_width\":{\"value\":2},\"render_mode\":\"css\",\"right_units\":\"screen\",\"top_units\":\"screen\"},\"id\":\"1930\",\"type\":\"BoxAnnotation\"},{\"attributes\":{\"label\":{\"value\":\"\"},\"renderers\":[{\"id\":\"1923\",\"type\":\"GlyphRenderer\"}]},\"id\":\"1932\",\"type\":\"LegendItem\"}],\"root_ids\":[\"1887\"]},\"title\":\"Bokeh Application\",\"version\":\"1.4.0\"}};\n",
       "  var render_items = [{\"docid\":\"2d888217-2d5d-484e-b61b-c21ce5eb8efb\",\"roots\":{\"1887\":\"31473b80-6f4a-4813-865f-d3d78a7690f4\"}}];\n",
       "  root.Bokeh.embed.embed_items_notebook(docs_json, render_items);\n",
       "\n",
       "  }\n",
       "  if (root.Bokeh !== undefined) {\n",
       "    embed_document(root);\n",
       "  } else {\n",
       "    var attempts = 0;\n",
       "    var timer = setInterval(function(root) {\n",
       "      if (root.Bokeh !== undefined) {\n",
       "        clearInterval(timer);\n",
       "        embed_document(root);\n",
       "      } else {\n",
       "        attempts++;\n",
       "        if (attempts > 100) {\n",
       "          clearInterval(timer);\n",
       "          console.log(\"Bokeh: ERROR: Unable to run BokehJS code because BokehJS library is missing\");\n",
       "        }\n",
       "      }\n",
       "    }, 10, root)\n",
       "  }\n",
       "})(window);"
      ],
      "application/vnd.bokehjs_exec.v0+json": ""
     },
     "metadata": {
      "application/vnd.bokehjs_exec.v0+json": {
       "id": "1887"
      }
     },
     "output_type": "display_data"
    }
   ],
   "source": [
    "show(p2)"
   ]
  },
  {
   "cell_type": "code",
   "execution_count": 67,
   "id": "aa8725d7-e3b3-4c47-a0b4-065f23196752",
   "metadata": {
    "tags": []
   },
   "outputs": [],
   "source": [
    "voi = voi.annotate_cols(\n",
    "    het = hl.agg.any(voi.GT.is_non_ref())\n",
    ")"
   ]
  },
  {
   "cell_type": "code",
   "execution_count": 68,
   "id": "a1be2c3d-6513-4f7f-8c8a-f45c29589b3b",
   "metadata": {
    "tags": []
   },
   "outputs": [],
   "source": [
    "voi_non_ref = voi.filter_cols(voi.het)"
   ]
  },
  {
   "cell_type": "code",
   "execution_count": 69,
   "id": "94914594-946d-4b31-a7df-7d9e25bff794",
   "metadata": {
    "tags": []
   },
   "outputs": [
    {
     "name": "stderr",
     "output_type": "stream",
     "text": [
      "[Stage 68:=====================================================>(487 + 1) / 488]\r"
     ]
    },
    {
     "data": {
      "text/plain": [
       "['B439', 'B480', 'B482']"
      ]
     },
     "execution_count": 69,
     "metadata": {},
     "output_type": "execute_result"
    }
   ],
   "source": [
    "voi_non_ref.s.collect()"
   ]
  },
  {
   "cell_type": "code",
   "execution_count": 14,
   "id": "48aa0988",
   "metadata": {
    "tags": []
   },
   "outputs": [],
   "source": [
    "near = hl.read_matrix_table('/net/pr2/projects/plgrid/plggneuromol/imdik-zekanowski-sportwgs/data/fanci/vars-near-fanci.mt')"
   ]
  },
  {
   "cell_type": "markdown",
   "id": "3f1f84a0-bd83-4496-a916-875508011df8",
   "metadata": {},
   "source": [
    "### Are there any variants nearby also shared by these three samples?"
   ]
  },
  {
   "cell_type": "code",
   "execution_count": 81,
   "id": "16cb092e-456f-4d54-b285-a269f7ddd6f3",
   "metadata": {
    "tags": []
   },
   "outputs": [],
   "source": [
    "poles = hl.read_matrix_table('/net/pr2/projects/plgrid/plggneuromol/resources/polish-genomes/polish-genomes.mt')"
   ]
  },
  {
   "cell_type": "code",
   "execution_count": 82,
   "id": "d8b9108a-0d38-4c90-944d-574993b60214",
   "metadata": {
    "tags": []
   },
   "outputs": [],
   "source": [
    "near = hl.read_matrix_table('/net/pr2/projects/plgrid/plggneuromol/imdik-zekanowski-sportwgs/data/fanci/vars-near-fanci.mt')"
   ]
  },
  {
   "cell_type": "code",
   "execution_count": 83,
   "id": "2cfaa588-3afd-4eb9-8b79-8051d145adbe",
   "metadata": {
    "tags": []
   },
   "outputs": [],
   "source": [
    "near = near.annotate_rows(polish_af = poles.rows()[near.row_key]['info'])"
   ]
  },
  {
   "cell_type": "code",
   "execution_count": 84,
   "id": "c216b309-1c0a-48a4-8f62-08e9357522a3",
   "metadata": {
    "tags": []
   },
   "outputs": [],
   "source": [
    "near = near.distinct_by_row()"
   ]
  },
  {
   "cell_type": "code",
   "execution_count": 85,
   "id": "1daf5b73-f422-4e53-b1b8-b1a5197da082",
   "metadata": {
    "tags": []
   },
   "outputs": [],
   "source": [
    "my_samples = near.filter_cols(hl.literal(['B439', 'B480', 'B482']).contains(near.s))"
   ]
  },
  {
   "cell_type": "code",
   "execution_count": 86,
   "id": "2369f933-4ba0-4f01-9688-5be09b21e762",
   "metadata": {
    "tags": []
   },
   "outputs": [],
   "source": [
    "my_samples = my_samples.filter_rows(\n",
    "    hl.agg.all(my_samples.GT.is_hom_ref()) |\n",
    "    hl.agg.all(my_samples.GT.is_het()) |\n",
    "    hl.agg.all(my_samples.GT.is_hom_var())\n",
    ")"
   ]
  },
  {
   "cell_type": "code",
   "execution_count": 87,
   "id": "110512fc-4b0e-4c34-9685-27c80cdf4918",
   "metadata": {
    "tags": []
   },
   "outputs": [],
   "source": [
    "near = near.filter_rows(hl.is_defined(my_samples.rows()[near.row_key]))"
   ]
  },
  {
   "cell_type": "code",
   "execution_count": 23,
   "id": "d7a5e53b-e5f5-4e01-af50-5b1e63bd7519",
   "metadata": {},
   "outputs": [
    {
     "name": "stderr",
     "output_type": "stream",
     "text": [
      "2023-10-25 12:39:44.180 Hail: INFO: wrote matrix table with 412 rows and 280 columns in 488 partitions to /localfs/5702757/haplo.mt\n"
     ]
    },
    {
     "data": {
      "text/plain": [
       "<hail.matrixtable.MatrixTable at 0x14797be8efb0>"
      ]
     },
     "execution_count": 23,
     "metadata": {},
     "output_type": "execute_result"
    }
   ],
   "source": [
    "near.checkpoint(localfs_path+'haplo.mt')"
   ]
  },
  {
   "cell_type": "code",
   "execution_count": 88,
   "id": "958f9bf0-b929-4cd8-8da6-cc59c476c026",
   "metadata": {
    "tags": []
   },
   "outputs": [],
   "source": [
    "near = hl.read_matrix_table(localfs_path+'haplo.mt')"
   ]
  },
  {
   "cell_type": "code",
   "execution_count": 89,
   "id": "976a7a52-a925-4834-b34a-f5c037ce4b19",
   "metadata": {
    "tags": []
   },
   "outputs": [],
   "source": [
    "near = near.distinct_by_row()"
   ]
  },
  {
   "cell_type": "code",
   "execution_count": 90,
   "id": "b6a9cb4a-b396-4ddc-8873-ed8db3f284f1",
   "metadata": {},
   "outputs": [],
   "source": [
    "near = near.annotate_rows(het_non_refs = hl.agg.group_by(near.group, hl.agg.count_where(near.GT.is_het())))\n",
    "near = near.annotate_rows(hom_refs = hl.agg.group_by(near.group, hl.agg.count_where(near.GT.is_hom_ref())))\n",
    "near = near.annotate_rows(hom_non_refs = hl.agg.group_by(near.group, hl.agg.count_where(near.GT.is_hom_var())))"
   ]
  },
  {
   "cell_type": "code",
   "execution_count": 91,
   "id": "04cca72a-7d0a-4016-946f-686abb6900a1",
   "metadata": {},
   "outputs": [],
   "source": [
    "near = near.annotate_rows(het_non_refs_e_vs_s = hl.agg.group_by(near.sport_phenotypes.type, hl.agg.count_where(near.GT.is_het())))\n",
    "near = near.annotate_rows(hom_refs_e_vs_s = hl.agg.group_by(near.sport_phenotypes.type, hl.agg.count_where(near.GT.is_hom_ref())))\n",
    "near = near.annotate_rows(hom_non_refs_e_vs_s = hl.agg.group_by(near.sport_phenotypes.type, hl.agg.count_where(near.GT.is_hom_var())))"
   ]
  },
  {
   "cell_type": "code",
   "execution_count": 92,
   "id": "b83d6ef2-49ff-485c-a206-9f7df8d58c7d",
   "metadata": {},
   "outputs": [],
   "source": [
    "sport_AC_non_ref = hl.int32(near.het_non_refs.get('sport', 0) + (near.hom_non_refs.get('sport', 0)*2))\n",
    "sport_AC_ref = hl.int32(near.het_non_refs.get('sport', 0) + (near.hom_refs.get('sport', 0)*2))\n",
    "control_AC_non_ref = hl.int32(near.het_non_refs.get('GTS', 0) + (near.hom_non_refs.get('GTS', 0)*2))\n",
    "control_AC_ref = hl.int32(near.het_non_refs.get('GTS', 0) + (near.hom_refs.get('GTS', 0)*2))\n",
    "speed_AC_non_ref = hl.int32(near.het_non_refs_e_vs_s.get('speed', 0) + (near.hom_non_refs_e_vs_s.get('speed', 0)*2))\n",
    "speed_AC_ref = hl.int32(near.het_non_refs_e_vs_s.get('speed', 0) + (near.hom_refs_e_vs_s.get('speed', 0)*2))\n",
    "endurance_AC_non_ref = hl.int32(near.het_non_refs_e_vs_s.get('endurance', 0) + (near.hom_non_refs_e_vs_s.get('endurance', 0)*2))\n",
    "endurance_AC_ref = hl.int32(near.het_non_refs_e_vs_s.get('endurance', 0) + (near.hom_refs_e_vs_s.get('endurance', 0)*2))\n",
    "gnomad_AC_non_ref = near.gnomad_v_3_1.freq.AC[2]\n",
    "gnomad_AC_ref = near.gnomad_v_3_1.freq.AN[2] - near.gnomad_v_3_1.freq.AC[2]\n",
    "polish_AC_non_ref = hl.int32(near.polish_af.AC[0])\n",
    "polish_AC_ref = hl.int32(near.polish_af.AN - near.polish_af.AC[0])\n",
    "\n",
    "near = near.annotate_rows(fisher_sport_vs_gts = hl.fisher_exact_test(sport_AC_non_ref, sport_AC_ref, control_AC_non_ref, control_AC_ref),\n",
    "                      fisher_e_vs_s = hl.fisher_exact_test(speed_AC_non_ref, speed_AC_ref, endurance_AC_non_ref, endurance_AC_ref),\n",
    "                      fisher_sport_vs_gnomad = hl.fisher_exact_test(sport_AC_non_ref, sport_AC_ref, gnomad_AC_non_ref, gnomad_AC_ref),\n",
    "                      fisher_sport_vs_polish = hl.fisher_exact_test(sport_AC_non_ref, sport_AC_ref, polish_AC_non_ref, polish_AC_ref))\n",
    "\n",
    "near = near.drop(near['a_index'], near['was_split'])"
   ]
  },
  {
   "cell_type": "code",
   "execution_count": 93,
   "id": "1c657efd-d388-47cd-8a46-a41102434b81",
   "metadata": {
    "tags": []
   },
   "outputs": [],
   "source": [
    "near = near.distinct_by_row()"
   ]
  },
  {
   "cell_type": "code",
   "execution_count": 94,
   "id": "8e6a3b71-e4a4-41a5-82cb-80173739a3c3",
   "metadata": {
    "tags": []
   },
   "outputs": [],
   "source": [
    "near = near.distinct_by_col()"
   ]
  },
  {
   "cell_type": "markdown",
   "id": "3fb9f2c4-c6b5-45f3-b2f7-8b95bd3b0a05",
   "metadata": {},
   "source": [
    "## What is the ld of \"our variant\" with other variants:"
   ]
  },
  {
   "cell_type": "code",
   "execution_count": 95,
   "id": "e9b392cb-0063-4485-9b88-3fd62167aa2a",
   "metadata": {},
   "outputs": [
    {
     "name": "stderr",
     "output_type": "stream",
     "text": [
      "2023-10-25 20:37:03.330 Hail: INFO: Wrote all 1 blocks of 412 x 279 matrix with block size 4096.\n"
     ]
    }
   ],
   "source": [
    "ld = hl.ld_matrix(near.GT.n_alt_alleles(), near.locus, radius=2e6)"
   ]
  },
  {
   "cell_type": "code",
   "execution_count": 100,
   "id": "d3058b69-0a4d-463c-9def-0dd9a3416d03",
   "metadata": {
    "tags": []
   },
   "outputs": [
    {
     "name": "stderr",
     "output_type": "stream",
     "text": [
      "[Stage 20:=================================================>   (456 + 18) / 488]\r"
     ]
    }
   ],
   "source": [
    "ld_near = ld.to_numpy()"
   ]
  },
  {
   "cell_type": "code",
   "execution_count": 104,
   "id": "b157b034-22bb-4dfe-9dab-f080dcc3f12e",
   "metadata": {
    "tags": []
   },
   "outputs": [
    {
     "data": {
      "text/plain": [
       "(412, 412)"
      ]
     },
     "execution_count": 104,
     "metadata": {},
     "output_type": "execute_result"
    }
   ],
   "source": [
    "ld_near.shape"
   ]
  },
  {
   "cell_type": "code",
   "execution_count": 107,
   "id": "688df76b-ab1c-4f8c-9cac-358a1a4bb421",
   "metadata": {},
   "outputs": [],
   "source": [
    "near = near.add_row_index()"
   ]
  },
  {
   "cell_type": "code",
   "execution_count": 116,
   "id": "18111e90-38f7-4b42-8147-0183e0f9f569",
   "metadata": {
    "tags": []
   },
   "outputs": [
    {
     "data": {
      "text/plain": [
       "[0, 1, 2, 3, 4]"
      ]
     },
     "execution_count": 116,
     "metadata": {},
     "output_type": "execute_result"
    }
   ],
   "source": [
    "near.row_idx.take(5)"
   ]
  },
  {
   "cell_type": "code",
   "execution_count": 113,
   "id": "4cf1ff8a-4922-43a9-842c-599f1b8b246b",
   "metadata": {
    "tags": []
   },
   "outputs": [
    {
     "data": {
      "text/plain": [
       "[235]"
      ]
     },
     "execution_count": 113,
     "metadata": {},
     "output_type": "execute_result"
    }
   ],
   "source": [
    "near.filter_rows(\n",
    "    (near.locus.contig == \"chr15\") &\n",
    "    (near.locus.position == 89315318)\n",
    ").row_idx.take(5) # this is the index of my variant"
   ]
  },
  {
   "cell_type": "code",
   "execution_count": 119,
   "id": "ecadb31c-e63a-4a34-b550-b8efc2b16938",
   "metadata": {
    "tags": []
   },
   "outputs": [],
   "source": [
    "pd.DataFrame(ld_near[235]).to_csv('ld.csv')"
   ]
  },
  {
   "cell_type": "code",
   "execution_count": 65,
   "id": "19bd1e9c-3f94-439f-b36c-5c6dd0a4d24f",
   "metadata": {
    "tags": []
   },
   "outputs": [
    {
     "name": "stderr",
     "output_type": "stream",
     "text": [
      "2023-10-25 14:38:20.926 Hail: INFO: wrote table with 412 rows in 488 partitions to /localfs/5702757/to_export_near.mt\n"
     ]
    }
   ],
   "source": [
    "near = near.transmute_rows(DP_stats = near.variant_qc.dp_stats,\n",
    "                           GQ_stats = near.variant_qc.gq_stats,\n",
    "                           hwe_p_value = near.variant_qc.p_value_hwe,\n",
    "                           gnomad_v3_nfe_af = near.gnomad_v_3_1.freq.AF[2],\n",
    "                           gnomad_v3_nfe_homozygote_count = near.gnomad_v_3_1.freq.homozygote_count[2],\n",
    "                           cadd = near.cadd.score_phred,\n",
    "                           within_gene = near.vep.vep.transcript_consequences.gene_symbol,\n",
    "                           fisher_sport_vs_gts  = near.fisher_sport_vs_gts,\n",
    "                           fisher_e_vs_s = near.fisher_e_vs_s,\n",
    "                           fisher_sport_vs_gnomad  = near.fisher_sport_vs_gnomad,\n",
    "                           fisher_sport_vs_polish = near.fisher_sport_vs_polish,\n",
    "                           het_sport = near.het_non_refs.get('sport', 0),\n",
    "                           het_gts = near.het_non_refs.get('GTS', 0),\n",
    "                           hom_ref_sport = near.hom_refs.get('sport', 0),\n",
    "                           hom_ref_controls = near.hom_refs.get('GTS', 0),\n",
    "                           hom_var_sport = near.hom_non_refs.get('sport', 0),\n",
    "                           hom_var_gts = near.hom_non_refs.get('GTS',0),\n",
    "                           het_endurance = near.het_non_refs_e_vs_s.get('endurance', 0),\n",
    "                           het_speed = near.het_non_refs_e_vs_s.get('speed', 0),\n",
    "                           hom_ref_endurance = near.hom_refs_e_vs_s.get('endurance', 0),\n",
    "                           hom_ref_speed = near.hom_refs_e_vs_s.get('speed', 0),\n",
    "                           hom_var_endurance = near.hom_non_refs_e_vs_s.get('endurance', 0),\n",
    "                           hom_var_speed = near.hom_non_refs_e_vs_s.get('speed',0),\n",
    "                           most_severe_consequence = near.vep.vep.most_severe_consequence,\n",
    "                           transcript_consequences = near.vep.vep.transcript_consequences,\n",
    "                           intergenic_consequences = near.vep.vep.intergenic_consequences,\n",
    "                           motif_feature_consequences = near.vep.vep.motif_feature_consequences,\n",
    "                           regulatory_feature_consequences = near.vep.vep.regulatory_feature_consequences,\n",
    "                           polish_af = near.polish_af)\n",
    "\n",
    "near = near.select_entries(near.GT)\n",
    "\n",
    "near = near.distinct_by_col()\n",
    "near = near.make_table()\n",
    "near = near.checkpoint(localfs_path+'to_export_near.mt', overwrite = True)"
   ]
  },
  {
   "cell_type": "code",
   "execution_count": 66,
   "id": "835b7112-5921-4632-9c18-b92e14c23c65",
   "metadata": {
    "tags": []
   },
   "outputs": [
    {
     "name": "stderr",
     "output_type": "stream",
     "text": [
      "2023-10-25 15:17:33.678 Hail: INFO: merging 489 files totalling 4.8M...1) / 488]\n",
      "2023-10-25 15:17:33.759 Hail: INFO: while writing:\n",
      "    haplo.csv\n",
      "  merge time: 80.295ms\n"
     ]
    }
   ],
   "source": [
    "to_export = near.flatten()\n",
    "to_export.export('haplo.csv')"
   ]
  },
  {
   "cell_type": "markdown",
   "id": "e7a458c0-0b29-4137-8768-7a8ffb6d6549",
   "metadata": {},
   "source": [
    "# Kinship analysis for all of the samples:"
   ]
  },
  {
   "cell_type": "code",
   "execution_count": 7,
   "id": "d378919f-2305-4f74-9050-6946929059ee",
   "metadata": {
    "tags": []
   },
   "outputs": [],
   "source": [
    "mt = hl.read_matrix_table('/net/pr2/projects/plgrid/plggneuromol/imdik-zekanowski-sportwgs/data/fanci/all-snps.mt')\n",
    "mt = mt.naive_coalesce(100)"
   ]
  },
  {
   "cell_type": "code",
   "execution_count": 8,
   "id": "e6bcd743-b7f8-49f6-b129-189a04a6f24f",
   "metadata": {
    "tags": []
   },
   "outputs": [],
   "source": [
    "mt = mt.sample_rows(0.1)"
   ]
  },
  {
   "cell_type": "code",
   "execution_count": 9,
   "id": "db5b4607-eb58-40df-8926-2b5020ba8c09",
   "metadata": {
    "tags": []
   },
   "outputs": [
    {
     "name": "stderr",
     "output_type": "stream",
     "text": [
      "2023-10-26 09:41:39.433 Hail: INFO: wrote matrix table with 650506 rows and 280 columns in 100 partitions to /localfs/5715784/subset_rand\n",
      "    Total size: 4.56 GiB\n",
      "    * Rows/entries: 4.56 GiB\n",
      "    * Columns: 35.28 KiB\n",
      "    * Globals: 11.00 B\n",
      "    * Smallest partition: 0 rows (20.00 B)\n",
      "    * Largest partition:  12449 rows (94.14 MiB)\n"
     ]
    }
   ],
   "source": [
    "mt = mt.checkpoint(localfs_path+'subset_rand')"
   ]
  },
  {
   "cell_type": "code",
   "execution_count": null,
   "id": "86e24d7d-16b7-4b49-895c-e5c61dc2a8bd",
   "metadata": {
    "tags": []
   },
   "outputs": [],
   "source": [
    "pc_rel2 = hl.pc_relate(mt.GT, 0, k=10, statistics='kin')\n",
    "pc_rel2 = pc_rel2.checkpoint(localfs_path+'pc_rel2.mt')"
   ]
  },
  {
   "cell_type": "code",
   "execution_count": 18,
   "id": "b1d5ab50-bc8f-4873-8fb7-fa563691859d",
   "metadata": {
    "collapsed": true,
    "jupyter": {
     "outputs_hidden": true
    },
    "tags": []
   },
   "outputs": [
    {
     "name": "stderr",
     "output_type": "stream",
     "text": [
      "2023-10-26 10:01:12.906 Hail: INFO: hwe_normalize: found 645890 variants after filtering out monomorphic sites.\n",
      "2023-10-26 10:01:22.577 Hail: INFO: pca: running PCA with 10 components.../ 100]\n",
      "2023-10-26 10:05:02.150 Hail: INFO: wrote table with 0 rows in 0 partitions to /localfs/5715784/persist_tabledVJ18v6mXt\n",
      "    Total size: 23.50 KiB\n",
      "    * Rows: 0.00 B\n",
      "    * Globals: 23.50 KiB\n",
      "    * Smallest partition: N/A\n",
      "    * Largest partition:  N/A\n",
      "2023-10-26 10:05:18.304 Hail: INFO: Wrote all 159 blocks of 650506 x 280 matrix with block size 4096.\n",
      "2023-10-26 10:05:20.150 Hail: INFO: wrote matrix with 11 rows and 650506 columns as 159 blocks of size 4096 to /localfs/5715784//pcrelate-write-read-X3T0igHpBzfhkTRJT1GDfC.bm\n",
      "2023-10-26 10:05:21.294 Hail: INFO: wrote matrix with 650506 rows and 280 columns as 159 blocks of size 4096 to /localfs/5715784//pcrelate-write-read-PsyVe8xVNSqVeBdt7T3f5h.bm\n",
      "2023-10-26 10:05:45.420 Hail: INFO: wrote matrix with 280 rows and 280 columns as 1 block of size 4096 to /localfs/5715784//pcrelate-write-read-XAjk3ZJtiJ1ACHMCQzAj6t.bm\n",
      "2023-10-26 10:06:09.442 Hail: INFO: wrote matrix with 280 rows and 280 columns as 1 block of size 4096 to /localfs/5715784//pcrelate-write-read-UYLI9hpW1oZrnGzhDwmJK7.bm\n",
      "2023-10-26 10:06:09.586 Hail: INFO: wrote matrix with 280 rows and 280 columns as 1 block of size 4096 to /localfs/5715784//pcrelate-write-read-nPpkToo6aIgf8cCSHPi1wh.bm\n",
      "2023-10-26 10:06:09.658 Hail: INFO: Ordering unsorted dataset with network shuffle\n",
      "2023-10-26 10:06:10.574 Hail: INFO: wrote table with 39340 rows in 1 partition to /localfs/5715784/persist_tableJQ1O9A9bT9\n",
      "    Total size: 667.99 KiB\n",
      "    * Rows: 667.98 KiB\n",
      "    * Globals: 11.00 B\n",
      "    * Smallest partition: 39340 rows (667.98 KiB)\n",
      "    * Largest partition:  39340 rows (667.98 KiB)\n",
      "2023-10-26 10:06:11.126 Hail: INFO: Ordering unsorted dataset with network shuffle\n",
      "2023-10-26 10:06:11.884 Hail: INFO: wrote table with 39060 rows in 1 partition to /localfs/5715784/persist_tableVSUEAS2Wud\n",
      "2023-10-26 10:06:12.370 Hail: INFO: wrote table with 39060 rows in 1 partition to /localfs/5715784/pc_rel3.mt\n"
     ]
    }
   ],
   "source": [
    "pc_rel3 = hl.pc_relate(mt.GT, 0.05, k=10, statistics='kin')\n",
    "pc_rel3 = pc_rel3.checkpoint(localfs_path+'pc_rel3.mt')"
   ]
  },
  {
   "cell_type": "code",
   "execution_count": 19,
   "id": "873d86e2-0c87-491d-ba65-f68be04296ca",
   "metadata": {
    "collapsed": true,
    "jupyter": {
     "outputs_hidden": true
    },
    "tags": []
   },
   "outputs": [
    {
     "name": "stderr",
     "output_type": "stream",
     "text": [
      "2023-10-26 10:06:19.043 Hail: INFO: hwe_normalize: found 645890 variants after filtering out monomorphic sites.\n",
      "2023-10-26 10:06:24.641 Hail: INFO: pca: running PCA with 10 components.../ 100]\n",
      "2023-10-26 10:09:51.297 Hail: INFO: wrote table with 0 rows in 0 partitions to /localfs/5715784/persist_tableY37Ob5xeme\n",
      "    Total size: 23.51 KiB\n",
      "    * Rows: 0.00 B\n",
      "    * Globals: 23.51 KiB\n",
      "    * Smallest partition: N/A\n",
      "    * Largest partition:  N/A\n",
      "2023-10-26 10:10:08.165 Hail: INFO: Wrote all 159 blocks of 650506 x 280 matrix with block size 4096.\n",
      "2023-10-26 10:10:10.023 Hail: INFO: wrote matrix with 11 rows and 650506 columns as 159 blocks of size 4096 to /localfs/5715784//pcrelate-write-read-PyGuoRUlR7Kd3lvEfoon8X.bm\n",
      "2023-10-26 10:10:11.324 Hail: INFO: wrote matrix with 650506 rows and 280 columns as 159 blocks of size 4096 to /localfs/5715784//pcrelate-write-read-X5c5cNKdAU6t2rYzwdGjlL.bm\n",
      "2023-10-26 10:10:41.576 Hail: INFO: wrote matrix with 280 rows and 280 columns as 1 block of size 4096 to /localfs/5715784//pcrelate-write-read-hgWzgItzGhJGIY76vuG3LU.bm\n",
      "2023-10-26 10:11:09.252 Hail: INFO: wrote matrix with 280 rows and 280 columns as 1 block of size 4096 to /localfs/5715784//pcrelate-write-read-ULumnqmQdl2De41TwPLfw6.bm\n",
      "2023-10-26 10:11:09.404 Hail: INFO: wrote matrix with 280 rows and 280 columns as 1 block of size 4096 to /localfs/5715784//pcrelate-write-read-C49fZIqMFPbpMySsBMzWoJ.bm\n",
      "2023-10-26 10:11:09.480 Hail: INFO: Ordering unsorted dataset with network shuffle\n",
      "2023-10-26 10:11:09.881 Hail: INFO: wrote table with 39340 rows in 1 partition to /localfs/5715784/persist_tableKHZaGtL22W\n",
      "    Total size: 667.67 KiB\n",
      "    * Rows: 667.65 KiB\n",
      "    * Globals: 11.00 B\n",
      "    * Smallest partition: 39340 rows (667.65 KiB)\n",
      "    * Largest partition:  39340 rows (667.65 KiB)\n",
      "2023-10-26 10:11:10.435 Hail: INFO: Ordering unsorted dataset with network shuffle\n",
      "2023-10-26 10:11:11.198 Hail: INFO: wrote table with 39060 rows in 1 partition to /localfs/5715784/persist_tablea5k6033lz5\n",
      "2023-10-26 10:11:11.846 Hail: INFO: wrote table with 39060 rows in 1 partition to /localfs/5715784/pc_rel4.mt\n"
     ]
    }
   ],
   "source": [
    "pc_rel4 = hl.pc_relate(mt.GT, 0.01, k=10, statistics='kin')\n",
    "pc_rel4 = pc_rel4.checkpoint(localfs_path+'pc_rel4.mt')"
   ]
  },
  {
   "cell_type": "code",
   "execution_count": 21,
   "id": "622b1658-2711-4001-a5d1-3314f9134503",
   "metadata": {
    "tags": []
   },
   "outputs": [],
   "source": [
    "our_s = ['B439', 'B480', 'B482']"
   ]
  },
  {
   "cell_type": "code",
   "execution_count": 49,
   "id": "32917bf4-76bf-4b4d-81e9-db9ca762110e",
   "metadata": {
    "tags": []
   },
   "outputs": [],
   "source": [
    "our_filt = (hl.literal(our_s).contains(pc_rel4.i.s)) & (hl.literal(our_s).contains(pc_rel4.j.s))"
   ]
  },
  {
   "cell_type": "code",
   "execution_count": 62,
   "id": "788e8f11-dcc9-4eb9-970e-1445654fb08c",
   "metadata": {
    "tags": []
   },
   "outputs": [
    {
     "data": {
      "text/html": [
       "<table><thead><tr><td style=\"white-space: nowrap; max-width: 500px; overflow: hidden; text-overflow: ellipsis; \" colspan=\"1\"><div style=\"text-align: left;\"></div></td><td style=\"white-space: nowrap; max-width: 500px; overflow: hidden; text-overflow: ellipsis; \" colspan=\"1\"><div style=\"text-align: left;\"></div></td><td style=\"white-space: nowrap; max-width: 500px; overflow: hidden; text-overflow: ellipsis; \" colspan=\"1\"><div style=\"text-align: left;\"></div></td></tr><tr><td style=\"white-space: nowrap; max-width: 500px; overflow: hidden; text-overflow: ellipsis; \" colspan=\"1\"><div style=\"text-align: left;border-bottom: solid 2px #000; padding-bottom: 5px\">i</div></td><td style=\"white-space: nowrap; max-width: 500px; overflow: hidden; text-overflow: ellipsis; \" colspan=\"1\"><div style=\"text-align: left;border-bottom: solid 2px #000; padding-bottom: 5px\">j</div></td><td style=\"white-space: nowrap; max-width: 500px; overflow: hidden; text-overflow: ellipsis; \" colspan=\"1\"><div style=\"text-align: left;\"></div></td></tr><tr><td style=\"white-space: nowrap; max-width: 500px; overflow: hidden; text-overflow: ellipsis; \" colspan=\"1\"><div style=\"text-align: left;border-bottom: solid 2px #000; padding-bottom: 5px\">s</div></td><td style=\"white-space: nowrap; max-width: 500px; overflow: hidden; text-overflow: ellipsis; \" colspan=\"1\"><div style=\"text-align: left;border-bottom: solid 2px #000; padding-bottom: 5px\">s</div></td><td style=\"white-space: nowrap; max-width: 500px; overflow: hidden; text-overflow: ellipsis; \" colspan=\"1\"><div style=\"text-align: left;border-bottom: solid 2px #000; padding-bottom: 5px\">kin</div></td></tr><tr><td style=\"white-space: nowrap; max-width: 500px; overflow: hidden; text-overflow: ellipsis; text-align: left;\">str</td><td style=\"white-space: nowrap; max-width: 500px; overflow: hidden; text-overflow: ellipsis; text-align: left;\">str</td><td style=\"white-space: nowrap; max-width: 500px; overflow: hidden; text-overflow: ellipsis; text-align: left;\">float64</td></tr>\n",
       "</thead><tbody><tr><td style=\"white-space: nowrap; max-width: 500px; overflow: hidden; text-overflow: ellipsis; \">&quot;B439&quot;</td><td style=\"white-space: nowrap; max-width: 500px; overflow: hidden; text-overflow: ellipsis; \">&quot;B480&quot;</td><td style=\"white-space: nowrap; max-width: 500px; overflow: hidden; text-overflow: ellipsis; \">-2.82e-03</td></tr>\n",
       "<tr><td style=\"white-space: nowrap; max-width: 500px; overflow: hidden; text-overflow: ellipsis; \">&quot;B439&quot;</td><td style=\"white-space: nowrap; max-width: 500px; overflow: hidden; text-overflow: ellipsis; \">&quot;B482&quot;</td><td style=\"white-space: nowrap; max-width: 500px; overflow: hidden; text-overflow: ellipsis; \">-4.50e-04</td></tr>\n",
       "<tr><td style=\"white-space: nowrap; max-width: 500px; overflow: hidden; text-overflow: ellipsis; \">&quot;B480&quot;</td><td style=\"white-space: nowrap; max-width: 500px; overflow: hidden; text-overflow: ellipsis; \">&quot;B482&quot;</td><td style=\"white-space: nowrap; max-width: 500px; overflow: hidden; text-overflow: ellipsis; \">-2.76e-03</td></tr>\n",
       "</tbody></table>"
      ],
      "text/plain": [
       "+--------+--------+-----------+\n",
       "| i.s    | j.s    |       kin |\n",
       "+--------+--------+-----------+\n",
       "| str    | str    |   float64 |\n",
       "+--------+--------+-----------+\n",
       "| \"B439\" | \"B480\" | -2.82e-03 |\n",
       "| \"B439\" | \"B482\" | -4.50e-04 |\n",
       "| \"B480\" | \"B482\" | -2.76e-03 |\n",
       "+--------+--------+-----------+"
      ]
     },
     "metadata": {},
     "output_type": "display_data"
    }
   ],
   "source": [
    "pc_rel4.filter(our_filt).show()"
   ]
  },
  {
   "cell_type": "markdown",
   "id": "63c708da-bd8d-415f-802c-1bff922b65ba",
   "metadata": {},
   "source": [
    "### How many SNPs in 2, 3 and 4 sportmen"
   ]
  },
  {
   "cell_type": "code",
   "execution_count": 79,
   "id": "93837330-285e-4a6e-b1f6-acd2aa76e010",
   "metadata": {
    "tags": []
   },
   "outputs": [],
   "source": [
    "mt = hl.read_matrix_table('/net/pr2/projects/plgrid/plggneuromol/imdik-zekanowski-sportwgs/data/fanci/all-snps.mt')"
   ]
  },
  {
   "cell_type": "code",
   "execution_count": 80,
   "id": "84a01aec-d9f2-4b09-b27b-0eabe1a50767",
   "metadata": {
    "tags": []
   },
   "outputs": [],
   "source": [
    "mt = mt.annotate_cols(\n",
    "    group = hl.if_else(\n",
    "        mt.s.contains('B'), 'sport', 'GTS'\n",
    "    )\n",
    ")"
   ]
  },
  {
   "cell_type": "code",
   "execution_count": 81,
   "id": "1be7d2b6-9a71-4666-9236-1997952b2631",
   "metadata": {
    "tags": []
   },
   "outputs": [],
   "source": [
    "sport = mt.filter_cols(mt.group == 'sport') "
   ]
  },
  {
   "cell_type": "code",
   "execution_count": 82,
   "id": "d3695639-cdc9-4d3b-8236-c9aad4138d27",
   "metadata": {
    "tags": []
   },
   "outputs": [],
   "source": [
    "sport = sport.filter_rows(hl.agg.any(sport.GT.is_non_ref()))"
   ]
  },
  {
   "cell_type": "code",
   "execution_count": 84,
   "id": "1c55fe49-d6d8-4bdd-9c8c-c16606baa54c",
   "metadata": {
    "tags": []
   },
   "outputs": [
    {
     "name": "stderr",
     "output_type": "stream",
     "text": [
      "2023-10-26 16:41:49.747 Hail: INFO: wrote matrix table with 4452374 rows and 100 columns in 488 partitions to /localfs/5715784/sport-only.mt\n"
     ]
    }
   ],
   "source": [
    "sport = sport.checkpoint(localfs_path+'sport-only.mt', overwrite = True)"
   ]
  },
  {
   "cell_type": "code",
   "execution_count": 85,
   "id": "dd59921c-84b8-4267-acf3-65edd4e79936",
   "metadata": {
    "tags": []
   },
   "outputs": [],
   "source": [
    "sport = sport.annotate_rows(\n",
    "    var_sum = hl.agg.sum(sport.GT.is_non_ref())\n",
    ")"
   ]
  },
  {
   "cell_type": "code",
   "execution_count": 86,
   "id": "811e7138-c96b-4fb3-8392-75e37608c4e3",
   "metadata": {
    "tags": []
   },
   "outputs": [],
   "source": [
    "sport2 = sport.filter_rows(sport.var_sum == 2)"
   ]
  },
  {
   "cell_type": "code",
   "execution_count": 87,
   "id": "8236cfbc-433a-43f3-b072-6e73f37291f2",
   "metadata": {
    "tags": []
   },
   "outputs": [
    {
     "name": "stderr",
     "output_type": "stream",
     "text": [
      "[Stage 766:====================================================>(487 + 1) / 488]\r"
     ]
    },
    {
     "data": {
      "text/plain": [
       "(319689, 100)"
      ]
     },
     "execution_count": 87,
     "metadata": {},
     "output_type": "execute_result"
    }
   ],
   "source": [
    "sport2.count()"
   ]
  },
  {
   "cell_type": "code",
   "execution_count": 88,
   "id": "8944ad82-9d3b-4ec4-9ad4-b27a2e5d3ea3",
   "metadata": {
    "tags": []
   },
   "outputs": [],
   "source": [
    "sport3 = sport.filter_rows(sport.var_sum == 3)"
   ]
  },
  {
   "cell_type": "code",
   "execution_count": 89,
   "id": "40549749-d84b-4015-9402-789d5974171e",
   "metadata": {
    "tags": []
   },
   "outputs": [
    {
     "name": "stderr",
     "output_type": "stream",
     "text": [
      "[Stage 767:====================================================>(487 + 1) / 488]\r"
     ]
    },
    {
     "data": {
      "text/plain": [
       "(180783, 100)"
      ]
     },
     "execution_count": 89,
     "metadata": {},
     "output_type": "execute_result"
    }
   ],
   "source": [
    "sport3.count()"
   ]
  },
  {
   "cell_type": "code",
   "execution_count": 103,
   "id": "3a97f0d6-9df1-4dd1-817f-213688c8d237",
   "metadata": {
    "tags": []
   },
   "outputs": [
    {
     "name": "stderr",
     "output_type": "stream",
     "text": [
      "[Stage 779:====================================================>(487 + 1) / 488]\r"
     ]
    }
   ],
   "source": [
    "s4 = hl.plot.histogram(sport4.rows().gnomad_v_3_1.freq.AF[2], range=(0, 0.2), bins=30)"
   ]
  },
  {
   "cell_type": "code",
   "execution_count": 104,
   "id": "fe7fca76-cf5d-45f8-b347-ee42e1fe22b6",
   "metadata": {
    "tags": []
   },
   "outputs": [
    {
     "data": {
      "text/html": [
       "\n",
       "\n",
       "\n",
       "\n",
       "\n",
       "\n",
       "  <div class=\"bk-root\" id=\"7847c9b7-271b-45e4-882d-5d6b45bc6423\" data-root-id=\"1721\"></div>\n"
      ]
     },
     "metadata": {},
     "output_type": "display_data"
    },
    {
     "data": {
      "application/javascript": [
       "(function(root) {\n",
       "  function embed_document(root) {\n",
       "    \n",
       "  var docs_json = {\"724d08a3-b8b7-4099-9cfd-fd07ff7fa881\":{\"roots\":{\"references\":[{\"attributes\":{\"background_fill_color\":{\"value\":\"#EEEEEE\"},\"below\":[{\"id\":\"1731\",\"type\":\"LinearAxis\"}],\"center\":[{\"id\":\"1735\",\"type\":\"Grid\"},{\"id\":\"1740\",\"type\":\"Grid\"},{\"id\":\"1765\",\"type\":\"Legend\"}],\"left\":[{\"id\":\"1736\",\"type\":\"LinearAxis\"}],\"renderers\":[{\"id\":\"1757\",\"type\":\"GlyphRenderer\"},{\"id\":\"1770\",\"type\":\"GlyphRenderer\"}],\"title\":null,\"toolbar\":{\"id\":\"1747\",\"type\":\"Toolbar\"},\"x_range\":{\"id\":\"1723\",\"type\":\"Range1d\"},\"x_scale\":{\"id\":\"1727\",\"type\":\"LinearScale\"},\"y_range\":{\"id\":\"1725\",\"type\":\"DataRange1d\"},\"y_scale\":{\"id\":\"1729\",\"type\":\"LinearScale\"}},\"id\":\"1721\",\"subtype\":\"Figure\",\"type\":\"Plot\"},{\"attributes\":{},\"id\":\"1837\",\"type\":\"Selection\"},{\"attributes\":{},\"id\":\"1838\",\"type\":\"UnionRenderers\"},{\"attributes\":{},\"id\":\"1762\",\"type\":\"BasicTickFormatter\"},{\"attributes\":{},\"id\":\"1744\",\"type\":\"SaveTool\"},{\"attributes\":{\"label\":{\"value\":\"Outliers Above\"},\"renderers\":[{\"id\":\"1770\",\"type\":\"GlyphRenderer\"}]},\"id\":\"1780\",\"type\":\"LegendItem\"},{\"attributes\":{},\"id\":\"1741\",\"type\":\"PanTool\"},{\"attributes\":{\"bottom\":{\"value\":0},\"fill_color\":{\"value\":\"green\"},\"left\":{\"value\":0.2},\"right\":{\"value\":0.20666666666666667},\"top\":{\"value\":150}},\"id\":\"1768\",\"type\":\"Quad\"},{\"attributes\":{\"data_source\":{\"id\":\"1754\",\"type\":\"ColumnDataSource\"},\"glyph\":{\"id\":\"1755\",\"type\":\"Quad\"},\"hover_glyph\":null,\"muted_glyph\":null,\"nonselection_glyph\":{\"id\":\"1756\",\"type\":\"Quad\"},\"selection_glyph\":null,\"view\":{\"id\":\"1758\",\"type\":\"CDSView\"}},\"id\":\"1757\",\"type\":\"GlyphRenderer\"},{\"attributes\":{\"overlay\":{\"id\":\"1764\",\"type\":\"BoxAnnotation\"}},\"id\":\"1743\",\"type\":\"BoxZoomTool\"},{\"attributes\":{\"axis_label\":\"Frequency\",\"formatter\":{\"id\":\"1762\",\"type\":\"BasicTickFormatter\"},\"ticker\":{\"id\":\"1737\",\"type\":\"BasicTicker\"}},\"id\":\"1736\",\"type\":\"LinearAxis\"},{\"attributes\":{\"bottom_units\":\"screen\",\"fill_alpha\":{\"value\":0.5},\"fill_color\":{\"value\":\"lightgrey\"},\"left_units\":\"screen\",\"level\":\"overlay\",\"line_alpha\":{\"value\":1.0},\"line_color\":{\"value\":\"black\"},\"line_dash\":[4,4],\"line_width\":{\"value\":2},\"render_mode\":\"css\",\"right_units\":\"screen\",\"top_units\":\"screen\"},\"id\":\"1764\",\"type\":\"BoxAnnotation\"},{\"attributes\":{},\"id\":\"1742\",\"type\":\"WheelZoomTool\"},{\"attributes\":{},\"id\":\"1746\",\"type\":\"HelpTool\"},{\"attributes\":{},\"id\":\"1732\",\"type\":\"BasicTicker\"},{\"attributes\":{},\"id\":\"1729\",\"type\":\"LinearScale\"},{\"attributes\":{\"data_source\":{\"id\":\"1767\",\"type\":\"ColumnDataSource\"},\"glyph\":{\"id\":\"1768\",\"type\":\"Quad\"},\"hover_glyph\":null,\"muted_glyph\":null,\"nonselection_glyph\":{\"id\":\"1769\",\"type\":\"Quad\"},\"selection_glyph\":null,\"view\":{\"id\":\"1771\",\"type\":\"CDSView\"}},\"id\":\"1770\",\"type\":\"GlyphRenderer\"},{\"attributes\":{},\"id\":\"1760\",\"type\":\"BasicTickFormatter\"},{\"attributes\":{\"ticker\":{\"id\":\"1732\",\"type\":\"BasicTicker\"}},\"id\":\"1735\",\"type\":\"Grid\"},{\"attributes\":{\"items\":[{\"id\":\"1766\",\"type\":\"LegendItem\"},{\"id\":\"1780\",\"type\":\"LegendItem\"}]},\"id\":\"1765\",\"type\":\"Legend\"},{\"attributes\":{\"formatter\":{\"id\":\"1760\",\"type\":\"BasicTickFormatter\"},\"ticker\":{\"id\":\"1732\",\"type\":\"BasicTicker\"}},\"id\":\"1731\",\"type\":\"LinearAxis\"},{\"attributes\":{\"callback\":null,\"data\":{\"left\":[0.0,0.006666666666666667,0.013333333333333334,0.02,0.02666666666666667,0.03333333333333333,0.04,0.04666666666666667,0.05333333333333334,0.060000000000000005,0.06666666666666667,0.07333333333333333,0.08,0.08666666666666667,0.09333333333333334,0.1,0.10666666666666667,0.11333333333333334,0.12000000000000001,0.12666666666666668,0.13333333333333333,0.14,0.14666666666666667,0.15333333333333335,0.16,0.16666666666666669,0.17333333333333334,0.18000000000000002,0.18666666666666668,0.19333333333333336],\"right\":[0.006666666666666667,0.013333333333333334,0.02,0.02666666666666667,0.03333333333333333,0.04,0.04666666666666667,0.05333333333333334,0.060000000000000005,0.06666666666666667,0.07333333333333333,0.08,0.08666666666666667,0.09333333333333334,0.1,0.10666666666666667,0.11333333333333334,0.12000000000000001,0.12666666666666668,0.13333333333333333,0.14,0.14666666666666667,0.15333333333333335,0.16,0.16666666666666669,0.17333333333333334,0.18000000000000002,0.18666666666666668,0.19333333333333336,0.2],\"top\":[19487,27652,28478,22302,13972,9268,4522,2226,1149,1051,254,144,85,36,17,11,5,13,4,12,9,13,20,11,7,6,15,7,14,6]},\"selected\":{\"id\":\"1778\",\"type\":\"Selection\"},\"selection_policy\":{\"id\":\"1779\",\"type\":\"UnionRenderers\"}},\"id\":\"1754\",\"type\":\"ColumnDataSource\"},{\"attributes\":{\"bottom\":{\"value\":0},\"fill_alpha\":{\"value\":0.1},\"fill_color\":{\"value\":\"#1f77b4\"},\"left\":{\"field\":\"left\"},\"line_alpha\":{\"value\":0.1},\"line_color\":{\"value\":\"#1f77b4\"},\"right\":{\"field\":\"right\"},\"top\":{\"field\":\"top\"}},\"id\":\"1756\",\"type\":\"Quad\"},{\"attributes\":{},\"id\":\"1745\",\"type\":\"ResetTool\"},{\"attributes\":{\"callback\":null},\"id\":\"1725\",\"type\":\"DataRange1d\"},{\"attributes\":{\"callback\":null,\"data\":{},\"selected\":{\"id\":\"1837\",\"type\":\"Selection\"},\"selection_policy\":{\"id\":\"1838\",\"type\":\"UnionRenderers\"}},\"id\":\"1767\",\"type\":\"ColumnDataSource\"},{\"attributes\":{\"source\":{\"id\":\"1754\",\"type\":\"ColumnDataSource\"}},\"id\":\"1758\",\"type\":\"CDSView\"},{\"attributes\":{\"source\":{\"id\":\"1767\",\"type\":\"ColumnDataSource\"}},\"id\":\"1771\",\"type\":\"CDSView\"},{\"attributes\":{\"label\":{\"value\":\"\"},\"renderers\":[{\"id\":\"1757\",\"type\":\"GlyphRenderer\"}]},\"id\":\"1766\",\"type\":\"LegendItem\"},{\"attributes\":{},\"id\":\"1727\",\"type\":\"LinearScale\"},{\"attributes\":{\"bottom\":{\"value\":0},\"fill_color\":{\"value\":\"#1f77b4\"},\"left\":{\"field\":\"left\"},\"right\":{\"field\":\"right\"},\"top\":{\"field\":\"top\"}},\"id\":\"1755\",\"type\":\"Quad\"},{\"attributes\":{\"active_drag\":\"auto\",\"active_inspect\":\"auto\",\"active_multi\":null,\"active_scroll\":\"auto\",\"active_tap\":\"auto\",\"tools\":[{\"id\":\"1741\",\"type\":\"PanTool\"},{\"id\":\"1742\",\"type\":\"WheelZoomTool\"},{\"id\":\"1743\",\"type\":\"BoxZoomTool\"},{\"id\":\"1744\",\"type\":\"SaveTool\"},{\"id\":\"1745\",\"type\":\"ResetTool\"},{\"id\":\"1746\",\"type\":\"HelpTool\"}]},\"id\":\"1747\",\"type\":\"Toolbar\"},{\"attributes\":{},\"id\":\"1778\",\"type\":\"Selection\"},{\"attributes\":{},\"id\":\"1737\",\"type\":\"BasicTicker\"},{\"attributes\":{\"callback\":null,\"end\":0.21000000000000002,\"start\":-0.010000000000000002},\"id\":\"1723\",\"type\":\"Range1d\"},{\"attributes\":{\"dimension\":1,\"ticker\":{\"id\":\"1737\",\"type\":\"BasicTicker\"}},\"id\":\"1740\",\"type\":\"Grid\"},{\"attributes\":{\"bottom\":{\"value\":0},\"fill_alpha\":{\"value\":0.1},\"fill_color\":{\"value\":\"#1f77b4\"},\"left\":{\"value\":0.2},\"line_alpha\":{\"value\":0.1},\"line_color\":{\"value\":\"#1f77b4\"},\"right\":{\"value\":0.20666666666666667},\"top\":{\"value\":150}},\"id\":\"1769\",\"type\":\"Quad\"},{\"attributes\":{},\"id\":\"1779\",\"type\":\"UnionRenderers\"}],\"root_ids\":[\"1721\"]},\"title\":\"Bokeh Application\",\"version\":\"1.4.0\"}};\n",
       "  var render_items = [{\"docid\":\"724d08a3-b8b7-4099-9cfd-fd07ff7fa881\",\"roots\":{\"1721\":\"7847c9b7-271b-45e4-882d-5d6b45bc6423\"}}];\n",
       "  root.Bokeh.embed.embed_items_notebook(docs_json, render_items);\n",
       "\n",
       "  }\n",
       "  if (root.Bokeh !== undefined) {\n",
       "    embed_document(root);\n",
       "  } else {\n",
       "    var attempts = 0;\n",
       "    var timer = setInterval(function(root) {\n",
       "      if (root.Bokeh !== undefined) {\n",
       "        clearInterval(timer);\n",
       "        embed_document(root);\n",
       "      } else {\n",
       "        attempts++;\n",
       "        if (attempts > 100) {\n",
       "          clearInterval(timer);\n",
       "          console.log(\"Bokeh: ERROR: Unable to run BokehJS code because BokehJS library is missing\");\n",
       "        }\n",
       "      }\n",
       "    }, 10, root)\n",
       "  }\n",
       "})(window);"
      ],
      "application/vnd.bokehjs_exec.v0+json": ""
     },
     "metadata": {
      "application/vnd.bokehjs_exec.v0+json": {
       "id": "1721"
      }
     },
     "output_type": "display_data"
    }
   ],
   "source": [
    "show(s4)"
   ]
  },
  {
   "cell_type": "code",
   "execution_count": 90,
   "id": "d94a7b10-365f-45d6-a125-bfd844ce631d",
   "metadata": {
    "tags": []
   },
   "outputs": [],
   "source": [
    "sport4 = sport.filter_rows(sport.var_sum == 4)"
   ]
  },
  {
   "cell_type": "code",
   "execution_count": 91,
   "id": "44dc58d6-7f75-40ce-b090-e5cd08145a80",
   "metadata": {
    "tags": []
   },
   "outputs": [
    {
     "name": "stderr",
     "output_type": "stream",
     "text": [
      "[Stage 768:====================================================>(487 + 1) / 488]\r"
     ]
    },
    {
     "data": {
      "text/plain": [
       "(131612, 100)"
      ]
     },
     "execution_count": 91,
     "metadata": {},
     "output_type": "execute_result"
    }
   ],
   "source": [
    "sport4.count()"
   ]
  }
 ],
 "metadata": {
  "kernelspec": {
   "display_name": "Python 3 (ipykernel)",
   "language": "python",
   "name": "python3"
  },
  "language_info": {
   "codemirror_mode": {
    "name": "ipython",
    "version": 3
   },
   "file_extension": ".py",
   "mimetype": "text/x-python",
   "name": "python",
   "nbconvert_exporter": "python",
   "pygments_lexer": "ipython3",
   "version": "3.10.4"
  }
 },
 "nbformat": 4,
 "nbformat_minor": 5
}
