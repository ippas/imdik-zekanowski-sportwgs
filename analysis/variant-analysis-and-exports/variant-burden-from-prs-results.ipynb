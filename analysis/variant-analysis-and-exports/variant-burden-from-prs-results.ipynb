{
 "cells": [
  {
   "cell_type": "code",
   "execution_count": 1,
   "id": "9cc9189c-c1e3-40df-aa8e-15ace1651468",
   "metadata": {
    "tags": []
   },
   "outputs": [
    {
     "name": "stderr",
     "output_type": "stream",
     "text": [
      "WARNING: An illegal reflective access operation has occurred\n",
      "WARNING: Illegal reflective access by org.apache.spark.unsafe.Platform (file:/net/pr2/projects/plgrid/plggneuromol/imdik-zekanowski-sportwgs/venv-hail-0.2.109/lib/python3.10/site-packages/pyspark/jars/spark-unsafe_2.12-3.1.3.jar) to constructor java.nio.DirectByteBuffer(long,int)\n",
      "WARNING: Please consider reporting this to the maintainers of org.apache.spark.unsafe.Platform\n",
      "WARNING: Use --illegal-access=warn to enable warnings of further illegal reflective access operations\n",
      "WARNING: All illegal access operations will be denied in a future release\n"
     ]
    },
    {
     "name": "stdout",
     "output_type": "stream",
     "text": [
      "2023-03-22 17:11:58.844 WARN  NativeCodeLoader:60 - Unable to load native-hadoop library for your platform... using builtin-java classes where applicable\n"
     ]
    },
    {
     "name": "stderr",
     "output_type": "stream",
     "text": [
      "Setting default log level to \"WARN\".\n",
      "To adjust logging level use sc.setLogLevel(newLevel). For SparkR, use setLogLevel(newLevel).\n",
      "Running on Apache Spark version 3.1.3\n",
      "SparkUI available at http://ac0003:4040\n",
      "Welcome to\n",
      "     __  __     <>__\n",
      "    / /_/ /__  __/ /\n",
      "   / __  / _ `/ / /\n",
      "  /_/ /_/\\_,_/_/_/   version 0.2.109-b71b065e4bb6\n",
      "LOGGING: writing to /net/pr2/projects/plgrid/plggneuromol/imdik-zekanowski-sportwgs/analysis/variant-analysis-and-exports/hail-20230322-1711-0.2.109-b71b065e4bb6.log\n"
     ]
    }
   ],
   "source": [
    "import hail as hl\n",
    "import os\n",
    "\n",
    "localfs_path = os.environ.get('SCRATCH') + '/hail-temp/'\n",
    "hl.init(tmp_dir=localfs_path, local_tmpdir=localfs_path, \n",
    "        spark_conf={'spark.driver.memory': '15G', 'spark.executor.memory': '30G'})"
   ]
  },
  {
   "cell_type": "code",
   "execution_count": 71,
   "id": "35b82d01-583f-4300-997c-bb4bf6f47a33",
   "metadata": {},
   "outputs": [
    {
     "data": {
      "text/html": [
       "\n",
       "    <div class=\"bk-root\">\n",
       "        <a href=\"https://bokeh.org\" target=\"_blank\" class=\"bk-logo bk-logo-small bk-logo-notebook\"></a>\n",
       "        <span id=\"1003\">Loading BokehJS ...</span>\n",
       "    </div>"
      ]
     },
     "metadata": {},
     "output_type": "display_data"
    },
    {
     "data": {
      "application/javascript": [
       "\n",
       "(function(root) {\n",
       "  function now() {\n",
       "    return new Date();\n",
       "  }\n",
       "\n",
       "  var force = true;\n",
       "\n",
       "  if (typeof root._bokeh_onload_callbacks === \"undefined\" || force === true) {\n",
       "    root._bokeh_onload_callbacks = [];\n",
       "    root._bokeh_is_loading = undefined;\n",
       "  }\n",
       "\n",
       "  var JS_MIME_TYPE = 'application/javascript';\n",
       "  var HTML_MIME_TYPE = 'text/html';\n",
       "  var EXEC_MIME_TYPE = 'application/vnd.bokehjs_exec.v0+json';\n",
       "  var CLASS_NAME = 'output_bokeh rendered_html';\n",
       "\n",
       "  /**\n",
       "   * Render data to the DOM node\n",
       "   */\n",
       "  function render(props, node) {\n",
       "    var script = document.createElement(\"script\");\n",
       "    node.appendChild(script);\n",
       "  }\n",
       "\n",
       "  /**\n",
       "   * Handle when an output is cleared or removed\n",
       "   */\n",
       "  function handleClearOutput(event, handle) {\n",
       "    var cell = handle.cell;\n",
       "\n",
       "    var id = cell.output_area._bokeh_element_id;\n",
       "    var server_id = cell.output_area._bokeh_server_id;\n",
       "    // Clean up Bokeh references\n",
       "    if (id != null && id in Bokeh.index) {\n",
       "      Bokeh.index[id].model.document.clear();\n",
       "      delete Bokeh.index[id];\n",
       "    }\n",
       "\n",
       "    if (server_id !== undefined) {\n",
       "      // Clean up Bokeh references\n",
       "      var cmd = \"from bokeh.io.state import curstate; print(curstate().uuid_to_server['\" + server_id + \"'].get_sessions()[0].document.roots[0]._id)\";\n",
       "      cell.notebook.kernel.execute(cmd, {\n",
       "        iopub: {\n",
       "          output: function(msg) {\n",
       "            var id = msg.content.text.trim();\n",
       "            if (id in Bokeh.index) {\n",
       "              Bokeh.index[id].model.document.clear();\n",
       "              delete Bokeh.index[id];\n",
       "            }\n",
       "          }\n",
       "        }\n",
       "      });\n",
       "      // Destroy server and session\n",
       "      var cmd = \"import bokeh.io.notebook as ion; ion.destroy_server('\" + server_id + \"')\";\n",
       "      cell.notebook.kernel.execute(cmd);\n",
       "    }\n",
       "  }\n",
       "\n",
       "  /**\n",
       "   * Handle when a new output is added\n",
       "   */\n",
       "  function handleAddOutput(event, handle) {\n",
       "    var output_area = handle.output_area;\n",
       "    var output = handle.output;\n",
       "\n",
       "    // limit handleAddOutput to display_data with EXEC_MIME_TYPE content only\n",
       "    if ((output.output_type != \"display_data\") || (!output.data.hasOwnProperty(EXEC_MIME_TYPE))) {\n",
       "      return\n",
       "    }\n",
       "\n",
       "    var toinsert = output_area.element.find(\".\" + CLASS_NAME.split(' ')[0]);\n",
       "\n",
       "    if (output.metadata[EXEC_MIME_TYPE][\"id\"] !== undefined) {\n",
       "      toinsert[toinsert.length - 1].firstChild.textContent = output.data[JS_MIME_TYPE];\n",
       "      // store reference to embed id on output_area\n",
       "      output_area._bokeh_element_id = output.metadata[EXEC_MIME_TYPE][\"id\"];\n",
       "    }\n",
       "    if (output.metadata[EXEC_MIME_TYPE][\"server_id\"] !== undefined) {\n",
       "      var bk_div = document.createElement(\"div\");\n",
       "      bk_div.innerHTML = output.data[HTML_MIME_TYPE];\n",
       "      var script_attrs = bk_div.children[0].attributes;\n",
       "      for (var i = 0; i < script_attrs.length; i++) {\n",
       "        toinsert[toinsert.length - 1].firstChild.setAttribute(script_attrs[i].name, script_attrs[i].value);\n",
       "      }\n",
       "      // store reference to server id on output_area\n",
       "      output_area._bokeh_server_id = output.metadata[EXEC_MIME_TYPE][\"server_id\"];\n",
       "    }\n",
       "  }\n",
       "\n",
       "  function register_renderer(events, OutputArea) {\n",
       "\n",
       "    function append_mime(data, metadata, element) {\n",
       "      // create a DOM node to render to\n",
       "      var toinsert = this.create_output_subarea(\n",
       "        metadata,\n",
       "        CLASS_NAME,\n",
       "        EXEC_MIME_TYPE\n",
       "      );\n",
       "      this.keyboard_manager.register_events(toinsert);\n",
       "      // Render to node\n",
       "      var props = {data: data, metadata: metadata[EXEC_MIME_TYPE]};\n",
       "      render(props, toinsert[toinsert.length - 1]);\n",
       "      element.append(toinsert);\n",
       "      return toinsert\n",
       "    }\n",
       "\n",
       "    /* Handle when an output is cleared or removed */\n",
       "    events.on('clear_output.CodeCell', handleClearOutput);\n",
       "    events.on('delete.Cell', handleClearOutput);\n",
       "\n",
       "    /* Handle when a new output is added */\n",
       "    events.on('output_added.OutputArea', handleAddOutput);\n",
       "\n",
       "    /**\n",
       "     * Register the mime type and append_mime function with output_area\n",
       "     */\n",
       "    OutputArea.prototype.register_mime_type(EXEC_MIME_TYPE, append_mime, {\n",
       "      /* Is output safe? */\n",
       "      safe: true,\n",
       "      /* Index of renderer in `output_area.display_order` */\n",
       "      index: 0\n",
       "    });\n",
       "  }\n",
       "\n",
       "  // register the mime type if in Jupyter Notebook environment and previously unregistered\n",
       "  if (root.Jupyter !== undefined) {\n",
       "    var events = require('base/js/events');\n",
       "    var OutputArea = require('notebook/js/outputarea').OutputArea;\n",
       "\n",
       "    if (OutputArea.prototype.mime_types().indexOf(EXEC_MIME_TYPE) == -1) {\n",
       "      register_renderer(events, OutputArea);\n",
       "    }\n",
       "  }\n",
       "\n",
       "  \n",
       "  if (typeof (root._bokeh_timeout) === \"undefined\" || force === true) {\n",
       "    root._bokeh_timeout = Date.now() + 5000;\n",
       "    root._bokeh_failed_load = false;\n",
       "  }\n",
       "\n",
       "  var NB_LOAD_WARNING = {'data': {'text/html':\n",
       "     \"<div style='background-color: #fdd'>\\n\"+\n",
       "     \"<p>\\n\"+\n",
       "     \"BokehJS does not appear to have successfully loaded. If loading BokehJS from CDN, this \\n\"+\n",
       "     \"may be due to a slow or bad network connection. Possible fixes:\\n\"+\n",
       "     \"</p>\\n\"+\n",
       "     \"<ul>\\n\"+\n",
       "     \"<li>re-rerun `output_notebook()` to attempt to load from CDN again, or</li>\\n\"+\n",
       "     \"<li>use INLINE resources instead, as so:</li>\\n\"+\n",
       "     \"</ul>\\n\"+\n",
       "     \"<code>\\n\"+\n",
       "     \"from bokeh.resources import INLINE\\n\"+\n",
       "     \"output_notebook(resources=INLINE)\\n\"+\n",
       "     \"</code>\\n\"+\n",
       "     \"</div>\"}};\n",
       "\n",
       "  function display_loaded() {\n",
       "    var el = document.getElementById(\"1003\");\n",
       "    if (el != null) {\n",
       "      el.textContent = \"BokehJS is loading...\";\n",
       "    }\n",
       "    if (root.Bokeh !== undefined) {\n",
       "      if (el != null) {\n",
       "        el.textContent = \"BokehJS \" + root.Bokeh.version + \" successfully loaded.\";\n",
       "      }\n",
       "    } else if (Date.now() < root._bokeh_timeout) {\n",
       "      setTimeout(display_loaded, 100)\n",
       "    }\n",
       "  }\n",
       "\n",
       "\n",
       "  function run_callbacks() {\n",
       "    try {\n",
       "      root._bokeh_onload_callbacks.forEach(function(callback) {\n",
       "        if (callback != null)\n",
       "          callback();\n",
       "      });\n",
       "    } finally {\n",
       "      delete root._bokeh_onload_callbacks\n",
       "    }\n",
       "    console.debug(\"Bokeh: all callbacks have finished\");\n",
       "  }\n",
       "\n",
       "  function load_libs(css_urls, js_urls, callback) {\n",
       "    if (css_urls == null) css_urls = [];\n",
       "    if (js_urls == null) js_urls = [];\n",
       "\n",
       "    root._bokeh_onload_callbacks.push(callback);\n",
       "    if (root._bokeh_is_loading > 0) {\n",
       "      console.debug(\"Bokeh: BokehJS is being loaded, scheduling callback at\", now());\n",
       "      return null;\n",
       "    }\n",
       "    if (js_urls == null || js_urls.length === 0) {\n",
       "      run_callbacks();\n",
       "      return null;\n",
       "    }\n",
       "    console.debug(\"Bokeh: BokehJS not loaded, scheduling load and callback at\", now());\n",
       "    root._bokeh_is_loading = css_urls.length + js_urls.length;\n",
       "\n",
       "    function on_load() {\n",
       "      root._bokeh_is_loading--;\n",
       "      if (root._bokeh_is_loading === 0) {\n",
       "        console.debug(\"Bokeh: all BokehJS libraries/stylesheets loaded\");\n",
       "        run_callbacks()\n",
       "      }\n",
       "    }\n",
       "\n",
       "    function on_error() {\n",
       "      console.error(\"failed to load \" + url);\n",
       "    }\n",
       "\n",
       "    for (var i = 0; i < css_urls.length; i++) {\n",
       "      var url = css_urls[i];\n",
       "      const element = document.createElement(\"link\");\n",
       "      element.onload = on_load;\n",
       "      element.onerror = on_error;\n",
       "      element.rel = \"stylesheet\";\n",
       "      element.type = \"text/css\";\n",
       "      element.href = url;\n",
       "      console.debug(\"Bokeh: injecting link tag for BokehJS stylesheet: \", url);\n",
       "      document.body.appendChild(element);\n",
       "    }\n",
       "\n",
       "    for (var i = 0; i < js_urls.length; i++) {\n",
       "      var url = js_urls[i];\n",
       "      var element = document.createElement('script');\n",
       "      element.onload = on_load;\n",
       "      element.onerror = on_error;\n",
       "      element.async = false;\n",
       "      element.src = url;\n",
       "      console.debug(\"Bokeh: injecting script tag for BokehJS library: \", url);\n",
       "      document.head.appendChild(element);\n",
       "    }\n",
       "  };var element = document.getElementById(\"1003\");\n",
       "  if (element == null) {\n",
       "    console.error(\"Bokeh: ERROR: autoload.js configured with elementid '1003' but no matching script tag was found. \")\n",
       "    return false;\n",
       "  }\n",
       "\n",
       "  function inject_raw_css(css) {\n",
       "    const element = document.createElement(\"style\");\n",
       "    element.appendChild(document.createTextNode(css));\n",
       "    document.body.appendChild(element);\n",
       "  }\n",
       "\n",
       "  \n",
       "  var js_urls = [\"https://cdn.pydata.org/bokeh/release/bokeh-1.4.0.min.js\", \"https://cdn.pydata.org/bokeh/release/bokeh-widgets-1.4.0.min.js\", \"https://cdn.pydata.org/bokeh/release/bokeh-tables-1.4.0.min.js\", \"https://cdn.pydata.org/bokeh/release/bokeh-gl-1.4.0.min.js\"];\n",
       "  var css_urls = [];\n",
       "  \n",
       "\n",
       "  var inline_js = [\n",
       "    function(Bokeh) {\n",
       "      Bokeh.set_log_level(\"info\");\n",
       "    },\n",
       "    function(Bokeh) {\n",
       "    \n",
       "    \n",
       "    }\n",
       "  ];\n",
       "\n",
       "  function run_inline_js() {\n",
       "    \n",
       "    if (root.Bokeh !== undefined || force === true) {\n",
       "      \n",
       "    for (var i = 0; i < inline_js.length; i++) {\n",
       "      inline_js[i].call(root, root.Bokeh);\n",
       "    }\n",
       "    if (force === true) {\n",
       "        display_loaded();\n",
       "      }} else if (Date.now() < root._bokeh_timeout) {\n",
       "      setTimeout(run_inline_js, 100);\n",
       "    } else if (!root._bokeh_failed_load) {\n",
       "      console.log(\"Bokeh: BokehJS failed to load within specified timeout.\");\n",
       "      root._bokeh_failed_load = true;\n",
       "    } else if (force !== true) {\n",
       "      var cell = $(document.getElementById(\"1003\")).parents('.cell').data().cell;\n",
       "      cell.output_area.append_execute_result(NB_LOAD_WARNING)\n",
       "    }\n",
       "\n",
       "  }\n",
       "\n",
       "  if (root._bokeh_is_loading === 0) {\n",
       "    console.debug(\"Bokeh: BokehJS loaded, going straight to plotting\");\n",
       "    run_inline_js();\n",
       "  } else {\n",
       "    load_libs(css_urls, js_urls, function() {\n",
       "      console.debug(\"Bokeh: BokehJS plotting callback run at\", now());\n",
       "      run_inline_js();\n",
       "    });\n",
       "  }\n",
       "}(window));"
      ],
      "application/vnd.bokehjs_load.v0+json": "\n(function(root) {\n  function now() {\n    return new Date();\n  }\n\n  var force = true;\n\n  if (typeof root._bokeh_onload_callbacks === \"undefined\" || force === true) {\n    root._bokeh_onload_callbacks = [];\n    root._bokeh_is_loading = undefined;\n  }\n\n  \n\n  \n  if (typeof (root._bokeh_timeout) === \"undefined\" || force === true) {\n    root._bokeh_timeout = Date.now() + 5000;\n    root._bokeh_failed_load = false;\n  }\n\n  var NB_LOAD_WARNING = {'data': {'text/html':\n     \"<div style='background-color: #fdd'>\\n\"+\n     \"<p>\\n\"+\n     \"BokehJS does not appear to have successfully loaded. If loading BokehJS from CDN, this \\n\"+\n     \"may be due to a slow or bad network connection. Possible fixes:\\n\"+\n     \"</p>\\n\"+\n     \"<ul>\\n\"+\n     \"<li>re-rerun `output_notebook()` to attempt to load from CDN again, or</li>\\n\"+\n     \"<li>use INLINE resources instead, as so:</li>\\n\"+\n     \"</ul>\\n\"+\n     \"<code>\\n\"+\n     \"from bokeh.resources import INLINE\\n\"+\n     \"output_notebook(resources=INLINE)\\n\"+\n     \"</code>\\n\"+\n     \"</div>\"}};\n\n  function display_loaded() {\n    var el = document.getElementById(\"1003\");\n    if (el != null) {\n      el.textContent = \"BokehJS is loading...\";\n    }\n    if (root.Bokeh !== undefined) {\n      if (el != null) {\n        el.textContent = \"BokehJS \" + root.Bokeh.version + \" successfully loaded.\";\n      }\n    } else if (Date.now() < root._bokeh_timeout) {\n      setTimeout(display_loaded, 100)\n    }\n  }\n\n\n  function run_callbacks() {\n    try {\n      root._bokeh_onload_callbacks.forEach(function(callback) {\n        if (callback != null)\n          callback();\n      });\n    } finally {\n      delete root._bokeh_onload_callbacks\n    }\n    console.debug(\"Bokeh: all callbacks have finished\");\n  }\n\n  function load_libs(css_urls, js_urls, callback) {\n    if (css_urls == null) css_urls = [];\n    if (js_urls == null) js_urls = [];\n\n    root._bokeh_onload_callbacks.push(callback);\n    if (root._bokeh_is_loading > 0) {\n      console.debug(\"Bokeh: BokehJS is being loaded, scheduling callback at\", now());\n      return null;\n    }\n    if (js_urls == null || js_urls.length === 0) {\n      run_callbacks();\n      return null;\n    }\n    console.debug(\"Bokeh: BokehJS not loaded, scheduling load and callback at\", now());\n    root._bokeh_is_loading = css_urls.length + js_urls.length;\n\n    function on_load() {\n      root._bokeh_is_loading--;\n      if (root._bokeh_is_loading === 0) {\n        console.debug(\"Bokeh: all BokehJS libraries/stylesheets loaded\");\n        run_callbacks()\n      }\n    }\n\n    function on_error() {\n      console.error(\"failed to load \" + url);\n    }\n\n    for (var i = 0; i < css_urls.length; i++) {\n      var url = css_urls[i];\n      const element = document.createElement(\"link\");\n      element.onload = on_load;\n      element.onerror = on_error;\n      element.rel = \"stylesheet\";\n      element.type = \"text/css\";\n      element.href = url;\n      console.debug(\"Bokeh: injecting link tag for BokehJS stylesheet: \", url);\n      document.body.appendChild(element);\n    }\n\n    for (var i = 0; i < js_urls.length; i++) {\n      var url = js_urls[i];\n      var element = document.createElement('script');\n      element.onload = on_load;\n      element.onerror = on_error;\n      element.async = false;\n      element.src = url;\n      console.debug(\"Bokeh: injecting script tag for BokehJS library: \", url);\n      document.head.appendChild(element);\n    }\n  };var element = document.getElementById(\"1003\");\n  if (element == null) {\n    console.error(\"Bokeh: ERROR: autoload.js configured with elementid '1003' but no matching script tag was found. \")\n    return false;\n  }\n\n  function inject_raw_css(css) {\n    const element = document.createElement(\"style\");\n    element.appendChild(document.createTextNode(css));\n    document.body.appendChild(element);\n  }\n\n  \n  var js_urls = [\"https://cdn.pydata.org/bokeh/release/bokeh-1.4.0.min.js\", \"https://cdn.pydata.org/bokeh/release/bokeh-widgets-1.4.0.min.js\", \"https://cdn.pydata.org/bokeh/release/bokeh-tables-1.4.0.min.js\", \"https://cdn.pydata.org/bokeh/release/bokeh-gl-1.4.0.min.js\"];\n  var css_urls = [];\n  \n\n  var inline_js = [\n    function(Bokeh) {\n      Bokeh.set_log_level(\"info\");\n    },\n    function(Bokeh) {\n    \n    \n    }\n  ];\n\n  function run_inline_js() {\n    \n    if (root.Bokeh !== undefined || force === true) {\n      \n    for (var i = 0; i < inline_js.length; i++) {\n      inline_js[i].call(root, root.Bokeh);\n    }\n    if (force === true) {\n        display_loaded();\n      }} else if (Date.now() < root._bokeh_timeout) {\n      setTimeout(run_inline_js, 100);\n    } else if (!root._bokeh_failed_load) {\n      console.log(\"Bokeh: BokehJS failed to load within specified timeout.\");\n      root._bokeh_failed_load = true;\n    } else if (force !== true) {\n      var cell = $(document.getElementById(\"1003\")).parents('.cell').data().cell;\n      cell.output_area.append_execute_result(NB_LOAD_WARNING)\n    }\n\n  }\n\n  if (root._bokeh_is_loading === 0) {\n    console.debug(\"Bokeh: BokehJS loaded, going straight to plotting\");\n    run_inline_js();\n  } else {\n    load_libs(css_urls, js_urls, function() {\n      console.debug(\"Bokeh: BokehJS plotting callback run at\", now());\n      run_inline_js();\n    });\n  }\n}(window));"
     },
     "metadata": {},
     "output_type": "display_data"
    },
    {
     "data": {
      "text/html": [
       "\n",
       "    <div class=\"bk-root\">\n",
       "        <a href=\"https://bokeh.org\" target=\"_blank\" class=\"bk-logo bk-logo-small bk-logo-notebook\"></a>\n",
       "        <span id=\"1004\">Loading BokehJS ...</span>\n",
       "    </div>"
      ]
     },
     "metadata": {},
     "output_type": "display_data"
    },
    {
     "data": {
      "application/javascript": [
       "\n",
       "(function(root) {\n",
       "  function now() {\n",
       "    return new Date();\n",
       "  }\n",
       "\n",
       "  var force = true;\n",
       "\n",
       "  if (typeof root._bokeh_onload_callbacks === \"undefined\" || force === true) {\n",
       "    root._bokeh_onload_callbacks = [];\n",
       "    root._bokeh_is_loading = undefined;\n",
       "  }\n",
       "\n",
       "  var JS_MIME_TYPE = 'application/javascript';\n",
       "  var HTML_MIME_TYPE = 'text/html';\n",
       "  var EXEC_MIME_TYPE = 'application/vnd.bokehjs_exec.v0+json';\n",
       "  var CLASS_NAME = 'output_bokeh rendered_html';\n",
       "\n",
       "  /**\n",
       "   * Render data to the DOM node\n",
       "   */\n",
       "  function render(props, node) {\n",
       "    var script = document.createElement(\"script\");\n",
       "    node.appendChild(script);\n",
       "  }\n",
       "\n",
       "  /**\n",
       "   * Handle when an output is cleared or removed\n",
       "   */\n",
       "  function handleClearOutput(event, handle) {\n",
       "    var cell = handle.cell;\n",
       "\n",
       "    var id = cell.output_area._bokeh_element_id;\n",
       "    var server_id = cell.output_area._bokeh_server_id;\n",
       "    // Clean up Bokeh references\n",
       "    if (id != null && id in Bokeh.index) {\n",
       "      Bokeh.index[id].model.document.clear();\n",
       "      delete Bokeh.index[id];\n",
       "    }\n",
       "\n",
       "    if (server_id !== undefined) {\n",
       "      // Clean up Bokeh references\n",
       "      var cmd = \"from bokeh.io.state import curstate; print(curstate().uuid_to_server['\" + server_id + \"'].get_sessions()[0].document.roots[0]._id)\";\n",
       "      cell.notebook.kernel.execute(cmd, {\n",
       "        iopub: {\n",
       "          output: function(msg) {\n",
       "            var id = msg.content.text.trim();\n",
       "            if (id in Bokeh.index) {\n",
       "              Bokeh.index[id].model.document.clear();\n",
       "              delete Bokeh.index[id];\n",
       "            }\n",
       "          }\n",
       "        }\n",
       "      });\n",
       "      // Destroy server and session\n",
       "      var cmd = \"import bokeh.io.notebook as ion; ion.destroy_server('\" + server_id + \"')\";\n",
       "      cell.notebook.kernel.execute(cmd);\n",
       "    }\n",
       "  }\n",
       "\n",
       "  /**\n",
       "   * Handle when a new output is added\n",
       "   */\n",
       "  function handleAddOutput(event, handle) {\n",
       "    var output_area = handle.output_area;\n",
       "    var output = handle.output;\n",
       "\n",
       "    // limit handleAddOutput to display_data with EXEC_MIME_TYPE content only\n",
       "    if ((output.output_type != \"display_data\") || (!output.data.hasOwnProperty(EXEC_MIME_TYPE))) {\n",
       "      return\n",
       "    }\n",
       "\n",
       "    var toinsert = output_area.element.find(\".\" + CLASS_NAME.split(' ')[0]);\n",
       "\n",
       "    if (output.metadata[EXEC_MIME_TYPE][\"id\"] !== undefined) {\n",
       "      toinsert[toinsert.length - 1].firstChild.textContent = output.data[JS_MIME_TYPE];\n",
       "      // store reference to embed id on output_area\n",
       "      output_area._bokeh_element_id = output.metadata[EXEC_MIME_TYPE][\"id\"];\n",
       "    }\n",
       "    if (output.metadata[EXEC_MIME_TYPE][\"server_id\"] !== undefined) {\n",
       "      var bk_div = document.createElement(\"div\");\n",
       "      bk_div.innerHTML = output.data[HTML_MIME_TYPE];\n",
       "      var script_attrs = bk_div.children[0].attributes;\n",
       "      for (var i = 0; i < script_attrs.length; i++) {\n",
       "        toinsert[toinsert.length - 1].firstChild.setAttribute(script_attrs[i].name, script_attrs[i].value);\n",
       "      }\n",
       "      // store reference to server id on output_area\n",
       "      output_area._bokeh_server_id = output.metadata[EXEC_MIME_TYPE][\"server_id\"];\n",
       "    }\n",
       "  }\n",
       "\n",
       "  function register_renderer(events, OutputArea) {\n",
       "\n",
       "    function append_mime(data, metadata, element) {\n",
       "      // create a DOM node to render to\n",
       "      var toinsert = this.create_output_subarea(\n",
       "        metadata,\n",
       "        CLASS_NAME,\n",
       "        EXEC_MIME_TYPE\n",
       "      );\n",
       "      this.keyboard_manager.register_events(toinsert);\n",
       "      // Render to node\n",
       "      var props = {data: data, metadata: metadata[EXEC_MIME_TYPE]};\n",
       "      render(props, toinsert[toinsert.length - 1]);\n",
       "      element.append(toinsert);\n",
       "      return toinsert\n",
       "    }\n",
       "\n",
       "    /* Handle when an output is cleared or removed */\n",
       "    events.on('clear_output.CodeCell', handleClearOutput);\n",
       "    events.on('delete.Cell', handleClearOutput);\n",
       "\n",
       "    /* Handle when a new output is added */\n",
       "    events.on('output_added.OutputArea', handleAddOutput);\n",
       "\n",
       "    /**\n",
       "     * Register the mime type and append_mime function with output_area\n",
       "     */\n",
       "    OutputArea.prototype.register_mime_type(EXEC_MIME_TYPE, append_mime, {\n",
       "      /* Is output safe? */\n",
       "      safe: true,\n",
       "      /* Index of renderer in `output_area.display_order` */\n",
       "      index: 0\n",
       "    });\n",
       "  }\n",
       "\n",
       "  // register the mime type if in Jupyter Notebook environment and previously unregistered\n",
       "  if (root.Jupyter !== undefined) {\n",
       "    var events = require('base/js/events');\n",
       "    var OutputArea = require('notebook/js/outputarea').OutputArea;\n",
       "\n",
       "    if (OutputArea.prototype.mime_types().indexOf(EXEC_MIME_TYPE) == -1) {\n",
       "      register_renderer(events, OutputArea);\n",
       "    }\n",
       "  }\n",
       "\n",
       "  \n",
       "  if (typeof (root._bokeh_timeout) === \"undefined\" || force === true) {\n",
       "    root._bokeh_timeout = Date.now() + 5000;\n",
       "    root._bokeh_failed_load = false;\n",
       "  }\n",
       "\n",
       "  var NB_LOAD_WARNING = {'data': {'text/html':\n",
       "     \"<div style='background-color: #fdd'>\\n\"+\n",
       "     \"<p>\\n\"+\n",
       "     \"BokehJS does not appear to have successfully loaded. If loading BokehJS from CDN, this \\n\"+\n",
       "     \"may be due to a slow or bad network connection. Possible fixes:\\n\"+\n",
       "     \"</p>\\n\"+\n",
       "     \"<ul>\\n\"+\n",
       "     \"<li>re-rerun `output_notebook()` to attempt to load from CDN again, or</li>\\n\"+\n",
       "     \"<li>use INLINE resources instead, as so:</li>\\n\"+\n",
       "     \"</ul>\\n\"+\n",
       "     \"<code>\\n\"+\n",
       "     \"from bokeh.resources import INLINE\\n\"+\n",
       "     \"output_notebook(resources=INLINE)\\n\"+\n",
       "     \"</code>\\n\"+\n",
       "     \"</div>\"}};\n",
       "\n",
       "  function display_loaded() {\n",
       "    var el = document.getElementById(\"1004\");\n",
       "    if (el != null) {\n",
       "      el.textContent = \"BokehJS is loading...\";\n",
       "    }\n",
       "    if (root.Bokeh !== undefined) {\n",
       "      if (el != null) {\n",
       "        el.textContent = \"BokehJS \" + root.Bokeh.version + \" successfully loaded.\";\n",
       "      }\n",
       "    } else if (Date.now() < root._bokeh_timeout) {\n",
       "      setTimeout(display_loaded, 100)\n",
       "    }\n",
       "  }\n",
       "\n",
       "\n",
       "  function run_callbacks() {\n",
       "    try {\n",
       "      root._bokeh_onload_callbacks.forEach(function(callback) {\n",
       "        if (callback != null)\n",
       "          callback();\n",
       "      });\n",
       "    } finally {\n",
       "      delete root._bokeh_onload_callbacks\n",
       "    }\n",
       "    console.debug(\"Bokeh: all callbacks have finished\");\n",
       "  }\n",
       "\n",
       "  function load_libs(css_urls, js_urls, callback) {\n",
       "    if (css_urls == null) css_urls = [];\n",
       "    if (js_urls == null) js_urls = [];\n",
       "\n",
       "    root._bokeh_onload_callbacks.push(callback);\n",
       "    if (root._bokeh_is_loading > 0) {\n",
       "      console.debug(\"Bokeh: BokehJS is being loaded, scheduling callback at\", now());\n",
       "      return null;\n",
       "    }\n",
       "    if (js_urls == null || js_urls.length === 0) {\n",
       "      run_callbacks();\n",
       "      return null;\n",
       "    }\n",
       "    console.debug(\"Bokeh: BokehJS not loaded, scheduling load and callback at\", now());\n",
       "    root._bokeh_is_loading = css_urls.length + js_urls.length;\n",
       "\n",
       "    function on_load() {\n",
       "      root._bokeh_is_loading--;\n",
       "      if (root._bokeh_is_loading === 0) {\n",
       "        console.debug(\"Bokeh: all BokehJS libraries/stylesheets loaded\");\n",
       "        run_callbacks()\n",
       "      }\n",
       "    }\n",
       "\n",
       "    function on_error() {\n",
       "      console.error(\"failed to load \" + url);\n",
       "    }\n",
       "\n",
       "    for (var i = 0; i < css_urls.length; i++) {\n",
       "      var url = css_urls[i];\n",
       "      const element = document.createElement(\"link\");\n",
       "      element.onload = on_load;\n",
       "      element.onerror = on_error;\n",
       "      element.rel = \"stylesheet\";\n",
       "      element.type = \"text/css\";\n",
       "      element.href = url;\n",
       "      console.debug(\"Bokeh: injecting link tag for BokehJS stylesheet: \", url);\n",
       "      document.body.appendChild(element);\n",
       "    }\n",
       "\n",
       "    for (var i = 0; i < js_urls.length; i++) {\n",
       "      var url = js_urls[i];\n",
       "      var element = document.createElement('script');\n",
       "      element.onload = on_load;\n",
       "      element.onerror = on_error;\n",
       "      element.async = false;\n",
       "      element.src = url;\n",
       "      console.debug(\"Bokeh: injecting script tag for BokehJS library: \", url);\n",
       "      document.head.appendChild(element);\n",
       "    }\n",
       "  };var element = document.getElementById(\"1004\");\n",
       "  if (element == null) {\n",
       "    console.error(\"Bokeh: ERROR: autoload.js configured with elementid '1004' but no matching script tag was found. \")\n",
       "    return false;\n",
       "  }\n",
       "\n",
       "  function inject_raw_css(css) {\n",
       "    const element = document.createElement(\"style\");\n",
       "    element.appendChild(document.createTextNode(css));\n",
       "    document.body.appendChild(element);\n",
       "  }\n",
       "\n",
       "  \n",
       "  var js_urls = [\"https://cdn.pydata.org/bokeh/release/bokeh-1.4.0.min.js\", \"https://cdn.pydata.org/bokeh/release/bokeh-widgets-1.4.0.min.js\", \"https://cdn.pydata.org/bokeh/release/bokeh-tables-1.4.0.min.js\", \"https://cdn.pydata.org/bokeh/release/bokeh-gl-1.4.0.min.js\"];\n",
       "  var css_urls = [];\n",
       "  \n",
       "\n",
       "  var inline_js = [\n",
       "    function(Bokeh) {\n",
       "      Bokeh.set_log_level(\"info\");\n",
       "    },\n",
       "    function(Bokeh) {\n",
       "    \n",
       "    \n",
       "    }\n",
       "  ];\n",
       "\n",
       "  function run_inline_js() {\n",
       "    \n",
       "    if (root.Bokeh !== undefined || force === true) {\n",
       "      \n",
       "    for (var i = 0; i < inline_js.length; i++) {\n",
       "      inline_js[i].call(root, root.Bokeh);\n",
       "    }\n",
       "    if (force === true) {\n",
       "        display_loaded();\n",
       "      }} else if (Date.now() < root._bokeh_timeout) {\n",
       "      setTimeout(run_inline_js, 100);\n",
       "    } else if (!root._bokeh_failed_load) {\n",
       "      console.log(\"Bokeh: BokehJS failed to load within specified timeout.\");\n",
       "      root._bokeh_failed_load = true;\n",
       "    } else if (force !== true) {\n",
       "      var cell = $(document.getElementById(\"1004\")).parents('.cell').data().cell;\n",
       "      cell.output_area.append_execute_result(NB_LOAD_WARNING)\n",
       "    }\n",
       "\n",
       "  }\n",
       "\n",
       "  if (root._bokeh_is_loading === 0) {\n",
       "    console.debug(\"Bokeh: BokehJS loaded, going straight to plotting\");\n",
       "    run_inline_js();\n",
       "  } else {\n",
       "    load_libs(css_urls, js_urls, function() {\n",
       "      console.debug(\"Bokeh: BokehJS plotting callback run at\", now());\n",
       "      run_inline_js();\n",
       "    });\n",
       "  }\n",
       "}(window));"
      ],
      "application/vnd.bokehjs_load.v0+json": "\n(function(root) {\n  function now() {\n    return new Date();\n  }\n\n  var force = true;\n\n  if (typeof root._bokeh_onload_callbacks === \"undefined\" || force === true) {\n    root._bokeh_onload_callbacks = [];\n    root._bokeh_is_loading = undefined;\n  }\n\n  \n\n  \n  if (typeof (root._bokeh_timeout) === \"undefined\" || force === true) {\n    root._bokeh_timeout = Date.now() + 5000;\n    root._bokeh_failed_load = false;\n  }\n\n  var NB_LOAD_WARNING = {'data': {'text/html':\n     \"<div style='background-color: #fdd'>\\n\"+\n     \"<p>\\n\"+\n     \"BokehJS does not appear to have successfully loaded. If loading BokehJS from CDN, this \\n\"+\n     \"may be due to a slow or bad network connection. Possible fixes:\\n\"+\n     \"</p>\\n\"+\n     \"<ul>\\n\"+\n     \"<li>re-rerun `output_notebook()` to attempt to load from CDN again, or</li>\\n\"+\n     \"<li>use INLINE resources instead, as so:</li>\\n\"+\n     \"</ul>\\n\"+\n     \"<code>\\n\"+\n     \"from bokeh.resources import INLINE\\n\"+\n     \"output_notebook(resources=INLINE)\\n\"+\n     \"</code>\\n\"+\n     \"</div>\"}};\n\n  function display_loaded() {\n    var el = document.getElementById(\"1004\");\n    if (el != null) {\n      el.textContent = \"BokehJS is loading...\";\n    }\n    if (root.Bokeh !== undefined) {\n      if (el != null) {\n        el.textContent = \"BokehJS \" + root.Bokeh.version + \" successfully loaded.\";\n      }\n    } else if (Date.now() < root._bokeh_timeout) {\n      setTimeout(display_loaded, 100)\n    }\n  }\n\n\n  function run_callbacks() {\n    try {\n      root._bokeh_onload_callbacks.forEach(function(callback) {\n        if (callback != null)\n          callback();\n      });\n    } finally {\n      delete root._bokeh_onload_callbacks\n    }\n    console.debug(\"Bokeh: all callbacks have finished\");\n  }\n\n  function load_libs(css_urls, js_urls, callback) {\n    if (css_urls == null) css_urls = [];\n    if (js_urls == null) js_urls = [];\n\n    root._bokeh_onload_callbacks.push(callback);\n    if (root._bokeh_is_loading > 0) {\n      console.debug(\"Bokeh: BokehJS is being loaded, scheduling callback at\", now());\n      return null;\n    }\n    if (js_urls == null || js_urls.length === 0) {\n      run_callbacks();\n      return null;\n    }\n    console.debug(\"Bokeh: BokehJS not loaded, scheduling load and callback at\", now());\n    root._bokeh_is_loading = css_urls.length + js_urls.length;\n\n    function on_load() {\n      root._bokeh_is_loading--;\n      if (root._bokeh_is_loading === 0) {\n        console.debug(\"Bokeh: all BokehJS libraries/stylesheets loaded\");\n        run_callbacks()\n      }\n    }\n\n    function on_error() {\n      console.error(\"failed to load \" + url);\n    }\n\n    for (var i = 0; i < css_urls.length; i++) {\n      var url = css_urls[i];\n      const element = document.createElement(\"link\");\n      element.onload = on_load;\n      element.onerror = on_error;\n      element.rel = \"stylesheet\";\n      element.type = \"text/css\";\n      element.href = url;\n      console.debug(\"Bokeh: injecting link tag for BokehJS stylesheet: \", url);\n      document.body.appendChild(element);\n    }\n\n    for (var i = 0; i < js_urls.length; i++) {\n      var url = js_urls[i];\n      var element = document.createElement('script');\n      element.onload = on_load;\n      element.onerror = on_error;\n      element.async = false;\n      element.src = url;\n      console.debug(\"Bokeh: injecting script tag for BokehJS library: \", url);\n      document.head.appendChild(element);\n    }\n  };var element = document.getElementById(\"1004\");\n  if (element == null) {\n    console.error(\"Bokeh: ERROR: autoload.js configured with elementid '1004' but no matching script tag was found. \")\n    return false;\n  }\n\n  function inject_raw_css(css) {\n    const element = document.createElement(\"style\");\n    element.appendChild(document.createTextNode(css));\n    document.body.appendChild(element);\n  }\n\n  \n  var js_urls = [\"https://cdn.pydata.org/bokeh/release/bokeh-1.4.0.min.js\", \"https://cdn.pydata.org/bokeh/release/bokeh-widgets-1.4.0.min.js\", \"https://cdn.pydata.org/bokeh/release/bokeh-tables-1.4.0.min.js\", \"https://cdn.pydata.org/bokeh/release/bokeh-gl-1.4.0.min.js\"];\n  var css_urls = [];\n  \n\n  var inline_js = [\n    function(Bokeh) {\n      Bokeh.set_log_level(\"info\");\n    },\n    function(Bokeh) {\n    \n    \n    }\n  ];\n\n  function run_inline_js() {\n    \n    if (root.Bokeh !== undefined || force === true) {\n      \n    for (var i = 0; i < inline_js.length; i++) {\n      inline_js[i].call(root, root.Bokeh);\n    }\n    if (force === true) {\n        display_loaded();\n      }} else if (Date.now() < root._bokeh_timeout) {\n      setTimeout(run_inline_js, 100);\n    } else if (!root._bokeh_failed_load) {\n      console.log(\"Bokeh: BokehJS failed to load within specified timeout.\");\n      root._bokeh_failed_load = true;\n    } else if (force !== true) {\n      var cell = $(document.getElementById(\"1004\")).parents('.cell').data().cell;\n      cell.output_area.append_execute_result(NB_LOAD_WARNING)\n    }\n\n  }\n\n  if (root._bokeh_is_loading === 0) {\n    console.debug(\"Bokeh: BokehJS loaded, going straight to plotting\");\n    run_inline_js();\n  } else {\n    load_libs(css_urls, js_urls, function() {\n      console.debug(\"Bokeh: BokehJS plotting callback run at\", now());\n      run_inline_js();\n    });\n  }\n}(window));"
     },
     "metadata": {},
     "output_type": "display_data"
    }
   ],
   "source": [
    "from hail.plot import show\n",
    "from pprint import pprint\n",
    "from bokeh.layouts import gridplot\n",
    "hl.plot.output_notebook()\n",
    "\n",
    "\n",
    "import numpy as np\n",
    "import pandas as pd\n",
    "from functools import reduce\n",
    "from itertools import chain\n",
    "\n",
    "from bokeh.plotting import output_notebook, show, figure\n",
    "from bokeh.palettes import viridis\n",
    "from scipy import stats\n",
    "from statsmodels.stats.multitest import fdrcorrection\n",
    "\n",
    "output_notebook()"
   ]
  },
  {
   "cell_type": "markdown",
   "id": "cffb63c1-131e-49c7-93ef-9901adfdfce3",
   "metadata": {},
   "source": [
    "### Phenotypes to investigate and their respective phenotypes in genebass:\n"
   ]
  },
  {
   "cell_type": "markdown",
   "id": "4084201f-7975-435f-b421-25263a2d8d32",
   "metadata": {},
   "source": [
    "Many of the phenotypes do not have their exact respective phenotypes, so the closest phenotype was chosen:\n",
    "\n",
    "panukb phenotype | genebass phenotype\n",
    "--------------- | ------------------\n",
    "anti_gout_agent_microtuble_polymerization_inhibitor-both_sexes | none\n",
    "allopurinol | categorical-20003-both_sexes-1140875408- - Treatment/medication code\n",
    "immature_reticulocyte_fraction | Immature reticulocyte fraction\n",
    "both_sexes--platelet_crit | Platelet crit\n",
    "biobankuk-egfrcreacys-both_sexes--estimated_glomerular_filtration_rate_cystain_c-EUR | none\n",
    "forced vital capacity best measure | fvc best measure\n",
    "biobankuk-20002-both_sexes-1309-non_cancer_illness_code_self_reported-EUR | M81 Osteoporosis without pathological fracture\n",
    "\n",
    "- gene lists were prepared from the genebass results SKAT-O tests based on the previously set genome-wide significance threshold: 2.5 × 10−7\n",
    "- We also conducted analyses for the 1 x 10-6 and 1 x 10-5 thresholds"
   ]
  },
  {
   "cell_type": "markdown",
   "id": "18a23f22-a9d0-42dd-8402-ae6555420f87",
   "metadata": {},
   "source": [
    "### Import and filter genebass:"
   ]
  },
  {
   "cell_type": "code",
   "execution_count": 5,
   "id": "f66c66f1-dcd7-43ff-ac01-8015428af397",
   "metadata": {},
   "outputs": [],
   "source": [
    "genebass = hl.read_matrix_table('/net/pr2/projects/plgrid/plggneuromol/resources/genebass-500k/results.mt')"
   ]
  },
  {
   "cell_type": "code",
   "execution_count": 6,
   "id": "305125ea-d502-4fb9-b672-73744790958b",
   "metadata": {},
   "outputs": [],
   "source": [
    "pheno_filters = (\n",
    "    genebass.coding == \"1140875408\"\n",
    ") | (\n",
    "    genebass.description == \"Immature reticulocyte fraction\"\n",
    ") | (\n",
    "    genebass.description == \"Platelet crit\"\n",
    ") | (\n",
    "    genebass.description == \"Forced vital capacity (FVC), Best measure\"\n",
    ") | (\n",
    "    genebass.description_more.contains('M81')\n",
    ")  "
   ]
  },
  {
   "cell_type": "markdown",
   "id": "f96e58e0-c799-40c5-a05d-3cc4b10fb831",
   "metadata": {},
   "source": [
    "## First lets analyse genes that were significant for missense and low-confidence lof variants"
   ]
  },
  {
   "cell_type": "code",
   "execution_count": 7,
   "id": "6aa57a6d-3d8c-4cb0-b807-39eb71413ffa",
   "metadata": {},
   "outputs": [],
   "source": [
    "genebass = genebass.filter_cols(pheno_filters)\n",
    "genebass = genebass.filter_rows(genebass.annotation == 'missense|LC')"
   ]
  },
  {
   "cell_type": "code",
   "execution_count": 8,
   "id": "19a96da9-6504-4283-bb60-019768eed2f5",
   "metadata": {},
   "outputs": [
    {
     "name": "stderr",
     "output_type": "stream",
     "text": [
      "[Stage 0:=====================================================>(999 + 1) / 1000]\r"
     ]
    },
    {
     "data": {
      "text/plain": [
       "(19403, 5)"
      ]
     },
     "execution_count": 8,
     "metadata": {},
     "output_type": "execute_result"
    }
   ],
   "source": [
    "genebass.count()"
   ]
  },
  {
   "cell_type": "markdown",
   "id": "8159bb30-f5c5-49f7-abc2-918c0bdc8271",
   "metadata": {},
   "source": [
    "### Get gene lists for different cut offs:"
   ]
  },
  {
   "cell_type": "code",
   "execution_count": 9,
   "id": "089cd0cc-e394-4ddd-9746-2b26d5d7612a",
   "metadata": {
    "tags": []
   },
   "outputs": [],
   "source": [
    "genebass = genebass.annotate_cols(\n",
    "    below_8 = hl.agg.filter((\n",
    "        genebass.Pvalue < 1e-08),\n",
    "        hl.agg.collect_as_set(genebass.gene_symbol)\n",
    "    ),\n",
    "    below_7 = hl.agg.filter((\n",
    "        genebass.Pvalue < 2.5e-07), #this is the significance threshold suggested by genebass\n",
    "        hl.agg.collect_as_set(genebass.gene_symbol)\n",
    "    ),\n",
    "    below_6 = hl.agg.filter((\n",
    "        genebass.Pvalue < 1e-06),\n",
    "        hl.agg.collect_as_set(genebass.gene_symbol)\n",
    "    ),\n",
    "    below_5 = hl.agg.filter((\n",
    "        genebass.Pvalue < 1e-05),\n",
    "        hl.agg.collect_as_set(genebass.gene_symbol)\n",
    "    )\n",
    ")"
   ]
  },
  {
   "cell_type": "code",
   "execution_count": 11,
   "id": "c8e82470-0efc-4a49-9f91-e835439d78cc",
   "metadata": {},
   "outputs": [],
   "source": [
    "genebass = genebass.select_cols(\n",
    "    genebass.below_8,\n",
    "    genebass.below_7,\n",
    "    genebass.below_6,\n",
    "    genebass.below_5,\n",
    "    genebass.description,\n",
    "    genebass.description_more,\n",
    "    genebass.coding_description\n",
    ")"
   ]
  },
  {
   "cell_type": "code",
   "execution_count": 12,
   "id": "ca5c6fdb-69d8-4547-8ae8-b71c42143db9",
   "metadata": {},
   "outputs": [],
   "source": [
    "genebass = genebass.annotate_cols(\n",
    "    len_below_5 = hl.len(genebass.below_5),\n",
    "    len_below_6 = hl.len(genebass.below_6),\n",
    "    len_below_7 = hl.len(genebass.below_7),\n",
    "    len_below_8 = hl.len(genebass.below_8)\n",
    ")"
   ]
  },
  {
   "cell_type": "code",
   "execution_count": 13,
   "id": "14236fe7-66bc-4ff5-a662-c8c5dbf97798",
   "metadata": {},
   "outputs": [],
   "source": [
    "genebass = genebass.annotate_cols(\n",
    "    description = hl.coalesce(\n",
    "        genebass.coding_description,\n",
    "        genebass.description\n",
    "    )\n",
    ")"
   ]
  },
  {
   "cell_type": "markdown",
   "id": "d8abce1b-a573-4ef5-aa60-da6f245417bb",
   "metadata": {
    "tags": []
   },
   "source": [
    "### The matrix table below has already been filtered and annotated, see preprocessing/joint-with-gts/genotype-and-filter.ipynb"
   ]
  },
  {
   "cell_type": "code",
   "execution_count": 3,
   "id": "7264a12c-1363-4360-86cd-042a3a335e20",
   "metadata": {},
   "outputs": [],
   "source": [
    "mt = hl.read_matrix_table('/net/pr2/projects/plgrid/plggneuromol/imdik-zekanowski-sportwgs/data/joint/full-healthy.mt')"
   ]
  },
  {
   "cell_type": "code",
   "execution_count": 4,
   "id": "0b7908ad-0505-4a56-ad7e-d77fbc1e8e3a",
   "metadata": {},
   "outputs": [
    {
     "data": {
      "text/plain": [
       "(2639210, 237)"
      ]
     },
     "execution_count": 4,
     "metadata": {},
     "output_type": "execute_result"
    }
   ],
   "source": [
    "mt.count()"
   ]
  },
  {
   "cell_type": "code",
   "execution_count": 5,
   "id": "19729cc0-927b-4cbe-aa1b-f3719995d529",
   "metadata": {},
   "outputs": [],
   "source": [
    "proper_controls = ['WGS_37b', 'WGS_37c', 'WGS_163d', 'WGS_7120', 'WGS_7142', 'WGS_7143', 'WGS_7152',\n",
    " 'WGS_7153', 'WGS_85b', 'WGS_147c', 'WGS_180b', 'WGS_185c', 'WGS_6819', 'S_7213', 'S_7227', 'S_7241', 'S_7246', 'S_7254', 'S_7274',\n",
    "                   'S_7307', '494', '462', '468', '492', '490'] "
   ]
  },
  {
   "cell_type": "code",
   "execution_count": 6,
   "id": "f1439d52-df30-477f-b3e9-f9de0d996313",
   "metadata": {
    "tags": []
   },
   "outputs": [
    {
     "data": {
      "text/plain": [
       "25"
      ]
     },
     "execution_count": 6,
     "metadata": {},
     "output_type": "execute_result"
    }
   ],
   "source": [
    "len(proper_controls)"
   ]
  },
  {
   "cell_type": "markdown",
   "id": "fb33d934-19a9-42a2-a2eb-4de43f32ff90",
   "metadata": {
    "tags": []
   },
   "source": [
    "### Only keep intragenic variants"
   ]
  },
  {
   "cell_type": "code",
   "execution_count": 26,
   "id": "2398e981-58d2-44e0-9dd1-df66067422fb",
   "metadata": {},
   "outputs": [],
   "source": [
    "mt = mt.filter_rows(mt.within_gene == hl.empty_array(hl.tstr), keep = False)"
   ]
  },
  {
   "cell_type": "markdown",
   "id": "32b25f69-e01c-45c6-8ee6-4c98756d37aa",
   "metadata": {
    "tags": []
   },
   "source": [
    "### Remove intervals that have regions that may be attributed to alternative loci"
   ]
  },
  {
   "cell_type": "code",
   "execution_count": 27,
   "id": "783c43d1-64a0-43a7-8e50-ddd98aaf799c",
   "metadata": {},
   "outputs": [
    {
     "name": "stderr",
     "output_type": "stream",
     "text": [
      "2023-03-06 10:40:38.405 Hail: INFO: wrote table with 260 rows in 1 partition to /net/ascratch/people/plggosborcz/hail-temp/persist_tableOLmIkK7FAu\n",
      "2023-03-06 10:40:38.807 Hail: INFO: Reading table without type imputation\n",
      "  Loading field 'f0' as type str (user-supplied)\n",
      "  Loading field 'f1' as type int32 (user-supplied)\n",
      "  Loading field 'f2' as type int32 (user-supplied)\n",
      "  Loading field 'f3' as type str (user-supplied)\n",
      "  Loading field 'f4' as type str (user-supplied)\n",
      "  Loading field 'f5' as type str (not specified)\n",
      "  Loading field 'f6' as type str (not specified)\n"
     ]
    }
   ],
   "source": [
    "bed = hl.import_bed(\n",
    "    '/net/pr2/projects/plgrid/plggneuromol/matzieb/projects/imdik-zekanowski-sportwgs/data/prs-data/all-alt-scaffold-placement-GRCh38.p14.bed',\n",
    "    reference_genome='GRCh38'\n",
    ")"
   ]
  },
  {
   "cell_type": "code",
   "execution_count": 28,
   "id": "ba849ffb-5535-4ff3-9cb6-35a0b853f4ab",
   "metadata": {},
   "outputs": [
    {
     "name": "stderr",
     "output_type": "stream",
     "text": [
      "2023-03-06 10:40:48.556 Hail: INFO: Ordering unsorted dataset with network shuffle\n",
      "2023-03-06 10:40:49.289 Hail: INFO: Ordering unsorted dataset with network shuffle\n",
      "2023-03-06 10:44:17.343 Hail: INFO: wrote matrix table with 1682209 rows and 237 columns in 14999 partitions to /net/ascratch/people/plggosborcz/no-alt.mt\n"
     ]
    }
   ],
   "source": [
    "mt = mt.filter_rows(hl.is_defined(bed[mt.locus]), keep = False)\n",
    "mt.write('/net/ascratch/people/plggosborcz/no-alt.mt', overwrite = True)"
   ]
  },
  {
   "cell_type": "code",
   "execution_count": 7,
   "id": "8b1a44bd-8c18-49c3-8289-2070b291f860",
   "metadata": {
    "tags": []
   },
   "outputs": [],
   "source": [
    "mt = hl.read_matrix_table('/net/ascratch/people/plggosborcz/no-alt.mt')"
   ]
  },
  {
   "cell_type": "markdown",
   "id": "63426b12-17d6-440c-8b92-122baa4b67a9",
   "metadata": {
    "tags": []
   },
   "source": [
    "### Only keep proprerly healthy controls"
   ]
  },
  {
   "cell_type": "code",
   "execution_count": 8,
   "id": "1404bae2-f782-4c19-8c8e-841f12386c46",
   "metadata": {},
   "outputs": [
    {
     "data": {
      "text/plain": [
       "{'1kg': 98, 'control': 39, 'sport': 100}"
      ]
     },
     "execution_count": 8,
     "metadata": {},
     "output_type": "execute_result"
    }
   ],
   "source": [
    "mt.aggregate_cols(hl.agg.counter(mt.group))"
   ]
  },
  {
   "cell_type": "code",
   "execution_count": 31,
   "id": "e16442b5-e2c6-45dd-ac56-e600ca9f9b25",
   "metadata": {},
   "outputs": [],
   "source": [
    "mt = mt.filter_cols(\n",
    "    (mt.group == '1kg') | (mt.group == 'sport') | (hl.literal(proper_controls)).contains(mt.s)\n",
    ")"
   ]
  },
  {
   "cell_type": "code",
   "execution_count": 32,
   "id": "5fb78338-1996-44ae-9f6f-27925e723a89",
   "metadata": {},
   "outputs": [
    {
     "name": "stderr",
     "output_type": "stream",
     "text": [
      "2023-03-06 10:49:11.467 Hail: INFO: wrote matrix table with 1682209 rows and 220 columns in 14999 partitions to /net/ascratch/people/plggosborcz/filtered.mt\n"
     ]
    }
   ],
   "source": [
    "mt.write('/net/ascratch/people/plggosborcz/filtered.mt', overwrite = True)\n",
    "mt = hl.read_matrix_table('/net/ascratch/people/plggosborcz/filtered.mt')"
   ]
  },
  {
   "cell_type": "code",
   "execution_count": 33,
   "id": "d86b0409-0602-4d89-bd18-dd781d886140",
   "metadata": {},
   "outputs": [
    {
     "data": {
      "text/plain": [
       "(1682209, 220)"
      ]
     },
     "execution_count": 33,
     "metadata": {},
     "output_type": "execute_result"
    }
   ],
   "source": [
    "mt.count()"
   ]
  },
  {
   "cell_type": "code",
   "execution_count": null,
   "id": "73cf58d0-3419-4ac3-aa59-3af561725823",
   "metadata": {},
   "outputs": [
    {
     "name": "stderr",
     "output_type": "stream",
     "text": [
      "[Stage 13:=>                                                     (4 + 30) / 200]\r"
     ]
    }
   ],
   "source": [
    "mt.naive_coalesce(200).write('/net/ascratch/people/plggosborcz/repartitioned.mt', overwrite = True)"
   ]
  },
  {
   "cell_type": "code",
   "execution_count": 9,
   "id": "872e7388-d8b0-4f83-84eb-15ab6ba114e9",
   "metadata": {},
   "outputs": [],
   "source": [
    "mt = hl.read_matrix_table('/net/ascratch/people/plggosborcz/repartitioned.mt')"
   ]
  },
  {
   "cell_type": "markdown",
   "id": "2bf4606a-e113-4254-a94f-f19c5a7b310a",
   "metadata": {
    "tags": []
   },
   "source": [
    "## calculate per-gene burden in 6 ways:\n",
    " - sum of CADD for variants with CADD > 20\n",
    " - sum of CADD for variants with CADD > 16\n",
    " - sum of CADD for variants with CADD > 10\n",
    " - any CADD > 16\n",
    " - any CADD > 20\n",
    " - any CADD > 30\n",
    " - any HC lof"
   ]
  },
  {
   "cell_type": "code",
   "execution_count": null,
   "id": "e1358965-12c9-4b75-a8bd-21af507ace87",
   "metadata": {},
   "outputs": [],
   "source": [
    "mt = mt.explode_rows(mt.within_gene)\n",
    "mt.write('/net/ascratch/people/plggosborcz/exploded.mt', overwrite = True)"
   ]
  },
  {
   "cell_type": "code",
   "execution_count": 10,
   "id": "70666368-b982-47c0-aa2a-317fcc1ab0a5",
   "metadata": {},
   "outputs": [],
   "source": [
    "mt = hl.read_matrix_table('/net/ascratch/people/plggosborcz/exploded.mt')"
   ]
  },
  {
   "cell_type": "code",
   "execution_count": 11,
   "id": "c5c37754-3d90-4d4b-b5a4-3afdfa9f013c",
   "metadata": {},
   "outputs": [],
   "source": [
    "mt = mt.filter_cols(mt.s != '494')"
   ]
  },
  {
   "cell_type": "code",
   "execution_count": 51,
   "id": "df26c437-3365-4b19-b1a4-a1b08dab2959",
   "metadata": {},
   "outputs": [],
   "source": [
    "# edit here, we need 3 more options - continous will be for logistic regression (for phenotype) - \n",
    "\n",
    "mt = mt.annotate_entries(\n",
    "    cadd_10 = hl.if_else(\n",
    "        (mt.cadd.cadd_score > 10),\n",
    "        (mt.GT.n_alt_alleles()*mt.cadd.cadd_score),\n",
    "        hl.int(0)\n",
    "    ),\n",
    "    cadd_16 = hl.if_else(\n",
    "        (mt.cadd.cadd_score > 16),\n",
    "        (mt.GT.n_alt_alleles()*mt.cadd.cadd_score),\n",
    "        hl.int(0)\n",
    "    ),\n",
    "    cadd_20 = hl.if_else(\n",
    "        (mt.cadd.cadd_score > 20),\n",
    "        (mt.GT.n_alt_alleles()*mt.cadd.cadd_score),\n",
    "        hl.int(0)\n",
    "    ),\n",
    "    cadd_30 = hl.if_else(\n",
    "        (mt.cadd.cadd_score > 30),\n",
    "        (mt.GT.n_alt_alleles()*mt.cadd.cadd_score),\n",
    "        hl.int(0)\n",
    "    ),\n",
    "    is_lof = hl.if_else(\n",
    "        mt.vep.vep.transcript_consequences.lof.contains('HC'),\n",
    "        mt.GT.n_alt_alleles(),\n",
    "        hl.int(0)\n",
    "    )                           \n",
    ")"
   ]
  },
  {
   "cell_type": "code",
   "execution_count": 52,
   "id": "08bc84ab-708d-4724-a4ed-08b346b54f09",
   "metadata": {},
   "outputs": [
    {
     "name": "stderr",
     "output_type": "stream",
     "text": [
      "2023-03-06 11:45:04.506 Hail: INFO: wrote matrix table with 1914483 rows and 219 columns in 200 partitions to /net/pr2/projects/plgrid/plggneuromol/imdik-zekanowski-sportwgs/data/hail-mts/for_burden.mt\n"
     ]
    }
   ],
   "source": [
    "mt.write('/net/pr2/projects/plgrid/plggneuromol/imdik-zekanowski-sportwgs/data/hail-mts/for_burden.mt', overwrite = True)"
   ]
  },
  {
   "cell_type": "code",
   "execution_count": 12,
   "id": "4976fb18-a48e-4941-829a-152931d0164d",
   "metadata": {},
   "outputs": [],
   "source": [
    "mt = hl.read_matrix_table('/net/pr2/projects/plgrid/plggneuromol/imdik-zekanowski-sportwgs/data/hail-mts/for_burden.mt')"
   ]
  },
  {
   "cell_type": "code",
   "execution_count": 63,
   "id": "cde10a1a-9995-4d2e-80c7-fda961e2fd97",
   "metadata": {},
   "outputs": [],
   "source": [
    "   per_gene = mt.group_rows_by(\n",
    "    mt.within_gene).aggregate(\n",
    "    cadd_above_10_sum = hl.agg.sum(mt.cadd_10), # these will be investigated with logistic regression\n",
    "    cadd_above_20_sum = hl.agg.sum(mt.cadd_20),\n",
    "    cadd_above_16_sum = hl.agg.sum(mt.cadd_16),\n",
    "    any_cadd_above_16 = hl.agg.any(mt.cadd_16 > 0), # these will be investigated with fisher exact\n",
    "    any_cadd_above_20 = hl.agg.any(mt.cadd_20 > 0),\n",
    "    any_cadd_above_30 = hl.agg.any(mt.cadd_30 > 0),\n",
    "    any_lof = hl.agg.any(mt.is_lof > 1)   \n",
    ")"
   ]
  },
  {
   "cell_type": "code",
   "execution_count": 64,
   "id": "aaf687d3-f27f-4d83-8bab-b8d28f0349ee",
   "metadata": {},
   "outputs": [
    {
     "name": "stderr",
     "output_type": "stream",
     "text": [
      "2023-03-06 15:06:28.267 Hail: INFO: Ordering unsorted dataset with network shuffle\n",
      "2023-03-06 15:06:48.189 Hail: INFO: wrote matrix table with 36210 rows and 219 columns in 1 partition to /net/ascratch/people/plggosborcz/per_gene.mt\n"
     ]
    }
   ],
   "source": [
    "per_gene = per_gene.naive_coalesce(1)\n",
    "per_gene.write('/net/ascratch/people/plggosborcz/per_gene.mt', overwrite = True)"
   ]
  },
  {
   "cell_type": "code",
   "execution_count": 13,
   "id": "955fbac8-7124-4753-b42e-a276ff12920d",
   "metadata": {},
   "outputs": [],
   "source": [
    "per_gene = hl.read_matrix_table('/net/ascratch/people/plggosborcz/per_gene.mt')"
   ]
  },
  {
   "cell_type": "code",
   "execution_count": 76,
   "id": "423e8827-2384-43b2-aa53-fc18e5641d56",
   "metadata": {
    "tags": []
   },
   "outputs": [],
   "source": [
    "per_gene = per_gene.filter_rows(\n",
    "    hl.agg.any(\n",
    "        (\n",
    "            per_gene.cadd_above_10_sum > 0\n",
    "        ) | (\n",
    "            per_gene.cadd_above_20_sum > 0\n",
    "        ) | (\n",
    "            per_gene.cadd_above_16_sum > 0\n",
    "        ) | (\n",
    "            per_gene.any_cadd_above_16 > 0\n",
    "        ) | (\n",
    "            per_gene.any_cadd_above_20 > 0\n",
    "        ) | (\n",
    "            per_gene.any_cadd_above_30 > 0\n",
    "        ) | (\n",
    "            per_gene.any_lof > 0\n",
    "        )\n",
    "    )\n",
    ")"
   ]
  },
  {
   "cell_type": "code",
   "execution_count": 77,
   "id": "2c1c993a-dc20-403e-b342-c2178437ad67",
   "metadata": {},
   "outputs": [
    {
     "data": {
      "text/plain": [
       "(20565, 219)"
      ]
     },
     "execution_count": 77,
     "metadata": {},
     "output_type": "execute_result"
    }
   ],
   "source": [
    "per_gene.count()"
   ]
  },
  {
   "cell_type": "markdown",
   "id": "83abeee8-e256-46a7-bd01-77e272e78b64",
   "metadata": {},
   "source": [
    "### Perform PCA on variant burden across cohorts"
   ]
  },
  {
   "cell_type": "code",
   "execution_count": 78,
   "id": "3bea62e3-a0a0-45e5-aa29-ed283c3c12af",
   "metadata": {
    "collapsed": true,
    "jupyter": {
     "outputs_hidden": true
    },
    "tags": []
   },
   "outputs": [
    {
     "name": "stderr",
     "output_type": "stream",
     "text": [
      "2023-03-06 15:20:53.983 Hail: INFO: pca: running PCA with 2 components...\n",
      "2023-03-06 15:20:57.264 Hail: INFO: wrote table with 0 rows in 0 partitions to /net/ascratch/people/plggosborcz/hail-temp/persist_tableI8pSu6GrbQ\n",
      "    Total size: 4.67 KiB\n",
      "    * Rows: 0.00 B\n",
      "    * Globals: 4.67 KiB\n",
      "    * Smallest partition: N/A\n",
      "    * Largest partition:  N/A\n",
      "2023-03-06 15:20:57.859 Hail: INFO: pca: running PCA with 2 components...\n",
      "2023-03-06 15:20:59.205 Hail: INFO: wrote table with 0 rows in 0 partitions to /net/ascratch/people/plggosborcz/hail-temp/persist_tableewe3uZyU6q\n",
      "    Total size: 4.67 KiB\n",
      "    * Rows: 0.00 B\n",
      "    * Globals: 4.67 KiB\n",
      "    * Smallest partition: N/A\n",
      "    * Largest partition:  N/A\n",
      "2023-03-06 15:20:59.768 Hail: INFO: pca: running PCA with 2 components...\n",
      "2023-03-06 15:21:01.906 Hail: INFO: wrote table with 0 rows in 0 partitions to /net/ascratch/people/plggosborcz/hail-temp/persist_tableVeM4q7Sxaw\n",
      "    Total size: 4.67 KiB\n",
      "    * Rows: 0.00 B\n",
      "    * Globals: 4.67 KiB\n",
      "    * Smallest partition: N/A\n",
      "    * Largest partition:  N/A\n",
      "2023-03-06 15:21:02.517 Hail: INFO: pca: running PCA with 2 components...\n",
      "2023-03-06 15:21:04.504 Hail: INFO: wrote table with 0 rows in 0 partitions to /net/ascratch/people/plggosborcz/hail-temp/persist_tablev5fyUm4GG2\n",
      "    Total size: 4.68 KiB\n",
      "    * Rows: 0.00 B\n",
      "    * Globals: 4.68 KiB\n",
      "    * Smallest partition: N/A\n",
      "    * Largest partition:  N/A\n",
      "2023-03-06 15:21:05.116 Hail: INFO: pca: running PCA with 2 components...\n",
      "2023-03-06 15:21:06.709 Hail: INFO: wrote table with 0 rows in 0 partitions to /net/ascratch/people/plggosborcz/hail-temp/persist_tableHvXETPN1aP\n",
      "    Total size: 4.67 KiB\n",
      "    * Rows: 0.00 B\n",
      "    * Globals: 4.67 KiB\n",
      "    * Smallest partition: N/A\n",
      "    * Largest partition:  N/A\n",
      "2023-03-06 15:21:07.447 Hail: INFO: pca: running PCA with 2 components...\n",
      "2023-03-06 15:21:09.874 Hail: INFO: wrote table with 0 rows in 0 partitions to /net/ascratch/people/plggosborcz/hail-temp/persist_table6uDbalG7dC\n",
      "    Total size: 4.67 KiB\n",
      "    * Rows: 0.00 B\n",
      "    * Globals: 4.67 KiB\n",
      "    * Smallest partition: N/A\n",
      "    * Largest partition:  N/A\n",
      "2023-03-06 15:21:10.541 Hail: INFO: pca: running PCA with 2 components...\n",
      "2023-03-06 15:21:12.527 Hail: INFO: wrote table with 0 rows in 0 partitions to /net/ascratch/people/plggosborcz/hail-temp/persist_tablerTu0JtcAuZ\n",
      "    Total size: 4.67 KiB\n",
      "    * Rows: 0.00 B\n",
      "    * Globals: 4.67 KiB\n",
      "    * Smallest partition: N/A\n",
      "    * Largest partition:  N/A\n"
     ]
    }
   ],
   "source": [
    "eigenvalues_10, scores_10, _ = hl.pca(\n",
    "    per_gene.cadd_above_10_sum,\n",
    "    k=2\n",
    ")\n",
    "\n",
    "eigenvalues_20, scores_20, _ = hl.pca(\n",
    "    per_gene.cadd_above_20_sum,\n",
    "    k=2\n",
    ")\n",
    "\n",
    "eigenvalues_16, scores_16, _ = hl.pca(\n",
    "    per_gene.cadd_above_16_sum,\n",
    "    k=2\n",
    ")\n",
    "\n",
    "eigenvalues_any_16, scores_any_16, _ = hl.pca(\n",
    "    per_gene.any_cadd_above_16,\n",
    "    k=2\n",
    ")\n",
    "\n",
    "eigenvalues_any_20, scores_any_20, _ = hl.pca(\n",
    "    per_gene.any_cadd_above_20,\n",
    "    k=2\n",
    ")\n",
    "\n",
    "eigenvalues_any_30, scores_any_30, _ = hl.pca(\n",
    "    per_gene.any_cadd_above_30,\n",
    "    k=2\n",
    ")\n",
    "\n",
    "eigenvalues_any_lof, scores_any_lof, _ = hl.pca(\n",
    "    per_gene.any_lof,\n",
    "    k=2\n",
    ")"
   ]
  },
  {
   "cell_type": "code",
   "execution_count": 79,
   "id": "659e8f8e-cf2e-417d-9e29-5d04df6dc5fb",
   "metadata": {},
   "outputs": [],
   "source": [
    "per_gene = per_gene.annotate_cols(\n",
    "    pca_10_sum = scores_10[per_gene.s].scores,\n",
    "    pca_20_sum = scores_20[per_gene.s].scores,\n",
    "    pca_16_sum = scores_16[per_gene.s].scores,\n",
    "    pca_16_any = scores_any_16[per_gene.s].scores,\n",
    "    pca_20_any = scores_any_20[per_gene.s].scores,\n",
    "    pca_30_any = scores_any_30[per_gene.s].scores,\n",
    "    pca_lof = scores_any_lof[per_gene.s].scores\n",
    ")"
   ]
  },
  {
   "cell_type": "code",
   "execution_count": 84,
   "id": "c5cae3e9-c2bc-4ccf-8a86-d27820741486",
   "metadata": {},
   "outputs": [
    {
     "name": "stderr",
     "output_type": "stream",
     "text": [
      "/net/pr2/projects/plgrid/plggneuromol/imdik-zekanowski-sportwgs/venv-hail-0.2.109/lib/python3.10/site-packages/bokeh/models/sources.py:235: FutureWarning: iteritems is deprecated and will be removed in a future version. Use .items instead.\n",
      "  tmp_data = {c: v.values for c, v in _df.iteritems()}\n"
     ]
    },
    {
     "data": {
      "text/html": [
       "\n",
       "\n",
       "\n",
       "\n",
       "\n",
       "\n",
       "  <div class=\"bk-root\" id=\"92f95ba8-5431-4e44-98df-4e3523c7d71b\" data-root-id=\"1589\"></div>\n"
      ]
     },
     "metadata": {},
     "output_type": "display_data"
    },
    {
     "data": {
      "application/javascript": [
       "(function(root) {\n",
       "  function embed_document(root) {\n",
       "    \n",
       "  var docs_json = {\"f6dabbbd-85b5-4686-bb40-8066296424dc\":{\"roots\":{\"references\":[{\"attributes\":{\"below\":[{\"id\":\"1600\",\"type\":\"LinearAxis\"}],\"center\":[{\"id\":\"1604\",\"type\":\"Grid\"},{\"id\":\"1609\",\"type\":\"Grid\"}],\"left\":[{\"id\":\"1605\",\"type\":\"LinearAxis\"},{\"id\":\"1648\",\"type\":\"Legend\"},{\"id\":\"1649\",\"type\":\"ColorBar\"}],\"plot_height\":800,\"plot_width\":800,\"renderers\":[{\"id\":\"1632\",\"type\":\"GlyphRenderer\"},{\"id\":\"1638\",\"type\":\"GlyphRenderer\"},{\"id\":\"1644\",\"type\":\"GlyphRenderer\"}],\"title\":{\"id\":\"1590\",\"type\":\"Title\"},\"toolbar\":{\"id\":\"1616\",\"type\":\"Toolbar\"},\"x_range\":{\"id\":\"1592\",\"type\":\"DataRange1d\"},\"x_scale\":{\"id\":\"1596\",\"type\":\"LinearScale\"},\"y_range\":{\"id\":\"1594\",\"type\":\"DataRange1d\"},\"y_scale\":{\"id\":\"1598\",\"type\":\"LinearScale\"}},\"id\":\"1589\",\"subtype\":\"Figure\",\"type\":\"Plot\"},{\"attributes\":{\"click_policy\":\"hide\",\"items\":[{\"id\":\"1645\",\"type\":\"LegendItem\"},{\"id\":\"1646\",\"type\":\"LegendItem\"},{\"id\":\"1647\",\"type\":\"LegendItem\"}]},\"id\":\"1648\",\"type\":\"Legend\"},{\"attributes\":{\"fill_alpha\":{\"value\":0.1},\"fill_color\":{\"value\":\"#1f77b4\"},\"line_alpha\":{\"value\":0.1},\"line_color\":{\"value\":\"#1f77b4\"},\"x\":{\"field\":\"x\"},\"y\":{\"field\":\"y\"}},\"id\":\"1637\",\"type\":\"Circle\"},{\"attributes\":{\"fill_color\":{\"field\":\"label\",\"transform\":{\"id\":\"1626\",\"type\":\"CategoricalColorMapper\"}},\"line_color\":{\"field\":\"label\",\"transform\":{\"id\":\"1626\",\"type\":\"CategoricalColorMapper\"}},\"x\":{\"field\":\"x\"},\"y\":{\"field\":\"y\"}},\"id\":\"1630\",\"type\":\"Circle\"},{\"attributes\":{},\"id\":\"1606\",\"type\":\"BasicTicker\"},{\"attributes\":{\"data_source\":{\"id\":\"1625\",\"type\":\"ColumnDataSource\"},\"glyph\":{\"id\":\"1630\",\"type\":\"Circle\"},\"hover_glyph\":null,\"muted_glyph\":null,\"nonselection_glyph\":{\"id\":\"1631\",\"type\":\"Circle\"},\"selection_glyph\":null,\"view\":{\"id\":\"1628\",\"type\":\"CDSView\"}},\"id\":\"1632\",\"type\":\"GlyphRenderer\"},{\"attributes\":{\"callback\":null},\"id\":\"1592\",\"type\":\"DataRange1d\"},{\"attributes\":{\"overlay\":{\"id\":\"1697\",\"type\":\"BoxAnnotation\"}},\"id\":\"1612\",\"type\":\"BoxZoomTool\"},{\"attributes\":{},\"id\":\"1613\",\"type\":\"SaveTool\"},{\"attributes\":{},\"id\":\"1694\",\"type\":\"BasicTickFormatter\"},{\"attributes\":{\"text\":\"PCA - sum of variants with CADD over 10\"},\"id\":\"1590\",\"type\":\"Title\"},{\"attributes\":{\"filters\":[{\"id\":\"1639\",\"type\":\"GroupFilter\"}],\"source\":{\"id\":\"1625\",\"type\":\"ColumnDataSource\"}},\"id\":\"1640\",\"type\":\"CDSView\"},{\"attributes\":{\"color_mapper\":null,\"formatter\":{\"id\":\"1694\",\"type\":\"BasicTickFormatter\"},\"ticker\":{\"id\":\"1693\",\"type\":\"BasicTicker\"},\"visible\":false},\"id\":\"1649\",\"type\":\"ColorBar\"},{\"attributes\":{\"data_source\":{\"id\":\"1625\",\"type\":\"ColumnDataSource\"},\"glyph\":{\"id\":\"1642\",\"type\":\"Circle\"},\"hover_glyph\":null,\"muted_glyph\":null,\"nonselection_glyph\":{\"id\":\"1643\",\"type\":\"Circle\"},\"selection_glyph\":null,\"view\":{\"id\":\"1640\",\"type\":\"CDSView\"}},\"id\":\"1644\",\"type\":\"GlyphRenderer\"},{\"attributes\":{\"fill_color\":{\"field\":\"label\",\"transform\":{\"id\":\"1626\",\"type\":\"CategoricalColorMapper\"}},\"line_color\":{\"field\":\"label\",\"transform\":{\"id\":\"1626\",\"type\":\"CategoricalColorMapper\"}},\"x\":{\"field\":\"x\"},\"y\":{\"field\":\"y\"}},\"id\":\"1636\",\"type\":\"Circle\"},{\"attributes\":{},\"id\":\"1698\",\"type\":\"Selection\"},{\"attributes\":{\"callback\":null,\"data\":{\"index\":[0,1,2,3,4,5,6,7,8,9,10,11,12,13,14,15,16,17,18,19,20,21,22,23,24,25,26,27,28,29,30,31,32,33,34,35,36,37,38,39,40,41,42,43,44,45,46,47,48,49,50,51,52,53,54,55,56,57,58,59,60,61,62,63,64,65,66,67,68,69,70,71,72,73,74,75,76,77,78,79,80,81,82,83,84,85,86,87,88,89,90,91,92,93,94,95,96,97,98,99,100,101,102,103,104,105,106,107,108,109,110,111,112,113,114,115,116,117,118,119,120,121,122,123,124,125,126,127,128,129,130,131,132,133,134,135,136,137,138,139,140,141,142,143,144,145,146,147,148,149,150,151,152,153,154,155,156,157,158,159,160,161,162,163,164,165,166,167,168,169,170,171,172,173,174,175,176,177,178,179,180,181,182,183,184,185,186,187,188,189,190,191,192,193,194,195,196,197,198,199,200,201,202,203,204,205,206,207,208,209,210,211,212,213,214,215,216,217],\"label\":[\"sport\",\"1kg\",\"sport\",\"sport\",\"1kg\",\"control\",\"sport\",\"sport\",\"1kg\",\"sport\",\"sport\",\"control\",\"sport\",\"1kg\",\"1kg\",\"sport\",\"sport\",\"sport\",\"sport\",\"1kg\",\"sport\",\"1kg\",\"sport\",\"sport\",\"sport\",\"1kg\",\"sport\",\"control\",\"1kg\",\"sport\",\"1kg\",\"1kg\",\"sport\",\"sport\",\"sport\",\"sport\",\"control\",\"1kg\",\"control\",\"sport\",\"sport\",\"1kg\",\"sport\",\"1kg\",\"sport\",\"control\",\"sport\",\"sport\",\"sport\",\"1kg\",\"control\",\"sport\",\"sport\",\"sport\",\"1kg\",\"sport\",\"1kg\",\"1kg\",\"1kg\",\"sport\",\"1kg\",\"1kg\",\"sport\",\"sport\",\"1kg\",\"1kg\",\"sport\",\"sport\",\"sport\",\"control\",\"control\",\"1kg\",\"1kg\",\"1kg\",\"sport\",\"1kg\",\"1kg\",\"1kg\",\"1kg\",\"1kg\",\"sport\",\"sport\",\"1kg\",\"sport\",\"sport\",\"control\",\"control\",\"sport\",\"sport\",\"sport\",\"1kg\",\"1kg\",\"1kg\",\"control\",\"1kg\",\"1kg\",\"sport\",\"sport\",\"control\",\"sport\",\"1kg\",\"sport\",\"1kg\",\"1kg\",\"control\",\"sport\",\"sport\",\"sport\",\"sport\",\"sport\",\"sport\",\"sport\",\"1kg\",\"sport\",\"1kg\",\"1kg\",\"1kg\",\"control\",\"sport\",\"1kg\",\"1kg\",\"sport\",\"1kg\",\"1kg\",\"1kg\",\"1kg\",\"1kg\",\"control\",\"1kg\",\"1kg\",\"sport\",\"sport\",\"sport\",\"sport\",\"control\",\"sport\",\"1kg\",\"1kg\",\"1kg\",\"1kg\",\"1kg\",\"sport\",\"sport\",\"1kg\",\"1kg\",\"sport\",\"sport\",\"sport\",\"1kg\",\"sport\",\"sport\",\"sport\",\"sport\",\"1kg\",\"1kg\",\"1kg\",\"sport\",\"1kg\",\"1kg\",\"sport\",\"1kg\",\"sport\",\"sport\",\"sport\",\"1kg\",\"sport\",\"sport\",\"sport\",\"1kg\",\"1kg\",\"1kg\",\"1kg\",\"1kg\",\"1kg\",\"1kg\",\"1kg\",\"1kg\",\"1kg\",\"sport\",\"1kg\",\"1kg\",\"1kg\",\"sport\",\"1kg\",\"sport\",\"sport\",\"control\",\"sport\",\"sport\",\"1kg\",\"1kg\",\"1kg\",\"1kg\",\"sport\",\"control\",\"1kg\",\"1kg\",\"1kg\",\"sport\",\"sport\",\"sport\",\"1kg\",\"sport\",\"1kg\",\"1kg\",\"1kg\",\"control\",\"1kg\",\"control\",\"1kg\",\"sport\",\"sport\",\"sport\",\"sport\",\"sport\",\"1kg\",\"1kg\",\"1kg\"],\"x\":{\"__ndarray__\":\"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\",\"dtype\":\"float64\",\"shape\":[218]},\"y\":{\"__ndarray__\":\"xpWvEq/vRUB2u9hOZGmCwCbg/Yohu3DAhbyao3efX0BgWRHHVcV1wGIeWBU12irA/dzvddOLb8D6t/2Eao1XwMtq4kX6hihAWsd3tiwFeEDVWYdc8LJxwJf6ipwpD23AFYpjdN6VR8DOtBynrIFDwKJ6k5L+IDrAdh3uqdrxSEBF7Qsa5bNjQIelzDeraGdA/qL32dK9g0D92ATGp/l/wHwiB47G9HrAyE/TwxRJcMAs+VtpvjlgwCMxc7TvqEvA9K5baYk7SMAV/TuecHpEwE4npcB4UnNAIFbCh/OmiUA1YOyOtByPwPIRHQfklX3AiETbxhricsDbfjprhSpxwIVP3ZgZ2WfA+1ZmtxKWN8A750u/MuFcQI+ENWIxeXJAa3ZkqndsdEBw70vg2x15QJl7R13//H1AS2qteAcdg0AmaOaskHeOQA6gkV94GXvA4wB3AVeWesC54tdgRzdmwD13GqbphGLAJE+j0rF4TcADSOLbMfA6wHes0IefiUpAxKdlWK86U0BYja72V6JjQKkv9FDxdW9A/p21MJHncUCCriIFk2d4QBI4PxNRJnxAkGO7xSBJg8BAkUdPSBSAwOfDOPoSPnLAdZxdLHZbZMBFIj2zGZ5YwFXcoiu2qknAht92Hw0t7r8ooW4eHyEgQKNwAEmIgV9AVgKU3xKKa0Af2qqrqiBwQNRkxCMiqXJAhStj4jExeEDbyi61TuN4QKIGf+W9rXpAq0qHDP8cfUCHHXwq7xl+QDI86PQM44BAFhjcjudMfMAPOmc91nV7wHj36iEksHTAo5xJ7J2Xb8DAP7xiqZ9swKoQ+N0ZIGzAUWwN4B+wasA1GSR8mJZnwMkP83bhlWLAfDQZv1aHRcD1Pkqi8CU8QJtZfk+wc2dAyn35ya4LakBCdxKmJhVwQNFA8VfzQn1Ags9WKbvAhECQ3wGbphWHQMFI6e4P84xAXdB6Uu/ah8D21sz3fvqEwOuiX+TWA4TAnUJVQuHSesDU0WrYNA9zwOrRVel/YmTAfOkxvuhpX8AjscGhisFbwKcdj91E2lLAMVMGJZTjS8DhiVDajus/wDnkdoBraBjATQrc/RRcY0Aj7bo3cZdwQMvju6xBR3RANKqjKqImeEC7YY2uWhF7QPgzju0hWYFA8B7Bl9BhgkBSOXfk1USDQGelrnwqU4RAZBgr8UFDhUC0HbBb3c2CwMbhoMPrvHHA1752whS2acCJI6mXkSFowEvMD2x6KmXAHqKHRZyQYMDNAiBaZ39awKjqHPYWLFTAfxAo6zqySsCBZfZ00HdIwPYxboMjFxTAVieBLZJHKEDc7qa2wnlHQHT2Qob1RVNA7NqXPrq7VkBX+gk5PAZkQLWfNOiKG2VAUXiES/QTbkCMZY93TX12QJKDOx7wdnhAVRG30x9Af0DOwGkuHH+CQG+GjjW5d4ZAUYXXC9cyjEATEbBhWVWLwJjOTkPeh3vAfJivtlohd8AjGpYloqZzwOgKRFGz1m/AJHcTPfw1bsDb1C8yFk9twH3inKMP8WvAQ4qoivOsasC6fvMFFTZnwLjxxHMji2DAXzPHIhiVI0Bh5AH5CdJyQOmjtEoCHXVAVs5J4cppdUDpEMcV19B1QJsa4+DTBIFAQm3ilnUFhsDF1Bz2vIqDwEkVs53DYXzAeS1ifU2QecBd+s3DtzVywNnoaJx7qGHAWOvgfsrTNkAPfZZcfYhXQFK117AGSmJAdQ3TW/F4ZUBoqlmZeVdwQA40z4wApHBASmR2wPV3dUDmMUf8e117QPCYEkP5fIJASxQOZZ9ygsDIH3JlxBl9wNodoXhqmHfArENDyV4Vc8Arqa0va7JwwEHIzc4r623Aak6PbdnCbMD/c4Jcj/powJA5KsBi/1XAuDNcGobBKUCa58l7cKZ1QBRg9lTFmpDAWQ0fmy4HdcBsWFuipw50wM7AedVAU3PAAovuEKmJcMBcdFYDaDBfwNAsF5HPvGFAEp/sH2G0c0Aa6e5lBqV7QNSYC+8N3X9AyQCXC1NHisC3tEOBnpuBwIu3POjnE37AdXnwhvWqesDij9F/xThkwPs/TQz6fFbAEAMjJ0HTUMDmS9iYunRyQKursljKi3NAqmdnGRm4g0AhJTs8pymGQGp2FfThJHzAeGp8Aseqc8Am9e3TVxpmwCbo1P2BFFLAXbtDJKT8OMAfoDNauoplQEt3nMPGzH1Az9Nw6+YUe8DPeY4IAQZZwPVxqSasrmFAnA6G/hTGcEAAn07sqa14QAGNDKS6tmNA3tNOQTrwUEC/xaKRsHuAwIHhD1SNRW5AMlD5c8kQjcA65ObV/IhYQA==\",\"dtype\":\"float64\",\"shape\":[218]}},\"selected\":{\"id\":\"1698\",\"type\":\"Selection\"},\"selection_policy\":{\"id\":\"1699\",\"type\":\"UnionRenderers\"}},\"id\":\"1625\",\"type\":\"ColumnDataSource\"},{\"attributes\":{},\"id\":\"1693\",\"type\":\"BasicTicker\"},{\"attributes\":{\"label\":{\"value\":\"sport\"},\"renderers\":[{\"id\":\"1644\",\"type\":\"GlyphRenderer\"}]},\"id\":\"1647\",\"type\":\"LegendItem\"},{\"attributes\":{\"ticker\":{\"id\":\"1601\",\"type\":\"BasicTicker\"}},\"id\":\"1604\",\"type\":\"Grid\"},{\"attributes\":{\"column_name\":\"label\",\"group\":\"sport\"},\"id\":\"1639\",\"type\":\"GroupFilter\"},{\"attributes\":{\"callback\":null,\"tooltips\":[[\"x\",\"@x\"],[\"y\",\"@y\"],[\"label\",\"@label\"]]},\"id\":\"1624\",\"type\":\"HoverTool\"},{\"attributes\":{},\"id\":\"1699\",\"type\":\"UnionRenderers\"},{\"attributes\":{\"axis_label\":\"PC2\",\"formatter\":{\"id\":\"1692\",\"type\":\"BasicTickFormatter\"},\"ticker\":{\"id\":\"1606\",\"type\":\"BasicTicker\"}},\"id\":\"1605\",\"type\":\"LinearAxis\"},{\"attributes\":{},\"id\":\"1692\",\"type\":\"BasicTickFormatter\"},{\"attributes\":{},\"id\":\"1598\",\"type\":\"LinearScale\"},{\"attributes\":{\"filters\":[{\"id\":\"1627\",\"type\":\"GroupFilter\"}],\"source\":{\"id\":\"1625\",\"type\":\"ColumnDataSource\"}},\"id\":\"1628\",\"type\":\"CDSView\"},{\"attributes\":{\"bottom_units\":\"screen\",\"fill_alpha\":{\"value\":0.5},\"fill_color\":{\"value\":\"lightgrey\"},\"left_units\":\"screen\",\"level\":\"overlay\",\"line_alpha\":{\"value\":1.0},\"line_color\":{\"value\":\"black\"},\"line_dash\":[4,4],\"line_width\":{\"value\":2},\"render_mode\":\"css\",\"right_units\":\"screen\",\"top_units\":\"screen\"},\"id\":\"1697\",\"type\":\"BoxAnnotation\"},{\"attributes\":{},\"id\":\"1615\",\"type\":\"HelpTool\"},{\"attributes\":{\"filters\":[{\"id\":\"1633\",\"type\":\"GroupFilter\"}],\"source\":{\"id\":\"1625\",\"type\":\"ColumnDataSource\"}},\"id\":\"1634\",\"type\":\"CDSView\"},{\"attributes\":{\"fill_alpha\":{\"value\":0.1},\"fill_color\":{\"value\":\"#1f77b4\"},\"line_alpha\":{\"value\":0.1},\"line_color\":{\"value\":\"#1f77b4\"},\"x\":{\"field\":\"x\"},\"y\":{\"field\":\"y\"}},\"id\":\"1643\",\"type\":\"Circle\"},{\"attributes\":{\"axis_label\":\"PC1\",\"formatter\":{\"id\":\"1696\",\"type\":\"BasicTickFormatter\"},\"ticker\":{\"id\":\"1601\",\"type\":\"BasicTicker\"}},\"id\":\"1600\",\"type\":\"LinearAxis\"},{\"attributes\":{},\"id\":\"1601\",\"type\":\"BasicTicker\"},{\"attributes\":{},\"id\":\"1610\",\"type\":\"PanTool\"},{\"attributes\":{\"fill_alpha\":{\"value\":0.1},\"fill_color\":{\"value\":\"#1f77b4\"},\"line_alpha\":{\"value\":0.1},\"line_color\":{\"value\":\"#1f77b4\"},\"x\":{\"field\":\"x\"},\"y\":{\"field\":\"y\"}},\"id\":\"1631\",\"type\":\"Circle\"},{\"attributes\":{\"callback\":null},\"id\":\"1594\",\"type\":\"DataRange1d\"},{\"attributes\":{\"active_drag\":\"auto\",\"active_inspect\":\"auto\",\"active_multi\":null,\"active_scroll\":\"auto\",\"active_tap\":\"auto\",\"tools\":[{\"id\":\"1610\",\"type\":\"PanTool\"},{\"id\":\"1611\",\"type\":\"WheelZoomTool\"},{\"id\":\"1612\",\"type\":\"BoxZoomTool\"},{\"id\":\"1613\",\"type\":\"SaveTool\"},{\"id\":\"1614\",\"type\":\"ResetTool\"},{\"id\":\"1615\",\"type\":\"HelpTool\"},{\"id\":\"1624\",\"type\":\"HoverTool\"}]},\"id\":\"1616\",\"type\":\"Toolbar\"},{\"attributes\":{},\"id\":\"1614\",\"type\":\"ResetTool\"},{\"attributes\":{\"column_name\":\"label\",\"group\":\"control\"},\"id\":\"1633\",\"type\":\"GroupFilter\"},{\"attributes\":{\"label\":{\"value\":\"control\"},\"renderers\":[{\"id\":\"1638\",\"type\":\"GlyphRenderer\"}]},\"id\":\"1646\",\"type\":\"LegendItem\"},{\"attributes\":{\"dimension\":1,\"ticker\":{\"id\":\"1606\",\"type\":\"BasicTicker\"}},\"id\":\"1609\",\"type\":\"Grid\"},{\"attributes\":{\"data_source\":{\"id\":\"1625\",\"type\":\"ColumnDataSource\"},\"glyph\":{\"id\":\"1636\",\"type\":\"Circle\"},\"hover_glyph\":null,\"muted_glyph\":null,\"nonselection_glyph\":{\"id\":\"1637\",\"type\":\"Circle\"},\"selection_glyph\":null,\"view\":{\"id\":\"1634\",\"type\":\"CDSView\"}},\"id\":\"1638\",\"type\":\"GlyphRenderer\"},{\"attributes\":{\"label\":{\"value\":\"1kg\"},\"renderers\":[{\"id\":\"1632\",\"type\":\"GlyphRenderer\"}]},\"id\":\"1645\",\"type\":\"LegendItem\"},{\"attributes\":{\"fill_color\":{\"field\":\"label\",\"transform\":{\"id\":\"1626\",\"type\":\"CategoricalColorMapper\"}},\"line_color\":{\"field\":\"label\",\"transform\":{\"id\":\"1626\",\"type\":\"CategoricalColorMapper\"}},\"x\":{\"field\":\"x\"},\"y\":{\"field\":\"y\"}},\"id\":\"1642\",\"type\":\"Circle\"},{\"attributes\":{\"column_name\":\"label\",\"group\":\"1kg\"},\"id\":\"1627\",\"type\":\"GroupFilter\"},{\"attributes\":{\"factors\":[\"control\",\"sport\",\"1kg\"],\"palette\":[\"#1f77b4\",\"#ff7f0e\",\"#2ca02c\",\"#d62728\",\"#9467bd\",\"#8c564b\",\"#e377c2\",\"#7f7f7f\",\"#bcbd22\",\"#17becf\"]},\"id\":\"1626\",\"type\":\"CategoricalColorMapper\"},{\"attributes\":{},\"id\":\"1696\",\"type\":\"BasicTickFormatter\"},{\"attributes\":{},\"id\":\"1596\",\"type\":\"LinearScale\"},{\"attributes\":{},\"id\":\"1611\",\"type\":\"WheelZoomTool\"}],\"root_ids\":[\"1589\"]},\"title\":\"Bokeh Application\",\"version\":\"1.4.0\"}};\n",
       "  var render_items = [{\"docid\":\"f6dabbbd-85b5-4686-bb40-8066296424dc\",\"roots\":{\"1589\":\"92f95ba8-5431-4e44-98df-4e3523c7d71b\"}}];\n",
       "  root.Bokeh.embed.embed_items_notebook(docs_json, render_items);\n",
       "\n",
       "  }\n",
       "  if (root.Bokeh !== undefined) {\n",
       "    embed_document(root);\n",
       "  } else {\n",
       "    var attempts = 0;\n",
       "    var timer = setInterval(function(root) {\n",
       "      if (root.Bokeh !== undefined) {\n",
       "        clearInterval(timer);\n",
       "        embed_document(root);\n",
       "      } else {\n",
       "        attempts++;\n",
       "        if (attempts > 100) {\n",
       "          clearInterval(timer);\n",
       "          console.log(\"Bokeh: ERROR: Unable to run BokehJS code because BokehJS library is missing\");\n",
       "        }\n",
       "      }\n",
       "    }, 10, root)\n",
       "  }\n",
       "})(window);"
      ],
      "application/vnd.bokehjs_exec.v0+json": ""
     },
     "metadata": {
      "application/vnd.bokehjs_exec.v0+json": {
       "id": "1589"
      }
     },
     "output_type": "display_data"
    }
   ],
   "source": [
    "p = hl.plot.scatter(per_gene.pca_10_sum[0],\n",
    "                    per_gene.pca_10_sum[1],\n",
    "                    label=per_gene.group,\n",
    "                    title='PCA - sum of variants with CADD over 10', xlabel='PC1', ylabel='PC2')\n",
    "show(p)"
   ]
  },
  {
   "cell_type": "code",
   "execution_count": 85,
   "id": "f24a3976-cc23-4013-befb-2b97e5b00610",
   "metadata": {},
   "outputs": [
    {
     "name": "stderr",
     "output_type": "stream",
     "text": [
      "/net/pr2/projects/plgrid/plggneuromol/imdik-zekanowski-sportwgs/venv-hail-0.2.109/lib/python3.10/site-packages/bokeh/models/sources.py:235: FutureWarning: iteritems is deprecated and will be removed in a future version. Use .items instead.\n",
      "  tmp_data = {c: v.values for c, v in _df.iteritems()}\n"
     ]
    },
    {
     "data": {
      "text/html": [
       "\n",
       "\n",
       "\n",
       "\n",
       "\n",
       "\n",
       "  <div class=\"bk-root\" id=\"9aee8409-a68f-4562-85c6-0363e5a59837\" data-root-id=\"1760\"></div>\n"
      ]
     },
     "metadata": {},
     "output_type": "display_data"
    },
    {
     "data": {
      "application/javascript": [
       "(function(root) {\n",
       "  function embed_document(root) {\n",
       "    \n",
       "  var docs_json = {\"213fc75f-12c0-42b3-bd84-91793088818e\":{\"roots\":{\"references\":[{\"attributes\":{\"below\":[{\"id\":\"1771\",\"type\":\"LinearAxis\"}],\"center\":[{\"id\":\"1775\",\"type\":\"Grid\"},{\"id\":\"1780\",\"type\":\"Grid\"}],\"left\":[{\"id\":\"1776\",\"type\":\"LinearAxis\"},{\"id\":\"1819\",\"type\":\"Legend\"},{\"id\":\"1820\",\"type\":\"ColorBar\"}],\"plot_height\":800,\"plot_width\":800,\"renderers\":[{\"id\":\"1803\",\"type\":\"GlyphRenderer\"},{\"id\":\"1809\",\"type\":\"GlyphRenderer\"},{\"id\":\"1815\",\"type\":\"GlyphRenderer\"}],\"title\":{\"id\":\"1761\",\"type\":\"Title\"},\"toolbar\":{\"id\":\"1787\",\"type\":\"Toolbar\"},\"x_range\":{\"id\":\"1763\",\"type\":\"DataRange1d\"},\"x_scale\":{\"id\":\"1767\",\"type\":\"LinearScale\"},\"y_range\":{\"id\":\"1765\",\"type\":\"DataRange1d\"},\"y_scale\":{\"id\":\"1769\",\"type\":\"LinearScale\"}},\"id\":\"1760\",\"subtype\":\"Figure\",\"type\":\"Plot\"},{\"attributes\":{},\"id\":\"1769\",\"type\":\"LinearScale\"},{\"attributes\":{\"data_source\":{\"id\":\"1796\",\"type\":\"ColumnDataSource\"},\"glyph\":{\"id\":\"1813\",\"type\":\"Circle\"},\"hover_glyph\":null,\"muted_glyph\":null,\"nonselection_glyph\":{\"id\":\"1814\",\"type\":\"Circle\"},\"selection_glyph\":null,\"view\":{\"id\":\"1811\",\"type\":\"CDSView\"}},\"id\":\"1815\",\"type\":\"GlyphRenderer\"},{\"attributes\":{\"fill_color\":{\"field\":\"label\",\"transform\":{\"id\":\"1797\",\"type\":\"CategoricalColorMapper\"}},\"line_color\":{\"field\":\"label\",\"transform\":{\"id\":\"1797\",\"type\":\"CategoricalColorMapper\"}},\"x\":{\"field\":\"x\"},\"y\":{\"field\":\"y\"}},\"id\":\"1813\",\"type\":\"Circle\"},{\"attributes\":{\"callback\":null},\"id\":\"1763\",\"type\":\"DataRange1d\"},{\"attributes\":{},\"id\":\"1772\",\"type\":\"BasicTicker\"},{\"attributes\":{\"factors\":[\"control\",\"sport\",\"1kg\"],\"palette\":[\"#1f77b4\",\"#ff7f0e\",\"#2ca02c\",\"#d62728\",\"#9467bd\",\"#8c564b\",\"#e377c2\",\"#7f7f7f\",\"#bcbd22\",\"#17becf\"]},\"id\":\"1797\",\"type\":\"CategoricalColorMapper\"},{\"attributes\":{\"color_mapper\":null,\"formatter\":{\"id\":\"1875\",\"type\":\"BasicTickFormatter\"},\"ticker\":{\"id\":\"1874\",\"type\":\"BasicTicker\"},\"visible\":false},\"id\":\"1820\",\"type\":\"ColorBar\"},{\"attributes\":{},\"id\":\"1786\",\"type\":\"HelpTool\"},{\"attributes\":{\"column_name\":\"label\",\"group\":\"sport\"},\"id\":\"1810\",\"type\":\"GroupFilter\"},{\"attributes\":{\"axis_label\":\"PC2\",\"formatter\":{\"id\":\"1873\",\"type\":\"BasicTickFormatter\"},\"ticker\":{\"id\":\"1777\",\"type\":\"BasicTicker\"}},\"id\":\"1776\",\"type\":\"LinearAxis\"},{\"attributes\":{\"data_source\":{\"id\":\"1796\",\"type\":\"ColumnDataSource\"},\"glyph\":{\"id\":\"1801\",\"type\":\"Circle\"},\"hover_glyph\":null,\"muted_glyph\":null,\"nonselection_glyph\":{\"id\":\"1802\",\"type\":\"Circle\"},\"selection_glyph\":null,\"view\":{\"id\":\"1799\",\"type\":\"CDSView\"}},\"id\":\"1803\",\"type\":\"GlyphRenderer\"},{\"attributes\":{},\"id\":\"1877\",\"type\":\"BasicTickFormatter\"},{\"attributes\":{\"axis_label\":\"PC1\",\"formatter\":{\"id\":\"1877\",\"type\":\"BasicTickFormatter\"},\"ticker\":{\"id\":\"1772\",\"type\":\"BasicTicker\"}},\"id\":\"1771\",\"type\":\"LinearAxis\"},{\"attributes\":{},\"id\":\"1880\",\"type\":\"UnionRenderers\"},{\"attributes\":{\"fill_color\":{\"field\":\"label\",\"transform\":{\"id\":\"1797\",\"type\":\"CategoricalColorMapper\"}},\"line_color\":{\"field\":\"label\",\"transform\":{\"id\":\"1797\",\"type\":\"CategoricalColorMapper\"}},\"x\":{\"field\":\"x\"},\"y\":{\"field\":\"y\"}},\"id\":\"1801\",\"type\":\"Circle\"},{\"attributes\":{},\"id\":\"1781\",\"type\":\"PanTool\"},{\"attributes\":{\"fill_alpha\":{\"value\":0.1},\"fill_color\":{\"value\":\"#1f77b4\"},\"line_alpha\":{\"value\":0.1},\"line_color\":{\"value\":\"#1f77b4\"},\"x\":{\"field\":\"x\"},\"y\":{\"field\":\"y\"}},\"id\":\"1802\",\"type\":\"Circle\"},{\"attributes\":{\"filters\":[{\"id\":\"1798\",\"type\":\"GroupFilter\"}],\"source\":{\"id\":\"1796\",\"type\":\"ColumnDataSource\"}},\"id\":\"1799\",\"type\":\"CDSView\"},{\"attributes\":{\"click_policy\":\"hide\",\"items\":[{\"id\":\"1816\",\"type\":\"LegendItem\"},{\"id\":\"1817\",\"type\":\"LegendItem\"},{\"id\":\"1818\",\"type\":\"LegendItem\"}]},\"id\":\"1819\",\"type\":\"Legend\"},{\"attributes\":{\"fill_color\":{\"field\":\"label\",\"transform\":{\"id\":\"1797\",\"type\":\"CategoricalColorMapper\"}},\"line_color\":{\"field\":\"label\",\"transform\":{\"id\":\"1797\",\"type\":\"CategoricalColorMapper\"}},\"x\":{\"field\":\"x\"},\"y\":{\"field\":\"y\"}},\"id\":\"1807\",\"type\":\"Circle\"},{\"attributes\":{\"text\":\"PCA - sum of variants with CADD over 20\"},\"id\":\"1761\",\"type\":\"Title\"},{\"attributes\":{\"callback\":null,\"tooltips\":[[\"x\",\"@x\"],[\"y\",\"@y\"],[\"label\",\"@label\"]]},\"id\":\"1795\",\"type\":\"HoverTool\"},{\"attributes\":{\"column_name\":\"label\",\"group\":\"control\"},\"id\":\"1804\",\"type\":\"GroupFilter\"},{\"attributes\":{\"ticker\":{\"id\":\"1772\",\"type\":\"BasicTicker\"}},\"id\":\"1775\",\"type\":\"Grid\"},{\"attributes\":{\"data_source\":{\"id\":\"1796\",\"type\":\"ColumnDataSource\"},\"glyph\":{\"id\":\"1807\",\"type\":\"Circle\"},\"hover_glyph\":null,\"muted_glyph\":null,\"nonselection_glyph\":{\"id\":\"1808\",\"type\":\"Circle\"},\"selection_glyph\":null,\"view\":{\"id\":\"1805\",\"type\":\"CDSView\"}},\"id\":\"1809\",\"type\":\"GlyphRenderer\"},{\"attributes\":{},\"id\":\"1874\",\"type\":\"BasicTicker\"},{\"attributes\":{},\"id\":\"1767\",\"type\":\"LinearScale\"},{\"attributes\":{\"label\":{\"value\":\"sport\"},\"renderers\":[{\"id\":\"1815\",\"type\":\"GlyphRenderer\"}]},\"id\":\"1818\",\"type\":\"LegendItem\"},{\"attributes\":{\"dimension\":1,\"ticker\":{\"id\":\"1777\",\"type\":\"BasicTicker\"}},\"id\":\"1780\",\"type\":\"Grid\"},{\"attributes\":{\"callback\":null,\"data\":{\"index\":[0,1,2,3,4,5,6,7,8,9,10,11,12,13,14,15,16,17,18,19,20,21,22,23,24,25,26,27,28,29,30,31,32,33,34,35,36,37,38,39,40,41,42,43,44,45,46,47,48,49,50,51,52,53,54,55,56,57,58,59,60,61,62,63,64,65,66,67,68,69,70,71,72,73,74,75,76,77,78,79,80,81,82,83,84,85,86,87,88,89,90,91,92,93,94,95,96,97,98,99,100,101,102,103,104,105,106,107,108,109,110,111,112,113,114,115,116,117,118,119,120,121,122,123,124,125,126,127,128,129,130,131,132,133,134,135,136,137,138,139,140,141,142,143,144,145,146,147,148,149,150,151,152,153,154,155,156,157,158,159,160,161,162,163,164,165,166,167,168,169,170,171,172,173,174,175,176,177,178,179,180,181,182,183,184,185,186,187,188,189,190,191,192,193,194,195,196,197,198,199,200,201,202,203,204,205,206,207,208,209,210,211,212,213,214,215],\"label\":[\"1kg\",\"sport\",\"1kg\",\"sport\",\"control\",\"1kg\",\"control\",\"sport\",\"sport\",\"sport\",\"sport\",\"sport\",\"1kg\",\"sport\",\"sport\",\"sport\",\"sport\",\"sport\",\"control\",\"1kg\",\"sport\",\"1kg\",\"control\",\"sport\",\"1kg\",\"sport\",\"sport\",\"control\",\"sport\",\"sport\",\"sport\",\"sport\",\"sport\",\"sport\",\"1kg\",\"sport\",\"1kg\",\"1kg\",\"sport\",\"1kg\",\"1kg\",\"control\",\"sport\",\"1kg\",\"1kg\",\"1kg\",\"1kg\",\"sport\",\"sport\",\"sport\",\"1kg\",\"sport\",\"1kg\",\"1kg\",\"1kg\",\"1kg\",\"1kg\",\"1kg\",\"sport\",\"control\",\"control\",\"sport\",\"sport\",\"control\",\"1kg\",\"sport\",\"control\",\"1kg\",\"control\",\"sport\",\"1kg\",\"1kg\",\"control\",\"sport\",\"sport\",\"1kg\",\"1kg\",\"1kg\",\"control\",\"sport\",\"sport\",\"control\",\"sport\",\"sport\",\"sport\",\"sport\",\"1kg\",\"sport\",\"1kg\",\"sport\",\"1kg\",\"sport\",\"sport\",\"1kg\",\"1kg\",\"1kg\",\"sport\",\"1kg\",\"control\",\"sport\",\"1kg\",\"sport\",\"sport\",\"sport\",\"sport\",\"sport\",\"sport\",\"sport\",\"1kg\",\"1kg\",\"sport\",\"1kg\",\"control\",\"sport\",\"sport\",\"control\",\"sport\",\"1kg\",\"1kg\",\"sport\",\"1kg\",\"1kg\",\"sport\",\"control\",\"1kg\",\"sport\",\"1kg\",\"sport\",\"1kg\",\"1kg\",\"1kg\",\"sport\",\"sport\",\"1kg\",\"1kg\",\"1kg\",\"1kg\",\"sport\",\"1kg\",\"control\",\"1kg\",\"sport\",\"sport\",\"1kg\",\"sport\",\"1kg\",\"1kg\",\"1kg\",\"1kg\",\"sport\",\"sport\",\"sport\",\"sport\",\"1kg\",\"sport\",\"1kg\",\"1kg\",\"1kg\",\"sport\",\"sport\",\"1kg\",\"sport\",\"sport\",\"1kg\",\"1kg\",\"sport\",\"sport\",\"sport\",\"1kg\",\"sport\",\"1kg\",\"1kg\",\"1kg\",\"sport\",\"1kg\",\"sport\",\"sport\",\"1kg\",\"1kg\",\"sport\",\"1kg\",\"sport\",\"sport\",\"1kg\",\"sport\",\"control\",\"sport\",\"sport\",\"1kg\",\"sport\",\"1kg\",\"1kg\",\"1kg\",\"sport\",\"sport\",\"control\",\"1kg\",\"1kg\",\"sport\",\"1kg\",\"1kg\",\"1kg\",\"1kg\",\"sport\",\"1kg\",\"1kg\",\"1kg\",\"1kg\",\"sport\",\"1kg\",\"1kg\",\"sport\",\"sport\",\"1kg\",\"1kg\",\"sport\"],\"x\":{\"__ndarray__\":\"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\",\"dtype\":\"float64\",\"shape\":[216]},\"y\":{\"__ndarray__\":\"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\",\"dtype\":\"float64\",\"shape\":[216]}},\"selected\":{\"id\":\"1879\",\"type\":\"Selection\"},\"selection_policy\":{\"id\":\"1880\",\"type\":\"UnionRenderers\"}},\"id\":\"1796\",\"type\":\"ColumnDataSource\"},{\"attributes\":{},\"id\":\"1777\",\"type\":\"BasicTicker\"},{\"attributes\":{\"filters\":[{\"id\":\"1804\",\"type\":\"GroupFilter\"}],\"source\":{\"id\":\"1796\",\"type\":\"ColumnDataSource\"}},\"id\":\"1805\",\"type\":\"CDSView\"},{\"attributes\":{\"fill_alpha\":{\"value\":0.1},\"fill_color\":{\"value\":\"#1f77b4\"},\"line_alpha\":{\"value\":0.1},\"line_color\":{\"value\":\"#1f77b4\"},\"x\":{\"field\":\"x\"},\"y\":{\"field\":\"y\"}},\"id\":\"1814\",\"type\":\"Circle\"},{\"attributes\":{\"callback\":null},\"id\":\"1765\",\"type\":\"DataRange1d\"},{\"attributes\":{\"overlay\":{\"id\":\"1878\",\"type\":\"BoxAnnotation\"}},\"id\":\"1783\",\"type\":\"BoxZoomTool\"},{\"attributes\":{\"label\":{\"value\":\"1kg\"},\"renderers\":[{\"id\":\"1803\",\"type\":\"GlyphRenderer\"}]},\"id\":\"1816\",\"type\":\"LegendItem\"},{\"attributes\":{},\"id\":\"1875\",\"type\":\"BasicTickFormatter\"},{\"attributes\":{},\"id\":\"1782\",\"type\":\"WheelZoomTool\"},{\"attributes\":{\"label\":{\"value\":\"control\"},\"renderers\":[{\"id\":\"1809\",\"type\":\"GlyphRenderer\"}]},\"id\":\"1817\",\"type\":\"LegendItem\"},{\"attributes\":{\"column_name\":\"label\",\"group\":\"1kg\"},\"id\":\"1798\",\"type\":\"GroupFilter\"},{\"attributes\":{},\"id\":\"1784\",\"type\":\"SaveTool\"},{\"attributes\":{},\"id\":\"1785\",\"type\":\"ResetTool\"},{\"attributes\":{},\"id\":\"1873\",\"type\":\"BasicTickFormatter\"},{\"attributes\":{\"filters\":[{\"id\":\"1810\",\"type\":\"GroupFilter\"}],\"source\":{\"id\":\"1796\",\"type\":\"ColumnDataSource\"}},\"id\":\"1811\",\"type\":\"CDSView\"},{\"attributes\":{\"bottom_units\":\"screen\",\"fill_alpha\":{\"value\":0.5},\"fill_color\":{\"value\":\"lightgrey\"},\"left_units\":\"screen\",\"level\":\"overlay\",\"line_alpha\":{\"value\":1.0},\"line_color\":{\"value\":\"black\"},\"line_dash\":[4,4],\"line_width\":{\"value\":2},\"render_mode\":\"css\",\"right_units\":\"screen\",\"top_units\":\"screen\"},\"id\":\"1878\",\"type\":\"BoxAnnotation\"},{\"attributes\":{\"active_drag\":\"auto\",\"active_inspect\":\"auto\",\"active_multi\":null,\"active_scroll\":\"auto\",\"active_tap\":\"auto\",\"tools\":[{\"id\":\"1781\",\"type\":\"PanTool\"},{\"id\":\"1782\",\"type\":\"WheelZoomTool\"},{\"id\":\"1783\",\"type\":\"BoxZoomTool\"},{\"id\":\"1784\",\"type\":\"SaveTool\"},{\"id\":\"1785\",\"type\":\"ResetTool\"},{\"id\":\"1786\",\"type\":\"HelpTool\"},{\"id\":\"1795\",\"type\":\"HoverTool\"}]},\"id\":\"1787\",\"type\":\"Toolbar\"},{\"attributes\":{},\"id\":\"1879\",\"type\":\"Selection\"},{\"attributes\":{\"fill_alpha\":{\"value\":0.1},\"fill_color\":{\"value\":\"#1f77b4\"},\"line_alpha\":{\"value\":0.1},\"line_color\":{\"value\":\"#1f77b4\"},\"x\":{\"field\":\"x\"},\"y\":{\"field\":\"y\"}},\"id\":\"1808\",\"type\":\"Circle\"}],\"root_ids\":[\"1760\"]},\"title\":\"Bokeh Application\",\"version\":\"1.4.0\"}};\n",
       "  var render_items = [{\"docid\":\"213fc75f-12c0-42b3-bd84-91793088818e\",\"roots\":{\"1760\":\"9aee8409-a68f-4562-85c6-0363e5a59837\"}}];\n",
       "  root.Bokeh.embed.embed_items_notebook(docs_json, render_items);\n",
       "\n",
       "  }\n",
       "  if (root.Bokeh !== undefined) {\n",
       "    embed_document(root);\n",
       "  } else {\n",
       "    var attempts = 0;\n",
       "    var timer = setInterval(function(root) {\n",
       "      if (root.Bokeh !== undefined) {\n",
       "        clearInterval(timer);\n",
       "        embed_document(root);\n",
       "      } else {\n",
       "        attempts++;\n",
       "        if (attempts > 100) {\n",
       "          clearInterval(timer);\n",
       "          console.log(\"Bokeh: ERROR: Unable to run BokehJS code because BokehJS library is missing\");\n",
       "        }\n",
       "      }\n",
       "    }, 10, root)\n",
       "  }\n",
       "})(window);"
      ],
      "application/vnd.bokehjs_exec.v0+json": ""
     },
     "metadata": {
      "application/vnd.bokehjs_exec.v0+json": {
       "id": "1760"
      }
     },
     "output_type": "display_data"
    }
   ],
   "source": [
    "p2 = hl.plot.scatter(per_gene.pca_20_sum[0],\n",
    "                     per_gene.pca_20_sum[1],\n",
    "                     label=per_gene.group,\n",
    "                     title='PCA - sum of variants with CADD over 20',\n",
    "                     xlabel='PC1',\n",
    "                     ylabel='PC2')\n",
    "show(p2)"
   ]
  },
  {
   "cell_type": "code",
   "execution_count": 86,
   "id": "bdc87a16-95d2-405f-97b8-024e263b670d",
   "metadata": {},
   "outputs": [
    {
     "name": "stderr",
     "output_type": "stream",
     "text": [
      "/net/pr2/projects/plgrid/plggneuromol/imdik-zekanowski-sportwgs/venv-hail-0.2.109/lib/python3.10/site-packages/bokeh/models/sources.py:235: FutureWarning: iteritems is deprecated and will be removed in a future version. Use .items instead.\n",
      "  tmp_data = {c: v.values for c, v in _df.iteritems()}\n"
     ]
    },
    {
     "data": {
      "text/html": [
       "\n",
       "\n",
       "\n",
       "\n",
       "\n",
       "\n",
       "  <div class=\"bk-root\" id=\"13cac618-5561-4d0d-ab26-e69908d1fe48\" data-root-id=\"1941\"></div>\n"
      ]
     },
     "metadata": {},
     "output_type": "display_data"
    },
    {
     "data": {
      "application/javascript": [
       "(function(root) {\n",
       "  function embed_document(root) {\n",
       "    \n",
       "  var docs_json = {\"db997c58-c2c7-4e83-8c90-6f70795f5643\":{\"roots\":{\"references\":[{\"attributes\":{\"below\":[{\"id\":\"1952\",\"type\":\"LinearAxis\"}],\"center\":[{\"id\":\"1956\",\"type\":\"Grid\"},{\"id\":\"1961\",\"type\":\"Grid\"}],\"left\":[{\"id\":\"1957\",\"type\":\"LinearAxis\"},{\"id\":\"2000\",\"type\":\"Legend\"},{\"id\":\"2001\",\"type\":\"ColorBar\"}],\"plot_height\":800,\"plot_width\":800,\"renderers\":[{\"id\":\"1984\",\"type\":\"GlyphRenderer\"},{\"id\":\"1990\",\"type\":\"GlyphRenderer\"},{\"id\":\"1996\",\"type\":\"GlyphRenderer\"}],\"title\":{\"id\":\"1942\",\"type\":\"Title\"},\"toolbar\":{\"id\":\"1968\",\"type\":\"Toolbar\"},\"x_range\":{\"id\":\"1944\",\"type\":\"DataRange1d\"},\"x_scale\":{\"id\":\"1948\",\"type\":\"LinearScale\"},\"y_range\":{\"id\":\"1946\",\"type\":\"DataRange1d\"},\"y_scale\":{\"id\":\"1950\",\"type\":\"LinearScale\"}},\"id\":\"1941\",\"subtype\":\"Figure\",\"type\":\"Plot\"},{\"attributes\":{\"factors\":[\"control\",\"sport\",\"1kg\"],\"palette\":[\"#1f77b4\",\"#ff7f0e\",\"#2ca02c\",\"#d62728\",\"#9467bd\",\"#8c564b\",\"#e377c2\",\"#7f7f7f\",\"#bcbd22\",\"#17becf\"]},\"id\":\"1978\",\"type\":\"CategoricalColorMapper\"},{\"attributes\":{\"overlay\":{\"id\":\"2069\",\"type\":\"BoxAnnotation\"}},\"id\":\"1964\",\"type\":\"BoxZoomTool\"},{\"attributes\":{},\"id\":\"2065\",\"type\":\"BasicTicker\"},{\"attributes\":{\"fill_color\":{\"field\":\"label\",\"transform\":{\"id\":\"1978\",\"type\":\"CategoricalColorMapper\"}},\"line_color\":{\"field\":\"label\",\"transform\":{\"id\":\"1978\",\"type\":\"CategoricalColorMapper\"}},\"x\":{\"field\":\"x\"},\"y\":{\"field\":\"y\"}},\"id\":\"1982\",\"type\":\"Circle\"},{\"attributes\":{\"filters\":[{\"id\":\"1985\",\"type\":\"GroupFilter\"}],\"source\":{\"id\":\"1977\",\"type\":\"ColumnDataSource\"}},\"id\":\"1986\",\"type\":\"CDSView\"},{\"attributes\":{\"filters\":[{\"id\":\"1991\",\"type\":\"GroupFilter\"}],\"source\":{\"id\":\"1977\",\"type\":\"ColumnDataSource\"}},\"id\":\"1992\",\"type\":\"CDSView\"},{\"attributes\":{\"axis_label\":\"PC2\",\"formatter\":{\"id\":\"2064\",\"type\":\"BasicTickFormatter\"},\"ticker\":{\"id\":\"1958\",\"type\":\"BasicTicker\"}},\"id\":\"1957\",\"type\":\"LinearAxis\"},{\"attributes\":{\"dimension\":1,\"ticker\":{\"id\":\"1958\",\"type\":\"BasicTicker\"}},\"id\":\"1961\",\"type\":\"Grid\"},{\"attributes\":{\"callback\":null},\"id\":\"1944\",\"type\":\"DataRange1d\"},{\"attributes\":{\"fill_alpha\":{\"value\":0.1},\"fill_color\":{\"value\":\"#1f77b4\"},\"line_alpha\":{\"value\":0.1},\"line_color\":{\"value\":\"#1f77b4\"},\"x\":{\"field\":\"x\"},\"y\":{\"field\":\"y\"}},\"id\":\"1983\",\"type\":\"Circle\"},{\"attributes\":{\"callback\":null,\"data\":{\"index\":[0,1,2,3,4,5,6,7,8,9,10,11,12,13,14,15,16,17,18,19,20,21,22,23,24,25,26,27,28,29,30,31,32,33,34,35,36,37,38,39,40,41,42,43,44,45,46,47,48,49,50,51,52,53,54,55,56,57,58,59,60,61,62,63,64,65,66,67,68,69,70,71,72,73,74,75,76,77,78,79,80,81,82,83,84,85,86,87,88,89,90,91,92,93,94,95,96,97,98,99,100,101,102,103,104,105,106,107,108,109,110,111,112,113,114,115,116,117,118,119,120,121,122,123,124,125,126,127,128,129,130,131,132,133,134,135,136,137,138,139,140,141,142,143,144,145,146,147,148,149,150,151,152,153,154,155,156,157,158,159,160,161,162,163,164,165,166,167,168,169,170,171,172,173,174,175,176,177,178,179,180,181,182,183,184,185,186,187,188,189,190,191,192,193,194,195,196,197,198,199,200,201,202,203,204,205,206,207,208,209,210,211,212,213,214,215],\"label\":[\"sport\",\"sport\",\"control\",\"sport\",\"sport\",\"sport\",\"sport\",\"1kg\",\"sport\",\"sport\",\"sport\",\"1kg\",\"sport\",\"sport\",\"sport\",\"sport\",\"control\",\"1kg\",\"1kg\",\"sport\",\"sport\",\"sport\",\"1kg\",\"sport\",\"sport\",\"sport\",\"1kg\",\"1kg\",\"sport\",\"sport\",\"1kg\",\"1kg\",\"sport\",\"1kg\",\"1kg\",\"sport\",\"sport\",\"sport\",\"sport\",\"1kg\",\"sport\",\"1kg\",\"1kg\",\"sport\",\"control\",\"sport\",\"sport\",\"1kg\",\"sport\",\"sport\",\"sport\",\"sport\",\"1kg\",\"1kg\",\"1kg\",\"control\",\"control\",\"sport\",\"control\",\"1kg\",\"sport\",\"1kg\",\"1kg\",\"sport\",\"control\",\"1kg\",\"sport\",\"control\",\"sport\",\"1kg\",\"1kg\",\"1kg\",\"sport\",\"control\",\"1kg\",\"1kg\",\"1kg\",\"1kg\",\"sport\",\"sport\",\"1kg\",\"sport\",\"sport\",\"1kg\",\"sport\",\"1kg\",\"sport\",\"1kg\",\"sport\",\"1kg\",\"sport\",\"sport\",\"1kg\",\"sport\",\"1kg\",\"1kg\",\"control\",\"1kg\",\"1kg\",\"sport\",\"sport\",\"1kg\",\"1kg\",\"control\",\"sport\",\"sport\",\"sport\",\"1kg\",\"1kg\",\"1kg\",\"sport\",\"1kg\",\"1kg\",\"sport\",\"sport\",\"1kg\",\"1kg\",\"1kg\",\"1kg\",\"1kg\",\"sport\",\"1kg\",\"sport\",\"control\",\"sport\",\"sport\",\"1kg\",\"sport\",\"1kg\",\"control\",\"1kg\",\"1kg\",\"sport\",\"sport\",\"control\",\"1kg\",\"control\",\"sport\",\"control\",\"1kg\",\"sport\",\"1kg\",\"1kg\",\"sport\",\"control\",\"1kg\",\"1kg\",\"1kg\",\"sport\",\"sport\",\"sport\",\"sport\",\"1kg\",\"1kg\",\"sport\",\"control\",\"sport\",\"1kg\",\"1kg\",\"1kg\",\"sport\",\"sport\",\"sport\",\"sport\",\"1kg\",\"sport\",\"1kg\",\"sport\",\"1kg\",\"sport\",\"1kg\",\"1kg\",\"sport\",\"1kg\",\"1kg\",\"sport\",\"1kg\",\"sport\",\"1kg\",\"1kg\",\"1kg\",\"1kg\",\"1kg\",\"sport\",\"1kg\",\"1kg\",\"sport\",\"sport\",\"1kg\",\"1kg\",\"1kg\",\"1kg\",\"sport\",\"1kg\",\"1kg\",\"1kg\",\"sport\",\"sport\",\"sport\",\"sport\",\"sport\",\"1kg\",\"sport\",\"control\",\"sport\",\"control\",\"sport\",\"1kg\",\"sport\",\"sport\",\"1kg\",\"sport\",\"1kg\",\"1kg\",\"sport\",\"1kg\"],\"x\":{\"__ndarray__\":\"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\",\"dtype\":\"float64\",\"shape\":[216]},\"y\":{\"__ndarray__\":\"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\",\"dtype\":\"float64\",\"shape\":[216]}},\"selected\":{\"id\":\"2070\",\"type\":\"Selection\"},\"selection_policy\":{\"id\":\"2071\",\"type\":\"UnionRenderers\"}},\"id\":\"1977\",\"type\":\"ColumnDataSource\"},{\"attributes\":{\"callback\":null,\"tooltips\":[[\"x\",\"@x\"],[\"y\",\"@y\"],[\"label\",\"@label\"]]},\"id\":\"1976\",\"type\":\"HoverTool\"},{\"attributes\":{\"label\":{\"value\":\"1kg\"},\"renderers\":[{\"id\":\"1984\",\"type\":\"GlyphRenderer\"}]},\"id\":\"1997\",\"type\":\"LegendItem\"},{\"attributes\":{\"data_source\":{\"id\":\"1977\",\"type\":\"ColumnDataSource\"},\"glyph\":{\"id\":\"1988\",\"type\":\"Circle\"},\"hover_glyph\":null,\"muted_glyph\":null,\"nonselection_glyph\":{\"id\":\"1989\",\"type\":\"Circle\"},\"selection_glyph\":null,\"view\":{\"id\":\"1986\",\"type\":\"CDSView\"}},\"id\":\"1990\",\"type\":\"GlyphRenderer\"},{\"attributes\":{},\"id\":\"2064\",\"type\":\"BasicTickFormatter\"},{\"attributes\":{\"fill_alpha\":{\"value\":0.1},\"fill_color\":{\"value\":\"#1f77b4\"},\"line_alpha\":{\"value\":0.1},\"line_color\":{\"value\":\"#1f77b4\"},\"x\":{\"field\":\"x\"},\"y\":{\"field\":\"y\"}},\"id\":\"1989\",\"type\":\"Circle\"},{\"attributes\":{\"active_drag\":\"auto\",\"active_inspect\":\"auto\",\"active_multi\":null,\"active_scroll\":\"auto\",\"active_tap\":\"auto\",\"tools\":[{\"id\":\"1962\",\"type\":\"PanTool\"},{\"id\":\"1963\",\"type\":\"WheelZoomTool\"},{\"id\":\"1964\",\"type\":\"BoxZoomTool\"},{\"id\":\"1965\",\"type\":\"SaveTool\"},{\"id\":\"1966\",\"type\":\"ResetTool\"},{\"id\":\"1967\",\"type\":\"HelpTool\"},{\"id\":\"1976\",\"type\":\"HoverTool\"}]},\"id\":\"1968\",\"type\":\"Toolbar\"},{\"attributes\":{\"data_source\":{\"id\":\"1977\",\"type\":\"ColumnDataSource\"},\"glyph\":{\"id\":\"1994\",\"type\":\"Circle\"},\"hover_glyph\":null,\"muted_glyph\":null,\"nonselection_glyph\":{\"id\":\"1995\",\"type\":\"Circle\"},\"selection_glyph\":null,\"view\":{\"id\":\"1992\",\"type\":\"CDSView\"}},\"id\":\"1996\",\"type\":\"GlyphRenderer\"},{\"attributes\":{\"column_name\":\"label\",\"group\":\"sport\"},\"id\":\"1991\",\"type\":\"GroupFilter\"},{\"attributes\":{},\"id\":\"1958\",\"type\":\"BasicTicker\"},{\"attributes\":{\"filters\":[{\"id\":\"1979\",\"type\":\"GroupFilter\"}],\"source\":{\"id\":\"1977\",\"type\":\"ColumnDataSource\"}},\"id\":\"1980\",\"type\":\"CDSView\"},{\"attributes\":{},\"id\":\"2066\",\"type\":\"BasicTickFormatter\"},{\"attributes\":{\"color_mapper\":null,\"formatter\":{\"id\":\"2066\",\"type\":\"BasicTickFormatter\"},\"ticker\":{\"id\":\"2065\",\"type\":\"BasicTicker\"},\"visible\":false},\"id\":\"2001\",\"type\":\"ColorBar\"},{\"attributes\":{},\"id\":\"1950\",\"type\":\"LinearScale\"},{\"attributes\":{\"click_policy\":\"hide\",\"items\":[{\"id\":\"1997\",\"type\":\"LegendItem\"},{\"id\":\"1998\",\"type\":\"LegendItem\"},{\"id\":\"1999\",\"type\":\"LegendItem\"}]},\"id\":\"2000\",\"type\":\"Legend\"},{\"attributes\":{},\"id\":\"1963\",\"type\":\"WheelZoomTool\"},{\"attributes\":{\"bottom_units\":\"screen\",\"fill_alpha\":{\"value\":0.5},\"fill_color\":{\"value\":\"lightgrey\"},\"left_units\":\"screen\",\"level\":\"overlay\",\"line_alpha\":{\"value\":1.0},\"line_color\":{\"value\":\"black\"},\"line_dash\":[4,4],\"line_width\":{\"value\":2},\"render_mode\":\"css\",\"right_units\":\"screen\",\"top_units\":\"screen\"},\"id\":\"2069\",\"type\":\"BoxAnnotation\"},{\"attributes\":{\"data_source\":{\"id\":\"1977\",\"type\":\"ColumnDataSource\"},\"glyph\":{\"id\":\"1982\",\"type\":\"Circle\"},\"hover_glyph\":null,\"muted_glyph\":null,\"nonselection_glyph\":{\"id\":\"1983\",\"type\":\"Circle\"},\"selection_glyph\":null,\"view\":{\"id\":\"1980\",\"type\":\"CDSView\"}},\"id\":\"1984\",\"type\":\"GlyphRenderer\"},{\"attributes\":{\"label\":{\"value\":\"sport\"},\"renderers\":[{\"id\":\"1996\",\"type\":\"GlyphRenderer\"}]},\"id\":\"1999\",\"type\":\"LegendItem\"},{\"attributes\":{},\"id\":\"1967\",\"type\":\"HelpTool\"},{\"attributes\":{},\"id\":\"1953\",\"type\":\"BasicTicker\"},{\"attributes\":{\"ticker\":{\"id\":\"1953\",\"type\":\"BasicTicker\"}},\"id\":\"1956\",\"type\":\"Grid\"},{\"attributes\":{\"fill_alpha\":{\"value\":0.1},\"fill_color\":{\"value\":\"#1f77b4\"},\"line_alpha\":{\"value\":0.1},\"line_color\":{\"value\":\"#1f77b4\"},\"x\":{\"field\":\"x\"},\"y\":{\"field\":\"y\"}},\"id\":\"1995\",\"type\":\"Circle\"},{\"attributes\":{\"callback\":null},\"id\":\"1946\",\"type\":\"DataRange1d\"},{\"attributes\":{},\"id\":\"2068\",\"type\":\"BasicTickFormatter\"},{\"attributes\":{\"column_name\":\"label\",\"group\":\"1kg\"},\"id\":\"1979\",\"type\":\"GroupFilter\"},{\"attributes\":{},\"id\":\"1966\",\"type\":\"ResetTool\"},{\"attributes\":{},\"id\":\"1948\",\"type\":\"LinearScale\"},{\"attributes\":{\"axis_label\":\"PC1\",\"formatter\":{\"id\":\"2068\",\"type\":\"BasicTickFormatter\"},\"ticker\":{\"id\":\"1953\",\"type\":\"BasicTicker\"}},\"id\":\"1952\",\"type\":\"LinearAxis\"},{\"attributes\":{\"text\":\"PCA - sum of variants with CADD over 16\"},\"id\":\"1942\",\"type\":\"Title\"},{\"attributes\":{},\"id\":\"2071\",\"type\":\"UnionRenderers\"},{\"attributes\":{\"column_name\":\"label\",\"group\":\"control\"},\"id\":\"1985\",\"type\":\"GroupFilter\"},{\"attributes\":{},\"id\":\"1965\",\"type\":\"SaveTool\"},{\"attributes\":{},\"id\":\"2070\",\"type\":\"Selection\"},{\"attributes\":{\"label\":{\"value\":\"control\"},\"renderers\":[{\"id\":\"1990\",\"type\":\"GlyphRenderer\"}]},\"id\":\"1998\",\"type\":\"LegendItem\"},{\"attributes\":{},\"id\":\"1962\",\"type\":\"PanTool\"},{\"attributes\":{\"fill_color\":{\"field\":\"label\",\"transform\":{\"id\":\"1978\",\"type\":\"CategoricalColorMapper\"}},\"line_color\":{\"field\":\"label\",\"transform\":{\"id\":\"1978\",\"type\":\"CategoricalColorMapper\"}},\"x\":{\"field\":\"x\"},\"y\":{\"field\":\"y\"}},\"id\":\"1994\",\"type\":\"Circle\"},{\"attributes\":{\"fill_color\":{\"field\":\"label\",\"transform\":{\"id\":\"1978\",\"type\":\"CategoricalColorMapper\"}},\"line_color\":{\"field\":\"label\",\"transform\":{\"id\":\"1978\",\"type\":\"CategoricalColorMapper\"}},\"x\":{\"field\":\"x\"},\"y\":{\"field\":\"y\"}},\"id\":\"1988\",\"type\":\"Circle\"}],\"root_ids\":[\"1941\"]},\"title\":\"Bokeh Application\",\"version\":\"1.4.0\"}};\n",
       "  var render_items = [{\"docid\":\"db997c58-c2c7-4e83-8c90-6f70795f5643\",\"roots\":{\"1941\":\"13cac618-5561-4d0d-ab26-e69908d1fe48\"}}];\n",
       "  root.Bokeh.embed.embed_items_notebook(docs_json, render_items);\n",
       "\n",
       "  }\n",
       "  if (root.Bokeh !== undefined) {\n",
       "    embed_document(root);\n",
       "  } else {\n",
       "    var attempts = 0;\n",
       "    var timer = setInterval(function(root) {\n",
       "      if (root.Bokeh !== undefined) {\n",
       "        clearInterval(timer);\n",
       "        embed_document(root);\n",
       "      } else {\n",
       "        attempts++;\n",
       "        if (attempts > 100) {\n",
       "          clearInterval(timer);\n",
       "          console.log(\"Bokeh: ERROR: Unable to run BokehJS code because BokehJS library is missing\");\n",
       "        }\n",
       "      }\n",
       "    }, 10, root)\n",
       "  }\n",
       "})(window);"
      ],
      "application/vnd.bokehjs_exec.v0+json": ""
     },
     "metadata": {
      "application/vnd.bokehjs_exec.v0+json": {
       "id": "1941"
      }
     },
     "output_type": "display_data"
    }
   ],
   "source": [
    "p3 = hl.plot.scatter(per_gene.pca_16_sum[0],\n",
    "                     per_gene.pca_16_sum[1],\n",
    "                     label=per_gene.group,\n",
    "                     title='PCA - sum of variants with CADD over 16',\n",
    "                     xlabel='PC1',\n",
    "                     ylabel='PC2')\n",
    "show(p3)"
   ]
  },
  {
   "cell_type": "code",
   "execution_count": 89,
   "id": "8358efdf-c32d-459d-9547-e4c6747a9f48",
   "metadata": {
    "tags": []
   },
   "outputs": [
    {
     "name": "stderr",
     "output_type": "stream",
     "text": [
      "/net/pr2/projects/plgrid/plggneuromol/imdik-zekanowski-sportwgs/venv-hail-0.2.109/lib/python3.10/site-packages/bokeh/models/sources.py:235: FutureWarning: iteritems is deprecated and will be removed in a future version. Use .items instead.\n",
      "  tmp_data = {c: v.values for c, v in _df.iteritems()}\n"
     ]
    },
    {
     "data": {
      "text/html": [
       "\n",
       "\n",
       "\n",
       "\n",
       "\n",
       "\n",
       "  <div class=\"bk-root\" id=\"64c4d427-8ffb-41ce-ba7a-3eaff5532ae0\" data-root-id=\"2374\"></div>\n"
      ]
     },
     "metadata": {},
     "output_type": "display_data"
    },
    {
     "data": {
      "application/javascript": [
       "(function(root) {\n",
       "  function embed_document(root) {\n",
       "    \n",
       "  var docs_json = {\"a0465ef2-28ab-4ae6-9350-f46ba85323dc\":{\"roots\":{\"references\":[{\"attributes\":{\"below\":[{\"id\":\"2385\",\"type\":\"LinearAxis\"}],\"center\":[{\"id\":\"2389\",\"type\":\"Grid\"},{\"id\":\"2394\",\"type\":\"Grid\"}],\"left\":[{\"id\":\"2390\",\"type\":\"LinearAxis\"},{\"id\":\"2433\",\"type\":\"Legend\"},{\"id\":\"2434\",\"type\":\"ColorBar\"}],\"plot_height\":800,\"plot_width\":800,\"renderers\":[{\"id\":\"2417\",\"type\":\"GlyphRenderer\"},{\"id\":\"2423\",\"type\":\"GlyphRenderer\"},{\"id\":\"2429\",\"type\":\"GlyphRenderer\"}],\"title\":{\"id\":\"2375\",\"type\":\"Title\"},\"toolbar\":{\"id\":\"2401\",\"type\":\"Toolbar\"},\"x_range\":{\"id\":\"2377\",\"type\":\"DataRange1d\"},\"x_scale\":{\"id\":\"2381\",\"type\":\"LinearScale\"},\"y_range\":{\"id\":\"2379\",\"type\":\"DataRange1d\"},\"y_scale\":{\"id\":\"2383\",\"type\":\"LinearScale\"}},\"id\":\"2374\",\"subtype\":\"Figure\",\"type\":\"Plot\"},{\"attributes\":{\"click_policy\":\"hide\",\"items\":[{\"id\":\"2430\",\"type\":\"LegendItem\"},{\"id\":\"2431\",\"type\":\"LegendItem\"},{\"id\":\"2432\",\"type\":\"LegendItem\"}]},\"id\":\"2433\",\"type\":\"Legend\"},{\"attributes\":{\"data_source\":{\"id\":\"2410\",\"type\":\"ColumnDataSource\"},\"glyph\":{\"id\":\"2427\",\"type\":\"Circle\"},\"hover_glyph\":null,\"muted_glyph\":null,\"nonselection_glyph\":{\"id\":\"2428\",\"type\":\"Circle\"},\"selection_glyph\":null,\"view\":{\"id\":\"2425\",\"type\":\"CDSView\"}},\"id\":\"2429\",\"type\":\"GlyphRenderer\"},{\"attributes\":{\"filters\":[{\"id\":\"2412\",\"type\":\"GroupFilter\"}],\"source\":{\"id\":\"2410\",\"type\":\"ColumnDataSource\"}},\"id\":\"2413\",\"type\":\"CDSView\"},{\"attributes\":{\"fill_color\":{\"field\":\"label\",\"transform\":{\"id\":\"2411\",\"type\":\"CategoricalColorMapper\"}},\"line_color\":{\"field\":\"label\",\"transform\":{\"id\":\"2411\",\"type\":\"CategoricalColorMapper\"}},\"x\":{\"field\":\"x\"},\"y\":{\"field\":\"y\"}},\"id\":\"2421\",\"type\":\"Circle\"},{\"attributes\":{\"filters\":[{\"id\":\"2418\",\"type\":\"GroupFilter\"}],\"source\":{\"id\":\"2410\",\"type\":\"ColumnDataSource\"}},\"id\":\"2419\",\"type\":\"CDSView\"},{\"attributes\":{\"overlay\":{\"id\":\"2512\",\"type\":\"BoxAnnotation\"}},\"id\":\"2397\",\"type\":\"BoxZoomTool\"},{\"attributes\":{},\"id\":\"2507\",\"type\":\"BasicTickFormatter\"},{\"attributes\":{\"fill_color\":{\"field\":\"label\",\"transform\":{\"id\":\"2411\",\"type\":\"CategoricalColorMapper\"}},\"line_color\":{\"field\":\"label\",\"transform\":{\"id\":\"2411\",\"type\":\"CategoricalColorMapper\"}},\"x\":{\"field\":\"x\"},\"y\":{\"field\":\"y\"}},\"id\":\"2427\",\"type\":\"Circle\"},{\"attributes\":{\"filters\":[{\"id\":\"2424\",\"type\":\"GroupFilter\"}],\"source\":{\"id\":\"2410\",\"type\":\"ColumnDataSource\"}},\"id\":\"2425\",\"type\":\"CDSView\"},{\"attributes\":{\"label\":{\"value\":\"sport\"},\"renderers\":[{\"id\":\"2429\",\"type\":\"GlyphRenderer\"}]},\"id\":\"2432\",\"type\":\"LegendItem\"},{\"attributes\":{},\"id\":\"2511\",\"type\":\"BasicTickFormatter\"},{\"attributes\":{\"ticker\":{\"id\":\"2386\",\"type\":\"BasicTicker\"}},\"id\":\"2389\",\"type\":\"Grid\"},{\"attributes\":{},\"id\":\"2396\",\"type\":\"WheelZoomTool\"},{\"attributes\":{\"fill_alpha\":{\"value\":0.1},\"fill_color\":{\"value\":\"#1f77b4\"},\"line_alpha\":{\"value\":0.1},\"line_color\":{\"value\":\"#1f77b4\"},\"x\":{\"field\":\"x\"},\"y\":{\"field\":\"y\"}},\"id\":\"2422\",\"type\":\"Circle\"},{\"attributes\":{\"label\":{\"value\":\"control\"},\"renderers\":[{\"id\":\"2423\",\"type\":\"GlyphRenderer\"}]},\"id\":\"2431\",\"type\":\"LegendItem\"},{\"attributes\":{\"callback\":null},\"id\":\"2377\",\"type\":\"DataRange1d\"},{\"attributes\":{\"fill_alpha\":{\"value\":0.1},\"fill_color\":{\"value\":\"#1f77b4\"},\"line_alpha\":{\"value\":0.1},\"line_color\":{\"value\":\"#1f77b4\"},\"x\":{\"field\":\"x\"},\"y\":{\"field\":\"y\"}},\"id\":\"2428\",\"type\":\"Circle\"},{\"attributes\":{\"active_drag\":\"auto\",\"active_inspect\":\"auto\",\"active_multi\":null,\"active_scroll\":\"auto\",\"active_tap\":\"auto\",\"tools\":[{\"id\":\"2395\",\"type\":\"PanTool\"},{\"id\":\"2396\",\"type\":\"WheelZoomTool\"},{\"id\":\"2397\",\"type\":\"BoxZoomTool\"},{\"id\":\"2398\",\"type\":\"SaveTool\"},{\"id\":\"2399\",\"type\":\"ResetTool\"},{\"id\":\"2400\",\"type\":\"HelpTool\"},{\"id\":\"2409\",\"type\":\"HoverTool\"}]},\"id\":\"2401\",\"type\":\"Toolbar\"},{\"attributes\":{\"callback\":null,\"data\":{\"index\":[0,1,2,3,4,5,6,7,8,9,10,11,12,13,14,15,16,17,18,19,20,21,22,23,24,25,26,27,28,29,30,31,32,33,34,35,36,37,38,39,40,41,42,43,44,45,46,47,48,49,50,51,52,53,54,55,56,57,58,59,60,61,62,63,64,65,66,67,68,69,70,71,72,73,74,75,76,77,78,79,80,81,82,83,84,85,86,87,88,89,90,91,92,93,94,95,96,97,98,99,100,101,102,103,104,105,106,107,108,109,110,111,112,113,114,115,116,117,118,119,120,121,122,123,124,125,126,127,128,129,130,131,132,133,134,135,136,137,138,139,140,141,142,143,144,145,146,147,148,149,150,151,152,153,154,155,156,157,158,159,160,161,162,163,164,165,166,167,168,169,170,171,172,173,174,175,176,177,178,179,180,181,182,183,184,185,186,187,188,189,190,191,192,193,194,195,196,197,198,199,200,201,202,203,204,205,206,207,208,209,210,211,212],\"label\":[\"1kg\",\"sport\",\"sport\",\"sport\",\"sport\",\"sport\",\"sport\",\"sport\",\"1kg\",\"control\",\"sport\",\"1kg\",\"1kg\",\"1kg\",\"1kg\",\"1kg\",\"1kg\",\"sport\",\"sport\",\"sport\",\"1kg\",\"sport\",\"control\",\"sport\",\"sport\",\"sport\",\"1kg\",\"sport\",\"sport\",\"sport\",\"sport\",\"sport\",\"control\",\"control\",\"sport\",\"sport\",\"sport\",\"sport\",\"control\",\"control\",\"control\",\"control\",\"sport\",\"sport\",\"sport\",\"1kg\",\"1kg\",\"1kg\",\"1kg\",\"1kg\",\"sport\",\"sport\",\"control\",\"sport\",\"sport\",\"1kg\",\"sport\",\"sport\",\"sport\",\"sport\",\"sport\",\"sport\",\"sport\",\"sport\",\"sport\",\"1kg\",\"control\",\"1kg\",\"1kg\",\"1kg\",\"sport\",\"sport\",\"sport\",\"sport\",\"sport\",\"sport\",\"sport\",\"1kg\",\"sport\",\"control\",\"1kg\",\"control\",\"sport\",\"1kg\",\"1kg\",\"1kg\",\"1kg\",\"control\",\"1kg\",\"1kg\",\"1kg\",\"1kg\",\"1kg\",\"1kg\",\"1kg\",\"1kg\",\"1kg\",\"1kg\",\"1kg\",\"1kg\",\"1kg\",\"1kg\",\"control\",\"sport\",\"control\",\"sport\",\"sport\",\"sport\",\"sport\",\"sport\",\"sport\",\"sport\",\"sport\",\"sport\",\"sport\",\"sport\",\"sport\",\"control\",\"sport\",\"sport\",\"1kg\",\"control\",\"1kg\",\"1kg\",\"1kg\",\"1kg\",\"1kg\",\"1kg\",\"1kg\",\"1kg\",\"1kg\",\"sport\",\"sport\",\"sport\",\"sport\",\"control\",\"sport\",\"sport\",\"sport\",\"sport\",\"sport\",\"sport\",\"1kg\",\"sport\",\"sport\",\"sport\",\"sport\",\"1kg\",\"1kg\",\"sport\",\"sport\",\"sport\",\"1kg\",\"1kg\",\"1kg\",\"1kg\",\"1kg\",\"1kg\",\"1kg\",\"1kg\",\"sport\",\"sport\",\"sport\",\"sport\",\"sport\",\"sport\",\"1kg\",\"sport\",\"sport\",\"sport\",\"sport\",\"1kg\",\"1kg\",\"1kg\",\"1kg\",\"1kg\",\"1kg\",\"1kg\",\"sport\",\"sport\",\"control\",\"1kg\",\"sport\",\"sport\",\"1kg\",\"1kg\",\"1kg\",\"1kg\",\"1kg\",\"1kg\",\"1kg\",\"1kg\",\"1kg\",\"1kg\",\"1kg\",\"sport\",\"control\",\"control\",\"1kg\",\"1kg\",\"1kg\",\"1kg\",\"1kg\",\"sport\",\"1kg\",\"1kg\",\"1kg\",\"1kg\",\"sport\",\"sport\",\"1kg\",\"1kg\",\"1kg\"],\"x\":{\"__ndarray__\":\"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\",\"dtype\":\"float64\",\"shape\":[213]},\"y\":{\"__ndarray__\":\"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\",\"dtype\":\"float64\",\"shape\":[213]}},\"selected\":{\"id\":\"2513\",\"type\":\"Selection\"},\"selection_policy\":{\"id\":\"2514\",\"type\":\"UnionRenderers\"}},\"id\":\"2410\",\"type\":\"ColumnDataSource\"},{\"attributes\":{\"callback\":null},\"id\":\"2379\",\"type\":\"DataRange1d\"},{\"attributes\":{},\"id\":\"2383\",\"type\":\"LinearScale\"},{\"attributes\":{\"callback\":null,\"tooltips\":[[\"x\",\"@x\"],[\"y\",\"@y\"],[\"label\",\"@label\"]]},\"id\":\"2409\",\"type\":\"HoverTool\"},{\"attributes\":{\"data_source\":{\"id\":\"2410\",\"type\":\"ColumnDataSource\"},\"glyph\":{\"id\":\"2415\",\"type\":\"Circle\"},\"hover_glyph\":null,\"muted_glyph\":null,\"nonselection_glyph\":{\"id\":\"2416\",\"type\":\"Circle\"},\"selection_glyph\":null,\"view\":{\"id\":\"2413\",\"type\":\"CDSView\"}},\"id\":\"2417\",\"type\":\"GlyphRenderer\"},{\"attributes\":{\"bottom_units\":\"screen\",\"fill_alpha\":{\"value\":0.5},\"fill_color\":{\"value\":\"lightgrey\"},\"left_units\":\"screen\",\"level\":\"overlay\",\"line_alpha\":{\"value\":1.0},\"line_color\":{\"value\":\"black\"},\"line_dash\":[4,4],\"line_width\":{\"value\":2},\"render_mode\":\"css\",\"right_units\":\"screen\",\"top_units\":\"screen\"},\"id\":\"2512\",\"type\":\"BoxAnnotation\"},{\"attributes\":{\"text\":\"PCA - any variant with CADD over 16\"},\"id\":\"2375\",\"type\":\"Title\"},{\"attributes\":{\"dimension\":1,\"ticker\":{\"id\":\"2391\",\"type\":\"BasicTicker\"}},\"id\":\"2394\",\"type\":\"Grid\"},{\"attributes\":{},\"id\":\"2381\",\"type\":\"LinearScale\"},{\"attributes\":{},\"id\":\"2509\",\"type\":\"BasicTickFormatter\"},{\"attributes\":{\"column_name\":\"label\",\"group\":\"control\"},\"id\":\"2418\",\"type\":\"GroupFilter\"},{\"attributes\":{},\"id\":\"2386\",\"type\":\"BasicTicker\"},{\"attributes\":{\"fill_alpha\":{\"value\":0.1},\"fill_color\":{\"value\":\"#1f77b4\"},\"line_alpha\":{\"value\":0.1},\"line_color\":{\"value\":\"#1f77b4\"},\"x\":{\"field\":\"x\"},\"y\":{\"field\":\"y\"}},\"id\":\"2416\",\"type\":\"Circle\"},{\"attributes\":{},\"id\":\"2514\",\"type\":\"UnionRenderers\"},{\"attributes\":{\"column_name\":\"label\",\"group\":\"1kg\"},\"id\":\"2412\",\"type\":\"GroupFilter\"},{\"attributes\":{},\"id\":\"2395\",\"type\":\"PanTool\"},{\"attributes\":{},\"id\":\"2513\",\"type\":\"Selection\"},{\"attributes\":{},\"id\":\"2391\",\"type\":\"BasicTicker\"},{\"attributes\":{},\"id\":\"2400\",\"type\":\"HelpTool\"},{\"attributes\":{\"data_source\":{\"id\":\"2410\",\"type\":\"ColumnDataSource\"},\"glyph\":{\"id\":\"2421\",\"type\":\"Circle\"},\"hover_glyph\":null,\"muted_glyph\":null,\"nonselection_glyph\":{\"id\":\"2422\",\"type\":\"Circle\"},\"selection_glyph\":null,\"view\":{\"id\":\"2419\",\"type\":\"CDSView\"}},\"id\":\"2423\",\"type\":\"GlyphRenderer\"},{\"attributes\":{\"factors\":[\"control\",\"sport\",\"1kg\"],\"palette\":[\"#1f77b4\",\"#ff7f0e\",\"#2ca02c\",\"#d62728\",\"#9467bd\",\"#8c564b\",\"#e377c2\",\"#7f7f7f\",\"#bcbd22\",\"#17becf\"]},\"id\":\"2411\",\"type\":\"CategoricalColorMapper\"},{\"attributes\":{},\"id\":\"2398\",\"type\":\"SaveTool\"},{\"attributes\":{\"fill_color\":{\"field\":\"label\",\"transform\":{\"id\":\"2411\",\"type\":\"CategoricalColorMapper\"}},\"line_color\":{\"field\":\"label\",\"transform\":{\"id\":\"2411\",\"type\":\"CategoricalColorMapper\"}},\"x\":{\"field\":\"x\"},\"y\":{\"field\":\"y\"}},\"id\":\"2415\",\"type\":\"Circle\"},{\"attributes\":{\"label\":{\"value\":\"1kg\"},\"renderers\":[{\"id\":\"2417\",\"type\":\"GlyphRenderer\"}]},\"id\":\"2430\",\"type\":\"LegendItem\"},{\"attributes\":{\"axis_label\":\"PC1\",\"formatter\":{\"id\":\"2511\",\"type\":\"BasicTickFormatter\"},\"ticker\":{\"id\":\"2386\",\"type\":\"BasicTicker\"}},\"id\":\"2385\",\"type\":\"LinearAxis\"},{\"attributes\":{\"column_name\":\"label\",\"group\":\"sport\"},\"id\":\"2424\",\"type\":\"GroupFilter\"},{\"attributes\":{\"color_mapper\":null,\"formatter\":{\"id\":\"2509\",\"type\":\"BasicTickFormatter\"},\"ticker\":{\"id\":\"2508\",\"type\":\"BasicTicker\"},\"visible\":false},\"id\":\"2434\",\"type\":\"ColorBar\"},{\"attributes\":{},\"id\":\"2399\",\"type\":\"ResetTool\"},{\"attributes\":{},\"id\":\"2508\",\"type\":\"BasicTicker\"},{\"attributes\":{\"axis_label\":\"PC2\",\"formatter\":{\"id\":\"2507\",\"type\":\"BasicTickFormatter\"},\"ticker\":{\"id\":\"2391\",\"type\":\"BasicTicker\"}},\"id\":\"2390\",\"type\":\"LinearAxis\"}],\"root_ids\":[\"2374\"]},\"title\":\"Bokeh Application\",\"version\":\"1.4.0\"}};\n",
       "  var render_items = [{\"docid\":\"a0465ef2-28ab-4ae6-9350-f46ba85323dc\",\"roots\":{\"2374\":\"64c4d427-8ffb-41ce-ba7a-3eaff5532ae0\"}}];\n",
       "  root.Bokeh.embed.embed_items_notebook(docs_json, render_items);\n",
       "\n",
       "  }\n",
       "  if (root.Bokeh !== undefined) {\n",
       "    embed_document(root);\n",
       "  } else {\n",
       "    var attempts = 0;\n",
       "    var timer = setInterval(function(root) {\n",
       "      if (root.Bokeh !== undefined) {\n",
       "        clearInterval(timer);\n",
       "        embed_document(root);\n",
       "      } else {\n",
       "        attempts++;\n",
       "        if (attempts > 100) {\n",
       "          clearInterval(timer);\n",
       "          console.log(\"Bokeh: ERROR: Unable to run BokehJS code because BokehJS library is missing\");\n",
       "        }\n",
       "      }\n",
       "    }, 10, root)\n",
       "  }\n",
       "})(window);"
      ],
      "application/vnd.bokehjs_exec.v0+json": ""
     },
     "metadata": {
      "application/vnd.bokehjs_exec.v0+json": {
       "id": "2374"
      }
     },
     "output_type": "display_data"
    }
   ],
   "source": [
    "p4 = hl.plot.scatter(per_gene.pca_16_any[0],\n",
    "                     per_gene.pca_16_any[1],\n",
    "                     label=per_gene.group,\n",
    "                     title='PCA - any variant with CADD over 16',\n",
    "                     xlabel='PC1',\n",
    "                     ylabel='PC2')\n",
    "show(p4) # be carefull with this analysis - dunno whats going on"
   ]
  },
  {
   "cell_type": "code",
   "execution_count": 90,
   "id": "19ba5579-7b59-4b5c-b758-d4a631b1bcbc",
   "metadata": {},
   "outputs": [
    {
     "name": "stderr",
     "output_type": "stream",
     "text": [
      "/net/pr2/projects/plgrid/plggneuromol/imdik-zekanowski-sportwgs/venv-hail-0.2.109/lib/python3.10/site-packages/bokeh/models/sources.py:235: FutureWarning: iteritems is deprecated and will be removed in a future version. Use .items instead.\n",
      "  tmp_data = {c: v.values for c, v in _df.iteritems()}\n"
     ]
    },
    {
     "data": {
      "text/html": [
       "\n",
       "\n",
       "\n",
       "\n",
       "\n",
       "\n",
       "  <div class=\"bk-root\" id=\"b14cc400-23fd-438c-87ed-38fc52c5201d\" data-root-id=\"2575\"></div>\n"
      ]
     },
     "metadata": {},
     "output_type": "display_data"
    },
    {
     "data": {
      "application/javascript": [
       "(function(root) {\n",
       "  function embed_document(root) {\n",
       "    \n",
       "  var docs_json = {\"088e212b-dc4f-4e68-be0a-5505b4e07408\":{\"roots\":{\"references\":[{\"attributes\":{\"below\":[{\"id\":\"2586\",\"type\":\"LinearAxis\"}],\"center\":[{\"id\":\"2590\",\"type\":\"Grid\"},{\"id\":\"2595\",\"type\":\"Grid\"}],\"left\":[{\"id\":\"2591\",\"type\":\"LinearAxis\"},{\"id\":\"2634\",\"type\":\"Legend\"},{\"id\":\"2635\",\"type\":\"ColorBar\"}],\"plot_height\":800,\"plot_width\":800,\"renderers\":[{\"id\":\"2618\",\"type\":\"GlyphRenderer\"},{\"id\":\"2624\",\"type\":\"GlyphRenderer\"},{\"id\":\"2630\",\"type\":\"GlyphRenderer\"}],\"title\":{\"id\":\"2576\",\"type\":\"Title\"},\"toolbar\":{\"id\":\"2602\",\"type\":\"Toolbar\"},\"x_range\":{\"id\":\"2578\",\"type\":\"DataRange1d\"},\"x_scale\":{\"id\":\"2582\",\"type\":\"LinearScale\"},\"y_range\":{\"id\":\"2580\",\"type\":\"DataRange1d\"},\"y_scale\":{\"id\":\"2584\",\"type\":\"LinearScale\"}},\"id\":\"2575\",\"subtype\":\"Figure\",\"type\":\"Plot\"},{\"attributes\":{\"dimension\":1,\"ticker\":{\"id\":\"2592\",\"type\":\"BasicTicker\"}},\"id\":\"2595\",\"type\":\"Grid\"},{\"attributes\":{\"callback\":null},\"id\":\"2580\",\"type\":\"DataRange1d\"},{\"attributes\":{},\"id\":\"2597\",\"type\":\"WheelZoomTool\"},{\"attributes\":{\"bottom_units\":\"screen\",\"fill_alpha\":{\"value\":0.5},\"fill_color\":{\"value\":\"lightgrey\"},\"left_units\":\"screen\",\"level\":\"overlay\",\"line_alpha\":{\"value\":1.0},\"line_color\":{\"value\":\"black\"},\"line_dash\":[4,4],\"line_width\":{\"value\":2},\"render_mode\":\"css\",\"right_units\":\"screen\",\"top_units\":\"screen\"},\"id\":\"2723\",\"type\":\"BoxAnnotation\"},{\"attributes\":{\"overlay\":{\"id\":\"2723\",\"type\":\"BoxAnnotation\"}},\"id\":\"2598\",\"type\":\"BoxZoomTool\"},{\"attributes\":{},\"id\":\"2722\",\"type\":\"BasicTickFormatter\"},{\"attributes\":{\"data_source\":{\"id\":\"2611\",\"type\":\"ColumnDataSource\"},\"glyph\":{\"id\":\"2628\",\"type\":\"Circle\"},\"hover_glyph\":null,\"muted_glyph\":null,\"nonselection_glyph\":{\"id\":\"2629\",\"type\":\"Circle\"},\"selection_glyph\":null,\"view\":{\"id\":\"2626\",\"type\":\"CDSView\"}},\"id\":\"2630\",\"type\":\"GlyphRenderer\"},{\"attributes\":{},\"id\":\"2601\",\"type\":\"HelpTool\"},{\"attributes\":{\"column_name\":\"label\",\"group\":\"sport\"},\"id\":\"2625\",\"type\":\"GroupFilter\"},{\"attributes\":{\"filters\":[{\"id\":\"2619\",\"type\":\"GroupFilter\"}],\"source\":{\"id\":\"2611\",\"type\":\"ColumnDataSource\"}},\"id\":\"2620\",\"type\":\"CDSView\"},{\"attributes\":{\"active_drag\":\"auto\",\"active_inspect\":\"auto\",\"active_multi\":null,\"active_scroll\":\"auto\",\"active_tap\":\"auto\",\"tools\":[{\"id\":\"2596\",\"type\":\"PanTool\"},{\"id\":\"2597\",\"type\":\"WheelZoomTool\"},{\"id\":\"2598\",\"type\":\"BoxZoomTool\"},{\"id\":\"2599\",\"type\":\"SaveTool\"},{\"id\":\"2600\",\"type\":\"ResetTool\"},{\"id\":\"2601\",\"type\":\"HelpTool\"},{\"id\":\"2610\",\"type\":\"HoverTool\"}]},\"id\":\"2602\",\"type\":\"Toolbar\"},{\"attributes\":{},\"id\":\"2720\",\"type\":\"BasicTickFormatter\"},{\"attributes\":{\"filters\":[{\"id\":\"2625\",\"type\":\"GroupFilter\"}],\"source\":{\"id\":\"2611\",\"type\":\"ColumnDataSource\"}},\"id\":\"2626\",\"type\":\"CDSView\"},{\"attributes\":{\"color_mapper\":null,\"formatter\":{\"id\":\"2720\",\"type\":\"BasicTickFormatter\"},\"ticker\":{\"id\":\"2719\",\"type\":\"BasicTicker\"},\"visible\":false},\"id\":\"2635\",\"type\":\"ColorBar\"},{\"attributes\":{\"fill_color\":{\"field\":\"label\",\"transform\":{\"id\":\"2612\",\"type\":\"CategoricalColorMapper\"}},\"line_color\":{\"field\":\"label\",\"transform\":{\"id\":\"2612\",\"type\":\"CategoricalColorMapper\"}},\"x\":{\"field\":\"x\"},\"y\":{\"field\":\"y\"}},\"id\":\"2616\",\"type\":\"Circle\"},{\"attributes\":{\"click_policy\":\"hide\",\"items\":[{\"id\":\"2631\",\"type\":\"LegendItem\"},{\"id\":\"2632\",\"type\":\"LegendItem\"},{\"id\":\"2633\",\"type\":\"LegendItem\"}]},\"id\":\"2634\",\"type\":\"Legend\"},{\"attributes\":{},\"id\":\"2587\",\"type\":\"BasicTicker\"},{\"attributes\":{},\"id\":\"2719\",\"type\":\"BasicTicker\"},{\"attributes\":{},\"id\":\"2600\",\"type\":\"ResetTool\"},{\"attributes\":{},\"id\":\"2592\",\"type\":\"BasicTicker\"},{\"attributes\":{},\"id\":\"2724\",\"type\":\"Selection\"},{\"attributes\":{\"filters\":[{\"id\":\"2613\",\"type\":\"GroupFilter\"}],\"source\":{\"id\":\"2611\",\"type\":\"ColumnDataSource\"}},\"id\":\"2614\",\"type\":\"CDSView\"},{\"attributes\":{\"text\":\"PCA - any variant with CADD over 20\"},\"id\":\"2576\",\"type\":\"Title\"},{\"attributes\":{\"data_source\":{\"id\":\"2611\",\"type\":\"ColumnDataSource\"},\"glyph\":{\"id\":\"2622\",\"type\":\"Circle\"},\"hover_glyph\":null,\"muted_glyph\":null,\"nonselection_glyph\":{\"id\":\"2623\",\"type\":\"Circle\"},\"selection_glyph\":null,\"view\":{\"id\":\"2620\",\"type\":\"CDSView\"}},\"id\":\"2624\",\"type\":\"GlyphRenderer\"},{\"attributes\":{},\"id\":\"2584\",\"type\":\"LinearScale\"},{\"attributes\":{\"ticker\":{\"id\":\"2587\",\"type\":\"BasicTicker\"}},\"id\":\"2590\",\"type\":\"Grid\"},{\"attributes\":{\"fill_alpha\":{\"value\":0.1},\"fill_color\":{\"value\":\"#1f77b4\"},\"line_alpha\":{\"value\":0.1},\"line_color\":{\"value\":\"#1f77b4\"},\"x\":{\"field\":\"x\"},\"y\":{\"field\":\"y\"}},\"id\":\"2617\",\"type\":\"Circle\"},{\"attributes\":{},\"id\":\"2725\",\"type\":\"UnionRenderers\"},{\"attributes\":{\"fill_color\":{\"field\":\"label\",\"transform\":{\"id\":\"2612\",\"type\":\"CategoricalColorMapper\"}},\"line_color\":{\"field\":\"label\",\"transform\":{\"id\":\"2612\",\"type\":\"CategoricalColorMapper\"}},\"x\":{\"field\":\"x\"},\"y\":{\"field\":\"y\"}},\"id\":\"2628\",\"type\":\"Circle\"},{\"attributes\":{\"factors\":[\"control\",\"sport\",\"1kg\"],\"palette\":[\"#1f77b4\",\"#ff7f0e\",\"#2ca02c\",\"#d62728\",\"#9467bd\",\"#8c564b\",\"#e377c2\",\"#7f7f7f\",\"#bcbd22\",\"#17becf\"]},\"id\":\"2612\",\"type\":\"CategoricalColorMapper\"},{\"attributes\":{\"column_name\":\"label\",\"group\":\"1kg\"},\"id\":\"2613\",\"type\":\"GroupFilter\"},{\"attributes\":{},\"id\":\"2596\",\"type\":\"PanTool\"},{\"attributes\":{\"label\":{\"value\":\"1kg\"},\"renderers\":[{\"id\":\"2618\",\"type\":\"GlyphRenderer\"}]},\"id\":\"2631\",\"type\":\"LegendItem\"},{\"attributes\":{\"column_name\":\"label\",\"group\":\"control\"},\"id\":\"2619\",\"type\":\"GroupFilter\"},{\"attributes\":{},\"id\":\"2582\",\"type\":\"LinearScale\"},{\"attributes\":{\"callback\":null},\"id\":\"2578\",\"type\":\"DataRange1d\"},{\"attributes\":{\"callback\":null,\"data\":{\"index\":[0,1,2,3,4,5,6,7,8,9,10,11,12,13,14,15,16,17,18,19,20,21,22,23,24,25,26,27,28,29,30,31,32,33,34,35,36,37,38,39,40,41,42,43,44,45,46,47,48,49,50,51,52,53,54,55,56,57,58,59,60,61,62,63,64,65,66,67,68,69,70,71,72,73,74,75,76,77,78,79,80,81,82,83,84,85,86,87,88,89,90,91,92,93,94,95,96,97,98,99,100,101,102,103,104,105,106,107,108,109,110,111,112,113,114,115,116,117,118,119,120,121,122,123,124,125,126,127,128,129,130,131,132,133,134,135,136,137,138,139,140,141,142,143,144,145,146,147,148,149,150,151,152,153,154,155,156,157,158,159,160,161,162,163,164,165,166,167,168,169,170,171,172,173,174,175,176,177,178,179,180,181,182,183,184,185,186,187,188,189,190,191,192,193,194,195,196,197,198,199,200,201,202,203,204,205,206,207,208,209,210,211,212],\"label\":[\"1kg\",\"1kg\",\"1kg\",\"sport\",\"sport\",\"1kg\",\"1kg\",\"sport\",\"1kg\",\"sport\",\"1kg\",\"1kg\",\"1kg\",\"1kg\",\"1kg\",\"1kg\",\"1kg\",\"sport\",\"sport\",\"1kg\",\"sport\",\"sport\",\"1kg\",\"sport\",\"1kg\",\"1kg\",\"sport\",\"sport\",\"1kg\",\"1kg\",\"1kg\",\"1kg\",\"1kg\",\"1kg\",\"sport\",\"1kg\",\"1kg\",\"sport\",\"sport\",\"sport\",\"sport\",\"1kg\",\"control\",\"1kg\",\"1kg\",\"1kg\",\"1kg\",\"1kg\",\"1kg\",\"1kg\",\"1kg\",\"1kg\",\"sport\",\"1kg\",\"sport\",\"1kg\",\"1kg\",\"sport\",\"sport\",\"control\",\"1kg\",\"sport\",\"1kg\",\"1kg\",\"1kg\",\"1kg\",\"1kg\",\"sport\",\"control\",\"sport\",\"sport\",\"1kg\",\"control\",\"1kg\",\"1kg\",\"1kg\",\"control\",\"1kg\",\"sport\",\"1kg\",\"control\",\"1kg\",\"control\",\"sport\",\"sport\",\"sport\",\"control\",\"sport\",\"1kg\",\"1kg\",\"1kg\",\"sport\",\"sport\",\"sport\",\"sport\",\"1kg\",\"1kg\",\"1kg\",\"1kg\",\"1kg\",\"1kg\",\"1kg\",\"sport\",\"1kg\",\"1kg\",\"1kg\",\"1kg\",\"sport\",\"sport\",\"sport\",\"1kg\",\"1kg\",\"sport\",\"1kg\",\"control\",\"sport\",\"control\",\"1kg\",\"sport\",\"sport\",\"sport\",\"sport\",\"sport\",\"sport\",\"sport\",\"sport\",\"1kg\",\"1kg\",\"sport\",\"control\",\"1kg\",\"1kg\",\"sport\",\"1kg\",\"sport\",\"sport\",\"1kg\",\"sport\",\"sport\",\"control\",\"1kg\",\"sport\",\"1kg\",\"sport\",\"sport\",\"control\",\"sport\",\"sport\",\"1kg\",\"sport\",\"control\",\"sport\",\"1kg\",\"sport\",\"1kg\",\"control\",\"sport\",\"sport\",\"sport\",\"sport\",\"sport\",\"control\",\"1kg\",\"sport\",\"sport\",\"sport\",\"sport\",\"sport\",\"sport\",\"1kg\",\"sport\",\"1kg\",\"sport\",\"sport\",\"sport\",\"sport\",\"sport\",\"sport\",\"control\",\"sport\",\"control\",\"1kg\",\"sport\",\"1kg\",\"1kg\",\"sport\",\"sport\",\"1kg\",\"sport\",\"1kg\",\"1kg\",\"sport\",\"sport\",\"sport\",\"sport\",\"1kg\",\"sport\",\"control\",\"sport\",\"sport\",\"sport\",\"1kg\",\"control\",\"1kg\",\"sport\",\"control\",\"1kg\",\"sport\",\"sport\",\"sport\",\"sport\",\"1kg\",\"1kg\"],\"x\":{\"__ndarray__\":\"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\",\"dtype\":\"float64\",\"shape\":[213]},\"y\":{\"__ndarray__\":\"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\",\"dtype\":\"float64\",\"shape\":[213]}},\"selected\":{\"id\":\"2724\",\"type\":\"Selection\"},\"selection_policy\":{\"id\":\"2725\",\"type\":\"UnionRenderers\"}},\"id\":\"2611\",\"type\":\"ColumnDataSource\"},{\"attributes\":{\"fill_color\":{\"field\":\"label\",\"transform\":{\"id\":\"2612\",\"type\":\"CategoricalColorMapper\"}},\"line_color\":{\"field\":\"label\",\"transform\":{\"id\":\"2612\",\"type\":\"CategoricalColorMapper\"}},\"x\":{\"field\":\"x\"},\"y\":{\"field\":\"y\"}},\"id\":\"2622\",\"type\":\"Circle\"},{\"attributes\":{\"axis_label\":\"PC2\",\"formatter\":{\"id\":\"2718\",\"type\":\"BasicTickFormatter\"},\"ticker\":{\"id\":\"2592\",\"type\":\"BasicTicker\"}},\"id\":\"2591\",\"type\":\"LinearAxis\"},{\"attributes\":{\"label\":{\"value\":\"sport\"},\"renderers\":[{\"id\":\"2630\",\"type\":\"GlyphRenderer\"}]},\"id\":\"2633\",\"type\":\"LegendItem\"},{\"attributes\":{\"callback\":null,\"tooltips\":[[\"x\",\"@x\"],[\"y\",\"@y\"],[\"label\",\"@label\"]]},\"id\":\"2610\",\"type\":\"HoverTool\"},{\"attributes\":{\"fill_alpha\":{\"value\":0.1},\"fill_color\":{\"value\":\"#1f77b4\"},\"line_alpha\":{\"value\":0.1},\"line_color\":{\"value\":\"#1f77b4\"},\"x\":{\"field\":\"x\"},\"y\":{\"field\":\"y\"}},\"id\":\"2629\",\"type\":\"Circle\"},{\"attributes\":{\"axis_label\":\"PC1\",\"formatter\":{\"id\":\"2722\",\"type\":\"BasicTickFormatter\"},\"ticker\":{\"id\":\"2587\",\"type\":\"BasicTicker\"}},\"id\":\"2586\",\"type\":\"LinearAxis\"},{\"attributes\":{\"data_source\":{\"id\":\"2611\",\"type\":\"ColumnDataSource\"},\"glyph\":{\"id\":\"2616\",\"type\":\"Circle\"},\"hover_glyph\":null,\"muted_glyph\":null,\"nonselection_glyph\":{\"id\":\"2617\",\"type\":\"Circle\"},\"selection_glyph\":null,\"view\":{\"id\":\"2614\",\"type\":\"CDSView\"}},\"id\":\"2618\",\"type\":\"GlyphRenderer\"},{\"attributes\":{},\"id\":\"2599\",\"type\":\"SaveTool\"},{\"attributes\":{\"fill_alpha\":{\"value\":0.1},\"fill_color\":{\"value\":\"#1f77b4\"},\"line_alpha\":{\"value\":0.1},\"line_color\":{\"value\":\"#1f77b4\"},\"x\":{\"field\":\"x\"},\"y\":{\"field\":\"y\"}},\"id\":\"2623\",\"type\":\"Circle\"},{\"attributes\":{},\"id\":\"2718\",\"type\":\"BasicTickFormatter\"},{\"attributes\":{\"label\":{\"value\":\"control\"},\"renderers\":[{\"id\":\"2624\",\"type\":\"GlyphRenderer\"}]},\"id\":\"2632\",\"type\":\"LegendItem\"}],\"root_ids\":[\"2575\"]},\"title\":\"Bokeh Application\",\"version\":\"1.4.0\"}};\n",
       "  var render_items = [{\"docid\":\"088e212b-dc4f-4e68-be0a-5505b4e07408\",\"roots\":{\"2575\":\"b14cc400-23fd-438c-87ed-38fc52c5201d\"}}];\n",
       "  root.Bokeh.embed.embed_items_notebook(docs_json, render_items);\n",
       "\n",
       "  }\n",
       "  if (root.Bokeh !== undefined) {\n",
       "    embed_document(root);\n",
       "  } else {\n",
       "    var attempts = 0;\n",
       "    var timer = setInterval(function(root) {\n",
       "      if (root.Bokeh !== undefined) {\n",
       "        clearInterval(timer);\n",
       "        embed_document(root);\n",
       "      } else {\n",
       "        attempts++;\n",
       "        if (attempts > 100) {\n",
       "          clearInterval(timer);\n",
       "          console.log(\"Bokeh: ERROR: Unable to run BokehJS code because BokehJS library is missing\");\n",
       "        }\n",
       "      }\n",
       "    }, 10, root)\n",
       "  }\n",
       "})(window);"
      ],
      "application/vnd.bokehjs_exec.v0+json": ""
     },
     "metadata": {
      "application/vnd.bokehjs_exec.v0+json": {
       "id": "2575"
      }
     },
     "output_type": "display_data"
    }
   ],
   "source": [
    "p5 = hl.plot.scatter(per_gene.pca_20_any[0],\n",
    "                     per_gene.pca_20_any[1],\n",
    "                     label=per_gene.group,\n",
    "                     title='PCA - any variant with CADD over 20',\n",
    "                     xlabel='PC1',\n",
    "                     ylabel='PC2')\n",
    "show(p5) # be carefull with this analysis - dunno whats going on"
   ]
  },
  {
   "cell_type": "code",
   "execution_count": 93,
   "id": "f80af4b6-0d38-4faa-97cc-68d7507595d1",
   "metadata": {
    "tags": []
   },
   "outputs": [
    {
     "name": "stderr",
     "output_type": "stream",
     "text": [
      "/net/pr2/projects/plgrid/plggneuromol/imdik-zekanowski-sportwgs/venv-hail-0.2.109/lib/python3.10/site-packages/bokeh/models/sources.py:235: FutureWarning: iteritems is deprecated and will be removed in a future version. Use .items instead.\n",
      "  tmp_data = {c: v.values for c, v in _df.iteritems()}\n"
     ]
    },
    {
     "data": {
      "text/html": [
       "\n",
       "\n",
       "\n",
       "\n",
       "\n",
       "\n",
       "  <div class=\"bk-root\" id=\"8639e2b9-1b7a-4015-9965-c767ae8fcb90\" data-root-id=\"3007\"></div>\n"
      ]
     },
     "metadata": {},
     "output_type": "display_data"
    },
    {
     "data": {
      "application/javascript": [
       "(function(root) {\n",
       "  function embed_document(root) {\n",
       "    \n",
       "  var docs_json = {\"6cc09cc2-dcb4-4087-b0aa-04d13840af2b\":{\"roots\":{\"references\":[{\"attributes\":{\"below\":[{\"id\":\"3018\",\"type\":\"LinearAxis\"}],\"center\":[{\"id\":\"3022\",\"type\":\"Grid\"},{\"id\":\"3027\",\"type\":\"Grid\"}],\"left\":[{\"id\":\"3023\",\"type\":\"LinearAxis\"},{\"id\":\"3066\",\"type\":\"Legend\"},{\"id\":\"3067\",\"type\":\"ColorBar\"}],\"plot_height\":800,\"plot_width\":800,\"renderers\":[{\"id\":\"3050\",\"type\":\"GlyphRenderer\"},{\"id\":\"3056\",\"type\":\"GlyphRenderer\"},{\"id\":\"3062\",\"type\":\"GlyphRenderer\"}],\"title\":{\"id\":\"3008\",\"type\":\"Title\"},\"toolbar\":{\"id\":\"3034\",\"type\":\"Toolbar\"},\"x_range\":{\"id\":\"3010\",\"type\":\"DataRange1d\"},\"x_scale\":{\"id\":\"3014\",\"type\":\"LinearScale\"},\"y_range\":{\"id\":\"3012\",\"type\":\"DataRange1d\"},\"y_scale\":{\"id\":\"3016\",\"type\":\"LinearScale\"}},\"id\":\"3007\",\"subtype\":\"Figure\",\"type\":\"Plot\"},{\"attributes\":{},\"id\":\"3029\",\"type\":\"WheelZoomTool\"},{\"attributes\":{\"text\":\"PCA - any variant with lof\"},\"id\":\"3008\",\"type\":\"Title\"},{\"attributes\":{},\"id\":\"3176\",\"type\":\"Selection\"},{\"attributes\":{\"data_source\":{\"id\":\"3043\",\"type\":\"ColumnDataSource\"},\"glyph\":{\"id\":\"3048\",\"type\":\"Circle\"},\"hover_glyph\":null,\"muted_glyph\":null,\"nonselection_glyph\":{\"id\":\"3049\",\"type\":\"Circle\"},\"selection_glyph\":null,\"view\":{\"id\":\"3046\",\"type\":\"CDSView\"}},\"id\":\"3050\",\"type\":\"GlyphRenderer\"},{\"attributes\":{\"callback\":null},\"id\":\"3010\",\"type\":\"DataRange1d\"},{\"attributes\":{\"bottom_units\":\"screen\",\"fill_alpha\":{\"value\":0.5},\"fill_color\":{\"value\":\"lightgrey\"},\"left_units\":\"screen\",\"level\":\"overlay\",\"line_alpha\":{\"value\":1.0},\"line_color\":{\"value\":\"black\"},\"line_dash\":[4,4],\"line_width\":{\"value\":2},\"render_mode\":\"css\",\"right_units\":\"screen\",\"top_units\":\"screen\"},\"id\":\"3175\",\"type\":\"BoxAnnotation\"},{\"attributes\":{\"overlay\":{\"id\":\"3175\",\"type\":\"BoxAnnotation\"}},\"id\":\"3030\",\"type\":\"BoxZoomTool\"},{\"attributes\":{\"fill_alpha\":{\"value\":0.1},\"fill_color\":{\"value\":\"#1f77b4\"},\"line_alpha\":{\"value\":0.1},\"line_color\":{\"value\":\"#1f77b4\"},\"x\":{\"field\":\"x\"},\"y\":{\"field\":\"y\"}},\"id\":\"3061\",\"type\":\"Circle\"},{\"attributes\":{\"fill_color\":{\"field\":\"label\",\"transform\":{\"id\":\"3044\",\"type\":\"CategoricalColorMapper\"}},\"line_color\":{\"field\":\"label\",\"transform\":{\"id\":\"3044\",\"type\":\"CategoricalColorMapper\"}},\"x\":{\"field\":\"x\"},\"y\":{\"field\":\"y\"}},\"id\":\"3048\",\"type\":\"Circle\"},{\"attributes\":{},\"id\":\"3032\",\"type\":\"ResetTool\"},{\"attributes\":{\"column_name\":\"label\",\"group\":\"control\"},\"id\":\"3051\",\"type\":\"GroupFilter\"},{\"attributes\":{\"data_source\":{\"id\":\"3043\",\"type\":\"ColumnDataSource\"},\"glyph\":{\"id\":\"3054\",\"type\":\"Circle\"},\"hover_glyph\":null,\"muted_glyph\":null,\"nonselection_glyph\":{\"id\":\"3055\",\"type\":\"Circle\"},\"selection_glyph\":null,\"view\":{\"id\":\"3052\",\"type\":\"CDSView\"}},\"id\":\"3056\",\"type\":\"GlyphRenderer\"},{\"attributes\":{\"callback\":null,\"tooltips\":[[\"x\",\"@x\"],[\"y\",\"@y\"],[\"label\",\"@label\"]]},\"id\":\"3042\",\"type\":\"HoverTool\"},{\"attributes\":{\"factors\":[\"control\",\"sport\",\"1kg\"],\"palette\":[\"#1f77b4\",\"#ff7f0e\",\"#2ca02c\",\"#d62728\",\"#9467bd\",\"#8c564b\",\"#e377c2\",\"#7f7f7f\",\"#bcbd22\",\"#17becf\"]},\"id\":\"3044\",\"type\":\"CategoricalColorMapper\"},{\"attributes\":{},\"id\":\"3171\",\"type\":\"BasicTicker\"},{\"attributes\":{},\"id\":\"3174\",\"type\":\"BasicTickFormatter\"},{\"attributes\":{\"active_drag\":\"auto\",\"active_inspect\":\"auto\",\"active_multi\":null,\"active_scroll\":\"auto\",\"active_tap\":\"auto\",\"tools\":[{\"id\":\"3028\",\"type\":\"PanTool\"},{\"id\":\"3029\",\"type\":\"WheelZoomTool\"},{\"id\":\"3030\",\"type\":\"BoxZoomTool\"},{\"id\":\"3031\",\"type\":\"SaveTool\"},{\"id\":\"3032\",\"type\":\"ResetTool\"},{\"id\":\"3033\",\"type\":\"HelpTool\"},{\"id\":\"3042\",\"type\":\"HoverTool\"}]},\"id\":\"3034\",\"type\":\"Toolbar\"},{\"attributes\":{},\"id\":\"3028\",\"type\":\"PanTool\"},{\"attributes\":{\"fill_color\":{\"field\":\"label\",\"transform\":{\"id\":\"3044\",\"type\":\"CategoricalColorMapper\"}},\"line_color\":{\"field\":\"label\",\"transform\":{\"id\":\"3044\",\"type\":\"CategoricalColorMapper\"}},\"x\":{\"field\":\"x\"},\"y\":{\"field\":\"y\"}},\"id\":\"3060\",\"type\":\"Circle\"},{\"attributes\":{\"filters\":[{\"id\":\"3051\",\"type\":\"GroupFilter\"}],\"source\":{\"id\":\"3043\",\"type\":\"ColumnDataSource\"}},\"id\":\"3052\",\"type\":\"CDSView\"},{\"attributes\":{},\"id\":\"3177\",\"type\":\"UnionRenderers\"},{\"attributes\":{},\"id\":\"3019\",\"type\":\"BasicTicker\"},{\"attributes\":{\"fill_color\":{\"field\":\"label\",\"transform\":{\"id\":\"3044\",\"type\":\"CategoricalColorMapper\"}},\"line_color\":{\"field\":\"label\",\"transform\":{\"id\":\"3044\",\"type\":\"CategoricalColorMapper\"}},\"x\":{\"field\":\"x\"},\"y\":{\"field\":\"y\"}},\"id\":\"3054\",\"type\":\"Circle\"},{\"attributes\":{},\"id\":\"3033\",\"type\":\"HelpTool\"},{\"attributes\":{\"filters\":[{\"id\":\"3057\",\"type\":\"GroupFilter\"}],\"source\":{\"id\":\"3043\",\"type\":\"ColumnDataSource\"}},\"id\":\"3058\",\"type\":\"CDSView\"},{\"attributes\":{\"callback\":null,\"data\":{\"index\":[0,1,2,3,4,5,6,7,8,9,10,11,12,13,14,15,16,17,18,19,20,21,22,23,24,25,26,27,28,29,30,31,32,33,34,35,36,37,38,39,40,41,42,43,44,45,46,47,48,49,50,51,52,53,54,55,56,57,58,59,60,61,62,63,64,65,66,67,68,69,70,71,72,73,74,75,76,77,78,79,80,81,82,83,84,85,86,87,88,89,90,91,92,93,94,95,96,97,98,99,100,101,102,103,104,105,106,107,108,109,110,111,112,113,114,115,116,117,118,119,120,121,122,123,124,125,126,127,128,129,130,131,132,133,134,135,136,137,138,139,140,141,142,143,144,145,146,147,148,149,150,151,152,153,154,155,156,157,158,159,160,161,162,163,164,165,166,167,168,169,170,171,172,173,174,175,176,177,178,179,180,181,182,183,184,185,186,187,188,189,190,191,192,193,194,195,196,197,198,199,200,201,202,203,204,205,206,207,208,209,210,211,212,213,214,215,216,217,218],\"label\":[\"sport\",\"sport\",\"1kg\",\"sport\",\"sport\",\"1kg\",\"sport\",\"sport\",\"control\",\"1kg\",\"1kg\",\"sport\",\"sport\",\"sport\",\"sport\",\"1kg\",\"1kg\",\"sport\",\"sport\",\"1kg\",\"1kg\",\"control\",\"1kg\",\"sport\",\"sport\",\"1kg\",\"1kg\",\"sport\",\"sport\",\"sport\",\"control\",\"1kg\",\"control\",\"sport\",\"sport\",\"1kg\",\"1kg\",\"sport\",\"sport\",\"sport\",\"sport\",\"1kg\",\"1kg\",\"control\",\"sport\",\"control\",\"sport\",\"control\",\"control\",\"1kg\",\"1kg\",\"1kg\",\"sport\",\"1kg\",\"sport\",\"sport\",\"sport\",\"sport\",\"1kg\",\"1kg\",\"sport\",\"sport\",\"sport\",\"1kg\",\"1kg\",\"sport\",\"sport\",\"sport\",\"sport\",\"1kg\",\"1kg\",\"1kg\",\"sport\",\"sport\",\"control\",\"sport\",\"control\",\"control\",\"sport\",\"1kg\",\"1kg\",\"sport\",\"sport\",\"sport\",\"sport\",\"sport\",\"1kg\",\"sport\",\"control\",\"1kg\",\"1kg\",\"1kg\",\"1kg\",\"sport\",\"1kg\",\"1kg\",\"1kg\",\"1kg\",\"control\",\"sport\",\"sport\",\"1kg\",\"sport\",\"1kg\",\"1kg\",\"1kg\",\"1kg\",\"sport\",\"1kg\",\"1kg\",\"control\",\"sport\",\"sport\",\"sport\",\"sport\",\"1kg\",\"1kg\",\"sport\",\"1kg\",\"1kg\",\"sport\",\"sport\",\"sport\",\"1kg\",\"1kg\",\"sport\",\"sport\",\"1kg\",\"1kg\",\"control\",\"sport\",\"sport\",\"1kg\",\"sport\",\"sport\",\"1kg\",\"sport\",\"1kg\",\"1kg\",\"sport\",\"1kg\",\"sport\",\"1kg\",\"sport\",\"1kg\",\"1kg\",\"sport\",\"1kg\",\"1kg\",\"control\",\"1kg\",\"1kg\",\"control\",\"sport\",\"1kg\",\"sport\",\"1kg\",\"control\",\"sport\",\"sport\",\"1kg\",\"control\",\"sport\",\"control\",\"sport\",\"1kg\",\"1kg\",\"1kg\",\"sport\",\"sport\",\"1kg\",\"1kg\",\"sport\",\"sport\",\"1kg\",\"1kg\",\"1kg\",\"1kg\",\"1kg\",\"sport\",\"1kg\",\"1kg\",\"sport\",\"1kg\",\"1kg\",\"1kg\",\"1kg\",\"1kg\",\"sport\",\"1kg\",\"1kg\",\"1kg\",\"sport\",\"1kg\",\"control\",\"sport\",\"sport\",\"sport\",\"sport\",\"sport\",\"sport\",\"1kg\",\"1kg\",\"sport\",\"sport\",\"sport\",\"sport\",\"sport\",\"1kg\",\"sport\",\"sport\",\"1kg\",\"1kg\",\"1kg\",\"sport\",\"1kg\",\"1kg\",\"sport\",\"1kg\"],\"x\":{\"__ndarray__\":\"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\",\"dtype\":\"float64\",\"shape\":[219]},\"y\":{\"__ndarray__\":\"CVIXCRZ00L9SZ1lFajKzv/sNs9dh6Le/3klyZIIC4L/ixQFiJTjTP2VhjjS9Edk/C7LxDRxN1z+2inYf9WeyP6bgwOwxgry/KNJ1eVol1j9+ZVEyym/Lv7BpsCnIP8O/1S5fZArsvT8C8gPb+f2lP4HXpePv4cE/Wg9rWsf+0r8xYowizSLZPxyn4wseUb8/lL/GuAjJkL9DsEMHCuOzv/jHR+MBd7G/WTui7NOXbD/M3BwqPR7bv16rnYf9pqQ/+uxLmmAmvz9u0kZiPxv2v5t4dmNf5sM/nQCDhPnG6r8uV/uYDiDnv0iLvlHZius/+TQ4VLNB6D+6SQtr/i3ov9EGnECS38i/pE/8mMorwD+V44Ahypbfv14Pugagbqc/sp+y/Bue6792b24bhgrFP/g3FjCRgvK/zaxgK5ADtD//YEB9PmvZP+IpnlmHC9A/LYH6NiXK4D+ZtZYW7iDSPwNDB4WpY8K/bzBnSww24D85eYpDQRTOPzUI8JdFpdQ/oITnQPqlwj9o9baURYzOP9CO8f07rtg/BAazfvMj97+orLHxecWRv8cZd9R1Otw/cRxX21+u3j+xYnShyojzP9kAb0M3Je+/iZCNoX38wj+b464Mvguwv5Y0sc9WlvE/KDLob5sGsT92O8g2Lo/TP+tau+3KOfi/eRGSDuCmtr+q8nT8kYDBP2HwQk3sK+E/rriB7y6j0T8ybYpyoxb6vymTGjrpq54/NsRuJkqjwD+C31PCkObWP+bjPUJd2Nk/yZniLh+K0D9TSke8zlzaPzAXYVQnAfM/kCjneBTt1D9WSUKoafHlP9bCiSZDFdC/mm2JxPaeu7+aXvsNUpjdP0ElsJF7Ou6/1uxsjEj98D/4YVFhDYX4vwRLHszPkOw/FK3yISF66r84PbeRsYXpv+leeg4xnui/+bKK75uHsz+wFKwbze/wP8E9H/Ope9o/xNEEzRMp3D+IHhIPuormP1jgjgseNLk/Hzr15zMI9r8YozvEDOLtv+B8bPkBmd4/p8Tnq9oD5j9IeCUvOtnoP0SPARld8/W/GtOE+DAOyj/hwH3niy3lP4mtykkaHe4/T7Donc/t8D/QHbobQ3f3v5P1ShSVqvW/EbAkiMt99T+G3q48ZmzcPy8OjKc3o/Y/FVIe1gvq2j8prUa6OLPuP/Jhuqos8fA/jW38XsUS8b8ofDwTWnnuv0ocN8JSPvG/EtMLclcu6L+v1s8FLDHFP+tkMdUKU+E/CGy9MFul6T828D+OGgrnP4lEz2G51+Q/nss/Bt277T/YlpcLZlDyv4hDroOIF92/Qd9l9UMJxj9hVep+0mjTP1LytZ//sOy/1dgoZZ4Swr+A5FF6UsPwv/yGIUONl+2/I3+YFXDg7j8EM/NNd2Pzv3P0UazhZOq/9eq9dBCv8j/+JRANkM7LP6siBqQhsd8/SJ96FFTVxT/cafj7S0HjvwyDvCbXGd+/5AhHJwBF1b8HKmu10cPpPyXJAD4UrOS/IItIILWz87+nChFgClTlv6Ee7X1TC+0/I7MXyDl18T+NyS6iamrTP7/hwXpiqOI/TuK9VZ8w6D8KtLgEXCrmvzWL1WmU6Me/5E1xeoiBxb9PUwEiZP3ov8DWyg/c8M8/B+LLvy+I5b+3o1gfcsr0v7bm+qFS3/K/UfL35K6T8b8KMxoFZmbXv0jgqjh8mOo/fczIwgOE2z8M2ie9cmjvPxXDFfvhw8m/ffaJSpVYXz/dmfdAGcO3v8gnIe3rcec/OswCSJOU4z/4B0u6aSDlPwDU61/zLOw/EwyZOoQQ9r8IGmO7zg3xv9d2f3pLzdk/ulyGi8w78D+Ksku+T1zBvz3Zokm+KfS/lHCOKftd2L/6pU8K+F3Vv1BzHsUPnu+/rXt0ezdj378Eoa1RpL/lPz3mOTd8I/e/GQKQ3c+97r8dN8VV++3Wv/mkZ5hLXOQ/I0Zvxw038j9mVerXuFS0P9LF5G6movQ/ohvATkg27r/JuGzBenRwPxi/YTgLsPM/6wCwtm7+8D8lyvWxjLTwP/dCZTpyxO6/HV4iXA9w278hogs9bhTiPwMmBFjH4Ou/s1MtLaKRtT8Yr0CXhL3bv5Z61MLdVOA/UvLjzzP88j/t6jVc5/Xkv7Z79TV1GMq/p+pPXyVFyb8ftimbfkjfv34erPYhtta/0HA3DTt71T8xkZph1wDCv2QtD+MLYPY/VZg405Rrzb/V0Vy3PI/Jv0hvzMKQ3em/ffNvsFNTtD9/YjSPgrbXv/rC2K6Y3Mk/6+jjwnyI87/nxcJwLkjQP0xpKnNHTeI/dIkFrEqa8j+QilJbcL3Nv/xAWOPWnPI/\",\"dtype\":\"float64\",\"shape\":[219]}},\"selected\":{\"id\":\"3176\",\"type\":\"Selection\"},\"selection_policy\":{\"id\":\"3177\",\"type\":\"UnionRenderers\"}},\"id\":\"3043\",\"type\":\"ColumnDataSource\"},{\"attributes\":{},\"id\":\"3024\",\"type\":\"BasicTicker\"},{\"attributes\":{},\"id\":\"3014\",\"type\":\"LinearScale\"},{\"attributes\":{\"click_policy\":\"hide\",\"items\":[{\"id\":\"3063\",\"type\":\"LegendItem\"},{\"id\":\"3064\",\"type\":\"LegendItem\"},{\"id\":\"3065\",\"type\":\"LegendItem\"}]},\"id\":\"3066\",\"type\":\"Legend\"},{\"attributes\":{\"label\":{\"value\":\"control\"},\"renderers\":[{\"id\":\"3056\",\"type\":\"GlyphRenderer\"}]},\"id\":\"3064\",\"type\":\"LegendItem\"},{\"attributes\":{\"axis_label\":\"PC2\",\"formatter\":{\"id\":\"3170\",\"type\":\"BasicTickFormatter\"},\"ticker\":{\"id\":\"3024\",\"type\":\"BasicTicker\"}},\"id\":\"3023\",\"type\":\"LinearAxis\"},{\"attributes\":{\"column_name\":\"label\",\"group\":\"1kg\"},\"id\":\"3045\",\"type\":\"GroupFilter\"},{\"attributes\":{\"color_mapper\":null,\"formatter\":{\"id\":\"3172\",\"type\":\"BasicTickFormatter\"},\"ticker\":{\"id\":\"3171\",\"type\":\"BasicTicker\"},\"visible\":false},\"id\":\"3067\",\"type\":\"ColorBar\"},{\"attributes\":{\"label\":{\"value\":\"1kg\"},\"renderers\":[{\"id\":\"3050\",\"type\":\"GlyphRenderer\"}]},\"id\":\"3063\",\"type\":\"LegendItem\"},{\"attributes\":{},\"id\":\"3172\",\"type\":\"BasicTickFormatter\"},{\"attributes\":{\"fill_alpha\":{\"value\":0.1},\"fill_color\":{\"value\":\"#1f77b4\"},\"line_alpha\":{\"value\":0.1},\"line_color\":{\"value\":\"#1f77b4\"},\"x\":{\"field\":\"x\"},\"y\":{\"field\":\"y\"}},\"id\":\"3055\",\"type\":\"Circle\"},{\"attributes\":{\"column_name\":\"label\",\"group\":\"sport\"},\"id\":\"3057\",\"type\":\"GroupFilter\"},{\"attributes\":{\"data_source\":{\"id\":\"3043\",\"type\":\"ColumnDataSource\"},\"glyph\":{\"id\":\"3060\",\"type\":\"Circle\"},\"hover_glyph\":null,\"muted_glyph\":null,\"nonselection_glyph\":{\"id\":\"3061\",\"type\":\"Circle\"},\"selection_glyph\":null,\"view\":{\"id\":\"3058\",\"type\":\"CDSView\"}},\"id\":\"3062\",\"type\":\"GlyphRenderer\"},{\"attributes\":{\"filters\":[{\"id\":\"3045\",\"type\":\"GroupFilter\"}],\"source\":{\"id\":\"3043\",\"type\":\"ColumnDataSource\"}},\"id\":\"3046\",\"type\":\"CDSView\"},{\"attributes\":{},\"id\":\"3170\",\"type\":\"BasicTickFormatter\"},{\"attributes\":{\"ticker\":{\"id\":\"3019\",\"type\":\"BasicTicker\"}},\"id\":\"3022\",\"type\":\"Grid\"},{\"attributes\":{\"callback\":null},\"id\":\"3012\",\"type\":\"DataRange1d\"},{\"attributes\":{\"label\":{\"value\":\"sport\"},\"renderers\":[{\"id\":\"3062\",\"type\":\"GlyphRenderer\"}]},\"id\":\"3065\",\"type\":\"LegendItem\"},{\"attributes\":{},\"id\":\"3031\",\"type\":\"SaveTool\"},{\"attributes\":{\"dimension\":1,\"ticker\":{\"id\":\"3024\",\"type\":\"BasicTicker\"}},\"id\":\"3027\",\"type\":\"Grid\"},{\"attributes\":{},\"id\":\"3016\",\"type\":\"LinearScale\"},{\"attributes\":{\"fill_alpha\":{\"value\":0.1},\"fill_color\":{\"value\":\"#1f77b4\"},\"line_alpha\":{\"value\":0.1},\"line_color\":{\"value\":\"#1f77b4\"},\"x\":{\"field\":\"x\"},\"y\":{\"field\":\"y\"}},\"id\":\"3049\",\"type\":\"Circle\"},{\"attributes\":{\"axis_label\":\"PC1\",\"formatter\":{\"id\":\"3174\",\"type\":\"BasicTickFormatter\"},\"ticker\":{\"id\":\"3019\",\"type\":\"BasicTicker\"}},\"id\":\"3018\",\"type\":\"LinearAxis\"}],\"root_ids\":[\"3007\"]},\"title\":\"Bokeh Application\",\"version\":\"1.4.0\"}};\n",
       "  var render_items = [{\"docid\":\"6cc09cc2-dcb4-4087-b0aa-04d13840af2b\",\"roots\":{\"3007\":\"8639e2b9-1b7a-4015-9965-c767ae8fcb90\"}}];\n",
       "  root.Bokeh.embed.embed_items_notebook(docs_json, render_items);\n",
       "\n",
       "  }\n",
       "  if (root.Bokeh !== undefined) {\n",
       "    embed_document(root);\n",
       "  } else {\n",
       "    var attempts = 0;\n",
       "    var timer = setInterval(function(root) {\n",
       "      if (root.Bokeh !== undefined) {\n",
       "        clearInterval(timer);\n",
       "        embed_document(root);\n",
       "      } else {\n",
       "        attempts++;\n",
       "        if (attempts > 100) {\n",
       "          clearInterval(timer);\n",
       "          console.log(\"Bokeh: ERROR: Unable to run BokehJS code because BokehJS library is missing\");\n",
       "        }\n",
       "      }\n",
       "    }, 10, root)\n",
       "  }\n",
       "})(window);"
      ],
      "application/vnd.bokehjs_exec.v0+json": ""
     },
     "metadata": {
      "application/vnd.bokehjs_exec.v0+json": {
       "id": "3007"
      }
     },
     "output_type": "display_data"
    }
   ],
   "source": [
    "p7 = hl.plot.scatter(per_gene.pca_lof[0],\n",
    "                     per_gene.pca_lof[1],\n",
    "                     label=per_gene.group,\n",
    "                     title='PCA - any variant with lof',\n",
    "                     xlabel='PC1',\n",
    "                     ylabel='PC2')\n",
    "show(p7)"
   ]
  },
  {
   "cell_type": "markdown",
   "id": "42906c44-19be-41c8-9671-af6d64cce10e",
   "metadata": {
    "tags": []
   },
   "source": [
    "### Annotate the per gene table with phenotypes:"
   ]
  },
  {
   "cell_type": "code",
   "execution_count": 14,
   "id": "3527d92a-7899-4547-bd84-82d336543988",
   "metadata": {
    "tags": []
   },
   "outputs": [],
   "source": [
    "burden_opts = ['cadd_above_10_sum', 'cadd_above_20_sum',\n",
    "               'cadd_above_16_sum', 'any_cadd_above_16', \n",
    "               'any_cadd_above_20', 'any_cadd_above_30',\n",
    "               'any_lof']"
   ]
  },
  {
   "cell_type": "code",
   "execution_count": 95,
   "id": "14e02bef-ddb2-4fc9-8b32-5caf420d9770",
   "metadata": {},
   "outputs": [
    {
     "name": "stderr",
     "output_type": "stream",
     "text": [
      "2023-03-06 15:39:23.295 Hail: WARN: cols(): Resulting column table is sorted by 'col_key'.\n",
      "    To preserve matrix table column order, first unkey columns with 'key_cols_by()'\n",
      "2023-03-06 15:39:35.182 Hail: INFO: Coerced sorted dataset====>(999 + 1) / 1000]\n",
      "2023-03-06 15:39:35.674 Hail: INFO: wrote table with 5 rows in 1 partition to /net/ascratch/people/plggosborcz/gb.ht\n"
     ]
    }
   ],
   "source": [
    "gb = genebass.cols()\n",
    "gb = gb.naive_coalesce(1)\n",
    "gb.write('/net/ascratch/people/plggosborcz/gb.ht', overwrite = True)"
   ]
  },
  {
   "cell_type": "code",
   "execution_count": 15,
   "id": "ea0e720e-b925-4bc6-ac95-706379d537d6",
   "metadata": {},
   "outputs": [],
   "source": [
    "gb = hl.read_table('/net/ascratch/people/plggosborcz/gb.ht')"
   ]
  },
  {
   "cell_type": "code",
   "execution_count": 97,
   "id": "d8cba993-1ff8-4811-8ba8-d67902e36e80",
   "metadata": {},
   "outputs": [],
   "source": [
    "per_gene = per_gene.key_rows_by(per_gene.within_gene)"
   ]
  },
  {
   "cell_type": "code",
   "execution_count": 98,
   "id": "1aef3fc7-810d-45e9-8a62-4c689cf2c78f",
   "metadata": {},
   "outputs": [],
   "source": [
    "options = ['below_8','below_7','below_6','below_5']\n",
    "\n",
    "for o in options:\n",
    "    res = gb.explode(gb[o])\n",
    "    res = res.key_by(res[o])\n",
    "    \n",
    "    per_gene = per_gene.annotate_rows(\n",
    "        **{\n",
    "        o: res.index(per_gene.row_key, all_matches= True)['description']\n",
    "        }\n",
    "    )"
   ]
  },
  {
   "cell_type": "code",
   "execution_count": 99,
   "id": "843ff5cc-c57a-42c4-80ec-52944932f3c4",
   "metadata": {},
   "outputs": [],
   "source": [
    "per_gene = per_gene.naive_coalesce(1)"
   ]
  },
  {
   "cell_type": "code",
   "execution_count": 100,
   "id": "45858c77-af11-4c44-a9d8-46dd7e18cb5f",
   "metadata": {
    "tags": []
   },
   "outputs": [
    {
     "name": "stderr",
     "output_type": "stream",
     "text": [
      "2023-03-06 15:42:49.238 Hail: INFO: Ordering unsorted dataset with network shuffle\n",
      "2023-03-06 15:42:49.428 Hail: INFO: Ordering unsorted dataset with network shuffle\n",
      "2023-03-06 15:42:49.616 Hail: INFO: Ordering unsorted dataset with network shuffle\n",
      "2023-03-06 15:42:49.792 Hail: INFO: Ordering unsorted dataset with network shuffle\n",
      "2023-03-06 15:42:57.191 Hail: INFO: wrote matrix table with 20565 rows and 219 columns in 1 partition to /net/ascratch/people/plggosborcz/per-gene-pheno.ht\n"
     ]
    }
   ],
   "source": [
    "per_gene.write('/net/ascratch/people/plggosborcz/per-gene-pheno.ht', overwrite = True)"
   ]
  },
  {
   "cell_type": "code",
   "execution_count": 17,
   "id": "fbf5c58d-be29-487c-8212-5d9b836ef554",
   "metadata": {},
   "outputs": [],
   "source": [
    "mt = hl.read_matrix_table('/net/ascratch/people/plggosborcz/per-gene-pheno.ht')"
   ]
  },
  {
   "cell_type": "markdown",
   "id": "07b43066-6048-4305-9da5-e1433f71cdcc",
   "metadata": {
    "tags": []
   },
   "source": [
    "### Look for differences in burden in any individual gene from the below_5 list"
   ]
  },
  {
   "cell_type": "code",
   "execution_count": 264,
   "id": "2764557e-91fa-4866-8ee4-4ca3e913bd01",
   "metadata": {},
   "outputs": [],
   "source": [
    "mt_single = mt.filter_rows(hl.is_defined(mt.below_5))"
   ]
  },
  {
   "cell_type": "code",
   "execution_count": 265,
   "id": "07453951-2441-4592-bd1f-b35d40192936",
   "metadata": {},
   "outputs": [
    {
     "data": {
      "text/plain": [
       "(95, 219)"
      ]
     },
     "execution_count": 265,
     "metadata": {},
     "output_type": "execute_result"
    }
   ],
   "source": [
    "mt_single.count()"
   ]
  },
  {
   "cell_type": "code",
   "execution_count": 268,
   "id": "b3ea7065-935c-477d-aff3-9674c0bf6491",
   "metadata": {
    "tags": []
   },
   "outputs": [
    {
     "data": {
      "text/html": [
       "<table><thead><tr><td style=\"white-space: nowrap; max-width: 500px; overflow: hidden; text-overflow: ellipsis; \" colspan=\"1\"><div style=\"text-align: left;\"></div></td><td style=\"white-space: nowrap; max-width: 500px; overflow: hidden; text-overflow: ellipsis; \" colspan=\"1\"><div style=\"text-align: left;\"></div></td><td style=\"white-space: nowrap; max-width: 500px; overflow: hidden; text-overflow: ellipsis; \" colspan=\"1\"><div style=\"text-align: left;\"></div></td><td style=\"white-space: nowrap; max-width: 500px; overflow: hidden; text-overflow: ellipsis; \" colspan=\"1\"><div style=\"text-align: left;\"></div></td><td style=\"white-space: nowrap; max-width: 500px; overflow: hidden; text-overflow: ellipsis; \" colspan=\"1\"><div style=\"text-align: left;\"></div></td></tr><tr><td style=\"white-space: nowrap; max-width: 500px; overflow: hidden; text-overflow: ellipsis; \" colspan=\"1\"><div style=\"text-align: left;border-bottom: solid 2px #000; padding-bottom: 5px\">within_gene</div></td><td style=\"white-space: nowrap; max-width: 500px; overflow: hidden; text-overflow: ellipsis; \" colspan=\"1\"><div style=\"text-align: left;border-bottom: solid 2px #000; padding-bottom: 5px\">below_8</div></td><td style=\"white-space: nowrap; max-width: 500px; overflow: hidden; text-overflow: ellipsis; \" colspan=\"1\"><div style=\"text-align: left;border-bottom: solid 2px #000; padding-bottom: 5px\">below_7</div></td><td style=\"white-space: nowrap; max-width: 500px; overflow: hidden; text-overflow: ellipsis; \" colspan=\"1\"><div style=\"text-align: left;border-bottom: solid 2px #000; padding-bottom: 5px\">below_6</div></td><td style=\"white-space: nowrap; max-width: 500px; overflow: hidden; text-overflow: ellipsis; \" colspan=\"1\"><div style=\"text-align: left;border-bottom: solid 2px #000; padding-bottom: 5px\">below_5</div></td></tr><tr><td style=\"white-space: nowrap; max-width: 500px; overflow: hidden; text-overflow: ellipsis; text-align: left;\">str</td><td style=\"white-space: nowrap; max-width: 500px; overflow: hidden; text-overflow: ellipsis; text-align: left;\">array&lt;str&gt;</td><td style=\"white-space: nowrap; max-width: 500px; overflow: hidden; text-overflow: ellipsis; text-align: left;\">array&lt;str&gt;</td><td style=\"white-space: nowrap; max-width: 500px; overflow: hidden; text-overflow: ellipsis; text-align: left;\">array&lt;str&gt;</td><td style=\"white-space: nowrap; max-width: 500px; overflow: hidden; text-overflow: ellipsis; text-align: left;\">array&lt;str&gt;</td></tr>\n",
       "</thead><tbody><tr><td style=\"white-space: nowrap; max-width: 500px; overflow: hidden; text-overflow: ellipsis; \">&quot;ABCG2&quot;</td><td style=\"white-space: nowrap; max-width: 500px; overflow: hidden; text-overflow: ellipsis; \">NA</td><td style=\"white-space: nowrap; max-width: 500px; overflow: hidden; text-overflow: ellipsis; \">[&quot;allopurinol&quot;]</td><td style=\"white-space: nowrap; max-width: 500px; overflow: hidden; text-overflow: ellipsis; \">[&quot;allopurinol&quot;]</td><td style=\"white-space: nowrap; max-width: 500px; overflow: hidden; text-overflow: ellipsis; \">[&quot;allopurinol&quot;]</td></tr>\n",
       "<tr><td style=\"white-space: nowrap; max-width: 500px; overflow: hidden; text-overflow: ellipsis; \">&quot;AC126283.2&quot;</td><td style=\"white-space: nowrap; max-width: 500px; overflow: hidden; text-overflow: ellipsis; \">NA</td><td style=\"white-space: nowrap; max-width: 500px; overflow: hidden; text-overflow: ellipsis; \">NA</td><td style=\"white-space: nowrap; max-width: 500px; overflow: hidden; text-overflow: ellipsis; \">[&quot;Platelet crit&quot;]</td><td style=\"white-space: nowrap; max-width: 500px; overflow: hidden; text-overflow: ellipsis; \">[&quot;Platelet crit&quot;]</td></tr>\n",
       "<tr><td style=\"white-space: nowrap; max-width: 500px; overflow: hidden; text-overflow: ellipsis; \">&quot;ACVRL1&quot;</td><td style=\"white-space: nowrap; max-width: 500px; overflow: hidden; text-overflow: ellipsis; \">NA</td><td style=\"white-space: nowrap; max-width: 500px; overflow: hidden; text-overflow: ellipsis; \">NA</td><td style=\"white-space: nowrap; max-width: 500px; overflow: hidden; text-overflow: ellipsis; \">[&quot;Platelet crit&quot;]</td><td style=\"white-space: nowrap; max-width: 500px; overflow: hidden; text-overflow: ellipsis; \">[&quot;Platelet crit&quot;]</td></tr>\n",
       "<tr><td style=\"white-space: nowrap; max-width: 500px; overflow: hidden; text-overflow: ellipsis; \">&quot;ADAMTS1&quot;</td><td style=\"white-space: nowrap; max-width: 500px; overflow: hidden; text-overflow: ellipsis; \">[&quot;Forced vital capacity (FVC), Best measure&quot;]</td><td style=\"white-space: nowrap; max-width: 500px; overflow: hidden; text-overflow: ellipsis; \">[&quot;Forced vital capacity (FVC), Best measure&quot;]</td><td style=\"white-space: nowrap; max-width: 500px; overflow: hidden; text-overflow: ellipsis; \">[&quot;Forced vital capacity (FVC), Best measure&quot;]</td><td style=\"white-space: nowrap; max-width: 500px; overflow: hidden; text-overflow: ellipsis; \">[&quot;Forced vital capacity (FVC), Best measure&quot;]</td></tr>\n",
       "<tr><td style=\"white-space: nowrap; max-width: 500px; overflow: hidden; text-overflow: ellipsis; \">&quot;ADAMTS6&quot;</td><td style=\"white-space: nowrap; max-width: 500px; overflow: hidden; text-overflow: ellipsis; \">[&quot;Forced vital capacity (FVC), Best measure&quot;]</td><td style=\"white-space: nowrap; max-width: 500px; overflow: hidden; text-overflow: ellipsis; \">[&quot;Forced vital capacity (FVC), Best measure&quot;]</td><td style=\"white-space: nowrap; max-width: 500px; overflow: hidden; text-overflow: ellipsis; \">[&quot;Forced vital capacity (FVC), Best measure&quot;]</td><td style=\"white-space: nowrap; max-width: 500px; overflow: hidden; text-overflow: ellipsis; \">[&quot;Forced vital capacity (FVC), Best measure&quot;]</td></tr>\n",
       "<tr><td style=\"white-space: nowrap; max-width: 500px; overflow: hidden; text-overflow: ellipsis; \">&quot;AHI1&quot;</td><td style=\"white-space: nowrap; max-width: 500px; overflow: hidden; text-overflow: ellipsis; \">NA</td><td style=\"white-space: nowrap; max-width: 500px; overflow: hidden; text-overflow: ellipsis; \">NA</td><td style=\"white-space: nowrap; max-width: 500px; overflow: hidden; text-overflow: ellipsis; \">[&quot;Platelet crit&quot;]</td><td style=\"white-space: nowrap; max-width: 500px; overflow: hidden; text-overflow: ellipsis; \">[&quot;Platelet crit&quot;]</td></tr>\n",
       "<tr><td style=\"white-space: nowrap; max-width: 500px; overflow: hidden; text-overflow: ellipsis; \">&quot;AL451136.1&quot;</td><td style=\"white-space: nowrap; max-width: 500px; overflow: hidden; text-overflow: ellipsis; \">NA</td><td style=\"white-space: nowrap; max-width: 500px; overflow: hidden; text-overflow: ellipsis; \">NA</td><td style=\"white-space: nowrap; max-width: 500px; overflow: hidden; text-overflow: ellipsis; \">NA</td><td style=\"white-space: nowrap; max-width: 500px; overflow: hidden; text-overflow: ellipsis; \">[&quot;Immature reticulocyte fraction&quot;]</td></tr>\n",
       "<tr><td style=\"white-space: nowrap; max-width: 500px; overflow: hidden; text-overflow: ellipsis; \">&quot;ALDH16A1&quot;</td><td style=\"white-space: nowrap; max-width: 500px; overflow: hidden; text-overflow: ellipsis; \">[&quot;allopurinol&quot;]</td><td style=\"white-space: nowrap; max-width: 500px; overflow: hidden; text-overflow: ellipsis; \">[&quot;allopurinol&quot;]</td><td style=\"white-space: nowrap; max-width: 500px; overflow: hidden; text-overflow: ellipsis; \">[&quot;allopurinol&quot;]</td><td style=\"white-space: nowrap; max-width: 500px; overflow: hidden; text-overflow: ellipsis; \">[&quot;allopurinol&quot;]</td></tr>\n",
       "<tr><td style=\"white-space: nowrap; max-width: 500px; overflow: hidden; text-overflow: ellipsis; \">&quot;AMOTL1&quot;</td><td style=\"white-space: nowrap; max-width: 500px; overflow: hidden; text-overflow: ellipsis; \">NA</td><td style=\"white-space: nowrap; max-width: 500px; overflow: hidden; text-overflow: ellipsis; \">NA</td><td style=\"white-space: nowrap; max-width: 500px; overflow: hidden; text-overflow: ellipsis; \">[&quot;Platelet crit&quot;]</td><td style=\"white-space: nowrap; max-width: 500px; overflow: hidden; text-overflow: ellipsis; \">[&quot;Platelet crit&quot;]</td></tr>\n",
       "<tr><td style=\"white-space: nowrap; max-width: 500px; overflow: hidden; text-overflow: ellipsis; \">&quot;AMPD3&quot;</td><td style=\"white-space: nowrap; max-width: 500px; overflow: hidden; text-overflow: ellipsis; \">NA</td><td style=\"white-space: nowrap; max-width: 500px; overflow: hidden; text-overflow: ellipsis; \">[&quot;Immature reticulocyte fraction&quot;]</td><td style=\"white-space: nowrap; max-width: 500px; overflow: hidden; text-overflow: ellipsis; \">[&quot;Immature reticulocyte fraction&quot;]</td><td style=\"white-space: nowrap; max-width: 500px; overflow: hidden; text-overflow: ellipsis; \">[&quot;Immature reticulocyte fraction&quot;]</td></tr>\n",
       "<tr><td style=\"white-space: nowrap; max-width: 500px; overflow: hidden; text-overflow: ellipsis; \">&quot;ARHGAP21&quot;</td><td style=\"white-space: nowrap; max-width: 500px; overflow: hidden; text-overflow: ellipsis; \">NA</td><td style=\"white-space: nowrap; max-width: 500px; overflow: hidden; text-overflow: ellipsis; \">[&quot;Immature reticulocyte fraction&quot;]</td><td style=\"white-space: nowrap; max-width: 500px; overflow: hidden; text-overflow: ellipsis; \">[&quot;Immature reticulocyte fraction&quot;]</td><td style=\"white-space: nowrap; max-width: 500px; overflow: hidden; text-overflow: ellipsis; \">[&quot;Immature reticulocyte fraction&quot;]</td></tr>\n",
       "<tr><td style=\"white-space: nowrap; max-width: 500px; overflow: hidden; text-overflow: ellipsis; \">&quot;ATAD2&quot;</td><td style=\"white-space: nowrap; max-width: 500px; overflow: hidden; text-overflow: ellipsis; \">NA</td><td style=\"white-space: nowrap; max-width: 500px; overflow: hidden; text-overflow: ellipsis; \">[&quot;Forced vital capacity (FVC), Best measure&quot;]</td><td style=\"white-space: nowrap; max-width: 500px; overflow: hidden; text-overflow: ellipsis; \">[&quot;Forced vital capacity (FVC), Best measure&quot;]</td><td style=\"white-space: nowrap; max-width: 500px; overflow: hidden; text-overflow: ellipsis; \">[&quot;Forced vital capacity (FVC), Best measure&quot;]</td></tr>\n",
       "<tr><td style=\"white-space: nowrap; max-width: 500px; overflow: hidden; text-overflow: ellipsis; \">&quot;ATXN2&quot;</td><td style=\"white-space: nowrap; max-width: 500px; overflow: hidden; text-overflow: ellipsis; \">[&quot;Platelet crit&quot;]</td><td style=\"white-space: nowrap; max-width: 500px; overflow: hidden; text-overflow: ellipsis; \">[&quot;Platelet crit&quot;]</td><td style=\"white-space: nowrap; max-width: 500px; overflow: hidden; text-overflow: ellipsis; \">[&quot;Platelet crit&quot;]</td><td style=\"white-space: nowrap; max-width: 500px; overflow: hidden; text-overflow: ellipsis; \">[&quot;Platelet crit&quot;]</td></tr>\n",
       "<tr><td style=\"white-space: nowrap; max-width: 500px; overflow: hidden; text-overflow: ellipsis; \">&quot;BAK1&quot;</td><td style=\"white-space: nowrap; max-width: 500px; overflow: hidden; text-overflow: ellipsis; \">[&quot;Platelet crit&quot;]</td><td style=\"white-space: nowrap; max-width: 500px; overflow: hidden; text-overflow: ellipsis; \">[&quot;Platelet crit&quot;]</td><td style=\"white-space: nowrap; max-width: 500px; overflow: hidden; text-overflow: ellipsis; \">[&quot;Platelet crit&quot;]</td><td style=\"white-space: nowrap; max-width: 500px; overflow: hidden; text-overflow: ellipsis; \">[&quot;Platelet crit&quot;]</td></tr>\n",
       "<tr><td style=\"white-space: nowrap; max-width: 500px; overflow: hidden; text-overflow: ellipsis; \">&quot;BCL2L1&quot;</td><td style=\"white-space: nowrap; max-width: 500px; overflow: hidden; text-overflow: ellipsis; \">[&quot;Platelet crit&quot;]</td><td style=\"white-space: nowrap; max-width: 500px; overflow: hidden; text-overflow: ellipsis; \">[&quot;Platelet crit&quot;]</td><td style=\"white-space: nowrap; max-width: 500px; overflow: hidden; text-overflow: ellipsis; \">[&quot;Platelet crit&quot;]</td><td style=\"white-space: nowrap; max-width: 500px; overflow: hidden; text-overflow: ellipsis; \">[&quot;Platelet crit&quot;]</td></tr>\n",
       "<tr><td style=\"white-space: nowrap; max-width: 500px; overflow: hidden; text-overflow: ellipsis; \">&quot;BSN&quot;</td><td style=\"white-space: nowrap; max-width: 500px; overflow: hidden; text-overflow: ellipsis; \">[&quot;Immature reticulocyte fraction&quot;]</td><td style=\"white-space: nowrap; max-width: 500px; overflow: hidden; text-overflow: ellipsis; \">[&quot;Immature reticulocyte fraction&quot;]</td><td style=\"white-space: nowrap; max-width: 500px; overflow: hidden; text-overflow: ellipsis; \">[&quot;Immature reticulocyte fraction&quot;]</td><td style=\"white-space: nowrap; max-width: 500px; overflow: hidden; text-overflow: ellipsis; \">[&quot;Platelet crit&quot;,&quot;Immature reticulocyte fraction&quot;]</td></tr>\n",
       "<tr><td style=\"white-space: nowrap; max-width: 500px; overflow: hidden; text-overflow: ellipsis; \">&quot;CCDC124&quot;</td><td style=\"white-space: nowrap; max-width: 500px; overflow: hidden; text-overflow: ellipsis; \">NA</td><td style=\"white-space: nowrap; max-width: 500px; overflow: hidden; text-overflow: ellipsis; \">NA</td><td style=\"white-space: nowrap; max-width: 500px; overflow: hidden; text-overflow: ellipsis; \">NA</td><td style=\"white-space: nowrap; max-width: 500px; overflow: hidden; text-overflow: ellipsis; \">[&quot;Immature reticulocyte fraction&quot;]</td></tr>\n",
       "<tr><td style=\"white-space: nowrap; max-width: 500px; overflow: hidden; text-overflow: ellipsis; \">&quot;CCDC88B&quot;</td><td style=\"white-space: nowrap; max-width: 500px; overflow: hidden; text-overflow: ellipsis; \">[&quot;Immature reticulocyte fraction&quot;]</td><td style=\"white-space: nowrap; max-width: 500px; overflow: hidden; text-overflow: ellipsis; \">[&quot;Immature reticulocyte fraction&quot;]</td><td style=\"white-space: nowrap; max-width: 500px; overflow: hidden; text-overflow: ellipsis; \">[&quot;Immature reticulocyte fraction&quot;]</td><td style=\"white-space: nowrap; max-width: 500px; overflow: hidden; text-overflow: ellipsis; \">[&quot;Immature reticulocyte fraction&quot;]</td></tr>\n",
       "<tr><td style=\"white-space: nowrap; max-width: 500px; overflow: hidden; text-overflow: ellipsis; \">&quot;CD36&quot;</td><td style=\"white-space: nowrap; max-width: 500px; overflow: hidden; text-overflow: ellipsis; \">[&quot;Platelet crit&quot;]</td><td style=\"white-space: nowrap; max-width: 500px; overflow: hidden; text-overflow: ellipsis; \">[&quot;Platelet crit&quot;]</td><td style=\"white-space: nowrap; max-width: 500px; overflow: hidden; text-overflow: ellipsis; \">[&quot;Platelet crit&quot;]</td><td style=\"white-space: nowrap; max-width: 500px; overflow: hidden; text-overflow: ellipsis; \">[&quot;Platelet crit&quot;]</td></tr>\n",
       "<tr><td style=\"white-space: nowrap; max-width: 500px; overflow: hidden; text-overflow: ellipsis; \">&quot;CHEK2&quot;</td><td style=\"white-space: nowrap; max-width: 500px; overflow: hidden; text-overflow: ellipsis; \">[&quot;Platelet crit&quot;]</td><td style=\"white-space: nowrap; max-width: 500px; overflow: hidden; text-overflow: ellipsis; \">[&quot;Platelet crit&quot;]</td><td style=\"white-space: nowrap; max-width: 500px; overflow: hidden; text-overflow: ellipsis; \">[&quot;Platelet crit&quot;]</td><td style=\"white-space: nowrap; max-width: 500px; overflow: hidden; text-overflow: ellipsis; \">[&quot;Platelet crit&quot;]</td></tr>\n",
       "<tr><td style=\"white-space: nowrap; max-width: 500px; overflow: hidden; text-overflow: ellipsis; \">&quot;CRISPLD2&quot;</td><td style=\"white-space: nowrap; max-width: 500px; overflow: hidden; text-overflow: ellipsis; \">NA</td><td style=\"white-space: nowrap; max-width: 500px; overflow: hidden; text-overflow: ellipsis; \">NA</td><td style=\"white-space: nowrap; max-width: 500px; overflow: hidden; text-overflow: ellipsis; \">[&quot;Forced vital capacity (FVC), Best measure&quot;]</td><td style=\"white-space: nowrap; max-width: 500px; overflow: hidden; text-overflow: ellipsis; \">[&quot;Forced vital capacity (FVC), Best measure&quot;]</td></tr>\n",
       "<tr><td style=\"white-space: nowrap; max-width: 500px; overflow: hidden; text-overflow: ellipsis; \">&quot;CRTAC1&quot;</td><td style=\"white-space: nowrap; max-width: 500px; overflow: hidden; text-overflow: ellipsis; \">NA</td><td style=\"white-space: nowrap; max-width: 500px; overflow: hidden; text-overflow: ellipsis; \">NA</td><td style=\"white-space: nowrap; max-width: 500px; overflow: hidden; text-overflow: ellipsis; \">NA</td><td style=\"white-space: nowrap; max-width: 500px; overflow: hidden; text-overflow: ellipsis; \">[&quot;Forced vital capacity (FVC), Best measure&quot;]</td></tr>\n",
       "<tr><td style=\"white-space: nowrap; max-width: 500px; overflow: hidden; text-overflow: ellipsis; \">&quot;CUX2&quot;</td><td style=\"white-space: nowrap; max-width: 500px; overflow: hidden; text-overflow: ellipsis; \">NA</td><td style=\"white-space: nowrap; max-width: 500px; overflow: hidden; text-overflow: ellipsis; \">[&quot;Platelet crit&quot;]</td><td style=\"white-space: nowrap; max-width: 500px; overflow: hidden; text-overflow: ellipsis; \">[&quot;Platelet crit&quot;]</td><td style=\"white-space: nowrap; max-width: 500px; overflow: hidden; text-overflow: ellipsis; \">[&quot;Platelet crit&quot;]</td></tr>\n",
       "<tr><td style=\"white-space: nowrap; max-width: 500px; overflow: hidden; text-overflow: ellipsis; \">&quot;DCLRE1B&quot;</td><td style=\"white-space: nowrap; max-width: 500px; overflow: hidden; text-overflow: ellipsis; \">NA</td><td style=\"white-space: nowrap; max-width: 500px; overflow: hidden; text-overflow: ellipsis; \">NA</td><td style=\"white-space: nowrap; max-width: 500px; overflow: hidden; text-overflow: ellipsis; \">NA</td><td style=\"white-space: nowrap; max-width: 500px; overflow: hidden; text-overflow: ellipsis; \">[&quot;Platelet crit&quot;]</td></tr>\n",
       "<tr><td style=\"white-space: nowrap; max-width: 500px; overflow: hidden; text-overflow: ellipsis; \">&quot;DDR2&quot;</td><td style=\"white-space: nowrap; max-width: 500px; overflow: hidden; text-overflow: ellipsis; \">NA</td><td style=\"white-space: nowrap; max-width: 500px; overflow: hidden; text-overflow: ellipsis; \">NA</td><td style=\"white-space: nowrap; max-width: 500px; overflow: hidden; text-overflow: ellipsis; \">NA</td><td style=\"white-space: nowrap; max-width: 500px; overflow: hidden; text-overflow: ellipsis; \">[&quot;Forced vital capacity (FVC), Best measure&quot;]</td></tr>\n",
       "<tr><td style=\"white-space: nowrap; max-width: 500px; overflow: hidden; text-overflow: ellipsis; \">&quot;DOCK6&quot;</td><td style=\"white-space: nowrap; max-width: 500px; overflow: hidden; text-overflow: ellipsis; \">[&quot;Immature reticulocyte fraction&quot;]</td><td style=\"white-space: nowrap; max-width: 500px; overflow: hidden; text-overflow: ellipsis; \">[&quot;Immature reticulocyte fraction&quot;]</td><td style=\"white-space: nowrap; max-width: 500px; overflow: hidden; text-overflow: ellipsis; \">[&quot;Immature reticulocyte fraction&quot;]</td><td style=\"white-space: nowrap; max-width: 500px; overflow: hidden; text-overflow: ellipsis; \">[&quot;Immature reticulocyte fraction&quot;]</td></tr>\n",
       "<tr><td style=\"white-space: nowrap; max-width: 500px; overflow: hidden; text-overflow: ellipsis; \">&quot;EEF1AKMT4&quot;</td><td style=\"white-space: nowrap; max-width: 500px; overflow: hidden; text-overflow: ellipsis; \">NA</td><td style=\"white-space: nowrap; max-width: 500px; overflow: hidden; text-overflow: ellipsis; \">NA</td><td style=\"white-space: nowrap; max-width: 500px; overflow: hidden; text-overflow: ellipsis; \">NA</td><td style=\"white-space: nowrap; max-width: 500px; overflow: hidden; text-overflow: ellipsis; \">[&quot;Platelet crit&quot;]</td></tr>\n",
       "<tr><td style=\"white-space: nowrap; max-width: 500px; overflow: hidden; text-overflow: ellipsis; \">&quot;EEF1AKMT4-ECE2&quot;</td><td style=\"white-space: nowrap; max-width: 500px; overflow: hidden; text-overflow: ellipsis; \">NA</td><td style=\"white-space: nowrap; max-width: 500px; overflow: hidden; text-overflow: ellipsis; \">NA</td><td style=\"white-space: nowrap; max-width: 500px; overflow: hidden; text-overflow: ellipsis; \">[&quot;Platelet crit&quot;]</td><td style=\"white-space: nowrap; max-width: 500px; overflow: hidden; text-overflow: ellipsis; \">[&quot;Platelet crit&quot;]</td></tr>\n",
       "<tr><td style=\"white-space: nowrap; max-width: 500px; overflow: hidden; text-overflow: ellipsis; \">&quot;EIF2AK1&quot;</td><td style=\"white-space: nowrap; max-width: 500px; overflow: hidden; text-overflow: ellipsis; \">NA</td><td style=\"white-space: nowrap; max-width: 500px; overflow: hidden; text-overflow: ellipsis; \">[&quot;Immature reticulocyte fraction&quot;]</td><td style=\"white-space: nowrap; max-width: 500px; overflow: hidden; text-overflow: ellipsis; \">[&quot;Immature reticulocyte fraction&quot;]</td><td style=\"white-space: nowrap; max-width: 500px; overflow: hidden; text-overflow: ellipsis; \">[&quot;Immature reticulocyte fraction&quot;]</td></tr>\n",
       "<tr><td style=\"white-space: nowrap; max-width: 500px; overflow: hidden; text-overflow: ellipsis; \">&quot;ESR1&quot;</td><td style=\"white-space: nowrap; max-width: 500px; overflow: hidden; text-overflow: ellipsis; \">NA</td><td style=\"white-space: nowrap; max-width: 500px; overflow: hidden; text-overflow: ellipsis; \">NA</td><td style=\"white-space: nowrap; max-width: 500px; overflow: hidden; text-overflow: ellipsis; \">[&quot;Forced vital capacity (FVC), Best measure&quot;]</td><td style=\"white-space: nowrap; max-width: 500px; overflow: hidden; text-overflow: ellipsis; \">[&quot;Forced vital capacity (FVC), Best measure&quot;]</td></tr>\n",
       "<tr><td style=\"white-space: nowrap; max-width: 500px; overflow: hidden; text-overflow: ellipsis; \">&quot;FERMT3&quot;</td><td style=\"white-space: nowrap; max-width: 500px; overflow: hidden; text-overflow: ellipsis; \">[&quot;Immature reticulocyte fraction&quot;]</td><td style=\"white-space: nowrap; max-width: 500px; overflow: hidden; text-overflow: ellipsis; \">[&quot;Immature reticulocyte fraction&quot;]</td><td style=\"white-space: nowrap; max-width: 500px; overflow: hidden; text-overflow: ellipsis; \">[&quot;Immature reticulocyte fraction&quot;]</td><td style=\"white-space: nowrap; max-width: 500px; overflow: hidden; text-overflow: ellipsis; \">[&quot;Immature reticulocyte fraction&quot;]</td></tr>\n",
       "<tr><td style=\"white-space: nowrap; max-width: 500px; overflow: hidden; text-overflow: ellipsis; \">&quot;GATA5&quot;</td><td style=\"white-space: nowrap; max-width: 500px; overflow: hidden; text-overflow: ellipsis; \">[&quot;Forced vital capacity (FVC), Best measure&quot;]</td><td style=\"white-space: nowrap; max-width: 500px; overflow: hidden; text-overflow: ellipsis; \">[&quot;Forced vital capacity (FVC), Best measure&quot;]</td><td style=\"white-space: nowrap; max-width: 500px; overflow: hidden; text-overflow: ellipsis; \">[&quot;Forced vital capacity (FVC), Best measure&quot;]</td><td style=\"white-space: nowrap; max-width: 500px; overflow: hidden; text-overflow: ellipsis; \">[&quot;Forced vital capacity (FVC), Best measure&quot;]</td></tr>\n",
       "<tr><td style=\"white-space: nowrap; max-width: 500px; overflow: hidden; text-overflow: ellipsis; \">&quot;GMPR&quot;</td><td style=\"white-space: nowrap; max-width: 500px; overflow: hidden; text-overflow: ellipsis; \">[&quot;Immature reticulocyte fraction&quot;]</td><td style=\"white-space: nowrap; max-width: 500px; overflow: hidden; text-overflow: ellipsis; \">[&quot;Immature reticulocyte fraction&quot;]</td><td style=\"white-space: nowrap; max-width: 500px; overflow: hidden; text-overflow: ellipsis; \">[&quot;Immature reticulocyte fraction&quot;]</td><td style=\"white-space: nowrap; max-width: 500px; overflow: hidden; text-overflow: ellipsis; \">[&quot;Immature reticulocyte fraction&quot;]</td></tr>\n",
       "<tr><td style=\"white-space: nowrap; max-width: 500px; overflow: hidden; text-overflow: ellipsis; \">&quot;GRAMD2A&quot;</td><td style=\"white-space: nowrap; max-width: 500px; overflow: hidden; text-overflow: ellipsis; \">NA</td><td style=\"white-space: nowrap; max-width: 500px; overflow: hidden; text-overflow: ellipsis; \">NA</td><td style=\"white-space: nowrap; max-width: 500px; overflow: hidden; text-overflow: ellipsis; \">NA</td><td style=\"white-space: nowrap; max-width: 500px; overflow: hidden; text-overflow: ellipsis; \">[&quot;Forced vital capacity (FVC), Best measure&quot;]</td></tr>\n",
       "<tr><td style=\"white-space: nowrap; max-width: 500px; overflow: hidden; text-overflow: ellipsis; \">&quot;HBB&quot;</td><td style=\"white-space: nowrap; max-width: 500px; overflow: hidden; text-overflow: ellipsis; \">NA</td><td style=\"white-space: nowrap; max-width: 500px; overflow: hidden; text-overflow: ellipsis; \">[&quot;Immature reticulocyte fraction&quot;]</td><td style=\"white-space: nowrap; max-width: 500px; overflow: hidden; text-overflow: ellipsis; \">[&quot;Immature reticulocyte fraction&quot;]</td><td style=\"white-space: nowrap; max-width: 500px; overflow: hidden; text-overflow: ellipsis; \">[&quot;Immature reticulocyte fraction&quot;]</td></tr>\n",
       "<tr><td style=\"white-space: nowrap; max-width: 500px; overflow: hidden; text-overflow: ellipsis; \">&quot;HTRA1&quot;</td><td style=\"white-space: nowrap; max-width: 500px; overflow: hidden; text-overflow: ellipsis; \">NA</td><td style=\"white-space: nowrap; max-width: 500px; overflow: hidden; text-overflow: ellipsis; \">NA</td><td style=\"white-space: nowrap; max-width: 500px; overflow: hidden; text-overflow: ellipsis; \">NA</td><td style=\"white-space: nowrap; max-width: 500px; overflow: hidden; text-overflow: ellipsis; \">[&quot;Forced vital capacity (FVC), Best measure&quot;]</td></tr>\n",
       "<tr><td style=\"white-space: nowrap; max-width: 500px; overflow: hidden; text-overflow: ellipsis; \">&quot;IHH&quot;</td><td style=\"white-space: nowrap; max-width: 500px; overflow: hidden; text-overflow: ellipsis; \">NA</td><td style=\"white-space: nowrap; max-width: 500px; overflow: hidden; text-overflow: ellipsis; \">[&quot;Forced vital capacity (FVC), Best measure&quot;]</td><td style=\"white-space: nowrap; max-width: 500px; overflow: hidden; text-overflow: ellipsis; \">[&quot;Forced vital capacity (FVC), Best measure&quot;]</td><td style=\"white-space: nowrap; max-width: 500px; overflow: hidden; text-overflow: ellipsis; \">[&quot;Forced vital capacity (FVC), Best measure&quot;]</td></tr>\n",
       "<tr><td style=\"white-space: nowrap; max-width: 500px; overflow: hidden; text-overflow: ellipsis; \">&quot;ITGA2B&quot;</td><td style=\"white-space: nowrap; max-width: 500px; overflow: hidden; text-overflow: ellipsis; \">[&quot;Platelet crit&quot;]</td><td style=\"white-space: nowrap; max-width: 500px; overflow: hidden; text-overflow: ellipsis; \">[&quot;Platelet crit&quot;]</td><td style=\"white-space: nowrap; max-width: 500px; overflow: hidden; text-overflow: ellipsis; \">[&quot;Platelet crit&quot;]</td><td style=\"white-space: nowrap; max-width: 500px; overflow: hidden; text-overflow: ellipsis; \">[&quot;Platelet crit&quot;]</td></tr>\n",
       "<tr><td style=\"white-space: nowrap; max-width: 500px; overflow: hidden; text-overflow: ellipsis; \">&quot;ITPR3&quot;</td><td style=\"white-space: nowrap; max-width: 500px; overflow: hidden; text-overflow: ellipsis; \">NA</td><td style=\"white-space: nowrap; max-width: 500px; overflow: hidden; text-overflow: ellipsis; \">[&quot;Platelet crit&quot;]</td><td style=\"white-space: nowrap; max-width: 500px; overflow: hidden; text-overflow: ellipsis; \">[&quot;Platelet crit&quot;]</td><td style=\"white-space: nowrap; max-width: 500px; overflow: hidden; text-overflow: ellipsis; \">[&quot;Platelet crit&quot;]</td></tr>\n",
       "<tr><td style=\"white-space: nowrap; max-width: 500px; overflow: hidden; text-overflow: ellipsis; \">&quot;JAK2&quot;</td><td style=\"white-space: nowrap; max-width: 500px; overflow: hidden; text-overflow: ellipsis; \">[&quot;Platelet crit&quot;]</td><td style=\"white-space: nowrap; max-width: 500px; overflow: hidden; text-overflow: ellipsis; \">[&quot;Platelet crit&quot;]</td><td style=\"white-space: nowrap; max-width: 500px; overflow: hidden; text-overflow: ellipsis; \">[&quot;Platelet crit&quot;]</td><td style=\"white-space: nowrap; max-width: 500px; overflow: hidden; text-overflow: ellipsis; \">[&quot;Platelet crit&quot;]</td></tr>\n",
       "<tr><td style=\"white-space: nowrap; max-width: 500px; overflow: hidden; text-overflow: ellipsis; \">&quot;KIF16B&quot;</td><td style=\"white-space: nowrap; max-width: 500px; overflow: hidden; text-overflow: ellipsis; \">NA</td><td style=\"white-space: nowrap; max-width: 500px; overflow: hidden; text-overflow: ellipsis; \">NA</td><td style=\"white-space: nowrap; max-width: 500px; overflow: hidden; text-overflow: ellipsis; \">NA</td><td style=\"white-space: nowrap; max-width: 500px; overflow: hidden; text-overflow: ellipsis; \">[&quot;Platelet crit&quot;]</td></tr>\n",
       "<tr><td style=\"white-space: nowrap; max-width: 500px; overflow: hidden; text-overflow: ellipsis; \">&quot;LAPTM5&quot;</td><td style=\"white-space: nowrap; max-width: 500px; overflow: hidden; text-overflow: ellipsis; \">[&quot;Platelet crit&quot;]</td><td style=\"white-space: nowrap; max-width: 500px; overflow: hidden; text-overflow: ellipsis; \">[&quot;Platelet crit&quot;]</td><td style=\"white-space: nowrap; max-width: 500px; overflow: hidden; text-overflow: ellipsis; \">[&quot;Platelet crit&quot;]</td><td style=\"white-space: nowrap; max-width: 500px; overflow: hidden; text-overflow: ellipsis; \">[&quot;Platelet crit&quot;]</td></tr>\n",
       "<tr><td style=\"white-space: nowrap; max-width: 500px; overflow: hidden; text-overflow: ellipsis; \">&quot;LDLRAD4&quot;</td><td style=\"white-space: nowrap; max-width: 500px; overflow: hidden; text-overflow: ellipsis; \">[&quot;Forced vital capacity (FVC), Best measure&quot;]</td><td style=\"white-space: nowrap; max-width: 500px; overflow: hidden; text-overflow: ellipsis; \">[&quot;Forced vital capacity (FVC), Best measure&quot;]</td><td style=\"white-space: nowrap; max-width: 500px; overflow: hidden; text-overflow: ellipsis; \">[&quot;Forced vital capacity (FVC), Best measure&quot;]</td><td style=\"white-space: nowrap; max-width: 500px; overflow: hidden; text-overflow: ellipsis; \">[&quot;Forced vital capacity (FVC), Best measure&quot;]</td></tr>\n",
       "<tr><td style=\"white-space: nowrap; max-width: 500px; overflow: hidden; text-overflow: ellipsis; \">&quot;LEMD2&quot;</td><td style=\"white-space: nowrap; max-width: 500px; overflow: hidden; text-overflow: ellipsis; \">NA</td><td style=\"white-space: nowrap; max-width: 500px; overflow: hidden; text-overflow: ellipsis; \">NA</td><td style=\"white-space: nowrap; max-width: 500px; overflow: hidden; text-overflow: ellipsis; \">NA</td><td style=\"white-space: nowrap; max-width: 500px; overflow: hidden; text-overflow: ellipsis; \">[&quot;Platelet crit&quot;]</td></tr>\n",
       "<tr><td style=\"white-space: nowrap; max-width: 500px; overflow: hidden; text-overflow: ellipsis; \">&quot;LRP5&quot;</td><td style=\"white-space: nowrap; max-width: 500px; overflow: hidden; text-overflow: ellipsis; \">[&quot;Date M81 first reported (osteoporosis without pathological fracture)&quot;]</td><td style=\"white-space: nowrap; max-width: 500px; overflow: hidden; text-overflow: ellipsis; \">[&quot;Date M81 first reported (osteoporosis without pathological fracture)&quot;]</td><td style=\"white-space: nowrap; max-width: 500px; overflow: hidden; text-overflow: ellipsis; \">[&quot;Date M81 first reported (osteoporosis without pathological fracture)&quot;]</td><td style=\"white-space: nowrap; max-width: 500px; overflow: hidden; text-overflow: ellipsis; \">[&quot;Date M81 first reported (osteoporosis without pathological fracture)&quot;]</td></tr>\n",
       "<tr><td style=\"white-space: nowrap; max-width: 500px; overflow: hidden; text-overflow: ellipsis; \">&quot;LY75&quot;</td><td style=\"white-space: nowrap; max-width: 500px; overflow: hidden; text-overflow: ellipsis; \">[&quot;Platelet crit&quot;]</td><td style=\"white-space: nowrap; max-width: 500px; overflow: hidden; text-overflow: ellipsis; \">[&quot;Platelet crit&quot;]</td><td style=\"white-space: nowrap; max-width: 500px; overflow: hidden; text-overflow: ellipsis; \">[&quot;Platelet crit&quot;]</td><td style=\"white-space: nowrap; max-width: 500px; overflow: hidden; text-overflow: ellipsis; \">[&quot;Platelet crit&quot;]</td></tr>\n",
       "<tr><td style=\"white-space: nowrap; max-width: 500px; overflow: hidden; text-overflow: ellipsis; \">&quot;LY75-CD302&quot;</td><td style=\"white-space: nowrap; max-width: 500px; overflow: hidden; text-overflow: ellipsis; \">[&quot;Platelet crit&quot;]</td><td style=\"white-space: nowrap; max-width: 500px; overflow: hidden; text-overflow: ellipsis; \">[&quot;Platelet crit&quot;]</td><td style=\"white-space: nowrap; max-width: 500px; overflow: hidden; text-overflow: ellipsis; \">[&quot;Platelet crit&quot;]</td><td style=\"white-space: nowrap; max-width: 500px; overflow: hidden; text-overflow: ellipsis; \">[&quot;Platelet crit&quot;]</td></tr>\n",
       "<tr><td style=\"white-space: nowrap; max-width: 500px; overflow: hidden; text-overflow: ellipsis; \">&quot;MFSD2B&quot;</td><td style=\"white-space: nowrap; max-width: 500px; overflow: hidden; text-overflow: ellipsis; \">[&quot;Platelet crit&quot;,&quot;Immature reticulocyte fraction&quot;]</td><td style=\"white-space: nowrap; max-width: 500px; overflow: hidden; text-overflow: ellipsis; \">[&quot;Platelet crit&quot;,&quot;Immature reticulocyte fraction&quot;]</td><td style=\"white-space: nowrap; max-width: 500px; overflow: hidden; text-overflow: ellipsis; \">[&quot;Platelet crit&quot;,&quot;Immature reticulocyte fraction&quot;]</td><td style=\"white-space: nowrap; max-width: 500px; overflow: hidden; text-overflow: ellipsis; \">[&quot;Platelet crit&quot;,&quot;Immature reticulocyte fraction&quot;]</td></tr>\n",
       "<tr><td style=\"white-space: nowrap; max-width: 500px; overflow: hidden; text-overflow: ellipsis; \">&quot;NAA25&quot;</td><td style=\"white-space: nowrap; max-width: 500px; overflow: hidden; text-overflow: ellipsis; \">[&quot;Platelet crit&quot;]</td><td style=\"white-space: nowrap; max-width: 500px; overflow: hidden; text-overflow: ellipsis; \">[&quot;Platelet crit&quot;]</td><td style=\"white-space: nowrap; max-width: 500px; overflow: hidden; text-overflow: ellipsis; \">[&quot;Platelet crit&quot;]</td><td style=\"white-space: nowrap; max-width: 500px; overflow: hidden; text-overflow: ellipsis; \">[&quot;Platelet crit&quot;]</td></tr>\n",
       "<tr><td style=\"white-space: nowrap; max-width: 500px; overflow: hidden; text-overflow: ellipsis; \">&quot;NIBAN2&quot;</td><td style=\"white-space: nowrap; max-width: 500px; overflow: hidden; text-overflow: ellipsis; \">NA</td><td style=\"white-space: nowrap; max-width: 500px; overflow: hidden; text-overflow: ellipsis; \">NA</td><td style=\"white-space: nowrap; max-width: 500px; overflow: hidden; text-overflow: ellipsis; \">[&quot;Forced vital capacity (FVC), Best measure&quot;]</td><td style=\"white-space: nowrap; max-width: 500px; overflow: hidden; text-overflow: ellipsis; \">[&quot;Forced vital capacity (FVC), Best measure&quot;]</td></tr>\n",
       "<tr><td style=\"white-space: nowrap; max-width: 500px; overflow: hidden; text-overflow: ellipsis; \">&quot;NKAPL&quot;</td><td style=\"white-space: nowrap; max-width: 500px; overflow: hidden; text-overflow: ellipsis; \">NA</td><td style=\"white-space: nowrap; max-width: 500px; overflow: hidden; text-overflow: ellipsis; \">NA</td><td style=\"white-space: nowrap; max-width: 500px; overflow: hidden; text-overflow: ellipsis; \">[&quot;Immature reticulocyte fraction&quot;]</td><td style=\"white-space: nowrap; max-width: 500px; overflow: hidden; text-overflow: ellipsis; \">[&quot;Immature reticulocyte fraction&quot;]</td></tr>\n",
       "<tr><td style=\"white-space: nowrap; max-width: 500px; overflow: hidden; text-overflow: ellipsis; \">&quot;NLRP3&quot;</td><td style=\"white-space: nowrap; max-width: 500px; overflow: hidden; text-overflow: ellipsis; \">NA</td><td style=\"white-space: nowrap; max-width: 500px; overflow: hidden; text-overflow: ellipsis; \">NA</td><td style=\"white-space: nowrap; max-width: 500px; overflow: hidden; text-overflow: ellipsis; \">[&quot;Platelet crit&quot;]</td><td style=\"white-space: nowrap; max-width: 500px; overflow: hidden; text-overflow: ellipsis; \">[&quot;Platelet crit&quot;]</td></tr>\n",
       "<tr><td style=\"white-space: nowrap; max-width: 500px; overflow: hidden; text-overflow: ellipsis; \">&quot;NPAS4&quot;</td><td style=\"white-space: nowrap; max-width: 500px; overflow: hidden; text-overflow: ellipsis; \">NA</td><td style=\"white-space: nowrap; max-width: 500px; overflow: hidden; text-overflow: ellipsis; \">[&quot;Forced vital capacity (FVC), Best measure&quot;]</td><td style=\"white-space: nowrap; max-width: 500px; overflow: hidden; text-overflow: ellipsis; \">[&quot;Forced vital capacity (FVC), Best measure&quot;]</td><td style=\"white-space: nowrap; max-width: 500px; overflow: hidden; text-overflow: ellipsis; \">[&quot;Forced vital capacity (FVC), Best measure&quot;]</td></tr>\n",
       "<tr><td style=\"white-space: nowrap; max-width: 500px; overflow: hidden; text-overflow: ellipsis; \">&quot;OR10R2&quot;</td><td style=\"white-space: nowrap; max-width: 500px; overflow: hidden; text-overflow: ellipsis; \">NA</td><td style=\"white-space: nowrap; max-width: 500px; overflow: hidden; text-overflow: ellipsis; \">NA</td><td style=\"white-space: nowrap; max-width: 500px; overflow: hidden; text-overflow: ellipsis; \">NA</td><td style=\"white-space: nowrap; max-width: 500px; overflow: hidden; text-overflow: ellipsis; \">[&quot;Immature reticulocyte fraction&quot;]</td></tr>\n",
       "<tr><td style=\"white-space: nowrap; max-width: 500px; overflow: hidden; text-overflow: ellipsis; \">&quot;OSMR&quot;</td><td style=\"white-space: nowrap; max-width: 500px; overflow: hidden; text-overflow: ellipsis; \">[&quot;Immature reticulocyte fraction&quot;]</td><td style=\"white-space: nowrap; max-width: 500px; overflow: hidden; text-overflow: ellipsis; \">[&quot;Immature reticulocyte fraction&quot;]</td><td style=\"white-space: nowrap; max-width: 500px; overflow: hidden; text-overflow: ellipsis; \">[&quot;Immature reticulocyte fraction&quot;]</td><td style=\"white-space: nowrap; max-width: 500px; overflow: hidden; text-overflow: ellipsis; \">[&quot;Immature reticulocyte fraction&quot;]</td></tr>\n",
       "<tr><td style=\"white-space: nowrap; max-width: 500px; overflow: hidden; text-overflow: ellipsis; \">&quot;PELO&quot;</td><td style=\"white-space: nowrap; max-width: 500px; overflow: hidden; text-overflow: ellipsis; \">[&quot;Immature reticulocyte fraction&quot;]</td><td style=\"white-space: nowrap; max-width: 500px; overflow: hidden; text-overflow: ellipsis; \">[&quot;Immature reticulocyte fraction&quot;]</td><td style=\"white-space: nowrap; max-width: 500px; overflow: hidden; text-overflow: ellipsis; \">[&quot;Immature reticulocyte fraction&quot;]</td><td style=\"white-space: nowrap; max-width: 500px; overflow: hidden; text-overflow: ellipsis; \">[&quot;Immature reticulocyte fraction&quot;]</td></tr>\n",
       "<tr><td style=\"white-space: nowrap; max-width: 500px; overflow: hidden; text-overflow: ellipsis; \">&quot;PIEZO1&quot;</td><td style=\"white-space: nowrap; max-width: 500px; overflow: hidden; text-overflow: ellipsis; \">[&quot;Immature reticulocyte fraction&quot;]</td><td style=\"white-space: nowrap; max-width: 500px; overflow: hidden; text-overflow: ellipsis; \">[&quot;Immature reticulocyte fraction&quot;]</td><td style=\"white-space: nowrap; max-width: 500px; overflow: hidden; text-overflow: ellipsis; \">[&quot;Immature reticulocyte fraction&quot;]</td><td style=\"white-space: nowrap; max-width: 500px; overflow: hidden; text-overflow: ellipsis; \">[&quot;Forced vital capacity (FVC), Best measure&quot;,&quot;Platelet crit&quot;,&quot;Immature reticulocyte fraction&quot;]</td></tr>\n",
       "<tr><td style=\"white-space: nowrap; max-width: 500px; overflow: hidden; text-overflow: ellipsis; \">&quot;PLA2G12A&quot;</td><td style=\"white-space: nowrap; max-width: 500px; overflow: hidden; text-overflow: ellipsis; \">[&quot;Platelet crit&quot;]</td><td style=\"white-space: nowrap; max-width: 500px; overflow: hidden; text-overflow: ellipsis; \">[&quot;Platelet crit&quot;]</td><td style=\"white-space: nowrap; max-width: 500px; overflow: hidden; text-overflow: ellipsis; \">[&quot;Platelet crit&quot;]</td><td style=\"white-space: nowrap; max-width: 500px; overflow: hidden; text-overflow: ellipsis; \">[&quot;Platelet crit&quot;]</td></tr>\n",
       "<tr><td style=\"white-space: nowrap; max-width: 500px; overflow: hidden; text-overflow: ellipsis; \">&quot;PLEK&quot;</td><td style=\"white-space: nowrap; max-width: 500px; overflow: hidden; text-overflow: ellipsis; \">[&quot;Platelet crit&quot;]</td><td style=\"white-space: nowrap; max-width: 500px; overflow: hidden; text-overflow: ellipsis; \">[&quot;Platelet crit&quot;]</td><td style=\"white-space: nowrap; max-width: 500px; overflow: hidden; text-overflow: ellipsis; \">[&quot;Platelet crit&quot;]</td><td style=\"white-space: nowrap; max-width: 500px; overflow: hidden; text-overflow: ellipsis; \">[&quot;Platelet crit&quot;]</td></tr>\n",
       "<tr><td style=\"white-space: nowrap; max-width: 500px; overflow: hidden; text-overflow: ellipsis; \">&quot;PLSCR4&quot;</td><td style=\"white-space: nowrap; max-width: 500px; overflow: hidden; text-overflow: ellipsis; \">NA</td><td style=\"white-space: nowrap; max-width: 500px; overflow: hidden; text-overflow: ellipsis; \">[&quot;Platelet crit&quot;]</td><td style=\"white-space: nowrap; max-width: 500px; overflow: hidden; text-overflow: ellipsis; \">[&quot;Platelet crit&quot;]</td><td style=\"white-space: nowrap; max-width: 500px; overflow: hidden; text-overflow: ellipsis; \">[&quot;Platelet crit&quot;]</td></tr>\n",
       "<tr><td style=\"white-space: nowrap; max-width: 500px; overflow: hidden; text-overflow: ellipsis; \">&quot;POR&quot;</td><td style=\"white-space: nowrap; max-width: 500px; overflow: hidden; text-overflow: ellipsis; \">NA</td><td style=\"white-space: nowrap; max-width: 500px; overflow: hidden; text-overflow: ellipsis; \">NA</td><td style=\"white-space: nowrap; max-width: 500px; overflow: hidden; text-overflow: ellipsis; \">[&quot;Platelet crit&quot;]</td><td style=\"white-space: nowrap; max-width: 500px; overflow: hidden; text-overflow: ellipsis; \">[&quot;Platelet crit&quot;]</td></tr>\n",
       "<tr><td style=\"white-space: nowrap; max-width: 500px; overflow: hidden; text-overflow: ellipsis; \">&quot;PPP1R15A&quot;</td><td style=\"white-space: nowrap; max-width: 500px; overflow: hidden; text-overflow: ellipsis; \">NA</td><td style=\"white-space: nowrap; max-width: 500px; overflow: hidden; text-overflow: ellipsis; \">NA</td><td style=\"white-space: nowrap; max-width: 500px; overflow: hidden; text-overflow: ellipsis; \">NA</td><td style=\"white-space: nowrap; max-width: 500px; overflow: hidden; text-overflow: ellipsis; \">[&quot;Date M81 first reported (osteoporosis without pathological fracture)&quot;]</td></tr>\n",
       "<tr><td style=\"white-space: nowrap; max-width: 500px; overflow: hidden; text-overflow: ellipsis; \">&quot;QTRT1&quot;</td><td style=\"white-space: nowrap; max-width: 500px; overflow: hidden; text-overflow: ellipsis; \">NA</td><td style=\"white-space: nowrap; max-width: 500px; overflow: hidden; text-overflow: ellipsis; \">NA</td><td style=\"white-space: nowrap; max-width: 500px; overflow: hidden; text-overflow: ellipsis; \">NA</td><td style=\"white-space: nowrap; max-width: 500px; overflow: hidden; text-overflow: ellipsis; \">[&quot;Immature reticulocyte fraction&quot;]</td></tr>\n",
       "<tr><td style=\"white-space: nowrap; max-width: 500px; overflow: hidden; text-overflow: ellipsis; \">&quot;R3HDM4&quot;</td><td style=\"white-space: nowrap; max-width: 500px; overflow: hidden; text-overflow: ellipsis; \">[&quot;Immature reticulocyte fraction&quot;]</td><td style=\"white-space: nowrap; max-width: 500px; overflow: hidden; text-overflow: ellipsis; \">[&quot;Immature reticulocyte fraction&quot;]</td><td style=\"white-space: nowrap; max-width: 500px; overflow: hidden; text-overflow: ellipsis; \">[&quot;Immature reticulocyte fraction&quot;]</td><td style=\"white-space: nowrap; max-width: 500px; overflow: hidden; text-overflow: ellipsis; \">[&quot;Immature reticulocyte fraction&quot;]</td></tr>\n",
       "<tr><td style=\"white-space: nowrap; max-width: 500px; overflow: hidden; text-overflow: ellipsis; \">&quot;RCL1&quot;</td><td style=\"white-space: nowrap; max-width: 500px; overflow: hidden; text-overflow: ellipsis; \">[&quot;Platelet crit&quot;]</td><td style=\"white-space: nowrap; max-width: 500px; overflow: hidden; text-overflow: ellipsis; \">[&quot;Platelet crit&quot;]</td><td style=\"white-space: nowrap; max-width: 500px; overflow: hidden; text-overflow: ellipsis; \">[&quot;Platelet crit&quot;]</td><td style=\"white-space: nowrap; max-width: 500px; overflow: hidden; text-overflow: ellipsis; \">[&quot;Platelet crit&quot;]</td></tr>\n",
       "<tr><td style=\"white-space: nowrap; max-width: 500px; overflow: hidden; text-overflow: ellipsis; \">&quot;RIOK3&quot;</td><td style=\"white-space: nowrap; max-width: 500px; overflow: hidden; text-overflow: ellipsis; \">[&quot;Immature reticulocyte fraction&quot;]</td><td style=\"white-space: nowrap; max-width: 500px; overflow: hidden; text-overflow: ellipsis; \">[&quot;Immature reticulocyte fraction&quot;]</td><td style=\"white-space: nowrap; max-width: 500px; overflow: hidden; text-overflow: ellipsis; \">[&quot;Immature reticulocyte fraction&quot;]</td><td style=\"white-space: nowrap; max-width: 500px; overflow: hidden; text-overflow: ellipsis; \">[&quot;Immature reticulocyte fraction&quot;]</td></tr>\n",
       "<tr><td style=\"white-space: nowrap; max-width: 500px; overflow: hidden; text-overflow: ellipsis; \">&quot;RNF123&quot;</td><td style=\"white-space: nowrap; max-width: 500px; overflow: hidden; text-overflow: ellipsis; \">NA</td><td style=\"white-space: nowrap; max-width: 500px; overflow: hidden; text-overflow: ellipsis; \">NA</td><td style=\"white-space: nowrap; max-width: 500px; overflow: hidden; text-overflow: ellipsis; \">[&quot;Immature reticulocyte fraction&quot;]</td><td style=\"white-space: nowrap; max-width: 500px; overflow: hidden; text-overflow: ellipsis; \">[&quot;Immature reticulocyte fraction&quot;]</td></tr>\n",
       "<tr><td style=\"white-space: nowrap; max-width: 500px; overflow: hidden; text-overflow: ellipsis; \">&quot;RNF212&quot;</td><td style=\"white-space: nowrap; max-width: 500px; overflow: hidden; text-overflow: ellipsis; \">NA</td><td style=\"white-space: nowrap; max-width: 500px; overflow: hidden; text-overflow: ellipsis; \">NA</td><td style=\"white-space: nowrap; max-width: 500px; overflow: hidden; text-overflow: ellipsis; \">NA</td><td style=\"white-space: nowrap; max-width: 500px; overflow: hidden; text-overflow: ellipsis; \">[&quot;Immature reticulocyte fraction&quot;]</td></tr>\n",
       "<tr><td style=\"white-space: nowrap; max-width: 500px; overflow: hidden; text-overflow: ellipsis; \">&quot;S1PR2&quot;</td><td style=\"white-space: nowrap; max-width: 500px; overflow: hidden; text-overflow: ellipsis; \">[&quot;Immature reticulocyte fraction&quot;]</td><td style=\"white-space: nowrap; max-width: 500px; overflow: hidden; text-overflow: ellipsis; \">[&quot;Immature reticulocyte fraction&quot;]</td><td style=\"white-space: nowrap; max-width: 500px; overflow: hidden; text-overflow: ellipsis; \">[&quot;Immature reticulocyte fraction&quot;]</td><td style=\"white-space: nowrap; max-width: 500px; overflow: hidden; text-overflow: ellipsis; \">[&quot;Immature reticulocyte fraction&quot;]</td></tr>\n",
       "<tr><td style=\"white-space: nowrap; max-width: 500px; overflow: hidden; text-overflow: ellipsis; \">&quot;S1PR4&quot;</td><td style=\"white-space: nowrap; max-width: 500px; overflow: hidden; text-overflow: ellipsis; \">[&quot;Platelet crit&quot;]</td><td style=\"white-space: nowrap; max-width: 500px; overflow: hidden; text-overflow: ellipsis; \">[&quot;Platelet crit&quot;]</td><td style=\"white-space: nowrap; max-width: 500px; overflow: hidden; text-overflow: ellipsis; \">[&quot;Platelet crit&quot;]</td><td style=\"white-space: nowrap; max-width: 500px; overflow: hidden; text-overflow: ellipsis; \">[&quot;Platelet crit&quot;]</td></tr>\n",
       "<tr><td style=\"white-space: nowrap; max-width: 500px; overflow: hidden; text-overflow: ellipsis; \">&quot;SCMH1&quot;</td><td style=\"white-space: nowrap; max-width: 500px; overflow: hidden; text-overflow: ellipsis; \">[&quot;Forced vital capacity (FVC), Best measure&quot;]</td><td style=\"white-space: nowrap; max-width: 500px; overflow: hidden; text-overflow: ellipsis; \">[&quot;Forced vital capacity (FVC), Best measure&quot;]</td><td style=\"white-space: nowrap; max-width: 500px; overflow: hidden; text-overflow: ellipsis; \">[&quot;Forced vital capacity (FVC), Best measure&quot;]</td><td style=\"white-space: nowrap; max-width: 500px; overflow: hidden; text-overflow: ellipsis; \">[&quot;Forced vital capacity (FVC), Best measure&quot;]</td></tr>\n",
       "<tr><td style=\"white-space: nowrap; max-width: 500px; overflow: hidden; text-overflow: ellipsis; \">&quot;SH2B3&quot;</td><td style=\"white-space: nowrap; max-width: 500px; overflow: hidden; text-overflow: ellipsis; \">[&quot;Platelet crit&quot;]</td><td style=\"white-space: nowrap; max-width: 500px; overflow: hidden; text-overflow: ellipsis; \">[&quot;Platelet crit&quot;]</td><td style=\"white-space: nowrap; max-width: 500px; overflow: hidden; text-overflow: ellipsis; \">[&quot;Platelet crit&quot;]</td><td style=\"white-space: nowrap; max-width: 500px; overflow: hidden; text-overflow: ellipsis; \">[&quot;Platelet crit&quot;]</td></tr>\n",
       "<tr><td style=\"white-space: nowrap; max-width: 500px; overflow: hidden; text-overflow: ellipsis; \">&quot;SLA&quot;</td><td style=\"white-space: nowrap; max-width: 500px; overflow: hidden; text-overflow: ellipsis; \">NA</td><td style=\"white-space: nowrap; max-width: 500px; overflow: hidden; text-overflow: ellipsis; \">NA</td><td style=\"white-space: nowrap; max-width: 500px; overflow: hidden; text-overflow: ellipsis; \">[&quot;Platelet crit&quot;]</td><td style=\"white-space: nowrap; max-width: 500px; overflow: hidden; text-overflow: ellipsis; \">[&quot;Platelet crit&quot;]</td></tr>\n",
       "<tr><td style=\"white-space: nowrap; max-width: 500px; overflow: hidden; text-overflow: ellipsis; \">&quot;SLAMF9&quot;</td><td style=\"white-space: nowrap; max-width: 500px; overflow: hidden; text-overflow: ellipsis; \">NA</td><td style=\"white-space: nowrap; max-width: 500px; overflow: hidden; text-overflow: ellipsis; \">NA</td><td style=\"white-space: nowrap; max-width: 500px; overflow: hidden; text-overflow: ellipsis; \">NA</td><td style=\"white-space: nowrap; max-width: 500px; overflow: hidden; text-overflow: ellipsis; \">[&quot;Forced vital capacity (FVC), Best measure&quot;]</td></tr>\n",
       "<tr><td style=\"white-space: nowrap; max-width: 500px; overflow: hidden; text-overflow: ellipsis; \">&quot;SLC1A1&quot;</td><td style=\"white-space: nowrap; max-width: 500px; overflow: hidden; text-overflow: ellipsis; \">[&quot;Platelet crit&quot;]</td><td style=\"white-space: nowrap; max-width: 500px; overflow: hidden; text-overflow: ellipsis; \">[&quot;Platelet crit&quot;]</td><td style=\"white-space: nowrap; max-width: 500px; overflow: hidden; text-overflow: ellipsis; \">[&quot;Platelet crit&quot;]</td><td style=\"white-space: nowrap; max-width: 500px; overflow: hidden; text-overflow: ellipsis; \">[&quot;Platelet crit&quot;]</td></tr>\n",
       "<tr><td style=\"white-space: nowrap; max-width: 500px; overflow: hidden; text-overflow: ellipsis; \">&quot;SLC22A12&quot;</td><td style=\"white-space: nowrap; max-width: 500px; overflow: hidden; text-overflow: ellipsis; \">[&quot;allopurinol&quot;]</td><td style=\"white-space: nowrap; max-width: 500px; overflow: hidden; text-overflow: ellipsis; \">[&quot;allopurinol&quot;]</td><td style=\"white-space: nowrap; max-width: 500px; overflow: hidden; text-overflow: ellipsis; \">[&quot;allopurinol&quot;]</td><td style=\"white-space: nowrap; max-width: 500px; overflow: hidden; text-overflow: ellipsis; \">[&quot;allopurinol&quot;]</td></tr>\n",
       "<tr><td style=\"white-space: nowrap; max-width: 500px; overflow: hidden; text-overflow: ellipsis; \">&quot;SLC45A4&quot;</td><td style=\"white-space: nowrap; max-width: 500px; overflow: hidden; text-overflow: ellipsis; \">[&quot;Immature reticulocyte fraction&quot;]</td><td style=\"white-space: nowrap; max-width: 500px; overflow: hidden; text-overflow: ellipsis; \">[&quot;Immature reticulocyte fraction&quot;]</td><td style=\"white-space: nowrap; max-width: 500px; overflow: hidden; text-overflow: ellipsis; \">[&quot;Immature reticulocyte fraction&quot;]</td><td style=\"white-space: nowrap; max-width: 500px; overflow: hidden; text-overflow: ellipsis; \">[&quot;Immature reticulocyte fraction&quot;]</td></tr>\n",
       "<tr><td style=\"white-space: nowrap; max-width: 500px; overflow: hidden; text-overflow: ellipsis; \">&quot;SLFN14&quot;</td><td style=\"white-space: nowrap; max-width: 500px; overflow: hidden; text-overflow: ellipsis; \">[&quot;Platelet crit&quot;,&quot;Immature reticulocyte fraction&quot;]</td><td style=\"white-space: nowrap; max-width: 500px; overflow: hidden; text-overflow: ellipsis; \">[&quot;Platelet crit&quot;,&quot;Immature reticulocyte fraction&quot;]</td><td style=\"white-space: nowrap; max-width: 500px; overflow: hidden; text-overflow: ellipsis; \">[&quot;Platelet crit&quot;,&quot;Immature reticulocyte fraction&quot;]</td><td style=\"white-space: nowrap; max-width: 500px; overflow: hidden; text-overflow: ellipsis; \">[&quot;Platelet crit&quot;,&quot;Immature reticulocyte fraction&quot;]</td></tr>\n",
       "<tr><td style=\"white-space: nowrap; max-width: 500px; overflow: hidden; text-overflow: ellipsis; \">&quot;SMIM29&quot;</td><td style=\"white-space: nowrap; max-width: 500px; overflow: hidden; text-overflow: ellipsis; \">NA</td><td style=\"white-space: nowrap; max-width: 500px; overflow: hidden; text-overflow: ellipsis; \">[&quot;Forced vital capacity (FVC), Best measure&quot;]</td><td style=\"white-space: nowrap; max-width: 500px; overflow: hidden; text-overflow: ellipsis; \">[&quot;Forced vital capacity (FVC), Best measure&quot;]</td><td style=\"white-space: nowrap; max-width: 500px; overflow: hidden; text-overflow: ellipsis; \">[&quot;Forced vital capacity (FVC), Best measure&quot;]</td></tr>\n",
       "<tr><td style=\"white-space: nowrap; max-width: 500px; overflow: hidden; text-overflow: ellipsis; \">&quot;SNX17&quot;</td><td style=\"white-space: nowrap; max-width: 500px; overflow: hidden; text-overflow: ellipsis; \">NA</td><td style=\"white-space: nowrap; max-width: 500px; overflow: hidden; text-overflow: ellipsis; \">NA</td><td style=\"white-space: nowrap; max-width: 500px; overflow: hidden; text-overflow: ellipsis; \">NA</td><td style=\"white-space: nowrap; max-width: 500px; overflow: hidden; text-overflow: ellipsis; \">[&quot;Immature reticulocyte fraction&quot;]</td></tr>\n",
       "<tr><td style=\"white-space: nowrap; max-width: 500px; overflow: hidden; text-overflow: ellipsis; \">&quot;SPARC&quot;</td><td style=\"white-space: nowrap; max-width: 500px; overflow: hidden; text-overflow: ellipsis; \">NA</td><td style=\"white-space: nowrap; max-width: 500px; overflow: hidden; text-overflow: ellipsis; \">NA</td><td style=\"white-space: nowrap; max-width: 500px; overflow: hidden; text-overflow: ellipsis; \">NA</td><td style=\"white-space: nowrap; max-width: 500px; overflow: hidden; text-overflow: ellipsis; \">[&quot;Forced vital capacity (FVC), Best measure&quot;]</td></tr>\n",
       "<tr><td style=\"white-space: nowrap; max-width: 500px; overflow: hidden; text-overflow: ellipsis; \">&quot;SPHK1&quot;</td><td style=\"white-space: nowrap; max-width: 500px; overflow: hidden; text-overflow: ellipsis; \">[&quot;Immature reticulocyte fraction&quot;]</td><td style=\"white-space: nowrap; max-width: 500px; overflow: hidden; text-overflow: ellipsis; \">[&quot;Immature reticulocyte fraction&quot;]</td><td style=\"white-space: nowrap; max-width: 500px; overflow: hidden; text-overflow: ellipsis; \">[&quot;Immature reticulocyte fraction&quot;]</td><td style=\"white-space: nowrap; max-width: 500px; overflow: hidden; text-overflow: ellipsis; \">[&quot;Immature reticulocyte fraction&quot;]</td></tr>\n",
       "<tr><td style=\"white-space: nowrap; max-width: 500px; overflow: hidden; text-overflow: ellipsis; \">&quot;STC2&quot;</td><td style=\"white-space: nowrap; max-width: 500px; overflow: hidden; text-overflow: ellipsis; \">NA</td><td style=\"white-space: nowrap; max-width: 500px; overflow: hidden; text-overflow: ellipsis; \">[&quot;Forced vital capacity (FVC), Best measure&quot;]</td><td style=\"white-space: nowrap; max-width: 500px; overflow: hidden; text-overflow: ellipsis; \">[&quot;Forced vital capacity (FVC), Best measure&quot;]</td><td style=\"white-space: nowrap; max-width: 500px; overflow: hidden; text-overflow: ellipsis; \">[&quot;Forced vital capacity (FVC), Best measure&quot;]</td></tr>\n",
       "<tr><td style=\"white-space: nowrap; max-width: 500px; overflow: hidden; text-overflow: ellipsis; \">&quot;TFR2&quot;</td><td style=\"white-space: nowrap; max-width: 500px; overflow: hidden; text-overflow: ellipsis; \">NA</td><td style=\"white-space: nowrap; max-width: 500px; overflow: hidden; text-overflow: ellipsis; \">[&quot;Platelet crit&quot;]</td><td style=\"white-space: nowrap; max-width: 500px; overflow: hidden; text-overflow: ellipsis; \">[&quot;Platelet crit&quot;]</td><td style=\"white-space: nowrap; max-width: 500px; overflow: hidden; text-overflow: ellipsis; \">[&quot;Platelet crit&quot;]</td></tr>\n",
       "<tr><td style=\"white-space: nowrap; max-width: 500px; overflow: hidden; text-overflow: ellipsis; \">&quot;TGFB2&quot;</td><td style=\"white-space: nowrap; max-width: 500px; overflow: hidden; text-overflow: ellipsis; \">NA</td><td style=\"white-space: nowrap; max-width: 500px; overflow: hidden; text-overflow: ellipsis; \">NA</td><td style=\"white-space: nowrap; max-width: 500px; overflow: hidden; text-overflow: ellipsis; \">NA</td><td style=\"white-space: nowrap; max-width: 500px; overflow: hidden; text-overflow: ellipsis; \">[&quot;Forced vital capacity (FVC), Best measure&quot;]</td></tr>\n",
       "<tr><td style=\"white-space: nowrap; max-width: 500px; overflow: hidden; text-overflow: ellipsis; \">&quot;THPO&quot;</td><td style=\"white-space: nowrap; max-width: 500px; overflow: hidden; text-overflow: ellipsis; \">[&quot;Platelet crit&quot;]</td><td style=\"white-space: nowrap; max-width: 500px; overflow: hidden; text-overflow: ellipsis; \">[&quot;Platelet crit&quot;]</td><td style=\"white-space: nowrap; max-width: 500px; overflow: hidden; text-overflow: ellipsis; \">[&quot;Platelet crit&quot;]</td><td style=\"white-space: nowrap; max-width: 500px; overflow: hidden; text-overflow: ellipsis; \">[&quot;Platelet crit&quot;]</td></tr>\n",
       "<tr><td style=\"white-space: nowrap; max-width: 500px; overflow: hidden; text-overflow: ellipsis; \">&quot;TIE1&quot;</td><td style=\"white-space: nowrap; max-width: 500px; overflow: hidden; text-overflow: ellipsis; \">[&quot;Platelet crit&quot;]</td><td style=\"white-space: nowrap; max-width: 500px; overflow: hidden; text-overflow: ellipsis; \">[&quot;Platelet crit&quot;]</td><td style=\"white-space: nowrap; max-width: 500px; overflow: hidden; text-overflow: ellipsis; \">[&quot;Platelet crit&quot;]</td><td style=\"white-space: nowrap; max-width: 500px; overflow: hidden; text-overflow: ellipsis; \">[&quot;Platelet crit&quot;]</td></tr>\n",
       "<tr><td style=\"white-space: nowrap; max-width: 500px; overflow: hidden; text-overflow: ellipsis; \">&quot;TMEM181&quot;</td><td style=\"white-space: nowrap; max-width: 500px; overflow: hidden; text-overflow: ellipsis; \">NA</td><td style=\"white-space: nowrap; max-width: 500px; overflow: hidden; text-overflow: ellipsis; \">NA</td><td style=\"white-space: nowrap; max-width: 500px; overflow: hidden; text-overflow: ellipsis; \">NA</td><td style=\"white-space: nowrap; max-width: 500px; overflow: hidden; text-overflow: ellipsis; \">[&quot;Forced vital capacity (FVC), Best measure&quot;]</td></tr>\n",
       "<tr><td style=\"white-space: nowrap; max-width: 500px; overflow: hidden; text-overflow: ellipsis; \">&quot;TNFRSF13B&quot;</td><td style=\"white-space: nowrap; max-width: 500px; overflow: hidden; text-overflow: ellipsis; \">[&quot;Platelet crit&quot;]</td><td style=\"white-space: nowrap; max-width: 500px; overflow: hidden; text-overflow: ellipsis; \">[&quot;Platelet crit&quot;]</td><td style=\"white-space: nowrap; max-width: 500px; overflow: hidden; text-overflow: ellipsis; \">[&quot;Platelet crit&quot;]</td><td style=\"white-space: nowrap; max-width: 500px; overflow: hidden; text-overflow: ellipsis; \">[&quot;Platelet crit&quot;]</td></tr>\n",
       "<tr><td style=\"white-space: nowrap; max-width: 500px; overflow: hidden; text-overflow: ellipsis; \">&quot;TUBB1&quot;</td><td style=\"white-space: nowrap; max-width: 500px; overflow: hidden; text-overflow: ellipsis; \">[&quot;Platelet crit&quot;]</td><td style=\"white-space: nowrap; max-width: 500px; overflow: hidden; text-overflow: ellipsis; \">[&quot;Platelet crit&quot;]</td><td style=\"white-space: nowrap; max-width: 500px; overflow: hidden; text-overflow: ellipsis; \">[&quot;Platelet crit&quot;]</td><td style=\"white-space: nowrap; max-width: 500px; overflow: hidden; text-overflow: ellipsis; \">[&quot;Platelet crit&quot;]</td></tr>\n",
       "<tr><td style=\"white-space: nowrap; max-width: 500px; overflow: hidden; text-overflow: ellipsis; \">&quot;WASHC2C&quot;</td><td style=\"white-space: nowrap; max-width: 500px; overflow: hidden; text-overflow: ellipsis; \">NA</td><td style=\"white-space: nowrap; max-width: 500px; overflow: hidden; text-overflow: ellipsis; \">[&quot;Immature reticulocyte fraction&quot;]</td><td style=\"white-space: nowrap; max-width: 500px; overflow: hidden; text-overflow: ellipsis; \">[&quot;Immature reticulocyte fraction&quot;]</td><td style=\"white-space: nowrap; max-width: 500px; overflow: hidden; text-overflow: ellipsis; \">[&quot;Immature reticulocyte fraction&quot;]</td></tr>\n",
       "<tr><td style=\"white-space: nowrap; max-width: 500px; overflow: hidden; text-overflow: ellipsis; \">&quot;WDR6&quot;</td><td style=\"white-space: nowrap; max-width: 500px; overflow: hidden; text-overflow: ellipsis; \">NA</td><td style=\"white-space: nowrap; max-width: 500px; overflow: hidden; text-overflow: ellipsis; \">[&quot;Forced vital capacity (FVC), Best measure&quot;]</td><td style=\"white-space: nowrap; max-width: 500px; overflow: hidden; text-overflow: ellipsis; \">[&quot;Forced vital capacity (FVC), Best measure&quot;]</td><td style=\"white-space: nowrap; max-width: 500px; overflow: hidden; text-overflow: ellipsis; \">[&quot;Forced vital capacity (FVC), Best measure&quot;]</td></tr>\n",
       "<tr><td style=\"white-space: nowrap; max-width: 500px; overflow: hidden; text-overflow: ellipsis; \">&quot;YEATS2&quot;</td><td style=\"white-space: nowrap; max-width: 500px; overflow: hidden; text-overflow: ellipsis; \">NA</td><td style=\"white-space: nowrap; max-width: 500px; overflow: hidden; text-overflow: ellipsis; \">NA</td><td style=\"white-space: nowrap; max-width: 500px; overflow: hidden; text-overflow: ellipsis; \">NA</td><td style=\"white-space: nowrap; max-width: 500px; overflow: hidden; text-overflow: ellipsis; \">[&quot;Platelet crit&quot;]</td></tr>\n",
       "<tr><td style=\"white-space: nowrap; max-width: 500px; overflow: hidden; text-overflow: ellipsis; \">&quot;ZFAT&quot;</td><td style=\"white-space: nowrap; max-width: 500px; overflow: hidden; text-overflow: ellipsis; \">[&quot;Forced vital capacity (FVC), Best measure&quot;]</td><td style=\"white-space: nowrap; max-width: 500px; overflow: hidden; text-overflow: ellipsis; \">[&quot;Forced vital capacity (FVC), Best measure&quot;]</td><td style=\"white-space: nowrap; max-width: 500px; overflow: hidden; text-overflow: ellipsis; \">[&quot;Forced vital capacity (FVC), Best measure&quot;,&quot;Platelet crit&quot;]</td><td style=\"white-space: nowrap; max-width: 500px; overflow: hidden; text-overflow: ellipsis; \">[&quot;Forced vital capacity (FVC), Best measure&quot;,&quot;Platelet crit&quot;]</td></tr>\n",
       "<tr><td style=\"white-space: nowrap; max-width: 500px; overflow: hidden; text-overflow: ellipsis; \">&quot;ZNF469&quot;</td><td style=\"white-space: nowrap; max-width: 500px; overflow: hidden; text-overflow: ellipsis; \">NA</td><td style=\"white-space: nowrap; max-width: 500px; overflow: hidden; text-overflow: ellipsis; \">NA</td><td style=\"white-space: nowrap; max-width: 500px; overflow: hidden; text-overflow: ellipsis; \">[&quot;Platelet crit&quot;]</td><td style=\"white-space: nowrap; max-width: 500px; overflow: hidden; text-overflow: ellipsis; \">[&quot;Platelet crit&quot;]</td></tr>\n",
       "</tbody></table>"
      ],
      "text/plain": [
       "+------------------+\n",
       "| within_gene      |\n",
       "+------------------+\n",
       "| str              |\n",
       "+------------------+\n",
       "| \"ABCG2\"          |\n",
       "| \"AC126283.2\"     |\n",
       "| \"ACVRL1\"         |\n",
       "| \"ADAMTS1\"        |\n",
       "| \"ADAMTS6\"        |\n",
       "| \"AHI1\"           |\n",
       "| \"AL451136.1\"     |\n",
       "| \"ALDH16A1\"       |\n",
       "| \"AMOTL1\"         |\n",
       "| \"AMPD3\"          |\n",
       "| \"ARHGAP21\"       |\n",
       "| \"ATAD2\"          |\n",
       "| \"ATXN2\"          |\n",
       "| \"BAK1\"           |\n",
       "| \"BCL2L1\"         |\n",
       "| \"BSN\"            |\n",
       "| \"CCDC124\"        |\n",
       "| \"CCDC88B\"        |\n",
       "| \"CD36\"           |\n",
       "| \"CHEK2\"          |\n",
       "| \"CRISPLD2\"       |\n",
       "| \"CRTAC1\"         |\n",
       "| \"CUX2\"           |\n",
       "| \"DCLRE1B\"        |\n",
       "| \"DDR2\"           |\n",
       "| \"DOCK6\"          |\n",
       "| \"EEF1AKMT4\"      |\n",
       "| \"EEF1AKMT4-ECE2\" |\n",
       "| \"EIF2AK1\"        |\n",
       "| \"ESR1\"           |\n",
       "| \"FERMT3\"         |\n",
       "| \"GATA5\"          |\n",
       "| \"GMPR\"           |\n",
       "| \"GRAMD2A\"        |\n",
       "| \"HBB\"            |\n",
       "| \"HTRA1\"          |\n",
       "| \"IHH\"            |\n",
       "| \"ITGA2B\"         |\n",
       "| \"ITPR3\"          |\n",
       "| \"JAK2\"           |\n",
       "| \"KIF16B\"         |\n",
       "| \"LAPTM5\"         |\n",
       "| \"LDLRAD4\"        |\n",
       "| \"LEMD2\"          |\n",
       "| \"LRP5\"           |\n",
       "| \"LY75\"           |\n",
       "| \"LY75-CD302\"     |\n",
       "| \"MFSD2B\"         |\n",
       "| \"NAA25\"          |\n",
       "| \"NIBAN2\"         |\n",
       "| \"NKAPL\"          |\n",
       "| \"NLRP3\"          |\n",
       "| \"NPAS4\"          |\n",
       "| \"OR10R2\"         |\n",
       "| \"OSMR\"           |\n",
       "| \"PELO\"           |\n",
       "| \"PIEZO1\"         |\n",
       "| \"PLA2G12A\"       |\n",
       "| \"PLEK\"           |\n",
       "| \"PLSCR4\"         |\n",
       "| \"POR\"            |\n",
       "| \"PPP1R15A\"       |\n",
       "| \"QTRT1\"          |\n",
       "| \"R3HDM4\"         |\n",
       "| \"RCL1\"           |\n",
       "| \"RIOK3\"          |\n",
       "| \"RNF123\"         |\n",
       "| \"RNF212\"         |\n",
       "| \"S1PR2\"          |\n",
       "| \"S1PR4\"          |\n",
       "| \"SCMH1\"          |\n",
       "| \"SH2B3\"          |\n",
       "| \"SLA\"            |\n",
       "| \"SLAMF9\"         |\n",
       "| \"SLC1A1\"         |\n",
       "| \"SLC22A12\"       |\n",
       "| \"SLC45A4\"        |\n",
       "| \"SLFN14\"         |\n",
       "| \"SMIM29\"         |\n",
       "| \"SNX17\"          |\n",
       "| \"SPARC\"          |\n",
       "| \"SPHK1\"          |\n",
       "| \"STC2\"           |\n",
       "| \"TFR2\"           |\n",
       "| \"TGFB2\"          |\n",
       "| \"THPO\"           |\n",
       "| \"TIE1\"           |\n",
       "| \"TMEM181\"        |\n",
       "| \"TNFRSF13B\"      |\n",
       "| \"TUBB1\"          |\n",
       "| \"WASHC2C\"        |\n",
       "| \"WDR6\"           |\n",
       "| \"YEATS2\"         |\n",
       "| \"ZFAT\"           |\n",
       "| \"ZNF469\"         |\n",
       "+------------------+\n",
       "\n",
       "+--------------------------------------------------------------------------+\n",
       "| below_8                                                                  |\n",
       "+--------------------------------------------------------------------------+\n",
       "| array<str>                                                               |\n",
       "+--------------------------------------------------------------------------+\n",
       "| NA                                                                       |\n",
       "| NA                                                                       |\n",
       "| NA                                                                       |\n",
       "| [\"Forced vital capacity (FVC), Best measure\"]                            |\n",
       "| [\"Forced vital capacity (FVC), Best measure\"]                            |\n",
       "| NA                                                                       |\n",
       "| NA                                                                       |\n",
       "| [\"allopurinol\"]                                                          |\n",
       "| NA                                                                       |\n",
       "| NA                                                                       |\n",
       "| NA                                                                       |\n",
       "| NA                                                                       |\n",
       "| [\"Platelet crit\"]                                                        |\n",
       "| [\"Platelet crit\"]                                                        |\n",
       "| [\"Platelet crit\"]                                                        |\n",
       "| [\"Immature reticulocyte fraction\"]                                       |\n",
       "| NA                                                                       |\n",
       "| [\"Immature reticulocyte fraction\"]                                       |\n",
       "| [\"Platelet crit\"]                                                        |\n",
       "| [\"Platelet crit\"]                                                        |\n",
       "| NA                                                                       |\n",
       "| NA                                                                       |\n",
       "| NA                                                                       |\n",
       "| NA                                                                       |\n",
       "| NA                                                                       |\n",
       "| [\"Immature reticulocyte fraction\"]                                       |\n",
       "| NA                                                                       |\n",
       "| NA                                                                       |\n",
       "| NA                                                                       |\n",
       "| NA                                                                       |\n",
       "| [\"Immature reticulocyte fraction\"]                                       |\n",
       "| [\"Forced vital capacity (FVC), Best measure\"]                            |\n",
       "| [\"Immature reticulocyte fraction\"]                                       |\n",
       "| NA                                                                       |\n",
       "| NA                                                                       |\n",
       "| NA                                                                       |\n",
       "| NA                                                                       |\n",
       "| [\"Platelet crit\"]                                                        |\n",
       "| NA                                                                       |\n",
       "| [\"Platelet crit\"]                                                        |\n",
       "| NA                                                                       |\n",
       "| [\"Platelet crit\"]                                                        |\n",
       "| [\"Forced vital capacity (FVC), Best measure\"]                            |\n",
       "| NA                                                                       |\n",
       "| [\"Date M81 first reported (osteoporosis without pathological fracture)\"] |\n",
       "| [\"Platelet crit\"]                                                        |\n",
       "| [\"Platelet crit\"]                                                        |\n",
       "| [\"Platelet crit\",\"Immature reticulocyte fraction\"]                       |\n",
       "| [\"Platelet crit\"]                                                        |\n",
       "| NA                                                                       |\n",
       "| NA                                                                       |\n",
       "| NA                                                                       |\n",
       "| NA                                                                       |\n",
       "| NA                                                                       |\n",
       "| [\"Immature reticulocyte fraction\"]                                       |\n",
       "| [\"Immature reticulocyte fraction\"]                                       |\n",
       "| [\"Immature reticulocyte fraction\"]                                       |\n",
       "| [\"Platelet crit\"]                                                        |\n",
       "| [\"Platelet crit\"]                                                        |\n",
       "| NA                                                                       |\n",
       "| NA                                                                       |\n",
       "| NA                                                                       |\n",
       "| NA                                                                       |\n",
       "| [\"Immature reticulocyte fraction\"]                                       |\n",
       "| [\"Platelet crit\"]                                                        |\n",
       "| [\"Immature reticulocyte fraction\"]                                       |\n",
       "| NA                                                                       |\n",
       "| NA                                                                       |\n",
       "| [\"Immature reticulocyte fraction\"]                                       |\n",
       "| [\"Platelet crit\"]                                                        |\n",
       "| [\"Forced vital capacity (FVC), Best measure\"]                            |\n",
       "| [\"Platelet crit\"]                                                        |\n",
       "| NA                                                                       |\n",
       "| NA                                                                       |\n",
       "| [\"Platelet crit\"]                                                        |\n",
       "| [\"allopurinol\"]                                                          |\n",
       "| [\"Immature reticulocyte fraction\"]                                       |\n",
       "| [\"Platelet crit\",\"Immature reticulocyte fraction\"]                       |\n",
       "| NA                                                                       |\n",
       "| NA                                                                       |\n",
       "| NA                                                                       |\n",
       "| [\"Immature reticulocyte fraction\"]                                       |\n",
       "| NA                                                                       |\n",
       "| NA                                                                       |\n",
       "| NA                                                                       |\n",
       "| [\"Platelet crit\"]                                                        |\n",
       "| [\"Platelet crit\"]                                                        |\n",
       "| NA                                                                       |\n",
       "| [\"Platelet crit\"]                                                        |\n",
       "| [\"Platelet crit\"]                                                        |\n",
       "| NA                                                                       |\n",
       "| NA                                                                       |\n",
       "| NA                                                                       |\n",
       "| [\"Forced vital capacity (FVC), Best measure\"]                            |\n",
       "| NA                                                                       |\n",
       "+--------------------------------------------------------------------------+\n",
       "\n",
       "+--------------------------------------------------------------------------+\n",
       "| below_7                                                                  |\n",
       "+--------------------------------------------------------------------------+\n",
       "| array<str>                                                               |\n",
       "+--------------------------------------------------------------------------+\n",
       "| [\"allopurinol\"]                                                          |\n",
       "| NA                                                                       |\n",
       "| NA                                                                       |\n",
       "| [\"Forced vital capacity (FVC), Best measure\"]                            |\n",
       "| [\"Forced vital capacity (FVC), Best measure\"]                            |\n",
       "| NA                                                                       |\n",
       "| NA                                                                       |\n",
       "| [\"allopurinol\"]                                                          |\n",
       "| NA                                                                       |\n",
       "| [\"Immature reticulocyte fraction\"]                                       |\n",
       "| [\"Immature reticulocyte fraction\"]                                       |\n",
       "| [\"Forced vital capacity (FVC), Best measure\"]                            |\n",
       "| [\"Platelet crit\"]                                                        |\n",
       "| [\"Platelet crit\"]                                                        |\n",
       "| [\"Platelet crit\"]                                                        |\n",
       "| [\"Immature reticulocyte fraction\"]                                       |\n",
       "| NA                                                                       |\n",
       "| [\"Immature reticulocyte fraction\"]                                       |\n",
       "| [\"Platelet crit\"]                                                        |\n",
       "| [\"Platelet crit\"]                                                        |\n",
       "| NA                                                                       |\n",
       "| NA                                                                       |\n",
       "| [\"Platelet crit\"]                                                        |\n",
       "| NA                                                                       |\n",
       "| NA                                                                       |\n",
       "| [\"Immature reticulocyte fraction\"]                                       |\n",
       "| NA                                                                       |\n",
       "| NA                                                                       |\n",
       "| [\"Immature reticulocyte fraction\"]                                       |\n",
       "| NA                                                                       |\n",
       "| [\"Immature reticulocyte fraction\"]                                       |\n",
       "| [\"Forced vital capacity (FVC), Best measure\"]                            |\n",
       "| [\"Immature reticulocyte fraction\"]                                       |\n",
       "| NA                                                                       |\n",
       "| [\"Immature reticulocyte fraction\"]                                       |\n",
       "| NA                                                                       |\n",
       "| [\"Forced vital capacity (FVC), Best measure\"]                            |\n",
       "| [\"Platelet crit\"]                                                        |\n",
       "| [\"Platelet crit\"]                                                        |\n",
       "| [\"Platelet crit\"]                                                        |\n",
       "| NA                                                                       |\n",
       "| [\"Platelet crit\"]                                                        |\n",
       "| [\"Forced vital capacity (FVC), Best measure\"]                            |\n",
       "| NA                                                                       |\n",
       "| [\"Date M81 first reported (osteoporosis without pathological fracture)\"] |\n",
       "| [\"Platelet crit\"]                                                        |\n",
       "| [\"Platelet crit\"]                                                        |\n",
       "| [\"Platelet crit\",\"Immature reticulocyte fraction\"]                       |\n",
       "| [\"Platelet crit\"]                                                        |\n",
       "| NA                                                                       |\n",
       "| NA                                                                       |\n",
       "| NA                                                                       |\n",
       "| [\"Forced vital capacity (FVC), Best measure\"]                            |\n",
       "| NA                                                                       |\n",
       "| [\"Immature reticulocyte fraction\"]                                       |\n",
       "| [\"Immature reticulocyte fraction\"]                                       |\n",
       "| [\"Immature reticulocyte fraction\"]                                       |\n",
       "| [\"Platelet crit\"]                                                        |\n",
       "| [\"Platelet crit\"]                                                        |\n",
       "| [\"Platelet crit\"]                                                        |\n",
       "| NA                                                                       |\n",
       "| NA                                                                       |\n",
       "| NA                                                                       |\n",
       "| [\"Immature reticulocyte fraction\"]                                       |\n",
       "| [\"Platelet crit\"]                                                        |\n",
       "| [\"Immature reticulocyte fraction\"]                                       |\n",
       "| NA                                                                       |\n",
       "| NA                                                                       |\n",
       "| [\"Immature reticulocyte fraction\"]                                       |\n",
       "| [\"Platelet crit\"]                                                        |\n",
       "| [\"Forced vital capacity (FVC), Best measure\"]                            |\n",
       "| [\"Platelet crit\"]                                                        |\n",
       "| NA                                                                       |\n",
       "| NA                                                                       |\n",
       "| [\"Platelet crit\"]                                                        |\n",
       "| [\"allopurinol\"]                                                          |\n",
       "| [\"Immature reticulocyte fraction\"]                                       |\n",
       "| [\"Platelet crit\",\"Immature reticulocyte fraction\"]                       |\n",
       "| [\"Forced vital capacity (FVC), Best measure\"]                            |\n",
       "| NA                                                                       |\n",
       "| NA                                                                       |\n",
       "| [\"Immature reticulocyte fraction\"]                                       |\n",
       "| [\"Forced vital capacity (FVC), Best measure\"]                            |\n",
       "| [\"Platelet crit\"]                                                        |\n",
       "| NA                                                                       |\n",
       "| [\"Platelet crit\"]                                                        |\n",
       "| [\"Platelet crit\"]                                                        |\n",
       "| NA                                                                       |\n",
       "| [\"Platelet crit\"]                                                        |\n",
       "| [\"Platelet crit\"]                                                        |\n",
       "| [\"Immature reticulocyte fraction\"]                                       |\n",
       "| [\"Forced vital capacity (FVC), Best measure\"]                            |\n",
       "| NA                                                                       |\n",
       "| [\"Forced vital capacity (FVC), Best measure\"]                            |\n",
       "| NA                                                                       |\n",
       "+--------------------------------------------------------------------------+\n",
       "\n",
       "+--------------------------------------------------------------------------+\n",
       "| below_6                                                                  |\n",
       "+--------------------------------------------------------------------------+\n",
       "| array<str>                                                               |\n",
       "+--------------------------------------------------------------------------+\n",
       "| [\"allopurinol\"]                                                          |\n",
       "| [\"Platelet crit\"]                                                        |\n",
       "| [\"Platelet crit\"]                                                        |\n",
       "| [\"Forced vital capacity (FVC), Best measure\"]                            |\n",
       "| [\"Forced vital capacity (FVC), Best measure\"]                            |\n",
       "| [\"Platelet crit\"]                                                        |\n",
       "| NA                                                                       |\n",
       "| [\"allopurinol\"]                                                          |\n",
       "| [\"Platelet crit\"]                                                        |\n",
       "| [\"Immature reticulocyte fraction\"]                                       |\n",
       "| [\"Immature reticulocyte fraction\"]                                       |\n",
       "| [\"Forced vital capacity (FVC), Best measure\"]                            |\n",
       "| [\"Platelet crit\"]                                                        |\n",
       "| [\"Platelet crit\"]                                                        |\n",
       "| [\"Platelet crit\"]                                                        |\n",
       "| [\"Immature reticulocyte fraction\"]                                       |\n",
       "| NA                                                                       |\n",
       "| [\"Immature reticulocyte fraction\"]                                       |\n",
       "| [\"Platelet crit\"]                                                        |\n",
       "| [\"Platelet crit\"]                                                        |\n",
       "| [\"Forced vital capacity (FVC), Best measure\"]                            |\n",
       "| NA                                                                       |\n",
       "| [\"Platelet crit\"]                                                        |\n",
       "| NA                                                                       |\n",
       "| NA                                                                       |\n",
       "| [\"Immature reticulocyte fraction\"]                                       |\n",
       "| NA                                                                       |\n",
       "| [\"Platelet crit\"]                                                        |\n",
       "| [\"Immature reticulocyte fraction\"]                                       |\n",
       "| [\"Forced vital capacity (FVC), Best measure\"]                            |\n",
       "| [\"Immature reticulocyte fraction\"]                                       |\n",
       "| [\"Forced vital capacity (FVC), Best measure\"]                            |\n",
       "| [\"Immature reticulocyte fraction\"]                                       |\n",
       "| NA                                                                       |\n",
       "| [\"Immature reticulocyte fraction\"]                                       |\n",
       "| NA                                                                       |\n",
       "| [\"Forced vital capacity (FVC), Best measure\"]                            |\n",
       "| [\"Platelet crit\"]                                                        |\n",
       "| [\"Platelet crit\"]                                                        |\n",
       "| [\"Platelet crit\"]                                                        |\n",
       "| NA                                                                       |\n",
       "| [\"Platelet crit\"]                                                        |\n",
       "| [\"Forced vital capacity (FVC), Best measure\"]                            |\n",
       "| NA                                                                       |\n",
       "| [\"Date M81 first reported (osteoporosis without pathological fracture)\"] |\n",
       "| [\"Platelet crit\"]                                                        |\n",
       "| [\"Platelet crit\"]                                                        |\n",
       "| [\"Platelet crit\",\"Immature reticulocyte fraction\"]                       |\n",
       "| [\"Platelet crit\"]                                                        |\n",
       "| [\"Forced vital capacity (FVC), Best measure\"]                            |\n",
       "| [\"Immature reticulocyte fraction\"]                                       |\n",
       "| [\"Platelet crit\"]                                                        |\n",
       "| [\"Forced vital capacity (FVC), Best measure\"]                            |\n",
       "| NA                                                                       |\n",
       "| [\"Immature reticulocyte fraction\"]                                       |\n",
       "| [\"Immature reticulocyte fraction\"]                                       |\n",
       "| [\"Immature reticulocyte fraction\"]                                       |\n",
       "| [\"Platelet crit\"]                                                        |\n",
       "| [\"Platelet crit\"]                                                        |\n",
       "| [\"Platelet crit\"]                                                        |\n",
       "| [\"Platelet crit\"]                                                        |\n",
       "| NA                                                                       |\n",
       "| NA                                                                       |\n",
       "| [\"Immature reticulocyte fraction\"]                                       |\n",
       "| [\"Platelet crit\"]                                                        |\n",
       "| [\"Immature reticulocyte fraction\"]                                       |\n",
       "| [\"Immature reticulocyte fraction\"]                                       |\n",
       "| NA                                                                       |\n",
       "| [\"Immature reticulocyte fraction\"]                                       |\n",
       "| [\"Platelet crit\"]                                                        |\n",
       "| [\"Forced vital capacity (FVC), Best measure\"]                            |\n",
       "| [\"Platelet crit\"]                                                        |\n",
       "| [\"Platelet crit\"]                                                        |\n",
       "| NA                                                                       |\n",
       "| [\"Platelet crit\"]                                                        |\n",
       "| [\"allopurinol\"]                                                          |\n",
       "| [\"Immature reticulocyte fraction\"]                                       |\n",
       "| [\"Platelet crit\",\"Immature reticulocyte fraction\"]                       |\n",
       "| [\"Forced vital capacity (FVC), Best measure\"]                            |\n",
       "| NA                                                                       |\n",
       "| NA                                                                       |\n",
       "| [\"Immature reticulocyte fraction\"]                                       |\n",
       "| [\"Forced vital capacity (FVC), Best measure\"]                            |\n",
       "| [\"Platelet crit\"]                                                        |\n",
       "| NA                                                                       |\n",
       "| [\"Platelet crit\"]                                                        |\n",
       "| [\"Platelet crit\"]                                                        |\n",
       "| NA                                                                       |\n",
       "| [\"Platelet crit\"]                                                        |\n",
       "| [\"Platelet crit\"]                                                        |\n",
       "| [\"Immature reticulocyte fraction\"]                                       |\n",
       "| [\"Forced vital capacity (FVC), Best measure\"]                            |\n",
       "| NA                                                                       |\n",
       "| [\"Forced vital capacity (FVC), Best measure\",\"Platelet crit\"]            |\n",
       "| [\"Platelet crit\"]                                                        |\n",
       "+--------------------------------------------------------------------------+\n",
       "\n",
       "+------------------------------------------------------------------------------+\n",
       "| below_5                                                                      |\n",
       "+------------------------------------------------------------------------------+\n",
       "| array<str>                                                                   |\n",
       "+------------------------------------------------------------------------------+\n",
       "| [\"allopurinol\"]                                                              |\n",
       "| [\"Platelet crit\"]                                                            |\n",
       "| [\"Platelet crit\"]                                                            |\n",
       "| [\"Forced vital capacity (FVC), Best measure\"]                                |\n",
       "| [\"Forced vital capacity (FVC), Best measure\"]                                |\n",
       "| [\"Platelet crit\"]                                                            |\n",
       "| [\"Immature reticulocyte fraction\"]                                           |\n",
       "| [\"allopurinol\"]                                                              |\n",
       "| [\"Platelet crit\"]                                                            |\n",
       "| [\"Immature reticulocyte fraction\"]                                           |\n",
       "| [\"Immature reticulocyte fraction\"]                                           |\n",
       "| [\"Forced vital capacity (FVC), Best measure\"]                                |\n",
       "| [\"Platelet crit\"]                                                            |\n",
       "| [\"Platelet crit\"]                                                            |\n",
       "| [\"Platelet crit\"]                                                            |\n",
       "| [\"Platelet crit\",\"Immature reticulocyte fraction\"]                           |\n",
       "| [\"Immature reticulocyte fraction\"]                                           |\n",
       "| [\"Immature reticulocyte fraction\"]                                           |\n",
       "| [\"Platelet crit\"]                                                            |\n",
       "| [\"Platelet crit\"]                                                            |\n",
       "| [\"Forced vital capacity (FVC), Best measure\"]                                |\n",
       "| [\"Forced vital capacity (FVC), Best measure\"]                                |\n",
       "| [\"Platelet crit\"]                                                            |\n",
       "| [\"Platelet crit\"]                                                            |\n",
       "| [\"Forced vital capacity (FVC), Best measure\"]                                |\n",
       "| [\"Immature reticulocyte fraction\"]                                           |\n",
       "| [\"Platelet crit\"]                                                            |\n",
       "| [\"Platelet crit\"]                                                            |\n",
       "| [\"Immature reticulocyte fraction\"]                                           |\n",
       "| [\"Forced vital capacity (FVC), Best measure\"]                                |\n",
       "| [\"Immature reticulocyte fraction\"]                                           |\n",
       "| [\"Forced vital capacity (FVC), Best measure\"]                                |\n",
       "| [\"Immature reticulocyte fraction\"]                                           |\n",
       "| [\"Forced vital capacity (FVC), Best measure\"]                                |\n",
       "| [\"Immature reticulocyte fraction\"]                                           |\n",
       "| [\"Forced vital capacity (FVC), Best measure\"]                                |\n",
       "| [\"Forced vital capacity (FVC), Best measure\"]                                |\n",
       "| [\"Platelet crit\"]                                                            |\n",
       "| [\"Platelet crit\"]                                                            |\n",
       "| [\"Platelet crit\"]                                                            |\n",
       "| [\"Platelet crit\"]                                                            |\n",
       "| [\"Platelet crit\"]                                                            |\n",
       "| [\"Forced vital capacity (FVC), Best measure\"]                                |\n",
       "| [\"Platelet crit\"]                                                            |\n",
       "| [\"Date M81 first reported (osteoporosis without pathological fracture)\"]     |\n",
       "| [\"Platelet crit\"]                                                            |\n",
       "| [\"Platelet crit\"]                                                            |\n",
       "| [\"Platelet crit\",\"Immature reticulocyte fraction\"]                           |\n",
       "| [\"Platelet crit\"]                                                            |\n",
       "| [\"Forced vital capacity (FVC), Best measure\"]                                |\n",
       "| [\"Immature reticulocyte fraction\"]                                           |\n",
       "| [\"Platelet crit\"]                                                            |\n",
       "| [\"Forced vital capacity (FVC), Best measure\"]                                |\n",
       "| [\"Immature reticulocyte fraction\"]                                           |\n",
       "| [\"Immature reticulocyte fraction\"]                                           |\n",
       "| [\"Immature reticulocyte fraction\"]                                           |\n",
       "| [\"Forced vital capacity (FVC), Best measure\",\"Platelet crit\",\"Immature re... |\n",
       "| [\"Platelet crit\"]                                                            |\n",
       "| [\"Platelet crit\"]                                                            |\n",
       "| [\"Platelet crit\"]                                                            |\n",
       "| [\"Platelet crit\"]                                                            |\n",
       "| [\"Date M81 first reported (osteoporosis without pathological fracture)\"]     |\n",
       "| [\"Immature reticulocyte fraction\"]                                           |\n",
       "| [\"Immature reticulocyte fraction\"]                                           |\n",
       "| [\"Platelet crit\"]                                                            |\n",
       "| [\"Immature reticulocyte fraction\"]                                           |\n",
       "| [\"Immature reticulocyte fraction\"]                                           |\n",
       "| [\"Immature reticulocyte fraction\"]                                           |\n",
       "| [\"Immature reticulocyte fraction\"]                                           |\n",
       "| [\"Platelet crit\"]                                                            |\n",
       "| [\"Forced vital capacity (FVC), Best measure\"]                                |\n",
       "| [\"Platelet crit\"]                                                            |\n",
       "| [\"Platelet crit\"]                                                            |\n",
       "| [\"Forced vital capacity (FVC), Best measure\"]                                |\n",
       "| [\"Platelet crit\"]                                                            |\n",
       "| [\"allopurinol\"]                                                              |\n",
       "| [\"Immature reticulocyte fraction\"]                                           |\n",
       "| [\"Platelet crit\",\"Immature reticulocyte fraction\"]                           |\n",
       "| [\"Forced vital capacity (FVC), Best measure\"]                                |\n",
       "| [\"Immature reticulocyte fraction\"]                                           |\n",
       "| [\"Forced vital capacity (FVC), Best measure\"]                                |\n",
       "| [\"Immature reticulocyte fraction\"]                                           |\n",
       "| [\"Forced vital capacity (FVC), Best measure\"]                                |\n",
       "| [\"Platelet crit\"]                                                            |\n",
       "| [\"Forced vital capacity (FVC), Best measure\"]                                |\n",
       "| [\"Platelet crit\"]                                                            |\n",
       "| [\"Platelet crit\"]                                                            |\n",
       "| [\"Forced vital capacity (FVC), Best measure\"]                                |\n",
       "| [\"Platelet crit\"]                                                            |\n",
       "| [\"Platelet crit\"]                                                            |\n",
       "| [\"Immature reticulocyte fraction\"]                                           |\n",
       "| [\"Forced vital capacity (FVC), Best measure\"]                                |\n",
       "| [\"Platelet crit\"]                                                            |\n",
       "| [\"Forced vital capacity (FVC), Best measure\",\"Platelet crit\"]                |\n",
       "| [\"Platelet crit\"]                                                            |\n",
       "+------------------------------------------------------------------------------+"
      ]
     },
     "metadata": {},
     "output_type": "display_data"
    }
   ],
   "source": [
    "mt_single.rows().show(n_rows=100)"
   ]
  },
  {
   "cell_type": "code",
   "execution_count": 260,
   "id": "ad303627-ac2f-424b-95bc-1ab4c968c1ce",
   "metadata": {},
   "outputs": [],
   "source": [
    "gene_list = list(\n",
    "    set(\n",
    "        mt_single.explode_rows(\n",
    "            mt_single.below_5\n",
    "        )['within_gene'].collect()\n",
    "    )\n",
    ")"
   ]
  },
  {
   "cell_type": "code",
   "execution_count": 261,
   "id": "87553ffa-6aeb-44a7-b933-6c28f82daad9",
   "metadata": {},
   "outputs": [],
   "source": [
    "mt_single = mt_single.entries()"
   ]
  },
  {
   "cell_type": "code",
   "execution_count": 262,
   "id": "63fcba55-18ba-4f3b-b798-8653e02a43b9",
   "metadata": {},
   "outputs": [],
   "source": [
    "mt_single = mt_single.select(\n",
    "    genebass_pheno = mt_single.below_5,\n",
    "    group = mt_single.group,\n",
    "    sport_type = mt_single.sport_phenotypes.type,\n",
    "    cadd_above_10_sum =  mt_single['cadd_above_10_sum'],\n",
    "    cadd_above_20_sum =  mt_single['cadd_above_20_sum'],\n",
    "    cadd_above_16_sum =  mt_single['cadd_above_16_sum'],\n",
    "    any_cadd_above_16 = mt_single['any_cadd_above_16'],\n",
    "    any_cadd_above_20 = mt_single['any_cadd_above_20'],\n",
    "    any_lof = mt_single['any_lof'] \n",
    ")"
   ]
  },
  {
   "cell_type": "code",
   "execution_count": 263,
   "id": "cea63e83-7d89-4163-af30-100247f8d15f",
   "metadata": {
    "tags": []
   },
   "outputs": [
    {
     "data": {
      "text/html": [
       "<table><thead><tr><td style=\"white-space: nowrap; max-width: 500px; overflow: hidden; text-overflow: ellipsis; \" colspan=\"1\"><div style=\"text-align: left;\"></div></td><td style=\"white-space: nowrap; max-width: 500px; overflow: hidden; text-overflow: ellipsis; \" colspan=\"1\"><div style=\"text-align: left;\"></div></td><td style=\"white-space: nowrap; max-width: 500px; overflow: hidden; text-overflow: ellipsis; \" colspan=\"1\"><div style=\"text-align: left;\"></div></td><td style=\"white-space: nowrap; max-width: 500px; overflow: hidden; text-overflow: ellipsis; \" colspan=\"1\"><div style=\"text-align: left;\"></div></td><td style=\"white-space: nowrap; max-width: 500px; overflow: hidden; text-overflow: ellipsis; \" colspan=\"1\"><div style=\"text-align: left;\"></div></td><td style=\"white-space: nowrap; max-width: 500px; overflow: hidden; text-overflow: ellipsis; \" colspan=\"1\"><div style=\"text-align: left;\"></div></td><td style=\"white-space: nowrap; max-width: 500px; overflow: hidden; text-overflow: ellipsis; \" colspan=\"1\"><div style=\"text-align: left;\"></div></td><td style=\"white-space: nowrap; max-width: 500px; overflow: hidden; text-overflow: ellipsis; \" colspan=\"1\"><div style=\"text-align: left;\"></div></td><td style=\"white-space: nowrap; max-width: 500px; overflow: hidden; text-overflow: ellipsis; \" colspan=\"1\"><div style=\"text-align: left;\"></div></td><td style=\"white-space: nowrap; max-width: 500px; overflow: hidden; text-overflow: ellipsis; \" colspan=\"1\"><div style=\"text-align: left;\"></div></td><td style=\"white-space: nowrap; max-width: 500px; overflow: hidden; text-overflow: ellipsis; \" colspan=\"1\"><div style=\"text-align: left;\"></div></td></tr><tr><td style=\"white-space: nowrap; max-width: 500px; overflow: hidden; text-overflow: ellipsis; \" colspan=\"1\"><div style=\"text-align: left;border-bottom: solid 2px #000; padding-bottom: 5px\">within_gene</div></td><td style=\"white-space: nowrap; max-width: 500px; overflow: hidden; text-overflow: ellipsis; \" colspan=\"1\"><div style=\"text-align: left;border-bottom: solid 2px #000; padding-bottom: 5px\">s</div></td><td style=\"white-space: nowrap; max-width: 500px; overflow: hidden; text-overflow: ellipsis; \" colspan=\"1\"><div style=\"text-align: left;border-bottom: solid 2px #000; padding-bottom: 5px\">genebass_pheno</div></td><td style=\"white-space: nowrap; max-width: 500px; overflow: hidden; text-overflow: ellipsis; \" colspan=\"1\"><div style=\"text-align: left;border-bottom: solid 2px #000; padding-bottom: 5px\">group</div></td><td style=\"white-space: nowrap; max-width: 500px; overflow: hidden; text-overflow: ellipsis; \" colspan=\"1\"><div style=\"text-align: left;border-bottom: solid 2px #000; padding-bottom: 5px\">sport_type</div></td><td style=\"white-space: nowrap; max-width: 500px; overflow: hidden; text-overflow: ellipsis; \" colspan=\"1\"><div style=\"text-align: left;border-bottom: solid 2px #000; padding-bottom: 5px\">cadd_above_10_sum</div></td><td style=\"white-space: nowrap; max-width: 500px; overflow: hidden; text-overflow: ellipsis; \" colspan=\"1\"><div style=\"text-align: left;border-bottom: solid 2px #000; padding-bottom: 5px\">cadd_above_20_sum</div></td><td style=\"white-space: nowrap; max-width: 500px; overflow: hidden; text-overflow: ellipsis; \" colspan=\"1\"><div style=\"text-align: left;border-bottom: solid 2px #000; padding-bottom: 5px\">cadd_above_16_sum</div></td><td style=\"white-space: nowrap; max-width: 500px; overflow: hidden; text-overflow: ellipsis; \" colspan=\"1\"><div style=\"text-align: left;border-bottom: solid 2px #000; padding-bottom: 5px\">any_cadd_above_16</div></td><td style=\"white-space: nowrap; max-width: 500px; overflow: hidden; text-overflow: ellipsis; \" colspan=\"1\"><div style=\"text-align: left;border-bottom: solid 2px #000; padding-bottom: 5px\">any_cadd_above_20</div></td><td style=\"white-space: nowrap; max-width: 500px; overflow: hidden; text-overflow: ellipsis; \" colspan=\"1\"><div style=\"text-align: left;border-bottom: solid 2px #000; padding-bottom: 5px\">any_lof</div></td></tr><tr><td style=\"white-space: nowrap; max-width: 500px; overflow: hidden; text-overflow: ellipsis; text-align: left;\">str</td><td style=\"white-space: nowrap; max-width: 500px; overflow: hidden; text-overflow: ellipsis; text-align: left;\">str</td><td style=\"white-space: nowrap; max-width: 500px; overflow: hidden; text-overflow: ellipsis; text-align: left;\">array&lt;str&gt;</td><td style=\"white-space: nowrap; max-width: 500px; overflow: hidden; text-overflow: ellipsis; text-align: left;\">str</td><td style=\"white-space: nowrap; max-width: 500px; overflow: hidden; text-overflow: ellipsis; text-align: left;\">str</td><td style=\"white-space: nowrap; max-width: 500px; overflow: hidden; text-overflow: ellipsis; text-align: left;\">float64</td><td style=\"white-space: nowrap; max-width: 500px; overflow: hidden; text-overflow: ellipsis; text-align: left;\">float64</td><td style=\"white-space: nowrap; max-width: 500px; overflow: hidden; text-overflow: ellipsis; text-align: left;\">float64</td><td style=\"white-space: nowrap; max-width: 500px; overflow: hidden; text-overflow: ellipsis; text-align: left;\">bool</td><td style=\"white-space: nowrap; max-width: 500px; overflow: hidden; text-overflow: ellipsis; text-align: left;\">bool</td><td style=\"white-space: nowrap; max-width: 500px; overflow: hidden; text-overflow: ellipsis; text-align: left;\">bool</td></tr>\n",
       "</thead><tbody><tr><td style=\"white-space: nowrap; max-width: 500px; overflow: hidden; text-overflow: ellipsis; \">&quot;ABCG2&quot;</td><td style=\"white-space: nowrap; max-width: 500px; overflow: hidden; text-overflow: ellipsis; \">&quot;462&quot;</td><td style=\"white-space: nowrap; max-width: 500px; overflow: hidden; text-overflow: ellipsis; \">[&quot;allopurinol&quot;]</td><td style=\"white-space: nowrap; max-width: 500px; overflow: hidden; text-overflow: ellipsis; \">&quot;control&quot;</td><td style=\"white-space: nowrap; max-width: 500px; overflow: hidden; text-overflow: ellipsis; \">NA</td><td style=\"white-space: nowrap; max-width: 500px; overflow: hidden; text-overflow: ellipsis; \">4.07e+01</td><td style=\"white-space: nowrap; max-width: 500px; overflow: hidden; text-overflow: ellipsis; \">0.00e+00</td><td style=\"white-space: nowrap; max-width: 500px; overflow: hidden; text-overflow: ellipsis; \">0.00e+00</td><td style=\"white-space: nowrap; max-width: 500px; overflow: hidden; text-overflow: ellipsis; \">False</td><td style=\"white-space: nowrap; max-width: 500px; overflow: hidden; text-overflow: ellipsis; \">False</td><td style=\"white-space: nowrap; max-width: 500px; overflow: hidden; text-overflow: ellipsis; \">False</td></tr>\n",
       "<tr><td style=\"white-space: nowrap; max-width: 500px; overflow: hidden; text-overflow: ellipsis; \">&quot;ABCG2&quot;</td><td style=\"white-space: nowrap; max-width: 500px; overflow: hidden; text-overflow: ellipsis; \">&quot;468&quot;</td><td style=\"white-space: nowrap; max-width: 500px; overflow: hidden; text-overflow: ellipsis; \">[&quot;allopurinol&quot;]</td><td style=\"white-space: nowrap; max-width: 500px; overflow: hidden; text-overflow: ellipsis; \">&quot;control&quot;</td><td style=\"white-space: nowrap; max-width: 500px; overflow: hidden; text-overflow: ellipsis; \">NA</td><td style=\"white-space: nowrap; max-width: 500px; overflow: hidden; text-overflow: ellipsis; \">3.07e+01</td><td style=\"white-space: nowrap; max-width: 500px; overflow: hidden; text-overflow: ellipsis; \">0.00e+00</td><td style=\"white-space: nowrap; max-width: 500px; overflow: hidden; text-overflow: ellipsis; \">0.00e+00</td><td style=\"white-space: nowrap; max-width: 500px; overflow: hidden; text-overflow: ellipsis; \">False</td><td style=\"white-space: nowrap; max-width: 500px; overflow: hidden; text-overflow: ellipsis; \">False</td><td style=\"white-space: nowrap; max-width: 500px; overflow: hidden; text-overflow: ellipsis; \">False</td></tr>\n",
       "<tr><td style=\"white-space: nowrap; max-width: 500px; overflow: hidden; text-overflow: ellipsis; \">&quot;ABCG2&quot;</td><td style=\"white-space: nowrap; max-width: 500px; overflow: hidden; text-overflow: ellipsis; \">&quot;490&quot;</td><td style=\"white-space: nowrap; max-width: 500px; overflow: hidden; text-overflow: ellipsis; \">[&quot;allopurinol&quot;]</td><td style=\"white-space: nowrap; max-width: 500px; overflow: hidden; text-overflow: ellipsis; \">&quot;control&quot;</td><td style=\"white-space: nowrap; max-width: 500px; overflow: hidden; text-overflow: ellipsis; \">NA</td><td style=\"white-space: nowrap; max-width: 500px; overflow: hidden; text-overflow: ellipsis; \">3.07e+01</td><td style=\"white-space: nowrap; max-width: 500px; overflow: hidden; text-overflow: ellipsis; \">0.00e+00</td><td style=\"white-space: nowrap; max-width: 500px; overflow: hidden; text-overflow: ellipsis; \">0.00e+00</td><td style=\"white-space: nowrap; max-width: 500px; overflow: hidden; text-overflow: ellipsis; \">False</td><td style=\"white-space: nowrap; max-width: 500px; overflow: hidden; text-overflow: ellipsis; \">False</td><td style=\"white-space: nowrap; max-width: 500px; overflow: hidden; text-overflow: ellipsis; \">False</td></tr>\n",
       "<tr><td style=\"white-space: nowrap; max-width: 500px; overflow: hidden; text-overflow: ellipsis; \">&quot;ABCG2&quot;</td><td style=\"white-space: nowrap; max-width: 500px; overflow: hidden; text-overflow: ellipsis; \">&quot;492&quot;</td><td style=\"white-space: nowrap; max-width: 500px; overflow: hidden; text-overflow: ellipsis; \">[&quot;allopurinol&quot;]</td><td style=\"white-space: nowrap; max-width: 500px; overflow: hidden; text-overflow: ellipsis; \">&quot;control&quot;</td><td style=\"white-space: nowrap; max-width: 500px; overflow: hidden; text-overflow: ellipsis; \">NA</td><td style=\"white-space: nowrap; max-width: 500px; overflow: hidden; text-overflow: ellipsis; \">4.40e+01</td><td style=\"white-space: nowrap; max-width: 500px; overflow: hidden; text-overflow: ellipsis; \">0.00e+00</td><td style=\"white-space: nowrap; max-width: 500px; overflow: hidden; text-overflow: ellipsis; \">0.00e+00</td><td style=\"white-space: nowrap; max-width: 500px; overflow: hidden; text-overflow: ellipsis; \">False</td><td style=\"white-space: nowrap; max-width: 500px; overflow: hidden; text-overflow: ellipsis; \">False</td><td style=\"white-space: nowrap; max-width: 500px; overflow: hidden; text-overflow: ellipsis; \">False</td></tr>\n",
       "<tr><td style=\"white-space: nowrap; max-width: 500px; overflow: hidden; text-overflow: ellipsis; \">&quot;ABCG2&quot;</td><td style=\"white-space: nowrap; max-width: 500px; overflow: hidden; text-overflow: ellipsis; \">&quot;B102&quot;</td><td style=\"white-space: nowrap; max-width: 500px; overflow: hidden; text-overflow: ellipsis; \">[&quot;allopurinol&quot;]</td><td style=\"white-space: nowrap; max-width: 500px; overflow: hidden; text-overflow: ellipsis; \">&quot;sport&quot;</td><td style=\"white-space: nowrap; max-width: 500px; overflow: hidden; text-overflow: ellipsis; \">&quot;speed&quot;</td><td style=\"white-space: nowrap; max-width: 500px; overflow: hidden; text-overflow: ellipsis; \">4.07e+01</td><td style=\"white-space: nowrap; max-width: 500px; overflow: hidden; text-overflow: ellipsis; \">0.00e+00</td><td style=\"white-space: nowrap; max-width: 500px; overflow: hidden; text-overflow: ellipsis; \">0.00e+00</td><td style=\"white-space: nowrap; max-width: 500px; overflow: hidden; text-overflow: ellipsis; \">False</td><td style=\"white-space: nowrap; max-width: 500px; overflow: hidden; text-overflow: ellipsis; \">False</td><td style=\"white-space: nowrap; max-width: 500px; overflow: hidden; text-overflow: ellipsis; \">False</td></tr>\n",
       "<tr><td style=\"white-space: nowrap; max-width: 500px; overflow: hidden; text-overflow: ellipsis; \">&quot;ABCG2&quot;</td><td style=\"white-space: nowrap; max-width: 500px; overflow: hidden; text-overflow: ellipsis; \">&quot;B156&quot;</td><td style=\"white-space: nowrap; max-width: 500px; overflow: hidden; text-overflow: ellipsis; \">[&quot;allopurinol&quot;]</td><td style=\"white-space: nowrap; max-width: 500px; overflow: hidden; text-overflow: ellipsis; \">&quot;sport&quot;</td><td style=\"white-space: nowrap; max-width: 500px; overflow: hidden; text-overflow: ellipsis; \">&quot;endurance&quot;</td><td style=\"white-space: nowrap; max-width: 500px; overflow: hidden; text-overflow: ellipsis; \">4.73e+01</td><td style=\"white-space: nowrap; max-width: 500px; overflow: hidden; text-overflow: ellipsis; \">0.00e+00</td><td style=\"white-space: nowrap; max-width: 500px; overflow: hidden; text-overflow: ellipsis; \">0.00e+00</td><td style=\"white-space: nowrap; max-width: 500px; overflow: hidden; text-overflow: ellipsis; \">False</td><td style=\"white-space: nowrap; max-width: 500px; overflow: hidden; text-overflow: ellipsis; \">False</td><td style=\"white-space: nowrap; max-width: 500px; overflow: hidden; text-overflow: ellipsis; \">False</td></tr>\n",
       "<tr><td style=\"white-space: nowrap; max-width: 500px; overflow: hidden; text-overflow: ellipsis; \">&quot;ABCG2&quot;</td><td style=\"white-space: nowrap; max-width: 500px; overflow: hidden; text-overflow: ellipsis; \">&quot;B24&quot;</td><td style=\"white-space: nowrap; max-width: 500px; overflow: hidden; text-overflow: ellipsis; \">[&quot;allopurinol&quot;]</td><td style=\"white-space: nowrap; max-width: 500px; overflow: hidden; text-overflow: ellipsis; \">&quot;sport&quot;</td><td style=\"white-space: nowrap; max-width: 500px; overflow: hidden; text-overflow: ellipsis; \">&quot;speed&quot;</td><td style=\"white-space: nowrap; max-width: 500px; overflow: hidden; text-overflow: ellipsis; \">3.04e+01</td><td style=\"white-space: nowrap; max-width: 500px; overflow: hidden; text-overflow: ellipsis; \">0.00e+00</td><td style=\"white-space: nowrap; max-width: 500px; overflow: hidden; text-overflow: ellipsis; \">0.00e+00</td><td style=\"white-space: nowrap; max-width: 500px; overflow: hidden; text-overflow: ellipsis; \">False</td><td style=\"white-space: nowrap; max-width: 500px; overflow: hidden; text-overflow: ellipsis; \">False</td><td style=\"white-space: nowrap; max-width: 500px; overflow: hidden; text-overflow: ellipsis; \">False</td></tr>\n",
       "<tr><td style=\"white-space: nowrap; max-width: 500px; overflow: hidden; text-overflow: ellipsis; \">&quot;ABCG2&quot;</td><td style=\"white-space: nowrap; max-width: 500px; overflow: hidden; text-overflow: ellipsis; \">&quot;B338&quot;</td><td style=\"white-space: nowrap; max-width: 500px; overflow: hidden; text-overflow: ellipsis; \">[&quot;allopurinol&quot;]</td><td style=\"white-space: nowrap; max-width: 500px; overflow: hidden; text-overflow: ellipsis; \">&quot;sport&quot;</td><td style=\"white-space: nowrap; max-width: 500px; overflow: hidden; text-overflow: ellipsis; \">&quot;endurance&quot;</td><td style=\"white-space: nowrap; max-width: 500px; overflow: hidden; text-overflow: ellipsis; \">4.40e+01</td><td style=\"white-space: nowrap; max-width: 500px; overflow: hidden; text-overflow: ellipsis; \">0.00e+00</td><td style=\"white-space: nowrap; max-width: 500px; overflow: hidden; text-overflow: ellipsis; \">0.00e+00</td><td style=\"white-space: nowrap; max-width: 500px; overflow: hidden; text-overflow: ellipsis; \">False</td><td style=\"white-space: nowrap; max-width: 500px; overflow: hidden; text-overflow: ellipsis; \">False</td><td style=\"white-space: nowrap; max-width: 500px; overflow: hidden; text-overflow: ellipsis; \">False</td></tr>\n",
       "<tr><td style=\"white-space: nowrap; max-width: 500px; overflow: hidden; text-overflow: ellipsis; \">&quot;ABCG2&quot;</td><td style=\"white-space: nowrap; max-width: 500px; overflow: hidden; text-overflow: ellipsis; \">&quot;B382&quot;</td><td style=\"white-space: nowrap; max-width: 500px; overflow: hidden; text-overflow: ellipsis; \">[&quot;allopurinol&quot;]</td><td style=\"white-space: nowrap; max-width: 500px; overflow: hidden; text-overflow: ellipsis; \">&quot;sport&quot;</td><td style=\"white-space: nowrap; max-width: 500px; overflow: hidden; text-overflow: ellipsis; \">&quot;endurance&quot;</td><td style=\"white-space: nowrap; max-width: 500px; overflow: hidden; text-overflow: ellipsis; \">4.40e+01</td><td style=\"white-space: nowrap; max-width: 500px; overflow: hidden; text-overflow: ellipsis; \">0.00e+00</td><td style=\"white-space: nowrap; max-width: 500px; overflow: hidden; text-overflow: ellipsis; \">0.00e+00</td><td style=\"white-space: nowrap; max-width: 500px; overflow: hidden; text-overflow: ellipsis; \">False</td><td style=\"white-space: nowrap; max-width: 500px; overflow: hidden; text-overflow: ellipsis; \">False</td><td style=\"white-space: nowrap; max-width: 500px; overflow: hidden; text-overflow: ellipsis; \">False</td></tr>\n",
       "<tr><td style=\"white-space: nowrap; max-width: 500px; overflow: hidden; text-overflow: ellipsis; \">&quot;ABCG2&quot;</td><td style=\"white-space: nowrap; max-width: 500px; overflow: hidden; text-overflow: ellipsis; \">&quot;B399&quot;</td><td style=\"white-space: nowrap; max-width: 500px; overflow: hidden; text-overflow: ellipsis; \">[&quot;allopurinol&quot;]</td><td style=\"white-space: nowrap; max-width: 500px; overflow: hidden; text-overflow: ellipsis; \">&quot;sport&quot;</td><td style=\"white-space: nowrap; max-width: 500px; overflow: hidden; text-overflow: ellipsis; \">&quot;speed&quot;</td><td style=\"white-space: nowrap; max-width: 500px; overflow: hidden; text-overflow: ellipsis; \">4.07e+01</td><td style=\"white-space: nowrap; max-width: 500px; overflow: hidden; text-overflow: ellipsis; \">0.00e+00</td><td style=\"white-space: nowrap; max-width: 500px; overflow: hidden; text-overflow: ellipsis; \">0.00e+00</td><td style=\"white-space: nowrap; max-width: 500px; overflow: hidden; text-overflow: ellipsis; \">False</td><td style=\"white-space: nowrap; max-width: 500px; overflow: hidden; text-overflow: ellipsis; \">False</td><td style=\"white-space: nowrap; max-width: 500px; overflow: hidden; text-overflow: ellipsis; \">False</td></tr>\n",
       "</tbody></table><p style=\"background: #fdd; padding: 0.4em;\">showing top 10 rows</p>\n"
      ],
      "text/plain": [
       "+-------------+--------+-----------------+-----------+-------------+\n",
       "| within_gene | s      | genebass_pheno  | group     | sport_type  |\n",
       "+-------------+--------+-----------------+-----------+-------------+\n",
       "| str         | str    | array<str>      | str       | str         |\n",
       "+-------------+--------+-----------------+-----------+-------------+\n",
       "| \"ABCG2\"     | \"462\"  | [\"allopurinol\"] | \"control\" | NA          |\n",
       "| \"ABCG2\"     | \"468\"  | [\"allopurinol\"] | \"control\" | NA          |\n",
       "| \"ABCG2\"     | \"490\"  | [\"allopurinol\"] | \"control\" | NA          |\n",
       "| \"ABCG2\"     | \"492\"  | [\"allopurinol\"] | \"control\" | NA          |\n",
       "| \"ABCG2\"     | \"B102\" | [\"allopurinol\"] | \"sport\"   | \"speed\"     |\n",
       "| \"ABCG2\"     | \"B156\" | [\"allopurinol\"] | \"sport\"   | \"endurance\" |\n",
       "| \"ABCG2\"     | \"B24\"  | [\"allopurinol\"] | \"sport\"   | \"speed\"     |\n",
       "| \"ABCG2\"     | \"B338\" | [\"allopurinol\"] | \"sport\"   | \"endurance\" |\n",
       "| \"ABCG2\"     | \"B382\" | [\"allopurinol\"] | \"sport\"   | \"endurance\" |\n",
       "| \"ABCG2\"     | \"B399\" | [\"allopurinol\"] | \"sport\"   | \"speed\"     |\n",
       "+-------------+--------+-----------------+-----------+-------------+\n",
       "\n",
       "+-------------------+-------------------+-------------------+\n",
       "| cadd_above_10_sum | cadd_above_20_sum | cadd_above_16_sum |\n",
       "+-------------------+-------------------+-------------------+\n",
       "|           float64 |           float64 |           float64 |\n",
       "+-------------------+-------------------+-------------------+\n",
       "|          4.07e+01 |          0.00e+00 |          0.00e+00 |\n",
       "|          3.07e+01 |          0.00e+00 |          0.00e+00 |\n",
       "|          3.07e+01 |          0.00e+00 |          0.00e+00 |\n",
       "|          4.40e+01 |          0.00e+00 |          0.00e+00 |\n",
       "|          4.07e+01 |          0.00e+00 |          0.00e+00 |\n",
       "|          4.73e+01 |          0.00e+00 |          0.00e+00 |\n",
       "|          3.04e+01 |          0.00e+00 |          0.00e+00 |\n",
       "|          4.40e+01 |          0.00e+00 |          0.00e+00 |\n",
       "|          4.40e+01 |          0.00e+00 |          0.00e+00 |\n",
       "|          4.07e+01 |          0.00e+00 |          0.00e+00 |\n",
       "+-------------------+-------------------+-------------------+\n",
       "\n",
       "+-------------------+-------------------+---------+\n",
       "| any_cadd_above_16 | any_cadd_above_20 | any_lof |\n",
       "+-------------------+-------------------+---------+\n",
       "|              bool |              bool |    bool |\n",
       "+-------------------+-------------------+---------+\n",
       "|             False |             False |   False |\n",
       "|             False |             False |   False |\n",
       "|             False |             False |   False |\n",
       "|             False |             False |   False |\n",
       "|             False |             False |   False |\n",
       "|             False |             False |   False |\n",
       "|             False |             False |   False |\n",
       "|             False |             False |   False |\n",
       "|             False |             False |   False |\n",
       "|             False |             False |   False |\n",
       "+-------------------+-------------------+---------+\n",
       "showing top 10 rows"
      ]
     },
     "metadata": {},
     "output_type": "display_data"
    }
   ],
   "source": [
    "mt_single.show()"
   ]
  },
  {
   "cell_type": "code",
   "execution_count": 223,
   "id": "b1180227-a32c-485c-a57c-a3899f277212",
   "metadata": {},
   "outputs": [],
   "source": [
    "mt_single = mt_single.to_pandas()"
   ]
  },
  {
   "cell_type": "code",
   "execution_count": 224,
   "id": "ec18299f-921c-45a5-a9ca-98f4eae65c1b",
   "metadata": {},
   "outputs": [],
   "source": [
    "def ttest(df, groups, group_field, burden_field):\n",
    "    pval = stats.ttest_ind(\n",
    "        list(pd.to_numeric(df[df[group_field] == groups[0]][burden_field])),\n",
    "        list(pd.to_numeric(df[df[group_field] == groups[1]][burden_field]))\n",
    "    ).pvalue\n",
    "    return pval"
   ]
  },
  {
   "cell_type": "code",
   "execution_count": 225,
   "id": "74ea94a4-ca9f-43b6-8817-74498be317fa",
   "metadata": {},
   "outputs": [],
   "source": [
    "mt_single_grouped = mt_single.groupby('within_gene')"
   ]
  },
  {
   "cell_type": "code",
   "execution_count": 226,
   "id": "c2d487b8-bf2c-4d8a-8c24-a9438578e2ed",
   "metadata": {},
   "outputs": [],
   "source": [
    "burden_opts = [\n",
    "    'cadd_above_10_sum',\n",
    "    'cadd_above_20_sum',\n",
    "    'cadd_above_16_sum',\n",
    "    'any_cadd_above_16',\n",
    "    'any_cadd_above_20',\n",
    "    'any_lof'  \n",
    "]\n",
    "\n",
    "comparisons = [\n",
    "    [['sport','control'],'group'],\n",
    "    [['control','1kg'],'group'],\n",
    "    [['1kg','sport'],'group'],\n",
    "    [['endurance','speed'],'sport_type']\n",
    "]\n",
    "\n",
    "groups = [['sport','group'],\n",
    "          ['control','group'],\n",
    "          ['1kg','group'],\n",
    "          ['endurance','sport_type'],\n",
    "          ['speed','sport_type']]"
   ]
  },
  {
   "cell_type": "code",
   "execution_count": 227,
   "id": "f39e683b-0dd1-4f01-990e-c232784dda13",
   "metadata": {},
   "outputs": [
    {
     "name": "stderr",
     "output_type": "stream",
     "text": [
      "/net/ascratch/people/plggosborcz/slurm_jobdir/2059862/tmp/ipykernel_2330553/51355450.py:2: RuntimeWarning: Precision loss occurred in moment calculation due to catastrophic cancellation. This occurs when the data are nearly identical. Results may be unreliable.\n",
      "  pval = stats.ttest_ind(\n"
     ]
    }
   ],
   "source": [
    "out = {\n",
    "    f'{o}_{groups[0]}_vs_{groups[1]}_p_value': mt_single_grouped.apply(\n",
    "        lambda df: ttest(df, groups, group_field, o)\n",
    "    )\n",
    "    for o in burden_opts\n",
    "    for groups, group_field in comparisons\n",
    "    }"
   ]
  },
  {
   "cell_type": "code",
   "execution_count": 228,
   "id": "196a6b6a-fd78-4100-a805-3957095cd02f",
   "metadata": {},
   "outputs": [],
   "source": [
    "stds = {\n",
    "    f'{o}_{group}_std': mt_single_grouped.apply(\n",
    "        lambda df: df[df[group_col] == group][o].std()\n",
    "    )\n",
    "    for o in burden_opts\n",
    "    for group, group_col in groups\n",
    "}\n",
    "\n",
    "means = {\n",
    "    f'{o}_{group}_mean': mt_single_grouped.apply(\n",
    "        lambda df: df[df[group_col] == group][o].mean()\n",
    "    )\n",
    "    for o in burden_opts\n",
    "    for group, group_col in groups\n",
    "}"
   ]
  },
  {
   "cell_type": "code",
   "execution_count": 229,
   "id": "a05f2cfe-9fa7-442f-bf45-ab60a1d3705d",
   "metadata": {},
   "outputs": [],
   "source": [
    "out.update(means)"
   ]
  },
  {
   "cell_type": "code",
   "execution_count": 230,
   "id": "43b01411-f7f1-46d5-84c8-4a522282d03a",
   "metadata": {},
   "outputs": [],
   "source": [
    "out.update(stds)"
   ]
  },
  {
   "cell_type": "code",
   "execution_count": 231,
   "id": "4a155ceb-6605-4843-b4b8-546a3a57f1a1",
   "metadata": {
    "tags": []
   },
   "outputs": [],
   "source": [
    "df = pd.DataFrame(out)"
   ]
  },
  {
   "cell_type": "code",
   "execution_count": 232,
   "id": "439280a3-cacf-4535-92cb-b911840bbd38",
   "metadata": {
    "tags": []
   },
   "outputs": [],
   "source": [
    "for o in burden_opts:\n",
    "    for groups, group_field in comparisons:\n",
    "        df[\n",
    "            f'{o}_{groups[0]}_vs_{groups[1]}_fdr'\n",
    "        ] = fdrcorrection(\n",
    "            df[\n",
    "                f'{o}_{groups[0]}_vs_{groups[1]}_p_value'\n",
    "            ].fillna(1),\n",
    "            alpha=0.1    \n",
    "        )[1]"
   ]
  },
  {
   "cell_type": "code",
   "execution_count": 251,
   "id": "534094d6-5afa-442a-8d17-473160954390",
   "metadata": {},
   "outputs": [
    {
     "data": {
      "text/plain": [
       "within_gene\n",
       "ATXN2      0.271080\n",
       "CCDC124    0.271080\n",
       "CRTAC1     0.271080\n",
       "DDR2       0.451267\n",
       "GRAMD2A    0.231861\n",
       "IHH        0.494486\n",
       "JAK2       0.540567\n",
       "Name: cadd_above_10_sum_endurance_vs_speed_fdr, dtype: float64"
      ]
     },
     "execution_count": 251,
     "metadata": {},
     "output_type": "execute_result"
    }
   ],
   "source": [
    "df[df['cadd_above_10_sum_endurance_vs_speed_p_value']<0.05]['cadd_above_10_sum_endurance_vs_speed_fdr']"
   ]
  },
  {
   "cell_type": "markdown",
   "id": "f60348e5-5442-43c6-8403-dcac5f67ee66",
   "metadata": {},
   "source": [
    "For final results we will export cadd_above_10_sum "
   ]
  },
  {
   "cell_type": "code",
   "execution_count": 248,
   "id": "69600fab-6058-4da7-b8f5-eefcec94c8be",
   "metadata": {
    "tags": []
   },
   "outputs": [
    {
     "data": {
      "text/plain": [
       "108"
      ]
     },
     "execution_count": 248,
     "metadata": {},
     "output_type": "execute_result"
    }
   ],
   "source": [
    "len(df.columns.str.contains('cadd_above_10_sum'))"
   ]
  },
  {
   "cell_type": "code",
   "execution_count": 249,
   "id": "8a450133-98a1-491c-ab53-fd0e28ae84fe",
   "metadata": {
    "tags": []
   },
   "outputs": [
    {
     "data": {
      "text/plain": [
       "108"
      ]
     },
     "execution_count": 249,
     "metadata": {},
     "output_type": "execute_result"
    }
   ],
   "source": [
    "len(df.columns)"
   ]
  },
  {
   "cell_type": "code",
   "execution_count": 256,
   "id": "9aa3a6d2-2810-46ef-a5c1-62c1668e09ec",
   "metadata": {
    "tags": []
   },
   "outputs": [],
   "source": [
    "df.loc[:, df.columns.str.contains('cadd_above_10_sum')].to_csv('burden-results.csv')"
   ]
  },
  {
   "cell_type": "code",
   "execution_count": 198,
   "id": "0b3ab161-e99d-47c3-93a7-e210e60c8e30",
   "metadata": {},
   "outputs": [],
   "source": [
    "mt_single = mt.filter_rows(hl.is_defined(mt.below_6))"
   ]
  },
  {
   "cell_type": "code",
   "execution_count": 199,
   "id": "f4ad0a20-206c-4963-bfb6-b881f40ea224",
   "metadata": {},
   "outputs": [
    {
     "data": {
      "text/plain": [
       "(75, 219)"
      ]
     },
     "execution_count": 199,
     "metadata": {},
     "output_type": "execute_result"
    }
   ],
   "source": [
    "mt_single.count()"
   ]
  },
  {
   "cell_type": "code",
   "execution_count": 200,
   "id": "a664be5b-d6e5-4f39-8976-b18318bddbb8",
   "metadata": {},
   "outputs": [],
   "source": [
    "gene_list = list(\n",
    "    set(\n",
    "        mt_single.explode_rows(\n",
    "            mt_single.below_6\n",
    "        )['within_gene'].collect()\n",
    "    )\n",
    ")"
   ]
  },
  {
   "cell_type": "code",
   "execution_count": 201,
   "id": "7badc9ae-d74a-4715-a5cf-5cfeec4b7132",
   "metadata": {},
   "outputs": [],
   "source": [
    "mt_single = mt_single.entries()"
   ]
  },
  {
   "cell_type": "code",
   "execution_count": 202,
   "id": "ef4d12a9-4dd1-476e-8b2d-a7f2373ed912",
   "metadata": {},
   "outputs": [],
   "source": [
    "mt_single = mt_single.select(\n",
    "    genebass_pheno = mt_single.below_6,\n",
    "    group = mt_single.group,\n",
    "    sport_type = mt_single.sport_phenotypes.type,\n",
    "    cadd_above_10_sum =  mt_single['cadd_above_10_sum'],\n",
    "    cadd_above_20_sum =  mt_single['cadd_above_20_sum'],\n",
    "    cadd_above_16_sum =  mt_single['cadd_above_16_sum'],\n",
    "    any_cadd_above_16 = mt_single['any_cadd_above_16'],\n",
    "    any_cadd_above_20 = mt_single['any_cadd_above_20'],\n",
    "    any_lof = mt_single['any_lof'] \n",
    ")"
   ]
  },
  {
   "cell_type": "code",
   "execution_count": 203,
   "id": "b65b7308-8929-42d9-a1f0-f5b9cba03d45",
   "metadata": {},
   "outputs": [],
   "source": [
    "mt_single = mt_single.to_pandas()"
   ]
  },
  {
   "cell_type": "code",
   "execution_count": 204,
   "id": "5afd01d0-ebb0-4877-aaab-d3ef6acb2abf",
   "metadata": {},
   "outputs": [],
   "source": [
    "def ttest(df, groups, group_field, burden_field):\n",
    "    pval = stats.ttest_ind(\n",
    "        list(pd.to_numeric(df[df[group_field] == groups[0]][burden_field])),\n",
    "        list(pd.to_numeric(df[df[group_field] == groups[1]][burden_field]))\n",
    "    ).pvalue\n",
    "    return pval"
   ]
  },
  {
   "cell_type": "code",
   "execution_count": 205,
   "id": "977369c2-4658-4ee8-a257-cdcaa0c53e45",
   "metadata": {},
   "outputs": [],
   "source": [
    "mt_single_grouped = mt_single.groupby('within_gene')"
   ]
  },
  {
   "cell_type": "code",
   "execution_count": 206,
   "id": "c8c4b309-f51a-4a81-ae5e-45d6def6f875",
   "metadata": {},
   "outputs": [],
   "source": [
    "burden_opts = [\n",
    "    'cadd_above_10_sum',\n",
    "    'cadd_above_20_sum',\n",
    "    'cadd_above_16_sum',\n",
    "    'any_cadd_above_16',\n",
    "    'any_cadd_above_20',\n",
    "    'any_lof'  \n",
    "]\n",
    "\n",
    "comparisons = [\n",
    "    [['sport','control'],'group'],\n",
    "    [['control','1kg'],'group'],\n",
    "    [['1kg','sport'],'group'],\n",
    "    [['endurance','speed'],'sport_type']\n",
    "]\n",
    "\n",
    "groups = [['sport','group'],\n",
    "          ['control','group'],\n",
    "          ['1kg','group'],\n",
    "          ['endurance','sport_type'],\n",
    "          ['speed','sport_type']]"
   ]
  },
  {
   "cell_type": "code",
   "execution_count": 207,
   "id": "91da49ae-f99a-495e-9110-e81af0fd4514",
   "metadata": {},
   "outputs": [
    {
     "name": "stderr",
     "output_type": "stream",
     "text": [
      "/net/ascratch/people/plggosborcz/slurm_jobdir/2059862/tmp/ipykernel_2330553/51355450.py:2: RuntimeWarning: Precision loss occurred in moment calculation due to catastrophic cancellation. This occurs when the data are nearly identical. Results may be unreliable.\n",
      "  pval = stats.ttest_ind(\n"
     ]
    }
   ],
   "source": [
    "out = {\n",
    "    f'{o}_{groups[0]}_vs_{groups[1]}_p_value': mt_single_grouped.apply(\n",
    "        lambda df: ttest(df, groups, group_field, o)\n",
    "    )\n",
    "    for o in burden_opts\n",
    "    for groups, group_field in comparisons\n",
    "    }"
   ]
  },
  {
   "cell_type": "code",
   "execution_count": 208,
   "id": "8d3797bf-f8d9-437a-b2a4-ad066d9d3113",
   "metadata": {},
   "outputs": [],
   "source": [
    "stds = {\n",
    "    f'{o}_{group}_std': mt_single_grouped.apply(\n",
    "        lambda df: df[df[group_col] == group][o].std()\n",
    "    )\n",
    "    for o in burden_opts\n",
    "    for group, group_col in groups\n",
    "}\n",
    "\n",
    "means = {\n",
    "    f'{o}_{group}_mean': mt_single_grouped.apply(\n",
    "        lambda df: df[df[group_col] == group][o].mean()\n",
    "    )\n",
    "    for o in burden_opts\n",
    "    for group, group_col in groups\n",
    "}"
   ]
  },
  {
   "cell_type": "code",
   "execution_count": 209,
   "id": "adc890c1-1f56-43a0-b149-152ac9616226",
   "metadata": {},
   "outputs": [],
   "source": [
    "out.update(means)"
   ]
  },
  {
   "cell_type": "code",
   "execution_count": 210,
   "id": "538690e0-6b83-4b8f-80cf-9b60ec3fbe97",
   "metadata": {},
   "outputs": [],
   "source": [
    "out.update(stds)"
   ]
  },
  {
   "cell_type": "code",
   "execution_count": 211,
   "id": "43631dc1-7d0e-4676-ab5a-777c2baad913",
   "metadata": {
    "tags": []
   },
   "outputs": [],
   "source": [
    "df = pd.DataFrame(out)"
   ]
  },
  {
   "cell_type": "code",
   "execution_count": 212,
   "id": "2552faee-2f7f-4c7f-81f8-a95bc278ce11",
   "metadata": {
    "tags": []
   },
   "outputs": [],
   "source": [
    "for o in burden_opts:\n",
    "    for groups, group_field in comparisons:\n",
    "        df[\n",
    "            f'{o}_{groups[0]}_vs_{groups[1]}_fdr'\n",
    "        ] = fdrcorrection(\n",
    "            df[\n",
    "                f'{o}_{groups[0]}_vs_{groups[1]}_p_value'\n",
    "            ].fillna(1),\n",
    "            alpha=0.1    \n",
    "        )[1]"
   ]
  },
  {
   "cell_type": "code",
   "execution_count": 213,
   "id": "d566ad4d-0b20-4720-b721-f216f9c34c86",
   "metadata": {
    "tags": []
   },
   "outputs": [],
   "source": [
    "df.to_csv('above_6.csv')"
   ]
  },
  {
   "cell_type": "code",
   "execution_count": 215,
   "id": "1ab5ffc6-913f-4c9b-9b7f-3613be4decff",
   "metadata": {},
   "outputs": [
    {
     "data": {
      "text/plain": [
       "within_gene\n",
       "ATXN2    0.698933\n",
       "IHH      0.698933\n",
       "JAK2     0.698933\n",
       "Name: cadd_above_10_sum_endurance_vs_speed_fdr, dtype: float64"
      ]
     },
     "execution_count": 215,
     "metadata": {},
     "output_type": "execute_result"
    }
   ],
   "source": [
    "df[df['cadd_above_10_sum_endurance_vs_speed_p_value']<0.05]['cadd_above_10_sum_endurance_vs_speed_fdr']"
   ]
  },
  {
   "cell_type": "code",
   "execution_count": 216,
   "id": "e1a78db4-918a-436c-96b3-26d0de176672",
   "metadata": {
    "tags": []
   },
   "outputs": [
    {
     "data": {
      "text/plain": [
       "within_gene\n",
       "DOCK6    0.627423\n",
       "JAK2     0.164103\n",
       "SPHK1    0.188562\n",
       "WDR6     0.633704\n",
       "Name: cadd_above_10_sum_sport_vs_control_fdr, dtype: float64"
      ]
     },
     "execution_count": 216,
     "metadata": {},
     "output_type": "execute_result"
    }
   ],
   "source": [
    "df[df['cadd_above_10_sum_sport_vs_control_p_value']<0.05]['cadd_above_10_sum_sport_vs_control_fdr']"
   ]
  },
  {
   "cell_type": "markdown",
   "id": "f318452a-bb63-4b3a-b89a-c7aea680a32d",
   "metadata": {},
   "source": [
    "For final results we will export cadd_above_10_sum "
   ]
  },
  {
   "cell_type": "code",
   "execution_count": null,
   "id": "32e15456-3cc9-4b64-9742-26ed458ecbd8",
   "metadata": {},
   "outputs": [],
   "source": []
  }
 ],
 "metadata": {
  "kernelspec": {
   "display_name": "Python 3 (ipykernel)",
   "language": "python",
   "name": "python3"
  },
  "language_info": {
   "codemirror_mode": {
    "name": "ipython",
    "version": 3
   },
   "file_extension": ".py",
   "mimetype": "text/x-python",
   "name": "python",
   "nbconvert_exporter": "python",
   "pygments_lexer": "ipython3",
   "version": "3.10.4"
  }
 },
 "nbformat": 4,
 "nbformat_minor": 5
}
