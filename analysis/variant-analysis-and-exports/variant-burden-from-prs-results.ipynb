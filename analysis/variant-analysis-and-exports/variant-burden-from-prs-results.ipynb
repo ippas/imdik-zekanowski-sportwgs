{
 "cells": [
  {
   "cell_type": "code",
   "execution_count": 1,
   "id": "9ebc220b-aa03-44e0-930c-7df7da29ca25",
   "metadata": {},
   "outputs": [
    {
     "data": {
      "text/html": [
       "<style>.container { width:100% !important; }</style>"
      ],
      "text/plain": [
       "<IPython.core.display.HTML object>"
      ]
     },
     "metadata": {},
     "output_type": "display_data"
    }
   ],
   "source": [
    "from IPython.display import display\n",
    "from IPython.display import HTML\n",
    "import IPython.core.display as di # Example: di.display_html('<h3>%s:</h3>' % str, raw=True)\n",
    "\n",
    "#This line will hide code by default when the notebook is exported as HTML\n",
    "#di.display_html('<script>jQuery(function() {if (jQuery(\"body.notebook_app\").length == 0) { jQuery(\".input_area\").toggle(); jQuery(\".prompt\").toggle();}});</script>', raw=True)\n",
    "\n",
    "display(HTML(\"<style>.container { width:100% !important; }</style>\"))\n",
    "import os"
   ]
  },
  {
   "cell_type": "code",
   "execution_count": 2,
   "id": "5c8e0a23-90db-4edf-8d99-41f477b802c8",
   "metadata": {
    "tags": []
   },
   "outputs": [
    {
     "name": "stderr",
     "output_type": "stream",
     "text": [
      "WARNING: An illegal reflective access operation has occurred\n",
      "WARNING: Illegal reflective access by org.apache.spark.unsafe.Platform (file:/net/pr2/projects/plgrid/plggneuromol/imdik-zekanowski-sportwgs/venv-hail-0.2.105/lib/python3.10/site-packages/pyspark/jars/spark-unsafe_2.12-3.1.3.jar) to constructor java.nio.DirectByteBuffer(long,int)\n",
      "WARNING: Please consider reporting this to the maintainers of org.apache.spark.unsafe.Platform\n",
      "WARNING: Use --illegal-access=warn to enable warnings of further illegal reflective access operations\n",
      "WARNING: All illegal access operations will be denied in a future release\n"
     ]
    },
    {
     "name": "stdout",
     "output_type": "stream",
     "text": [
      "2023-02-05 15:34:46.256 WARN  NativeCodeLoader:60 - Unable to load native-hadoop library for your platform... using builtin-java classes where applicable\n"
     ]
    },
    {
     "name": "stderr",
     "output_type": "stream",
     "text": [
      "Setting default log level to \"WARN\".\n",
      "To adjust logging level use sc.setLogLevel(newLevel). For SparkR, use setLogLevel(newLevel).\n",
      "Running on Apache Spark version 3.1.3\n",
      "SparkUI available at http://ac0386:4040\n",
      "Welcome to\n",
      "     __  __     <>__\n",
      "    / /_/ /__  __/ /\n",
      "   / __  / _ `/ / /\n",
      "  /_/ /_/\\_,_/_/_/   version 0.2.105-acd89e80c345\n",
      "LOGGING: writing to /net/pr2/projects/plgrid/plggneuromol/imdik-zekanowski-sportwgs/analysis/variant-analysis-and-exports/hail-20230205-1534-0.2.105-acd89e80c345.log\n"
     ]
    }
   ],
   "source": [
    "import hail as hl\n",
    "\n",
    "localfs_path = os.environ.get('SCRATCH_LOCAL') + '/'\n",
    "hl.init(tmp_dir=localfs_path, local_tmpdir=localfs_path, \n",
    "        spark_conf={'spark.driver.memory': '15G', 'spark.executor.memory': '30G'})"
   ]
  },
  {
   "cell_type": "code",
   "execution_count": 3,
   "id": "35b82d01-583f-4300-997c-bb4bf6f47a33",
   "metadata": {},
   "outputs": [
    {
     "data": {
      "text/html": [
       "\n",
       "    <div class=\"bk-root\">\n",
       "        <a href=\"https://bokeh.org\" target=\"_blank\" class=\"bk-logo bk-logo-small bk-logo-notebook\"></a>\n",
       "        <span id=\"1001\">Loading BokehJS ...</span>\n",
       "    </div>"
      ]
     },
     "metadata": {},
     "output_type": "display_data"
    },
    {
     "data": {
      "application/javascript": [
       "\n",
       "(function(root) {\n",
       "  function now() {\n",
       "    return new Date();\n",
       "  }\n",
       "\n",
       "  var force = true;\n",
       "\n",
       "  if (typeof root._bokeh_onload_callbacks === \"undefined\" || force === true) {\n",
       "    root._bokeh_onload_callbacks = [];\n",
       "    root._bokeh_is_loading = undefined;\n",
       "  }\n",
       "\n",
       "  var JS_MIME_TYPE = 'application/javascript';\n",
       "  var HTML_MIME_TYPE = 'text/html';\n",
       "  var EXEC_MIME_TYPE = 'application/vnd.bokehjs_exec.v0+json';\n",
       "  var CLASS_NAME = 'output_bokeh rendered_html';\n",
       "\n",
       "  /**\n",
       "   * Render data to the DOM node\n",
       "   */\n",
       "  function render(props, node) {\n",
       "    var script = document.createElement(\"script\");\n",
       "    node.appendChild(script);\n",
       "  }\n",
       "\n",
       "  /**\n",
       "   * Handle when an output is cleared or removed\n",
       "   */\n",
       "  function handleClearOutput(event, handle) {\n",
       "    var cell = handle.cell;\n",
       "\n",
       "    var id = cell.output_area._bokeh_element_id;\n",
       "    var server_id = cell.output_area._bokeh_server_id;\n",
       "    // Clean up Bokeh references\n",
       "    if (id != null && id in Bokeh.index) {\n",
       "      Bokeh.index[id].model.document.clear();\n",
       "      delete Bokeh.index[id];\n",
       "    }\n",
       "\n",
       "    if (server_id !== undefined) {\n",
       "      // Clean up Bokeh references\n",
       "      var cmd = \"from bokeh.io.state import curstate; print(curstate().uuid_to_server['\" + server_id + \"'].get_sessions()[0].document.roots[0]._id)\";\n",
       "      cell.notebook.kernel.execute(cmd, {\n",
       "        iopub: {\n",
       "          output: function(msg) {\n",
       "            var id = msg.content.text.trim();\n",
       "            if (id in Bokeh.index) {\n",
       "              Bokeh.index[id].model.document.clear();\n",
       "              delete Bokeh.index[id];\n",
       "            }\n",
       "          }\n",
       "        }\n",
       "      });\n",
       "      // Destroy server and session\n",
       "      var cmd = \"import bokeh.io.notebook as ion; ion.destroy_server('\" + server_id + \"')\";\n",
       "      cell.notebook.kernel.execute(cmd);\n",
       "    }\n",
       "  }\n",
       "\n",
       "  /**\n",
       "   * Handle when a new output is added\n",
       "   */\n",
       "  function handleAddOutput(event, handle) {\n",
       "    var output_area = handle.output_area;\n",
       "    var output = handle.output;\n",
       "\n",
       "    // limit handleAddOutput to display_data with EXEC_MIME_TYPE content only\n",
       "    if ((output.output_type != \"display_data\") || (!output.data.hasOwnProperty(EXEC_MIME_TYPE))) {\n",
       "      return\n",
       "    }\n",
       "\n",
       "    var toinsert = output_area.element.find(\".\" + CLASS_NAME.split(' ')[0]);\n",
       "\n",
       "    if (output.metadata[EXEC_MIME_TYPE][\"id\"] !== undefined) {\n",
       "      toinsert[toinsert.length - 1].firstChild.textContent = output.data[JS_MIME_TYPE];\n",
       "      // store reference to embed id on output_area\n",
       "      output_area._bokeh_element_id = output.metadata[EXEC_MIME_TYPE][\"id\"];\n",
       "    }\n",
       "    if (output.metadata[EXEC_MIME_TYPE][\"server_id\"] !== undefined) {\n",
       "      var bk_div = document.createElement(\"div\");\n",
       "      bk_div.innerHTML = output.data[HTML_MIME_TYPE];\n",
       "      var script_attrs = bk_div.children[0].attributes;\n",
       "      for (var i = 0; i < script_attrs.length; i++) {\n",
       "        toinsert[toinsert.length - 1].firstChild.setAttribute(script_attrs[i].name, script_attrs[i].value);\n",
       "      }\n",
       "      // store reference to server id on output_area\n",
       "      output_area._bokeh_server_id = output.metadata[EXEC_MIME_TYPE][\"server_id\"];\n",
       "    }\n",
       "  }\n",
       "\n",
       "  function register_renderer(events, OutputArea) {\n",
       "\n",
       "    function append_mime(data, metadata, element) {\n",
       "      // create a DOM node to render to\n",
       "      var toinsert = this.create_output_subarea(\n",
       "        metadata,\n",
       "        CLASS_NAME,\n",
       "        EXEC_MIME_TYPE\n",
       "      );\n",
       "      this.keyboard_manager.register_events(toinsert);\n",
       "      // Render to node\n",
       "      var props = {data: data, metadata: metadata[EXEC_MIME_TYPE]};\n",
       "      render(props, toinsert[toinsert.length - 1]);\n",
       "      element.append(toinsert);\n",
       "      return toinsert\n",
       "    }\n",
       "\n",
       "    /* Handle when an output is cleared or removed */\n",
       "    events.on('clear_output.CodeCell', handleClearOutput);\n",
       "    events.on('delete.Cell', handleClearOutput);\n",
       "\n",
       "    /* Handle when a new output is added */\n",
       "    events.on('output_added.OutputArea', handleAddOutput);\n",
       "\n",
       "    /**\n",
       "     * Register the mime type and append_mime function with output_area\n",
       "     */\n",
       "    OutputArea.prototype.register_mime_type(EXEC_MIME_TYPE, append_mime, {\n",
       "      /* Is output safe? */\n",
       "      safe: true,\n",
       "      /* Index of renderer in `output_area.display_order` */\n",
       "      index: 0\n",
       "    });\n",
       "  }\n",
       "\n",
       "  // register the mime type if in Jupyter Notebook environment and previously unregistered\n",
       "  if (root.Jupyter !== undefined) {\n",
       "    var events = require('base/js/events');\n",
       "    var OutputArea = require('notebook/js/outputarea').OutputArea;\n",
       "\n",
       "    if (OutputArea.prototype.mime_types().indexOf(EXEC_MIME_TYPE) == -1) {\n",
       "      register_renderer(events, OutputArea);\n",
       "    }\n",
       "  }\n",
       "\n",
       "  \n",
       "  if (typeof (root._bokeh_timeout) === \"undefined\" || force === true) {\n",
       "    root._bokeh_timeout = Date.now() + 5000;\n",
       "    root._bokeh_failed_load = false;\n",
       "  }\n",
       "\n",
       "  var NB_LOAD_WARNING = {'data': {'text/html':\n",
       "     \"<div style='background-color: #fdd'>\\n\"+\n",
       "     \"<p>\\n\"+\n",
       "     \"BokehJS does not appear to have successfully loaded. If loading BokehJS from CDN, this \\n\"+\n",
       "     \"may be due to a slow or bad network connection. Possible fixes:\\n\"+\n",
       "     \"</p>\\n\"+\n",
       "     \"<ul>\\n\"+\n",
       "     \"<li>re-rerun `output_notebook()` to attempt to load from CDN again, or</li>\\n\"+\n",
       "     \"<li>use INLINE resources instead, as so:</li>\\n\"+\n",
       "     \"</ul>\\n\"+\n",
       "     \"<code>\\n\"+\n",
       "     \"from bokeh.resources import INLINE\\n\"+\n",
       "     \"output_notebook(resources=INLINE)\\n\"+\n",
       "     \"</code>\\n\"+\n",
       "     \"</div>\"}};\n",
       "\n",
       "  function display_loaded() {\n",
       "    var el = document.getElementById(\"1001\");\n",
       "    if (el != null) {\n",
       "      el.textContent = \"BokehJS is loading...\";\n",
       "    }\n",
       "    if (root.Bokeh !== undefined) {\n",
       "      if (el != null) {\n",
       "        el.textContent = \"BokehJS \" + root.Bokeh.version + \" successfully loaded.\";\n",
       "      }\n",
       "    } else if (Date.now() < root._bokeh_timeout) {\n",
       "      setTimeout(display_loaded, 100)\n",
       "    }\n",
       "  }\n",
       "\n",
       "\n",
       "  function run_callbacks() {\n",
       "    try {\n",
       "      root._bokeh_onload_callbacks.forEach(function(callback) {\n",
       "        if (callback != null)\n",
       "          callback();\n",
       "      });\n",
       "    } finally {\n",
       "      delete root._bokeh_onload_callbacks\n",
       "    }\n",
       "    console.debug(\"Bokeh: all callbacks have finished\");\n",
       "  }\n",
       "\n",
       "  function load_libs(css_urls, js_urls, callback) {\n",
       "    if (css_urls == null) css_urls = [];\n",
       "    if (js_urls == null) js_urls = [];\n",
       "\n",
       "    root._bokeh_onload_callbacks.push(callback);\n",
       "    if (root._bokeh_is_loading > 0) {\n",
       "      console.debug(\"Bokeh: BokehJS is being loaded, scheduling callback at\", now());\n",
       "      return null;\n",
       "    }\n",
       "    if (js_urls == null || js_urls.length === 0) {\n",
       "      run_callbacks();\n",
       "      return null;\n",
       "    }\n",
       "    console.debug(\"Bokeh: BokehJS not loaded, scheduling load and callback at\", now());\n",
       "    root._bokeh_is_loading = css_urls.length + js_urls.length;\n",
       "\n",
       "    function on_load() {\n",
       "      root._bokeh_is_loading--;\n",
       "      if (root._bokeh_is_loading === 0) {\n",
       "        console.debug(\"Bokeh: all BokehJS libraries/stylesheets loaded\");\n",
       "        run_callbacks()\n",
       "      }\n",
       "    }\n",
       "\n",
       "    function on_error() {\n",
       "      console.error(\"failed to load \" + url);\n",
       "    }\n",
       "\n",
       "    for (var i = 0; i < css_urls.length; i++) {\n",
       "      var url = css_urls[i];\n",
       "      const element = document.createElement(\"link\");\n",
       "      element.onload = on_load;\n",
       "      element.onerror = on_error;\n",
       "      element.rel = \"stylesheet\";\n",
       "      element.type = \"text/css\";\n",
       "      element.href = url;\n",
       "      console.debug(\"Bokeh: injecting link tag for BokehJS stylesheet: \", url);\n",
       "      document.body.appendChild(element);\n",
       "    }\n",
       "\n",
       "    for (var i = 0; i < js_urls.length; i++) {\n",
       "      var url = js_urls[i];\n",
       "      var element = document.createElement('script');\n",
       "      element.onload = on_load;\n",
       "      element.onerror = on_error;\n",
       "      element.async = false;\n",
       "      element.src = url;\n",
       "      console.debug(\"Bokeh: injecting script tag for BokehJS library: \", url);\n",
       "      document.head.appendChild(element);\n",
       "    }\n",
       "  };var element = document.getElementById(\"1001\");\n",
       "  if (element == null) {\n",
       "    console.error(\"Bokeh: ERROR: autoload.js configured with elementid '1001' but no matching script tag was found. \")\n",
       "    return false;\n",
       "  }\n",
       "\n",
       "  function inject_raw_css(css) {\n",
       "    const element = document.createElement(\"style\");\n",
       "    element.appendChild(document.createTextNode(css));\n",
       "    document.body.appendChild(element);\n",
       "  }\n",
       "\n",
       "  \n",
       "  var js_urls = [\"https://cdn.pydata.org/bokeh/release/bokeh-1.4.0.min.js\", \"https://cdn.pydata.org/bokeh/release/bokeh-widgets-1.4.0.min.js\", \"https://cdn.pydata.org/bokeh/release/bokeh-tables-1.4.0.min.js\", \"https://cdn.pydata.org/bokeh/release/bokeh-gl-1.4.0.min.js\"];\n",
       "  var css_urls = [];\n",
       "  \n",
       "\n",
       "  var inline_js = [\n",
       "    function(Bokeh) {\n",
       "      Bokeh.set_log_level(\"info\");\n",
       "    },\n",
       "    function(Bokeh) {\n",
       "    \n",
       "    \n",
       "    }\n",
       "  ];\n",
       "\n",
       "  function run_inline_js() {\n",
       "    \n",
       "    if (root.Bokeh !== undefined || force === true) {\n",
       "      \n",
       "    for (var i = 0; i < inline_js.length; i++) {\n",
       "      inline_js[i].call(root, root.Bokeh);\n",
       "    }\n",
       "    if (force === true) {\n",
       "        display_loaded();\n",
       "      }} else if (Date.now() < root._bokeh_timeout) {\n",
       "      setTimeout(run_inline_js, 100);\n",
       "    } else if (!root._bokeh_failed_load) {\n",
       "      console.log(\"Bokeh: BokehJS failed to load within specified timeout.\");\n",
       "      root._bokeh_failed_load = true;\n",
       "    } else if (force !== true) {\n",
       "      var cell = $(document.getElementById(\"1001\")).parents('.cell').data().cell;\n",
       "      cell.output_area.append_execute_result(NB_LOAD_WARNING)\n",
       "    }\n",
       "\n",
       "  }\n",
       "\n",
       "  if (root._bokeh_is_loading === 0) {\n",
       "    console.debug(\"Bokeh: BokehJS loaded, going straight to plotting\");\n",
       "    run_inline_js();\n",
       "  } else {\n",
       "    load_libs(css_urls, js_urls, function() {\n",
       "      console.debug(\"Bokeh: BokehJS plotting callback run at\", now());\n",
       "      run_inline_js();\n",
       "    });\n",
       "  }\n",
       "}(window));"
      ],
      "application/vnd.bokehjs_load.v0+json": "\n(function(root) {\n  function now() {\n    return new Date();\n  }\n\n  var force = true;\n\n  if (typeof root._bokeh_onload_callbacks === \"undefined\" || force === true) {\n    root._bokeh_onload_callbacks = [];\n    root._bokeh_is_loading = undefined;\n  }\n\n  \n\n  \n  if (typeof (root._bokeh_timeout) === \"undefined\" || force === true) {\n    root._bokeh_timeout = Date.now() + 5000;\n    root._bokeh_failed_load = false;\n  }\n\n  var NB_LOAD_WARNING = {'data': {'text/html':\n     \"<div style='background-color: #fdd'>\\n\"+\n     \"<p>\\n\"+\n     \"BokehJS does not appear to have successfully loaded. If loading BokehJS from CDN, this \\n\"+\n     \"may be due to a slow or bad network connection. Possible fixes:\\n\"+\n     \"</p>\\n\"+\n     \"<ul>\\n\"+\n     \"<li>re-rerun `output_notebook()` to attempt to load from CDN again, or</li>\\n\"+\n     \"<li>use INLINE resources instead, as so:</li>\\n\"+\n     \"</ul>\\n\"+\n     \"<code>\\n\"+\n     \"from bokeh.resources import INLINE\\n\"+\n     \"output_notebook(resources=INLINE)\\n\"+\n     \"</code>\\n\"+\n     \"</div>\"}};\n\n  function display_loaded() {\n    var el = document.getElementById(\"1001\");\n    if (el != null) {\n      el.textContent = \"BokehJS is loading...\";\n    }\n    if (root.Bokeh !== undefined) {\n      if (el != null) {\n        el.textContent = \"BokehJS \" + root.Bokeh.version + \" successfully loaded.\";\n      }\n    } else if (Date.now() < root._bokeh_timeout) {\n      setTimeout(display_loaded, 100)\n    }\n  }\n\n\n  function run_callbacks() {\n    try {\n      root._bokeh_onload_callbacks.forEach(function(callback) {\n        if (callback != null)\n          callback();\n      });\n    } finally {\n      delete root._bokeh_onload_callbacks\n    }\n    console.debug(\"Bokeh: all callbacks have finished\");\n  }\n\n  function load_libs(css_urls, js_urls, callback) {\n    if (css_urls == null) css_urls = [];\n    if (js_urls == null) js_urls = [];\n\n    root._bokeh_onload_callbacks.push(callback);\n    if (root._bokeh_is_loading > 0) {\n      console.debug(\"Bokeh: BokehJS is being loaded, scheduling callback at\", now());\n      return null;\n    }\n    if (js_urls == null || js_urls.length === 0) {\n      run_callbacks();\n      return null;\n    }\n    console.debug(\"Bokeh: BokehJS not loaded, scheduling load and callback at\", now());\n    root._bokeh_is_loading = css_urls.length + js_urls.length;\n\n    function on_load() {\n      root._bokeh_is_loading--;\n      if (root._bokeh_is_loading === 0) {\n        console.debug(\"Bokeh: all BokehJS libraries/stylesheets loaded\");\n        run_callbacks()\n      }\n    }\n\n    function on_error() {\n      console.error(\"failed to load \" + url);\n    }\n\n    for (var i = 0; i < css_urls.length; i++) {\n      var url = css_urls[i];\n      const element = document.createElement(\"link\");\n      element.onload = on_load;\n      element.onerror = on_error;\n      element.rel = \"stylesheet\";\n      element.type = \"text/css\";\n      element.href = url;\n      console.debug(\"Bokeh: injecting link tag for BokehJS stylesheet: \", url);\n      document.body.appendChild(element);\n    }\n\n    for (var i = 0; i < js_urls.length; i++) {\n      var url = js_urls[i];\n      var element = document.createElement('script');\n      element.onload = on_load;\n      element.onerror = on_error;\n      element.async = false;\n      element.src = url;\n      console.debug(\"Bokeh: injecting script tag for BokehJS library: \", url);\n      document.head.appendChild(element);\n    }\n  };var element = document.getElementById(\"1001\");\n  if (element == null) {\n    console.error(\"Bokeh: ERROR: autoload.js configured with elementid '1001' but no matching script tag was found. \")\n    return false;\n  }\n\n  function inject_raw_css(css) {\n    const element = document.createElement(\"style\");\n    element.appendChild(document.createTextNode(css));\n    document.body.appendChild(element);\n  }\n\n  \n  var js_urls = [\"https://cdn.pydata.org/bokeh/release/bokeh-1.4.0.min.js\", \"https://cdn.pydata.org/bokeh/release/bokeh-widgets-1.4.0.min.js\", \"https://cdn.pydata.org/bokeh/release/bokeh-tables-1.4.0.min.js\", \"https://cdn.pydata.org/bokeh/release/bokeh-gl-1.4.0.min.js\"];\n  var css_urls = [];\n  \n\n  var inline_js = [\n    function(Bokeh) {\n      Bokeh.set_log_level(\"info\");\n    },\n    function(Bokeh) {\n    \n    \n    }\n  ];\n\n  function run_inline_js() {\n    \n    if (root.Bokeh !== undefined || force === true) {\n      \n    for (var i = 0; i < inline_js.length; i++) {\n      inline_js[i].call(root, root.Bokeh);\n    }\n    if (force === true) {\n        display_loaded();\n      }} else if (Date.now() < root._bokeh_timeout) {\n      setTimeout(run_inline_js, 100);\n    } else if (!root._bokeh_failed_load) {\n      console.log(\"Bokeh: BokehJS failed to load within specified timeout.\");\n      root._bokeh_failed_load = true;\n    } else if (force !== true) {\n      var cell = $(document.getElementById(\"1001\")).parents('.cell').data().cell;\n      cell.output_area.append_execute_result(NB_LOAD_WARNING)\n    }\n\n  }\n\n  if (root._bokeh_is_loading === 0) {\n    console.debug(\"Bokeh: BokehJS loaded, going straight to plotting\");\n    run_inline_js();\n  } else {\n    load_libs(css_urls, js_urls, function() {\n      console.debug(\"Bokeh: BokehJS plotting callback run at\", now());\n      run_inline_js();\n    });\n  }\n}(window));"
     },
     "metadata": {},
     "output_type": "display_data"
    },
    {
     "data": {
      "text/html": [
       "\n",
       "    <div class=\"bk-root\">\n",
       "        <a href=\"https://bokeh.org\" target=\"_blank\" class=\"bk-logo bk-logo-small bk-logo-notebook\"></a>\n",
       "        <span id=\"1002\">Loading BokehJS ...</span>\n",
       "    </div>"
      ]
     },
     "metadata": {},
     "output_type": "display_data"
    },
    {
     "data": {
      "application/javascript": [
       "\n",
       "(function(root) {\n",
       "  function now() {\n",
       "    return new Date();\n",
       "  }\n",
       "\n",
       "  var force = true;\n",
       "\n",
       "  if (typeof root._bokeh_onload_callbacks === \"undefined\" || force === true) {\n",
       "    root._bokeh_onload_callbacks = [];\n",
       "    root._bokeh_is_loading = undefined;\n",
       "  }\n",
       "\n",
       "  var JS_MIME_TYPE = 'application/javascript';\n",
       "  var HTML_MIME_TYPE = 'text/html';\n",
       "  var EXEC_MIME_TYPE = 'application/vnd.bokehjs_exec.v0+json';\n",
       "  var CLASS_NAME = 'output_bokeh rendered_html';\n",
       "\n",
       "  /**\n",
       "   * Render data to the DOM node\n",
       "   */\n",
       "  function render(props, node) {\n",
       "    var script = document.createElement(\"script\");\n",
       "    node.appendChild(script);\n",
       "  }\n",
       "\n",
       "  /**\n",
       "   * Handle when an output is cleared or removed\n",
       "   */\n",
       "  function handleClearOutput(event, handle) {\n",
       "    var cell = handle.cell;\n",
       "\n",
       "    var id = cell.output_area._bokeh_element_id;\n",
       "    var server_id = cell.output_area._bokeh_server_id;\n",
       "    // Clean up Bokeh references\n",
       "    if (id != null && id in Bokeh.index) {\n",
       "      Bokeh.index[id].model.document.clear();\n",
       "      delete Bokeh.index[id];\n",
       "    }\n",
       "\n",
       "    if (server_id !== undefined) {\n",
       "      // Clean up Bokeh references\n",
       "      var cmd = \"from bokeh.io.state import curstate; print(curstate().uuid_to_server['\" + server_id + \"'].get_sessions()[0].document.roots[0]._id)\";\n",
       "      cell.notebook.kernel.execute(cmd, {\n",
       "        iopub: {\n",
       "          output: function(msg) {\n",
       "            var id = msg.content.text.trim();\n",
       "            if (id in Bokeh.index) {\n",
       "              Bokeh.index[id].model.document.clear();\n",
       "              delete Bokeh.index[id];\n",
       "            }\n",
       "          }\n",
       "        }\n",
       "      });\n",
       "      // Destroy server and session\n",
       "      var cmd = \"import bokeh.io.notebook as ion; ion.destroy_server('\" + server_id + \"')\";\n",
       "      cell.notebook.kernel.execute(cmd);\n",
       "    }\n",
       "  }\n",
       "\n",
       "  /**\n",
       "   * Handle when a new output is added\n",
       "   */\n",
       "  function handleAddOutput(event, handle) {\n",
       "    var output_area = handle.output_area;\n",
       "    var output = handle.output;\n",
       "\n",
       "    // limit handleAddOutput to display_data with EXEC_MIME_TYPE content only\n",
       "    if ((output.output_type != \"display_data\") || (!output.data.hasOwnProperty(EXEC_MIME_TYPE))) {\n",
       "      return\n",
       "    }\n",
       "\n",
       "    var toinsert = output_area.element.find(\".\" + CLASS_NAME.split(' ')[0]);\n",
       "\n",
       "    if (output.metadata[EXEC_MIME_TYPE][\"id\"] !== undefined) {\n",
       "      toinsert[toinsert.length - 1].firstChild.textContent = output.data[JS_MIME_TYPE];\n",
       "      // store reference to embed id on output_area\n",
       "      output_area._bokeh_element_id = output.metadata[EXEC_MIME_TYPE][\"id\"];\n",
       "    }\n",
       "    if (output.metadata[EXEC_MIME_TYPE][\"server_id\"] !== undefined) {\n",
       "      var bk_div = document.createElement(\"div\");\n",
       "      bk_div.innerHTML = output.data[HTML_MIME_TYPE];\n",
       "      var script_attrs = bk_div.children[0].attributes;\n",
       "      for (var i = 0; i < script_attrs.length; i++) {\n",
       "        toinsert[toinsert.length - 1].firstChild.setAttribute(script_attrs[i].name, script_attrs[i].value);\n",
       "      }\n",
       "      // store reference to server id on output_area\n",
       "      output_area._bokeh_server_id = output.metadata[EXEC_MIME_TYPE][\"server_id\"];\n",
       "    }\n",
       "  }\n",
       "\n",
       "  function register_renderer(events, OutputArea) {\n",
       "\n",
       "    function append_mime(data, metadata, element) {\n",
       "      // create a DOM node to render to\n",
       "      var toinsert = this.create_output_subarea(\n",
       "        metadata,\n",
       "        CLASS_NAME,\n",
       "        EXEC_MIME_TYPE\n",
       "      );\n",
       "      this.keyboard_manager.register_events(toinsert);\n",
       "      // Render to node\n",
       "      var props = {data: data, metadata: metadata[EXEC_MIME_TYPE]};\n",
       "      render(props, toinsert[toinsert.length - 1]);\n",
       "      element.append(toinsert);\n",
       "      return toinsert\n",
       "    }\n",
       "\n",
       "    /* Handle when an output is cleared or removed */\n",
       "    events.on('clear_output.CodeCell', handleClearOutput);\n",
       "    events.on('delete.Cell', handleClearOutput);\n",
       "\n",
       "    /* Handle when a new output is added */\n",
       "    events.on('output_added.OutputArea', handleAddOutput);\n",
       "\n",
       "    /**\n",
       "     * Register the mime type and append_mime function with output_area\n",
       "     */\n",
       "    OutputArea.prototype.register_mime_type(EXEC_MIME_TYPE, append_mime, {\n",
       "      /* Is output safe? */\n",
       "      safe: true,\n",
       "      /* Index of renderer in `output_area.display_order` */\n",
       "      index: 0\n",
       "    });\n",
       "  }\n",
       "\n",
       "  // register the mime type if in Jupyter Notebook environment and previously unregistered\n",
       "  if (root.Jupyter !== undefined) {\n",
       "    var events = require('base/js/events');\n",
       "    var OutputArea = require('notebook/js/outputarea').OutputArea;\n",
       "\n",
       "    if (OutputArea.prototype.mime_types().indexOf(EXEC_MIME_TYPE) == -1) {\n",
       "      register_renderer(events, OutputArea);\n",
       "    }\n",
       "  }\n",
       "\n",
       "  \n",
       "  if (typeof (root._bokeh_timeout) === \"undefined\" || force === true) {\n",
       "    root._bokeh_timeout = Date.now() + 5000;\n",
       "    root._bokeh_failed_load = false;\n",
       "  }\n",
       "\n",
       "  var NB_LOAD_WARNING = {'data': {'text/html':\n",
       "     \"<div style='background-color: #fdd'>\\n\"+\n",
       "     \"<p>\\n\"+\n",
       "     \"BokehJS does not appear to have successfully loaded. If loading BokehJS from CDN, this \\n\"+\n",
       "     \"may be due to a slow or bad network connection. Possible fixes:\\n\"+\n",
       "     \"</p>\\n\"+\n",
       "     \"<ul>\\n\"+\n",
       "     \"<li>re-rerun `output_notebook()` to attempt to load from CDN again, or</li>\\n\"+\n",
       "     \"<li>use INLINE resources instead, as so:</li>\\n\"+\n",
       "     \"</ul>\\n\"+\n",
       "     \"<code>\\n\"+\n",
       "     \"from bokeh.resources import INLINE\\n\"+\n",
       "     \"output_notebook(resources=INLINE)\\n\"+\n",
       "     \"</code>\\n\"+\n",
       "     \"</div>\"}};\n",
       "\n",
       "  function display_loaded() {\n",
       "    var el = document.getElementById(\"1002\");\n",
       "    if (el != null) {\n",
       "      el.textContent = \"BokehJS is loading...\";\n",
       "    }\n",
       "    if (root.Bokeh !== undefined) {\n",
       "      if (el != null) {\n",
       "        el.textContent = \"BokehJS \" + root.Bokeh.version + \" successfully loaded.\";\n",
       "      }\n",
       "    } else if (Date.now() < root._bokeh_timeout) {\n",
       "      setTimeout(display_loaded, 100)\n",
       "    }\n",
       "  }\n",
       "\n",
       "\n",
       "  function run_callbacks() {\n",
       "    try {\n",
       "      root._bokeh_onload_callbacks.forEach(function(callback) {\n",
       "        if (callback != null)\n",
       "          callback();\n",
       "      });\n",
       "    } finally {\n",
       "      delete root._bokeh_onload_callbacks\n",
       "    }\n",
       "    console.debug(\"Bokeh: all callbacks have finished\");\n",
       "  }\n",
       "\n",
       "  function load_libs(css_urls, js_urls, callback) {\n",
       "    if (css_urls == null) css_urls = [];\n",
       "    if (js_urls == null) js_urls = [];\n",
       "\n",
       "    root._bokeh_onload_callbacks.push(callback);\n",
       "    if (root._bokeh_is_loading > 0) {\n",
       "      console.debug(\"Bokeh: BokehJS is being loaded, scheduling callback at\", now());\n",
       "      return null;\n",
       "    }\n",
       "    if (js_urls == null || js_urls.length === 0) {\n",
       "      run_callbacks();\n",
       "      return null;\n",
       "    }\n",
       "    console.debug(\"Bokeh: BokehJS not loaded, scheduling load and callback at\", now());\n",
       "    root._bokeh_is_loading = css_urls.length + js_urls.length;\n",
       "\n",
       "    function on_load() {\n",
       "      root._bokeh_is_loading--;\n",
       "      if (root._bokeh_is_loading === 0) {\n",
       "        console.debug(\"Bokeh: all BokehJS libraries/stylesheets loaded\");\n",
       "        run_callbacks()\n",
       "      }\n",
       "    }\n",
       "\n",
       "    function on_error() {\n",
       "      console.error(\"failed to load \" + url);\n",
       "    }\n",
       "\n",
       "    for (var i = 0; i < css_urls.length; i++) {\n",
       "      var url = css_urls[i];\n",
       "      const element = document.createElement(\"link\");\n",
       "      element.onload = on_load;\n",
       "      element.onerror = on_error;\n",
       "      element.rel = \"stylesheet\";\n",
       "      element.type = \"text/css\";\n",
       "      element.href = url;\n",
       "      console.debug(\"Bokeh: injecting link tag for BokehJS stylesheet: \", url);\n",
       "      document.body.appendChild(element);\n",
       "    }\n",
       "\n",
       "    for (var i = 0; i < js_urls.length; i++) {\n",
       "      var url = js_urls[i];\n",
       "      var element = document.createElement('script');\n",
       "      element.onload = on_load;\n",
       "      element.onerror = on_error;\n",
       "      element.async = false;\n",
       "      element.src = url;\n",
       "      console.debug(\"Bokeh: injecting script tag for BokehJS library: \", url);\n",
       "      document.head.appendChild(element);\n",
       "    }\n",
       "  };var element = document.getElementById(\"1002\");\n",
       "  if (element == null) {\n",
       "    console.error(\"Bokeh: ERROR: autoload.js configured with elementid '1002' but no matching script tag was found. \")\n",
       "    return false;\n",
       "  }\n",
       "\n",
       "  function inject_raw_css(css) {\n",
       "    const element = document.createElement(\"style\");\n",
       "    element.appendChild(document.createTextNode(css));\n",
       "    document.body.appendChild(element);\n",
       "  }\n",
       "\n",
       "  \n",
       "  var js_urls = [\"https://cdn.pydata.org/bokeh/release/bokeh-1.4.0.min.js\", \"https://cdn.pydata.org/bokeh/release/bokeh-widgets-1.4.0.min.js\", \"https://cdn.pydata.org/bokeh/release/bokeh-tables-1.4.0.min.js\", \"https://cdn.pydata.org/bokeh/release/bokeh-gl-1.4.0.min.js\"];\n",
       "  var css_urls = [];\n",
       "  \n",
       "\n",
       "  var inline_js = [\n",
       "    function(Bokeh) {\n",
       "      Bokeh.set_log_level(\"info\");\n",
       "    },\n",
       "    function(Bokeh) {\n",
       "    \n",
       "    \n",
       "    }\n",
       "  ];\n",
       "\n",
       "  function run_inline_js() {\n",
       "    \n",
       "    if (root.Bokeh !== undefined || force === true) {\n",
       "      \n",
       "    for (var i = 0; i < inline_js.length; i++) {\n",
       "      inline_js[i].call(root, root.Bokeh);\n",
       "    }\n",
       "    if (force === true) {\n",
       "        display_loaded();\n",
       "      }} else if (Date.now() < root._bokeh_timeout) {\n",
       "      setTimeout(run_inline_js, 100);\n",
       "    } else if (!root._bokeh_failed_load) {\n",
       "      console.log(\"Bokeh: BokehJS failed to load within specified timeout.\");\n",
       "      root._bokeh_failed_load = true;\n",
       "    } else if (force !== true) {\n",
       "      var cell = $(document.getElementById(\"1002\")).parents('.cell').data().cell;\n",
       "      cell.output_area.append_execute_result(NB_LOAD_WARNING)\n",
       "    }\n",
       "\n",
       "  }\n",
       "\n",
       "  if (root._bokeh_is_loading === 0) {\n",
       "    console.debug(\"Bokeh: BokehJS loaded, going straight to plotting\");\n",
       "    run_inline_js();\n",
       "  } else {\n",
       "    load_libs(css_urls, js_urls, function() {\n",
       "      console.debug(\"Bokeh: BokehJS plotting callback run at\", now());\n",
       "      run_inline_js();\n",
       "    });\n",
       "  }\n",
       "}(window));"
      ],
      "application/vnd.bokehjs_load.v0+json": "\n(function(root) {\n  function now() {\n    return new Date();\n  }\n\n  var force = true;\n\n  if (typeof root._bokeh_onload_callbacks === \"undefined\" || force === true) {\n    root._bokeh_onload_callbacks = [];\n    root._bokeh_is_loading = undefined;\n  }\n\n  \n\n  \n  if (typeof (root._bokeh_timeout) === \"undefined\" || force === true) {\n    root._bokeh_timeout = Date.now() + 5000;\n    root._bokeh_failed_load = false;\n  }\n\n  var NB_LOAD_WARNING = {'data': {'text/html':\n     \"<div style='background-color: #fdd'>\\n\"+\n     \"<p>\\n\"+\n     \"BokehJS does not appear to have successfully loaded. If loading BokehJS from CDN, this \\n\"+\n     \"may be due to a slow or bad network connection. Possible fixes:\\n\"+\n     \"</p>\\n\"+\n     \"<ul>\\n\"+\n     \"<li>re-rerun `output_notebook()` to attempt to load from CDN again, or</li>\\n\"+\n     \"<li>use INLINE resources instead, as so:</li>\\n\"+\n     \"</ul>\\n\"+\n     \"<code>\\n\"+\n     \"from bokeh.resources import INLINE\\n\"+\n     \"output_notebook(resources=INLINE)\\n\"+\n     \"</code>\\n\"+\n     \"</div>\"}};\n\n  function display_loaded() {\n    var el = document.getElementById(\"1002\");\n    if (el != null) {\n      el.textContent = \"BokehJS is loading...\";\n    }\n    if (root.Bokeh !== undefined) {\n      if (el != null) {\n        el.textContent = \"BokehJS \" + root.Bokeh.version + \" successfully loaded.\";\n      }\n    } else if (Date.now() < root._bokeh_timeout) {\n      setTimeout(display_loaded, 100)\n    }\n  }\n\n\n  function run_callbacks() {\n    try {\n      root._bokeh_onload_callbacks.forEach(function(callback) {\n        if (callback != null)\n          callback();\n      });\n    } finally {\n      delete root._bokeh_onload_callbacks\n    }\n    console.debug(\"Bokeh: all callbacks have finished\");\n  }\n\n  function load_libs(css_urls, js_urls, callback) {\n    if (css_urls == null) css_urls = [];\n    if (js_urls == null) js_urls = [];\n\n    root._bokeh_onload_callbacks.push(callback);\n    if (root._bokeh_is_loading > 0) {\n      console.debug(\"Bokeh: BokehJS is being loaded, scheduling callback at\", now());\n      return null;\n    }\n    if (js_urls == null || js_urls.length === 0) {\n      run_callbacks();\n      return null;\n    }\n    console.debug(\"Bokeh: BokehJS not loaded, scheduling load and callback at\", now());\n    root._bokeh_is_loading = css_urls.length + js_urls.length;\n\n    function on_load() {\n      root._bokeh_is_loading--;\n      if (root._bokeh_is_loading === 0) {\n        console.debug(\"Bokeh: all BokehJS libraries/stylesheets loaded\");\n        run_callbacks()\n      }\n    }\n\n    function on_error() {\n      console.error(\"failed to load \" + url);\n    }\n\n    for (var i = 0; i < css_urls.length; i++) {\n      var url = css_urls[i];\n      const element = document.createElement(\"link\");\n      element.onload = on_load;\n      element.onerror = on_error;\n      element.rel = \"stylesheet\";\n      element.type = \"text/css\";\n      element.href = url;\n      console.debug(\"Bokeh: injecting link tag for BokehJS stylesheet: \", url);\n      document.body.appendChild(element);\n    }\n\n    for (var i = 0; i < js_urls.length; i++) {\n      var url = js_urls[i];\n      var element = document.createElement('script');\n      element.onload = on_load;\n      element.onerror = on_error;\n      element.async = false;\n      element.src = url;\n      console.debug(\"Bokeh: injecting script tag for BokehJS library: \", url);\n      document.head.appendChild(element);\n    }\n  };var element = document.getElementById(\"1002\");\n  if (element == null) {\n    console.error(\"Bokeh: ERROR: autoload.js configured with elementid '1002' but no matching script tag was found. \")\n    return false;\n  }\n\n  function inject_raw_css(css) {\n    const element = document.createElement(\"style\");\n    element.appendChild(document.createTextNode(css));\n    document.body.appendChild(element);\n  }\n\n  \n  var js_urls = [\"https://cdn.pydata.org/bokeh/release/bokeh-1.4.0.min.js\", \"https://cdn.pydata.org/bokeh/release/bokeh-widgets-1.4.0.min.js\", \"https://cdn.pydata.org/bokeh/release/bokeh-tables-1.4.0.min.js\", \"https://cdn.pydata.org/bokeh/release/bokeh-gl-1.4.0.min.js\"];\n  var css_urls = [];\n  \n\n  var inline_js = [\n    function(Bokeh) {\n      Bokeh.set_log_level(\"info\");\n    },\n    function(Bokeh) {\n    \n    \n    }\n  ];\n\n  function run_inline_js() {\n    \n    if (root.Bokeh !== undefined || force === true) {\n      \n    for (var i = 0; i < inline_js.length; i++) {\n      inline_js[i].call(root, root.Bokeh);\n    }\n    if (force === true) {\n        display_loaded();\n      }} else if (Date.now() < root._bokeh_timeout) {\n      setTimeout(run_inline_js, 100);\n    } else if (!root._bokeh_failed_load) {\n      console.log(\"Bokeh: BokehJS failed to load within specified timeout.\");\n      root._bokeh_failed_load = true;\n    } else if (force !== true) {\n      var cell = $(document.getElementById(\"1002\")).parents('.cell').data().cell;\n      cell.output_area.append_execute_result(NB_LOAD_WARNING)\n    }\n\n  }\n\n  if (root._bokeh_is_loading === 0) {\n    console.debug(\"Bokeh: BokehJS loaded, going straight to plotting\");\n    run_inline_js();\n  } else {\n    load_libs(css_urls, js_urls, function() {\n      console.debug(\"Bokeh: BokehJS plotting callback run at\", now());\n      run_inline_js();\n    });\n  }\n}(window));"
     },
     "metadata": {},
     "output_type": "display_data"
    }
   ],
   "source": [
    "from hail.plot import show\n",
    "from pprint import pprint\n",
    "from bokeh.layouts import gridplot\n",
    "hl.plot.output_notebook()\n",
    "\n",
    "\n",
    "import numpy as np\n",
    "import pandas as pd\n",
    "from functools import reduce\n",
    "from itertools import chain\n",
    "\n",
    "from bokeh.plotting import output_notebook, show, figure\n",
    "from bokeh.palettes import viridis\n",
    "from scipy import stats\n",
    "\n",
    "output_notebook()"
   ]
  },
  {
   "cell_type": "markdown",
   "id": "cffb63c1-131e-49c7-93ef-9901adfdfce3",
   "metadata": {},
   "source": [
    "### Phenotypes to investigate and their respective phenotypes in genebass:\n"
   ]
  },
  {
   "cell_type": "markdown",
   "id": "4084201f-7975-435f-b421-25263a2d8d32",
   "metadata": {},
   "source": [
    "Many of the phenotypes do not have their exact respective phenotypes, so the closest phenotype was chosen:\n",
    "\n",
    "panukb phenotype | genebass phenotype\n",
    "--------------- | ------------------\n",
    "anti_gout_agent_microtuble_polymerization_inhibitor-both_sexes | none\n",
    "allopurinol | categorical-20003-both_sexes-1140875408- - Treatment/medication code\n",
    "immature_reticulocyte_fraction | Immature reticulocyte fraction\n",
    "both_sexes--platelet_crit | Platelet crit\n",
    "biobankuk-egfrcreacys-both_sexes--estimated_glomerular_filtration_rate_cystain_c-EUR | none\n",
    "forced vital capacity best measure | fvc best measure\n",
    "biobankuk-20002-both_sexes-1309-non_cancer_illness_code_self_reported-EUR | M81 Osteoporosis without pathological fracture\n",
    "\n",
    "- gene lists were prepared from the genebass results SKAT-O tests based on the previously set genome-wide significance threshold: 2.5 × 10−7\n",
    "- We also conducted analyses for the 1 x 10-6 and 1 x 10-5 thresholds"
   ]
  },
  {
   "cell_type": "markdown",
   "id": "18a23f22-a9d0-42dd-8402-ae6555420f87",
   "metadata": {},
   "source": [
    "### Import and filter genebass:"
   ]
  },
  {
   "cell_type": "code",
   "execution_count": 4,
   "id": "f66c66f1-dcd7-43ff-ac01-8015428af397",
   "metadata": {},
   "outputs": [],
   "source": [
    "genebass = hl.read_matrix_table('/net/pr2/projects/plgrid/plggneuromol/resources/genebass-500k/results.mt')"
   ]
  },
  {
   "cell_type": "code",
   "execution_count": 5,
   "id": "305125ea-d502-4fb9-b672-73744790958b",
   "metadata": {},
   "outputs": [],
   "source": [
    "pheno_filters = (\n",
    "    genebass.coding == \"1140875408\"\n",
    ") | (\n",
    "    genebass.description == \"Immature reticulocyte fraction\"\n",
    ") | (\n",
    "    genebass.description == \"Platelet crit\"\n",
    ") | (\n",
    "    genebass.description == \"Forced vital capacity (FVC), Best measure\"\n",
    ") | (\n",
    "    genebass.description_more.contains('M81')\n",
    ")  "
   ]
  },
  {
   "cell_type": "code",
   "execution_count": 6,
   "id": "6aa57a6d-3d8c-4cb0-b807-39eb71413ffa",
   "metadata": {},
   "outputs": [],
   "source": [
    "genebass = genebass.filter_cols(pheno_filters)"
   ]
  },
  {
   "cell_type": "code",
   "execution_count": 7,
   "id": "19a96da9-6504-4283-bb60-019768eed2f5",
   "metadata": {},
   "outputs": [
    {
     "data": {
      "text/plain": [
       "(75767, 5)"
      ]
     },
     "execution_count": 7,
     "metadata": {},
     "output_type": "execute_result"
    }
   ],
   "source": [
    "genebass.count()"
   ]
  },
  {
   "cell_type": "markdown",
   "id": "8159bb30-f5c5-49f7-abc2-918c0bdc8271",
   "metadata": {},
   "source": [
    "### Get gene lists for different cut offs:"
   ]
  },
  {
   "cell_type": "code",
   "execution_count": 8,
   "id": "089cd0cc-e394-4ddd-9746-2b26d5d7612a",
   "metadata": {
    "tags": []
   },
   "outputs": [],
   "source": [
    "genebass = genebass.annotate_cols(\n",
    "    below_7 = hl.agg.filter((\n",
    "        genebass.Pvalue < 2.5e-07),\n",
    "        hl.agg.collect_as_set(genebass.gene_symbol)\n",
    "    ),\n",
    "    below_6 = hl.agg.filter((\n",
    "        genebass.Pvalue < 1e-06),\n",
    "        hl.agg.collect_as_set(genebass.gene_symbol)\n",
    "    ),\n",
    "    below_5 = hl.agg.filter((\n",
    "        genebass.Pvalue < 1e-05),\n",
    "        hl.agg.collect_as_set(genebass.gene_symbol)\n",
    "    )\n",
    ")"
   ]
  },
  {
   "cell_type": "code",
   "execution_count": 9,
   "id": "c8e82470-0efc-4a49-9f91-e835439d78cc",
   "metadata": {},
   "outputs": [],
   "source": [
    "genebass = genebass.select_cols(\n",
    "    genebass.below_7,\n",
    "    genebass.below_6,\n",
    "    genebass.below_5,\n",
    "    genebass.description,\n",
    "    genebass.description_more,\n",
    "    genebass.coding_description\n",
    ")"
   ]
  },
  {
   "cell_type": "code",
   "execution_count": 10,
   "id": "ca5c6fdb-69d8-4547-8ae8-b71c42143db9",
   "metadata": {},
   "outputs": [],
   "source": [
    "genebass = genebass.annotate_cols(\n",
    "    len_below_5 = hl.len(genebass.below_5),\n",
    "    len_below_6 = hl.len(genebass.below_6),\n",
    "    len_below_7 = hl.len(genebass.below_7)\n",
    ")"
   ]
  },
  {
   "cell_type": "code",
   "execution_count": 47,
   "id": "14236fe7-66bc-4ff5-a662-c8c5dbf97798",
   "metadata": {},
   "outputs": [],
   "source": [
    "genebass = genebass.annotate_cols(\n",
    "    description = hl.coalesce(\n",
    "        genebass.coding_description,\n",
    "        genebass.description\n",
    "    )\n",
    ")"
   ]
  },
  {
   "cell_type": "markdown",
   "id": "d8abce1b-a573-4ef5-aa60-da6f245417bb",
   "metadata": {
    "tags": []
   },
   "source": [
    "### The matrix table below has already been filtered and annotated, see preprocessing/joint-with-gts/genotype-and-filter.ipynb"
   ]
  },
  {
   "cell_type": "code",
   "execution_count": 11,
   "id": "7264a12c-1363-4360-86cd-042a3a335e20",
   "metadata": {},
   "outputs": [],
   "source": [
    "mt = hl.read_matrix_table('/net/pr2/projects/plgrid/plggneuromol/imdik-zekanowski-sportwgs/data/joint/full-healthy.mt')"
   ]
  },
  {
   "cell_type": "code",
   "execution_count": 12,
   "id": "0b7908ad-0505-4a56-ad7e-d77fbc1e8e3a",
   "metadata": {},
   "outputs": [
    {
     "data": {
      "text/plain": [
       "(2639210, 237)"
      ]
     },
     "execution_count": 12,
     "metadata": {},
     "output_type": "execute_result"
    }
   ],
   "source": [
    "mt.count()"
   ]
  },
  {
   "cell_type": "code",
   "execution_count": 13,
   "id": "19729cc0-927b-4cbe-aa1b-f3719995d529",
   "metadata": {},
   "outputs": [],
   "source": [
    "proper_controls = ['WGS_37b', 'WGS_37c', 'WGS_163d', 'WGS_7120', 'WGS_7142', 'WGS_7143', 'WGS_7152',\n",
    " 'WGS_7153', 'WGS_85b', 'WGS_147c', 'WGS_180b', 'WGS_185c', 'WGS_6819', 'S_7213', 'S_7227', 'S_7241', 'S_7246', 'S_7254', 'S_7274',\n",
    "                   'S_7307', '494', '462', '468', '492', '490'] "
   ]
  },
  {
   "cell_type": "code",
   "execution_count": 14,
   "id": "f1439d52-df30-477f-b3e9-f9de0d996313",
   "metadata": {
    "tags": []
   },
   "outputs": [
    {
     "data": {
      "text/plain": [
       "25"
      ]
     },
     "execution_count": 14,
     "metadata": {},
     "output_type": "execute_result"
    }
   ],
   "source": [
    "len(proper_controls)"
   ]
  },
  {
   "cell_type": "markdown",
   "id": "fb33d934-19a9-42a2-a2eb-4de43f32ff90",
   "metadata": {
    "tags": []
   },
   "source": [
    "### Only keep intragenic variants"
   ]
  },
  {
   "cell_type": "code",
   "execution_count": 15,
   "id": "2398e981-58d2-44e0-9dd1-df66067422fb",
   "metadata": {},
   "outputs": [
    {
     "name": "stderr",
     "output_type": "stream",
     "text": [
      "2023-02-05 15:41:27.361 Hail: INFO: wrote matrix table with 1683507 rows and 237 columns in 14999 partitions to /localfs/1769963/intragenic.mt\n"
     ]
    }
   ],
   "source": [
    "mt = mt.filter_rows(mt.within_gene == hl.empty_array(hl.tstr), keep = False)\n",
    "mt.write(localfs_path+'intragenic.mt', overwrite = True)"
   ]
  },
  {
   "cell_type": "code",
   "execution_count": 17,
   "id": "78c1b81e-6193-4c4c-9e27-16e54ee224a8",
   "metadata": {},
   "outputs": [],
   "source": [
    "mt = hl.read_matrix_table(localfs_path+'intragenic.mt')"
   ]
  },
  {
   "cell_type": "code",
   "execution_count": 18,
   "id": "b7906fa9-f179-418a-bccb-2f3d898956d7",
   "metadata": {
    "tags": []
   },
   "outputs": [
    {
     "data": {
      "text/plain": [
       "(1683507, 237)"
      ]
     },
     "execution_count": 18,
     "metadata": {},
     "output_type": "execute_result"
    }
   ],
   "source": [
    "mt.count()"
   ]
  },
  {
   "cell_type": "markdown",
   "id": "63426b12-17d6-440c-8b92-122baa4b67a9",
   "metadata": {
    "tags": []
   },
   "source": [
    "### Only keep proprerly healthy controls"
   ]
  },
  {
   "cell_type": "code",
   "execution_count": 19,
   "id": "1404bae2-f782-4c19-8c8e-841f12386c46",
   "metadata": {},
   "outputs": [
    {
     "data": {
      "text/plain": [
       "{'1kg': 98, 'control': 39, 'sport': 100}"
      ]
     },
     "execution_count": 19,
     "metadata": {},
     "output_type": "execute_result"
    }
   ],
   "source": [
    "mt.aggregate_cols(hl.agg.counter(mt.group))"
   ]
  },
  {
   "cell_type": "code",
   "execution_count": 20,
   "id": "e16442b5-e2c6-45dd-ac56-e600ca9f9b25",
   "metadata": {},
   "outputs": [],
   "source": [
    "mt = mt.filter_cols(\n",
    "    (mt.group == '1kg') | (mt.group == 'sport') | (hl.literal(proper_controls)).contains(mt.s)\n",
    ")"
   ]
  },
  {
   "cell_type": "code",
   "execution_count": 21,
   "id": "5fb78338-1996-44ae-9f6f-27925e723a89",
   "metadata": {},
   "outputs": [
    {
     "name": "stderr",
     "output_type": "stream",
     "text": [
      "2023-02-05 15:46:23.629 Hail: INFO: wrote matrix table with 1683507 rows and 220 columns in 14999 partitions to /localfs/1769963/filtered.mt\n"
     ]
    }
   ],
   "source": [
    "mt.write(localfs_path+'filtered.mt', overwrite = True)\n",
    "mt = hl.read_matrix_table(localfs_path+'filtered.mt')"
   ]
  },
  {
   "cell_type": "code",
   "execution_count": 22,
   "id": "d86b0409-0602-4d89-bd18-dd781d886140",
   "metadata": {},
   "outputs": [
    {
     "data": {
      "text/plain": [
       "(1683507, 220)"
      ]
     },
     "execution_count": 22,
     "metadata": {},
     "output_type": "execute_result"
    }
   ],
   "source": [
    "mt.count()"
   ]
  },
  {
   "cell_type": "code",
   "execution_count": 23,
   "id": "73cf58d0-3419-4ac3-aa59-3af561725823",
   "metadata": {},
   "outputs": [
    {
     "name": "stderr",
     "output_type": "stream",
     "text": [
      "2023-02-05 15:47:43.882 Hail: INFO: wrote matrix table with 1683507 rows and 220 columns in 200 partitions to /localfs/1769963/repartitioned.mt\n"
     ]
    }
   ],
   "source": [
    "mt.naive_coalesce(200).write(localfs_path+'repartitioned.mt', overwrite = True)"
   ]
  },
  {
   "cell_type": "code",
   "execution_count": 24,
   "id": "872e7388-d8b0-4f83-84eb-15ab6ba114e9",
   "metadata": {},
   "outputs": [],
   "source": [
    "mt = hl.read_matrix_table(localfs_path+'repartitioned.mt')"
   ]
  },
  {
   "cell_type": "markdown",
   "id": "2bf4606a-e113-4254-a94f-f19c5a7b310a",
   "metadata": {
    "tags": []
   },
   "source": [
    "## calculate per-gene burden in 5 ways:\n",
    " - gene has a variant with CADD > 20\n",
    " - gene has a variant with CADD > 16\n",
    " - sum of CADD for variants with CADD > 10\n",
    " - LoF - HC lof from vep \n",
    " - gene has a variant with MAF < 0.002 in a database of Polish genomes of has not been found there\n",
    " "
   ]
  },
  {
   "cell_type": "code",
   "execution_count": 25,
   "id": "e1358965-12c9-4b75-a8bd-21af507ace87",
   "metadata": {},
   "outputs": [
    {
     "name": "stderr",
     "output_type": "stream",
     "text": [
      "2023-02-05 15:49:07.424 Hail: INFO: wrote matrix table with 1915897 rows and 220 columns in 200 partitions to /localfs/1769963/exploded.mt\n"
     ]
    }
   ],
   "source": [
    "mt = mt.explode_rows(mt.within_gene)\n",
    "mt.write(localfs_path+'exploded.mt', overwrite = True)"
   ]
  },
  {
   "cell_type": "code",
   "execution_count": 26,
   "id": "70666368-b982-47c0-aa2a-317fcc1ab0a5",
   "metadata": {},
   "outputs": [],
   "source": [
    "mt = hl.read_matrix_table(localfs_path+'exploded.mt')"
   ]
  },
  {
   "cell_type": "code",
   "execution_count": 27,
   "id": "c5c37754-3d90-4d4b-b5a4-3afdfa9f013c",
   "metadata": {},
   "outputs": [],
   "source": [
    "mt = mt.filter_cols(mt.s != '494')"
   ]
  },
  {
   "cell_type": "code",
   "execution_count": 28,
   "id": "d1dea9cf-84f6-4f11-96d3-832f1c9aafd8",
   "metadata": {},
   "outputs": [],
   "source": [
    "is_lof = (mt.vep.vep.transcript_consequences.lof.contains('HC'))"
   ]
  },
  {
   "cell_type": "code",
   "execution_count": 29,
   "id": "df26c437-3365-4b19-b1a4-a1b08dab2959",
   "metadata": {},
   "outputs": [],
   "source": [
    "mt = mt.annotate_entries(\n",
    "    cadd_above_10_value = hl.if_else(\n",
    "        (mt.cadd.cadd_score > 10),\n",
    "        (mt.GT.is_non_ref()*mt.cadd.cadd_score),\n",
    "        hl.int(0)\n",
    "    ),\n",
    "    cadd_above_20 = hl.if_else(\n",
    "        (mt.cadd.cadd_score > 20),\n",
    "        hl.int(mt.GT.is_non_ref()),\n",
    "        hl.int(0)\n",
    "    ),\n",
    "    cadd_above_16 = hl.if_else(\n",
    "        (mt.cadd.cadd_score > 16),\n",
    "        hl.int(mt.GT.is_non_ref()),\n",
    "        hl.int(0)\n",
    "    ),\n",
    "    lof_variant = hl.if_else(\n",
    "        is_lof,\n",
    "        hl.int(mt.GT.is_non_ref()),\n",
    "        hl.int(0)\n",
    "    ),\n",
    "    rare_polish_variant = hl.if_else(\n",
    "        hl.is_defined(mt.polish_af.AF[0]),\n",
    "        hl.int((mt.polish_af.AF[0] < 0.001)*mt.GT.is_non_ref()),\n",
    "        hl.int(1)\n",
    "    )\n",
    ")"
   ]
  },
  {
   "cell_type": "code",
   "execution_count": 30,
   "id": "08bc84ab-708d-4724-a4ed-08b346b54f09",
   "metadata": {},
   "outputs": [
    {
     "name": "stderr",
     "output_type": "stream",
     "text": [
      "2023-02-05 15:51:28.683 Hail: INFO: wrote matrix table with 1915897 rows and 219 columns in 200 partitions to /net/pr2/projects/plgrid/plggneuromol/imdik-zekanowski-sportwgs/data/hail-mts/for_burden.mt\n"
     ]
    }
   ],
   "source": [
    "mt.write('/net/pr2/projects/plgrid/plggneuromol/imdik-zekanowski-sportwgs/data/hail-mts/for_burden.mt', overwrite = True)"
   ]
  },
  {
   "cell_type": "code",
   "execution_count": 31,
   "id": "4976fb18-a48e-4941-829a-152931d0164d",
   "metadata": {},
   "outputs": [],
   "source": [
    "mt = hl.read_matrix_table('/net/pr2/projects/plgrid/plggneuromol/imdik-zekanowski-sportwgs/data/hail-mts/for_burden.mt')"
   ]
  },
  {
   "cell_type": "code",
   "execution_count": 32,
   "id": "cde10a1a-9995-4d2e-80c7-fda961e2fd97",
   "metadata": {},
   "outputs": [],
   "source": [
    "# group by gene and aggregate\n",
    "per_gene = mt.group_rows_by(\n",
    "    mt.within_gene).aggregate(\n",
    "    cadd_above_10_sum = hl.agg.sum(mt.cadd_above_10_value),\n",
    "    cadd_above_20_any = hl.int(hl.agg.any(mt.cadd_above_20 == 1)),\n",
    "    cadd_above_16_any = hl.int(hl.agg.any(mt.cadd_above_16 == 1)),\n",
    "    lof_any = hl.int(hl.agg.any(mt.lof_variant == 1)),\n",
    "    rare_polish_any = hl.int(hl.agg.any(mt.rare_polish_variant == 1))\n",
    ")"
   ]
  },
  {
   "cell_type": "code",
   "execution_count": 33,
   "id": "aaf687d3-f27f-4d83-8bab-b8d28f0349ee",
   "metadata": {},
   "outputs": [
    {
     "name": "stderr",
     "output_type": "stream",
     "text": [
      "2023-02-05 15:51:58.430 Hail: INFO: Ordering unsorted dataset with network shuffle\n",
      "2023-02-05 15:52:31.129 Hail: INFO: wrote matrix table with 36346 rows and 219 columns in 1 partition to /localfs/1769963/per_gene.mt\n"
     ]
    }
   ],
   "source": [
    "per_gene = per_gene.naive_coalesce(1)\n",
    "per_gene.write(localfs_path+'per_gene.mt', overwrite = True)"
   ]
  },
  {
   "cell_type": "code",
   "execution_count": 34,
   "id": "955fbac8-7124-4753-b42e-a276ff12920d",
   "metadata": {},
   "outputs": [],
   "source": [
    "per_gene = hl.read_matrix_table(localfs_path+'per_gene.mt')"
   ]
  },
  {
   "cell_type": "code",
   "execution_count": 35,
   "id": "e871f56b-4154-4b09-a26b-7c4ddf89f98e",
   "metadata": {},
   "outputs": [
    {
     "data": {
      "text/plain": [
       "(36346, 219)"
      ]
     },
     "execution_count": 35,
     "metadata": {},
     "output_type": "execute_result"
    }
   ],
   "source": [
    "per_gene.count()"
   ]
  },
  {
   "cell_type": "code",
   "execution_count": 36,
   "id": "423e8827-2384-43b2-aa53-fc18e5641d56",
   "metadata": {
    "tags": []
   },
   "outputs": [],
   "source": [
    "per_gene = per_gene.filter_rows(\n",
    "    hl.agg.any(\n",
    "        (per_gene.cadd_above_10_sum > 0\n",
    "        ) | (\n",
    "        per_gene.cadd_above_20_any == 1\n",
    "        ) | (\n",
    "        per_gene.cadd_above_16_any == 1\n",
    "        ) | (\n",
    "        per_gene.lof_any == 1\n",
    "        ) | (\n",
    "        per_gene.rare_polish_any == 1\n",
    "        )\n",
    "    )  \n",
    ")"
   ]
  },
  {
   "cell_type": "code",
   "execution_count": 37,
   "id": "2c1c993a-dc20-403e-b342-c2178437ad67",
   "metadata": {},
   "outputs": [
    {
     "data": {
      "text/plain": [
       "(27416, 219)"
      ]
     },
     "execution_count": 37,
     "metadata": {},
     "output_type": "execute_result"
    }
   ],
   "source": [
    "per_gene.count()"
   ]
  },
  {
   "cell_type": "code",
   "execution_count": 38,
   "id": "70435303-d2c7-4cbb-bfc8-b71c8db1854c",
   "metadata": {},
   "outputs": [],
   "source": [
    "# check per_sample/per group values of burden. Are there any irregulaties overall?\n",
    "\n",
    "per_gene = per_gene.annotate_cols(\n",
    "    cadd_above_10_s = hl.agg.stats(per_gene.cadd_above_10_sum),\n",
    "    cadd_above_20_s = hl.agg.stats(per_gene.cadd_above_20_any),\n",
    "    cadd_above_16_s = hl.agg.stats(per_gene.cadd_above_16_any),\n",
    "    lof_any_s = hl.agg.stats(per_gene.lof_any),\n",
    "    rare_polish_s = hl.agg.stats(per_gene.rare_polish_any)\n",
    ")"
   ]
  },
  {
   "cell_type": "markdown",
   "id": "83abeee8-e256-46a7-bd01-77e272e78b64",
   "metadata": {},
   "source": [
    "### Perform PCA on variant burden across cohorts\n",
    "\n",
    "The option - rare polish has been discarded from now on as no variants passed this filter"
   ]
  },
  {
   "cell_type": "code",
   "execution_count": 39,
   "id": "3bea62e3-a0a0-45e5-aa29-ed283c3c12af",
   "metadata": {},
   "outputs": [
    {
     "name": "stderr",
     "output_type": "stream",
     "text": [
      "2023-02-05 15:52:32.805 Hail: INFO: pca: running PCA with 2 components...\n",
      "2023-02-05 15:52:36.989 Hail: INFO: pca: running PCA with 2 components...1) / 1]\n",
      "2023-02-05 15:52:39.293 Hail: INFO: pca: running PCA with 2 components...\n",
      "2023-02-05 15:52:42.122 Hail: INFO: pca: running PCA with 2 components...1) / 1]\n",
      "2023-02-05 15:52:45.661 Hail: INFO: pca: running PCA with 2 components...\n"
     ]
    }
   ],
   "source": [
    "eigenvalues_10, scores_10, _ = hl.pca(\n",
    "    per_gene.cadd_above_10_sum,\n",
    "    k=2\n",
    ")\n",
    "eigenvalues_20, scores_20, _ = hl.pca(\n",
    "    per_gene.cadd_above_20_any,\n",
    "    k=2\n",
    ")\n",
    "eigenvalues_16, scores_16, _ = hl.pca(\n",
    "    per_gene.cadd_above_16_any,\n",
    "    k=2\n",
    ")\n",
    "eigenvalues_lof, scores_lof, _ = hl.pca(\n",
    "    per_gene.lof_any,\n",
    "    k=2\n",
    ")\n",
    "eigenvalues_rare, scores_rare, _ = hl.pca(\n",
    "    per_gene.rare_polish_any,\n",
    "    k=2\n",
    ")"
   ]
  },
  {
   "cell_type": "code",
   "execution_count": 51,
   "id": "659e8f8e-cf2e-417d-9e29-5d04df6dc5fb",
   "metadata": {},
   "outputs": [],
   "source": [
    "per_gene = per_gene.annotate_cols(\n",
    "    pca_10 = scores_10[per_gene.s].scores,\n",
    "    pca_20 = scores_20[per_gene.s].scores,\n",
    "    pca_16 = scores_16[per_gene.s].scores,\n",
    "    pca_lof = scores_lof[per_gene.s].scores,\n",
    "    pca_rare = scores_rare[per_gene.s].scores\n",
    ")"
   ]
  },
  {
   "cell_type": "code",
   "execution_count": 41,
   "id": "c5cae3e9-c2bc-4ccf-8a86-d27820741486",
   "metadata": {},
   "outputs": [
    {
     "data": {
      "text/html": [
       "\n",
       "\n",
       "\n",
       "\n",
       "\n",
       "\n",
       "  <div class=\"bk-root\" id=\"9d6e26f0-05e4-4e2b-9988-f7ba00e54a04\" data-root-id=\"1003\"></div>\n"
      ]
     },
     "metadata": {},
     "output_type": "display_data"
    },
    {
     "data": {
      "application/javascript": [
       "(function(root) {\n",
       "  function embed_document(root) {\n",
       "    \n",
       "  var docs_json = {\"c3cb14eb-6f6e-46c3-b92e-ba622673328e\":{\"roots\":{\"references\":[{\"attributes\":{\"below\":[{\"id\":\"1014\",\"type\":\"LinearAxis\"}],\"center\":[{\"id\":\"1018\",\"type\":\"Grid\"},{\"id\":\"1023\",\"type\":\"Grid\"}],\"left\":[{\"id\":\"1019\",\"type\":\"LinearAxis\"},{\"id\":\"1062\",\"type\":\"Legend\"},{\"id\":\"1063\",\"type\":\"ColorBar\"}],\"plot_height\":800,\"plot_width\":800,\"renderers\":[{\"id\":\"1046\",\"type\":\"GlyphRenderer\"},{\"id\":\"1052\",\"type\":\"GlyphRenderer\"},{\"id\":\"1058\",\"type\":\"GlyphRenderer\"}],\"title\":{\"id\":\"1004\",\"type\":\"Title\"},\"toolbar\":{\"id\":\"1030\",\"type\":\"Toolbar\"},\"x_range\":{\"id\":\"1006\",\"type\":\"DataRange1d\"},\"x_scale\":{\"id\":\"1010\",\"type\":\"LinearScale\"},\"y_range\":{\"id\":\"1008\",\"type\":\"DataRange1d\"},\"y_scale\":{\"id\":\"1012\",\"type\":\"LinearScale\"}},\"id\":\"1003\",\"subtype\":\"Figure\",\"type\":\"Plot\"},{\"attributes\":{\"fill_alpha\":{\"value\":0.1},\"fill_color\":{\"value\":\"#1f77b4\"},\"line_alpha\":{\"value\":0.1},\"line_color\":{\"value\":\"#1f77b4\"},\"x\":{\"field\":\"x\"},\"y\":{\"field\":\"y\"}},\"id\":\"1057\",\"type\":\"Circle\"},{\"attributes\":{},\"id\":\"1010\",\"type\":\"LinearScale\"},{\"attributes\":{\"callback\":null},\"id\":\"1008\",\"type\":\"DataRange1d\"},{\"attributes\":{},\"id\":\"1069\",\"type\":\"BasicTickFormatter\"},{\"attributes\":{\"click_policy\":\"hide\",\"items\":[{\"id\":\"1059\",\"type\":\"LegendItem\"},{\"id\":\"1060\",\"type\":\"LegendItem\"},{\"id\":\"1061\",\"type\":\"LegendItem\"}]},\"id\":\"1062\",\"type\":\"Legend\"},{\"attributes\":{\"dimension\":1,\"ticker\":{\"id\":\"1020\",\"type\":\"BasicTicker\"}},\"id\":\"1023\",\"type\":\"Grid\"},{\"attributes\":{\"callback\":null,\"data\":{\"index\":[0,1,2,3,4,5,6,7,8,9,10,11,12,13,14,15,16,17,18,19,20,21,22,23,24,25,26,27,28,29,30,31,32,33,34,35,36,37,38,39,40,41,42,43,44,45,46,47,48,49,50,51,52,53,54,55,56,57,58,59,60,61,62,63,64,65,66,67,68,69,70,71,72,73,74,75,76,77,78,79,80,81,82,83,84,85,86,87,88,89,90,91,92,93,94,95,96,97,98,99,100,101,102,103,104,105,106,107,108,109,110,111,112,113,114,115,116,117,118,119,120,121,122,123,124,125,126,127,128,129,130,131,132,133,134,135,136,137,138,139,140,141,142,143,144,145,146,147,148,149,150,151,152,153,154,155,156,157,158,159,160,161,162,163,164,165,166,167,168,169,170,171,172,173,174,175,176,177,178,179,180,181,182,183,184,185,186,187,188,189,190,191,192,193,194,195,196,197,198,199,200,201,202,203,204,205,206,207,208,209,210,211,212,213,214],\"label\":[\"1kg\",\"sport\",\"sport\",\"sport\",\"1kg\",\"1kg\",\"sport\",\"sport\",\"control\",\"sport\",\"sport\",\"sport\",\"1kg\",\"sport\",\"sport\",\"control\",\"sport\",\"sport\",\"sport\",\"control\",\"control\",\"sport\",\"sport\",\"sport\",\"control\",\"sport\",\"1kg\",\"1kg\",\"sport\",\"sport\",\"control\",\"sport\",\"sport\",\"sport\",\"sport\",\"control\",\"1kg\",\"sport\",\"control\",\"sport\",\"1kg\",\"sport\",\"sport\",\"1kg\",\"sport\",\"control\",\"sport\",\"sport\",\"1kg\",\"sport\",\"sport\",\"sport\",\"sport\",\"sport\",\"sport\",\"sport\",\"sport\",\"1kg\",\"sport\",\"1kg\",\"control\",\"sport\",\"control\",\"sport\",\"sport\",\"sport\",\"control\",\"sport\",\"sport\",\"sport\",\"1kg\",\"sport\",\"sport\",\"sport\",\"sport\",\"1kg\",\"sport\",\"sport\",\"sport\",\"control\",\"sport\",\"sport\",\"1kg\",\"1kg\",\"sport\",\"sport\",\"sport\",\"1kg\",\"sport\",\"sport\",\"sport\",\"1kg\",\"1kg\",\"sport\",\"1kg\",\"sport\",\"1kg\",\"1kg\",\"1kg\",\"sport\",\"sport\",\"1kg\",\"1kg\",\"1kg\",\"1kg\",\"sport\",\"1kg\",\"sport\",\"1kg\",\"sport\",\"sport\",\"1kg\",\"1kg\",\"1kg\",\"1kg\",\"1kg\",\"1kg\",\"1kg\",\"sport\",\"1kg\",\"sport\",\"1kg\",\"1kg\",\"1kg\",\"sport\",\"sport\",\"1kg\",\"sport\",\"1kg\",\"sport\",\"sport\",\"1kg\",\"sport\",\"control\",\"sport\",\"1kg\",\"1kg\",\"sport\",\"1kg\",\"sport\",\"sport\",\"control\",\"1kg\",\"1kg\",\"1kg\",\"sport\",\"1kg\",\"1kg\",\"sport\",\"sport\",\"1kg\",\"1kg\",\"sport\",\"sport\",\"1kg\",\"sport\",\"1kg\",\"1kg\",\"1kg\",\"1kg\",\"1kg\",\"1kg\",\"control\",\"1kg\",\"1kg\",\"1kg\",\"1kg\",\"sport\",\"1kg\",\"1kg\",\"1kg\",\"control\",\"sport\",\"sport\",\"1kg\",\"1kg\",\"1kg\",\"1kg\",\"1kg\",\"1kg\",\"sport\",\"1kg\",\"1kg\",\"1kg\",\"1kg\",\"1kg\",\"sport\",\"sport\",\"1kg\",\"1kg\",\"sport\",\"1kg\",\"sport\",\"sport\",\"1kg\",\"1kg\",\"1kg\",\"control\",\"1kg\",\"1kg\",\"1kg\",\"control\",\"sport\",\"1kg\",\"1kg\",\"1kg\",\"1kg\",\"1kg\",\"1kg\",\"1kg\",\"sport\",\"1kg\",\"1kg\",\"1kg\",\"sport\"],\"x\":{\"__ndarray__\":\"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\",\"dtype\":\"float64\",\"shape\":[215]},\"y\":{\"__ndarray__\":\"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\",\"dtype\":\"float64\",\"shape\":[215]}},\"selected\":{\"id\":\"1071\",\"type\":\"Selection\"},\"selection_policy\":{\"id\":\"1072\",\"type\":\"UnionRenderers\"}},\"id\":\"1039\",\"type\":\"ColumnDataSource\"},{\"attributes\":{\"column_name\":\"label\",\"group\":\"control\"},\"id\":\"1047\",\"type\":\"GroupFilter\"},{\"attributes\":{\"data_source\":{\"id\":\"1039\",\"type\":\"ColumnDataSource\"},\"glyph\":{\"id\":\"1050\",\"type\":\"Circle\"},\"hover_glyph\":null,\"muted_glyph\":null,\"nonselection_glyph\":{\"id\":\"1051\",\"type\":\"Circle\"},\"selection_glyph\":null,\"view\":{\"id\":\"1048\",\"type\":\"CDSView\"}},\"id\":\"1052\",\"type\":\"GlyphRenderer\"},{\"attributes\":{},\"id\":\"1020\",\"type\":\"BasicTicker\"},{\"attributes\":{},\"id\":\"1071\",\"type\":\"Selection\"},{\"attributes\":{},\"id\":\"1024\",\"type\":\"PanTool\"},{\"attributes\":{},\"id\":\"1067\",\"type\":\"BasicTickFormatter\"},{\"attributes\":{},\"id\":\"1015\",\"type\":\"BasicTicker\"},{\"attributes\":{},\"id\":\"1070\",\"type\":\"BasicTicker\"},{\"attributes\":{},\"id\":\"1029\",\"type\":\"HelpTool\"},{\"attributes\":{\"axis_label\":\"PC2\",\"formatter\":{\"id\":\"1067\",\"type\":\"BasicTickFormatter\"},\"ticker\":{\"id\":\"1020\",\"type\":\"BasicTicker\"}},\"id\":\"1019\",\"type\":\"LinearAxis\"},{\"attributes\":{\"label\":{\"value\":\"1kg\"},\"renderers\":[{\"id\":\"1046\",\"type\":\"GlyphRenderer\"}]},\"id\":\"1059\",\"type\":\"LegendItem\"},{\"attributes\":{\"fill_color\":{\"field\":\"label\",\"transform\":{\"id\":\"1040\",\"type\":\"CategoricalColorMapper\"}},\"line_color\":{\"field\":\"label\",\"transform\":{\"id\":\"1040\",\"type\":\"CategoricalColorMapper\"}},\"x\":{\"field\":\"x\"},\"y\":{\"field\":\"y\"}},\"id\":\"1050\",\"type\":\"Circle\"},{\"attributes\":{\"fill_color\":{\"field\":\"label\",\"transform\":{\"id\":\"1040\",\"type\":\"CategoricalColorMapper\"}},\"line_color\":{\"field\":\"label\",\"transform\":{\"id\":\"1040\",\"type\":\"CategoricalColorMapper\"}},\"x\":{\"field\":\"x\"},\"y\":{\"field\":\"y\"}},\"id\":\"1044\",\"type\":\"Circle\"},{\"attributes\":{\"overlay\":{\"id\":\"1073\",\"type\":\"BoxAnnotation\"}},\"id\":\"1026\",\"type\":\"BoxZoomTool\"},{\"attributes\":{\"label\":{\"value\":\"control\"},\"renderers\":[{\"id\":\"1052\",\"type\":\"GlyphRenderer\"}]},\"id\":\"1060\",\"type\":\"LegendItem\"},{\"attributes\":{},\"id\":\"1065\",\"type\":\"BasicTickFormatter\"},{\"attributes\":{\"callback\":null},\"id\":\"1006\",\"type\":\"DataRange1d\"},{\"attributes\":{\"column_name\":\"label\",\"group\":\"1kg\"},\"id\":\"1041\",\"type\":\"GroupFilter\"},{\"attributes\":{\"bottom_units\":\"screen\",\"fill_alpha\":{\"value\":0.5},\"fill_color\":{\"value\":\"lightgrey\"},\"left_units\":\"screen\",\"level\":\"overlay\",\"line_alpha\":{\"value\":1.0},\"line_color\":{\"value\":\"black\"},\"line_dash\":[4,4],\"line_width\":{\"value\":2},\"render_mode\":\"css\",\"right_units\":\"screen\",\"top_units\":\"screen\"},\"id\":\"1073\",\"type\":\"BoxAnnotation\"},{\"attributes\":{\"callback\":null,\"tooltips\":[[\"x\",\"@x\"],[\"y\",\"@y\"],[\"label\",\"@label\"]]},\"id\":\"1038\",\"type\":\"HoverTool\"},{\"attributes\":{\"fill_color\":{\"field\":\"label\",\"transform\":{\"id\":\"1040\",\"type\":\"CategoricalColorMapper\"}},\"line_color\":{\"field\":\"label\",\"transform\":{\"id\":\"1040\",\"type\":\"CategoricalColorMapper\"}},\"x\":{\"field\":\"x\"},\"y\":{\"field\":\"y\"}},\"id\":\"1056\",\"type\":\"Circle\"},{\"attributes\":{\"fill_alpha\":{\"value\":0.1},\"fill_color\":{\"value\":\"#1f77b4\"},\"line_alpha\":{\"value\":0.1},\"line_color\":{\"value\":\"#1f77b4\"},\"x\":{\"field\":\"x\"},\"y\":{\"field\":\"y\"}},\"id\":\"1045\",\"type\":\"Circle\"},{\"attributes\":{\"active_drag\":\"auto\",\"active_inspect\":\"auto\",\"active_multi\":null,\"active_scroll\":\"auto\",\"active_tap\":\"auto\",\"tools\":[{\"id\":\"1024\",\"type\":\"PanTool\"},{\"id\":\"1025\",\"type\":\"WheelZoomTool\"},{\"id\":\"1026\",\"type\":\"BoxZoomTool\"},{\"id\":\"1027\",\"type\":\"SaveTool\"},{\"id\":\"1028\",\"type\":\"ResetTool\"},{\"id\":\"1029\",\"type\":\"HelpTool\"},{\"id\":\"1038\",\"type\":\"HoverTool\"}]},\"id\":\"1030\",\"type\":\"Toolbar\"},{\"attributes\":{\"data_source\":{\"id\":\"1039\",\"type\":\"ColumnDataSource\"},\"glyph\":{\"id\":\"1044\",\"type\":\"Circle\"},\"hover_glyph\":null,\"muted_glyph\":null,\"nonselection_glyph\":{\"id\":\"1045\",\"type\":\"Circle\"},\"selection_glyph\":null,\"view\":{\"id\":\"1042\",\"type\":\"CDSView\"}},\"id\":\"1046\",\"type\":\"GlyphRenderer\"},{\"attributes\":{\"axis_label\":\"PC1\",\"formatter\":{\"id\":\"1065\",\"type\":\"BasicTickFormatter\"},\"ticker\":{\"id\":\"1015\",\"type\":\"BasicTicker\"}},\"id\":\"1014\",\"type\":\"LinearAxis\"},{\"attributes\":{\"label\":{\"value\":\"sport\"},\"renderers\":[{\"id\":\"1058\",\"type\":\"GlyphRenderer\"}]},\"id\":\"1061\",\"type\":\"LegendItem\"},{\"attributes\":{\"text\":\"PCA - sum of variants with CADD over 10\"},\"id\":\"1004\",\"type\":\"Title\"},{\"attributes\":{\"fill_alpha\":{\"value\":0.1},\"fill_color\":{\"value\":\"#1f77b4\"},\"line_alpha\":{\"value\":0.1},\"line_color\":{\"value\":\"#1f77b4\"},\"x\":{\"field\":\"x\"},\"y\":{\"field\":\"y\"}},\"id\":\"1051\",\"type\":\"Circle\"},{\"attributes\":{},\"id\":\"1028\",\"type\":\"ResetTool\"},{\"attributes\":{},\"id\":\"1027\",\"type\":\"SaveTool\"},{\"attributes\":{\"factors\":[\"sport\",\"1kg\",\"control\"],\"palette\":[\"#1f77b4\",\"#ff7f0e\",\"#2ca02c\",\"#d62728\",\"#9467bd\",\"#8c564b\",\"#e377c2\",\"#7f7f7f\",\"#bcbd22\",\"#17becf\"]},\"id\":\"1040\",\"type\":\"CategoricalColorMapper\"},{\"attributes\":{\"filters\":[{\"id\":\"1047\",\"type\":\"GroupFilter\"}],\"source\":{\"id\":\"1039\",\"type\":\"ColumnDataSource\"}},\"id\":\"1048\",\"type\":\"CDSView\"},{\"attributes\":{\"ticker\":{\"id\":\"1015\",\"type\":\"BasicTicker\"}},\"id\":\"1018\",\"type\":\"Grid\"},{\"attributes\":{\"data_source\":{\"id\":\"1039\",\"type\":\"ColumnDataSource\"},\"glyph\":{\"id\":\"1056\",\"type\":\"Circle\"},\"hover_glyph\":null,\"muted_glyph\":null,\"nonselection_glyph\":{\"id\":\"1057\",\"type\":\"Circle\"},\"selection_glyph\":null,\"view\":{\"id\":\"1054\",\"type\":\"CDSView\"}},\"id\":\"1058\",\"type\":\"GlyphRenderer\"},{\"attributes\":{\"column_name\":\"label\",\"group\":\"sport\"},\"id\":\"1053\",\"type\":\"GroupFilter\"},{\"attributes\":{\"filters\":[{\"id\":\"1041\",\"type\":\"GroupFilter\"}],\"source\":{\"id\":\"1039\",\"type\":\"ColumnDataSource\"}},\"id\":\"1042\",\"type\":\"CDSView\"},{\"attributes\":{\"filters\":[{\"id\":\"1053\",\"type\":\"GroupFilter\"}],\"source\":{\"id\":\"1039\",\"type\":\"ColumnDataSource\"}},\"id\":\"1054\",\"type\":\"CDSView\"},{\"attributes\":{},\"id\":\"1025\",\"type\":\"WheelZoomTool\"},{\"attributes\":{\"color_mapper\":null,\"formatter\":{\"id\":\"1069\",\"type\":\"BasicTickFormatter\"},\"ticker\":{\"id\":\"1070\",\"type\":\"BasicTicker\"},\"visible\":false},\"id\":\"1063\",\"type\":\"ColorBar\"},{\"attributes\":{},\"id\":\"1072\",\"type\":\"UnionRenderers\"},{\"attributes\":{},\"id\":\"1012\",\"type\":\"LinearScale\"}],\"root_ids\":[\"1003\"]},\"title\":\"Bokeh Application\",\"version\":\"1.4.0\"}};\n",
       "  var render_items = [{\"docid\":\"c3cb14eb-6f6e-46c3-b92e-ba622673328e\",\"roots\":{\"1003\":\"9d6e26f0-05e4-4e2b-9988-f7ba00e54a04\"}}];\n",
       "  root.Bokeh.embed.embed_items_notebook(docs_json, render_items);\n",
       "\n",
       "  }\n",
       "  if (root.Bokeh !== undefined) {\n",
       "    embed_document(root);\n",
       "  } else {\n",
       "    var attempts = 0;\n",
       "    var timer = setInterval(function(root) {\n",
       "      if (root.Bokeh !== undefined) {\n",
       "        clearInterval(timer);\n",
       "        embed_document(root);\n",
       "      } else {\n",
       "        attempts++;\n",
       "        if (attempts > 100) {\n",
       "          clearInterval(timer);\n",
       "          console.log(\"Bokeh: ERROR: Unable to run BokehJS code because BokehJS library is missing\");\n",
       "        }\n",
       "      }\n",
       "    }, 10, root)\n",
       "  }\n",
       "})(window);"
      ],
      "application/vnd.bokehjs_exec.v0+json": ""
     },
     "metadata": {
      "application/vnd.bokehjs_exec.v0+json": {
       "id": "1003"
      }
     },
     "output_type": "display_data"
    }
   ],
   "source": [
    "p = hl.plot.scatter(per_gene.pca_10[0],\n",
    "                    per_gene.pca_10[1],\n",
    "                    label=per_gene.group,\n",
    "                    title='PCA - sum of variants with CADD over 10', xlabel='PC1', ylabel='PC2')\n",
    "show(p)"
   ]
  },
  {
   "cell_type": "code",
   "execution_count": 42,
   "id": "f24a3976-cc23-4013-befb-2b97e5b00610",
   "metadata": {},
   "outputs": [
    {
     "data": {
      "text/html": [
       "\n",
       "\n",
       "\n",
       "\n",
       "\n",
       "\n",
       "  <div class=\"bk-root\" id=\"553dbe62-1ff3-49f4-a3d7-613e6e588c37\" data-root-id=\"1134\"></div>\n"
      ]
     },
     "metadata": {},
     "output_type": "display_data"
    },
    {
     "data": {
      "application/javascript": [
       "(function(root) {\n",
       "  function embed_document(root) {\n",
       "    \n",
       "  var docs_json = {\"dfdb8285-067f-4192-a22f-88fcdc68aff4\":{\"roots\":{\"references\":[{\"attributes\":{\"below\":[{\"id\":\"1145\",\"type\":\"LinearAxis\"}],\"center\":[{\"id\":\"1149\",\"type\":\"Grid\"},{\"id\":\"1154\",\"type\":\"Grid\"}],\"left\":[{\"id\":\"1150\",\"type\":\"LinearAxis\"},{\"id\":\"1193\",\"type\":\"Legend\"},{\"id\":\"1194\",\"type\":\"ColorBar\"}],\"plot_height\":800,\"plot_width\":800,\"renderers\":[{\"id\":\"1177\",\"type\":\"GlyphRenderer\"},{\"id\":\"1183\",\"type\":\"GlyphRenderer\"},{\"id\":\"1189\",\"type\":\"GlyphRenderer\"}],\"title\":{\"id\":\"1135\",\"type\":\"Title\"},\"toolbar\":{\"id\":\"1161\",\"type\":\"Toolbar\"},\"x_range\":{\"id\":\"1137\",\"type\":\"DataRange1d\"},\"x_scale\":{\"id\":\"1141\",\"type\":\"LinearScale\"},\"y_range\":{\"id\":\"1139\",\"type\":\"DataRange1d\"},\"y_scale\":{\"id\":\"1143\",\"type\":\"LinearScale\"}},\"id\":\"1134\",\"subtype\":\"Figure\",\"type\":\"Plot\"},{\"attributes\":{},\"id\":\"1211\",\"type\":\"BasicTicker\"},{\"attributes\":{\"fill_color\":{\"field\":\"label\",\"transform\":{\"id\":\"1171\",\"type\":\"CategoricalColorMapper\"}},\"line_color\":{\"field\":\"label\",\"transform\":{\"id\":\"1171\",\"type\":\"CategoricalColorMapper\"}},\"x\":{\"field\":\"x\"},\"y\":{\"field\":\"y\"}},\"id\":\"1181\",\"type\":\"Circle\"},{\"attributes\":{},\"id\":\"1141\",\"type\":\"LinearScale\"},{\"attributes\":{},\"id\":\"1160\",\"type\":\"HelpTool\"},{\"attributes\":{\"ticker\":{\"id\":\"1146\",\"type\":\"BasicTicker\"}},\"id\":\"1149\",\"type\":\"Grid\"},{\"attributes\":{\"color_mapper\":null,\"formatter\":{\"id\":\"1210\",\"type\":\"BasicTickFormatter\"},\"ticker\":{\"id\":\"1211\",\"type\":\"BasicTicker\"},\"visible\":false},\"id\":\"1194\",\"type\":\"ColorBar\"},{\"attributes\":{},\"id\":\"1210\",\"type\":\"BasicTickFormatter\"},{\"attributes\":{\"label\":{\"value\":\"sport\"},\"renderers\":[{\"id\":\"1189\",\"type\":\"GlyphRenderer\"}]},\"id\":\"1192\",\"type\":\"LegendItem\"},{\"attributes\":{\"fill_alpha\":{\"value\":0.1},\"fill_color\":{\"value\":\"#1f77b4\"},\"line_alpha\":{\"value\":0.1},\"line_color\":{\"value\":\"#1f77b4\"},\"x\":{\"field\":\"x\"},\"y\":{\"field\":\"y\"}},\"id\":\"1188\",\"type\":\"Circle\"},{\"attributes\":{},\"id\":\"1158\",\"type\":\"SaveTool\"},{\"attributes\":{},\"id\":\"1146\",\"type\":\"BasicTicker\"},{\"attributes\":{},\"id\":\"1156\",\"type\":\"WheelZoomTool\"},{\"attributes\":{\"fill_alpha\":{\"value\":0.1},\"fill_color\":{\"value\":\"#1f77b4\"},\"line_alpha\":{\"value\":0.1},\"line_color\":{\"value\":\"#1f77b4\"},\"x\":{\"field\":\"x\"},\"y\":{\"field\":\"y\"}},\"id\":\"1176\",\"type\":\"Circle\"},{\"attributes\":{},\"id\":\"1212\",\"type\":\"Selection\"},{\"attributes\":{\"overlay\":{\"id\":\"1214\",\"type\":\"BoxAnnotation\"}},\"id\":\"1157\",\"type\":\"BoxZoomTool\"},{\"attributes\":{},\"id\":\"1213\",\"type\":\"UnionRenderers\"},{\"attributes\":{\"label\":{\"value\":\"control\"},\"renderers\":[{\"id\":\"1183\",\"type\":\"GlyphRenderer\"}]},\"id\":\"1191\",\"type\":\"LegendItem\"},{\"attributes\":{\"fill_color\":{\"field\":\"label\",\"transform\":{\"id\":\"1171\",\"type\":\"CategoricalColorMapper\"}},\"line_color\":{\"field\":\"label\",\"transform\":{\"id\":\"1171\",\"type\":\"CategoricalColorMapper\"}},\"x\":{\"field\":\"x\"},\"y\":{\"field\":\"y\"}},\"id\":\"1187\",\"type\":\"Circle\"},{\"attributes\":{},\"id\":\"1159\",\"type\":\"ResetTool\"},{\"attributes\":{},\"id\":\"1208\",\"type\":\"BasicTickFormatter\"},{\"attributes\":{\"fill_color\":{\"field\":\"label\",\"transform\":{\"id\":\"1171\",\"type\":\"CategoricalColorMapper\"}},\"line_color\":{\"field\":\"label\",\"transform\":{\"id\":\"1171\",\"type\":\"CategoricalColorMapper\"}},\"x\":{\"field\":\"x\"},\"y\":{\"field\":\"y\"}},\"id\":\"1175\",\"type\":\"Circle\"},{\"attributes\":{\"label\":{\"value\":\"1kg\"},\"renderers\":[{\"id\":\"1177\",\"type\":\"GlyphRenderer\"}]},\"id\":\"1190\",\"type\":\"LegendItem\"},{\"attributes\":{\"column_name\":\"label\",\"group\":\"sport\"},\"id\":\"1184\",\"type\":\"GroupFilter\"},{\"attributes\":{\"click_policy\":\"hide\",\"items\":[{\"id\":\"1190\",\"type\":\"LegendItem\"},{\"id\":\"1191\",\"type\":\"LegendItem\"},{\"id\":\"1192\",\"type\":\"LegendItem\"}]},\"id\":\"1193\",\"type\":\"Legend\"},{\"attributes\":{},\"id\":\"1151\",\"type\":\"BasicTicker\"},{\"attributes\":{\"fill_alpha\":{\"value\":0.1},\"fill_color\":{\"value\":\"#1f77b4\"},\"line_alpha\":{\"value\":0.1},\"line_color\":{\"value\":\"#1f77b4\"},\"x\":{\"field\":\"x\"},\"y\":{\"field\":\"y\"}},\"id\":\"1182\",\"type\":\"Circle\"},{\"attributes\":{\"axis_label\":\"PC2\",\"formatter\":{\"id\":\"1208\",\"type\":\"BasicTickFormatter\"},\"ticker\":{\"id\":\"1151\",\"type\":\"BasicTicker\"}},\"id\":\"1150\",\"type\":\"LinearAxis\"},{\"attributes\":{\"filters\":[{\"id\":\"1178\",\"type\":\"GroupFilter\"}],\"source\":{\"id\":\"1170\",\"type\":\"ColumnDataSource\"}},\"id\":\"1179\",\"type\":\"CDSView\"},{\"attributes\":{\"callback\":null},\"id\":\"1139\",\"type\":\"DataRange1d\"},{\"attributes\":{\"data_source\":{\"id\":\"1170\",\"type\":\"ColumnDataSource\"},\"glyph\":{\"id\":\"1181\",\"type\":\"Circle\"},\"hover_glyph\":null,\"muted_glyph\":null,\"nonselection_glyph\":{\"id\":\"1182\",\"type\":\"Circle\"},\"selection_glyph\":null,\"view\":{\"id\":\"1179\",\"type\":\"CDSView\"}},\"id\":\"1183\",\"type\":\"GlyphRenderer\"},{\"attributes\":{\"data_source\":{\"id\":\"1170\",\"type\":\"ColumnDataSource\"},\"glyph\":{\"id\":\"1187\",\"type\":\"Circle\"},\"hover_glyph\":null,\"muted_glyph\":null,\"nonselection_glyph\":{\"id\":\"1188\",\"type\":\"Circle\"},\"selection_glyph\":null,\"view\":{\"id\":\"1185\",\"type\":\"CDSView\"}},\"id\":\"1189\",\"type\":\"GlyphRenderer\"},{\"attributes\":{\"dimension\":1,\"ticker\":{\"id\":\"1151\",\"type\":\"BasicTicker\"}},\"id\":\"1154\",\"type\":\"Grid\"},{\"attributes\":{},\"id\":\"1155\",\"type\":\"PanTool\"},{\"attributes\":{\"data_source\":{\"id\":\"1170\",\"type\":\"ColumnDataSource\"},\"glyph\":{\"id\":\"1175\",\"type\":\"Circle\"},\"hover_glyph\":null,\"muted_glyph\":null,\"nonselection_glyph\":{\"id\":\"1176\",\"type\":\"Circle\"},\"selection_glyph\":null,\"view\":{\"id\":\"1173\",\"type\":\"CDSView\"}},\"id\":\"1177\",\"type\":\"GlyphRenderer\"},{\"attributes\":{\"callback\":null},\"id\":\"1137\",\"type\":\"DataRange1d\"},{\"attributes\":{\"bottom_units\":\"screen\",\"fill_alpha\":{\"value\":0.5},\"fill_color\":{\"value\":\"lightgrey\"},\"left_units\":\"screen\",\"level\":\"overlay\",\"line_alpha\":{\"value\":1.0},\"line_color\":{\"value\":\"black\"},\"line_dash\":[4,4],\"line_width\":{\"value\":2},\"render_mode\":\"css\",\"right_units\":\"screen\",\"top_units\":\"screen\"},\"id\":\"1214\",\"type\":\"BoxAnnotation\"},{\"attributes\":{},\"id\":\"1143\",\"type\":\"LinearScale\"},{\"attributes\":{\"text\":\"PCA - any variants with CADD over 20\"},\"id\":\"1135\",\"type\":\"Title\"},{\"attributes\":{\"column_name\":\"label\",\"group\":\"control\"},\"id\":\"1178\",\"type\":\"GroupFilter\"},{\"attributes\":{\"active_drag\":\"auto\",\"active_inspect\":\"auto\",\"active_multi\":null,\"active_scroll\":\"auto\",\"active_tap\":\"auto\",\"tools\":[{\"id\":\"1155\",\"type\":\"PanTool\"},{\"id\":\"1156\",\"type\":\"WheelZoomTool\"},{\"id\":\"1157\",\"type\":\"BoxZoomTool\"},{\"id\":\"1158\",\"type\":\"SaveTool\"},{\"id\":\"1159\",\"type\":\"ResetTool\"},{\"id\":\"1160\",\"type\":\"HelpTool\"},{\"id\":\"1169\",\"type\":\"HoverTool\"}]},\"id\":\"1161\",\"type\":\"Toolbar\"},{\"attributes\":{\"axis_label\":\"PC1\",\"formatter\":{\"id\":\"1206\",\"type\":\"BasicTickFormatter\"},\"ticker\":{\"id\":\"1146\",\"type\":\"BasicTicker\"}},\"id\":\"1145\",\"type\":\"LinearAxis\"},{\"attributes\":{\"filters\":[{\"id\":\"1184\",\"type\":\"GroupFilter\"}],\"source\":{\"id\":\"1170\",\"type\":\"ColumnDataSource\"}},\"id\":\"1185\",\"type\":\"CDSView\"},{\"attributes\":{\"factors\":[\"sport\",\"1kg\",\"control\"],\"palette\":[\"#1f77b4\",\"#ff7f0e\",\"#2ca02c\",\"#d62728\",\"#9467bd\",\"#8c564b\",\"#e377c2\",\"#7f7f7f\",\"#bcbd22\",\"#17becf\"]},\"id\":\"1171\",\"type\":\"CategoricalColorMapper\"},{\"attributes\":{\"filters\":[{\"id\":\"1172\",\"type\":\"GroupFilter\"}],\"source\":{\"id\":\"1170\",\"type\":\"ColumnDataSource\"}},\"id\":\"1173\",\"type\":\"CDSView\"},{\"attributes\":{\"column_name\":\"label\",\"group\":\"1kg\"},\"id\":\"1172\",\"type\":\"GroupFilter\"},{\"attributes\":{\"callback\":null,\"tooltips\":[[\"x\",\"@x\"],[\"y\",\"@y\"],[\"label\",\"@label\"]]},\"id\":\"1169\",\"type\":\"HoverTool\"},{\"attributes\":{},\"id\":\"1206\",\"type\":\"BasicTickFormatter\"},{\"attributes\":{\"callback\":null,\"data\":{\"index\":[0,1,2,3,4,5,6,7,8,9,10,11,12,13,14,15,16,17,18,19,20,21,22,23,24,25,26,27,28,29,30,31,32,33,34,35,36,37,38,39,40,41,42,43,44,45,46,47,48,49,50,51,52,53,54,55,56,57,58,59,60,61,62,63,64,65,66,67,68,69,70,71,72,73,74,75,76,77,78,79,80,81,82,83,84,85,86,87,88,89,90,91,92,93,94,95,96,97,98,99,100,101,102,103,104,105,106,107,108,109,110,111,112,113,114,115,116,117,118,119,120,121,122,123,124,125,126,127,128,129,130,131,132,133,134,135,136,137,138,139,140,141,142,143,144,145,146,147,148,149,150,151,152,153,154,155,156,157,158,159,160,161,162,163,164,165,166,167,168,169,170,171,172,173,174,175,176,177,178,179,180,181,182,183,184,185,186,187,188,189,190,191,192,193,194,195,196,197,198,199,200,201,202,203,204,205,206,207,208,209,210,211,212],\"label\":[\"1kg\",\"1kg\",\"sport\",\"1kg\",\"sport\",\"1kg\",\"1kg\",\"sport\",\"1kg\",\"sport\",\"1kg\",\"sport\",\"1kg\",\"sport\",\"sport\",\"1kg\",\"1kg\",\"1kg\",\"1kg\",\"1kg\",\"1kg\",\"sport\",\"1kg\",\"sport\",\"sport\",\"1kg\",\"1kg\",\"sport\",\"1kg\",\"1kg\",\"sport\",\"1kg\",\"1kg\",\"1kg\",\"1kg\",\"1kg\",\"1kg\",\"sport\",\"1kg\",\"1kg\",\"1kg\",\"1kg\",\"1kg\",\"1kg\",\"1kg\",\"1kg\",\"1kg\",\"control\",\"1kg\",\"sport\",\"sport\",\"sport\",\"1kg\",\"1kg\",\"sport\",\"1kg\",\"control\",\"sport\",\"sport\",\"1kg\",\"1kg\",\"sport\",\"1kg\",\"sport\",\"1kg\",\"1kg\",\"1kg\",\"control\",\"1kg\",\"sport\",\"sport\",\"control\",\"sport\",\"1kg\",\"1kg\",\"1kg\",\"sport\",\"control\",\"1kg\",\"control\",\"1kg\",\"sport\",\"1kg\",\"control\",\"1kg\",\"1kg\",\"1kg\",\"1kg\",\"sport\",\"1kg\",\"1kg\",\"1kg\",\"1kg\",\"1kg\",\"1kg\",\"sport\",\"sport\",\"sport\",\"sport\",\"1kg\",\"1kg\",\"1kg\",\"sport\",\"control\",\"sport\",\"sport\",\"1kg\",\"control\",\"sport\",\"control\",\"1kg\",\"sport\",\"1kg\",\"1kg\",\"sport\",\"sport\",\"sport\",\"1kg\",\"1kg\",\"control\",\"sport\",\"1kg\",\"1kg\",\"sport\",\"sport\",\"sport\",\"sport\",\"sport\",\"sport\",\"sport\",\"sport\",\"sport\",\"1kg\",\"sport\",\"1kg\",\"control\",\"sport\",\"sport\",\"1kg\",\"sport\",\"sport\",\"1kg\",\"sport\",\"control\",\"1kg\",\"sport\",\"1kg\",\"sport\",\"control\",\"sport\",\"1kg\",\"sport\",\"sport\",\"control\",\"sport\",\"sport\",\"sport\",\"1kg\",\"control\",\"sport\",\"sport\",\"sport\",\"sport\",\"sport\",\"sport\",\"sport\",\"sport\",\"sport\",\"1kg\",\"1kg\",\"sport\",\"1kg\",\"sport\",\"sport\",\"sport\",\"sport\",\"sport\",\"sport\",\"1kg\",\"1kg\",\"sport\",\"1kg\",\"control\",\"sport\",\"control\",\"sport\",\"sport\",\"sport\",\"1kg\",\"1kg\",\"sport\",\"1kg\",\"sport\",\"control\",\"sport\",\"1kg\",\"sport\",\"sport\",\"sport\",\"sport\",\"sport\",\"sport\",\"1kg\",\"control\",\"sport\",\"1kg\",\"control\",\"1kg\",\"sport\",\"sport\",\"1kg\",\"sport\",\"1kg\"],\"x\":{\"__ndarray__\":\"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\",\"dtype\":\"float64\",\"shape\":[213]},\"y\":{\"__ndarray__\":\"Ts4c4+93BMCk0NqtQc75vxa0u8lEMQpADRIj/rd5CkA/f/P216YGwNHxMsMovwTAhU4tlpXxAMAuq+oN3jAQQH9DG8Oe3wLADKwSioj0AcCDwBnzAv//vw4txn3+MwjA1ozxoUNkB8C+EAXplMcFwKv163gF2wLAwn3MvRhV/r/2uqojT38JQKB3sc+f0QxA4qigg2xIDkANdarCdaIOQIE2ZDzMwRBAzoH0kWnXDMB91hnHx68KQJwP9GMdzhBAX1kt4Jba/r+2RVfYsfb1v1pGHeht9QlAkW7OYJYXA8ALRY+tlf8BwHJ3mGF+7QHA89RA4rtaAcBMw8L8kAD/vzLzzc84cwRAboRsB/gFBkAnVZoltLYLQHZVlQDq0gtARkXOrqmfDECeAPAO2W0PQKC6ytgWaQXAtpHpJVvkBMCmTn5Y7lwCwF0oCbgGygHA841d1iPUAMDniJKc3XkAwKKWKWEuqPm/HFpDEkQbCkASSJA93PUKQA7rBlBWBAxADdsRoMVQDkCgr1X/kvkOQG9MQOU6GxFAqI9kJnLwE0CUbnmh3oEBwIfQ7o7oIwHAXMaFpBaAAMDEBliclNz/vw8nYv7ravu/mE+tW2/iBEDb5IjxEiMFQOwyCZi5EglAHGn7xCXiCUCqBtZppfILQADUSy/JVRBAKTraSTu2EUBjJcgu1HQEwB0mJrBf6ALAUdNnzfVnAsCfjp96MvoAwBk/VsjFxf2/fVGCNOqs/L9EaZO7Rhn8v7gvwP0UZ/W/3f28E6VB5b9Usctx9pcIQOYU51DZxw1A0j6x1ocGEEBWM1llKEoCwKGLBPHnWADAOeDvL0pSAMCWNiCSKy8AwDl9y1qhGP6/ZGSS6gzd+78f8d4jn/sMQBtbql2pGA5AwwjfgMy8BsCqegJg12YFwFuL5pK0HwXAJmrLmjLDBMByLW0D4vADwPre5wnySQLAM9s/06VsAcAJek1ivPkAwBloIMhgfwDAlQ+9H2FeAMBOgmuSmUT+v/Ui6ov/1fe/3T+Tn6XH8r/oRBd2eF/vv9OSsve8ZwRAIUc3ungnCUCOK5tbpcMJQCFAthvaHAtAcrEMoaJADUAamz0vVLMNQPBSw8ay8g5A9oMRkdaaEECIrQTRC/8FwJn99ODfmgXAQ25HkzNaAMBYs3rUo1X6vxDDIx/WUve/oTcblWoK979cIHO/Y04IQJf50gwmjAhAlbJLKaGQC0Ds14RCfTEPQAgp/UBo4RFAA+Ac1Y/KBsAjELooSYgGwDOPr3Y2BgTA5gaJnu9RAcBEWT3Bbz3+v3esLpDarvy/6i5plm2C+7+UX4HNSX33vwZZ7L5tbgdAU6FOwYzaCUBD0+tw1BENQLVEHA+AzA1A4O2FmO5/D0CSG4FuDrQRQC6bs5Z1JwXAa/Uf4vnmBMDuSG0QUMADwMTSSdFsxAHAviRzoNgh/781y/HxkA/9v4neHf/4sfi/xnQBejcO9b8cXkRUtknxv/+dyGA7bAtArmsK6WfcC0AQkMGmXiANQMLSF9IgYAfALWa5DU9qAMBZqBCCdK39v3zDJ7r3oPu/vG/qe7yh+r8wIAHDLz75v+xm0xMKRfe/7HFonKFo9r/1W0SOM0P1vy+ywjB5du2/qqdwFGIXDkA2ghGrkrsQQF7aoM5K0gPAnLu7j1EhAMA98fF/JlH9v2QEJPWvKvy/eIv9lxu+8r8dX9YtnCDtv9fRKw4l6w9Aq+NiRR70EkBeiZmXzGwTQDldANn/KADASlLELyTK/7+10Q+ap2v/v/5QECerQf+/8R2cKegE/7+9ndeRyu39v/Kqy4RfxP2/03Z3IOsDCkCwj2RsDiwMQGeW4hbD+w1AuiH3qxxzDkDZLMqjzjgRQJdRTtUGXQnAYfsSW5iSBcDLOMu8XMwEwJ0WDRvGlwTAjtMcQ2wOAcD1G7bRQ7oAwEadtcIH5v6/KLSOPkt8+b+bF5VdF473v1Eru51EAQdAGTMKqFCxD0DJ768AEyQHwJz8qUR2iATAo5ms2AIkAcCm3Gd+9CPvv4MRnFWTGxBALNACnm+MAsB+9CPL43j/v057Sal4F/q/g+/i9I749L/Api3DYjjqv3yZrKil+eC/0CGYo18fEkCEEnphnOD5v9KOqsxDRBNAy/WynzXHAMDIGA7umkUAwGjf8jEJcP2/jsQbPWxi+b+L7BYdk+P4v1j7h/SOm/G/LX6gK2iu77/a3ms4rqYFwG3HVtGKDfu/7CW0LlGbAcC8hKLATPX7vyxtJwDn4wHA\",\"dtype\":\"float64\",\"shape\":[213]}},\"selected\":{\"id\":\"1212\",\"type\":\"Selection\"},\"selection_policy\":{\"id\":\"1213\",\"type\":\"UnionRenderers\"}},\"id\":\"1170\",\"type\":\"ColumnDataSource\"}],\"root_ids\":[\"1134\"]},\"title\":\"Bokeh Application\",\"version\":\"1.4.0\"}};\n",
       "  var render_items = [{\"docid\":\"dfdb8285-067f-4192-a22f-88fcdc68aff4\",\"roots\":{\"1134\":\"553dbe62-1ff3-49f4-a3d7-613e6e588c37\"}}];\n",
       "  root.Bokeh.embed.embed_items_notebook(docs_json, render_items);\n",
       "\n",
       "  }\n",
       "  if (root.Bokeh !== undefined) {\n",
       "    embed_document(root);\n",
       "  } else {\n",
       "    var attempts = 0;\n",
       "    var timer = setInterval(function(root) {\n",
       "      if (root.Bokeh !== undefined) {\n",
       "        clearInterval(timer);\n",
       "        embed_document(root);\n",
       "      } else {\n",
       "        attempts++;\n",
       "        if (attempts > 100) {\n",
       "          clearInterval(timer);\n",
       "          console.log(\"Bokeh: ERROR: Unable to run BokehJS code because BokehJS library is missing\");\n",
       "        }\n",
       "      }\n",
       "    }, 10, root)\n",
       "  }\n",
       "})(window);"
      ],
      "application/vnd.bokehjs_exec.v0+json": ""
     },
     "metadata": {
      "application/vnd.bokehjs_exec.v0+json": {
       "id": "1134"
      }
     },
     "output_type": "display_data"
    }
   ],
   "source": [
    "p2 = hl.plot.scatter(per_gene.pca_20[0],\n",
    "                    per_gene.pca_20[1],\n",
    "                    label=per_gene.group,\n",
    "                    title='PCA - any variants with CADD over 20', xlabel='PC1', ylabel='PC2')\n",
    "show(p2)"
   ]
  },
  {
   "cell_type": "code",
   "execution_count": 43,
   "id": "19ba5579-7b59-4b5c-b758-d4a631b1bcbc",
   "metadata": {},
   "outputs": [
    {
     "data": {
      "text/html": [
       "\n",
       "\n",
       "\n",
       "\n",
       "\n",
       "\n",
       "  <div class=\"bk-root\" id=\"7ac03fea-08fa-4024-a372-151e94d3d334\" data-root-id=\"1275\"></div>\n"
      ]
     },
     "metadata": {},
     "output_type": "display_data"
    },
    {
     "data": {
      "application/javascript": [
       "(function(root) {\n",
       "  function embed_document(root) {\n",
       "    \n",
       "  var docs_json = {\"8181f951-5c0f-4136-8f8e-126a6aaad81e\":{\"roots\":{\"references\":[{\"attributes\":{\"below\":[{\"id\":\"1286\",\"type\":\"LinearAxis\"}],\"center\":[{\"id\":\"1290\",\"type\":\"Grid\"},{\"id\":\"1295\",\"type\":\"Grid\"}],\"left\":[{\"id\":\"1291\",\"type\":\"LinearAxis\"},{\"id\":\"1334\",\"type\":\"Legend\"},{\"id\":\"1335\",\"type\":\"ColorBar\"}],\"plot_height\":800,\"plot_width\":800,\"renderers\":[{\"id\":\"1318\",\"type\":\"GlyphRenderer\"},{\"id\":\"1324\",\"type\":\"GlyphRenderer\"},{\"id\":\"1330\",\"type\":\"GlyphRenderer\"}],\"title\":{\"id\":\"1276\",\"type\":\"Title\"},\"toolbar\":{\"id\":\"1302\",\"type\":\"Toolbar\"},\"x_range\":{\"id\":\"1278\",\"type\":\"DataRange1d\"},\"x_scale\":{\"id\":\"1282\",\"type\":\"LinearScale\"},\"y_range\":{\"id\":\"1280\",\"type\":\"DataRange1d\"},\"y_scale\":{\"id\":\"1284\",\"type\":\"LinearScale\"}},\"id\":\"1275\",\"subtype\":\"Figure\",\"type\":\"Plot\"},{\"attributes\":{},\"id\":\"1357\",\"type\":\"BasicTickFormatter\"},{\"attributes\":{},\"id\":\"1284\",\"type\":\"LinearScale\"},{\"attributes\":{\"callback\":null},\"id\":\"1280\",\"type\":\"DataRange1d\"},{\"attributes\":{\"callback\":null,\"data\":{\"index\":[0,1,2,3,4,5,6,7,8,9,10,11,12,13,14,15,16,17,18,19,20,21,22,23,24,25,26,27,28,29,30,31,32,33,34,35,36,37,38,39,40,41,42,43,44,45,46,47,48,49,50,51,52,53,54,55,56,57,58,59,60,61,62,63,64,65,66,67,68,69,70,71,72,73,74,75,76,77,78,79,80,81,82,83,84,85,86,87,88,89,90,91,92,93,94,95,96,97,98,99,100,101,102,103,104,105,106,107,108,109,110,111,112,113,114,115,116,117,118,119,120,121,122,123,124,125,126,127,128,129,130,131,132,133,134,135,136,137,138,139,140,141,142,143,144,145,146,147,148,149,150,151,152,153,154,155,156,157,158,159,160,161,162,163,164,165,166,167,168,169,170,171,172,173,174,175,176,177,178,179,180,181,182,183,184,185,186,187,188,189,190,191,192,193,194,195,196,197,198,199,200,201,202,203,204,205,206,207,208,209,210,211,212,213],\"label\":[\"1kg\",\"sport\",\"sport\",\"sport\",\"1kg\",\"1kg\",\"1kg\",\"1kg\",\"1kg\",\"1kg\",\"sport\",\"control\",\"1kg\",\"sport\",\"sport\",\"sport\",\"1kg\",\"sport\",\"sport\",\"sport\",\"control\",\"sport\",\"1kg\",\"sport\",\"sport\",\"1kg\",\"1kg\",\"1kg\",\"1kg\",\"1kg\",\"sport\",\"sport\",\"sport\",\"control\",\"control\",\"sport\",\"sport\",\"sport\",\"control\",\"control\",\"sport\",\"sport\",\"sport\",\"sport\",\"sport\",\"1kg\",\"1kg\",\"1kg\",\"1kg\",\"sport\",\"sport\",\"sport\",\"control\",\"sport\",\"sport\",\"sport\",\"control\",\"sport\",\"sport\",\"sport\",\"1kg\",\"sport\",\"sport\",\"sport\",\"control\",\"sport\",\"sport\",\"sport\",\"1kg\",\"1kg\",\"1kg\",\"1kg\",\"1kg\",\"1kg\",\"1kg\",\"1kg\",\"1kg\",\"1kg\",\"1kg\",\"1kg\",\"1kg\",\"1kg\",\"1kg\",\"1kg\",\"control\",\"1kg\",\"sport\",\"1kg\",\"control\",\"control\",\"sport\",\"1kg\",\"sport\",\"sport\",\"sport\",\"sport\",\"sport\",\"sport\",\"sport\",\"sport\",\"1kg\",\"1kg\",\"1kg\",\"1kg\",\"1kg\",\"1kg\",\"1kg\",\"1kg\",\"1kg\",\"1kg\",\"1kg\",\"1kg\",\"1kg\",\"control\",\"1kg\",\"1kg\",\"sport\",\"sport\",\"control\",\"sport\",\"sport\",\"sport\",\"sport\",\"sport\",\"sport\",\"sport\",\"sport\",\"sport\",\"control\",\"sport\",\"control\",\"1kg\",\"1kg\",\"1kg\",\"1kg\",\"1kg\",\"1kg\",\"1kg\",\"sport\",\"sport\",\"1kg\",\"sport\",\"1kg\",\"sport\",\"sport\",\"sport\",\"sport\",\"1kg\",\"sport\",\"sport\",\"sport\",\"sport\",\"sport\",\"sport\",\"sport\",\"sport\",\"control\",\"sport\",\"sport\",\"sport\",\"sport\",\"sport\",\"1kg\",\"1kg\",\"1kg\",\"1kg\",\"1kg\",\"1kg\",\"1kg\",\"sport\",\"sport\",\"sport\",\"1kg\",\"sport\",\"sport\",\"sport\",\"sport\",\"sport\",\"1kg\",\"1kg\",\"1kg\",\"1kg\",\"1kg\",\"1kg\",\"1kg\",\"1kg\",\"1kg\",\"1kg\",\"1kg\",\"1kg\",\"sport\",\"1kg\",\"sport\",\"control\",\"sport\",\"sport\",\"1kg\",\"1kg\",\"1kg\",\"1kg\",\"1kg\",\"control\",\"control\",\"sport\",\"1kg\",\"1kg\",\"1kg\",\"1kg\",\"sport\",\"1kg\",\"1kg\",\"sport\",\"sport\",\"1kg\"],\"x\":{\"__ndarray__\":\"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\",\"dtype\":\"float64\",\"shape\":[214]},\"y\":{\"__ndarray__\":\"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\",\"dtype\":\"float64\",\"shape\":[214]}},\"selected\":{\"id\":\"1363\",\"type\":\"Selection\"},\"selection_policy\":{\"id\":\"1364\",\"type\":\"UnionRenderers\"}},\"id\":\"1311\",\"type\":\"ColumnDataSource\"},{\"attributes\":{},\"id\":\"1359\",\"type\":\"BasicTickFormatter\"},{\"attributes\":{\"bottom_units\":\"screen\",\"fill_alpha\":{\"value\":0.5},\"fill_color\":{\"value\":\"lightgrey\"},\"left_units\":\"screen\",\"level\":\"overlay\",\"line_alpha\":{\"value\":1.0},\"line_color\":{\"value\":\"black\"},\"line_dash\":[4,4],\"line_width\":{\"value\":2},\"render_mode\":\"css\",\"right_units\":\"screen\",\"top_units\":\"screen\"},\"id\":\"1365\",\"type\":\"BoxAnnotation\"},{\"attributes\":{\"ticker\":{\"id\":\"1287\",\"type\":\"BasicTicker\"}},\"id\":\"1290\",\"type\":\"Grid\"},{\"attributes\":{\"data_source\":{\"id\":\"1311\",\"type\":\"ColumnDataSource\"},\"glyph\":{\"id\":\"1322\",\"type\":\"Circle\"},\"hover_glyph\":null,\"muted_glyph\":null,\"nonselection_glyph\":{\"id\":\"1323\",\"type\":\"Circle\"},\"selection_glyph\":null,\"view\":{\"id\":\"1320\",\"type\":\"CDSView\"}},\"id\":\"1324\",\"type\":\"GlyphRenderer\"},{\"attributes\":{\"fill_alpha\":{\"value\":0.1},\"fill_color\":{\"value\":\"#1f77b4\"},\"line_alpha\":{\"value\":0.1},\"line_color\":{\"value\":\"#1f77b4\"},\"x\":{\"field\":\"x\"},\"y\":{\"field\":\"y\"}},\"id\":\"1323\",\"type\":\"Circle\"},{\"attributes\":{\"color_mapper\":null,\"formatter\":{\"id\":\"1361\",\"type\":\"BasicTickFormatter\"},\"ticker\":{\"id\":\"1362\",\"type\":\"BasicTicker\"},\"visible\":false},\"id\":\"1335\",\"type\":\"ColorBar\"},{\"attributes\":{\"filters\":[{\"id\":\"1313\",\"type\":\"GroupFilter\"}],\"source\":{\"id\":\"1311\",\"type\":\"ColumnDataSource\"}},\"id\":\"1314\",\"type\":\"CDSView\"},{\"attributes\":{},\"id\":\"1362\",\"type\":\"BasicTicker\"},{\"attributes\":{\"filters\":[{\"id\":\"1319\",\"type\":\"GroupFilter\"}],\"source\":{\"id\":\"1311\",\"type\":\"ColumnDataSource\"}},\"id\":\"1320\",\"type\":\"CDSView\"},{\"attributes\":{\"label\":{\"value\":\"1kg\"},\"renderers\":[{\"id\":\"1318\",\"type\":\"GlyphRenderer\"}]},\"id\":\"1331\",\"type\":\"LegendItem\"},{\"attributes\":{\"fill_color\":{\"field\":\"label\",\"transform\":{\"id\":\"1312\",\"type\":\"CategoricalColorMapper\"}},\"line_color\":{\"field\":\"label\",\"transform\":{\"id\":\"1312\",\"type\":\"CategoricalColorMapper\"}},\"x\":{\"field\":\"x\"},\"y\":{\"field\":\"y\"}},\"id\":\"1322\",\"type\":\"Circle\"},{\"attributes\":{\"factors\":[\"sport\",\"1kg\",\"control\"],\"palette\":[\"#1f77b4\",\"#ff7f0e\",\"#2ca02c\",\"#d62728\",\"#9467bd\",\"#8c564b\",\"#e377c2\",\"#7f7f7f\",\"#bcbd22\",\"#17becf\"]},\"id\":\"1312\",\"type\":\"CategoricalColorMapper\"},{\"attributes\":{\"label\":{\"value\":\"sport\"},\"renderers\":[{\"id\":\"1330\",\"type\":\"GlyphRenderer\"}]},\"id\":\"1333\",\"type\":\"LegendItem\"},{\"attributes\":{\"fill_alpha\":{\"value\":0.1},\"fill_color\":{\"value\":\"#1f77b4\"},\"line_alpha\":{\"value\":0.1},\"line_color\":{\"value\":\"#1f77b4\"},\"x\":{\"field\":\"x\"},\"y\":{\"field\":\"y\"}},\"id\":\"1317\",\"type\":\"Circle\"},{\"attributes\":{\"click_policy\":\"hide\",\"items\":[{\"id\":\"1331\",\"type\":\"LegendItem\"},{\"id\":\"1332\",\"type\":\"LegendItem\"},{\"id\":\"1333\",\"type\":\"LegendItem\"}]},\"id\":\"1334\",\"type\":\"Legend\"},{\"attributes\":{\"fill_color\":{\"field\":\"label\",\"transform\":{\"id\":\"1312\",\"type\":\"CategoricalColorMapper\"}},\"line_color\":{\"field\":\"label\",\"transform\":{\"id\":\"1312\",\"type\":\"CategoricalColorMapper\"}},\"x\":{\"field\":\"x\"},\"y\":{\"field\":\"y\"}},\"id\":\"1316\",\"type\":\"Circle\"},{\"attributes\":{},\"id\":\"1287\",\"type\":\"BasicTicker\"},{\"attributes\":{\"fill_alpha\":{\"value\":0.1},\"fill_color\":{\"value\":\"#1f77b4\"},\"line_alpha\":{\"value\":0.1},\"line_color\":{\"value\":\"#1f77b4\"},\"x\":{\"field\":\"x\"},\"y\":{\"field\":\"y\"}},\"id\":\"1329\",\"type\":\"Circle\"},{\"attributes\":{\"text\":\"PCA - any variants with CADD over 16\"},\"id\":\"1276\",\"type\":\"Title\"},{\"attributes\":{\"axis_label\":\"PC1\",\"formatter\":{\"id\":\"1357\",\"type\":\"BasicTickFormatter\"},\"ticker\":{\"id\":\"1287\",\"type\":\"BasicTicker\"}},\"id\":\"1286\",\"type\":\"LinearAxis\"},{\"attributes\":{},\"id\":\"1300\",\"type\":\"ResetTool\"},{\"attributes\":{\"callback\":null},\"id\":\"1278\",\"type\":\"DataRange1d\"},{\"attributes\":{\"column_name\":\"label\",\"group\":\"sport\"},\"id\":\"1325\",\"type\":\"GroupFilter\"},{\"attributes\":{},\"id\":\"1282\",\"type\":\"LinearScale\"},{\"attributes\":{\"label\":{\"value\":\"control\"},\"renderers\":[{\"id\":\"1324\",\"type\":\"GlyphRenderer\"}]},\"id\":\"1332\",\"type\":\"LegendItem\"},{\"attributes\":{},\"id\":\"1364\",\"type\":\"UnionRenderers\"},{\"attributes\":{},\"id\":\"1361\",\"type\":\"BasicTickFormatter\"},{\"attributes\":{},\"id\":\"1363\",\"type\":\"Selection\"},{\"attributes\":{\"active_drag\":\"auto\",\"active_inspect\":\"auto\",\"active_multi\":null,\"active_scroll\":\"auto\",\"active_tap\":\"auto\",\"tools\":[{\"id\":\"1296\",\"type\":\"PanTool\"},{\"id\":\"1297\",\"type\":\"WheelZoomTool\"},{\"id\":\"1298\",\"type\":\"BoxZoomTool\"},{\"id\":\"1299\",\"type\":\"SaveTool\"},{\"id\":\"1300\",\"type\":\"ResetTool\"},{\"id\":\"1301\",\"type\":\"HelpTool\"},{\"id\":\"1310\",\"type\":\"HoverTool\"}]},\"id\":\"1302\",\"type\":\"Toolbar\"},{\"attributes\":{},\"id\":\"1299\",\"type\":\"SaveTool\"},{\"attributes\":{\"axis_label\":\"PC2\",\"formatter\":{\"id\":\"1359\",\"type\":\"BasicTickFormatter\"},\"ticker\":{\"id\":\"1292\",\"type\":\"BasicTicker\"}},\"id\":\"1291\",\"type\":\"LinearAxis\"},{\"attributes\":{\"column_name\":\"label\",\"group\":\"1kg\"},\"id\":\"1313\",\"type\":\"GroupFilter\"},{\"attributes\":{\"data_source\":{\"id\":\"1311\",\"type\":\"ColumnDataSource\"},\"glyph\":{\"id\":\"1328\",\"type\":\"Circle\"},\"hover_glyph\":null,\"muted_glyph\":null,\"nonselection_glyph\":{\"id\":\"1329\",\"type\":\"Circle\"},\"selection_glyph\":null,\"view\":{\"id\":\"1326\",\"type\":\"CDSView\"}},\"id\":\"1330\",\"type\":\"GlyphRenderer\"},{\"attributes\":{\"data_source\":{\"id\":\"1311\",\"type\":\"ColumnDataSource\"},\"glyph\":{\"id\":\"1316\",\"type\":\"Circle\"},\"hover_glyph\":null,\"muted_glyph\":null,\"nonselection_glyph\":{\"id\":\"1317\",\"type\":\"Circle\"},\"selection_glyph\":null,\"view\":{\"id\":\"1314\",\"type\":\"CDSView\"}},\"id\":\"1318\",\"type\":\"GlyphRenderer\"},{\"attributes\":{},\"id\":\"1292\",\"type\":\"BasicTicker\"},{\"attributes\":{\"fill_color\":{\"field\":\"label\",\"transform\":{\"id\":\"1312\",\"type\":\"CategoricalColorMapper\"}},\"line_color\":{\"field\":\"label\",\"transform\":{\"id\":\"1312\",\"type\":\"CategoricalColorMapper\"}},\"x\":{\"field\":\"x\"},\"y\":{\"field\":\"y\"}},\"id\":\"1328\",\"type\":\"Circle\"},{\"attributes\":{\"filters\":[{\"id\":\"1325\",\"type\":\"GroupFilter\"}],\"source\":{\"id\":\"1311\",\"type\":\"ColumnDataSource\"}},\"id\":\"1326\",\"type\":\"CDSView\"},{\"attributes\":{},\"id\":\"1301\",\"type\":\"HelpTool\"},{\"attributes\":{\"overlay\":{\"id\":\"1365\",\"type\":\"BoxAnnotation\"}},\"id\":\"1298\",\"type\":\"BoxZoomTool\"},{\"attributes\":{\"callback\":null,\"tooltips\":[[\"x\",\"@x\"],[\"y\",\"@y\"],[\"label\",\"@label\"]]},\"id\":\"1310\",\"type\":\"HoverTool\"},{\"attributes\":{\"column_name\":\"label\",\"group\":\"control\"},\"id\":\"1319\",\"type\":\"GroupFilter\"},{\"attributes\":{},\"id\":\"1297\",\"type\":\"WheelZoomTool\"},{\"attributes\":{},\"id\":\"1296\",\"type\":\"PanTool\"},{\"attributes\":{\"dimension\":1,\"ticker\":{\"id\":\"1292\",\"type\":\"BasicTicker\"}},\"id\":\"1295\",\"type\":\"Grid\"}],\"root_ids\":[\"1275\"]},\"title\":\"Bokeh Application\",\"version\":\"1.4.0\"}};\n",
       "  var render_items = [{\"docid\":\"8181f951-5c0f-4136-8f8e-126a6aaad81e\",\"roots\":{\"1275\":\"7ac03fea-08fa-4024-a372-151e94d3d334\"}}];\n",
       "  root.Bokeh.embed.embed_items_notebook(docs_json, render_items);\n",
       "\n",
       "  }\n",
       "  if (root.Bokeh !== undefined) {\n",
       "    embed_document(root);\n",
       "  } else {\n",
       "    var attempts = 0;\n",
       "    var timer = setInterval(function(root) {\n",
       "      if (root.Bokeh !== undefined) {\n",
       "        clearInterval(timer);\n",
       "        embed_document(root);\n",
       "      } else {\n",
       "        attempts++;\n",
       "        if (attempts > 100) {\n",
       "          clearInterval(timer);\n",
       "          console.log(\"Bokeh: ERROR: Unable to run BokehJS code because BokehJS library is missing\");\n",
       "        }\n",
       "      }\n",
       "    }, 10, root)\n",
       "  }\n",
       "})(window);"
      ],
      "application/vnd.bokehjs_exec.v0+json": ""
     },
     "metadata": {
      "application/vnd.bokehjs_exec.v0+json": {
       "id": "1275"
      }
     },
     "output_type": "display_data"
    }
   ],
   "source": [
    "p3 = hl.plot.scatter(per_gene.pca_16[0],\n",
    "                    per_gene.pca_16[1],\n",
    "                    label=per_gene.group,\n",
    "                    title='PCA - any variants with CADD over 16', xlabel='PC1', ylabel='PC2')\n",
    "show(p3)"
   ]
  },
  {
   "cell_type": "code",
   "execution_count": 44,
   "id": "a7d23205-de5f-4152-86ca-d347a37a0ff0",
   "metadata": {},
   "outputs": [
    {
     "data": {
      "text/html": [
       "\n",
       "\n",
       "\n",
       "\n",
       "\n",
       "\n",
       "  <div class=\"bk-root\" id=\"597a485b-4ca6-43b4-b2bc-2b3d490ad836\" data-root-id=\"1426\"></div>\n"
      ]
     },
     "metadata": {},
     "output_type": "display_data"
    },
    {
     "data": {
      "application/javascript": [
       "(function(root) {\n",
       "  function embed_document(root) {\n",
       "    \n",
       "  var docs_json = {\"df8163e0-b7f0-4fd0-9d38-9090a48dcb01\":{\"roots\":{\"references\":[{\"attributes\":{\"below\":[{\"id\":\"1437\",\"type\":\"LinearAxis\"}],\"center\":[{\"id\":\"1441\",\"type\":\"Grid\"},{\"id\":\"1446\",\"type\":\"Grid\"}],\"left\":[{\"id\":\"1442\",\"type\":\"LinearAxis\"},{\"id\":\"1485\",\"type\":\"Legend\"},{\"id\":\"1486\",\"type\":\"ColorBar\"}],\"plot_height\":800,\"plot_width\":800,\"renderers\":[{\"id\":\"1469\",\"type\":\"GlyphRenderer\"},{\"id\":\"1475\",\"type\":\"GlyphRenderer\"},{\"id\":\"1481\",\"type\":\"GlyphRenderer\"}],\"title\":{\"id\":\"1427\",\"type\":\"Title\"},\"toolbar\":{\"id\":\"1453\",\"type\":\"Toolbar\"},\"x_range\":{\"id\":\"1429\",\"type\":\"DataRange1d\"},\"x_scale\":{\"id\":\"1433\",\"type\":\"LinearScale\"},\"y_range\":{\"id\":\"1431\",\"type\":\"DataRange1d\"},\"y_scale\":{\"id\":\"1435\",\"type\":\"LinearScale\"}},\"id\":\"1426\",\"subtype\":\"Figure\",\"type\":\"Plot\"},{\"attributes\":{},\"id\":\"1520\",\"type\":\"BasicTickFormatter\"},{\"attributes\":{\"column_name\":\"label\",\"group\":\"control\"},\"id\":\"1470\",\"type\":\"GroupFilter\"},{\"attributes\":{\"fill_color\":{\"field\":\"label\",\"transform\":{\"id\":\"1463\",\"type\":\"CategoricalColorMapper\"}},\"line_color\":{\"field\":\"label\",\"transform\":{\"id\":\"1463\",\"type\":\"CategoricalColorMapper\"}},\"x\":{\"field\":\"x\"},\"y\":{\"field\":\"y\"}},\"id\":\"1473\",\"type\":\"Circle\"},{\"attributes\":{\"color_mapper\":null,\"formatter\":{\"id\":\"1522\",\"type\":\"BasicTickFormatter\"},\"ticker\":{\"id\":\"1523\",\"type\":\"BasicTicker\"},\"visible\":false},\"id\":\"1486\",\"type\":\"ColorBar\"},{\"attributes\":{},\"id\":\"1450\",\"type\":\"SaveTool\"},{\"attributes\":{\"factors\":[\"sport\",\"1kg\",\"control\"],\"palette\":[\"#1f77b4\",\"#ff7f0e\",\"#2ca02c\",\"#d62728\",\"#9467bd\",\"#8c564b\",\"#e377c2\",\"#7f7f7f\",\"#bcbd22\",\"#17becf\"]},\"id\":\"1463\",\"type\":\"CategoricalColorMapper\"},{\"attributes\":{},\"id\":\"1518\",\"type\":\"BasicTickFormatter\"},{\"attributes\":{},\"id\":\"1522\",\"type\":\"BasicTickFormatter\"},{\"attributes\":{\"data_source\":{\"id\":\"1462\",\"type\":\"ColumnDataSource\"},\"glyph\":{\"id\":\"1467\",\"type\":\"Circle\"},\"hover_glyph\":null,\"muted_glyph\":null,\"nonselection_glyph\":{\"id\":\"1468\",\"type\":\"Circle\"},\"selection_glyph\":null,\"view\":{\"id\":\"1465\",\"type\":\"CDSView\"}},\"id\":\"1469\",\"type\":\"GlyphRenderer\"},{\"attributes\":{\"data_source\":{\"id\":\"1462\",\"type\":\"ColumnDataSource\"},\"glyph\":{\"id\":\"1473\",\"type\":\"Circle\"},\"hover_glyph\":null,\"muted_glyph\":null,\"nonselection_glyph\":{\"id\":\"1474\",\"type\":\"Circle\"},\"selection_glyph\":null,\"view\":{\"id\":\"1471\",\"type\":\"CDSView\"}},\"id\":\"1475\",\"type\":\"GlyphRenderer\"},{\"attributes\":{\"label\":{\"value\":\"sport\"},\"renderers\":[{\"id\":\"1481\",\"type\":\"GlyphRenderer\"}]},\"id\":\"1484\",\"type\":\"LegendItem\"},{\"attributes\":{\"overlay\":{\"id\":\"1526\",\"type\":\"BoxAnnotation\"}},\"id\":\"1449\",\"type\":\"BoxZoomTool\"},{\"attributes\":{},\"id\":\"1451\",\"type\":\"ResetTool\"},{\"attributes\":{\"fill_alpha\":{\"value\":0.1},\"fill_color\":{\"value\":\"#1f77b4\"},\"line_alpha\":{\"value\":0.1},\"line_color\":{\"value\":\"#1f77b4\"},\"x\":{\"field\":\"x\"},\"y\":{\"field\":\"y\"}},\"id\":\"1468\",\"type\":\"Circle\"},{\"attributes\":{},\"id\":\"1524\",\"type\":\"Selection\"},{\"attributes\":{\"bottom_units\":\"screen\",\"fill_alpha\":{\"value\":0.5},\"fill_color\":{\"value\":\"lightgrey\"},\"left_units\":\"screen\",\"level\":\"overlay\",\"line_alpha\":{\"value\":1.0},\"line_color\":{\"value\":\"black\"},\"line_dash\":[4,4],\"line_width\":{\"value\":2},\"render_mode\":\"css\",\"right_units\":\"screen\",\"top_units\":\"screen\"},\"id\":\"1526\",\"type\":\"BoxAnnotation\"},{\"attributes\":{},\"id\":\"1525\",\"type\":\"UnionRenderers\"},{\"attributes\":{},\"id\":\"1443\",\"type\":\"BasicTicker\"},{\"attributes\":{},\"id\":\"1435\",\"type\":\"LinearScale\"},{\"attributes\":{\"fill_color\":{\"field\":\"label\",\"transform\":{\"id\":\"1463\",\"type\":\"CategoricalColorMapper\"}},\"line_color\":{\"field\":\"label\",\"transform\":{\"id\":\"1463\",\"type\":\"CategoricalColorMapper\"}},\"x\":{\"field\":\"x\"},\"y\":{\"field\":\"y\"}},\"id\":\"1467\",\"type\":\"Circle\"},{\"attributes\":{},\"id\":\"1447\",\"type\":\"PanTool\"},{\"attributes\":{\"fill_alpha\":{\"value\":0.1},\"fill_color\":{\"value\":\"#1f77b4\"},\"line_alpha\":{\"value\":0.1},\"line_color\":{\"value\":\"#1f77b4\"},\"x\":{\"field\":\"x\"},\"y\":{\"field\":\"y\"}},\"id\":\"1474\",\"type\":\"Circle\"},{\"attributes\":{\"ticker\":{\"id\":\"1438\",\"type\":\"BasicTicker\"}},\"id\":\"1441\",\"type\":\"Grid\"},{\"attributes\":{\"axis_label\":\"PC2\",\"formatter\":{\"id\":\"1520\",\"type\":\"BasicTickFormatter\"},\"ticker\":{\"id\":\"1443\",\"type\":\"BasicTicker\"}},\"id\":\"1442\",\"type\":\"LinearAxis\"},{\"attributes\":{\"label\":{\"value\":\"1kg\"},\"renderers\":[{\"id\":\"1469\",\"type\":\"GlyphRenderer\"}]},\"id\":\"1482\",\"type\":\"LegendItem\"},{\"attributes\":{\"callback\":null},\"id\":\"1431\",\"type\":\"DataRange1d\"},{\"attributes\":{\"filters\":[{\"id\":\"1470\",\"type\":\"GroupFilter\"}],\"source\":{\"id\":\"1462\",\"type\":\"ColumnDataSource\"}},\"id\":\"1471\",\"type\":\"CDSView\"},{\"attributes\":{\"callback\":null,\"data\":{\"index\":[0,1,2,3,4,5,6,7,8,9,10,11,12,13,14,15,16,17,18,19,20,21,22,23,24,25,26,27,28,29,30,31,32,33,34,35,36,37,38,39,40,41,42,43,44,45,46,47,48,49,50,51,52,53,54,55,56,57,58,59,60,61,62,63,64,65,66,67,68,69,70,71,72,73,74,75,76,77,78,79,80,81,82,83,84,85,86,87,88,89,90,91,92,93,94,95,96,97,98,99,100,101,102,103,104,105,106,107,108,109,110,111,112,113,114,115,116,117,118,119,120,121,122,123,124,125,126,127,128,129,130,131,132,133,134,135,136,137,138,139,140,141,142,143,144,145,146,147,148,149,150,151,152,153,154,155,156,157,158,159,160,161,162,163,164,165,166,167,168,169,170,171,172,173,174,175,176,177,178,179,180,181,182,183,184,185,186,187,188,189,190,191,192,193,194,195,196,197,198,199,200,201,202,203,204,205,206,207,208,209,210,211,212,213,214,215,216,217,218],\"label\":[\"sport\",\"sport\",\"1kg\",\"control\",\"sport\",\"sport\",\"1kg\",\"sport\",\"sport\",\"sport\",\"1kg\",\"1kg\",\"sport\",\"1kg\",\"control\",\"sport\",\"sport\",\"sport\",\"sport\",\"1kg\",\"sport\",\"sport\",\"control\",\"1kg\",\"sport\",\"1kg\",\"1kg\",\"1kg\",\"1kg\",\"sport\",\"1kg\",\"1kg\",\"1kg\",\"sport\",\"sport\",\"1kg\",\"1kg\",\"1kg\",\"1kg\",\"sport\",\"1kg\",\"sport\",\"sport\",\"sport\",\"1kg\",\"sport\",\"1kg\",\"control\",\"1kg\",\"sport\",\"1kg\",\"1kg\",\"1kg\",\"control\",\"sport\",\"control\",\"1kg\",\"sport\",\"sport\",\"1kg\",\"1kg\",\"sport\",\"1kg\",\"1kg\",\"1kg\",\"sport\",\"sport\",\"sport\",\"1kg\",\"1kg\",\"1kg\",\"control\",\"1kg\",\"control\",\"1kg\",\"sport\",\"1kg\",\"1kg\",\"control\",\"1kg\",\"sport\",\"sport\",\"1kg\",\"1kg\",\"sport\",\"1kg\",\"1kg\",\"sport\",\"1kg\",\"sport\",\"1kg\",\"sport\",\"1kg\",\"sport\",\"1kg\",\"sport\",\"1kg\",\"sport\",\"sport\",\"1kg\",\"sport\",\"sport\",\"sport\",\"1kg\",\"sport\",\"control\",\"control\",\"sport\",\"sport\",\"1kg\",\"1kg\",\"1kg\",\"1kg\",\"1kg\",\"sport\",\"1kg\",\"control\",\"sport\",\"control\",\"1kg\",\"sport\",\"sport\",\"sport\",\"sport\",\"1kg\",\"control\",\"1kg\",\"sport\",\"1kg\",\"1kg\",\"sport\",\"sport\",\"1kg\",\"sport\",\"sport\",\"1kg\",\"sport\",\"sport\",\"sport\",\"sport\",\"control\",\"control\",\"sport\",\"sport\",\"1kg\",\"1kg\",\"1kg\",\"1kg\",\"control\",\"sport\",\"sport\",\"control\",\"1kg\",\"1kg\",\"1kg\",\"sport\",\"sport\",\"sport\",\"1kg\",\"1kg\",\"sport\",\"1kg\",\"sport\",\"1kg\",\"1kg\",\"sport\",\"sport\",\"1kg\",\"1kg\",\"1kg\",\"sport\",\"control\",\"1kg\",\"1kg\",\"1kg\",\"sport\",\"1kg\",\"1kg\",\"sport\",\"sport\",\"1kg\",\"sport\",\"sport\",\"sport\",\"1kg\",\"sport\",\"1kg\",\"sport\",\"1kg\",\"sport\",\"1kg\",\"sport\",\"sport\",\"sport\",\"1kg\",\"sport\",\"1kg\",\"sport\",\"sport\",\"1kg\",\"1kg\",\"sport\",\"sport\",\"1kg\",\"control\",\"sport\",\"1kg\",\"1kg\",\"1kg\",\"control\",\"sport\",\"sport\",\"1kg\",\"sport\",\"sport\",\"sport\",\"sport\",\"sport\",\"1kg\"],\"x\":{\"__ndarray__\":\"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\",\"dtype\":\"float64\",\"shape\":[219]},\"y\":{\"__ndarray__\":\"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\",\"dtype\":\"float64\",\"shape\":[219]}},\"selected\":{\"id\":\"1524\",\"type\":\"Selection\"},\"selection_policy\":{\"id\":\"1525\",\"type\":\"UnionRenderers\"}},\"id\":\"1462\",\"type\":\"ColumnDataSource\"},{\"attributes\":{\"fill_color\":{\"field\":\"label\",\"transform\":{\"id\":\"1463\",\"type\":\"CategoricalColorMapper\"}},\"line_color\":{\"field\":\"label\",\"transform\":{\"id\":\"1463\",\"type\":\"CategoricalColorMapper\"}},\"x\":{\"field\":\"x\"},\"y\":{\"field\":\"y\"}},\"id\":\"1479\",\"type\":\"Circle\"},{\"attributes\":{\"label\":{\"value\":\"control\"},\"renderers\":[{\"id\":\"1475\",\"type\":\"GlyphRenderer\"}]},\"id\":\"1483\",\"type\":\"LegendItem\"},{\"attributes\":{\"column_name\":\"label\",\"group\":\"sport\"},\"id\":\"1476\",\"type\":\"GroupFilter\"},{\"attributes\":{},\"id\":\"1448\",\"type\":\"WheelZoomTool\"},{\"attributes\":{\"callback\":null,\"tooltips\":[[\"x\",\"@x\"],[\"y\",\"@y\"],[\"label\",\"@label\"]]},\"id\":\"1461\",\"type\":\"HoverTool\"},{\"attributes\":{\"dimension\":1,\"ticker\":{\"id\":\"1443\",\"type\":\"BasicTicker\"}},\"id\":\"1446\",\"type\":\"Grid\"},{\"attributes\":{\"filters\":[{\"id\":\"1464\",\"type\":\"GroupFilter\"}],\"source\":{\"id\":\"1462\",\"type\":\"ColumnDataSource\"}},\"id\":\"1465\",\"type\":\"CDSView\"},{\"attributes\":{},\"id\":\"1433\",\"type\":\"LinearScale\"},{\"attributes\":{\"data_source\":{\"id\":\"1462\",\"type\":\"ColumnDataSource\"},\"glyph\":{\"id\":\"1479\",\"type\":\"Circle\"},\"hover_glyph\":null,\"muted_glyph\":null,\"nonselection_glyph\":{\"id\":\"1480\",\"type\":\"Circle\"},\"selection_glyph\":null,\"view\":{\"id\":\"1477\",\"type\":\"CDSView\"}},\"id\":\"1481\",\"type\":\"GlyphRenderer\"},{\"attributes\":{\"text\":\"PCA - any LoF variants\"},\"id\":\"1427\",\"type\":\"Title\"},{\"attributes\":{\"filters\":[{\"id\":\"1476\",\"type\":\"GroupFilter\"}],\"source\":{\"id\":\"1462\",\"type\":\"ColumnDataSource\"}},\"id\":\"1477\",\"type\":\"CDSView\"},{\"attributes\":{\"callback\":null},\"id\":\"1429\",\"type\":\"DataRange1d\"},{\"attributes\":{\"active_drag\":\"auto\",\"active_inspect\":\"auto\",\"active_multi\":null,\"active_scroll\":\"auto\",\"active_tap\":\"auto\",\"tools\":[{\"id\":\"1447\",\"type\":\"PanTool\"},{\"id\":\"1448\",\"type\":\"WheelZoomTool\"},{\"id\":\"1449\",\"type\":\"BoxZoomTool\"},{\"id\":\"1450\",\"type\":\"SaveTool\"},{\"id\":\"1451\",\"type\":\"ResetTool\"},{\"id\":\"1452\",\"type\":\"HelpTool\"},{\"id\":\"1461\",\"type\":\"HoverTool\"}]},\"id\":\"1453\",\"type\":\"Toolbar\"},{\"attributes\":{\"axis_label\":\"PC1\",\"formatter\":{\"id\":\"1518\",\"type\":\"BasicTickFormatter\"},\"ticker\":{\"id\":\"1438\",\"type\":\"BasicTicker\"}},\"id\":\"1437\",\"type\":\"LinearAxis\"},{\"attributes\":{},\"id\":\"1523\",\"type\":\"BasicTicker\"},{\"attributes\":{},\"id\":\"1452\",\"type\":\"HelpTool\"},{\"attributes\":{\"column_name\":\"label\",\"group\":\"1kg\"},\"id\":\"1464\",\"type\":\"GroupFilter\"},{\"attributes\":{\"click_policy\":\"hide\",\"items\":[{\"id\":\"1482\",\"type\":\"LegendItem\"},{\"id\":\"1483\",\"type\":\"LegendItem\"},{\"id\":\"1484\",\"type\":\"LegendItem\"}]},\"id\":\"1485\",\"type\":\"Legend\"},{\"attributes\":{},\"id\":\"1438\",\"type\":\"BasicTicker\"},{\"attributes\":{\"fill_alpha\":{\"value\":0.1},\"fill_color\":{\"value\":\"#1f77b4\"},\"line_alpha\":{\"value\":0.1},\"line_color\":{\"value\":\"#1f77b4\"},\"x\":{\"field\":\"x\"},\"y\":{\"field\":\"y\"}},\"id\":\"1480\",\"type\":\"Circle\"}],\"root_ids\":[\"1426\"]},\"title\":\"Bokeh Application\",\"version\":\"1.4.0\"}};\n",
       "  var render_items = [{\"docid\":\"df8163e0-b7f0-4fd0-9d38-9090a48dcb01\",\"roots\":{\"1426\":\"597a485b-4ca6-43b4-b2bc-2b3d490ad836\"}}];\n",
       "  root.Bokeh.embed.embed_items_notebook(docs_json, render_items);\n",
       "\n",
       "  }\n",
       "  if (root.Bokeh !== undefined) {\n",
       "    embed_document(root);\n",
       "  } else {\n",
       "    var attempts = 0;\n",
       "    var timer = setInterval(function(root) {\n",
       "      if (root.Bokeh !== undefined) {\n",
       "        clearInterval(timer);\n",
       "        embed_document(root);\n",
       "      } else {\n",
       "        attempts++;\n",
       "        if (attempts > 100) {\n",
       "          clearInterval(timer);\n",
       "          console.log(\"Bokeh: ERROR: Unable to run BokehJS code because BokehJS library is missing\");\n",
       "        }\n",
       "      }\n",
       "    }, 10, root)\n",
       "  }\n",
       "})(window);"
      ],
      "application/vnd.bokehjs_exec.v0+json": ""
     },
     "metadata": {
      "application/vnd.bokehjs_exec.v0+json": {
       "id": "1426"
      }
     },
     "output_type": "display_data"
    }
   ],
   "source": [
    "p4 = hl.plot.scatter(per_gene.pca_lof[0],\n",
    "                     per_gene.pca_10[1],\n",
    "                     label=per_gene.group,\n",
    "                     title='PCA - any LoF variants', xlabel='PC1', ylabel='PC2')\n",
    "show(p4)"
   ]
  },
  {
   "cell_type": "code",
   "execution_count": 45,
   "id": "3b5eafb1-0995-49f5-af47-128b566ad0a5",
   "metadata": {},
   "outputs": [
    {
     "data": {
      "text/html": [
       "\n",
       "\n",
       "\n",
       "\n",
       "\n",
       "\n",
       "  <div class=\"bk-root\" id=\"3c5feb2a-02ce-439d-9f92-93402d559a9b\" data-root-id=\"1587\"></div>\n"
      ]
     },
     "metadata": {},
     "output_type": "display_data"
    },
    {
     "data": {
      "application/javascript": [
       "(function(root) {\n",
       "  function embed_document(root) {\n",
       "    \n",
       "  var docs_json = {\"8071b637-fa2e-4ad7-b162-34be3202238c\":{\"roots\":{\"references\":[{\"attributes\":{\"below\":[{\"id\":\"1598\",\"type\":\"LinearAxis\"}],\"center\":[{\"id\":\"1602\",\"type\":\"Grid\"},{\"id\":\"1607\",\"type\":\"Grid\"}],\"left\":[{\"id\":\"1603\",\"type\":\"LinearAxis\"},{\"id\":\"1646\",\"type\":\"Legend\"},{\"id\":\"1647\",\"type\":\"ColorBar\"}],\"plot_height\":800,\"plot_width\":800,\"renderers\":[{\"id\":\"1630\",\"type\":\"GlyphRenderer\"},{\"id\":\"1636\",\"type\":\"GlyphRenderer\"},{\"id\":\"1642\",\"type\":\"GlyphRenderer\"}],\"title\":{\"id\":\"1588\",\"type\":\"Title\"},\"toolbar\":{\"id\":\"1614\",\"type\":\"Toolbar\"},\"x_range\":{\"id\":\"1590\",\"type\":\"DataRange1d\"},\"x_scale\":{\"id\":\"1594\",\"type\":\"LinearScale\"},\"y_range\":{\"id\":\"1592\",\"type\":\"DataRange1d\"},\"y_scale\":{\"id\":\"1596\",\"type\":\"LinearScale\"}},\"id\":\"1587\",\"subtype\":\"Figure\",\"type\":\"Plot\"},{\"attributes\":{\"fill_alpha\":{\"value\":0.1},\"fill_color\":{\"value\":\"#1f77b4\"},\"line_alpha\":{\"value\":0.1},\"line_color\":{\"value\":\"#1f77b4\"},\"x\":{\"field\":\"x\"},\"y\":{\"field\":\"y\"}},\"id\":\"1641\",\"type\":\"Circle\"},{\"attributes\":{},\"id\":\"1611\",\"type\":\"SaveTool\"},{\"attributes\":{\"label\":{\"value\":\"sport\"},\"renderers\":[{\"id\":\"1642\",\"type\":\"GlyphRenderer\"}]},\"id\":\"1645\",\"type\":\"LegendItem\"},{\"attributes\":{\"column_name\":\"label\",\"group\":\"1kg\"},\"id\":\"1625\",\"type\":\"GroupFilter\"},{\"attributes\":{\"filters\":[{\"id\":\"1631\",\"type\":\"GroupFilter\"}],\"source\":{\"id\":\"1623\",\"type\":\"ColumnDataSource\"}},\"id\":\"1632\",\"type\":\"CDSView\"},{\"attributes\":{},\"id\":\"1689\",\"type\":\"BasicTickFormatter\"},{\"attributes\":{\"bottom_units\":\"screen\",\"fill_alpha\":{\"value\":0.5},\"fill_color\":{\"value\":\"lightgrey\"},\"left_units\":\"screen\",\"level\":\"overlay\",\"line_alpha\":{\"value\":1.0},\"line_color\":{\"value\":\"black\"},\"line_dash\":[4,4],\"line_width\":{\"value\":2},\"render_mode\":\"css\",\"right_units\":\"screen\",\"top_units\":\"screen\"},\"id\":\"1697\",\"type\":\"BoxAnnotation\"},{\"attributes\":{\"data_source\":{\"id\":\"1623\",\"type\":\"ColumnDataSource\"},\"glyph\":{\"id\":\"1640\",\"type\":\"Circle\"},\"hover_glyph\":null,\"muted_glyph\":null,\"nonselection_glyph\":{\"id\":\"1641\",\"type\":\"Circle\"},\"selection_glyph\":null,\"view\":{\"id\":\"1638\",\"type\":\"CDSView\"}},\"id\":\"1642\",\"type\":\"GlyphRenderer\"},{\"attributes\":{\"label\":{\"value\":\"1kg\"},\"renderers\":[{\"id\":\"1630\",\"type\":\"GlyphRenderer\"}]},\"id\":\"1643\",\"type\":\"LegendItem\"},{\"attributes\":{},\"id\":\"1693\",\"type\":\"BasicTickFormatter\"},{\"attributes\":{},\"id\":\"1694\",\"type\":\"BasicTicker\"},{\"attributes\":{\"fill_color\":{\"field\":\"label\",\"transform\":{\"id\":\"1624\",\"type\":\"CategoricalColorMapper\"}},\"line_color\":{\"field\":\"label\",\"transform\":{\"id\":\"1624\",\"type\":\"CategoricalColorMapper\"}},\"x\":{\"field\":\"x\"},\"y\":{\"field\":\"y\"}},\"id\":\"1634\",\"type\":\"Circle\"},{\"attributes\":{\"fill_color\":{\"field\":\"label\",\"transform\":{\"id\":\"1624\",\"type\":\"CategoricalColorMapper\"}},\"line_color\":{\"field\":\"label\",\"transform\":{\"id\":\"1624\",\"type\":\"CategoricalColorMapper\"}},\"x\":{\"field\":\"x\"},\"y\":{\"field\":\"y\"}},\"id\":\"1628\",\"type\":\"Circle\"},{\"attributes\":{},\"id\":\"1608\",\"type\":\"PanTool\"},{\"attributes\":{},\"id\":\"1612\",\"type\":\"ResetTool\"},{\"attributes\":{\"axis_label\":\"PC2\",\"formatter\":{\"id\":\"1691\",\"type\":\"BasicTickFormatter\"},\"ticker\":{\"id\":\"1604\",\"type\":\"BasicTicker\"}},\"id\":\"1603\",\"type\":\"LinearAxis\"},{\"attributes\":{\"color_mapper\":null,\"formatter\":{\"id\":\"1693\",\"type\":\"BasicTickFormatter\"},\"ticker\":{\"id\":\"1694\",\"type\":\"BasicTicker\"},\"visible\":false},\"id\":\"1647\",\"type\":\"ColorBar\"},{\"attributes\":{\"overlay\":{\"id\":\"1697\",\"type\":\"BoxAnnotation\"}},\"id\":\"1610\",\"type\":\"BoxZoomTool\"},{\"attributes\":{},\"id\":\"1696\",\"type\":\"UnionRenderers\"},{\"attributes\":{},\"id\":\"1594\",\"type\":\"LinearScale\"},{\"attributes\":{\"text\":\"PCA - any variants rare in Polish population\"},\"id\":\"1588\",\"type\":\"Title\"},{\"attributes\":{\"label\":{\"value\":\"control\"},\"renderers\":[{\"id\":\"1636\",\"type\":\"GlyphRenderer\"}]},\"id\":\"1644\",\"type\":\"LegendItem\"},{\"attributes\":{\"callback\":null},\"id\":\"1592\",\"type\":\"DataRange1d\"},{\"attributes\":{\"filters\":[{\"id\":\"1637\",\"type\":\"GroupFilter\"}],\"source\":{\"id\":\"1623\",\"type\":\"ColumnDataSource\"}},\"id\":\"1638\",\"type\":\"CDSView\"},{\"attributes\":{\"data_source\":{\"id\":\"1623\",\"type\":\"ColumnDataSource\"},\"glyph\":{\"id\":\"1634\",\"type\":\"Circle\"},\"hover_glyph\":null,\"muted_glyph\":null,\"nonselection_glyph\":{\"id\":\"1635\",\"type\":\"Circle\"},\"selection_glyph\":null,\"view\":{\"id\":\"1632\",\"type\":\"CDSView\"}},\"id\":\"1636\",\"type\":\"GlyphRenderer\"},{\"attributes\":{\"fill_color\":{\"field\":\"label\",\"transform\":{\"id\":\"1624\",\"type\":\"CategoricalColorMapper\"}},\"line_color\":{\"field\":\"label\",\"transform\":{\"id\":\"1624\",\"type\":\"CategoricalColorMapper\"}},\"x\":{\"field\":\"x\"},\"y\":{\"field\":\"y\"}},\"id\":\"1640\",\"type\":\"Circle\"},{\"attributes\":{\"factors\":[\"sport\",\"1kg\",\"control\"],\"palette\":[\"#1f77b4\",\"#ff7f0e\",\"#2ca02c\",\"#d62728\",\"#9467bd\",\"#8c564b\",\"#e377c2\",\"#7f7f7f\",\"#bcbd22\",\"#17becf\"]},\"id\":\"1624\",\"type\":\"CategoricalColorMapper\"},{\"attributes\":{\"fill_alpha\":{\"value\":0.1},\"fill_color\":{\"value\":\"#1f77b4\"},\"line_alpha\":{\"value\":0.1},\"line_color\":{\"value\":\"#1f77b4\"},\"x\":{\"field\":\"x\"},\"y\":{\"field\":\"y\"}},\"id\":\"1635\",\"type\":\"Circle\"},{\"attributes\":{\"callback\":null,\"data\":{\"index\":[0,1,2,3,4,5,6,7,8,9,10,11,12,13,14,15,16,17,18,19,20,21,22,23,24,25,26,27,28,29,30,31,32,33,34,35,36,37,38,39,40,41,42,43,44,45,46,47,48,49,50,51,52,53,54,55,56,57,58,59,60,61,62,63,64,65,66,67,68,69,70,71,72,73,74,75,76,77,78,79,80,81,82,83,84,85,86,87,88,89,90,91,92,93],\"label\":[\"sport\",\"sport\",\"sport\",\"sport\",\"sport\",\"control\",\"sport\",\"sport\",\"sport\",\"control\",\"sport\",\"control\",\"sport\",\"sport\",\"sport\",\"control\",\"sport\",\"1kg\",\"sport\",\"control\",\"sport\",\"control\",\"sport\",\"control\",\"sport\",\"1kg\",\"1kg\",\"1kg\",\"control\",\"1kg\",\"1kg\",\"1kg\",\"1kg\",\"1kg\",\"1kg\",\"1kg\",\"1kg\",\"1kg\",\"sport\",\"1kg\",\"1kg\",\"1kg\",\"1kg\",\"1kg\",\"1kg\",\"1kg\",\"1kg\",\"1kg\",\"sport\",\"1kg\",\"1kg\",\"1kg\",\"1kg\",\"1kg\",\"1kg\",\"1kg\",\"1kg\",\"1kg\",\"1kg\",\"1kg\",\"1kg\",\"1kg\",\"1kg\",\"1kg\",\"1kg\",\"1kg\",\"1kg\",\"1kg\",\"1kg\",\"1kg\",\"1kg\",\"1kg\",\"1kg\",\"1kg\",\"1kg\",\"1kg\",\"1kg\",\"1kg\",\"1kg\",\"1kg\",\"1kg\",\"1kg\",\"1kg\",\"1kg\",\"1kg\",\"1kg\",\"1kg\",\"1kg\",\"1kg\",\"1kg\",\"1kg\",\"1kg\",\"1kg\",\"sport\"],\"x\":{\"__ndarray__\":\"nV5eGru8Y0BLTp9t67xjQBjnQqrrvGNAOXffER+9Y0CzxS9g7LxjQB1T1JzsvGNAxP/Kxx+9Y0CyZXmI6bxjQPAgcLMcvWNAIzYHe+q8Y0CXyMt2HL1jQPffFfAcvWNA51oLG1C9Y0DKVLMsHb1jQC7r5FsevWNANrJQuiC9Y0AJCJddQr1jQGLf0zbdvGNAj5CCE0O9Y0BJqntNDb1jQEAlcXhAvWNAyXDNO0C9Y0C268Jmc71jQObFg8I/vWNACR8p/z+9Y0BpgedaDL1jQJtripcMvWNA9rektti8Y0AJ1XJNDb1jQEjMvsGqvGNABGBl53G8Y0Cd6o9s2bxjQGgfManZvGNART6dp0G9Y0Ck1NTl2bxjQEZoAEAOvWNAF3C5xg29Y0BVxPtqQb1jQN/nx7ITvWNAPV4bX9q8Y0CFzv4/Dr1jQPhN7PUOvWNAYtdlgnS8Y0AWumSCdLxjQLGeAhXbvGNAhtn5n6i8Y0DuECMlEL1jQGHoTzh1vGNABUMIBkS9Y0AQ0wy/dLxjQKUHi9yovGNA8UttnhC9Y0CcPs8LqrxjQNpbwTbdvGNA3pYYgEe8Y0CN9voeD7xjQEgJcUiqvGNAWnXBNt28Y0DH1uIqdrxjQLjTIfrcvGNAN+tItKu8Y0BBLh0vRLxjQDDHp3ervGNAhl79i668Y0C3nFfTd7xjQK6h4BvfvGNAsEUTWne8Y0BDitVxRb1jQLZ0+GXevGNAt9i6lne8Y0ATOUSJeLxjQMaX7IuuvGNAliYpld+8Y0DbYg52E71jQIdQ33lGu2NAHWRgbnq8Y0D6YwarerxjQI3EoyFFvGNAAS6pEq68Y0C97Oy24bxjQFpOH7uvvGNAEpcRERa9Y0Bt/RVGfbxjQCW6UxXkvGNAvvjWQa+8Y0A0r/Bge7xjQDsHLFayvGNA270/oLG8Y0CXof37fbxjQK8uE/AWvGNA7uZ0I+a7Y0B7Ob7yTLxjQPytE9wcvGNAwevCZnO9Y0A=\",\"dtype\":\"float64\",\"shape\":[94]},\"y\":{\"__ndarray__\":\"qrR1gRj/7L+4DYsKP+vqv9Epp5Sakuq/sxmzOeJy6r/OEnJtZ7vov6vKIanIHOi/6feNzsnn579AeNoJouDmv+HDq/3MsOa/V/44a4Vp5r/OVYsmyEDmv3yc48MSEea/Kf7OXi/d5b9dDAQEcqnlvxp3TAIYp+S/hfTGN4YG4b85GaTT0w+jP0oNfXncwLY/Kw/wQq3gvT8wrCD06NbDP+RQf4h2psQ/nV0kzDJLxj9EFHRgwBrHP7ZjmVAggcc/8WpMkIDtxz9LMDyXi2rIPwOe8HfxK8k/7KIBQkabyT/pSjUfbvjJPz5fBDCcsco/QTNt+6FEyz9UEyjg8J7LPzAAwxy50M0/ovcERfpNzz/LuPRGgrHPP7OYjZTDTdA/Fqb/1nGY0D9/TCSJhs/QP5WOzZ59JdE/toZ2bE1E0T++c5lEtfPRP4np+Zj0RNI/a04d2Mr60j851/82TP/TP+WabZaTGdQ/8B9fgDFo1D9ZFaZVZLPUP7r2EyF37dQ/lVBMfrI61T+eYHj5gWvVPxaEnjk0rdU/Lm9PWQbr1T/AL3mJSHrXP+8Uhz69p9c/hDWzDU/h1z+UGWTI7C3YPx4e1IMWd9g/87LBP3as2D+xxt/5DOHYP1pTuhxhgNk//Fu2+e692j/9rx+9QFTbP0BWBrEVg9s/busL56QT3D+22hElO0TcP1ej+fsvh90/pGSqs5L33T/dyajp5STeP/ZW02lfqd8/rq9fq5zx3z8zCbWquybhP9yp3A/RT+E/uyzmyq1h4T/LbUYhhrPhPzWaDe93XuI/MuHt3rIY4z9nWCES/zTjP8N8CfANQuM/Oo0RLyWS4z9VItYDuKXjP+ewg+b05+Q/IZGGBIVx5T+zTO1lnULmP8XHTUgviuY/CXN/QWyt5j9Cd/4WSwjnP9umSEN3+uc/+jbVQuBI6D+cTLi2IqPoP+RL5e/z5uk/UgZqrIKC7D/Nupz2a/jsP6O72B3LD/E/V8GEYMAaxz8=\",\"dtype\":\"float64\",\"shape\":[94]}},\"selected\":{\"id\":\"1695\",\"type\":\"Selection\"},\"selection_policy\":{\"id\":\"1696\",\"type\":\"UnionRenderers\"}},\"id\":\"1623\",\"type\":\"ColumnDataSource\"},{\"attributes\":{\"click_policy\":\"hide\",\"items\":[{\"id\":\"1643\",\"type\":\"LegendItem\"},{\"id\":\"1644\",\"type\":\"LegendItem\"},{\"id\":\"1645\",\"type\":\"LegendItem\"}]},\"id\":\"1646\",\"type\":\"Legend\"},{\"attributes\":{},\"id\":\"1695\",\"type\":\"Selection\"},{\"attributes\":{},\"id\":\"1613\",\"type\":\"HelpTool\"},{\"attributes\":{\"callback\":null,\"tooltips\":[[\"x\",\"@x\"],[\"y\",\"@y\"],[\"label\",\"@label\"]]},\"id\":\"1622\",\"type\":\"HoverTool\"},{\"attributes\":{\"column_name\":\"label\",\"group\":\"sport\"},\"id\":\"1637\",\"type\":\"GroupFilter\"},{\"attributes\":{},\"id\":\"1609\",\"type\":\"WheelZoomTool\"},{\"attributes\":{\"data_source\":{\"id\":\"1623\",\"type\":\"ColumnDataSource\"},\"glyph\":{\"id\":\"1628\",\"type\":\"Circle\"},\"hover_glyph\":null,\"muted_glyph\":null,\"nonselection_glyph\":{\"id\":\"1629\",\"type\":\"Circle\"},\"selection_glyph\":null,\"view\":{\"id\":\"1626\",\"type\":\"CDSView\"}},\"id\":\"1630\",\"type\":\"GlyphRenderer\"},{\"attributes\":{\"column_name\":\"label\",\"group\":\"control\"},\"id\":\"1631\",\"type\":\"GroupFilter\"},{\"attributes\":{},\"id\":\"1691\",\"type\":\"BasicTickFormatter\"},{\"attributes\":{},\"id\":\"1596\",\"type\":\"LinearScale\"},{\"attributes\":{},\"id\":\"1604\",\"type\":\"BasicTicker\"},{\"attributes\":{\"filters\":[{\"id\":\"1625\",\"type\":\"GroupFilter\"}],\"source\":{\"id\":\"1623\",\"type\":\"ColumnDataSource\"}},\"id\":\"1626\",\"type\":\"CDSView\"},{\"attributes\":{},\"id\":\"1599\",\"type\":\"BasicTicker\"},{\"attributes\":{\"ticker\":{\"id\":\"1599\",\"type\":\"BasicTicker\"}},\"id\":\"1602\",\"type\":\"Grid\"},{\"attributes\":{\"dimension\":1,\"ticker\":{\"id\":\"1604\",\"type\":\"BasicTicker\"}},\"id\":\"1607\",\"type\":\"Grid\"},{\"attributes\":{\"active_drag\":\"auto\",\"active_inspect\":\"auto\",\"active_multi\":null,\"active_scroll\":\"auto\",\"active_tap\":\"auto\",\"tools\":[{\"id\":\"1608\",\"type\":\"PanTool\"},{\"id\":\"1609\",\"type\":\"WheelZoomTool\"},{\"id\":\"1610\",\"type\":\"BoxZoomTool\"},{\"id\":\"1611\",\"type\":\"SaveTool\"},{\"id\":\"1612\",\"type\":\"ResetTool\"},{\"id\":\"1613\",\"type\":\"HelpTool\"},{\"id\":\"1622\",\"type\":\"HoverTool\"}]},\"id\":\"1614\",\"type\":\"Toolbar\"},{\"attributes\":{\"axis_label\":\"PC1\",\"formatter\":{\"id\":\"1689\",\"type\":\"BasicTickFormatter\"},\"ticker\":{\"id\":\"1599\",\"type\":\"BasicTicker\"}},\"id\":\"1598\",\"type\":\"LinearAxis\"},{\"attributes\":{\"fill_alpha\":{\"value\":0.1},\"fill_color\":{\"value\":\"#1f77b4\"},\"line_alpha\":{\"value\":0.1},\"line_color\":{\"value\":\"#1f77b4\"},\"x\":{\"field\":\"x\"},\"y\":{\"field\":\"y\"}},\"id\":\"1629\",\"type\":\"Circle\"},{\"attributes\":{\"callback\":null},\"id\":\"1590\",\"type\":\"DataRange1d\"}],\"root_ids\":[\"1587\"]},\"title\":\"Bokeh Application\",\"version\":\"1.4.0\"}};\n",
       "  var render_items = [{\"docid\":\"8071b637-fa2e-4ad7-b162-34be3202238c\",\"roots\":{\"1587\":\"3c5feb2a-02ce-439d-9f92-93402d559a9b\"}}];\n",
       "  root.Bokeh.embed.embed_items_notebook(docs_json, render_items);\n",
       "\n",
       "  }\n",
       "  if (root.Bokeh !== undefined) {\n",
       "    embed_document(root);\n",
       "  } else {\n",
       "    var attempts = 0;\n",
       "    var timer = setInterval(function(root) {\n",
       "      if (root.Bokeh !== undefined) {\n",
       "        clearInterval(timer);\n",
       "        embed_document(root);\n",
       "      } else {\n",
       "        attempts++;\n",
       "        if (attempts > 100) {\n",
       "          clearInterval(timer);\n",
       "          console.log(\"Bokeh: ERROR: Unable to run BokehJS code because BokehJS library is missing\");\n",
       "        }\n",
       "      }\n",
       "    }, 10, root)\n",
       "  }\n",
       "})(window);"
      ],
      "application/vnd.bokehjs_exec.v0+json": ""
     },
     "metadata": {
      "application/vnd.bokehjs_exec.v0+json": {
       "id": "1587"
      }
     },
     "output_type": "display_data"
    }
   ],
   "source": [
    "p5 = hl.plot.scatter(per_gene.pca_rare[0],\n",
    "                     per_gene.pca_rare[1],\n",
    "                     label=per_gene.group,\n",
    "                     title='PCA - any variants rare in Polish population', xlabel='PC1', ylabel='PC2')\n",
    "show(p5)"
   ]
  },
  {
   "cell_type": "markdown",
   "id": "42906c44-19be-41c8-9671-af6d64cce10e",
   "metadata": {
    "tags": []
   },
   "source": [
    "### Annotate the per gene table with phenotypes:"
   ]
  },
  {
   "cell_type": "code",
   "execution_count": 56,
   "id": "14e02bef-ddb2-4fc9-8b32-5caf420d9770",
   "metadata": {},
   "outputs": [],
   "source": [
    "gb = genebass.cols()"
   ]
  },
  {
   "cell_type": "code",
   "execution_count": 56,
   "id": "d8cba993-1ff8-4811-8ba8-d67902e36e80",
   "metadata": {},
   "outputs": [
    {
     "ename": "AttributeError",
     "evalue": "StructExpression instance has no field, method, or property 'index_rows'\n    Hint: use 'describe()' to show the names of all data fields.",
     "output_type": "error",
     "traceback": [
      "\u001b[0;31m---------------------------------------------------------------------------\u001b[0m",
      "\u001b[0;31mAttributeError\u001b[0m                            Traceback (most recent call last)",
      "Cell \u001b[0;32mIn[56], line 2\u001b[0m\n\u001b[1;32m      1\u001b[0m gb \u001b[38;5;241m=\u001b[39m genebass\u001b[38;5;241m.\u001b[39mcols()\n\u001b[0;32m----> 2\u001b[0m per_gene \u001b[38;5;241m=\u001b[39m \u001b[43mper_gene\u001b[49m\u001b[38;5;241;43m.\u001b[39;49m\u001b[43mindex_rows\u001b[49m(per_gene\u001b[38;5;241m.\u001b[39mwithin_gene)\n",
      "File \u001b[0;32m/net/pr2/projects/plgrid/plggneuromol/imdik-zekanowski-sportwgs/venv-hail-0.2.105/lib/python3.10/site-packages/hail/expr/expressions/typed_expressions.py:1773\u001b[0m, in \u001b[0;36mStructExpression.__getattr__\u001b[0;34m(self, item)\u001b[0m\n\u001b[1;32m   1771\u001b[0m     \u001b[38;5;28;01mreturn\u001b[39;00m \u001b[38;5;28mself\u001b[39m\u001b[38;5;241m.\u001b[39m\u001b[38;5;18m__dict__\u001b[39m[item]\n\u001b[1;32m   1772\u001b[0m \u001b[38;5;28;01melse\u001b[39;00m:\n\u001b[0;32m-> 1773\u001b[0m     \u001b[38;5;28;01mraise\u001b[39;00m \u001b[38;5;167;01mAttributeError\u001b[39;00m(get_nice_attr_error(\u001b[38;5;28mself\u001b[39m, item))\n",
      "\u001b[0;31mAttributeError\u001b[0m: StructExpression instance has no field, method, or property 'index_rows'\n    Hint: use 'describe()' to show the names of all data fields."
     ]
    }
   ],
   "source": [
    "per_gene = per_gene.index_rows(per_gene.within_gene)"
   ]
  },
  {
   "cell_type": "code",
   "execution_count": 55,
   "id": "1aef3fc7-810d-45e9-8a62-4c689cf2c78f",
   "metadata": {},
   "outputs": [
    {
     "ename": "ExpressionException",
     "evalue": "Key type mismatch: cannot index table with given expressions:\n  Table key:         str, str, str, str, str\n  Index Expressions: str",
     "output_type": "error",
     "traceback": [
      "\u001b[0;31m---------------------------------------------------------------------------\u001b[0m",
      "\u001b[0;31mTableIndexKeyError\u001b[0m                        Traceback (most recent call last)",
      "File \u001b[0;32m/net/pr2/projects/plgrid/plggneuromol/imdik-zekanowski-sportwgs/venv-hail-0.2.105/lib/python3.10/site-packages/hail/table.py:1778\u001b[0m, in \u001b[0;36mTable.index\u001b[0;34m(self, all_matches, *exprs)\u001b[0m\n\u001b[1;32m   1777\u001b[0m \u001b[38;5;28;01mtry\u001b[39;00m:\n\u001b[0;32m-> 1778\u001b[0m     \u001b[38;5;28;01mreturn\u001b[39;00m \u001b[38;5;28;43mself\u001b[39;49m\u001b[38;5;241;43m.\u001b[39;49m\u001b[43m_index\u001b[49m\u001b[43m(\u001b[49m\u001b[38;5;241;43m*\u001b[39;49m\u001b[43mexprs\u001b[49m\u001b[43m,\u001b[49m\u001b[43m \u001b[49m\u001b[43mall_matches\u001b[49m\u001b[38;5;241;43m=\u001b[39;49m\u001b[43mall_matches\u001b[49m\u001b[43m)\u001b[49m\n\u001b[1;32m   1779\u001b[0m \u001b[38;5;28;01mexcept\u001b[39;00m TableIndexKeyError \u001b[38;5;28;01mas\u001b[39;00m err:\n",
      "File \u001b[0;32m/net/pr2/projects/plgrid/plggneuromol/imdik-zekanowski-sportwgs/venv-hail-0.2.105/lib/python3.10/site-packages/hail/table.py:1852\u001b[0m, in \u001b[0;36mTable._index\u001b[0;34m(self, all_matches, *exprs)\u001b[0m\n\u001b[1;32m   1851\u001b[0m     \u001b[38;5;28;01mif\u001b[39;00m \u001b[38;5;129;01mnot\u001b[39;00m is_interval:\n\u001b[0;32m-> 1852\u001b[0m         \u001b[38;5;28;01mraise\u001b[39;00m TableIndexKeyError(\u001b[38;5;28mself\u001b[39m\u001b[38;5;241m.\u001b[39mkey\u001b[38;5;241m.\u001b[39mdtype, exprs)\n\u001b[1;32m   1854\u001b[0m uid \u001b[38;5;241m=\u001b[39m Env\u001b[38;5;241m.\u001b[39mget_uid()\n",
      "\u001b[0;31mTableIndexKeyError\u001b[0m: ",
      "\nDuring handling of the above exception, another exception occurred:\n",
      "\u001b[0;31mExpressionException\u001b[0m                       Traceback (most recent call last)",
      "Cell \u001b[0;32mIn[55], line 8\u001b[0m\n\u001b[1;32m      6\u001b[0m \u001b[38;5;28;01mfor\u001b[39;00m o \u001b[38;5;129;01min\u001b[39;00m options:\n\u001b[1;32m      7\u001b[0m     res \u001b[38;5;241m=\u001b[39m gb\u001b[38;5;241m.\u001b[39mexplode(gb[o])\n\u001b[0;32m----> 8\u001b[0m     res \u001b[38;5;241m=\u001b[39m \u001b[43mres\u001b[49m\u001b[38;5;241;43m.\u001b[39;49m\u001b[43mindex\u001b[49m\u001b[43m(\u001b[49m\u001b[43mres\u001b[49m\u001b[43m[\u001b[49m\u001b[43mo\u001b[49m\u001b[43m]\u001b[49m\u001b[43m)\u001b[49m\n\u001b[1;32m      9\u001b[0m     per_gene \u001b[38;5;241m=\u001b[39m per_gene\u001b[38;5;241m.\u001b[39mannotate_rows(\n\u001b[1;32m     10\u001b[0m        o \u001b[38;5;241m=\u001b[39m res\u001b[38;5;241m.\u001b[39mindex(per_gene\u001b[38;5;241m.\u001b[39mrows()[\u001b[38;5;124m'\u001b[39m\u001b[38;5;124mwithin_gene\u001b[39m\u001b[38;5;124m'\u001b[39m], all_matches \u001b[38;5;241m=\u001b[39m \u001b[38;5;28;01mTrue\u001b[39;00m)[\u001b[38;5;124m'\u001b[39m\u001b[38;5;124mdescription\u001b[39m\u001b[38;5;124m'\u001b[39m]\n\u001b[1;32m     11\u001b[0m     )\n",
      "File \u001b[0;32m/net/pr2/projects/plgrid/plggneuromol/imdik-zekanowski-sportwgs/venv-hail-0.2.105/lib/python3.10/site-packages/hail/table.py:1780\u001b[0m, in \u001b[0;36mTable.index\u001b[0;34m(self, all_matches, *exprs)\u001b[0m\n\u001b[1;32m   1778\u001b[0m     \u001b[38;5;28;01mreturn\u001b[39;00m \u001b[38;5;28mself\u001b[39m\u001b[38;5;241m.\u001b[39m_index(\u001b[38;5;241m*\u001b[39mexprs, all_matches\u001b[38;5;241m=\u001b[39mall_matches)\n\u001b[1;32m   1779\u001b[0m \u001b[38;5;28;01mexcept\u001b[39;00m TableIndexKeyError \u001b[38;5;28;01mas\u001b[39;00m err:\n\u001b[0;32m-> 1780\u001b[0m     \u001b[38;5;28;01mraise\u001b[39;00m ExpressionException(\u001b[38;5;124mf\u001b[39m\u001b[38;5;124m\"\u001b[39m\u001b[38;5;124mKey type mismatch: cannot index table with given expressions:\u001b[39m\u001b[38;5;130;01m\\n\u001b[39;00m\u001b[38;5;124m\"\u001b[39m\n\u001b[1;32m   1781\u001b[0m                               \u001b[38;5;124mf\u001b[39m\u001b[38;5;124m\"\u001b[39m\u001b[38;5;124m  Table key:         \u001b[39m\u001b[38;5;132;01m{\u001b[39;00m\u001b[38;5;124m'\u001b[39m\u001b[38;5;124m, \u001b[39m\u001b[38;5;124m'\u001b[39m\u001b[38;5;241m.\u001b[39mjoin(\u001b[38;5;28mstr\u001b[39m(t) \u001b[38;5;28;01mfor\u001b[39;00m t \u001b[38;5;129;01min\u001b[39;00m err\u001b[38;5;241m.\u001b[39mkey_type\u001b[38;5;241m.\u001b[39mvalues()) \u001b[38;5;129;01mor\u001b[39;00m \u001b[38;5;124m'\u001b[39m\u001b[38;5;124m<<<empty key>>>\u001b[39m\u001b[38;5;124m'\u001b[39m\u001b[38;5;132;01m}\u001b[39;00m\u001b[38;5;130;01m\\n\u001b[39;00m\u001b[38;5;124m\"\u001b[39m\n\u001b[1;32m   1782\u001b[0m                               \u001b[38;5;124mf\u001b[39m\u001b[38;5;124m\"\u001b[39m\u001b[38;5;124m  Index Expressions: \u001b[39m\u001b[38;5;132;01m{\u001b[39;00m\u001b[38;5;124m'\u001b[39m\u001b[38;5;124m, \u001b[39m\u001b[38;5;124m'\u001b[39m\u001b[38;5;241m.\u001b[39mjoin(\u001b[38;5;28mstr\u001b[39m(e\u001b[38;5;241m.\u001b[39mdtype) \u001b[38;5;28;01mfor\u001b[39;00m e \u001b[38;5;129;01min\u001b[39;00m err\u001b[38;5;241m.\u001b[39mindex_expressions)\u001b[38;5;132;01m}\u001b[39;00m\u001b[38;5;124m\"\u001b[39m)\n",
      "\u001b[0;31mExpressionException\u001b[0m: Key type mismatch: cannot index table with given expressions:\n  Table key:         str, str, str, str, str\n  Index Expressions: str"
     ]
    }
   ],
   "source": [
    "options = ['below_7','below_6','below_5']\n",
    "\n",
    "for o in options:\n",
    "    res = gb.explode(gb[o])\n",
    "    res = res.index(res[o])\n",
    "    per_gene = per_gene.annotate_rows(\n",
    "       o = res.index(per_gene.rows()['within_gene'], all_matches = True)['description']\n",
    "    )"
   ]
  },
  {
   "cell_type": "code",
   "execution_count": null,
   "id": "47c8decc-1c2e-4bba-aac2-c40a5066c667",
   "metadata": {},
   "outputs": [],
   "source": [
    "genes.annotate(hpo = hpo.index(genes['hg38.kgXref.geneSymbol'], all_matches = True)['f1'])\n",
    "\n",
    "genebass = genebass.select_cols(\n",
    "    genebass.below_7,\n",
    "    genebass.below_6,\n",
    "    genebass.below_5,\n",
    "    genebass.description,\n",
    "    genebass.description_more,\n",
    "    genebass.coding_description\n",
    ")\n",
    "\n",
    "per_gene = per_gene.annotate_rows(\n",
    "    phenos_below_7 = hl.,\n",
    "    phenos_below_6 = ,\n",
    "    phenos_below_5 = "
   ]
  },
  {
   "cell_type": "code",
   "execution_count": null,
   "id": "7d0f2d3a-6304-41e2-acce-6ad1085487a3",
   "metadata": {},
   "outputs": [],
   "source": [
    "genebass = genebass.select_cols(\n",
    "    genebass.below_7,\n",
    "    genebass.below_6,\n",
    "    genebass.below_5,\n",
    "    genebass.description,\n",
    "    genebass.description_more,\n",
    "    genebass.coding_description\n",
    ")"
   ]
  },
  {
   "cell_type": "code",
   "execution_count": null,
   "id": "8c3aa44c-8981-48e1-835c-3358055a8791",
   "metadata": {},
   "outputs": [],
   "source": [
    "burden_lof = mt.filter_rows(mt['gnomad_v_3_1']['vep']['transcript_consequences']['lof'].contains('HC')) #option 2\n",
    "burden_lof.write('/net/pr2/projects/plgrid/plggneuromol/imdik-zekanowski-sportwgs/data/hail-mts/for_burden_lof.mt')"
   ]
  },
  {
   "cell_type": "code",
   "execution_count": null,
   "id": "6ead016e-9feb-47b9-bf4c-e9dc65166207",
   "metadata": {},
   "outputs": [],
   "source": [
    "b_cadd = hl.read_matrix_table('/net/pr2/projects/plgrid/plggneuromol/imdik-zekanowski-sportwgs/data/hail-mts/for_burden_cadd.mt')\n",
    "b_lof = hl.read_matrix_table('/net/pr2/projects/plgrid/plggneuromol/imdik-zekanowski-sportwgs/data/hail-mts/for_burden_lof.mt')"
   ]
  },
  {
   "cell_type": "code",
   "execution_count": null,
   "id": "820801df-65c4-48a7-891a-467ac38e29f4",
   "metadata": {},
   "outputs": [],
   "source": [
    "per_gene_cadd = b_cadd.group_rows_by(b_cadd.within_gene).aggregate(\n",
    "    burden_cadd_phred = hl.agg.sum(b_cadd.cadd_entry)\n",
    ")\n",
    "\n",
    "per_gene_lof = b_lof.group_rows_by(b_lof.within_gene).aggregate(\n",
    "    lof = hl.agg.sum(b_lof.GT.n_alt_alleles()\n",
    "                    )\n",
    ")"
   ]
  },
  {
   "cell_type": "code",
   "execution_count": null,
   "id": "97cf78b9-f4f9-442e-8d43-8858fdb8aec0",
   "metadata": {},
   "outputs": [],
   "source": [
    "per_gene_cadd.write('/net/pr2/projects/plgrid/plggneuromol/imdik-zekanowski-sportwgs/data/hail-mts/per_gene_burden_cadd.mt')\n",
    "per_gene_lof.write('/net/pr2/projects/plgrid/plggneuromol/imdik-zekanowski-sportwgs/data/hail-mts/per_gene_burden_lof.mt')"
   ]
  },
  {
   "cell_type": "markdown",
   "id": "a5d6fff4-edff-4b00-886d-4e943135cf76",
   "metadata": {},
   "source": [
    "### Calculate burden statistics"
   ]
  },
  {
   "cell_type": "code",
   "execution_count": 4,
   "id": "408c077b-6582-4dd4-a792-0f1c518f4167",
   "metadata": {},
   "outputs": [],
   "source": [
    "per_gene_cadd = hl.read_matrix_table('/net/pr2/projects/plgrid/plggneuromol/imdik-zekanowski-sportwgs/data/hail-mts/per_gene_burden_cadd.mt')\n",
    "per_gene_lof = hl.read_matrix_table('/net/pr2/projects/plgrid/plggneuromol/imdik-zekanowski-sportwgs/data/hail-mts/per_gene_burden_lof.mt')"
   ]
  },
  {
   "cell_type": "code",
   "execution_count": 5,
   "id": "81b12d5e-22bb-42fa-9cde-8a1e09e94080",
   "metadata": {},
   "outputs": [
    {
     "data": {
      "text/plain": [
       "(7432, 219)"
      ]
     },
     "execution_count": 5,
     "metadata": {},
     "output_type": "execute_result"
    }
   ],
   "source": [
    "per_gene_cadd.count()"
   ]
  },
  {
   "cell_type": "code",
   "execution_count": 6,
   "id": "a909f450-1ff1-4f8e-8570-863f8474bdb2",
   "metadata": {},
   "outputs": [
    {
     "data": {
      "text/plain": [
       "(1018, 219)"
      ]
     },
     "execution_count": 6,
     "metadata": {},
     "output_type": "execute_result"
    }
   ],
   "source": [
    "per_gene_lof.count()"
   ]
  },
  {
   "cell_type": "code",
   "execution_count": 70,
   "id": "5740895f-6373-4e34-b1db-35b5e47dcf2a",
   "metadata": {},
   "outputs": [
    {
     "name": "stderr",
     "output_type": "stream",
     "text": [
      "2023-01-27 11:36:01.702 Hail: INFO: wrote matrix table with 13 rows and 219 columns in 1 partition to /localfs/1726769/pgc.ht\n",
      "2023-01-27 11:36:28.114 Hail: INFO: wrote matrix table with 0 rows and 219 columns in 1 partition to /localfs/1726769/pgl.ht\n"
     ]
    }
   ],
   "source": [
    "# annotate per_gene lof and cadd table with gene lists\n",
    "phenos = {\n",
    "    'gout':hl.set([\"ABCG2\", \"ADH1C\"]),\n",
    "    'retic':hl.set([\"CALR\", \"R3HDM4\", \"RNF10\", \"TLN2\",\n",
    "         \"IFRD2\", \"GMPR\", \"ENG\", \"EIF2AK1\"]),\n",
    "    'crit':hl.set([\"CALR\", \"JAK2\", \"THPO\", \"CHEK2\",\n",
    "        \"TUBB1\", \"LY75\", \"PTPRH\", \"LY75-CD302\",\n",
    "        \"MPL\", \"TET2\"]),\n",
    "    'fvc':hl.set([\"SMAD6\", \"ADAMTSL4\", \"DDR2\", \"IRS1\"]),\n",
    "    'fev':hl.set([\"KDM5B\",\"ADAMTSL4\",\"ANKRD12\",\"PSMD13\",\"SUPT6H\",\"RIF1\",\"TNRC6B\",\"IRS1\"])\n",
    "}\n",
    "\n",
    "pgc = per_gene_cadd.annotate_rows(**{phen:\n",
    "                                     phenos[phen].contains(per_gene_cadd.within_gene)\n",
    "                                     for phen in phenos.keys()})\n",
    "pgc = pgc.filter_rows(\n",
    "    hl.any(*[pgc[phen] for phen in phenos.keys()])\n",
    ")\n",
    "pgc = pgc.naive_coalesce(1)\n",
    "pgc = pgc.write(localfs_path+'pgc.ht')\n",
    "\n",
    "\n",
    "pgl = per_gene_lof.annotate_rows(**{phen:\n",
    "                                     phenos[phen].contains(per_gene_lof.within_gene)\n",
    "                                     for phen in phenos.keys()})\n",
    "pgl = pgl.filter_rows(\n",
    "    hl.any(*[pgl[phen] for phen in phenos.keys()])\n",
    ")\n",
    "pgl = pgl.naive_coalesce(1)\n",
    "pgl = pgl.write(localfs_path+'pgl.ht') #there are not lof genes in the lists, so this is empty"
   ]
  },
  {
   "cell_type": "code",
   "execution_count": 99,
   "id": "d5286ef9-3e13-4800-ac4d-7ad50638b167",
   "metadata": {},
   "outputs": [],
   "source": [
    "pgc = hl.read_matrix_table(localfs_path+'pgc.ht')"
   ]
  },
  {
   "cell_type": "code",
   "execution_count": 98,
   "id": "642f971f-4603-4a7e-a2ec-03a35fa87a9d",
   "metadata": {},
   "outputs": [
    {
     "data": {
      "text/html": [
       "<table><thead><tr><td style=\"white-space: nowrap; max-width: 500px; overflow: hidden; text-overflow: ellipsis; \" colspan=\"1\"><div style=\"text-align: left;\"></div></td><td style=\"white-space: nowrap; max-width: 500px; overflow: hidden; text-overflow: ellipsis; \" colspan=\"1\"><div style=\"text-align: left;\"></div></td><td style=\"white-space: nowrap; max-width: 500px; overflow: hidden; text-overflow: ellipsis; \" colspan=\"1\"><div style=\"text-align: left;\"></div></td><td style=\"white-space: nowrap; max-width: 500px; overflow: hidden; text-overflow: ellipsis; \" colspan=\"1\"><div style=\"text-align: left;\"></div></td><td style=\"white-space: nowrap; max-width: 500px; overflow: hidden; text-overflow: ellipsis; \" colspan=\"1\"><div style=\"text-align: left;\"></div></td><td style=\"white-space: nowrap; max-width: 500px; overflow: hidden; text-overflow: ellipsis; \" colspan=\"1\"><div style=\"text-align: left;\"></div></td></tr><tr><td style=\"white-space: nowrap; max-width: 500px; overflow: hidden; text-overflow: ellipsis; \" colspan=\"1\"><div style=\"text-align: left;border-bottom: solid 2px #000; padding-bottom: 5px\">within_gene</div></td><td style=\"white-space: nowrap; max-width: 500px; overflow: hidden; text-overflow: ellipsis; \" colspan=\"1\"><div style=\"text-align: left;border-bottom: solid 2px #000; padding-bottom: 5px\">gout</div></td><td style=\"white-space: nowrap; max-width: 500px; overflow: hidden; text-overflow: ellipsis; \" colspan=\"1\"><div style=\"text-align: left;border-bottom: solid 2px #000; padding-bottom: 5px\">retic</div></td><td style=\"white-space: nowrap; max-width: 500px; overflow: hidden; text-overflow: ellipsis; \" colspan=\"1\"><div style=\"text-align: left;border-bottom: solid 2px #000; padding-bottom: 5px\">crit</div></td><td style=\"white-space: nowrap; max-width: 500px; overflow: hidden; text-overflow: ellipsis; \" colspan=\"1\"><div style=\"text-align: left;border-bottom: solid 2px #000; padding-bottom: 5px\">fvc</div></td><td style=\"white-space: nowrap; max-width: 500px; overflow: hidden; text-overflow: ellipsis; \" colspan=\"1\"><div style=\"text-align: left;border-bottom: solid 2px #000; padding-bottom: 5px\">fev</div></td></tr><tr><td style=\"white-space: nowrap; max-width: 500px; overflow: hidden; text-overflow: ellipsis; text-align: left;\">str</td><td style=\"white-space: nowrap; max-width: 500px; overflow: hidden; text-overflow: ellipsis; text-align: left;\">bool</td><td style=\"white-space: nowrap; max-width: 500px; overflow: hidden; text-overflow: ellipsis; text-align: left;\">bool</td><td style=\"white-space: nowrap; max-width: 500px; overflow: hidden; text-overflow: ellipsis; text-align: left;\">bool</td><td style=\"white-space: nowrap; max-width: 500px; overflow: hidden; text-overflow: ellipsis; text-align: left;\">bool</td><td style=\"white-space: nowrap; max-width: 500px; overflow: hidden; text-overflow: ellipsis; text-align: left;\">bool</td></tr>\n",
       "</thead><tbody><tr><td style=\"white-space: nowrap; max-width: 500px; overflow: hidden; text-overflow: ellipsis; \">&quot;ADAMTSL4&quot;</td><td style=\"white-space: nowrap; max-width: 500px; overflow: hidden; text-overflow: ellipsis; \">False</td><td style=\"white-space: nowrap; max-width: 500px; overflow: hidden; text-overflow: ellipsis; \">False</td><td style=\"white-space: nowrap; max-width: 500px; overflow: hidden; text-overflow: ellipsis; \">False</td><td style=\"white-space: nowrap; max-width: 500px; overflow: hidden; text-overflow: ellipsis; \">True</td><td style=\"white-space: nowrap; max-width: 500px; overflow: hidden; text-overflow: ellipsis; \">True</td></tr>\n",
       "<tr><td style=\"white-space: nowrap; max-width: 500px; overflow: hidden; text-overflow: ellipsis; \">&quot;EIF2AK1&quot;</td><td style=\"white-space: nowrap; max-width: 500px; overflow: hidden; text-overflow: ellipsis; \">False</td><td style=\"white-space: nowrap; max-width: 500px; overflow: hidden; text-overflow: ellipsis; \">True</td><td style=\"white-space: nowrap; max-width: 500px; overflow: hidden; text-overflow: ellipsis; \">False</td><td style=\"white-space: nowrap; max-width: 500px; overflow: hidden; text-overflow: ellipsis; \">False</td><td style=\"white-space: nowrap; max-width: 500px; overflow: hidden; text-overflow: ellipsis; \">False</td></tr>\n",
       "<tr><td style=\"white-space: nowrap; max-width: 500px; overflow: hidden; text-overflow: ellipsis; \">&quot;ENG&quot;</td><td style=\"white-space: nowrap; max-width: 500px; overflow: hidden; text-overflow: ellipsis; \">False</td><td style=\"white-space: nowrap; max-width: 500px; overflow: hidden; text-overflow: ellipsis; \">True</td><td style=\"white-space: nowrap; max-width: 500px; overflow: hidden; text-overflow: ellipsis; \">False</td><td style=\"white-space: nowrap; max-width: 500px; overflow: hidden; text-overflow: ellipsis; \">False</td><td style=\"white-space: nowrap; max-width: 500px; overflow: hidden; text-overflow: ellipsis; \">False</td></tr>\n",
       "<tr><td style=\"white-space: nowrap; max-width: 500px; overflow: hidden; text-overflow: ellipsis; \">&quot;GMPR&quot;</td><td style=\"white-space: nowrap; max-width: 500px; overflow: hidden; text-overflow: ellipsis; \">False</td><td style=\"white-space: nowrap; max-width: 500px; overflow: hidden; text-overflow: ellipsis; \">True</td><td style=\"white-space: nowrap; max-width: 500px; overflow: hidden; text-overflow: ellipsis; \">False</td><td style=\"white-space: nowrap; max-width: 500px; overflow: hidden; text-overflow: ellipsis; \">False</td><td style=\"white-space: nowrap; max-width: 500px; overflow: hidden; text-overflow: ellipsis; \">False</td></tr>\n",
       "<tr><td style=\"white-space: nowrap; max-width: 500px; overflow: hidden; text-overflow: ellipsis; \">&quot;KDM5B&quot;</td><td style=\"white-space: nowrap; max-width: 500px; overflow: hidden; text-overflow: ellipsis; \">False</td><td style=\"white-space: nowrap; max-width: 500px; overflow: hidden; text-overflow: ellipsis; \">False</td><td style=\"white-space: nowrap; max-width: 500px; overflow: hidden; text-overflow: ellipsis; \">False</td><td style=\"white-space: nowrap; max-width: 500px; overflow: hidden; text-overflow: ellipsis; \">False</td><td style=\"white-space: nowrap; max-width: 500px; overflow: hidden; text-overflow: ellipsis; \">True</td></tr>\n",
       "<tr><td style=\"white-space: nowrap; max-width: 500px; overflow: hidden; text-overflow: ellipsis; \">&quot;LY75&quot;</td><td style=\"white-space: nowrap; max-width: 500px; overflow: hidden; text-overflow: ellipsis; \">False</td><td style=\"white-space: nowrap; max-width: 500px; overflow: hidden; text-overflow: ellipsis; \">False</td><td style=\"white-space: nowrap; max-width: 500px; overflow: hidden; text-overflow: ellipsis; \">True</td><td style=\"white-space: nowrap; max-width: 500px; overflow: hidden; text-overflow: ellipsis; \">False</td><td style=\"white-space: nowrap; max-width: 500px; overflow: hidden; text-overflow: ellipsis; \">False</td></tr>\n",
       "<tr><td style=\"white-space: nowrap; max-width: 500px; overflow: hidden; text-overflow: ellipsis; \">&quot;LY75-CD302&quot;</td><td style=\"white-space: nowrap; max-width: 500px; overflow: hidden; text-overflow: ellipsis; \">False</td><td style=\"white-space: nowrap; max-width: 500px; overflow: hidden; text-overflow: ellipsis; \">False</td><td style=\"white-space: nowrap; max-width: 500px; overflow: hidden; text-overflow: ellipsis; \">True</td><td style=\"white-space: nowrap; max-width: 500px; overflow: hidden; text-overflow: ellipsis; \">False</td><td style=\"white-space: nowrap; max-width: 500px; overflow: hidden; text-overflow: ellipsis; \">False</td></tr>\n",
       "<tr><td style=\"white-space: nowrap; max-width: 500px; overflow: hidden; text-overflow: ellipsis; \">&quot;PSMD13&quot;</td><td style=\"white-space: nowrap; max-width: 500px; overflow: hidden; text-overflow: ellipsis; \">False</td><td style=\"white-space: nowrap; max-width: 500px; overflow: hidden; text-overflow: ellipsis; \">False</td><td style=\"white-space: nowrap; max-width: 500px; overflow: hidden; text-overflow: ellipsis; \">False</td><td style=\"white-space: nowrap; max-width: 500px; overflow: hidden; text-overflow: ellipsis; \">False</td><td style=\"white-space: nowrap; max-width: 500px; overflow: hidden; text-overflow: ellipsis; \">True</td></tr>\n",
       "<tr><td style=\"white-space: nowrap; max-width: 500px; overflow: hidden; text-overflow: ellipsis; \">&quot;R3HDM4&quot;</td><td style=\"white-space: nowrap; max-width: 500px; overflow: hidden; text-overflow: ellipsis; \">False</td><td style=\"white-space: nowrap; max-width: 500px; overflow: hidden; text-overflow: ellipsis; \">True</td><td style=\"white-space: nowrap; max-width: 500px; overflow: hidden; text-overflow: ellipsis; \">False</td><td style=\"white-space: nowrap; max-width: 500px; overflow: hidden; text-overflow: ellipsis; \">False</td><td style=\"white-space: nowrap; max-width: 500px; overflow: hidden; text-overflow: ellipsis; \">False</td></tr>\n",
       "<tr><td style=\"white-space: nowrap; max-width: 500px; overflow: hidden; text-overflow: ellipsis; \">&quot;SMAD6&quot;</td><td style=\"white-space: nowrap; max-width: 500px; overflow: hidden; text-overflow: ellipsis; \">False</td><td style=\"white-space: nowrap; max-width: 500px; overflow: hidden; text-overflow: ellipsis; \">False</td><td style=\"white-space: nowrap; max-width: 500px; overflow: hidden; text-overflow: ellipsis; \">False</td><td style=\"white-space: nowrap; max-width: 500px; overflow: hidden; text-overflow: ellipsis; \">True</td><td style=\"white-space: nowrap; max-width: 500px; overflow: hidden; text-overflow: ellipsis; \">False</td></tr>\n",
       "</tbody></table><p style=\"background: #fdd; padding: 0.4em;\">showing top 10 rows</p>\n"
      ],
      "text/plain": [
       "+--------------+-------+-------+-------+-------+-------+\n",
       "| within_gene  |  gout | retic |  crit |   fvc |   fev |\n",
       "+--------------+-------+-------+-------+-------+-------+\n",
       "| str          |  bool |  bool |  bool |  bool |  bool |\n",
       "+--------------+-------+-------+-------+-------+-------+\n",
       "| \"ADAMTSL4\"   | False | False | False |  True |  True |\n",
       "| \"EIF2AK1\"    | False |  True | False | False | False |\n",
       "| \"ENG\"        | False |  True | False | False | False |\n",
       "| \"GMPR\"       | False |  True | False | False | False |\n",
       "| \"KDM5B\"      | False | False | False | False |  True |\n",
       "| \"LY75\"       | False | False |  True | False | False |\n",
       "| \"LY75-CD302\" | False | False |  True | False | False |\n",
       "| \"PSMD13\"     | False | False | False | False |  True |\n",
       "| \"R3HDM4\"     | False |  True | False | False | False |\n",
       "| \"SMAD6\"      | False | False | False |  True | False |\n",
       "+--------------+-------+-------+-------+-------+-------+\n",
       "showing top 10 rows"
      ]
     },
     "metadata": {},
     "output_type": "display_data"
    }
   ],
   "source": [
    "pgc.rows().show()"
   ]
  },
  {
   "cell_type": "code",
   "execution_count": 156,
   "id": "881d369d-e1f9-4ff5-a702-bae7234410ed",
   "metadata": {},
   "outputs": [
    {
     "data": {
      "text/plain": [
       "pandas.core.series.Series"
      ]
     },
     "execution_count": 156,
     "metadata": {},
     "output_type": "execute_result"
    }
   ],
   "source": [
    "type(test[test['type'] == 'speed']['burden_score'])"
   ]
  },
  {
   "cell_type": "code",
   "execution_count": 168,
   "id": "df07a74b-4a9b-45db-acdb-c57aeeef48cb",
   "metadata": {},
   "outputs": [],
   "source": [
    "ag_pds = {}\n",
    "phenos_list = ['retic', 'crit', 'fvc', 'fev']\n",
    "# I skip gout because there is no burden there in any sample\n",
    "\n",
    "def ttest(df, x, y, field):\n",
    "    pval = stats.ttest_ind(\n",
    "        list(pd.to_numeric(df[df[field] == x]['burden_score'])),\n",
    "        list(pd.to_numeric(df[df[field] == y]['burden_score']))\n",
    "    ).pvalue\n",
    "    return pval"
   ]
  },
  {
   "cell_type": "code",
   "execution_count": 169,
   "id": "632af9ac-29fc-4d41-b7dc-8a575cfde2dc",
   "metadata": {},
   "outputs": [
    {
     "name": "stderr",
     "output_type": "stream",
     "text": [
      "2023-01-27 13:00:55.074 Hail: INFO: Coerced sorted dataset\n"
     ]
    },
    {
     "name": "stdout",
     "output_type": "stream",
     "text": [
      "phenotype: retic\n",
      "controls GTS mean:\n",
      "1.180952380952381\n",
      "sportsmen mean:\n",
      "3.8440000000000003\n",
      "controls 1kg mean:\n",
      "2.287755102040816\n",
      "speed mean:\n",
      "4.590196078431372\n",
      "endurance mean:\n",
      "3.0673469387755103\n",
      "endurance vs speed t-test p value:\n",
      "0.4453511741655626\n"
     ]
    },
    {
     "name": "stderr",
     "output_type": "stream",
     "text": [
      "2023-01-27 13:00:55.656 Hail: INFO: Coerced sorted dataset\n"
     ]
    },
    {
     "name": "stdout",
     "output_type": "stream",
     "text": [
      "phenotype: crit\n",
      "controls GTS mean:\n",
      "5.4714285714285715\n",
      "sportsmen mean:\n",
      "8.792\n",
      "controls 1kg mean:\n",
      "9.350000000000001\n",
      "speed mean:\n",
      "10.445098039215686\n",
      "endurance mean:\n",
      "7.071428571428573\n",
      "endurance vs speed t-test p value:\n",
      "0.2255788931568009\n"
     ]
    },
    {
     "name": "stderr",
     "output_type": "stream",
     "text": [
      "2023-01-27 13:00:56.241 Hail: INFO: Coerced sorted dataset\n"
     ]
    },
    {
     "name": "stdout",
     "output_type": "stream",
     "text": [
      "phenotype: fvc\n",
      "controls GTS mean:\n",
      "2.9000000000000004\n",
      "sportsmen mean:\n",
      "4.518\n",
      "controls 1kg mean:\n",
      "3.107142857142857\n",
      "speed mean:\n",
      "3.270588235294118\n",
      "endurance mean:\n",
      "5.816326530612245\n",
      "endurance vs speed t-test p value:\n",
      "0.16284433774761367\n"
     ]
    },
    {
     "name": "stderr",
     "output_type": "stream",
     "text": [
      "2023-01-27 13:00:56.846 Hail: INFO: Coerced sorted dataset\n"
     ]
    },
    {
     "name": "stdout",
     "output_type": "stream",
     "text": [
      "phenotype: fev\n",
      "controls GTS mean:\n",
      "0.0\n",
      "sportsmen mean:\n",
      "1.287\n",
      "controls 1kg mean:\n",
      "0.47040816326530605\n",
      "speed mean:\n",
      "1.4862745098039218\n",
      "endurance mean:\n",
      "1.079591836734694\n",
      "endurance vs speed t-test p value:\n",
      "0.7229238410597287\n"
     ]
    }
   ],
   "source": [
    "for phen in phenos_list:\n",
    "    test = pgc.filter_rows(pgc[phen])\n",
    "    test = test.annotate_cols(\n",
    "        burden_score = hl.agg.sum(test['burden_cadd_phred'])\n",
    "    )\n",
    "    test = test.select_cols('group', 'burden_score', type=test.sport_phenotypes.type)\n",
    "    test = test.cols()\n",
    "    test = test.to_pandas()\n",
    "    test = test.drop('s', axis=1)\n",
    "    test['type'] = test[['type', 'group']].bfill(axis=1).iloc[:, 0]\n",
    "    print('phenotype: '+phen)\n",
    "    print('controls GTS mean:')\n",
    "    print(test[test['group'] == 'control']['burden_score'].mean())\n",
    "    print('sportsmen mean:')\n",
    "    print(test[test['group'] == 'sport']['burden_score'].mean())\n",
    "    print('controls 1kg mean:')\n",
    "    print(test[test['group'] == '1kg']['burden_score'].mean())\n",
    "    print('speed mean:')\n",
    "    print(test[test['type'] == 'speed']['burden_score'].mean())\n",
    "    print('endurance mean:')\n",
    "    print(test[test['type'] == 'endurance']['burden_score'].mean())\n",
    "    print('endurance vs speed t-test p value:')\n",
    "    print(ttest(test, 'endurance', 'speed', 'type'))\n",
    "    ag_pds[phen] = test"
   ]
  },
  {
   "cell_type": "code",
   "execution_count": null,
   "id": "ab0b09f9-5bfa-474a-bcd9-de08b255e257",
   "metadata": {},
   "outputs": [],
   "source": []
  }
 ],
 "metadata": {
  "kernelspec": {
   "display_name": "Python 3 (ipykernel)",
   "language": "python",
   "name": "python3"
  },
  "language_info": {
   "codemirror_mode": {
    "name": "ipython",
    "version": 3
   },
   "file_extension": ".py",
   "mimetype": "text/x-python",
   "name": "python",
   "nbconvert_exporter": "python",
   "pygments_lexer": "ipython3",
   "version": "3.10.4"
  }
 },
 "nbformat": 4,
 "nbformat_minor": 5
}
