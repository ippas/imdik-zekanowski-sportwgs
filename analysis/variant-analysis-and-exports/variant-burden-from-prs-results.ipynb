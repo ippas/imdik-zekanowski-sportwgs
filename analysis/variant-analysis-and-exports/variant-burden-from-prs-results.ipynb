{
 "cells": [
  {
   "cell_type": "code",
   "execution_count": 3,
   "id": "9cc9189c-c1e3-40df-aa8e-15ace1651468",
   "metadata": {
    "tags": []
   },
   "outputs": [
    {
     "name": "stderr",
     "output_type": "stream",
     "text": [
      "WARNING: An illegal reflective access operation has occurred\n",
      "WARNING: Illegal reflective access by org.apache.spark.unsafe.Platform (file:/net/pr2/projects/plgrid/plggneuromol/imdik-zekanowski-sportwgs/venv-hail-0.2.109/lib/python3.10/site-packages/pyspark/jars/spark-unsafe_2.12-3.1.3.jar) to constructor java.nio.DirectByteBuffer(long,int)\n",
      "WARNING: Please consider reporting this to the maintainers of org.apache.spark.unsafe.Platform\n",
      "WARNING: Use --illegal-access=warn to enable warnings of further illegal reflective access operations\n",
      "WARNING: All illegal access operations will be denied in a future release\n"
     ]
    },
    {
     "name": "stdout",
     "output_type": "stream",
     "text": [
      "2024-01-08 13:26:18.541 WARN  NativeCodeLoader:60 - Unable to load native-hadoop library for your platform... using builtin-java classes where applicable\n"
     ]
    },
    {
     "name": "stderr",
     "output_type": "stream",
     "text": [
      "Setting default log level to \"WARN\".\n",
      "To adjust logging level use sc.setLogLevel(newLevel). For SparkR, use setLogLevel(newLevel).\n",
      "Running on Apache Spark version 3.1.3\n",
      "SparkUI available at http://ac0026:4040\n",
      "Welcome to\n",
      "     __  __     <>__\n",
      "    / /_/ /__  __/ /\n",
      "   / __  / _ `/ / /\n",
      "  /_/ /_/\\_,_/_/_/   version 0.2.109-b71b065e4bb6\n",
      "LOGGING: writing to /net/pr2/projects/plgrid/plggneuromol/imdik-zekanowski-sportwgs/analysis/variant-analysis-and-exports/hail-20240108-1326-0.2.109-b71b065e4bb6.log\n"
     ]
    }
   ],
   "source": [
    "import hail as hl\n",
    "import os\n",
    "\n",
    "localfs_path = os.environ.get('SCRATCH') + '/hail-temp/'\n",
    "hl.init(tmp_dir=localfs_path, local_tmpdir=localfs_path, \n",
    "        spark_conf={'spark.driver.memory': '15G', 'spark.executor.memory': '30G'})"
   ]
  },
  {
   "cell_type": "code",
   "execution_count": 4,
   "id": "c130b97d-0c95-4f49-ab02-bbb5554ab765",
   "metadata": {
    "tags": []
   },
   "outputs": [],
   "source": [
    "import seaborn as sns"
   ]
  },
  {
   "cell_type": "code",
   "execution_count": 5,
   "id": "35b82d01-583f-4300-997c-bb4bf6f47a33",
   "metadata": {},
   "outputs": [
    {
     "data": {
      "text/html": [
       "\n",
       "    <div class=\"bk-root\">\n",
       "        <a href=\"https://bokeh.org\" target=\"_blank\" class=\"bk-logo bk-logo-small bk-logo-notebook\"></a>\n",
       "        <span id=\"1001\">Loading BokehJS ...</span>\n",
       "    </div>"
      ]
     },
     "metadata": {},
     "output_type": "display_data"
    },
    {
     "data": {
      "application/javascript": [
       "\n",
       "(function(root) {\n",
       "  function now() {\n",
       "    return new Date();\n",
       "  }\n",
       "\n",
       "  var force = true;\n",
       "\n",
       "  if (typeof root._bokeh_onload_callbacks === \"undefined\" || force === true) {\n",
       "    root._bokeh_onload_callbacks = [];\n",
       "    root._bokeh_is_loading = undefined;\n",
       "  }\n",
       "\n",
       "  var JS_MIME_TYPE = 'application/javascript';\n",
       "  var HTML_MIME_TYPE = 'text/html';\n",
       "  var EXEC_MIME_TYPE = 'application/vnd.bokehjs_exec.v0+json';\n",
       "  var CLASS_NAME = 'output_bokeh rendered_html';\n",
       "\n",
       "  /**\n",
       "   * Render data to the DOM node\n",
       "   */\n",
       "  function render(props, node) {\n",
       "    var script = document.createElement(\"script\");\n",
       "    node.appendChild(script);\n",
       "  }\n",
       "\n",
       "  /**\n",
       "   * Handle when an output is cleared or removed\n",
       "   */\n",
       "  function handleClearOutput(event, handle) {\n",
       "    var cell = handle.cell;\n",
       "\n",
       "    var id = cell.output_area._bokeh_element_id;\n",
       "    var server_id = cell.output_area._bokeh_server_id;\n",
       "    // Clean up Bokeh references\n",
       "    if (id != null && id in Bokeh.index) {\n",
       "      Bokeh.index[id].model.document.clear();\n",
       "      delete Bokeh.index[id];\n",
       "    }\n",
       "\n",
       "    if (server_id !== undefined) {\n",
       "      // Clean up Bokeh references\n",
       "      var cmd = \"from bokeh.io.state import curstate; print(curstate().uuid_to_server['\" + server_id + \"'].get_sessions()[0].document.roots[0]._id)\";\n",
       "      cell.notebook.kernel.execute(cmd, {\n",
       "        iopub: {\n",
       "          output: function(msg) {\n",
       "            var id = msg.content.text.trim();\n",
       "            if (id in Bokeh.index) {\n",
       "              Bokeh.index[id].model.document.clear();\n",
       "              delete Bokeh.index[id];\n",
       "            }\n",
       "          }\n",
       "        }\n",
       "      });\n",
       "      // Destroy server and session\n",
       "      var cmd = \"import bokeh.io.notebook as ion; ion.destroy_server('\" + server_id + \"')\";\n",
       "      cell.notebook.kernel.execute(cmd);\n",
       "    }\n",
       "  }\n",
       "\n",
       "  /**\n",
       "   * Handle when a new output is added\n",
       "   */\n",
       "  function handleAddOutput(event, handle) {\n",
       "    var output_area = handle.output_area;\n",
       "    var output = handle.output;\n",
       "\n",
       "    // limit handleAddOutput to display_data with EXEC_MIME_TYPE content only\n",
       "    if ((output.output_type != \"display_data\") || (!output.data.hasOwnProperty(EXEC_MIME_TYPE))) {\n",
       "      return\n",
       "    }\n",
       "\n",
       "    var toinsert = output_area.element.find(\".\" + CLASS_NAME.split(' ')[0]);\n",
       "\n",
       "    if (output.metadata[EXEC_MIME_TYPE][\"id\"] !== undefined) {\n",
       "      toinsert[toinsert.length - 1].firstChild.textContent = output.data[JS_MIME_TYPE];\n",
       "      // store reference to embed id on output_area\n",
       "      output_area._bokeh_element_id = output.metadata[EXEC_MIME_TYPE][\"id\"];\n",
       "    }\n",
       "    if (output.metadata[EXEC_MIME_TYPE][\"server_id\"] !== undefined) {\n",
       "      var bk_div = document.createElement(\"div\");\n",
       "      bk_div.innerHTML = output.data[HTML_MIME_TYPE];\n",
       "      var script_attrs = bk_div.children[0].attributes;\n",
       "      for (var i = 0; i < script_attrs.length; i++) {\n",
       "        toinsert[toinsert.length - 1].firstChild.setAttribute(script_attrs[i].name, script_attrs[i].value);\n",
       "      }\n",
       "      // store reference to server id on output_area\n",
       "      output_area._bokeh_server_id = output.metadata[EXEC_MIME_TYPE][\"server_id\"];\n",
       "    }\n",
       "  }\n",
       "\n",
       "  function register_renderer(events, OutputArea) {\n",
       "\n",
       "    function append_mime(data, metadata, element) {\n",
       "      // create a DOM node to render to\n",
       "      var toinsert = this.create_output_subarea(\n",
       "        metadata,\n",
       "        CLASS_NAME,\n",
       "        EXEC_MIME_TYPE\n",
       "      );\n",
       "      this.keyboard_manager.register_events(toinsert);\n",
       "      // Render to node\n",
       "      var props = {data: data, metadata: metadata[EXEC_MIME_TYPE]};\n",
       "      render(props, toinsert[toinsert.length - 1]);\n",
       "      element.append(toinsert);\n",
       "      return toinsert\n",
       "    }\n",
       "\n",
       "    /* Handle when an output is cleared or removed */\n",
       "    events.on('clear_output.CodeCell', handleClearOutput);\n",
       "    events.on('delete.Cell', handleClearOutput);\n",
       "\n",
       "    /* Handle when a new output is added */\n",
       "    events.on('output_added.OutputArea', handleAddOutput);\n",
       "\n",
       "    /**\n",
       "     * Register the mime type and append_mime function with output_area\n",
       "     */\n",
       "    OutputArea.prototype.register_mime_type(EXEC_MIME_TYPE, append_mime, {\n",
       "      /* Is output safe? */\n",
       "      safe: true,\n",
       "      /* Index of renderer in `output_area.display_order` */\n",
       "      index: 0\n",
       "    });\n",
       "  }\n",
       "\n",
       "  // register the mime type if in Jupyter Notebook environment and previously unregistered\n",
       "  if (root.Jupyter !== undefined) {\n",
       "    var events = require('base/js/events');\n",
       "    var OutputArea = require('notebook/js/outputarea').OutputArea;\n",
       "\n",
       "    if (OutputArea.prototype.mime_types().indexOf(EXEC_MIME_TYPE) == -1) {\n",
       "      register_renderer(events, OutputArea);\n",
       "    }\n",
       "  }\n",
       "\n",
       "  \n",
       "  if (typeof (root._bokeh_timeout) === \"undefined\" || force === true) {\n",
       "    root._bokeh_timeout = Date.now() + 5000;\n",
       "    root._bokeh_failed_load = false;\n",
       "  }\n",
       "\n",
       "  var NB_LOAD_WARNING = {'data': {'text/html':\n",
       "     \"<div style='background-color: #fdd'>\\n\"+\n",
       "     \"<p>\\n\"+\n",
       "     \"BokehJS does not appear to have successfully loaded. If loading BokehJS from CDN, this \\n\"+\n",
       "     \"may be due to a slow or bad network connection. Possible fixes:\\n\"+\n",
       "     \"</p>\\n\"+\n",
       "     \"<ul>\\n\"+\n",
       "     \"<li>re-rerun `output_notebook()` to attempt to load from CDN again, or</li>\\n\"+\n",
       "     \"<li>use INLINE resources instead, as so:</li>\\n\"+\n",
       "     \"</ul>\\n\"+\n",
       "     \"<code>\\n\"+\n",
       "     \"from bokeh.resources import INLINE\\n\"+\n",
       "     \"output_notebook(resources=INLINE)\\n\"+\n",
       "     \"</code>\\n\"+\n",
       "     \"</div>\"}};\n",
       "\n",
       "  function display_loaded() {\n",
       "    var el = document.getElementById(\"1001\");\n",
       "    if (el != null) {\n",
       "      el.textContent = \"BokehJS is loading...\";\n",
       "    }\n",
       "    if (root.Bokeh !== undefined) {\n",
       "      if (el != null) {\n",
       "        el.textContent = \"BokehJS \" + root.Bokeh.version + \" successfully loaded.\";\n",
       "      }\n",
       "    } else if (Date.now() < root._bokeh_timeout) {\n",
       "      setTimeout(display_loaded, 100)\n",
       "    }\n",
       "  }\n",
       "\n",
       "\n",
       "  function run_callbacks() {\n",
       "    try {\n",
       "      root._bokeh_onload_callbacks.forEach(function(callback) {\n",
       "        if (callback != null)\n",
       "          callback();\n",
       "      });\n",
       "    } finally {\n",
       "      delete root._bokeh_onload_callbacks\n",
       "    }\n",
       "    console.debug(\"Bokeh: all callbacks have finished\");\n",
       "  }\n",
       "\n",
       "  function load_libs(css_urls, js_urls, callback) {\n",
       "    if (css_urls == null) css_urls = [];\n",
       "    if (js_urls == null) js_urls = [];\n",
       "\n",
       "    root._bokeh_onload_callbacks.push(callback);\n",
       "    if (root._bokeh_is_loading > 0) {\n",
       "      console.debug(\"Bokeh: BokehJS is being loaded, scheduling callback at\", now());\n",
       "      return null;\n",
       "    }\n",
       "    if (js_urls == null || js_urls.length === 0) {\n",
       "      run_callbacks();\n",
       "      return null;\n",
       "    }\n",
       "    console.debug(\"Bokeh: BokehJS not loaded, scheduling load and callback at\", now());\n",
       "    root._bokeh_is_loading = css_urls.length + js_urls.length;\n",
       "\n",
       "    function on_load() {\n",
       "      root._bokeh_is_loading--;\n",
       "      if (root._bokeh_is_loading === 0) {\n",
       "        console.debug(\"Bokeh: all BokehJS libraries/stylesheets loaded\");\n",
       "        run_callbacks()\n",
       "      }\n",
       "    }\n",
       "\n",
       "    function on_error() {\n",
       "      console.error(\"failed to load \" + url);\n",
       "    }\n",
       "\n",
       "    for (var i = 0; i < css_urls.length; i++) {\n",
       "      var url = css_urls[i];\n",
       "      const element = document.createElement(\"link\");\n",
       "      element.onload = on_load;\n",
       "      element.onerror = on_error;\n",
       "      element.rel = \"stylesheet\";\n",
       "      element.type = \"text/css\";\n",
       "      element.href = url;\n",
       "      console.debug(\"Bokeh: injecting link tag for BokehJS stylesheet: \", url);\n",
       "      document.body.appendChild(element);\n",
       "    }\n",
       "\n",
       "    for (var i = 0; i < js_urls.length; i++) {\n",
       "      var url = js_urls[i];\n",
       "      var element = document.createElement('script');\n",
       "      element.onload = on_load;\n",
       "      element.onerror = on_error;\n",
       "      element.async = false;\n",
       "      element.src = url;\n",
       "      console.debug(\"Bokeh: injecting script tag for BokehJS library: \", url);\n",
       "      document.head.appendChild(element);\n",
       "    }\n",
       "  };var element = document.getElementById(\"1001\");\n",
       "  if (element == null) {\n",
       "    console.error(\"Bokeh: ERROR: autoload.js configured with elementid '1001' but no matching script tag was found. \")\n",
       "    return false;\n",
       "  }\n",
       "\n",
       "  function inject_raw_css(css) {\n",
       "    const element = document.createElement(\"style\");\n",
       "    element.appendChild(document.createTextNode(css));\n",
       "    document.body.appendChild(element);\n",
       "  }\n",
       "\n",
       "  \n",
       "  var js_urls = [\"https://cdn.pydata.org/bokeh/release/bokeh-1.4.0.min.js\", \"https://cdn.pydata.org/bokeh/release/bokeh-widgets-1.4.0.min.js\", \"https://cdn.pydata.org/bokeh/release/bokeh-tables-1.4.0.min.js\", \"https://cdn.pydata.org/bokeh/release/bokeh-gl-1.4.0.min.js\"];\n",
       "  var css_urls = [];\n",
       "  \n",
       "\n",
       "  var inline_js = [\n",
       "    function(Bokeh) {\n",
       "      Bokeh.set_log_level(\"info\");\n",
       "    },\n",
       "    function(Bokeh) {\n",
       "    \n",
       "    \n",
       "    }\n",
       "  ];\n",
       "\n",
       "  function run_inline_js() {\n",
       "    \n",
       "    if (root.Bokeh !== undefined || force === true) {\n",
       "      \n",
       "    for (var i = 0; i < inline_js.length; i++) {\n",
       "      inline_js[i].call(root, root.Bokeh);\n",
       "    }\n",
       "    if (force === true) {\n",
       "        display_loaded();\n",
       "      }} else if (Date.now() < root._bokeh_timeout) {\n",
       "      setTimeout(run_inline_js, 100);\n",
       "    } else if (!root._bokeh_failed_load) {\n",
       "      console.log(\"Bokeh: BokehJS failed to load within specified timeout.\");\n",
       "      root._bokeh_failed_load = true;\n",
       "    } else if (force !== true) {\n",
       "      var cell = $(document.getElementById(\"1001\")).parents('.cell').data().cell;\n",
       "      cell.output_area.append_execute_result(NB_LOAD_WARNING)\n",
       "    }\n",
       "\n",
       "  }\n",
       "\n",
       "  if (root._bokeh_is_loading === 0) {\n",
       "    console.debug(\"Bokeh: BokehJS loaded, going straight to plotting\");\n",
       "    run_inline_js();\n",
       "  } else {\n",
       "    load_libs(css_urls, js_urls, function() {\n",
       "      console.debug(\"Bokeh: BokehJS plotting callback run at\", now());\n",
       "      run_inline_js();\n",
       "    });\n",
       "  }\n",
       "}(window));"
      ],
      "application/vnd.bokehjs_load.v0+json": "\n(function(root) {\n  function now() {\n    return new Date();\n  }\n\n  var force = true;\n\n  if (typeof root._bokeh_onload_callbacks === \"undefined\" || force === true) {\n    root._bokeh_onload_callbacks = [];\n    root._bokeh_is_loading = undefined;\n  }\n\n  \n\n  \n  if (typeof (root._bokeh_timeout) === \"undefined\" || force === true) {\n    root._bokeh_timeout = Date.now() + 5000;\n    root._bokeh_failed_load = false;\n  }\n\n  var NB_LOAD_WARNING = {'data': {'text/html':\n     \"<div style='background-color: #fdd'>\\n\"+\n     \"<p>\\n\"+\n     \"BokehJS does not appear to have successfully loaded. If loading BokehJS from CDN, this \\n\"+\n     \"may be due to a slow or bad network connection. Possible fixes:\\n\"+\n     \"</p>\\n\"+\n     \"<ul>\\n\"+\n     \"<li>re-rerun `output_notebook()` to attempt to load from CDN again, or</li>\\n\"+\n     \"<li>use INLINE resources instead, as so:</li>\\n\"+\n     \"</ul>\\n\"+\n     \"<code>\\n\"+\n     \"from bokeh.resources import INLINE\\n\"+\n     \"output_notebook(resources=INLINE)\\n\"+\n     \"</code>\\n\"+\n     \"</div>\"}};\n\n  function display_loaded() {\n    var el = document.getElementById(\"1001\");\n    if (el != null) {\n      el.textContent = \"BokehJS is loading...\";\n    }\n    if (root.Bokeh !== undefined) {\n      if (el != null) {\n        el.textContent = \"BokehJS \" + root.Bokeh.version + \" successfully loaded.\";\n      }\n    } else if (Date.now() < root._bokeh_timeout) {\n      setTimeout(display_loaded, 100)\n    }\n  }\n\n\n  function run_callbacks() {\n    try {\n      root._bokeh_onload_callbacks.forEach(function(callback) {\n        if (callback != null)\n          callback();\n      });\n    } finally {\n      delete root._bokeh_onload_callbacks\n    }\n    console.debug(\"Bokeh: all callbacks have finished\");\n  }\n\n  function load_libs(css_urls, js_urls, callback) {\n    if (css_urls == null) css_urls = [];\n    if (js_urls == null) js_urls = [];\n\n    root._bokeh_onload_callbacks.push(callback);\n    if (root._bokeh_is_loading > 0) {\n      console.debug(\"Bokeh: BokehJS is being loaded, scheduling callback at\", now());\n      return null;\n    }\n    if (js_urls == null || js_urls.length === 0) {\n      run_callbacks();\n      return null;\n    }\n    console.debug(\"Bokeh: BokehJS not loaded, scheduling load and callback at\", now());\n    root._bokeh_is_loading = css_urls.length + js_urls.length;\n\n    function on_load() {\n      root._bokeh_is_loading--;\n      if (root._bokeh_is_loading === 0) {\n        console.debug(\"Bokeh: all BokehJS libraries/stylesheets loaded\");\n        run_callbacks()\n      }\n    }\n\n    function on_error() {\n      console.error(\"failed to load \" + url);\n    }\n\n    for (var i = 0; i < css_urls.length; i++) {\n      var url = css_urls[i];\n      const element = document.createElement(\"link\");\n      element.onload = on_load;\n      element.onerror = on_error;\n      element.rel = \"stylesheet\";\n      element.type = \"text/css\";\n      element.href = url;\n      console.debug(\"Bokeh: injecting link tag for BokehJS stylesheet: \", url);\n      document.body.appendChild(element);\n    }\n\n    for (var i = 0; i < js_urls.length; i++) {\n      var url = js_urls[i];\n      var element = document.createElement('script');\n      element.onload = on_load;\n      element.onerror = on_error;\n      element.async = false;\n      element.src = url;\n      console.debug(\"Bokeh: injecting script tag for BokehJS library: \", url);\n      document.head.appendChild(element);\n    }\n  };var element = document.getElementById(\"1001\");\n  if (element == null) {\n    console.error(\"Bokeh: ERROR: autoload.js configured with elementid '1001' but no matching script tag was found. \")\n    return false;\n  }\n\n  function inject_raw_css(css) {\n    const element = document.createElement(\"style\");\n    element.appendChild(document.createTextNode(css));\n    document.body.appendChild(element);\n  }\n\n  \n  var js_urls = [\"https://cdn.pydata.org/bokeh/release/bokeh-1.4.0.min.js\", \"https://cdn.pydata.org/bokeh/release/bokeh-widgets-1.4.0.min.js\", \"https://cdn.pydata.org/bokeh/release/bokeh-tables-1.4.0.min.js\", \"https://cdn.pydata.org/bokeh/release/bokeh-gl-1.4.0.min.js\"];\n  var css_urls = [];\n  \n\n  var inline_js = [\n    function(Bokeh) {\n      Bokeh.set_log_level(\"info\");\n    },\n    function(Bokeh) {\n    \n    \n    }\n  ];\n\n  function run_inline_js() {\n    \n    if (root.Bokeh !== undefined || force === true) {\n      \n    for (var i = 0; i < inline_js.length; i++) {\n      inline_js[i].call(root, root.Bokeh);\n    }\n    if (force === true) {\n        display_loaded();\n      }} else if (Date.now() < root._bokeh_timeout) {\n      setTimeout(run_inline_js, 100);\n    } else if (!root._bokeh_failed_load) {\n      console.log(\"Bokeh: BokehJS failed to load within specified timeout.\");\n      root._bokeh_failed_load = true;\n    } else if (force !== true) {\n      var cell = $(document.getElementById(\"1001\")).parents('.cell').data().cell;\n      cell.output_area.append_execute_result(NB_LOAD_WARNING)\n    }\n\n  }\n\n  if (root._bokeh_is_loading === 0) {\n    console.debug(\"Bokeh: BokehJS loaded, going straight to plotting\");\n    run_inline_js();\n  } else {\n    load_libs(css_urls, js_urls, function() {\n      console.debug(\"Bokeh: BokehJS plotting callback run at\", now());\n      run_inline_js();\n    });\n  }\n}(window));"
     },
     "metadata": {},
     "output_type": "display_data"
    },
    {
     "data": {
      "text/html": [
       "\n",
       "    <div class=\"bk-root\">\n",
       "        <a href=\"https://bokeh.org\" target=\"_blank\" class=\"bk-logo bk-logo-small bk-logo-notebook\"></a>\n",
       "        <span id=\"1002\">Loading BokehJS ...</span>\n",
       "    </div>"
      ]
     },
     "metadata": {},
     "output_type": "display_data"
    },
    {
     "data": {
      "application/javascript": [
       "\n",
       "(function(root) {\n",
       "  function now() {\n",
       "    return new Date();\n",
       "  }\n",
       "\n",
       "  var force = true;\n",
       "\n",
       "  if (typeof root._bokeh_onload_callbacks === \"undefined\" || force === true) {\n",
       "    root._bokeh_onload_callbacks = [];\n",
       "    root._bokeh_is_loading = undefined;\n",
       "  }\n",
       "\n",
       "  var JS_MIME_TYPE = 'application/javascript';\n",
       "  var HTML_MIME_TYPE = 'text/html';\n",
       "  var EXEC_MIME_TYPE = 'application/vnd.bokehjs_exec.v0+json';\n",
       "  var CLASS_NAME = 'output_bokeh rendered_html';\n",
       "\n",
       "  /**\n",
       "   * Render data to the DOM node\n",
       "   */\n",
       "  function render(props, node) {\n",
       "    var script = document.createElement(\"script\");\n",
       "    node.appendChild(script);\n",
       "  }\n",
       "\n",
       "  /**\n",
       "   * Handle when an output is cleared or removed\n",
       "   */\n",
       "  function handleClearOutput(event, handle) {\n",
       "    var cell = handle.cell;\n",
       "\n",
       "    var id = cell.output_area._bokeh_element_id;\n",
       "    var server_id = cell.output_area._bokeh_server_id;\n",
       "    // Clean up Bokeh references\n",
       "    if (id != null && id in Bokeh.index) {\n",
       "      Bokeh.index[id].model.document.clear();\n",
       "      delete Bokeh.index[id];\n",
       "    }\n",
       "\n",
       "    if (server_id !== undefined) {\n",
       "      // Clean up Bokeh references\n",
       "      var cmd = \"from bokeh.io.state import curstate; print(curstate().uuid_to_server['\" + server_id + \"'].get_sessions()[0].document.roots[0]._id)\";\n",
       "      cell.notebook.kernel.execute(cmd, {\n",
       "        iopub: {\n",
       "          output: function(msg) {\n",
       "            var id = msg.content.text.trim();\n",
       "            if (id in Bokeh.index) {\n",
       "              Bokeh.index[id].model.document.clear();\n",
       "              delete Bokeh.index[id];\n",
       "            }\n",
       "          }\n",
       "        }\n",
       "      });\n",
       "      // Destroy server and session\n",
       "      var cmd = \"import bokeh.io.notebook as ion; ion.destroy_server('\" + server_id + \"')\";\n",
       "      cell.notebook.kernel.execute(cmd);\n",
       "    }\n",
       "  }\n",
       "\n",
       "  /**\n",
       "   * Handle when a new output is added\n",
       "   */\n",
       "  function handleAddOutput(event, handle) {\n",
       "    var output_area = handle.output_area;\n",
       "    var output = handle.output;\n",
       "\n",
       "    // limit handleAddOutput to display_data with EXEC_MIME_TYPE content only\n",
       "    if ((output.output_type != \"display_data\") || (!output.data.hasOwnProperty(EXEC_MIME_TYPE))) {\n",
       "      return\n",
       "    }\n",
       "\n",
       "    var toinsert = output_area.element.find(\".\" + CLASS_NAME.split(' ')[0]);\n",
       "\n",
       "    if (output.metadata[EXEC_MIME_TYPE][\"id\"] !== undefined) {\n",
       "      toinsert[toinsert.length - 1].firstChild.textContent = output.data[JS_MIME_TYPE];\n",
       "      // store reference to embed id on output_area\n",
       "      output_area._bokeh_element_id = output.metadata[EXEC_MIME_TYPE][\"id\"];\n",
       "    }\n",
       "    if (output.metadata[EXEC_MIME_TYPE][\"server_id\"] !== undefined) {\n",
       "      var bk_div = document.createElement(\"div\");\n",
       "      bk_div.innerHTML = output.data[HTML_MIME_TYPE];\n",
       "      var script_attrs = bk_div.children[0].attributes;\n",
       "      for (var i = 0; i < script_attrs.length; i++) {\n",
       "        toinsert[toinsert.length - 1].firstChild.setAttribute(script_attrs[i].name, script_attrs[i].value);\n",
       "      }\n",
       "      // store reference to server id on output_area\n",
       "      output_area._bokeh_server_id = output.metadata[EXEC_MIME_TYPE][\"server_id\"];\n",
       "    }\n",
       "  }\n",
       "\n",
       "  function register_renderer(events, OutputArea) {\n",
       "\n",
       "    function append_mime(data, metadata, element) {\n",
       "      // create a DOM node to render to\n",
       "      var toinsert = this.create_output_subarea(\n",
       "        metadata,\n",
       "        CLASS_NAME,\n",
       "        EXEC_MIME_TYPE\n",
       "      );\n",
       "      this.keyboard_manager.register_events(toinsert);\n",
       "      // Render to node\n",
       "      var props = {data: data, metadata: metadata[EXEC_MIME_TYPE]};\n",
       "      render(props, toinsert[toinsert.length - 1]);\n",
       "      element.append(toinsert);\n",
       "      return toinsert\n",
       "    }\n",
       "\n",
       "    /* Handle when an output is cleared or removed */\n",
       "    events.on('clear_output.CodeCell', handleClearOutput);\n",
       "    events.on('delete.Cell', handleClearOutput);\n",
       "\n",
       "    /* Handle when a new output is added */\n",
       "    events.on('output_added.OutputArea', handleAddOutput);\n",
       "\n",
       "    /**\n",
       "     * Register the mime type and append_mime function with output_area\n",
       "     */\n",
       "    OutputArea.prototype.register_mime_type(EXEC_MIME_TYPE, append_mime, {\n",
       "      /* Is output safe? */\n",
       "      safe: true,\n",
       "      /* Index of renderer in `output_area.display_order` */\n",
       "      index: 0\n",
       "    });\n",
       "  }\n",
       "\n",
       "  // register the mime type if in Jupyter Notebook environment and previously unregistered\n",
       "  if (root.Jupyter !== undefined) {\n",
       "    var events = require('base/js/events');\n",
       "    var OutputArea = require('notebook/js/outputarea').OutputArea;\n",
       "\n",
       "    if (OutputArea.prototype.mime_types().indexOf(EXEC_MIME_TYPE) == -1) {\n",
       "      register_renderer(events, OutputArea);\n",
       "    }\n",
       "  }\n",
       "\n",
       "  \n",
       "  if (typeof (root._bokeh_timeout) === \"undefined\" || force === true) {\n",
       "    root._bokeh_timeout = Date.now() + 5000;\n",
       "    root._bokeh_failed_load = false;\n",
       "  }\n",
       "\n",
       "  var NB_LOAD_WARNING = {'data': {'text/html':\n",
       "     \"<div style='background-color: #fdd'>\\n\"+\n",
       "     \"<p>\\n\"+\n",
       "     \"BokehJS does not appear to have successfully loaded. If loading BokehJS from CDN, this \\n\"+\n",
       "     \"may be due to a slow or bad network connection. Possible fixes:\\n\"+\n",
       "     \"</p>\\n\"+\n",
       "     \"<ul>\\n\"+\n",
       "     \"<li>re-rerun `output_notebook()` to attempt to load from CDN again, or</li>\\n\"+\n",
       "     \"<li>use INLINE resources instead, as so:</li>\\n\"+\n",
       "     \"</ul>\\n\"+\n",
       "     \"<code>\\n\"+\n",
       "     \"from bokeh.resources import INLINE\\n\"+\n",
       "     \"output_notebook(resources=INLINE)\\n\"+\n",
       "     \"</code>\\n\"+\n",
       "     \"</div>\"}};\n",
       "\n",
       "  function display_loaded() {\n",
       "    var el = document.getElementById(\"1002\");\n",
       "    if (el != null) {\n",
       "      el.textContent = \"BokehJS is loading...\";\n",
       "    }\n",
       "    if (root.Bokeh !== undefined) {\n",
       "      if (el != null) {\n",
       "        el.textContent = \"BokehJS \" + root.Bokeh.version + \" successfully loaded.\";\n",
       "      }\n",
       "    } else if (Date.now() < root._bokeh_timeout) {\n",
       "      setTimeout(display_loaded, 100)\n",
       "    }\n",
       "  }\n",
       "\n",
       "\n",
       "  function run_callbacks() {\n",
       "    try {\n",
       "      root._bokeh_onload_callbacks.forEach(function(callback) {\n",
       "        if (callback != null)\n",
       "          callback();\n",
       "      });\n",
       "    } finally {\n",
       "      delete root._bokeh_onload_callbacks\n",
       "    }\n",
       "    console.debug(\"Bokeh: all callbacks have finished\");\n",
       "  }\n",
       "\n",
       "  function load_libs(css_urls, js_urls, callback) {\n",
       "    if (css_urls == null) css_urls = [];\n",
       "    if (js_urls == null) js_urls = [];\n",
       "\n",
       "    root._bokeh_onload_callbacks.push(callback);\n",
       "    if (root._bokeh_is_loading > 0) {\n",
       "      console.debug(\"Bokeh: BokehJS is being loaded, scheduling callback at\", now());\n",
       "      return null;\n",
       "    }\n",
       "    if (js_urls == null || js_urls.length === 0) {\n",
       "      run_callbacks();\n",
       "      return null;\n",
       "    }\n",
       "    console.debug(\"Bokeh: BokehJS not loaded, scheduling load and callback at\", now());\n",
       "    root._bokeh_is_loading = css_urls.length + js_urls.length;\n",
       "\n",
       "    function on_load() {\n",
       "      root._bokeh_is_loading--;\n",
       "      if (root._bokeh_is_loading === 0) {\n",
       "        console.debug(\"Bokeh: all BokehJS libraries/stylesheets loaded\");\n",
       "        run_callbacks()\n",
       "      }\n",
       "    }\n",
       "\n",
       "    function on_error() {\n",
       "      console.error(\"failed to load \" + url);\n",
       "    }\n",
       "\n",
       "    for (var i = 0; i < css_urls.length; i++) {\n",
       "      var url = css_urls[i];\n",
       "      const element = document.createElement(\"link\");\n",
       "      element.onload = on_load;\n",
       "      element.onerror = on_error;\n",
       "      element.rel = \"stylesheet\";\n",
       "      element.type = \"text/css\";\n",
       "      element.href = url;\n",
       "      console.debug(\"Bokeh: injecting link tag for BokehJS stylesheet: \", url);\n",
       "      document.body.appendChild(element);\n",
       "    }\n",
       "\n",
       "    for (var i = 0; i < js_urls.length; i++) {\n",
       "      var url = js_urls[i];\n",
       "      var element = document.createElement('script');\n",
       "      element.onload = on_load;\n",
       "      element.onerror = on_error;\n",
       "      element.async = false;\n",
       "      element.src = url;\n",
       "      console.debug(\"Bokeh: injecting script tag for BokehJS library: \", url);\n",
       "      document.head.appendChild(element);\n",
       "    }\n",
       "  };var element = document.getElementById(\"1002\");\n",
       "  if (element == null) {\n",
       "    console.error(\"Bokeh: ERROR: autoload.js configured with elementid '1002' but no matching script tag was found. \")\n",
       "    return false;\n",
       "  }\n",
       "\n",
       "  function inject_raw_css(css) {\n",
       "    const element = document.createElement(\"style\");\n",
       "    element.appendChild(document.createTextNode(css));\n",
       "    document.body.appendChild(element);\n",
       "  }\n",
       "\n",
       "  \n",
       "  var js_urls = [\"https://cdn.pydata.org/bokeh/release/bokeh-1.4.0.min.js\", \"https://cdn.pydata.org/bokeh/release/bokeh-widgets-1.4.0.min.js\", \"https://cdn.pydata.org/bokeh/release/bokeh-tables-1.4.0.min.js\", \"https://cdn.pydata.org/bokeh/release/bokeh-gl-1.4.0.min.js\"];\n",
       "  var css_urls = [];\n",
       "  \n",
       "\n",
       "  var inline_js = [\n",
       "    function(Bokeh) {\n",
       "      Bokeh.set_log_level(\"info\");\n",
       "    },\n",
       "    function(Bokeh) {\n",
       "    \n",
       "    \n",
       "    }\n",
       "  ];\n",
       "\n",
       "  function run_inline_js() {\n",
       "    \n",
       "    if (root.Bokeh !== undefined || force === true) {\n",
       "      \n",
       "    for (var i = 0; i < inline_js.length; i++) {\n",
       "      inline_js[i].call(root, root.Bokeh);\n",
       "    }\n",
       "    if (force === true) {\n",
       "        display_loaded();\n",
       "      }} else if (Date.now() < root._bokeh_timeout) {\n",
       "      setTimeout(run_inline_js, 100);\n",
       "    } else if (!root._bokeh_failed_load) {\n",
       "      console.log(\"Bokeh: BokehJS failed to load within specified timeout.\");\n",
       "      root._bokeh_failed_load = true;\n",
       "    } else if (force !== true) {\n",
       "      var cell = $(document.getElementById(\"1002\")).parents('.cell').data().cell;\n",
       "      cell.output_area.append_execute_result(NB_LOAD_WARNING)\n",
       "    }\n",
       "\n",
       "  }\n",
       "\n",
       "  if (root._bokeh_is_loading === 0) {\n",
       "    console.debug(\"Bokeh: BokehJS loaded, going straight to plotting\");\n",
       "    run_inline_js();\n",
       "  } else {\n",
       "    load_libs(css_urls, js_urls, function() {\n",
       "      console.debug(\"Bokeh: BokehJS plotting callback run at\", now());\n",
       "      run_inline_js();\n",
       "    });\n",
       "  }\n",
       "}(window));"
      ],
      "application/vnd.bokehjs_load.v0+json": "\n(function(root) {\n  function now() {\n    return new Date();\n  }\n\n  var force = true;\n\n  if (typeof root._bokeh_onload_callbacks === \"undefined\" || force === true) {\n    root._bokeh_onload_callbacks = [];\n    root._bokeh_is_loading = undefined;\n  }\n\n  \n\n  \n  if (typeof (root._bokeh_timeout) === \"undefined\" || force === true) {\n    root._bokeh_timeout = Date.now() + 5000;\n    root._bokeh_failed_load = false;\n  }\n\n  var NB_LOAD_WARNING = {'data': {'text/html':\n     \"<div style='background-color: #fdd'>\\n\"+\n     \"<p>\\n\"+\n     \"BokehJS does not appear to have successfully loaded. If loading BokehJS from CDN, this \\n\"+\n     \"may be due to a slow or bad network connection. Possible fixes:\\n\"+\n     \"</p>\\n\"+\n     \"<ul>\\n\"+\n     \"<li>re-rerun `output_notebook()` to attempt to load from CDN again, or</li>\\n\"+\n     \"<li>use INLINE resources instead, as so:</li>\\n\"+\n     \"</ul>\\n\"+\n     \"<code>\\n\"+\n     \"from bokeh.resources import INLINE\\n\"+\n     \"output_notebook(resources=INLINE)\\n\"+\n     \"</code>\\n\"+\n     \"</div>\"}};\n\n  function display_loaded() {\n    var el = document.getElementById(\"1002\");\n    if (el != null) {\n      el.textContent = \"BokehJS is loading...\";\n    }\n    if (root.Bokeh !== undefined) {\n      if (el != null) {\n        el.textContent = \"BokehJS \" + root.Bokeh.version + \" successfully loaded.\";\n      }\n    } else if (Date.now() < root._bokeh_timeout) {\n      setTimeout(display_loaded, 100)\n    }\n  }\n\n\n  function run_callbacks() {\n    try {\n      root._bokeh_onload_callbacks.forEach(function(callback) {\n        if (callback != null)\n          callback();\n      });\n    } finally {\n      delete root._bokeh_onload_callbacks\n    }\n    console.debug(\"Bokeh: all callbacks have finished\");\n  }\n\n  function load_libs(css_urls, js_urls, callback) {\n    if (css_urls == null) css_urls = [];\n    if (js_urls == null) js_urls = [];\n\n    root._bokeh_onload_callbacks.push(callback);\n    if (root._bokeh_is_loading > 0) {\n      console.debug(\"Bokeh: BokehJS is being loaded, scheduling callback at\", now());\n      return null;\n    }\n    if (js_urls == null || js_urls.length === 0) {\n      run_callbacks();\n      return null;\n    }\n    console.debug(\"Bokeh: BokehJS not loaded, scheduling load and callback at\", now());\n    root._bokeh_is_loading = css_urls.length + js_urls.length;\n\n    function on_load() {\n      root._bokeh_is_loading--;\n      if (root._bokeh_is_loading === 0) {\n        console.debug(\"Bokeh: all BokehJS libraries/stylesheets loaded\");\n        run_callbacks()\n      }\n    }\n\n    function on_error() {\n      console.error(\"failed to load \" + url);\n    }\n\n    for (var i = 0; i < css_urls.length; i++) {\n      var url = css_urls[i];\n      const element = document.createElement(\"link\");\n      element.onload = on_load;\n      element.onerror = on_error;\n      element.rel = \"stylesheet\";\n      element.type = \"text/css\";\n      element.href = url;\n      console.debug(\"Bokeh: injecting link tag for BokehJS stylesheet: \", url);\n      document.body.appendChild(element);\n    }\n\n    for (var i = 0; i < js_urls.length; i++) {\n      var url = js_urls[i];\n      var element = document.createElement('script');\n      element.onload = on_load;\n      element.onerror = on_error;\n      element.async = false;\n      element.src = url;\n      console.debug(\"Bokeh: injecting script tag for BokehJS library: \", url);\n      document.head.appendChild(element);\n    }\n  };var element = document.getElementById(\"1002\");\n  if (element == null) {\n    console.error(\"Bokeh: ERROR: autoload.js configured with elementid '1002' but no matching script tag was found. \")\n    return false;\n  }\n\n  function inject_raw_css(css) {\n    const element = document.createElement(\"style\");\n    element.appendChild(document.createTextNode(css));\n    document.body.appendChild(element);\n  }\n\n  \n  var js_urls = [\"https://cdn.pydata.org/bokeh/release/bokeh-1.4.0.min.js\", \"https://cdn.pydata.org/bokeh/release/bokeh-widgets-1.4.0.min.js\", \"https://cdn.pydata.org/bokeh/release/bokeh-tables-1.4.0.min.js\", \"https://cdn.pydata.org/bokeh/release/bokeh-gl-1.4.0.min.js\"];\n  var css_urls = [];\n  \n\n  var inline_js = [\n    function(Bokeh) {\n      Bokeh.set_log_level(\"info\");\n    },\n    function(Bokeh) {\n    \n    \n    }\n  ];\n\n  function run_inline_js() {\n    \n    if (root.Bokeh !== undefined || force === true) {\n      \n    for (var i = 0; i < inline_js.length; i++) {\n      inline_js[i].call(root, root.Bokeh);\n    }\n    if (force === true) {\n        display_loaded();\n      }} else if (Date.now() < root._bokeh_timeout) {\n      setTimeout(run_inline_js, 100);\n    } else if (!root._bokeh_failed_load) {\n      console.log(\"Bokeh: BokehJS failed to load within specified timeout.\");\n      root._bokeh_failed_load = true;\n    } else if (force !== true) {\n      var cell = $(document.getElementById(\"1002\")).parents('.cell').data().cell;\n      cell.output_area.append_execute_result(NB_LOAD_WARNING)\n    }\n\n  }\n\n  if (root._bokeh_is_loading === 0) {\n    console.debug(\"Bokeh: BokehJS loaded, going straight to plotting\");\n    run_inline_js();\n  } else {\n    load_libs(css_urls, js_urls, function() {\n      console.debug(\"Bokeh: BokehJS plotting callback run at\", now());\n      run_inline_js();\n    });\n  }\n}(window));"
     },
     "metadata": {},
     "output_type": "display_data"
    }
   ],
   "source": [
    "from hail.plot import show\n",
    "from pprint import pprint\n",
    "from bokeh.layouts import gridplot\n",
    "hl.plot.output_notebook()\n",
    "\n",
    "\n",
    "import numpy as np\n",
    "import pandas as pd\n",
    "from functools import reduce\n",
    "from itertools import chain\n",
    "\n",
    "from bokeh.plotting import output_notebook, show, figure\n",
    "from bokeh.palettes import viridis\n",
    "from scipy import stats\n",
    "from statsmodels.stats.multitest import fdrcorrection\n",
    "\n",
    "output_notebook()"
   ]
  },
  {
   "cell_type": "markdown",
   "id": "cffb63c1-131e-49c7-93ef-9901adfdfce3",
   "metadata": {},
   "source": [
    "### Phenotypes to investigate and their respective phenotypes in genebass:\n"
   ]
  },
  {
   "cell_type": "markdown",
   "id": "4084201f-7975-435f-b421-25263a2d8d32",
   "metadata": {},
   "source": [
    "Many of the phenotypes do not have their exact respective phenotypes, so the closest phenotype was chosen:\n",
    "\n",
    "panukb phenotype | genebass phenotype\n",
    "--------------- | ------------------\n",
    "anti_gout_agent_microtuble_polymerization_inhibitor-both_sexes | none\n",
    "allopurinol | categorical-20003-both_sexes-1140875408- - Treatment/medication code\n",
    "immature_reticulocyte_fraction | Immature reticulocyte fraction\n",
    "both_sexes--platelet_crit | Platelet crit\n",
    "biobankuk-egfrcreacys-both_sexes--estimated_glomerular_filtration_rate_cystain_c-EUR | none\n",
    "forced vital capacity best measure | fvc best measure\n",
    "biobankuk-20002-both_sexes-1309-non_cancer_illness_code_self_reported-EUR | M81 Osteoporosis without pathological fracture\n",
    "\n",
    "- gene lists were prepared from the genebass results SKAT-O tests based on the previously set genome-wide significance threshold: 2.5 × 10−7\n",
    "- We also conducted analyses for the 1 x 10-6 and 1 x 10-5 thresholds"
   ]
  },
  {
   "cell_type": "markdown",
   "id": "18a23f22-a9d0-42dd-8402-ae6555420f87",
   "metadata": {},
   "source": [
    "### Import and filter genebass:"
   ]
  },
  {
   "cell_type": "code",
   "execution_count": 10,
   "id": "f66c66f1-dcd7-43ff-ac01-8015428af397",
   "metadata": {},
   "outputs": [],
   "source": [
    "genebass = hl.read_matrix_table('/net/pr2/projects/plgrid/plggneuromol/resources/genebass-500k/results.mt')"
   ]
  },
  {
   "cell_type": "code",
   "execution_count": 11,
   "id": "305125ea-d502-4fb9-b672-73744790958b",
   "metadata": {},
   "outputs": [],
   "source": [
    "pheno_filters = (\n",
    "    genebass.coding == \"1140875408\"\n",
    ") | (\n",
    "    genebass.description == \"Immature reticulocyte fraction\"\n",
    ") | (\n",
    "    genebass.description == \"Platelet crit\"\n",
    ") | (\n",
    "    genebass.description == \"Forced vital capacity (FVC), Best measure\"\n",
    ") | (\n",
    "    genebass.description_more.contains('M81')\n",
    ")  "
   ]
  },
  {
   "cell_type": "markdown",
   "id": "f96e58e0-c799-40c5-a05d-3cc4b10fb831",
   "metadata": {},
   "source": [
    "## First lets analyse genes that were significant for missense and low-confidence lof variants"
   ]
  },
  {
   "cell_type": "code",
   "execution_count": 12,
   "id": "6aa57a6d-3d8c-4cb0-b807-39eb71413ffa",
   "metadata": {},
   "outputs": [],
   "source": [
    "genebass = genebass.filter_cols(pheno_filters)\n",
    "genebass = genebass.filter_rows(genebass.annotation == 'missense|LC')"
   ]
  },
  {
   "cell_type": "code",
   "execution_count": 13,
   "id": "19a96da9-6504-4283-bb60-019768eed2f5",
   "metadata": {},
   "outputs": [
    {
     "name": "stderr",
     "output_type": "stream",
     "text": [
      "[Stage 4:=====================================================>(999 + 1) / 1000]\r"
     ]
    },
    {
     "data": {
      "text/plain": [
       "(19403, 5)"
      ]
     },
     "execution_count": 13,
     "metadata": {},
     "output_type": "execute_result"
    }
   ],
   "source": [
    "genebass.count()"
   ]
  },
  {
   "cell_type": "markdown",
   "id": "8159bb30-f5c5-49f7-abc2-918c0bdc8271",
   "metadata": {},
   "source": [
    "### Get gene lists for different cut offs:"
   ]
  },
  {
   "cell_type": "code",
   "execution_count": 14,
   "id": "089cd0cc-e394-4ddd-9746-2b26d5d7612a",
   "metadata": {
    "tags": []
   },
   "outputs": [],
   "source": [
    "genebass = genebass.annotate_cols(\n",
    "    below_5 = hl.agg.filter((\n",
    "        genebass.Pvalue < 1e-05),\n",
    "        hl.agg.collect_as_set(genebass.gene_symbol)\n",
    "    )\n",
    ")"
   ]
  },
  {
   "cell_type": "code",
   "execution_count": 15,
   "id": "c8e82470-0efc-4a49-9f91-e835439d78cc",
   "metadata": {},
   "outputs": [],
   "source": [
    "genebass = genebass.select_cols(\n",
    "    genebass.below_5,\n",
    "    genebass.description,\n",
    "    genebass.description_more,\n",
    "    genebass.coding_description\n",
    ")"
   ]
  },
  {
   "cell_type": "code",
   "execution_count": 16,
   "id": "ca5c6fdb-69d8-4547-8ae8-b71c42143db9",
   "metadata": {},
   "outputs": [],
   "source": [
    "genebass = genebass.annotate_cols(\n",
    "    len_below_5 = hl.len(genebass.below_5)\n",
    ")"
   ]
  },
  {
   "cell_type": "code",
   "execution_count": 17,
   "id": "14236fe7-66bc-4ff5-a662-c8c5dbf97798",
   "metadata": {},
   "outputs": [],
   "source": [
    "genebass = genebass.annotate_cols(\n",
    "    description = hl.coalesce(\n",
    "        genebass.coding_description,\n",
    "        genebass.description\n",
    "    )\n",
    ")"
   ]
  },
  {
   "cell_type": "markdown",
   "id": "d8abce1b-a573-4ef5-aa60-da6f245417bb",
   "metadata": {
    "tags": []
   },
   "source": [
    "### The matrix table below has already been filtered and annotated, see preprocessing/joint-with-gts/genotype-and-filter.ipynb"
   ]
  },
  {
   "cell_type": "code",
   "execution_count": 3,
   "id": "7264a12c-1363-4360-86cd-042a3a335e20",
   "metadata": {},
   "outputs": [],
   "source": [
    "mt = hl.read_matrix_table('/net/pr2/projects/plgrid/plggneuromol/imdik-zekanowski-sportwgs/data/joint/full-healthy.mt')"
   ]
  },
  {
   "cell_type": "code",
   "execution_count": 4,
   "id": "0b7908ad-0505-4a56-ad7e-d77fbc1e8e3a",
   "metadata": {},
   "outputs": [
    {
     "data": {
      "text/plain": [
       "(2639210, 237)"
      ]
     },
     "execution_count": 4,
     "metadata": {},
     "output_type": "execute_result"
    }
   ],
   "source": [
    "mt.count()"
   ]
  },
  {
   "cell_type": "code",
   "execution_count": 5,
   "id": "19729cc0-927b-4cbe-aa1b-f3719995d529",
   "metadata": {},
   "outputs": [],
   "source": [
    "proper_controls = ['WGS_37b', 'WGS_37c', 'WGS_163d', 'WGS_7120', 'WGS_7142', 'WGS_7143', 'WGS_7152',\n",
    " 'WGS_7153', 'WGS_85b', 'WGS_147c', 'WGS_180b', 'WGS_185c', 'WGS_6819', 'S_7213', 'S_7227', 'S_7241', 'S_7246', 'S_7254', 'S_7274',\n",
    "                   'S_7307', '494', '462', '468', '492', '490'] "
   ]
  },
  {
   "cell_type": "code",
   "execution_count": 6,
   "id": "f1439d52-df30-477f-b3e9-f9de0d996313",
   "metadata": {
    "tags": []
   },
   "outputs": [
    {
     "data": {
      "text/plain": [
       "25"
      ]
     },
     "execution_count": 6,
     "metadata": {},
     "output_type": "execute_result"
    }
   ],
   "source": [
    "len(proper_controls)"
   ]
  },
  {
   "cell_type": "markdown",
   "id": "fb33d934-19a9-42a2-a2eb-4de43f32ff90",
   "metadata": {
    "tags": []
   },
   "source": [
    "### Only keep intragenic variants"
   ]
  },
  {
   "cell_type": "code",
   "execution_count": 26,
   "id": "2398e981-58d2-44e0-9dd1-df66067422fb",
   "metadata": {},
   "outputs": [],
   "source": [
    "mt = mt.filter_rows(mt.within_gene == hl.empty_array(hl.tstr), keep = False)"
   ]
  },
  {
   "cell_type": "markdown",
   "id": "32b25f69-e01c-45c6-8ee6-4c98756d37aa",
   "metadata": {
    "tags": []
   },
   "source": [
    "### Remove intervals that have regions that may be attributed to alternative loci"
   ]
  },
  {
   "cell_type": "code",
   "execution_count": 27,
   "id": "783c43d1-64a0-43a7-8e50-ddd98aaf799c",
   "metadata": {},
   "outputs": [
    {
     "name": "stderr",
     "output_type": "stream",
     "text": [
      "2023-03-06 10:40:38.405 Hail: INFO: wrote table with 260 rows in 1 partition to /net/ascratch/people/plggosborcz/hail-temp/persist_tableOLmIkK7FAu\n",
      "2023-03-06 10:40:38.807 Hail: INFO: Reading table without type imputation\n",
      "  Loading field 'f0' as type str (user-supplied)\n",
      "  Loading field 'f1' as type int32 (user-supplied)\n",
      "  Loading field 'f2' as type int32 (user-supplied)\n",
      "  Loading field 'f3' as type str (user-supplied)\n",
      "  Loading field 'f4' as type str (user-supplied)\n",
      "  Loading field 'f5' as type str (not specified)\n",
      "  Loading field 'f6' as type str (not specified)\n"
     ]
    }
   ],
   "source": [
    "bed = hl.import_bed(\n",
    "    '/net/pr2/projects/plgrid/plggneuromol/matzieb/projects/imdik-zekanowski-sportwgs/data/prs-data/all-alt-scaffold-placement-GRCh38.p14.bed',\n",
    "    reference_genome='GRCh38'\n",
    ")"
   ]
  },
  {
   "cell_type": "code",
   "execution_count": 28,
   "id": "ba849ffb-5535-4ff3-9cb6-35a0b853f4ab",
   "metadata": {},
   "outputs": [
    {
     "name": "stderr",
     "output_type": "stream",
     "text": [
      "2023-03-06 10:40:48.556 Hail: INFO: Ordering unsorted dataset with network shuffle\n",
      "2023-03-06 10:40:49.289 Hail: INFO: Ordering unsorted dataset with network shuffle\n",
      "2023-03-06 10:44:17.343 Hail: INFO: wrote matrix table with 1682209 rows and 237 columns in 14999 partitions to /net/ascratch/people/plggosborcz/no-alt.mt\n"
     ]
    }
   ],
   "source": [
    "mt = mt.filter_rows(hl.is_defined(bed[mt.locus]), keep = False)\n",
    "mt.write('/net/ascratch/people/plggosborcz/no-alt.mt', overwrite = True)"
   ]
  },
  {
   "cell_type": "code",
   "execution_count": 7,
   "id": "8b1a44bd-8c18-49c3-8289-2070b291f860",
   "metadata": {
    "tags": []
   },
   "outputs": [],
   "source": [
    "mt = hl.read_matrix_table('/net/ascratch/people/plggosborcz/no-alt.mt')"
   ]
  },
  {
   "cell_type": "markdown",
   "id": "63426b12-17d6-440c-8b92-122baa4b67a9",
   "metadata": {
    "tags": []
   },
   "source": [
    "### Only keep proprerly healthy controls"
   ]
  },
  {
   "cell_type": "code",
   "execution_count": 8,
   "id": "1404bae2-f782-4c19-8c8e-841f12386c46",
   "metadata": {},
   "outputs": [
    {
     "data": {
      "text/plain": [
       "{'1kg': 98, 'control': 39, 'sport': 100}"
      ]
     },
     "execution_count": 8,
     "metadata": {},
     "output_type": "execute_result"
    }
   ],
   "source": [
    "mt.aggregate_cols(hl.agg.counter(mt.group))"
   ]
  },
  {
   "cell_type": "code",
   "execution_count": 31,
   "id": "e16442b5-e2c6-45dd-ac56-e600ca9f9b25",
   "metadata": {},
   "outputs": [],
   "source": [
    "mt = mt.filter_cols(\n",
    "    (mt.group == '1kg') | (mt.group == 'sport') | (hl.literal(proper_controls)).contains(mt.s)\n",
    ")"
   ]
  },
  {
   "cell_type": "code",
   "execution_count": 32,
   "id": "5fb78338-1996-44ae-9f6f-27925e723a89",
   "metadata": {},
   "outputs": [
    {
     "name": "stderr",
     "output_type": "stream",
     "text": [
      "2023-03-06 10:49:11.467 Hail: INFO: wrote matrix table with 1682209 rows and 220 columns in 14999 partitions to /net/ascratch/people/plggosborcz/filtered.mt\n"
     ]
    }
   ],
   "source": [
    "mt.write('/net/ascratch/people/plggosborcz/filtered.mt', overwrite = True)\n",
    "mt = hl.read_matrix_table('/net/ascratch/people/plggosborcz/filtered.mt')"
   ]
  },
  {
   "cell_type": "code",
   "execution_count": 33,
   "id": "d86b0409-0602-4d89-bd18-dd781d886140",
   "metadata": {},
   "outputs": [
    {
     "data": {
      "text/plain": [
       "(1682209, 220)"
      ]
     },
     "execution_count": 33,
     "metadata": {},
     "output_type": "execute_result"
    }
   ],
   "source": [
    "mt.count()"
   ]
  },
  {
   "cell_type": "code",
   "execution_count": null,
   "id": "73cf58d0-3419-4ac3-aa59-3af561725823",
   "metadata": {},
   "outputs": [
    {
     "name": "stderr",
     "output_type": "stream",
     "text": [
      "[Stage 13:=>                                                     (4 + 30) / 200]\r"
     ]
    }
   ],
   "source": [
    "mt.naive_coalesce(200).write('/net/ascratch/people/plggosborcz/repartitioned.mt', overwrite = True)"
   ]
  },
  {
   "cell_type": "code",
   "execution_count": 9,
   "id": "872e7388-d8b0-4f83-84eb-15ab6ba114e9",
   "metadata": {},
   "outputs": [],
   "source": [
    "mt = hl.read_matrix_table('/net/ascratch/people/plggosborcz/repartitioned.mt')"
   ]
  },
  {
   "cell_type": "markdown",
   "id": "2bf4606a-e113-4254-a94f-f19c5a7b310a",
   "metadata": {
    "tags": []
   },
   "source": [
    "## calculate per-gene burden:\n",
    " - sum of CADD for variants with CADD > 10"
   ]
  },
  {
   "cell_type": "code",
   "execution_count": null,
   "id": "e1358965-12c9-4b75-a8bd-21af507ace87",
   "metadata": {},
   "outputs": [],
   "source": [
    "mt = mt.explode_rows(mt.within_gene)\n",
    "mt.write('/net/ascratch/people/plggosborcz/exploded.mt', overwrite = True)"
   ]
  },
  {
   "cell_type": "code",
   "execution_count": 10,
   "id": "70666368-b982-47c0-aa2a-317fcc1ab0a5",
   "metadata": {},
   "outputs": [],
   "source": [
    "mt = hl.read_matrix_table('/net/ascratch/people/plggosborcz/exploded.mt')"
   ]
  },
  {
   "cell_type": "code",
   "execution_count": 11,
   "id": "c5c37754-3d90-4d4b-b5a4-3afdfa9f013c",
   "metadata": {},
   "outputs": [],
   "source": [
    "mt = mt.filter_cols(mt.s != '494')"
   ]
  },
  {
   "cell_type": "code",
   "execution_count": 51,
   "id": "df26c437-3365-4b19-b1a4-a1b08dab2959",
   "metadata": {},
   "outputs": [],
   "source": [
    "# edit here, we need 3 more options - continous will be for logistic regression (for phenotype) - \n",
    "\n",
    "mt = mt.annotate_entries(\n",
    "    cadd_10 = hl.if_else(\n",
    "        (mt.cadd.cadd_score > 10),\n",
    "        (mt.GT.n_alt_alleles()*mt.cadd.cadd_score),\n",
    "        hl.int(0)\n",
    "    )                       \n",
    ")"
   ]
  },
  {
   "cell_type": "code",
   "execution_count": 52,
   "id": "08bc84ab-708d-4724-a4ed-08b346b54f09",
   "metadata": {},
   "outputs": [
    {
     "name": "stderr",
     "output_type": "stream",
     "text": [
      "2023-03-06 11:45:04.506 Hail: INFO: wrote matrix table with 1914483 rows and 219 columns in 200 partitions to /net/pr2/projects/plgrid/plggneuromol/imdik-zekanowski-sportwgs/data/hail-mts/for_burden.mt\n"
     ]
    }
   ],
   "source": [
    "mt.write('/net/pr2/projects/plgrid/plggneuromol/imdik-zekanowski-sportwgs/data/hail-mts/for_burden.mt', overwrite = True)"
   ]
  },
  {
   "cell_type": "code",
   "execution_count": 3,
   "id": "4976fb18-a48e-4941-829a-152931d0164d",
   "metadata": {},
   "outputs": [],
   "source": [
    "mt = hl.read_matrix_table('/net/pr2/projects/plgrid/plggneuromol/imdik-zekanowski-sportwgs/data/hail-mts/for_burden.mt')"
   ]
  },
  {
   "cell_type": "code",
   "execution_count": 4,
   "id": "cde10a1a-9995-4d2e-80c7-fda961e2fd97",
   "metadata": {},
   "outputs": [],
   "source": [
    "per_gene = mt.group_rows_by(\n",
    "    mt.within_gene).aggregate(\n",
    "    cadd_above_10_sum = hl.agg.sum(mt.cadd_10)\n",
    ")"
   ]
  },
  {
   "cell_type": "code",
   "execution_count": 5,
   "id": "aaf687d3-f27f-4d83-8bab-b8d28f0349ee",
   "metadata": {},
   "outputs": [
    {
     "name": "stderr",
     "output_type": "stream",
     "text": [
      "2023-11-29 16:43:24.340 Hail: INFO: Ordering unsorted dataset with network shuffle\n",
      "2023-11-29 16:43:45.360 Hail: INFO: wrote matrix table with 36210 rows and 219 columns in 1 partition to /net/ascratch/people/plggosborcz/per_gene.mt\n"
     ]
    }
   ],
   "source": [
    "per_gene = per_gene.naive_coalesce(1)\n",
    "per_gene.write('/net/ascratch/people/plggosborcz/per_gene.mt', overwrite = True)"
   ]
  },
  {
   "cell_type": "code",
   "execution_count": 6,
   "id": "955fbac8-7124-4753-b42e-a276ff12920d",
   "metadata": {},
   "outputs": [],
   "source": [
    "per_gene = hl.read_matrix_table('/net/ascratch/people/plggosborcz/per_gene.mt')"
   ]
  },
  {
   "cell_type": "code",
   "execution_count": 7,
   "id": "423e8827-2384-43b2-aa53-fc18e5641d56",
   "metadata": {
    "tags": []
   },
   "outputs": [],
   "source": [
    "per_gene = per_gene.filter_rows(\n",
    "    hl.agg.any(\n",
    "        (\n",
    "            per_gene.cadd_above_10_sum > 0\n",
    "        ) \n",
    "    )\n",
    ")"
   ]
  },
  {
   "cell_type": "code",
   "execution_count": 18,
   "id": "2c1c993a-dc20-403e-b342-c2178437ad67",
   "metadata": {},
   "outputs": [
    {
     "name": "stderr",
     "output_type": "stream",
     "text": [
      "[Stage 5:>                                                          (0 + 1) / 1]\r"
     ]
    },
    {
     "data": {
      "text/plain": [
       "(20565, 219)"
      ]
     },
     "execution_count": 18,
     "metadata": {},
     "output_type": "execute_result"
    }
   ],
   "source": [
    "per_gene.count()"
   ]
  },
  {
   "cell_type": "markdown",
   "id": "42906c44-19be-41c8-9671-af6d64cce10e",
   "metadata": {
    "tags": []
   },
   "source": [
    "### Annotate the per gene table with phenotypes:"
   ]
  },
  {
   "cell_type": "code",
   "execution_count": 19,
   "id": "3527d92a-7899-4547-bd84-82d336543988",
   "metadata": {
    "tags": []
   },
   "outputs": [],
   "source": [
    "burden_opts = ['cadd_above_10_sum']"
   ]
  },
  {
   "cell_type": "code",
   "execution_count": 20,
   "id": "14e02bef-ddb2-4fc9-8b32-5caf420d9770",
   "metadata": {},
   "outputs": [
    {
     "name": "stderr",
     "output_type": "stream",
     "text": [
      "2023-11-29 17:14:04.715 Hail: WARN: cols(): Resulting column table is sorted by 'col_key'.\n",
      "    To preserve matrix table column order, first unkey columns with 'key_cols_by()'\n",
      "2023-11-29 17:14:18.541 Hail: INFO: Coerced sorted dataset====>(999 + 1) / 1000]\n",
      "2023-11-29 17:14:19.164 Hail: INFO: wrote table with 5 rows in 1 partition to /net/ascratch/people/plggosborcz/gb.ht\n"
     ]
    }
   ],
   "source": [
    "gb = genebass.cols()\n",
    "gb = gb.naive_coalesce(1)\n",
    "gb.write('/net/ascratch/people/plggosborcz/gb.ht', overwrite = True)"
   ]
  },
  {
   "cell_type": "code",
   "execution_count": 4,
   "id": "ea0e720e-b925-4bc6-ac95-706379d537d6",
   "metadata": {},
   "outputs": [],
   "source": [
    "gb = hl.read_table('/net/ascratch/people/plggosborcz/gb.ht')"
   ]
  },
  {
   "cell_type": "code",
   "execution_count": 22,
   "id": "d8cba993-1ff8-4811-8ba8-d67902e36e80",
   "metadata": {},
   "outputs": [],
   "source": [
    "per_gene = per_gene.key_rows_by(per_gene.within_gene)"
   ]
  },
  {
   "cell_type": "code",
   "execution_count": 23,
   "id": "1aef3fc7-810d-45e9-8a62-4c689cf2c78f",
   "metadata": {},
   "outputs": [],
   "source": [
    "options = ['below_5']\n",
    "\n",
    "for o in options:\n",
    "    res = gb.explode(gb[o])\n",
    "    res = res.key_by(res[o])\n",
    "    \n",
    "    per_gene = per_gene.annotate_rows(\n",
    "        **{\n",
    "        o: res.index(per_gene.row_key, all_matches= True)['description']\n",
    "        }\n",
    "    )"
   ]
  },
  {
   "cell_type": "code",
   "execution_count": 24,
   "id": "843ff5cc-c57a-42c4-80ec-52944932f3c4",
   "metadata": {},
   "outputs": [],
   "source": [
    "per_gene = per_gene.naive_coalesce(1)"
   ]
  },
  {
   "cell_type": "code",
   "execution_count": 25,
   "id": "45858c77-af11-4c44-a9d8-46dd7e18cb5f",
   "metadata": {
    "tags": []
   },
   "outputs": [
    {
     "name": "stderr",
     "output_type": "stream",
     "text": [
      "2023-11-29 17:14:19.763 Hail: INFO: Ordering unsorted dataset with network shuffle\n",
      "2023-11-29 17:14:20.061 Hail: INFO: Ordering unsorted dataset with network shuffle\n",
      "2023-11-29 17:14:20.343 Hail: INFO: Ordering unsorted dataset with network shuffle\n",
      "2023-11-29 17:14:20.606 Hail: INFO: Ordering unsorted dataset with network shuffle\n",
      "2023-11-29 17:14:29.840 Hail: INFO: wrote matrix table with 20565 rows and 219 columns in 1 partition to /net/ascratch/people/plggosborcz/per-gene-pheno.ht\n"
     ]
    }
   ],
   "source": [
    "per_gene.write('/net/ascratch/people/plggosborcz/per-gene-pheno.ht', overwrite = True)"
   ]
  },
  {
   "cell_type": "code",
   "execution_count": 6,
   "id": "fbf5c58d-be29-487c-8212-5d9b836ef554",
   "metadata": {},
   "outputs": [],
   "source": [
    "mt = hl.read_matrix_table('/net/ascratch/people/plggosborcz/per-gene-pheno.ht')"
   ]
  },
  {
   "cell_type": "markdown",
   "id": "07b43066-6048-4305-9da5-e1433f71cdcc",
   "metadata": {
    "tags": []
   },
   "source": [
    "### Look for differences in burden in any individual gene from the below_5 list"
   ]
  },
  {
   "cell_type": "code",
   "execution_count": 7,
   "id": "2764557e-91fa-4866-8ee4-4ca3e913bd01",
   "metadata": {},
   "outputs": [],
   "source": [
    "mt_single = mt.filter_rows(hl.is_defined(mt.below_5))"
   ]
  },
  {
   "cell_type": "code",
   "execution_count": 8,
   "id": "ad303627-ac2f-424b-95bc-1ab4c968c1ce",
   "metadata": {},
   "outputs": [
    {
     "name": "stderr",
     "output_type": "stream",
     "text": [
      "[Stage 0:>                                                          (0 + 1) / 1]\r"
     ]
    }
   ],
   "source": [
    "gene_list = list(\n",
    "    set(\n",
    "        mt_single.explode_rows(\n",
    "            mt_single.below_5\n",
    "        )['within_gene'].collect()\n",
    "    )\n",
    ")"
   ]
  },
  {
   "cell_type": "code",
   "execution_count": 9,
   "id": "87553ffa-6aeb-44a7-b933-6c28f82daad9",
   "metadata": {},
   "outputs": [
    {
     "name": "stderr",
     "output_type": "stream",
     "text": [
      "2024-01-08 13:26:31.653 Hail: WARN: entries(): Resulting entries table is sorted by '(row_key, col_key)'.\n",
      "    To preserve row-major matrix table order, first unkey columns with 'key_cols_by()'\n"
     ]
    }
   ],
   "source": [
    "mt_single = mt_single.entries()"
   ]
  },
  {
   "cell_type": "code",
   "execution_count": 10,
   "id": "63fcba55-18ba-4f3b-b798-8653e02a43b9",
   "metadata": {},
   "outputs": [],
   "source": [
    "mt_single = mt_single.select(\n",
    "    genebass_pheno = mt_single.below_5,\n",
    "    group = mt_single.group,\n",
    "    sport_type = mt_single.sport_phenotypes.type,\n",
    "    cadd_above_10_sum =  mt_single['cadd_above_10_sum']\n",
    ")"
   ]
  },
  {
   "cell_type": "code",
   "execution_count": 11,
   "id": "e6d0f82b-d001-459a-b0e1-3c8b6177f920",
   "metadata": {
    "tags": []
   },
   "outputs": [
    {
     "data": {
      "text/plain": [
       "95"
      ]
     },
     "execution_count": 11,
     "metadata": {},
     "output_type": "execute_result"
    }
   ],
   "source": [
    "len(\n",
    "    mt_single.aggregate(hl.agg.collect_as_set(mt_single.within_gene))\n",
    ")"
   ]
  },
  {
   "cell_type": "code",
   "execution_count": 12,
   "id": "00f9f896-2bde-4669-9780-d2896dc1063c",
   "metadata": {},
   "outputs": [],
   "source": [
    "# annotate with swimmers vs weightlifters"
   ]
  },
  {
   "cell_type": "code",
   "execution_count": 13,
   "id": "3be7f32b-79e6-48ef-9963-9201c16907e5",
   "metadata": {
    "tags": []
   },
   "outputs": [
    {
     "name": "stderr",
     "output_type": "stream",
     "text": [
      "2024-01-08 13:26:34.441 Hail: INFO: wrote table with 101 rows in 1 partition to /net/ascratch/people/plggosborcz/hail-temp/persist_tableuf7kKnFmRW\n",
      "2024-01-08 13:26:35.362 Hail: WARN: Name collision: field 'sample' already in object dict. \n",
      "  This field must be referenced with __getitem__ syntax: obj['sample']\n",
      "2024-01-08 13:26:35.366 Hail: INFO: Reading table without type imputation\n",
      "  Loading field 'sample' as type str (not specified)\n",
      "  Loading field 'pop' as type str (not specified)\n",
      "  Loading field 'super_pop' as type str (not specified)\n",
      "  Loading field 'sport' as type str (not specified)\n",
      "  Loading field 'age' as type str (not specified)\n",
      "  Loading field 'sport_simple' as type str (not specified)\n"
     ]
    }
   ],
   "source": [
    "sport_pheno = hl.import_table('sportsmen-info-sport.tsv')"
   ]
  },
  {
   "cell_type": "code",
   "execution_count": 14,
   "id": "056bbf29-b021-4573-9a1a-f78e43cf8520",
   "metadata": {
    "tags": []
   },
   "outputs": [],
   "source": [
    "mt_single = mt_single.key_by(mt_single.s)"
   ]
  },
  {
   "cell_type": "code",
   "execution_count": 15,
   "id": "97d0dd37-d12e-4b44-bafd-6d5225ac7211",
   "metadata": {
    "tags": []
   },
   "outputs": [],
   "source": [
    "sport_pheno = sport_pheno.key_by(sport_pheno['sample'])"
   ]
  },
  {
   "cell_type": "code",
   "execution_count": 16,
   "id": "5658796a-600c-4887-8c58-86e51af6af21",
   "metadata": {
    "tags": []
   },
   "outputs": [],
   "source": [
    "mt_single = mt_single.annotate(\n",
    "    sport_simple = sport_pheno[mt_single.key].sport_simple\n",
    ")"
   ]
  },
  {
   "cell_type": "code",
   "execution_count": 17,
   "id": "b1180227-a32c-485c-a57c-a3899f277212",
   "metadata": {},
   "outputs": [
    {
     "name": "stderr",
     "output_type": "stream",
     "text": [
      "2024-01-08 13:26:36.397 Hail: INFO: Ordering unsorted dataset with network shuffle\n",
      "2024-01-08 13:26:36.631 Hail: INFO: Coerced sorted dataset\n"
     ]
    }
   ],
   "source": [
    "mt_single = mt_single.to_pandas()"
   ]
  },
  {
   "cell_type": "code",
   "execution_count": 18,
   "id": "ec18299f-921c-45a5-a9ca-98f4eae65c1b",
   "metadata": {},
   "outputs": [],
   "source": [
    "def ttest(df, groups, group_field, burden_field):\n",
    "    pval = stats.ttest_ind(\n",
    "        list(pd.to_numeric(df[df[group_field] == groups[0]][burden_field])),\n",
    "        list(pd.to_numeric(df[df[group_field] == groups[1]][burden_field]))\n",
    "    ).pvalue\n",
    "    return pval"
   ]
  },
  {
   "cell_type": "code",
   "execution_count": 19,
   "id": "74ea94a4-ca9f-43b6-8817-74498be317fa",
   "metadata": {
    "tags": []
   },
   "outputs": [],
   "source": [
    "mt_single_grouped = mt_single.groupby('within_gene')"
   ]
  },
  {
   "cell_type": "markdown",
   "id": "9fdaf84e-5ebd-462b-8f3f-a7eb97e3d45a",
   "metadata": {},
   "source": [
    "### Make graphs for the top genes"
   ]
  },
  {
   "cell_type": "code",
   "execution_count": 20,
   "id": "015d7ffa-ec96-455b-949f-4811b52f5154",
   "metadata": {
    "tags": []
   },
   "outputs": [
    {
     "data": {
      "text/plain": [
       "Index(['within_gene', 's', 'genebass_pheno', 'group', 'sport_type',\n",
       "       'cadd_above_10_sum', 'sport_simple'],\n",
       "      dtype='object')"
      ]
     },
     "execution_count": 20,
     "metadata": {},
     "output_type": "execute_result"
    }
   ],
   "source": [
    "mt_single.columns"
   ]
  },
  {
   "cell_type": "code",
   "execution_count": 21,
   "id": "d2c38cd5-385c-4ee7-aae0-3c27c9ae2fd5",
   "metadata": {
    "tags": []
   },
   "outputs": [
    {
     "data": {
      "text/plain": [
       "<StringArray>\n",
       "[      <NA>,     'athl',     'swim',   'rowing',  'Maraton', 'xcskiing',\n",
       "  'walk20k',  'weights',  'trojboj',  'skating']\n",
       "Length: 10, dtype: string"
      ]
     },
     "execution_count": 21,
     "metadata": {},
     "output_type": "execute_result"
    }
   ],
   "source": [
    "mt_single['sport_simple'].unique()"
   ]
  },
  {
   "cell_type": "code",
   "execution_count": 22,
   "id": "7c327ff0-199c-4325-9213-4336967a6a9f",
   "metadata": {
    "tags": []
   },
   "outputs": [],
   "source": [
    "# option:\n",
    "\n",
    "groups = mt_single[(\n",
    "    mt_single['within_gene'] == 'WDR6'\n",
    ") & ((\n",
    "    mt_single['sport_simple'] == 'swim'\n",
    ") | (\n",
    "    mt_single['sport_simple'] == 'weights'\n",
    "))]"
   ]
  },
  {
   "cell_type": "markdown",
   "id": "ed6f6a13-9771-4095-8b36-003e48288073",
   "metadata": {},
   "source": [
    "NPAS4\n",
    "PPP1R15A - osteoporosis\n",
    "IHH\n",
    "CRTAC1\n",
    "WDR6"
   ]
  },
  {
   "cell_type": "code",
   "execution_count": 27,
   "id": "e59ee5c1-c19a-4893-a67d-2550e0ed1533",
   "metadata": {
    "tags": []
   },
   "outputs": [
    {
     "data": {
      "text/plain": [
       "[Text(0.5, 1.0, 'WDR6 - Forced Vital Capacity')]"
      ]
     },
     "execution_count": 27,
     "metadata": {},
     "output_type": "execute_result"
    },
    {
     "data": {
      "image/png": "[encoded data removed]",
      "text/plain": [
       "<Figure size 640x480 with 1 Axes>"
      ]
     },
     "metadata": {},
     "output_type": "display_data"
    }
   ],
   "source": [
    "palette = [\"#CCE0DF\", \"#EBCCDF\"]\n",
    "\n",
    "sns.violinplot(\n",
    "    groups,\n",
    "    x='sport_simple',\n",
    "    y='cadd_above_10_sum',\n",
    "    color='lightsteelblue',\n",
    "    hue='sport_simple',\n",
    "    palette=palette\n",
    "    \n",
    ").set(\n",
    "    title='WDR6 - Forced Vital Capacity',\n",
    "    #ylim=(-10,100)\n",
    ")\n"
   ]
  },
  {
   "cell_type": "markdown",
   "id": "2fbf1406-5ef6-4afe-9d53-8768c4e7c9e9",
   "metadata": {},
   "source": [
    "### perform tests and export results"
   ]
  },
  {
   "cell_type": "code",
   "execution_count": 21,
   "id": "c2d487b8-bf2c-4d8a-8c24-a9438578e2ed",
   "metadata": {},
   "outputs": [],
   "source": [
    "burden_opts = [\n",
    "    'cadd_above_10_sum'\n",
    "]\n",
    "\n",
    "comparisons = [\n",
    "    [['sport','control'],'group'],\n",
    "    [['control','1kg'],'group'],\n",
    "    [['1kg','sport'],'group'],\n",
    "    [['endurance','speed'],'sport_type'],\n",
    "    [['swim','weights'],'sport_simple']\n",
    "]\n",
    "\n",
    "groups = [['sport','group'],\n",
    "          ['control','group'],\n",
    "          ['1kg','group'],\n",
    "          ['endurance','sport_type'],\n",
    "          ['speed','sport_type'],\n",
    "          ['swim', 'sport_simple'],\n",
    "          ['weights', 'sport_simple']]"
   ]
  },
  {
   "cell_type": "code",
   "execution_count": 22,
   "id": "f39e683b-0dd1-4f01-990e-c232784dda13",
   "metadata": {},
   "outputs": [
    {
     "name": "stderr",
     "output_type": "stream",
     "text": [
      "/net/ascratch/people/plggosborcz/slurm_jobdir/6838963/tmp/ipykernel_4033051/51355450.py:2: RuntimeWarning: Precision loss occurred in moment calculation due to catastrophic cancellation. This occurs when the data are nearly identical. Results may be unreliable.\n",
      "  pval = stats.ttest_ind(\n"
     ]
    }
   ],
   "source": [
    "out = {\n",
    "    f'{o}_{groups[0]}_vs_{groups[1]}_p_value': mt_single_grouped.apply(\n",
    "        lambda df: ttest(df, groups, group_field, o)\n",
    "    )\n",
    "    for o in burden_opts\n",
    "    for groups, group_field in comparisons\n",
    "    }"
   ]
  },
  {
   "cell_type": "code",
   "execution_count": 23,
   "id": "196a6b6a-fd78-4100-a805-3957095cd02f",
   "metadata": {},
   "outputs": [],
   "source": [
    "stds = {\n",
    "    f'{o}_{group}_std': mt_single_grouped.apply(\n",
    "        lambda df: df[df[group_col] == group][o].std()\n",
    "    )\n",
    "    for o in burden_opts\n",
    "    for group, group_col in groups\n",
    "}\n",
    "\n",
    "means = {\n",
    "    f'{o}_{group}_mean': mt_single_grouped.apply(\n",
    "        lambda df: df[df[group_col] == group][o].mean()\n",
    "    )\n",
    "    for o in burden_opts\n",
    "    for group, group_col in groups\n",
    "}"
   ]
  },
  {
   "cell_type": "code",
   "execution_count": 24,
   "id": "a05f2cfe-9fa7-442f-bf45-ab60a1d3705d",
   "metadata": {},
   "outputs": [],
   "source": [
    "out.update(means)"
   ]
  },
  {
   "cell_type": "code",
   "execution_count": 25,
   "id": "43b01411-f7f1-46d5-84c8-4a522282d03a",
   "metadata": {},
   "outputs": [],
   "source": [
    "out.update(stds)"
   ]
  },
  {
   "cell_type": "code",
   "execution_count": 26,
   "id": "4a155ceb-6605-4843-b4b8-546a3a57f1a1",
   "metadata": {
    "tags": []
   },
   "outputs": [],
   "source": [
    "df = pd.DataFrame(out)"
   ]
  },
  {
   "cell_type": "code",
   "execution_count": 27,
   "id": "439280a3-cacf-4535-92cb-b911840bbd38",
   "metadata": {
    "tags": []
   },
   "outputs": [],
   "source": [
    "for o in burden_opts:\n",
    "    for groups, group_field in comparisons:\n",
    "        df[\n",
    "            f'{o}_{groups[0]}_vs_{groups[1]}_fdr'\n",
    "        ] = fdrcorrection(\n",
    "            df[\n",
    "                f'{o}_{groups[0]}_vs_{groups[1]}_p_value'\n",
    "            ].fillna(1),\n",
    "            alpha=0.1    \n",
    "        )[1]"
   ]
  },
  {
   "cell_type": "code",
   "execution_count": 28,
   "id": "9aa3a6d2-2810-46ef-a5c1-62c1668e09ec",
   "metadata": {
    "tags": []
   },
   "outputs": [],
   "source": [
    "df.loc[:, df.columns.str.contains('cadd_above_10_sum')].to_csv('burden-results.csv')"
   ]
  },
  {
   "cell_type": "code",
   "execution_count": 29,
   "id": "32e15456-3cc9-4b64-9742-26ed458ecbd8",
   "metadata": {},
   "outputs": [],
   "source": [
    "df = df.loc[:, df.columns.str.contains('cadd_above_10_sum')]"
   ]
  },
  {
   "cell_type": "code",
   "execution_count": 30,
   "id": "221586ca-1d02-49d8-98b1-a66febde0d12",
   "metadata": {
    "tags": []
   },
   "outputs": [],
   "source": [
    "df.to_csv('burden-results.csv')"
   ]
  },
  {
   "cell_type": "code",
   "execution_count": 31,
   "id": "eaf475b4-dbde-478c-b802-9e88bb291640",
   "metadata": {
    "tags": []
   },
   "outputs": [],
   "source": [
    "# get phenoos for each of the genes\n",
    "\n",
    "sel_pheno_genes = gb.explode(gb.below_5)"
   ]
  },
  {
   "cell_type": "code",
   "execution_count": 32,
   "id": "bd491972-cfb4-4344-9913-fab4b9c22b3a",
   "metadata": {
    "tags": []
   },
   "outputs": [],
   "source": [
    "genes = hl.literal(list(df.index))"
   ]
  },
  {
   "cell_type": "code",
   "execution_count": 33,
   "id": "88721d7e-ecd6-45e0-9297-02e4a0b8b33a",
   "metadata": {
    "tags": []
   },
   "outputs": [],
   "source": [
    "sel_pheno_genes = sel_pheno_genes.filter(genes.contains(sel_pheno_genes.below_5))"
   ]
  },
  {
   "cell_type": "code",
   "execution_count": 34,
   "id": "e94290da-cb8a-46d8-91c4-fe1584d20444",
   "metadata": {
    "tags": []
   },
   "outputs": [
    {
     "data": {
      "text/plain": [
       "101"
      ]
     },
     "execution_count": 34,
     "metadata": {},
     "output_type": "execute_result"
    }
   ],
   "source": [
    "sel_pheno_genes.count()"
   ]
  },
  {
   "cell_type": "code",
   "execution_count": 35,
   "id": "6a39a795-6e91-4826-8c32-f57d65ddd171",
   "metadata": {
    "tags": []
   },
   "outputs": [],
   "source": [
    "sel_pheno_genes = sel_pheno_genes.to_pandas()"
   ]
  },
  {
   "cell_type": "code",
   "execution_count": 35,
   "id": "ddd69b34-08f3-4e83-a77d-bd8a65ca9db6",
   "metadata": {
    "tags": []
   },
   "outputs": [],
   "source": [
    "sel_pheno_genes.to_csv('genebass_for_top_genes.csv')"
   ]
  },
  {
   "cell_type": "markdown",
   "id": "c8b9ab7c-138e-4232-951e-b810b522def3",
   "metadata": {
    "tags": []
   },
   "source": [
    "### get burden for endurance vs speed only\n",
    "\n",
    "- these are the following pgenotypes:\n",
    "\n",
    "['allopurinol', 'Platelet crit', 'Immature reticulocyte fraction']"
   ]
  },
  {
   "cell_type": "code",
   "execution_count": 61,
   "id": "b78490f9-a25a-402c-8490-0f14ef5da34e",
   "metadata": {
    "tags": []
   },
   "outputs": [],
   "source": [
    "e_vs_genes = list(sel_pheno_genes[\n",
    "    sel_pheno_genes['description'].isin(\n",
    "        ['allopurinol',\n",
    "         'Platelet crit',\n",
    "         'Immature reticulocyte fraction'])]['below_5'])"
   ]
  },
  {
   "cell_type": "code",
   "execution_count": 62,
   "id": "189fe76a-e15c-4c39-a03c-c0c2b7ba0aa8",
   "metadata": {
    "collapsed": true,
    "jupyter": {
     "outputs_hidden": true
    },
    "tags": []
   },
   "outputs": [
    {
     "data": {
      "text/plain": [
       "['ABCG2',\n",
       " 'ALDH16A1',\n",
       " 'SLC22A12',\n",
       " 'AC126283.2',\n",
       " 'ACVRL1',\n",
       " 'AHI1',\n",
       " 'AMOTL1',\n",
       " 'ATXN2',\n",
       " 'BAK1',\n",
       " 'BCL2L1',\n",
       " 'BSN',\n",
       " 'CD36',\n",
       " 'CHEK2',\n",
       " 'CUX2',\n",
       " 'DCLRE1B',\n",
       " 'EEF1AKMT4',\n",
       " 'EEF1AKMT4-ECE2',\n",
       " 'ITGA2B',\n",
       " 'ITPR3',\n",
       " 'JAK2',\n",
       " 'KIF16B',\n",
       " 'LAPTM5',\n",
       " 'LEMD2',\n",
       " 'LY75',\n",
       " 'LY75-CD302',\n",
       " 'MFSD2B',\n",
       " 'NAA25',\n",
       " 'NLRP3',\n",
       " 'PIEZO1',\n",
       " 'PLA2G12A',\n",
       " 'PLEK',\n",
       " 'PLSCR4',\n",
       " 'POR',\n",
       " 'RCL1',\n",
       " 'S1PR4',\n",
       " 'SH2B3',\n",
       " 'SLA',\n",
       " 'SLC1A1',\n",
       " 'SLFN14',\n",
       " 'TFR2',\n",
       " 'THPO',\n",
       " 'TIE1',\n",
       " 'TNFRSF13B',\n",
       " 'TUBB1',\n",
       " 'YEATS2',\n",
       " 'ZFAT',\n",
       " 'ZNF469',\n",
       " 'AL451136.1',\n",
       " 'AMPD3',\n",
       " 'ARHGAP21',\n",
       " 'BSN',\n",
       " 'CCDC124',\n",
       " 'CCDC88B',\n",
       " 'DOCK6',\n",
       " 'EIF2AK1',\n",
       " 'FERMT3',\n",
       " 'GMPR',\n",
       " 'HBB',\n",
       " 'MFSD2B',\n",
       " 'NKAPL',\n",
       " 'OR10R2',\n",
       " 'OSMR',\n",
       " 'PELO',\n",
       " 'PIEZO1',\n",
       " 'QTRT1',\n",
       " 'R3HDM4',\n",
       " 'RIOK3',\n",
       " 'RNF123',\n",
       " 'RNF212',\n",
       " 'S1PR2',\n",
       " 'SLC45A4',\n",
       " 'SLFN14',\n",
       " 'SNX17',\n",
       " 'SPHK1',\n",
       " 'WASHC2C']"
      ]
     },
     "execution_count": 62,
     "metadata": {},
     "output_type": "execute_result"
    }
   ],
   "source": [
    "e_vs_genes"
   ]
  },
  {
   "cell_type": "code",
   "execution_count": 63,
   "id": "15d78472-0af5-4530-8433-e2e405912dfd",
   "metadata": {
    "tags": []
   },
   "outputs": [],
   "source": [
    "mt_single_e_vs_s = mt_single[mt_single['within_gene'].isin(e_vs_genes)]"
   ]
  },
  {
   "cell_type": "code",
   "execution_count": 64,
   "id": "1a13b9d6-272c-419e-9e81-676e58226192",
   "metadata": {
    "tags": []
   },
   "outputs": [],
   "source": [
    "mt_single_e_vs_s_grouped = mt_single_e_vs_s.groupby('within_gene')"
   ]
  },
  {
   "cell_type": "code",
   "execution_count": 65,
   "id": "bb5a9c84-3e6d-4d68-bb0b-b332d6eb8c6d",
   "metadata": {},
   "outputs": [],
   "source": [
    "burden_opts = [\n",
    "    'cadd_above_10_sum'\n",
    "]\n",
    "\n",
    "comparisons = [\n",
    "    [['sport','control'],'group'],\n",
    "    [['control','1kg'],'group'],\n",
    "    [['1kg','sport'],'group'],\n",
    "    [['endurance','speed'],'sport_type'],\n",
    "    [['swim','weights'],'sport_simple']\n",
    "]\n",
    "\n",
    "groups = [['sport','group'],\n",
    "          ['control','group'],\n",
    "          ['1kg','group'],\n",
    "          ['endurance','sport_type'],\n",
    "          ['speed','sport_type'],\n",
    "          ['swim', 'sport_simple'],\n",
    "          ['weights', 'sport_simple']]"
   ]
  },
  {
   "cell_type": "code",
   "execution_count": 66,
   "id": "809af519-a2c7-497e-bee8-a0527e861b91",
   "metadata": {},
   "outputs": [],
   "source": [
    "out = {\n",
    "    f'{o}_{groups[0]}_vs_{groups[1]}_p_value': mt_single_e_vs_s_grouped.apply(\n",
    "        lambda df: utest(df, groups, group_field, o)\n",
    "    )\n",
    "    for o in burden_opts\n",
    "    for groups, group_field in comparisons\n",
    "    }"
   ]
  },
  {
   "cell_type": "code",
   "execution_count": 67,
   "id": "36195b3e-0033-4735-b7fb-034f6adbef5c",
   "metadata": {},
   "outputs": [],
   "source": [
    "stds = {\n",
    "    f'{o}_{group}_std': mt_single_e_vs_s_grouped.apply(\n",
    "        lambda df: df[df[group_col] == group][o].std()\n",
    "    )\n",
    "    for o in burden_opts\n",
    "    for group, group_col in groups\n",
    "}\n",
    "\n",
    "means = {\n",
    "    f'{o}_{group}_mean': mt_single_e_vs_s_grouped.apply(\n",
    "        lambda df: df[df[group_col] == group][o].mean()\n",
    "    )\n",
    "    for o in burden_opts\n",
    "    for group, group_col in groups\n",
    "}"
   ]
  },
  {
   "cell_type": "code",
   "execution_count": 68,
   "id": "3dccb4a2-64a7-40ba-b72e-6a64a41c2be2",
   "metadata": {},
   "outputs": [],
   "source": [
    "out.update(means)"
   ]
  },
  {
   "cell_type": "code",
   "execution_count": 69,
   "id": "e3eb340a-886c-4cf5-8986-dce9e6e6994b",
   "metadata": {},
   "outputs": [],
   "source": [
    "out.update(stds)"
   ]
  },
  {
   "cell_type": "code",
   "execution_count": 70,
   "id": "b9deaeca-0a62-42f6-9374-a56c0c258c66",
   "metadata": {
    "tags": []
   },
   "outputs": [],
   "source": [
    "df = pd.DataFrame(out)"
   ]
  },
  {
   "cell_type": "code",
   "execution_count": 71,
   "id": "8b0c6b40-0886-44e8-a49e-b7c197a2b38f",
   "metadata": {
    "tags": []
   },
   "outputs": [],
   "source": [
    "for o in burden_opts:\n",
    "    for groups, group_field in comparisons:\n",
    "        df[\n",
    "            f'{o}_{groups[0]}_vs_{groups[1]}_fdr'\n",
    "        ] = fdrcorrection(\n",
    "            df[\n",
    "                f'{o}_{groups[0]}_vs_{groups[1]}_p_value'\n",
    "            ].fillna(1),\n",
    "            alpha=0.1    \n",
    "        )[1]"
   ]
  },
  {
   "cell_type": "code",
   "execution_count": 73,
   "id": "168ff54e-8b64-4041-b8e5-6eb88f30d237",
   "metadata": {
    "tags": []
   },
   "outputs": [],
   "source": [
    "df.loc[:, df.columns.str.contains('cadd_above_10_sum')].to_csv('e-vs-s-burden-results.csv')"
   ]
  },
  {
   "cell_type": "markdown",
   "id": "baad0aa9-f940-4c81-82f7-a4ff6ea43043",
   "metadata": {
    "tags": []
   },
   "source": [
    "### get burden for swim vs weights only\n",
    "\n",
    "- these are the following pgenotypes:\n",
    "\n",
    "['Forced vital capacity (FVC), Best measure',\n",
    " 'Date M81 first reported (osteoporosis without pathological fracture)']"
   ]
  },
  {
   "cell_type": "code",
   "execution_count": 36,
   "id": "18bf995c-a69d-43f4-bd35-062614457f95",
   "metadata": {
    "tags": []
   },
   "outputs": [],
   "source": [
    "s_vs_genes = list(sel_pheno_genes[\n",
    "    sel_pheno_genes['description'].isin(\n",
    "        ['Forced vital capacity (FVC), Best measure',\n",
    " 'Date M81 first reported (osteoporosis without pathological fracture)'])]['below_5'])"
   ]
  },
  {
   "cell_type": "code",
   "execution_count": 37,
   "id": "81b4d661-b39d-49ba-8854-98c10f936fe6",
   "metadata": {
    "tags": []
   },
   "outputs": [
    {
     "data": {
      "text/plain": [
       "['ADAMTS1',\n",
       " 'ADAMTS6',\n",
       " 'ATAD2',\n",
       " 'CRISPLD2',\n",
       " 'CRTAC1',\n",
       " 'DDR2',\n",
       " 'ESR1',\n",
       " 'GATA5',\n",
       " 'GRAMD2A',\n",
       " 'HTRA1',\n",
       " 'IHH',\n",
       " 'LDLRAD4',\n",
       " 'NIBAN2',\n",
       " 'NPAS4',\n",
       " 'PIEZO1',\n",
       " 'SCMH1',\n",
       " 'SLAMF9',\n",
       " 'SMIM29',\n",
       " 'SPARC',\n",
       " 'STC2',\n",
       " 'TGFB2',\n",
       " 'TMEM181',\n",
       " 'WDR6',\n",
       " 'ZFAT',\n",
       " 'LRP5',\n",
       " 'PPP1R15A']"
      ]
     },
     "execution_count": 37,
     "metadata": {},
     "output_type": "execute_result"
    }
   ],
   "source": [
    "s_vs_genes"
   ]
  },
  {
   "cell_type": "code",
   "execution_count": 38,
   "id": "042381b4-1ab8-4436-9917-05f8aa3f2a6e",
   "metadata": {
    "tags": []
   },
   "outputs": [],
   "source": [
    "mt_single_e_vs_s = mt_single[mt_single['within_gene'].isin(s_vs_genes)]"
   ]
  },
  {
   "cell_type": "code",
   "execution_count": 39,
   "id": "7ba65657-1620-4556-b698-70a89ad53e92",
   "metadata": {
    "tags": []
   },
   "outputs": [],
   "source": [
    "mt_single_e_vs_s_grouped = mt_single_e_vs_s.groupby('within_gene')"
   ]
  },
  {
   "cell_type": "code",
   "execution_count": 40,
   "id": "b04a69ca-b322-4b74-9f34-a65120e3d7ee",
   "metadata": {},
   "outputs": [],
   "source": [
    "burden_opts = [\n",
    "    'cadd_above_10_sum'\n",
    "]\n",
    "\n",
    "comparisons = [\n",
    "    [['sport','control'],'group'],\n",
    "    [['control','1kg'],'group'],\n",
    "    [['1kg','sport'],'group'],\n",
    "    [['endurance','speed'],'sport_type'],\n",
    "    [['swim','weights'],'sport_simple']\n",
    "]\n",
    "\n",
    "groups = [['sport','group'],\n",
    "          ['control','group'],\n",
    "          ['1kg','group'],\n",
    "          ['endurance','sport_type'],\n",
    "          ['speed','sport_type'],\n",
    "          ['swim', 'sport_simple'],\n",
    "          ['weights', 'sport_simple']]"
   ]
  },
  {
   "cell_type": "code",
   "execution_count": 43,
   "id": "a7a2e4f0-42e9-4415-9a5d-64b525d80789",
   "metadata": {},
   "outputs": [
    {
     "name": "stderr",
     "output_type": "stream",
     "text": [
      "/net/ascratch/people/plggosborcz/slurm_jobdir/6838963/tmp/ipykernel_4033051/51355450.py:2: RuntimeWarning: Precision loss occurred in moment calculation due to catastrophic cancellation. This occurs when the data are nearly identical. Results may be unreliable.\n",
      "  pval = stats.ttest_ind(\n"
     ]
    }
   ],
   "source": [
    "out = {\n",
    "    f'{o}_{groups[0]}_vs_{groups[1]}_p_value': mt_single_e_vs_s_grouped.apply(\n",
    "        lambda df: ttest(df, groups, group_field, o)\n",
    "    )\n",
    "    for o in burden_opts\n",
    "    for groups, group_field in comparisons\n",
    "    }"
   ]
  },
  {
   "cell_type": "code",
   "execution_count": null,
   "id": "5af68b40-d672-4f71-a171-9dbc89c77381",
   "metadata": {},
   "outputs": [],
   "source": [
    "stds = {\n",
    "    f'{o}_{group}_std': mt_single_e_vs_s_grouped.apply(\n",
    "        lambda df: df[df[group_col] == group][o].std()\n",
    "    )\n",
    "    for o in burden_opts\n",
    "    for group, group_col in groups\n",
    "}\n",
    "\n",
    "means = {\n",
    "    f'{o}_{group}_mean': mt_single_e_vs_s_grouped.apply(\n",
    "        lambda df: df[df[group_col] == group][o].mean()\n",
    "    )\n",
    "    for o in burden_opts\n",
    "    for group, group_col in groups\n",
    "}"
   ]
  },
  {
   "cell_type": "code",
   "execution_count": null,
   "id": "addeb3e1-c450-4368-8c3d-63627aac4de9",
   "metadata": {},
   "outputs": [],
   "source": [
    "out.update(means)"
   ]
  },
  {
   "cell_type": "code",
   "execution_count": null,
   "id": "067a7ee5-fc95-461d-9fae-73867a425896",
   "metadata": {},
   "outputs": [],
   "source": [
    "out.update(stds)"
   ]
  },
  {
   "cell_type": "code",
   "execution_count": null,
   "id": "fdc81bf4-c7a0-44aa-9d1e-ccb84ba09767",
   "metadata": {
    "tags": []
   },
   "outputs": [],
   "source": [
    "df = pd.DataFrame(out)"
   ]
  },
  {
   "cell_type": "code",
   "execution_count": null,
   "id": "aef90c1a-320f-4435-9c09-bea627cb1651",
   "metadata": {
    "tags": []
   },
   "outputs": [],
   "source": [
    "for o in burden_opts:\n",
    "    for groups, group_field in comparisons:\n",
    "        df[\n",
    "            f'{o}_{groups[0]}_vs_{groups[1]}_fdr'\n",
    "        ] = fdrcorrection(\n",
    "            df[\n",
    "                f'{o}_{groups[0]}_vs_{groups[1]}_p_value'\n",
    "            ].fillna(1),\n",
    "            alpha=0.1    \n",
    "        )[1]"
   ]
  },
  {
   "cell_type": "code",
   "execution_count": 85,
   "id": "7aec7ea4-f594-4388-83f4-a6f1a8b6a3b1",
   "metadata": {
    "tags": []
   },
   "outputs": [],
   "source": [
    "df.loc[:, df.columns.str.contains('cadd_above_10_sum')].to_csv('s-vs-w-burden-results.csv')"
   ]
  }
 ],
 "metadata": {
  "kernelspec": {
   "display_name": "Python 3 (ipykernel)",
   "language": "python",
   "name": "python3"
  },
  "language_info": {
   "codemirror_mode": {
    "name": "ipython",
    "version": 3
   },
   "file_extension": ".py",
   "mimetype": "text/x-python",
   "name": "python",
   "nbconvert_exporter": "python",
   "pygments_lexer": "ipython3",
   "version": "3.10.4"
  }
 },
 "nbformat": 4,
 "nbformat_minor": 5
}
