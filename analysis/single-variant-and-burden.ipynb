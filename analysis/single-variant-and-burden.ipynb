{
 "cells": [
  {
   "cell_type": "code",
   "execution_count": 1,
   "metadata": {},
   "outputs": [
    {
     "data": {
      "text/html": [
       "<style>.container { width:100% !important; }</style>"
      ],
      "text/plain": [
       "<IPython.core.display.HTML object>"
      ]
     },
     "metadata": {},
     "output_type": "display_data"
    }
   ],
   "source": [
    "from IPython.display import display\n",
    "from IPython.display import HTML\n",
    "import IPython.core.display as di # Example: di.display_html('<h3>%s:</h3>' % str, raw=True)\n",
    "\n",
    "#This line will hide code by default when the notebook is exported as HTML\n",
    "#di.display_html('<script>jQuery(function() {if (jQuery(\"body.notebook_app\").length == 0) { jQuery(\".input_area\").toggle(); jQuery(\".prompt\").toggle();}});</script>', raw=True)\n",
    "\n",
    "display(HTML(\"<style>.container { width:100% !important; }</style>\"))\n",
    "import os"
   ]
  },
  {
   "cell_type": "code",
   "execution_count": 2,
   "metadata": {},
   "outputs": [
    {
     "name": "stdout",
     "output_type": "stream",
     "text": [
      "2022-08-18 21:49:36 WARN  NativeCodeLoader:60 - Unable to load native-hadoop library for your platform... using builtin-java classes where applicable\n"
     ]
    },
    {
     "name": "stderr",
     "output_type": "stream",
     "text": [
      "Setting default log level to \"WARN\".\n",
      "To adjust logging level use sc.setLogLevel(newLevel). For SparkR, use setLogLevel(newLevel).\n"
     ]
    },
    {
     "name": "stdout",
     "output_type": "stream",
     "text": [
      "2022-08-18 21:49:37 WARN  Hail:43 - This Hail JAR was compiled for Spark 3.1.3, running with Spark 3.1.2.\n",
      "  Compatibility is not guaranteed.\n"
     ]
    },
    {
     "name": "stderr",
     "output_type": "stream",
     "text": [
      "Running on Apache Spark version 3.1.2\n",
      "SparkUI available at http://p1385.prometheus:4040\n",
      "Welcome to\n",
      "     __  __     <>__\n",
      "    / /_/ /__  __/ /\n",
      "   / __  / _ `/ / /\n",
      "  /_/ /_/\\_,_/_/_/   version 0.2.97-937922d7f46c\n",
      "LOGGING: writing to /net/archive/groups/plggneuromol/imdik-zekanowski-sportwgs/analysis/hail-20220818-2149-0.2.97-937922d7f46c.log\n"
     ]
    }
   ],
   "source": [
    "import hail as hl\n",
    "\n",
    "localfs_path = os.environ.get('SCRATCH_LOCAL') + '/'\n",
    "hl.init(tmp_dir=localfs_path, local_tmpdir=localfs_path, \n",
    "        spark_conf={'spark.driver.memory': '15G', 'spark.executor.memory': '30G'})"
   ]
  },
  {
   "cell_type": "code",
   "execution_count": 3,
   "metadata": {},
   "outputs": [
    {
     "data": {
      "text/html": [
       "\n",
       "    <div class=\"bk-root\">\n",
       "        <a href=\"https://bokeh.org\" target=\"_blank\" class=\"bk-logo bk-logo-small bk-logo-notebook\"></a>\n",
       "        <span id=\"1001\">Loading BokehJS ...</span>\n",
       "    </div>"
      ]
     },
     "metadata": {},
     "output_type": "display_data"
    },
    {
     "data": {
      "application/javascript": [
       "\n",
       "(function(root) {\n",
       "  function now() {\n",
       "    return new Date();\n",
       "  }\n",
       "\n",
       "  var force = true;\n",
       "\n",
       "  if (typeof root._bokeh_onload_callbacks === \"undefined\" || force === true) {\n",
       "    root._bokeh_onload_callbacks = [];\n",
       "    root._bokeh_is_loading = undefined;\n",
       "  }\n",
       "\n",
       "  var JS_MIME_TYPE = 'application/javascript';\n",
       "  var HTML_MIME_TYPE = 'text/html';\n",
       "  var EXEC_MIME_TYPE = 'application/vnd.bokehjs_exec.v0+json';\n",
       "  var CLASS_NAME = 'output_bokeh rendered_html';\n",
       "\n",
       "  /**\n",
       "   * Render data to the DOM node\n",
       "   */\n",
       "  function render(props, node) {\n",
       "    var script = document.createElement(\"script\");\n",
       "    node.appendChild(script);\n",
       "  }\n",
       "\n",
       "  /**\n",
       "   * Handle when an output is cleared or removed\n",
       "   */\n",
       "  function handleClearOutput(event, handle) {\n",
       "    var cell = handle.cell;\n",
       "\n",
       "    var id = cell.output_area._bokeh_element_id;\n",
       "    var server_id = cell.output_area._bokeh_server_id;\n",
       "    // Clean up Bokeh references\n",
       "    if (id != null && id in Bokeh.index) {\n",
       "      Bokeh.index[id].model.document.clear();\n",
       "      delete Bokeh.index[id];\n",
       "    }\n",
       "\n",
       "    if (server_id !== undefined) {\n",
       "      // Clean up Bokeh references\n",
       "      var cmd = \"from bokeh.io.state import curstate; print(curstate().uuid_to_server['\" + server_id + \"'].get_sessions()[0].document.roots[0]._id)\";\n",
       "      cell.notebook.kernel.execute(cmd, {\n",
       "        iopub: {\n",
       "          output: function(msg) {\n",
       "            var id = msg.content.text.trim();\n",
       "            if (id in Bokeh.index) {\n",
       "              Bokeh.index[id].model.document.clear();\n",
       "              delete Bokeh.index[id];\n",
       "            }\n",
       "          }\n",
       "        }\n",
       "      });\n",
       "      // Destroy server and session\n",
       "      var cmd = \"import bokeh.io.notebook as ion; ion.destroy_server('\" + server_id + \"')\";\n",
       "      cell.notebook.kernel.execute(cmd);\n",
       "    }\n",
       "  }\n",
       "\n",
       "  /**\n",
       "   * Handle when a new output is added\n",
       "   */\n",
       "  function handleAddOutput(event, handle) {\n",
       "    var output_area = handle.output_area;\n",
       "    var output = handle.output;\n",
       "\n",
       "    // limit handleAddOutput to display_data with EXEC_MIME_TYPE content only\n",
       "    if ((output.output_type != \"display_data\") || (!output.data.hasOwnProperty(EXEC_MIME_TYPE))) {\n",
       "      return\n",
       "    }\n",
       "\n",
       "    var toinsert = output_area.element.find(\".\" + CLASS_NAME.split(' ')[0]);\n",
       "\n",
       "    if (output.metadata[EXEC_MIME_TYPE][\"id\"] !== undefined) {\n",
       "      toinsert[toinsert.length - 1].firstChild.textContent = output.data[JS_MIME_TYPE];\n",
       "      // store reference to embed id on output_area\n",
       "      output_area._bokeh_element_id = output.metadata[EXEC_MIME_TYPE][\"id\"];\n",
       "    }\n",
       "    if (output.metadata[EXEC_MIME_TYPE][\"server_id\"] !== undefined) {\n",
       "      var bk_div = document.createElement(\"div\");\n",
       "      bk_div.innerHTML = output.data[HTML_MIME_TYPE];\n",
       "      var script_attrs = bk_div.children[0].attributes;\n",
       "      for (var i = 0; i < script_attrs.length; i++) {\n",
       "        toinsert[toinsert.length - 1].firstChild.setAttribute(script_attrs[i].name, script_attrs[i].value);\n",
       "      }\n",
       "      // store reference to server id on output_area\n",
       "      output_area._bokeh_server_id = output.metadata[EXEC_MIME_TYPE][\"server_id\"];\n",
       "    }\n",
       "  }\n",
       "\n",
       "  function register_renderer(events, OutputArea) {\n",
       "\n",
       "    function append_mime(data, metadata, element) {\n",
       "      // create a DOM node to render to\n",
       "      var toinsert = this.create_output_subarea(\n",
       "        metadata,\n",
       "        CLASS_NAME,\n",
       "        EXEC_MIME_TYPE\n",
       "      );\n",
       "      this.keyboard_manager.register_events(toinsert);\n",
       "      // Render to node\n",
       "      var props = {data: data, metadata: metadata[EXEC_MIME_TYPE]};\n",
       "      render(props, toinsert[toinsert.length - 1]);\n",
       "      element.append(toinsert);\n",
       "      return toinsert\n",
       "    }\n",
       "\n",
       "    /* Handle when an output is cleared or removed */\n",
       "    events.on('clear_output.CodeCell', handleClearOutput);\n",
       "    events.on('delete.Cell', handleClearOutput);\n",
       "\n",
       "    /* Handle when a new output is added */\n",
       "    events.on('output_added.OutputArea', handleAddOutput);\n",
       "\n",
       "    /**\n",
       "     * Register the mime type and append_mime function with output_area\n",
       "     */\n",
       "    OutputArea.prototype.register_mime_type(EXEC_MIME_TYPE, append_mime, {\n",
       "      /* Is output safe? */\n",
       "      safe: true,\n",
       "      /* Index of renderer in `output_area.display_order` */\n",
       "      index: 0\n",
       "    });\n",
       "  }\n",
       "\n",
       "  // register the mime type if in Jupyter Notebook environment and previously unregistered\n",
       "  if (root.Jupyter !== undefined) {\n",
       "    var events = require('base/js/events');\n",
       "    var OutputArea = require('notebook/js/outputarea').OutputArea;\n",
       "\n",
       "    if (OutputArea.prototype.mime_types().indexOf(EXEC_MIME_TYPE) == -1) {\n",
       "      register_renderer(events, OutputArea);\n",
       "    }\n",
       "  }\n",
       "\n",
       "  \n",
       "  if (typeof (root._bokeh_timeout) === \"undefined\" || force === true) {\n",
       "    root._bokeh_timeout = Date.now() + 5000;\n",
       "    root._bokeh_failed_load = false;\n",
       "  }\n",
       "\n",
       "  var NB_LOAD_WARNING = {'data': {'text/html':\n",
       "     \"<div style='background-color: #fdd'>\\n\"+\n",
       "     \"<p>\\n\"+\n",
       "     \"BokehJS does not appear to have successfully loaded. If loading BokehJS from CDN, this \\n\"+\n",
       "     \"may be due to a slow or bad network connection. Possible fixes:\\n\"+\n",
       "     \"</p>\\n\"+\n",
       "     \"<ul>\\n\"+\n",
       "     \"<li>re-rerun `output_notebook()` to attempt to load from CDN again, or</li>\\n\"+\n",
       "     \"<li>use INLINE resources instead, as so:</li>\\n\"+\n",
       "     \"</ul>\\n\"+\n",
       "     \"<code>\\n\"+\n",
       "     \"from bokeh.resources import INLINE\\n\"+\n",
       "     \"output_notebook(resources=INLINE)\\n\"+\n",
       "     \"</code>\\n\"+\n",
       "     \"</div>\"}};\n",
       "\n",
       "  function display_loaded() {\n",
       "    var el = document.getElementById(\"1001\");\n",
       "    if (el != null) {\n",
       "      el.textContent = \"BokehJS is loading...\";\n",
       "    }\n",
       "    if (root.Bokeh !== undefined) {\n",
       "      if (el != null) {\n",
       "        el.textContent = \"BokehJS \" + root.Bokeh.version + \" successfully loaded.\";\n",
       "      }\n",
       "    } else if (Date.now() < root._bokeh_timeout) {\n",
       "      setTimeout(display_loaded, 100)\n",
       "    }\n",
       "  }\n",
       "\n",
       "\n",
       "  function run_callbacks() {\n",
       "    try {\n",
       "      root._bokeh_onload_callbacks.forEach(function(callback) {\n",
       "        if (callback != null)\n",
       "          callback();\n",
       "      });\n",
       "    } finally {\n",
       "      delete root._bokeh_onload_callbacks\n",
       "    }\n",
       "    console.debug(\"Bokeh: all callbacks have finished\");\n",
       "  }\n",
       "\n",
       "  function load_libs(css_urls, js_urls, callback) {\n",
       "    if (css_urls == null) css_urls = [];\n",
       "    if (js_urls == null) js_urls = [];\n",
       "\n",
       "    root._bokeh_onload_callbacks.push(callback);\n",
       "    if (root._bokeh_is_loading > 0) {\n",
       "      console.debug(\"Bokeh: BokehJS is being loaded, scheduling callback at\", now());\n",
       "      return null;\n",
       "    }\n",
       "    if (js_urls == null || js_urls.length === 0) {\n",
       "      run_callbacks();\n",
       "      return null;\n",
       "    }\n",
       "    console.debug(\"Bokeh: BokehJS not loaded, scheduling load and callback at\", now());\n",
       "    root._bokeh_is_loading = css_urls.length + js_urls.length;\n",
       "\n",
       "    function on_load() {\n",
       "      root._bokeh_is_loading--;\n",
       "      if (root._bokeh_is_loading === 0) {\n",
       "        console.debug(\"Bokeh: all BokehJS libraries/stylesheets loaded\");\n",
       "        run_callbacks()\n",
       "      }\n",
       "    }\n",
       "\n",
       "    function on_error() {\n",
       "      console.error(\"failed to load \" + url);\n",
       "    }\n",
       "\n",
       "    for (var i = 0; i < css_urls.length; i++) {\n",
       "      var url = css_urls[i];\n",
       "      const element = document.createElement(\"link\");\n",
       "      element.onload = on_load;\n",
       "      element.onerror = on_error;\n",
       "      element.rel = \"stylesheet\";\n",
       "      element.type = \"text/css\";\n",
       "      element.href = url;\n",
       "      console.debug(\"Bokeh: injecting link tag for BokehJS stylesheet: \", url);\n",
       "      document.body.appendChild(element);\n",
       "    }\n",
       "\n",
       "    for (var i = 0; i < js_urls.length; i++) {\n",
       "      var url = js_urls[i];\n",
       "      var element = document.createElement('script');\n",
       "      element.onload = on_load;\n",
       "      element.onerror = on_error;\n",
       "      element.async = false;\n",
       "      element.src = url;\n",
       "      console.debug(\"Bokeh: injecting script tag for BokehJS library: \", url);\n",
       "      document.head.appendChild(element);\n",
       "    }\n",
       "  };var element = document.getElementById(\"1001\");\n",
       "  if (element == null) {\n",
       "    console.error(\"Bokeh: ERROR: autoload.js configured with elementid '1001' but no matching script tag was found. \")\n",
       "    return false;\n",
       "  }\n",
       "\n",
       "  function inject_raw_css(css) {\n",
       "    const element = document.createElement(\"style\");\n",
       "    element.appendChild(document.createTextNode(css));\n",
       "    document.body.appendChild(element);\n",
       "  }\n",
       "\n",
       "  \n",
       "  var js_urls = [\"https://cdn.pydata.org/bokeh/release/bokeh-1.4.0.min.js\", \"https://cdn.pydata.org/bokeh/release/bokeh-widgets-1.4.0.min.js\", \"https://cdn.pydata.org/bokeh/release/bokeh-tables-1.4.0.min.js\", \"https://cdn.pydata.org/bokeh/release/bokeh-gl-1.4.0.min.js\"];\n",
       "  var css_urls = [];\n",
       "  \n",
       "\n",
       "  var inline_js = [\n",
       "    function(Bokeh) {\n",
       "      Bokeh.set_log_level(\"info\");\n",
       "    },\n",
       "    function(Bokeh) {\n",
       "    \n",
       "    \n",
       "    }\n",
       "  ];\n",
       "\n",
       "  function run_inline_js() {\n",
       "    \n",
       "    if (root.Bokeh !== undefined || force === true) {\n",
       "      \n",
       "    for (var i = 0; i < inline_js.length; i++) {\n",
       "      inline_js[i].call(root, root.Bokeh);\n",
       "    }\n",
       "    if (force === true) {\n",
       "        display_loaded();\n",
       "      }} else if (Date.now() < root._bokeh_timeout) {\n",
       "      setTimeout(run_inline_js, 100);\n",
       "    } else if (!root._bokeh_failed_load) {\n",
       "      console.log(\"Bokeh: BokehJS failed to load within specified timeout.\");\n",
       "      root._bokeh_failed_load = true;\n",
       "    } else if (force !== true) {\n",
       "      var cell = $(document.getElementById(\"1001\")).parents('.cell').data().cell;\n",
       "      cell.output_area.append_execute_result(NB_LOAD_WARNING)\n",
       "    }\n",
       "\n",
       "  }\n",
       "\n",
       "  if (root._bokeh_is_loading === 0) {\n",
       "    console.debug(\"Bokeh: BokehJS loaded, going straight to plotting\");\n",
       "    run_inline_js();\n",
       "  } else {\n",
       "    load_libs(css_urls, js_urls, function() {\n",
       "      console.debug(\"Bokeh: BokehJS plotting callback run at\", now());\n",
       "      run_inline_js();\n",
       "    });\n",
       "  }\n",
       "}(window));"
      ],
      "application/vnd.bokehjs_load.v0+json": "\n(function(root) {\n  function now() {\n    return new Date();\n  }\n\n  var force = true;\n\n  if (typeof root._bokeh_onload_callbacks === \"undefined\" || force === true) {\n    root._bokeh_onload_callbacks = [];\n    root._bokeh_is_loading = undefined;\n  }\n\n  \n\n  \n  if (typeof (root._bokeh_timeout) === \"undefined\" || force === true) {\n    root._bokeh_timeout = Date.now() + 5000;\n    root._bokeh_failed_load = false;\n  }\n\n  var NB_LOAD_WARNING = {'data': {'text/html':\n     \"<div style='background-color: #fdd'>\\n\"+\n     \"<p>\\n\"+\n     \"BokehJS does not appear to have successfully loaded. If loading BokehJS from CDN, this \\n\"+\n     \"may be due to a slow or bad network connection. Possible fixes:\\n\"+\n     \"</p>\\n\"+\n     \"<ul>\\n\"+\n     \"<li>re-rerun `output_notebook()` to attempt to load from CDN again, or</li>\\n\"+\n     \"<li>use INLINE resources instead, as so:</li>\\n\"+\n     \"</ul>\\n\"+\n     \"<code>\\n\"+\n     \"from bokeh.resources import INLINE\\n\"+\n     \"output_notebook(resources=INLINE)\\n\"+\n     \"</code>\\n\"+\n     \"</div>\"}};\n\n  function display_loaded() {\n    var el = document.getElementById(\"1001\");\n    if (el != null) {\n      el.textContent = \"BokehJS is loading...\";\n    }\n    if (root.Bokeh !== undefined) {\n      if (el != null) {\n        el.textContent = \"BokehJS \" + root.Bokeh.version + \" successfully loaded.\";\n      }\n    } else if (Date.now() < root._bokeh_timeout) {\n      setTimeout(display_loaded, 100)\n    }\n  }\n\n\n  function run_callbacks() {\n    try {\n      root._bokeh_onload_callbacks.forEach(function(callback) {\n        if (callback != null)\n          callback();\n      });\n    } finally {\n      delete root._bokeh_onload_callbacks\n    }\n    console.debug(\"Bokeh: all callbacks have finished\");\n  }\n\n  function load_libs(css_urls, js_urls, callback) {\n    if (css_urls == null) css_urls = [];\n    if (js_urls == null) js_urls = [];\n\n    root._bokeh_onload_callbacks.push(callback);\n    if (root._bokeh_is_loading > 0) {\n      console.debug(\"Bokeh: BokehJS is being loaded, scheduling callback at\", now());\n      return null;\n    }\n    if (js_urls == null || js_urls.length === 0) {\n      run_callbacks();\n      return null;\n    }\n    console.debug(\"Bokeh: BokehJS not loaded, scheduling load and callback at\", now());\n    root._bokeh_is_loading = css_urls.length + js_urls.length;\n\n    function on_load() {\n      root._bokeh_is_loading--;\n      if (root._bokeh_is_loading === 0) {\n        console.debug(\"Bokeh: all BokehJS libraries/stylesheets loaded\");\n        run_callbacks()\n      }\n    }\n\n    function on_error() {\n      console.error(\"failed to load \" + url);\n    }\n\n    for (var i = 0; i < css_urls.length; i++) {\n      var url = css_urls[i];\n      const element = document.createElement(\"link\");\n      element.onload = on_load;\n      element.onerror = on_error;\n      element.rel = \"stylesheet\";\n      element.type = \"text/css\";\n      element.href = url;\n      console.debug(\"Bokeh: injecting link tag for BokehJS stylesheet: \", url);\n      document.body.appendChild(element);\n    }\n\n    for (var i = 0; i < js_urls.length; i++) {\n      var url = js_urls[i];\n      var element = document.createElement('script');\n      element.onload = on_load;\n      element.onerror = on_error;\n      element.async = false;\n      element.src = url;\n      console.debug(\"Bokeh: injecting script tag for BokehJS library: \", url);\n      document.head.appendChild(element);\n    }\n  };var element = document.getElementById(\"1001\");\n  if (element == null) {\n    console.error(\"Bokeh: ERROR: autoload.js configured with elementid '1001' but no matching script tag was found. \")\n    return false;\n  }\n\n  function inject_raw_css(css) {\n    const element = document.createElement(\"style\");\n    element.appendChild(document.createTextNode(css));\n    document.body.appendChild(element);\n  }\n\n  \n  var js_urls = [\"https://cdn.pydata.org/bokeh/release/bokeh-1.4.0.min.js\", \"https://cdn.pydata.org/bokeh/release/bokeh-widgets-1.4.0.min.js\", \"https://cdn.pydata.org/bokeh/release/bokeh-tables-1.4.0.min.js\", \"https://cdn.pydata.org/bokeh/release/bokeh-gl-1.4.0.min.js\"];\n  var css_urls = [];\n  \n\n  var inline_js = [\n    function(Bokeh) {\n      Bokeh.set_log_level(\"info\");\n    },\n    function(Bokeh) {\n    \n    \n    }\n  ];\n\n  function run_inline_js() {\n    \n    if (root.Bokeh !== undefined || force === true) {\n      \n    for (var i = 0; i < inline_js.length; i++) {\n      inline_js[i].call(root, root.Bokeh);\n    }\n    if (force === true) {\n        display_loaded();\n      }} else if (Date.now() < root._bokeh_timeout) {\n      setTimeout(run_inline_js, 100);\n    } else if (!root._bokeh_failed_load) {\n      console.log(\"Bokeh: BokehJS failed to load within specified timeout.\");\n      root._bokeh_failed_load = true;\n    } else if (force !== true) {\n      var cell = $(document.getElementById(\"1001\")).parents('.cell').data().cell;\n      cell.output_area.append_execute_result(NB_LOAD_WARNING)\n    }\n\n  }\n\n  if (root._bokeh_is_loading === 0) {\n    console.debug(\"Bokeh: BokehJS loaded, going straight to plotting\");\n    run_inline_js();\n  } else {\n    load_libs(css_urls, js_urls, function() {\n      console.debug(\"Bokeh: BokehJS plotting callback run at\", now());\n      run_inline_js();\n    });\n  }\n}(window));"
     },
     "metadata": {},
     "output_type": "display_data"
    },
    {
     "data": {
      "text/html": [
       "\n",
       "    <div class=\"bk-root\">\n",
       "        <a href=\"https://bokeh.org\" target=\"_blank\" class=\"bk-logo bk-logo-small bk-logo-notebook\"></a>\n",
       "        <span id=\"1002\">Loading BokehJS ...</span>\n",
       "    </div>"
      ]
     },
     "metadata": {},
     "output_type": "display_data"
    },
    {
     "data": {
      "application/javascript": [
       "\n",
       "(function(root) {\n",
       "  function now() {\n",
       "    return new Date();\n",
       "  }\n",
       "\n",
       "  var force = true;\n",
       "\n",
       "  if (typeof root._bokeh_onload_callbacks === \"undefined\" || force === true) {\n",
       "    root._bokeh_onload_callbacks = [];\n",
       "    root._bokeh_is_loading = undefined;\n",
       "  }\n",
       "\n",
       "  var JS_MIME_TYPE = 'application/javascript';\n",
       "  var HTML_MIME_TYPE = 'text/html';\n",
       "  var EXEC_MIME_TYPE = 'application/vnd.bokehjs_exec.v0+json';\n",
       "  var CLASS_NAME = 'output_bokeh rendered_html';\n",
       "\n",
       "  /**\n",
       "   * Render data to the DOM node\n",
       "   */\n",
       "  function render(props, node) {\n",
       "    var script = document.createElement(\"script\");\n",
       "    node.appendChild(script);\n",
       "  }\n",
       "\n",
       "  /**\n",
       "   * Handle when an output is cleared or removed\n",
       "   */\n",
       "  function handleClearOutput(event, handle) {\n",
       "    var cell = handle.cell;\n",
       "\n",
       "    var id = cell.output_area._bokeh_element_id;\n",
       "    var server_id = cell.output_area._bokeh_server_id;\n",
       "    // Clean up Bokeh references\n",
       "    if (id != null && id in Bokeh.index) {\n",
       "      Bokeh.index[id].model.document.clear();\n",
       "      delete Bokeh.index[id];\n",
       "    }\n",
       "\n",
       "    if (server_id !== undefined) {\n",
       "      // Clean up Bokeh references\n",
       "      var cmd = \"from bokeh.io.state import curstate; print(curstate().uuid_to_server['\" + server_id + \"'].get_sessions()[0].document.roots[0]._id)\";\n",
       "      cell.notebook.kernel.execute(cmd, {\n",
       "        iopub: {\n",
       "          output: function(msg) {\n",
       "            var id = msg.content.text.trim();\n",
       "            if (id in Bokeh.index) {\n",
       "              Bokeh.index[id].model.document.clear();\n",
       "              delete Bokeh.index[id];\n",
       "            }\n",
       "          }\n",
       "        }\n",
       "      });\n",
       "      // Destroy server and session\n",
       "      var cmd = \"import bokeh.io.notebook as ion; ion.destroy_server('\" + server_id + \"')\";\n",
       "      cell.notebook.kernel.execute(cmd);\n",
       "    }\n",
       "  }\n",
       "\n",
       "  /**\n",
       "   * Handle when a new output is added\n",
       "   */\n",
       "  function handleAddOutput(event, handle) {\n",
       "    var output_area = handle.output_area;\n",
       "    var output = handle.output;\n",
       "\n",
       "    // limit handleAddOutput to display_data with EXEC_MIME_TYPE content only\n",
       "    if ((output.output_type != \"display_data\") || (!output.data.hasOwnProperty(EXEC_MIME_TYPE))) {\n",
       "      return\n",
       "    }\n",
       "\n",
       "    var toinsert = output_area.element.find(\".\" + CLASS_NAME.split(' ')[0]);\n",
       "\n",
       "    if (output.metadata[EXEC_MIME_TYPE][\"id\"] !== undefined) {\n",
       "      toinsert[toinsert.length - 1].firstChild.textContent = output.data[JS_MIME_TYPE];\n",
       "      // store reference to embed id on output_area\n",
       "      output_area._bokeh_element_id = output.metadata[EXEC_MIME_TYPE][\"id\"];\n",
       "    }\n",
       "    if (output.metadata[EXEC_MIME_TYPE][\"server_id\"] !== undefined) {\n",
       "      var bk_div = document.createElement(\"div\");\n",
       "      bk_div.innerHTML = output.data[HTML_MIME_TYPE];\n",
       "      var script_attrs = bk_div.children[0].attributes;\n",
       "      for (var i = 0; i < script_attrs.length; i++) {\n",
       "        toinsert[toinsert.length - 1].firstChild.setAttribute(script_attrs[i].name, script_attrs[i].value);\n",
       "      }\n",
       "      // store reference to server id on output_area\n",
       "      output_area._bokeh_server_id = output.metadata[EXEC_MIME_TYPE][\"server_id\"];\n",
       "    }\n",
       "  }\n",
       "\n",
       "  function register_renderer(events, OutputArea) {\n",
       "\n",
       "    function append_mime(data, metadata, element) {\n",
       "      // create a DOM node to render to\n",
       "      var toinsert = this.create_output_subarea(\n",
       "        metadata,\n",
       "        CLASS_NAME,\n",
       "        EXEC_MIME_TYPE\n",
       "      );\n",
       "      this.keyboard_manager.register_events(toinsert);\n",
       "      // Render to node\n",
       "      var props = {data: data, metadata: metadata[EXEC_MIME_TYPE]};\n",
       "      render(props, toinsert[toinsert.length - 1]);\n",
       "      element.append(toinsert);\n",
       "      return toinsert\n",
       "    }\n",
       "\n",
       "    /* Handle when an output is cleared or removed */\n",
       "    events.on('clear_output.CodeCell', handleClearOutput);\n",
       "    events.on('delete.Cell', handleClearOutput);\n",
       "\n",
       "    /* Handle when a new output is added */\n",
       "    events.on('output_added.OutputArea', handleAddOutput);\n",
       "\n",
       "    /**\n",
       "     * Register the mime type and append_mime function with output_area\n",
       "     */\n",
       "    OutputArea.prototype.register_mime_type(EXEC_MIME_TYPE, append_mime, {\n",
       "      /* Is output safe? */\n",
       "      safe: true,\n",
       "      /* Index of renderer in `output_area.display_order` */\n",
       "      index: 0\n",
       "    });\n",
       "  }\n",
       "\n",
       "  // register the mime type if in Jupyter Notebook environment and previously unregistered\n",
       "  if (root.Jupyter !== undefined) {\n",
       "    var events = require('base/js/events');\n",
       "    var OutputArea = require('notebook/js/outputarea').OutputArea;\n",
       "\n",
       "    if (OutputArea.prototype.mime_types().indexOf(EXEC_MIME_TYPE) == -1) {\n",
       "      register_renderer(events, OutputArea);\n",
       "    }\n",
       "  }\n",
       "\n",
       "  \n",
       "  if (typeof (root._bokeh_timeout) === \"undefined\" || force === true) {\n",
       "    root._bokeh_timeout = Date.now() + 5000;\n",
       "    root._bokeh_failed_load = false;\n",
       "  }\n",
       "\n",
       "  var NB_LOAD_WARNING = {'data': {'text/html':\n",
       "     \"<div style='background-color: #fdd'>\\n\"+\n",
       "     \"<p>\\n\"+\n",
       "     \"BokehJS does not appear to have successfully loaded. If loading BokehJS from CDN, this \\n\"+\n",
       "     \"may be due to a slow or bad network connection. Possible fixes:\\n\"+\n",
       "     \"</p>\\n\"+\n",
       "     \"<ul>\\n\"+\n",
       "     \"<li>re-rerun `output_notebook()` to attempt to load from CDN again, or</li>\\n\"+\n",
       "     \"<li>use INLINE resources instead, as so:</li>\\n\"+\n",
       "     \"</ul>\\n\"+\n",
       "     \"<code>\\n\"+\n",
       "     \"from bokeh.resources import INLINE\\n\"+\n",
       "     \"output_notebook(resources=INLINE)\\n\"+\n",
       "     \"</code>\\n\"+\n",
       "     \"</div>\"}};\n",
       "\n",
       "  function display_loaded() {\n",
       "    var el = document.getElementById(\"1002\");\n",
       "    if (el != null) {\n",
       "      el.textContent = \"BokehJS is loading...\";\n",
       "    }\n",
       "    if (root.Bokeh !== undefined) {\n",
       "      if (el != null) {\n",
       "        el.textContent = \"BokehJS \" + root.Bokeh.version + \" successfully loaded.\";\n",
       "      }\n",
       "    } else if (Date.now() < root._bokeh_timeout) {\n",
       "      setTimeout(display_loaded, 100)\n",
       "    }\n",
       "  }\n",
       "\n",
       "\n",
       "  function run_callbacks() {\n",
       "    try {\n",
       "      root._bokeh_onload_callbacks.forEach(function(callback) {\n",
       "        if (callback != null)\n",
       "          callback();\n",
       "      });\n",
       "    } finally {\n",
       "      delete root._bokeh_onload_callbacks\n",
       "    }\n",
       "    console.debug(\"Bokeh: all callbacks have finished\");\n",
       "  }\n",
       "\n",
       "  function load_libs(css_urls, js_urls, callback) {\n",
       "    if (css_urls == null) css_urls = [];\n",
       "    if (js_urls == null) js_urls = [];\n",
       "\n",
       "    root._bokeh_onload_callbacks.push(callback);\n",
       "    if (root._bokeh_is_loading > 0) {\n",
       "      console.debug(\"Bokeh: BokehJS is being loaded, scheduling callback at\", now());\n",
       "      return null;\n",
       "    }\n",
       "    if (js_urls == null || js_urls.length === 0) {\n",
       "      run_callbacks();\n",
       "      return null;\n",
       "    }\n",
       "    console.debug(\"Bokeh: BokehJS not loaded, scheduling load and callback at\", now());\n",
       "    root._bokeh_is_loading = css_urls.length + js_urls.length;\n",
       "\n",
       "    function on_load() {\n",
       "      root._bokeh_is_loading--;\n",
       "      if (root._bokeh_is_loading === 0) {\n",
       "        console.debug(\"Bokeh: all BokehJS libraries/stylesheets loaded\");\n",
       "        run_callbacks()\n",
       "      }\n",
       "    }\n",
       "\n",
       "    function on_error() {\n",
       "      console.error(\"failed to load \" + url);\n",
       "    }\n",
       "\n",
       "    for (var i = 0; i < css_urls.length; i++) {\n",
       "      var url = css_urls[i];\n",
       "      const element = document.createElement(\"link\");\n",
       "      element.onload = on_load;\n",
       "      element.onerror = on_error;\n",
       "      element.rel = \"stylesheet\";\n",
       "      element.type = \"text/css\";\n",
       "      element.href = url;\n",
       "      console.debug(\"Bokeh: injecting link tag for BokehJS stylesheet: \", url);\n",
       "      document.body.appendChild(element);\n",
       "    }\n",
       "\n",
       "    for (var i = 0; i < js_urls.length; i++) {\n",
       "      var url = js_urls[i];\n",
       "      var element = document.createElement('script');\n",
       "      element.onload = on_load;\n",
       "      element.onerror = on_error;\n",
       "      element.async = false;\n",
       "      element.src = url;\n",
       "      console.debug(\"Bokeh: injecting script tag for BokehJS library: \", url);\n",
       "      document.head.appendChild(element);\n",
       "    }\n",
       "  };var element = document.getElementById(\"1002\");\n",
       "  if (element == null) {\n",
       "    console.error(\"Bokeh: ERROR: autoload.js configured with elementid '1002' but no matching script tag was found. \")\n",
       "    return false;\n",
       "  }\n",
       "\n",
       "  function inject_raw_css(css) {\n",
       "    const element = document.createElement(\"style\");\n",
       "    element.appendChild(document.createTextNode(css));\n",
       "    document.body.appendChild(element);\n",
       "  }\n",
       "\n",
       "  \n",
       "  var js_urls = [\"https://cdn.pydata.org/bokeh/release/bokeh-1.4.0.min.js\", \"https://cdn.pydata.org/bokeh/release/bokeh-widgets-1.4.0.min.js\", \"https://cdn.pydata.org/bokeh/release/bokeh-tables-1.4.0.min.js\", \"https://cdn.pydata.org/bokeh/release/bokeh-gl-1.4.0.min.js\"];\n",
       "  var css_urls = [];\n",
       "  \n",
       "\n",
       "  var inline_js = [\n",
       "    function(Bokeh) {\n",
       "      Bokeh.set_log_level(\"info\");\n",
       "    },\n",
       "    function(Bokeh) {\n",
       "    \n",
       "    \n",
       "    }\n",
       "  ];\n",
       "\n",
       "  function run_inline_js() {\n",
       "    \n",
       "    if (root.Bokeh !== undefined || force === true) {\n",
       "      \n",
       "    for (var i = 0; i < inline_js.length; i++) {\n",
       "      inline_js[i].call(root, root.Bokeh);\n",
       "    }\n",
       "    if (force === true) {\n",
       "        display_loaded();\n",
       "      }} else if (Date.now() < root._bokeh_timeout) {\n",
       "      setTimeout(run_inline_js, 100);\n",
       "    } else if (!root._bokeh_failed_load) {\n",
       "      console.log(\"Bokeh: BokehJS failed to load within specified timeout.\");\n",
       "      root._bokeh_failed_load = true;\n",
       "    } else if (force !== true) {\n",
       "      var cell = $(document.getElementById(\"1002\")).parents('.cell').data().cell;\n",
       "      cell.output_area.append_execute_result(NB_LOAD_WARNING)\n",
       "    }\n",
       "\n",
       "  }\n",
       "\n",
       "  if (root._bokeh_is_loading === 0) {\n",
       "    console.debug(\"Bokeh: BokehJS loaded, going straight to plotting\");\n",
       "    run_inline_js();\n",
       "  } else {\n",
       "    load_libs(css_urls, js_urls, function() {\n",
       "      console.debug(\"Bokeh: BokehJS plotting callback run at\", now());\n",
       "      run_inline_js();\n",
       "    });\n",
       "  }\n",
       "}(window));"
      ],
      "application/vnd.bokehjs_load.v0+json": "\n(function(root) {\n  function now() {\n    return new Date();\n  }\n\n  var force = true;\n\n  if (typeof root._bokeh_onload_callbacks === \"undefined\" || force === true) {\n    root._bokeh_onload_callbacks = [];\n    root._bokeh_is_loading = undefined;\n  }\n\n  \n\n  \n  if (typeof (root._bokeh_timeout) === \"undefined\" || force === true) {\n    root._bokeh_timeout = Date.now() + 5000;\n    root._bokeh_failed_load = false;\n  }\n\n  var NB_LOAD_WARNING = {'data': {'text/html':\n     \"<div style='background-color: #fdd'>\\n\"+\n     \"<p>\\n\"+\n     \"BokehJS does not appear to have successfully loaded. If loading BokehJS from CDN, this \\n\"+\n     \"may be due to a slow or bad network connection. Possible fixes:\\n\"+\n     \"</p>\\n\"+\n     \"<ul>\\n\"+\n     \"<li>re-rerun `output_notebook()` to attempt to load from CDN again, or</li>\\n\"+\n     \"<li>use INLINE resources instead, as so:</li>\\n\"+\n     \"</ul>\\n\"+\n     \"<code>\\n\"+\n     \"from bokeh.resources import INLINE\\n\"+\n     \"output_notebook(resources=INLINE)\\n\"+\n     \"</code>\\n\"+\n     \"</div>\"}};\n\n  function display_loaded() {\n    var el = document.getElementById(\"1002\");\n    if (el != null) {\n      el.textContent = \"BokehJS is loading...\";\n    }\n    if (root.Bokeh !== undefined) {\n      if (el != null) {\n        el.textContent = \"BokehJS \" + root.Bokeh.version + \" successfully loaded.\";\n      }\n    } else if (Date.now() < root._bokeh_timeout) {\n      setTimeout(display_loaded, 100)\n    }\n  }\n\n\n  function run_callbacks() {\n    try {\n      root._bokeh_onload_callbacks.forEach(function(callback) {\n        if (callback != null)\n          callback();\n      });\n    } finally {\n      delete root._bokeh_onload_callbacks\n    }\n    console.debug(\"Bokeh: all callbacks have finished\");\n  }\n\n  function load_libs(css_urls, js_urls, callback) {\n    if (css_urls == null) css_urls = [];\n    if (js_urls == null) js_urls = [];\n\n    root._bokeh_onload_callbacks.push(callback);\n    if (root._bokeh_is_loading > 0) {\n      console.debug(\"Bokeh: BokehJS is being loaded, scheduling callback at\", now());\n      return null;\n    }\n    if (js_urls == null || js_urls.length === 0) {\n      run_callbacks();\n      return null;\n    }\n    console.debug(\"Bokeh: BokehJS not loaded, scheduling load and callback at\", now());\n    root._bokeh_is_loading = css_urls.length + js_urls.length;\n\n    function on_load() {\n      root._bokeh_is_loading--;\n      if (root._bokeh_is_loading === 0) {\n        console.debug(\"Bokeh: all BokehJS libraries/stylesheets loaded\");\n        run_callbacks()\n      }\n    }\n\n    function on_error() {\n      console.error(\"failed to load \" + url);\n    }\n\n    for (var i = 0; i < css_urls.length; i++) {\n      var url = css_urls[i];\n      const element = document.createElement(\"link\");\n      element.onload = on_load;\n      element.onerror = on_error;\n      element.rel = \"stylesheet\";\n      element.type = \"text/css\";\n      element.href = url;\n      console.debug(\"Bokeh: injecting link tag for BokehJS stylesheet: \", url);\n      document.body.appendChild(element);\n    }\n\n    for (var i = 0; i < js_urls.length; i++) {\n      var url = js_urls[i];\n      var element = document.createElement('script');\n      element.onload = on_load;\n      element.onerror = on_error;\n      element.async = false;\n      element.src = url;\n      console.debug(\"Bokeh: injecting script tag for BokehJS library: \", url);\n      document.head.appendChild(element);\n    }\n  };var element = document.getElementById(\"1002\");\n  if (element == null) {\n    console.error(\"Bokeh: ERROR: autoload.js configured with elementid '1002' but no matching script tag was found. \")\n    return false;\n  }\n\n  function inject_raw_css(css) {\n    const element = document.createElement(\"style\");\n    element.appendChild(document.createTextNode(css));\n    document.body.appendChild(element);\n  }\n\n  \n  var js_urls = [\"https://cdn.pydata.org/bokeh/release/bokeh-1.4.0.min.js\", \"https://cdn.pydata.org/bokeh/release/bokeh-widgets-1.4.0.min.js\", \"https://cdn.pydata.org/bokeh/release/bokeh-tables-1.4.0.min.js\", \"https://cdn.pydata.org/bokeh/release/bokeh-gl-1.4.0.min.js\"];\n  var css_urls = [];\n  \n\n  var inline_js = [\n    function(Bokeh) {\n      Bokeh.set_log_level(\"info\");\n    },\n    function(Bokeh) {\n    \n    \n    }\n  ];\n\n  function run_inline_js() {\n    \n    if (root.Bokeh !== undefined || force === true) {\n      \n    for (var i = 0; i < inline_js.length; i++) {\n      inline_js[i].call(root, root.Bokeh);\n    }\n    if (force === true) {\n        display_loaded();\n      }} else if (Date.now() < root._bokeh_timeout) {\n      setTimeout(run_inline_js, 100);\n    } else if (!root._bokeh_failed_load) {\n      console.log(\"Bokeh: BokehJS failed to load within specified timeout.\");\n      root._bokeh_failed_load = true;\n    } else if (force !== true) {\n      var cell = $(document.getElementById(\"1002\")).parents('.cell').data().cell;\n      cell.output_area.append_execute_result(NB_LOAD_WARNING)\n    }\n\n  }\n\n  if (root._bokeh_is_loading === 0) {\n    console.debug(\"Bokeh: BokehJS loaded, going straight to plotting\");\n    run_inline_js();\n  } else {\n    load_libs(css_urls, js_urls, function() {\n      console.debug(\"Bokeh: BokehJS plotting callback run at\", now());\n      run_inline_js();\n    });\n  }\n}(window));"
     },
     "metadata": {},
     "output_type": "display_data"
    }
   ],
   "source": [
    "from hail.plot import show\n",
    "from pprint import pprint\n",
    "from bokeh.layouts import gridplot\n",
    "hl.plot.output_notebook()\n",
    "\n",
    "\n",
    "import numpy as np\n",
    "import pandas as pd\n",
    "from functools import reduce\n",
    "from itertools import chain\n",
    "\n",
    "from bokeh.plotting import output_notebook, show, figure\n",
    "from bokeh.palettes import viridis\n",
    "from scipy import stats\n",
    "import seaborn as sns\n",
    "\n",
    "output_notebook()\n"
   ]
  },
  {
   "cell_type": "markdown",
   "metadata": {},
   "source": [
    "### The matrix table below has already been filtered and annotated, see preprocessing/joint-with-gts/genotype-and-filter.ipynb"
   ]
  },
  {
   "cell_type": "code",
   "execution_count": null,
   "metadata": {},
   "outputs": [],
   "source": [
    "mt = hl.read_matrix_table('/net/archive/groups/plggneuromol/imdik-zekanowski-sportwgs/data/joint/full_healthy.mt')"
   ]
  },
  {
   "cell_type": "code",
   "execution_count": null,
   "metadata": {},
   "outputs": [],
   "source": [
    "mt.count()"
   ]
  },
  {
   "cell_type": "code",
   "execution_count": 1,
   "metadata": {},
   "outputs": [],
   "source": [
    "proper_controls = ['WGS_37b', 'WGS_37c', 'WGS_163d', 'WGS_7120', 'WGS_7142', 'WGS_7143', 'WGS_7152',\n",
    " 'WGS_7153', 'WGS_85b', 'WGS_147c', 'WGS_180b', 'WGS_185c', 'WGS_6819', 'S_7213', 'S_7227', 'S_7241', 'S_7246', 'S_7254', 'S_7274',\n",
    "                   'S_7307', '494', '462', '468', '492', '490'] "
   ]
  },
  {
   "cell_type": "code",
   "execution_count": 2,
   "metadata": {},
   "outputs": [
    {
     "data": {
      "text/plain": [
       "25"
      ]
     },
     "execution_count": 2,
     "metadata": {},
     "output_type": "execute_result"
    }
   ],
   "source": [
    "len(proper_controls)"
   ]
  },
  {
   "cell_type": "markdown",
   "metadata": {},
   "source": [
    "## only keep intragenic variants"
   ]
  },
  {
   "cell_type": "code",
   "execution_count": null,
   "metadata": {},
   "outputs": [],
   "source": [
    "mt = mt.filter_rows(mt.within_gene == hl.empty_array(hl.tstr), keep = False)\n",
    "mt.write(localfs_path+'intragenic.mt')"
   ]
  },
  {
   "cell_type": "markdown",
   "metadata": {},
   "source": [
    "## load gene lists"
   ]
  },
  {
   "cell_type": "code",
   "execution_count": null,
   "metadata": {},
   "outputs": [],
   "source": [
    "mt = hl.read_matrix_table(localfs_path+'intragenic.mt')"
   ]
  },
  {
   "cell_type": "code",
   "execution_count": null,
   "metadata": {},
   "outputs": [],
   "source": [
    "mt.count()"
   ]
  },
  {
   "cell_type": "code",
   "execution_count": 4,
   "metadata": {},
   "outputs": [
    {
     "name": "stderr",
     "output_type": "stream",
     "text": [
      "2022-02-08 18:31:39 Hail: INFO: Reading table without type imputation\n",
      "  Loading field 'brain' as type str (not specified)\n",
      "  Loading field 'sekletal_muscle' as type str (not specified)\n",
      "  Loading field 'heart' as type str (not specified)\n",
      "  Loading field 'Hp_0011804' as type str (not specified)\n",
      "  Loading field 'Hp_0011805' as type str (not specified)\n",
      "  Loading field 'endurance_markers_2021' as type str (not specified)\n",
      "  Loading field 'power_markers_2021' as type str (not specified)\n",
      "  Loading field 'strength_markers_2021' as type str (not specified)\n",
      "  Loading field 'soft_tissue_injury_2021' as type str (not specified)\n",
      "2022-02-08 18:31:39 Hail: INFO: Reading table without type imputation\n",
      "  Loading field 'Cerebral_Cortex' as type str (not specified)\n",
      "  Loading field 'Basal_Ganglia' as type str (not specified)\n",
      "  Loading field 'Hypothalmus' as type str (not specified)\n",
      "  Loading field 'Thalmus' as type str (not specified)\n",
      "  Loading field 'Midbrain' as type str (not specified)\n",
      "  Loading field 'Dopaminergiczna' as type str (not specified)\n",
      "  Loading field 'Serotoninergiczna' as type str (not specified)\n",
      "  Loading field 'Noradrenergiczna' as type str (not specified)\n",
      "  Loading field 'GABA' as type str (not specified)\n",
      "  Loading field 'SLITRK' as type str (not specified)\n",
      "  Loading field 'all_neurotransmitters' as type str (not specified)\n",
      "  Loading field 'Gutaminian' as type str (not specified)\n",
      "  Loading field 'Serotonina_Kannabinoidy' as type str (not specified)\n",
      "  Loading field 'Dopamina_Acetylocholina' as type str (not specified)\n",
      "  Loading field 'geny_GTS' as type str (not specified)\n",
      "  Loading field 'Synapsy' as type str (not specified)\n",
      "  Loading field 'Tryptofan' as type str (not specified)\n",
      "  Loading field 'Ligand_receptor' as type str (not specified)\n",
      "  Loading field 'calcium' as type str (not specified)\n",
      "  Loading field 'androgenowy' as type str (not specified)\n",
      "  Loading field 'addiction' as type str (not specified)\n",
      "2022-02-08 18:31:39 Hail: WARN: Name collision: field 'filter' already in object dict. \n",
      "  This field must be referenced with __getitem__ syntax: obj['filter']\n",
      "2022-02-08 18:31:39 Hail: INFO: Reading table without type imputation\n",
      "  Loading field 'gene' as type str (not specified)\n",
      "  Loading field 'phenotype' as type str (not specified)\n",
      "  Loading field 'filter' as type str (not specified)\n"
     ]
    }
   ],
   "source": [
    "gene_lists_sport = hl.import_table('/net/archive/groups/plggneuromol/imdik-zekanowski-sportwgs/data/external-data/gene-lists/sportsmen_gene_lists_october_2021.csv', quote=\"\\\"\")\n",
    "gene_lists_gts = hl.import_table('/net/archive/groups/plggneuromol/imdik-zekanowski-gts/data/external-data/burden-and-family/gene-lists-burden-and-family.csv', delimiter = ';', quote=\"\\\"\")\n",
    "gene_lists_genebass = hl.import_table('/net/archive/groups/plggneuromol/imdik-zekanowski-sportwgs/data/external-data/gene-lists/genebass_lists.csv', delimiter = '\\t', quote=\"\\\"\")"
   ]
  },
  {
   "cell_type": "code",
   "execution_count": 5,
   "metadata": {},
   "outputs": [
    {
     "name": "stderr",
     "output_type": "stream",
     "text": [
      "\r",
      "[Stage 0:>                                                          (0 + 1) / 1]\r"
     ]
    }
   ],
   "source": [
    "gene_lists_sport = gene_lists_sport.to_pandas()\n",
    "gene_lists_gts = gene_lists_gts.to_pandas()\n",
    "gene_list_genebass = gene_lists_genebass.to_pandas()"
   ]
  },
  {
   "cell_type": "code",
   "execution_count": 6,
   "metadata": {},
   "outputs": [],
   "source": [
    "gene_lists = ['brain', 'sekletal_muscle', 'heart', 'Hp_0011804', 'Hp_0011805',\n",
    "       'endurance_markers_2021', 'power_markers_2021', 'strength_markers_2021',\n",
    "       'soft_tissue_injury_2021', #sport\n",
    "        'Cerebral_Cortex', 'Basal_Ganglia', 'Hypothalmus', 'Thalmus',\n",
    "       'Midbrain', 'Dopaminergiczna', 'Serotoninergiczna', 'Noradrenergiczna',\n",
    "       'GABA', 'SLITRK', 'all_neurotransmitters', 'Gutaminian',\n",
    "       'Serotonina_Kannabinoidy', 'Dopamina_Acetylocholina', 'geny_GTS',\n",
    "       'Synapsy', 'Tryptofan', 'Ligand_receptor', 'calcium', 'androgenowy',\n",
    "       'addiction', #GTS\n",
    "        'cancer_diagnosed', 'cystic_kidney_disease', 'expiratory_volume_best', 'hand_grip_left',\n",
    " 'hand_grip_right'] #genebass"
   ]
  },
  {
   "cell_type": "code",
   "execution_count": 7,
   "metadata": {},
   "outputs": [],
   "source": [
    "gene_lists_dict = {}\n",
    "\n",
    "for gene_list in gene_lists[0:9]:\n",
    "    gene_lists_dict.update({gene_list : list(set(list(gene_lists_sport[gene_list])))})\n",
    "    \n",
    "for gene_list in gene_lists[9:30]:\n",
    "    gene_lists_dict.update({gene_list : list(set(list(gene_lists_gts[gene_list])))})\n",
    "    \n",
    "for gene_list in gene_lists[30:]:\n",
    "    gene_lists_dict.update({gene_list : list(gene_list_genebass[gene_list_genebass.phenotype == gene_list]['gene'])})"
   ]
  },
  {
   "cell_type": "markdown",
   "metadata": {},
   "source": [
    "## calculate per-gene-per-group-burden"
   ]
  },
  {
   "cell_type": "code",
   "execution_count": null,
   "metadata": {},
   "outputs": [],
   "source": [
    "mt = mt.explode_rows(mt.within_gene)\n",
    "mt.write('/net/archive/groups/plggneuromol/imdik-zekanowski-sportwgs/data/joint/to-delete-exploded.mt')"
   ]
  },
  {
   "cell_type": "code",
   "execution_count": null,
   "metadata": {},
   "outputs": [],
   "source": [
    "mt = hl.read_matrix_table('/net/archive/groups/plggneuromol/imdik-zekanowski-sportwgs/data/joint/to-delete-exploded.mt')"
   ]
  },
  {
   "cell_type": "code",
   "execution_count": null,
   "metadata": {},
   "outputs": [],
   "source": [
    "mt = mt.filter_rows(mt.cadd.cadd_score > 1)"
   ]
  },
  {
   "cell_type": "code",
   "execution_count": null,
   "metadata": {},
   "outputs": [],
   "source": [
    "mt = mt.annotate_entries(cadd_entry = mt.GT.n_alt_alleles()*mt.cadd.cadd_score)"
   ]
  },
  {
   "cell_type": "code",
   "execution_count": null,
   "metadata": {},
   "outputs": [],
   "source": [
    "mt.write('/net/archive/groups/plggneuromol/imdik-zekanowski-sportwgs/data/joint/to-delete-burden.mt')"
   ]
  },
  {
   "cell_type": "code",
   "execution_count": 6,
   "metadata": {},
   "outputs": [
    {
     "name": "stderr",
     "output_type": "stream",
     "text": [
      "2022-01-28 14:45:44 Hail: INFO: wrote matrix table with 1154587 rows and 237 columns in 200 partitions to /net/archive/groups/plggneuromol/imdik-zekanowski-sportwgs/data/joint/to-delete-repartitioned.mt\n",
      "    Total size: 8.94 GiB\n",
      "    * Rows/entries: 8.94 GiB\n",
      "    * Columns: 20.85 KiB\n",
      "    * Globals: 11.00 B\n",
      "    * Smallest partition: 0 rows (20.00 B)\n",
      "    * Largest partition:  16936 rows (126.04 MiB)\n"
     ]
    }
   ],
   "source": [
    "mt = hl.read_matrix_table('/net/archive/groups/plggneuromol/imdik-zekanowski-sportwgs/data/joint/to-delete-burden.mt')\n",
    "\n",
    "mt.naive_coalesce(200).write('/net/archive/groups/plggneuromol/imdik-zekanowski-sportwgs/data/joint/to-delete-repartitioned.mt')"
   ]
  },
  {
   "cell_type": "code",
   "execution_count": 8,
   "metadata": {},
   "outputs": [],
   "source": [
    "mt = hl.read_matrix_table('/net/archive/groups/plggneuromol/imdik-zekanowski-sportwgs/data/joint/to-delete-repartitioned.mt')"
   ]
  },
  {
   "cell_type": "code",
   "execution_count": 8,
   "metadata": {},
   "outputs": [],
   "source": [
    "per_gene = mt.group_rows_by(mt.within_gene).aggregate(\n",
    "    burden_cadd_phred = hl.agg.sum(mt.cadd_entry))"
   ]
  },
  {
   "cell_type": "code",
   "execution_count": 74,
   "metadata": {},
   "outputs": [],
   "source": [
    "mt = mt.filter_rows(mt.cadd.cadd_score > 5)"
   ]
  },
  {
   "cell_type": "code",
   "execution_count": 75,
   "metadata": {},
   "outputs": [],
   "source": [
    "per_gene_5 = mt.group_rows_by(mt.within_gene).aggregate(\n",
    "    burden_cadd_phred = hl.agg.sum(mt.cadd_entry))"
   ]
  },
  {
   "cell_type": "code",
   "execution_count": 40,
   "metadata": {},
   "outputs": [],
   "source": [
    "mt = mt.filter_rows(mt.cadd.cadd_score > 10)"
   ]
  },
  {
   "cell_type": "code",
   "execution_count": 41,
   "metadata": {},
   "outputs": [],
   "source": [
    "per_gene_10 = mt.group_rows_by(mt.within_gene).aggregate(\n",
    "    burden_cadd_phred = hl.agg.sum(mt.cadd_entry))"
   ]
  },
  {
   "cell_type": "code",
   "execution_count": 9,
   "metadata": {},
   "outputs": [
    {
     "name": "stderr",
     "output_type": "stream",
     "text": [
      "2022-01-28 14:46:26 Hail: INFO: Ordering unsorted dataset with network shuffle0]\n",
      "2022-01-28 14:46:30 Hail: INFO: wrote matrix table with 34648 rows and 237 columns in 200 partitions to /net/archive/groups/plggneuromol/imdik-zekanowski-sportwgs/data/joint/per-gene-burden.mt\n",
      "    Total size: 18.55 MiB\n",
      "    * Rows/entries: 18.53 MiB\n",
      "    * Columns: 20.85 KiB\n",
      "    * Globals: 11.00 B\n",
      "    * Smallest partition: 102 rows (49.35 KiB)\n",
      "    * Largest partition:  271 rows (179.17 KiB)\n"
     ]
    }
   ],
   "source": [
    "per_gene.write('/net/archive/groups/plggneuromol/imdik-zekanowski-sportwgs/data/joint/per-gene-burden.mt')"
   ]
  },
  {
   "cell_type": "code",
   "execution_count": 43,
   "metadata": {},
   "outputs": [
    {
     "name": "stderr",
     "output_type": "stream",
     "text": [
      "2022-02-07 18:25:25 Hail: INFO: Ordering unsorted dataset with network shuffle0]\n",
      "2022-02-07 18:25:29 Hail: INFO: wrote matrix table with 20674 rows and 237 columns in 200 partitions to /net/archive/groups/plggneuromol/imdik-zekanowski-sportwgs/data/joint/per-gene-burden-10.mt\n",
      "    Total size: 6.56 MiB\n",
      "    * Rows/entries: 6.54 MiB\n",
      "    * Columns: 20.85 KiB\n",
      "    * Globals: 11.00 B\n",
      "    * Smallest partition: 51 rows (13.82 KiB)\n",
      "    * Largest partition:  171 rows (58.26 KiB)\n"
     ]
    }
   ],
   "source": [
    "per_gene_10.write('/net/archive/groups/plggneuromol/imdik-zekanowski-sportwgs/data/joint/per-gene-burden-10.mt')"
   ]
  },
  {
   "cell_type": "code",
   "execution_count": 76,
   "metadata": {},
   "outputs": [
    {
     "name": "stderr",
     "output_type": "stream",
     "text": [
      "2022-02-07 18:30:27 Hail: INFO: Ordering unsorted dataset with network shuffle0]\n",
      "2022-02-07 18:30:30 Hail: INFO: wrote matrix table with 29404 rows and 237 columns in 200 partitions to /net/archive/groups/plggneuromol/imdik-zekanowski-sportwgs/data/joint/per-gene-burden-5.mt\n",
      "    Total size: 13.30 MiB\n",
      "    * Rows/entries: 13.28 MiB\n",
      "    * Columns: 20.85 KiB\n",
      "    * Globals: 11.00 B\n",
      "    * Smallest partition: 95 rows (32.55 KiB)\n",
      "    * Largest partition:  255 rows (139.45 KiB)\n"
     ]
    }
   ],
   "source": [
    "per_gene_5.write('/net/archive/groups/plggneuromol/imdik-zekanowski-sportwgs/data/joint/per-gene-burden-5.mt')"
   ]
  },
  {
   "cell_type": "code",
   "execution_count": 9,
   "metadata": {},
   "outputs": [],
   "source": [
    "per_gene = hl.read_matrix_table('/net/archive/groups/plggneuromol/imdik-zekanowski-sportwgs/data/joint/per-gene-burden.mt')\n",
    "#per_gene = hl.read_matrix_table('/net/archive/groups/plggneuromol/imdik-zekanowski-sportwgs/data/joint/per-gene-burden-10.mt')\n",
    "#per_gene = hl.read_matrix_table('/net/archive/groups/plggneuromol/imdik-zekanowski-sportwgs/data/joint/per-gene-burden-5.mt')"
   ]
  },
  {
   "cell_type": "code",
   "execution_count": 12,
   "metadata": {},
   "outputs": [
    {
     "name": "stderr",
     "output_type": "stream",
     "text": [
      "2022-02-08 10:05:01 Hail: INFO: pca: running PCA with 2 components...\n"
     ]
    }
   ],
   "source": [
    "eigenvalues, scores, _ = hl.pca(per_gene.burden_cadd_phred, k=2)"
   ]
  },
  {
   "cell_type": "code",
   "execution_count": 13,
   "metadata": {},
   "outputs": [],
   "source": [
    "per_gene = per_gene.annotate_cols(scores = scores[per_gene.s].scores)\n",
    "\n",
    "p = hl.plot.scatter(per_gene.scores[0],\n",
    "                    per_gene.scores[1],\n",
    "                    label=per_gene.group,\n",
    "                    title='PCA', xlabel='PC1', ylabel='PC2')"
   ]
  },
  {
   "cell_type": "code",
   "execution_count": 14,
   "metadata": {},
   "outputs": [
    {
     "data": {
      "text/html": [
       "\n",
       "\n",
       "\n",
       "\n",
       "\n",
       "\n",
       "  <div class=\"bk-root\" id=\"34b03032-8264-4f48-acce-d3e2e1129dbe\" data-root-id=\"1003\"></div>\n"
      ]
     },
     "metadata": {},
     "output_type": "display_data"
    },
    {
     "data": {
      "application/javascript": [
       "(function(root) {\n",
       "  function embed_document(root) {\n",
       "    \n",
       "  var docs_json = {\"c86e2d44-c8ce-4cb6-ad5b-5d79bc4bc943\":{\"roots\":{\"references\":[{\"attributes\":{\"below\":[{\"id\":\"1014\",\"type\":\"LinearAxis\"}],\"center\":[{\"id\":\"1018\",\"type\":\"Grid\"},{\"id\":\"1023\",\"type\":\"Grid\"}],\"left\":[{\"id\":\"1019\",\"type\":\"LinearAxis\"},{\"id\":\"1062\",\"type\":\"Legend\"},{\"id\":\"1063\",\"type\":\"ColorBar\"}],\"plot_height\":800,\"plot_width\":800,\"renderers\":[{\"id\":\"1046\",\"type\":\"GlyphRenderer\"},{\"id\":\"1052\",\"type\":\"GlyphRenderer\"},{\"id\":\"1058\",\"type\":\"GlyphRenderer\"}],\"title\":{\"id\":\"1004\",\"type\":\"Title\"},\"toolbar\":{\"id\":\"1030\",\"type\":\"Toolbar\"},\"x_range\":{\"id\":\"1006\",\"type\":\"DataRange1d\"},\"x_scale\":{\"id\":\"1010\",\"type\":\"LinearScale\"},\"y_range\":{\"id\":\"1008\",\"type\":\"DataRange1d\"},\"y_scale\":{\"id\":\"1012\",\"type\":\"LinearScale\"}},\"id\":\"1003\",\"subtype\":\"Figure\",\"type\":\"Plot\"},{\"attributes\":{\"label\":{\"value\":\"sport\"},\"renderers\":[{\"id\":\"1058\",\"type\":\"GlyphRenderer\"}]},\"id\":\"1061\",\"type\":\"LegendItem\"},{\"attributes\":{\"dimension\":1,\"ticker\":{\"id\":\"1020\",\"type\":\"BasicTicker\"}},\"id\":\"1023\",\"type\":\"Grid\"},{\"attributes\":{\"fill_alpha\":{\"value\":0.1},\"fill_color\":{\"value\":\"#1f77b4\"},\"line_alpha\":{\"value\":0.1},\"line_color\":{\"value\":\"#1f77b4\"},\"x\":{\"field\":\"x\"},\"y\":{\"field\":\"y\"}},\"id\":\"1057\",\"type\":\"Circle\"},{\"attributes\":{\"data_source\":{\"id\":\"1039\",\"type\":\"ColumnDataSource\"},\"glyph\":{\"id\":\"1056\",\"type\":\"Circle\"},\"hover_glyph\":null,\"muted_glyph\":null,\"nonselection_glyph\":{\"id\":\"1057\",\"type\":\"Circle\"},\"selection_glyph\":null,\"view\":{\"id\":\"1054\",\"type\":\"CDSView\"}},\"id\":\"1058\",\"type\":\"GlyphRenderer\"},{\"attributes\":{\"active_drag\":\"auto\",\"active_inspect\":\"auto\",\"active_multi\":null,\"active_scroll\":\"auto\",\"active_tap\":\"auto\",\"tools\":[{\"id\":\"1024\",\"type\":\"PanTool\"},{\"id\":\"1025\",\"type\":\"WheelZoomTool\"},{\"id\":\"1026\",\"type\":\"BoxZoomTool\"},{\"id\":\"1027\",\"type\":\"SaveTool\"},{\"id\":\"1028\",\"type\":\"ResetTool\"},{\"id\":\"1029\",\"type\":\"HelpTool\"},{\"id\":\"1038\",\"type\":\"HoverTool\"}]},\"id\":\"1030\",\"type\":\"Toolbar\"},{\"attributes\":{\"fill_alpha\":{\"value\":0.1},\"fill_color\":{\"value\":\"#1f77b4\"},\"line_alpha\":{\"value\":0.1},\"line_color\":{\"value\":\"#1f77b4\"},\"x\":{\"field\":\"x\"},\"y\":{\"field\":\"y\"}},\"id\":\"1045\",\"type\":\"Circle\"},{\"attributes\":{},\"id\":\"1015\",\"type\":\"BasicTicker\"},{\"attributes\":{},\"id\":\"1027\",\"type\":\"SaveTool\"},{\"attributes\":{\"fill_color\":{\"field\":\"label\",\"transform\":{\"id\":\"1040\",\"type\":\"CategoricalColorMapper\"}},\"line_color\":{\"field\":\"label\",\"transform\":{\"id\":\"1040\",\"type\":\"CategoricalColorMapper\"}},\"x\":{\"field\":\"x\"},\"y\":{\"field\":\"y\"}},\"id\":\"1050\",\"type\":\"Circle\"},{\"attributes\":{\"filters\":[{\"id\":\"1047\",\"type\":\"GroupFilter\"}],\"source\":{\"id\":\"1039\",\"type\":\"ColumnDataSource\"}},\"id\":\"1048\",\"type\":\"CDSView\"},{\"attributes\":{},\"id\":\"1029\",\"type\":\"HelpTool\"},{\"attributes\":{},\"id\":\"1010\",\"type\":\"LinearScale\"},{\"attributes\":{\"click_policy\":\"hide\",\"items\":[{\"id\":\"1059\",\"type\":\"LegendItem\"},{\"id\":\"1060\",\"type\":\"LegendItem\"},{\"id\":\"1061\",\"type\":\"LegendItem\"}]},\"id\":\"1062\",\"type\":\"Legend\"},{\"attributes\":{\"data_source\":{\"id\":\"1039\",\"type\":\"ColumnDataSource\"},\"glyph\":{\"id\":\"1044\",\"type\":\"Circle\"},\"hover_glyph\":null,\"muted_glyph\":null,\"nonselection_glyph\":{\"id\":\"1045\",\"type\":\"Circle\"},\"selection_glyph\":null,\"view\":{\"id\":\"1042\",\"type\":\"CDSView\"}},\"id\":\"1046\",\"type\":\"GlyphRenderer\"},{\"attributes\":{},\"id\":\"1020\",\"type\":\"BasicTicker\"},{\"attributes\":{},\"id\":\"1024\",\"type\":\"PanTool\"},{\"attributes\":{\"axis_label\":\"PC1\",\"formatter\":{\"id\":\"1066\",\"type\":\"BasicTickFormatter\"},\"ticker\":{\"id\":\"1015\",\"type\":\"BasicTicker\"}},\"id\":\"1014\",\"type\":\"LinearAxis\"},{\"attributes\":{\"color_mapper\":null,\"formatter\":{\"id\":\"1070\",\"type\":\"BasicTickFormatter\"},\"ticker\":{\"id\":\"1069\",\"type\":\"BasicTicker\"},\"visible\":false},\"id\":\"1063\",\"type\":\"ColorBar\"},{\"attributes\":{\"callback\":null,\"data\":{\"index\":[0,1,2,3,4,5,6,7,8,9,10,11,12,13,14,15,16,17,18,19,20,21,22,23,24,25,26,27,28,29,30,31,32,33,34,35,36,37,38,39,40,41,42,43,44,45,46,47,48,49,50,51,52,53,54,55,56,57,58,59,60,61,62,63,64,65,66,67,68,69,70,71,72,73,74,75,76,77,78,79,80,81,82,83,84,85,86,87,88,89,90,91,92,93,94,95,96,97,98,99,100,101,102,103,104,105,106,107,108,109,110,111,112,113,114,115,116,117,118,119,120,121,122,123,124,125,126,127,128,129,130,131,132,133,134,135,136,137,138,139,140,141,142,143,144,145,146,147,148,149,150,151,152,153,154,155,156,157,158,159,160,161,162,163,164,165,166,167,168,169,170,171,172,173,174,175,176,177,178,179,180,181,182,183,184,185,186,187,188,189,190,191,192,193,194,195,196,197,198,199,200,201,202,203,204,205,206,207,208,209,210,211,212,213,214,215,216,217,218,219,220,221,222,223,224,225,226,227,228,229],\"label\":[\"sport\",\"1kg\",\"1kg\",\"1kg\",\"1kg\",\"1kg\",\"sport\",\"1kg\",\"1kg\",\"1kg\",\"sport\",\"1kg\",\"1kg\",\"1kg\",\"1kg\",\"1kg\",\"control\",\"sport\",\"1kg\",\"1kg\",\"sport\",\"1kg\",\"1kg\",\"control\",\"sport\",\"1kg\",\"sport\",\"1kg\",\"1kg\",\"sport\",\"1kg\",\"1kg\",\"1kg\",\"1kg\",\"1kg\",\"sport\",\"1kg\",\"sport\",\"1kg\",\"sport\",\"sport\",\"control\",\"1kg\",\"1kg\",\"sport\",\"sport\",\"1kg\",\"sport\",\"sport\",\"1kg\",\"1kg\",\"1kg\",\"sport\",\"1kg\",\"sport\",\"1kg\",\"1kg\",\"1kg\",\"control\",\"1kg\",\"1kg\",\"1kg\",\"sport\",\"1kg\",\"1kg\",\"sport\",\"sport\",\"1kg\",\"sport\",\"1kg\",\"1kg\",\"sport\",\"1kg\",\"sport\",\"1kg\",\"1kg\",\"1kg\",\"sport\",\"1kg\",\"1kg\",\"control\",\"control\",\"1kg\",\"sport\",\"1kg\",\"control\",\"sport\",\"1kg\",\"1kg\",\"1kg\",\"1kg\",\"control\",\"1kg\",\"sport\",\"sport\",\"sport\",\"sport\",\"1kg\",\"sport\",\"sport\",\"1kg\",\"sport\",\"1kg\",\"1kg\",\"sport\",\"1kg\",\"1kg\",\"control\",\"1kg\",\"sport\",\"1kg\",\"sport\",\"sport\",\"control\",\"1kg\",\"sport\",\"1kg\",\"1kg\",\"sport\",\"1kg\",\"sport\",\"sport\",\"control\",\"sport\",\"sport\",\"1kg\",\"1kg\",\"sport\",\"sport\",\"sport\",\"sport\",\"control\",\"sport\",\"1kg\",\"sport\",\"control\",\"sport\",\"sport\",\"sport\",\"1kg\",\"1kg\",\"sport\",\"sport\",\"1kg\",\"1kg\",\"control\",\"sport\",\"sport\",\"sport\",\"control\",\"control\",\"sport\",\"control\",\"sport\",\"1kg\",\"control\",\"sport\",\"sport\",\"control\",\"1kg\",\"sport\",\"sport\",\"sport\",\"1kg\",\"sport\",\"1kg\",\"control\",\"control\",\"sport\",\"1kg\",\"1kg\",\"1kg\",\"control\",\"sport\",\"sport\",\"sport\",\"1kg\",\"sport\",\"sport\",\"control\",\"control\",\"1kg\",\"1kg\",\"1kg\",\"sport\",\"1kg\",\"sport\",\"sport\",\"sport\",\"sport\",\"sport\",\"1kg\",\"sport\",\"control\",\"sport\",\"1kg\",\"control\",\"control\",\"sport\",\"sport\",\"1kg\",\"1kg\",\"control\",\"sport\",\"sport\",\"control\",\"sport\",\"sport\",\"1kg\",\"control\",\"control\",\"sport\",\"1kg\",\"sport\",\"control\",\"sport\",\"control\",\"sport\",\"sport\",\"1kg\",\"control\",\"sport\",\"sport\",\"sport\",\"sport\",\"sport\",\"control\",\"1kg\",\"sport\",\"control\"],\"x\":{\"__ndarray__\":\"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\",\"dtype\":\"float64\",\"shape\":[230]},\"y\":{\"__ndarray__\":\"9fQ/UOa3IcAAlxG8US+QwGrJJuXf6XzA2mOZ4WpNWkCqleu5glhjQBPX9+2QsRLA+x02l/DnRkAXysa8nGpjQDmQNdgOg4BABBLxYj6ukEAbYfy3z3KVwMi2gjxAzpLAnpKFVgr0i8BPe241hKKLwKqwXbsMXXRATXBcXAK5iEA+U73F0iqYwPDgYAGwIJPAple3PDyqkcDyaBDsfniLwODyPQuH03jAZrBYzUhcccAdDyH9Y1NSwMMk5MtpTGFAEjDpIKrxckBcgH8IVs11QOd4jZJE+XdAzyIAPYN+gkC//lnr+VKNQMTfCcNYfY1AhMMU3l3ej0BVyyquKRiQQHoWU3XIUJhAreSqA4GgmkD+jcjPR/SZwJeoFsHYjpLAl7ILb9BrkMDitIOdWzyFwOZglYYEcX3ATfIg6T+8eMB1+4G2Vfl2wCEl4KJeQm3AUDQGWC5fX8CPgWxf3P0oQGIXTtbpz1pAVMNLHGChXEA081zavKJ0QC39kDADY45Aj17Dsk/HkEAZIcTNh0mXwE/mrnnylpXA+b/wmQ4ilcDoIxgWYtiTwAWr0qfYB5LAOggFBTeEkMD6qB+KKCWNwNck/JGG6IfAif5ocw83h8CK6W3Oh0yGwO/N/gAnhIXASiEp6CkChcCB5/1Om1KDwOd4NWwzP37A4C+pyhltfcAyuhXSLit0wFYV1i+UpD/A8JWdfT5PHsAGvPepOABJQLSLRq3fFl9ASmCXdTwOZUCqd5sMPfJlQE8Xh230dWlAVyudugYQbUBpO8AuP7BvQBGWzTBN4nVA8RCHIfByeEB9e2T4V9t9QA4/yvzQyYBAf1UmwWbHhUBoSlXu6buJQKEC4YfvwYpAkE7w2Gu1lkChZ1MKXK2gQJyCIvrb7JjAPBaIkv21lMA3oi+j9EeRwHrVI6/Xl5DAbdWs2/kxkMAmYl4121SLwJRtEnCsIYjAP4s2+4SDhcCRiUkT9vGEwJgZk/OJeoHAI3FJminGecDDJgh+g292wLSPJG3O53TAiD7kvYyKbsCznvPaFdZnwI+6RK/SmlvAkgHcWr4fWMDWSF4/z6ZRwBSP6pB67SbAgjcpPSU/R0ALhnNgGI9aQB23BzPrbWNAscdGOGrCZ0Ds3pHjlv1oQFwsYjqlSXVAbgnTU1AlgEBURQsVgwyBQC9HGP4mz4FALdTSKlKig0DRBXI3/gGLQPFLqYkS1o5AM4a8sQVzj0BIxdj/1NSPQHI6D64utZVAiJ7flzScmkDaFKo2UvqXwA/XqOHem5bAJPj51+cVlMALG6Jvd6uTwF47smBQLpPA80h01rh9jsAioy8QOCeMwLLcww6+poPA1PR7NsR0gsDCnSo7ejB8wJrdjavH+njA46v+5XMfdcBrTmNM+fVtwDu5BncMLmfAm/qgPbiIT8A1OETTg5ctwLlTgVysqUZAZelxbRLdZUAoGV0M0zd3QCsxFTyXg4FAjkIKG0jKgUD1nWpOM5mHQEmO+Qnfu5FArwkPfaIQmUAp5dz09bWaQPrQvVkCK6RA1Z/LTdBhlsD9l+RaETWWwPGJg6ZUg5XAYJnBpPbHkMABqeEgaeWOwANenXB6uo3AvrXtySYci8BSHfr4PteKwB1SS0X60onAz1g9PXb4h8D4E85eJreHwKAwg6oGfYbAotR5rwJ3ccDqYuSaOkBqwBz5MaywK2fAV5hfJZp/ZMBGVpmizIdiwEMx8PNpalTAXh/MiXkjSUBL88czuoFfQPfJoRSBgGZAwvODR/smdEBqre2UgOp1QJM18D8D3YBA2jqv3vHijkCxlzADH5WPQHjep7VqVZVAXJvpQWFnmkCKu1d/JJSiQDlMbeWSLZTAjHjWDk0sksBLhN1z7l2EwIhypFBQjnXABc/Id2kpcsDslIccn2dewHFvvDSGNS3AhD6Zu28gSED8YGRflYhYQEzl1DIxLWFATPWbHzgfkUBGsF32JqeSQJ4bM629WZVAeEqBEfl0mkCZMhHkZWGeQKUL0DJxP4vABTNCjiz2g8DXKaTcjqpxwFDn0YQ0v2PA3s1sH8csT0BrpXqoX+5nQAcU6+t1hGlANxvyUWHYb0D5iQB33XRyQMjbIma8JHZAAqR33oDvekBVs+0PBJOPQGHeinw8g5JAhXvniaHXk0CnGWM15J2VQHSkxbP5zJTA7VG1jV3EksBxxbX9B0qQwEAcqx7754rAcVTQtYECiMCce/vWuNZ5wDqJxNXRSjbAXKYC8/5og0D40/d6xLmTQNaA9I+7TJtARH7Ht+rbokCvdl1FCZCJwKHk67IzNYbABimRC5A+ecBvnvIgAgxoQBCsI56Sj3pAjZUE+Q9dfkD53vuJTbSSQCLuo5z+gplA3z+i9EmdmkAD6ayBAJSeQCFC03DIoaFAAI+WeuyDhcDQ3tYMUOB/QDqqDAzQdoBA5vZVJ3yOiUC8C+bgBxOVwA==\",\"dtype\":\"float64\",\"shape\":[230]}},\"selected\":{\"id\":\"1071\",\"type\":\"Selection\"},\"selection_policy\":{\"id\":\"1072\",\"type\":\"UnionRenderers\"}},\"id\":\"1039\",\"type\":\"ColumnDataSource\"},{\"attributes\":{},\"id\":\"1066\",\"type\":\"BasicTickFormatter\"},{\"attributes\":{},\"id\":\"1028\",\"type\":\"ResetTool\"},{\"attributes\":{\"data_source\":{\"id\":\"1039\",\"type\":\"ColumnDataSource\"},\"glyph\":{\"id\":\"1050\",\"type\":\"Circle\"},\"hover_glyph\":null,\"muted_glyph\":null,\"nonselection_glyph\":{\"id\":\"1051\",\"type\":\"Circle\"},\"selection_glyph\":null,\"view\":{\"id\":\"1048\",\"type\":\"CDSView\"}},\"id\":\"1052\",\"type\":\"GlyphRenderer\"},{\"attributes\":{},\"id\":\"1070\",\"type\":\"BasicTickFormatter\"},{\"attributes\":{\"callback\":null},\"id\":\"1006\",\"type\":\"DataRange1d\"},{\"attributes\":{\"text\":\"PCA\"},\"id\":\"1004\",\"type\":\"Title\"},{\"attributes\":{\"label\":{\"value\":\"1kg\"},\"renderers\":[{\"id\":\"1046\",\"type\":\"GlyphRenderer\"}]},\"id\":\"1059\",\"type\":\"LegendItem\"},{\"attributes\":{},\"id\":\"1071\",\"type\":\"Selection\"},{\"attributes\":{\"bottom_units\":\"screen\",\"fill_alpha\":{\"value\":0.5},\"fill_color\":{\"value\":\"lightgrey\"},\"left_units\":\"screen\",\"level\":\"overlay\",\"line_alpha\":{\"value\":1.0},\"line_color\":{\"value\":\"black\"},\"line_dash\":[4,4],\"line_width\":{\"value\":2},\"render_mode\":\"css\",\"right_units\":\"screen\",\"top_units\":\"screen\"},\"id\":\"1073\",\"type\":\"BoxAnnotation\"},{\"attributes\":{\"column_name\":\"label\",\"group\":\"sport\"},\"id\":\"1053\",\"type\":\"GroupFilter\"},{\"attributes\":{\"callback\":null,\"tooltips\":[[\"x\",\"@x\"],[\"y\",\"@y\"],[\"label\",\"@label\"]]},\"id\":\"1038\",\"type\":\"HoverTool\"},{\"attributes\":{\"column_name\":\"label\",\"group\":\"1kg\"},\"id\":\"1041\",\"type\":\"GroupFilter\"},{\"attributes\":{\"ticker\":{\"id\":\"1015\",\"type\":\"BasicTicker\"}},\"id\":\"1018\",\"type\":\"Grid\"},{\"attributes\":{\"label\":{\"value\":\"control\"},\"renderers\":[{\"id\":\"1052\",\"type\":\"GlyphRenderer\"}]},\"id\":\"1060\",\"type\":\"LegendItem\"},{\"attributes\":{\"column_name\":\"label\",\"group\":\"control\"},\"id\":\"1047\",\"type\":\"GroupFilter\"},{\"attributes\":{\"fill_alpha\":{\"value\":0.1},\"fill_color\":{\"value\":\"#1f77b4\"},\"line_alpha\":{\"value\":0.1},\"line_color\":{\"value\":\"#1f77b4\"},\"x\":{\"field\":\"x\"},\"y\":{\"field\":\"y\"}},\"id\":\"1051\",\"type\":\"Circle\"},{\"attributes\":{},\"id\":\"1012\",\"type\":\"LinearScale\"},{\"attributes\":{\"callback\":null},\"id\":\"1008\",\"type\":\"DataRange1d\"},{\"attributes\":{\"overlay\":{\"id\":\"1073\",\"type\":\"BoxAnnotation\"}},\"id\":\"1026\",\"type\":\"BoxZoomTool\"},{\"attributes\":{},\"id\":\"1069\",\"type\":\"BasicTicker\"},{\"attributes\":{\"filters\":[{\"id\":\"1053\",\"type\":\"GroupFilter\"}],\"source\":{\"id\":\"1039\",\"type\":\"ColumnDataSource\"}},\"id\":\"1054\",\"type\":\"CDSView\"},{\"attributes\":{\"axis_label\":\"PC2\",\"formatter\":{\"id\":\"1068\",\"type\":\"BasicTickFormatter\"},\"ticker\":{\"id\":\"1020\",\"type\":\"BasicTicker\"}},\"id\":\"1019\",\"type\":\"LinearAxis\"},{\"attributes\":{\"filters\":[{\"id\":\"1041\",\"type\":\"GroupFilter\"}],\"source\":{\"id\":\"1039\",\"type\":\"ColumnDataSource\"}},\"id\":\"1042\",\"type\":\"CDSView\"},{\"attributes\":{\"factors\":[\"control\",\"1kg\",\"sport\"],\"palette\":[\"#1f77b4\",\"#ff7f0e\",\"#2ca02c\",\"#d62728\",\"#9467bd\",\"#8c564b\",\"#e377c2\",\"#7f7f7f\",\"#bcbd22\",\"#17becf\"]},\"id\":\"1040\",\"type\":\"CategoricalColorMapper\"},{\"attributes\":{\"fill_color\":{\"field\":\"label\",\"transform\":{\"id\":\"1040\",\"type\":\"CategoricalColorMapper\"}},\"line_color\":{\"field\":\"label\",\"transform\":{\"id\":\"1040\",\"type\":\"CategoricalColorMapper\"}},\"x\":{\"field\":\"x\"},\"y\":{\"field\":\"y\"}},\"id\":\"1056\",\"type\":\"Circle\"},{\"attributes\":{},\"id\":\"1068\",\"type\":\"BasicTickFormatter\"},{\"attributes\":{},\"id\":\"1025\",\"type\":\"WheelZoomTool\"},{\"attributes\":{},\"id\":\"1072\",\"type\":\"UnionRenderers\"},{\"attributes\":{\"fill_color\":{\"field\":\"label\",\"transform\":{\"id\":\"1040\",\"type\":\"CategoricalColorMapper\"}},\"line_color\":{\"field\":\"label\",\"transform\":{\"id\":\"1040\",\"type\":\"CategoricalColorMapper\"}},\"x\":{\"field\":\"x\"},\"y\":{\"field\":\"y\"}},\"id\":\"1044\",\"type\":\"Circle\"}],\"root_ids\":[\"1003\"]},\"title\":\"Bokeh Application\",\"version\":\"1.4.0\"}};\n",
       "  var render_items = [{\"docid\":\"c86e2d44-c8ce-4cb6-ad5b-5d79bc4bc943\",\"roots\":{\"1003\":\"34b03032-8264-4f48-acce-d3e2e1129dbe\"}}];\n",
       "  root.Bokeh.embed.embed_items_notebook(docs_json, render_items);\n",
       "\n",
       "  }\n",
       "  if (root.Bokeh !== undefined) {\n",
       "    embed_document(root);\n",
       "  } else {\n",
       "    var attempts = 0;\n",
       "    var timer = setInterval(function(root) {\n",
       "      if (root.Bokeh !== undefined) {\n",
       "        clearInterval(timer);\n",
       "        embed_document(root);\n",
       "      } else {\n",
       "        attempts++;\n",
       "        if (attempts > 100) {\n",
       "          clearInterval(timer);\n",
       "          console.log(\"Bokeh: ERROR: Unable to run BokehJS code because BokehJS library is missing\");\n",
       "        }\n",
       "      }\n",
       "    }, 10, root)\n",
       "  }\n",
       "})(window);"
      ],
      "application/vnd.bokehjs_exec.v0+json": ""
     },
     "metadata": {
      "application/vnd.bokehjs_exec.v0+json": {
       "id": "1003"
      }
     },
     "output_type": "display_data"
    }
   ],
   "source": [
    "show(p)"
   ]
  },
  {
   "cell_type": "code",
   "execution_count": 11,
   "metadata": {},
   "outputs": [],
   "source": [
    "per_gene = per_gene.filter_cols(per_gene.s != '494')"
   ]
  },
  {
   "cell_type": "code",
   "execution_count": 15,
   "metadata": {},
   "outputs": [],
   "source": [
    "groups = per_gene.group.collect()"
   ]
  },
  {
   "cell_type": "code",
   "execution_count": 16,
   "metadata": {},
   "outputs": [],
   "source": [
    "phenotype = per_gene.sport_phenotypes.type.collect()"
   ]
  },
  {
   "cell_type": "code",
   "execution_count": 17,
   "metadata": {
    "scrolled": true
   },
   "outputs": [
    {
     "name": "stdout",
     "output_type": "stream",
     "text": [
      "brain\n",
      "489\n"
     ]
    },
    {
     "name": "stderr",
     "output_type": "stream",
     "text": [
      "[Stage 128:==================================================> (474 + 14) / 488]\r"
     ]
    },
    {
     "name": "stdout",
     "output_type": "stream",
     "text": [
      "sekletal_muscle\n",
      "908\n"
     ]
    },
    {
     "name": "stderr",
     "output_type": "stream",
     "text": [
      "[Stage 130:====================================================>(901 + 6) / 907]\r"
     ]
    },
    {
     "name": "stdout",
     "output_type": "stream",
     "text": [
      "heart\n",
      "388\n"
     ]
    },
    {
     "name": "stderr",
     "output_type": "stream",
     "text": [
      "[Stage 132:=================================================>  (367 + 20) / 387]\r"
     ]
    },
    {
     "name": "stdout",
     "output_type": "stream",
     "text": [
      "Hp_0011804\n",
      "2187\n"
     ]
    },
    {
     "name": "stderr",
     "output_type": "stream",
     "text": [
      "[Stage 135:===============================>                      (26 + 18) / 44]\r"
     ]
    },
    {
     "name": "stdout",
     "output_type": "stream",
     "text": [
      "Hp_0011805\n",
      "1597\n"
     ]
    },
    {
     "name": "stderr",
     "output_type": "stream",
     "text": [
      "[Stage 137:===================================>                  (21 + 11) / 32]\r"
     ]
    },
    {
     "name": "stdout",
     "output_type": "stream",
     "text": [
      "endurance_markers_2021\n",
      "31\n"
     ]
    },
    {
     "name": "stderr",
     "output_type": "stream",
     "text": [
      "\r",
      "[Stage 138:====================================>                 (20 + 10) / 30]\r"
     ]
    },
    {
     "name": "stdout",
     "output_type": "stream",
     "text": [
      "power_markers_2021\n",
      "22\n"
     ]
    },
    {
     "name": "stderr",
     "output_type": "stream",
     "text": [
      "\r",
      "[Stage 139:===============================================>       (18 + 3) / 21]\r"
     ]
    },
    {
     "name": "stdout",
     "output_type": "stream",
     "text": [
      "strength_markers_2021\n",
      "38\n"
     ]
    },
    {
     "name": "stderr",
     "output_type": "stream",
     "text": [
      "\r",
      "[Stage 140:==============================>                       (20 + 16) / 36]\r"
     ]
    },
    {
     "name": "stdout",
     "output_type": "stream",
     "text": [
      "soft_tissue_injury_2021\n",
      "18\n",
      "Cerebral_Cortex\n",
      "17\n",
      "Basal_Ganglia\n",
      "50\n",
      "Hypothalmus\n",
      "20\n",
      "Thalmus\n",
      "15\n",
      "Midbrain\n",
      "15\n",
      "Dopaminergiczna\n",
      "34\n",
      "Serotoninergiczna\n",
      "43\n",
      "Noradrenergiczna\n",
      "18\n",
      "GABA\n",
      "101\n"
     ]
    },
    {
     "name": "stderr",
     "output_type": "stream",
     "text": [
      "\r",
      "[Stage 150:============================================>         (82 + 17) / 99]\r"
     ]
    },
    {
     "name": "stdout",
     "output_type": "stream",
     "text": [
      "SLITRK\n",
      "44\n",
      "all_neurotransmitters\n",
      "179\n"
     ]
    },
    {
     "name": "stderr",
     "output_type": "stream",
     "text": [
      "[Stage 153:================================================>   (166 + 12) / 178]\r"
     ]
    },
    {
     "name": "stdout",
     "output_type": "stream",
     "text": [
      "Gutaminian\n",
      "54\n"
     ]
    },
    {
     "name": "stderr",
     "output_type": "stream",
     "text": [
      "\r",
      "[Stage 155:========================================>             (40 + 13) / 53]\r"
     ]
    },
    {
     "name": "stdout",
     "output_type": "stream",
     "text": [
      "Serotonina_Kannabinoidy\n",
      "42\n"
     ]
    },
    {
     "name": "stderr",
     "output_type": "stream",
     "text": [
      "\r",
      "[Stage 157:===========================>                          (21 + 20) / 41]\r"
     ]
    },
    {
     "name": "stdout",
     "output_type": "stream",
     "text": [
      "Dopamina_Acetylocholina\n",
      "113\n"
     ]
    },
    {
     "name": "stderr",
     "output_type": "stream",
     "text": [
      "[Stage 158:============================>                        (60 + 20) / 112]\r"
     ]
    },
    {
     "name": "stdout",
     "output_type": "stream",
     "text": [
      "geny_GTS\n",
      "34\n",
      "Synapsy\n",
      "191\n"
     ]
    },
    {
     "name": "stderr",
     "output_type": "stream",
     "text": [
      "[Stage 161:============================================>       (161 + 20) / 190]\r"
     ]
    },
    {
     "name": "stdout",
     "output_type": "stream",
     "text": [
      "Tryptofan\n",
      "59\n"
     ]
    },
    {
     "name": "stderr",
     "output_type": "stream",
     "text": [
      "\r",
      "[Stage 163:======================================>               (41 + 17) / 58]\r"
     ]
    },
    {
     "name": "stdout",
     "output_type": "stream",
     "text": [
      "Ligand_receptor\n",
      "209\n"
     ]
    },
    {
     "name": "stderr",
     "output_type": "stream",
     "text": [
      "[Stage 165:===============================================>    (190 + 19) / 209]\r"
     ]
    },
    {
     "name": "stdout",
     "output_type": "stream",
     "text": [
      "calcium\n",
      "179\n"
     ]
    },
    {
     "name": "stderr",
     "output_type": "stream",
     "text": [
      "[Stage 167:===============================================>    (164 + 14) / 178]\r"
     ]
    },
    {
     "name": "stdout",
     "output_type": "stream",
     "text": [
      "androgenowy\n",
      "89\n"
     ]
    },
    {
     "name": "stderr",
     "output_type": "stream",
     "text": [
      "[Stage 169:==================================================>    (80 + 8) / 88]\r"
     ]
    },
    {
     "name": "stdout",
     "output_type": "stream",
     "text": [
      "addiction\n",
      "33\n"
     ]
    },
    {
     "name": "stderr",
     "output_type": "stream",
     "text": [
      "\r",
      "[Stage 171:===================================>                  (21 + 11) / 32]\r"
     ]
    },
    {
     "name": "stdout",
     "output_type": "stream",
     "text": [
      "cancer_diagnosed\n",
      "10\n",
      "cystic_kidney_disease\n",
      "10\n",
      "expiratory_volume_best\n",
      "10\n",
      "hand_grip_left\n",
      "13\n",
      "hand_grip_right\n",
      "12\n"
     ]
    }
   ],
   "source": [
    "results_list = []\n",
    "\n",
    "for gene_list_name, gene_list in gene_lists_dict.items():\n",
    "    print(gene_list_name)\n",
    "    print(len(set(gene_list)))\n",
    "    results = per_gene.filter_rows(hl.literal(gene_list).contains(per_gene.within_gene))\n",
    "    results = results.annotate_cols(result_score = hl.agg.sum(results['burden_cadd_phred']))\n",
    "    results_list.append(results.result_score.collect())"
   ]
  },
  {
   "cell_type": "code",
   "execution_count": 18,
   "metadata": {},
   "outputs": [],
   "source": [
    "t_test_gts_sport = []\n",
    "t_test_gts_1kg = []\n",
    "t_test_sport_1kg = []\n",
    "t_test_end_speed = []\n",
    "gts_mean = []\n",
    "gts_std = []\n",
    "kg_mean = []\n",
    "kg_std = []\n",
    "sport_mean = []\n",
    "sport_std = []\n",
    "end_mean = []\n",
    "end_std = []\n",
    "speed_mean = []\n",
    "speed_std = []"
   ]
  },
  {
   "cell_type": "code",
   "execution_count": 19,
   "metadata": {},
   "outputs": [],
   "source": [
    "for idx, i in enumerate(gene_lists):\n",
    "    x = np.array(results_list[idx])[np.array(groups) == 'control']\n",
    "    y = np.array(results_list[idx])[np.array(groups) == 'sport']\n",
    "    t_test_gts_sport.append(stats.ttest_ind(x,y))\n",
    "    \n",
    "    x = np.array(results_list[idx])[np.array(groups) == 'control']\n",
    "    y = np.array(results_list[idx])[np.array(groups) == '1kg']\n",
    "    t_test_gts_1kg.append(stats.ttest_ind(x,y))\n",
    "    \n",
    "    x = np.array(results_list[idx])[np.array(groups) == 'sport']\n",
    "    y = np.array(results_list[idx])[np.array(groups) == '1kg']\n",
    "    t_test_sport_1kg.append(stats.ttest_ind(x,y))\n",
    "    \n",
    "    x = np.array(results_list[idx])[np.array(phenotype) == 'endurance']\n",
    "    y = np.array(results_list[idx])[np.array(phenotype) == 'speed']\n",
    "    t_test_end_speed.append(stats.ttest_ind(x,y))\n",
    "    \n",
    "    gts_mean.append(np.mean((np.array(results_list[idx])[np.array(groups) == 'control'])))\n",
    "    gts_std.append(np.std(np.array(results_list[idx])[np.array(groups) == 'control']))\n",
    "    \n",
    "    kg_mean.append(np.mean((np.array(results_list[idx])[np.array(groups) == '1kg'])))\n",
    "    kg_std.append(np.std(np.array(results_list[idx])[np.array(groups) == '1kg']))\n",
    "    \n",
    "    sport_mean.append(np.mean((np.array(results_list[idx])[np.array(groups) == 'sport'])))\n",
    "    sport_std.append(np.std(np.array(results_list[idx])[np.array(groups) == 'sport']))\n",
    "    \n",
    "    end_mean.append(np.mean((np.array(results_list[idx])[np.array(phenotype) == 'endurance'])))\n",
    "    end_std.append(np.std(np.array(results_list[idx])[np.array(phenotype) == 'endurance']))\n",
    "    \n",
    "    speed_mean.append(np.mean((np.array(results_list[idx])[np.array(phenotype) == 'speed'])))\n",
    "    speed_std.append(np.std(np.array(results_list[idx])[np.array(phenotype) == 'speed']))\n",
    "\n",
    "np.save('results_list_array', np.array(results_list))\n",
    "\n",
    "res = np.load('results_list_array.npy')\n",
    "\n",
    "results_to_plot = pd.DataFrame(res).transpose()\n",
    "\n",
    "results_to_plot['group'] = pd.Series(np.array(groups))\n",
    "results_to_plot['phenotype'] = pd.Series(np.array(phenotype))"
   ]
  },
  {
   "cell_type": "code",
   "execution_count": 20,
   "metadata": {},
   "outputs": [],
   "source": [
    "gene_lists.append('group')\n",
    "gene_lists.append('pheno')"
   ]
  },
  {
   "cell_type": "code",
   "execution_count": 21,
   "metadata": {},
   "outputs": [],
   "source": [
    "results_to_plot.columns = gene_lists"
   ]
  },
  {
   "cell_type": "code",
   "execution_count": 22,
   "metadata": {
    "scrolled": false
   },
   "outputs": [
    {
     "name": "stderr",
     "output_type": "stream",
     "text": [
      "/net/archive/groups/plggneuromol/imdik-zekanowski-sportwgs/preprocessing/joint-with-gts/venv/lib/python3.7/site-packages/seaborn/categorical.py:1296: UserWarning: 6.0% of the points cannot be placed; you may want to decrease the size of the markers or use stripplot.\n",
      "  warnings.warn(msg, UserWarning)\n"
     ]
    },
    {
     "data": {
      "image/png": "[encoded data removed]",
      "text/plain": [
       "<Figure size 432x288 with 1 Axes>"
      ]
     },
     "metadata": {},
     "output_type": "display_data"
    }
   ],
   "source": [
    "sns.set(style=\"whitegrid\")\n",
    "\n",
    "ax = sns.barplot(x='group', y='soft_tissue_injury_2021', data=results_to_plot, capsize=.05, ci=68)\n",
    "ax = sns.swarmplot(x='group', y='soft_tissue_injury_2021', data=results_to_plot, color=\"0\", alpha=.35)\n",
    "\n",
    "#ax.set(ylim=(1500, 2800))"
   ]
  },
  {
   "cell_type": "code",
   "execution_count": 23,
   "metadata": {},
   "outputs": [
    {
     "data": {
      "image/png": "[encoded data removed]",
      "text/plain": [
       "<Figure size 432x288 with 1 Axes>"
      ]
     },
     "metadata": {},
     "output_type": "display_data"
    }
   ],
   "source": [
    "sns.set(style=\"whitegrid\")\n",
    "\n",
    "ax = sns.barplot(x='pheno', y='soft_tissue_injury_2021', data=results_to_plot, capsize=.05, ci=68)\n",
    "ax = sns.swarmplot(x='pheno', y='soft_tissue_injury_2021', data=results_to_plot, color=\"0\", alpha=.35)\n",
    "\n",
    "#ax.set(ylim=(1500, 2500))\n"
   ]
  },
  {
   "cell_type": "code",
   "execution_count": 24,
   "metadata": {},
   "outputs": [],
   "source": [
    "p_gts_sport = []\n",
    "\n",
    "for t in t_test_gts_sport:\n",
    "    p_gts_sport.append(t[1])\n",
    "    \n",
    "p_gts_kg = []\n",
    "\n",
    "for t in t_test_gts_1kg:\n",
    "    p_gts_kg.append(t[1])\n",
    "    \n",
    "p_kg_sport = []\n",
    "\n",
    "for t in t_test_sport_1kg:\n",
    "    p_kg_sport.append(t[1])\n",
    "    \n",
    "p_end_speed = []\n",
    "\n",
    "for t in t_test_end_speed:\n",
    "    p_end_speed.append(t[1])\n",
    "\n",
    "list_results = pd.DataFrame([list(gene_lists), p_gts_sport, p_gts_kg, p_kg_sport, p_end_speed, \n",
    "                             gts_mean, gts_std, kg_mean, kg_std, sport_mean, sport_std, end_mean, end_std, speed_mean, speed_std])"
   ]
  },
  {
   "cell_type": "code",
   "execution_count": 25,
   "metadata": {},
   "outputs": [],
   "source": [
    "list_results = list_results.transpose()"
   ]
  },
  {
   "cell_type": "code",
   "execution_count": 26,
   "metadata": {},
   "outputs": [],
   "source": [
    "list_results.columns = ['gene_list', 'p_value_gts_sport', 'p_value_gts_1kg', 'p_value_1kg_sport', 'p_value_end_vs_speed', 'gts_mean', 'gts_std', 'kg_mean', 'kg_std', 'sport_mean', 'sport_std', 'end_mean', 'end_std',\n",
    "                       'speed_mean', 'speed_std']"
   ]
  },
  {
   "cell_type": "code",
   "execution_count": 27,
   "metadata": {},
   "outputs": [],
   "source": [
    "list_results.to_csv('sportsmen_burden_lists_results.csv')"
   ]
  },
  {
   "cell_type": "code",
   "execution_count": 33,
   "metadata": {
    "scrolled": false
   },
   "outputs": [
    {
     "data": {
      "text/plain": [
       "gene_list               expiratory_volume_best\n",
       "p_value_gts_sport                     0.434787\n",
       "p_value_gts_1kg                      0.0256357\n",
       "p_value_1kg_sport                    0.0552249\n",
       "p_value_end_vs_speed                  0.450853\n",
       "gts_mean                               962.204\n",
       "gts_std                                128.937\n",
       "kg_mean                                1019.55\n",
       "kg_std                                 133.153\n",
       "sport_mean                             982.412\n",
       "sport_std                              136.393\n",
       "end_mean                               993.022\n",
       "end_std                                143.299\n",
       "speed_mean                             972.218\n",
       "speed_std                               128.59\n",
       "Name: 32, dtype: object"
      ]
     },
     "execution_count": 33,
     "metadata": {},
     "output_type": "execute_result"
    }
   ],
   "source": [
    "list_results.iloc[32]"
   ]
  },
  {
   "cell_type": "markdown",
   "metadata": {},
   "source": [
    "## continue with selected gene lists"
   ]
  },
  {
   "cell_type": "code",
   "execution_count": 32,
   "metadata": {},
   "outputs": [],
   "source": [
    "gene_lists_dict['soft_tissue_injury_2021'].remove('BGN') #no variants in BGN"
   ]
  },
  {
   "cell_type": "code",
   "execution_count": 121,
   "metadata": {},
   "outputs": [],
   "source": [
    "t_test_speed_gts = []\n",
    "t_test_speed_1kg = []\n",
    "t_test_end_speed = []\n",
    "gts_mean = []\n",
    "gts_std = []\n",
    "kg_mean = []\n",
    "kg_std = []\n",
    "end_mean = []\n",
    "end_std = []\n",
    "speed_mean = []\n",
    "speed_std = []"
   ]
  },
  {
   "cell_type": "code",
   "execution_count": 122,
   "metadata": {},
   "outputs": [
    {
     "name": "stdout",
     "output_type": "stream",
     "text": [
      "(1, 236)\n",
      "the gene is:COL12A1\n",
      "\n",
      "(1, 236)\n",
      "the gene is:TIMP2\n",
      "\n",
      "(1, 236)\n",
      "the gene is:TNC\n",
      "\n",
      "(1, 236)\n",
      "the gene is:CASP8\n",
      "\n",
      "(1, 236)\n",
      "the gene is:IL1B\n",
      "\n",
      "(1, 236)\n",
      "the gene is:IL6\n",
      "\n",
      "(1, 236)\n",
      "the gene is:COL5A1\n",
      "\n",
      "(1, 236)\n",
      "the gene is:ACAN\n",
      "\n",
      "(1, 236)\n",
      "the gene is:VEGFA\n",
      "\n",
      "(1, 236)\n",
      "the gene is:ACTN3\n",
      "\n",
      "(1, 236)\n",
      "the gene is:COL1A1\n",
      "\n",
      "(1, 236)\n",
      "the gene is:MMP3\n",
      "\n",
      "(1, 236)\n",
      "the gene is:COL3A1\n",
      "\n",
      "(1, 236)\n",
      "the gene is:MMP1\n",
      "\n",
      "(1, 236)\n",
      "the gene is:KDR\n",
      "\n"
     ]
    }
   ],
   "source": [
    "for g in gene_lists_dict['soft_tissue_injury_2021']:\n",
    "    result = per_gene.filter_rows(per_gene.within_gene == g)\n",
    "    print(result.count())\n",
    "    print('the gene is:'+g)\n",
    "    r = result['burden_cadd_phred'].collect()\n",
    "    print()\n",
    "    \n",
    "    x = np.array(r)[np.array(phenotype) == 'speed']\n",
    "    y = np.array(r)[np.array(groups) == 'control']\n",
    "    t_test_speed_gts.append(stats.ttest_ind(x,y))\n",
    "    \n",
    "    x = np.array(r)[np.array(phenotype) == 'speed']\n",
    "    y = np.array(r)[np.array(groups) == '1kg']\n",
    "    t_test_speed_1kg.append(stats.ttest_ind(x,y))\n",
    "    \n",
    "    x = np.array(r)[np.array(phenotype) == 'endurance']\n",
    "    y = np.array(r)[np.array(phenotype) == 'speed']\n",
    "    t_test_end_speed.append(stats.ttest_ind(x,y))\n",
    "    \n",
    "    gts_mean.append(np.mean((np.array(r)[np.array(groups) == 'control'])))\n",
    "    gts_std.append(np.std(np.array(r)[np.array(groups) == 'control']))\n",
    "    \n",
    "    kg_mean.append(np.mean((np.array(r)[np.array(groups) == '1kg'])))\n",
    "    kg_std.append(np.std(np.array(r)[np.array(groups) == '1kg']))\n",
    "    \n",
    "    end_mean.append(np.mean((np.array(r)[np.array(phenotype) == 'endurance'])))\n",
    "    end_std.append(np.std(np.array(r)[np.array(phenotype) == 'endurance']))\n",
    "    \n",
    "    speed_mean.append(np.mean((np.array(r)[np.array(phenotype) == 'speed'])))\n",
    "    speed_std.append(np.std(np.array(r)[np.array(phenotype) == 'speed']))\n",
    "\n",
    "np.save('results_list_array_per_gene', np.array(r))\n",
    "\n",
    "res = np.load('results_list_array_per_gene.npy')\n",
    "\n",
    "results_to_plot = pd.DataFrame(res).transpose()\n",
    "\n",
    "results_to_plot['group'] = pd.Series(np.array(groups))\n",
    "results_to_plot['phenotype'] = pd.Series(np.array(phenotype))"
   ]
  },
  {
   "cell_type": "code",
   "execution_count": 123,
   "metadata": {},
   "outputs": [],
   "source": [
    "p_speed_gts = []\n",
    "\n",
    "for t in t_test_speed_gts:\n",
    "    p_speed_gts.append(t[1])\n",
    "    \n",
    "p_speed_kg = []\n",
    "\n",
    "for t in t_test_speed_1kg:\n",
    "    p_speed_kg.append(t[1])\n",
    "\n",
    "p_end_speed = []\n",
    "\n",
    "for t in t_test_end_speed:\n",
    "    p_end_speed.append(t[1])\n",
    "\n",
    "list_results = pd.DataFrame([gene_lists_dict['soft_tissue_injury_2021'], p_speed_gts, p_speed_kg, p_end_speed, \n",
    "                             gts_mean, gts_std, kg_mean, kg_std, end_mean, end_std, speed_mean, speed_std])\n",
    "\n",
    "list_results = list_results.transpose()"
   ]
  },
  {
   "cell_type": "code",
   "execution_count": 124,
   "metadata": {},
   "outputs": [],
   "source": [
    "list_results.columns = ['gene', 'p_speed_gts', 'p_speed_1kg', 'p_end_speed', \n",
    "                             'gts_mean', 'gts_std', '1kg_mean', '1kg_std', 'end_mean', 'end_std', 'speed_mean', 'speed_std']\n"
   ]
  },
  {
   "cell_type": "code",
   "execution_count": 125,
   "metadata": {},
   "outputs": [
    {
     "data": {
      "text/html": [
       "<div>\n",
       "<style scoped>\n",
       "    .dataframe tbody tr th:only-of-type {\n",
       "        vertical-align: middle;\n",
       "    }\n",
       "\n",
       "    .dataframe tbody tr th {\n",
       "        vertical-align: top;\n",
       "    }\n",
       "\n",
       "    .dataframe thead th {\n",
       "        text-align: right;\n",
       "    }\n",
       "</style>\n",
       "<table border=\"1\" class=\"dataframe\">\n",
       "  <thead>\n",
       "    <tr style=\"text-align: right;\">\n",
       "      <th></th>\n",
       "      <th>gene</th>\n",
       "      <th>p_speed_gts</th>\n",
       "      <th>p_speed_1kg</th>\n",
       "      <th>p_end_speed</th>\n",
       "      <th>gts_mean</th>\n",
       "      <th>gts_std</th>\n",
       "      <th>1kg_mean</th>\n",
       "      <th>1kg_std</th>\n",
       "      <th>end_mean</th>\n",
       "      <th>end_std</th>\n",
       "      <th>speed_mean</th>\n",
       "      <th>speed_std</th>\n",
       "    </tr>\n",
       "  </thead>\n",
       "  <tbody>\n",
       "    <tr>\n",
       "      <th>0</th>\n",
       "      <td>COL12A1</td>\n",
       "      <td>0.729259</td>\n",
       "      <td>0.453169</td>\n",
       "      <td>0.601167</td>\n",
       "      <td>235.694</td>\n",
       "      <td>51.9885</td>\n",
       "      <td>245.088</td>\n",
       "      <td>37.0324</td>\n",
       "      <td>244.558</td>\n",
       "      <td>42.9599</td>\n",
       "      <td>239.559</td>\n",
       "      <td>50.8777</td>\n",
       "    </tr>\n",
       "    <tr>\n",
       "      <th>1</th>\n",
       "      <td>TIMP2</td>\n",
       "      <td>0.190874</td>\n",
       "      <td>0.461495</td>\n",
       "      <td>0.563469</td>\n",
       "      <td>97.443</td>\n",
       "      <td>19.5428</td>\n",
       "      <td>99.9684</td>\n",
       "      <td>20.9368</td>\n",
       "      <td>100.591</td>\n",
       "      <td>15.9185</td>\n",
       "      <td>102.452</td>\n",
       "      <td>15.8664</td>\n",
       "    </tr>\n",
       "    <tr>\n",
       "      <th>2</th>\n",
       "      <td>TNC</td>\n",
       "      <td>0.0588554</td>\n",
       "      <td>0.0486508</td>\n",
       "      <td>0.549517</td>\n",
       "      <td>225.602</td>\n",
       "      <td>69.8864</td>\n",
       "      <td>224.455</td>\n",
       "      <td>83.0811</td>\n",
       "      <td>205.72</td>\n",
       "      <td>67.0789</td>\n",
       "      <td>197.692</td>\n",
       "      <td>65.2371</td>\n",
       "    </tr>\n",
       "    <tr>\n",
       "      <th>3</th>\n",
       "      <td>CASP8</td>\n",
       "      <td>0.899098</td>\n",
       "      <td>0.904087</td>\n",
       "      <td>0.12537</td>\n",
       "      <td>60.9927</td>\n",
       "      <td>20.085</td>\n",
       "      <td>61.9739</td>\n",
       "      <td>19.0875</td>\n",
       "      <td>67.4417</td>\n",
       "      <td>16.3641</td>\n",
       "      <td>61.5598</td>\n",
       "      <td>20.9277</td>\n",
       "    </tr>\n",
       "    <tr>\n",
       "      <th>4</th>\n",
       "      <td>IL1B</td>\n",
       "      <td>0.177843</td>\n",
       "      <td>0.221621</td>\n",
       "      <td>0.857339</td>\n",
       "      <td>15.12</td>\n",
       "      <td>5.63777</td>\n",
       "      <td>14.6193</td>\n",
       "      <td>6.3134</td>\n",
       "      <td>13.4658</td>\n",
       "      <td>6.43377</td>\n",
       "      <td>13.2208</td>\n",
       "      <td>6.99458</td>\n",
       "    </tr>\n",
       "    <tr>\n",
       "      <th>5</th>\n",
       "      <td>IL6</td>\n",
       "      <td>0.170895</td>\n",
       "      <td>0.0073131</td>\n",
       "      <td>0.569532</td>\n",
       "      <td>52.8269</td>\n",
       "      <td>38.6322</td>\n",
       "      <td>57.2048</td>\n",
       "      <td>31.1483</td>\n",
       "      <td>39.2502</td>\n",
       "      <td>32.1512</td>\n",
       "      <td>42.7875</td>\n",
       "      <td>29.1856</td>\n",
       "    </tr>\n",
       "    <tr>\n",
       "      <th>6</th>\n",
       "      <td>COL5A1</td>\n",
       "      <td>0.120911</td>\n",
       "      <td>0.138869</td>\n",
       "      <td>0.0157523</td>\n",
       "      <td>161.903</td>\n",
       "      <td>31.5243</td>\n",
       "      <td>140.807</td>\n",
       "      <td>38.136</td>\n",
       "      <td>166.7</td>\n",
       "      <td>29.7857</td>\n",
       "      <td>150.433</td>\n",
       "      <td>35.378</td>\n",
       "    </tr>\n",
       "    <tr>\n",
       "      <th>7</th>\n",
       "      <td>ACAN</td>\n",
       "      <td>0.35347</td>\n",
       "      <td>0.198846</td>\n",
       "      <td>0.288337</td>\n",
       "      <td>166.17</td>\n",
       "      <td>54.8515</td>\n",
       "      <td>165.16</td>\n",
       "      <td>53.0514</td>\n",
       "      <td>188.633</td>\n",
       "      <td>53.8418</td>\n",
       "      <td>177.08</td>\n",
       "      <td>53.2774</td>\n",
       "    </tr>\n",
       "    <tr>\n",
       "      <th>8</th>\n",
       "      <td>VEGFA</td>\n",
       "      <td>0.704141</td>\n",
       "      <td>0.0897578</td>\n",
       "      <td>0.05861</td>\n",
       "      <td>77.8358</td>\n",
       "      <td>22.1175</td>\n",
       "      <td>83.6537</td>\n",
       "      <td>27.3992</td>\n",
       "      <td>85.6118</td>\n",
       "      <td>27.2235</td>\n",
       "      <td>75.9975</td>\n",
       "      <td>22.3671</td>\n",
       "    </tr>\n",
       "    <tr>\n",
       "      <th>9</th>\n",
       "      <td>ACTN3</td>\n",
       "      <td>0.924354</td>\n",
       "      <td>0.878106</td>\n",
       "      <td>0.289455</td>\n",
       "      <td>80.6086</td>\n",
       "      <td>55.5295</td>\n",
       "      <td>80.4666</td>\n",
       "      <td>43.637</td>\n",
       "      <td>91.7244</td>\n",
       "      <td>40.6437</td>\n",
       "      <td>81.7086</td>\n",
       "      <td>51.5685</td>\n",
       "    </tr>\n",
       "    <tr>\n",
       "      <th>10</th>\n",
       "      <td>COL1A1</td>\n",
       "      <td>0.648935</td>\n",
       "      <td>0.0343177</td>\n",
       "      <td>0.0905207</td>\n",
       "      <td>75.7902</td>\n",
       "      <td>16.7905</td>\n",
       "      <td>80.1146</td>\n",
       "      <td>16.4776</td>\n",
       "      <td>79.3787</td>\n",
       "      <td>15.3591</td>\n",
       "      <td>74.2677</td>\n",
       "      <td>14.2329</td>\n",
       "    </tr>\n",
       "    <tr>\n",
       "      <th>11</th>\n",
       "      <td>MMP3</td>\n",
       "      <td>0.899372</td>\n",
       "      <td>0.399174</td>\n",
       "      <td>0.317977</td>\n",
       "      <td>12.824</td>\n",
       "      <td>10.2329</td>\n",
       "      <td>14.7177</td>\n",
       "      <td>11.6468</td>\n",
       "      <td>15.0561</td>\n",
       "      <td>9.59417</td>\n",
       "      <td>13.0973</td>\n",
       "      <td>9.71869</td>\n",
       "    </tr>\n",
       "    <tr>\n",
       "      <th>12</th>\n",
       "      <td>COL3A1</td>\n",
       "      <td>0.192042</td>\n",
       "      <td>0.163062</td>\n",
       "      <td>0.385304</td>\n",
       "      <td>60.4618</td>\n",
       "      <td>9.29253</td>\n",
       "      <td>60.0399</td>\n",
       "      <td>8.68142</td>\n",
       "      <td>59.5071</td>\n",
       "      <td>9.29148</td>\n",
       "      <td>57.9378</td>\n",
       "      <td>8.51797</td>\n",
       "    </tr>\n",
       "    <tr>\n",
       "      <th>13</th>\n",
       "      <td>MMP1</td>\n",
       "      <td>0.56084</td>\n",
       "      <td>0.169637</td>\n",
       "      <td>0.381065</td>\n",
       "      <td>12.3003</td>\n",
       "      <td>3.70504</td>\n",
       "      <td>14.6216</td>\n",
       "      <td>8.60126</td>\n",
       "      <td>12.0339</td>\n",
       "      <td>4.43976</td>\n",
       "      <td>12.8314</td>\n",
       "      <td>4.5286</td>\n",
       "    </tr>\n",
       "    <tr>\n",
       "      <th>14</th>\n",
       "      <td>KDR</td>\n",
       "      <td>0.61371</td>\n",
       "      <td>0.0798962</td>\n",
       "      <td>0.29352</td>\n",
       "      <td>148.816</td>\n",
       "      <td>33.861</td>\n",
       "      <td>142.933</td>\n",
       "      <td>30.8047</td>\n",
       "      <td>145.38</td>\n",
       "      <td>34.7053</td>\n",
       "      <td>152.305</td>\n",
       "      <td>30.1252</td>\n",
       "    </tr>\n",
       "  </tbody>\n",
       "</table>\n",
       "</div>"
      ],
      "text/plain": [
       "       gene p_speed_gts p_speed_1kg p_end_speed gts_mean  gts_std 1kg_mean  \\\n",
       "0   COL12A1    0.729259    0.453169    0.601167  235.694  51.9885  245.088   \n",
       "1     TIMP2    0.190874    0.461495    0.563469   97.443  19.5428  99.9684   \n",
       "2       TNC   0.0588554   0.0486508    0.549517  225.602  69.8864  224.455   \n",
       "3     CASP8    0.899098    0.904087     0.12537  60.9927   20.085  61.9739   \n",
       "4      IL1B    0.177843    0.221621    0.857339    15.12  5.63777  14.6193   \n",
       "5       IL6    0.170895   0.0073131    0.569532  52.8269  38.6322  57.2048   \n",
       "6    COL5A1    0.120911    0.138869   0.0157523  161.903  31.5243  140.807   \n",
       "7      ACAN     0.35347    0.198846    0.288337   166.17  54.8515   165.16   \n",
       "8     VEGFA    0.704141   0.0897578     0.05861  77.8358  22.1175  83.6537   \n",
       "9     ACTN3    0.924354    0.878106    0.289455  80.6086  55.5295  80.4666   \n",
       "10   COL1A1    0.648935   0.0343177   0.0905207  75.7902  16.7905  80.1146   \n",
       "11     MMP3    0.899372    0.399174    0.317977   12.824  10.2329  14.7177   \n",
       "12   COL3A1    0.192042    0.163062    0.385304  60.4618  9.29253  60.0399   \n",
       "13     MMP1     0.56084    0.169637    0.381065  12.3003  3.70504  14.6216   \n",
       "14      KDR     0.61371   0.0798962     0.29352  148.816   33.861  142.933   \n",
       "\n",
       "    1kg_std end_mean  end_std speed_mean speed_std  \n",
       "0   37.0324  244.558  42.9599    239.559   50.8777  \n",
       "1   20.9368  100.591  15.9185    102.452   15.8664  \n",
       "2   83.0811   205.72  67.0789    197.692   65.2371  \n",
       "3   19.0875  67.4417  16.3641    61.5598   20.9277  \n",
       "4    6.3134  13.4658  6.43377    13.2208   6.99458  \n",
       "5   31.1483  39.2502  32.1512    42.7875   29.1856  \n",
       "6    38.136    166.7  29.7857    150.433    35.378  \n",
       "7   53.0514  188.633  53.8418     177.08   53.2774  \n",
       "8   27.3992  85.6118  27.2235    75.9975   22.3671  \n",
       "9    43.637  91.7244  40.6437    81.7086   51.5685  \n",
       "10  16.4776  79.3787  15.3591    74.2677   14.2329  \n",
       "11  11.6468  15.0561  9.59417    13.0973   9.71869  \n",
       "12  8.68142  59.5071  9.29148    57.9378   8.51797  \n",
       "13  8.60126  12.0339  4.43976    12.8314    4.5286  \n",
       "14  30.8047   145.38  34.7053    152.305   30.1252  "
      ]
     },
     "execution_count": 125,
     "metadata": {},
     "output_type": "execute_result"
    }
   ],
   "source": [
    "list_results"
   ]
  },
  {
   "cell_type": "code",
   "execution_count": 126,
   "metadata": {},
   "outputs": [],
   "source": [
    "list_results.to_csv('soft_tissue_results_5.csv')"
   ]
  },
  {
   "cell_type": "code",
   "execution_count": 12,
   "metadata": {},
   "outputs": [
    {
     "data": {
      "text/plain": [
       "dict_keys(['brain', 'sekletal_muscle', 'heart', 'Hp_0011804', 'Hp_0011805', 'endurance_markers_2021', 'power_markers_2021', 'strength_markers_2021', 'soft_tissue_injury_2021', 'Cerebral_Cortex', 'Basal_Ganglia', 'Hypothalmus', 'Thalmus', 'Midbrain', 'Dopaminergiczna', 'Serotoninergiczna', 'Noradrenergiczna', 'GABA', 'SLITRK', 'all_neurotransmitters', 'Gutaminian', 'Serotonina_Kannabinoidy', 'Dopamina_Acetylocholina', 'geny_GTS', 'Synapsy', 'Tryptofan', 'Ligand_receptor', 'calcium', 'androgenowy', 'addiction', 'cancer_diagnosed', 'cystic_kidney_disease', 'expiratory_volume_best', 'hand_grip_left', 'hand_grip_right'])"
      ]
     },
     "execution_count": 12,
     "metadata": {},
     "output_type": "execute_result"
    }
   ],
   "source": [
    "gene_lists_dict.keys()"
   ]
  },
  {
   "cell_type": "code",
   "execution_count": 14,
   "metadata": {},
   "outputs": [],
   "source": [
    "main_lists = [gene_lists_dict['sekletal_muscle'], gene_lists_dict['Midbrain'], gene_lists_dict['Noradrenergiczna']]"
   ]
  },
  {
   "cell_type": "code",
   "execution_count": 121,
   "metadata": {},
   "outputs": [],
   "source": [
    "t_test_speed_gts = []\n",
    "t_test_speed_1kg = []\n",
    "t_test_end_speed = []\n",
    "gts_mean = []\n",
    "gts_std = []\n",
    "kg_mean = []\n",
    "kg_std = []\n",
    "end_mean = []\n",
    "end_std = []\n",
    "speed_mean = []\n",
    "speed_std = []"
   ]
  },
  {
   "cell_type": "code",
   "execution_count": 122,
   "metadata": {},
   "outputs": [
    {
     "name": "stdout",
     "output_type": "stream",
     "text": [
      "(1, 236)\n",
      "the gene is:COL12A1\n",
      "\n",
      "(1, 236)\n",
      "the gene is:TIMP2\n",
      "\n",
      "(1, 236)\n",
      "the gene is:TNC\n",
      "\n",
      "(1, 236)\n",
      "the gene is:CASP8\n",
      "\n",
      "(1, 236)\n",
      "the gene is:IL1B\n",
      "\n",
      "(1, 236)\n",
      "the gene is:IL6\n",
      "\n",
      "(1, 236)\n",
      "the gene is:COL5A1\n",
      "\n",
      "(1, 236)\n",
      "the gene is:ACAN\n",
      "\n",
      "(1, 236)\n",
      "the gene is:VEGFA\n",
      "\n",
      "(1, 236)\n",
      "the gene is:ACTN3\n",
      "\n",
      "(1, 236)\n",
      "the gene is:COL1A1\n",
      "\n",
      "(1, 236)\n",
      "the gene is:MMP3\n",
      "\n",
      "(1, 236)\n",
      "the gene is:COL3A1\n",
      "\n",
      "(1, 236)\n",
      "the gene is:MMP1\n",
      "\n",
      "(1, 236)\n",
      "the gene is:KDR\n",
      "\n"
     ]
    }
   ],
   "source": [
    "for g in gene_lists_dict['soft_tissue_injury_2021']:\n",
    "    result = per_gene.filter_rows(per_gene.within_gene == g)\n",
    "    print(result.count())\n",
    "    print('the gene is:'+g)\n",
    "    r = result['burden_cadd_phred'].collect()\n",
    "    print()\n",
    "    \n",
    "    x = np.array(r)[np.array(phenotype) == 'speed']\n",
    "    y = np.array(r)[np.array(groups) == 'control']\n",
    "    t_test_speed_gts.append(stats.ttest_ind(x,y))\n",
    "    \n",
    "    x = np.array(r)[np.array(phenotype) == 'speed']\n",
    "    y = np.array(r)[np.array(groups) == '1kg']\n",
    "    t_test_speed_1kg.append(stats.ttest_ind(x,y))\n",
    "    \n",
    "    x = np.array(r)[np.array(phenotype) == 'endurance']\n",
    "    y = np.array(r)[np.array(phenotype) == 'speed']\n",
    "    t_test_end_speed.append(stats.ttest_ind(x,y))\n",
    "    \n",
    "    gts_mean.append(np.mean((np.array(r)[np.array(groups) == 'control'])))\n",
    "    gts_std.append(np.std(np.array(r)[np.array(groups) == 'control']))\n",
    "    \n",
    "    kg_mean.append(np.mean((np.array(r)[np.array(groups) == '1kg'])))\n",
    "    kg_std.append(np.std(np.array(r)[np.array(groups) == '1kg']))\n",
    "    \n",
    "    end_mean.append(np.mean((np.array(r)[np.array(phenotype) == 'endurance'])))\n",
    "    end_std.append(np.std(np.array(r)[np.array(phenotype) == 'endurance']))\n",
    "    \n",
    "    speed_mean.append(np.mean((np.array(r)[np.array(phenotype) == 'speed'])))\n",
    "    speed_std.append(np.std(np.array(r)[np.array(phenotype) == 'speed']))\n",
    "\n",
    "np.save('results_list_array_per_gene', np.array(r))\n",
    "\n",
    "res = np.load('results_list_array_per_gene.npy')\n",
    "\n",
    "results_to_plot = pd.DataFrame(res).transpose()\n",
    "\n",
    "results_to_plot['group'] = pd.Series(np.array(groups))\n",
    "results_to_plot['phenotype'] = pd.Series(np.array(phenotype))"
   ]
  },
  {
   "cell_type": "code",
   "execution_count": 123,
   "metadata": {},
   "outputs": [],
   "source": [
    "p_speed_gts = []\n",
    "\n",
    "for t in t_test_speed_gts:\n",
    "    p_speed_gts.append(t[1])\n",
    "    \n",
    "p_speed_kg = []\n",
    "\n",
    "for t in t_test_speed_1kg:\n",
    "    p_speed_kg.append(t[1])\n",
    "\n",
    "p_end_speed = []\n",
    "\n",
    "for t in t_test_end_speed:\n",
    "    p_end_speed.append(t[1])\n",
    "\n",
    "list_results = pd.DataFrame([gene_lists_dict['soft_tissue_injury_2021'], p_speed_gts, p_speed_kg, p_end_speed, \n",
    "                             gts_mean, gts_std, kg_mean, kg_std, end_mean, end_std, speed_mean, speed_std])\n",
    "\n",
    "list_results = list_results.transpose()"
   ]
  },
  {
   "cell_type": "code",
   "execution_count": 124,
   "metadata": {},
   "outputs": [],
   "source": [
    "list_results.columns = ['gene', 'p_speed_gts', 'p_speed_1kg', 'p_end_speed', \n",
    "                             'gts_mean', 'gts_std', '1kg_mean', '1kg_std', 'end_mean', 'end_std', 'speed_mean', 'speed_std']\n"
   ]
  },
  {
   "cell_type": "code",
   "execution_count": 125,
   "metadata": {},
   "outputs": [
    {
     "data": {
      "text/html": [
       "<div>\n",
       "<style scoped>\n",
       "    .dataframe tbody tr th:only-of-type {\n",
       "        vertical-align: middle;\n",
       "    }\n",
       "\n",
       "    .dataframe tbody tr th {\n",
       "        vertical-align: top;\n",
       "    }\n",
       "\n",
       "    .dataframe thead th {\n",
       "        text-align: right;\n",
       "    }\n",
       "</style>\n",
       "<table border=\"1\" class=\"dataframe\">\n",
       "  <thead>\n",
       "    <tr style=\"text-align: right;\">\n",
       "      <th></th>\n",
       "      <th>gene</th>\n",
       "      <th>p_speed_gts</th>\n",
       "      <th>p_speed_1kg</th>\n",
       "      <th>p_end_speed</th>\n",
       "      <th>gts_mean</th>\n",
       "      <th>gts_std</th>\n",
       "      <th>1kg_mean</th>\n",
       "      <th>1kg_std</th>\n",
       "      <th>end_mean</th>\n",
       "      <th>end_std</th>\n",
       "      <th>speed_mean</th>\n",
       "      <th>speed_std</th>\n",
       "    </tr>\n",
       "  </thead>\n",
       "  <tbody>\n",
       "    <tr>\n",
       "      <th>0</th>\n",
       "      <td>COL12A1</td>\n",
       "      <td>0.729259</td>\n",
       "      <td>0.453169</td>\n",
       "      <td>0.601167</td>\n",
       "      <td>235.694</td>\n",
       "      <td>51.9885</td>\n",
       "      <td>245.088</td>\n",
       "      <td>37.0324</td>\n",
       "      <td>244.558</td>\n",
       "      <td>42.9599</td>\n",
       "      <td>239.559</td>\n",
       "      <td>50.8777</td>\n",
       "    </tr>\n",
       "    <tr>\n",
       "      <th>1</th>\n",
       "      <td>TIMP2</td>\n",
       "      <td>0.190874</td>\n",
       "      <td>0.461495</td>\n",
       "      <td>0.563469</td>\n",
       "      <td>97.443</td>\n",
       "      <td>19.5428</td>\n",
       "      <td>99.9684</td>\n",
       "      <td>20.9368</td>\n",
       "      <td>100.591</td>\n",
       "      <td>15.9185</td>\n",
       "      <td>102.452</td>\n",
       "      <td>15.8664</td>\n",
       "    </tr>\n",
       "    <tr>\n",
       "      <th>2</th>\n",
       "      <td>TNC</td>\n",
       "      <td>0.0588554</td>\n",
       "      <td>0.0486508</td>\n",
       "      <td>0.549517</td>\n",
       "      <td>225.602</td>\n",
       "      <td>69.8864</td>\n",
       "      <td>224.455</td>\n",
       "      <td>83.0811</td>\n",
       "      <td>205.72</td>\n",
       "      <td>67.0789</td>\n",
       "      <td>197.692</td>\n",
       "      <td>65.2371</td>\n",
       "    </tr>\n",
       "    <tr>\n",
       "      <th>3</th>\n",
       "      <td>CASP8</td>\n",
       "      <td>0.899098</td>\n",
       "      <td>0.904087</td>\n",
       "      <td>0.12537</td>\n",
       "      <td>60.9927</td>\n",
       "      <td>20.085</td>\n",
       "      <td>61.9739</td>\n",
       "      <td>19.0875</td>\n",
       "      <td>67.4417</td>\n",
       "      <td>16.3641</td>\n",
       "      <td>61.5598</td>\n",
       "      <td>20.9277</td>\n",
       "    </tr>\n",
       "    <tr>\n",
       "      <th>4</th>\n",
       "      <td>IL1B</td>\n",
       "      <td>0.177843</td>\n",
       "      <td>0.221621</td>\n",
       "      <td>0.857339</td>\n",
       "      <td>15.12</td>\n",
       "      <td>5.63777</td>\n",
       "      <td>14.6193</td>\n",
       "      <td>6.3134</td>\n",
       "      <td>13.4658</td>\n",
       "      <td>6.43377</td>\n",
       "      <td>13.2208</td>\n",
       "      <td>6.99458</td>\n",
       "    </tr>\n",
       "    <tr>\n",
       "      <th>5</th>\n",
       "      <td>IL6</td>\n",
       "      <td>0.170895</td>\n",
       "      <td>0.0073131</td>\n",
       "      <td>0.569532</td>\n",
       "      <td>52.8269</td>\n",
       "      <td>38.6322</td>\n",
       "      <td>57.2048</td>\n",
       "      <td>31.1483</td>\n",
       "      <td>39.2502</td>\n",
       "      <td>32.1512</td>\n",
       "      <td>42.7875</td>\n",
       "      <td>29.1856</td>\n",
       "    </tr>\n",
       "    <tr>\n",
       "      <th>6</th>\n",
       "      <td>COL5A1</td>\n",
       "      <td>0.120911</td>\n",
       "      <td>0.138869</td>\n",
       "      <td>0.0157523</td>\n",
       "      <td>161.903</td>\n",
       "      <td>31.5243</td>\n",
       "      <td>140.807</td>\n",
       "      <td>38.136</td>\n",
       "      <td>166.7</td>\n",
       "      <td>29.7857</td>\n",
       "      <td>150.433</td>\n",
       "      <td>35.378</td>\n",
       "    </tr>\n",
       "    <tr>\n",
       "      <th>7</th>\n",
       "      <td>ACAN</td>\n",
       "      <td>0.35347</td>\n",
       "      <td>0.198846</td>\n",
       "      <td>0.288337</td>\n",
       "      <td>166.17</td>\n",
       "      <td>54.8515</td>\n",
       "      <td>165.16</td>\n",
       "      <td>53.0514</td>\n",
       "      <td>188.633</td>\n",
       "      <td>53.8418</td>\n",
       "      <td>177.08</td>\n",
       "      <td>53.2774</td>\n",
       "    </tr>\n",
       "    <tr>\n",
       "      <th>8</th>\n",
       "      <td>VEGFA</td>\n",
       "      <td>0.704141</td>\n",
       "      <td>0.0897578</td>\n",
       "      <td>0.05861</td>\n",
       "      <td>77.8358</td>\n",
       "      <td>22.1175</td>\n",
       "      <td>83.6537</td>\n",
       "      <td>27.3992</td>\n",
       "      <td>85.6118</td>\n",
       "      <td>27.2235</td>\n",
       "      <td>75.9975</td>\n",
       "      <td>22.3671</td>\n",
       "    </tr>\n",
       "    <tr>\n",
       "      <th>9</th>\n",
       "      <td>ACTN3</td>\n",
       "      <td>0.924354</td>\n",
       "      <td>0.878106</td>\n",
       "      <td>0.289455</td>\n",
       "      <td>80.6086</td>\n",
       "      <td>55.5295</td>\n",
       "      <td>80.4666</td>\n",
       "      <td>43.637</td>\n",
       "      <td>91.7244</td>\n",
       "      <td>40.6437</td>\n",
       "      <td>81.7086</td>\n",
       "      <td>51.5685</td>\n",
       "    </tr>\n",
       "    <tr>\n",
       "      <th>10</th>\n",
       "      <td>COL1A1</td>\n",
       "      <td>0.648935</td>\n",
       "      <td>0.0343177</td>\n",
       "      <td>0.0905207</td>\n",
       "      <td>75.7902</td>\n",
       "      <td>16.7905</td>\n",
       "      <td>80.1146</td>\n",
       "      <td>16.4776</td>\n",
       "      <td>79.3787</td>\n",
       "      <td>15.3591</td>\n",
       "      <td>74.2677</td>\n",
       "      <td>14.2329</td>\n",
       "    </tr>\n",
       "    <tr>\n",
       "      <th>11</th>\n",
       "      <td>MMP3</td>\n",
       "      <td>0.899372</td>\n",
       "      <td>0.399174</td>\n",
       "      <td>0.317977</td>\n",
       "      <td>12.824</td>\n",
       "      <td>10.2329</td>\n",
       "      <td>14.7177</td>\n",
       "      <td>11.6468</td>\n",
       "      <td>15.0561</td>\n",
       "      <td>9.59417</td>\n",
       "      <td>13.0973</td>\n",
       "      <td>9.71869</td>\n",
       "    </tr>\n",
       "    <tr>\n",
       "      <th>12</th>\n",
       "      <td>COL3A1</td>\n",
       "      <td>0.192042</td>\n",
       "      <td>0.163062</td>\n",
       "      <td>0.385304</td>\n",
       "      <td>60.4618</td>\n",
       "      <td>9.29253</td>\n",
       "      <td>60.0399</td>\n",
       "      <td>8.68142</td>\n",
       "      <td>59.5071</td>\n",
       "      <td>9.29148</td>\n",
       "      <td>57.9378</td>\n",
       "      <td>8.51797</td>\n",
       "    </tr>\n",
       "    <tr>\n",
       "      <th>13</th>\n",
       "      <td>MMP1</td>\n",
       "      <td>0.56084</td>\n",
       "      <td>0.169637</td>\n",
       "      <td>0.381065</td>\n",
       "      <td>12.3003</td>\n",
       "      <td>3.70504</td>\n",
       "      <td>14.6216</td>\n",
       "      <td>8.60126</td>\n",
       "      <td>12.0339</td>\n",
       "      <td>4.43976</td>\n",
       "      <td>12.8314</td>\n",
       "      <td>4.5286</td>\n",
       "    </tr>\n",
       "    <tr>\n",
       "      <th>14</th>\n",
       "      <td>KDR</td>\n",
       "      <td>0.61371</td>\n",
       "      <td>0.0798962</td>\n",
       "      <td>0.29352</td>\n",
       "      <td>148.816</td>\n",
       "      <td>33.861</td>\n",
       "      <td>142.933</td>\n",
       "      <td>30.8047</td>\n",
       "      <td>145.38</td>\n",
       "      <td>34.7053</td>\n",
       "      <td>152.305</td>\n",
       "      <td>30.1252</td>\n",
       "    </tr>\n",
       "  </tbody>\n",
       "</table>\n",
       "</div>"
      ],
      "text/plain": [
       "       gene p_speed_gts p_speed_1kg p_end_speed gts_mean  gts_std 1kg_mean  \\\n",
       "0   COL12A1    0.729259    0.453169    0.601167  235.694  51.9885  245.088   \n",
       "1     TIMP2    0.190874    0.461495    0.563469   97.443  19.5428  99.9684   \n",
       "2       TNC   0.0588554   0.0486508    0.549517  225.602  69.8864  224.455   \n",
       "3     CASP8    0.899098    0.904087     0.12537  60.9927   20.085  61.9739   \n",
       "4      IL1B    0.177843    0.221621    0.857339    15.12  5.63777  14.6193   \n",
       "5       IL6    0.170895   0.0073131    0.569532  52.8269  38.6322  57.2048   \n",
       "6    COL5A1    0.120911    0.138869   0.0157523  161.903  31.5243  140.807   \n",
       "7      ACAN     0.35347    0.198846    0.288337   166.17  54.8515   165.16   \n",
       "8     VEGFA    0.704141   0.0897578     0.05861  77.8358  22.1175  83.6537   \n",
       "9     ACTN3    0.924354    0.878106    0.289455  80.6086  55.5295  80.4666   \n",
       "10   COL1A1    0.648935   0.0343177   0.0905207  75.7902  16.7905  80.1146   \n",
       "11     MMP3    0.899372    0.399174    0.317977   12.824  10.2329  14.7177   \n",
       "12   COL3A1    0.192042    0.163062    0.385304  60.4618  9.29253  60.0399   \n",
       "13     MMP1     0.56084    0.169637    0.381065  12.3003  3.70504  14.6216   \n",
       "14      KDR     0.61371   0.0798962     0.29352  148.816   33.861  142.933   \n",
       "\n",
       "    1kg_std end_mean  end_std speed_mean speed_std  \n",
       "0   37.0324  244.558  42.9599    239.559   50.8777  \n",
       "1   20.9368  100.591  15.9185    102.452   15.8664  \n",
       "2   83.0811   205.72  67.0789    197.692   65.2371  \n",
       "3   19.0875  67.4417  16.3641    61.5598   20.9277  \n",
       "4    6.3134  13.4658  6.43377    13.2208   6.99458  \n",
       "5   31.1483  39.2502  32.1512    42.7875   29.1856  \n",
       "6    38.136    166.7  29.7857    150.433    35.378  \n",
       "7   53.0514  188.633  53.8418     177.08   53.2774  \n",
       "8   27.3992  85.6118  27.2235    75.9975   22.3671  \n",
       "9    43.637  91.7244  40.6437    81.7086   51.5685  \n",
       "10  16.4776  79.3787  15.3591    74.2677   14.2329  \n",
       "11  11.6468  15.0561  9.59417    13.0973   9.71869  \n",
       "12  8.68142  59.5071  9.29148    57.9378   8.51797  \n",
       "13  8.60126  12.0339  4.43976    12.8314    4.5286  \n",
       "14  30.8047   145.38  34.7053    152.305   30.1252  "
      ]
     },
     "execution_count": 125,
     "metadata": {},
     "output_type": "execute_result"
    }
   ],
   "source": [
    "list_results"
   ]
  },
  {
   "cell_type": "code",
   "execution_count": 126,
   "metadata": {},
   "outputs": [],
   "source": [
    "list_results.to_csv('soft_tissue_results_5.csv')"
   ]
  }
 ],
 "metadata": {
  "kernelspec": {
   "display_name": "Python 3 (ipykernel)",
   "language": "python",
   "name": "python3"
  },
  "language_info": {
   "codemirror_mode": {
    "name": "ipython",
    "version": 3
   },
   "file_extension": ".py",
   "mimetype": "text/x-python",
   "name": "python",
   "nbconvert_exporter": "python",
   "pygments_lexer": "ipython3",
   "version": "3.7.7"
  }
 },
 "nbformat": 4,
 "nbformat_minor": 2
}
