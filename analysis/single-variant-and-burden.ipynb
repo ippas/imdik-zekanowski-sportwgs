{
 "cells": [
  {
   "cell_type": "code",
   "execution_count": 1,
   "metadata": {},
   "outputs": [
    {
     "data": {
      "text/html": [
       "<style>.container { width:100% !important; }</style>"
      ],
      "text/plain": [
       "<IPython.core.display.HTML object>"
      ]
     },
     "metadata": {},
     "output_type": "display_data"
    }
   ],
   "source": [
    "from IPython.display import display\n",
    "from IPython.display import HTML\n",
    "import IPython.core.display as di # Example: di.display_html('<h3>%s:</h3>' % str, raw=True)\n",
    "\n",
    "#This line will hide code by default when the notebook is exported as HTML\n",
    "#di.display_html('<script>jQuery(function() {if (jQuery(\"body.notebook_app\").length == 0) { jQuery(\".input_area\").toggle(); jQuery(\".prompt\").toggle();}});</script>', raw=True)\n",
    "\n",
    "display(HTML(\"<style>.container { width:100% !important; }</style>\"))"
   ]
  },
  {
   "cell_type": "code",
   "execution_count": 2,
   "metadata": {},
   "outputs": [
    {
     "name": "stderr",
     "output_type": "stream",
     "text": [
      "Running on Apache Spark version 2.4.3\n",
      "SparkUI available at http://p0618.prometheus:4040\n",
      "Welcome to\n",
      "     __  __     <>__\n",
      "    / /_/ /__  __/ /\n",
      "   / __  / _ `/ / /\n",
      "  /_/ /_/\\_,_/_/_/   version 0.2.62-84fa81b9ea3d\n",
      "LOGGING: writing to /net/archive/groups/plggneuromol/imdik-zekanowski-sportwgs/analysis/hail-20211015-0831-0.2.62-84fa81b9ea3d.log\n"
     ]
    }
   ],
   "source": [
    "import hail as hl\n",
    "hl.init(tmp_dir='/net/scratch/people/plggosborcz', spark_conf={'spark.driver.memory': '9G', 'spark.executor.memory': '9G'})"
   ]
  },
  {
   "cell_type": "code",
   "execution_count": 3,
   "metadata": {},
   "outputs": [
    {
     "data": {
      "text/html": [
       "\n",
       "    <div class=\"bk-root\">\n",
       "        <a href=\"https://bokeh.org\" target=\"_blank\" class=\"bk-logo bk-logo-small bk-logo-notebook\"></a>\n",
       "        <span id=\"1001\">Loading BokehJS ...</span>\n",
       "    </div>"
      ]
     },
     "metadata": {},
     "output_type": "display_data"
    },
    {
     "data": {
      "application/javascript": [
       "\n",
       "(function(root) {\n",
       "  function now() {\n",
       "    return new Date();\n",
       "  }\n",
       "\n",
       "  var force = true;\n",
       "\n",
       "  if (typeof root._bokeh_onload_callbacks === \"undefined\" || force === true) {\n",
       "    root._bokeh_onload_callbacks = [];\n",
       "    root._bokeh_is_loading = undefined;\n",
       "  }\n",
       "\n",
       "  var JS_MIME_TYPE = 'application/javascript';\n",
       "  var HTML_MIME_TYPE = 'text/html';\n",
       "  var EXEC_MIME_TYPE = 'application/vnd.bokehjs_exec.v0+json';\n",
       "  var CLASS_NAME = 'output_bokeh rendered_html';\n",
       "\n",
       "  /**\n",
       "   * Render data to the DOM node\n",
       "   */\n",
       "  function render(props, node) {\n",
       "    var script = document.createElement(\"script\");\n",
       "    node.appendChild(script);\n",
       "  }\n",
       "\n",
       "  /**\n",
       "   * Handle when an output is cleared or removed\n",
       "   */\n",
       "  function handleClearOutput(event, handle) {\n",
       "    var cell = handle.cell;\n",
       "\n",
       "    var id = cell.output_area._bokeh_element_id;\n",
       "    var server_id = cell.output_area._bokeh_server_id;\n",
       "    // Clean up Bokeh references\n",
       "    if (id != null && id in Bokeh.index) {\n",
       "      Bokeh.index[id].model.document.clear();\n",
       "      delete Bokeh.index[id];\n",
       "    }\n",
       "\n",
       "    if (server_id !== undefined) {\n",
       "      // Clean up Bokeh references\n",
       "      var cmd = \"from bokeh.io.state import curstate; print(curstate().uuid_to_server['\" + server_id + \"'].get_sessions()[0].document.roots[0]._id)\";\n",
       "      cell.notebook.kernel.execute(cmd, {\n",
       "        iopub: {\n",
       "          output: function(msg) {\n",
       "            var id = msg.content.text.trim();\n",
       "            if (id in Bokeh.index) {\n",
       "              Bokeh.index[id].model.document.clear();\n",
       "              delete Bokeh.index[id];\n",
       "            }\n",
       "          }\n",
       "        }\n",
       "      });\n",
       "      // Destroy server and session\n",
       "      var cmd = \"import bokeh.io.notebook as ion; ion.destroy_server('\" + server_id + \"')\";\n",
       "      cell.notebook.kernel.execute(cmd);\n",
       "    }\n",
       "  }\n",
       "\n",
       "  /**\n",
       "   * Handle when a new output is added\n",
       "   */\n",
       "  function handleAddOutput(event, handle) {\n",
       "    var output_area = handle.output_area;\n",
       "    var output = handle.output;\n",
       "\n",
       "    // limit handleAddOutput to display_data with EXEC_MIME_TYPE content only\n",
       "    if ((output.output_type != \"display_data\") || (!output.data.hasOwnProperty(EXEC_MIME_TYPE))) {\n",
       "      return\n",
       "    }\n",
       "\n",
       "    var toinsert = output_area.element.find(\".\" + CLASS_NAME.split(' ')[0]);\n",
       "\n",
       "    if (output.metadata[EXEC_MIME_TYPE][\"id\"] !== undefined) {\n",
       "      toinsert[toinsert.length - 1].firstChild.textContent = output.data[JS_MIME_TYPE];\n",
       "      // store reference to embed id on output_area\n",
       "      output_area._bokeh_element_id = output.metadata[EXEC_MIME_TYPE][\"id\"];\n",
       "    }\n",
       "    if (output.metadata[EXEC_MIME_TYPE][\"server_id\"] !== undefined) {\n",
       "      var bk_div = document.createElement(\"div\");\n",
       "      bk_div.innerHTML = output.data[HTML_MIME_TYPE];\n",
       "      var script_attrs = bk_div.children[0].attributes;\n",
       "      for (var i = 0; i < script_attrs.length; i++) {\n",
       "        toinsert[toinsert.length - 1].firstChild.setAttribute(script_attrs[i].name, script_attrs[i].value);\n",
       "      }\n",
       "      // store reference to server id on output_area\n",
       "      output_area._bokeh_server_id = output.metadata[EXEC_MIME_TYPE][\"server_id\"];\n",
       "    }\n",
       "  }\n",
       "\n",
       "  function register_renderer(events, OutputArea) {\n",
       "\n",
       "    function append_mime(data, metadata, element) {\n",
       "      // create a DOM node to render to\n",
       "      var toinsert = this.create_output_subarea(\n",
       "        metadata,\n",
       "        CLASS_NAME,\n",
       "        EXEC_MIME_TYPE\n",
       "      );\n",
       "      this.keyboard_manager.register_events(toinsert);\n",
       "      // Render to node\n",
       "      var props = {data: data, metadata: metadata[EXEC_MIME_TYPE]};\n",
       "      render(props, toinsert[toinsert.length - 1]);\n",
       "      element.append(toinsert);\n",
       "      return toinsert\n",
       "    }\n",
       "\n",
       "    /* Handle when an output is cleared or removed */\n",
       "    events.on('clear_output.CodeCell', handleClearOutput);\n",
       "    events.on('delete.Cell', handleClearOutput);\n",
       "\n",
       "    /* Handle when a new output is added */\n",
       "    events.on('output_added.OutputArea', handleAddOutput);\n",
       "\n",
       "    /**\n",
       "     * Register the mime type and append_mime function with output_area\n",
       "     */\n",
       "    OutputArea.prototype.register_mime_type(EXEC_MIME_TYPE, append_mime, {\n",
       "      /* Is output safe? */\n",
       "      safe: true,\n",
       "      /* Index of renderer in `output_area.display_order` */\n",
       "      index: 0\n",
       "    });\n",
       "  }\n",
       "\n",
       "  // register the mime type if in Jupyter Notebook environment and previously unregistered\n",
       "  if (root.Jupyter !== undefined) {\n",
       "    var events = require('base/js/events');\n",
       "    var OutputArea = require('notebook/js/outputarea').OutputArea;\n",
       "\n",
       "    if (OutputArea.prototype.mime_types().indexOf(EXEC_MIME_TYPE) == -1) {\n",
       "      register_renderer(events, OutputArea);\n",
       "    }\n",
       "  }\n",
       "\n",
       "  \n",
       "  if (typeof (root._bokeh_timeout) === \"undefined\" || force === true) {\n",
       "    root._bokeh_timeout = Date.now() + 5000;\n",
       "    root._bokeh_failed_load = false;\n",
       "  }\n",
       "\n",
       "  var NB_LOAD_WARNING = {'data': {'text/html':\n",
       "     \"<div style='background-color: #fdd'>\\n\"+\n",
       "     \"<p>\\n\"+\n",
       "     \"BokehJS does not appear to have successfully loaded. If loading BokehJS from CDN, this \\n\"+\n",
       "     \"may be due to a slow or bad network connection. Possible fixes:\\n\"+\n",
       "     \"</p>\\n\"+\n",
       "     \"<ul>\\n\"+\n",
       "     \"<li>re-rerun `output_notebook()` to attempt to load from CDN again, or</li>\\n\"+\n",
       "     \"<li>use INLINE resources instead, as so:</li>\\n\"+\n",
       "     \"</ul>\\n\"+\n",
       "     \"<code>\\n\"+\n",
       "     \"from bokeh.resources import INLINE\\n\"+\n",
       "     \"output_notebook(resources=INLINE)\\n\"+\n",
       "     \"</code>\\n\"+\n",
       "     \"</div>\"}};\n",
       "\n",
       "  function display_loaded() {\n",
       "    var el = document.getElementById(\"1001\");\n",
       "    if (el != null) {\n",
       "      el.textContent = \"BokehJS is loading...\";\n",
       "    }\n",
       "    if (root.Bokeh !== undefined) {\n",
       "      if (el != null) {\n",
       "        el.textContent = \"BokehJS \" + root.Bokeh.version + \" successfully loaded.\";\n",
       "      }\n",
       "    } else if (Date.now() < root._bokeh_timeout) {\n",
       "      setTimeout(display_loaded, 100)\n",
       "    }\n",
       "  }\n",
       "\n",
       "\n",
       "  function run_callbacks() {\n",
       "    try {\n",
       "      root._bokeh_onload_callbacks.forEach(function(callback) {\n",
       "        if (callback != null)\n",
       "          callback();\n",
       "      });\n",
       "    } finally {\n",
       "      delete root._bokeh_onload_callbacks\n",
       "    }\n",
       "    console.debug(\"Bokeh: all callbacks have finished\");\n",
       "  }\n",
       "\n",
       "  function load_libs(css_urls, js_urls, callback) {\n",
       "    if (css_urls == null) css_urls = [];\n",
       "    if (js_urls == null) js_urls = [];\n",
       "\n",
       "    root._bokeh_onload_callbacks.push(callback);\n",
       "    if (root._bokeh_is_loading > 0) {\n",
       "      console.debug(\"Bokeh: BokehJS is being loaded, scheduling callback at\", now());\n",
       "      return null;\n",
       "    }\n",
       "    if (js_urls == null || js_urls.length === 0) {\n",
       "      run_callbacks();\n",
       "      return null;\n",
       "    }\n",
       "    console.debug(\"Bokeh: BokehJS not loaded, scheduling load and callback at\", now());\n",
       "    root._bokeh_is_loading = css_urls.length + js_urls.length;\n",
       "\n",
       "    function on_load() {\n",
       "      root._bokeh_is_loading--;\n",
       "      if (root._bokeh_is_loading === 0) {\n",
       "        console.debug(\"Bokeh: all BokehJS libraries/stylesheets loaded\");\n",
       "        run_callbacks()\n",
       "      }\n",
       "    }\n",
       "\n",
       "    function on_error() {\n",
       "      console.error(\"failed to load \" + url);\n",
       "    }\n",
       "\n",
       "    for (var i = 0; i < css_urls.length; i++) {\n",
       "      var url = css_urls[i];\n",
       "      const element = document.createElement(\"link\");\n",
       "      element.onload = on_load;\n",
       "      element.onerror = on_error;\n",
       "      element.rel = \"stylesheet\";\n",
       "      element.type = \"text/css\";\n",
       "      element.href = url;\n",
       "      console.debug(\"Bokeh: injecting link tag for BokehJS stylesheet: \", url);\n",
       "      document.body.appendChild(element);\n",
       "    }\n",
       "\n",
       "    for (var i = 0; i < js_urls.length; i++) {\n",
       "      var url = js_urls[i];\n",
       "      var element = document.createElement('script');\n",
       "      element.onload = on_load;\n",
       "      element.onerror = on_error;\n",
       "      element.async = false;\n",
       "      element.src = url;\n",
       "      console.debug(\"Bokeh: injecting script tag for BokehJS library: \", url);\n",
       "      document.head.appendChild(element);\n",
       "    }\n",
       "  };var element = document.getElementById(\"1001\");\n",
       "  if (element == null) {\n",
       "    console.error(\"Bokeh: ERROR: autoload.js configured with elementid '1001' but no matching script tag was found. \")\n",
       "    return false;\n",
       "  }\n",
       "\n",
       "  function inject_raw_css(css) {\n",
       "    const element = document.createElement(\"style\");\n",
       "    element.appendChild(document.createTextNode(css));\n",
       "    document.body.appendChild(element);\n",
       "  }\n",
       "\n",
       "  \n",
       "  var js_urls = [\"https://cdn.pydata.org/bokeh/release/bokeh-1.4.0.min.js\", \"https://cdn.pydata.org/bokeh/release/bokeh-widgets-1.4.0.min.js\", \"https://cdn.pydata.org/bokeh/release/bokeh-tables-1.4.0.min.js\", \"https://cdn.pydata.org/bokeh/release/bokeh-gl-1.4.0.min.js\"];\n",
       "  var css_urls = [];\n",
       "  \n",
       "\n",
       "  var inline_js = [\n",
       "    function(Bokeh) {\n",
       "      Bokeh.set_log_level(\"info\");\n",
       "    },\n",
       "    function(Bokeh) {\n",
       "    \n",
       "    \n",
       "    }\n",
       "  ];\n",
       "\n",
       "  function run_inline_js() {\n",
       "    \n",
       "    if (root.Bokeh !== undefined || force === true) {\n",
       "      \n",
       "    for (var i = 0; i < inline_js.length; i++) {\n",
       "      inline_js[i].call(root, root.Bokeh);\n",
       "    }\n",
       "    if (force === true) {\n",
       "        display_loaded();\n",
       "      }} else if (Date.now() < root._bokeh_timeout) {\n",
       "      setTimeout(run_inline_js, 100);\n",
       "    } else if (!root._bokeh_failed_load) {\n",
       "      console.log(\"Bokeh: BokehJS failed to load within specified timeout.\");\n",
       "      root._bokeh_failed_load = true;\n",
       "    } else if (force !== true) {\n",
       "      var cell = $(document.getElementById(\"1001\")).parents('.cell').data().cell;\n",
       "      cell.output_area.append_execute_result(NB_LOAD_WARNING)\n",
       "    }\n",
       "\n",
       "  }\n",
       "\n",
       "  if (root._bokeh_is_loading === 0) {\n",
       "    console.debug(\"Bokeh: BokehJS loaded, going straight to plotting\");\n",
       "    run_inline_js();\n",
       "  } else {\n",
       "    load_libs(css_urls, js_urls, function() {\n",
       "      console.debug(\"Bokeh: BokehJS plotting callback run at\", now());\n",
       "      run_inline_js();\n",
       "    });\n",
       "  }\n",
       "}(window));"
      ],
      "application/vnd.bokehjs_load.v0+json": "\n(function(root) {\n  function now() {\n    return new Date();\n  }\n\n  var force = true;\n\n  if (typeof root._bokeh_onload_callbacks === \"undefined\" || force === true) {\n    root._bokeh_onload_callbacks = [];\n    root._bokeh_is_loading = undefined;\n  }\n\n  \n\n  \n  if (typeof (root._bokeh_timeout) === \"undefined\" || force === true) {\n    root._bokeh_timeout = Date.now() + 5000;\n    root._bokeh_failed_load = false;\n  }\n\n  var NB_LOAD_WARNING = {'data': {'text/html':\n     \"<div style='background-color: #fdd'>\\n\"+\n     \"<p>\\n\"+\n     \"BokehJS does not appear to have successfully loaded. If loading BokehJS from CDN, this \\n\"+\n     \"may be due to a slow or bad network connection. Possible fixes:\\n\"+\n     \"</p>\\n\"+\n     \"<ul>\\n\"+\n     \"<li>re-rerun `output_notebook()` to attempt to load from CDN again, or</li>\\n\"+\n     \"<li>use INLINE resources instead, as so:</li>\\n\"+\n     \"</ul>\\n\"+\n     \"<code>\\n\"+\n     \"from bokeh.resources import INLINE\\n\"+\n     \"output_notebook(resources=INLINE)\\n\"+\n     \"</code>\\n\"+\n     \"</div>\"}};\n\n  function display_loaded() {\n    var el = document.getElementById(\"1001\");\n    if (el != null) {\n      el.textContent = \"BokehJS is loading...\";\n    }\n    if (root.Bokeh !== undefined) {\n      if (el != null) {\n        el.textContent = \"BokehJS \" + root.Bokeh.version + \" successfully loaded.\";\n      }\n    } else if (Date.now() < root._bokeh_timeout) {\n      setTimeout(display_loaded, 100)\n    }\n  }\n\n\n  function run_callbacks() {\n    try {\n      root._bokeh_onload_callbacks.forEach(function(callback) {\n        if (callback != null)\n          callback();\n      });\n    } finally {\n      delete root._bokeh_onload_callbacks\n    }\n    console.debug(\"Bokeh: all callbacks have finished\");\n  }\n\n  function load_libs(css_urls, js_urls, callback) {\n    if (css_urls == null) css_urls = [];\n    if (js_urls == null) js_urls = [];\n\n    root._bokeh_onload_callbacks.push(callback);\n    if (root._bokeh_is_loading > 0) {\n      console.debug(\"Bokeh: BokehJS is being loaded, scheduling callback at\", now());\n      return null;\n    }\n    if (js_urls == null || js_urls.length === 0) {\n      run_callbacks();\n      return null;\n    }\n    console.debug(\"Bokeh: BokehJS not loaded, scheduling load and callback at\", now());\n    root._bokeh_is_loading = css_urls.length + js_urls.length;\n\n    function on_load() {\n      root._bokeh_is_loading--;\n      if (root._bokeh_is_loading === 0) {\n        console.debug(\"Bokeh: all BokehJS libraries/stylesheets loaded\");\n        run_callbacks()\n      }\n    }\n\n    function on_error() {\n      console.error(\"failed to load \" + url);\n    }\n\n    for (var i = 0; i < css_urls.length; i++) {\n      var url = css_urls[i];\n      const element = document.createElement(\"link\");\n      element.onload = on_load;\n      element.onerror = on_error;\n      element.rel = \"stylesheet\";\n      element.type = \"text/css\";\n      element.href = url;\n      console.debug(\"Bokeh: injecting link tag for BokehJS stylesheet: \", url);\n      document.body.appendChild(element);\n    }\n\n    for (var i = 0; i < js_urls.length; i++) {\n      var url = js_urls[i];\n      var element = document.createElement('script');\n      element.onload = on_load;\n      element.onerror = on_error;\n      element.async = false;\n      element.src = url;\n      console.debug(\"Bokeh: injecting script tag for BokehJS library: \", url);\n      document.head.appendChild(element);\n    }\n  };var element = document.getElementById(\"1001\");\n  if (element == null) {\n    console.error(\"Bokeh: ERROR: autoload.js configured with elementid '1001' but no matching script tag was found. \")\n    return false;\n  }\n\n  function inject_raw_css(css) {\n    const element = document.createElement(\"style\");\n    element.appendChild(document.createTextNode(css));\n    document.body.appendChild(element);\n  }\n\n  \n  var js_urls = [\"https://cdn.pydata.org/bokeh/release/bokeh-1.4.0.min.js\", \"https://cdn.pydata.org/bokeh/release/bokeh-widgets-1.4.0.min.js\", \"https://cdn.pydata.org/bokeh/release/bokeh-tables-1.4.0.min.js\", \"https://cdn.pydata.org/bokeh/release/bokeh-gl-1.4.0.min.js\"];\n  var css_urls = [];\n  \n\n  var inline_js = [\n    function(Bokeh) {\n      Bokeh.set_log_level(\"info\");\n    },\n    function(Bokeh) {\n    \n    \n    }\n  ];\n\n  function run_inline_js() {\n    \n    if (root.Bokeh !== undefined || force === true) {\n      \n    for (var i = 0; i < inline_js.length; i++) {\n      inline_js[i].call(root, root.Bokeh);\n    }\n    if (force === true) {\n        display_loaded();\n      }} else if (Date.now() < root._bokeh_timeout) {\n      setTimeout(run_inline_js, 100);\n    } else if (!root._bokeh_failed_load) {\n      console.log(\"Bokeh: BokehJS failed to load within specified timeout.\");\n      root._bokeh_failed_load = true;\n    } else if (force !== true) {\n      var cell = $(document.getElementById(\"1001\")).parents('.cell').data().cell;\n      cell.output_area.append_execute_result(NB_LOAD_WARNING)\n    }\n\n  }\n\n  if (root._bokeh_is_loading === 0) {\n    console.debug(\"Bokeh: BokehJS loaded, going straight to plotting\");\n    run_inline_js();\n  } else {\n    load_libs(css_urls, js_urls, function() {\n      console.debug(\"Bokeh: BokehJS plotting callback run at\", now());\n      run_inline_js();\n    });\n  }\n}(window));"
     },
     "metadata": {},
     "output_type": "display_data"
    },
    {
     "data": {
      "text/html": [
       "\n",
       "    <div class=\"bk-root\">\n",
       "        <a href=\"https://bokeh.org\" target=\"_blank\" class=\"bk-logo bk-logo-small bk-logo-notebook\"></a>\n",
       "        <span id=\"1002\">Loading BokehJS ...</span>\n",
       "    </div>"
      ]
     },
     "metadata": {},
     "output_type": "display_data"
    },
    {
     "data": {
      "application/javascript": [
       "\n",
       "(function(root) {\n",
       "  function now() {\n",
       "    return new Date();\n",
       "  }\n",
       "\n",
       "  var force = true;\n",
       "\n",
       "  if (typeof root._bokeh_onload_callbacks === \"undefined\" || force === true) {\n",
       "    root._bokeh_onload_callbacks = [];\n",
       "    root._bokeh_is_loading = undefined;\n",
       "  }\n",
       "\n",
       "  var JS_MIME_TYPE = 'application/javascript';\n",
       "  var HTML_MIME_TYPE = 'text/html';\n",
       "  var EXEC_MIME_TYPE = 'application/vnd.bokehjs_exec.v0+json';\n",
       "  var CLASS_NAME = 'output_bokeh rendered_html';\n",
       "\n",
       "  /**\n",
       "   * Render data to the DOM node\n",
       "   */\n",
       "  function render(props, node) {\n",
       "    var script = document.createElement(\"script\");\n",
       "    node.appendChild(script);\n",
       "  }\n",
       "\n",
       "  /**\n",
       "   * Handle when an output is cleared or removed\n",
       "   */\n",
       "  function handleClearOutput(event, handle) {\n",
       "    var cell = handle.cell;\n",
       "\n",
       "    var id = cell.output_area._bokeh_element_id;\n",
       "    var server_id = cell.output_area._bokeh_server_id;\n",
       "    // Clean up Bokeh references\n",
       "    if (id != null && id in Bokeh.index) {\n",
       "      Bokeh.index[id].model.document.clear();\n",
       "      delete Bokeh.index[id];\n",
       "    }\n",
       "\n",
       "    if (server_id !== undefined) {\n",
       "      // Clean up Bokeh references\n",
       "      var cmd = \"from bokeh.io.state import curstate; print(curstate().uuid_to_server['\" + server_id + \"'].get_sessions()[0].document.roots[0]._id)\";\n",
       "      cell.notebook.kernel.execute(cmd, {\n",
       "        iopub: {\n",
       "          output: function(msg) {\n",
       "            var id = msg.content.text.trim();\n",
       "            if (id in Bokeh.index) {\n",
       "              Bokeh.index[id].model.document.clear();\n",
       "              delete Bokeh.index[id];\n",
       "            }\n",
       "          }\n",
       "        }\n",
       "      });\n",
       "      // Destroy server and session\n",
       "      var cmd = \"import bokeh.io.notebook as ion; ion.destroy_server('\" + server_id + \"')\";\n",
       "      cell.notebook.kernel.execute(cmd);\n",
       "    }\n",
       "  }\n",
       "\n",
       "  /**\n",
       "   * Handle when a new output is added\n",
       "   */\n",
       "  function handleAddOutput(event, handle) {\n",
       "    var output_area = handle.output_area;\n",
       "    var output = handle.output;\n",
       "\n",
       "    // limit handleAddOutput to display_data with EXEC_MIME_TYPE content only\n",
       "    if ((output.output_type != \"display_data\") || (!output.data.hasOwnProperty(EXEC_MIME_TYPE))) {\n",
       "      return\n",
       "    }\n",
       "\n",
       "    var toinsert = output_area.element.find(\".\" + CLASS_NAME.split(' ')[0]);\n",
       "\n",
       "    if (output.metadata[EXEC_MIME_TYPE][\"id\"] !== undefined) {\n",
       "      toinsert[toinsert.length - 1].firstChild.textContent = output.data[JS_MIME_TYPE];\n",
       "      // store reference to embed id on output_area\n",
       "      output_area._bokeh_element_id = output.metadata[EXEC_MIME_TYPE][\"id\"];\n",
       "    }\n",
       "    if (output.metadata[EXEC_MIME_TYPE][\"server_id\"] !== undefined) {\n",
       "      var bk_div = document.createElement(\"div\");\n",
       "      bk_div.innerHTML = output.data[HTML_MIME_TYPE];\n",
       "      var script_attrs = bk_div.children[0].attributes;\n",
       "      for (var i = 0; i < script_attrs.length; i++) {\n",
       "        toinsert[toinsert.length - 1].firstChild.setAttribute(script_attrs[i].name, script_attrs[i].value);\n",
       "      }\n",
       "      // store reference to server id on output_area\n",
       "      output_area._bokeh_server_id = output.metadata[EXEC_MIME_TYPE][\"server_id\"];\n",
       "    }\n",
       "  }\n",
       "\n",
       "  function register_renderer(events, OutputArea) {\n",
       "\n",
       "    function append_mime(data, metadata, element) {\n",
       "      // create a DOM node to render to\n",
       "      var toinsert = this.create_output_subarea(\n",
       "        metadata,\n",
       "        CLASS_NAME,\n",
       "        EXEC_MIME_TYPE\n",
       "      );\n",
       "      this.keyboard_manager.register_events(toinsert);\n",
       "      // Render to node\n",
       "      var props = {data: data, metadata: metadata[EXEC_MIME_TYPE]};\n",
       "      render(props, toinsert[toinsert.length - 1]);\n",
       "      element.append(toinsert);\n",
       "      return toinsert\n",
       "    }\n",
       "\n",
       "    /* Handle when an output is cleared or removed */\n",
       "    events.on('clear_output.CodeCell', handleClearOutput);\n",
       "    events.on('delete.Cell', handleClearOutput);\n",
       "\n",
       "    /* Handle when a new output is added */\n",
       "    events.on('output_added.OutputArea', handleAddOutput);\n",
       "\n",
       "    /**\n",
       "     * Register the mime type and append_mime function with output_area\n",
       "     */\n",
       "    OutputArea.prototype.register_mime_type(EXEC_MIME_TYPE, append_mime, {\n",
       "      /* Is output safe? */\n",
       "      safe: true,\n",
       "      /* Index of renderer in `output_area.display_order` */\n",
       "      index: 0\n",
       "    });\n",
       "  }\n",
       "\n",
       "  // register the mime type if in Jupyter Notebook environment and previously unregistered\n",
       "  if (root.Jupyter !== undefined) {\n",
       "    var events = require('base/js/events');\n",
       "    var OutputArea = require('notebook/js/outputarea').OutputArea;\n",
       "\n",
       "    if (OutputArea.prototype.mime_types().indexOf(EXEC_MIME_TYPE) == -1) {\n",
       "      register_renderer(events, OutputArea);\n",
       "    }\n",
       "  }\n",
       "\n",
       "  \n",
       "  if (typeof (root._bokeh_timeout) === \"undefined\" || force === true) {\n",
       "    root._bokeh_timeout = Date.now() + 5000;\n",
       "    root._bokeh_failed_load = false;\n",
       "  }\n",
       "\n",
       "  var NB_LOAD_WARNING = {'data': {'text/html':\n",
       "     \"<div style='background-color: #fdd'>\\n\"+\n",
       "     \"<p>\\n\"+\n",
       "     \"BokehJS does not appear to have successfully loaded. If loading BokehJS from CDN, this \\n\"+\n",
       "     \"may be due to a slow or bad network connection. Possible fixes:\\n\"+\n",
       "     \"</p>\\n\"+\n",
       "     \"<ul>\\n\"+\n",
       "     \"<li>re-rerun `output_notebook()` to attempt to load from CDN again, or</li>\\n\"+\n",
       "     \"<li>use INLINE resources instead, as so:</li>\\n\"+\n",
       "     \"</ul>\\n\"+\n",
       "     \"<code>\\n\"+\n",
       "     \"from bokeh.resources import INLINE\\n\"+\n",
       "     \"output_notebook(resources=INLINE)\\n\"+\n",
       "     \"</code>\\n\"+\n",
       "     \"</div>\"}};\n",
       "\n",
       "  function display_loaded() {\n",
       "    var el = document.getElementById(\"1002\");\n",
       "    if (el != null) {\n",
       "      el.textContent = \"BokehJS is loading...\";\n",
       "    }\n",
       "    if (root.Bokeh !== undefined) {\n",
       "      if (el != null) {\n",
       "        el.textContent = \"BokehJS \" + root.Bokeh.version + \" successfully loaded.\";\n",
       "      }\n",
       "    } else if (Date.now() < root._bokeh_timeout) {\n",
       "      setTimeout(display_loaded, 100)\n",
       "    }\n",
       "  }\n",
       "\n",
       "\n",
       "  function run_callbacks() {\n",
       "    try {\n",
       "      root._bokeh_onload_callbacks.forEach(function(callback) {\n",
       "        if (callback != null)\n",
       "          callback();\n",
       "      });\n",
       "    } finally {\n",
       "      delete root._bokeh_onload_callbacks\n",
       "    }\n",
       "    console.debug(\"Bokeh: all callbacks have finished\");\n",
       "  }\n",
       "\n",
       "  function load_libs(css_urls, js_urls, callback) {\n",
       "    if (css_urls == null) css_urls = [];\n",
       "    if (js_urls == null) js_urls = [];\n",
       "\n",
       "    root._bokeh_onload_callbacks.push(callback);\n",
       "    if (root._bokeh_is_loading > 0) {\n",
       "      console.debug(\"Bokeh: BokehJS is being loaded, scheduling callback at\", now());\n",
       "      return null;\n",
       "    }\n",
       "    if (js_urls == null || js_urls.length === 0) {\n",
       "      run_callbacks();\n",
       "      return null;\n",
       "    }\n",
       "    console.debug(\"Bokeh: BokehJS not loaded, scheduling load and callback at\", now());\n",
       "    root._bokeh_is_loading = css_urls.length + js_urls.length;\n",
       "\n",
       "    function on_load() {\n",
       "      root._bokeh_is_loading--;\n",
       "      if (root._bokeh_is_loading === 0) {\n",
       "        console.debug(\"Bokeh: all BokehJS libraries/stylesheets loaded\");\n",
       "        run_callbacks()\n",
       "      }\n",
       "    }\n",
       "\n",
       "    function on_error() {\n",
       "      console.error(\"failed to load \" + url);\n",
       "    }\n",
       "\n",
       "    for (var i = 0; i < css_urls.length; i++) {\n",
       "      var url = css_urls[i];\n",
       "      const element = document.createElement(\"link\");\n",
       "      element.onload = on_load;\n",
       "      element.onerror = on_error;\n",
       "      element.rel = \"stylesheet\";\n",
       "      element.type = \"text/css\";\n",
       "      element.href = url;\n",
       "      console.debug(\"Bokeh: injecting link tag for BokehJS stylesheet: \", url);\n",
       "      document.body.appendChild(element);\n",
       "    }\n",
       "\n",
       "    for (var i = 0; i < js_urls.length; i++) {\n",
       "      var url = js_urls[i];\n",
       "      var element = document.createElement('script');\n",
       "      element.onload = on_load;\n",
       "      element.onerror = on_error;\n",
       "      element.async = false;\n",
       "      element.src = url;\n",
       "      console.debug(\"Bokeh: injecting script tag for BokehJS library: \", url);\n",
       "      document.head.appendChild(element);\n",
       "    }\n",
       "  };var element = document.getElementById(\"1002\");\n",
       "  if (element == null) {\n",
       "    console.error(\"Bokeh: ERROR: autoload.js configured with elementid '1002' but no matching script tag was found. \")\n",
       "    return false;\n",
       "  }\n",
       "\n",
       "  function inject_raw_css(css) {\n",
       "    const element = document.createElement(\"style\");\n",
       "    element.appendChild(document.createTextNode(css));\n",
       "    document.body.appendChild(element);\n",
       "  }\n",
       "\n",
       "  \n",
       "  var js_urls = [\"https://cdn.pydata.org/bokeh/release/bokeh-1.4.0.min.js\", \"https://cdn.pydata.org/bokeh/release/bokeh-widgets-1.4.0.min.js\", \"https://cdn.pydata.org/bokeh/release/bokeh-tables-1.4.0.min.js\", \"https://cdn.pydata.org/bokeh/release/bokeh-gl-1.4.0.min.js\"];\n",
       "  var css_urls = [];\n",
       "  \n",
       "\n",
       "  var inline_js = [\n",
       "    function(Bokeh) {\n",
       "      Bokeh.set_log_level(\"info\");\n",
       "    },\n",
       "    function(Bokeh) {\n",
       "    \n",
       "    \n",
       "    }\n",
       "  ];\n",
       "\n",
       "  function run_inline_js() {\n",
       "    \n",
       "    if (root.Bokeh !== undefined || force === true) {\n",
       "      \n",
       "    for (var i = 0; i < inline_js.length; i++) {\n",
       "      inline_js[i].call(root, root.Bokeh);\n",
       "    }\n",
       "    if (force === true) {\n",
       "        display_loaded();\n",
       "      }} else if (Date.now() < root._bokeh_timeout) {\n",
       "      setTimeout(run_inline_js, 100);\n",
       "    } else if (!root._bokeh_failed_load) {\n",
       "      console.log(\"Bokeh: BokehJS failed to load within specified timeout.\");\n",
       "      root._bokeh_failed_load = true;\n",
       "    } else if (force !== true) {\n",
       "      var cell = $(document.getElementById(\"1002\")).parents('.cell').data().cell;\n",
       "      cell.output_area.append_execute_result(NB_LOAD_WARNING)\n",
       "    }\n",
       "\n",
       "  }\n",
       "\n",
       "  if (root._bokeh_is_loading === 0) {\n",
       "    console.debug(\"Bokeh: BokehJS loaded, going straight to plotting\");\n",
       "    run_inline_js();\n",
       "  } else {\n",
       "    load_libs(css_urls, js_urls, function() {\n",
       "      console.debug(\"Bokeh: BokehJS plotting callback run at\", now());\n",
       "      run_inline_js();\n",
       "    });\n",
       "  }\n",
       "}(window));"
      ],
      "application/vnd.bokehjs_load.v0+json": "\n(function(root) {\n  function now() {\n    return new Date();\n  }\n\n  var force = true;\n\n  if (typeof root._bokeh_onload_callbacks === \"undefined\" || force === true) {\n    root._bokeh_onload_callbacks = [];\n    root._bokeh_is_loading = undefined;\n  }\n\n  \n\n  \n  if (typeof (root._bokeh_timeout) === \"undefined\" || force === true) {\n    root._bokeh_timeout = Date.now() + 5000;\n    root._bokeh_failed_load = false;\n  }\n\n  var NB_LOAD_WARNING = {'data': {'text/html':\n     \"<div style='background-color: #fdd'>\\n\"+\n     \"<p>\\n\"+\n     \"BokehJS does not appear to have successfully loaded. If loading BokehJS from CDN, this \\n\"+\n     \"may be due to a slow or bad network connection. Possible fixes:\\n\"+\n     \"</p>\\n\"+\n     \"<ul>\\n\"+\n     \"<li>re-rerun `output_notebook()` to attempt to load from CDN again, or</li>\\n\"+\n     \"<li>use INLINE resources instead, as so:</li>\\n\"+\n     \"</ul>\\n\"+\n     \"<code>\\n\"+\n     \"from bokeh.resources import INLINE\\n\"+\n     \"output_notebook(resources=INLINE)\\n\"+\n     \"</code>\\n\"+\n     \"</div>\"}};\n\n  function display_loaded() {\n    var el = document.getElementById(\"1002\");\n    if (el != null) {\n      el.textContent = \"BokehJS is loading...\";\n    }\n    if (root.Bokeh !== undefined) {\n      if (el != null) {\n        el.textContent = \"BokehJS \" + root.Bokeh.version + \" successfully loaded.\";\n      }\n    } else if (Date.now() < root._bokeh_timeout) {\n      setTimeout(display_loaded, 100)\n    }\n  }\n\n\n  function run_callbacks() {\n    try {\n      root._bokeh_onload_callbacks.forEach(function(callback) {\n        if (callback != null)\n          callback();\n      });\n    } finally {\n      delete root._bokeh_onload_callbacks\n    }\n    console.debug(\"Bokeh: all callbacks have finished\");\n  }\n\n  function load_libs(css_urls, js_urls, callback) {\n    if (css_urls == null) css_urls = [];\n    if (js_urls == null) js_urls = [];\n\n    root._bokeh_onload_callbacks.push(callback);\n    if (root._bokeh_is_loading > 0) {\n      console.debug(\"Bokeh: BokehJS is being loaded, scheduling callback at\", now());\n      return null;\n    }\n    if (js_urls == null || js_urls.length === 0) {\n      run_callbacks();\n      return null;\n    }\n    console.debug(\"Bokeh: BokehJS not loaded, scheduling load and callback at\", now());\n    root._bokeh_is_loading = css_urls.length + js_urls.length;\n\n    function on_load() {\n      root._bokeh_is_loading--;\n      if (root._bokeh_is_loading === 0) {\n        console.debug(\"Bokeh: all BokehJS libraries/stylesheets loaded\");\n        run_callbacks()\n      }\n    }\n\n    function on_error() {\n      console.error(\"failed to load \" + url);\n    }\n\n    for (var i = 0; i < css_urls.length; i++) {\n      var url = css_urls[i];\n      const element = document.createElement(\"link\");\n      element.onload = on_load;\n      element.onerror = on_error;\n      element.rel = \"stylesheet\";\n      element.type = \"text/css\";\n      element.href = url;\n      console.debug(\"Bokeh: injecting link tag for BokehJS stylesheet: \", url);\n      document.body.appendChild(element);\n    }\n\n    for (var i = 0; i < js_urls.length; i++) {\n      var url = js_urls[i];\n      var element = document.createElement('script');\n      element.onload = on_load;\n      element.onerror = on_error;\n      element.async = false;\n      element.src = url;\n      console.debug(\"Bokeh: injecting script tag for BokehJS library: \", url);\n      document.head.appendChild(element);\n    }\n  };var element = document.getElementById(\"1002\");\n  if (element == null) {\n    console.error(\"Bokeh: ERROR: autoload.js configured with elementid '1002' but no matching script tag was found. \")\n    return false;\n  }\n\n  function inject_raw_css(css) {\n    const element = document.createElement(\"style\");\n    element.appendChild(document.createTextNode(css));\n    document.body.appendChild(element);\n  }\n\n  \n  var js_urls = [\"https://cdn.pydata.org/bokeh/release/bokeh-1.4.0.min.js\", \"https://cdn.pydata.org/bokeh/release/bokeh-widgets-1.4.0.min.js\", \"https://cdn.pydata.org/bokeh/release/bokeh-tables-1.4.0.min.js\", \"https://cdn.pydata.org/bokeh/release/bokeh-gl-1.4.0.min.js\"];\n  var css_urls = [];\n  \n\n  var inline_js = [\n    function(Bokeh) {\n      Bokeh.set_log_level(\"info\");\n    },\n    function(Bokeh) {\n    \n    \n    }\n  ];\n\n  function run_inline_js() {\n    \n    if (root.Bokeh !== undefined || force === true) {\n      \n    for (var i = 0; i < inline_js.length; i++) {\n      inline_js[i].call(root, root.Bokeh);\n    }\n    if (force === true) {\n        display_loaded();\n      }} else if (Date.now() < root._bokeh_timeout) {\n      setTimeout(run_inline_js, 100);\n    } else if (!root._bokeh_failed_load) {\n      console.log(\"Bokeh: BokehJS failed to load within specified timeout.\");\n      root._bokeh_failed_load = true;\n    } else if (force !== true) {\n      var cell = $(document.getElementById(\"1002\")).parents('.cell').data().cell;\n      cell.output_area.append_execute_result(NB_LOAD_WARNING)\n    }\n\n  }\n\n  if (root._bokeh_is_loading === 0) {\n    console.debug(\"Bokeh: BokehJS loaded, going straight to plotting\");\n    run_inline_js();\n  } else {\n    load_libs(css_urls, js_urls, function() {\n      console.debug(\"Bokeh: BokehJS plotting callback run at\", now());\n      run_inline_js();\n    });\n  }\n}(window));"
     },
     "metadata": {},
     "output_type": "display_data"
    }
   ],
   "source": [
    "from hail.plot import show\n",
    "from pprint import pprint\n",
    "from bokeh.layouts import gridplot\n",
    "hl.plot.output_notebook()\n",
    "\n",
    "\n",
    "import numpy as np\n",
    "import pandas as pd\n",
    "from functools import reduce\n",
    "from itertools import chain\n",
    "\n",
    "from bokeh.plotting import output_notebook, show, figure\n",
    "from bokeh.palettes import viridis\n",
    "\n",
    "output_notebook()"
   ]
  },
  {
   "cell_type": "markdown",
   "metadata": {},
   "source": [
    "## Preparation for main analysis\n",
    "\n",
    "The matrix table below has already been filtered according to the following criteria:"
   ]
  },
  {
   "cell_type": "code",
   "execution_count": 4,
   "metadata": {},
   "outputs": [],
   "source": [
    "mt = hl.read_matrix_table('/net/archive/groups/plggneuromol/imdik-zekanowski-sportwgs/data/hail-mts/sportsmen-with-corrected-samples.mt')"
   ]
  },
  {
   "cell_type": "code",
   "execution_count": 5,
   "metadata": {},
   "outputs": [
    {
     "data": {
      "text/plain": [
       "(9824949, 154)"
      ]
     },
     "execution_count": 5,
     "metadata": {},
     "output_type": "execute_result"
    }
   ],
   "source": [
    "mt.count()"
   ]
  },
  {
   "cell_type": "code",
   "execution_count": 6,
   "metadata": {},
   "outputs": [],
   "source": [
    "proper_controls = ['WGS_37b', 'WGS_37c', 'WGS_163b', 'WGS_163d', 'WGS_7120', 'WGS_7142', 'WGS_7143', 'WGS_7152',\n",
    " 'WGS_7153', 'WGS_85b', 'WGS_147c', 'WGS_180b', 'WGS_185c', 'WGS_6819', 'S_7213', 'S_7227', 'S_7241', 'S_7246', 'S_7254', 'S_7274',\n",
    "                   'S_7307', '494', '462', '468', '479','492', '490'] \n",
    "\n",
    "#7119 jest chory"
   ]
  },
  {
   "cell_type": "code",
   "execution_count": 7,
   "metadata": {},
   "outputs": [],
   "source": [
    "mt = mt.filter_cols((mt.s.contains('B')) | hl.literal(proper_controls).contains(mt.s))"
   ]
  },
  {
   "cell_type": "code",
   "execution_count": 8,
   "metadata": {},
   "outputs": [
    {
     "name": "stderr",
     "output_type": "stream",
     "text": [
      "2021-10-08 13:30:58 Hail: INFO: wrote matrix table with 9824949 rows and 128 columns in 3061 partitions to /net/archive/groups/plggneuromol/imdik-zekanowski-sportwgs/data/hail-mts/joint-unrelated-corrected.mt\n",
      "    Total size: 6.84 GiB\n",
      "    * Rows/entries: 6.84 GiB\n",
      "    * Columns: 568.00 B\n",
      "    * Globals: 11.00 B\n",
      "    * Smallest partition: 0 rows (20.00 B)\n",
      "    * Largest partition:  13167 rows (7.01 MiB)\n"
     ]
    }
   ],
   "source": [
    "mt.write('/net/archive/groups/plggneuromol/imdik-zekanowski-sportwgs/data/hail-mts/joint-unrelated-corrected.mt')"
   ]
  },
  {
   "cell_type": "code",
   "execution_count": 46,
   "metadata": {},
   "outputs": [],
   "source": [
    "mt = hl.read_matrix_table('/net/archive/groups/plggneuromol/imdik-zekanowski-sportwgs/data/hail-mts/joint-unrelated-corrected.mt')"
   ]
  },
  {
   "cell_type": "code",
   "execution_count": 47,
   "metadata": {},
   "outputs": [
    {
     "data": {
      "text/plain": [
       "(9824949, 128)"
      ]
     },
     "execution_count": 47,
     "metadata": {},
     "output_type": "execute_result"
    }
   ],
   "source": [
    "mt.count()"
   ]
  },
  {
   "cell_type": "code",
   "execution_count": 11,
   "metadata": {},
   "outputs": [],
   "source": [
    "mt_subset = mt.sample_rows(0.001)"
   ]
  },
  {
   "cell_type": "code",
   "execution_count": 12,
   "metadata": {},
   "outputs": [
    {
     "name": "stderr",
     "output_type": "stream",
     "text": [
      "2021-10-08 13:36:59 Hail: INFO: wrote matrix table with 9812 rows and 128 columns in 3061 partitions to /net/archive/groups/plggneuromol/imdik-zekanowski-sportwgs/data/hail-mts/sportsmen-with-corrected-samples-subset.mt\n",
      "    Total size: 11.85 MiB\n",
      "    * Rows/entries: 11.85 MiB\n",
      "    * Columns: 581.00 B\n",
      "    * Globals: 11.00 B\n",
      "    * Smallest partition: 0 rows (20.00 B)\n",
      "    * Largest partition:  12 rows (16.06 KiB)\n"
     ]
    },
    {
     "data": {
      "text/plain": [
       "<hail.matrixtable.MatrixTable at 0x2b9c0cf29d30>"
      ]
     },
     "execution_count": 12,
     "metadata": {},
     "output_type": "execute_result"
    }
   ],
   "source": [
    "mt_subset.checkpoint('/net/archive/groups/plggneuromol/imdik-zekanowski-sportwgs/data/hail-mts/sportsmen-with-corrected-samples-subset.mt')"
   ]
  },
  {
   "cell_type": "code",
   "execution_count": 13,
   "metadata": {},
   "outputs": [],
   "source": [
    "mt_subset = hl.read_matrix_table('/net/archive/groups/plggneuromol/imdik-zekanowski-sportwgs/data/hail-mts/sportsmen-with-corrected-samples-subset.mt')"
   ]
  },
  {
   "cell_type": "code",
   "execution_count": 14,
   "metadata": {},
   "outputs": [
    {
     "name": "stderr",
     "output_type": "stream",
     "text": [
      "2021-10-08 13:37:43 Hail: INFO: hwe_normalized_pca: running PCA using 8139 variants.\n",
      "2021-10-08 13:38:19 Hail: INFO: pca: running PCA with 2 components...\n",
      "2021-10-08 16:13:51 Hail: INFO: Wrote all 3 blocks of 9812 x 128 matrix with block size 4096.\n"
     ]
    }
   ],
   "source": [
    "pc_rel = hl.pc_relate(mt_subset.GT, 0.001, k=2, statistics='kin')"
   ]
  },
  {
   "cell_type": "code",
   "execution_count": 33,
   "metadata": {},
   "outputs": [],
   "source": [
    "pairs = pc_rel.filter(pc_rel['kin'] > 0.2) #there is still some kinship but this should dissappear after joint genotypins is repeated"
   ]
  },
  {
   "cell_type": "code",
   "execution_count": 34,
   "metadata": {},
   "outputs": [
    {
     "name": "stderr",
     "output_type": "stream",
     "text": [
      "2021-10-08 17:34:35 Hail: INFO: wrote matrix with 3 rows and 9812 columns as 3 blocks of size 4096 to /net/scratch/people/plggosborcz/pcrelate-write-read-Uk4BnrFI19iCLkTHh8UZIo.bm\n",
      "2021-10-08 17:34:35 Hail: INFO: wrote matrix with 9812 rows and 128 columns as 3 blocks of size 4096 to /net/scratch/people/plggosborcz/pcrelate-write-read-OGBad5KbjvPOndMCk4tvbW.bm\n",
      "2021-10-08 17:34:36 Hail: INFO: wrote matrix with 128 rows and 128 columns as 1 block of size 4096 to /net/scratch/people/plggosborcz/pcrelate-write-read-TxwfTW7QYUTXgrIfkn7SGS.bm\n",
      "2021-10-08 17:34:36 Hail: INFO: wrote matrix with 128 rows and 128 columns as 1 block of size 4096 to /net/scratch/people/plggosborcz/pcrelate-write-read-HjOG9LroHHVlMxDUp6cH0U.bm\n",
      "2021-10-08 17:34:36 Hail: INFO: wrote matrix with 128 rows and 128 columns as 1 block of size 4096 to /net/scratch/people/plggosborcz/pcrelate-write-read-PUx9Pofy4f3jn2iYat8PUP.bm\n",
      "2021-10-08 17:34:36 Hail: INFO: Ordering unsorted dataset with network shuffle\n"
     ]
    },
    {
     "data": {
      "text/html": [
       "<table><thead><tr><td style=\"white-space: nowrap; max-width: 500px; overflow: hidden; text-overflow: ellipsis; \" colspan=\"1\"><div style=\"text-align: left;\"></div></td><td style=\"white-space: nowrap; max-width: 500px; overflow: hidden; text-overflow: ellipsis; \" colspan=\"1\"><div style=\"text-align: left;\"></div></td><td style=\"white-space: nowrap; max-width: 500px; overflow: hidden; text-overflow: ellipsis; \" colspan=\"1\"><div style=\"text-align: left;\"></div></td></tr><tr><td style=\"white-space: nowrap; max-width: 500px; overflow: hidden; text-overflow: ellipsis; \" colspan=\"1\"><div style=\"text-align: left;border-bottom: solid 2px #000; padding-bottom: 5px\">i</div></td><td style=\"white-space: nowrap; max-width: 500px; overflow: hidden; text-overflow: ellipsis; \" colspan=\"1\"><div style=\"text-align: left;border-bottom: solid 2px #000; padding-bottom: 5px\">j</div></td><td style=\"white-space: nowrap; max-width: 500px; overflow: hidden; text-overflow: ellipsis; \" colspan=\"1\"><div style=\"text-align: left;\"></div></td></tr><tr><td style=\"white-space: nowrap; max-width: 500px; overflow: hidden; text-overflow: ellipsis; \" colspan=\"1\"><div style=\"text-align: left;border-bottom: solid 2px #000; padding-bottom: 5px\">s</div></td><td style=\"white-space: nowrap; max-width: 500px; overflow: hidden; text-overflow: ellipsis; \" colspan=\"1\"><div style=\"text-align: left;border-bottom: solid 2px #000; padding-bottom: 5px\">s</div></td><td style=\"white-space: nowrap; max-width: 500px; overflow: hidden; text-overflow: ellipsis; \" colspan=\"1\"><div style=\"text-align: left;border-bottom: solid 2px #000; padding-bottom: 5px\">kin</div></td></tr><tr><td style=\"white-space: nowrap; max-width: 500px; overflow: hidden; text-overflow: ellipsis; text-align: left;\">str</td><td style=\"white-space: nowrap; max-width: 500px; overflow: hidden; text-overflow: ellipsis; text-align: left;\">str</td><td style=\"white-space: nowrap; max-width: 500px; overflow: hidden; text-overflow: ellipsis; text-align: left;\">float64</td></tr>\n",
       "</thead><tbody></tbody></table>"
      ],
      "text/plain": [
       "+-----+-----+---------+\n",
       "| i.s | j.s |     kin |\n",
       "+-----+-----+---------+\n",
       "| str | str | float64 |\n",
       "+-----+-----+---------+\n",
       "+-----+-----+---------+"
      ]
     },
     "metadata": {},
     "output_type": "display_data"
    }
   ],
   "source": [
    "pairs.show()"
   ]
  },
  {
   "cell_type": "code",
   "execution_count": 17,
   "metadata": {},
   "outputs": [
    {
     "name": "stderr",
     "output_type": "stream",
     "text": [
      "2021-10-08 16:14:31 Hail: INFO: hwe_normalized_pca: running PCA using 8139 variants.\n",
      "2021-10-08 16:15:05 Hail: INFO: pca: running PCA with 10 components...\n",
      "/net/software/local/python/3.6.5/lib/python3.6/site-packages/ipykernel_launcher.py:3: DeprecationWarning: Call to deprecated function (or staticmethod) cond. (Replaced by hl.if_else) -- Deprecated since version 0.2.59.\n",
      "  This is separate from the ipykernel package so we can avoid doing imports until\n"
     ]
    }
   ],
   "source": [
    "eigenvalues, pcs, _ = hl.hwe_normalized_pca(mt_subset.GT)\n",
    "\n",
    "mt_subset = mt_subset.annotate_cols(group = hl.cond(mt_subset.s.contains(\"B\"), \"sport\", \"gts\"))\n",
    "mt_subset = mt_subset.annotate_cols(scores = pcs[mt_subset.s].scores)"
   ]
  },
  {
   "cell_type": "code",
   "execution_count": 18,
   "metadata": {},
   "outputs": [
    {
     "name": "stderr",
     "output_type": "stream",
     "text": [
      "2021-10-08 17:23:45 Hail: INFO: wrote matrix table with 9812 rows and 128 columns in 3061 partitions to /net/archive/groups/plggneuromol/imdik-zekanowski-sportwgs/data/hail-mts/subset-with-pca.mt\n",
      "    Total size: 10.03 MiB\n",
      "    * Rows/entries: 10.02 MiB\n",
      "    * Columns: 10.86 KiB\n",
      "    * Globals: 11.00 B\n",
      "    * Smallest partition: 0 rows (20.00 B)\n",
      "    * Largest partition:  12 rows (12.71 KiB)\n"
     ]
    }
   ],
   "source": [
    "mt_subset.write('/net/archive/groups/plggneuromol/imdik-zekanowski-sportwgs/data/hail-mts/subset-with-pca.mt')"
   ]
  },
  {
   "cell_type": "code",
   "execution_count": 19,
   "metadata": {},
   "outputs": [],
   "source": [
    "mt_subset = hl.read_matrix_table('/net/archive/groups/plggneuromol/imdik-zekanowski-sportwgs/data/hail-mts/subset-with-pca.mt')"
   ]
  },
  {
   "cell_type": "code",
   "execution_count": 23,
   "metadata": {},
   "outputs": [
    {
     "data": {
      "text/html": [
       "\n",
       "\n",
       "\n",
       "\n",
       "\n",
       "\n",
       "  <div class=\"bk-root\" id=\"0f23487d-1cda-4fc7-86da-ef3ddc69abba\" data-root-id=\"2009\"></div>\n"
      ]
     },
     "metadata": {},
     "output_type": "display_data"
    },
    {
     "data": {
      "application/javascript": [
       "(function(root) {\n",
       "  function embed_document(root) {\n",
       "    \n",
       "  var docs_json = {\"f4ea71ec-a576-4834-b7a4-28980b538fa9\":{\"roots\":{\"references\":[{\"attributes\":{\"below\":[{\"id\":\"2020\",\"type\":\"LinearAxis\"}],\"center\":[{\"id\":\"2024\",\"type\":\"Grid\"},{\"id\":\"2029\",\"type\":\"Grid\"}],\"left\":[{\"id\":\"2025\",\"type\":\"LinearAxis\"},{\"id\":\"2061\",\"type\":\"Legend\"},{\"id\":\"2062\",\"type\":\"ColorBar\"}],\"plot_height\":800,\"plot_width\":800,\"renderers\":[{\"id\":\"2052\",\"type\":\"GlyphRenderer\"},{\"id\":\"2058\",\"type\":\"GlyphRenderer\"}],\"title\":{\"id\":\"2010\",\"type\":\"Title\"},\"toolbar\":{\"id\":\"2036\",\"type\":\"Toolbar\"},\"x_range\":{\"id\":\"2012\",\"type\":\"DataRange1d\"},\"x_scale\":{\"id\":\"2016\",\"type\":\"LinearScale\"},\"y_range\":{\"id\":\"2014\",\"type\":\"DataRange1d\"},\"y_scale\":{\"id\":\"2018\",\"type\":\"LinearScale\"}},\"id\":\"2009\",\"subtype\":\"Figure\",\"type\":\"Plot\"},{\"attributes\":{},\"id\":\"2034\",\"type\":\"ResetTool\"},{\"attributes\":{},\"id\":\"2076\",\"type\":\"BasicTickFormatter\"},{\"attributes\":{},\"id\":\"2035\",\"type\":\"HelpTool\"},{\"attributes\":{\"fill_alpha\":{\"value\":0.1},\"fill_color\":{\"value\":\"#1f77b4\"},\"line_alpha\":{\"value\":0.1},\"line_color\":{\"value\":\"#1f77b4\"},\"x\":{\"field\":\"x\"},\"y\":{\"field\":\"y\"}},\"id\":\"2051\",\"type\":\"Circle\"},{\"attributes\":{},\"id\":\"2030\",\"type\":\"PanTool\"},{\"attributes\":{\"callback\":null},\"id\":\"2012\",\"type\":\"DataRange1d\"},{\"attributes\":{},\"id\":\"2078\",\"type\":\"BasicTickFormatter\"},{\"attributes\":{\"bottom_units\":\"screen\",\"fill_alpha\":{\"value\":0.5},\"fill_color\":{\"value\":\"lightgrey\"},\"left_units\":\"screen\",\"level\":\"overlay\",\"line_alpha\":{\"value\":1.0},\"line_color\":{\"value\":\"black\"},\"line_dash\":[4,4],\"line_width\":{\"value\":2},\"render_mode\":\"css\",\"right_units\":\"screen\",\"top_units\":\"screen\"},\"id\":\"2082\",\"type\":\"BoxAnnotation\"},{\"attributes\":{\"fill_alpha\":{\"value\":0.1},\"fill_color\":{\"value\":\"#1f77b4\"},\"line_alpha\":{\"value\":0.1},\"line_color\":{\"value\":\"#1f77b4\"},\"x\":{\"field\":\"x\"},\"y\":{\"field\":\"y\"}},\"id\":\"2057\",\"type\":\"Circle\"},{\"attributes\":{\"callback\":null},\"id\":\"2014\",\"type\":\"DataRange1d\"},{\"attributes\":{\"text\":\"PCA\"},\"id\":\"2010\",\"type\":\"Title\"},{\"attributes\":{\"data_source\":{\"id\":\"2045\",\"type\":\"ColumnDataSource\"},\"glyph\":{\"id\":\"2056\",\"type\":\"Circle\"},\"hover_glyph\":null,\"muted_glyph\":null,\"nonselection_glyph\":{\"id\":\"2057\",\"type\":\"Circle\"},\"selection_glyph\":null,\"view\":{\"id\":\"2054\",\"type\":\"CDSView\"}},\"id\":\"2058\",\"type\":\"GlyphRenderer\"},{\"attributes\":{},\"id\":\"2074\",\"type\":\"BasicTickFormatter\"},{\"attributes\":{},\"id\":\"2016\",\"type\":\"LinearScale\"},{\"attributes\":{},\"id\":\"2077\",\"type\":\"BasicTicker\"},{\"attributes\":{\"label\":{\"value\":\"sport\"},\"renderers\":[{\"id\":\"2058\",\"type\":\"GlyphRenderer\"}]},\"id\":\"2060\",\"type\":\"LegendItem\"},{\"attributes\":{},\"id\":\"2018\",\"type\":\"LinearScale\"},{\"attributes\":{},\"id\":\"2081\",\"type\":\"Selection\"},{\"attributes\":{\"axis_label\":\"PC1\",\"formatter\":{\"id\":\"2078\",\"type\":\"BasicTickFormatter\"},\"ticker\":{\"id\":\"2021\",\"type\":\"BasicTicker\"}},\"id\":\"2020\",\"type\":\"LinearAxis\"},{\"attributes\":{\"click_policy\":\"hide\",\"items\":[{\"id\":\"2059\",\"type\":\"LegendItem\"},{\"id\":\"2060\",\"type\":\"LegendItem\"}]},\"id\":\"2061\",\"type\":\"Legend\"},{\"attributes\":{\"column_name\":\"label\",\"group\":\"sport\"},\"id\":\"2053\",\"type\":\"GroupFilter\"},{\"attributes\":{},\"id\":\"2021\",\"type\":\"BasicTicker\"},{\"attributes\":{\"color_mapper\":null,\"formatter\":{\"id\":\"2076\",\"type\":\"BasicTickFormatter\"},\"ticker\":{\"id\":\"2077\",\"type\":\"BasicTicker\"},\"visible\":false},\"id\":\"2062\",\"type\":\"ColorBar\"},{\"attributes\":{},\"id\":\"2080\",\"type\":\"UnionRenderers\"},{\"attributes\":{\"filters\":[{\"id\":\"2053\",\"type\":\"GroupFilter\"}],\"source\":{\"id\":\"2045\",\"type\":\"ColumnDataSource\"}},\"id\":\"2054\",\"type\":\"CDSView\"},{\"attributes\":{\"active_drag\":\"auto\",\"active_inspect\":\"auto\",\"active_multi\":null,\"active_scroll\":\"auto\",\"active_tap\":\"auto\",\"tools\":[{\"id\":\"2030\",\"type\":\"PanTool\"},{\"id\":\"2031\",\"type\":\"WheelZoomTool\"},{\"id\":\"2032\",\"type\":\"BoxZoomTool\"},{\"id\":\"2033\",\"type\":\"SaveTool\"},{\"id\":\"2034\",\"type\":\"ResetTool\"},{\"id\":\"2035\",\"type\":\"HelpTool\"},{\"id\":\"2044\",\"type\":\"HoverTool\"}]},\"id\":\"2036\",\"type\":\"Toolbar\"},{\"attributes\":{\"ticker\":{\"id\":\"2021\",\"type\":\"BasicTicker\"}},\"id\":\"2024\",\"type\":\"Grid\"},{\"attributes\":{\"axis_label\":\"PC2\",\"formatter\":{\"id\":\"2074\",\"type\":\"BasicTickFormatter\"},\"ticker\":{\"id\":\"2026\",\"type\":\"BasicTicker\"}},\"id\":\"2025\",\"type\":\"LinearAxis\"},{\"attributes\":{},\"id\":\"2026\",\"type\":\"BasicTicker\"},{\"attributes\":{\"dimension\":1,\"ticker\":{\"id\":\"2026\",\"type\":\"BasicTicker\"}},\"id\":\"2029\",\"type\":\"Grid\"},{\"attributes\":{\"fill_color\":{\"field\":\"label\",\"transform\":{\"id\":\"2046\",\"type\":\"CategoricalColorMapper\"}},\"line_color\":{\"field\":\"label\",\"transform\":{\"id\":\"2046\",\"type\":\"CategoricalColorMapper\"}},\"x\":{\"field\":\"x\"},\"y\":{\"field\":\"y\"}},\"id\":\"2050\",\"type\":\"Circle\"},{\"attributes\":{\"column_name\":\"label\",\"group\":\"gts\"},\"id\":\"2047\",\"type\":\"GroupFilter\"},{\"attributes\":{\"data_source\":{\"id\":\"2045\",\"type\":\"ColumnDataSource\"},\"glyph\":{\"id\":\"2050\",\"type\":\"Circle\"},\"hover_glyph\":null,\"muted_glyph\":null,\"nonselection_glyph\":{\"id\":\"2051\",\"type\":\"Circle\"},\"selection_glyph\":null,\"view\":{\"id\":\"2048\",\"type\":\"CDSView\"}},\"id\":\"2052\",\"type\":\"GlyphRenderer\"},{\"attributes\":{\"callback\":null,\"tooltips\":[[\"x\",\"@x\"],[\"y\",\"@y\"],[\"label\",\"@label\"]]},\"id\":\"2044\",\"type\":\"HoverTool\"},{\"attributes\":{\"label\":{\"value\":\"gts\"},\"renderers\":[{\"id\":\"2052\",\"type\":\"GlyphRenderer\"}]},\"id\":\"2059\",\"type\":\"LegendItem\"},{\"attributes\":{\"callback\":null,\"data\":{\"index\":[0,1,2,3,4,5,6,7,8,9,10,11,12,13,14,15,16,17,18,19,20,21,22,23,24,25,26,27,28,29,30,31,32,33,34,35,36,37,38,39,40,41,42,43,44,45,46,47,48,49,50,51,52,53,54,55,56,57,58,59,60,61,62,63,64,65,66,67,68,69,70,71,72,73,74,75,76,77,78,79,80,81,82,83,84,85,86,87,88,89,90,91,92,93,94,95,96,97,98,99,100,101,102,103,104,105,106,107,108,109,110,111,112,113,114,115,116,117,118,119,120,121,122,123,124,125,126,127],\"label\":[\"gts\",\"gts\",\"gts\",\"gts\",\"gts\",\"gts\",\"gts\",\"gts\",\"gts\",\"gts\",\"gts\",\"gts\",\"gts\",\"gts\",\"gts\",\"gts\",\"gts\",\"gts\",\"gts\",\"gts\",\"gts\",\"sport\",\"sport\",\"sport\",\"sport\",\"sport\",\"sport\",\"sport\",\"sport\",\"sport\",\"sport\",\"sport\",\"sport\",\"sport\",\"sport\",\"gts\",\"sport\",\"sport\",\"sport\",\"sport\",\"sport\",\"sport\",\"sport\",\"gts\",\"gts\",\"sport\",\"sport\",\"sport\",\"sport\",\"sport\",\"sport\",\"sport\",\"gts\",\"sport\",\"sport\",\"sport\",\"sport\",\"sport\",\"sport\",\"sport\",\"sport\",\"sport\",\"sport\",\"sport\",\"sport\",\"gts\",\"sport\",\"sport\",\"sport\",\"sport\",\"sport\",\"sport\",\"sport\",\"sport\",\"sport\",\"sport\",\"sport\",\"sport\",\"sport\",\"sport\",\"sport\",\"sport\",\"sport\",\"sport\",\"sport\",\"sport\",\"sport\",\"sport\",\"sport\",\"gts\",\"sport\",\"sport\",\"sport\",\"sport\",\"sport\",\"sport\",\"sport\",\"sport\",\"sport\",\"sport\",\"sport\",\"sport\",\"sport\",\"sport\",\"sport\",\"sport\",\"sport\",\"sport\",\"sport\",\"sport\",\"sport\",\"sport\",\"sport\",\"sport\",\"sport\",\"sport\",\"sport\",\"sport\",\"sport\",\"sport\",\"sport\",\"sport\",\"sport\",\"sport\",\"sport\",\"sport\",\"sport\",\"sport\"],\"x\":{\"__ndarray__\":\"sXclDfCv3r/VAPyNQIzdv5TdbX+ufNe/24KBaZAY17/xmkNBATzRv5I1LKHlGtG/rHpvrIoa0L9l8KltsBvMv1IzNHh8Fcy/Rd6AGsady78t6fKmpTXKv1QNYMUdhsm/Kdtna1JfyL9goxfqHt/Hv1TNo1wwr8e/y7cIFmkWxb/qVnlJhMPEv87Z6u8Pq8S/zSBjkKZ0xL/fO24oW/jDv8KF/eZsl8O/WPbEicPslr+/kmpRL7ddvzlPhVMVkGU/Ub9ux9D4aT8PnFLeZBN2P/4Ou/4ddYA/jHqRAEEagz8j7iT7TjOFP+d97gYFBIk/esWoLka7ij/CkW+YixCOPyE5BRKyMo0/bJFU2JxPjz+fmT0TJEmNPypC5+Y4VZE/kRtMzaVTkz/jxJWUdeGXPwXQBX3Up5c/rQ+U1RQYmD8rfv9ASDGZP5xpBYwlfpg/hOqnPBCsmT8aaUNLGLuZPzHSe2InEps/nxCgpvw2mz8T1Uzp/hqcP7k1h2pZup0/sJdNNO9Wnj+yRXsq3+ifP9xJOGWep58//5wKBcHqoD+GP3FFfpehP4aKv+vOAaM/MejEC/31oj9Zrklp7gyjPwAiFfjBZqM/lsOsYtqaoz94vb6y5a6jP9hbvt6vOKQ/Wd9HUGo+pD8f3bFVrcOkP2DqPU6upKQ/z6FThjOnpD8m4+O1+/mkP4GouR177KU/V10n1NAvpj+dmiYlQlWmP8/ivuet86Y/7ZwDdwKspj/moVq7Mf+mP0iU9qw1nqY/5sbUnJyxpj8brLXFqYmnPxBTtzqXJag/tudMjL5oqT8yIQ1pAHapPx/KXO6UE6k/YUa3augBqj8L0yPlQWCqP/n3PzsAOao/SiR243JMqj/cfSMOJFGrP1jE3syh2Ko/u0njNUa0qz/4UEttz1KsP6a3ixPhEKw/zsLeQ6JyrD+yR2hr+qqsP15hdwPTXq0/pnKnWz52rT9aUIkgRpatP3PXTYFRLK0/dtX/ZxdTrT8KWWA6432tP8XZD72dza0/xWBGuDTTrT9YYgdiQaCuP8WHBcDJNa8/Zuo+aPx7rz8X2penhESwP7hcZIMfXrA/dCuQAE52sD/H8l+HLMmwP9KJokjXkbE/F7mn/SyysT802mHoTbixP1UGBAqCy7E/wx0xCmBssj+Q8vnWUbmyP5ntT4chv7I/PWpsTiYVsz9nCY8m1TizPzZMGLzNQrM/nnwVedCgsz8nZBPqjge0P5JuznjwObQ/f9g70Rw9tD9CFqrZlCa0Pwhx5oS8lrQ/7Tc8V0rytD/U5pX5AdG1P1GTkQ4A/LU/3UQ1cWtCtj/kO7dYlsG2PyHbAZTxULc/c7dQ6QUYtz8I+WLTZCe9Pw==\",\"dtype\":\"float64\",\"shape\":[128]},\"y\":{\"__ndarray__\":\"uQwYDH4w4z9rzdfh0qviP1SSxZiomNu/+Wx6QlYxrb/+xHtuiMTNv6azUD8z+MW/TPvZ7JJm0L85AIfngG2rPyQ6e410C8e/K4/62naknb9a1hBWWm67v0m95xlH2KK/v8BH7ktVqr/6X8TfWbufv2n24qiJKMK/kK/z54LLsr+1/+kD4LLDvx7fEg38eKi/G3HfwZQ+sr+9Xr8oxMS1vzQd/wsYaqC/Qmn2P+Tssz+ie6CajXOsP2Cq3UZgKaw/XxkGwg2zsD9FwKdfweSnP5xt1SQEL5C/wU9ryYqpnz/PslvFp+pxPyMU0rzd8ao/HjI2gYdPo7+YKhEfuQGcv0bkzvtzzo6/4D6MCfbSYT/XuUJSTAKlP3q5Ck3oOZI/3EJOH+mJhT9IOrFeJWqdv5aoMyb1toG/KbZvTNSDqT+hnWsmC8aTP5OU5CL34LE/UineyRMll78IWK/XFMCtPx1fUQA0YJQ/CUNp0EWwrj/75u2GsBChP6jb2m+TMqW/tIoD0wgEbL+OleYvYQeIv6L4rT/cS6I/zUvbDYN+lj/lFRsrCCCBv7DxMgnBr4u/wtWJ36vCnT/2E9UMv9qhPwqUQV+oLKM/jdsRnpEZbT9jecIbFnSyP5CPFBjIm5m/Oo5tzxhCrz/Y8OKZEUWvv+Ezc+z46Ho/4oUMiq96pD+Qya2l7uumP9xoRnviwKy/yRYwh6aplr+0mP2/r4SWP/a1ToKoH6G/YAWTzVdeMr/ml9JXNreBPzErT2pb/pc/yJj0OHhkpT+O2vYL3nCYPyOD5W6BJqo/C4nPwW8Nb7/vOZVavqNSP1qTaGDSZ5g/fu5WX6BtlD/1Sx4ldUmdv1NyYNkiwpS/wCDReMA1cz92KrA8vUGTv3E9mCpG10+/5Nd+bIvNrr+pYykDK3esv864qcZRyoG/HV10+MjLfb94rFjUVfRcv8qR98SpKMq/armWvYdWpb+QwIxjX6lkPx4/SCrwRII/c5RFOMkOlz9of1N76digP8HRq0D/nZI/VUQH+TYJoD/KIDvN5VSgvyzwXGFy7qG/cBZ50tsklT9wKW/h+FWYv6lcnMnfwZI/Foqnmuwzpz9gmP+qX2afP3Yv7mzrI60/Q2tNxTYLmz+S5hsBHTqlP741wHCNQLg/XA/woCbVnz+nvVV9TLiiv4eJGRe1f7M/xELv79qzoz9KypiO1iagvx8zpz9ME5W/xPBDc7bpbr/xej9u0EZ+P9yWlAlEBKK/eg7ZD14+lb8glqI2TUCYP/3Nj1V9rXS/MfauNMB5o7/fjViTzlKmP03mK2XMIK8/mewqOORtsz/ZSgnelcKfv4E8klOhcKa/PcXdOOxapT9OmowTTfSgvw==\",\"dtype\":\"float64\",\"shape\":[128]}},\"selected\":{\"id\":\"2081\",\"type\":\"Selection\"},\"selection_policy\":{\"id\":\"2080\",\"type\":\"UnionRenderers\"}},\"id\":\"2045\",\"type\":\"ColumnDataSource\"},{\"attributes\":{\"fill_color\":{\"field\":\"label\",\"transform\":{\"id\":\"2046\",\"type\":\"CategoricalColorMapper\"}},\"line_color\":{\"field\":\"label\",\"transform\":{\"id\":\"2046\",\"type\":\"CategoricalColorMapper\"}},\"x\":{\"field\":\"x\"},\"y\":{\"field\":\"y\"}},\"id\":\"2056\",\"type\":\"Circle\"},{\"attributes\":{},\"id\":\"2031\",\"type\":\"WheelZoomTool\"},{\"attributes\":{\"factors\":[\"sport\",\"gts\"],\"palette\":[\"#1f77b4\",\"#ff7f0e\",\"#2ca02c\",\"#d62728\",\"#9467bd\",\"#8c564b\",\"#e377c2\",\"#7f7f7f\",\"#bcbd22\",\"#17becf\"]},\"id\":\"2046\",\"type\":\"CategoricalColorMapper\"},{\"attributes\":{\"filters\":[{\"id\":\"2047\",\"type\":\"GroupFilter\"}],\"source\":{\"id\":\"2045\",\"type\":\"ColumnDataSource\"}},\"id\":\"2048\",\"type\":\"CDSView\"},{\"attributes\":{\"overlay\":{\"id\":\"2082\",\"type\":\"BoxAnnotation\"}},\"id\":\"2032\",\"type\":\"BoxZoomTool\"},{\"attributes\":{},\"id\":\"2033\",\"type\":\"SaveTool\"}],\"root_ids\":[\"2009\"]},\"title\":\"Bokeh Application\",\"version\":\"1.4.0\"}};\n",
       "  var render_items = [{\"docid\":\"f4ea71ec-a576-4834-b7a4-28980b538fa9\",\"roots\":{\"2009\":\"0f23487d-1cda-4fc7-86da-ef3ddc69abba\"}}];\n",
       "  root.Bokeh.embed.embed_items_notebook(docs_json, render_items);\n",
       "\n",
       "  }\n",
       "  if (root.Bokeh !== undefined) {\n",
       "    embed_document(root);\n",
       "  } else {\n",
       "    var attempts = 0;\n",
       "    var timer = setInterval(function(root) {\n",
       "      if (root.Bokeh !== undefined) {\n",
       "        clearInterval(timer);\n",
       "        embed_document(root);\n",
       "      } else {\n",
       "        attempts++;\n",
       "        if (attempts > 100) {\n",
       "          clearInterval(timer);\n",
       "          console.log(\"Bokeh: ERROR: Unable to run BokehJS code because BokehJS library is missing\");\n",
       "        }\n",
       "      }\n",
       "    }, 10, root)\n",
       "  }\n",
       "})(window);"
      ],
      "application/vnd.bokehjs_exec.v0+json": ""
     },
     "metadata": {
      "application/vnd.bokehjs_exec.v0+json": {
       "id": "2009"
      }
     },
     "output_type": "display_data"
    }
   ],
   "source": [
    "p = hl.plot.scatter(mt_subset.scores[0],\n",
    "                    mt_subset.scores[1],\n",
    "                    label=mt_subset.group,\n",
    "                    title='PCA', xlabel='PC1', ylabel='PC2')\n",
    "show(p)"
   ]
  },
  {
   "cell_type": "code",
   "execution_count": 25,
   "metadata": {},
   "outputs": [],
   "source": [
    "pcs = mt_subset.scores[0].collect()"
   ]
  },
  {
   "cell_type": "code",
   "execution_count": 26,
   "metadata": {},
   "outputs": [
    {
     "data": {
      "text/plain": [
       "0.6912298271391693"
      ]
     },
     "execution_count": 26,
     "metadata": {},
     "output_type": "execute_result"
    }
   ],
   "source": [
    "np.std(pcs)*6 #no sample is that far from the center"
   ]
  },
  {
   "cell_type": "markdown",
   "metadata": {},
   "source": [
    "### additional quality control of chosen variants and more PCA:"
   ]
  },
  {
   "cell_type": "code",
   "execution_count": 53,
   "metadata": {},
   "outputs": [],
   "source": [
    "mt = hl.read_matrix_table('/net/archive/groups/plggneuromol/imdik-zekanowski-sportwgs/data/hail-mts/joint-unrelated-corrected.mt')"
   ]
  },
  {
   "cell_type": "code",
   "execution_count": 54,
   "metadata": {},
   "outputs": [],
   "source": [
    "mt = hl.variant_qc(mt)"
   ]
  },
  {
   "cell_type": "code",
   "execution_count": 55,
   "metadata": {},
   "outputs": [],
   "source": [
    "mt = mt.filter_rows((mt.variant_qc.dp_stats.mean > 10) & (mt.variant_qc.gq_stats.mean > 60))"
   ]
  },
  {
   "cell_type": "code",
   "execution_count": 56,
   "metadata": {},
   "outputs": [
    {
     "data": {
      "text/plain": [
       "(8461161, 128)"
      ]
     },
     "execution_count": 56,
     "metadata": {},
     "output_type": "execute_result"
    }
   ],
   "source": [
    "mt.count()"
   ]
  },
  {
   "cell_type": "code",
   "execution_count": 15,
   "metadata": {},
   "outputs": [],
   "source": [
    "#mt.checkpoint('/net/archive/groups/plggneuromol/imdik-zekanowski-sportwgs/data/joint-dp10-gq60.mt')\n",
    "mt = hl.read_matrix_table('/net/archive/groups/plggneuromol/imdik-zekanowski-sportwgs/data/hail-mts/joint-dp10-gq60.mt')"
   ]
  },
  {
   "cell_type": "code",
   "execution_count": 16,
   "metadata": {},
   "outputs": [
    {
     "data": {
      "text/plain": [
       "(8461161, 128)"
      ]
     },
     "execution_count": 16,
     "metadata": {},
     "output_type": "execute_result"
    }
   ],
   "source": [
    "mt.count()"
   ]
  },
  {
   "cell_type": "code",
   "execution_count": 17,
   "metadata": {},
   "outputs": [],
   "source": [
    "mt = mt.annotate_rows(n_below_dp_3 = hl.agg.count_where(mt.DP < 3),\n",
    "                     n_below_gq_30 = hl.agg.count_where(mt.GQ <30))"
   ]
  },
  {
   "cell_type": "code",
   "execution_count": 18,
   "metadata": {},
   "outputs": [],
   "source": [
    "mt = mt.filter_rows((mt.n_below_dp_3 == 0) & (mt.n_below_gq_30 < 6) & (mt.variant_qc.dp_stats.mean > 15) & (mt.variant_qc.gq_stats.mean > 65))"
   ]
  },
  {
   "cell_type": "code",
   "execution_count": 19,
   "metadata": {},
   "outputs": [
    {
     "data": {
      "text/plain": [
       "(7587998, 128)"
      ]
     },
     "execution_count": 19,
     "metadata": {},
     "output_type": "execute_result"
    }
   ],
   "source": [
    "mt.count()"
   ]
  },
  {
   "cell_type": "code",
   "execution_count": 20,
   "metadata": {},
   "outputs": [],
   "source": [
    "mt = mt.filter_rows(hl.is_snp(mt.alleles[0], mt.alleles[1]))"
   ]
  },
  {
   "cell_type": "code",
   "execution_count": 21,
   "metadata": {},
   "outputs": [
    {
     "data": {
      "text/plain": [
       "(6813337, 128)"
      ]
     },
     "execution_count": 21,
     "metadata": {},
     "output_type": "execute_result"
    }
   ],
   "source": [
    "mt.count()"
   ]
  },
  {
   "cell_type": "code",
   "execution_count": 22,
   "metadata": {},
   "outputs": [
    {
     "name": "stderr",
     "output_type": "stream",
     "text": [
      "2021-10-13 18:05:45 Hail: INFO: wrote matrix table with 6813337 rows and 128 columns in 3061 partitions to /net/archive/groups/plggneuromol/imdik-zekanowski-sportwgs/data/hail-mts/joint-dp10-gq60-max5below.mt\n",
      "    Total size: 6.73 GiB\n",
      "    * Rows/entries: 6.73 GiB\n",
      "    * Columns: 581.00 B\n",
      "    * Globals: 11.00 B\n",
      "    * Smallest partition: 0 rows (20.00 B)\n",
      "    * Largest partition:  6710 rows (6.87 MiB)\n"
     ]
    },
    {
     "data": {
      "text/plain": [
       "<hail.matrixtable.MatrixTable at 0x2abd993e4c50>"
      ]
     },
     "execution_count": 22,
     "metadata": {},
     "output_type": "execute_result"
    }
   ],
   "source": [
    "mt.checkpoint('/net/archive/groups/plggneuromol/imdik-zekanowski-sportwgs/data/hail-mts/joint-dp10-gq60-max5below.mt')\n",
    "#mt = hl.read_matrix_table('/net/archive/groups/plggneuromol/imdik-zekanowski-sportwgs/data/hail-mts/joint-dp10-gq60-max5below.mt')\n"
   ]
  },
  {
   "cell_type": "markdown",
   "metadata": {},
   "source": [
    "### get and remove phased genotypes (technical artifacts)"
   ]
  },
  {
   "cell_type": "code",
   "execution_count": 23,
   "metadata": {},
   "outputs": [],
   "source": [
    "largemt = hl.read_matrix_table('/net/archive/groups/plggneuromol/imdik-zekanowski-sportwgs/data/hail-mts/joint.mt')"
   ]
  },
  {
   "cell_type": "code",
   "execution_count": 24,
   "metadata": {},
   "outputs": [
    {
     "data": {
      "text/plain": [
       "(10751439, 287)"
      ]
     },
     "execution_count": 24,
     "metadata": {},
     "output_type": "execute_result"
    }
   ],
   "source": [
    "largemt.count()"
   ]
  },
  {
   "cell_type": "code",
   "execution_count": 25,
   "metadata": {},
   "outputs": [],
   "source": [
    "largemt = largemt.annotate_rows(n_phased = hl.agg.count_where(largemt.GT.phased))"
   ]
  },
  {
   "cell_type": "code",
   "execution_count": null,
   "metadata": {},
   "outputs": [],
   "source": [
    "largemt.write('/net/archive/groups/plggneuromol/imdik-zekanowski-sportwgs/data/hail-mts/joint-phased.mt')"
   ]
  },
  {
   "cell_type": "code",
   "execution_count": 30,
   "metadata": {},
   "outputs": [],
   "source": [
    "largemt = hl.read_matrix_table('/net/archive/groups/plggneuromol/imdik-zekanowski-sportwgs/data/hail-mts/joint-phased.mt')"
   ]
  },
  {
   "cell_type": "code",
   "execution_count": 5,
   "metadata": {},
   "outputs": [],
   "source": [
    "#largemt.filter_rows(largemt.n_phased == 0).checkpoint('/net/archive/groups/plggneuromol/imdik-zekanowski-sportwgs/data/hail-mts/joint-phased-filtered.mt')"
   ]
  },
  {
   "cell_type": "markdown",
   "metadata": {},
   "source": [
    "### Add filter from the large mt:"
   ]
  },
  {
   "cell_type": "code",
   "execution_count": 23,
   "metadata": {},
   "outputs": [
    {
     "data": {
      "text/plain": [
       "(6813337, 128)"
      ]
     },
     "execution_count": 23,
     "metadata": {},
     "output_type": "execute_result"
    }
   ],
   "source": [
    "mt.count()"
   ]
  },
  {
   "cell_type": "code",
   "execution_count": 24,
   "metadata": {},
   "outputs": [],
   "source": [
    "largemt = hl.read_matrix_table('/net/archive/groups/plggneuromol/imdik-zekanowski-sportwgs/data/hail-mts/joint-phased-filtered.mt')\n",
    "mt = mt.filter_rows(hl.is_defined(largemt.rows()[mt.row_key]))"
   ]
  },
  {
   "cell_type": "code",
   "execution_count": 25,
   "metadata": {},
   "outputs": [
    {
     "name": "stderr",
     "output_type": "stream",
     "text": [
      "2021-10-13 18:10:01 Hail: INFO: wrote matrix table with 5606700 rows and 128 columns in 3061 partitions to /net/archive/groups/plggneuromol/imdik-zekanowski-sportwgs/data/hail-mts/joint-dp10-gq60filtered.mt\n",
      "    Total size: 5.36 GiB\n",
      "    * Rows/entries: 5.36 GiB\n",
      "    * Columns: 581.00 B\n",
      "    * Globals: 11.00 B\n",
      "    * Smallest partition: 0 rows (20.00 B)\n",
      "    * Largest partition:  4560 rows (5.56 MiB)\n"
     ]
    },
    {
     "data": {
      "text/plain": [
       "<hail.matrixtable.MatrixTable at 0x2abd9930e7f0>"
      ]
     },
     "execution_count": 25,
     "metadata": {},
     "output_type": "execute_result"
    }
   ],
   "source": [
    "mt.checkpoint('/net/archive/groups/plggneuromol/imdik-zekanowski-sportwgs/data/hail-mts/joint-dp10-gq60filtered.mt')"
   ]
  },
  {
   "cell_type": "code",
   "execution_count": 156,
   "metadata": {},
   "outputs": [],
   "source": [
    "mt = hl.read_matrix_table('/net/archive/groups/plggneuromol/imdik-zekanowski-sportwgs/data/hail-mts/joint-dp10-gq60filtered.mt')"
   ]
  },
  {
   "cell_type": "markdown",
   "metadata": {},
   "source": [
    "##  now exclude genotypes in patches:"
   ]
  },
  {
   "cell_type": "code",
   "execution_count": 157,
   "metadata": {
    "scrolled": true
   },
   "outputs": [
    {
     "name": "stderr",
     "output_type": "stream",
     "text": [
      "2021-10-13 19:27:45 Hail: INFO: Reading table without type imputation\n",
      "  Loading field 'location' as type str (not specified)\n",
      "  Loading field 'patch' as type str (not specified)\n"
     ]
    }
   ],
   "source": [
    "patches = hl.import_table('/net/archive/groups/plggneuromol/imdik-zekanowski-sportwgs/data/external-data/patches-hg38.csv')"
   ]
  },
  {
   "cell_type": "code",
   "execution_count": 158,
   "metadata": {},
   "outputs": [],
   "source": [
    "patches = patches.location.collect()"
   ]
  },
  {
   "cell_type": "code",
   "execution_count": 159,
   "metadata": {},
   "outputs": [],
   "source": [
    "patches.remove('Chr3:91247723-91553319')"
   ]
  },
  {
   "cell_type": "code",
   "execution_count": 160,
   "metadata": {},
   "outputs": [],
   "source": [
    "mt = hl.filter_intervals(mt, [hl.parse_locus_interval(x, reference_genome='GRCh38') for x in patches], keep = False)"
   ]
  },
  {
   "cell_type": "code",
   "execution_count": 163,
   "metadata": {},
   "outputs": [
    {
     "name": "stderr",
     "output_type": "stream",
     "text": [
      "2021-10-13 19:31:02 Hail: INFO: wrote matrix table with 5540443 rows and 128 columns in 3061 partitions to /net/archive/groups/plggneuromol/imdik-zekanowski-sportwgs/data/hail-mts/joint-filtered-no-patches.mt\n",
      "    Total size: 5.29 GiB\n",
      "    * Rows/entries: 5.29 GiB\n",
      "    * Columns: 581.00 B\n",
      "    * Globals: 11.00 B\n",
      "    * Smallest partition: 0 rows (20.00 B)\n",
      "    * Largest partition:  4560 rows (5.56 MiB)\n"
     ]
    },
    {
     "data": {
      "text/plain": [
       "<hail.matrixtable.MatrixTable at 0x2abd99503278>"
      ]
     },
     "execution_count": 163,
     "metadata": {},
     "output_type": "execute_result"
    }
   ],
   "source": [
    "mt.checkpoint('/net/archive/groups/plggneuromol/imdik-zekanowski-sportwgs/data/hail-mts/joint-filtered-no-patches.mt')"
   ]
  },
  {
   "cell_type": "markdown",
   "metadata": {},
   "source": [
    "##  exclude sites with weird AF patterns"
   ]
  },
  {
   "cell_type": "code",
   "execution_count": 15,
   "metadata": {
    "scrolled": true
   },
   "outputs": [],
   "source": [
    "mt = hl.read_matrix_table('/net/archive/groups/plggneuromol/imdik-zekanowski-sportwgs/data/hail-mts/joint-filtered-no-patches.mt')"
   ]
  },
  {
   "cell_type": "code",
   "execution_count": 16,
   "metadata": {},
   "outputs": [
    {
     "name": "stderr",
     "output_type": "stream",
     "text": [
      "/net/software/local/python/3.6.5/lib/python3.6/site-packages/ipykernel_launcher.py:1: DeprecationWarning: Call to deprecated function (or staticmethod) cond. (Replaced by hl.if_else) -- Deprecated since version 0.2.59.\n",
      "  \"\"\"Entry point for launching an IPython kernel.\n",
      "2021-10-14 10:06:05 Hail: INFO: Reading table without type imputation\n",
      "  Loading field '\\ufeffsport' as type str (not specified)\n",
      "  Loading field 'type' as type str (not specified)\n",
      "  Loading field 'age' as type str (not specified)\n",
      "  Loading field 'sample_id' as type str (not specified)\n"
     ]
    }
   ],
   "source": [
    "mt = mt.annotate_cols(group = hl.cond(mt.s.contains(\"B\"), \"sport\", \"control\"))\n",
    "pheno = hl.import_table('/net/archive/groups/plggneuromol/imdik-zekanowski-sportwgs/data/external-data/sporstmen-pheno.csv', delimiter=';')\n",
    "pheno = pheno.key_by(pheno.sample_id)\n",
    "mt = mt.annotate_cols(phenotypes = pheno[mt.s])"
   ]
  },
  {
   "cell_type": "code",
   "execution_count": 17,
   "metadata": {},
   "outputs": [],
   "source": [
    "mt = mt.annotate_rows(controls_non_ref = hl.agg.filter((mt.group == 'control'), hl.agg.count_where(mt.GT.is_non_ref())),\n",
    "                      sports_non_ref = hl.agg.filter((mt.group == 'sport'), hl.agg.count_where(mt.GT.is_non_ref())),\n",
    "                      controls_ref = hl.agg.filter((mt.group == 'control'), hl.agg.count_where(mt.GT.is_hom_ref())),\n",
    "                      sports_ref = hl.agg.filter((mt.group == 'sport'), hl.agg.count_where(mt.GT.is_hom_ref())),\n",
    "                      speed_non_ref = hl.agg.filter((mt.phenotypes.type == 'speed'), hl.agg.count_where(mt.GT.is_non_ref())),\n",
    "                      endurance_non_ref = hl.agg.filter((mt.phenotypes.type == 'endurance'), hl.agg.count_where(mt.GT.is_non_ref())),\n",
    "                      speed_ref = hl.agg.filter((mt.phenotypes.type == 'speed'), hl.agg.count_where(mt.GT.is_hom_ref())),\n",
    "                      endurance_ref = hl.agg.filter((mt.phenotypes.type == 'endurance'), hl.agg.count_where(mt.GT.is_hom_ref())))"
   ]
  },
  {
   "cell_type": "code",
   "execution_count": 18,
   "metadata": {},
   "outputs": [],
   "source": [
    "mt = mt.annotate_rows(af_controls = mt.controls_non_ref/(mt.controls_non_ref+mt.controls_ref),\n",
    "                          af_sport = mt.sports_non_ref/(mt.sports_non_ref+mt.sports_ref))"
   ]
  },
  {
   "cell_type": "code",
   "execution_count": 26,
   "metadata": {},
   "outputs": [],
   "source": [
    "#mt.checkpoint('/net/archive/groups/plggneuromol/imdik-zekanowski-sportwgs/data/hail-mts/filtered-anno.mt')\n",
    "mt = hl.read_matrix_table('/net/archive/groups/plggneuromol/imdik-zekanowski-sportwgs/data/hail-mts/filtered-anno.mt')"
   ]
  },
  {
   "cell_type": "code",
   "execution_count": 27,
   "metadata": {},
   "outputs": [],
   "source": [
    "mt = mt.annotate_rows(flag = hl.if_else(((mt.af_controls > 0.1) | (mt.af_sport > 0.1)), hl.if_else(\n",
    "    hl.is_defined(mt.gnomad_v3.v3_nfe.AF), hl.if_else(\n",
    "        ((hl.abs(mt.af_controls - mt.gnomad_v3.v3_nfe.AF) > 0.3) | (hl.abs(mt.af_sport - mt.gnomad_v3.v3_nfe.AF) > 0.3)), 'not', 'ok'), 'not'), 'ok'))"
   ]
  },
  {
   "cell_type": "code",
   "execution_count": 28,
   "metadata": {},
   "outputs": [
    {
     "name": "stderr",
     "output_type": "stream",
     "text": [
      "2021-10-14 10:13:13 Hail: INFO: wrote matrix table with 5540443 rows and 128 columns in 3061 partitions to /net/archive/groups/plggneuromol/imdik-zekanowski-sportwgs/data/hail-mts/flagged.mt\n",
      "    Total size: 5.34 GiB\n",
      "    * Rows/entries: 5.34 GiB\n",
      "    * Columns: 1.31 KiB\n",
      "    * Globals: 11.00 B\n",
      "    * Smallest partition: 0 rows (20.00 B)\n",
      "    * Largest partition:  4560 rows (5.61 MiB)\n"
     ]
    },
    {
     "data": {
      "text/plain": [
       "<hail.matrixtable.MatrixTable at 0x2b8b4fccb278>"
      ]
     },
     "execution_count": 28,
     "metadata": {},
     "output_type": "execute_result"
    }
   ],
   "source": [
    "mt.checkpoint('/net/archive/groups/plggneuromol/imdik-zekanowski-sportwgs/data/hail-mts/flagged.mt')"
   ]
  },
  {
   "cell_type": "markdown",
   "metadata": {},
   "source": [
    "### filter out flagged variants:"
   ]
  },
  {
   "cell_type": "code",
   "execution_count": 31,
   "metadata": {},
   "outputs": [],
   "source": [
    "mt = hl.read_matrix_table('/net/archive/groups/plggneuromol/imdik-zekanowski-sportwgs/data/hail-mts/flagged.mt')"
   ]
  },
  {
   "cell_type": "code",
   "execution_count": 32,
   "metadata": {},
   "outputs": [],
   "source": [
    "mt = mt.filter_rows(mt.flag == 'ok')"
   ]
  },
  {
   "cell_type": "code",
   "execution_count": 33,
   "metadata": {},
   "outputs": [
    {
     "name": "stderr",
     "output_type": "stream",
     "text": [
      "2021-10-14 10:15:11 Hail: INFO: wrote matrix table with 5282269 rows and 128 columns in 3061 partitions to /net/archive/groups/plggneuromol/imdik-zekanowski-sportwgs/data/hail-mts/flagged-filtered.mt\n",
      "    Total size: 5.01 GiB\n",
      "    * Rows/entries: 5.01 GiB\n",
      "    * Columns: 1.31 KiB\n",
      "    * Globals: 11.00 B\n",
      "    * Smallest partition: 0 rows (20.00 B)\n",
      "    * Largest partition:  4401 rows (5.35 MiB)\n"
     ]
    },
    {
     "data": {
      "text/plain": [
       "<hail.matrixtable.MatrixTable at 0x2b8b4fdc22e8>"
      ]
     },
     "execution_count": 33,
     "metadata": {},
     "output_type": "execute_result"
    }
   ],
   "source": [
    "mt.checkpoint('/net/archive/groups/plggneuromol/imdik-zekanowski-sportwgs/data/hail-mts/flagged-filtered.mt')"
   ]
  },
  {
   "cell_type": "markdown",
   "metadata": {},
   "source": [
    "### Perform PCA and remove outliers"
   ]
  },
  {
   "cell_type": "code",
   "execution_count": 34,
   "metadata": {},
   "outputs": [],
   "source": [
    "mt_subset = mt.sample_rows(0.001)"
   ]
  },
  {
   "cell_type": "code",
   "execution_count": 35,
   "metadata": {
    "scrolled": true
   },
   "outputs": [
    {
     "name": "stderr",
     "output_type": "stream",
     "text": [
      "2021-10-14 10:17:02 Hail: INFO: wrote matrix table with 5339 rows and 128 columns in 3061 partitions to /net/archive/groups/plggneuromol/imdik-zekanowski-sportwgs/data/hail-mts/subset_filtered.mt\n",
      "    Total size: 7.15 MiB\n",
      "    * Rows/entries: 7.15 MiB\n",
      "    * Columns: 1.31 KiB\n",
      "    * Globals: 11.00 B\n",
      "    * Smallest partition: 0 rows (20.00 B)\n",
      "    * Largest partition:  9 rows (12.79 KiB)\n"
     ]
    },
    {
     "data": {
      "text/plain": [
       "<hail.matrixtable.MatrixTable at 0x2b8b4fde5d30>"
      ]
     },
     "execution_count": 35,
     "metadata": {},
     "output_type": "execute_result"
    }
   ],
   "source": [
    "mt_subset.checkpoint('/net/archive/groups/plggneuromol/imdik-zekanowski-sportwgs/data/hail-mts/subset_filtered.mt')"
   ]
  },
  {
   "cell_type": "code",
   "execution_count": 36,
   "metadata": {},
   "outputs": [
    {
     "name": "stderr",
     "output_type": "stream",
     "text": [
      "2021-10-14 10:17:42 Hail: INFO: hwe_normalized_pca: running PCA using 4393 variants.\n",
      "2021-10-14 10:18:21 Hail: INFO: pca: running PCA with 10 components...\n"
     ]
    }
   ],
   "source": [
    "eigenvalues, pcs, _ = hl.hwe_normalized_pca(mt_subset.GT)\n",
    "\n",
    "mt_subset = mt_subset.annotate_cols(scores = pcs[mt_subset.s].scores)"
   ]
  },
  {
   "cell_type": "code",
   "execution_count": 37,
   "metadata": {},
   "outputs": [
    {
     "name": "stderr",
     "output_type": "stream",
     "text": [
      "2021-10-14 10:45:27 Hail: INFO: wrote matrix table with 5339 rows and 128 columns in 3061 partitions to /net/archive/groups/plggneuromol/imdik-zekanowski-sportwgs/data/hail-mts/subset_filtered_PCA.mt\n",
      "    Total size: 7.16 MiB\n",
      "    * Rows/entries: 7.15 MiB\n",
      "    * Columns: 11.62 KiB\n",
      "    * Globals: 11.00 B\n",
      "    * Smallest partition: 0 rows (20.00 B)\n",
      "    * Largest partition:  9 rows (12.79 KiB)\n"
     ]
    },
    {
     "data": {
      "text/plain": [
       "<hail.matrixtable.MatrixTable at 0x2b8b4fa62eb8>"
      ]
     },
     "execution_count": 37,
     "metadata": {},
     "output_type": "execute_result"
    }
   ],
   "source": [
    "mt_subset.checkpoint('/net/archive/groups/plggneuromol/imdik-zekanowski-sportwgs/data/hail-mts/subset_filtered_PCA.mt')\n",
    "#mt_subset = hl.read_matrix_table('/net/archive/groups/plggneuromol/imdik-zekanowski-sportwgs/data/hail-mts/subset_filtered_PCA.mt')"
   ]
  },
  {
   "cell_type": "code",
   "execution_count": 45,
   "metadata": {
    "scrolled": false
   },
   "outputs": [
    {
     "data": {
      "text/html": [
       "\n",
       "\n",
       "\n",
       "\n",
       "\n",
       "\n",
       "  <div class=\"bk-root\" id=\"d6e8aeaf-9630-48d7-9c82-ea98fa8fbd80\" data-root-id=\"1127\"></div>\n"
      ]
     },
     "metadata": {},
     "output_type": "display_data"
    },
    {
     "data": {
      "application/javascript": [
       "(function(root) {\n",
       "  function embed_document(root) {\n",
       "    \n",
       "  var docs_json = {\"67f3b1ce-a681-4b7e-9784-655af00c00cf\":{\"roots\":{\"references\":[{\"attributes\":{\"below\":[{\"id\":\"1138\",\"type\":\"LinearAxis\"}],\"center\":[{\"id\":\"1142\",\"type\":\"Grid\"},{\"id\":\"1147\",\"type\":\"Grid\"}],\"left\":[{\"id\":\"1143\",\"type\":\"LinearAxis\"},{\"id\":\"2054\",\"type\":\"Legend\"},{\"id\":\"2055\",\"type\":\"ColorBar\"}],\"plot_height\":800,\"plot_width\":800,\"renderers\":[{\"id\":\"1170\",\"type\":\"GlyphRenderer\"},{\"id\":\"1176\",\"type\":\"GlyphRenderer\"},{\"id\":\"1182\",\"type\":\"GlyphRenderer\"},{\"id\":\"1188\",\"type\":\"GlyphRenderer\"},{\"id\":\"1194\",\"type\":\"GlyphRenderer\"},{\"id\":\"1200\",\"type\":\"GlyphRenderer\"},{\"id\":\"1206\",\"type\":\"GlyphRenderer\"},{\"id\":\"1212\",\"type\":\"GlyphRenderer\"},{\"id\":\"1218\",\"type\":\"GlyphRenderer\"},{\"id\":\"1224\",\"type\":\"GlyphRenderer\"},{\"id\":\"1230\",\"type\":\"GlyphRenderer\"},{\"id\":\"1236\",\"type\":\"GlyphRenderer\"},{\"id\":\"1242\",\"type\":\"GlyphRenderer\"},{\"id\":\"1248\",\"type\":\"GlyphRenderer\"},{\"id\":\"1254\",\"type\":\"GlyphRenderer\"},{\"id\":\"1260\",\"type\":\"GlyphRenderer\"},{\"id\":\"1266\",\"type\":\"GlyphRenderer\"},{\"id\":\"1272\",\"type\":\"GlyphRenderer\"},{\"id\":\"1278\",\"type\":\"GlyphRenderer\"},{\"id\":\"1284\",\"type\":\"GlyphRenderer\"},{\"id\":\"1290\",\"type\":\"GlyphRenderer\"},{\"id\":\"1296\",\"type\":\"GlyphRenderer\"},{\"id\":\"1302\",\"type\":\"GlyphRenderer\"},{\"id\":\"1308\",\"type\":\"GlyphRenderer\"},{\"id\":\"1314\",\"type\":\"GlyphRenderer\"},{\"id\":\"1320\",\"type\":\"GlyphRenderer\"},{\"id\":\"1326\",\"type\":\"GlyphRenderer\"},{\"id\":\"1332\",\"type\":\"GlyphRenderer\"},{\"id\":\"1338\",\"type\":\"GlyphRenderer\"},{\"id\":\"1344\",\"type\":\"GlyphRenderer\"},{\"id\":\"1350\",\"type\":\"GlyphRenderer\"},{\"id\":\"1356\",\"type\":\"GlyphRenderer\"},{\"id\":\"1362\",\"type\":\"GlyphRenderer\"},{\"id\":\"1368\",\"type\":\"GlyphRenderer\"},{\"id\":\"1374\",\"type\":\"GlyphRenderer\"},{\"id\":\"1380\",\"type\":\"GlyphRenderer\"},{\"id\":\"1386\",\"type\":\"GlyphRenderer\"},{\"id\":\"1392\",\"type\":\"GlyphRenderer\"},{\"id\":\"1398\",\"type\":\"GlyphRenderer\"},{\"id\":\"1404\",\"type\":\"GlyphRenderer\"},{\"id\":\"1410\",\"type\":\"GlyphRenderer\"},{\"id\":\"1416\",\"type\":\"GlyphRenderer\"},{\"id\":\"1422\",\"type\":\"GlyphRenderer\"},{\"id\":\"1428\",\"type\":\"GlyphRenderer\"},{\"id\":\"1434\",\"type\":\"GlyphRenderer\"},{\"id\":\"1440\",\"type\":\"GlyphRenderer\"},{\"id\":\"1446\",\"type\":\"GlyphRenderer\"},{\"id\":\"1452\",\"type\":\"GlyphRenderer\"},{\"id\":\"1458\",\"type\":\"GlyphRenderer\"},{\"id\":\"1464\",\"type\":\"GlyphRenderer\"},{\"id\":\"1470\",\"type\":\"GlyphRenderer\"},{\"id\":\"1476\",\"type\":\"GlyphRenderer\"},{\"id\":\"1482\",\"type\":\"GlyphRenderer\"},{\"id\":\"1488\",\"type\":\"GlyphRenderer\"},{\"id\":\"1494\",\"type\":\"GlyphRenderer\"},{\"id\":\"1500\",\"type\":\"GlyphRenderer\"},{\"id\":\"1506\",\"type\":\"GlyphRenderer\"},{\"id\":\"1512\",\"type\":\"GlyphRenderer\"},{\"id\":\"1518\",\"type\":\"GlyphRenderer\"},{\"id\":\"1524\",\"type\":\"GlyphRenderer\"},{\"id\":\"1530\",\"type\":\"GlyphRenderer\"},{\"id\":\"1536\",\"type\":\"GlyphRenderer\"},{\"id\":\"1542\",\"type\":\"GlyphRenderer\"},{\"id\":\"1548\",\"type\":\"GlyphRenderer\"},{\"id\":\"1554\",\"type\":\"GlyphRenderer\"},{\"id\":\"1560\",\"type\":\"GlyphRenderer\"},{\"id\":\"1566\",\"type\":\"GlyphRenderer\"},{\"id\":\"1572\",\"type\":\"GlyphRenderer\"},{\"id\":\"1578\",\"type\":\"GlyphRenderer\"},{\"id\":\"1584\",\"type\":\"GlyphRenderer\"},{\"id\":\"1590\",\"type\":\"GlyphRenderer\"},{\"id\":\"1596\",\"type\":\"GlyphRenderer\"},{\"id\":\"1602\",\"type\":\"GlyphRenderer\"},{\"id\":\"1608\",\"type\":\"GlyphRenderer\"},{\"id\":\"1614\",\"type\":\"GlyphRenderer\"},{\"id\":\"1620\",\"type\":\"GlyphRenderer\"},{\"id\":\"1626\",\"type\":\"GlyphRenderer\"},{\"id\":\"1632\",\"type\":\"GlyphRenderer\"},{\"id\":\"1638\",\"type\":\"GlyphRenderer\"},{\"id\":\"1644\",\"type\":\"GlyphRenderer\"},{\"id\":\"1650\",\"type\":\"GlyphRenderer\"},{\"id\":\"1656\",\"type\":\"GlyphRenderer\"},{\"id\":\"1662\",\"type\":\"GlyphRenderer\"},{\"id\":\"1668\",\"type\":\"GlyphRenderer\"},{\"id\":\"1674\",\"type\":\"GlyphRenderer\"},{\"id\":\"1680\",\"type\":\"GlyphRenderer\"},{\"id\":\"1686\",\"type\":\"GlyphRenderer\"},{\"id\":\"1692\",\"type\":\"GlyphRenderer\"},{\"id\":\"1698\",\"type\":\"GlyphRenderer\"},{\"id\":\"1704\",\"type\":\"GlyphRenderer\"},{\"id\":\"1710\",\"type\":\"GlyphRenderer\"},{\"id\":\"1716\",\"type\":\"GlyphRenderer\"},{\"id\":\"1722\",\"type\":\"GlyphRenderer\"},{\"id\":\"1728\",\"type\":\"GlyphRenderer\"},{\"id\":\"1734\",\"type\":\"GlyphRenderer\"},{\"id\":\"1740\",\"type\":\"GlyphRenderer\"},{\"id\":\"1746\",\"type\":\"GlyphRenderer\"},{\"id\":\"1752\",\"type\":\"GlyphRenderer\"},{\"id\":\"1758\",\"type\":\"GlyphRenderer\"},{\"id\":\"1764\",\"type\":\"GlyphRenderer\"},{\"id\":\"1770\",\"type\":\"GlyphRenderer\"},{\"id\":\"1776\",\"type\":\"GlyphRenderer\"},{\"id\":\"1782\",\"type\":\"GlyphRenderer\"},{\"id\":\"1788\",\"type\":\"GlyphRenderer\"},{\"id\":\"1794\",\"type\":\"GlyphRenderer\"},{\"id\":\"1800\",\"type\":\"GlyphRenderer\"},{\"id\":\"1806\",\"type\":\"GlyphRenderer\"},{\"id\":\"1812\",\"type\":\"GlyphRenderer\"},{\"id\":\"1818\",\"type\":\"GlyphRenderer\"},{\"id\":\"1824\",\"type\":\"GlyphRenderer\"},{\"id\":\"1830\",\"type\":\"GlyphRenderer\"},{\"id\":\"1836\",\"type\":\"GlyphRenderer\"},{\"id\":\"1842\",\"type\":\"GlyphRenderer\"},{\"id\":\"1848\",\"type\":\"GlyphRenderer\"},{\"id\":\"1854\",\"type\":\"GlyphRenderer\"},{\"id\":\"1860\",\"type\":\"GlyphRenderer\"},{\"id\":\"1866\",\"type\":\"GlyphRenderer\"},{\"id\":\"1872\",\"type\":\"GlyphRenderer\"},{\"id\":\"1878\",\"type\":\"GlyphRenderer\"},{\"id\":\"1884\",\"type\":\"GlyphRenderer\"},{\"id\":\"1890\",\"type\":\"GlyphRenderer\"},{\"id\":\"1896\",\"type\":\"GlyphRenderer\"},{\"id\":\"1902\",\"type\":\"GlyphRenderer\"},{\"id\":\"1908\",\"type\":\"GlyphRenderer\"},{\"id\":\"1914\",\"type\":\"GlyphRenderer\"},{\"id\":\"1920\",\"type\":\"GlyphRenderer\"},{\"id\":\"1926\",\"type\":\"GlyphRenderer\"}],\"title\":{\"id\":\"1128\",\"type\":\"Title\"},\"toolbar\":{\"id\":\"1154\",\"type\":\"Toolbar\"},\"x_range\":{\"id\":\"1130\",\"type\":\"DataRange1d\"},\"x_scale\":{\"id\":\"1134\",\"type\":\"LinearScale\"},\"y_range\":{\"id\":\"1132\",\"type\":\"DataRange1d\"},\"y_scale\":{\"id\":\"1136\",\"type\":\"LinearScale\"}},\"id\":\"1127\",\"subtype\":\"Figure\",\"type\":\"Plot\"},{\"attributes\":{\"fill_color\":{\"field\":\"label\",\"transform\":{\"id\":\"1164\",\"type\":\"CategoricalColorMapper\"}},\"line_color\":{\"field\":\"label\",\"transform\":{\"id\":\"1164\",\"type\":\"CategoricalColorMapper\"}},\"x\":{\"field\":\"x\"},\"y\":{\"field\":\"y\"}},\"id\":\"1726\",\"type\":\"Circle\"},{\"attributes\":{\"filters\":[{\"id\":\"1885\",\"type\":\"GroupFilter\"}],\"source\":{\"id\":\"1163\",\"type\":\"ColumnDataSource\"}},\"id\":\"1886\",\"type\":\"CDSView\"},{\"attributes\":{\"fill_color\":{\"field\":\"label\",\"transform\":{\"id\":\"1164\",\"type\":\"CategoricalColorMapper\"}},\"line_color\":{\"field\":\"label\",\"transform\":{\"id\":\"1164\",\"type\":\"CategoricalColorMapper\"}},\"x\":{\"field\":\"x\"},\"y\":{\"field\":\"y\"}},\"id\":\"1642\",\"type\":\"Circle\"},{\"attributes\":{\"fill_color\":{\"field\":\"label\",\"transform\":{\"id\":\"1164\",\"type\":\"CategoricalColorMapper\"}},\"line_color\":{\"field\":\"label\",\"transform\":{\"id\":\"1164\",\"type\":\"CategoricalColorMapper\"}},\"x\":{\"field\":\"x\"},\"y\":{\"field\":\"y\"}},\"id\":\"1768\",\"type\":\"Circle\"},{\"attributes\":{\"data_source\":{\"id\":\"1163\",\"type\":\"ColumnDataSource\"},\"glyph\":{\"id\":\"1636\",\"type\":\"Circle\"},\"hover_glyph\":null,\"muted_glyph\":null,\"nonselection_glyph\":{\"id\":\"1637\",\"type\":\"Circle\"},\"selection_glyph\":null,\"view\":{\"id\":\"1634\",\"type\":\"CDSView\"}},\"id\":\"1638\",\"type\":\"GlyphRenderer\"},{\"attributes\":{\"fill_alpha\":{\"value\":0.1},\"fill_color\":{\"value\":\"#1f77b4\"},\"line_alpha\":{\"value\":0.1},\"line_color\":{\"value\":\"#1f77b4\"},\"x\":{\"field\":\"x\"},\"y\":{\"field\":\"y\"}},\"id\":\"1643\",\"type\":\"Circle\"},{\"attributes\":{\"fill_alpha\":{\"value\":0.1},\"fill_color\":{\"value\":\"#1f77b4\"},\"line_alpha\":{\"value\":0.1},\"line_color\":{\"value\":\"#1f77b4\"},\"x\":{\"field\":\"x\"},\"y\":{\"field\":\"y\"}},\"id\":\"1649\",\"type\":\"Circle\"},{\"attributes\":{\"column_name\":\"label\",\"group\":\"WGS_6819\"},\"id\":\"1891\",\"type\":\"GroupFilter\"},{\"attributes\":{\"axis_label\":\"PC1\",\"formatter\":{\"id\":\"2067\",\"type\":\"BasicTickFormatter\"},\"ticker\":{\"id\":\"1139\",\"type\":\"BasicTicker\"}},\"id\":\"1138\",\"type\":\"LinearAxis\"},{\"attributes\":{\"filters\":[{\"id\":\"1639\",\"type\":\"GroupFilter\"}],\"source\":{\"id\":\"1163\",\"type\":\"ColumnDataSource\"}},\"id\":\"1640\",\"type\":\"CDSView\"},{\"attributes\":{\"data_source\":{\"id\":\"1163\",\"type\":\"ColumnDataSource\"},\"glyph\":{\"id\":\"1666\",\"type\":\"Circle\"},\"hover_glyph\":null,\"muted_glyph\":null,\"nonselection_glyph\":{\"id\":\"1667\",\"type\":\"Circle\"},\"selection_glyph\":null,\"view\":{\"id\":\"1664\",\"type\":\"CDSView\"}},\"id\":\"1668\",\"type\":\"GlyphRenderer\"},{\"attributes\":{},\"id\":\"1136\",\"type\":\"LinearScale\"},{\"attributes\":{\"fill_alpha\":{\"value\":0.1},\"fill_color\":{\"value\":\"#1f77b4\"},\"line_alpha\":{\"value\":0.1},\"line_color\":{\"value\":\"#1f77b4\"},\"x\":{\"field\":\"x\"},\"y\":{\"field\":\"y\"}},\"id\":\"1769\",\"type\":\"Circle\"},{\"attributes\":{\"fill_alpha\":{\"value\":0.1},\"fill_color\":{\"value\":\"#1f77b4\"},\"line_alpha\":{\"value\":0.1},\"line_color\":{\"value\":\"#1f77b4\"},\"x\":{\"field\":\"x\"},\"y\":{\"field\":\"y\"}},\"id\":\"1673\",\"type\":\"Circle\"},{\"attributes\":{\"fill_color\":{\"field\":\"label\",\"transform\":{\"id\":\"1164\",\"type\":\"CategoricalColorMapper\"}},\"line_color\":{\"field\":\"label\",\"transform\":{\"id\":\"1164\",\"type\":\"CategoricalColorMapper\"}},\"x\":{\"field\":\"x\"},\"y\":{\"field\":\"y\"}},\"id\":\"1714\",\"type\":\"Circle\"},{\"attributes\":{\"label\":{\"value\":\"B462\"},\"renderers\":[{\"id\":\"1410\",\"type\":\"GlyphRenderer\"}]},\"id\":\"1967\",\"type\":\"LegendItem\"},{\"attributes\":{},\"id\":\"1151\",\"type\":\"SaveTool\"},{\"attributes\":{\"column_name\":\"label\",\"group\":\"WGS_37c\"},\"id\":\"1885\",\"type\":\"GroupFilter\"},{\"attributes\":{\"column_name\":\"label\",\"group\":\"462\"},\"id\":\"1165\",\"type\":\"GroupFilter\"},{\"attributes\":{\"column_name\":\"label\",\"group\":\"B515\"},\"id\":\"1681\",\"type\":\"GroupFilter\"},{\"attributes\":{\"data_source\":{\"id\":\"1163\",\"type\":\"ColumnDataSource\"},\"glyph\":{\"id\":\"1714\",\"type\":\"Circle\"},\"hover_glyph\":null,\"muted_glyph\":null,\"nonselection_glyph\":{\"id\":\"1715\",\"type\":\"Circle\"},\"selection_glyph\":null,\"view\":{\"id\":\"1712\",\"type\":\"CDSView\"}},\"id\":\"1716\",\"type\":\"GlyphRenderer\"},{\"attributes\":{\"fill_alpha\":{\"value\":0.1},\"fill_color\":{\"value\":\"#1f77b4\"},\"line_alpha\":{\"value\":0.1},\"line_color\":{\"value\":\"#1f77b4\"},\"x\":{\"field\":\"x\"},\"y\":{\"field\":\"y\"}},\"id\":\"1577\",\"type\":\"Circle\"},{\"attributes\":{\"filters\":[{\"id\":\"1681\",\"type\":\"GroupFilter\"}],\"source\":{\"id\":\"1163\",\"type\":\"ColumnDataSource\"}},\"id\":\"1682\",\"type\":\"CDSView\"},{\"attributes\":{\"fill_alpha\":{\"value\":0.1},\"fill_color\":{\"value\":\"#1f77b4\"},\"line_alpha\":{\"value\":0.1},\"line_color\":{\"value\":\"#1f77b4\"},\"x\":{\"field\":\"x\"},\"y\":{\"field\":\"y\"}},\"id\":\"1889\",\"type\":\"Circle\"},{\"attributes\":{\"column_name\":\"label\",\"group\":\"WGS_7120\"},\"id\":\"1897\",\"type\":\"GroupFilter\"},{\"attributes\":{\"data_source\":{\"id\":\"1163\",\"type\":\"ColumnDataSource\"},\"glyph\":{\"id\":\"1708\",\"type\":\"Circle\"},\"hover_glyph\":null,\"muted_glyph\":null,\"nonselection_glyph\":{\"id\":\"1709\",\"type\":\"Circle\"},\"selection_glyph\":null,\"view\":{\"id\":\"1706\",\"type\":\"CDSView\"}},\"id\":\"1710\",\"type\":\"GlyphRenderer\"},{\"attributes\":{\"data_source\":{\"id\":\"1163\",\"type\":\"ColumnDataSource\"},\"glyph\":{\"id\":\"1900\",\"type\":\"Circle\"},\"hover_glyph\":null,\"muted_glyph\":null,\"nonselection_glyph\":{\"id\":\"1901\",\"type\":\"Circle\"},\"selection_glyph\":null,\"view\":{\"id\":\"1898\",\"type\":\"CDSView\"}},\"id\":\"1902\",\"type\":\"GlyphRenderer\"},{\"attributes\":{\"filters\":[{\"id\":\"1651\",\"type\":\"GroupFilter\"}],\"source\":{\"id\":\"1163\",\"type\":\"ColumnDataSource\"}},\"id\":\"1652\",\"type\":\"CDSView\"},{\"attributes\":{\"fill_alpha\":{\"value\":0.1},\"fill_color\":{\"value\":\"#1f77b4\"},\"line_alpha\":{\"value\":0.1},\"line_color\":{\"value\":\"#1f77b4\"},\"x\":{\"field\":\"x\"},\"y\":{\"field\":\"y\"}},\"id\":\"1667\",\"type\":\"Circle\"},{\"attributes\":{\"callback\":null,\"data\":{\"index\":[0,1,2,3,4,5,6,7,8,9,10,11,12,13,14,15,16,17,18,19,20,21,22,23,24,25,26,27,28,29,30,31,32,33,34,35,36,37,38,39,40,41,42,43,44,45,46,47,48,49,50,51,52,53,54,55,56,57,58,59,60,61,62,63,64,65,66,67,68,69,70,71,72,73,74,75,76,77,78,79,80,81,82,83,84,85,86,87,88,89,90,91,92,93,94,95,96,97,98,99,100,101,102,103,104,105,106,107,108,109,110,111,112,113,114,115,116,117,118,119,120,121,122,123,124,125,126],\"label\":[\"492\",\"WGS_37b\",\"S_7213\",\"B531\",\"B437\",\"B455\",\"B508\",\"B450\",\"B509\",\"WGS_163b\",\"B507\",\"B497\",\"B433\",\"B431\",\"B478\",\"B435\",\"B427\",\"WGS_37c\",\"B474\",\"B467\",\"B539\",\"B489\",\"WGS_163d\",\"B530\",\"B470\",\"B446\",\"B463\",\"B456\",\"B468\",\"479\",\"B523\",\"B462\",\"B156\",\"S_7307\",\"B522\",\"WGS_180b\",\"WGS_7120\",\"B464\",\"468\",\"B496\",\"B477\",\"B506\",\"B524\",\"B481\",\"B528\",\"B538\",\"B444\",\"B443\",\"B483\",\"B432\",\"B502\",\"B399\",\"B439\",\"B493\",\"B534\",\"B491\",\"490\",\"B476\",\"B442\",\"B102\",\"WGS_7142\",\"B473\",\"B537\",\"B472\",\"B469\",\"B503\",\"B453\",\"B458\",\"494\",\"B498\",\"B475\",\"B527\",\"S_7246\",\"B382\",\"B438\",\"B499\",\"B461\",\"WGS_7153\",\"WGS_85b\",\"B436\",\"B24\",\"B338\",\"WGS_147c\",\"B454\",\"B492\",\"B459\",\"B452\",\"B487\",\"B490\",\"S_7274\",\"B535\",\"S_7254\",\"B466\",\"B515\",\"B526\",\"B457\",\"S_7241\",\"B536\",\"B81\",\"B465\",\"B471\",\"B486\",\"B501\",\"B448\",\"B518\",\"B495\",\"B445\",\"B505\",\"B451\",\"B480\",\"462\",\"B533\",\"S_7227\",\"B532\",\"B494\",\"B529\",\"B482\",\"B441\",\"WGS_7143\",\"B485\",\"B479\",\"B504\",\"B525\",\"B488\",\"B430\",\"WGS_6819\",\"WGS_185c\"],\"x\":{\"__ndarray__\":\"EeK6Ojy8v78vtc2V7J+5vwTsbUcnK7W/70dxT9OEtL/bErkPRYuyv/70na2kobG/1eLFF7PnsL9Oi2gtauCwv1IrBNebRa+/Hk5btQpSrb+6bl/Dmp6sv5WkfVtqYqy/8z8M+LMBrL9k9OzPsHirv6BpPtAIvKm/YrBpMzSPqb/et3wP7b2pv6z7eV7r3am/KDV6pyYSqb851jqTLf6nv7MIVqt6oKe/HMIw/8Plpb+I3kUtl0Gmv41jkDJdHaW/g6Bz0lJMpb8rJJA333Olv3/YGWVcXKS/Ll1U30npo7/yJQZJKOKjv1vXos5GG6O/cuGn4uEyor96AbTMh6Ghvzrw010lsKG/VpgRT/plor/jqC+92X+hv4bBO+MnLaG/B676zkB/ob85P+l+WIGhvwuzF+MicKG/8MlPOG70nr9dhseuyAudv8aVYP7MyZu/9VGKrKv6m7/G4qG1bfaav7ac6bFSl5q/ZP6gAY7umL+NSnVmv0uav2etvZGhl5q/kZT3raiNmL9rWeoYJWyYv6ber9Zjjpe/wWFHSEMTlr/5B/sRCZmUv3Fsb75k3pO/hPx8zw4Dkb+CK+jkjqWQv5aHXqxJZY6/v6rFxsBCj78e+GSS7/OPv0ubOCCDVJC/aMvxnDArjb/oCtqkF3yKv/1D3v1NX4q/UpCVL9lejL8qJqEPftKIvwNeHDW3VYe/AkcHI0bAhb++w0VL0sqFvwsjw+gk8oS/mFMeDirBhr95Q73VW/KEv91U7u+vsYC/Oji8VQ23gL/aVWj/b+ODv4rInv1Lxnm//c8VxFFaf79GiXt2dnt/v4sxZjG+WHa/rdlJ6YUlcL9QUQuIGdV2v5eQj/2wYna/nV1djxxBdb+qurwZq+RwvxBpzMiCS2a/mVsLoAuvUz/UFcw2L0RYP/uAKWHBQ3o/AzYzPs6WeT+APqUT+TZ4P4AnXe3i2IY/UpMou5ObiT/z35S9t/eMP1bZ4GapKoo/Ukm57/UNij+N+KWXGIeQP2DD1Rhz1Y4/FXHs1IcOkz9G18q1+2yRPzTG/rNat5E/PXG5644olD+d9uNQCnWUPwvtBY7HO5M/Kc4l0EuplT8hM2uaXceVP8IFB4jykpU/HcomJQzAlz/UbJ5R122ZP7r2EvSW5Jo/obtSNDx1nT9weHuFHgWcP0cYeuKBk5w/Xy0OngiVmz/fZGgT0xucP0VdxthB+J4/oFvCirMUoD990APxw+ShPy2b0N4F86A/JeHNf/d5oj8Pedv8fAelP13MoeZhnKc/UGup7Wxepz93jQUn7/moPyAS6K52MK4/97GCBSvEtD/uxuu6cpC1P78QelueUug/AVsJWVej7D8=\",\"dtype\":\"float64\",\"shape\":[127]},\"y\":{\"__ndarray__\":\"atJhxT3noD86zeIulnumv4z0eRTXgrC/wUml0KNKwT/X/74sxXidPyHGEh3AjaU/qzdC/VBF2b/Y8/aDDy6ov9K1TYarCtW/T4ZwkAR70D8QLy5/1j7Uv3OXCFgX/ag/Vol8K5Ctqz8/sSOT06eiP3drnPMZQNS/8RGPMx/Dh79JXyee3faBv3l7p+zVHao/YUPTGcG3sz+NhpY34EW8P2X0h5TiRLE/kGc7K1YZsr8T1NyUM0vMP1wqLtcsIaS/UKbEFrNokT9Pe9J6I5GmP09Kt1hYG3o//lRFZgF/nj9yZkihlK2kP3II52TYLKw/BJhT7iXX2b/fXtH9/PiQP0zwgF515aQ/M2B+UXo1tT/mLF3mhGnHvy+MK2K6ubW/UffRG6Lvm79A0c0krk+Ov6KKss4ENrA/961IYZjzpT/patKK+/6dvzdCzK/+nNS/BURe5dVEnr/AHQoDLDd2v4JtZ1UNhcO/w2Tw2y6Npb/Qoid6AOV9P36nLsnRa64/u6iXoGMQcL9pgREoAryAP+1RXnssZ64/cPjFKnwpYj+RgEYuhHmYP7RMXBptX7c/WGN/P/9OkL+d6S3TI619v3c8URIA16q/7XjqiixOpb8wFc9Qs2yfv3616ECtLZs/JztfQ4Matz9xOr4DJZ7Bv/YWiI4jhJk/u8r44vBJsT+5ub3w0n+4P2wc8quDLnA/OCXP12vmkT88HKxceceiP1iBCoTbe6Y/thb5JeMarD8c1so6pNG9P/CJyZude7C/WBYJGQUghb+oXEpDFqy1P9daueeXr7q/VlI8lOuhpL9kNx0jxn+7P5jimscq6a6/asLRi80/lb+zs885DmOwPwMJkqR/urA/kQK4/+S/sz9KpUO2Mey7P3LdIL7XuqW/mqJ1DrDcqz/73hs/IRy8P6JJkZJAomS/FA539YskSb9UUjHMr0eiP1WQjqRVBpE/zepRQDfjkT+Au84UY0Skv7vPB+SRxJu/NDCFR+cGsj9SaqT0606Pv8Sp7myGz6A/pPmLvagBnj/Lna9rlGCkP/UwBQdeLqc/Q7jujAZ9mL9+WiaDEeaUP31Vt8wh3rs/zHUWmex+pb8pepTaJBh7v1m3W+9A4oA/lvPfK+GGzD/KQLl7JVSgPw3anZyyw7I/m59sqmXQkb9S68y/MItyP3bMbnZMMpk/4Q3bLvuWrT/jn3Y9QJexP/usTCLxJnY/rM4P7GXFsr9SSrrc2watv0GoJMx0EKO/fPmLIenNkD+57sjEq3uZP0zDM/X/u5c/lcU6ircCqT/31evwX/KlP7B9o/SvZ66/5AnT8KIWiz+3mJyxr7PKv4KyMqsQl3e/TLLrj7Dlpb8=\",\"dtype\":\"float64\",\"shape\":[127]}},\"selected\":{\"id\":\"2074\",\"type\":\"Selection\"},\"selection_policy\":{\"id\":\"2073\",\"type\":\"UnionRenderers\"}},\"id\":\"1163\",\"type\":\"ColumnDataSource\"},{\"attributes\":{\"fill_color\":{\"field\":\"label\",\"transform\":{\"id\":\"1164\",\"type\":\"CategoricalColorMapper\"}},\"line_color\":{\"field\":\"label\",\"transform\":{\"id\":\"1164\",\"type\":\"CategoricalColorMapper\"}},\"x\":{\"field\":\"x\"},\"y\":{\"field\":\"y\"}},\"id\":\"1564\",\"type\":\"Circle\"},{\"attributes\":{\"fill_color\":{\"field\":\"label\",\"transform\":{\"id\":\"1164\",\"type\":\"CategoricalColorMapper\"}},\"line_color\":{\"field\":\"label\",\"transform\":{\"id\":\"1164\",\"type\":\"CategoricalColorMapper\"}},\"x\":{\"field\":\"x\"},\"y\":{\"field\":\"y\"}},\"id\":\"1666\",\"type\":\"Circle\"},{\"attributes\":{\"fill_color\":{\"field\":\"label\",\"transform\":{\"id\":\"1164\",\"type\":\"CategoricalColorMapper\"}},\"line_color\":{\"field\":\"label\",\"transform\":{\"id\":\"1164\",\"type\":\"CategoricalColorMapper\"}},\"x\":{\"field\":\"x\"},\"y\":{\"field\":\"y\"}},\"id\":\"1384\",\"type\":\"Circle\"},{\"attributes\":{\"filters\":[{\"id\":\"1567\",\"type\":\"GroupFilter\"}],\"source\":{\"id\":\"1163\",\"type\":\"ColumnDataSource\"}},\"id\":\"1568\",\"type\":\"CDSView\"},{\"attributes\":{\"column_name\":\"label\",\"group\":\"WGS_7142\"},\"id\":\"1903\",\"type\":\"GroupFilter\"},{\"attributes\":{\"fill_color\":{\"field\":\"label\",\"transform\":{\"id\":\"1164\",\"type\":\"CategoricalColorMapper\"}},\"line_color\":{\"field\":\"label\",\"transform\":{\"id\":\"1164\",\"type\":\"CategoricalColorMapper\"}},\"x\":{\"field\":\"x\"},\"y\":{\"field\":\"y\"}},\"id\":\"1594\",\"type\":\"Circle\"},{\"attributes\":{\"data_source\":{\"id\":\"1163\",\"type\":\"ColumnDataSource\"},\"glyph\":{\"id\":\"1594\",\"type\":\"Circle\"},\"hover_glyph\":null,\"muted_glyph\":null,\"nonselection_glyph\":{\"id\":\"1595\",\"type\":\"Circle\"},\"selection_glyph\":null,\"view\":{\"id\":\"1592\",\"type\":\"CDSView\"}},\"id\":\"1596\",\"type\":\"GlyphRenderer\"},{\"attributes\":{},\"id\":\"1153\",\"type\":\"HelpTool\"},{\"attributes\":{\"data_source\":{\"id\":\"1163\",\"type\":\"ColumnDataSource\"},\"glyph\":{\"id\":\"1894\",\"type\":\"Circle\"},\"hover_glyph\":null,\"muted_glyph\":null,\"nonselection_glyph\":{\"id\":\"1895\",\"type\":\"Circle\"},\"selection_glyph\":null,\"view\":{\"id\":\"1892\",\"type\":\"CDSView\"}},\"id\":\"1896\",\"type\":\"GlyphRenderer\"},{\"attributes\":{\"fill_color\":{\"field\":\"label\",\"transform\":{\"id\":\"1164\",\"type\":\"CategoricalColorMapper\"}},\"line_color\":{\"field\":\"label\",\"transform\":{\"id\":\"1164\",\"type\":\"CategoricalColorMapper\"}},\"x\":{\"field\":\"x\"},\"y\":{\"field\":\"y\"}},\"id\":\"1720\",\"type\":\"Circle\"},{\"attributes\":{\"filters\":[{\"id\":\"1855\",\"type\":\"GroupFilter\"}],\"source\":{\"id\":\"1163\",\"type\":\"ColumnDataSource\"}},\"id\":\"1856\",\"type\":\"CDSView\"},{\"attributes\":{},\"id\":\"1152\",\"type\":\"ResetTool\"},{\"attributes\":{\"column_name\":\"label\",\"group\":\"B491\"},\"id\":\"1573\",\"type\":\"GroupFilter\"},{\"attributes\":{\"column_name\":\"label\",\"group\":\"B508\"},\"id\":\"1669\",\"type\":\"GroupFilter\"},{\"attributes\":{\"data_source\":{\"id\":\"1163\",\"type\":\"ColumnDataSource\"},\"glyph\":{\"id\":\"1888\",\"type\":\"Circle\"},\"hover_glyph\":null,\"muted_glyph\":null,\"nonselection_glyph\":{\"id\":\"1889\",\"type\":\"Circle\"},\"selection_glyph\":null,\"view\":{\"id\":\"1886\",\"type\":\"CDSView\"}},\"id\":\"1890\",\"type\":\"GlyphRenderer\"},{\"attributes\":{\"fill_alpha\":{\"value\":0.1},\"fill_color\":{\"value\":\"#1f77b4\"},\"line_alpha\":{\"value\":0.1},\"line_color\":{\"value\":\"#1f77b4\"},\"x\":{\"field\":\"x\"},\"y\":{\"field\":\"y\"}},\"id\":\"1679\",\"type\":\"Circle\"},{\"attributes\":{\"filters\":[{\"id\":\"1723\",\"type\":\"GroupFilter\"}],\"source\":{\"id\":\"1163\",\"type\":\"ColumnDataSource\"}},\"id\":\"1724\",\"type\":\"CDSView\"},{\"attributes\":{\"data_source\":{\"id\":\"1163\",\"type\":\"ColumnDataSource\"},\"glyph\":{\"id\":\"1384\",\"type\":\"Circle\"},\"hover_glyph\":null,\"muted_glyph\":null,\"nonselection_glyph\":{\"id\":\"1385\",\"type\":\"Circle\"},\"selection_glyph\":null,\"view\":{\"id\":\"1382\",\"type\":\"CDSView\"}},\"id\":\"1386\",\"type\":\"GlyphRenderer\"},{\"attributes\":{\"column_name\":\"label\",\"group\":\"B490\"},\"id\":\"1567\",\"type\":\"GroupFilter\"},{\"attributes\":{\"data_source\":{\"id\":\"1163\",\"type\":\"ColumnDataSource\"},\"glyph\":{\"id\":\"1906\",\"type\":\"Circle\"},\"hover_glyph\":null,\"muted_glyph\":null,\"nonselection_glyph\":{\"id\":\"1907\",\"type\":\"Circle\"},\"selection_glyph\":null,\"view\":{\"id\":\"1904\",\"type\":\"CDSView\"}},\"id\":\"1908\",\"type\":\"GlyphRenderer\"},{\"attributes\":{\"fill_color\":{\"field\":\"label\",\"transform\":{\"id\":\"1164\",\"type\":\"CategoricalColorMapper\"}},\"line_color\":{\"field\":\"label\",\"transform\":{\"id\":\"1164\",\"type\":\"CategoricalColorMapper\"}},\"x\":{\"field\":\"x\"},\"y\":{\"field\":\"y\"}},\"id\":\"1576\",\"type\":\"Circle\"},{\"attributes\":{\"overlay\":{\"id\":\"2075\",\"type\":\"BoxAnnotation\"}},\"id\":\"1150\",\"type\":\"BoxZoomTool\"},{\"attributes\":{\"data_source\":{\"id\":\"1163\",\"type\":\"ColumnDataSource\"},\"glyph\":{\"id\":\"1660\",\"type\":\"Circle\"},\"hover_glyph\":null,\"muted_glyph\":null,\"nonselection_glyph\":{\"id\":\"1661\",\"type\":\"Circle\"},\"selection_glyph\":null,\"view\":{\"id\":\"1658\",\"type\":\"CDSView\"}},\"id\":\"1662\",\"type\":\"GlyphRenderer\"},{\"attributes\":{\"fill_color\":{\"field\":\"label\",\"transform\":{\"id\":\"1164\",\"type\":\"CategoricalColorMapper\"}},\"line_color\":{\"field\":\"label\",\"transform\":{\"id\":\"1164\",\"type\":\"CategoricalColorMapper\"}},\"x\":{\"field\":\"x\"},\"y\":{\"field\":\"y\"}},\"id\":\"1906\",\"type\":\"Circle\"},{\"attributes\":{\"column_name\":\"label\",\"group\":\"B527\"},\"id\":\"1723\",\"type\":\"GroupFilter\"},{\"attributes\":{\"filters\":[{\"id\":\"1381\",\"type\":\"GroupFilter\"}],\"source\":{\"id\":\"1163\",\"type\":\"ColumnDataSource\"}},\"id\":\"1382\",\"type\":\"CDSView\"},{\"attributes\":{},\"id\":\"1149\",\"type\":\"WheelZoomTool\"},{\"attributes\":{\"column_name\":\"label\",\"group\":\"WGS_37b\"},\"id\":\"1879\",\"type\":\"GroupFilter\"},{\"attributes\":{\"filters\":[{\"id\":\"1765\",\"type\":\"GroupFilter\"}],\"source\":{\"id\":\"1163\",\"type\":\"ColumnDataSource\"}},\"id\":\"1766\",\"type\":\"CDSView\"},{\"attributes\":{\"column_name\":\"label\",\"group\":\"B504\"},\"id\":\"1645\",\"type\":\"GroupFilter\"},{\"attributes\":{\"data_source\":{\"id\":\"1163\",\"type\":\"ColumnDataSource\"},\"glyph\":{\"id\":\"1882\",\"type\":\"Circle\"},\"hover_glyph\":null,\"muted_glyph\":null,\"nonselection_glyph\":{\"id\":\"1883\",\"type\":\"Circle\"},\"selection_glyph\":null,\"view\":{\"id\":\"1880\",\"type\":\"CDSView\"}},\"id\":\"1884\",\"type\":\"GlyphRenderer\"},{\"attributes\":{\"column_name\":\"label\",\"group\":\"B525\"},\"id\":\"1711\",\"type\":\"GroupFilter\"},{\"attributes\":{\"fill_color\":{\"field\":\"label\",\"transform\":{\"id\":\"1164\",\"type\":\"CategoricalColorMapper\"}},\"line_color\":{\"field\":\"label\",\"transform\":{\"id\":\"1164\",\"type\":\"CategoricalColorMapper\"}},\"x\":{\"field\":\"x\"},\"y\":{\"field\":\"y\"}},\"id\":\"1648\",\"type\":\"Circle\"},{\"attributes\":{\"fill_color\":{\"field\":\"label\",\"transform\":{\"id\":\"1164\",\"type\":\"CategoricalColorMapper\"}},\"line_color\":{\"field\":\"label\",\"transform\":{\"id\":\"1164\",\"type\":\"CategoricalColorMapper\"}},\"x\":{\"field\":\"x\"},\"y\":{\"field\":\"y\"}},\"id\":\"1660\",\"type\":\"Circle\"},{\"attributes\":{},\"id\":\"1148\",\"type\":\"PanTool\"},{\"attributes\":{\"active_drag\":\"auto\",\"active_inspect\":\"auto\",\"active_multi\":null,\"active_scroll\":\"auto\",\"active_tap\":\"auto\",\"tools\":[{\"id\":\"1148\",\"type\":\"PanTool\"},{\"id\":\"1149\",\"type\":\"WheelZoomTool\"},{\"id\":\"1150\",\"type\":\"BoxZoomTool\"},{\"id\":\"1151\",\"type\":\"SaveTool\"},{\"id\":\"1152\",\"type\":\"ResetTool\"},{\"id\":\"1153\",\"type\":\"HelpTool\"},{\"id\":\"1162\",\"type\":\"HoverTool\"}]},\"id\":\"1154\",\"type\":\"Toolbar\"},{\"attributes\":{\"fill_alpha\":{\"value\":0.1},\"fill_color\":{\"value\":\"#1f77b4\"},\"line_alpha\":{\"value\":0.1},\"line_color\":{\"value\":\"#1f77b4\"},\"x\":{\"field\":\"x\"},\"y\":{\"field\":\"y\"}},\"id\":\"1571\",\"type\":\"Circle\"},{\"attributes\":{\"fill_alpha\":{\"value\":0.1},\"fill_color\":{\"value\":\"#1f77b4\"},\"line_alpha\":{\"value\":0.1},\"line_color\":{\"value\":\"#1f77b4\"},\"x\":{\"field\":\"x\"},\"y\":{\"field\":\"y\"}},\"id\":\"1661\",\"type\":\"Circle\"},{\"attributes\":{\"data_source\":{\"id\":\"1163\",\"type\":\"ColumnDataSource\"},\"glyph\":{\"id\":\"1642\",\"type\":\"Circle\"},\"hover_glyph\":null,\"muted_glyph\":null,\"nonselection_glyph\":{\"id\":\"1643\",\"type\":\"Circle\"},\"selection_glyph\":null,\"view\":{\"id\":\"1640\",\"type\":\"CDSView\"}},\"id\":\"1644\",\"type\":\"GlyphRenderer\"},{\"attributes\":{\"fill_alpha\":{\"value\":0.1},\"fill_color\":{\"value\":\"#1f77b4\"},\"line_alpha\":{\"value\":0.1},\"line_color\":{\"value\":\"#1f77b4\"},\"x\":{\"field\":\"x\"},\"y\":{\"field\":\"y\"}},\"id\":\"1433\",\"type\":\"Circle\"},{\"attributes\":{\"fill_color\":{\"field\":\"label\",\"transform\":{\"id\":\"1164\",\"type\":\"CategoricalColorMapper\"}},\"line_color\":{\"field\":\"label\",\"transform\":{\"id\":\"1164\",\"type\":\"CategoricalColorMapper\"}},\"x\":{\"field\":\"x\"},\"y\":{\"field\":\"y\"}},\"id\":\"1876\",\"type\":\"Circle\"},{\"attributes\":{\"callback\":null,\"tooltips\":[[\"x\",\"@x\"],[\"y\",\"@y\"],[\"label\",\"@label\"]]},\"id\":\"1162\",\"type\":\"HoverTool\"},{\"attributes\":{\"fill_color\":{\"field\":\"label\",\"transform\":{\"id\":\"1164\",\"type\":\"CategoricalColorMapper\"}},\"line_color\":{\"field\":\"label\",\"transform\":{\"id\":\"1164\",\"type\":\"CategoricalColorMapper\"}},\"x\":{\"field\":\"x\"},\"y\":{\"field\":\"y\"}},\"id\":\"1888\",\"type\":\"Circle\"},{\"attributes\":{\"column_name\":\"label\",\"group\":\"B507\"},\"id\":\"1663\",\"type\":\"GroupFilter\"},{\"attributes\":{\"filters\":[{\"id\":\"1663\",\"type\":\"GroupFilter\"}],\"source\":{\"id\":\"1163\",\"type\":\"ColumnDataSource\"}},\"id\":\"1664\",\"type\":\"CDSView\"},{\"attributes\":{\"fill_color\":{\"field\":\"label\",\"transform\":{\"id\":\"1164\",\"type\":\"CategoricalColorMapper\"}},\"line_color\":{\"field\":\"label\",\"transform\":{\"id\":\"1164\",\"type\":\"CategoricalColorMapper\"}},\"x\":{\"field\":\"x\"},\"y\":{\"field\":\"y\"}},\"id\":\"1708\",\"type\":\"Circle\"},{\"attributes\":{\"column_name\":\"label\",\"group\":\"B506\"},\"id\":\"1657\",\"type\":\"GroupFilter\"},{\"attributes\":{\"fill_color\":{\"field\":\"label\",\"transform\":{\"id\":\"1164\",\"type\":\"CategoricalColorMapper\"}},\"line_color\":{\"field\":\"label\",\"transform\":{\"id\":\"1164\",\"type\":\"CategoricalColorMapper\"}},\"x\":{\"field\":\"x\"},\"y\":{\"field\":\"y\"}},\"id\":\"1654\",\"type\":\"Circle\"},{\"attributes\":{\"filters\":[{\"id\":\"1879\",\"type\":\"GroupFilter\"}],\"source\":{\"id\":\"1163\",\"type\":\"ColumnDataSource\"}},\"id\":\"1880\",\"type\":\"CDSView\"},{\"attributes\":{\"data_source\":{\"id\":\"1163\",\"type\":\"ColumnDataSource\"},\"glyph\":{\"id\":\"1564\",\"type\":\"Circle\"},\"hover_glyph\":null,\"muted_glyph\":null,\"nonselection_glyph\":{\"id\":\"1565\",\"type\":\"Circle\"},\"selection_glyph\":null,\"view\":{\"id\":\"1562\",\"type\":\"CDSView\"}},\"id\":\"1566\",\"type\":\"GlyphRenderer\"},{\"attributes\":{\"data_source\":{\"id\":\"1163\",\"type\":\"ColumnDataSource\"},\"glyph\":{\"id\":\"1672\",\"type\":\"Circle\"},\"hover_glyph\":null,\"muted_glyph\":null,\"nonselection_glyph\":{\"id\":\"1673\",\"type\":\"Circle\"},\"selection_glyph\":null,\"view\":{\"id\":\"1670\",\"type\":\"CDSView\"}},\"id\":\"1674\",\"type\":\"GlyphRenderer\"},{\"attributes\":{\"fill_color\":{\"field\":\"label\",\"transform\":{\"id\":\"1164\",\"type\":\"CategoricalColorMapper\"}},\"line_color\":{\"field\":\"label\",\"transform\":{\"id\":\"1164\",\"type\":\"CategoricalColorMapper\"}},\"x\":{\"field\":\"x\"},\"y\":{\"field\":\"y\"}},\"id\":\"1900\",\"type\":\"Circle\"},{\"attributes\":{\"dimension\":1,\"ticker\":{\"id\":\"1144\",\"type\":\"BasicTicker\"}},\"id\":\"1147\",\"type\":\"Grid\"},{\"attributes\":{\"fill_alpha\":{\"value\":0.1},\"fill_color\":{\"value\":\"#1f77b4\"},\"line_alpha\":{\"value\":0.1},\"line_color\":{\"value\":\"#1f77b4\"},\"x\":{\"field\":\"x\"},\"y\":{\"field\":\"y\"}},\"id\":\"1655\",\"type\":\"Circle\"},{\"attributes\":{\"fill_color\":{\"field\":\"label\",\"transform\":{\"id\":\"1164\",\"type\":\"CategoricalColorMapper\"}},\"line_color\":{\"field\":\"label\",\"transform\":{\"id\":\"1164\",\"type\":\"CategoricalColorMapper\"}},\"x\":{\"field\":\"x\"},\"y\":{\"field\":\"y\"}},\"id\":\"1678\",\"type\":\"Circle\"},{\"attributes\":{\"data_source\":{\"id\":\"1163\",\"type\":\"ColumnDataSource\"},\"glyph\":{\"id\":\"1570\",\"type\":\"Circle\"},\"hover_glyph\":null,\"muted_glyph\":null,\"nonselection_glyph\":{\"id\":\"1571\",\"type\":\"Circle\"},\"selection_glyph\":null,\"view\":{\"id\":\"1568\",\"type\":\"CDSView\"}},\"id\":\"1572\",\"type\":\"GlyphRenderer\"},{\"attributes\":{\"filters\":[{\"id\":\"1717\",\"type\":\"GroupFilter\"}],\"source\":{\"id\":\"1163\",\"type\":\"ColumnDataSource\"}},\"id\":\"1718\",\"type\":\"CDSView\"},{\"attributes\":{\"fill_alpha\":{\"value\":0.1},\"fill_color\":{\"value\":\"#1f77b4\"},\"line_alpha\":{\"value\":0.1},\"line_color\":{\"value\":\"#1f77b4\"},\"x\":{\"field\":\"x\"},\"y\":{\"field\":\"y\"}},\"id\":\"1565\",\"type\":\"Circle\"},{\"attributes\":{\"filters\":[{\"id\":\"1711\",\"type\":\"GroupFilter\"}],\"source\":{\"id\":\"1163\",\"type\":\"ColumnDataSource\"}},\"id\":\"1712\",\"type\":\"CDSView\"},{\"attributes\":{\"fill_alpha\":{\"value\":0.1},\"fill_color\":{\"value\":\"#1f77b4\"},\"line_alpha\":{\"value\":0.1},\"line_color\":{\"value\":\"#1f77b4\"},\"x\":{\"field\":\"x\"},\"y\":{\"field\":\"y\"}},\"id\":\"1877\",\"type\":\"Circle\"},{\"attributes\":{\"fill_alpha\":{\"value\":0.1},\"fill_color\":{\"value\":\"#1f77b4\"},\"line_alpha\":{\"value\":0.1},\"line_color\":{\"value\":\"#1f77b4\"},\"x\":{\"field\":\"x\"},\"y\":{\"field\":\"y\"}},\"id\":\"1901\",\"type\":\"Circle\"},{\"attributes\":{\"fill_alpha\":{\"value\":0.1},\"fill_color\":{\"value\":\"#1f77b4\"},\"line_alpha\":{\"value\":0.1},\"line_color\":{\"value\":\"#1f77b4\"},\"x\":{\"field\":\"x\"},\"y\":{\"field\":\"y\"}},\"id\":\"1385\",\"type\":\"Circle\"},{\"attributes\":{},\"id\":\"1144\",\"type\":\"BasicTicker\"},{\"attributes\":{\"data_source\":{\"id\":\"1163\",\"type\":\"ColumnDataSource\"},\"glyph\":{\"id\":\"1576\",\"type\":\"Circle\"},\"hover_glyph\":null,\"muted_glyph\":null,\"nonselection_glyph\":{\"id\":\"1577\",\"type\":\"Circle\"},\"selection_glyph\":null,\"view\":{\"id\":\"1574\",\"type\":\"CDSView\"}},\"id\":\"1578\",\"type\":\"GlyphRenderer\"},{\"attributes\":{\"label\":{\"value\":\"B459\"},\"renderers\":[{\"id\":\"1398\",\"type\":\"GlyphRenderer\"}]},\"id\":\"1965\",\"type\":\"LegendItem\"},{\"attributes\":{\"data_source\":{\"id\":\"1163\",\"type\":\"ColumnDataSource\"},\"glyph\":{\"id\":\"1678\",\"type\":\"Circle\"},\"hover_glyph\":null,\"muted_glyph\":null,\"nonselection_glyph\":{\"id\":\"1679\",\"type\":\"Circle\"},\"selection_glyph\":null,\"view\":{\"id\":\"1676\",\"type\":\"CDSView\"}},\"id\":\"1680\",\"type\":\"GlyphRenderer\"},{\"attributes\":{\"fill_alpha\":{\"value\":0.1},\"fill_color\":{\"value\":\"#1f77b4\"},\"line_alpha\":{\"value\":0.1},\"line_color\":{\"value\":\"#1f77b4\"},\"x\":{\"field\":\"x\"},\"y\":{\"field\":\"y\"}},\"id\":\"1883\",\"type\":\"Circle\"},{\"attributes\":{\"filters\":[{\"id\":\"1903\",\"type\":\"GroupFilter\"}],\"source\":{\"id\":\"1163\",\"type\":\"ColumnDataSource\"}},\"id\":\"1904\",\"type\":\"CDSView\"},{\"attributes\":{\"label\":{\"value\":\"B467\"},\"renderers\":[{\"id\":\"1440\",\"type\":\"GlyphRenderer\"}]},\"id\":\"1972\",\"type\":\"LegendItem\"},{\"attributes\":{\"axis_label\":\"PC2\",\"formatter\":{\"id\":\"2069\",\"type\":\"BasicTickFormatter\"},\"ticker\":{\"id\":\"1144\",\"type\":\"BasicTicker\"}},\"id\":\"1143\",\"type\":\"LinearAxis\"},{\"attributes\":{\"filters\":[{\"id\":\"1573\",\"type\":\"GroupFilter\"}],\"source\":{\"id\":\"1163\",\"type\":\"ColumnDataSource\"}},\"id\":\"1574\",\"type\":\"CDSView\"},{\"attributes\":{\"ticker\":{\"id\":\"1139\",\"type\":\"BasicTicker\"}},\"id\":\"1142\",\"type\":\"Grid\"},{\"attributes\":{\"fill_alpha\":{\"value\":0.1},\"fill_color\":{\"value\":\"#1f77b4\"},\"line_alpha\":{\"value\":0.1},\"line_color\":{\"value\":\"#1f77b4\"},\"x\":{\"field\":\"x\"},\"y\":{\"field\":\"y\"}},\"id\":\"1709\",\"type\":\"Circle\"},{\"attributes\":{\"column_name\":\"label\",\"group\":\"B503\"},\"id\":\"1639\",\"type\":\"GroupFilter\"},{\"attributes\":{\"column_name\":\"label\",\"group\":\"B509\"},\"id\":\"1675\",\"type\":\"GroupFilter\"},{\"attributes\":{\"data_source\":{\"id\":\"1163\",\"type\":\"ColumnDataSource\"},\"glyph\":{\"id\":\"1654\",\"type\":\"Circle\"},\"hover_glyph\":null,\"muted_glyph\":null,\"nonselection_glyph\":{\"id\":\"1655\",\"type\":\"Circle\"},\"selection_glyph\":null,\"view\":{\"id\":\"1652\",\"type\":\"CDSView\"}},\"id\":\"1656\",\"type\":\"GlyphRenderer\"},{\"attributes\":{},\"id\":\"1139\",\"type\":\"BasicTicker\"},{\"attributes\":{\"label\":{\"value\":\"B458\"},\"renderers\":[{\"id\":\"1392\",\"type\":\"GlyphRenderer\"}]},\"id\":\"1964\",\"type\":\"LegendItem\"},{\"attributes\":{\"fill_alpha\":{\"value\":0.1},\"fill_color\":{\"value\":\"#1f77b4\"},\"line_alpha\":{\"value\":0.1},\"line_color\":{\"value\":\"#1f77b4\"},\"x\":{\"field\":\"x\"},\"y\":{\"field\":\"y\"}},\"id\":\"1715\",\"type\":\"Circle\"},{\"attributes\":{\"data_source\":{\"id\":\"1163\",\"type\":\"ColumnDataSource\"},\"glyph\":{\"id\":\"1876\",\"type\":\"Circle\"},\"hover_glyph\":null,\"muted_glyph\":null,\"nonselection_glyph\":{\"id\":\"1877\",\"type\":\"Circle\"},\"selection_glyph\":null,\"view\":{\"id\":\"1874\",\"type\":\"CDSView\"}},\"id\":\"1878\",\"type\":\"GlyphRenderer\"},{\"attributes\":{\"filters\":[{\"id\":\"1561\",\"type\":\"GroupFilter\"}],\"source\":{\"id\":\"1163\",\"type\":\"ColumnDataSource\"}},\"id\":\"1562\",\"type\":\"CDSView\"},{\"attributes\":{\"fill_color\":{\"field\":\"label\",\"transform\":{\"id\":\"1164\",\"type\":\"CategoricalColorMapper\"}},\"line_color\":{\"field\":\"label\",\"transform\":{\"id\":\"1164\",\"type\":\"CategoricalColorMapper\"}},\"x\":{\"field\":\"x\"},\"y\":{\"field\":\"y\"}},\"id\":\"1570\",\"type\":\"Circle\"},{\"attributes\":{\"fill_alpha\":{\"value\":0.1},\"fill_color\":{\"value\":\"#1f77b4\"},\"line_alpha\":{\"value\":0.1},\"line_color\":{\"value\":\"#1f77b4\"},\"x\":{\"field\":\"x\"},\"y\":{\"field\":\"y\"}},\"id\":\"1721\",\"type\":\"Circle\"},{\"attributes\":{\"filters\":[{\"id\":\"1645\",\"type\":\"GroupFilter\"}],\"source\":{\"id\":\"1163\",\"type\":\"ColumnDataSource\"}},\"id\":\"1646\",\"type\":\"CDSView\"},{\"attributes\":{\"filters\":[{\"id\":\"1897\",\"type\":\"GroupFilter\"}],\"source\":{\"id\":\"1163\",\"type\":\"ColumnDataSource\"}},\"id\":\"1898\",\"type\":\"CDSView\"},{\"attributes\":{\"column_name\":\"label\",\"group\":\"B526\"},\"id\":\"1717\",\"type\":\"GroupFilter\"},{\"attributes\":{\"data_source\":{\"id\":\"1163\",\"type\":\"ColumnDataSource\"},\"glyph\":{\"id\":\"1720\",\"type\":\"Circle\"},\"hover_glyph\":null,\"muted_glyph\":null,\"nonselection_glyph\":{\"id\":\"1721\",\"type\":\"Circle\"},\"selection_glyph\":null,\"view\":{\"id\":\"1718\",\"type\":\"CDSView\"}},\"id\":\"1722\",\"type\":\"GlyphRenderer\"},{\"attributes\":{\"fill_color\":{\"field\":\"label\",\"transform\":{\"id\":\"1164\",\"type\":\"CategoricalColorMapper\"}},\"line_color\":{\"field\":\"label\",\"transform\":{\"id\":\"1164\",\"type\":\"CategoricalColorMapper\"}},\"x\":{\"field\":\"x\"},\"y\":{\"field\":\"y\"}},\"id\":\"1882\",\"type\":\"Circle\"},{\"attributes\":{\"filters\":[{\"id\":\"1669\",\"type\":\"GroupFilter\"}],\"source\":{\"id\":\"1163\",\"type\":\"ColumnDataSource\"}},\"id\":\"1670\",\"type\":\"CDSView\"},{\"attributes\":{\"label\":{\"value\":\"B463\"},\"renderers\":[{\"id\":\"1416\",\"type\":\"GlyphRenderer\"}]},\"id\":\"1968\",\"type\":\"LegendItem\"},{\"attributes\":{\"column_name\":\"label\",\"group\":\"B458\"},\"id\":\"1387\",\"type\":\"GroupFilter\"},{\"attributes\":{\"filters\":[{\"id\":\"1657\",\"type\":\"GroupFilter\"}],\"source\":{\"id\":\"1163\",\"type\":\"ColumnDataSource\"}},\"id\":\"1658\",\"type\":\"CDSView\"},{\"attributes\":{\"column_name\":\"label\",\"group\":\"B505\"},\"id\":\"1651\",\"type\":\"GroupFilter\"},{\"attributes\":{\"data_source\":{\"id\":\"1163\",\"type\":\"ColumnDataSource\"},\"glyph\":{\"id\":\"1648\",\"type\":\"Circle\"},\"hover_glyph\":null,\"muted_glyph\":null,\"nonselection_glyph\":{\"id\":\"1649\",\"type\":\"Circle\"},\"selection_glyph\":null,\"view\":{\"id\":\"1646\",\"type\":\"CDSView\"}},\"id\":\"1650\",\"type\":\"GlyphRenderer\"},{\"attributes\":{\"fill_alpha\":{\"value\":0.1},\"fill_color\":{\"value\":\"#1f77b4\"},\"line_alpha\":{\"value\":0.1},\"line_color\":{\"value\":\"#1f77b4\"},\"x\":{\"field\":\"x\"},\"y\":{\"field\":\"y\"}},\"id\":\"1907\",\"type\":\"Circle\"},{\"attributes\":{\"fill_alpha\":{\"value\":0.1},\"fill_color\":{\"value\":\"#1f77b4\"},\"line_alpha\":{\"value\":0.1},\"line_color\":{\"value\":\"#1f77b4\"},\"x\":{\"field\":\"x\"},\"y\":{\"field\":\"y\"}},\"id\":\"1595\",\"type\":\"Circle\"},{\"attributes\":{\"fill_color\":{\"field\":\"label\",\"transform\":{\"id\":\"1164\",\"type\":\"CategoricalColorMapper\"}},\"line_color\":{\"field\":\"label\",\"transform\":{\"id\":\"1164\",\"type\":\"CategoricalColorMapper\"}},\"x\":{\"field\":\"x\"},\"y\":{\"field\":\"y\"}},\"id\":\"1672\",\"type\":\"Circle\"},{\"attributes\":{\"data_source\":{\"id\":\"1163\",\"type\":\"ColumnDataSource\"},\"glyph\":{\"id\":\"1702\",\"type\":\"Circle\"},\"hover_glyph\":null,\"muted_glyph\":null,\"nonselection_glyph\":{\"id\":\"1703\",\"type\":\"Circle\"},\"selection_glyph\":null,\"view\":{\"id\":\"1700\",\"type\":\"CDSView\"}},\"id\":\"1704\",\"type\":\"GlyphRenderer\"},{\"attributes\":{\"column_name\":\"label\",\"group\":\"B523\"},\"id\":\"1699\",\"type\":\"GroupFilter\"},{\"attributes\":{\"fill_alpha\":{\"value\":0.1},\"fill_color\":{\"value\":\"#1f77b4\"},\"line_alpha\":{\"value\":0.1},\"line_color\":{\"value\":\"#1f77b4\"},\"x\":{\"field\":\"x\"},\"y\":{\"field\":\"y\"}},\"id\":\"1703\",\"type\":\"Circle\"},{\"attributes\":{\"filters\":[{\"id\":\"1699\",\"type\":\"GroupFilter\"}],\"source\":{\"id\":\"1163\",\"type\":\"ColumnDataSource\"}},\"id\":\"1700\",\"type\":\"CDSView\"},{\"attributes\":{\"filters\":[{\"id\":\"1531\",\"type\":\"GroupFilter\"}],\"source\":{\"id\":\"1163\",\"type\":\"ColumnDataSource\"}},\"id\":\"1532\",\"type\":\"CDSView\"},{\"attributes\":{\"filters\":[{\"id\":\"1705\",\"type\":\"GroupFilter\"}],\"source\":{\"id\":\"1163\",\"type\":\"ColumnDataSource\"}},\"id\":\"1706\",\"type\":\"CDSView\"},{\"attributes\":{\"fill_color\":{\"field\":\"label\",\"transform\":{\"id\":\"1164\",\"type\":\"CategoricalColorMapper\"}},\"line_color\":{\"field\":\"label\",\"transform\":{\"id\":\"1164\",\"type\":\"CategoricalColorMapper\"}},\"x\":{\"field\":\"x\"},\"y\":{\"field\":\"y\"}},\"id\":\"1702\",\"type\":\"Circle\"},{\"attributes\":{\"column_name\":\"label\",\"group\":\"B444\"},\"id\":\"1315\",\"type\":\"GroupFilter\"},{\"attributes\":{\"filters\":[{\"id\":\"1813\",\"type\":\"GroupFilter\"}],\"source\":{\"id\":\"1163\",\"type\":\"ColumnDataSource\"}},\"id\":\"1814\",\"type\":\"CDSView\"},{\"attributes\":{\"data_source\":{\"id\":\"1163\",\"type\":\"ColumnDataSource\"},\"glyph\":{\"id\":\"1768\",\"type\":\"Circle\"},\"hover_glyph\":null,\"muted_glyph\":null,\"nonselection_glyph\":{\"id\":\"1769\",\"type\":\"Circle\"},\"selection_glyph\":null,\"view\":{\"id\":\"1766\",\"type\":\"CDSView\"}},\"id\":\"1770\",\"type\":\"GlyphRenderer\"},{\"attributes\":{\"fill_color\":{\"field\":\"label\",\"transform\":{\"id\":\"1164\",\"type\":\"CategoricalColorMapper\"}},\"line_color\":{\"field\":\"label\",\"transform\":{\"id\":\"1164\",\"type\":\"CategoricalColorMapper\"}},\"x\":{\"field\":\"x\"},\"y\":{\"field\":\"y\"}},\"id\":\"1816\",\"type\":\"Circle\"},{\"attributes\":{\"fill_alpha\":{\"value\":0.1},\"fill_color\":{\"value\":\"#1f77b4\"},\"line_alpha\":{\"value\":0.1},\"line_color\":{\"value\":\"#1f77b4\"},\"x\":{\"field\":\"x\"},\"y\":{\"field\":\"y\"}},\"id\":\"1817\",\"type\":\"Circle\"},{\"attributes\":{\"column_name\":\"label\",\"group\":\"B524\"},\"id\":\"1705\",\"type\":\"GroupFilter\"},{\"attributes\":{\"fill_alpha\":{\"value\":0.1},\"fill_color\":{\"value\":\"#1f77b4\"},\"line_alpha\":{\"value\":0.1},\"line_color\":{\"value\":\"#1f77b4\"},\"x\":{\"field\":\"x\"},\"y\":{\"field\":\"y\"}},\"id\":\"1451\",\"type\":\"Circle\"},{\"attributes\":{\"data_source\":{\"id\":\"1163\",\"type\":\"ColumnDataSource\"},\"glyph\":{\"id\":\"1312\",\"type\":\"Circle\"},\"hover_glyph\":null,\"muted_glyph\":null,\"nonselection_glyph\":{\"id\":\"1313\",\"type\":\"Circle\"},\"selection_glyph\":null,\"view\":{\"id\":\"1310\",\"type\":\"CDSView\"}},\"id\":\"1314\",\"type\":\"GlyphRenderer\"},{\"attributes\":{\"fill_color\":{\"field\":\"label\",\"transform\":{\"id\":\"1164\",\"type\":\"CategoricalColorMapper\"}},\"line_color\":{\"field\":\"label\",\"transform\":{\"id\":\"1164\",\"type\":\"CategoricalColorMapper\"}},\"x\":{\"field\":\"x\"},\"y\":{\"field\":\"y\"}},\"id\":\"1810\",\"type\":\"Circle\"},{\"attributes\":{\"filters\":[{\"id\":\"1849\",\"type\":\"GroupFilter\"}],\"source\":{\"id\":\"1163\",\"type\":\"ColumnDataSource\"}},\"id\":\"1850\",\"type\":\"CDSView\"},{\"attributes\":{\"column_name\":\"label\",\"group\":\"S_7227\"},\"id\":\"1813\",\"type\":\"GroupFilter\"},{\"attributes\":{\"column_name\":\"label\",\"group\":\"B483\"},\"id\":\"1531\",\"type\":\"GroupFilter\"},{\"attributes\":{\"column_name\":\"label\",\"group\":\"WGS_147c\"},\"id\":\"1849\",\"type\":\"GroupFilter\"},{\"attributes\":{\"filters\":[{\"id\":\"1807\",\"type\":\"GroupFilter\"}],\"source\":{\"id\":\"1163\",\"type\":\"ColumnDataSource\"}},\"id\":\"1808\",\"type\":\"CDSView\"},{\"attributes\":{\"fill_alpha\":{\"value\":0.1},\"fill_color\":{\"value\":\"#1f77b4\"},\"line_alpha\":{\"value\":0.1},\"line_color\":{\"value\":\"#1f77b4\"},\"x\":{\"field\":\"x\"},\"y\":{\"field\":\"y\"}},\"id\":\"1277\",\"type\":\"Circle\"},{\"attributes\":{\"data_source\":{\"id\":\"1163\",\"type\":\"ColumnDataSource\"},\"glyph\":{\"id\":\"1810\",\"type\":\"Circle\"},\"hover_glyph\":null,\"muted_glyph\":null,\"nonselection_glyph\":{\"id\":\"1811\",\"type\":\"Circle\"},\"selection_glyph\":null,\"view\":{\"id\":\"1808\",\"type\":\"CDSView\"}},\"id\":\"1812\",\"type\":\"GlyphRenderer\"},{\"attributes\":{\"fill_color\":{\"field\":\"label\",\"transform\":{\"id\":\"1164\",\"type\":\"CategoricalColorMapper\"}},\"line_color\":{\"field\":\"label\",\"transform\":{\"id\":\"1164\",\"type\":\"CategoricalColorMapper\"}},\"x\":{\"field\":\"x\"},\"y\":{\"field\":\"y\"}},\"id\":\"1276\",\"type\":\"Circle\"},{\"attributes\":{\"column_name\":\"label\",\"group\":\"S_7213\"},\"id\":\"1807\",\"type\":\"GroupFilter\"},{\"attributes\":{\"fill_alpha\":{\"value\":0.1},\"fill_color\":{\"value\":\"#1f77b4\"},\"line_alpha\":{\"value\":0.1},\"line_color\":{\"value\":\"#1f77b4\"},\"x\":{\"field\":\"x\"},\"y\":{\"field\":\"y\"}},\"id\":\"1313\",\"type\":\"Circle\"},{\"attributes\":{\"fill_alpha\":{\"value\":0.1},\"fill_color\":{\"value\":\"#1f77b4\"},\"line_alpha\":{\"value\":0.1},\"line_color\":{\"value\":\"#1f77b4\"},\"x\":{\"field\":\"x\"},\"y\":{\"field\":\"y\"}},\"id\":\"1811\",\"type\":\"Circle\"},{\"attributes\":{\"filters\":[{\"id\":\"1315\",\"type\":\"GroupFilter\"}],\"source\":{\"id\":\"1163\",\"type\":\"ColumnDataSource\"}},\"id\":\"1316\",\"type\":\"CDSView\"},{\"attributes\":{\"fill_color\":{\"field\":\"label\",\"transform\":{\"id\":\"1164\",\"type\":\"CategoricalColorMapper\"}},\"line_color\":{\"field\":\"label\",\"transform\":{\"id\":\"1164\",\"type\":\"CategoricalColorMapper\"}},\"x\":{\"field\":\"x\"},\"y\":{\"field\":\"y\"}},\"id\":\"1312\",\"type\":\"Circle\"},{\"attributes\":{\"label\":{\"value\":\"B448\"},\"renderers\":[{\"id\":\"1338\",\"type\":\"GlyphRenderer\"}]},\"id\":\"1955\",\"type\":\"LegendItem\"},{\"attributes\":{\"column_name\":\"label\",\"group\":\"B497\"},\"id\":\"1609\",\"type\":\"GroupFilter\"},{\"attributes\":{\"fill_color\":{\"field\":\"label\",\"transform\":{\"id\":\"1164\",\"type\":\"CategoricalColorMapper\"}},\"line_color\":{\"field\":\"label\",\"transform\":{\"id\":\"1164\",\"type\":\"CategoricalColorMapper\"}},\"x\":{\"field\":\"x\"},\"y\":{\"field\":\"y\"}},\"id\":\"1624\",\"type\":\"Circle\"},{\"attributes\":{\"label\":{\"value\":\"B450\"},\"renderers\":[{\"id\":\"1344\",\"type\":\"GlyphRenderer\"}]},\"id\":\"1956\",\"type\":\"LegendItem\"},{\"attributes\":{\"filters\":[{\"id\":\"1579\",\"type\":\"GroupFilter\"}],\"source\":{\"id\":\"1163\",\"type\":\"ColumnDataSource\"}},\"id\":\"1580\",\"type\":\"CDSView\"},{\"attributes\":{\"label\":{\"value\":\"B451\"},\"renderers\":[{\"id\":\"1350\",\"type\":\"GlyphRenderer\"}]},\"id\":\"1957\",\"type\":\"LegendItem\"},{\"attributes\":{\"data_source\":{\"id\":\"1163\",\"type\":\"ColumnDataSource\"},\"glyph\":{\"id\":\"1618\",\"type\":\"Circle\"},\"hover_glyph\":null,\"muted_glyph\":null,\"nonselection_glyph\":{\"id\":\"1619\",\"type\":\"Circle\"},\"selection_glyph\":null,\"view\":{\"id\":\"1616\",\"type\":\"CDSView\"}},\"id\":\"1620\",\"type\":\"GlyphRenderer\"},{\"attributes\":{\"fill_color\":{\"field\":\"label\",\"transform\":{\"id\":\"1164\",\"type\":\"CategoricalColorMapper\"}},\"line_color\":{\"field\":\"label\",\"transform\":{\"id\":\"1164\",\"type\":\"CategoricalColorMapper\"}},\"x\":{\"field\":\"x\"},\"y\":{\"field\":\"y\"}},\"id\":\"1606\",\"type\":\"Circle\"},{\"attributes\":{\"label\":{\"value\":\"B452\"},\"renderers\":[{\"id\":\"1356\",\"type\":\"GlyphRenderer\"}]},\"id\":\"1958\",\"type\":\"LegendItem\"},{\"attributes\":{\"data_source\":{\"id\":\"1163\",\"type\":\"ColumnDataSource\"},\"glyph\":{\"id\":\"1684\",\"type\":\"Circle\"},\"hover_glyph\":null,\"muted_glyph\":null,\"nonselection_glyph\":{\"id\":\"1685\",\"type\":\"Circle\"},\"selection_glyph\":null,\"view\":{\"id\":\"1682\",\"type\":\"CDSView\"}},\"id\":\"1686\",\"type\":\"GlyphRenderer\"},{\"attributes\":{\"fill_color\":{\"field\":\"label\",\"transform\":{\"id\":\"1164\",\"type\":\"CategoricalColorMapper\"}},\"line_color\":{\"field\":\"label\",\"transform\":{\"id\":\"1164\",\"type\":\"CategoricalColorMapper\"}},\"x\":{\"field\":\"x\"},\"y\":{\"field\":\"y\"}},\"id\":\"1630\",\"type\":\"Circle\"},{\"attributes\":{\"label\":{\"value\":\"B453\"},\"renderers\":[{\"id\":\"1362\",\"type\":\"GlyphRenderer\"}]},\"id\":\"1959\",\"type\":\"LegendItem\"},{\"attributes\":{\"data_source\":{\"id\":\"1163\",\"type\":\"ColumnDataSource\"},\"glyph\":{\"id\":\"1624\",\"type\":\"Circle\"},\"hover_glyph\":null,\"muted_glyph\":null,\"nonselection_glyph\":{\"id\":\"1625\",\"type\":\"Circle\"},\"selection_glyph\":null,\"view\":{\"id\":\"1622\",\"type\":\"CDSView\"}},\"id\":\"1626\",\"type\":\"GlyphRenderer\"},{\"attributes\":{\"fill_color\":{\"field\":\"label\",\"transform\":{\"id\":\"1164\",\"type\":\"CategoricalColorMapper\"}},\"line_color\":{\"field\":\"label\",\"transform\":{\"id\":\"1164\",\"type\":\"CategoricalColorMapper\"}},\"x\":{\"field\":\"x\"},\"y\":{\"field\":\"y\"}},\"id\":\"1582\",\"type\":\"Circle\"},{\"attributes\":{\"fill_alpha\":{\"value\":0.1},\"fill_color\":{\"value\":\"#1f77b4\"},\"line_alpha\":{\"value\":0.1},\"line_color\":{\"value\":\"#1f77b4\"},\"x\":{\"field\":\"x\"},\"y\":{\"field\":\"y\"}},\"id\":\"1637\",\"type\":\"Circle\"},{\"attributes\":{\"label\":{\"value\":\"B454\"},\"renderers\":[{\"id\":\"1368\",\"type\":\"GlyphRenderer\"}]},\"id\":\"1960\",\"type\":\"LegendItem\"},{\"attributes\":{\"fill_alpha\":{\"value\":0.1},\"fill_color\":{\"value\":\"#1f77b4\"},\"line_alpha\":{\"value\":0.1},\"line_color\":{\"value\":\"#1f77b4\"},\"x\":{\"field\":\"x\"},\"y\":{\"field\":\"y\"}},\"id\":\"1583\",\"type\":\"Circle\"},{\"attributes\":{\"column_name\":\"label\",\"group\":\"B499\"},\"id\":\"1621\",\"type\":\"GroupFilter\"},{\"attributes\":{\"filters\":[{\"id\":\"1633\",\"type\":\"GroupFilter\"}],\"source\":{\"id\":\"1163\",\"type\":\"ColumnDataSource\"}},\"id\":\"1634\",\"type\":\"CDSView\"},{\"attributes\":{\"label\":{\"value\":\"B455\"},\"renderers\":[{\"id\":\"1374\",\"type\":\"GlyphRenderer\"}]},\"id\":\"1961\",\"type\":\"LegendItem\"},{\"attributes\":{\"label\":{\"value\":\"B456\"},\"renderers\":[{\"id\":\"1380\",\"type\":\"GlyphRenderer\"}]},\"id\":\"1962\",\"type\":\"LegendItem\"},{\"attributes\":{\"filters\":[{\"id\":\"1621\",\"type\":\"GroupFilter\"}],\"source\":{\"id\":\"1163\",\"type\":\"ColumnDataSource\"}},\"id\":\"1622\",\"type\":\"CDSView\"},{\"attributes\":{\"label\":{\"value\":\"B457\"},\"renderers\":[{\"id\":\"1386\",\"type\":\"GlyphRenderer\"}]},\"id\":\"1963\",\"type\":\"LegendItem\"},{\"attributes\":{\"fill_alpha\":{\"value\":0.1},\"fill_color\":{\"value\":\"#1f77b4\"},\"line_alpha\":{\"value\":0.1},\"line_color\":{\"value\":\"#1f77b4\"},\"x\":{\"field\":\"x\"},\"y\":{\"field\":\"y\"}},\"id\":\"1619\",\"type\":\"Circle\"},{\"attributes\":{\"filters\":[{\"id\":\"1687\",\"type\":\"GroupFilter\"}],\"source\":{\"id\":\"1163\",\"type\":\"ColumnDataSource\"}},\"id\":\"1688\",\"type\":\"CDSView\"},{\"attributes\":{\"filters\":[{\"id\":\"1591\",\"type\":\"GroupFilter\"}],\"source\":{\"id\":\"1163\",\"type\":\"ColumnDataSource\"}},\"id\":\"1592\",\"type\":\"CDSView\"},{\"attributes\":{\"filters\":[{\"id\":\"1627\",\"type\":\"GroupFilter\"}],\"source\":{\"id\":\"1163\",\"type\":\"ColumnDataSource\"}},\"id\":\"1628\",\"type\":\"CDSView\"},{\"attributes\":{\"label\":{\"value\":\"B443\"},\"renderers\":[{\"id\":\"1314\",\"type\":\"GlyphRenderer\"}]},\"id\":\"1951\",\"type\":\"LegendItem\"},{\"attributes\":{\"fill_color\":{\"field\":\"label\",\"transform\":{\"id\":\"1164\",\"type\":\"CategoricalColorMapper\"}},\"line_color\":{\"field\":\"label\",\"transform\":{\"id\":\"1164\",\"type\":\"CategoricalColorMapper\"}},\"x\":{\"field\":\"x\"},\"y\":{\"field\":\"y\"}},\"id\":\"1588\",\"type\":\"Circle\"},{\"attributes\":{\"filters\":[{\"id\":\"1309\",\"type\":\"GroupFilter\"}],\"source\":{\"id\":\"1163\",\"type\":\"ColumnDataSource\"}},\"id\":\"1310\",\"type\":\"CDSView\"},{\"attributes\":{\"label\":{\"value\":\"B444\"},\"renderers\":[{\"id\":\"1320\",\"type\":\"GlyphRenderer\"}]},\"id\":\"1952\",\"type\":\"LegendItem\"},{\"attributes\":{\"data_source\":{\"id\":\"1163\",\"type\":\"ColumnDataSource\"},\"glyph\":{\"id\":\"1348\",\"type\":\"Circle\"},\"hover_glyph\":null,\"muted_glyph\":null,\"nonselection_glyph\":{\"id\":\"1349\",\"type\":\"Circle\"},\"selection_glyph\":null,\"view\":{\"id\":\"1346\",\"type\":\"CDSView\"}},\"id\":\"1350\",\"type\":\"GlyphRenderer\"},{\"attributes\":{\"fill_color\":{\"field\":\"label\",\"transform\":{\"id\":\"1164\",\"type\":\"CategoricalColorMapper\"}},\"line_color\":{\"field\":\"label\",\"transform\":{\"id\":\"1164\",\"type\":\"CategoricalColorMapper\"}},\"x\":{\"field\":\"x\"},\"y\":{\"field\":\"y\"}},\"id\":\"1684\",\"type\":\"Circle\"},{\"attributes\":{\"label\":{\"value\":\"B537\"},\"renderers\":[{\"id\":\"1788\",\"type\":\"GlyphRenderer\"}]},\"id\":\"2030\",\"type\":\"LegendItem\"},{\"attributes\":{\"data_source\":{\"id\":\"1163\",\"type\":\"ColumnDataSource\"},\"glyph\":{\"id\":\"1606\",\"type\":\"Circle\"},\"hover_glyph\":null,\"muted_glyph\":null,\"nonselection_glyph\":{\"id\":\"1607\",\"type\":\"Circle\"},\"selection_glyph\":null,\"view\":{\"id\":\"1604\",\"type\":\"CDSView\"}},\"id\":\"1608\",\"type\":\"GlyphRenderer\"},{\"attributes\":{\"fill_color\":{\"field\":\"label\",\"transform\":{\"id\":\"1164\",\"type\":\"CategoricalColorMapper\"}},\"line_color\":{\"field\":\"label\",\"transform\":{\"id\":\"1164\",\"type\":\"CategoricalColorMapper\"}},\"x\":{\"field\":\"x\"},\"y\":{\"field\":\"y\"}},\"id\":\"1636\",\"type\":\"Circle\"},{\"attributes\":{\"label\":{\"value\":\"B445\"},\"renderers\":[{\"id\":\"1326\",\"type\":\"GlyphRenderer\"}]},\"id\":\"1953\",\"type\":\"LegendItem\"},{\"attributes\":{\"fill_alpha\":{\"value\":0.1},\"fill_color\":{\"value\":\"#1f77b4\"},\"line_alpha\":{\"value\":0.1},\"line_color\":{\"value\":\"#1f77b4\"},\"x\":{\"field\":\"x\"},\"y\":{\"field\":\"y\"}},\"id\":\"1607\",\"type\":\"Circle\"},{\"attributes\":{\"label\":{\"value\":\"B469\"},\"renderers\":[{\"id\":\"1452\",\"type\":\"GlyphRenderer\"}]},\"id\":\"1974\",\"type\":\"LegendItem\"},{\"attributes\":{\"column_name\":\"label\",\"group\":\"B502\"},\"id\":\"1633\",\"type\":\"GroupFilter\"},{\"attributes\":{\"data_source\":{\"id\":\"1163\",\"type\":\"ColumnDataSource\"},\"glyph\":{\"id\":\"1630\",\"type\":\"Circle\"},\"hover_glyph\":null,\"muted_glyph\":null,\"nonselection_glyph\":{\"id\":\"1631\",\"type\":\"Circle\"},\"selection_glyph\":null,\"view\":{\"id\":\"1628\",\"type\":\"CDSView\"}},\"id\":\"1632\",\"type\":\"GlyphRenderer\"},{\"attributes\":{\"label\":{\"value\":\"B470\"},\"renderers\":[{\"id\":\"1458\",\"type\":\"GlyphRenderer\"}]},\"id\":\"1975\",\"type\":\"LegendItem\"},{\"attributes\":{\"filters\":[{\"id\":\"1771\",\"type\":\"GroupFilter\"}],\"source\":{\"id\":\"1163\",\"type\":\"ColumnDataSource\"}},\"id\":\"1772\",\"type\":\"CDSView\"},{\"attributes\":{\"fill_alpha\":{\"value\":0.1},\"fill_color\":{\"value\":\"#1f77b4\"},\"line_alpha\":{\"value\":0.1},\"line_color\":{\"value\":\"#1f77b4\"},\"x\":{\"field\":\"x\"},\"y\":{\"field\":\"y\"}},\"id\":\"1685\",\"type\":\"Circle\"},{\"attributes\":{\"filters\":[{\"id\":\"1585\",\"type\":\"GroupFilter\"}],\"source\":{\"id\":\"1163\",\"type\":\"ColumnDataSource\"}},\"id\":\"1586\",\"type\":\"CDSView\"},{\"attributes\":{\"label\":{\"value\":\"B446\"},\"renderers\":[{\"id\":\"1332\",\"type\":\"GlyphRenderer\"}]},\"id\":\"1954\",\"type\":\"LegendItem\"},{\"attributes\":{\"fill_alpha\":{\"value\":0.1},\"fill_color\":{\"value\":\"#1f77b4\"},\"line_alpha\":{\"value\":0.1},\"line_color\":{\"value\":\"#1f77b4\"},\"x\":{\"field\":\"x\"},\"y\":{\"field\":\"y\"}},\"id\":\"1625\",\"type\":\"Circle\"},{\"attributes\":{\"label\":{\"value\":\"B471\"},\"renderers\":[{\"id\":\"1464\",\"type\":\"GlyphRenderer\"}]},\"id\":\"1976\",\"type\":\"LegendItem\"},{\"attributes\":{\"label\":{\"value\":\"B472\"},\"renderers\":[{\"id\":\"1470\",\"type\":\"GlyphRenderer\"}]},\"id\":\"1977\",\"type\":\"LegendItem\"},{\"attributes\":{\"filters\":[{\"id\":\"1609\",\"type\":\"GroupFilter\"}],\"source\":{\"id\":\"1163\",\"type\":\"ColumnDataSource\"}},\"id\":\"1610\",\"type\":\"CDSView\"},{\"attributes\":{\"label\":{\"value\":\"B473\"},\"renderers\":[{\"id\":\"1476\",\"type\":\"GlyphRenderer\"}]},\"id\":\"1978\",\"type\":\"LegendItem\"},{\"attributes\":{\"column_name\":\"label\",\"group\":\"B492\"},\"id\":\"1579\",\"type\":\"GroupFilter\"},{\"attributes\":{\"label\":{\"value\":\"B474\"},\"renderers\":[{\"id\":\"1482\",\"type\":\"GlyphRenderer\"}]},\"id\":\"1979\",\"type\":\"LegendItem\"},{\"attributes\":{\"data_source\":{\"id\":\"1163\",\"type\":\"ColumnDataSource\"},\"glyph\":{\"id\":\"1582\",\"type\":\"Circle\"},\"hover_glyph\":null,\"muted_glyph\":null,\"nonselection_glyph\":{\"id\":\"1583\",\"type\":\"Circle\"},\"selection_glyph\":null,\"view\":{\"id\":\"1580\",\"type\":\"CDSView\"}},\"id\":\"1584\",\"type\":\"GlyphRenderer\"},{\"attributes\":{\"label\":{\"value\":\"B475\"},\"renderers\":[{\"id\":\"1488\",\"type\":\"GlyphRenderer\"}]},\"id\":\"1980\",\"type\":\"LegendItem\"},{\"attributes\":{\"fill_alpha\":{\"value\":0.1},\"fill_color\":{\"value\":\"#1f77b4\"},\"line_alpha\":{\"value\":0.1},\"line_color\":{\"value\":\"#1f77b4\"},\"x\":{\"field\":\"x\"},\"y\":{\"field\":\"y\"}},\"id\":\"1589\",\"type\":\"Circle\"},{\"attributes\":{\"data_source\":{\"id\":\"1163\",\"type\":\"ColumnDataSource\"},\"glyph\":{\"id\":\"1588\",\"type\":\"Circle\"},\"hover_glyph\":null,\"muted_glyph\":null,\"nonselection_glyph\":{\"id\":\"1589\",\"type\":\"Circle\"},\"selection_glyph\":null,\"view\":{\"id\":\"1586\",\"type\":\"CDSView\"}},\"id\":\"1590\",\"type\":\"GlyphRenderer\"},{\"attributes\":{\"label\":{\"value\":\"B476\"},\"renderers\":[{\"id\":\"1494\",\"type\":\"GlyphRenderer\"}]},\"id\":\"1981\",\"type\":\"LegendItem\"},{\"attributes\":{\"column_name\":\"label\",\"group\":\"B493\"},\"id\":\"1585\",\"type\":\"GroupFilter\"},{\"attributes\":{\"fill_alpha\":{\"value\":0.1},\"fill_color\":{\"value\":\"#1f77b4\"},\"line_alpha\":{\"value\":0.1},\"line_color\":{\"value\":\"#1f77b4\"},\"x\":{\"field\":\"x\"},\"y\":{\"field\":\"y\"}},\"id\":\"1631\",\"type\":\"Circle\"},{\"attributes\":{\"label\":{\"value\":\"B477\"},\"renderers\":[{\"id\":\"1500\",\"type\":\"GlyphRenderer\"}]},\"id\":\"1982\",\"type\":\"LegendItem\"},{\"attributes\":{\"column_name\":\"label\",\"group\":\"B501\"},\"id\":\"1627\",\"type\":\"GroupFilter\"},{\"attributes\":{\"label\":{\"value\":\"B478\"},\"renderers\":[{\"id\":\"1506\",\"type\":\"GlyphRenderer\"}]},\"id\":\"1983\",\"type\":\"LegendItem\"},{\"attributes\":{\"column_name\":\"label\",\"group\":\"B494\"},\"id\":\"1591\",\"type\":\"GroupFilter\"},{\"attributes\":{\"label\":{\"value\":\"B479\"},\"renderers\":[{\"id\":\"1512\",\"type\":\"GlyphRenderer\"}]},\"id\":\"1984\",\"type\":\"LegendItem\"},{\"attributes\":{\"filters\":[{\"id\":\"1537\",\"type\":\"GroupFilter\"}],\"source\":{\"id\":\"1163\",\"type\":\"ColumnDataSource\"}},\"id\":\"1538\",\"type\":\"CDSView\"},{\"attributes\":{\"label\":{\"value\":\"B482\"},\"renderers\":[{\"id\":\"1530\",\"type\":\"GlyphRenderer\"}]},\"id\":\"1987\",\"type\":\"LegendItem\"},{\"attributes\":{\"data_source\":{\"id\":\"1163\",\"type\":\"ColumnDataSource\"},\"glyph\":{\"id\":\"1198\",\"type\":\"Circle\"},\"hover_glyph\":null,\"muted_glyph\":null,\"nonselection_glyph\":{\"id\":\"1199\",\"type\":\"Circle\"},\"selection_glyph\":null,\"view\":{\"id\":\"1196\",\"type\":\"CDSView\"}},\"id\":\"1200\",\"type\":\"GlyphRenderer\"},{\"attributes\":{\"label\":{\"value\":\"B483\"},\"renderers\":[{\"id\":\"1536\",\"type\":\"GlyphRenderer\"}]},\"id\":\"1988\",\"type\":\"LegendItem\"},{\"attributes\":{\"column_name\":\"label\",\"group\":\"B485\"},\"id\":\"1537\",\"type\":\"GroupFilter\"},{\"attributes\":{\"data_source\":{\"id\":\"1163\",\"type\":\"ColumnDataSource\"},\"glyph\":{\"id\":\"1534\",\"type\":\"Circle\"},\"hover_glyph\":null,\"muted_glyph\":null,\"nonselection_glyph\":{\"id\":\"1535\",\"type\":\"Circle\"},\"selection_glyph\":null,\"view\":{\"id\":\"1532\",\"type\":\"CDSView\"}},\"id\":\"1536\",\"type\":\"GlyphRenderer\"},{\"attributes\":{\"fill_alpha\":{\"value\":0.1},\"fill_color\":{\"value\":\"#1f77b4\"},\"line_alpha\":{\"value\":0.1},\"line_color\":{\"value\":\"#1f77b4\"},\"x\":{\"field\":\"x\"},\"y\":{\"field\":\"y\"}},\"id\":\"1199\",\"type\":\"Circle\"},{\"attributes\":{\"fill_color\":{\"field\":\"label\",\"transform\":{\"id\":\"1164\",\"type\":\"CategoricalColorMapper\"}},\"line_color\":{\"field\":\"label\",\"transform\":{\"id\":\"1164\",\"type\":\"CategoricalColorMapper\"}},\"x\":{\"field\":\"x\"},\"y\":{\"field\":\"y\"}},\"id\":\"1198\",\"type\":\"Circle\"},{\"attributes\":{\"fill_alpha\":{\"value\":0.1},\"fill_color\":{\"value\":\"#1f77b4\"},\"line_alpha\":{\"value\":0.1},\"line_color\":{\"value\":\"#1f77b4\"},\"x\":{\"field\":\"x\"},\"y\":{\"field\":\"y\"}},\"id\":\"1523\",\"type\":\"Circle\"},{\"attributes\":{\"column_name\":\"label\",\"group\":\"B436\"},\"id\":\"1273\",\"type\":\"GroupFilter\"},{\"attributes\":{\"column_name\":\"label\",\"group\":\"494\"},\"id\":\"1195\",\"type\":\"GroupFilter\"},{\"attributes\":{\"filters\":[{\"id\":\"1195\",\"type\":\"GroupFilter\"}],\"source\":{\"id\":\"1163\",\"type\":\"ColumnDataSource\"}},\"id\":\"1196\",\"type\":\"CDSView\"},{\"attributes\":{\"label\":{\"value\":\"B485\"},\"renderers\":[{\"id\":\"1542\",\"type\":\"GlyphRenderer\"}]},\"id\":\"1989\",\"type\":\"LegendItem\"},{\"attributes\":{\"filters\":[{\"id\":\"1501\",\"type\":\"GroupFilter\"}],\"source\":{\"id\":\"1163\",\"type\":\"ColumnDataSource\"}},\"id\":\"1502\",\"type\":\"CDSView\"},{\"attributes\":{\"data_source\":{\"id\":\"1163\",\"type\":\"ColumnDataSource\"},\"glyph\":{\"id\":\"1192\",\"type\":\"Circle\"},\"hover_glyph\":null,\"muted_glyph\":null,\"nonselection_glyph\":{\"id\":\"1193\",\"type\":\"Circle\"},\"selection_glyph\":null,\"view\":{\"id\":\"1190\",\"type\":\"CDSView\"}},\"id\":\"1194\",\"type\":\"GlyphRenderer\"},{\"attributes\":{\"data_source\":{\"id\":\"1163\",\"type\":\"ColumnDataSource\"},\"glyph\":{\"id\":\"1522\",\"type\":\"Circle\"},\"hover_glyph\":null,\"muted_glyph\":null,\"nonselection_glyph\":{\"id\":\"1523\",\"type\":\"Circle\"},\"selection_glyph\":null,\"view\":{\"id\":\"1520\",\"type\":\"CDSView\"}},\"id\":\"1524\",\"type\":\"GlyphRenderer\"},{\"attributes\":{\"fill_alpha\":{\"value\":0.1},\"fill_color\":{\"value\":\"#1f77b4\"},\"line_alpha\":{\"value\":0.1},\"line_color\":{\"value\":\"#1f77b4\"},\"x\":{\"field\":\"x\"},\"y\":{\"field\":\"y\"}},\"id\":\"1601\",\"type\":\"Circle\"},{\"attributes\":{\"fill_alpha\":{\"value\":0.1},\"fill_color\":{\"value\":\"#1f77b4\"},\"line_alpha\":{\"value\":0.1},\"line_color\":{\"value\":\"#1f77b4\"},\"x\":{\"field\":\"x\"},\"y\":{\"field\":\"y\"}},\"id\":\"1193\",\"type\":\"Circle\"},{\"attributes\":{\"label\":{\"value\":\"B487\"},\"renderers\":[{\"id\":\"1554\",\"type\":\"GlyphRenderer\"}]},\"id\":\"1991\",\"type\":\"LegendItem\"},{\"attributes\":{\"column_name\":\"label\",\"group\":\"B477\"},\"id\":\"1495\",\"type\":\"GroupFilter\"},{\"attributes\":{\"label\":{\"value\":\"B81\"},\"renderers\":[{\"id\":\"1806\",\"type\":\"GlyphRenderer\"}]},\"id\":\"2033\",\"type\":\"LegendItem\"},{\"attributes\":{\"fill_color\":{\"field\":\"label\",\"transform\":{\"id\":\"1164\",\"type\":\"CategoricalColorMapper\"}},\"line_color\":{\"field\":\"label\",\"transform\":{\"id\":\"1164\",\"type\":\"CategoricalColorMapper\"}},\"x\":{\"field\":\"x\"},\"y\":{\"field\":\"y\"}},\"id\":\"1192\",\"type\":\"Circle\"},{\"attributes\":{\"label\":{\"value\":\"B539\"},\"renderers\":[{\"id\":\"1800\",\"type\":\"GlyphRenderer\"}]},\"id\":\"2032\",\"type\":\"LegendItem\"},{\"attributes\":{\"column_name\":\"label\",\"group\":\"B479\"},\"id\":\"1507\",\"type\":\"GroupFilter\"},{\"attributes\":{\"filters\":[{\"id\":\"1273\",\"type\":\"GroupFilter\"}],\"source\":{\"id\":\"1163\",\"type\":\"ColumnDataSource\"}},\"id\":\"1274\",\"type\":\"CDSView\"},{\"attributes\":{\"filters\":[{\"id\":\"1189\",\"type\":\"GroupFilter\"}],\"source\":{\"id\":\"1163\",\"type\":\"ColumnDataSource\"}},\"id\":\"1190\",\"type\":\"CDSView\"},{\"attributes\":{\"fill_alpha\":{\"value\":0.1},\"fill_color\":{\"value\":\"#1f77b4\"},\"line_alpha\":{\"value\":0.1},\"line_color\":{\"value\":\"#1f77b4\"},\"x\":{\"field\":\"x\"},\"y\":{\"field\":\"y\"}},\"id\":\"1535\",\"type\":\"Circle\"},{\"attributes\":{\"column_name\":\"label\",\"group\":\"492\"},\"id\":\"1189\",\"type\":\"GroupFilter\"},{\"attributes\":{\"label\":{\"value\":\"B489\"},\"renderers\":[{\"id\":\"1566\",\"type\":\"GlyphRenderer\"}]},\"id\":\"1993\",\"type\":\"LegendItem\"},{\"attributes\":{\"data_source\":{\"id\":\"1163\",\"type\":\"ColumnDataSource\"},\"glyph\":{\"id\":\"1186\",\"type\":\"Circle\"},\"hover_glyph\":null,\"muted_glyph\":null,\"nonselection_glyph\":{\"id\":\"1187\",\"type\":\"Circle\"},\"selection_glyph\":null,\"view\":{\"id\":\"1184\",\"type\":\"CDSView\"}},\"id\":\"1188\",\"type\":\"GlyphRenderer\"},{\"attributes\":{\"filters\":[{\"id\":\"1507\",\"type\":\"GroupFilter\"}],\"source\":{\"id\":\"1163\",\"type\":\"ColumnDataSource\"}},\"id\":\"1508\",\"type\":\"CDSView\"},{\"attributes\":{\"fill_alpha\":{\"value\":0.1},\"fill_color\":{\"value\":\"#1f77b4\"},\"line_alpha\":{\"value\":0.1},\"line_color\":{\"value\":\"#1f77b4\"},\"x\":{\"field\":\"x\"},\"y\":{\"field\":\"y\"}},\"id\":\"1187\",\"type\":\"Circle\"},{\"attributes\":{\"label\":{\"value\":\"B490\"},\"renderers\":[{\"id\":\"1572\",\"type\":\"GlyphRenderer\"}]},\"id\":\"1994\",\"type\":\"LegendItem\"},{\"attributes\":{\"fill_alpha\":{\"value\":0.1},\"fill_color\":{\"value\":\"#1f77b4\"},\"line_alpha\":{\"value\":0.1},\"line_color\":{\"value\":\"#1f77b4\"},\"x\":{\"field\":\"x\"},\"y\":{\"field\":\"y\"}},\"id\":\"1529\",\"type\":\"Circle\"},{\"attributes\":{\"fill_color\":{\"field\":\"label\",\"transform\":{\"id\":\"1164\",\"type\":\"CategoricalColorMapper\"}},\"line_color\":{\"field\":\"label\",\"transform\":{\"id\":\"1164\",\"type\":\"CategoricalColorMapper\"}},\"x\":{\"field\":\"x\"},\"y\":{\"field\":\"y\"}},\"id\":\"1186\",\"type\":\"Circle\"},{\"attributes\":{\"fill_color\":{\"field\":\"label\",\"transform\":{\"id\":\"1164\",\"type\":\"CategoricalColorMapper\"}},\"line_color\":{\"field\":\"label\",\"transform\":{\"id\":\"1164\",\"type\":\"CategoricalColorMapper\"}},\"x\":{\"field\":\"x\"},\"y\":{\"field\":\"y\"}},\"id\":\"1522\",\"type\":\"Circle\"},{\"attributes\":{\"data_source\":{\"id\":\"1163\",\"type\":\"ColumnDataSource\"},\"glyph\":{\"id\":\"1354\",\"type\":\"Circle\"},\"hover_glyph\":null,\"muted_glyph\":null,\"nonselection_glyph\":{\"id\":\"1355\",\"type\":\"Circle\"},\"selection_glyph\":null,\"view\":{\"id\":\"1352\",\"type\":\"CDSView\"}},\"id\":\"1356\",\"type\":\"GlyphRenderer\"},{\"attributes\":{\"label\":{\"value\":\"B491\"},\"renderers\":[{\"id\":\"1578\",\"type\":\"GlyphRenderer\"}]},\"id\":\"1995\",\"type\":\"LegendItem\"},{\"attributes\":{\"data_source\":{\"id\":\"1163\",\"type\":\"ColumnDataSource\"},\"glyph\":{\"id\":\"1600\",\"type\":\"Circle\"},\"hover_glyph\":null,\"muted_glyph\":null,\"nonselection_glyph\":{\"id\":\"1601\",\"type\":\"Circle\"},\"selection_glyph\":null,\"view\":{\"id\":\"1598\",\"type\":\"CDSView\"}},\"id\":\"1602\",\"type\":\"GlyphRenderer\"},{\"attributes\":{\"data_source\":{\"id\":\"1163\",\"type\":\"ColumnDataSource\"},\"glyph\":{\"id\":\"1504\",\"type\":\"Circle\"},\"hover_glyph\":null,\"muted_glyph\":null,\"nonselection_glyph\":{\"id\":\"1505\",\"type\":\"Circle\"},\"selection_glyph\":null,\"view\":{\"id\":\"1502\",\"type\":\"CDSView\"}},\"id\":\"1506\",\"type\":\"GlyphRenderer\"},{\"attributes\":{\"filters\":[{\"id\":\"1183\",\"type\":\"GroupFilter\"}],\"source\":{\"id\":\"1163\",\"type\":\"ColumnDataSource\"}},\"id\":\"1184\",\"type\":\"CDSView\"},{\"attributes\":{\"label\":{\"value\":\"B492\"},\"renderers\":[{\"id\":\"1584\",\"type\":\"GlyphRenderer\"}]},\"id\":\"1996\",\"type\":\"LegendItem\"},{\"attributes\":{\"column_name\":\"label\",\"group\":\"B482\"},\"id\":\"1525\",\"type\":\"GroupFilter\"},{\"attributes\":{\"data_source\":{\"id\":\"1163\",\"type\":\"ColumnDataSource\"},\"glyph\":{\"id\":\"1492\",\"type\":\"Circle\"},\"hover_glyph\":null,\"muted_glyph\":null,\"nonselection_glyph\":{\"id\":\"1493\",\"type\":\"Circle\"},\"selection_glyph\":null,\"view\":{\"id\":\"1490\",\"type\":\"CDSView\"}},\"id\":\"1494\",\"type\":\"GlyphRenderer\"},{\"attributes\":{\"data_source\":{\"id\":\"1163\",\"type\":\"ColumnDataSource\"},\"glyph\":{\"id\":\"1612\",\"type\":\"Circle\"},\"hover_glyph\":null,\"muted_glyph\":null,\"nonselection_glyph\":{\"id\":\"1613\",\"type\":\"Circle\"},\"selection_glyph\":null,\"view\":{\"id\":\"1610\",\"type\":\"CDSView\"}},\"id\":\"1614\",\"type\":\"GlyphRenderer\"},{\"attributes\":{\"label\":{\"value\":\"B493\"},\"renderers\":[{\"id\":\"1590\",\"type\":\"GlyphRenderer\"}]},\"id\":\"1997\",\"type\":\"LegendItem\"},{\"attributes\":{\"data_source\":{\"id\":\"1163\",\"type\":\"ColumnDataSource\"},\"glyph\":{\"id\":\"1528\",\"type\":\"Circle\"},\"hover_glyph\":null,\"muted_glyph\":null,\"nonselection_glyph\":{\"id\":\"1529\",\"type\":\"Circle\"},\"selection_glyph\":null,\"view\":{\"id\":\"1526\",\"type\":\"CDSView\"}},\"id\":\"1530\",\"type\":\"GlyphRenderer\"},{\"attributes\":{\"label\":{\"value\":\"B494\"},\"renderers\":[{\"id\":\"1596\",\"type\":\"GlyphRenderer\"}]},\"id\":\"1998\",\"type\":\"LegendItem\"},{\"attributes\":{\"column_name\":\"label\",\"group\":\"490\"},\"id\":\"1183\",\"type\":\"GroupFilter\"},{\"attributes\":{\"fill_alpha\":{\"value\":0.1},\"fill_color\":{\"value\":\"#1f77b4\"},\"line_alpha\":{\"value\":0.1},\"line_color\":{\"value\":\"#1f77b4\"},\"x\":{\"field\":\"x\"},\"y\":{\"field\":\"y\"}},\"id\":\"1181\",\"type\":\"Circle\"},{\"attributes\":{\"fill_color\":{\"field\":\"label\",\"transform\":{\"id\":\"1164\",\"type\":\"CategoricalColorMapper\"}},\"line_color\":{\"field\":\"label\",\"transform\":{\"id\":\"1164\",\"type\":\"CategoricalColorMapper\"}},\"x\":{\"field\":\"x\"},\"y\":{\"field\":\"y\"}},\"id\":\"1504\",\"type\":\"Circle\"},{\"attributes\":{\"label\":{\"value\":\"B488\"},\"renderers\":[{\"id\":\"1560\",\"type\":\"GlyphRenderer\"}]},\"id\":\"1992\",\"type\":\"LegendItem\"},{\"attributes\":{\"fill_color\":{\"field\":\"label\",\"transform\":{\"id\":\"1164\",\"type\":\"CategoricalColorMapper\"}},\"line_color\":{\"field\":\"label\",\"transform\":{\"id\":\"1164\",\"type\":\"CategoricalColorMapper\"}},\"x\":{\"field\":\"x\"},\"y\":{\"field\":\"y\"}},\"id\":\"1180\",\"type\":\"Circle\"},{\"attributes\":{\"fill_alpha\":{\"value\":0.1},\"fill_color\":{\"value\":\"#1f77b4\"},\"line_alpha\":{\"value\":0.1},\"line_color\":{\"value\":\"#1f77b4\"},\"x\":{\"field\":\"x\"},\"y\":{\"field\":\"y\"}},\"id\":\"1505\",\"type\":\"Circle\"},{\"attributes\":{\"column_name\":\"label\",\"group\":\"B457\"},\"id\":\"1381\",\"type\":\"GroupFilter\"},{\"attributes\":{\"label\":{\"value\":\"B538\"},\"renderers\":[{\"id\":\"1794\",\"type\":\"GlyphRenderer\"}]},\"id\":\"2031\",\"type\":\"LegendItem\"},{\"attributes\":{\"label\":{\"value\":\"B486\"},\"renderers\":[{\"id\":\"1548\",\"type\":\"GlyphRenderer\"}]},\"id\":\"1990\",\"type\":\"LegendItem\"},{\"attributes\":{\"column_name\":\"label\",\"group\":\"B498\"},\"id\":\"1615\",\"type\":\"GroupFilter\"},{\"attributes\":{\"fill_color\":{\"field\":\"label\",\"transform\":{\"id\":\"1164\",\"type\":\"CategoricalColorMapper\"}},\"line_color\":{\"field\":\"label\",\"transform\":{\"id\":\"1164\",\"type\":\"CategoricalColorMapper\"}},\"x\":{\"field\":\"x\"},\"y\":{\"field\":\"y\"}},\"id\":\"1528\",\"type\":\"Circle\"},{\"attributes\":{\"filters\":[{\"id\":\"1177\",\"type\":\"GroupFilter\"}],\"source\":{\"id\":\"1163\",\"type\":\"ColumnDataSource\"}},\"id\":\"1178\",\"type\":\"CDSView\"},{\"attributes\":{\"column_name\":\"label\",\"group\":\"B478\"},\"id\":\"1501\",\"type\":\"GroupFilter\"},{\"attributes\":{\"fill_color\":{\"field\":\"label\",\"transform\":{\"id\":\"1164\",\"type\":\"CategoricalColorMapper\"}},\"line_color\":{\"field\":\"label\",\"transform\":{\"id\":\"1164\",\"type\":\"CategoricalColorMapper\"}},\"x\":{\"field\":\"x\"},\"y\":{\"field\":\"y\"}},\"id\":\"1618\",\"type\":\"Circle\"},{\"attributes\":{\"filters\":[{\"id\":\"1615\",\"type\":\"GroupFilter\"}],\"source\":{\"id\":\"1163\",\"type\":\"ColumnDataSource\"}},\"id\":\"1616\",\"type\":\"CDSView\"},{\"attributes\":{\"column_name\":\"label\",\"group\":\"479\"},\"id\":\"1177\",\"type\":\"GroupFilter\"},{\"attributes\":{\"fill_color\":{\"field\":\"label\",\"transform\":{\"id\":\"1164\",\"type\":\"CategoricalColorMapper\"}},\"line_color\":{\"field\":\"label\",\"transform\":{\"id\":\"1164\",\"type\":\"CategoricalColorMapper\"}},\"x\":{\"field\":\"x\"},\"y\":{\"field\":\"y\"}},\"id\":\"1498\",\"type\":\"Circle\"},{\"attributes\":{\"data_source\":{\"id\":\"1163\",\"type\":\"ColumnDataSource\"},\"glyph\":{\"id\":\"1378\",\"type\":\"Circle\"},\"hover_glyph\":null,\"muted_glyph\":null,\"nonselection_glyph\":{\"id\":\"1379\",\"type\":\"Circle\"},\"selection_glyph\":null,\"view\":{\"id\":\"1376\",\"type\":\"CDSView\"}},\"id\":\"1380\",\"type\":\"GlyphRenderer\"},{\"attributes\":{\"data_source\":{\"id\":\"1163\",\"type\":\"ColumnDataSource\"},\"glyph\":{\"id\":\"1174\",\"type\":\"Circle\"},\"hover_glyph\":null,\"muted_glyph\":null,\"nonselection_glyph\":{\"id\":\"1175\",\"type\":\"Circle\"},\"selection_glyph\":null,\"view\":{\"id\":\"1172\",\"type\":\"CDSView\"}},\"id\":\"1176\",\"type\":\"GlyphRenderer\"},{\"attributes\":{\"data_source\":{\"id\":\"1163\",\"type\":\"ColumnDataSource\"},\"glyph\":{\"id\":\"1498\",\"type\":\"Circle\"},\"hover_glyph\":null,\"muted_glyph\":null,\"nonselection_glyph\":{\"id\":\"1499\",\"type\":\"Circle\"},\"selection_glyph\":null,\"view\":{\"id\":\"1496\",\"type\":\"CDSView\"}},\"id\":\"1500\",\"type\":\"GlyphRenderer\"},{\"attributes\":{\"label\":{\"value\":\"B481\"},\"renderers\":[{\"id\":\"1524\",\"type\":\"GlyphRenderer\"}]},\"id\":\"1986\",\"type\":\"LegendItem\"},{\"attributes\":{\"fill_alpha\":{\"value\":0.1},\"fill_color\":{\"value\":\"#1f77b4\"},\"line_alpha\":{\"value\":0.1},\"line_color\":{\"value\":\"#1f77b4\"},\"x\":{\"field\":\"x\"},\"y\":{\"field\":\"y\"}},\"id\":\"1613\",\"type\":\"Circle\"},{\"attributes\":{\"fill_alpha\":{\"value\":0.1},\"fill_color\":{\"value\":\"#1f77b4\"},\"line_alpha\":{\"value\":0.1},\"line_color\":{\"value\":\"#1f77b4\"},\"x\":{\"field\":\"x\"},\"y\":{\"field\":\"y\"}},\"id\":\"1175\",\"type\":\"Circle\"},{\"attributes\":{\"filters\":[{\"id\":\"1525\",\"type\":\"GroupFilter\"}],\"source\":{\"id\":\"1163\",\"type\":\"ColumnDataSource\"}},\"id\":\"1526\",\"type\":\"CDSView\"},{\"attributes\":{\"fill_color\":{\"field\":\"label\",\"transform\":{\"id\":\"1164\",\"type\":\"CategoricalColorMapper\"}},\"line_color\":{\"field\":\"label\",\"transform\":{\"id\":\"1164\",\"type\":\"CategoricalColorMapper\"}},\"x\":{\"field\":\"x\"},\"y\":{\"field\":\"y\"}},\"id\":\"1510\",\"type\":\"Circle\"},{\"attributes\":{\"label\":{\"value\":\"B495\"},\"renderers\":[{\"id\":\"1602\",\"type\":\"GlyphRenderer\"}]},\"id\":\"1999\",\"type\":\"LegendItem\"},{\"attributes\":{\"fill_color\":{\"field\":\"label\",\"transform\":{\"id\":\"1164\",\"type\":\"CategoricalColorMapper\"}},\"line_color\":{\"field\":\"label\",\"transform\":{\"id\":\"1164\",\"type\":\"CategoricalColorMapper\"}},\"x\":{\"field\":\"x\"},\"y\":{\"field\":\"y\"}},\"id\":\"1534\",\"type\":\"Circle\"},{\"attributes\":{\"fill_alpha\":{\"value\":0.1},\"fill_color\":{\"value\":\"#1f77b4\"},\"line_alpha\":{\"value\":0.1},\"line_color\":{\"value\":\"#1f77b4\"},\"x\":{\"field\":\"x\"},\"y\":{\"field\":\"y\"}},\"id\":\"1499\",\"type\":\"Circle\"},{\"attributes\":{\"fill_color\":{\"field\":\"label\",\"transform\":{\"id\":\"1164\",\"type\":\"CategoricalColorMapper\"}},\"line_color\":{\"field\":\"label\",\"transform\":{\"id\":\"1164\",\"type\":\"CategoricalColorMapper\"}},\"x\":{\"field\":\"x\"},\"y\":{\"field\":\"y\"}},\"id\":\"1174\",\"type\":\"Circle\"},{\"attributes\":{\"column_name\":\"label\",\"group\":\"B518\"},\"id\":\"1687\",\"type\":\"GroupFilter\"},{\"attributes\":{\"data_source\":{\"id\":\"1163\",\"type\":\"ColumnDataSource\"},\"glyph\":{\"id\":\"1180\",\"type\":\"Circle\"},\"hover_glyph\":null,\"muted_glyph\":null,\"nonselection_glyph\":{\"id\":\"1181\",\"type\":\"Circle\"},\"selection_glyph\":null,\"view\":{\"id\":\"1178\",\"type\":\"CDSView\"}},\"id\":\"1182\",\"type\":\"GlyphRenderer\"},{\"attributes\":{\"filters\":[{\"id\":\"1495\",\"type\":\"GroupFilter\"}],\"source\":{\"id\":\"1163\",\"type\":\"ColumnDataSource\"}},\"id\":\"1496\",\"type\":\"CDSView\"},{\"attributes\":{\"factors\":[\"WGS_163b\",\"B470\",\"S_7246\",\"B534\",\"B496\",\"B427\",\"B505\",\"WGS_185c\",\"B499\",\"B436\",\"B480\",\"WGS_37b\",\"B515\",\"B467\",\"B442\",\"B533\",\"B445\",\"WGS_6819\",\"B338\",\"B156\",\"B435\",\"B493\",\"WGS_7153\",\"B498\",\"492\",\"B531\",\"B437\",\"B508\",\"B454\",\"B382\",\"B469\",\"468\",\"B459\",\"S_7254\",\"B448\",\"B482\",\"B486\",\"B494\",\"B461\",\"B485\",\"WGS_7120\",\"B475\",\"WGS_147c\",\"B481\",\"B487\",\"B483\",\"B102\",\"490\",\"B458\",\"B453\",\"S_7227\",\"B526\",\"479\",\"B468\",\"B509\",\"B524\",\"B457\",\"B488\",\"WGS_180b\",\"B24\",\"B523\",\"B450\",\"B491\",\"S_7274\",\"S_7241\",\"B501\",\"S_7307\",\"WGS_7142\",\"B527\",\"B433\",\"B522\",\"B465\",\"WGS_7143\",\"B477\",\"B502\",\"B518\",\"B462\",\"B471\",\"B538\",\"B507\",\"B536\",\"B535\",\"B525\",\"B530\",\"B455\",\"494\",\"B532\",\"B504\",\"B472\",\"B444\",\"B489\",\"B463\",\"B446\",\"B473\",\"B474\",\"B452\",\"462\",\"B441\",\"B528\",\"B439\",\"B443\",\"B476\",\"B506\",\"S_7213\",\"B537\",\"B503\",\"B431\",\"B478\",\"B466\",\"WGS_85b\",\"B430\",\"B399\",\"B81\",\"B438\",\"B529\",\"B495\",\"B479\",\"B497\",\"WGS_163d\",\"B464\",\"B492\",\"B456\",\"WGS_37c\",\"B432\",\"B539\",\"B451\",\"B490\"],\"palette\":[\"#440154\",\"#440357\",\"#45065A\",\"#46095C\",\"#460C5F\",\"#470F62\",\"#471265\",\"#471567\",\"#47186A\",\"#481A6C\",\"#481D6F\",\"#482071\",\"#482273\",\"#472575\",\"#472777\",\"#472A79\",\"#472C7B\",\"#462F7C\",\"#46317E\",\"#45347F\",\"#453681\",\"#443982\",\"#433B83\",\"#423D84\",\"#424085\",\"#414286\",\"#404487\",\"#3F4788\",\"#3E4989\",\"#3D4B89\",\"#3C4D8A\",\"#3B508A\",\"#3A528B\",\"#39548B\",\"#38568B\",\"#37588C\",\"#365A8C\",\"#355C8C\",\"#345E8D\",\"#33608D\",\"#32628D\",\"#31648D\",\"#30678D\",\"#2F698D\",\"#2E6B8E\",\"#2E6D8E\",\"#2D6F8E\",\"#2C718E\",\"#2B738E\",\"#2A758E\",\"#2A778E\",\"#29798E\",\"#287A8E\",\"#277C8E\",\"#277E8E\",\"#26808E\",\"#25828E\",\"#24848D\",\"#24868D\",\"#23888D\",\"#22898D\",\"#228B8D\",\"#218D8C\",\"#208F8C\",\"#20918C\",\"#1F938B\",\"#1F958B\",\"#1E978A\",\"#1E998A\",\"#1E9A89\",\"#1E9C89\",\"#1E9E88\",\"#1EA087\",\"#1FA286\",\"#20A485\",\"#21A685\",\"#22A784\",\"#23A982\",\"#25AB81\",\"#27AD80\",\"#29AF7F\",\"#2BB17D\",\"#2EB27C\",\"#30B47A\",\"#35B778\",\"#38B976\",\"#3BBA75\",\"#3EBC73\",\"#42BE71\",\"#45BF6F\",\"#49C16D\",\"#4DC26B\",\"#51C468\",\"#55C666\",\"#59C764\",\"#5EC961\",\"#62CA5F\",\"#67CC5C\",\"#6BCD59\",\"#70CE56\",\"#74D054\",\"#79D151\",\"#7ED24E\",\"#83D34B\",\"#88D547\",\"#8DD644\",\"#92D741\",\"#97D83E\",\"#9DD93A\",\"#A2DA37\",\"#A7DB33\",\"#ADDC30\",\"#B2DD2C\",\"#B7DD29\",\"#BDDE26\",\"#C2DF22\",\"#C7E01F\",\"#CDE01D\",\"#D2E11B\",\"#D7E219\",\"#DCE218\",\"#E1E318\",\"#E7E419\",\"#ECE41A\",\"#F1E51C\",\"#F6E61F\",\"#FDE724\"]},\"id\":\"1164\",\"type\":\"CategoricalColorMapper\"},{\"attributes\":{\"data_source\":{\"id\":\"1163\",\"type\":\"ColumnDataSource\"},\"glyph\":{\"id\":\"1804\",\"type\":\"Circle\"},\"hover_glyph\":null,\"muted_glyph\":null,\"nonselection_glyph\":{\"id\":\"1805\",\"type\":\"Circle\"},\"selection_glyph\":null,\"view\":{\"id\":\"1802\",\"type\":\"CDSView\"}},\"id\":\"1806\",\"type\":\"GlyphRenderer\"},{\"attributes\":{\"filters\":[{\"id\":\"1165\",\"type\":\"GroupFilter\"}],\"source\":{\"id\":\"1163\",\"type\":\"ColumnDataSource\"}},\"id\":\"1166\",\"type\":\"CDSView\"},{\"attributes\":{\"filters\":[{\"id\":\"1171\",\"type\":\"GroupFilter\"}],\"source\":{\"id\":\"1163\",\"type\":\"ColumnDataSource\"}},\"id\":\"1172\",\"type\":\"CDSView\"},{\"attributes\":{\"fill_color\":{\"field\":\"label\",\"transform\":{\"id\":\"1164\",\"type\":\"CategoricalColorMapper\"}},\"line_color\":{\"field\":\"label\",\"transform\":{\"id\":\"1164\",\"type\":\"CategoricalColorMapper\"}},\"x\":{\"field\":\"x\"},\"y\":{\"field\":\"y\"}},\"id\":\"1612\",\"type\":\"Circle\"},{\"attributes\":{\"label\":{\"value\":\"B496\"},\"renderers\":[{\"id\":\"1608\",\"type\":\"GlyphRenderer\"}]},\"id\":\"2000\",\"type\":\"LegendItem\"},{\"attributes\":{\"fill_color\":{\"field\":\"label\",\"transform\":{\"id\":\"1164\",\"type\":\"CategoricalColorMapper\"}},\"line_color\":{\"field\":\"label\",\"transform\":{\"id\":\"1164\",\"type\":\"CategoricalColorMapper\"}},\"x\":{\"field\":\"x\"},\"y\":{\"field\":\"y\"}},\"id\":\"1168\",\"type\":\"Circle\"},{\"attributes\":{\"fill_color\":{\"field\":\"label\",\"transform\":{\"id\":\"1164\",\"type\":\"CategoricalColorMapper\"}},\"line_color\":{\"field\":\"label\",\"transform\":{\"id\":\"1164\",\"type\":\"CategoricalColorMapper\"}},\"x\":{\"field\":\"x\"},\"y\":{\"field\":\"y\"}},\"id\":\"1840\",\"type\":\"Circle\"},{\"attributes\":{\"data_source\":{\"id\":\"1163\",\"type\":\"ColumnDataSource\"},\"glyph\":{\"id\":\"1402\",\"type\":\"Circle\"},\"hover_glyph\":null,\"muted_glyph\":null,\"nonselection_glyph\":{\"id\":\"1403\",\"type\":\"Circle\"},\"selection_glyph\":null,\"view\":{\"id\":\"1400\",\"type\":\"CDSView\"}},\"id\":\"1404\",\"type\":\"GlyphRenderer\"},{\"attributes\":{\"data_source\":{\"id\":\"1163\",\"type\":\"ColumnDataSource\"},\"glyph\":{\"id\":\"1864\",\"type\":\"Circle\"},\"hover_glyph\":null,\"muted_glyph\":null,\"nonselection_glyph\":{\"id\":\"1865\",\"type\":\"Circle\"},\"selection_glyph\":null,\"view\":{\"id\":\"1862\",\"type\":\"CDSView\"}},\"id\":\"1866\",\"type\":\"GlyphRenderer\"},{\"attributes\":{\"fill_alpha\":{\"value\":0.1},\"fill_color\":{\"value\":\"#1f77b4\"},\"line_alpha\":{\"value\":0.1},\"line_color\":{\"value\":\"#1f77b4\"},\"x\":{\"field\":\"x\"},\"y\":{\"field\":\"y\"}},\"id\":\"1427\",\"type\":\"Circle\"},{\"attributes\":{\"label\":{\"value\":\"B536\"},\"renderers\":[{\"id\":\"1782\",\"type\":\"GlyphRenderer\"}]},\"id\":\"2029\",\"type\":\"LegendItem\"},{\"attributes\":{\"data_source\":{\"id\":\"1163\",\"type\":\"ColumnDataSource\"},\"glyph\":{\"id\":\"1444\",\"type\":\"Circle\"},\"hover_glyph\":null,\"muted_glyph\":null,\"nonselection_glyph\":{\"id\":\"1445\",\"type\":\"Circle\"},\"selection_glyph\":null,\"view\":{\"id\":\"1442\",\"type\":\"CDSView\"}},\"id\":\"1446\",\"type\":\"GlyphRenderer\"},{\"attributes\":{\"label\":{\"value\":\"B468\"},\"renderers\":[{\"id\":\"1446\",\"type\":\"GlyphRenderer\"}]},\"id\":\"1973\",\"type\":\"LegendItem\"},{\"attributes\":{\"filters\":[{\"id\":\"1261\",\"type\":\"GroupFilter\"}],\"source\":{\"id\":\"1163\",\"type\":\"ColumnDataSource\"}},\"id\":\"1262\",\"type\":\"CDSView\"},{\"attributes\":{\"column_name\":\"label\",\"group\":\"WGS_180b\"},\"id\":\"1867\",\"type\":\"GroupFilter\"},{\"attributes\":{\"data_source\":{\"id\":\"1163\",\"type\":\"ColumnDataSource\"},\"glyph\":{\"id\":\"1870\",\"type\":\"Circle\"},\"hover_glyph\":null,\"muted_glyph\":null,\"nonselection_glyph\":{\"id\":\"1871\",\"type\":\"Circle\"},\"selection_glyph\":null,\"view\":{\"id\":\"1868\",\"type\":\"CDSView\"}},\"id\":\"1872\",\"type\":\"GlyphRenderer\"},{\"attributes\":{\"filters\":[{\"id\":\"1447\",\"type\":\"GroupFilter\"}],\"source\":{\"id\":\"1163\",\"type\":\"ColumnDataSource\"}},\"id\":\"1448\",\"type\":\"CDSView\"},{\"attributes\":{\"fill_color\":{\"field\":\"label\",\"transform\":{\"id\":\"1164\",\"type\":\"CategoricalColorMapper\"}},\"line_color\":{\"field\":\"label\",\"transform\":{\"id\":\"1164\",\"type\":\"CategoricalColorMapper\"}},\"x\":{\"field\":\"x\"},\"y\":{\"field\":\"y\"}},\"id\":\"1414\",\"type\":\"Circle\"},{\"attributes\":{\"filters\":[{\"id\":\"1405\",\"type\":\"GroupFilter\"}],\"source\":{\"id\":\"1163\",\"type\":\"ColumnDataSource\"}},\"id\":\"1406\",\"type\":\"CDSView\"},{\"attributes\":{\"column_name\":\"label\",\"group\":\"B433\"},\"id\":\"1261\",\"type\":\"GroupFilter\"},{\"attributes\":{\"column_name\":\"label\",\"group\":\"WGS_7153\"},\"id\":\"1915\",\"type\":\"GroupFilter\"},{\"attributes\":{\"label\":{\"value\":\"B498\"},\"renderers\":[{\"id\":\"1620\",\"type\":\"GlyphRenderer\"}]},\"id\":\"2002\",\"type\":\"LegendItem\"},{\"attributes\":{\"data_source\":{\"id\":\"1163\",\"type\":\"ColumnDataSource\"},\"glyph\":{\"id\":\"1258\",\"type\":\"Circle\"},\"hover_glyph\":null,\"muted_glyph\":null,\"nonselection_glyph\":{\"id\":\"1259\",\"type\":\"Circle\"},\"selection_glyph\":null,\"view\":{\"id\":\"1256\",\"type\":\"CDSView\"}},\"id\":\"1260\",\"type\":\"GlyphRenderer\"},{\"attributes\":{\"data_source\":{\"id\":\"1163\",\"type\":\"ColumnDataSource\"},\"glyph\":{\"id\":\"1432\",\"type\":\"Circle\"},\"hover_glyph\":null,\"muted_glyph\":null,\"nonselection_glyph\":{\"id\":\"1433\",\"type\":\"Circle\"},\"selection_glyph\":null,\"view\":{\"id\":\"1430\",\"type\":\"CDSView\"}},\"id\":\"1434\",\"type\":\"GlyphRenderer\"},{\"attributes\":{\"fill_alpha\":{\"value\":0.1},\"fill_color\":{\"value\":\"#1f77b4\"},\"line_alpha\":{\"value\":0.1},\"line_color\":{\"value\":\"#1f77b4\"},\"x\":{\"field\":\"x\"},\"y\":{\"field\":\"y\"}},\"id\":\"1409\",\"type\":\"Circle\"},{\"attributes\":{\"label\":{\"value\":\"B499\"},\"renderers\":[{\"id\":\"1626\",\"type\":\"GlyphRenderer\"}]},\"id\":\"2003\",\"type\":\"LegendItem\"},{\"attributes\":{\"column_name\":\"label\",\"group\":\"B81\"},\"id\":\"1801\",\"type\":\"GroupFilter\"},{\"attributes\":{\"fill_alpha\":{\"value\":0.1},\"fill_color\":{\"value\":\"#1f77b4\"},\"line_alpha\":{\"value\":0.1},\"line_color\":{\"value\":\"#1f77b4\"},\"x\":{\"field\":\"x\"},\"y\":{\"field\":\"y\"}},\"id\":\"1259\",\"type\":\"Circle\"},{\"attributes\":{\"fill_color\":{\"field\":\"label\",\"transform\":{\"id\":\"1164\",\"type\":\"CategoricalColorMapper\"}},\"line_color\":{\"field\":\"label\",\"transform\":{\"id\":\"1164\",\"type\":\"CategoricalColorMapper\"}},\"x\":{\"field\":\"x\"},\"y\":{\"field\":\"y\"}},\"id\":\"1450\",\"type\":\"Circle\"},{\"attributes\":{\"fill_alpha\":{\"value\":0.1},\"fill_color\":{\"value\":\"#1f77b4\"},\"line_alpha\":{\"value\":0.1},\"line_color\":{\"value\":\"#1f77b4\"},\"x\":{\"field\":\"x\"},\"y\":{\"field\":\"y\"}},\"id\":\"1421\",\"type\":\"Circle\"},{\"attributes\":{\"fill_alpha\":{\"value\":0.1},\"fill_color\":{\"value\":\"#1f77b4\"},\"line_alpha\":{\"value\":0.1},\"line_color\":{\"value\":\"#1f77b4\"},\"x\":{\"field\":\"x\"},\"y\":{\"field\":\"y\"}},\"id\":\"1925\",\"type\":\"Circle\"},{\"attributes\":{\"column_name\":\"label\",\"group\":\"B538\"},\"id\":\"1789\",\"type\":\"GroupFilter\"},{\"attributes\":{\"fill_color\":{\"field\":\"label\",\"transform\":{\"id\":\"1164\",\"type\":\"CategoricalColorMapper\"}},\"line_color\":{\"field\":\"label\",\"transform\":{\"id\":\"1164\",\"type\":\"CategoricalColorMapper\"}},\"x\":{\"field\":\"x\"},\"y\":{\"field\":\"y\"}},\"id\":\"1258\",\"type\":\"Circle\"},{\"attributes\":{\"fill_alpha\":{\"value\":0.1},\"fill_color\":{\"value\":\"#1f77b4\"},\"line_alpha\":{\"value\":0.1},\"line_color\":{\"value\":\"#1f77b4\"},\"x\":{\"field\":\"x\"},\"y\":{\"field\":\"y\"}},\"id\":\"1841\",\"type\":\"Circle\"},{\"attributes\":{\"filters\":[{\"id\":\"1921\",\"type\":\"GroupFilter\"}],\"source\":{\"id\":\"1163\",\"type\":\"ColumnDataSource\"}},\"id\":\"1922\",\"type\":\"CDSView\"},{\"attributes\":{\"data_source\":{\"id\":\"1163\",\"type\":\"ColumnDataSource\"},\"glyph\":{\"id\":\"1420\",\"type\":\"Circle\"},\"hover_glyph\":null,\"muted_glyph\":null,\"nonselection_glyph\":{\"id\":\"1421\",\"type\":\"Circle\"},\"selection_glyph\":null,\"view\":{\"id\":\"1418\",\"type\":\"CDSView\"}},\"id\":\"1422\",\"type\":\"GlyphRenderer\"},{\"attributes\":{\"filters\":[{\"id\":\"1357\",\"type\":\"GroupFilter\"}],\"source\":{\"id\":\"1163\",\"type\":\"ColumnDataSource\"}},\"id\":\"1358\",\"type\":\"CDSView\"},{\"attributes\":{\"fill_alpha\":{\"value\":0.1},\"fill_color\":{\"value\":\"#1f77b4\"},\"line_alpha\":{\"value\":0.1},\"line_color\":{\"value\":\"#1f77b4\"},\"x\":{\"field\":\"x\"},\"y\":{\"field\":\"y\"}},\"id\":\"1697\",\"type\":\"Circle\"},{\"attributes\":{\"filters\":[{\"id\":\"1795\",\"type\":\"GroupFilter\"}],\"source\":{\"id\":\"1163\",\"type\":\"ColumnDataSource\"}},\"id\":\"1796\",\"type\":\"CDSView\"},{\"attributes\":{\"fill_color\":{\"field\":\"label\",\"transform\":{\"id\":\"1164\",\"type\":\"CategoricalColorMapper\"}},\"line_color\":{\"field\":\"label\",\"transform\":{\"id\":\"1164\",\"type\":\"CategoricalColorMapper\"}},\"x\":{\"field\":\"x\"},\"y\":{\"field\":\"y\"}},\"id\":\"1870\",\"type\":\"Circle\"},{\"attributes\":{\"label\":{\"value\":\"B497\"},\"renderers\":[{\"id\":\"1614\",\"type\":\"GlyphRenderer\"}]},\"id\":\"2001\",\"type\":\"LegendItem\"},{\"attributes\":{\"data_source\":{\"id\":\"1163\",\"type\":\"ColumnDataSource\"},\"glyph\":{\"id\":\"1516\",\"type\":\"Circle\"},\"hover_glyph\":null,\"muted_glyph\":null,\"nonselection_glyph\":{\"id\":\"1517\",\"type\":\"Circle\"},\"selection_glyph\":null,\"view\":{\"id\":\"1514\",\"type\":\"CDSView\"}},\"id\":\"1518\",\"type\":\"GlyphRenderer\"},{\"attributes\":{\"filters\":[{\"id\":\"1255\",\"type\":\"GroupFilter\"}],\"source\":{\"id\":\"1163\",\"type\":\"ColumnDataSource\"}},\"id\":\"1256\",\"type\":\"CDSView\"},{\"attributes\":{\"fill_color\":{\"field\":\"label\",\"transform\":{\"id\":\"1164\",\"type\":\"CategoricalColorMapper\"}},\"line_color\":{\"field\":\"label\",\"transform\":{\"id\":\"1164\",\"type\":\"CategoricalColorMapper\"}},\"x\":{\"field\":\"x\"},\"y\":{\"field\":\"y\"}},\"id\":\"1804\",\"type\":\"Circle\"},{\"attributes\":{\"column_name\":\"label\",\"group\":\"S_7307\"},\"id\":\"1843\",\"type\":\"GroupFilter\"},{\"attributes\":{\"data_source\":{\"id\":\"1163\",\"type\":\"ColumnDataSource\"},\"glyph\":{\"id\":\"1798\",\"type\":\"Circle\"},\"hover_glyph\":null,\"muted_glyph\":null,\"nonselection_glyph\":{\"id\":\"1799\",\"type\":\"Circle\"},\"selection_glyph\":null,\"view\":{\"id\":\"1796\",\"type\":\"CDSView\"}},\"id\":\"1800\",\"type\":\"GlyphRenderer\"},{\"attributes\":{\"filters\":[{\"id\":\"1441\",\"type\":\"GroupFilter\"}],\"source\":{\"id\":\"1163\",\"type\":\"ColumnDataSource\"}},\"id\":\"1442\",\"type\":\"CDSView\"},{\"attributes\":{\"column_name\":\"label\",\"group\":\"B432\"},\"id\":\"1255\",\"type\":\"GroupFilter\"},{\"attributes\":{\"column_name\":\"label\",\"group\":\"B462\"},\"id\":\"1405\",\"type\":\"GroupFilter\"},{\"attributes\":{\"filters\":[{\"id\":\"1399\",\"type\":\"GroupFilter\"}],\"source\":{\"id\":\"1163\",\"type\":\"ColumnDataSource\"}},\"id\":\"1400\",\"type\":\"CDSView\"},{\"attributes\":{\"filters\":[{\"id\":\"1693\",\"type\":\"GroupFilter\"}],\"source\":{\"id\":\"1163\",\"type\":\"ColumnDataSource\"}},\"id\":\"1694\",\"type\":\"CDSView\"},{\"attributes\":{\"fill_color\":{\"field\":\"label\",\"transform\":{\"id\":\"1164\",\"type\":\"CategoricalColorMapper\"}},\"line_color\":{\"field\":\"label\",\"transform\":{\"id\":\"1164\",\"type\":\"CategoricalColorMapper\"}},\"x\":{\"field\":\"x\"},\"y\":{\"field\":\"y\"}},\"id\":\"1792\",\"type\":\"Circle\"},{\"attributes\":{\"data_source\":{\"id\":\"1163\",\"type\":\"ColumnDataSource\"},\"glyph\":{\"id\":\"1252\",\"type\":\"Circle\"},\"hover_glyph\":null,\"muted_glyph\":null,\"nonselection_glyph\":{\"id\":\"1253\",\"type\":\"Circle\"},\"selection_glyph\":null,\"view\":{\"id\":\"1250\",\"type\":\"CDSView\"}},\"id\":\"1254\",\"type\":\"GlyphRenderer\"},{\"attributes\":{\"fill_alpha\":{\"value\":0.1},\"fill_color\":{\"value\":\"#1f77b4\"},\"line_alpha\":{\"value\":0.1},\"line_color\":{\"value\":\"#1f77b4\"},\"x\":{\"field\":\"x\"},\"y\":{\"field\":\"y\"}},\"id\":\"1805\",\"type\":\"Circle\"},{\"attributes\":{\"filters\":[{\"id\":\"1837\",\"type\":\"GroupFilter\"}],\"source\":{\"id\":\"1163\",\"type\":\"ColumnDataSource\"}},\"id\":\"1838\",\"type\":\"CDSView\"},{\"attributes\":{\"label\":{\"value\":\"B501\"},\"renderers\":[{\"id\":\"1632\",\"type\":\"GlyphRenderer\"}]},\"id\":\"2004\",\"type\":\"LegendItem\"},{\"attributes\":{\"column_name\":\"label\",\"group\":\"B465\"},\"id\":\"1423\",\"type\":\"GroupFilter\"},{\"attributes\":{\"column_name\":\"label\",\"group\":\"WGS_7143\"},\"id\":\"1909\",\"type\":\"GroupFilter\"},{\"attributes\":{\"data_source\":{\"id\":\"1163\",\"type\":\"ColumnDataSource\"},\"glyph\":{\"id\":\"1240\",\"type\":\"Circle\"},\"hover_glyph\":null,\"muted_glyph\":null,\"nonselection_glyph\":{\"id\":\"1241\",\"type\":\"Circle\"},\"selection_glyph\":null,\"view\":{\"id\":\"1238\",\"type\":\"CDSView\"}},\"id\":\"1242\",\"type\":\"GlyphRenderer\"},{\"attributes\":{\"data_source\":{\"id\":\"1163\",\"type\":\"ColumnDataSource\"},\"glyph\":{\"id\":\"1840\",\"type\":\"Circle\"},\"hover_glyph\":null,\"muted_glyph\":null,\"nonselection_glyph\":{\"id\":\"1841\",\"type\":\"Circle\"},\"selection_glyph\":null,\"view\":{\"id\":\"1838\",\"type\":\"CDSView\"}},\"id\":\"1842\",\"type\":\"GlyphRenderer\"},{\"attributes\":{\"fill_color\":{\"field\":\"label\",\"transform\":{\"id\":\"1164\",\"type\":\"CategoricalColorMapper\"}},\"line_color\":{\"field\":\"label\",\"transform\":{\"id\":\"1164\",\"type\":\"CategoricalColorMapper\"}},\"x\":{\"field\":\"x\"},\"y\":{\"field\":\"y\"}},\"id\":\"1402\",\"type\":\"Circle\"},{\"attributes\":{\"fill_color\":{\"field\":\"label\",\"transform\":{\"id\":\"1164\",\"type\":\"CategoricalColorMapper\"}},\"line_color\":{\"field\":\"label\",\"transform\":{\"id\":\"1164\",\"type\":\"CategoricalColorMapper\"}},\"x\":{\"field\":\"x\"},\"y\":{\"field\":\"y\"}},\"id\":\"1858\",\"type\":\"Circle\"},{\"attributes\":{\"column_name\":\"label\",\"group\":\"B535\"},\"id\":\"1771\",\"type\":\"GroupFilter\"},{\"attributes\":{\"filters\":[{\"id\":\"1249\",\"type\":\"GroupFilter\"}],\"source\":{\"id\":\"1163\",\"type\":\"ColumnDataSource\"}},\"id\":\"1250\",\"type\":\"CDSView\"},{\"attributes\":{\"fill_alpha\":{\"value\":0.1},\"fill_color\":{\"value\":\"#1f77b4\"},\"line_alpha\":{\"value\":0.1},\"line_color\":{\"value\":\"#1f77b4\"},\"x\":{\"field\":\"x\"},\"y\":{\"field\":\"y\"}},\"id\":\"1793\",\"type\":\"Circle\"},{\"attributes\":{\"column_name\":\"label\",\"group\":\"B469\"},\"id\":\"1447\",\"type\":\"GroupFilter\"},{\"attributes\":{\"fill_alpha\":{\"value\":0.1},\"fill_color\":{\"value\":\"#1f77b4\"},\"line_alpha\":{\"value\":0.1},\"line_color\":{\"value\":\"#1f77b4\"},\"x\":{\"field\":\"x\"},\"y\":{\"field\":\"y\"}},\"id\":\"1253\",\"type\":\"Circle\"},{\"attributes\":{\"filters\":[{\"id\":\"1417\",\"type\":\"GroupFilter\"}],\"source\":{\"id\":\"1163\",\"type\":\"ColumnDataSource\"}},\"id\":\"1418\",\"type\":\"CDSView\"},{\"attributes\":{\"fill_alpha\":{\"value\":0.1},\"fill_color\":{\"value\":\"#1f77b4\"},\"line_alpha\":{\"value\":0.1},\"line_color\":{\"value\":\"#1f77b4\"},\"x\":{\"field\":\"x\"},\"y\":{\"field\":\"y\"}},\"id\":\"1871\",\"type\":\"Circle\"},{\"attributes\":{\"fill_color\":{\"field\":\"label\",\"transform\":{\"id\":\"1164\",\"type\":\"CategoricalColorMapper\"}},\"line_color\":{\"field\":\"label\",\"transform\":{\"id\":\"1164\",\"type\":\"CategoricalColorMapper\"}},\"x\":{\"field\":\"x\"},\"y\":{\"field\":\"y\"}},\"id\":\"1918\",\"type\":\"Circle\"},{\"attributes\":{\"fill_color\":{\"field\":\"label\",\"transform\":{\"id\":\"1164\",\"type\":\"CategoricalColorMapper\"}},\"line_color\":{\"field\":\"label\",\"transform\":{\"id\":\"1164\",\"type\":\"CategoricalColorMapper\"}},\"x\":{\"field\":\"x\"},\"y\":{\"field\":\"y\"}},\"id\":\"1252\",\"type\":\"Circle\"},{\"attributes\":{\"fill_alpha\":{\"value\":0.1},\"fill_color\":{\"value\":\"#1f77b4\"},\"line_alpha\":{\"value\":0.1},\"line_color\":{\"value\":\"#1f77b4\"},\"x\":{\"field\":\"x\"},\"y\":{\"field\":\"y\"}},\"id\":\"1403\",\"type\":\"Circle\"},{\"attributes\":{\"data_source\":{\"id\":\"1163\",\"type\":\"ColumnDataSource\"},\"glyph\":{\"id\":\"1912\",\"type\":\"Circle\"},\"hover_glyph\":null,\"muted_glyph\":null,\"nonselection_glyph\":{\"id\":\"1913\",\"type\":\"Circle\"},\"selection_glyph\":null,\"view\":{\"id\":\"1910\",\"type\":\"CDSView\"}},\"id\":\"1914\",\"type\":\"GlyphRenderer\"},{\"attributes\":{\"fill_color\":{\"field\":\"label\",\"transform\":{\"id\":\"1164\",\"type\":\"CategoricalColorMapper\"}},\"line_color\":{\"field\":\"label\",\"transform\":{\"id\":\"1164\",\"type\":\"CategoricalColorMapper\"}},\"x\":{\"field\":\"x\"},\"y\":{\"field\":\"y\"}},\"id\":\"1264\",\"type\":\"Circle\"},{\"attributes\":{\"fill_color\":{\"field\":\"label\",\"transform\":{\"id\":\"1164\",\"type\":\"CategoricalColorMapper\"}},\"line_color\":{\"field\":\"label\",\"transform\":{\"id\":\"1164\",\"type\":\"CategoricalColorMapper\"}},\"x\":{\"field\":\"x\"},\"y\":{\"field\":\"y\"}},\"id\":\"1696\",\"type\":\"Circle\"},{\"attributes\":{\"fill_alpha\":{\"value\":0.1},\"fill_color\":{\"value\":\"#1f77b4\"},\"line_alpha\":{\"value\":0.1},\"line_color\":{\"value\":\"#1f77b4\"},\"x\":{\"field\":\"x\"},\"y\":{\"field\":\"y\"}},\"id\":\"1799\",\"type\":\"Circle\"},{\"attributes\":{\"column_name\":\"label\",\"group\":\"B431\"},\"id\":\"1249\",\"type\":\"GroupFilter\"},{\"attributes\":{\"column_name\":\"label\",\"group\":\"B463\"},\"id\":\"1411\",\"type\":\"GroupFilter\"},{\"attributes\":{\"label\":{\"value\":\"B534\"},\"renderers\":[{\"id\":\"1770\",\"type\":\"GlyphRenderer\"}]},\"id\":\"2027\",\"type\":\"LegendItem\"},{\"attributes\":{\"data_source\":{\"id\":\"1163\",\"type\":\"ColumnDataSource\"},\"glyph\":{\"id\":\"1246\",\"type\":\"Circle\"},\"hover_glyph\":null,\"muted_glyph\":null,\"nonselection_glyph\":{\"id\":\"1247\",\"type\":\"Circle\"},\"selection_glyph\":null,\"view\":{\"id\":\"1244\",\"type\":\"CDSView\"}},\"id\":\"1248\",\"type\":\"GlyphRenderer\"},{\"attributes\":{\"data_source\":{\"id\":\"1163\",\"type\":\"ColumnDataSource\"},\"glyph\":{\"id\":\"1408\",\"type\":\"Circle\"},\"hover_glyph\":null,\"muted_glyph\":null,\"nonselection_glyph\":{\"id\":\"1409\",\"type\":\"Circle\"},\"selection_glyph\":null,\"view\":{\"id\":\"1406\",\"type\":\"CDSView\"}},\"id\":\"1410\",\"type\":\"GlyphRenderer\"},{\"attributes\":{\"fill_alpha\":{\"value\":0.1},\"fill_color\":{\"value\":\"#1f77b4\"},\"line_alpha\":{\"value\":0.1},\"line_color\":{\"value\":\"#1f77b4\"},\"x\":{\"field\":\"x\"},\"y\":{\"field\":\"y\"}},\"id\":\"1379\",\"type\":\"Circle\"},{\"attributes\":{\"fill_alpha\":{\"value\":0.1},\"fill_color\":{\"value\":\"#1f77b4\"},\"line_alpha\":{\"value\":0.1},\"line_color\":{\"value\":\"#1f77b4\"},\"x\":{\"field\":\"x\"},\"y\":{\"field\":\"y\"}},\"id\":\"1247\",\"type\":\"Circle\"},{\"attributes\":{\"fill_alpha\":{\"value\":0.1},\"fill_color\":{\"value\":\"#1f77b4\"},\"line_alpha\":{\"value\":0.1},\"line_color\":{\"value\":\"#1f77b4\"},\"x\":{\"field\":\"x\"},\"y\":{\"field\":\"y\"}},\"id\":\"1913\",\"type\":\"Circle\"},{\"attributes\":{\"filters\":[{\"id\":\"1843\",\"type\":\"GroupFilter\"}],\"source\":{\"id\":\"1163\",\"type\":\"ColumnDataSource\"}},\"id\":\"1844\",\"type\":\"CDSView\"},{\"attributes\":{\"fill_color\":{\"field\":\"label\",\"transform\":{\"id\":\"1164\",\"type\":\"CategoricalColorMapper\"}},\"line_color\":{\"field\":\"label\",\"transform\":{\"id\":\"1164\",\"type\":\"CategoricalColorMapper\"}},\"x\":{\"field\":\"x\"},\"y\":{\"field\":\"y\"}},\"id\":\"1852\",\"type\":\"Circle\"},{\"attributes\":{\"fill_color\":{\"field\":\"label\",\"transform\":{\"id\":\"1164\",\"type\":\"CategoricalColorMapper\"}},\"line_color\":{\"field\":\"label\",\"transform\":{\"id\":\"1164\",\"type\":\"CategoricalColorMapper\"}},\"x\":{\"field\":\"x\"},\"y\":{\"field\":\"y\"}},\"id\":\"1246\",\"type\":\"Circle\"},{\"attributes\":{\"filters\":[{\"id\":\"1411\",\"type\":\"GroupFilter\"}],\"source\":{\"id\":\"1163\",\"type\":\"ColumnDataSource\"}},\"id\":\"1412\",\"type\":\"CDSView\"},{\"attributes\":{\"filters\":[{\"id\":\"1801\",\"type\":\"GroupFilter\"}],\"source\":{\"id\":\"1163\",\"type\":\"ColumnDataSource\"}},\"id\":\"1802\",\"type\":\"CDSView\"},{\"attributes\":{\"fill_color\":{\"field\":\"label\",\"transform\":{\"id\":\"1164\",\"type\":\"CategoricalColorMapper\"}},\"line_color\":{\"field\":\"label\",\"transform\":{\"id\":\"1164\",\"type\":\"CategoricalColorMapper\"}},\"x\":{\"field\":\"x\"},\"y\":{\"field\":\"y\"}},\"id\":\"1864\",\"type\":\"Circle\"},{\"attributes\":{\"data_source\":{\"id\":\"1163\",\"type\":\"ColumnDataSource\"},\"glyph\":{\"id\":\"1924\",\"type\":\"Circle\"},\"hover_glyph\":null,\"muted_glyph\":null,\"nonselection_glyph\":{\"id\":\"1925\",\"type\":\"Circle\"},\"selection_glyph\":null,\"view\":{\"id\":\"1922\",\"type\":\"CDSView\"}},\"id\":\"1926\",\"type\":\"GlyphRenderer\"},{\"attributes\":{\"fill_color\":{\"field\":\"label\",\"transform\":{\"id\":\"1164\",\"type\":\"CategoricalColorMapper\"}},\"line_color\":{\"field\":\"label\",\"transform\":{\"id\":\"1164\",\"type\":\"CategoricalColorMapper\"}},\"x\":{\"field\":\"x\"},\"y\":{\"field\":\"y\"}},\"id\":\"1378\",\"type\":\"Circle\"},{\"attributes\":{\"fill_alpha\":{\"value\":0.1},\"fill_color\":{\"value\":\"#1f77b4\"},\"line_alpha\":{\"value\":0.1},\"line_color\":{\"value\":\"#1f77b4\"},\"x\":{\"field\":\"x\"},\"y\":{\"field\":\"y\"}},\"id\":\"1865\",\"type\":\"Circle\"},{\"attributes\":{\"fill_alpha\":{\"value\":0.1},\"fill_color\":{\"value\":\"#1f77b4\"},\"line_alpha\":{\"value\":0.1},\"line_color\":{\"value\":\"#1f77b4\"},\"x\":{\"field\":\"x\"},\"y\":{\"field\":\"y\"}},\"id\":\"1265\",\"type\":\"Circle\"},{\"attributes\":{\"fill_color\":{\"field\":\"label\",\"transform\":{\"id\":\"1164\",\"type\":\"CategoricalColorMapper\"}},\"line_color\":{\"field\":\"label\",\"transform\":{\"id\":\"1164\",\"type\":\"CategoricalColorMapper\"}},\"x\":{\"field\":\"x\"},\"y\":{\"field\":\"y\"}},\"id\":\"1426\",\"type\":\"Circle\"},{\"attributes\":{\"label\":{\"value\":\"B466\"},\"renderers\":[{\"id\":\"1434\",\"type\":\"GlyphRenderer\"}]},\"id\":\"1971\",\"type\":\"LegendItem\"},{\"attributes\":{\"data_source\":{\"id\":\"1163\",\"type\":\"ColumnDataSource\"},\"glyph\":{\"id\":\"1276\",\"type\":\"Circle\"},\"hover_glyph\":null,\"muted_glyph\":null,\"nonselection_glyph\":{\"id\":\"1277\",\"type\":\"Circle\"},\"selection_glyph\":null,\"view\":{\"id\":\"1274\",\"type\":\"CDSView\"}},\"id\":\"1278\",\"type\":\"GlyphRenderer\"},{\"attributes\":{\"filters\":[{\"id\":\"1243\",\"type\":\"GroupFilter\"}],\"source\":{\"id\":\"1163\",\"type\":\"ColumnDataSource\"}},\"id\":\"1244\",\"type\":\"CDSView\"},{\"attributes\":{\"filters\":[{\"id\":\"1915\",\"type\":\"GroupFilter\"}],\"source\":{\"id\":\"1163\",\"type\":\"ColumnDataSource\"}},\"id\":\"1916\",\"type\":\"CDSView\"},{\"attributes\":{\"filters\":[{\"id\":\"1423\",\"type\":\"GroupFilter\"}],\"source\":{\"id\":\"1163\",\"type\":\"ColumnDataSource\"}},\"id\":\"1424\",\"type\":\"CDSView\"},{\"attributes\":{\"column_name\":\"label\",\"group\":\"B430\"},\"id\":\"1243\",\"type\":\"GroupFilter\"},{\"attributes\":{\"data_source\":{\"id\":\"1163\",\"type\":\"ColumnDataSource\"},\"glyph\":{\"id\":\"1792\",\"type\":\"Circle\"},\"hover_glyph\":null,\"muted_glyph\":null,\"nonselection_glyph\":{\"id\":\"1793\",\"type\":\"Circle\"},\"selection_glyph\":null,\"view\":{\"id\":\"1790\",\"type\":\"CDSView\"}},\"id\":\"1794\",\"type\":\"GlyphRenderer\"},{\"attributes\":{\"fill_color\":{\"field\":\"label\",\"transform\":{\"id\":\"1164\",\"type\":\"CategoricalColorMapper\"}},\"line_color\":{\"field\":\"label\",\"transform\":{\"id\":\"1164\",\"type\":\"CategoricalColorMapper\"}},\"x\":{\"field\":\"x\"},\"y\":{\"field\":\"y\"}},\"id\":\"1240\",\"type\":\"Circle\"},{\"attributes\":{\"filters\":[{\"id\":\"1861\",\"type\":\"GroupFilter\"}],\"source\":{\"id\":\"1163\",\"type\":\"ColumnDataSource\"}},\"id\":\"1862\",\"type\":\"CDSView\"},{\"attributes\":{\"data_source\":{\"id\":\"1163\",\"type\":\"ColumnDataSource\"},\"glyph\":{\"id\":\"1426\",\"type\":\"Circle\"},\"hover_glyph\":null,\"muted_glyph\":null,\"nonselection_glyph\":{\"id\":\"1427\",\"type\":\"Circle\"},\"selection_glyph\":null,\"view\":{\"id\":\"1424\",\"type\":\"CDSView\"}},\"id\":\"1428\",\"type\":\"GlyphRenderer\"},{\"attributes\":{\"fill_color\":{\"field\":\"label\",\"transform\":{\"id\":\"1164\",\"type\":\"CategoricalColorMapper\"}},\"line_color\":{\"field\":\"label\",\"transform\":{\"id\":\"1164\",\"type\":\"CategoricalColorMapper\"}},\"x\":{\"field\":\"x\"},\"y\":{\"field\":\"y\"}},\"id\":\"1420\",\"type\":\"Circle\"},{\"attributes\":{\"fill_alpha\":{\"value\":0.1},\"fill_color\":{\"value\":\"#1f77b4\"},\"line_alpha\":{\"value\":0.1},\"line_color\":{\"value\":\"#1f77b4\"},\"x\":{\"field\":\"x\"},\"y\":{\"field\":\"y\"}},\"id\":\"1859\",\"type\":\"Circle\"},{\"attributes\":{\"fill_alpha\":{\"value\":0.1},\"fill_color\":{\"value\":\"#1f77b4\"},\"line_alpha\":{\"value\":0.1},\"line_color\":{\"value\":\"#1f77b4\"},\"x\":{\"field\":\"x\"},\"y\":{\"field\":\"y\"}},\"id\":\"1241\",\"type\":\"Circle\"},{\"attributes\":{\"fill_alpha\":{\"value\":0.1},\"fill_color\":{\"value\":\"#1f77b4\"},\"line_alpha\":{\"value\":0.1},\"line_color\":{\"value\":\"#1f77b4\"},\"x\":{\"field\":\"x\"},\"y\":{\"field\":\"y\"}},\"id\":\"1229\",\"type\":\"Circle\"},{\"attributes\":{\"fill_alpha\":{\"value\":0.1},\"fill_color\":{\"value\":\"#1f77b4\"},\"line_alpha\":{\"value\":0.1},\"line_color\":{\"value\":\"#1f77b4\"},\"x\":{\"field\":\"x\"},\"y\":{\"field\":\"y\"}},\"id\":\"1853\",\"type\":\"Circle\"},{\"attributes\":{\"label\":{\"value\":\"B503\"},\"renderers\":[{\"id\":\"1644\",\"type\":\"GlyphRenderer\"}]},\"id\":\"2006\",\"type\":\"LegendItem\"},{\"attributes\":{\"fill_alpha\":{\"value\":0.1},\"fill_color\":{\"value\":\"#1f77b4\"},\"line_alpha\":{\"value\":0.1},\"line_color\":{\"value\":\"#1f77b4\"},\"x\":{\"field\":\"x\"},\"y\":{\"field\":\"y\"}},\"id\":\"1415\",\"type\":\"Circle\"},{\"attributes\":{\"fill_color\":{\"field\":\"label\",\"transform\":{\"id\":\"1164\",\"type\":\"CategoricalColorMapper\"}},\"line_color\":{\"field\":\"label\",\"transform\":{\"id\":\"1164\",\"type\":\"CategoricalColorMapper\"}},\"x\":{\"field\":\"x\"},\"y\":{\"field\":\"y\"}},\"id\":\"1798\",\"type\":\"Circle\"},{\"attributes\":{\"filters\":[{\"id\":\"1909\",\"type\":\"GroupFilter\"}],\"source\":{\"id\":\"1163\",\"type\":\"ColumnDataSource\"}},\"id\":\"1910\",\"type\":\"CDSView\"},{\"attributes\":{\"label\":{\"value\":\"B504\"},\"renderers\":[{\"id\":\"1650\",\"type\":\"GlyphRenderer\"}]},\"id\":\"2007\",\"type\":\"LegendItem\"},{\"attributes\":{\"data_source\":{\"id\":\"1163\",\"type\":\"ColumnDataSource\"},\"glyph\":{\"id\":\"1234\",\"type\":\"Circle\"},\"hover_glyph\":null,\"muted_glyph\":null,\"nonselection_glyph\":{\"id\":\"1235\",\"type\":\"Circle\"},\"selection_glyph\":null,\"view\":{\"id\":\"1232\",\"type\":\"CDSView\"}},\"id\":\"1236\",\"type\":\"GlyphRenderer\"},{\"attributes\":{\"data_source\":{\"id\":\"1163\",\"type\":\"ColumnDataSource\"},\"glyph\":{\"id\":\"1414\",\"type\":\"Circle\"},\"hover_glyph\":null,\"muted_glyph\":null,\"nonselection_glyph\":{\"id\":\"1415\",\"type\":\"Circle\"},\"selection_glyph\":null,\"view\":{\"id\":\"1412\",\"type\":\"CDSView\"}},\"id\":\"1416\",\"type\":\"GlyphRenderer\"},{\"attributes\":{\"label\":{\"value\":\"B502\"},\"renderers\":[{\"id\":\"1638\",\"type\":\"GlyphRenderer\"}]},\"id\":\"2005\",\"type\":\"LegendItem\"},{\"attributes\":{\"data_source\":{\"id\":\"1163\",\"type\":\"ColumnDataSource\"},\"glyph\":{\"id\":\"1264\",\"type\":\"Circle\"},\"hover_glyph\":null,\"muted_glyph\":null,\"nonselection_glyph\":{\"id\":\"1265\",\"type\":\"Circle\"},\"selection_glyph\":null,\"view\":{\"id\":\"1262\",\"type\":\"CDSView\"}},\"id\":\"1266\",\"type\":\"GlyphRenderer\"},{\"attributes\":{\"label\":{\"value\":\"B465\"},\"renderers\":[{\"id\":\"1428\",\"type\":\"GlyphRenderer\"}]},\"id\":\"1970\",\"type\":\"LegendItem\"},{\"attributes\":{\"filters\":[{\"id\":\"1237\",\"type\":\"GroupFilter\"}],\"source\":{\"id\":\"1163\",\"type\":\"ColumnDataSource\"}},\"id\":\"1238\",\"type\":\"CDSView\"},{\"attributes\":{\"fill_alpha\":{\"value\":0.1},\"fill_color\":{\"value\":\"#1f77b4\"},\"line_alpha\":{\"value\":0.1},\"line_color\":{\"value\":\"#1f77b4\"},\"x\":{\"field\":\"x\"},\"y\":{\"field\":\"y\"}},\"id\":\"1919\",\"type\":\"Circle\"},{\"attributes\":{\"column_name\":\"label\",\"group\":\"B522\"},\"id\":\"1693\",\"type\":\"GroupFilter\"},{\"attributes\":{\"fill_color\":{\"field\":\"label\",\"transform\":{\"id\":\"1164\",\"type\":\"CategoricalColorMapper\"}},\"line_color\":{\"field\":\"label\",\"transform\":{\"id\":\"1164\",\"type\":\"CategoricalColorMapper\"}},\"x\":{\"field\":\"x\"},\"y\":{\"field\":\"y\"}},\"id\":\"1444\",\"type\":\"Circle\"},{\"attributes\":{\"column_name\":\"label\",\"group\":\"WGS_185c\"},\"id\":\"1873\",\"type\":\"GroupFilter\"},{\"attributes\":{\"column_name\":\"label\",\"group\":\"B427\"},\"id\":\"1237\",\"type\":\"GroupFilter\"},{\"attributes\":{\"column_name\":\"label\",\"group\":\"B481\"},\"id\":\"1519\",\"type\":\"GroupFilter\"},{\"attributes\":{\"fill_alpha\":{\"value\":0.1},\"fill_color\":{\"value\":\"#1f77b4\"},\"line_alpha\":{\"value\":0.1},\"line_color\":{\"value\":\"#1f77b4\"},\"x\":{\"field\":\"x\"},\"y\":{\"field\":\"y\"}},\"id\":\"1235\",\"type\":\"Circle\"},{\"attributes\":{\"fill_color\":{\"field\":\"label\",\"transform\":{\"id\":\"1164\",\"type\":\"CategoricalColorMapper\"}},\"line_color\":{\"field\":\"label\",\"transform\":{\"id\":\"1164\",\"type\":\"CategoricalColorMapper\"}},\"x\":{\"field\":\"x\"},\"y\":{\"field\":\"y\"}},\"id\":\"1408\",\"type\":\"Circle\"},{\"attributes\":{\"column_name\":\"label\",\"group\":\"WGS_163d\"},\"id\":\"1861\",\"type\":\"GroupFilter\"},{\"attributes\":{\"data_source\":{\"id\":\"1163\",\"type\":\"ColumnDataSource\"},\"glyph\":{\"id\":\"1438\",\"type\":\"Circle\"},\"hover_glyph\":null,\"muted_glyph\":null,\"nonselection_glyph\":{\"id\":\"1439\",\"type\":\"Circle\"},\"selection_glyph\":null,\"view\":{\"id\":\"1436\",\"type\":\"CDSView\"}},\"id\":\"1440\",\"type\":\"GlyphRenderer\"},{\"attributes\":{\"column_name\":\"label\",\"group\":\"B464\"},\"id\":\"1417\",\"type\":\"GroupFilter\"},{\"attributes\":{\"data_source\":{\"id\":\"1163\",\"type\":\"ColumnDataSource\"},\"glyph\":{\"id\":\"1228\",\"type\":\"Circle\"},\"hover_glyph\":null,\"muted_glyph\":null,\"nonselection_glyph\":{\"id\":\"1229\",\"type\":\"Circle\"},\"selection_glyph\":null,\"view\":{\"id\":\"1226\",\"type\":\"CDSView\"}},\"id\":\"1230\",\"type\":\"GlyphRenderer\"},{\"attributes\":{\"data_source\":{\"id\":\"1163\",\"type\":\"ColumnDataSource\"},\"glyph\":{\"id\":\"1858\",\"type\":\"Circle\"},\"hover_glyph\":null,\"muted_glyph\":null,\"nonselection_glyph\":{\"id\":\"1859\",\"type\":\"Circle\"},\"selection_glyph\":null,\"view\":{\"id\":\"1856\",\"type\":\"CDSView\"}},\"id\":\"1860\",\"type\":\"GlyphRenderer\"},{\"attributes\":{\"fill_alpha\":{\"value\":0.1},\"fill_color\":{\"value\":\"#1f77b4\"},\"line_alpha\":{\"value\":0.1},\"line_color\":{\"value\":\"#1f77b4\"},\"x\":{\"field\":\"x\"},\"y\":{\"field\":\"y\"}},\"id\":\"1445\",\"type\":\"Circle\"},{\"attributes\":{\"filters\":[{\"id\":\"1429\",\"type\":\"GroupFilter\"}],\"source\":{\"id\":\"1163\",\"type\":\"ColumnDataSource\"}},\"id\":\"1430\",\"type\":\"CDSView\"},{\"attributes\":{\"filters\":[{\"id\":\"1675\",\"type\":\"GroupFilter\"}],\"source\":{\"id\":\"1163\",\"type\":\"ColumnDataSource\"}},\"id\":\"1676\",\"type\":\"CDSView\"},{\"attributes\":{\"fill_alpha\":{\"value\":0.1},\"fill_color\":{\"value\":\"#1f77b4\"},\"line_alpha\":{\"value\":0.1},\"line_color\":{\"value\":\"#1f77b4\"},\"x\":{\"field\":\"x\"},\"y\":{\"field\":\"y\"}},\"id\":\"1691\",\"type\":\"Circle\"},{\"attributes\":{\"column_name\":\"label\",\"group\":\"B399\"},\"id\":\"1231\",\"type\":\"GroupFilter\"},{\"attributes\":{\"filters\":[{\"id\":\"1867\",\"type\":\"GroupFilter\"}],\"source\":{\"id\":\"1163\",\"type\":\"ColumnDataSource\"}},\"id\":\"1868\",\"type\":\"CDSView\"},{\"attributes\":{\"column_name\":\"label\",\"group\":\"B466\"},\"id\":\"1429\",\"type\":\"GroupFilter\"},{\"attributes\":{\"column_name\":\"label\",\"group\":\"WGS_85b\"},\"id\":\"1921\",\"type\":\"GroupFilter\"},{\"attributes\":{\"fill_color\":{\"field\":\"label\",\"transform\":{\"id\":\"1164\",\"type\":\"CategoricalColorMapper\"}},\"line_color\":{\"field\":\"label\",\"transform\":{\"id\":\"1164\",\"type\":\"CategoricalColorMapper\"}},\"x\":{\"field\":\"x\"},\"y\":{\"field\":\"y\"}},\"id\":\"1234\",\"type\":\"Circle\"},{\"attributes\":{\"filters\":[{\"id\":\"1789\",\"type\":\"GroupFilter\"}],\"source\":{\"id\":\"1163\",\"type\":\"ColumnDataSource\"}},\"id\":\"1790\",\"type\":\"CDSView\"},{\"attributes\":{\"data_source\":{\"id\":\"1163\",\"type\":\"ColumnDataSource\"},\"glyph\":{\"id\":\"1690\",\"type\":\"Circle\"},\"hover_glyph\":null,\"muted_glyph\":null,\"nonselection_glyph\":{\"id\":\"1691\",\"type\":\"Circle\"},\"selection_glyph\":null,\"view\":{\"id\":\"1688\",\"type\":\"CDSView\"}},\"id\":\"1692\",\"type\":\"GlyphRenderer\"},{\"attributes\":{\"fill_color\":{\"field\":\"label\",\"transform\":{\"id\":\"1164\",\"type\":\"CategoricalColorMapper\"}},\"line_color\":{\"field\":\"label\",\"transform\":{\"id\":\"1164\",\"type\":\"CategoricalColorMapper\"}},\"x\":{\"field\":\"x\"},\"y\":{\"field\":\"y\"}},\"id\":\"1924\",\"type\":\"Circle\"},{\"attributes\":{\"label\":{\"value\":\"B505\"},\"renderers\":[{\"id\":\"1656\",\"type\":\"GlyphRenderer\"}]},\"id\":\"2008\",\"type\":\"LegendItem\"},{\"attributes\":{\"column_name\":\"label\",\"group\":\"B435\"},\"id\":\"1267\",\"type\":\"GroupFilter\"},{\"attributes\":{\"filters\":[{\"id\":\"1873\",\"type\":\"GroupFilter\"}],\"source\":{\"id\":\"1163\",\"type\":\"ColumnDataSource\"}},\"id\":\"1874\",\"type\":\"CDSView\"},{\"attributes\":{\"column_name\":\"label\",\"group\":\"B468\"},\"id\":\"1441\",\"type\":\"GroupFilter\"},{\"attributes\":{\"data_source\":{\"id\":\"1163\",\"type\":\"ColumnDataSource\"},\"glyph\":{\"id\":\"1918\",\"type\":\"Circle\"},\"hover_glyph\":null,\"muted_glyph\":null,\"nonselection_glyph\":{\"id\":\"1919\",\"type\":\"Circle\"},\"selection_glyph\":null,\"view\":{\"id\":\"1916\",\"type\":\"CDSView\"}},\"id\":\"1920\",\"type\":\"GlyphRenderer\"},{\"attributes\":{\"filters\":[{\"id\":\"1231\",\"type\":\"GroupFilter\"}],\"source\":{\"id\":\"1163\",\"type\":\"ColumnDataSource\"}},\"id\":\"1232\",\"type\":\"CDSView\"},{\"attributes\":{\"fill_color\":{\"field\":\"label\",\"transform\":{\"id\":\"1164\",\"type\":\"CategoricalColorMapper\"}},\"line_color\":{\"field\":\"label\",\"transform\":{\"id\":\"1164\",\"type\":\"CategoricalColorMapper\"}},\"x\":{\"field\":\"x\"},\"y\":{\"field\":\"y\"}},\"id\":\"1912\",\"type\":\"Circle\"},{\"attributes\":{\"column_name\":\"label\",\"group\":\"B539\"},\"id\":\"1795\",\"type\":\"GroupFilter\"},{\"attributes\":{\"column_name\":\"label\",\"group\":\"B472\"},\"id\":\"1465\",\"type\":\"GroupFilter\"},{\"attributes\":{\"column_name\":\"label\",\"group\":\"B480\"},\"id\":\"1513\",\"type\":\"GroupFilter\"},{\"attributes\":{\"label\":{\"value\":\"WGS_37b\"},\"renderers\":[{\"id\":\"1884\",\"type\":\"GlyphRenderer\"}]},\"id\":\"2046\",\"type\":\"LegendItem\"},{\"attributes\":{\"label\":{\"value\":\"WGS_37c\"},\"renderers\":[{\"id\":\"1890\",\"type\":\"GlyphRenderer\"}]},\"id\":\"2047\",\"type\":\"LegendItem\"},{\"attributes\":{\"column_name\":\"label\",\"group\":\"B445\"},\"id\":\"1321\",\"type\":\"GroupFilter\"},{\"attributes\":{\"fill_color\":{\"field\":\"label\",\"transform\":{\"id\":\"1164\",\"type\":\"CategoricalColorMapper\"}},\"line_color\":{\"field\":\"label\",\"transform\":{\"id\":\"1164\",\"type\":\"CategoricalColorMapper\"}},\"x\":{\"field\":\"x\"},\"y\":{\"field\":\"y\"}},\"id\":\"1468\",\"type\":\"Circle\"},{\"attributes\":{\"fill_color\":{\"field\":\"label\",\"transform\":{\"id\":\"1164\",\"type\":\"CategoricalColorMapper\"}},\"line_color\":{\"field\":\"label\",\"transform\":{\"id\":\"1164\",\"type\":\"CategoricalColorMapper\"}},\"x\":{\"field\":\"x\"},\"y\":{\"field\":\"y\"}},\"id\":\"1492\",\"type\":\"Circle\"},{\"attributes\":{\"filters\":[{\"id\":\"1327\",\"type\":\"GroupFilter\"}],\"source\":{\"id\":\"1163\",\"type\":\"ColumnDataSource\"}},\"id\":\"1328\",\"type\":\"CDSView\"},{\"attributes\":{\"fill_alpha\":{\"value\":0.1},\"fill_color\":{\"value\":\"#1f77b4\"},\"line_alpha\":{\"value\":0.1},\"line_color\":{\"value\":\"#1f77b4\"},\"x\":{\"field\":\"x\"},\"y\":{\"field\":\"y\"}},\"id\":\"1481\",\"type\":\"Circle\"},{\"attributes\":{\"fill_alpha\":{\"value\":0.1},\"fill_color\":{\"value\":\"#1f77b4\"},\"line_alpha\":{\"value\":0.1},\"line_color\":{\"value\":\"#1f77b4\"},\"x\":{\"field\":\"x\"},\"y\":{\"field\":\"y\"}},\"id\":\"1829\",\"type\":\"Circle\"},{\"attributes\":{\"label\":{\"value\":\"B464\"},\"renderers\":[{\"id\":\"1422\",\"type\":\"GlyphRenderer\"}]},\"id\":\"1969\",\"type\":\"LegendItem\"},{\"attributes\":{\"label\":{\"value\":\"WGS_6819\"},\"renderers\":[{\"id\":\"1896\",\"type\":\"GlyphRenderer\"}]},\"id\":\"2048\",\"type\":\"LegendItem\"},{\"attributes\":{\"label\":{\"value\":\"WGS_7120\"},\"renderers\":[{\"id\":\"1902\",\"type\":\"GlyphRenderer\"}]},\"id\":\"2049\",\"type\":\"LegendItem\"},{\"attributes\":{\"column_name\":\"label\",\"group\":\"B473\"},\"id\":\"1471\",\"type\":\"GroupFilter\"},{\"attributes\":{\"fill_alpha\":{\"value\":0.1},\"fill_color\":{\"value\":\"#1f77b4\"},\"line_alpha\":{\"value\":0.1},\"line_color\":{\"value\":\"#1f77b4\"},\"x\":{\"field\":\"x\"},\"y\":{\"field\":\"y\"}},\"id\":\"1517\",\"type\":\"Circle\"},{\"attributes\":{\"label\":{\"value\":\"WGS_7142\"},\"renderers\":[{\"id\":\"1908\",\"type\":\"GlyphRenderer\"}]},\"id\":\"2050\",\"type\":\"LegendItem\"},{\"attributes\":{\"fill_alpha\":{\"value\":0.1},\"fill_color\":{\"value\":\"#1f77b4\"},\"line_alpha\":{\"value\":0.1},\"line_color\":{\"value\":\"#1f77b4\"},\"x\":{\"field\":\"x\"},\"y\":{\"field\":\"y\"}},\"id\":\"1349\",\"type\":\"Circle\"},{\"attributes\":{\"label\":{\"value\":\"WGS_7143\"},\"renderers\":[{\"id\":\"1914\",\"type\":\"GlyphRenderer\"}]},\"id\":\"2051\",\"type\":\"LegendItem\"},{\"attributes\":{\"fill_alpha\":{\"value\":0.1},\"fill_color\":{\"value\":\"#1f77b4\"},\"line_alpha\":{\"value\":0.1},\"line_color\":{\"value\":\"#1f77b4\"},\"x\":{\"field\":\"x\"},\"y\":{\"field\":\"y\"}},\"id\":\"1487\",\"type\":\"Circle\"},{\"attributes\":{\"filters\":[{\"id\":\"1489\",\"type\":\"GroupFilter\"}],\"source\":{\"id\":\"1163\",\"type\":\"ColumnDataSource\"}},\"id\":\"1490\",\"type\":\"CDSView\"},{\"attributes\":{\"label\":{\"value\":\"WGS_7153\"},\"renderers\":[{\"id\":\"1920\",\"type\":\"GlyphRenderer\"}]},\"id\":\"2052\",\"type\":\"LegendItem\"},{\"attributes\":{\"column_name\":\"label\",\"group\":\"B471\"},\"id\":\"1459\",\"type\":\"GroupFilter\"},{\"attributes\":{\"label\":{\"value\":\"WGS_85b\"},\"renderers\":[{\"id\":\"1926\",\"type\":\"GlyphRenderer\"}]},\"id\":\"2053\",\"type\":\"LegendItem\"},{\"attributes\":{\"data_source\":{\"id\":\"1163\",\"type\":\"ColumnDataSource\"},\"glyph\":{\"id\":\"1510\",\"type\":\"Circle\"},\"hover_glyph\":null,\"muted_glyph\":null,\"nonselection_glyph\":{\"id\":\"1511\",\"type\":\"Circle\"},\"selection_glyph\":null,\"view\":{\"id\":\"1508\",\"type\":\"CDSView\"}},\"id\":\"1512\",\"type\":\"GlyphRenderer\"},{\"attributes\":{\"data_source\":{\"id\":\"1163\",\"type\":\"ColumnDataSource\"},\"glyph\":{\"id\":\"1324\",\"type\":\"Circle\"},\"hover_glyph\":null,\"muted_glyph\":null,\"nonselection_glyph\":{\"id\":\"1325\",\"type\":\"Circle\"},\"selection_glyph\":null,\"view\":{\"id\":\"1322\",\"type\":\"CDSView\"}},\"id\":\"1326\",\"type\":\"GlyphRenderer\"},{\"attributes\":{\"click_policy\":\"hide\",\"items\":[{\"id\":\"1927\",\"type\":\"LegendItem\"},{\"id\":\"1928\",\"type\":\"LegendItem\"},{\"id\":\"1929\",\"type\":\"LegendItem\"},{\"id\":\"1930\",\"type\":\"LegendItem\"},{\"id\":\"1931\",\"type\":\"LegendItem\"},{\"id\":\"1932\",\"type\":\"LegendItem\"},{\"id\":\"1933\",\"type\":\"LegendItem\"},{\"id\":\"1934\",\"type\":\"LegendItem\"},{\"id\":\"1935\",\"type\":\"LegendItem\"},{\"id\":\"1936\",\"type\":\"LegendItem\"},{\"id\":\"1937\",\"type\":\"LegendItem\"},{\"id\":\"1938\",\"type\":\"LegendItem\"},{\"id\":\"1939\",\"type\":\"LegendItem\"},{\"id\":\"1940\",\"type\":\"LegendItem\"},{\"id\":\"1941\",\"type\":\"LegendItem\"},{\"id\":\"1942\",\"type\":\"LegendItem\"},{\"id\":\"1943\",\"type\":\"LegendItem\"},{\"id\":\"1944\",\"type\":\"LegendItem\"},{\"id\":\"1945\",\"type\":\"LegendItem\"},{\"id\":\"1946\",\"type\":\"LegendItem\"},{\"id\":\"1947\",\"type\":\"LegendItem\"},{\"id\":\"1948\",\"type\":\"LegendItem\"},{\"id\":\"1949\",\"type\":\"LegendItem\"},{\"id\":\"1950\",\"type\":\"LegendItem\"},{\"id\":\"1951\",\"type\":\"LegendItem\"},{\"id\":\"1952\",\"type\":\"LegendItem\"},{\"id\":\"1953\",\"type\":\"LegendItem\"},{\"id\":\"1954\",\"type\":\"LegendItem\"},{\"id\":\"1955\",\"type\":\"LegendItem\"},{\"id\":\"1956\",\"type\":\"LegendItem\"},{\"id\":\"1957\",\"type\":\"LegendItem\"},{\"id\":\"1958\",\"type\":\"LegendItem\"},{\"id\":\"1959\",\"type\":\"LegendItem\"},{\"id\":\"1960\",\"type\":\"LegendItem\"},{\"id\":\"1961\",\"type\":\"LegendItem\"},{\"id\":\"1962\",\"type\":\"LegendItem\"},{\"id\":\"1963\",\"type\":\"LegendItem\"},{\"id\":\"1964\",\"type\":\"LegendItem\"},{\"id\":\"1965\",\"type\":\"LegendItem\"},{\"id\":\"1966\",\"type\":\"LegendItem\"},{\"id\":\"1967\",\"type\":\"LegendItem\"},{\"id\":\"1968\",\"type\":\"LegendItem\"},{\"id\":\"1969\",\"type\":\"LegendItem\"},{\"id\":\"1970\",\"type\":\"LegendItem\"},{\"id\":\"1971\",\"type\":\"LegendItem\"},{\"id\":\"1972\",\"type\":\"LegendItem\"},{\"id\":\"1973\",\"type\":\"LegendItem\"},{\"id\":\"1974\",\"type\":\"LegendItem\"},{\"id\":\"1975\",\"type\":\"LegendItem\"},{\"id\":\"1976\",\"type\":\"LegendItem\"},{\"id\":\"1977\",\"type\":\"LegendItem\"},{\"id\":\"1978\",\"type\":\"LegendItem\"},{\"id\":\"1979\",\"type\":\"LegendItem\"},{\"id\":\"1980\",\"type\":\"LegendItem\"},{\"id\":\"1981\",\"type\":\"LegendItem\"},{\"id\":\"1982\",\"type\":\"LegendItem\"},{\"id\":\"1983\",\"type\":\"LegendItem\"},{\"id\":\"1984\",\"type\":\"LegendItem\"},{\"id\":\"1985\",\"type\":\"LegendItem\"},{\"id\":\"1986\",\"type\":\"LegendItem\"},{\"id\":\"1987\",\"type\":\"LegendItem\"},{\"id\":\"1988\",\"type\":\"LegendItem\"},{\"id\":\"1989\",\"type\":\"LegendItem\"},{\"id\":\"1990\",\"type\":\"LegendItem\"},{\"id\":\"1991\",\"type\":\"LegendItem\"},{\"id\":\"1992\",\"type\":\"LegendItem\"},{\"id\":\"1993\",\"type\":\"LegendItem\"},{\"id\":\"1994\",\"type\":\"LegendItem\"},{\"id\":\"1995\",\"type\":\"LegendItem\"},{\"id\":\"1996\",\"type\":\"LegendItem\"},{\"id\":\"1997\",\"type\":\"LegendItem\"},{\"id\":\"1998\",\"type\":\"LegendItem\"},{\"id\":\"1999\",\"type\":\"LegendItem\"},{\"id\":\"2000\",\"type\":\"LegendItem\"},{\"id\":\"2001\",\"type\":\"LegendItem\"},{\"id\":\"2002\",\"type\":\"LegendItem\"},{\"id\":\"2003\",\"type\":\"LegendItem\"},{\"id\":\"2004\",\"type\":\"LegendItem\"},{\"id\":\"2005\",\"type\":\"LegendItem\"},{\"id\":\"2006\",\"type\":\"LegendItem\"},{\"id\":\"2007\",\"type\":\"LegendItem\"},{\"id\":\"2008\",\"type\":\"LegendItem\"},{\"id\":\"2009\",\"type\":\"LegendItem\"},{\"id\":\"2010\",\"type\":\"LegendItem\"},{\"id\":\"2011\",\"type\":\"LegendItem\"},{\"id\":\"2012\",\"type\":\"LegendItem\"},{\"id\":\"2013\",\"type\":\"LegendItem\"},{\"id\":\"2014\",\"type\":\"LegendItem\"},{\"id\":\"2015\",\"type\":\"LegendItem\"},{\"id\":\"2016\",\"type\":\"LegendItem\"},{\"id\":\"2017\",\"type\":\"LegendItem\"},{\"id\":\"2018\",\"type\":\"LegendItem\"},{\"id\":\"2019\",\"type\":\"LegendItem\"},{\"id\":\"2020\",\"type\":\"LegendItem\"},{\"id\":\"2021\",\"type\":\"LegendItem\"},{\"id\":\"2022\",\"type\":\"LegendItem\"},{\"id\":\"2023\",\"type\":\"LegendItem\"},{\"id\":\"2024\",\"type\":\"LegendItem\"},{\"id\":\"2025\",\"type\":\"LegendItem\"},{\"id\":\"2026\",\"type\":\"LegendItem\"},{\"id\":\"2027\",\"type\":\"LegendItem\"},{\"id\":\"2028\",\"type\":\"LegendItem\"},{\"id\":\"2029\",\"type\":\"LegendItem\"},{\"id\":\"2030\",\"type\":\"LegendItem\"},{\"id\":\"2031\",\"type\":\"LegendItem\"},{\"id\":\"2032\",\"type\":\"LegendItem\"},{\"id\":\"2033\",\"type\":\"LegendItem\"},{\"id\":\"2034\",\"type\":\"LegendItem\"},{\"id\":\"2035\",\"type\":\"LegendItem\"},{\"id\":\"2036\",\"type\":\"LegendItem\"},{\"id\":\"2037\",\"type\":\"LegendItem\"},{\"id\":\"2038\",\"type\":\"LegendItem\"},{\"id\":\"2039\",\"type\":\"LegendItem\"},{\"id\":\"2040\",\"type\":\"LegendItem\"},{\"id\":\"2041\",\"type\":\"LegendItem\"},{\"id\":\"2042\",\"type\":\"LegendItem\"},{\"id\":\"2043\",\"type\":\"LegendItem\"},{\"id\":\"2044\",\"type\":\"LegendItem\"},{\"id\":\"2045\",\"type\":\"LegendItem\"},{\"id\":\"2046\",\"type\":\"LegendItem\"},{\"id\":\"2047\",\"type\":\"LegendItem\"},{\"id\":\"2048\",\"type\":\"LegendItem\"},{\"id\":\"2049\",\"type\":\"LegendItem\"},{\"id\":\"2050\",\"type\":\"LegendItem\"},{\"id\":\"2051\",\"type\":\"LegendItem\"},{\"id\":\"2052\",\"type\":\"LegendItem\"},{\"id\":\"2053\",\"type\":\"LegendItem\"}]},\"id\":\"2054\",\"type\":\"Legend\"},{\"attributes\":{\"color_mapper\":null,\"formatter\":{\"id\":\"2071\",\"type\":\"BasicTickFormatter\"},\"ticker\":{\"id\":\"2072\",\"type\":\"BasicTicker\"},\"visible\":false},\"id\":\"2055\",\"type\":\"ColorBar\"},{\"attributes\":{\"column_name\":\"label\",\"group\":\"B450\"},\"id\":\"1339\",\"type\":\"GroupFilter\"},{\"attributes\":{\"fill_alpha\":{\"value\":0.1},\"fill_color\":{\"value\":\"#1f77b4\"},\"line_alpha\":{\"value\":0.1},\"line_color\":{\"value\":\"#1f77b4\"},\"x\":{\"field\":\"x\"},\"y\":{\"field\":\"y\"}},\"id\":\"1835\",\"type\":\"Circle\"},{\"attributes\":{\"data_source\":{\"id\":\"1163\",\"type\":\"ColumnDataSource\"},\"glyph\":{\"id\":\"1468\",\"type\":\"Circle\"},\"hover_glyph\":null,\"muted_glyph\":null,\"nonselection_glyph\":{\"id\":\"1469\",\"type\":\"Circle\"},\"selection_glyph\":null,\"view\":{\"id\":\"1466\",\"type\":\"CDSView\"}},\"id\":\"1470\",\"type\":\"GlyphRenderer\"},{\"attributes\":{\"filters\":[{\"id\":\"1453\",\"type\":\"GroupFilter\"}],\"source\":{\"id\":\"1163\",\"type\":\"ColumnDataSource\"}},\"id\":\"1454\",\"type\":\"CDSView\"},{\"attributes\":{\"fill_alpha\":{\"value\":0.1},\"fill_color\":{\"value\":\"#1f77b4\"},\"line_alpha\":{\"value\":0.1},\"line_color\":{\"value\":\"#1f77b4\"},\"x\":{\"field\":\"x\"},\"y\":{\"field\":\"y\"}},\"id\":\"1847\",\"type\":\"Circle\"},{\"attributes\":{\"data_source\":{\"id\":\"1163\",\"type\":\"ColumnDataSource\"},\"glyph\":{\"id\":\"1456\",\"type\":\"Circle\"},\"hover_glyph\":null,\"muted_glyph\":null,\"nonselection_glyph\":{\"id\":\"1457\",\"type\":\"Circle\"},\"selection_glyph\":null,\"view\":{\"id\":\"1454\",\"type\":\"CDSView\"}},\"id\":\"1458\",\"type\":\"GlyphRenderer\"},{\"attributes\":{\"filters\":[{\"id\":\"1477\",\"type\":\"GroupFilter\"}],\"source\":{\"id\":\"1163\",\"type\":\"ColumnDataSource\"}},\"id\":\"1478\",\"type\":\"CDSView\"},{\"attributes\":{\"fill_color\":{\"field\":\"label\",\"transform\":{\"id\":\"1164\",\"type\":\"CategoricalColorMapper\"}},\"line_color\":{\"field\":\"label\",\"transform\":{\"id\":\"1164\",\"type\":\"CategoricalColorMapper\"}},\"x\":{\"field\":\"x\"},\"y\":{\"field\":\"y\"}},\"id\":\"1516\",\"type\":\"Circle\"},{\"attributes\":{\"fill_alpha\":{\"value\":0.1},\"fill_color\":{\"value\":\"#1f77b4\"},\"line_alpha\":{\"value\":0.1},\"line_color\":{\"value\":\"#1f77b4\"},\"x\":{\"field\":\"x\"},\"y\":{\"field\":\"y\"}},\"id\":\"1319\",\"type\":\"Circle\"},{\"attributes\":{\"fill_color\":{\"field\":\"label\",\"transform\":{\"id\":\"1164\",\"type\":\"CategoricalColorMapper\"}},\"line_color\":{\"field\":\"label\",\"transform\":{\"id\":\"1164\",\"type\":\"CategoricalColorMapper\"}},\"x\":{\"field\":\"x\"},\"y\":{\"field\":\"y\"}},\"id\":\"1828\",\"type\":\"Circle\"},{\"attributes\":{\"fill_alpha\":{\"value\":0.1},\"fill_color\":{\"value\":\"#1f77b4\"},\"line_alpha\":{\"value\":0.1},\"line_color\":{\"value\":\"#1f77b4\"},\"x\":{\"field\":\"x\"},\"y\":{\"field\":\"y\"}},\"id\":\"1493\",\"type\":\"Circle\"},{\"attributes\":{\"column_name\":\"label\",\"group\":\"S_7246\"},\"id\":\"1825\",\"type\":\"GroupFilter\"},{\"attributes\":{\"data_source\":{\"id\":\"1163\",\"type\":\"ColumnDataSource\"},\"glyph\":{\"id\":\"1480\",\"type\":\"Circle\"},\"hover_glyph\":null,\"muted_glyph\":null,\"nonselection_glyph\":{\"id\":\"1481\",\"type\":\"Circle\"},\"selection_glyph\":null,\"view\":{\"id\":\"1478\",\"type\":\"CDSView\"}},\"id\":\"1482\",\"type\":\"GlyphRenderer\"},{\"attributes\":{\"filters\":[{\"id\":\"1483\",\"type\":\"GroupFilter\"}],\"source\":{\"id\":\"1163\",\"type\":\"ColumnDataSource\"}},\"id\":\"1484\",\"type\":\"CDSView\"},{\"attributes\":{\"column_name\":\"label\",\"group\":\"B475\"},\"id\":\"1483\",\"type\":\"GroupFilter\"},{\"attributes\":{\"data_source\":{\"id\":\"1163\",\"type\":\"ColumnDataSource\"},\"glyph\":{\"id\":\"1462\",\"type\":\"Circle\"},\"hover_glyph\":null,\"muted_glyph\":null,\"nonselection_glyph\":{\"id\":\"1463\",\"type\":\"Circle\"},\"selection_glyph\":null,\"view\":{\"id\":\"1460\",\"type\":\"CDSView\"}},\"id\":\"1464\",\"type\":\"GlyphRenderer\"},{\"attributes\":{\"column_name\":\"label\",\"group\":\"B446\"},\"id\":\"1327\",\"type\":\"GroupFilter\"},{\"attributes\":{\"fill_color\":{\"field\":\"label\",\"transform\":{\"id\":\"1164\",\"type\":\"CategoricalColorMapper\"}},\"line_color\":{\"field\":\"label\",\"transform\":{\"id\":\"1164\",\"type\":\"CategoricalColorMapper\"}},\"x\":{\"field\":\"x\"},\"y\":{\"field\":\"y\"}},\"id\":\"1474\",\"type\":\"Circle\"},{\"attributes\":{\"fill_color\":{\"field\":\"label\",\"transform\":{\"id\":\"1164\",\"type\":\"CategoricalColorMapper\"}},\"line_color\":{\"field\":\"label\",\"transform\":{\"id\":\"1164\",\"type\":\"CategoricalColorMapper\"}},\"x\":{\"field\":\"x\"},\"y\":{\"field\":\"y\"}},\"id\":\"1480\",\"type\":\"Circle\"},{\"attributes\":{\"filters\":[{\"id\":\"1825\",\"type\":\"GroupFilter\"}],\"source\":{\"id\":\"1163\",\"type\":\"ColumnDataSource\"}},\"id\":\"1826\",\"type\":\"CDSView\"},{\"attributes\":{\"data_source\":{\"id\":\"1163\",\"type\":\"ColumnDataSource\"},\"glyph\":{\"id\":\"1474\",\"type\":\"Circle\"},\"hover_glyph\":null,\"muted_glyph\":null,\"nonselection_glyph\":{\"id\":\"1475\",\"type\":\"Circle\"},\"selection_glyph\":null,\"view\":{\"id\":\"1472\",\"type\":\"CDSView\"}},\"id\":\"1476\",\"type\":\"GlyphRenderer\"},{\"attributes\":{\"fill_alpha\":{\"value\":0.1},\"fill_color\":{\"value\":\"#1f77b4\"},\"line_alpha\":{\"value\":0.1},\"line_color\":{\"value\":\"#1f77b4\"},\"x\":{\"field\":\"x\"},\"y\":{\"field\":\"y\"}},\"id\":\"1457\",\"type\":\"Circle\"},{\"attributes\":{\"fill_color\":{\"field\":\"label\",\"transform\":{\"id\":\"1164\",\"type\":\"CategoricalColorMapper\"}},\"line_color\":{\"field\":\"label\",\"transform\":{\"id\":\"1164\",\"type\":\"CategoricalColorMapper\"}},\"x\":{\"field\":\"x\"},\"y\":{\"field\":\"y\"}},\"id\":\"1834\",\"type\":\"Circle\"},{\"attributes\":{\"column_name\":\"label\",\"group\":\"B443\"},\"id\":\"1309\",\"type\":\"GroupFilter\"},{\"attributes\":{\"fill_color\":{\"field\":\"label\",\"transform\":{\"id\":\"1164\",\"type\":\"CategoricalColorMapper\"}},\"line_color\":{\"field\":\"label\",\"transform\":{\"id\":\"1164\",\"type\":\"CategoricalColorMapper\"}},\"x\":{\"field\":\"x\"},\"y\":{\"field\":\"y\"}},\"id\":\"1456\",\"type\":\"Circle\"},{\"attributes\":{\"data_source\":{\"id\":\"1163\",\"type\":\"ColumnDataSource\"},\"glyph\":{\"id\":\"1450\",\"type\":\"Circle\"},\"hover_glyph\":null,\"muted_glyph\":null,\"nonselection_glyph\":{\"id\":\"1451\",\"type\":\"Circle\"},\"selection_glyph\":null,\"view\":{\"id\":\"1448\",\"type\":\"CDSView\"}},\"id\":\"1452\",\"type\":\"GlyphRenderer\"},{\"attributes\":{\"fill_color\":{\"field\":\"label\",\"transform\":{\"id\":\"1164\",\"type\":\"CategoricalColorMapper\"}},\"line_color\":{\"field\":\"label\",\"transform\":{\"id\":\"1164\",\"type\":\"CategoricalColorMapper\"}},\"x\":{\"field\":\"x\"},\"y\":{\"field\":\"y\"}},\"id\":\"1330\",\"type\":\"Circle\"},{\"attributes\":{\"fill_alpha\":{\"value\":0.1},\"fill_color\":{\"value\":\"#1f77b4\"},\"line_alpha\":{\"value\":0.1},\"line_color\":{\"value\":\"#1f77b4\"},\"x\":{\"field\":\"x\"},\"y\":{\"field\":\"y\"}},\"id\":\"1475\",\"type\":\"Circle\"},{\"attributes\":{\"fill_alpha\":{\"value\":0.1},\"fill_color\":{\"value\":\"#1f77b4\"},\"line_alpha\":{\"value\":0.1},\"line_color\":{\"value\":\"#1f77b4\"},\"x\":{\"field\":\"x\"},\"y\":{\"field\":\"y\"}},\"id\":\"1469\",\"type\":\"Circle\"},{\"attributes\":{\"column_name\":\"label\",\"group\":\"S_7274\"},\"id\":\"1837\",\"type\":\"GroupFilter\"},{\"attributes\":{\"fill_color\":{\"field\":\"label\",\"transform\":{\"id\":\"1164\",\"type\":\"CategoricalColorMapper\"}},\"line_color\":{\"field\":\"label\",\"transform\":{\"id\":\"1164\",\"type\":\"CategoricalColorMapper\"}},\"x\":{\"field\":\"x\"},\"y\":{\"field\":\"y\"}},\"id\":\"1318\",\"type\":\"Circle\"},{\"attributes\":{\"fill_alpha\":{\"value\":0.1},\"fill_color\":{\"value\":\"#1f77b4\"},\"line_alpha\":{\"value\":0.1},\"line_color\":{\"value\":\"#1f77b4\"},\"x\":{\"field\":\"x\"},\"y\":{\"field\":\"y\"}},\"id\":\"1511\",\"type\":\"Circle\"},{\"attributes\":{\"filters\":[{\"id\":\"1603\",\"type\":\"GroupFilter\"}],\"source\":{\"id\":\"1163\",\"type\":\"ColumnDataSource\"}},\"id\":\"1604\",\"type\":\"CDSView\"},{\"attributes\":{\"data_source\":{\"id\":\"1163\",\"type\":\"ColumnDataSource\"},\"glyph\":{\"id\":\"1828\",\"type\":\"Circle\"},\"hover_glyph\":null,\"muted_glyph\":null,\"nonselection_glyph\":{\"id\":\"1829\",\"type\":\"Circle\"},\"selection_glyph\":null,\"view\":{\"id\":\"1826\",\"type\":\"CDSView\"}},\"id\":\"1830\",\"type\":\"GlyphRenderer\"},{\"attributes\":{\"fill_color\":{\"field\":\"label\",\"transform\":{\"id\":\"1164\",\"type\":\"CategoricalColorMapper\"}},\"line_color\":{\"field\":\"label\",\"transform\":{\"id\":\"1164\",\"type\":\"CategoricalColorMapper\"}},\"x\":{\"field\":\"x\"},\"y\":{\"field\":\"y\"}},\"id\":\"1486\",\"type\":\"Circle\"},{\"attributes\":{\"column_name\":\"label\",\"group\":\"S_7254\"},\"id\":\"1831\",\"type\":\"GroupFilter\"},{\"attributes\":{\"fill_color\":{\"field\":\"label\",\"transform\":{\"id\":\"1164\",\"type\":\"CategoricalColorMapper\"}},\"line_color\":{\"field\":\"label\",\"transform\":{\"id\":\"1164\",\"type\":\"CategoricalColorMapper\"}},\"x\":{\"field\":\"x\"},\"y\":{\"field\":\"y\"}},\"id\":\"1846\",\"type\":\"Circle\"},{\"attributes\":{\"data_source\":{\"id\":\"1163\",\"type\":\"ColumnDataSource\"},\"glyph\":{\"id\":\"1486\",\"type\":\"Circle\"},\"hover_glyph\":null,\"muted_glyph\":null,\"nonselection_glyph\":{\"id\":\"1487\",\"type\":\"Circle\"},\"selection_glyph\":null,\"view\":{\"id\":\"1484\",\"type\":\"CDSView\"}},\"id\":\"1488\",\"type\":\"GlyphRenderer\"},{\"attributes\":{\"fill_color\":{\"field\":\"label\",\"transform\":{\"id\":\"1164\",\"type\":\"CategoricalColorMapper\"}},\"line_color\":{\"field\":\"label\",\"transform\":{\"id\":\"1164\",\"type\":\"CategoricalColorMapper\"}},\"x\":{\"field\":\"x\"},\"y\":{\"field\":\"y\"}},\"id\":\"1462\",\"type\":\"Circle\"},{\"attributes\":{\"column_name\":\"label\",\"group\":\"B474\"},\"id\":\"1477\",\"type\":\"GroupFilter\"},{\"attributes\":{\"fill_color\":{\"field\":\"label\",\"transform\":{\"id\":\"1164\",\"type\":\"CategoricalColorMapper\"}},\"line_color\":{\"field\":\"label\",\"transform\":{\"id\":\"1164\",\"type\":\"CategoricalColorMapper\"}},\"x\":{\"field\":\"x\"},\"y\":{\"field\":\"y\"}},\"id\":\"1336\",\"type\":\"Circle\"},{\"attributes\":{\"filters\":[{\"id\":\"1465\",\"type\":\"GroupFilter\"}],\"source\":{\"id\":\"1163\",\"type\":\"ColumnDataSource\"}},\"id\":\"1466\",\"type\":\"CDSView\"},{\"attributes\":{\"column_name\":\"label\",\"group\":\"B476\"},\"id\":\"1489\",\"type\":\"GroupFilter\"},{\"attributes\":{\"data_source\":{\"id\":\"1163\",\"type\":\"ColumnDataSource\"},\"glyph\":{\"id\":\"1318\",\"type\":\"Circle\"},\"hover_glyph\":null,\"muted_glyph\":null,\"nonselection_glyph\":{\"id\":\"1319\",\"type\":\"Circle\"},\"selection_glyph\":null,\"view\":{\"id\":\"1316\",\"type\":\"CDSView\"}},\"id\":\"1320\",\"type\":\"GlyphRenderer\"},{\"attributes\":{\"data_source\":{\"id\":\"1163\",\"type\":\"ColumnDataSource\"},\"glyph\":{\"id\":\"1834\",\"type\":\"Circle\"},\"hover_glyph\":null,\"muted_glyph\":null,\"nonselection_glyph\":{\"id\":\"1835\",\"type\":\"Circle\"},\"selection_glyph\":null,\"view\":{\"id\":\"1832\",\"type\":\"CDSView\"}},\"id\":\"1836\",\"type\":\"GlyphRenderer\"},{\"attributes\":{\"fill_alpha\":{\"value\":0.1},\"fill_color\":{\"value\":\"#1f77b4\"},\"line_alpha\":{\"value\":0.1},\"line_color\":{\"value\":\"#1f77b4\"},\"x\":{\"field\":\"x\"},\"y\":{\"field\":\"y\"}},\"id\":\"1331\",\"type\":\"Circle\"},{\"attributes\":{\"fill_alpha\":{\"value\":0.1},\"fill_color\":{\"value\":\"#1f77b4\"},\"line_alpha\":{\"value\":0.1},\"line_color\":{\"value\":\"#1f77b4\"},\"x\":{\"field\":\"x\"},\"y\":{\"field\":\"y\"}},\"id\":\"1325\",\"type\":\"Circle\"},{\"attributes\":{\"fill_alpha\":{\"value\":0.1},\"fill_color\":{\"value\":\"#1f77b4\"},\"line_alpha\":{\"value\":0.1},\"line_color\":{\"value\":\"#1f77b4\"},\"x\":{\"field\":\"x\"},\"y\":{\"field\":\"y\"}},\"id\":\"1439\",\"type\":\"Circle\"},{\"attributes\":{\"filters\":[{\"id\":\"1831\",\"type\":\"GroupFilter\"}],\"source\":{\"id\":\"1163\",\"type\":\"ColumnDataSource\"}},\"id\":\"1832\",\"type\":\"CDSView\"},{\"attributes\":{\"filters\":[{\"id\":\"1471\",\"type\":\"GroupFilter\"}],\"source\":{\"id\":\"1163\",\"type\":\"ColumnDataSource\"}},\"id\":\"1472\",\"type\":\"CDSView\"},{\"attributes\":{\"column_name\":\"label\",\"group\":\"B448\"},\"id\":\"1333\",\"type\":\"GroupFilter\"},{\"attributes\":{\"filters\":[{\"id\":\"1345\",\"type\":\"GroupFilter\"}],\"source\":{\"id\":\"1163\",\"type\":\"ColumnDataSource\"}},\"id\":\"1346\",\"type\":\"CDSView\"},{\"attributes\":{\"fill_color\":{\"field\":\"label\",\"transform\":{\"id\":\"1164\",\"type\":\"CategoricalColorMapper\"}},\"line_color\":{\"field\":\"label\",\"transform\":{\"id\":\"1164\",\"type\":\"CategoricalColorMapper\"}},\"x\":{\"field\":\"x\"},\"y\":{\"field\":\"y\"}},\"id\":\"1348\",\"type\":\"Circle\"},{\"attributes\":{\"fill_alpha\":{\"value\":0.1},\"fill_color\":{\"value\":\"#1f77b4\"},\"line_alpha\":{\"value\":0.1},\"line_color\":{\"value\":\"#1f77b4\"},\"x\":{\"field\":\"x\"},\"y\":{\"field\":\"y\"}},\"id\":\"1463\",\"type\":\"Circle\"},{\"attributes\":{\"filters\":[{\"id\":\"1333\",\"type\":\"GroupFilter\"}],\"source\":{\"id\":\"1163\",\"type\":\"ColumnDataSource\"}},\"id\":\"1334\",\"type\":\"CDSView\"},{\"attributes\":{\"column_name\":\"label\",\"group\":\"B470\"},\"id\":\"1453\",\"type\":\"GroupFilter\"},{\"attributes\":{\"filters\":[{\"id\":\"1459\",\"type\":\"GroupFilter\"}],\"source\":{\"id\":\"1163\",\"type\":\"ColumnDataSource\"}},\"id\":\"1460\",\"type\":\"CDSView\"},{\"attributes\":{\"filters\":[{\"id\":\"1321\",\"type\":\"GroupFilter\"}],\"source\":{\"id\":\"1163\",\"type\":\"ColumnDataSource\"}},\"id\":\"1322\",\"type\":\"CDSView\"},{\"attributes\":{\"data_source\":{\"id\":\"1163\",\"type\":\"ColumnDataSource\"},\"glyph\":{\"id\":\"1330\",\"type\":\"Circle\"},\"hover_glyph\":null,\"muted_glyph\":null,\"nonselection_glyph\":{\"id\":\"1331\",\"type\":\"Circle\"},\"selection_glyph\":null,\"view\":{\"id\":\"1328\",\"type\":\"CDSView\"}},\"id\":\"1332\",\"type\":\"GlyphRenderer\"},{\"attributes\":{\"filters\":[{\"id\":\"1513\",\"type\":\"GroupFilter\"}],\"source\":{\"id\":\"1163\",\"type\":\"ColumnDataSource\"}},\"id\":\"1514\",\"type\":\"CDSView\"},{\"attributes\":{\"fill_color\":{\"field\":\"label\",\"transform\":{\"id\":\"1164\",\"type\":\"CategoricalColorMapper\"}},\"line_color\":{\"field\":\"label\",\"transform\":{\"id\":\"1164\",\"type\":\"CategoricalColorMapper\"}},\"x\":{\"field\":\"x\"},\"y\":{\"field\":\"y\"}},\"id\":\"1324\",\"type\":\"Circle\"},{\"attributes\":{\"data_source\":{\"id\":\"1163\",\"type\":\"ColumnDataSource\"},\"glyph\":{\"id\":\"1846\",\"type\":\"Circle\"},\"hover_glyph\":null,\"muted_glyph\":null,\"nonselection_glyph\":{\"id\":\"1847\",\"type\":\"Circle\"},\"selection_glyph\":null,\"view\":{\"id\":\"1844\",\"type\":\"CDSView\"}},\"id\":\"1848\",\"type\":\"GlyphRenderer\"},{\"attributes\":{\"fill_alpha\":{\"value\":0.1},\"fill_color\":{\"value\":\"#1f77b4\"},\"line_alpha\":{\"value\":0.1},\"line_color\":{\"value\":\"#1f77b4\"},\"x\":{\"field\":\"x\"},\"y\":{\"field\":\"y\"}},\"id\":\"1223\",\"type\":\"Circle\"},{\"attributes\":{\"column_name\":\"label\",\"group\":\"468\"},\"id\":\"1171\",\"type\":\"GroupFilter\"},{\"attributes\":{\"fill_alpha\":{\"value\":0.1},\"fill_color\":{\"value\":\"#1f77b4\"},\"line_alpha\":{\"value\":0.1},\"line_color\":{\"value\":\"#1f77b4\"},\"x\":{\"field\":\"x\"},\"y\":{\"field\":\"y\"}},\"id\":\"1205\",\"type\":\"Circle\"},{\"attributes\":{\"data_source\":{\"id\":\"1163\",\"type\":\"ColumnDataSource\"},\"glyph\":{\"id\":\"1204\",\"type\":\"Circle\"},\"hover_glyph\":null,\"muted_glyph\":null,\"nonselection_glyph\":{\"id\":\"1205\",\"type\":\"Circle\"},\"selection_glyph\":null,\"view\":{\"id\":\"1202\",\"type\":\"CDSView\"}},\"id\":\"1206\",\"type\":\"GlyphRenderer\"},{\"attributes\":{\"data_source\":{\"id\":\"1163\",\"type\":\"ColumnDataSource\"},\"glyph\":{\"id\":\"1168\",\"type\":\"Circle\"},\"hover_glyph\":null,\"muted_glyph\":null,\"nonselection_glyph\":{\"id\":\"1169\",\"type\":\"Circle\"},\"selection_glyph\":null,\"view\":{\"id\":\"1166\",\"type\":\"CDSView\"}},\"id\":\"1170\",\"type\":\"GlyphRenderer\"},{\"attributes\":{\"label\":{\"value\":\"462\"},\"renderers\":[{\"id\":\"1170\",\"type\":\"GlyphRenderer\"}]},\"id\":\"1927\",\"type\":\"LegendItem\"},{\"attributes\":{\"fill_alpha\":{\"value\":0.1},\"fill_color\":{\"value\":\"#1f77b4\"},\"line_alpha\":{\"value\":0.1},\"line_color\":{\"value\":\"#1f77b4\"},\"x\":{\"field\":\"x\"},\"y\":{\"field\":\"y\"}},\"id\":\"1169\",\"type\":\"Circle\"},{\"attributes\":{\"filters\":[{\"id\":\"1207\",\"type\":\"GroupFilter\"}],\"source\":{\"id\":\"1163\",\"type\":\"ColumnDataSource\"}},\"id\":\"1208\",\"type\":\"CDSView\"},{\"attributes\":{\"label\":{\"value\":\"468\"},\"renderers\":[{\"id\":\"1176\",\"type\":\"GlyphRenderer\"}]},\"id\":\"1928\",\"type\":\"LegendItem\"},{\"attributes\":{\"label\":{\"value\":\"B480\"},\"renderers\":[{\"id\":\"1518\",\"type\":\"GlyphRenderer\"}]},\"id\":\"1985\",\"type\":\"LegendItem\"},{\"attributes\":{\"label\":{\"value\":\"479\"},\"renderers\":[{\"id\":\"1182\",\"type\":\"GlyphRenderer\"}]},\"id\":\"1929\",\"type\":\"LegendItem\"},{\"attributes\":{\"column_name\":\"label\",\"group\":\"B156\"},\"id\":\"1207\",\"type\":\"GroupFilter\"},{\"attributes\":{\"column_name\":\"label\",\"group\":\"B459\"},\"id\":\"1393\",\"type\":\"GroupFilter\"},{\"attributes\":{\"data_source\":{\"id\":\"1163\",\"type\":\"ColumnDataSource\"},\"glyph\":{\"id\":\"1396\",\"type\":\"Circle\"},\"hover_glyph\":null,\"muted_glyph\":null,\"nonselection_glyph\":{\"id\":\"1397\",\"type\":\"Circle\"},\"selection_glyph\":null,\"view\":{\"id\":\"1394\",\"type\":\"CDSView\"}},\"id\":\"1398\",\"type\":\"GlyphRenderer\"},{\"attributes\":{\"label\":{\"value\":\"490\"},\"renderers\":[{\"id\":\"1188\",\"type\":\"GlyphRenderer\"}]},\"id\":\"1930\",\"type\":\"LegendItem\"},{\"attributes\":{\"label\":{\"value\":\"492\"},\"renderers\":[{\"id\":\"1194\",\"type\":\"GlyphRenderer\"}]},\"id\":\"1931\",\"type\":\"LegendItem\"},{\"attributes\":{\"filters\":[{\"id\":\"1201\",\"type\":\"GroupFilter\"}],\"source\":{\"id\":\"1163\",\"type\":\"ColumnDataSource\"}},\"id\":\"1202\",\"type\":\"CDSView\"},{\"attributes\":{\"fill_alpha\":{\"value\":0.1},\"fill_color\":{\"value\":\"#1f77b4\"},\"line_alpha\":{\"value\":0.1},\"line_color\":{\"value\":\"#1f77b4\"},\"x\":{\"field\":\"x\"},\"y\":{\"field\":\"y\"}},\"id\":\"1823\",\"type\":\"Circle\"},{\"attributes\":{\"fill_color\":{\"field\":\"label\",\"transform\":{\"id\":\"1164\",\"type\":\"CategoricalColorMapper\"}},\"line_color\":{\"field\":\"label\",\"transform\":{\"id\":\"1164\",\"type\":\"CategoricalColorMapper\"}},\"x\":{\"field\":\"x\"},\"y\":{\"field\":\"y\"}},\"id\":\"1396\",\"type\":\"Circle\"},{\"attributes\":{\"label\":{\"value\":\"494\"},\"renderers\":[{\"id\":\"1200\",\"type\":\"GlyphRenderer\"}]},\"id\":\"1932\",\"type\":\"LegendItem\"},{\"attributes\":{\"fill_alpha\":{\"value\":0.1},\"fill_color\":{\"value\":\"#1f77b4\"},\"line_alpha\":{\"value\":0.1},\"line_color\":{\"value\":\"#1f77b4\"},\"x\":{\"field\":\"x\"},\"y\":{\"field\":\"y\"}},\"id\":\"1211\",\"type\":\"Circle\"},{\"attributes\":{\"data_source\":{\"id\":\"1163\",\"type\":\"ColumnDataSource\"},\"glyph\":{\"id\":\"1210\",\"type\":\"Circle\"},\"hover_glyph\":null,\"muted_glyph\":null,\"nonselection_glyph\":{\"id\":\"1211\",\"type\":\"Circle\"},\"selection_glyph\":null,\"view\":{\"id\":\"1208\",\"type\":\"CDSView\"}},\"id\":\"1212\",\"type\":\"GlyphRenderer\"},{\"attributes\":{\"fill_alpha\":{\"value\":0.1},\"fill_color\":{\"value\":\"#1f77b4\"},\"line_alpha\":{\"value\":0.1},\"line_color\":{\"value\":\"#1f77b4\"},\"x\":{\"field\":\"x\"},\"y\":{\"field\":\"y\"}},\"id\":\"1271\",\"type\":\"Circle\"},{\"attributes\":{\"fill_color\":{\"field\":\"label\",\"transform\":{\"id\":\"1164\",\"type\":\"CategoricalColorMapper\"}},\"line_color\":{\"field\":\"label\",\"transform\":{\"id\":\"1164\",\"type\":\"CategoricalColorMapper\"}},\"x\":{\"field\":\"x\"},\"y\":{\"field\":\"y\"}},\"id\":\"1216\",\"type\":\"Circle\"},{\"attributes\":{\"fill_color\":{\"field\":\"label\",\"transform\":{\"id\":\"1164\",\"type\":\"CategoricalColorMapper\"}},\"line_color\":{\"field\":\"label\",\"transform\":{\"id\":\"1164\",\"type\":\"CategoricalColorMapper\"}},\"x\":{\"field\":\"x\"},\"y\":{\"field\":\"y\"}},\"id\":\"1210\",\"type\":\"Circle\"},{\"attributes\":{\"data_source\":{\"id\":\"1163\",\"type\":\"ColumnDataSource\"},\"glyph\":{\"id\":\"1816\",\"type\":\"Circle\"},\"hover_glyph\":null,\"muted_glyph\":null,\"nonselection_glyph\":{\"id\":\"1817\",\"type\":\"Circle\"},\"selection_glyph\":null,\"view\":{\"id\":\"1814\",\"type\":\"CDSView\"}},\"id\":\"1818\",\"type\":\"GlyphRenderer\"},{\"attributes\":{\"fill_color\":{\"field\":\"label\",\"transform\":{\"id\":\"1164\",\"type\":\"CategoricalColorMapper\"}},\"line_color\":{\"field\":\"label\",\"transform\":{\"id\":\"1164\",\"type\":\"CategoricalColorMapper\"}},\"x\":{\"field\":\"x\"},\"y\":{\"field\":\"y\"}},\"id\":\"1270\",\"type\":\"Circle\"},{\"attributes\":{\"data_source\":{\"id\":\"1163\",\"type\":\"ColumnDataSource\"},\"glyph\":{\"id\":\"1222\",\"type\":\"Circle\"},\"hover_glyph\":null,\"muted_glyph\":null,\"nonselection_glyph\":{\"id\":\"1223\",\"type\":\"Circle\"},\"selection_glyph\":null,\"view\":{\"id\":\"1220\",\"type\":\"CDSView\"}},\"id\":\"1224\",\"type\":\"GlyphRenderer\"},{\"attributes\":{\"label\":{\"value\":\"B438\"},\"renderers\":[{\"id\":\"1290\",\"type\":\"GlyphRenderer\"}]},\"id\":\"1947\",\"type\":\"LegendItem\"},{\"attributes\":{\"column_name\":\"label\",\"group\":\"B496\"},\"id\":\"1603\",\"type\":\"GroupFilter\"},{\"attributes\":{\"column_name\":\"label\",\"group\":\"B461\"},\"id\":\"1399\",\"type\":\"GroupFilter\"},{\"attributes\":{\"label\":{\"value\":\"B382\"},\"renderers\":[{\"id\":\"1230\",\"type\":\"GlyphRenderer\"}]},\"id\":\"1937\",\"type\":\"LegendItem\"},{\"attributes\":{\"column_name\":\"label\",\"group\":\"B24\"},\"id\":\"1213\",\"type\":\"GroupFilter\"},{\"attributes\":{\"label\":{\"value\":\"B102\"},\"renderers\":[{\"id\":\"1206\",\"type\":\"GlyphRenderer\"}]},\"id\":\"1933\",\"type\":\"LegendItem\"},{\"attributes\":{\"filters\":[{\"id\":\"1213\",\"type\":\"GroupFilter\"}],\"source\":{\"id\":\"1163\",\"type\":\"ColumnDataSource\"}},\"id\":\"1214\",\"type\":\"CDSView\"},{\"attributes\":{\"fill_alpha\":{\"value\":0.1},\"fill_color\":{\"value\":\"#1f77b4\"},\"line_alpha\":{\"value\":0.1},\"line_color\":{\"value\":\"#1f77b4\"},\"x\":{\"field\":\"x\"},\"y\":{\"field\":\"y\"}},\"id\":\"1391\",\"type\":\"Circle\"},{\"attributes\":{\"label\":{\"value\":\"B156\"},\"renderers\":[{\"id\":\"1212\",\"type\":\"GlyphRenderer\"}]},\"id\":\"1934\",\"type\":\"LegendItem\"},{\"attributes\":{\"label\":{\"value\":\"B24\"},\"renderers\":[{\"id\":\"1218\",\"type\":\"GlyphRenderer\"}]},\"id\":\"1935\",\"type\":\"LegendItem\"},{\"attributes\":{\"fill_alpha\":{\"value\":0.1},\"fill_color\":{\"value\":\"#1f77b4\"},\"line_alpha\":{\"value\":0.1},\"line_color\":{\"value\":\"#1f77b4\"},\"x\":{\"field\":\"x\"},\"y\":{\"field\":\"y\"}},\"id\":\"1397\",\"type\":\"Circle\"},{\"attributes\":{\"label\":{\"value\":\"B338\"},\"renderers\":[{\"id\":\"1224\",\"type\":\"GlyphRenderer\"}]},\"id\":\"1936\",\"type\":\"LegendItem\"},{\"attributes\":{\"fill_color\":{\"field\":\"label\",\"transform\":{\"id\":\"1164\",\"type\":\"CategoricalColorMapper\"}},\"line_color\":{\"field\":\"label\",\"transform\":{\"id\":\"1164\",\"type\":\"CategoricalColorMapper\"}},\"x\":{\"field\":\"x\"},\"y\":{\"field\":\"y\"}},\"id\":\"1222\",\"type\":\"Circle\"},{\"attributes\":{\"label\":{\"value\":\"B399\"},\"renderers\":[{\"id\":\"1236\",\"type\":\"GlyphRenderer\"}]},\"id\":\"1938\",\"type\":\"LegendItem\"},{\"attributes\":{\"data_source\":{\"id\":\"1163\",\"type\":\"ColumnDataSource\"},\"glyph\":{\"id\":\"1822\",\"type\":\"Circle\"},\"hover_glyph\":null,\"muted_glyph\":null,\"nonselection_glyph\":{\"id\":\"1823\",\"type\":\"Circle\"},\"selection_glyph\":null,\"view\":{\"id\":\"1820\",\"type\":\"CDSView\"}},\"id\":\"1824\",\"type\":\"GlyphRenderer\"},{\"attributes\":{\"fill_color\":{\"field\":\"label\",\"transform\":{\"id\":\"1164\",\"type\":\"CategoricalColorMapper\"}},\"line_color\":{\"field\":\"label\",\"transform\":{\"id\":\"1164\",\"type\":\"CategoricalColorMapper\"}},\"x\":{\"field\":\"x\"},\"y\":{\"field\":\"y\"}},\"id\":\"1822\",\"type\":\"Circle\"},{\"attributes\":{\"label\":{\"value\":\"B427\"},\"renderers\":[{\"id\":\"1242\",\"type\":\"GlyphRenderer\"}]},\"id\":\"1939\",\"type\":\"LegendItem\"},{\"attributes\":{\"column_name\":\"label\",\"group\":\"B102\"},\"id\":\"1201\",\"type\":\"GroupFilter\"},{\"attributes\":{\"label\":{\"value\":\"B430\"},\"renderers\":[{\"id\":\"1248\",\"type\":\"GlyphRenderer\"}]},\"id\":\"1940\",\"type\":\"LegendItem\"},{\"attributes\":{\"fill_color\":{\"field\":\"label\",\"transform\":{\"id\":\"1164\",\"type\":\"CategoricalColorMapper\"}},\"line_color\":{\"field\":\"label\",\"transform\":{\"id\":\"1164\",\"type\":\"CategoricalColorMapper\"}},\"x\":{\"field\":\"x\"},\"y\":{\"field\":\"y\"}},\"id\":\"1204\",\"type\":\"Circle\"},{\"attributes\":{\"data_source\":{\"id\":\"1163\",\"type\":\"ColumnDataSource\"},\"glyph\":{\"id\":\"1390\",\"type\":\"Circle\"},\"hover_glyph\":null,\"muted_glyph\":null,\"nonselection_glyph\":{\"id\":\"1391\",\"type\":\"Circle\"},\"selection_glyph\":null,\"view\":{\"id\":\"1388\",\"type\":\"CDSView\"}},\"id\":\"1392\",\"type\":\"GlyphRenderer\"},{\"attributes\":{\"fill_color\":{\"field\":\"label\",\"transform\":{\"id\":\"1164\",\"type\":\"CategoricalColorMapper\"}},\"line_color\":{\"field\":\"label\",\"transform\":{\"id\":\"1164\",\"type\":\"CategoricalColorMapper\"}},\"x\":{\"field\":\"x\"},\"y\":{\"field\":\"y\"}},\"id\":\"1228\",\"type\":\"Circle\"},{\"attributes\":{\"label\":{\"value\":\"B431\"},\"renderers\":[{\"id\":\"1254\",\"type\":\"GlyphRenderer\"}]},\"id\":\"1941\",\"type\":\"LegendItem\"},{\"attributes\":{\"column_name\":\"label\",\"group\":\"S_7241\"},\"id\":\"1819\",\"type\":\"GroupFilter\"},{\"attributes\":{\"column_name\":\"label\",\"group\":\"B453\"},\"id\":\"1357\",\"type\":\"GroupFilter\"},{\"attributes\":{\"filters\":[{\"id\":\"1219\",\"type\":\"GroupFilter\"}],\"source\":{\"id\":\"1163\",\"type\":\"ColumnDataSource\"}},\"id\":\"1220\",\"type\":\"CDSView\"},{\"attributes\":{\"label\":{\"value\":\"B432\"},\"renderers\":[{\"id\":\"1260\",\"type\":\"GlyphRenderer\"}]},\"id\":\"1942\",\"type\":\"LegendItem\"},{\"attributes\":{\"data_source\":{\"id\":\"1163\",\"type\":\"ColumnDataSource\"},\"glyph\":{\"id\":\"1696\",\"type\":\"Circle\"},\"hover_glyph\":null,\"muted_glyph\":null,\"nonselection_glyph\":{\"id\":\"1697\",\"type\":\"Circle\"},\"selection_glyph\":null,\"view\":{\"id\":\"1694\",\"type\":\"CDSView\"}},\"id\":\"1698\",\"type\":\"GlyphRenderer\"},{\"attributes\":{\"filters\":[{\"id\":\"1225\",\"type\":\"GroupFilter\"}],\"source\":{\"id\":\"1163\",\"type\":\"ColumnDataSource\"}},\"id\":\"1226\",\"type\":\"CDSView\"},{\"attributes\":{\"filters\":[{\"id\":\"1819\",\"type\":\"GroupFilter\"}],\"source\":{\"id\":\"1163\",\"type\":\"ColumnDataSource\"}},\"id\":\"1820\",\"type\":\"CDSView\"},{\"attributes\":{\"label\":{\"value\":\"B433\"},\"renderers\":[{\"id\":\"1266\",\"type\":\"GlyphRenderer\"}]},\"id\":\"1943\",\"type\":\"LegendItem\"},{\"attributes\":{\"data_source\":{\"id\":\"1163\",\"type\":\"ColumnDataSource\"},\"glyph\":{\"id\":\"1216\",\"type\":\"Circle\"},\"hover_glyph\":null,\"muted_glyph\":null,\"nonselection_glyph\":{\"id\":\"1217\",\"type\":\"Circle\"},\"selection_glyph\":null,\"view\":{\"id\":\"1214\",\"type\":\"CDSView\"}},\"id\":\"1218\",\"type\":\"GlyphRenderer\"},{\"attributes\":{\"fill_alpha\":{\"value\":0.1},\"fill_color\":{\"value\":\"#1f77b4\"},\"line_alpha\":{\"value\":0.1},\"line_color\":{\"value\":\"#1f77b4\"},\"x\":{\"field\":\"x\"},\"y\":{\"field\":\"y\"}},\"id\":\"1217\",\"type\":\"Circle\"},{\"attributes\":{\"label\":{\"value\":\"B435\"},\"renderers\":[{\"id\":\"1272\",\"type\":\"GlyphRenderer\"}]},\"id\":\"1944\",\"type\":\"LegendItem\"},{\"attributes\":{\"filters\":[{\"id\":\"1387\",\"type\":\"GroupFilter\"}],\"source\":{\"id\":\"1163\",\"type\":\"ColumnDataSource\"}},\"id\":\"1388\",\"type\":\"CDSView\"},{\"attributes\":{\"label\":{\"value\":\"B436\"},\"renderers\":[{\"id\":\"1278\",\"type\":\"GlyphRenderer\"}]},\"id\":\"1945\",\"type\":\"LegendItem\"},{\"attributes\":{\"fill_color\":{\"field\":\"label\",\"transform\":{\"id\":\"1164\",\"type\":\"CategoricalColorMapper\"}},\"line_color\":{\"field\":\"label\",\"transform\":{\"id\":\"1164\",\"type\":\"CategoricalColorMapper\"}},\"x\":{\"field\":\"x\"},\"y\":{\"field\":\"y\"}},\"id\":\"1390\",\"type\":\"Circle\"},{\"attributes\":{\"column_name\":\"label\",\"group\":\"B338\"},\"id\":\"1219\",\"type\":\"GroupFilter\"},{\"attributes\":{\"filters\":[{\"id\":\"1267\",\"type\":\"GroupFilter\"}],\"source\":{\"id\":\"1163\",\"type\":\"ColumnDataSource\"}},\"id\":\"1268\",\"type\":\"CDSView\"},{\"attributes\":{\"filters\":[{\"id\":\"1393\",\"type\":\"GroupFilter\"}],\"source\":{\"id\":\"1163\",\"type\":\"ColumnDataSource\"}},\"id\":\"1394\",\"type\":\"CDSView\"},{\"attributes\":{\"column_name\":\"label\",\"group\":\"B382\"},\"id\":\"1225\",\"type\":\"GroupFilter\"},{\"attributes\":{\"label\":{\"value\":\"B437\"},\"renderers\":[{\"id\":\"1284\",\"type\":\"GlyphRenderer\"}]},\"id\":\"1946\",\"type\":\"LegendItem\"},{\"attributes\":{\"label\":{\"value\":\"B442\"},\"renderers\":[{\"id\":\"1308\",\"type\":\"GlyphRenderer\"}]},\"id\":\"1950\",\"type\":\"LegendItem\"},{\"attributes\":{\"data_source\":{\"id\":\"1163\",\"type\":\"ColumnDataSource\"},\"glyph\":{\"id\":\"1270\",\"type\":\"Circle\"},\"hover_glyph\":null,\"muted_glyph\":null,\"nonselection_glyph\":{\"id\":\"1271\",\"type\":\"Circle\"},\"selection_glyph\":null,\"view\":{\"id\":\"1268\",\"type\":\"CDSView\"}},\"id\":\"1272\",\"type\":\"GlyphRenderer\"},{\"attributes\":{\"label\":{\"value\":\"B441\"},\"renderers\":[{\"id\":\"1302\",\"type\":\"GlyphRenderer\"}]},\"id\":\"1949\",\"type\":\"LegendItem\"},{\"attributes\":{\"fill_color\":{\"field\":\"label\",\"transform\":{\"id\":\"1164\",\"type\":\"CategoricalColorMapper\"}},\"line_color\":{\"field\":\"label\",\"transform\":{\"id\":\"1164\",\"type\":\"CategoricalColorMapper\"}},\"x\":{\"field\":\"x\"},\"y\":{\"field\":\"y\"}},\"id\":\"1432\",\"type\":\"Circle\"},{\"attributes\":{\"label\":{\"value\":\"B439\"},\"renderers\":[{\"id\":\"1296\",\"type\":\"GlyphRenderer\"}]},\"id\":\"1948\",\"type\":\"LegendItem\"},{\"attributes\":{\"data_source\":{\"id\":\"1163\",\"type\":\"ColumnDataSource\"},\"glyph\":{\"id\":\"1732\",\"type\":\"Circle\"},\"hover_glyph\":null,\"muted_glyph\":null,\"nonselection_glyph\":{\"id\":\"1733\",\"type\":\"Circle\"},\"selection_glyph\":null,\"view\":{\"id\":\"1730\",\"type\":\"CDSView\"}},\"id\":\"1734\",\"type\":\"GlyphRenderer\"},{\"attributes\":{\"data_source\":{\"id\":\"1163\",\"type\":\"ColumnDataSource\"},\"glyph\":{\"id\":\"1288\",\"type\":\"Circle\"},\"hover_glyph\":null,\"muted_glyph\":null,\"nonselection_glyph\":{\"id\":\"1289\",\"type\":\"Circle\"},\"selection_glyph\":null,\"view\":{\"id\":\"1286\",\"type\":\"CDSView\"}},\"id\":\"1290\",\"type\":\"GlyphRenderer\"},{\"attributes\":{},\"id\":\"1134\",\"type\":\"LinearScale\"},{\"attributes\":{\"fill_alpha\":{\"value\":0.1},\"fill_color\":{\"value\":\"#1f77b4\"},\"line_alpha\":{\"value\":0.1},\"line_color\":{\"value\":\"#1f77b4\"},\"x\":{\"field\":\"x\"},\"y\":{\"field\":\"y\"}},\"id\":\"1559\",\"type\":\"Circle\"},{\"attributes\":{\"data_source\":{\"id\":\"1163\",\"type\":\"ColumnDataSource\"},\"glyph\":{\"id\":\"1786\",\"type\":\"Circle\"},\"hover_glyph\":null,\"muted_glyph\":null,\"nonselection_glyph\":{\"id\":\"1787\",\"type\":\"Circle\"},\"selection_glyph\":null,\"view\":{\"id\":\"1784\",\"type\":\"CDSView\"}},\"id\":\"1788\",\"type\":\"GlyphRenderer\"},{\"attributes\":{\"filters\":[{\"id\":\"1543\",\"type\":\"GroupFilter\"}],\"source\":{\"id\":\"1163\",\"type\":\"ColumnDataSource\"}},\"id\":\"1544\",\"type\":\"CDSView\"},{\"attributes\":{\"filters\":[{\"id\":\"1735\",\"type\":\"GroupFilter\"}],\"source\":{\"id\":\"1163\",\"type\":\"ColumnDataSource\"}},\"id\":\"1736\",\"type\":\"CDSView\"},{\"attributes\":{\"fill_alpha\":{\"value\":0.1},\"fill_color\":{\"value\":\"#1f77b4\"},\"line_alpha\":{\"value\":0.1},\"line_color\":{\"value\":\"#1f77b4\"},\"x\":{\"field\":\"x\"},\"y\":{\"field\":\"y\"}},\"id\":\"1781\",\"type\":\"Circle\"},{\"attributes\":{\"column_name\":\"label\",\"group\":\"B528\"},\"id\":\"1729\",\"type\":\"GroupFilter\"},{\"attributes\":{\"callback\":null},\"id\":\"1132\",\"type\":\"DataRange1d\"},{\"attributes\":{\"fill_color\":{\"field\":\"label\",\"transform\":{\"id\":\"1164\",\"type\":\"CategoricalColorMapper\"}},\"line_color\":{\"field\":\"label\",\"transform\":{\"id\":\"1164\",\"type\":\"CategoricalColorMapper\"}},\"x\":{\"field\":\"x\"},\"y\":{\"field\":\"y\"}},\"id\":\"1438\",\"type\":\"Circle\"},{\"attributes\":{\"fill_alpha\":{\"value\":0.1},\"fill_color\":{\"value\":\"#1f77b4\"},\"line_alpha\":{\"value\":0.1},\"line_color\":{\"value\":\"#1f77b4\"},\"x\":{\"field\":\"x\"},\"y\":{\"field\":\"y\"}},\"id\":\"1745\",\"type\":\"Circle\"},{\"attributes\":{\"fill_color\":{\"field\":\"label\",\"transform\":{\"id\":\"1164\",\"type\":\"CategoricalColorMapper\"}},\"line_color\":{\"field\":\"label\",\"transform\":{\"id\":\"1164\",\"type\":\"CategoricalColorMapper\"}},\"x\":{\"field\":\"x\"},\"y\":{\"field\":\"y\"}},\"id\":\"1282\",\"type\":\"Circle\"},{\"attributes\":{\"filters\":[{\"id\":\"1729\",\"type\":\"GroupFilter\"}],\"source\":{\"id\":\"1163\",\"type\":\"ColumnDataSource\"}},\"id\":\"1730\",\"type\":\"CDSView\"},{\"attributes\":{\"column_name\":\"label\",\"group\":\"B536\"},\"id\":\"1777\",\"type\":\"GroupFilter\"},{\"attributes\":{\"filters\":[{\"id\":\"1369\",\"type\":\"GroupFilter\"}],\"source\":{\"id\":\"1163\",\"type\":\"ColumnDataSource\"}},\"id\":\"1370\",\"type\":\"CDSView\"},{\"attributes\":{\"fill_alpha\":{\"value\":0.1},\"fill_color\":{\"value\":\"#1f77b4\"},\"line_alpha\":{\"value\":0.1},\"line_color\":{\"value\":\"#1f77b4\"},\"x\":{\"field\":\"x\"},\"y\":{\"field\":\"y\"}},\"id\":\"1757\",\"type\":\"Circle\"},{\"attributes\":{\"column_name\":\"label\",\"group\":\"B455\"},\"id\":\"1369\",\"type\":\"GroupFilter\"},{\"attributes\":{\"fill_color\":{\"field\":\"label\",\"transform\":{\"id\":\"1164\",\"type\":\"CategoricalColorMapper\"}},\"line_color\":{\"field\":\"label\",\"transform\":{\"id\":\"1164\",\"type\":\"CategoricalColorMapper\"}},\"x\":{\"field\":\"x\"},\"y\":{\"field\":\"y\"}},\"id\":\"1288\",\"type\":\"Circle\"},{\"attributes\":{\"fill_color\":{\"field\":\"label\",\"transform\":{\"id\":\"1164\",\"type\":\"CategoricalColorMapper\"}},\"line_color\":{\"field\":\"label\",\"transform\":{\"id\":\"1164\",\"type\":\"CategoricalColorMapper\"}},\"x\":{\"field\":\"x\"},\"y\":{\"field\":\"y\"}},\"id\":\"1762\",\"type\":\"Circle\"},{\"attributes\":{\"fill_color\":{\"field\":\"label\",\"transform\":{\"id\":\"1164\",\"type\":\"CategoricalColorMapper\"}},\"line_color\":{\"field\":\"label\",\"transform\":{\"id\":\"1164\",\"type\":\"CategoricalColorMapper\"}},\"x\":{\"field\":\"x\"},\"y\":{\"field\":\"y\"}},\"id\":\"1294\",\"type\":\"Circle\"},{\"attributes\":{},\"id\":\"2073\",\"type\":\"UnionRenderers\"},{\"attributes\":{\"text\":\"PCA\"},\"id\":\"1128\",\"type\":\"Title\"},{\"attributes\":{\"fill_color\":{\"field\":\"label\",\"transform\":{\"id\":\"1164\",\"type\":\"CategoricalColorMapper\"}},\"line_color\":{\"field\":\"label\",\"transform\":{\"id\":\"1164\",\"type\":\"CategoricalColorMapper\"}},\"x\":{\"field\":\"x\"},\"y\":{\"field\":\"y\"}},\"id\":\"1540\",\"type\":\"Circle\"},{\"attributes\":{\"label\":{\"value\":\"B523\"},\"renderers\":[{\"id\":\"1704\",\"type\":\"GlyphRenderer\"}]},\"id\":\"2016\",\"type\":\"LegendItem\"},{\"attributes\":{\"fill_alpha\":{\"value\":0.1},\"fill_color\":{\"value\":\"#1f77b4\"},\"line_alpha\":{\"value\":0.1},\"line_color\":{\"value\":\"#1f77b4\"},\"x\":{\"field\":\"x\"},\"y\":{\"field\":\"y\"}},\"id\":\"1295\",\"type\":\"Circle\"},{\"attributes\":{\"column_name\":\"label\",\"group\":\"B467\"},\"id\":\"1435\",\"type\":\"GroupFilter\"},{\"attributes\":{\"fill_color\":{\"field\":\"label\",\"transform\":{\"id\":\"1164\",\"type\":\"CategoricalColorMapper\"}},\"line_color\":{\"field\":\"label\",\"transform\":{\"id\":\"1164\",\"type\":\"CategoricalColorMapper\"}},\"x\":{\"field\":\"x\"},\"y\":{\"field\":\"y\"}},\"id\":\"1354\",\"type\":\"Circle\"},{\"attributes\":{\"column_name\":\"label\",\"group\":\"B529\"},\"id\":\"1735\",\"type\":\"GroupFilter\"},{\"attributes\":{\"data_source\":{\"id\":\"1163\",\"type\":\"ColumnDataSource\"},\"glyph\":{\"id\":\"1852\",\"type\":\"Circle\"},\"hover_glyph\":null,\"muted_glyph\":null,\"nonselection_glyph\":{\"id\":\"1853\",\"type\":\"Circle\"},\"selection_glyph\":null,\"view\":{\"id\":\"1850\",\"type\":\"CDSView\"}},\"id\":\"1854\",\"type\":\"GlyphRenderer\"},{\"attributes\":{\"fill_alpha\":{\"value\":0.1},\"fill_color\":{\"value\":\"#1f77b4\"},\"line_alpha\":{\"value\":0.1},\"line_color\":{\"value\":\"#1f77b4\"},\"x\":{\"field\":\"x\"},\"y\":{\"field\":\"y\"}},\"id\":\"1727\",\"type\":\"Circle\"},{\"attributes\":{\"label\":{\"value\":\"B527\"},\"renderers\":[{\"id\":\"1728\",\"type\":\"GlyphRenderer\"}]},\"id\":\"2020\",\"type\":\"LegendItem\"},{\"attributes\":{},\"id\":\"2074\",\"type\":\"Selection\"},{\"attributes\":{\"fill_alpha\":{\"value\":0.1},\"fill_color\":{\"value\":\"#1f77b4\"},\"line_alpha\":{\"value\":0.1},\"line_color\":{\"value\":\"#1f77b4\"},\"x\":{\"field\":\"x\"},\"y\":{\"field\":\"y\"}},\"id\":\"1289\",\"type\":\"Circle\"},{\"attributes\":{\"fill_color\":{\"field\":\"label\",\"transform\":{\"id\":\"1164\",\"type\":\"CategoricalColorMapper\"}},\"line_color\":{\"field\":\"label\",\"transform\":{\"id\":\"1164\",\"type\":\"CategoricalColorMapper\"}},\"x\":{\"field\":\"x\"},\"y\":{\"field\":\"y\"}},\"id\":\"1372\",\"type\":\"Circle\"},{\"attributes\":{\"fill_alpha\":{\"value\":0.1},\"fill_color\":{\"value\":\"#1f77b4\"},\"line_alpha\":{\"value\":0.1},\"line_color\":{\"value\":\"#1f77b4\"},\"x\":{\"field\":\"x\"},\"y\":{\"field\":\"y\"}},\"id\":\"1541\",\"type\":\"Circle\"},{\"attributes\":{\"data_source\":{\"id\":\"1163\",\"type\":\"ColumnDataSource\"},\"glyph\":{\"id\":\"1762\",\"type\":\"Circle\"},\"hover_glyph\":null,\"muted_glyph\":null,\"nonselection_glyph\":{\"id\":\"1763\",\"type\":\"Circle\"},\"selection_glyph\":null,\"view\":{\"id\":\"1760\",\"type\":\"CDSView\"}},\"id\":\"1764\",\"type\":\"GlyphRenderer\"},{\"attributes\":{\"fill_alpha\":{\"value\":0.1},\"fill_color\":{\"value\":\"#1f77b4\"},\"line_alpha\":{\"value\":0.1},\"line_color\":{\"value\":\"#1f77b4\"},\"x\":{\"field\":\"x\"},\"y\":{\"field\":\"y\"}},\"id\":\"1751\",\"type\":\"Circle\"},{\"attributes\":{\"label\":{\"value\":\"B524\"},\"renderers\":[{\"id\":\"1710\",\"type\":\"GlyphRenderer\"}]},\"id\":\"2017\",\"type\":\"LegendItem\"},{\"attributes\":{\"bottom_units\":\"screen\",\"fill_alpha\":{\"value\":0.5},\"fill_color\":{\"value\":\"lightgrey\"},\"left_units\":\"screen\",\"level\":\"overlay\",\"line_alpha\":{\"value\":1.0},\"line_color\":{\"value\":\"black\"},\"line_dash\":[4,4],\"line_width\":{\"value\":2},\"render_mode\":\"css\",\"right_units\":\"screen\",\"top_units\":\"screen\"},\"id\":\"2075\",\"type\":\"BoxAnnotation\"},{\"attributes\":{\"label\":{\"value\":\"B526\"},\"renderers\":[{\"id\":\"1722\",\"type\":\"GlyphRenderer\"}]},\"id\":\"2019\",\"type\":\"LegendItem\"},{\"attributes\":{\"column_name\":\"label\",\"group\":\"B495\"},\"id\":\"1597\",\"type\":\"GroupFilter\"},{\"attributes\":{\"filters\":[{\"id\":\"1741\",\"type\":\"GroupFilter\"}],\"source\":{\"id\":\"1163\",\"type\":\"ColumnDataSource\"}},\"id\":\"1742\",\"type\":\"CDSView\"},{\"attributes\":{\"fill_alpha\":{\"value\":0.1},\"fill_color\":{\"value\":\"#1f77b4\"},\"line_alpha\":{\"value\":0.1},\"line_color\":{\"value\":\"#1f77b4\"},\"x\":{\"field\":\"x\"},\"y\":{\"field\":\"y\"}},\"id\":\"1337\",\"type\":\"Circle\"},{\"attributes\":{},\"id\":\"2069\",\"type\":\"BasicTickFormatter\"},{\"attributes\":{\"data_source\":{\"id\":\"1163\",\"type\":\"ColumnDataSource\"},\"glyph\":{\"id\":\"1540\",\"type\":\"Circle\"},\"hover_glyph\":null,\"muted_glyph\":null,\"nonselection_glyph\":{\"id\":\"1541\",\"type\":\"Circle\"},\"selection_glyph\":null,\"view\":{\"id\":\"1538\",\"type\":\"CDSView\"}},\"id\":\"1542\",\"type\":\"GlyphRenderer\"},{\"attributes\":{\"filters\":[{\"id\":\"1285\",\"type\":\"GroupFilter\"}],\"source\":{\"id\":\"1163\",\"type\":\"ColumnDataSource\"}},\"id\":\"1286\",\"type\":\"CDSView\"},{\"attributes\":{\"label\":{\"value\":\"B525\"},\"renderers\":[{\"id\":\"1716\",\"type\":\"GlyphRenderer\"}]},\"id\":\"2018\",\"type\":\"LegendItem\"},{\"attributes\":{},\"id\":\"2071\",\"type\":\"BasicTickFormatter\"},{\"attributes\":{\"fill_alpha\":{\"value\":0.1},\"fill_color\":{\"value\":\"#1f77b4\"},\"line_alpha\":{\"value\":0.1},\"line_color\":{\"value\":\"#1f77b4\"},\"x\":{\"field\":\"x\"},\"y\":{\"field\":\"y\"}},\"id\":\"1355\",\"type\":\"Circle\"},{\"attributes\":{\"fill_color\":{\"field\":\"label\",\"transform\":{\"id\":\"1164\",\"type\":\"CategoricalColorMapper\"}},\"line_color\":{\"field\":\"label\",\"transform\":{\"id\":\"1164\",\"type\":\"CategoricalColorMapper\"}},\"x\":{\"field\":\"x\"},\"y\":{\"field\":\"y\"}},\"id\":\"1558\",\"type\":\"Circle\"},{\"attributes\":{\"data_source\":{\"id\":\"1163\",\"type\":\"ColumnDataSource\"},\"glyph\":{\"id\":\"1282\",\"type\":\"Circle\"},\"hover_glyph\":null,\"muted_glyph\":null,\"nonselection_glyph\":{\"id\":\"1283\",\"type\":\"Circle\"},\"selection_glyph\":null,\"view\":{\"id\":\"1280\",\"type\":\"CDSView\"}},\"id\":\"1284\",\"type\":\"GlyphRenderer\"},{\"attributes\":{\"label\":{\"value\":\"B522\"},\"renderers\":[{\"id\":\"1698\",\"type\":\"GlyphRenderer\"}]},\"id\":\"2015\",\"type\":\"LegendItem\"},{\"attributes\":{\"label\":{\"value\":\"B535\"},\"renderers\":[{\"id\":\"1776\",\"type\":\"GlyphRenderer\"}]},\"id\":\"2028\",\"type\":\"LegendItem\"},{\"attributes\":{\"fill_alpha\":{\"value\":0.1},\"fill_color\":{\"value\":\"#1f77b4\"},\"line_alpha\":{\"value\":0.1},\"line_color\":{\"value\":\"#1f77b4\"},\"x\":{\"field\":\"x\"},\"y\":{\"field\":\"y\"}},\"id\":\"1775\",\"type\":\"Circle\"},{\"attributes\":{\"callback\":null},\"id\":\"1130\",\"type\":\"DataRange1d\"},{\"attributes\":{\"fill_color\":{\"field\":\"label\",\"transform\":{\"id\":\"1164\",\"type\":\"CategoricalColorMapper\"}},\"line_color\":{\"field\":\"label\",\"transform\":{\"id\":\"1164\",\"type\":\"CategoricalColorMapper\"}},\"x\":{\"field\":\"x\"},\"y\":{\"field\":\"y\"}},\"id\":\"1546\",\"type\":\"Circle\"},{\"attributes\":{\"fill_alpha\":{\"value\":0.1},\"fill_color\":{\"value\":\"#1f77b4\"},\"line_alpha\":{\"value\":0.1},\"line_color\":{\"value\":\"#1f77b4\"},\"x\":{\"field\":\"x\"},\"y\":{\"field\":\"y\"}},\"id\":\"1733\",\"type\":\"Circle\"},{\"attributes\":{\"fill_alpha\":{\"value\":0.1},\"fill_color\":{\"value\":\"#1f77b4\"},\"line_alpha\":{\"value\":0.1},\"line_color\":{\"value\":\"#1f77b4\"},\"x\":{\"field\":\"x\"},\"y\":{\"field\":\"y\"}},\"id\":\"1553\",\"type\":\"Circle\"},{\"attributes\":{\"data_source\":{\"id\":\"1163\",\"type\":\"ColumnDataSource\"},\"glyph\":{\"id\":\"1336\",\"type\":\"Circle\"},\"hover_glyph\":null,\"muted_glyph\":null,\"nonselection_glyph\":{\"id\":\"1337\",\"type\":\"Circle\"},\"selection_glyph\":null,\"view\":{\"id\":\"1334\",\"type\":\"CDSView\"}},\"id\":\"1338\",\"type\":\"GlyphRenderer\"},{\"attributes\":{\"fill_alpha\":{\"value\":0.1},\"fill_color\":{\"value\":\"#1f77b4\"},\"line_alpha\":{\"value\":0.1},\"line_color\":{\"value\":\"#1f77b4\"},\"x\":{\"field\":\"x\"},\"y\":{\"field\":\"y\"}},\"id\":\"1283\",\"type\":\"Circle\"},{\"attributes\":{\"fill_color\":{\"field\":\"label\",\"transform\":{\"id\":\"1164\",\"type\":\"CategoricalColorMapper\"}},\"line_color\":{\"field\":\"label\",\"transform\":{\"id\":\"1164\",\"type\":\"CategoricalColorMapper\"}},\"x\":{\"field\":\"x\"},\"y\":{\"field\":\"y\"}},\"id\":\"1894\",\"type\":\"Circle\"},{\"attributes\":{\"filters\":[{\"id\":\"1753\",\"type\":\"GroupFilter\"}],\"source\":{\"id\":\"1163\",\"type\":\"ColumnDataSource\"}},\"id\":\"1754\",\"type\":\"CDSView\"},{\"attributes\":{\"label\":{\"value\":\"B506\"},\"renderers\":[{\"id\":\"1662\",\"type\":\"GlyphRenderer\"}]},\"id\":\"2009\",\"type\":\"LegendItem\"},{\"attributes\":{\"label\":{\"value\":\"B507\"},\"renderers\":[{\"id\":\"1668\",\"type\":\"GlyphRenderer\"}]},\"id\":\"2010\",\"type\":\"LegendItem\"},{\"attributes\":{\"filters\":[{\"id\":\"1303\",\"type\":\"GroupFilter\"}],\"source\":{\"id\":\"1163\",\"type\":\"ColumnDataSource\"}},\"id\":\"1304\",\"type\":\"CDSView\"},{\"attributes\":{\"fill_color\":{\"field\":\"label\",\"transform\":{\"id\":\"1164\",\"type\":\"CategoricalColorMapper\"}},\"line_color\":{\"field\":\"label\",\"transform\":{\"id\":\"1164\",\"type\":\"CategoricalColorMapper\"}},\"x\":{\"field\":\"x\"},\"y\":{\"field\":\"y\"}},\"id\":\"1342\",\"type\":\"Circle\"},{\"attributes\":{\"fill_color\":{\"field\":\"label\",\"transform\":{\"id\":\"1164\",\"type\":\"CategoricalColorMapper\"}},\"line_color\":{\"field\":\"label\",\"transform\":{\"id\":\"1164\",\"type\":\"CategoricalColorMapper\"}},\"x\":{\"field\":\"x\"},\"y\":{\"field\":\"y\"}},\"id\":\"1738\",\"type\":\"Circle\"},{\"attributes\":{\"filters\":[{\"id\":\"1549\",\"type\":\"GroupFilter\"}],\"source\":{\"id\":\"1163\",\"type\":\"ColumnDataSource\"}},\"id\":\"1550\",\"type\":\"CDSView\"},{\"attributes\":{\"label\":{\"value\":\"B508\"},\"renderers\":[{\"id\":\"1674\",\"type\":\"GlyphRenderer\"}]},\"id\":\"2011\",\"type\":\"LegendItem\"},{\"attributes\":{\"fill_color\":{\"field\":\"label\",\"transform\":{\"id\":\"1164\",\"type\":\"CategoricalColorMapper\"}},\"line_color\":{\"field\":\"label\",\"transform\":{\"id\":\"1164\",\"type\":\"CategoricalColorMapper\"}},\"x\":{\"field\":\"x\"},\"y\":{\"field\":\"y\"}},\"id\":\"1300\",\"type\":\"Circle\"},{\"attributes\":{\"fill_alpha\":{\"value\":0.1},\"fill_color\":{\"value\":\"#1f77b4\"},\"line_alpha\":{\"value\":0.1},\"line_color\":{\"value\":\"#1f77b4\"},\"x\":{\"field\":\"x\"},\"y\":{\"field\":\"y\"}},\"id\":\"1739\",\"type\":\"Circle\"},{\"attributes\":{\"fill_color\":{\"field\":\"label\",\"transform\":{\"id\":\"1164\",\"type\":\"CategoricalColorMapper\"}},\"line_color\":{\"field\":\"label\",\"transform\":{\"id\":\"1164\",\"type\":\"CategoricalColorMapper\"}},\"x\":{\"field\":\"x\"},\"y\":{\"field\":\"y\"}},\"id\":\"1780\",\"type\":\"Circle\"},{\"attributes\":{\"data_source\":{\"id\":\"1163\",\"type\":\"ColumnDataSource\"},\"glyph\":{\"id\":\"1744\",\"type\":\"Circle\"},\"hover_glyph\":null,\"muted_glyph\":null,\"nonselection_glyph\":{\"id\":\"1745\",\"type\":\"Circle\"},\"selection_glyph\":null,\"view\":{\"id\":\"1742\",\"type\":\"CDSView\"}},\"id\":\"1746\",\"type\":\"GlyphRenderer\"},{\"attributes\":{\"fill_color\":{\"field\":\"label\",\"transform\":{\"id\":\"1164\",\"type\":\"CategoricalColorMapper\"}},\"line_color\":{\"field\":\"label\",\"transform\":{\"id\":\"1164\",\"type\":\"CategoricalColorMapper\"}},\"x\":{\"field\":\"x\"},\"y\":{\"field\":\"y\"}},\"id\":\"1360\",\"type\":\"Circle\"},{\"attributes\":{\"label\":{\"value\":\"B509\"},\"renderers\":[{\"id\":\"1680\",\"type\":\"GlyphRenderer\"}]},\"id\":\"2012\",\"type\":\"LegendItem\"},{\"attributes\":{\"fill_alpha\":{\"value\":0.1},\"fill_color\":{\"value\":\"#1f77b4\"},\"line_alpha\":{\"value\":0.1},\"line_color\":{\"value\":\"#1f77b4\"},\"x\":{\"field\":\"x\"},\"y\":{\"field\":\"y\"}},\"id\":\"1301\",\"type\":\"Circle\"},{\"attributes\":{\"filters\":[{\"id\":\"1339\",\"type\":\"GroupFilter\"}],\"source\":{\"id\":\"1163\",\"type\":\"ColumnDataSource\"}},\"id\":\"1340\",\"type\":\"CDSView\"},{\"attributes\":{\"data_source\":{\"id\":\"1163\",\"type\":\"ColumnDataSource\"},\"glyph\":{\"id\":\"1546\",\"type\":\"Circle\"},\"hover_glyph\":null,\"muted_glyph\":null,\"nonselection_glyph\":{\"id\":\"1547\",\"type\":\"Circle\"},\"selection_glyph\":null,\"view\":{\"id\":\"1544\",\"type\":\"CDSView\"}},\"id\":\"1548\",\"type\":\"GlyphRenderer\"},{\"attributes\":{\"label\":{\"value\":\"B515\"},\"renderers\":[{\"id\":\"1686\",\"type\":\"GlyphRenderer\"}]},\"id\":\"2013\",\"type\":\"LegendItem\"},{\"attributes\":{\"column_name\":\"label\",\"group\":\"B452\"},\"id\":\"1351\",\"type\":\"GroupFilter\"},{\"attributes\":{\"column_name\":\"label\",\"group\":\"B533\"},\"id\":\"1759\",\"type\":\"GroupFilter\"},{\"attributes\":{\"fill_alpha\":{\"value\":0.1},\"fill_color\":{\"value\":\"#1f77b4\"},\"line_alpha\":{\"value\":0.1},\"line_color\":{\"value\":\"#1f77b4\"},\"x\":{\"field\":\"x\"},\"y\":{\"field\":\"y\"}},\"id\":\"1763\",\"type\":\"Circle\"},{\"attributes\":{\"label\":{\"value\":\"B518\"},\"renderers\":[{\"id\":\"1692\",\"type\":\"GlyphRenderer\"}]},\"id\":\"2014\",\"type\":\"LegendItem\"},{\"attributes\":{\"filters\":[{\"id\":\"1279\",\"type\":\"GroupFilter\"}],\"source\":{\"id\":\"1163\",\"type\":\"ColumnDataSource\"}},\"id\":\"1280\",\"type\":\"CDSView\"},{\"attributes\":{\"fill_alpha\":{\"value\":0.1},\"fill_color\":{\"value\":\"#1f77b4\"},\"line_alpha\":{\"value\":0.1},\"line_color\":{\"value\":\"#1f77b4\"},\"x\":{\"field\":\"x\"},\"y\":{\"field\":\"y\"}},\"id\":\"1343\",\"type\":\"Circle\"},{\"attributes\":{\"label\":{\"value\":\"B528\"},\"renderers\":[{\"id\":\"1734\",\"type\":\"GlyphRenderer\"}]},\"id\":\"2021\",\"type\":\"LegendItem\"},{\"attributes\":{},\"id\":\"2072\",\"type\":\"BasicTicker\"},{\"attributes\":{\"data_source\":{\"id\":\"1163\",\"type\":\"ColumnDataSource\"},\"glyph\":{\"id\":\"1300\",\"type\":\"Circle\"},\"hover_glyph\":null,\"muted_glyph\":null,\"nonselection_glyph\":{\"id\":\"1301\",\"type\":\"Circle\"},\"selection_glyph\":null,\"view\":{\"id\":\"1298\",\"type\":\"CDSView\"}},\"id\":\"1302\",\"type\":\"GlyphRenderer\"},{\"attributes\":{\"column_name\":\"label\",\"group\":\"B531\"},\"id\":\"1747\",\"type\":\"GroupFilter\"},{\"attributes\":{\"label\":{\"value\":\"B529\"},\"renderers\":[{\"id\":\"1740\",\"type\":\"GlyphRenderer\"}]},\"id\":\"2022\",\"type\":\"LegendItem\"},{\"attributes\":{\"column_name\":\"label\",\"group\":\"B488\"},\"id\":\"1555\",\"type\":\"GroupFilter\"},{\"attributes\":{\"data_source\":{\"id\":\"1163\",\"type\":\"ColumnDataSource\"},\"glyph\":{\"id\":\"1360\",\"type\":\"Circle\"},\"hover_glyph\":null,\"muted_glyph\":null,\"nonselection_glyph\":{\"id\":\"1361\",\"type\":\"Circle\"},\"selection_glyph\":null,\"view\":{\"id\":\"1358\",\"type\":\"CDSView\"}},\"id\":\"1362\",\"type\":\"GlyphRenderer\"},{\"attributes\":{\"filters\":[{\"id\":\"1297\",\"type\":\"GroupFilter\"}],\"source\":{\"id\":\"1163\",\"type\":\"ColumnDataSource\"}},\"id\":\"1298\",\"type\":\"CDSView\"},{\"attributes\":{\"data_source\":{\"id\":\"1163\",\"type\":\"ColumnDataSource\"},\"glyph\":{\"id\":\"1756\",\"type\":\"Circle\"},\"hover_glyph\":null,\"muted_glyph\":null,\"nonselection_glyph\":{\"id\":\"1757\",\"type\":\"Circle\"},\"selection_glyph\":null,\"view\":{\"id\":\"1754\",\"type\":\"CDSView\"}},\"id\":\"1758\",\"type\":\"GlyphRenderer\"},{\"attributes\":{\"label\":{\"value\":\"B530\"},\"renderers\":[{\"id\":\"1746\",\"type\":\"GlyphRenderer\"}]},\"id\":\"2023\",\"type\":\"LegendItem\"},{\"attributes\":{\"fill_color\":{\"field\":\"label\",\"transform\":{\"id\":\"1164\",\"type\":\"CategoricalColorMapper\"}},\"line_color\":{\"field\":\"label\",\"transform\":{\"id\":\"1164\",\"type\":\"CategoricalColorMapper\"}},\"x\":{\"field\":\"x\"},\"y\":{\"field\":\"y\"}},\"id\":\"1732\",\"type\":\"Circle\"},{\"attributes\":{\"column_name\":\"label\",\"group\":\"B439\"},\"id\":\"1291\",\"type\":\"GroupFilter\"},{\"attributes\":{\"filters\":[{\"id\":\"1363\",\"type\":\"GroupFilter\"}],\"source\":{\"id\":\"1163\",\"type\":\"ColumnDataSource\"}},\"id\":\"1364\",\"type\":\"CDSView\"},{\"attributes\":{},\"id\":\"2067\",\"type\":\"BasicTickFormatter\"},{\"attributes\":{\"label\":{\"value\":\"B531\"},\"renderers\":[{\"id\":\"1752\",\"type\":\"GlyphRenderer\"}]},\"id\":\"2024\",\"type\":\"LegendItem\"},{\"attributes\":{\"data_source\":{\"id\":\"1163\",\"type\":\"ColumnDataSource\"},\"glyph\":{\"id\":\"1750\",\"type\":\"Circle\"},\"hover_glyph\":null,\"muted_glyph\":null,\"nonselection_glyph\":{\"id\":\"1751\",\"type\":\"Circle\"},\"selection_glyph\":null,\"view\":{\"id\":\"1748\",\"type\":\"CDSView\"}},\"id\":\"1752\",\"type\":\"GlyphRenderer\"},{\"attributes\":{\"filters\":[{\"id\":\"1291\",\"type\":\"GroupFilter\"}],\"source\":{\"id\":\"1163\",\"type\":\"ColumnDataSource\"}},\"id\":\"1292\",\"type\":\"CDSView\"},{\"attributes\":{\"label\":{\"value\":\"B461\"},\"renderers\":[{\"id\":\"1404\",\"type\":\"GlyphRenderer\"}]},\"id\":\"1966\",\"type\":\"LegendItem\"},{\"attributes\":{\"data_source\":{\"id\":\"1163\",\"type\":\"ColumnDataSource\"},\"glyph\":{\"id\":\"1774\",\"type\":\"Circle\"},\"hover_glyph\":null,\"muted_glyph\":null,\"nonselection_glyph\":{\"id\":\"1775\",\"type\":\"Circle\"},\"selection_glyph\":null,\"view\":{\"id\":\"1772\",\"type\":\"CDSView\"}},\"id\":\"1776\",\"type\":\"GlyphRenderer\"},{\"attributes\":{\"filters\":[{\"id\":\"1555\",\"type\":\"GroupFilter\"}],\"source\":{\"id\":\"1163\",\"type\":\"ColumnDataSource\"}},\"id\":\"1556\",\"type\":\"CDSView\"},{\"attributes\":{\"label\":{\"value\":\"B532\"},\"renderers\":[{\"id\":\"1758\",\"type\":\"GlyphRenderer\"}]},\"id\":\"2025\",\"type\":\"LegendItem\"},{\"attributes\":{\"column_name\":\"label\",\"group\":\"B486\"},\"id\":\"1543\",\"type\":\"GroupFilter\"},{\"attributes\":{\"fill_alpha\":{\"value\":0.1},\"fill_color\":{\"value\":\"#1f77b4\"},\"line_alpha\":{\"value\":0.1},\"line_color\":{\"value\":\"#1f77b4\"},\"x\":{\"field\":\"x\"},\"y\":{\"field\":\"y\"}},\"id\":\"1787\",\"type\":\"Circle\"},{\"attributes\":{\"data_source\":{\"id\":\"1163\",\"type\":\"ColumnDataSource\"},\"glyph\":{\"id\":\"1372\",\"type\":\"Circle\"},\"hover_glyph\":null,\"muted_glyph\":null,\"nonselection_glyph\":{\"id\":\"1373\",\"type\":\"Circle\"},\"selection_glyph\":null,\"view\":{\"id\":\"1370\",\"type\":\"CDSView\"}},\"id\":\"1374\",\"type\":\"GlyphRenderer\"},{\"attributes\":{\"fill_color\":{\"field\":\"label\",\"transform\":{\"id\":\"1164\",\"type\":\"CategoricalColorMapper\"}},\"line_color\":{\"field\":\"label\",\"transform\":{\"id\":\"1164\",\"type\":\"CategoricalColorMapper\"}},\"x\":{\"field\":\"x\"},\"y\":{\"field\":\"y\"}},\"id\":\"1750\",\"type\":\"Circle\"},{\"attributes\":{\"label\":{\"value\":\"B533\"},\"renderers\":[{\"id\":\"1764\",\"type\":\"GlyphRenderer\"}]},\"id\":\"2026\",\"type\":\"LegendItem\"},{\"attributes\":{\"fill_alpha\":{\"value\":0.1},\"fill_color\":{\"value\":\"#1f77b4\"},\"line_alpha\":{\"value\":0.1},\"line_color\":{\"value\":\"#1f77b4\"},\"x\":{\"field\":\"x\"},\"y\":{\"field\":\"y\"}},\"id\":\"1547\",\"type\":\"Circle\"},{\"attributes\":{\"filters\":[{\"id\":\"1597\",\"type\":\"GroupFilter\"}],\"source\":{\"id\":\"1163\",\"type\":\"ColumnDataSource\"}},\"id\":\"1598\",\"type\":\"CDSView\"},{\"attributes\":{\"filters\":[{\"id\":\"1777\",\"type\":\"GroupFilter\"}],\"source\":{\"id\":\"1163\",\"type\":\"ColumnDataSource\"}},\"id\":\"1778\",\"type\":\"CDSView\"},{\"attributes\":{\"filters\":[{\"id\":\"1891\",\"type\":\"GroupFilter\"}],\"source\":{\"id\":\"1163\",\"type\":\"ColumnDataSource\"}},\"id\":\"1892\",\"type\":\"CDSView\"},{\"attributes\":{\"column_name\":\"label\",\"group\":\"B530\"},\"id\":\"1741\",\"type\":\"GroupFilter\"},{\"attributes\":{\"data_source\":{\"id\":\"1163\",\"type\":\"ColumnDataSource\"},\"glyph\":{\"id\":\"1342\",\"type\":\"Circle\"},\"hover_glyph\":null,\"muted_glyph\":null,\"nonselection_glyph\":{\"id\":\"1343\",\"type\":\"Circle\"},\"selection_glyph\":null,\"view\":{\"id\":\"1340\",\"type\":\"CDSView\"}},\"id\":\"1344\",\"type\":\"GlyphRenderer\"},{\"attributes\":{\"column_name\":\"label\",\"group\":\"B489\"},\"id\":\"1561\",\"type\":\"GroupFilter\"},{\"attributes\":{\"data_source\":{\"id\":\"1163\",\"type\":\"ColumnDataSource\"},\"glyph\":{\"id\":\"1726\",\"type\":\"Circle\"},\"hover_glyph\":null,\"muted_glyph\":null,\"nonselection_glyph\":{\"id\":\"1727\",\"type\":\"Circle\"},\"selection_glyph\":null,\"view\":{\"id\":\"1724\",\"type\":\"CDSView\"}},\"id\":\"1728\",\"type\":\"GlyphRenderer\"},{\"attributes\":{\"fill_color\":{\"field\":\"label\",\"transform\":{\"id\":\"1164\",\"type\":\"CategoricalColorMapper\"}},\"line_color\":{\"field\":\"label\",\"transform\":{\"id\":\"1164\",\"type\":\"CategoricalColorMapper\"}},\"x\":{\"field\":\"x\"},\"y\":{\"field\":\"y\"}},\"id\":\"1786\",\"type\":\"Circle\"},{\"attributes\":{\"label\":{\"value\":\"S_7213\"},\"renderers\":[{\"id\":\"1812\",\"type\":\"GlyphRenderer\"}]},\"id\":\"2034\",\"type\":\"LegendItem\"},{\"attributes\":{\"column_name\":\"label\",\"group\":\"B451\"},\"id\":\"1345\",\"type\":\"GroupFilter\"},{\"attributes\":{\"label\":{\"value\":\"S_7227\"},\"renderers\":[{\"id\":\"1818\",\"type\":\"GlyphRenderer\"}]},\"id\":\"2035\",\"type\":\"LegendItem\"},{\"attributes\":{\"filters\":[{\"id\":\"1759\",\"type\":\"GroupFilter\"}],\"source\":{\"id\":\"1163\",\"type\":\"ColumnDataSource\"}},\"id\":\"1760\",\"type\":\"CDSView\"},{\"attributes\":{\"fill_alpha\":{\"value\":0.1},\"fill_color\":{\"value\":\"#1f77b4\"},\"line_alpha\":{\"value\":0.1},\"line_color\":{\"value\":\"#1f77b4\"},\"x\":{\"field\":\"x\"},\"y\":{\"field\":\"y\"}},\"id\":\"1895\",\"type\":\"Circle\"},{\"attributes\":{\"column_name\":\"label\",\"group\":\"B454\"},\"id\":\"1363\",\"type\":\"GroupFilter\"},{\"attributes\":{\"fill_color\":{\"field\":\"label\",\"transform\":{\"id\":\"1164\",\"type\":\"CategoricalColorMapper\"}},\"line_color\":{\"field\":\"label\",\"transform\":{\"id\":\"1164\",\"type\":\"CategoricalColorMapper\"}},\"x\":{\"field\":\"x\"},\"y\":{\"field\":\"y\"}},\"id\":\"1552\",\"type\":\"Circle\"},{\"attributes\":{\"label\":{\"value\":\"S_7241\"},\"renderers\":[{\"id\":\"1824\",\"type\":\"GlyphRenderer\"}]},\"id\":\"2036\",\"type\":\"LegendItem\"},{\"attributes\":{\"column_name\":\"label\",\"group\":\"WGS_163b\"},\"id\":\"1855\",\"type\":\"GroupFilter\"},{\"attributes\":{\"fill_color\":{\"field\":\"label\",\"transform\":{\"id\":\"1164\",\"type\":\"CategoricalColorMapper\"}},\"line_color\":{\"field\":\"label\",\"transform\":{\"id\":\"1164\",\"type\":\"CategoricalColorMapper\"}},\"x\":{\"field\":\"x\"},\"y\":{\"field\":\"y\"}},\"id\":\"1306\",\"type\":\"Circle\"},{\"attributes\":{\"column_name\":\"label\",\"group\":\"B456\"},\"id\":\"1375\",\"type\":\"GroupFilter\"},{\"attributes\":{\"column_name\":\"label\",\"group\":\"B532\"},\"id\":\"1753\",\"type\":\"GroupFilter\"},{\"attributes\":{\"data_source\":{\"id\":\"1163\",\"type\":\"ColumnDataSource\"},\"glyph\":{\"id\":\"1738\",\"type\":\"Circle\"},\"hover_glyph\":null,\"muted_glyph\":null,\"nonselection_glyph\":{\"id\":\"1739\",\"type\":\"Circle\"},\"selection_glyph\":null,\"view\":{\"id\":\"1736\",\"type\":\"CDSView\"}},\"id\":\"1740\",\"type\":\"GlyphRenderer\"},{\"attributes\":{\"fill_color\":{\"field\":\"label\",\"transform\":{\"id\":\"1164\",\"type\":\"CategoricalColorMapper\"}},\"line_color\":{\"field\":\"label\",\"transform\":{\"id\":\"1164\",\"type\":\"CategoricalColorMapper\"}},\"x\":{\"field\":\"x\"},\"y\":{\"field\":\"y\"}},\"id\":\"1600\",\"type\":\"Circle\"},{\"attributes\":{\"label\":{\"value\":\"S_7246\"},\"renderers\":[{\"id\":\"1830\",\"type\":\"GlyphRenderer\"}]},\"id\":\"2037\",\"type\":\"LegendItem\"},{\"attributes\":{\"data_source\":{\"id\":\"1163\",\"type\":\"ColumnDataSource\"},\"glyph\":{\"id\":\"1552\",\"type\":\"Circle\"},\"hover_glyph\":null,\"muted_glyph\":null,\"nonselection_glyph\":{\"id\":\"1553\",\"type\":\"Circle\"},\"selection_glyph\":null,\"view\":{\"id\":\"1550\",\"type\":\"CDSView\"}},\"id\":\"1554\",\"type\":\"GlyphRenderer\"},{\"attributes\":{\"filters\":[{\"id\":\"1375\",\"type\":\"GroupFilter\"}],\"source\":{\"id\":\"1163\",\"type\":\"ColumnDataSource\"}},\"id\":\"1376\",\"type\":\"CDSView\"},{\"attributes\":{\"fill_color\":{\"field\":\"label\",\"transform\":{\"id\":\"1164\",\"type\":\"CategoricalColorMapper\"}},\"line_color\":{\"field\":\"label\",\"transform\":{\"id\":\"1164\",\"type\":\"CategoricalColorMapper\"}},\"x\":{\"field\":\"x\"},\"y\":{\"field\":\"y\"}},\"id\":\"1690\",\"type\":\"Circle\"},{\"attributes\":{\"label\":{\"value\":\"S_7254\"},\"renderers\":[{\"id\":\"1836\",\"type\":\"GlyphRenderer\"}]},\"id\":\"2038\",\"type\":\"LegendItem\"},{\"attributes\":{\"fill_alpha\":{\"value\":0.1},\"fill_color\":{\"value\":\"#1f77b4\"},\"line_alpha\":{\"value\":0.1},\"line_color\":{\"value\":\"#1f77b4\"},\"x\":{\"field\":\"x\"},\"y\":{\"field\":\"y\"}},\"id\":\"1307\",\"type\":\"Circle\"},{\"attributes\":{\"label\":{\"value\":\"S_7274\"},\"renderers\":[{\"id\":\"1842\",\"type\":\"GlyphRenderer\"}]},\"id\":\"2039\",\"type\":\"LegendItem\"},{\"attributes\":{\"fill_alpha\":{\"value\":0.1},\"fill_color\":{\"value\":\"#1f77b4\"},\"line_alpha\":{\"value\":0.1},\"line_color\":{\"value\":\"#1f77b4\"},\"x\":{\"field\":\"x\"},\"y\":{\"field\":\"y\"}},\"id\":\"1361\",\"type\":\"Circle\"},{\"attributes\":{\"filters\":[{\"id\":\"1783\",\"type\":\"GroupFilter\"}],\"source\":{\"id\":\"1163\",\"type\":\"ColumnDataSource\"}},\"id\":\"1784\",\"type\":\"CDSView\"},{\"attributes\":{\"column_name\":\"label\",\"group\":\"B442\"},\"id\":\"1303\",\"type\":\"GroupFilter\"},{\"attributes\":{\"filters\":[{\"id\":\"1519\",\"type\":\"GroupFilter\"}],\"source\":{\"id\":\"1163\",\"type\":\"ColumnDataSource\"}},\"id\":\"1520\",\"type\":\"CDSView\"},{\"attributes\":{\"label\":{\"value\":\"S_7307\"},\"renderers\":[{\"id\":\"1848\",\"type\":\"GlyphRenderer\"}]},\"id\":\"2040\",\"type\":\"LegendItem\"},{\"attributes\":{\"column_name\":\"label\",\"group\":\"B534\"},\"id\":\"1765\",\"type\":\"GroupFilter\"},{\"attributes\":{\"data_source\":{\"id\":\"1163\",\"type\":\"ColumnDataSource\"},\"glyph\":{\"id\":\"1558\",\"type\":\"Circle\"},\"hover_glyph\":null,\"muted_glyph\":null,\"nonselection_glyph\":{\"id\":\"1559\",\"type\":\"Circle\"},\"selection_glyph\":null,\"view\":{\"id\":\"1556\",\"type\":\"CDSView\"}},\"id\":\"1560\",\"type\":\"GlyphRenderer\"},{\"attributes\":{\"fill_alpha\":{\"value\":0.1},\"fill_color\":{\"value\":\"#1f77b4\"},\"line_alpha\":{\"value\":0.1},\"line_color\":{\"value\":\"#1f77b4\"},\"x\":{\"field\":\"x\"},\"y\":{\"field\":\"y\"}},\"id\":\"1373\",\"type\":\"Circle\"},{\"attributes\":{\"column_name\":\"label\",\"group\":\"B438\"},\"id\":\"1285\",\"type\":\"GroupFilter\"},{\"attributes\":{\"column_name\":\"label\",\"group\":\"B537\"},\"id\":\"1783\",\"type\":\"GroupFilter\"},{\"attributes\":{\"label\":{\"value\":\"WGS_147c\"},\"renderers\":[{\"id\":\"1854\",\"type\":\"GlyphRenderer\"}]},\"id\":\"2041\",\"type\":\"LegendItem\"},{\"attributes\":{\"data_source\":{\"id\":\"1163\",\"type\":\"ColumnDataSource\"},\"glyph\":{\"id\":\"1306\",\"type\":\"Circle\"},\"hover_glyph\":null,\"muted_glyph\":null,\"nonselection_glyph\":{\"id\":\"1307\",\"type\":\"Circle\"},\"selection_glyph\":null,\"view\":{\"id\":\"1304\",\"type\":\"CDSView\"}},\"id\":\"1308\",\"type\":\"GlyphRenderer\"},{\"attributes\":{\"data_source\":{\"id\":\"1163\",\"type\":\"ColumnDataSource\"},\"glyph\":{\"id\":\"1366\",\"type\":\"Circle\"},\"hover_glyph\":null,\"muted_glyph\":null,\"nonselection_glyph\":{\"id\":\"1367\",\"type\":\"Circle\"},\"selection_glyph\":null,\"view\":{\"id\":\"1364\",\"type\":\"CDSView\"}},\"id\":\"1368\",\"type\":\"GlyphRenderer\"},{\"attributes\":{\"label\":{\"value\":\"WGS_163b\"},\"renderers\":[{\"id\":\"1860\",\"type\":\"GlyphRenderer\"}]},\"id\":\"2042\",\"type\":\"LegendItem\"},{\"attributes\":{\"filters\":[{\"id\":\"1351\",\"type\":\"GroupFilter\"}],\"source\":{\"id\":\"1163\",\"type\":\"ColumnDataSource\"}},\"id\":\"1352\",\"type\":\"CDSView\"},{\"attributes\":{\"fill_alpha\":{\"value\":0.1},\"fill_color\":{\"value\":\"#1f77b4\"},\"line_alpha\":{\"value\":0.1},\"line_color\":{\"value\":\"#1f77b4\"},\"x\":{\"field\":\"x\"},\"y\":{\"field\":\"y\"}},\"id\":\"1367\",\"type\":\"Circle\"},{\"attributes\":{\"fill_color\":{\"field\":\"label\",\"transform\":{\"id\":\"1164\",\"type\":\"CategoricalColorMapper\"}},\"line_color\":{\"field\":\"label\",\"transform\":{\"id\":\"1164\",\"type\":\"CategoricalColorMapper\"}},\"x\":{\"field\":\"x\"},\"y\":{\"field\":\"y\"}},\"id\":\"1744\",\"type\":\"Circle\"},{\"attributes\":{\"fill_color\":{\"field\":\"label\",\"transform\":{\"id\":\"1164\",\"type\":\"CategoricalColorMapper\"}},\"line_color\":{\"field\":\"label\",\"transform\":{\"id\":\"1164\",\"type\":\"CategoricalColorMapper\"}},\"x\":{\"field\":\"x\"},\"y\":{\"field\":\"y\"}},\"id\":\"1756\",\"type\":\"Circle\"},{\"attributes\":{\"label\":{\"value\":\"WGS_163d\"},\"renderers\":[{\"id\":\"1866\",\"type\":\"GlyphRenderer\"}]},\"id\":\"2043\",\"type\":\"LegendItem\"},{\"attributes\":{\"column_name\":\"label\",\"group\":\"B441\"},\"id\":\"1297\",\"type\":\"GroupFilter\"},{\"attributes\":{\"data_source\":{\"id\":\"1163\",\"type\":\"ColumnDataSource\"},\"glyph\":{\"id\":\"1294\",\"type\":\"Circle\"},\"hover_glyph\":null,\"muted_glyph\":null,\"nonselection_glyph\":{\"id\":\"1295\",\"type\":\"Circle\"},\"selection_glyph\":null,\"view\":{\"id\":\"1292\",\"type\":\"CDSView\"}},\"id\":\"1296\",\"type\":\"GlyphRenderer\"},{\"attributes\":{\"fill_color\":{\"field\":\"label\",\"transform\":{\"id\":\"1164\",\"type\":\"CategoricalColorMapper\"}},\"line_color\":{\"field\":\"label\",\"transform\":{\"id\":\"1164\",\"type\":\"CategoricalColorMapper\"}},\"x\":{\"field\":\"x\"},\"y\":{\"field\":\"y\"}},\"id\":\"1366\",\"type\":\"Circle\"},{\"attributes\":{\"filters\":[{\"id\":\"1747\",\"type\":\"GroupFilter\"}],\"source\":{\"id\":\"1163\",\"type\":\"ColumnDataSource\"}},\"id\":\"1748\",\"type\":\"CDSView\"},{\"attributes\":{\"fill_color\":{\"field\":\"label\",\"transform\":{\"id\":\"1164\",\"type\":\"CategoricalColorMapper\"}},\"line_color\":{\"field\":\"label\",\"transform\":{\"id\":\"1164\",\"type\":\"CategoricalColorMapper\"}},\"x\":{\"field\":\"x\"},\"y\":{\"field\":\"y\"}},\"id\":\"1774\",\"type\":\"Circle\"},{\"attributes\":{\"data_source\":{\"id\":\"1163\",\"type\":\"ColumnDataSource\"},\"glyph\":{\"id\":\"1780\",\"type\":\"Circle\"},\"hover_glyph\":null,\"muted_glyph\":null,\"nonselection_glyph\":{\"id\":\"1781\",\"type\":\"Circle\"},\"selection_glyph\":null,\"view\":{\"id\":\"1778\",\"type\":\"CDSView\"}},\"id\":\"1782\",\"type\":\"GlyphRenderer\"},{\"attributes\":{\"label\":{\"value\":\"WGS_180b\"},\"renderers\":[{\"id\":\"1872\",\"type\":\"GlyphRenderer\"}]},\"id\":\"2044\",\"type\":\"LegendItem\"},{\"attributes\":{\"column_name\":\"label\",\"group\":\"B437\"},\"id\":\"1279\",\"type\":\"GroupFilter\"},{\"attributes\":{\"filters\":[{\"id\":\"1435\",\"type\":\"GroupFilter\"}],\"source\":{\"id\":\"1163\",\"type\":\"ColumnDataSource\"}},\"id\":\"1436\",\"type\":\"CDSView\"},{\"attributes\":{\"column_name\":\"label\",\"group\":\"B487\"},\"id\":\"1549\",\"type\":\"GroupFilter\"},{\"attributes\":{\"label\":{\"value\":\"WGS_185c\"},\"renderers\":[{\"id\":\"1878\",\"type\":\"GlyphRenderer\"}]},\"id\":\"2045\",\"type\":\"LegendItem\"}],\"root_ids\":[\"1127\"]},\"title\":\"Bokeh Application\",\"version\":\"1.4.0\"}};\n",
       "  var render_items = [{\"docid\":\"67f3b1ce-a681-4b7e-9784-655af00c00cf\",\"roots\":{\"1127\":\"d6e8aeaf-9630-48d7-9c82-ea98fa8fbd80\"}}];\n",
       "  root.Bokeh.embed.embed_items_notebook(docs_json, render_items);\n",
       "\n",
       "  }\n",
       "  if (root.Bokeh !== undefined) {\n",
       "    embed_document(root);\n",
       "  } else {\n",
       "    var attempts = 0;\n",
       "    var timer = setInterval(function(root) {\n",
       "      if (root.Bokeh !== undefined) {\n",
       "        clearInterval(timer);\n",
       "        embed_document(root);\n",
       "      } else {\n",
       "        attempts++;\n",
       "        if (attempts > 100) {\n",
       "          clearInterval(timer);\n",
       "          console.log(\"Bokeh: ERROR: Unable to run BokehJS code because BokehJS library is missing\");\n",
       "        }\n",
       "      }\n",
       "    }, 10, root)\n",
       "  }\n",
       "})(window);"
      ],
      "application/vnd.bokehjs_exec.v0+json": ""
     },
     "metadata": {
      "application/vnd.bokehjs_exec.v0+json": {
       "id": "1127"
      }
     },
     "output_type": "display_data"
    }
   ],
   "source": [
    "p = hl.plot.scatter(mt_subset.scores[0],\n",
    "                    mt_subset.scores[1],\n",
    "                    label=mt_subset.s,\n",
    "                    title='PCA', xlabel='PC1', ylabel='PC2')\n",
    "show(p)"
   ]
  },
  {
   "cell_type": "code",
   "execution_count": 43,
   "metadata": {},
   "outputs": [],
   "source": [
    "pcs = mt_subset.scores[1].collect()"
   ]
  },
  {
   "cell_type": "code",
   "execution_count": 44,
   "metadata": {},
   "outputs": [
    {
     "data": {
      "text/plain": [
       "0.6124640074529579"
      ]
     },
     "execution_count": 44,
     "metadata": {},
     "output_type": "execute_result"
    }
   ],
   "source": [
    "np.std(pcs)*6 #no sample is that far from the center"
   ]
  },
  {
   "cell_type": "code",
   "execution_count": 71,
   "metadata": {},
   "outputs": [],
   "source": [
    "mt_subset = hl.read_matrix_table('/net/archive/groups/plggneuromol/imdik-zekanowski-sportwgs/data/hail-mts/subset_filtered.mt')"
   ]
  },
  {
   "cell_type": "code",
   "execution_count": 46,
   "metadata": {},
   "outputs": [],
   "source": [
    "to_delete = ['WGS_6819', 'WGS_185c']"
   ]
  },
  {
   "cell_type": "code",
   "execution_count": 47,
   "metadata": {},
   "outputs": [],
   "source": [
    "mt_subset = mt_subset.filter_cols(hl.literal(to_delete).contains(mt_subset.s), keep = False)"
   ]
  },
  {
   "cell_type": "code",
   "execution_count": 48,
   "metadata": {},
   "outputs": [
    {
     "data": {
      "text/plain": [
       "(5339, 126)"
      ]
     },
     "execution_count": 48,
     "metadata": {},
     "output_type": "execute_result"
    }
   ],
   "source": [
    "mt_subset.count()"
   ]
  },
  {
   "cell_type": "code",
   "execution_count": 49,
   "metadata": {},
   "outputs": [
    {
     "name": "stderr",
     "output_type": "stream",
     "text": [
      "2021-10-14 10:54:33 Hail: INFO: hwe_normalized_pca: running PCA using 4358 variants.\n",
      "2021-10-14 10:55:12 Hail: INFO: pca: running PCA with 10 components...\n"
     ]
    }
   ],
   "source": [
    "eigenvalues, pcs, _ = hl.hwe_normalized_pca(mt_subset.GT)\n",
    "mt_subset = mt_subset.annotate_cols(scores = pcs[mt_subset.s].scores)"
   ]
  },
  {
   "cell_type": "code",
   "execution_count": 50,
   "metadata": {},
   "outputs": [
    {
     "name": "stderr",
     "output_type": "stream",
     "text": [
      "2021-10-14 11:24:33 Hail: INFO: wrote matrix table with 5339 rows and 126 columns in 3061 partitions to /net/archive/groups/plggneuromol/imdik-zekanowski-sportwgs/data/hail-mts/subset_filtered_PCA_less_samples.mt\n",
      "    Total size: 7.09 MiB\n",
      "    * Rows/entries: 7.08 MiB\n",
      "    * Columns: 11.45 KiB\n",
      "    * Globals: 11.00 B\n",
      "    * Smallest partition: 0 rows (20.00 B)\n",
      "    * Largest partition:  9 rows (12.69 KiB)\n"
     ]
    },
    {
     "data": {
      "text/plain": [
       "<hail.matrixtable.MatrixTable at 0x2b8b5c037710>"
      ]
     },
     "execution_count": 50,
     "metadata": {},
     "output_type": "execute_result"
    }
   ],
   "source": [
    "mt_subset.checkpoint('/net/archive/groups/plggneuromol/imdik-zekanowski-sportwgs/data/hail-mts/subset_filtered_PCA_less_samples.mt')\n",
    "#mt_subset = hl.read_matrix_table('/net/archive/groups/plggneuromol/imdik-zekanowski-sportwgs/data/hail-mts/subset_filtered_PCA_less_samples.mt')"
   ]
  },
  {
   "cell_type": "code",
   "execution_count": 54,
   "metadata": {},
   "outputs": [],
   "source": [
    "pcs = mt_subset.scores[1].collect()"
   ]
  },
  {
   "cell_type": "code",
   "execution_count": 55,
   "metadata": {},
   "outputs": [
    {
     "data": {
      "text/plain": [
       "0.6101053014016272"
      ]
     },
     "execution_count": 55,
     "metadata": {},
     "output_type": "execute_result"
    }
   ],
   "source": [
    "np.std(pcs)*6 #no sample is that far from the center"
   ]
  },
  {
   "cell_type": "code",
   "execution_count": 57,
   "metadata": {
    "scrolled": false
   },
   "outputs": [
    {
     "data": {
      "text/html": [
       "\n",
       "\n",
       "\n",
       "\n",
       "\n",
       "\n",
       "  <div class=\"bk-root\" id=\"05475e67-8c25-4206-b308-08632474ca28\" data-root-id=\"3302\"></div>\n"
      ]
     },
     "metadata": {},
     "output_type": "display_data"
    },
    {
     "data": {
      "application/javascript": [
       "(function(root) {\n",
       "  function embed_document(root) {\n",
       "    \n",
       "  var docs_json = {\"3266c93f-2627-4ca3-b732-fd23a06885ae\":{\"roots\":{\"references\":[{\"attributes\":{\"below\":[{\"id\":\"3313\",\"type\":\"LinearAxis\"}],\"center\":[{\"id\":\"3317\",\"type\":\"Grid\"},{\"id\":\"3322\",\"type\":\"Grid\"}],\"left\":[{\"id\":\"3318\",\"type\":\"LinearAxis\"},{\"id\":\"3354\",\"type\":\"Legend\"},{\"id\":\"3355\",\"type\":\"ColorBar\"}],\"plot_height\":800,\"plot_width\":800,\"renderers\":[{\"id\":\"3345\",\"type\":\"GlyphRenderer\"},{\"id\":\"3351\",\"type\":\"GlyphRenderer\"}],\"title\":{\"id\":\"3303\",\"type\":\"Title\"},\"toolbar\":{\"id\":\"3329\",\"type\":\"Toolbar\"},\"x_range\":{\"id\":\"3305\",\"type\":\"DataRange1d\"},\"x_scale\":{\"id\":\"3309\",\"type\":\"LinearScale\"},\"y_range\":{\"id\":\"3307\",\"type\":\"DataRange1d\"},\"y_scale\":{\"id\":\"3311\",\"type\":\"LinearScale\"}},\"id\":\"3302\",\"subtype\":\"Figure\",\"type\":\"Plot\"},{\"attributes\":{\"click_policy\":\"hide\",\"items\":[{\"id\":\"3352\",\"type\":\"LegendItem\"},{\"id\":\"3353\",\"type\":\"LegendItem\"}]},\"id\":\"3354\",\"type\":\"Legend\"},{\"attributes\":{\"factors\":[\"control\",\"sport\"],\"palette\":[\"#1f77b4\",\"#ff7f0e\",\"#2ca02c\",\"#d62728\",\"#9467bd\",\"#8c564b\",\"#e377c2\",\"#7f7f7f\",\"#bcbd22\",\"#17becf\"]},\"id\":\"3339\",\"type\":\"CategoricalColorMapper\"},{\"attributes\":{\"callback\":null},\"id\":\"3305\",\"type\":\"DataRange1d\"},{\"attributes\":{\"color_mapper\":null,\"formatter\":{\"id\":\"3401\",\"type\":\"BasicTickFormatter\"},\"ticker\":{\"id\":\"3402\",\"type\":\"BasicTicker\"},\"visible\":false},\"id\":\"3355\",\"type\":\"ColorBar\"},{\"attributes\":{\"column_name\":\"label\",\"group\":\"control\"},\"id\":\"3340\",\"type\":\"GroupFilter\"},{\"attributes\":{\"bottom_units\":\"screen\",\"fill_alpha\":{\"value\":0.5},\"fill_color\":{\"value\":\"lightgrey\"},\"left_units\":\"screen\",\"level\":\"overlay\",\"line_alpha\":{\"value\":1.0},\"line_color\":{\"value\":\"black\"},\"line_dash\":[4,4],\"line_width\":{\"value\":2},\"render_mode\":\"css\",\"right_units\":\"screen\",\"top_units\":\"screen\"},\"id\":\"3405\",\"type\":\"BoxAnnotation\"},{\"attributes\":{\"fill_color\":{\"field\":\"label\",\"transform\":{\"id\":\"3339\",\"type\":\"CategoricalColorMapper\"}},\"line_color\":{\"field\":\"label\",\"transform\":{\"id\":\"3339\",\"type\":\"CategoricalColorMapper\"}},\"x\":{\"field\":\"x\"},\"y\":{\"field\":\"y\"}},\"id\":\"3343\",\"type\":\"Circle\"},{\"attributes\":{\"callback\":null},\"id\":\"3307\",\"type\":\"DataRange1d\"},{\"attributes\":{},\"id\":\"3401\",\"type\":\"BasicTickFormatter\"},{\"attributes\":{},\"id\":\"3309\",\"type\":\"LinearScale\"},{\"attributes\":{},\"id\":\"3399\",\"type\":\"BasicTickFormatter\"},{\"attributes\":{},\"id\":\"3403\",\"type\":\"UnionRenderers\"},{\"attributes\":{\"label\":{\"value\":\"control\"},\"renderers\":[{\"id\":\"3345\",\"type\":\"GlyphRenderer\"}]},\"id\":\"3352\",\"type\":\"LegendItem\"},{\"attributes\":{},\"id\":\"3311\",\"type\":\"LinearScale\"},{\"attributes\":{\"fill_alpha\":{\"value\":0.1},\"fill_color\":{\"value\":\"#1f77b4\"},\"line_alpha\":{\"value\":0.1},\"line_color\":{\"value\":\"#1f77b4\"},\"x\":{\"field\":\"x\"},\"y\":{\"field\":\"y\"}},\"id\":\"3344\",\"type\":\"Circle\"},{\"attributes\":{},\"id\":\"3404\",\"type\":\"Selection\"},{\"attributes\":{\"axis_label\":\"PC1\",\"formatter\":{\"id\":\"3397\",\"type\":\"BasicTickFormatter\"},\"ticker\":{\"id\":\"3314\",\"type\":\"BasicTicker\"}},\"id\":\"3313\",\"type\":\"LinearAxis\"},{\"attributes\":{\"data_source\":{\"id\":\"3338\",\"type\":\"ColumnDataSource\"},\"glyph\":{\"id\":\"3343\",\"type\":\"Circle\"},\"hover_glyph\":null,\"muted_glyph\":null,\"nonselection_glyph\":{\"id\":\"3344\",\"type\":\"Circle\"},\"selection_glyph\":null,\"view\":{\"id\":\"3341\",\"type\":\"CDSView\"}},\"id\":\"3345\",\"type\":\"GlyphRenderer\"},{\"attributes\":{},\"id\":\"3402\",\"type\":\"BasicTicker\"},{\"attributes\":{\"column_name\":\"label\",\"group\":\"sport\"},\"id\":\"3346\",\"type\":\"GroupFilter\"},{\"attributes\":{},\"id\":\"3314\",\"type\":\"BasicTicker\"},{\"attributes\":{\"ticker\":{\"id\":\"3314\",\"type\":\"BasicTicker\"}},\"id\":\"3317\",\"type\":\"Grid\"},{\"attributes\":{\"callback\":null,\"tooltips\":[[\"x\",\"@x\"],[\"y\",\"@y\"],[\"label\",\"@label\"]]},\"id\":\"3337\",\"type\":\"HoverTool\"},{\"attributes\":{\"axis_label\":\"PC2\",\"formatter\":{\"id\":\"3399\",\"type\":\"BasicTickFormatter\"},\"ticker\":{\"id\":\"3319\",\"type\":\"BasicTicker\"}},\"id\":\"3318\",\"type\":\"LinearAxis\"},{\"attributes\":{\"callback\":null,\"data\":{\"index\":[0,1,2,3,4,5,6,7,8,9,10,11,12,13,14,15,16,17,18,19,20,21,22,23,24,25,26,27,28,29,30,31,32,33,34,35,36,37,38,39,40,41,42,43,44,45,46,47,48,49,50,51,52,53,54,55,56,57,58,59,60,61,62,63,64,65,66,67,68,69,70,71,72,73,74,75,76,77,78,79,80,81,82,83,84,85,86,87,88,89,90,91,92,93,94,95,96,97,98,99,100,101,102,103,104,105,106,107,108,109,110,111,112,113,114,115,116,117,118,119,120,121,122,123,124,125],\"label\":[\"sport\",\"sport\",\"sport\",\"sport\",\"sport\",\"sport\",\"sport\",\"sport\",\"sport\",\"sport\",\"sport\",\"control\",\"sport\",\"sport\",\"control\",\"sport\",\"control\",\"control\",\"sport\",\"control\",\"sport\",\"sport\",\"sport\",\"sport\",\"sport\",\"sport\",\"control\",\"sport\",\"sport\",\"sport\",\"sport\",\"sport\",\"sport\",\"sport\",\"control\",\"sport\",\"sport\",\"sport\",\"control\",\"sport\",\"sport\",\"control\",\"sport\",\"sport\",\"sport\",\"sport\",\"sport\",\"sport\",\"sport\",\"sport\",\"sport\",\"sport\",\"sport\",\"sport\",\"sport\",\"sport\",\"sport\",\"sport\",\"control\",\"sport\",\"sport\",\"sport\",\"sport\",\"sport\",\"control\",\"sport\",\"sport\",\"sport\",\"sport\",\"sport\",\"control\",\"sport\",\"sport\",\"control\",\"sport\",\"control\",\"sport\",\"sport\",\"sport\",\"sport\",\"sport\",\"sport\",\"sport\",\"control\",\"sport\",\"sport\",\"sport\",\"sport\",\"control\",\"sport\",\"sport\",\"sport\",\"control\",\"sport\",\"sport\",\"sport\",\"sport\",\"control\",\"sport\",\"sport\",\"control\",\"sport\",\"sport\",\"sport\",\"sport\",\"sport\",\"control\",\"sport\",\"sport\",\"sport\",\"sport\",\"sport\",\"control\",\"sport\",\"control\",\"sport\",\"sport\",\"control\",\"sport\",\"sport\",\"sport\",\"sport\",\"sport\",\"control\",\"sport\",\"control\"],\"x\":{\"__ndarray__\":\"GbT7LEDb2b85C18avI/Zv3KTegThXdW/96ep3f8I1b8J7zBrVLfUvzHB3P5vjdS/hNwIDMghyL/fypil0Y7Hv8yHxlrtP8O/XBnHyZFrwb/gQpR/qaC5vy3Q5hJQuLa/8Vi0KWwlsr8l1K5olweyv8VDZv6w9rG/FexEB5x3sL/TDTEkg+yuv3cX/tv+wq2/x2ik4/Wxq79I6qpeU3qpv4v6hmF686i/WrPewdRJqb+C2LO4ny2ov63fbikG46a/BVOAZ0HOpb8AAV1N68Slv42Lm0WlCKW/NKCdDtGwo7/hKmw5iryjv2khluxu4aK/gn7xLeJYor8TzJikGBmgv1uof86D2Z2/CLNFKkOenL9jwoDVc9Sbv6sqes+AIJW/E0a2EV5vk7+74JzNlGaSvw5dUjXxNJG/+1b7UyEAjb98fgtXRIaLvzo9C98z1om/9YaF2UmLhb+KIx/uhuqCvz2XVVGnwn+/iU7Ayac3fr96Ez3Hkq14v0BRgYlg3XC/UotrTIaecb/DagMr6sZYv/iaIO6O02s/T3FzNtX7aT9oET2pGql7PxtClr2i1Xs/zS8epYkogj+queg+PlWBP9RovhhB9oA/Cim1f9b2gj81AyrK1uaJPzTEhhpED4s/4wU5C77fjz8vLu7rmqSRP3mjZH9TtZI/Y5ofVX/lkj9G78zkrlOUP3z5Uw68iZY/IFjmylQTlj+8MsCuF7qXP1sstKR+mZg/Qcc8D9FgmD9/9lQp4/SZP6Ui+siIYZo/kWW4x3ornD8FLkFEYoueP4aUHEbs850/Grihh0FLoD/0Nm74SzugPzff5cMwTKE/w9V+X5NEoT8CWk2evr+hP7gPKbZ1dKI/L1YzXwj4oj8oUQZ0ACOjPzLzT9DCq6M/uslUoXstpD+cu5WlyTGlP8jQjr+ihqU/OqU4AIrZpT+xIG/SwZ6mPz4X6b3MHKY/FwXuu3+dpz8MOykWYKqpPycd2GNxJqo/hi2qB3fUqj8yfoFKp7urP9pTw0MVlqs/sRNmOAbdqz9yeiMZsmusP8qV6L54X60/m5y3wgjNrT//hHQyFTuvPy78KiGy5a8/jVePJ/4PsD9ryYLl0oSwP57tdR02erA/bPcLLg0Wsj8ysOIH2IOyP+ILTkSfYrM/IMStnmIfsz9xLANMo5ezP2ejz6eC3bQ/rc3xmwXitD8y9OaB8vq0P315tv/e3bY/qlWkJLqltz+2RfcnRrC4P2UzeBSZ/Lo/FEOoKFhauz+hOjX70167P4gFqZv0xbs/+YNQJFRTvT/4S0yIr4O9P+WxTq8Nzb8/RlqEcj57yz/5gq7OzAHNP2quG0+J9M8/\",\"dtype\":\"float64\",\"shape\":[126]},\"y\":{\"__ndarray__\":\"LMWgGbLucb/0tv52yF6rv6olVZeQ5pS/jjm2wxyGfL/wUNZ85eKZv+JXQFP9ZKm/kQLH2t9/h7/3FLRxQ6LoP2Z32OlAP9S/sn5eKQX9wb/tNo9PjBPJPxRVc63JatE/gYyw1NZvxb/WMP5aGZmBv4Z9i0bB/8A/2Yk3t5C+pD/bdZF9q9V2v6IoCzybG5+/ujVpTj3CnD+UBoZtozycvzH9a1wEo7K/R3Hj92Yxtj/ChL1EajfIv+eBHox++KA/KnZSg+7Mrb8G/2w8U12iv5IAL4XN5Km/vYWZ2Ysqqb8zSlXelJSLv51JJziJa6C/fwFbr4mfh7/0L25fiEKIP10kvPS+VJO/w1ACbBWcoT/KLWrZNEGxvzlG+dDJKWm/9PxoctVgsL/qjpL4CPNsv8Bo4J6CuLG/+vHkWIQunL/EhbbaW++Lv1w9QrjSuYU/zqoovq0Zlb8ng4DHcpCzv23iYut6YJY/lfUgpVBwqD/BjPXpCq+tP+gMDPTwe6S/lnHHegUVg7+mwqNNIZW0P3GeFP8Evnm/oUB2GGZLlD+ElNDmxbF7P8SMBf7iELA/Ym1u3061kL9AgiJl4v+YP9z6UO8TbqE/e4vZD9kAmr9jMy+c3GbTv6j/3SoTb7m/VhQD7fA+v78cm5zL35azvzS4cRd1V5s/mbmKnnOJpj+xqjZ0GsGOv9jGwiG0Pp0/nOA6C9x7sz/LtvLmZvmqv7FvbcP1J7O/ib0j+IJBQD9mkhDqUB2TP8H6T0s6S6E/XMjj2JiNgr9pXkrxmL6UP0HeXMq0IKc/PrDLmxhKmb/iq74J4yp5v9UXNwPyO6m/ttjzATQJm7/R0RdTUVe3v/psCaqj8oQ/9xvhDrrbcL+YjdeRCiFCP7JKSOtl5qA/l3US07w8lj8PYjeeBaatv8FVjIAOmaa/OTAz1p4blz9AN5rKc8WPv392Xob6T6c/+9P+yXaZsL+eN8hj4H+SP63k32r6PZq/ASrk0sr3vD/Xmcr+HRV1P8IaMJBk244/GB7vQI0MsD/ktkqErCFUvyx9LLL7j7m/0XFp8e4Jwj/MiVhAj5WwP6ypmCygr4k/SGror/7Tqr9qDqC8eq2lP8SjH4lpQ7I/rFBLFWrKob8iacJuVq7BPzCqqhMD5YA/TEIrUkq+sT+BSchDyyOkP89xtVqzl8S/iCzloW92fr8VL4k8+t+VPze1+Onsapy/Q48i1te3k7/P1uruvzykv3lR/OSYxLG/oeBUUkrvaD8gpo71aIWEP45nFj4wTaw/67TWN/iFiT9aFCUzmmm5Pw7mYRKJ56s/yFdcmfwn/r62wu0knuK1P51GB70vnZi/\",\"dtype\":\"float64\",\"shape\":[126]}},\"selected\":{\"id\":\"3404\",\"type\":\"Selection\"},\"selection_policy\":{\"id\":\"3403\",\"type\":\"UnionRenderers\"}},\"id\":\"3338\",\"type\":\"ColumnDataSource\"},{\"attributes\":{},\"id\":\"3319\",\"type\":\"BasicTicker\"},{\"attributes\":{\"fill_color\":{\"field\":\"label\",\"transform\":{\"id\":\"3339\",\"type\":\"CategoricalColorMapper\"}},\"line_color\":{\"field\":\"label\",\"transform\":{\"id\":\"3339\",\"type\":\"CategoricalColorMapper\"}},\"x\":{\"field\":\"x\"},\"y\":{\"field\":\"y\"}},\"id\":\"3349\",\"type\":\"Circle\"},{\"attributes\":{},\"id\":\"3327\",\"type\":\"ResetTool\"},{\"attributes\":{},\"id\":\"3326\",\"type\":\"SaveTool\"},{\"attributes\":{\"dimension\":1,\"ticker\":{\"id\":\"3319\",\"type\":\"BasicTicker\"}},\"id\":\"3322\",\"type\":\"Grid\"},{\"attributes\":{},\"id\":\"3397\",\"type\":\"BasicTickFormatter\"},{\"attributes\":{\"text\":\"PCA\"},\"id\":\"3303\",\"type\":\"Title\"},{\"attributes\":{},\"id\":\"3328\",\"type\":\"HelpTool\"},{\"attributes\":{\"filters\":[{\"id\":\"3340\",\"type\":\"GroupFilter\"}],\"source\":{\"id\":\"3338\",\"type\":\"ColumnDataSource\"}},\"id\":\"3341\",\"type\":\"CDSView\"},{\"attributes\":{\"fill_alpha\":{\"value\":0.1},\"fill_color\":{\"value\":\"#1f77b4\"},\"line_alpha\":{\"value\":0.1},\"line_color\":{\"value\":\"#1f77b4\"},\"x\":{\"field\":\"x\"},\"y\":{\"field\":\"y\"}},\"id\":\"3350\",\"type\":\"Circle\"},{\"attributes\":{},\"id\":\"3324\",\"type\":\"WheelZoomTool\"},{\"attributes\":{},\"id\":\"3323\",\"type\":\"PanTool\"},{\"attributes\":{\"overlay\":{\"id\":\"3405\",\"type\":\"BoxAnnotation\"}},\"id\":\"3325\",\"type\":\"BoxZoomTool\"},{\"attributes\":{\"data_source\":{\"id\":\"3338\",\"type\":\"ColumnDataSource\"},\"glyph\":{\"id\":\"3349\",\"type\":\"Circle\"},\"hover_glyph\":null,\"muted_glyph\":null,\"nonselection_glyph\":{\"id\":\"3350\",\"type\":\"Circle\"},\"selection_glyph\":null,\"view\":{\"id\":\"3347\",\"type\":\"CDSView\"}},\"id\":\"3351\",\"type\":\"GlyphRenderer\"},{\"attributes\":{\"filters\":[{\"id\":\"3346\",\"type\":\"GroupFilter\"}],\"source\":{\"id\":\"3338\",\"type\":\"ColumnDataSource\"}},\"id\":\"3347\",\"type\":\"CDSView\"},{\"attributes\":{\"label\":{\"value\":\"sport\"},\"renderers\":[{\"id\":\"3351\",\"type\":\"GlyphRenderer\"}]},\"id\":\"3353\",\"type\":\"LegendItem\"},{\"attributes\":{\"active_drag\":\"auto\",\"active_inspect\":\"auto\",\"active_multi\":null,\"active_scroll\":\"auto\",\"active_tap\":\"auto\",\"tools\":[{\"id\":\"3323\",\"type\":\"PanTool\"},{\"id\":\"3324\",\"type\":\"WheelZoomTool\"},{\"id\":\"3325\",\"type\":\"BoxZoomTool\"},{\"id\":\"3326\",\"type\":\"SaveTool\"},{\"id\":\"3327\",\"type\":\"ResetTool\"},{\"id\":\"3328\",\"type\":\"HelpTool\"},{\"id\":\"3337\",\"type\":\"HoverTool\"}]},\"id\":\"3329\",\"type\":\"Toolbar\"}],\"root_ids\":[\"3302\"]},\"title\":\"Bokeh Application\",\"version\":\"1.4.0\"}};\n",
       "  var render_items = [{\"docid\":\"3266c93f-2627-4ca3-b732-fd23a06885ae\",\"roots\":{\"3302\":\"05475e67-8c25-4206-b308-08632474ca28\"}}];\n",
       "  root.Bokeh.embed.embed_items_notebook(docs_json, render_items);\n",
       "\n",
       "  }\n",
       "  if (root.Bokeh !== undefined) {\n",
       "    embed_document(root);\n",
       "  } else {\n",
       "    var attempts = 0;\n",
       "    var timer = setInterval(function(root) {\n",
       "      if (root.Bokeh !== undefined) {\n",
       "        clearInterval(timer);\n",
       "        embed_document(root);\n",
       "      } else {\n",
       "        attempts++;\n",
       "        if (attempts > 100) {\n",
       "          clearInterval(timer);\n",
       "          console.log(\"Bokeh: ERROR: Unable to run BokehJS code because BokehJS library is missing\");\n",
       "        }\n",
       "      }\n",
       "    }, 10, root)\n",
       "  }\n",
       "})(window);"
      ],
      "application/vnd.bokehjs_exec.v0+json": ""
     },
     "metadata": {
      "application/vnd.bokehjs_exec.v0+json": {
       "id": "3302"
      }
     },
     "output_type": "display_data"
    }
   ],
   "source": [
    "p = hl.plot.scatter(mt_subset.scores[0],\n",
    "                    mt_subset.scores[1],\n",
    "                    label=mt_subset.group,\n",
    "                    title='PCA', xlabel='PC1', ylabel='PC2')\n",
    "show(p)"
   ]
  },
  {
   "cell_type": "code",
   "execution_count": 59,
   "metadata": {},
   "outputs": [
    {
     "data": {
      "text/plain": [
       "(5339, 126)"
      ]
     },
     "execution_count": 59,
     "metadata": {},
     "output_type": "execute_result"
    }
   ],
   "source": [
    "mt_subset.count()"
   ]
  },
  {
   "cell_type": "code",
   "execution_count": 64,
   "metadata": {},
   "outputs": [],
   "source": [
    "types = mt_subset.phenotypes.type.collect()"
   ]
  },
  {
   "cell_type": "code",
   "execution_count": 67,
   "metadata": {},
   "outputs": [
    {
     "data": {
      "text/plain": [
       "50"
      ]
     },
     "execution_count": 67,
     "metadata": {},
     "output_type": "execute_result"
    }
   ],
   "source": [
    "types.count('speed')"
   ]
  },
  {
   "cell_type": "markdown",
   "metadata": {},
   "source": [
    "# re-filter the matrix table to remove PCA outliers:"
   ]
  },
  {
   "cell_type": "code",
   "execution_count": 4,
   "metadata": {},
   "outputs": [],
   "source": [
    "mt = hl.read_matrix_table('/net/archive/groups/plggneuromol/imdik-zekanowski-sportwgs/data/hail-mts/flagged-filtered.mt')\n",
    "to_delete = ['WGS_6819', 'WGS_185c']\n",
    "mt = mt.filter_cols(hl.literal(to_delete).contains(mt.s), keep = False)"
   ]
  },
  {
   "cell_type": "code",
   "execution_count": 5,
   "metadata": {},
   "outputs": [
    {
     "name": "stderr",
     "output_type": "stream",
     "text": [
      "2021-10-14 11:59:38 Hail: INFO: wrote matrix table with 5282269 rows and 126 columns in 3061 partitions to /net/archive/groups/plggneuromol/imdik-zekanowski-sportwgs/data/hail-mts/joint-dp15-gq65-max5below.mt\n",
      "    Total size: 4.94 GiB\n",
      "    * Rows/entries: 4.94 GiB\n",
      "    * Columns: 1.30 KiB\n",
      "    * Globals: 11.00 B\n",
      "    * Smallest partition: 0 rows (20.00 B)\n",
      "    * Largest partition:  4401 rows (5.30 MiB)\n"
     ]
    },
    {
     "data": {
      "text/plain": [
       "<hail.matrixtable.MatrixTable at 0x2aadf027bdd8>"
      ]
     },
     "execution_count": 5,
     "metadata": {},
     "output_type": "execute_result"
    }
   ],
   "source": [
    "mt.checkpoint('/net/archive/groups/plggneuromol/imdik-zekanowski-sportwgs/data/hail-mts/joint-dp15-gq65-max5below.mt')"
   ]
  },
  {
   "cell_type": "code",
   "execution_count": 6,
   "metadata": {},
   "outputs": [
    {
     "data": {
      "text/plain": [
       "(5282269, 126)"
      ]
     },
     "execution_count": 6,
     "metadata": {},
     "output_type": "execute_result"
    }
   ],
   "source": [
    "mt.count()"
   ]
  },
  {
   "cell_type": "markdown",
   "metadata": {},
   "source": [
    "# annotate with genes and hpo"
   ]
  },
  {
   "cell_type": "code",
   "execution_count": 16,
   "metadata": {},
   "outputs": [],
   "source": [
    "mt = hl.read_matrix_table('/net/archive/groups/plggneuromol/imdik-zekanowski-sportwgs/data/hail-mts/joint-dp15-gq65-max5below.mt')"
   ]
  },
  {
   "cell_type": "code",
   "execution_count": 17,
   "metadata": {},
   "outputs": [
    {
     "data": {
      "text/plain": [
       "(5282269, 126)"
      ]
     },
     "execution_count": 17,
     "metadata": {},
     "output_type": "execute_result"
    }
   ],
   "source": [
    "mt.count()"
   ]
  },
  {
   "cell_type": "code",
   "execution_count": 18,
   "metadata": {},
   "outputs": [
    {
     "name": "stderr",
     "output_type": "stream",
     "text": [
      "2021-10-14 12:07:22 Hail: INFO: Reading table to impute column types\n",
      "2021-10-14 12:07:23 Hail: INFO: Finished type imputation\n",
      "  Loading field 'f0' as type str (imputed)\n",
      "  Loading field 'f1' as type str (imputed)\n"
     ]
    }
   ],
   "source": [
    "genes = hl.read_table('/net/archive/groups/plggneuromol/imdik-zekanowski-gts/data/external-data/genecode_v32.ht')\n",
    "genes = genes.filter(hl.is_valid_contig(genes['hg38.knownGene.chrom'], reference_genome='GRCh38'))\n",
    "hpo = hl.import_table('/net/archive/groups/plggneuromol/imdik-zekanowski-gts/data/external-data/hpo.tsv', impute = True, no_header=True)\n",
    "\n",
    "start = genes['hg38.knownGene.txStart']\n",
    "stop =  genes['hg38.knownGene.txEnd']"
   ]
  },
  {
   "cell_type": "code",
   "execution_count": 10,
   "metadata": {},
   "outputs": [],
   "source": [
    "genes = genes.transmute(interval = \n",
    "                        hl.locus_interval(genes['hg38.knownGene.chrom'], \n",
    "                                          start,\n",
    "                                          stop,\n",
    "                                          reference_genome='GRCh38', includes_start=False))\n",
    "\n",
    "genes = genes.key_by(genes['hg38.kgXref.geneSymbol'])\n",
    "\n",
    "hpo = hpo.key_by(hpo.f0)\n",
    "\n",
    "genes = genes.annotate(hpo = hpo.index(genes['hg38.kgXref.geneSymbol'], all_matches = True)['f1'])\n",
    "\n",
    "genes = genes.key_by(genes.interval)"
   ]
  },
  {
   "cell_type": "code",
   "execution_count": 11,
   "metadata": {},
   "outputs": [],
   "source": [
    "mt = mt.annotate_rows(within_gene = hl.array(hl.set(genes.index(mt.locus, all_matches=True)['hg38.kgXref.geneSymbol'])))\n",
    "mt = mt.annotate_rows(hpo = hl.array(hl.set(genes.index(mt.locus, all_matches=True)['hpo'])))"
   ]
  },
  {
   "cell_type": "code",
   "execution_count": 12,
   "metadata": {
    "scrolled": true
   },
   "outputs": [
    {
     "name": "stderr",
     "output_type": "stream",
     "text": [
      "2021-10-14 11:59:42 Hail: INFO: Ordering unsorted dataset with network shuffle\n",
      "2021-10-14 11:59:43 Hail: INFO: Ordering unsorted dataset with network shuffle\n",
      "2021-10-14 11:59:46 Hail: INFO: Ordering unsorted dataset with network shuffle\n",
      "2021-10-14 11:59:46 Hail: INFO: Ordering unsorted dataset with network shuffle\n",
      "2021-10-14 11:59:47 Hail: INFO: Ordering unsorted dataset with network shuffle\n",
      "2021-10-14 11:59:48 Hail: INFO: Ordering unsorted dataset with network shuffle\n",
      "2021-10-14 12:04:26 Hail: INFO: wrote matrix table with 5282269 rows and 126 columns in 3061 partitions to /net/archive/groups/plggneuromol/imdik-zekanowski-sportwgs/data/hail-mts/sporstmen-genes-pheno.mt\n",
      "    Total size: 3.92 GiB\n",
      "    * Rows/entries: 3.92 GiB\n",
      "    * Columns: 1.07 KiB\n",
      "    * Globals: 11.00 B\n",
      "    * Smallest partition: 0 rows (20.00 B)\n",
      "    * Largest partition:  4687 rows (5.80 MiB)\n"
     ]
    }
   ],
   "source": [
    "mt.write('/net/archive/groups/plggneuromol/imdik-zekanowski-sportwgs/data/hail-mts/sporstmen-genes-pheno.mt')"
   ]
  },
  {
   "cell_type": "code",
   "execution_count": 19,
   "metadata": {},
   "outputs": [],
   "source": [
    "mt = hl.read_matrix_table('/net/archive/groups/plggneuromol/imdik-zekanowski-sportwgs/data/hail-mts/sporstmen-genes-pheno.mt')"
   ]
  },
  {
   "cell_type": "code",
   "execution_count": 20,
   "metadata": {},
   "outputs": [
    {
     "data": {
      "text/plain": [
       "(5282269, 126)"
      ]
     },
     "execution_count": 20,
     "metadata": {},
     "output_type": "execute_result"
    }
   ],
   "source": [
    "mt.count()"
   ]
  },
  {
   "cell_type": "code",
   "execution_count": 21,
   "metadata": {},
   "outputs": [],
   "source": [
    "mt = mt.filter_rows(mt.within_gene == hl.empty_array(hl.tstr), keep = False)"
   ]
  },
  {
   "cell_type": "code",
   "execution_count": 22,
   "metadata": {},
   "outputs": [
    {
     "name": "stderr",
     "output_type": "stream",
     "text": [
      "2021-10-14 12:10:31 Hail: INFO: wrote matrix table with 3426184 rows and 126 columns in 3061 partitions to /net/archive/groups/plggneuromol/imdik-zekanowski-sportwgs/data/hail-mts/sporstmen-intragenic.mt\n",
      "    Total size: 2.66 GiB\n",
      "    * Rows/entries: 2.66 GiB\n",
      "    * Columns: 1.07 KiB\n",
      "    * Globals: 11.00 B\n",
      "    * Smallest partition: 0 rows (20.00 B)\n",
      "    * Largest partition:  4687 rows (5.80 MiB)\n"
     ]
    }
   ],
   "source": [
    "mt.write('/net/archive/groups/plggneuromol/imdik-zekanowski-sportwgs/data/hail-mts/sporstmen-intragenic.mt')"
   ]
  },
  {
   "cell_type": "code",
   "execution_count": 23,
   "metadata": {},
   "outputs": [],
   "source": [
    "mt = hl.read_matrix_table('/net/archive/groups/plggneuromol/imdik-zekanowski-sportwgs/data/hail-mts/sporstmen-intragenic.mt')"
   ]
  },
  {
   "cell_type": "code",
   "execution_count": 24,
   "metadata": {},
   "outputs": [
    {
     "name": "stderr",
     "output_type": "stream",
     "text": [
      "2021-10-14 12:10:32 Hail: INFO: Reading table without type imputation\n",
      "  Loading field 'Gene stable ID' as type str (not specified)\n",
      "  Loading field 'UniProtKB Gene Name symbol' as type str (not specified)\n"
     ]
    },
    {
     "data": {
      "text/plain": [
       "23804"
      ]
     },
     "execution_count": 24,
     "metadata": {},
     "output_type": "execute_result"
    }
   ],
   "source": [
    "go_genes = hl.import_table('/net/archive/groups/plggneuromol/imdik-zekanowski-gts/data/external-data/human-genes-with-GO-and-symbols')\n",
    "all_genes = go_genes['UniProtKB Gene Name symbol'].collect()\n",
    "\n",
    "len(all_genes)"
   ]
  },
  {
   "cell_type": "code",
   "execution_count": 25,
   "metadata": {},
   "outputs": [],
   "source": [
    "mt = mt.filter_rows(hl.any(lambda x: hl.literal(all_genes).contains(x), mt.within_gene))"
   ]
  },
  {
   "cell_type": "code",
   "execution_count": 26,
   "metadata": {},
   "outputs": [
    {
     "name": "stderr",
     "output_type": "stream",
     "text": [
      "2021-10-14 12:15:29 Hail: INFO: wrote matrix table with 2526938 rows and 126 columns in 3061 partitions to /net/archive/groups/plggneuromol/imdik-zekanowski-sportwgs/data/hail-mts/sporstmen-intragenic-go.mt\n",
      "    Total size: 2.61 GiB\n",
      "    * Rows/entries: 2.61 GiB\n",
      "    * Columns: 1.30 KiB\n",
      "    * Globals: 11.00 B\n",
      "    * Smallest partition: 0 rows (20.00 B)\n",
      "    * Largest partition:  4687 rows (6.99 MiB)\n"
     ]
    },
    {
     "data": {
      "text/plain": [
       "<hail.matrixtable.MatrixTable at 0x2aae1c5982b0>"
      ]
     },
     "execution_count": 26,
     "metadata": {},
     "output_type": "execute_result"
    }
   ],
   "source": [
    "mt.checkpoint('/net/archive/groups/plggneuromol/imdik-zekanowski-sportwgs/data/hail-mts/sporstmen-intragenic-go.mt')"
   ]
  },
  {
   "cell_type": "code",
   "execution_count": 27,
   "metadata": {},
   "outputs": [
    {
     "data": {
      "text/plain": [
       "(2526938, 126)"
      ]
     },
     "execution_count": 27,
     "metadata": {},
     "output_type": "execute_result"
    }
   ],
   "source": [
    "mt.count()"
   ]
  },
  {
   "cell_type": "markdown",
   "metadata": {},
   "source": [
    "## lets further filter variants - higher quality qenotypes only"
   ]
  },
  {
   "cell_type": "code",
   "execution_count": 101,
   "metadata": {},
   "outputs": [],
   "source": [
    "#rpmk = hl.read_table('/net/archive/groups/plggneuromol/imdik-zekanowski-gts/data/external-data/repeatmasker_all.ht')\n",
    "\n",
    "#contig_len = hl.contig_length(rpmk.interval.end.contig, reference_genome='GRCh38')\n",
    "#end_pos = rpmk.interval.end.position\n",
    "#start_pos = rpmk.interval.start.position\n",
    "#contig = rpmk.interval.start.contig\n",
    "\n",
    "#rpmk = rpmk.annotate(larger_int_start = hl.if_else(start_pos == 1,\n",
    "#                                                   hl.locus(contig, start_pos, reference_genome='GRCh38'),\n",
    "#                                                   hl.locus(contig, start_pos-1, reference_genome='GRCh38')),\n",
    "#                     larger_int_end = hl.if_else(end_pos == contig_len,\n",
    "#                                                 hl.locus(contig, end_pos, reference_genome='GRCh38'),\n",
    "#                                                 hl.locus(contig, end_pos+1, reference_genome='GRCh38')),\n",
    "#                     larger_int_start_2 = hl.if_else((start_pos == 1) | (start_pos == 2),\n",
    "#                                                   hl.locus(contig, start_pos, reference_genome='GRCh38'),\n",
    "#                                                   hl.locus(contig, start_pos-2, reference_genome='GRCh38')),\n",
    "#                     larger_int_end_2 = hl.if_else((end_pos == contig_len) | (end_pos == (contig_len-1)),\n",
    "#                                                 hl.locus(contig, end_pos, reference_genome='GRCh38'),\n",
    "#                                                 hl.locus(contig, end_pos+2, reference_genome='GRCh38')))"
   ]
  },
  {
   "cell_type": "code",
   "execution_count": 102,
   "metadata": {},
   "outputs": [],
   "source": [
    "#rpmk.write('/net/archive/groups/plggneuromol/imdik-zekanowski-sportwgs/data/hail-mts/repeatmasker_anno.ht')"
   ]
  },
  {
   "cell_type": "code",
   "execution_count": 29,
   "metadata": {},
   "outputs": [],
   "source": [
    "mt = hl.read_matrix_table('/net/archive/groups/plggneuromol/imdik-zekanowski-sportwgs/data/hail-mts/sporstmen-intragenic-go.mt')"
   ]
  },
  {
   "cell_type": "code",
   "execution_count": 30,
   "metadata": {},
   "outputs": [
    {
     "name": "stderr",
     "output_type": "stream",
     "text": [
      "2021-10-14 12:16:41 Hail: INFO: Coerced sorted dataset\n",
      "2021-10-14 12:18:34 Hail: INFO: wrote matrix table with 2526938 rows and 126 columns in 3061 partitions to /net/archive/groups/plggneuromol/imdik-zekanowski-sportwgs/data/hail-mts/sporstmen-intragenic-filtered0.mt\n",
      "    Total size: 2.61 GiB\n",
      "    * Rows/entries: 2.61 GiB\n",
      "    * Columns: 1.30 KiB\n",
      "    * Globals: 11.00 B\n",
      "    * Smallest partition: 0 rows (20.00 B)\n",
      "    * Largest partition:  4687 rows (6.99 MiB)\n",
      "2021-10-14 12:18:37 Hail: INFO: Coerced sorted dataset\n",
      "2021-10-14 12:18:40 Hail: INFO: Ordering unsorted dataset with network shuffle\n",
      "2021-10-14 12:22:30 Hail: INFO: wrote matrix table with 2520318 rows and 126 columns in 3061 partitions to /net/archive/groups/plggneuromol/imdik-zekanowski-sportwgs/data/hail-mts/sporstmen-intragenic-filtered1.mt\n",
      "    Total size: 2.61 GiB\n",
      "    * Rows/entries: 2.61 GiB\n",
      "    * Columns: 1.30 KiB\n",
      "    * Globals: 11.00 B\n",
      "    * Smallest partition: 0 rows (20.00 B)\n",
      "    * Largest partition:  4677 rows (6.98 MiB)\n",
      "2021-10-14 12:22:33 Hail: INFO: Coerced sorted dataset\n",
      "2021-10-14 12:22:36 Hail: INFO: Ordering unsorted dataset with network shuffle\n",
      "2021-10-14 12:22:39 Hail: INFO: Coerced sorted dataset\n",
      "2021-10-14 12:27:04 Hail: INFO: wrote matrix table with 2513858 rows and 126 columns in 3061 partitions to /net/archive/groups/plggneuromol/imdik-zekanowski-sportwgs/data/hail-mts/sporstmen-intragenic-filtered2.mt\n",
      "    Total size: 2.60 GiB\n",
      "    * Rows/entries: 2.60 GiB\n",
      "    * Columns: 1.30 KiB\n",
      "    * Globals: 11.00 B\n",
      "    * Smallest partition: 0 rows (20.00 B)\n",
      "    * Largest partition:  4669 rows (6.97 MiB)\n"
     ]
    },
    {
     "data": {
      "text/plain": [
       "<hail.matrixtable.MatrixTable at 0x2aae1c886048>"
      ]
     },
     "execution_count": 30,
     "metadata": {},
     "output_type": "execute_result"
    }
   ],
   "source": [
    "#for some reason a loop doesn't work here\n",
    "rpmk = hl.read_table('/net/archive/groups/plggneuromol/imdik-zekanowski-sportwgs/data/hail-mts/repeatmasker_anno.ht')\n",
    "temp = rpmk.key_by(rpmk['larger_int_start'])\n",
    "mt = mt.filter_rows(hl.is_defined(temp[mt.locus]), keep = False)\n",
    "mt.checkpoint('/net/archive/groups/plggneuromol/imdik-zekanowski-sportwgs/data/hail-mts/sporstmen-intragenic-filtered0.mt')\n",
    "    \n",
    "rpmk = hl.read_table('/net/archive/groups/plggneuromol/imdik-zekanowski-sportwgs/data/hail-mts/repeatmasker_anno.ht')\n",
    "temp = rpmk.key_by(rpmk['larger_int_end'])\n",
    "mt = mt.filter_rows(hl.is_defined(temp[mt.locus]), keep = False)\n",
    "mt.checkpoint('/net/archive/groups/plggneuromol/imdik-zekanowski-sportwgs/data/hail-mts/sporstmen-intragenic-filtered1.mt')\n",
    "\n",
    "rpmk = hl.read_table('/net/archive/groups/plggneuromol/imdik-zekanowski-sportwgs/data/hail-mts/repeatmasker_anno.ht')\n",
    "temp = rpmk.key_by(rpmk['larger_int_start_2'])\n",
    "mt = mt.filter_rows(hl.is_defined(temp[mt.locus]), keep = False)\n",
    "mt.checkpoint('/net/archive/groups/plggneuromol/imdik-zekanowski-sportwgs/data/hail-mts/sporstmen-intragenic-filtered2.mt')"
   ]
  },
  {
   "cell_type": "code",
   "execution_count": 31,
   "metadata": {},
   "outputs": [],
   "source": [
    "mt = hl.read_matrix_table('/net/archive/groups/plggneuromol/imdik-zekanowski-sportwgs/data/hail-mts/sporstmen-intragenic-filtered2.mt')"
   ]
  },
  {
   "cell_type": "code",
   "execution_count": 32,
   "metadata": {},
   "outputs": [
    {
     "name": "stderr",
     "output_type": "stream",
     "text": [
      "2021-10-14 12:27:08 Hail: INFO: Ordering unsorted dataset with network shuffle\n",
      "2021-10-14 12:30:33 Hail: INFO: wrote matrix table with 2507532 rows and 126 columns in 3061 partitions to /net/archive/groups/plggneuromol/imdik-zekanowski-sportwgs/data/hail-mts/sporstmen-intragenic-filtered.mt\n",
      "    Total size: 2.59 GiB\n",
      "    * Rows/entries: 2.59 GiB\n",
      "    * Columns: 1.30 KiB\n",
      "    * Globals: 11.00 B\n",
      "    * Smallest partition: 0 rows (20.00 B)\n",
      "    * Largest partition:  4658 rows (6.96 MiB)\n"
     ]
    },
    {
     "data": {
      "text/plain": [
       "<hail.matrixtable.MatrixTable at 0x2aae1c972ba8>"
      ]
     },
     "execution_count": 32,
     "metadata": {},
     "output_type": "execute_result"
    }
   ],
   "source": [
    "rpmk = hl.read_table('/net/archive/groups/plggneuromol/imdik-zekanowski-sportwgs/data/hail-mts/repeatmasker_anno.ht')\n",
    "temp = rpmk.key_by(rpmk['larger_int_end_2'])\n",
    "mt = mt.filter_rows(hl.is_defined(temp[mt.locus]), keep = False)\n",
    "mt.checkpoint('/net/archive/groups/plggneuromol/imdik-zekanowski-sportwgs/data/hail-mts/sporstmen-intragenic-filtered.mt')"
   ]
  },
  {
   "cell_type": "markdown",
   "metadata": {},
   "source": [
    "## filter for gene lists"
   ]
  },
  {
   "cell_type": "code",
   "execution_count": 33,
   "metadata": {},
   "outputs": [],
   "source": [
    "mt = hl.read_matrix_table('/net/archive/groups/plggneuromol/imdik-zekanowski-sportwgs/data/hail-mts/sporstmen-intragenic-filtered.mt')"
   ]
  },
  {
   "cell_type": "code",
   "execution_count": 34,
   "metadata": {},
   "outputs": [
    {
     "data": {
      "text/plain": [
       "(2507532, 126)"
      ]
     },
     "execution_count": 34,
     "metadata": {},
     "output_type": "execute_result"
    }
   ],
   "source": [
    "mt.count()"
   ]
  },
  {
   "cell_type": "code",
   "execution_count": 4,
   "metadata": {},
   "outputs": [
    {
     "name": "stderr",
     "output_type": "stream",
     "text": [
      "2021-10-15 08:35:40 Hail: INFO: Reading table without type imputation\n",
      "  Loading field 'brain' as type str (not specified)\n",
      "  Loading field 'sekletal_muscle' as type str (not specified)\n",
      "  Loading field 'heart' as type str (not specified)\n",
      "  Loading field 'Hp_0011804' as type str (not specified)\n",
      "  Loading field 'Hp_0011805' as type str (not specified)\n",
      "  Loading field 'endurance_markers_2021' as type str (not specified)\n",
      "  Loading field 'power_markers_2021' as type str (not specified)\n",
      "  Loading field 'strength_markers_2021' as type str (not specified)\n",
      "  Loading field 'soft_tissue_injury_2021' as type str (not specified)\n"
     ]
    }
   ],
   "source": [
    "gene_lists = hl.import_table('/net/archive/groups/plggneuromol/imdik-zekanowski-sportwgs/data/external-data/gene-lists/sportsmen_gene_lists_october_2021.csv', quote=\"\\\"\")"
   ]
  },
  {
   "cell_type": "code",
   "execution_count": 5,
   "metadata": {},
   "outputs": [],
   "source": [
    "brain_genes = gene_lists.brain.collect()\n",
    "heart_genes = gene_lists.heart.collect()\n",
    "skeletal_muscle_genes = gene_lists.sekletal_muscle.collect()\n",
    "Hp_0011804 = gene_lists.Hp_0011804.collect()\n",
    "Hp_0011805 = gene_lists.Hp_0011805.collect()\n",
    "endurance_markers_2021 = gene_lists.endurance_markers_2021.collect()\n",
    "power_markers_2021 = gene_lists.power_markers_2021.collect()\n",
    "strength_markers_2021 = gene_lists.strength_markers_2021.collect()\n",
    "soft_tissue_injury_2021 = gene_lists.soft_tissue_injury_2021.collect()"
   ]
  },
  {
   "cell_type": "code",
   "execution_count": 38,
   "metadata": {},
   "outputs": [
    {
     "name": "stderr",
     "output_type": "stream",
     "text": [
      "2021-10-14 12:31:44 Hail: INFO: wrote matrix table with 127404 rows and 126 columns in 3061 partitions to /net/archive/groups/plggneuromol/imdik-zekanowski-sportwgs/data/hail-mts/brain-genes.mt\n",
      "    Total size: 133.94 MiB\n",
      "    * Rows/entries: 133.94 MiB\n",
      "    * Columns: 1.30 KiB\n",
      "    * Globals: 11.00 B\n",
      "    * Smallest partition: 0 rows (20.00 B)\n",
      "    * Largest partition:  3188 rows (3.05 MiB)\n",
      "2021-10-14 12:32:47 Hail: INFO: wrote matrix table with 88946 rows and 126 columns in 3061 partitions to /net/archive/groups/plggneuromol/imdik-zekanowski-sportwgs/data/hail-mts/heart-genes.mt\n",
      "    Total size: 94.29 MiB\n",
      "    * Rows/entries: 94.29 MiB\n",
      "    * Columns: 1.30 KiB\n",
      "    * Globals: 11.00 B\n",
      "    * Smallest partition: 0 rows (20.00 B)\n",
      "    * Largest partition:  3718 rows (3.92 MiB)\n",
      "2021-10-14 12:33:53 Hail: INFO: wrote matrix table with 141716 rows and 126 columns in 3061 partitions to /net/archive/groups/plggneuromol/imdik-zekanowski-sportwgs/data/hail-mts/muscle-genes.mt\n",
      "    Total size: 156.69 MiB\n",
      "    * Rows/entries: 156.69 MiB\n",
      "    * Columns: 1.30 KiB\n",
      "    * Globals: 11.00 B\n",
      "    * Smallest partition: 0 rows (20.00 B)\n",
      "    * Largest partition:  3718 rows (3.92 MiB)\n",
      "2021-10-14 12:35:01 Hail: INFO: wrote matrix table with 392491 rows and 126 columns in 3061 partitions to /net/archive/groups/plggneuromol/imdik-zekanowski-sportwgs/data/hail-mts/hpo-4.mt\n",
      "    Total size: 498.91 MiB\n",
      "    * Rows/entries: 498.90 MiB\n",
      "    * Columns: 1.30 KiB\n",
      "    * Globals: 11.00 B\n",
      "    * Smallest partition: 0 rows (20.00 B)\n",
      "    * Largest partition:  4658 rows (6.96 MiB)\n",
      "2021-10-14 12:36:29 Hail: INFO: wrote matrix table with 251073 rows and 126 columns in 3061 partitions to /net/archive/groups/plggneuromol/imdik-zekanowski-sportwgs/data/hail-mts/hpo-5.mt\n",
      "    Total size: 340.88 MiB\n",
      "    * Rows/entries: 340.88 MiB\n",
      "    * Columns: 1.30 KiB\n",
      "    * Globals: 11.00 B\n",
      "    * Smallest partition: 0 rows (20.00 B)\n",
      "    * Largest partition:  4658 rows (6.96 MiB)\n",
      "2021-10-14 12:37:31 Hail: INFO: wrote matrix table with 17656 rows and 126 columns in 3061 partitions to /net/archive/groups/plggneuromol/imdik-zekanowski-sportwgs/data/hail-mts/endurance.mt\n",
      "    Total size: 18.71 MiB\n",
      "    * Rows/entries: 18.71 MiB\n",
      "    * Columns: 1.30 KiB\n",
      "    * Globals: 11.00 B\n",
      "    * Smallest partition: 0 rows (20.00 B)\n",
      "    * Largest partition:  3718 rows (3.92 MiB)\n",
      "2021-10-14 12:38:32 Hail: INFO: wrote matrix table with 2212 rows and 126 columns in 3061 partitions to /net/archive/groups/plggneuromol/imdik-zekanowski-sportwgs/data/hail-mts/power.mt\n",
      "    Total size: 2.57 MiB\n",
      "    * Rows/entries: 2.57 MiB\n",
      "    * Columns: 1.30 KiB\n",
      "    * Globals: 11.00 B\n",
      "    * Smallest partition: 0 rows (20.00 B)\n",
      "    * Largest partition:  280 rows (498.16 KiB)\n",
      "2021-10-14 12:39:33 Hail: INFO: wrote matrix table with 10458 rows and 126 columns in 3061 partitions to /net/archive/groups/plggneuromol/imdik-zekanowski-sportwgs/data/hail-mts/stren.mt\n",
      "    Total size: 11.51 MiB\n",
      "    * Rows/entries: 11.51 MiB\n",
      "    * Columns: 1.30 KiB\n",
      "    * Globals: 11.00 B\n",
      "    * Smallest partition: 0 rows (20.00 B)\n",
      "    * Largest partition:  2294 rows (2.16 MiB)\n",
      "2021-10-14 12:40:35 Hail: INFO: wrote matrix table with 2660 rows and 126 columns in 3061 partitions to /net/archive/groups/plggneuromol/imdik-zekanowski-sportwgs/data/hail-mts/soft.mt\n",
      "    Total size: 3.44 MiB\n",
      "    * Rows/entries: 3.43 MiB\n",
      "    * Columns: 1.30 KiB\n",
      "    * Globals: 11.00 B\n",
      "    * Smallest partition: 0 rows (20.00 B)\n",
      "    * Largest partition:  1004 rows (1.27 MiB)\n"
     ]
    },
    {
     "data": {
      "text/plain": [
       "<hail.matrixtable.MatrixTable at 0x2aae1c87cd30>"
      ]
     },
     "execution_count": 38,
     "metadata": {},
     "output_type": "execute_result"
    }
   ],
   "source": [
    "mt_brain_genes = mt.filter_rows(hl.any(lambda x: hl.literal(brain_genes).contains(x), mt.within_gene))\n",
    "mt_brain_genes.checkpoint('/net/archive/groups/plggneuromol/imdik-zekanowski-sportwgs/data/hail-mts/brain-genes.mt')\n",
    "\n",
    "mt_heart_genes = mt.filter_rows(hl.any(lambda x: hl.literal(heart_genes).contains(x), mt.within_gene))\n",
    "mt_heart_genes.checkpoint('/net/archive/groups/plggneuromol/imdik-zekanowski-sportwgs/data/hail-mts/heart-genes.mt')\n",
    "\n",
    "mt_skeletal_genes = mt.filter_rows(hl.any(lambda x: hl.literal(skeletal_muscle_genes).contains(x), mt.within_gene))\n",
    "mt_skeletal_genes.checkpoint('/net/archive/groups/plggneuromol/imdik-zekanowski-sportwgs/data/hail-mts/muscle-genes.mt')\n",
    "\n",
    "mt_Hp_0011804 = mt.filter_rows(hl.any(lambda x: hl.literal(Hp_0011804).contains(x), mt.within_gene))\n",
    "mt_Hp_0011804.checkpoint('/net/archive/groups/plggneuromol/imdik-zekanowski-sportwgs/data/hail-mts/hpo-4.mt')\n",
    "\n",
    "mt_Hp_0011805 = mt.filter_rows(hl.any(lambda x: hl.literal(Hp_0011805).contains(x), mt.within_gene))\n",
    "mt_Hp_0011805.checkpoint('/net/archive/groups/plggneuromol/imdik-zekanowski-sportwgs/data/hail-mts/hpo-5.mt')\n",
    "\n",
    "mt_endurance_markers_2021 = mt.filter_rows(hl.any(lambda x: hl.literal(endurance_markers_2021).contains(x), mt.within_gene))\n",
    "mt_endurance_markers_2021.checkpoint('/net/archive/groups/plggneuromol/imdik-zekanowski-sportwgs/data/hail-mts/endurance.mt')\n",
    "\n",
    "mt_power_markers_2021 = mt.filter_rows(hl.any(lambda x: hl.literal(power_markers_2021).contains(x), mt.within_gene))\n",
    "mt_power_markers_2021.checkpoint('/net/archive/groups/plggneuromol/imdik-zekanowski-sportwgs/data/hail-mts/power.mt')\n",
    "\n",
    "mt_strength_markers_2021 = mt.filter_rows(hl.any(lambda x: hl.literal(strength_markers_2021).contains(x), mt.within_gene))\n",
    "mt_strength_markers_2021.checkpoint('/net/archive/groups/plggneuromol/imdik-zekanowski-sportwgs/data/hail-mts/stren.mt')\n",
    "\n",
    "mt_soft_tissue_injury_2021 = mt.filter_rows(hl.any(lambda x: hl.literal(soft_tissue_injury_2021).contains(x), mt.within_gene))\n",
    "mt_soft_tissue_injury_2021.checkpoint('/net/archive/groups/plggneuromol/imdik-zekanowski-sportwgs/data/hail-mts/soft.mt')"
   ]
  },
  {
   "cell_type": "markdown",
   "metadata": {},
   "source": [
    "## single variant analysis:"
   ]
  },
  {
   "cell_type": "code",
   "execution_count": 4,
   "metadata": {},
   "outputs": [],
   "source": [
    "mts = ['sporstmen-intragenic-filtered.mt', 'brain-genes.mt', 'heart-genes.mt', 'muscle-genes.mt', 'hpo-4.mt', 'hpo-5.mt', 'endurance.mt',\n",
    "'power.mt', 'stren.mt', 'soft.mt']"
   ]
  },
  {
   "cell_type": "code",
   "execution_count": 41,
   "metadata": {},
   "outputs": [
    {
     "name": "stderr",
     "output_type": "stream",
     "text": [
      "2021-10-14 12:44:33 Hail: INFO: wrote table with 2507532 rows in 3061 partitions to /net/archive/groups/plggneuromol/imdik-zekanowski-sportwgs/data/hail-mts/to-test-sporstmen-intragenic-filtered.mt\n",
      "    Total size: 42.72 MiB\n",
      "    * Rows: 42.72 MiB\n",
      "    * Globals: 11.00 B\n",
      "    * Smallest partition: 0 rows (21.00 B)\n",
      "    * Largest partition:  4931 rows (85.58 KiB)\n",
      "2021-10-14 12:45:11 Hail: INFO: wrote table with 127404 rows in 3061 partitions to /net/archive/groups/plggneuromol/imdik-zekanowski-sportwgs/data/hail-mts/to-test-brain-genes.mt\n",
      "    Total size: 2.29 MiB\n",
      "    * Rows: 2.29 MiB\n",
      "    * Globals: 11.00 B\n",
      "    * Smallest partition: 0 rows (21.00 B)\n",
      "    * Largest partition:  3188 rows (55.44 KiB)\n",
      "2021-10-14 12:45:50 Hail: INFO: wrote table with 88946 rows in 3061 partitions to /net/archive/groups/plggneuromol/imdik-zekanowski-sportwgs/data/hail-mts/to-test-heart-genes.mt\n",
      "    Total size: 1.62 MiB\n",
      "    * Rows: 1.62 MiB\n",
      "    * Globals: 11.00 B\n",
      "    * Smallest partition: 0 rows (21.00 B)\n",
      "    * Largest partition:  3718 rows (63.86 KiB)\n",
      "2021-10-14 12:46:28 Hail: INFO: wrote table with 141716 rows in 3061 partitions to /net/archive/groups/plggneuromol/imdik-zekanowski-sportwgs/data/hail-mts/to-test-muscle-genes.mt\n",
      "    Total size: 2.57 MiB\n",
      "    * Rows: 2.57 MiB\n",
      "    * Globals: 11.00 B\n",
      "    * Smallest partition: 0 rows (21.00 B)\n",
      "    * Largest partition:  3718 rows (63.86 KiB)\n",
      "2021-10-14 12:47:08 Hail: INFO: wrote table with 392491 rows in 3061 partitions to /net/archive/groups/plggneuromol/imdik-zekanowski-sportwgs/data/hail-mts/to-test-hpo-4.mt\n",
      "    Total size: 6.89 MiB\n",
      "    * Rows: 6.89 MiB\n",
      "    * Globals: 11.00 B\n",
      "    * Smallest partition: 0 rows (21.00 B)\n",
      "    * Largest partition:  4658 rows (80.23 KiB)\n",
      "2021-10-14 12:47:47 Hail: INFO: wrote table with 251073 rows in 3061 partitions to /net/archive/groups/plggneuromol/imdik-zekanowski-sportwgs/data/hail-mts/to-test-hpo-5.mt\n",
      "    Total size: 4.46 MiB\n",
      "    * Rows: 4.46 MiB\n",
      "    * Globals: 11.00 B\n",
      "    * Smallest partition: 0 rows (21.00 B)\n",
      "    * Largest partition:  4658 rows (80.23 KiB)\n",
      "2021-10-14 12:48:23 Hail: INFO: wrote table with 17656 rows in 3061 partitions to /net/archive/groups/plggneuromol/imdik-zekanowski-sportwgs/data/hail-mts/to-test-endurance.mt\n",
      "    Total size: 373.54 KiB\n",
      "    * Rows: 373.53 KiB\n",
      "    * Globals: 11.00 B\n",
      "    * Smallest partition: 0 rows (21.00 B)\n",
      "    * Largest partition:  3718 rows (63.86 KiB)\n",
      "2021-10-14 12:49:01 Hail: INFO: wrote table with 2212 rows in 3061 partitions to /net/archive/groups/plggneuromol/imdik-zekanowski-sportwgs/data/hail-mts/to-test-power.mt\n",
      "    Total size: 104.82 KiB\n",
      "    * Rows: 104.81 KiB\n",
      "    * Globals: 11.00 B\n",
      "    * Smallest partition: 0 rows (21.00 B)\n",
      "    * Largest partition:  415 rows (7.12 KiB)\n",
      "2021-10-14 12:49:39 Hail: INFO: wrote table with 10458 rows in 3061 partitions to /net/archive/groups/plggneuromol/imdik-zekanowski-sportwgs/data/hail-mts/to-test-stren.mt\n",
      "    Total size: 250.37 KiB\n",
      "    * Rows: 250.36 KiB\n",
      "    * Globals: 11.00 B\n",
      "    * Smallest partition: 0 rows (21.00 B)\n",
      "    * Largest partition:  2294 rows (39.63 KiB)\n",
      "2021-10-14 12:50:16 Hail: INFO: wrote table with 2660 rows in 3061 partitions to /net/archive/groups/plggneuromol/imdik-zekanowski-sportwgs/data/hail-mts/to-test-soft.mt\n",
      "    Total size: 111.72 KiB\n",
      "    * Rows: 111.71 KiB\n",
      "    * Globals: 11.00 B\n",
      "    * Smallest partition: 0 rows (21.00 B)\n",
      "    * Largest partition:  1004 rows (17.14 KiB)\n"
     ]
    }
   ],
   "source": [
    "for mt_name in mts:\n",
    "    mt = hl.read_matrix_table('/net/archive/groups/plggneuromol/imdik-zekanowski-sportwgs/data/hail-mts/'+mt_name)\n",
    "    to_test = mt.rows()\n",
    "    to_test = to_test.select(to_test.controls_non_ref, to_test.sports_non_ref, to_test.controls_ref, to_test.sports_ref, to_test.speed_non_ref, to_test.endurance_non_ref, to_test.speed_ref, to_test.endurance_ref)\n",
    "    to_test.write('/net/archive/groups/plggneuromol/imdik-zekanowski-sportwgs/data/hail-mts/to-test-'+mt_name)"
   ]
  },
  {
   "cell_type": "code",
   "execution_count": 59,
   "metadata": {},
   "outputs": [
    {
     "name": "stdout",
     "output_type": "stream",
     "text": [
      "sporstmen-intragenic-filtered.mt\n",
      "2507532\n",
      "1.9939924993978143e-08\n"
     ]
    },
    {
     "name": "stderr",
     "output_type": "stream",
     "text": [
      "2021-10-14 15:58:17 Hail: INFO: wrote table with 2507532 rows in 3061 partitions to /net/archive/groups/plggneuromol/imdik-zekanowski-sportwgs/data/hail-mts/to-test-fishersporstmen-intragenic-filtered.mt\n",
      "    Total size: 83.59 MiB\n",
      "    * Rows: 83.59 MiB\n",
      "    * Globals: 11.00 B\n",
      "    * Smallest partition: 0 rows (21.00 B)\n",
      "    * Largest partition:  4931 rows (183.76 KiB)\n"
     ]
    },
    {
     "name": "stdout",
     "output_type": "stream",
     "text": [
      "7\n",
      "brain-genes.mt\n",
      "127404\n",
      "3.9245235628394717e-07\n"
     ]
    },
    {
     "name": "stderr",
     "output_type": "stream",
     "text": [
      "2021-10-14 16:02:57 Hail: INFO: wrote table with 127404 rows in 3061 partitions to /net/archive/groups/plggneuromol/imdik-zekanowski-sportwgs/data/hail-mts/to-test-fisherbrain-genes.mt\n",
      "    Total size: 4.44 MiB\n",
      "    * Rows: 4.44 MiB\n",
      "    * Globals: 11.00 B\n",
      "    * Smallest partition: 0 rows (21.00 B)\n",
      "    * Largest partition:  3188 rows (115.16 KiB)\n"
     ]
    },
    {
     "name": "stdout",
     "output_type": "stream",
     "text": [
      "0\n",
      "heart-genes.mt\n",
      "88946\n",
      "5.621388258044207e-07\n"
     ]
    },
    {
     "name": "stderr",
     "output_type": "stream",
     "text": [
      "2021-10-14 16:04:05 Hail: INFO: wrote table with 88946 rows in 3061 partitions to /net/archive/groups/plggneuromol/imdik-zekanowski-sportwgs/data/hail-mts/to-test-fisherheart-genes.mt\n",
      "    Total size: 3.17 MiB\n",
      "    * Rows: 3.17 MiB\n",
      "    * Globals: 11.00 B\n",
      "    * Smallest partition: 0 rows (21.00 B)\n",
      "    * Largest partition:  3718 rows (131.00 KiB)\n"
     ]
    },
    {
     "name": "stdout",
     "output_type": "stream",
     "text": [
      "0\n",
      "muscle-genes.mt\n",
      "141716\n",
      "3.5281831268170146e-07\n"
     ]
    },
    {
     "name": "stderr",
     "output_type": "stream",
     "text": [
      "2021-10-14 16:05:18 Hail: INFO: wrote table with 141716 rows in 3061 partitions to /net/archive/groups/plggneuromol/imdik-zekanowski-sportwgs/data/hail-mts/to-test-fishermuscle-genes.mt\n",
      "    Total size: 5.01 MiB\n",
      "    * Rows: 5.01 MiB\n",
      "    * Globals: 11.00 B\n",
      "    * Smallest partition: 0 rows (21.00 B)\n",
      "    * Largest partition:  3718 rows (131.00 KiB)\n"
     ]
    },
    {
     "name": "stdout",
     "output_type": "stream",
     "text": [
      "0\n",
      "hpo-4.mt\n",
      "392491\n",
      "1.2739145610982163e-07\n"
     ]
    },
    {
     "name": "stderr",
     "output_type": "stream",
     "text": [
      "2021-10-14 16:06:59 Hail: INFO: wrote table with 392491 rows in 3061 partitions to /net/archive/groups/plggneuromol/imdik-zekanowski-sportwgs/data/hail-mts/to-test-fisherhpo-4.mt\n",
      "    Total size: 13.25 MiB\n",
      "    * Rows: 13.25 MiB\n",
      "    * Globals: 11.00 B\n",
      "    * Smallest partition: 0 rows (21.00 B)\n",
      "    * Largest partition:  4658 rows (166.09 KiB)\n"
     ]
    },
    {
     "name": "stdout",
     "output_type": "stream",
     "text": [
      "2\n",
      "hpo-5.mt\n",
      "251073\n",
      "1.9914526850756553e-07\n"
     ]
    },
    {
     "name": "stderr",
     "output_type": "stream",
     "text": [
      "2021-10-14 16:08:46 Hail: INFO: wrote table with 251073 rows in 3061 partitions to /net/archive/groups/plggneuromol/imdik-zekanowski-sportwgs/data/hail-mts/to-test-fisherhpo-5.mt\n",
      "    Total size: 8.57 MiB\n",
      "    * Rows: 8.57 MiB\n",
      "    * Globals: 11.00 B\n",
      "    * Smallest partition: 0 rows (21.00 B)\n",
      "    * Largest partition:  4658 rows (166.09 KiB)\n"
     ]
    },
    {
     "name": "stdout",
     "output_type": "stream",
     "text": [
      "0\n",
      "endurance.mt\n",
      "17656\n",
      "2.8318985047575897e-06\n"
     ]
    },
    {
     "name": "stderr",
     "output_type": "stream",
     "text": [
      "2021-10-14 16:09:58 Hail: INFO: wrote table with 17656 rows in 3061 partitions to /net/archive/groups/plggneuromol/imdik-zekanowski-sportwgs/data/hail-mts/to-test-fisherendurance.mt\n",
      "    Total size: 698.00 KiB\n",
      "    * Rows: 697.99 KiB\n",
      "    * Globals: 11.00 B\n",
      "    * Smallest partition: 0 rows (21.00 B)\n",
      "    * Largest partition:  3718 rows (131.00 KiB)\n"
     ]
    },
    {
     "name": "stdout",
     "output_type": "stream",
     "text": [
      "0\n",
      "power.mt\n",
      "2212\n",
      "2.2603978300180832e-05\n"
     ]
    },
    {
     "name": "stderr",
     "output_type": "stream",
     "text": [
      "2021-10-14 16:10:45 Hail: INFO: wrote table with 2212 rows in 3061 partitions to /net/archive/groups/plggneuromol/imdik-zekanowski-sportwgs/data/hail-mts/to-test-fisherpower.mt\n",
      "    Total size: 144.35 KiB\n",
      "    * Rows: 144.34 KiB\n",
      "    * Globals: 11.00 B\n",
      "    * Smallest partition: 0 rows (21.00 B)\n",
      "    * Largest partition:  415 rows (12.50 KiB)\n"
     ]
    },
    {
     "name": "stdout",
     "output_type": "stream",
     "text": [
      "0\n",
      "stren.mt\n",
      "10458\n",
      "4.7810288774144194e-06\n"
     ]
    },
    {
     "name": "stderr",
     "output_type": "stream",
     "text": [
      "2021-10-14 16:11:32 Hail: INFO: wrote table with 10458 rows in 3061 partitions to /net/archive/groups/plggneuromol/imdik-zekanowski-sportwgs/data/hail-mts/to-test-fisherstren.mt\n",
      "    Total size: 423.28 KiB\n",
      "    * Rows: 423.27 KiB\n",
      "    * Globals: 11.00 B\n",
      "    * Smallest partition: 0 rows (21.00 B)\n",
      "    * Largest partition:  2294 rows (75.08 KiB)\n"
     ]
    },
    {
     "name": "stdout",
     "output_type": "stream",
     "text": [
      "0\n",
      "soft.mt\n",
      "2660\n",
      "1.879699248120301e-05\n"
     ]
    },
    {
     "name": "stderr",
     "output_type": "stream",
     "text": [
      "2021-10-14 16:12:20 Hail: INFO: wrote table with 2660 rows in 3061 partitions to /net/archive/groups/plggneuromol/imdik-zekanowski-sportwgs/data/hail-mts/to-test-fishersoft.mt\n",
      "    Total size: 160.73 KiB\n",
      "    * Rows: 160.72 KiB\n",
      "    * Globals: 11.00 B\n",
      "    * Smallest partition: 0 rows (21.00 B)\n",
      "    * Largest partition:  1004 rows (34.66 KiB)\n"
     ]
    },
    {
     "name": "stdout",
     "output_type": "stream",
     "text": [
      "0\n"
     ]
    }
   ],
   "source": [
    "for mt_name in mts:\n",
    "    to_test = hl.read_table('/net/archive/groups/plggneuromol/imdik-zekanowski-sportwgs/data/hail-mts/to-test-'+mt_name)\n",
    "    print(mt_name)\n",
    "    print(to_test.count())\n",
    "    print(0.05/to_test.count())\n",
    "    to_test = to_test.annotate(fisher_vs_controls = hl.fisher_exact_test(hl.int32(to_test.controls_non_ref), \n",
    "                                                         hl.int32(to_test.controls_ref),\n",
    "                                                         hl.int32(to_test.sports_non_ref),\n",
    "                                                         hl.int32(to_test.sports_ref)),\n",
    "                              fisher_e_vs_s = hl.fisher_exact_test(hl.int32(to_test.endurance_non_ref), \n",
    "                                                         hl.int32(to_test.endurance_ref),\n",
    "                                                         hl.int32(to_test.speed_non_ref),\n",
    "                                                         hl.int32(to_test.speed_ref)))\n",
    "    to_test.checkpoint('/net/archive/groups/plggneuromol/imdik-zekanowski-sportwgs/data/hail-mts/to-test-fisher'+mt_name)\n",
    "    to_test = to_test.filter((to_test.fisher_vs_controls.p_value < 0.05/to_test.count()) | (to_test.fisher_e_vs_s.p_value < 0.05/to_test.count()))\n",
    "    print(to_test.count())\n",
    "                            "
   ]
  },
  {
   "cell_type": "code",
   "execution_count": 67,
   "metadata": {},
   "outputs": [],
   "source": [
    "mt = hl.read_matrix_table('/net/archive/groups/plggneuromol/imdik-zekanowski-sportwgs/data/hail-mts/sporstmen-intragenic-filtered.mt')"
   ]
  },
  {
   "cell_type": "code",
   "execution_count": 61,
   "metadata": {},
   "outputs": [
    {
     "name": "stdout",
     "output_type": "stream",
     "text": [
      "sporstmen-intragenic-filtered.mt\n",
      "brain-genes.mt\n",
      "heart-genes.mt\n",
      "muscle-genes.mt\n",
      "hpo-4.mt\n",
      "hpo-5.mt\n",
      "endurance.mt\n",
      "power.mt\n",
      "stren.mt\n",
      "soft.mt\n"
     ]
    }
   ],
   "source": [
    "#annotate with results of each test:\n",
    "\n",
    "mtables = []\n",
    "mts = ['sporstmen-intragenic-filtered.mt', 'brain-genes.mt', 'heart-genes.mt', 'muscle-genes.mt', 'hpo-4.mt', 'hpo-5.mt', 'endurance.mt',\n",
    "'power.mt', 'stren.mt', 'soft.mt']\n",
    "\n",
    "for mtable in mts:\n",
    "    mtables.append(hl.read_table('/net/archive/groups/plggneuromol/imdik-zekanowski-sportwgs/data/hail-mts/to-test-fisher'+mtable))\n",
    "    print(mtable)\n",
    "    \n",
    "mt = mt.annotate_rows(fisher_all_vs_controls= mtables[0][mt.row_key]['fisher_vs_controls'],\n",
    "                fisher_all_e_vs_s= mtables[0][mt.row_key]['fisher_e_vs_s'],\n",
    "                fisher_brain_vs_controls=mtables[1][mt.row_key]['fisher_vs_controls'],\n",
    "                fisher_brain_e_vs_s=mtables[1][mt.row_key]['fisher_e_vs_s'],\n",
    "                fisher_heart_vs_controls=mtables[2][mt.row_key]['fisher_vs_controls'],\n",
    "                fisher_heart_e_vs_s=mtables[2][mt.row_key]['fisher_e_vs_s'],\n",
    "                fisher_muscle_vs_controls=mtables[3][mt.row_key]['fisher_vs_controls'],\n",
    "                fisher_muscle_e_vs_s=mtables[3][mt.row_key]['fisher_e_vs_s'],\n",
    "                fisher_hpo4_vs_controls=mtables[4][mt.row_key]['fisher_vs_controls'],\n",
    "                fisher_hpo4_e_vs_s=mtables[4][mt.row_key]['fisher_e_vs_s'],\n",
    "                fisher_hpo5_vs_controls=mtables[5][mt.row_key]['fisher_vs_controls'],\n",
    "                fisher_hpo5_e_vs_s=mtables[5][mt.row_key]['fisher_e_vs_s'],\n",
    "                fisher_end_vs_controls=mtables[6][mt.row_key]['fisher_vs_controls'],\n",
    "                fisher_end_e_vs_s=mtables[6][mt.row_key]['fisher_e_vs_s'],\n",
    "                fisher_power_vs_controls=mtables[7][mt.row_key]['fisher_vs_controls'],\n",
    "                fisher_power_e_vs_s=mtables[7][mt.row_key]['fisher_e_vs_s'],\n",
    "                fisher_stren_vs_controls=mtables[8][mt.row_key]['fisher_vs_controls'],\n",
    "                fisher_stren_e_vs_s=mtables[8][mt.row_key]['fisher_e_vs_s'],\n",
    "                fisher_soft_vs_controls=mtables[9][mt.row_key]['fisher_vs_controls'],\n",
    "                fisher_soft_e_vs_s=mtables[9][mt.row_key]['fisher_e_vs_s']\n",
    "                )"
   ]
  },
  {
   "cell_type": "code",
   "execution_count": 5,
   "metadata": {},
   "outputs": [],
   "source": [
    "#mt.checkpoint('/net/archive/groups/plggneuromol/imdik-zekanowski-sportwgs/data/hail-mts/all-fisher.mt')\n",
    "mt = hl.read_matrix_table('/net/archive/groups/plggneuromol/imdik-zekanowski-sportwgs/data/hail-mts/all-fisher.mt')"
   ]
  },
  {
   "cell_type": "code",
   "execution_count": 6,
   "metadata": {},
   "outputs": [],
   "source": [
    "#correct this mt again (more conservative flag):\n",
    "\n",
    "mt = mt.annotate_rows(flag = hl.if_else(((mt.af_controls > 0.1) | (mt.af_sport > 0.1)), hl.if_else(\n",
    "    hl.is_defined(mt.gnomad_v3.v3_nfe.AF), hl.if_else(\n",
    "        ((hl.abs(mt.af_controls - mt.gnomad_v3.v3_nfe.AF) > 0.15) | (hl.abs(mt.af_sport - mt.gnomad_v3.v3_nfe.AF) > 0.15)), 'not', 'ok'), 'not'), 'ok'))"
   ]
  },
  {
   "cell_type": "code",
   "execution_count": 7,
   "metadata": {},
   "outputs": [],
   "source": [
    "mt = mt.filter_rows(mt.flag == 'ok')"
   ]
  },
  {
   "cell_type": "code",
   "execution_count": 8,
   "metadata": {},
   "outputs": [
    {
     "name": "stderr",
     "output_type": "stream",
     "text": [
      "2021-10-14 18:04:35 Hail: INFO: wrote matrix table with 2108100 rows and 126 columns in 3061 partitions to /net/archive/groups/plggneuromol/imdik-zekanowski-sportwgs/data/hail-mts/all-fisher-flag.mt\n",
      "    Total size: 2.13 GiB\n",
      "    * Rows/entries: 2.13 GiB\n",
      "    * Columns: 1.30 KiB\n",
      "    * Globals: 11.00 B\n",
      "    * Smallest partition: 0 rows (20.00 B)\n",
      "    * Largest partition:  4008 rows (5.97 MiB)\n"
     ]
    },
    {
     "data": {
      "text/plain": [
       "<hail.matrixtable.MatrixTable at 0x2b56fd9a1f28>"
      ]
     },
     "execution_count": 8,
     "metadata": {},
     "output_type": "execute_result"
    }
   ],
   "source": [
    "mt.checkpoint('/net/archive/groups/plggneuromol/imdik-zekanowski-sportwgs/data/hail-mts/all-fisher-flag.mt')"
   ]
  },
  {
   "cell_type": "code",
   "execution_count": 18,
   "metadata": {},
   "outputs": [],
   "source": [
    "mt = hl.read_matrix_table('/net/archive/groups/plggneuromol/imdik-zekanowski-sportwgs/data/hail-mts/all-fisher-flag.mt')"
   ]
  },
  {
   "cell_type": "code",
   "execution_count": 23,
   "metadata": {
    "scrolled": false
   },
   "outputs": [],
   "source": [
    "t = mt.rows()"
   ]
  },
  {
   "cell_type": "code",
   "execution_count": 104,
   "metadata": {},
   "outputs": [],
   "source": [
    "#t.checkpoint('/net/archive/groups/plggneuromol/imdik-zekanowski-sportwgs/data/hail-mts/all-fisher-flag-rows.mt')\n",
    "t = hl.read_table('/net/archive/groups/plggneuromol/imdik-zekanowski-sportwgs/data/hail-mts/all-fisher-flag-rows.mt')"
   ]
  },
  {
   "cell_type": "markdown",
   "metadata": {},
   "source": [
    "colloect p_value tresholds:"
   ]
  },
  {
   "cell_type": "code",
   "execution_count": 105,
   "metadata": {},
   "outputs": [],
   "source": [
    "brain_vs_controls = t.order_by(t.fisher_brain_vs_controls.p_value).fisher_brain_vs_controls.p_value.take(5)[4]\n",
    "brain_e_vs_s = t.order_by(t.fisher_brain_e_vs_s.p_value).fisher_brain_e_vs_s.p_value.take(5)[4]\n",
    "heart_vs_controls = t.order_by(t.fisher_heart_vs_controls.p_value).fisher_heart_vs_controls.p_value.take(5)[4]\n",
    "heart_e_vs_s = t.order_by(t.fisher_heart_e_vs_s.p_value).fisher_heart_e_vs_s.p_value.take(5)[4]\n",
    "muscle_vs_controls = t.order_by(t.fisher_muscle_vs_controls.p_value).fisher_muscle_vs_controls.p_value.take(5)[4]\n",
    "muscle_e_vs_s = t.order_by(t.fisher_muscle_e_vs_s.p_value).fisher_muscle_e_vs_s.p_value.take(5)[4]\n",
    "hpo4_vs_controls = t.order_by(t.fisher_hpo4_vs_controls.p_value).fisher_hpo4_vs_controls.p_value.take(5)[4]\n",
    "hpo4_e_vs_s = t.order_by(t.fisher_hpo4_e_vs_s.p_value).fisher_hpo4_e_vs_s.p_value.take(5)[4]\n",
    "hpo5_vs_controls = t.order_by(t.fisher_hpo5_vs_controls.p_value).fisher_hpo5_vs_controls.p_value.take(5)[4]\n",
    "hpo5_e_vs_s = t.order_by(t.fisher_hpo5_e_vs_s.p_value).fisher_hpo5_e_vs_s.p_value.take(5)[4]\n",
    "end_vs_controls = t.order_by(t.fisher_end_vs_controls.p_value).fisher_end_vs_controls.p_value.take(5)[4]\n",
    "end_e_vs_s = t.order_by(t.fisher_end_e_vs_s.p_value).fisher_end_e_vs_s.p_value.take(5)[4]\n",
    "power_vs_controls = t.order_by(t.fisher_power_vs_controls.p_value).fisher_power_vs_controls.p_value.take(5)[4]\n",
    "power_e_vs_s = t.order_by(t.fisher_power_e_vs_s.p_value).fisher_power_e_vs_s.p_value.take(5)[4]\n",
    "stren_vs_controls = t.order_by(t.fisher_stren_vs_controls.p_value).fisher_stren_vs_controls.p_value.take(5)[4]\n",
    "stren_e_vs_s = t.order_by(t.fisher_stren_e_vs_s.p_value).fisher_stren_e_vs_s.p_value.take(5)[4]\n",
    "soft_vs_controls = t.order_by(t.fisher_soft_vs_controls.p_value).fisher_soft_vs_controls.p_value.take(5)[4]\n",
    "soft_e_vs_s = t.order_by(t.fisher_soft_e_vs_s.p_value).fisher_soft_e_vs_s.p_value.take(5)[4]\n"
   ]
  },
  {
   "cell_type": "markdown",
   "metadata": {},
   "source": [
    "### get top variants from each table:"
   ]
  },
  {
   "cell_type": "code",
   "execution_count": 106,
   "metadata": {},
   "outputs": [],
   "source": [
    "t = t.filter(\n",
    "((t.fisher_brain_vs_controls.p_value <= brain_vs_controls) & (t.fisher_brain_vs_controls.p_value > 0)) |\n",
    "    ((t.fisher_brain_e_vs_s.p_value <= brain_e_vs_s) & (t.fisher_brain_e_vs_s.p_value > 0)) |\n",
    "    ((t.fisher_heart_vs_controls.p_value <= heart_vs_controls)  & (t.fisher_heart_vs_controls.p_value > 0)) |\n",
    "    ((t.fisher_heart_e_vs_s.p_value <= heart_e_vs_s) & (t.fisher_heart_e_vs_s.p_value > 0)) |\n",
    "    ((t.fisher_muscle_vs_controls.p_value <= muscle_vs_controls)  & (t.fisher_muscle_vs_controls.p_value > 0)) |\n",
    "    ((t.fisher_muscle_e_vs_s.p_value <= muscle_e_vs_s) & (t.fisher_muscle_e_vs_s.p_value > 0)) |\n",
    "    ((t.fisher_hpo4_vs_controls.p_value <= hpo4_vs_controls)  & (t.fisher_hpo4_vs_controls.p_value > 0)) |\n",
    "    ((t.fisher_hpo4_e_vs_s.p_value <= hpo4_e_vs_s) & (t.fisher_hpo4_e_vs_s.p_value > 0)) |\n",
    "    ((t.fisher_hpo5_vs_controls.p_value <= hpo5_vs_controls)  & (t.fisher_hpo5_vs_controls.p_value > 0)) |\n",
    "    ((t.fisher_hpo5_e_vs_s.p_value <= hpo5_e_vs_s) & (t.fisher_hpo5_e_vs_s.p_value > 0)) |\n",
    "    ((t.fisher_end_vs_controls.p_value <= end_vs_controls) & (t.fisher_end_vs_controls.p_value > 0)) |\n",
    "    ((t.fisher_end_e_vs_s.p_value <= end_e_vs_s) & (t.fisher_end_e_vs_s.p_value > 0)) |\n",
    "    ((t.fisher_power_vs_controls.p_value <= power_vs_controls) & (t.fisher_power_vs_controls.p_value > 0)) |\n",
    "    ((t.fisher_power_e_vs_s.p_value <= power_e_vs_s) & (t.fisher_power_e_vs_s.p_value > 0)) |\n",
    "    ((t.fisher_stren_vs_controls.p_value <= stren_vs_controls) & (t.fisher_stren_vs_controls.p_value > 0)) |\n",
    "    ((t.fisher_stren_e_vs_s.p_value <= stren_e_vs_s) & (t.fisher_stren_e_vs_s.p_value > 0)) |\n",
    "    ((t.fisher_soft_vs_controls.p_value <= soft_vs_controls) & (t.fisher_soft_vs_controls.p_value > 0)) |\n",
    "    ((t.fisher_soft_e_vs_s.p_value <= soft_e_vs_s) & (t.fisher_soft_e_vs_s.p_value > 0)))"
   ]
  },
  {
   "cell_type": "code",
   "execution_count": 107,
   "metadata": {},
   "outputs": [],
   "source": [
    "t = t.select(rsid = t.gnomad_v3.rsid,\n",
    "                                 gnomAD_v3_1_allele_frequency = t.gnomad_v3.v3_nfe.AF,\n",
    "                                 gnomAD_v3_1_homozygote_count = t.gnomad_v3.v3_nfe.homozygote_count,\n",
    "                                 predicted_most_severe_consequence = t.gnomad_v3.most_severe_consequence,\n",
    "                                 gene = t.within_gene,\n",
    "                                 hpo = t.hpo,\n",
    "                                 controls_non_ref = t.controls_non_ref,\n",
    "                                 sports_non_ref = t.sports_non_ref,\n",
    "                                 controls_ref = t.controls_ref,\n",
    "                                 sports_ref = t.sports_ref,\n",
    "                                 speed_non_ref = t.speed_non_ref,\n",
    "                                 speed_ref = t.speed_ref,\n",
    "                                 endurance_non_ref = t.endurance_non_ref,\n",
    "                                 endurance_ref = t.endurance_ref,\n",
    "                                 fisher_brain_vs_controls = t.fisher_brain_vs_controls.p_value,\n",
    "                                 fisher_brain_e_vs_s = t.fisher_brain_e_vs_s.p_value,\n",
    "                                 fisher_muscle_vs_controls = t.fisher_muscle_vs_controls.p_value,\n",
    "                                 fisher_muscle_e_vs_s = t.fisher_muscle_e_vs_s.p_value,\n",
    "                                 fisher_heart_vs_controls = t.fisher_heart_vs_controls,\n",
    "                                 fisher_heart_e_vs_s = t.fisher_heart_e_vs_s.p_value,\n",
    "                                 fisher_hpo4_vs_controls = t.fisher_hpo4_vs_controls.p_value,\n",
    "                                 fisher_hpo4_e_vs_s = t.fisher_hpo4_e_vs_s.p_value,\n",
    "                                 fisher_hpo5_vs_controls = t.fisher_hpo5_vs_controls.p_value,\n",
    "                                 fisher_hpo5_e_vs_s = t.fisher_hpo5_e_vs_s.p_value,\n",
    "                                 fisher_end_vs_controls = t.fisher_end_vs_controls.p_value,\n",
    "                                 fisher_end_e_vs_s = t.fisher_end_e_vs_s.p_value,\n",
    "                                 fisher_power_vs_controls = t.fisher_power_vs_controls.p_value,\n",
    "                                 fisher_power_e_vs_s = t.fisher_power_e_vs_s.p_value,\n",
    "                                 fisher_stren_vs_controls = t.fisher_stren_vs_controls.p_value,\n",
    "                                 fisher_stren_e_vs_s = t.fisher_stren_e_vs_s.p_value,\n",
    "                                 fisher_soft_vs_controls = t.fisher_soft_vs_controls.p_value,\n",
    "                                 fisher_soft_e_vs_s = t.fisher_soft_e_vs_s.p_value,\n",
    "                                 variant_qc = t.variant_qc)"
   ]
  },
  {
   "cell_type": "code",
   "execution_count": 102,
   "metadata": {},
   "outputs": [],
   "source": [
    "#t.checkpoint('/net/archive/groups/plggneuromol/imdik-zekanowski-sportwgs/data/hail-mts/to-export-fisher-single.ht')\n",
    "\n",
    "t = hl.read_table('/net/archive/groups/plggneuromol/imdik-zekanowski-sportwgs/data/hail-mts/to-export-fisher-single.ht')"
   ]
  },
  {
   "cell_type": "code",
   "execution_count": 108,
   "metadata": {},
   "outputs": [],
   "source": [
    "to_export = t.to_pandas()"
   ]
  },
  {
   "cell_type": "code",
   "execution_count": 109,
   "metadata": {},
   "outputs": [],
   "source": [
    "to_export.to_csv('/net/archive/groups/plggneuromol/imdik-zekanowski-sportwgs/results/fisher-single.csv')"
   ]
  },
  {
   "cell_type": "code",
   "execution_count": 110,
   "metadata": {},
   "outputs": [],
   "source": [
    "to_export.to_csv('table1.csv')"
   ]
  },
  {
   "cell_type": "markdown",
   "metadata": {},
   "source": [
    "# rare variants:"
   ]
  },
  {
   "cell_type": "code",
   "execution_count": 124,
   "metadata": {},
   "outputs": [],
   "source": [
    "t = hl.read_table('/net/archive/groups/plggneuromol/imdik-zekanowski-sportwgs/data/hail-mts/all-fisher-flag-rows.mt')"
   ]
  },
  {
   "cell_type": "code",
   "execution_count": 125,
   "metadata": {},
   "outputs": [],
   "source": [
    "selected_genes = brain_genes + heart_genes + skeletal_muscle_genes + Hp_0011804 + Hp_0011805 + endurance_markers_2021 + power_markers_2021 + strength_markers_2021 + soft_tissue_injury_2021"
   ]
  },
  {
   "cell_type": "code",
   "execution_count": 127,
   "metadata": {},
   "outputs": [],
   "source": [
    "t = t.filter(t.gnomad_v3.v3_nfe.AF < 0.00002)\n",
    "t = t.filter(hl.any(lambda x: hl.literal(selected_genes).contains(x), t.within_gene))\n",
    "t = t.filter(t.gnomad_v3.most_severe_consequence == 'stop_gained')"
   ]
  },
  {
   "cell_type": "code",
   "execution_count": 128,
   "metadata": {},
   "outputs": [
    {
     "data": {
      "text/html": [
       "<table><thead><tr><td style=\"white-space: nowrap; max-width: 500px; overflow: hidden; text-overflow: ellipsis; \" colspan=\"1\"><div style=\"text-align: left;\"></div></td><td style=\"white-space: nowrap; max-width: 500px; overflow: hidden; text-overflow: ellipsis; \" colspan=\"1\"><div style=\"text-align: left;\"></div></td><td style=\"white-space: nowrap; max-width: 500px; overflow: hidden; text-overflow: ellipsis; \" colspan=\"1\"><div style=\"text-align: left;\"></div></td></tr><tr><td style=\"white-space: nowrap; max-width: 500px; overflow: hidden; text-overflow: ellipsis; \" colspan=\"1\"><div style=\"text-align: left;border-bottom: solid 2px #000; padding-bottom: 5px\">locus</div></td><td style=\"white-space: nowrap; max-width: 500px; overflow: hidden; text-overflow: ellipsis; \" colspan=\"1\"><div style=\"text-align: left;border-bottom: solid 2px #000; padding-bottom: 5px\">alleles</div></td><td style=\"white-space: nowrap; max-width: 500px; overflow: hidden; text-overflow: ellipsis; \" colspan=\"1\"><div style=\"text-align: left;border-bottom: solid 2px #000; padding-bottom: 5px\"><expr></div></td></tr><tr><td style=\"white-space: nowrap; max-width: 500px; overflow: hidden; text-overflow: ellipsis; text-align: left;\">locus&lt;GRCh38&gt;</td><td style=\"white-space: nowrap; max-width: 500px; overflow: hidden; text-overflow: ellipsis; text-align: left;\">array&lt;str&gt;</td><td style=\"white-space: nowrap; max-width: 500px; overflow: hidden; text-overflow: ellipsis; text-align: left;\">int32</td></tr>\n",
       "</thead><tbody><tr><td style=\"white-space: nowrap; max-width: 500px; overflow: hidden; text-overflow: ellipsis; \">chr2:15468518</td><td style=\"white-space: nowrap; max-width: 500px; overflow: hidden; text-overflow: ellipsis; \">[&quot;G&quot;,&quot;A&quot;]</td><td style=\"white-space: nowrap; max-width: 500px; overflow: hidden; text-overflow: ellipsis; \">64576</td></tr>\n",
       "<tr><td style=\"white-space: nowrap; max-width: 500px; overflow: hidden; text-overflow: ellipsis; \">chr2:98121411</td><td style=\"white-space: nowrap; max-width: 500px; overflow: hidden; text-overflow: ellipsis; \">[&quot;G&quot;,&quot;T&quot;]</td><td style=\"white-space: nowrap; max-width: 500px; overflow: hidden; text-overflow: ellipsis; \">64580</td></tr>\n",
       "<tr><td style=\"white-space: nowrap; max-width: 500px; overflow: hidden; text-overflow: ellipsis; \">chr2:98162934</td><td style=\"white-space: nowrap; max-width: 500px; overflow: hidden; text-overflow: ellipsis; \">[&quot;G&quot;,&quot;A&quot;]</td><td style=\"white-space: nowrap; max-width: 500px; overflow: hidden; text-overflow: ellipsis; \">64586</td></tr>\n",
       "<tr><td style=\"white-space: nowrap; max-width: 500px; overflow: hidden; text-overflow: ellipsis; \">chr2:178630250</td><td style=\"white-space: nowrap; max-width: 500px; overflow: hidden; text-overflow: ellipsis; \">[&quot;G&quot;,&quot;A&quot;]</td><td style=\"white-space: nowrap; max-width: 500px; overflow: hidden; text-overflow: ellipsis; \">64520</td></tr>\n",
       "<tr><td style=\"white-space: nowrap; max-width: 500px; overflow: hidden; text-overflow: ellipsis; \">chr2:232521386</td><td style=\"white-space: nowrap; max-width: 500px; overflow: hidden; text-overflow: ellipsis; \">[&quot;C&quot;,&quot;T&quot;]</td><td style=\"white-space: nowrap; max-width: 500px; overflow: hidden; text-overflow: ellipsis; \">64576</td></tr>\n",
       "<tr><td style=\"white-space: nowrap; max-width: 500px; overflow: hidden; text-overflow: ellipsis; \">chr2:232541443</td><td style=\"white-space: nowrap; max-width: 500px; overflow: hidden; text-overflow: ellipsis; \">[&quot;G&quot;,&quot;A&quot;]</td><td style=\"white-space: nowrap; max-width: 500px; overflow: hidden; text-overflow: ellipsis; \">64564</td></tr>\n",
       "<tr><td style=\"white-space: nowrap; max-width: 500px; overflow: hidden; text-overflow: ellipsis; \">chr3:155084234</td><td style=\"white-space: nowrap; max-width: 500px; overflow: hidden; text-overflow: ellipsis; \">[&quot;C&quot;,&quot;T&quot;]</td><td style=\"white-space: nowrap; max-width: 500px; overflow: hidden; text-overflow: ellipsis; \">64570</td></tr>\n",
       "<tr><td style=\"white-space: nowrap; max-width: 500px; overflow: hidden; text-overflow: ellipsis; \">chr3:185193077</td><td style=\"white-space: nowrap; max-width: 500px; overflow: hidden; text-overflow: ellipsis; \">[&quot;T&quot;,&quot;A&quot;]</td><td style=\"white-space: nowrap; max-width: 500px; overflow: hidden; text-overflow: ellipsis; \">64578</td></tr>\n",
       "<tr><td style=\"white-space: nowrap; max-width: 500px; overflow: hidden; text-overflow: ellipsis; \">chr4:119158118</td><td style=\"white-space: nowrap; max-width: 500px; overflow: hidden; text-overflow: ellipsis; \">[&quot;C&quot;,&quot;T&quot;]</td><td style=\"white-space: nowrap; max-width: 500px; overflow: hidden; text-overflow: ellipsis; \">64552</td></tr>\n",
       "<tr><td style=\"white-space: nowrap; max-width: 500px; overflow: hidden; text-overflow: ellipsis; \">chr5:140842331</td><td style=\"white-space: nowrap; max-width: 500px; overflow: hidden; text-overflow: ellipsis; \">[&quot;T&quot;,&quot;A&quot;]</td><td style=\"white-space: nowrap; max-width: 500px; overflow: hidden; text-overflow: ellipsis; \">64434</td></tr>\n",
       "</tbody></table><p style=\"background: #fdd; padding: 0.4em;\">showing top 10 rows</p>\n"
      ],
      "text/plain": [
       "+----------------+------------+--------+\n",
       "| locus          | alleles    | <expr> |\n",
       "+----------------+------------+--------+\n",
       "| locus<GRCh38>  | array<str> |  int32 |\n",
       "+----------------+------------+--------+\n",
       "| chr2:15468518  | [\"G\",\"A\"]  |  64576 |\n",
       "| chr2:98121411  | [\"G\",\"T\"]  |  64580 |\n",
       "| chr2:98162934  | [\"G\",\"A\"]  |  64586 |\n",
       "| chr2:178630250 | [\"G\",\"A\"]  |  64520 |\n",
       "| chr2:232521386 | [\"C\",\"T\"]  |  64576 |\n",
       "| chr2:232541443 | [\"G\",\"A\"]  |  64564 |\n",
       "| chr3:155084234 | [\"C\",\"T\"]  |  64570 |\n",
       "| chr3:185193077 | [\"T\",\"A\"]  |  64578 |\n",
       "| chr4:119158118 | [\"C\",\"T\"]  |  64552 |\n",
       "| chr5:140842331 | [\"T\",\"A\"]  |  64434 |\n",
       "+----------------+------------+--------+\n",
       "showing top 10 rows"
      ]
     },
     "metadata": {},
     "output_type": "display_data"
    }
   ],
   "source": [
    "t.gnomad_v3.v3_nfe.AN.show()"
   ]
  },
  {
   "cell_type": "code",
   "execution_count": 115,
   "metadata": {},
   "outputs": [],
   "source": [
    "t = t.select(rsid = t.gnomad_v3.rsid,\n",
    "                                 gnomAD_v3_1_allele_frequency = t.gnomad_v3.v3_nfe.AF,\n",
    "                                 gnomAD_v3_1_homozygote_count = t.gnomad_v3.v3_nfe.homozygote_count,\n",
    "                                 predicted_most_severe_consequence = t.gnomad_v3.most_severe_consequence,\n",
    "                                 gene = t.within_gene,\n",
    "                                 hpo = t.hpo,\n",
    "                                 controls_non_ref = t.controls_non_ref,\n",
    "                                 sports_non_ref = t.sports_non_ref,\n",
    "                                 controls_ref = t.controls_ref,\n",
    "                                 sports_ref = t.sports_ref,\n",
    "                                 speed_non_ref = t.speed_non_ref,\n",
    "                                 speed_ref = t.speed_ref,\n",
    "                                 endurance_non_ref = t.endurance_non_ref,\n",
    "                                 endurance_ref = t.endurance_ref,\n",
    "                                 variant_qc = t.variant_qc)"
   ]
  },
  {
   "cell_type": "code",
   "execution_count": 116,
   "metadata": {},
   "outputs": [],
   "source": [
    "to_export = t.to_pandas()"
   ]
  },
  {
   "cell_type": "code",
   "execution_count": 121,
   "metadata": {
    "scrolled": true
   },
   "outputs": [
    {
     "data": {
      "text/html": [
       "<div>\n",
       "<style scoped>\n",
       "    .dataframe tbody tr th:only-of-type {\n",
       "        vertical-align: middle;\n",
       "    }\n",
       "\n",
       "    .dataframe tbody tr th {\n",
       "        vertical-align: top;\n",
       "    }\n",
       "\n",
       "    .dataframe thead th {\n",
       "        text-align: right;\n",
       "    }\n",
       "</style>\n",
       "<table border=\"1\" class=\"dataframe\">\n",
       "  <thead>\n",
       "    <tr style=\"text-align: right;\">\n",
       "      <th></th>\n",
       "      <th>locus.contig</th>\n",
       "      <th>locus.position</th>\n",
       "      <th>alleles</th>\n",
       "      <th>rsid</th>\n",
       "      <th>gnomAD_v3_1_allele_frequency</th>\n",
       "      <th>gnomAD_v3_1_homozygote_count</th>\n",
       "      <th>predicted_most_severe_consequence</th>\n",
       "      <th>gene</th>\n",
       "      <th>hpo</th>\n",
       "      <th>controls_non_ref</th>\n",
       "      <th>...</th>\n",
       "      <th>variant_qc.AN</th>\n",
       "      <th>variant_qc.homozygote_count</th>\n",
       "      <th>variant_qc.call_rate</th>\n",
       "      <th>variant_qc.n_called</th>\n",
       "      <th>variant_qc.n_not_called</th>\n",
       "      <th>variant_qc.n_filtered</th>\n",
       "      <th>variant_qc.n_het</th>\n",
       "      <th>variant_qc.n_non_ref</th>\n",
       "      <th>variant_qc.het_freq_hwe</th>\n",
       "      <th>variant_qc.p_value_hwe</th>\n",
       "    </tr>\n",
       "  </thead>\n",
       "  <tbody>\n",
       "    <tr>\n",
       "      <th>0</th>\n",
       "      <td>chr2</td>\n",
       "      <td>15468518</td>\n",
       "      <td>[G, A]</td>\n",
       "      <td>rs767280377</td>\n",
       "      <td>0.000015</td>\n",
       "      <td>0</td>\n",
       "      <td>stop_gained</td>\n",
       "      <td>[NBAS]</td>\n",
       "      <td>[[HP:0000486:Strabismus, HP:0007663:Reduced vi...</td>\n",
       "      <td>0</td>\n",
       "      <td>...</td>\n",
       "      <td>242</td>\n",
       "      <td>[120, 0]</td>\n",
       "      <td>0.945312</td>\n",
       "      <td>121</td>\n",
       "      <td>7</td>\n",
       "      <td>0</td>\n",
       "      <td>1</td>\n",
       "      <td>1</td>\n",
       "      <td>0.008264</td>\n",
       "      <td>0.5</td>\n",
       "    </tr>\n",
       "    <tr>\n",
       "      <th>1</th>\n",
       "      <td>chr2</td>\n",
       "      <td>98121411</td>\n",
       "      <td>[G, T]</td>\n",
       "      <td>rs139296152</td>\n",
       "      <td>0.000015</td>\n",
       "      <td>0</td>\n",
       "      <td>stop_gained</td>\n",
       "      <td>[VWA3B]</td>\n",
       "      <td>[[HP:0002061:Lower limb spasticity, HP:0000007...</td>\n",
       "      <td>1</td>\n",
       "      <td>...</td>\n",
       "      <td>242</td>\n",
       "      <td>[120, 0]</td>\n",
       "      <td>0.945312</td>\n",
       "      <td>121</td>\n",
       "      <td>7</td>\n",
       "      <td>0</td>\n",
       "      <td>1</td>\n",
       "      <td>1</td>\n",
       "      <td>0.008264</td>\n",
       "      <td>0.5</td>\n",
       "    </tr>\n",
       "    <tr>\n",
       "      <th>2</th>\n",
       "      <td>chr2</td>\n",
       "      <td>98162934</td>\n",
       "      <td>[G, A]</td>\n",
       "      <td>rs149236888</td>\n",
       "      <td>0.000015</td>\n",
       "      <td>0</td>\n",
       "      <td>stop_gained</td>\n",
       "      <td>[VWA3B]</td>\n",
       "      <td>[[HP:0002061:Lower limb spasticity, HP:0000007...</td>\n",
       "      <td>1</td>\n",
       "      <td>...</td>\n",
       "      <td>242</td>\n",
       "      <td>[120, 0]</td>\n",
       "      <td>0.945312</td>\n",
       "      <td>121</td>\n",
       "      <td>7</td>\n",
       "      <td>0</td>\n",
       "      <td>1</td>\n",
       "      <td>1</td>\n",
       "      <td>0.008264</td>\n",
       "      <td>0.5</td>\n",
       "    </tr>\n",
       "    <tr>\n",
       "      <th>3</th>\n",
       "      <td>chr2</td>\n",
       "      <td>178630250</td>\n",
       "      <td>[G, A]</td>\n",
       "      <td>rs140743001</td>\n",
       "      <td>0.000015</td>\n",
       "      <td>0</td>\n",
       "      <td>stop_gained</td>\n",
       "      <td>[TTN, TTN-AS1]</td>\n",
       "      <td>[[HP:0003687:Centrally nucleated skeletal musc...</td>\n",
       "      <td>0</td>\n",
       "      <td>...</td>\n",
       "      <td>242</td>\n",
       "      <td>[121, 0]</td>\n",
       "      <td>0.945312</td>\n",
       "      <td>121</td>\n",
       "      <td>7</td>\n",
       "      <td>0</td>\n",
       "      <td>0</td>\n",
       "      <td>0</td>\n",
       "      <td>0.000000</td>\n",
       "      <td>0.5</td>\n",
       "    </tr>\n",
       "    <tr>\n",
       "      <th>4</th>\n",
       "      <td>chr2</td>\n",
       "      <td>232521386</td>\n",
       "      <td>[C, T]</td>\n",
       "      <td>None</td>\n",
       "      <td>0.000000</td>\n",
       "      <td>0</td>\n",
       "      <td>stop_gained</td>\n",
       "      <td>[PRSS56]</td>\n",
       "      <td>[[HP:0008052:Retinal fold, HP:0007906:Ocular h...</td>\n",
       "      <td>0</td>\n",
       "      <td>...</td>\n",
       "      <td>242</td>\n",
       "      <td>[120, 0]</td>\n",
       "      <td>0.945312</td>\n",
       "      <td>121</td>\n",
       "      <td>7</td>\n",
       "      <td>0</td>\n",
       "      <td>1</td>\n",
       "      <td>1</td>\n",
       "      <td>0.008264</td>\n",
       "      <td>0.5</td>\n",
       "    </tr>\n",
       "    <tr>\n",
       "      <th>5</th>\n",
       "      <td>chr2</td>\n",
       "      <td>232541443</td>\n",
       "      <td>[G, A]</td>\n",
       "      <td>None</td>\n",
       "      <td>0.000015</td>\n",
       "      <td>0</td>\n",
       "      <td>stop_gained</td>\n",
       "      <td>[CHRNG]</td>\n",
       "      <td>[[HP:0000046:Scrotal hypoplasia, HP:0000369:Lo...</td>\n",
       "      <td>0</td>\n",
       "      <td>...</td>\n",
       "      <td>242</td>\n",
       "      <td>[121, 0]</td>\n",
       "      <td>0.945312</td>\n",
       "      <td>121</td>\n",
       "      <td>7</td>\n",
       "      <td>0</td>\n",
       "      <td>0</td>\n",
       "      <td>0</td>\n",
       "      <td>0.000000</td>\n",
       "      <td>0.5</td>\n",
       "    </tr>\n",
       "    <tr>\n",
       "      <th>6</th>\n",
       "      <td>chr3</td>\n",
       "      <td>155084234</td>\n",
       "      <td>[C, T]</td>\n",
       "      <td>rs150836510</td>\n",
       "      <td>0.000000</td>\n",
       "      <td>0</td>\n",
       "      <td>stop_gained</td>\n",
       "      <td>[MME]</td>\n",
       "      <td>[[HP:0007141:Sensorimotor neuropathy, HP:00090...</td>\n",
       "      <td>0</td>\n",
       "      <td>...</td>\n",
       "      <td>242</td>\n",
       "      <td>[121, 0]</td>\n",
       "      <td>0.945312</td>\n",
       "      <td>121</td>\n",
       "      <td>7</td>\n",
       "      <td>0</td>\n",
       "      <td>0</td>\n",
       "      <td>0</td>\n",
       "      <td>0.000000</td>\n",
       "      <td>0.5</td>\n",
       "    </tr>\n",
       "    <tr>\n",
       "      <th>7</th>\n",
       "      <td>chr3</td>\n",
       "      <td>185193077</td>\n",
       "      <td>[T, A]</td>\n",
       "      <td>None</td>\n",
       "      <td>0.000000</td>\n",
       "      <td>0</td>\n",
       "      <td>stop_gained</td>\n",
       "      <td>[EHHADH]</td>\n",
       "      <td>[[HP:0002979:Bowing of the legs, HP:0003109:Hy...</td>\n",
       "      <td>0</td>\n",
       "      <td>...</td>\n",
       "      <td>242</td>\n",
       "      <td>[121, 0]</td>\n",
       "      <td>0.945312</td>\n",
       "      <td>121</td>\n",
       "      <td>7</td>\n",
       "      <td>0</td>\n",
       "      <td>0</td>\n",
       "      <td>0</td>\n",
       "      <td>0.000000</td>\n",
       "      <td>0.5</td>\n",
       "    </tr>\n",
       "    <tr>\n",
       "      <th>8</th>\n",
       "      <td>chr4</td>\n",
       "      <td>119158118</td>\n",
       "      <td>[C, T]</td>\n",
       "      <td>rs374655743</td>\n",
       "      <td>0.000015</td>\n",
       "      <td>0</td>\n",
       "      <td>stop_gained</td>\n",
       "      <td>[MYOZ2]</td>\n",
       "      <td>[[HP:0000006:Autosomal dominant inheritance, H...</td>\n",
       "      <td>0</td>\n",
       "      <td>...</td>\n",
       "      <td>242</td>\n",
       "      <td>[121, 0]</td>\n",
       "      <td>0.945312</td>\n",
       "      <td>121</td>\n",
       "      <td>7</td>\n",
       "      <td>0</td>\n",
       "      <td>0</td>\n",
       "      <td>0</td>\n",
       "      <td>0.000000</td>\n",
       "      <td>0.5</td>\n",
       "    </tr>\n",
       "    <tr>\n",
       "      <th>9</th>\n",
       "      <td>chr5</td>\n",
       "      <td>140842331</td>\n",
       "      <td>[T, A]</td>\n",
       "      <td>rs782294997</td>\n",
       "      <td>0.000000</td>\n",
       "      <td>0</td>\n",
       "      <td>stop_gained</td>\n",
       "      <td>[PCDHA1, PCDHA2, PCDHA3, PCDHA4, PCDHA5, PCDHA...</td>\n",
       "      <td>[None]</td>\n",
       "      <td>0</td>\n",
       "      <td>...</td>\n",
       "      <td>242</td>\n",
       "      <td>[121, 0]</td>\n",
       "      <td>0.945312</td>\n",
       "      <td>121</td>\n",
       "      <td>7</td>\n",
       "      <td>0</td>\n",
       "      <td>0</td>\n",
       "      <td>0</td>\n",
       "      <td>0.000000</td>\n",
       "      <td>0.5</td>\n",
       "    </tr>\n",
       "    <tr>\n",
       "      <th>10</th>\n",
       "      <td>chr6</td>\n",
       "      <td>43044795</td>\n",
       "      <td>[C, T]</td>\n",
       "      <td>rs374105452</td>\n",
       "      <td>0.000015</td>\n",
       "      <td>0</td>\n",
       "      <td>stop_gained</td>\n",
       "      <td>[CUL7, KLC4]</td>\n",
       "      <td>[[HP:0000144:Decreased fertility, HP:0003691:S...</td>\n",
       "      <td>0</td>\n",
       "      <td>...</td>\n",
       "      <td>242</td>\n",
       "      <td>[120, 0]</td>\n",
       "      <td>0.945312</td>\n",
       "      <td>121</td>\n",
       "      <td>7</td>\n",
       "      <td>0</td>\n",
       "      <td>1</td>\n",
       "      <td>1</td>\n",
       "      <td>0.008264</td>\n",
       "      <td>0.5</td>\n",
       "    </tr>\n",
       "    <tr>\n",
       "      <th>11</th>\n",
       "      <td>chr6</td>\n",
       "      <td>96891115</td>\n",
       "      <td>[G, A]</td>\n",
       "      <td>None</td>\n",
       "      <td>0.000000</td>\n",
       "      <td>0</td>\n",
       "      <td>stop_gained</td>\n",
       "      <td>[NDUFAF4]</td>\n",
       "      <td>[[HP:0000407:Sensorineural hearing impairment,...</td>\n",
       "      <td>0</td>\n",
       "      <td>...</td>\n",
       "      <td>242</td>\n",
       "      <td>[120, 0]</td>\n",
       "      <td>0.945312</td>\n",
       "      <td>121</td>\n",
       "      <td>7</td>\n",
       "      <td>0</td>\n",
       "      <td>1</td>\n",
       "      <td>1</td>\n",
       "      <td>0.008264</td>\n",
       "      <td>0.5</td>\n",
       "    </tr>\n",
       "    <tr>\n",
       "      <th>12</th>\n",
       "      <td>chr6</td>\n",
       "      <td>125966974</td>\n",
       "      <td>[A, T]</td>\n",
       "      <td>rs201833844</td>\n",
       "      <td>0.000015</td>\n",
       "      <td>0</td>\n",
       "      <td>stop_gained</td>\n",
       "      <td>[HINT3]</td>\n",
       "      <td>[None]</td>\n",
       "      <td>0</td>\n",
       "      <td>...</td>\n",
       "      <td>242</td>\n",
       "      <td>[120, 0]</td>\n",
       "      <td>0.945312</td>\n",
       "      <td>121</td>\n",
       "      <td>7</td>\n",
       "      <td>0</td>\n",
       "      <td>1</td>\n",
       "      <td>1</td>\n",
       "      <td>0.008264</td>\n",
       "      <td>0.5</td>\n",
       "    </tr>\n",
       "    <tr>\n",
       "      <th>13</th>\n",
       "      <td>chr8</td>\n",
       "      <td>17538870</td>\n",
       "      <td>[C, T]</td>\n",
       "      <td>None</td>\n",
       "      <td>0.000000</td>\n",
       "      <td>0</td>\n",
       "      <td>stop_gained</td>\n",
       "      <td>[SLC7A2]</td>\n",
       "      <td>[None]</td>\n",
       "      <td>0</td>\n",
       "      <td>...</td>\n",
       "      <td>242</td>\n",
       "      <td>[120, 0]</td>\n",
       "      <td>0.945312</td>\n",
       "      <td>121</td>\n",
       "      <td>7</td>\n",
       "      <td>0</td>\n",
       "      <td>1</td>\n",
       "      <td>1</td>\n",
       "      <td>0.008264</td>\n",
       "      <td>0.5</td>\n",
       "    </tr>\n",
       "    <tr>\n",
       "      <th>14</th>\n",
       "      <td>chr8</td>\n",
       "      <td>38245878</td>\n",
       "      <td>[C, T]</td>\n",
       "      <td>None</td>\n",
       "      <td>0.000015</td>\n",
       "      <td>0</td>\n",
       "      <td>stop_gained</td>\n",
       "      <td>[DDHD2]</td>\n",
       "      <td>[[HP:0001249:Intellectual disability, HP:00004...</td>\n",
       "      <td>0</td>\n",
       "      <td>...</td>\n",
       "      <td>242</td>\n",
       "      <td>[121, 0]</td>\n",
       "      <td>0.945312</td>\n",
       "      <td>121</td>\n",
       "      <td>7</td>\n",
       "      <td>0</td>\n",
       "      <td>0</td>\n",
       "      <td>0</td>\n",
       "      <td>0.000000</td>\n",
       "      <td>0.5</td>\n",
       "    </tr>\n",
       "    <tr>\n",
       "      <th>15</th>\n",
       "      <td>chr8</td>\n",
       "      <td>43122731</td>\n",
       "      <td>[C, T]</td>\n",
       "      <td>rs528307346</td>\n",
       "      <td>0.000000</td>\n",
       "      <td>0</td>\n",
       "      <td>stop_gained</td>\n",
       "      <td>[POMK]</td>\n",
       "      <td>[[HP:0001265:Hyporeflexia, HP:0003551:Difficul...</td>\n",
       "      <td>0</td>\n",
       "      <td>...</td>\n",
       "      <td>242</td>\n",
       "      <td>[120, 0]</td>\n",
       "      <td>0.945312</td>\n",
       "      <td>121</td>\n",
       "      <td>7</td>\n",
       "      <td>0</td>\n",
       "      <td>1</td>\n",
       "      <td>1</td>\n",
       "      <td>0.008264</td>\n",
       "      <td>0.5</td>\n",
       "    </tr>\n",
       "    <tr>\n",
       "      <th>16</th>\n",
       "      <td>chr8</td>\n",
       "      <td>132887497</td>\n",
       "      <td>[G, T]</td>\n",
       "      <td>rs1282455611</td>\n",
       "      <td>0.000015</td>\n",
       "      <td>0</td>\n",
       "      <td>stop_gained</td>\n",
       "      <td>[TG]</td>\n",
       "      <td>[[HP:0100646:Thyroiditis, HP:0000853:Goiter, H...</td>\n",
       "      <td>0</td>\n",
       "      <td>...</td>\n",
       "      <td>242</td>\n",
       "      <td>[121, 0]</td>\n",
       "      <td>0.945312</td>\n",
       "      <td>121</td>\n",
       "      <td>7</td>\n",
       "      <td>0</td>\n",
       "      <td>0</td>\n",
       "      <td>0</td>\n",
       "      <td>0.000000</td>\n",
       "      <td>0.5</td>\n",
       "    </tr>\n",
       "    <tr>\n",
       "      <th>17</th>\n",
       "      <td>chr8</td>\n",
       "      <td>132888166</td>\n",
       "      <td>[C, T]</td>\n",
       "      <td>rs752966476</td>\n",
       "      <td>0.000000</td>\n",
       "      <td>0</td>\n",
       "      <td>stop_gained</td>\n",
       "      <td>[TG]</td>\n",
       "      <td>[[HP:0100646:Thyroiditis, HP:0000853:Goiter, H...</td>\n",
       "      <td>0</td>\n",
       "      <td>...</td>\n",
       "      <td>242</td>\n",
       "      <td>[121, 0]</td>\n",
       "      <td>0.945312</td>\n",
       "      <td>121</td>\n",
       "      <td>7</td>\n",
       "      <td>0</td>\n",
       "      <td>0</td>\n",
       "      <td>0</td>\n",
       "      <td>0.000000</td>\n",
       "      <td>0.5</td>\n",
       "    </tr>\n",
       "    <tr>\n",
       "      <th>18</th>\n",
       "      <td>chr9</td>\n",
       "      <td>132231336</td>\n",
       "      <td>[C, T]</td>\n",
       "      <td>None</td>\n",
       "      <td>0.000015</td>\n",
       "      <td>0</td>\n",
       "      <td>stop_gained</td>\n",
       "      <td>[NTNG2]</td>\n",
       "      <td>[None]</td>\n",
       "      <td>1</td>\n",
       "      <td>...</td>\n",
       "      <td>242</td>\n",
       "      <td>[120, 0]</td>\n",
       "      <td>0.945312</td>\n",
       "      <td>121</td>\n",
       "      <td>7</td>\n",
       "      <td>0</td>\n",
       "      <td>1</td>\n",
       "      <td>1</td>\n",
       "      <td>0.008264</td>\n",
       "      <td>0.5</td>\n",
       "    </tr>\n",
       "    <tr>\n",
       "      <th>19</th>\n",
       "      <td>chr10</td>\n",
       "      <td>104060258</td>\n",
       "      <td>[G, A]</td>\n",
       "      <td>None</td>\n",
       "      <td>0.000015</td>\n",
       "      <td>0</td>\n",
       "      <td>stop_gained</td>\n",
       "      <td>[COL17A1]</td>\n",
       "      <td>[[HP:0001075:Atrophic scars, HP:0008066:Abnorm...</td>\n",
       "      <td>0</td>\n",
       "      <td>...</td>\n",
       "      <td>242</td>\n",
       "      <td>[120, 0]</td>\n",
       "      <td>0.945312</td>\n",
       "      <td>121</td>\n",
       "      <td>7</td>\n",
       "      <td>0</td>\n",
       "      <td>1</td>\n",
       "      <td>1</td>\n",
       "      <td>0.008264</td>\n",
       "      <td>0.5</td>\n",
       "    </tr>\n",
       "    <tr>\n",
       "      <th>20</th>\n",
       "      <td>chr10</td>\n",
       "      <td>132899572</td>\n",
       "      <td>[G, A]</td>\n",
       "      <td>rs762499821</td>\n",
       "      <td>0.000015</td>\n",
       "      <td>0</td>\n",
       "      <td>stop_gained</td>\n",
       "      <td>[CFAP46]</td>\n",
       "      <td>[None]</td>\n",
       "      <td>1</td>\n",
       "      <td>...</td>\n",
       "      <td>240</td>\n",
       "      <td>[119, 0]</td>\n",
       "      <td>0.937500</td>\n",
       "      <td>120</td>\n",
       "      <td>8</td>\n",
       "      <td>0</td>\n",
       "      <td>1</td>\n",
       "      <td>1</td>\n",
       "      <td>0.008333</td>\n",
       "      <td>0.5</td>\n",
       "    </tr>\n",
       "    <tr>\n",
       "      <th>21</th>\n",
       "      <td>chr11</td>\n",
       "      <td>6633544</td>\n",
       "      <td>[G, A]</td>\n",
       "      <td>None</td>\n",
       "      <td>0.000000</td>\n",
       "      <td>0</td>\n",
       "      <td>stop_gained</td>\n",
       "      <td>[AC091564.5, DCHS1]</td>\n",
       "      <td>[[HP:0000508:Ptosis, HP:0002714:Downturned cor...</td>\n",
       "      <td>0</td>\n",
       "      <td>...</td>\n",
       "      <td>240</td>\n",
       "      <td>[119, 0]</td>\n",
       "      <td>0.937500</td>\n",
       "      <td>120</td>\n",
       "      <td>8</td>\n",
       "      <td>0</td>\n",
       "      <td>1</td>\n",
       "      <td>1</td>\n",
       "      <td>0.008333</td>\n",
       "      <td>0.5</td>\n",
       "    </tr>\n",
       "    <tr>\n",
       "      <th>22</th>\n",
       "      <td>chr11</td>\n",
       "      <td>44107779</td>\n",
       "      <td>[C, T]</td>\n",
       "      <td>rs754533434</td>\n",
       "      <td>0.000015</td>\n",
       "      <td>0</td>\n",
       "      <td>stop_gained</td>\n",
       "      <td>[EXT2]</td>\n",
       "      <td>[[HP:0000248:Brachycephaly, HP:0000322:Short p...</td>\n",
       "      <td>0</td>\n",
       "      <td>...</td>\n",
       "      <td>240</td>\n",
       "      <td>[119, 0]</td>\n",
       "      <td>0.937500</td>\n",
       "      <td>120</td>\n",
       "      <td>8</td>\n",
       "      <td>0</td>\n",
       "      <td>1</td>\n",
       "      <td>1</td>\n",
       "      <td>0.008333</td>\n",
       "      <td>0.5</td>\n",
       "    </tr>\n",
       "    <tr>\n",
       "      <th>23</th>\n",
       "      <td>chr12</td>\n",
       "      <td>2830785</td>\n",
       "      <td>[G, A]</td>\n",
       "      <td>None</td>\n",
       "      <td>0.000000</td>\n",
       "      <td>0</td>\n",
       "      <td>stop_gained</td>\n",
       "      <td>[ITFG2, NRIP2]</td>\n",
       "      <td>[None]</td>\n",
       "      <td>0</td>\n",
       "      <td>...</td>\n",
       "      <td>240</td>\n",
       "      <td>[120, 0]</td>\n",
       "      <td>0.937500</td>\n",
       "      <td>120</td>\n",
       "      <td>8</td>\n",
       "      <td>0</td>\n",
       "      <td>0</td>\n",
       "      <td>0</td>\n",
       "      <td>0.000000</td>\n",
       "      <td>0.5</td>\n",
       "    </tr>\n",
       "    <tr>\n",
       "      <th>24</th>\n",
       "      <td>chr15</td>\n",
       "      <td>61977179</td>\n",
       "      <td>[G, A]</td>\n",
       "      <td>None</td>\n",
       "      <td>0.000000</td>\n",
       "      <td>0</td>\n",
       "      <td>stop_gained</td>\n",
       "      <td>[VPS13C]</td>\n",
       "      <td>[[HP:0012332:Abnormal autonomic nervous system...</td>\n",
       "      <td>0</td>\n",
       "      <td>...</td>\n",
       "      <td>240</td>\n",
       "      <td>[119, 0]</td>\n",
       "      <td>0.937500</td>\n",
       "      <td>120</td>\n",
       "      <td>8</td>\n",
       "      <td>0</td>\n",
       "      <td>1</td>\n",
       "      <td>1</td>\n",
       "      <td>0.008333</td>\n",
       "      <td>0.5</td>\n",
       "    </tr>\n",
       "    <tr>\n",
       "      <th>25</th>\n",
       "      <td>chr16</td>\n",
       "      <td>1584361</td>\n",
       "      <td>[G, A]</td>\n",
       "      <td>None</td>\n",
       "      <td>0.000015</td>\n",
       "      <td>0</td>\n",
       "      <td>stop_gained</td>\n",
       "      <td>[AL133297.2, IFT140]</td>\n",
       "      <td>[[HP:0002269:Abnormality of neuronal migration...</td>\n",
       "      <td>0</td>\n",
       "      <td>...</td>\n",
       "      <td>240</td>\n",
       "      <td>[120, 0]</td>\n",
       "      <td>0.937500</td>\n",
       "      <td>120</td>\n",
       "      <td>8</td>\n",
       "      <td>0</td>\n",
       "      <td>0</td>\n",
       "      <td>0</td>\n",
       "      <td>0.000000</td>\n",
       "      <td>0.5</td>\n",
       "    </tr>\n",
       "    <tr>\n",
       "      <th>26</th>\n",
       "      <td>chr18</td>\n",
       "      <td>6966153</td>\n",
       "      <td>[G, C]</td>\n",
       "      <td>None</td>\n",
       "      <td>0.000015</td>\n",
       "      <td>0</td>\n",
       "      <td>stop_gained</td>\n",
       "      <td>[LAMA1]</td>\n",
       "      <td>[[HP:0000486:Strabismus, HP:0000646:Amblyopia,...</td>\n",
       "      <td>0</td>\n",
       "      <td>...</td>\n",
       "      <td>240</td>\n",
       "      <td>[120, 0]</td>\n",
       "      <td>0.937500</td>\n",
       "      <td>120</td>\n",
       "      <td>8</td>\n",
       "      <td>0</td>\n",
       "      <td>0</td>\n",
       "      <td>0</td>\n",
       "      <td>0.000000</td>\n",
       "      <td>0.5</td>\n",
       "    </tr>\n",
       "  </tbody>\n",
       "</table>\n",
       "<p>27 rows × 37 columns</p>\n",
       "</div>"
      ],
      "text/plain": [
       "   locus.contig  locus.position alleles          rsid  \\\n",
       "0          chr2        15468518  [G, A]   rs767280377   \n",
       "1          chr2        98121411  [G, T]   rs139296152   \n",
       "2          chr2        98162934  [G, A]   rs149236888   \n",
       "3          chr2       178630250  [G, A]   rs140743001   \n",
       "4          chr2       232521386  [C, T]          None   \n",
       "5          chr2       232541443  [G, A]          None   \n",
       "6          chr3       155084234  [C, T]   rs150836510   \n",
       "7          chr3       185193077  [T, A]          None   \n",
       "8          chr4       119158118  [C, T]   rs374655743   \n",
       "9          chr5       140842331  [T, A]   rs782294997   \n",
       "10         chr6        43044795  [C, T]   rs374105452   \n",
       "11         chr6        96891115  [G, A]          None   \n",
       "12         chr6       125966974  [A, T]   rs201833844   \n",
       "13         chr8        17538870  [C, T]          None   \n",
       "14         chr8        38245878  [C, T]          None   \n",
       "15         chr8        43122731  [C, T]   rs528307346   \n",
       "16         chr8       132887497  [G, T]  rs1282455611   \n",
       "17         chr8       132888166  [C, T]   rs752966476   \n",
       "18         chr9       132231336  [C, T]          None   \n",
       "19        chr10       104060258  [G, A]          None   \n",
       "20        chr10       132899572  [G, A]   rs762499821   \n",
       "21        chr11         6633544  [G, A]          None   \n",
       "22        chr11        44107779  [C, T]   rs754533434   \n",
       "23        chr12         2830785  [G, A]          None   \n",
       "24        chr15        61977179  [G, A]          None   \n",
       "25        chr16         1584361  [G, A]          None   \n",
       "26        chr18         6966153  [G, C]          None   \n",
       "\n",
       "    gnomAD_v3_1_allele_frequency  gnomAD_v3_1_homozygote_count  \\\n",
       "0                       0.000015                             0   \n",
       "1                       0.000015                             0   \n",
       "2                       0.000015                             0   \n",
       "3                       0.000015                             0   \n",
       "4                       0.000000                             0   \n",
       "5                       0.000015                             0   \n",
       "6                       0.000000                             0   \n",
       "7                       0.000000                             0   \n",
       "8                       0.000015                             0   \n",
       "9                       0.000000                             0   \n",
       "10                      0.000015                             0   \n",
       "11                      0.000000                             0   \n",
       "12                      0.000015                             0   \n",
       "13                      0.000000                             0   \n",
       "14                      0.000015                             0   \n",
       "15                      0.000000                             0   \n",
       "16                      0.000015                             0   \n",
       "17                      0.000000                             0   \n",
       "18                      0.000015                             0   \n",
       "19                      0.000015                             0   \n",
       "20                      0.000015                             0   \n",
       "21                      0.000000                             0   \n",
       "22                      0.000015                             0   \n",
       "23                      0.000000                             0   \n",
       "24                      0.000000                             0   \n",
       "25                      0.000015                             0   \n",
       "26                      0.000015                             0   \n",
       "\n",
       "   predicted_most_severe_consequence  \\\n",
       "0                        stop_gained   \n",
       "1                        stop_gained   \n",
       "2                        stop_gained   \n",
       "3                        stop_gained   \n",
       "4                        stop_gained   \n",
       "5                        stop_gained   \n",
       "6                        stop_gained   \n",
       "7                        stop_gained   \n",
       "8                        stop_gained   \n",
       "9                        stop_gained   \n",
       "10                       stop_gained   \n",
       "11                       stop_gained   \n",
       "12                       stop_gained   \n",
       "13                       stop_gained   \n",
       "14                       stop_gained   \n",
       "15                       stop_gained   \n",
       "16                       stop_gained   \n",
       "17                       stop_gained   \n",
       "18                       stop_gained   \n",
       "19                       stop_gained   \n",
       "20                       stop_gained   \n",
       "21                       stop_gained   \n",
       "22                       stop_gained   \n",
       "23                       stop_gained   \n",
       "24                       stop_gained   \n",
       "25                       stop_gained   \n",
       "26                       stop_gained   \n",
       "\n",
       "                                                 gene  \\\n",
       "0                                              [NBAS]   \n",
       "1                                             [VWA3B]   \n",
       "2                                             [VWA3B]   \n",
       "3                                      [TTN, TTN-AS1]   \n",
       "4                                            [PRSS56]   \n",
       "5                                             [CHRNG]   \n",
       "6                                               [MME]   \n",
       "7                                            [EHHADH]   \n",
       "8                                             [MYOZ2]   \n",
       "9   [PCDHA1, PCDHA2, PCDHA3, PCDHA4, PCDHA5, PCDHA...   \n",
       "10                                       [CUL7, KLC4]   \n",
       "11                                          [NDUFAF4]   \n",
       "12                                            [HINT3]   \n",
       "13                                           [SLC7A2]   \n",
       "14                                            [DDHD2]   \n",
       "15                                             [POMK]   \n",
       "16                                               [TG]   \n",
       "17                                               [TG]   \n",
       "18                                            [NTNG2]   \n",
       "19                                          [COL17A1]   \n",
       "20                                           [CFAP46]   \n",
       "21                                [AC091564.5, DCHS1]   \n",
       "22                                             [EXT2]   \n",
       "23                                     [ITFG2, NRIP2]   \n",
       "24                                           [VPS13C]   \n",
       "25                               [AL133297.2, IFT140]   \n",
       "26                                            [LAMA1]   \n",
       "\n",
       "                                                  hpo  controls_non_ref  ...  \\\n",
       "0   [[HP:0000486:Strabismus, HP:0007663:Reduced vi...                 0  ...   \n",
       "1   [[HP:0002061:Lower limb spasticity, HP:0000007...                 1  ...   \n",
       "2   [[HP:0002061:Lower limb spasticity, HP:0000007...                 1  ...   \n",
       "3   [[HP:0003687:Centrally nucleated skeletal musc...                 0  ...   \n",
       "4   [[HP:0008052:Retinal fold, HP:0007906:Ocular h...                 0  ...   \n",
       "5   [[HP:0000046:Scrotal hypoplasia, HP:0000369:Lo...                 0  ...   \n",
       "6   [[HP:0007141:Sensorimotor neuropathy, HP:00090...                 0  ...   \n",
       "7   [[HP:0002979:Bowing of the legs, HP:0003109:Hy...                 0  ...   \n",
       "8   [[HP:0000006:Autosomal dominant inheritance, H...                 0  ...   \n",
       "9                                              [None]                 0  ...   \n",
       "10  [[HP:0000144:Decreased fertility, HP:0003691:S...                 0  ...   \n",
       "11  [[HP:0000407:Sensorineural hearing impairment,...                 0  ...   \n",
       "12                                             [None]                 0  ...   \n",
       "13                                             [None]                 0  ...   \n",
       "14  [[HP:0001249:Intellectual disability, HP:00004...                 0  ...   \n",
       "15  [[HP:0001265:Hyporeflexia, HP:0003551:Difficul...                 0  ...   \n",
       "16  [[HP:0100646:Thyroiditis, HP:0000853:Goiter, H...                 0  ...   \n",
       "17  [[HP:0100646:Thyroiditis, HP:0000853:Goiter, H...                 0  ...   \n",
       "18                                             [None]                 1  ...   \n",
       "19  [[HP:0001075:Atrophic scars, HP:0008066:Abnorm...                 0  ...   \n",
       "20                                             [None]                 1  ...   \n",
       "21  [[HP:0000508:Ptosis, HP:0002714:Downturned cor...                 0  ...   \n",
       "22  [[HP:0000248:Brachycephaly, HP:0000322:Short p...                 0  ...   \n",
       "23                                             [None]                 0  ...   \n",
       "24  [[HP:0012332:Abnormal autonomic nervous system...                 0  ...   \n",
       "25  [[HP:0002269:Abnormality of neuronal migration...                 0  ...   \n",
       "26  [[HP:0000486:Strabismus, HP:0000646:Amblyopia,...                 0  ...   \n",
       "\n",
       "    variant_qc.AN  variant_qc.homozygote_count  variant_qc.call_rate  \\\n",
       "0             242                     [120, 0]              0.945312   \n",
       "1             242                     [120, 0]              0.945312   \n",
       "2             242                     [120, 0]              0.945312   \n",
       "3             242                     [121, 0]              0.945312   \n",
       "4             242                     [120, 0]              0.945312   \n",
       "5             242                     [121, 0]              0.945312   \n",
       "6             242                     [121, 0]              0.945312   \n",
       "7             242                     [121, 0]              0.945312   \n",
       "8             242                     [121, 0]              0.945312   \n",
       "9             242                     [121, 0]              0.945312   \n",
       "10            242                     [120, 0]              0.945312   \n",
       "11            242                     [120, 0]              0.945312   \n",
       "12            242                     [120, 0]              0.945312   \n",
       "13            242                     [120, 0]              0.945312   \n",
       "14            242                     [121, 0]              0.945312   \n",
       "15            242                     [120, 0]              0.945312   \n",
       "16            242                     [121, 0]              0.945312   \n",
       "17            242                     [121, 0]              0.945312   \n",
       "18            242                     [120, 0]              0.945312   \n",
       "19            242                     [120, 0]              0.945312   \n",
       "20            240                     [119, 0]              0.937500   \n",
       "21            240                     [119, 0]              0.937500   \n",
       "22            240                     [119, 0]              0.937500   \n",
       "23            240                     [120, 0]              0.937500   \n",
       "24            240                     [119, 0]              0.937500   \n",
       "25            240                     [120, 0]              0.937500   \n",
       "26            240                     [120, 0]              0.937500   \n",
       "\n",
       "    variant_qc.n_called  variant_qc.n_not_called  variant_qc.n_filtered  \\\n",
       "0                   121                        7                      0   \n",
       "1                   121                        7                      0   \n",
       "2                   121                        7                      0   \n",
       "3                   121                        7                      0   \n",
       "4                   121                        7                      0   \n",
       "5                   121                        7                      0   \n",
       "6                   121                        7                      0   \n",
       "7                   121                        7                      0   \n",
       "8                   121                        7                      0   \n",
       "9                   121                        7                      0   \n",
       "10                  121                        7                      0   \n",
       "11                  121                        7                      0   \n",
       "12                  121                        7                      0   \n",
       "13                  121                        7                      0   \n",
       "14                  121                        7                      0   \n",
       "15                  121                        7                      0   \n",
       "16                  121                        7                      0   \n",
       "17                  121                        7                      0   \n",
       "18                  121                        7                      0   \n",
       "19                  121                        7                      0   \n",
       "20                  120                        8                      0   \n",
       "21                  120                        8                      0   \n",
       "22                  120                        8                      0   \n",
       "23                  120                        8                      0   \n",
       "24                  120                        8                      0   \n",
       "25                  120                        8                      0   \n",
       "26                  120                        8                      0   \n",
       "\n",
       "    variant_qc.n_het  variant_qc.n_non_ref  variant_qc.het_freq_hwe  \\\n",
       "0                  1                     1                 0.008264   \n",
       "1                  1                     1                 0.008264   \n",
       "2                  1                     1                 0.008264   \n",
       "3                  0                     0                 0.000000   \n",
       "4                  1                     1                 0.008264   \n",
       "5                  0                     0                 0.000000   \n",
       "6                  0                     0                 0.000000   \n",
       "7                  0                     0                 0.000000   \n",
       "8                  0                     0                 0.000000   \n",
       "9                  0                     0                 0.000000   \n",
       "10                 1                     1                 0.008264   \n",
       "11                 1                     1                 0.008264   \n",
       "12                 1                     1                 0.008264   \n",
       "13                 1                     1                 0.008264   \n",
       "14                 0                     0                 0.000000   \n",
       "15                 1                     1                 0.008264   \n",
       "16                 0                     0                 0.000000   \n",
       "17                 0                     0                 0.000000   \n",
       "18                 1                     1                 0.008264   \n",
       "19                 1                     1                 0.008264   \n",
       "20                 1                     1                 0.008333   \n",
       "21                 1                     1                 0.008333   \n",
       "22                 1                     1                 0.008333   \n",
       "23                 0                     0                 0.000000   \n",
       "24                 1                     1                 0.008333   \n",
       "25                 0                     0                 0.000000   \n",
       "26                 0                     0                 0.000000   \n",
       "\n",
       "    variant_qc.p_value_hwe  \n",
       "0                      0.5  \n",
       "1                      0.5  \n",
       "2                      0.5  \n",
       "3                      0.5  \n",
       "4                      0.5  \n",
       "5                      0.5  \n",
       "6                      0.5  \n",
       "7                      0.5  \n",
       "8                      0.5  \n",
       "9                      0.5  \n",
       "10                     0.5  \n",
       "11                     0.5  \n",
       "12                     0.5  \n",
       "13                     0.5  \n",
       "14                     0.5  \n",
       "15                     0.5  \n",
       "16                     0.5  \n",
       "17                     0.5  \n",
       "18                     0.5  \n",
       "19                     0.5  \n",
       "20                     0.5  \n",
       "21                     0.5  \n",
       "22                     0.5  \n",
       "23                     0.5  \n",
       "24                     0.5  \n",
       "25                     0.5  \n",
       "26                     0.5  \n",
       "\n",
       "[27 rows x 37 columns]"
      ]
     },
     "execution_count": 121,
     "metadata": {},
     "output_type": "execute_result"
    }
   ],
   "source": [
    "to_export"
   ]
  },
  {
   "cell_type": "code",
   "execution_count": 117,
   "metadata": {},
   "outputs": [],
   "source": [
    "to_export.to_csv('/net/archive/groups/plggneuromol/imdik-zekanowski-sportwgs/results/rare.csv')"
   ]
  },
  {
   "cell_type": "code",
   "execution_count": 118,
   "metadata": {},
   "outputs": [],
   "source": [
    "to_export.to_csv('table2.csv')"
   ]
  },
  {
   "cell_type": "markdown",
   "metadata": {},
   "source": [
    "# variant burden:"
   ]
  },
  {
   "cell_type": "code",
   "execution_count": null,
   "metadata": {},
   "outputs": [],
   "source": [
    "#mt = hl.read_matrix_table('/net/archive/groups/plggneuromol/imdik-zekanowski-sportwgs/data/hail-mts/all-fisher-flag.mt')\n",
    "\n",
    "#mt = mt.filter_rows(mt.gnomad_v3.v3_nfe_AF < 0.05)\n",
    "#mt = mt.annotate_rows(burden = -hl.log10(mt.gnomad_v3.v3_nfe_AF))\n",
    "#mt = mt.explode(mt.within_gene)"
   ]
  },
  {
   "cell_type": "markdown",
   "metadata": {},
   "source": [
    "## overall burden for all variants MAF < 0.05"
   ]
  },
  {
   "cell_type": "code",
   "execution_count": 193,
   "metadata": {},
   "outputs": [],
   "source": [
    "mt = hl.read_matrix_table('/net/archive/groups/plggneuromol/imdik-zekanowski-sportwgs/data/hail-mts/all-fisher-flag.mt')\n",
    "mt = mt.filter_rows(mt.gnomad_v3.v3_nfe.AF < 0.05)\n",
    "mt = mt.annotate_rows(burden = hl.if_else((mt.gnomad_v3.v3_nfe.AF == 0), 10, -hl.log10(mt.gnomad_v3.v3_nfe.AF)))\n",
    "mt = mt.annotate_entries(burden_entry = hl.if_else(mt.GT.is_non_ref(), hl.if_else((mt.gnomad_v3.v3_nfe.AF == 0), 10, -hl.log10(mt.gnomad_v3.v3_nfe.AF)), 0))"
   ]
  },
  {
   "cell_type": "code",
   "execution_count": 194,
   "metadata": {},
   "outputs": [
    {
     "name": "stderr",
     "output_type": "stream",
     "text": [
      "2021-10-14 22:28:15 Hail: INFO: wrote matrix table with 1592569 rows and 126 columns in 3061 partitions to /net/archive/groups/plggneuromol/imdik-zekanowski-sportwgs/data/hail-mts/for-burden.mt\n",
      "    Total size: 1.36 GiB\n",
      "    * Rows/entries: 1.36 GiB\n",
      "    * Columns: 1.07 KiB\n",
      "    * Globals: 11.00 B\n",
      "    * Smallest partition: 0 rows (20.00 B)\n",
      "    * Largest partition:  3030 rows (3.93 MiB)\n"
     ]
    }
   ],
   "source": [
    "mt.write('/net/archive/groups/plggneuromol/imdik-zekanowski-sportwgs/data/hail-mts/for-burden.mt')"
   ]
  },
  {
   "cell_type": "code",
   "execution_count": 149,
   "metadata": {},
   "outputs": [],
   "source": [
    "mt = mt.annotate_cols(burden_all = hl.agg.sum(mt.burden_entry))"
   ]
  },
  {
   "cell_type": "code",
   "execution_count": 154,
   "metadata": {},
   "outputs": [
    {
     "name": "stderr",
     "output_type": "stream",
     "text": [
      "2021-10-14 21:44:31 Hail: WARN: cols(): Resulting column table is sorted by 'col_key'.\n",
      "    To preserve matrix table column order, first unkey columns with 'key_cols_by()'\n"
     ]
    }
   ],
   "source": [
    "columns = mt.cols()"
   ]
  },
  {
   "cell_type": "code",
   "execution_count": 155,
   "metadata": {},
   "outputs": [
    {
     "name": "stderr",
     "output_type": "stream",
     "text": [
      "2021-10-14 21:47:11 Hail: INFO: Coerced sorted dataset\n",
      "2021-10-14 21:47:11 Hail: INFO: wrote table with 126 rows in 16 partitions to /net/archive/groups/plggneuromol/imdik-zekanowski-sportwgs/data/hail-mts/all-fisher-flag-cols.mt\n",
      "    Total size: 3.98 KiB\n",
      "    * Rows: 3.97 KiB\n",
      "    * Globals: 11.00 B\n",
      "    * Smallest partition: 7 rows (215.00 B)\n",
      "    * Largest partition:  8 rows (300.00 B)\n"
     ]
    }
   ],
   "source": [
    "columns.write('/net/archive/groups/plggneuromol/imdik-zekanowski-sportwgs/data/hail-mts/all-fisher-flag-cols.mt')"
   ]
  },
  {
   "cell_type": "code",
   "execution_count": 183,
   "metadata": {},
   "outputs": [],
   "source": [
    "columns = hl.read_table('/net/archive/groups/plggneuromol/imdik-zekanowski-sportwgs/data/hail-mts/all-fisher-flag-cols.mt')"
   ]
  },
  {
   "cell_type": "code",
   "execution_count": 158,
   "metadata": {},
   "outputs": [
    {
     "data": {
      "text/plain": [
       "Struct(beta=[59194.65788302628, 1197.7330484993863], standard_error=[466.3526568842551, 520.8816295613049], t_stat=[126.93110462479451, 2.2994342294393006], p_value=[3.9742592603680084e-133, 0.0231526986582333], multiple_standard_error=2331.7632844212762, multiple_r_squared=0.04089646683657522, adjusted_r_squared=0.03316176092396694, f_stat=5.287397775513385, multiple_p_value=0.023152698658280728, n=126)"
      ]
     },
     "execution_count": 158,
     "metadata": {},
     "output_type": "execute_result"
    }
   ],
   "source": [
    "columns.aggregate(hl.agg.linreg(columns.burden_all, [1,columns.group == 'sport']))  "
   ]
  },
  {
   "cell_type": "code",
   "execution_count": 176,
   "metadata": {},
   "outputs": [
    {
     "data": {
      "text/plain": [
       "Struct(beta=[60445.715182714375, 76.37786309508783], standard_error=[239.27432450294256, 324.56748505367045], t_stat=[252.62098350201808, 0.23532197959526968], p_value=[4.121306075808481e-130, 0.8144934576352295], multiple_standard_error=1550.674852890269, multiple_r_squared=0.0006149153582807321, adjusted_r_squared=-0.010489363359960757, f_stat=0.05537643406506189, multiple_p_value=0.8144934576608334, n=92)"
      ]
     },
     "execution_count": 176,
     "metadata": {},
     "output_type": "execute_result"
    }
   ],
   "source": [
    "columns.aggregate(hl.agg.linreg(columns.burden_all, [1,columns.phenotypes.type == 'speed']))  "
   ]
  },
  {
   "cell_type": "markdown",
   "metadata": {},
   "source": [
    "## Burden per gene list:"
   ]
  },
  {
   "cell_type": "code",
   "execution_count": 7,
   "metadata": {},
   "outputs": [],
   "source": [
    "mt = hl.read_matrix_table('/net/archive/groups/plggneuromol/imdik-zekanowski-sportwgs/data/hail-mts/for-burden.mt')"
   ]
  },
  {
   "cell_type": "code",
   "execution_count": 4,
   "metadata": {},
   "outputs": [
    {
     "name": "stderr",
     "output_type": "stream",
     "text": [
      "2021-10-15 08:35:40 Hail: INFO: Reading table without type imputation\n",
      "  Loading field 'brain' as type str (not specified)\n",
      "  Loading field 'sekletal_muscle' as type str (not specified)\n",
      "  Loading field 'heart' as type str (not specified)\n",
      "  Loading field 'Hp_0011804' as type str (not specified)\n",
      "  Loading field 'Hp_0011805' as type str (not specified)\n",
      "  Loading field 'endurance_markers_2021' as type str (not specified)\n",
      "  Loading field 'power_markers_2021' as type str (not specified)\n",
      "  Loading field 'strength_markers_2021' as type str (not specified)\n",
      "  Loading field 'soft_tissue_injury_2021' as type str (not specified)\n"
     ]
    }
   ],
   "source": [
    "gene_lists = hl.import_table('/net/archive/groups/plggneuromol/imdik-zekanowski-sportwgs/data/external-data/gene-lists/sportsmen_gene_lists_october_2021.csv', quote=\"\\\"\")"
   ]
  },
  {
   "cell_type": "code",
   "execution_count": 6,
   "metadata": {},
   "outputs": [],
   "source": [
    "brain_genes = gene_lists.brain.collect()\n",
    "heart_genes = gene_lists.heart.collect()\n",
    "skeletal_muscle_genes = gene_lists.sekletal_muscle.collect()\n",
    "Hp_0011804 = gene_lists.Hp_0011804.collect()\n",
    "Hp_0011805 = gene_lists.Hp_0011805.collect()\n",
    "endurance_markers_2021 = gene_lists.endurance_markers_2021.collect()\n",
    "power_markers_2021 = gene_lists.power_markers_2021.collect()\n",
    "strength_markers_2021 = gene_lists.strength_markers_2021.collect()\n",
    "soft_tissue_injury_2021 = gene_lists.soft_tissue_injury_2021.collect()"
   ]
  },
  {
   "cell_type": "code",
   "execution_count": 8,
   "metadata": {},
   "outputs": [
    {
     "data": {
      "text/plain": [
       "(1592569, 126)"
      ]
     },
     "execution_count": 8,
     "metadata": {},
     "output_type": "execute_result"
    }
   ],
   "source": [
    "mt.count()"
   ]
  },
  {
   "cell_type": "code",
   "execution_count": 9,
   "metadata": {},
   "outputs": [],
   "source": [
    "gene_lists = [brain_genes, heart_genes, skeletal_muscle_genes, Hp_0011804, Hp_0011805, endurance_markers_2021, power_markers_2021, strength_markers_2021, soft_tissue_injury_2021]"
   ]
  },
  {
   "cell_type": "code",
   "execution_count": null,
   "metadata": {
    "scrolled": false
   },
   "outputs": [
    {
     "name": "stderr",
     "output_type": "stream",
     "text": [
      "2021-10-15 08:37:21 Hail: WARN: cols(): Resulting column table is sorted by 'col_key'.\n",
      "    To preserve matrix table column order, first unkey columns with 'key_cols_by()'\n"
     ]
    },
    {
     "name": "stdout",
     "output_type": "stream",
     "text": [
      "Struct(beta=[2981.135811703086, 117.93034553630191], standard_error=[51.02044045559926, 56.98608075485653], t_stat=[58.4302249271531, 2.0694587866748764], p_value=[4.270125449912073e-92, 0.040579994377852785], multiple_standard_error=255.10220227799633, multiple_r_squared=0.03338455626636583, adjusted_r_squared=0.0255892704298043, f_stat=4.282659669743609, multiple_p_value=0.040579994377904466, n=126)\n",
      "{'control': Struct(mean=2981.1358117030877, stdev=282.4453921758052, min=2092.542799536519, max=3499.4277771366146, n=25, sum=74528.39529257719), 'sport': Struct(mean=3099.066157239388, stdev=245.25556640758518, min=2644.4887880028073, max=4349.301705801201, n=101, sum=313005.68188117817)}\n",
      "Struct(beta=[3060.656337766805, 86.4346074480148], standard_error=[38.10359376716207, 51.686229294369674], t_stat=[80.32461075638747, 1.6722947026323385], p_value=[1.4466537772010704e-85, 0.097939390214774], multiple_standard_error=246.93951088244728, multiple_r_squared=0.03013656200156456, adjusted_r_squared=0.01936030157935975, f_stat=2.796569572452725, multiple_p_value=0.09793939021474188, n=92)\n",
      "{'endurance': Struct(mean=3060.656337766806, stdev=301.03401006775454, min=2665.6475583073966, max=4349.3017058012, n=42, sum=128547.56618620585), 'speed': Struct(mean=3147.0909452148194, stdev=183.4131415141001, min=2644.488788002807, max=3530.943730183674, n=50, sum=157354.54726074098)}\n",
      "Struct(beta=[2045.2852980814685, -4.672022868627612], standard_error=[43.779861315366645, 48.898886212576905], t_stat=[46.71749148194714, -0.09554456615467771], p_value=[1.428588747681793e-80, 0.9240365286923176], multiple_standard_error=218.89930657683328, multiple_r_squared=7.361364612634702e-05, adjusted_r_squared=-0.007990308824469494, f_stat=0.009128764121279559, multiple_p_value=0.9240365286940017, n=126)\n",
      "{'control': Struct(mean=2045.2852980814673, stdev=228.39579722895922, min=1233.4152855285638, max=2384.6276231519596, n=25, sum=51132.13245203668), 'sport': Struct(mean=2040.6132752128408, stdev=214.2816780250742, min=1525.305690694103, max=2815.855483544712, n=101, sum=206101.94079649693)}\n",
      "Struct(beta=[2049.0157989393997, -15.1564323646331], standard_error=[34.48960836086726, 46.783980978431586], t_stat=[59.409656888544504, -0.32396628178394093], p_value=[5.378325077165187e-74, 0.746715233572705], multiple_standard_error=223.51820857642045, multiple_r_squared=0.001164798902808628, adjusted_r_squared=-0.009933369998271324, f_stat=0.10495415173356004, multiple_p_value=0.74671523357195, n=92)\n",
      "{'endurance': Struct(mean=2049.0157989394, stdev=235.6632633756489, min=1657.4929092015734, max=2815.8554835447126, n=42, sum=86058.6635554548), 'speed': Struct(mean=2033.8593665747662, stdev=208.0323900389123, min=1525.305690694103, max=2558.2426240241616, n=50, sum=101692.96832873831)}\n",
      "Struct(beta=[3327.500742734774, 38.415444757006455], standard_error=[56.26601465868005, 62.845001463361484], t_stat=[59.13873166457591, 0.6112728755269834], p_value=[1.0085007742966579e-92, 0.5421379318698768], multiple_standard_error=281.3300732934003, multiple_r_squared=0.0030042900143965046, adjusted_r_squared=-0.005035997969358386, f_stat=0.37365452835352964, multiple_p_value=0.5421379318706847, n=126)\n",
      "{'control': Struct(mean=3327.5007427347778, stdev=354.3892060368019, min=1976.0961788983323, max=3762.165189791114, n=25, sum=83187.51856836944), 'sport': Struct(mean=3365.9161874917795, stdev=257.0662149046241, min=2817.6002773113046, max=4082.8343215003338, n=101, sum=339957.53493666975)}\n",
      "Struct(beta=[3364.9501847419738, 16.675281439250433], standard_error=[41.022521055689495, 55.645654907878104], t_stat=[82.02689883866321, 0.29966906610869287], p_value=[2.246991463145383e-86, 0.7651205870534488], multiple_standard_error=265.85632175690034, multiple_r_squared=0.0009968003885046928, adjusted_r_squared=-0.010103235162734148, f_stat=0.08980154918453512, multiple_p_value=0.7651205870508112, n=92)\n",
      "{'endurance': Struct(mean=3364.9501847419733, stdev=265.2858164854747, min=2856.4287274005887, max=4082.8343215003338, n=42, sum=141327.9077591629), 'speed': Struct(mean=3381.6254661812236, stdev=260.97305752274497, min=2817.600277311305, max=4035.350359379316, n=50, sum=169081.2733090612)}\n",
      "Struct(beta=[9356.585001308104, 145.9102378328406], standard_error=[107.34098718051607, 119.89199052678116], t_stat=[87.1669363872448, 1.2170140573339432], p_value=[4.078015286054417e-113, 0.22591006347244166], multiple_standard_error=536.7049359025804, multiple_r_squared=0.011803554015074713, adjusted_r_squared=0.0038342278377769823, f_stat=1.481123215749338, multiple_p_value=0.2259100634722997, n=126)\n",
      "{'control': Struct(mean=9356.5850013081, stdev=729.0020453319846, min=6695.842048059457, max=10699.307734781341, n=25, sum=233914.62503270252), 'sport': Struct(mean=9502.495239140942, stdev=471.2777216900916, min=8303.35635200123, max=10775.117007327073, n=101, sum=959752.0191532352)}\n",
      "Struct(beta=[9448.480457295518, 140.87304262711055], standard_error=[71.85089449380574, 97.46329520794178], t_stat=[131.50122241150484, 1.4453958521159413], p_value=[1.1494681558083589e-104, 0.15181982974136382], multiple_standard_error=465.64701616301613, multiple_r_squared=0.02268637222120451, adjusted_r_squared=0.011827331912551142, f_stat=2.089169169316591, multiple_p_value=0.1518198297411097, n=92)\n"
     ]
    }
   ],
   "source": [
    "for g in gene_lists:\n",
    "    to_test = mt.filter_rows(hl.any(lambda x: hl.literal(g).contains(x), mt.within_gene))\n",
    "    to_test = to_test.annotate_cols(burden_all = hl.agg.sum(to_test.burden_entry))\n",
    "    columns = to_test.cols()\n",
    "    print(columns.aggregate(hl.agg.linreg(columns.burden_all, [1,columns.group == 'sport'])))\n",
    "    print(columns.aggregate(hl.agg.group_by(columns.group, hl.agg.stats(columns.burden_all))))\n",
    "    \n",
    "    columns = columns.filter(hl.is_defined(columns.phenotypes.type))\n",
    "    print(columns.aggregate(hl.agg.linreg(columns.burden_all, [1,columns.phenotypes.type == 'speed'])))\n",
    "    print(columns.aggregate(hl.agg.group_by(columns.phenotypes.type, hl.agg.stats(columns.burden_all))))"
   ]
  },
  {
   "cell_type": "markdown",
   "metadata": {},
   "source": [
    "## Burden per gene:"
   ]
  },
  {
   "cell_type": "code",
   "execution_count": null,
   "metadata": {},
   "outputs": [],
   "source": [
    "mt = hl.read_matrix_table('/net/archive/groups/plggneuromol/imdik-zekanowski-sportwgs/data/hail-mts/for-burden.mt')"
   ]
  },
  {
   "cell_type": "code",
   "execution_count": null,
   "metadata": {},
   "outputs": [],
   "source": [
    "gene_mt = mt.group_rows_by(mt.gene).aggregate(\n",
    "    score = hl.agg.sum(mt.burden_entry)"
   ]
  },
  {
   "cell_type": "code",
   "execution_count": null,
   "metadata": {},
   "outputs": [],
   "source": [
    "gene_mt.describe()"
   ]
  },
  {
   "cell_type": "code",
   "execution_count": null,
   "metadata": {},
   "outputs": [],
   "source": [
    "gene_mt = hl.logistic_regression(y=gene_mt.group, x=gene_mt.score, covariates=[1], test='wald')\n",
    "gene_mt.logreg.show()"
   ]
  },
  {
   "cell_type": "code",
   "execution_count": null,
   "metadata": {},
   "outputs": [],
   "source": [
    "gene_mt.describe()"
   ]
  },
  {
   "cell_type": "code",
   "execution_count": null,
   "metadata": {},
   "outputs": [],
   "source": [
    "gene_mt.order_by(gene_mt.logreg.p_value).show(n_rows=10)"
   ]
  },
  {
   "cell_type": "code",
   "execution_count": null,
   "metadata": {},
   "outputs": [],
   "source": [
    "#export top 10 genes\n",
    "\n",
    "treshold = gene_mt.order_by(gene_mt.logreg.p_value).logreg.p_value.take(10)[9]\n",
    "all_genes = gene_mt.filter(gene_mt.logreg.p_value)"
   ]
  },
  {
   "cell_type": "code",
   "execution_count": null,
   "metadata": {},
   "outputs": [],
   "source": [
    "#now export top 10 results from all lists:\n",
    "\n",
    "for g in gene_lists:\n",
    "    to_test = mt.filter_rows(hl.any(lambda x: hl.literal(g).contains(x), mt.within_gene))\n",
    "    to_test = to_test.annotate_cols(burden_all = hl.agg.sum(to_test.burden_entry))\n",
    "    columns = to_test.cols()\n",
    "    print(columns.aggregate(hl.agg.linreg(columns.burden_all, [1,columns.group == 'sport'])))\n",
    "    print(columns.aggregate(hl.agg.group_by(columns.group, hl.agg.stats(columns.burden_all))))\n",
    "    \n",
    "    columns = columns.filter(hl.is_defined(columns.phenotypes.type))\n",
    "    print(columns.aggregate(hl.agg.linreg(columns.burden_all, [1,columns.phenotypes.type == 'speed'])))\n",
    "\n",
    "\n",
    "\n",
    "brain_vs_controls = t.order_by(t.fisher_brain_vs_controls.p_value).fisher_brain_vs_controls.p_value.take(5)[4]\n",
    "brain_e_vs_s = t.order_by(t.fisher_brain_e_vs_s.p_value).fisher_brain_e_vs_s.p_value.take(5)[4]\n",
    "heart_vs_controls = t.order_by(t.fisher_heart_vs_controls.p_value).fisher_heart_vs_controls.p_value.take(5)[4]\n",
    "heart_e_vs_s = t.order_by(t.fisher_heart_e_vs_s.p_value).fisher_heart_e_vs_s.p_value.take(5)[4]\n",
    "muscle_vs_controls = t.order_by(t.fisher_muscle_vs_controls.p_value).fisher_muscle_vs_controls.p_value.take(5)[4]\n",
    "muscle_e_vs_s = t.order_by(t.fisher_muscle_e_vs_s.p_value).fisher_muscle_e_vs_s.p_value.take(5)[4]\n",
    "hpo4_vs_controls = t.order_by(t.fisher_hpo4_vs_controls.p_value).fisher_hpo4_vs_controls.p_value.take(5)[4]\n",
    "hpo4_e_vs_s = t.order_by(t.fisher_hpo4_e_vs_s.p_value).fisher_hpo4_e_vs_s.p_value.take(5)[4]\n",
    "hpo5_vs_controls = t.order_by(t.fisher_hpo5_vs_controls.p_value).fisher_hpo5_vs_controls.p_value.take(5)[4]\n",
    "hpo5_e_vs_s = t.order_by(t.fisher_hpo5_e_vs_s.p_value).fisher_hpo5_e_vs_s.p_value.take(5)[4]\n",
    "end_vs_controls = t.order_by(t.fisher_end_vs_controls.p_value).fisher_end_vs_controls.p_value.take(5)[4]\n",
    "end_e_vs_s = t.order_by(t.fisher_end_e_vs_s.p_value).fisher_end_e_vs_s.p_value.take(5)[4]\n",
    "power_vs_controls = t.order_by(t.fisher_power_vs_controls.p_value).fisher_power_vs_controls.p_value.take(5)[4]\n",
    "power_e_vs_s = t.order_by(t.fisher_power_e_vs_s.p_value).fisher_power_e_vs_s.p_value.take(5)[4]\n",
    "stren_vs_controls = t.order_by(t.fisher_stren_vs_controls.p_value).fisher_stren_vs_controls.p_value.take(5)[4]\n",
    "stren_e_vs_s = t.order_by(t.fisher_stren_e_vs_s.p_value).fisher_stren_e_vs_s.p_value.take(5)[4]\n",
    "soft_vs_controls = t.order_by(t.fisher_soft_vs_controls.p_value).fisher_soft_vs_controls.p_value.take(5)[4]\n",
    "soft_e_vs_s = t.order_by(t.fisher_soft_e_vs_s.p_value).fisher_soft_e_vs_s.p_value.take(5)[4]"
   ]
  }
 ],
 "metadata": {
  "kernelspec": {
   "display_name": "Python 3",
   "language": "python",
   "name": "python3"
  },
  "language_info": {
   "codemirror_mode": {
    "name": "ipython",
    "version": 3
   },
   "file_extension": ".py",
   "mimetype": "text/x-python",
   "name": "python",
   "nbconvert_exporter": "python",
   "pygments_lexer": "ipython3",
   "version": "3.6.5"
  }
 },
 "nbformat": 4,
 "nbformat_minor": 2
}
