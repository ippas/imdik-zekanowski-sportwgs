{
 "cells": [
  {
   "cell_type": "code",
   "execution_count": 1,
   "metadata": {},
   "outputs": [
    {
     "data": {
      "text/html": [
       "<style>.container { width:100% !important; }</style>"
      ],
      "text/plain": [
       "<IPython.core.display.HTML object>"
      ]
     },
     "metadata": {},
     "output_type": "display_data"
    }
   ],
   "source": [
    "from IPython.display import display\n",
    "from IPython.display import HTML\n",
    "import IPython.core.display as di # Example: di.display_html('<h3>%s:</h3>' % str, raw=True)\n",
    "\n",
    "#This line will hide code by default when the notebook is exported as HTML\n",
    "#di.display_html('<script>jQuery(function() {if (jQuery(\"body.notebook_app\").length == 0) { jQuery(\".input_area\").toggle(); jQuery(\".prompt\").toggle();}});</script>', raw=True)\n",
    "\n",
    "display(HTML(\"<style>.container { width:100% !important; }</style>\"))"
   ]
  },
  {
   "cell_type": "code",
   "execution_count": 2,
   "metadata": {},
   "outputs": [
    {
     "name": "stderr",
     "output_type": "stream",
     "text": [
      "Running on Apache Spark version 2.4.3\n",
      "SparkUI available at http://p2050.prometheus:4040\n",
      "Welcome to\n",
      "     __  __     <>__\n",
      "    / /_/ /__  __/ /\n",
      "   / __  / _ `/ / /\n",
      "  /_/ /_/\\_,_/_/_/   version 0.2.62-84fa81b9ea3d\n",
      "LOGGING: writing to /net/archive/groups/plggneuromol/sportsmen-wgs/analysis/hail-20210423-1529-0.2.62-84fa81b9ea3d.log\n"
     ]
    }
   ],
   "source": [
    "import hail as hl\n",
    "hl.init(tmp_dir='/net/scratch/people/plggosborcz')"
   ]
  },
  {
   "cell_type": "code",
   "execution_count": 3,
   "metadata": {},
   "outputs": [
    {
     "data": {
      "text/html": [
       "\n",
       "    <div class=\"bk-root\">\n",
       "        <a href=\"https://bokeh.org\" target=\"_blank\" class=\"bk-logo bk-logo-small bk-logo-notebook\"></a>\n",
       "        <span id=\"1001\">Loading BokehJS ...</span>\n",
       "    </div>"
      ]
     },
     "metadata": {},
     "output_type": "display_data"
    },
    {
     "data": {
      "application/javascript": [
       "\n",
       "(function(root) {\n",
       "  function now() {\n",
       "    return new Date();\n",
       "  }\n",
       "\n",
       "  var force = true;\n",
       "\n",
       "  if (typeof root._bokeh_onload_callbacks === \"undefined\" || force === true) {\n",
       "    root._bokeh_onload_callbacks = [];\n",
       "    root._bokeh_is_loading = undefined;\n",
       "  }\n",
       "\n",
       "  var JS_MIME_TYPE = 'application/javascript';\n",
       "  var HTML_MIME_TYPE = 'text/html';\n",
       "  var EXEC_MIME_TYPE = 'application/vnd.bokehjs_exec.v0+json';\n",
       "  var CLASS_NAME = 'output_bokeh rendered_html';\n",
       "\n",
       "  /**\n",
       "   * Render data to the DOM node\n",
       "   */\n",
       "  function render(props, node) {\n",
       "    var script = document.createElement(\"script\");\n",
       "    node.appendChild(script);\n",
       "  }\n",
       "\n",
       "  /**\n",
       "   * Handle when an output is cleared or removed\n",
       "   */\n",
       "  function handleClearOutput(event, handle) {\n",
       "    var cell = handle.cell;\n",
       "\n",
       "    var id = cell.output_area._bokeh_element_id;\n",
       "    var server_id = cell.output_area._bokeh_server_id;\n",
       "    // Clean up Bokeh references\n",
       "    if (id != null && id in Bokeh.index) {\n",
       "      Bokeh.index[id].model.document.clear();\n",
       "      delete Bokeh.index[id];\n",
       "    }\n",
       "\n",
       "    if (server_id !== undefined) {\n",
       "      // Clean up Bokeh references\n",
       "      var cmd = \"from bokeh.io.state import curstate; print(curstate().uuid_to_server['\" + server_id + \"'].get_sessions()[0].document.roots[0]._id)\";\n",
       "      cell.notebook.kernel.execute(cmd, {\n",
       "        iopub: {\n",
       "          output: function(msg) {\n",
       "            var id = msg.content.text.trim();\n",
       "            if (id in Bokeh.index) {\n",
       "              Bokeh.index[id].model.document.clear();\n",
       "              delete Bokeh.index[id];\n",
       "            }\n",
       "          }\n",
       "        }\n",
       "      });\n",
       "      // Destroy server and session\n",
       "      var cmd = \"import bokeh.io.notebook as ion; ion.destroy_server('\" + server_id + \"')\";\n",
       "      cell.notebook.kernel.execute(cmd);\n",
       "    }\n",
       "  }\n",
       "\n",
       "  /**\n",
       "   * Handle when a new output is added\n",
       "   */\n",
       "  function handleAddOutput(event, handle) {\n",
       "    var output_area = handle.output_area;\n",
       "    var output = handle.output;\n",
       "\n",
       "    // limit handleAddOutput to display_data with EXEC_MIME_TYPE content only\n",
       "    if ((output.output_type != \"display_data\") || (!output.data.hasOwnProperty(EXEC_MIME_TYPE))) {\n",
       "      return\n",
       "    }\n",
       "\n",
       "    var toinsert = output_area.element.find(\".\" + CLASS_NAME.split(' ')[0]);\n",
       "\n",
       "    if (output.metadata[EXEC_MIME_TYPE][\"id\"] !== undefined) {\n",
       "      toinsert[toinsert.length - 1].firstChild.textContent = output.data[JS_MIME_TYPE];\n",
       "      // store reference to embed id on output_area\n",
       "      output_area._bokeh_element_id = output.metadata[EXEC_MIME_TYPE][\"id\"];\n",
       "    }\n",
       "    if (output.metadata[EXEC_MIME_TYPE][\"server_id\"] !== undefined) {\n",
       "      var bk_div = document.createElement(\"div\");\n",
       "      bk_div.innerHTML = output.data[HTML_MIME_TYPE];\n",
       "      var script_attrs = bk_div.children[0].attributes;\n",
       "      for (var i = 0; i < script_attrs.length; i++) {\n",
       "        toinsert[toinsert.length - 1].firstChild.setAttribute(script_attrs[i].name, script_attrs[i].value);\n",
       "      }\n",
       "      // store reference to server id on output_area\n",
       "      output_area._bokeh_server_id = output.metadata[EXEC_MIME_TYPE][\"server_id\"];\n",
       "    }\n",
       "  }\n",
       "\n",
       "  function register_renderer(events, OutputArea) {\n",
       "\n",
       "    function append_mime(data, metadata, element) {\n",
       "      // create a DOM node to render to\n",
       "      var toinsert = this.create_output_subarea(\n",
       "        metadata,\n",
       "        CLASS_NAME,\n",
       "        EXEC_MIME_TYPE\n",
       "      );\n",
       "      this.keyboard_manager.register_events(toinsert);\n",
       "      // Render to node\n",
       "      var props = {data: data, metadata: metadata[EXEC_MIME_TYPE]};\n",
       "      render(props, toinsert[toinsert.length - 1]);\n",
       "      element.append(toinsert);\n",
       "      return toinsert\n",
       "    }\n",
       "\n",
       "    /* Handle when an output is cleared or removed */\n",
       "    events.on('clear_output.CodeCell', handleClearOutput);\n",
       "    events.on('delete.Cell', handleClearOutput);\n",
       "\n",
       "    /* Handle when a new output is added */\n",
       "    events.on('output_added.OutputArea', handleAddOutput);\n",
       "\n",
       "    /**\n",
       "     * Register the mime type and append_mime function with output_area\n",
       "     */\n",
       "    OutputArea.prototype.register_mime_type(EXEC_MIME_TYPE, append_mime, {\n",
       "      /* Is output safe? */\n",
       "      safe: true,\n",
       "      /* Index of renderer in `output_area.display_order` */\n",
       "      index: 0\n",
       "    });\n",
       "  }\n",
       "\n",
       "  // register the mime type if in Jupyter Notebook environment and previously unregistered\n",
       "  if (root.Jupyter !== undefined) {\n",
       "    var events = require('base/js/events');\n",
       "    var OutputArea = require('notebook/js/outputarea').OutputArea;\n",
       "\n",
       "    if (OutputArea.prototype.mime_types().indexOf(EXEC_MIME_TYPE) == -1) {\n",
       "      register_renderer(events, OutputArea);\n",
       "    }\n",
       "  }\n",
       "\n",
       "  \n",
       "  if (typeof (root._bokeh_timeout) === \"undefined\" || force === true) {\n",
       "    root._bokeh_timeout = Date.now() + 5000;\n",
       "    root._bokeh_failed_load = false;\n",
       "  }\n",
       "\n",
       "  var NB_LOAD_WARNING = {'data': {'text/html':\n",
       "     \"<div style='background-color: #fdd'>\\n\"+\n",
       "     \"<p>\\n\"+\n",
       "     \"BokehJS does not appear to have successfully loaded. If loading BokehJS from CDN, this \\n\"+\n",
       "     \"may be due to a slow or bad network connection. Possible fixes:\\n\"+\n",
       "     \"</p>\\n\"+\n",
       "     \"<ul>\\n\"+\n",
       "     \"<li>re-rerun `output_notebook()` to attempt to load from CDN again, or</li>\\n\"+\n",
       "     \"<li>use INLINE resources instead, as so:</li>\\n\"+\n",
       "     \"</ul>\\n\"+\n",
       "     \"<code>\\n\"+\n",
       "     \"from bokeh.resources import INLINE\\n\"+\n",
       "     \"output_notebook(resources=INLINE)\\n\"+\n",
       "     \"</code>\\n\"+\n",
       "     \"</div>\"}};\n",
       "\n",
       "  function display_loaded() {\n",
       "    var el = document.getElementById(\"1001\");\n",
       "    if (el != null) {\n",
       "      el.textContent = \"BokehJS is loading...\";\n",
       "    }\n",
       "    if (root.Bokeh !== undefined) {\n",
       "      if (el != null) {\n",
       "        el.textContent = \"BokehJS \" + root.Bokeh.version + \" successfully loaded.\";\n",
       "      }\n",
       "    } else if (Date.now() < root._bokeh_timeout) {\n",
       "      setTimeout(display_loaded, 100)\n",
       "    }\n",
       "  }\n",
       "\n",
       "\n",
       "  function run_callbacks() {\n",
       "    try {\n",
       "      root._bokeh_onload_callbacks.forEach(function(callback) {\n",
       "        if (callback != null)\n",
       "          callback();\n",
       "      });\n",
       "    } finally {\n",
       "      delete root._bokeh_onload_callbacks\n",
       "    }\n",
       "    console.debug(\"Bokeh: all callbacks have finished\");\n",
       "  }\n",
       "\n",
       "  function load_libs(css_urls, js_urls, callback) {\n",
       "    if (css_urls == null) css_urls = [];\n",
       "    if (js_urls == null) js_urls = [];\n",
       "\n",
       "    root._bokeh_onload_callbacks.push(callback);\n",
       "    if (root._bokeh_is_loading > 0) {\n",
       "      console.debug(\"Bokeh: BokehJS is being loaded, scheduling callback at\", now());\n",
       "      return null;\n",
       "    }\n",
       "    if (js_urls == null || js_urls.length === 0) {\n",
       "      run_callbacks();\n",
       "      return null;\n",
       "    }\n",
       "    console.debug(\"Bokeh: BokehJS not loaded, scheduling load and callback at\", now());\n",
       "    root._bokeh_is_loading = css_urls.length + js_urls.length;\n",
       "\n",
       "    function on_load() {\n",
       "      root._bokeh_is_loading--;\n",
       "      if (root._bokeh_is_loading === 0) {\n",
       "        console.debug(\"Bokeh: all BokehJS libraries/stylesheets loaded\");\n",
       "        run_callbacks()\n",
       "      }\n",
       "    }\n",
       "\n",
       "    function on_error() {\n",
       "      console.error(\"failed to load \" + url);\n",
       "    }\n",
       "\n",
       "    for (var i = 0; i < css_urls.length; i++) {\n",
       "      var url = css_urls[i];\n",
       "      const element = document.createElement(\"link\");\n",
       "      element.onload = on_load;\n",
       "      element.onerror = on_error;\n",
       "      element.rel = \"stylesheet\";\n",
       "      element.type = \"text/css\";\n",
       "      element.href = url;\n",
       "      console.debug(\"Bokeh: injecting link tag for BokehJS stylesheet: \", url);\n",
       "      document.body.appendChild(element);\n",
       "    }\n",
       "\n",
       "    for (var i = 0; i < js_urls.length; i++) {\n",
       "      var url = js_urls[i];\n",
       "      var element = document.createElement('script');\n",
       "      element.onload = on_load;\n",
       "      element.onerror = on_error;\n",
       "      element.async = false;\n",
       "      element.src = url;\n",
       "      console.debug(\"Bokeh: injecting script tag for BokehJS library: \", url);\n",
       "      document.head.appendChild(element);\n",
       "    }\n",
       "  };var element = document.getElementById(\"1001\");\n",
       "  if (element == null) {\n",
       "    console.error(\"Bokeh: ERROR: autoload.js configured with elementid '1001' but no matching script tag was found. \")\n",
       "    return false;\n",
       "  }\n",
       "\n",
       "  function inject_raw_css(css) {\n",
       "    const element = document.createElement(\"style\");\n",
       "    element.appendChild(document.createTextNode(css));\n",
       "    document.body.appendChild(element);\n",
       "  }\n",
       "\n",
       "  \n",
       "  var js_urls = [\"https://cdn.pydata.org/bokeh/release/bokeh-1.4.0.min.js\", \"https://cdn.pydata.org/bokeh/release/bokeh-widgets-1.4.0.min.js\", \"https://cdn.pydata.org/bokeh/release/bokeh-tables-1.4.0.min.js\", \"https://cdn.pydata.org/bokeh/release/bokeh-gl-1.4.0.min.js\"];\n",
       "  var css_urls = [];\n",
       "  \n",
       "\n",
       "  var inline_js = [\n",
       "    function(Bokeh) {\n",
       "      Bokeh.set_log_level(\"info\");\n",
       "    },\n",
       "    function(Bokeh) {\n",
       "    \n",
       "    \n",
       "    }\n",
       "  ];\n",
       "\n",
       "  function run_inline_js() {\n",
       "    \n",
       "    if (root.Bokeh !== undefined || force === true) {\n",
       "      \n",
       "    for (var i = 0; i < inline_js.length; i++) {\n",
       "      inline_js[i].call(root, root.Bokeh);\n",
       "    }\n",
       "    if (force === true) {\n",
       "        display_loaded();\n",
       "      }} else if (Date.now() < root._bokeh_timeout) {\n",
       "      setTimeout(run_inline_js, 100);\n",
       "    } else if (!root._bokeh_failed_load) {\n",
       "      console.log(\"Bokeh: BokehJS failed to load within specified timeout.\");\n",
       "      root._bokeh_failed_load = true;\n",
       "    } else if (force !== true) {\n",
       "      var cell = $(document.getElementById(\"1001\")).parents('.cell').data().cell;\n",
       "      cell.output_area.append_execute_result(NB_LOAD_WARNING)\n",
       "    }\n",
       "\n",
       "  }\n",
       "\n",
       "  if (root._bokeh_is_loading === 0) {\n",
       "    console.debug(\"Bokeh: BokehJS loaded, going straight to plotting\");\n",
       "    run_inline_js();\n",
       "  } else {\n",
       "    load_libs(css_urls, js_urls, function() {\n",
       "      console.debug(\"Bokeh: BokehJS plotting callback run at\", now());\n",
       "      run_inline_js();\n",
       "    });\n",
       "  }\n",
       "}(window));"
      ],
      "application/vnd.bokehjs_load.v0+json": "\n(function(root) {\n  function now() {\n    return new Date();\n  }\n\n  var force = true;\n\n  if (typeof root._bokeh_onload_callbacks === \"undefined\" || force === true) {\n    root._bokeh_onload_callbacks = [];\n    root._bokeh_is_loading = undefined;\n  }\n\n  \n\n  \n  if (typeof (root._bokeh_timeout) === \"undefined\" || force === true) {\n    root._bokeh_timeout = Date.now() + 5000;\n    root._bokeh_failed_load = false;\n  }\n\n  var NB_LOAD_WARNING = {'data': {'text/html':\n     \"<div style='background-color: #fdd'>\\n\"+\n     \"<p>\\n\"+\n     \"BokehJS does not appear to have successfully loaded. If loading BokehJS from CDN, this \\n\"+\n     \"may be due to a slow or bad network connection. Possible fixes:\\n\"+\n     \"</p>\\n\"+\n     \"<ul>\\n\"+\n     \"<li>re-rerun `output_notebook()` to attempt to load from CDN again, or</li>\\n\"+\n     \"<li>use INLINE resources instead, as so:</li>\\n\"+\n     \"</ul>\\n\"+\n     \"<code>\\n\"+\n     \"from bokeh.resources import INLINE\\n\"+\n     \"output_notebook(resources=INLINE)\\n\"+\n     \"</code>\\n\"+\n     \"</div>\"}};\n\n  function display_loaded() {\n    var el = document.getElementById(\"1001\");\n    if (el != null) {\n      el.textContent = \"BokehJS is loading...\";\n    }\n    if (root.Bokeh !== undefined) {\n      if (el != null) {\n        el.textContent = \"BokehJS \" + root.Bokeh.version + \" successfully loaded.\";\n      }\n    } else if (Date.now() < root._bokeh_timeout) {\n      setTimeout(display_loaded, 100)\n    }\n  }\n\n\n  function run_callbacks() {\n    try {\n      root._bokeh_onload_callbacks.forEach(function(callback) {\n        if (callback != null)\n          callback();\n      });\n    } finally {\n      delete root._bokeh_onload_callbacks\n    }\n    console.debug(\"Bokeh: all callbacks have finished\");\n  }\n\n  function load_libs(css_urls, js_urls, callback) {\n    if (css_urls == null) css_urls = [];\n    if (js_urls == null) js_urls = [];\n\n    root._bokeh_onload_callbacks.push(callback);\n    if (root._bokeh_is_loading > 0) {\n      console.debug(\"Bokeh: BokehJS is being loaded, scheduling callback at\", now());\n      return null;\n    }\n    if (js_urls == null || js_urls.length === 0) {\n      run_callbacks();\n      return null;\n    }\n    console.debug(\"Bokeh: BokehJS not loaded, scheduling load and callback at\", now());\n    root._bokeh_is_loading = css_urls.length + js_urls.length;\n\n    function on_load() {\n      root._bokeh_is_loading--;\n      if (root._bokeh_is_loading === 0) {\n        console.debug(\"Bokeh: all BokehJS libraries/stylesheets loaded\");\n        run_callbacks()\n      }\n    }\n\n    function on_error() {\n      console.error(\"failed to load \" + url);\n    }\n\n    for (var i = 0; i < css_urls.length; i++) {\n      var url = css_urls[i];\n      const element = document.createElement(\"link\");\n      element.onload = on_load;\n      element.onerror = on_error;\n      element.rel = \"stylesheet\";\n      element.type = \"text/css\";\n      element.href = url;\n      console.debug(\"Bokeh: injecting link tag for BokehJS stylesheet: \", url);\n      document.body.appendChild(element);\n    }\n\n    for (var i = 0; i < js_urls.length; i++) {\n      var url = js_urls[i];\n      var element = document.createElement('script');\n      element.onload = on_load;\n      element.onerror = on_error;\n      element.async = false;\n      element.src = url;\n      console.debug(\"Bokeh: injecting script tag for BokehJS library: \", url);\n      document.head.appendChild(element);\n    }\n  };var element = document.getElementById(\"1001\");\n  if (element == null) {\n    console.error(\"Bokeh: ERROR: autoload.js configured with elementid '1001' but no matching script tag was found. \")\n    return false;\n  }\n\n  function inject_raw_css(css) {\n    const element = document.createElement(\"style\");\n    element.appendChild(document.createTextNode(css));\n    document.body.appendChild(element);\n  }\n\n  \n  var js_urls = [\"https://cdn.pydata.org/bokeh/release/bokeh-1.4.0.min.js\", \"https://cdn.pydata.org/bokeh/release/bokeh-widgets-1.4.0.min.js\", \"https://cdn.pydata.org/bokeh/release/bokeh-tables-1.4.0.min.js\", \"https://cdn.pydata.org/bokeh/release/bokeh-gl-1.4.0.min.js\"];\n  var css_urls = [];\n  \n\n  var inline_js = [\n    function(Bokeh) {\n      Bokeh.set_log_level(\"info\");\n    },\n    function(Bokeh) {\n    \n    \n    }\n  ];\n\n  function run_inline_js() {\n    \n    if (root.Bokeh !== undefined || force === true) {\n      \n    for (var i = 0; i < inline_js.length; i++) {\n      inline_js[i].call(root, root.Bokeh);\n    }\n    if (force === true) {\n        display_loaded();\n      }} else if (Date.now() < root._bokeh_timeout) {\n      setTimeout(run_inline_js, 100);\n    } else if (!root._bokeh_failed_load) {\n      console.log(\"Bokeh: BokehJS failed to load within specified timeout.\");\n      root._bokeh_failed_load = true;\n    } else if (force !== true) {\n      var cell = $(document.getElementById(\"1001\")).parents('.cell').data().cell;\n      cell.output_area.append_execute_result(NB_LOAD_WARNING)\n    }\n\n  }\n\n  if (root._bokeh_is_loading === 0) {\n    console.debug(\"Bokeh: BokehJS loaded, going straight to plotting\");\n    run_inline_js();\n  } else {\n    load_libs(css_urls, js_urls, function() {\n      console.debug(\"Bokeh: BokehJS plotting callback run at\", now());\n      run_inline_js();\n    });\n  }\n}(window));"
     },
     "metadata": {},
     "output_type": "display_data"
    },
    {
     "data": {
      "text/html": [
       "\n",
       "    <div class=\"bk-root\">\n",
       "        <a href=\"https://bokeh.org\" target=\"_blank\" class=\"bk-logo bk-logo-small bk-logo-notebook\"></a>\n",
       "        <span id=\"1002\">Loading BokehJS ...</span>\n",
       "    </div>"
      ]
     },
     "metadata": {},
     "output_type": "display_data"
    },
    {
     "data": {
      "application/javascript": [
       "\n",
       "(function(root) {\n",
       "  function now() {\n",
       "    return new Date();\n",
       "  }\n",
       "\n",
       "  var force = true;\n",
       "\n",
       "  if (typeof root._bokeh_onload_callbacks === \"undefined\" || force === true) {\n",
       "    root._bokeh_onload_callbacks = [];\n",
       "    root._bokeh_is_loading = undefined;\n",
       "  }\n",
       "\n",
       "  var JS_MIME_TYPE = 'application/javascript';\n",
       "  var HTML_MIME_TYPE = 'text/html';\n",
       "  var EXEC_MIME_TYPE = 'application/vnd.bokehjs_exec.v0+json';\n",
       "  var CLASS_NAME = 'output_bokeh rendered_html';\n",
       "\n",
       "  /**\n",
       "   * Render data to the DOM node\n",
       "   */\n",
       "  function render(props, node) {\n",
       "    var script = document.createElement(\"script\");\n",
       "    node.appendChild(script);\n",
       "  }\n",
       "\n",
       "  /**\n",
       "   * Handle when an output is cleared or removed\n",
       "   */\n",
       "  function handleClearOutput(event, handle) {\n",
       "    var cell = handle.cell;\n",
       "\n",
       "    var id = cell.output_area._bokeh_element_id;\n",
       "    var server_id = cell.output_area._bokeh_server_id;\n",
       "    // Clean up Bokeh references\n",
       "    if (id != null && id in Bokeh.index) {\n",
       "      Bokeh.index[id].model.document.clear();\n",
       "      delete Bokeh.index[id];\n",
       "    }\n",
       "\n",
       "    if (server_id !== undefined) {\n",
       "      // Clean up Bokeh references\n",
       "      var cmd = \"from bokeh.io.state import curstate; print(curstate().uuid_to_server['\" + server_id + \"'].get_sessions()[0].document.roots[0]._id)\";\n",
       "      cell.notebook.kernel.execute(cmd, {\n",
       "        iopub: {\n",
       "          output: function(msg) {\n",
       "            var id = msg.content.text.trim();\n",
       "            if (id in Bokeh.index) {\n",
       "              Bokeh.index[id].model.document.clear();\n",
       "              delete Bokeh.index[id];\n",
       "            }\n",
       "          }\n",
       "        }\n",
       "      });\n",
       "      // Destroy server and session\n",
       "      var cmd = \"import bokeh.io.notebook as ion; ion.destroy_server('\" + server_id + \"')\";\n",
       "      cell.notebook.kernel.execute(cmd);\n",
       "    }\n",
       "  }\n",
       "\n",
       "  /**\n",
       "   * Handle when a new output is added\n",
       "   */\n",
       "  function handleAddOutput(event, handle) {\n",
       "    var output_area = handle.output_area;\n",
       "    var output = handle.output;\n",
       "\n",
       "    // limit handleAddOutput to display_data with EXEC_MIME_TYPE content only\n",
       "    if ((output.output_type != \"display_data\") || (!output.data.hasOwnProperty(EXEC_MIME_TYPE))) {\n",
       "      return\n",
       "    }\n",
       "\n",
       "    var toinsert = output_area.element.find(\".\" + CLASS_NAME.split(' ')[0]);\n",
       "\n",
       "    if (output.metadata[EXEC_MIME_TYPE][\"id\"] !== undefined) {\n",
       "      toinsert[toinsert.length - 1].firstChild.textContent = output.data[JS_MIME_TYPE];\n",
       "      // store reference to embed id on output_area\n",
       "      output_area._bokeh_element_id = output.metadata[EXEC_MIME_TYPE][\"id\"];\n",
       "    }\n",
       "    if (output.metadata[EXEC_MIME_TYPE][\"server_id\"] !== undefined) {\n",
       "      var bk_div = document.createElement(\"div\");\n",
       "      bk_div.innerHTML = output.data[HTML_MIME_TYPE];\n",
       "      var script_attrs = bk_div.children[0].attributes;\n",
       "      for (var i = 0; i < script_attrs.length; i++) {\n",
       "        toinsert[toinsert.length - 1].firstChild.setAttribute(script_attrs[i].name, script_attrs[i].value);\n",
       "      }\n",
       "      // store reference to server id on output_area\n",
       "      output_area._bokeh_server_id = output.metadata[EXEC_MIME_TYPE][\"server_id\"];\n",
       "    }\n",
       "  }\n",
       "\n",
       "  function register_renderer(events, OutputArea) {\n",
       "\n",
       "    function append_mime(data, metadata, element) {\n",
       "      // create a DOM node to render to\n",
       "      var toinsert = this.create_output_subarea(\n",
       "        metadata,\n",
       "        CLASS_NAME,\n",
       "        EXEC_MIME_TYPE\n",
       "      );\n",
       "      this.keyboard_manager.register_events(toinsert);\n",
       "      // Render to node\n",
       "      var props = {data: data, metadata: metadata[EXEC_MIME_TYPE]};\n",
       "      render(props, toinsert[toinsert.length - 1]);\n",
       "      element.append(toinsert);\n",
       "      return toinsert\n",
       "    }\n",
       "\n",
       "    /* Handle when an output is cleared or removed */\n",
       "    events.on('clear_output.CodeCell', handleClearOutput);\n",
       "    events.on('delete.Cell', handleClearOutput);\n",
       "\n",
       "    /* Handle when a new output is added */\n",
       "    events.on('output_added.OutputArea', handleAddOutput);\n",
       "\n",
       "    /**\n",
       "     * Register the mime type and append_mime function with output_area\n",
       "     */\n",
       "    OutputArea.prototype.register_mime_type(EXEC_MIME_TYPE, append_mime, {\n",
       "      /* Is output safe? */\n",
       "      safe: true,\n",
       "      /* Index of renderer in `output_area.display_order` */\n",
       "      index: 0\n",
       "    });\n",
       "  }\n",
       "\n",
       "  // register the mime type if in Jupyter Notebook environment and previously unregistered\n",
       "  if (root.Jupyter !== undefined) {\n",
       "    var events = require('base/js/events');\n",
       "    var OutputArea = require('notebook/js/outputarea').OutputArea;\n",
       "\n",
       "    if (OutputArea.prototype.mime_types().indexOf(EXEC_MIME_TYPE) == -1) {\n",
       "      register_renderer(events, OutputArea);\n",
       "    }\n",
       "  }\n",
       "\n",
       "  \n",
       "  if (typeof (root._bokeh_timeout) === \"undefined\" || force === true) {\n",
       "    root._bokeh_timeout = Date.now() + 5000;\n",
       "    root._bokeh_failed_load = false;\n",
       "  }\n",
       "\n",
       "  var NB_LOAD_WARNING = {'data': {'text/html':\n",
       "     \"<div style='background-color: #fdd'>\\n\"+\n",
       "     \"<p>\\n\"+\n",
       "     \"BokehJS does not appear to have successfully loaded. If loading BokehJS from CDN, this \\n\"+\n",
       "     \"may be due to a slow or bad network connection. Possible fixes:\\n\"+\n",
       "     \"</p>\\n\"+\n",
       "     \"<ul>\\n\"+\n",
       "     \"<li>re-rerun `output_notebook()` to attempt to load from CDN again, or</li>\\n\"+\n",
       "     \"<li>use INLINE resources instead, as so:</li>\\n\"+\n",
       "     \"</ul>\\n\"+\n",
       "     \"<code>\\n\"+\n",
       "     \"from bokeh.resources import INLINE\\n\"+\n",
       "     \"output_notebook(resources=INLINE)\\n\"+\n",
       "     \"</code>\\n\"+\n",
       "     \"</div>\"}};\n",
       "\n",
       "  function display_loaded() {\n",
       "    var el = document.getElementById(\"1002\");\n",
       "    if (el != null) {\n",
       "      el.textContent = \"BokehJS is loading...\";\n",
       "    }\n",
       "    if (root.Bokeh !== undefined) {\n",
       "      if (el != null) {\n",
       "        el.textContent = \"BokehJS \" + root.Bokeh.version + \" successfully loaded.\";\n",
       "      }\n",
       "    } else if (Date.now() < root._bokeh_timeout) {\n",
       "      setTimeout(display_loaded, 100)\n",
       "    }\n",
       "  }\n",
       "\n",
       "\n",
       "  function run_callbacks() {\n",
       "    try {\n",
       "      root._bokeh_onload_callbacks.forEach(function(callback) {\n",
       "        if (callback != null)\n",
       "          callback();\n",
       "      });\n",
       "    } finally {\n",
       "      delete root._bokeh_onload_callbacks\n",
       "    }\n",
       "    console.debug(\"Bokeh: all callbacks have finished\");\n",
       "  }\n",
       "\n",
       "  function load_libs(css_urls, js_urls, callback) {\n",
       "    if (css_urls == null) css_urls = [];\n",
       "    if (js_urls == null) js_urls = [];\n",
       "\n",
       "    root._bokeh_onload_callbacks.push(callback);\n",
       "    if (root._bokeh_is_loading > 0) {\n",
       "      console.debug(\"Bokeh: BokehJS is being loaded, scheduling callback at\", now());\n",
       "      return null;\n",
       "    }\n",
       "    if (js_urls == null || js_urls.length === 0) {\n",
       "      run_callbacks();\n",
       "      return null;\n",
       "    }\n",
       "    console.debug(\"Bokeh: BokehJS not loaded, scheduling load and callback at\", now());\n",
       "    root._bokeh_is_loading = css_urls.length + js_urls.length;\n",
       "\n",
       "    function on_load() {\n",
       "      root._bokeh_is_loading--;\n",
       "      if (root._bokeh_is_loading === 0) {\n",
       "        console.debug(\"Bokeh: all BokehJS libraries/stylesheets loaded\");\n",
       "        run_callbacks()\n",
       "      }\n",
       "    }\n",
       "\n",
       "    function on_error() {\n",
       "      console.error(\"failed to load \" + url);\n",
       "    }\n",
       "\n",
       "    for (var i = 0; i < css_urls.length; i++) {\n",
       "      var url = css_urls[i];\n",
       "      const element = document.createElement(\"link\");\n",
       "      element.onload = on_load;\n",
       "      element.onerror = on_error;\n",
       "      element.rel = \"stylesheet\";\n",
       "      element.type = \"text/css\";\n",
       "      element.href = url;\n",
       "      console.debug(\"Bokeh: injecting link tag for BokehJS stylesheet: \", url);\n",
       "      document.body.appendChild(element);\n",
       "    }\n",
       "\n",
       "    for (var i = 0; i < js_urls.length; i++) {\n",
       "      var url = js_urls[i];\n",
       "      var element = document.createElement('script');\n",
       "      element.onload = on_load;\n",
       "      element.onerror = on_error;\n",
       "      element.async = false;\n",
       "      element.src = url;\n",
       "      console.debug(\"Bokeh: injecting script tag for BokehJS library: \", url);\n",
       "      document.head.appendChild(element);\n",
       "    }\n",
       "  };var element = document.getElementById(\"1002\");\n",
       "  if (element == null) {\n",
       "    console.error(\"Bokeh: ERROR: autoload.js configured with elementid '1002' but no matching script tag was found. \")\n",
       "    return false;\n",
       "  }\n",
       "\n",
       "  function inject_raw_css(css) {\n",
       "    const element = document.createElement(\"style\");\n",
       "    element.appendChild(document.createTextNode(css));\n",
       "    document.body.appendChild(element);\n",
       "  }\n",
       "\n",
       "  \n",
       "  var js_urls = [\"https://cdn.pydata.org/bokeh/release/bokeh-1.4.0.min.js\", \"https://cdn.pydata.org/bokeh/release/bokeh-widgets-1.4.0.min.js\", \"https://cdn.pydata.org/bokeh/release/bokeh-tables-1.4.0.min.js\", \"https://cdn.pydata.org/bokeh/release/bokeh-gl-1.4.0.min.js\"];\n",
       "  var css_urls = [];\n",
       "  \n",
       "\n",
       "  var inline_js = [\n",
       "    function(Bokeh) {\n",
       "      Bokeh.set_log_level(\"info\");\n",
       "    },\n",
       "    function(Bokeh) {\n",
       "    \n",
       "    \n",
       "    }\n",
       "  ];\n",
       "\n",
       "  function run_inline_js() {\n",
       "    \n",
       "    if (root.Bokeh !== undefined || force === true) {\n",
       "      \n",
       "    for (var i = 0; i < inline_js.length; i++) {\n",
       "      inline_js[i].call(root, root.Bokeh);\n",
       "    }\n",
       "    if (force === true) {\n",
       "        display_loaded();\n",
       "      }} else if (Date.now() < root._bokeh_timeout) {\n",
       "      setTimeout(run_inline_js, 100);\n",
       "    } else if (!root._bokeh_failed_load) {\n",
       "      console.log(\"Bokeh: BokehJS failed to load within specified timeout.\");\n",
       "      root._bokeh_failed_load = true;\n",
       "    } else if (force !== true) {\n",
       "      var cell = $(document.getElementById(\"1002\")).parents('.cell').data().cell;\n",
       "      cell.output_area.append_execute_result(NB_LOAD_WARNING)\n",
       "    }\n",
       "\n",
       "  }\n",
       "\n",
       "  if (root._bokeh_is_loading === 0) {\n",
       "    console.debug(\"Bokeh: BokehJS loaded, going straight to plotting\");\n",
       "    run_inline_js();\n",
       "  } else {\n",
       "    load_libs(css_urls, js_urls, function() {\n",
       "      console.debug(\"Bokeh: BokehJS plotting callback run at\", now());\n",
       "      run_inline_js();\n",
       "    });\n",
       "  }\n",
       "}(window));"
      ],
      "application/vnd.bokehjs_load.v0+json": "\n(function(root) {\n  function now() {\n    return new Date();\n  }\n\n  var force = true;\n\n  if (typeof root._bokeh_onload_callbacks === \"undefined\" || force === true) {\n    root._bokeh_onload_callbacks = [];\n    root._bokeh_is_loading = undefined;\n  }\n\n  \n\n  \n  if (typeof (root._bokeh_timeout) === \"undefined\" || force === true) {\n    root._bokeh_timeout = Date.now() + 5000;\n    root._bokeh_failed_load = false;\n  }\n\n  var NB_LOAD_WARNING = {'data': {'text/html':\n     \"<div style='background-color: #fdd'>\\n\"+\n     \"<p>\\n\"+\n     \"BokehJS does not appear to have successfully loaded. If loading BokehJS from CDN, this \\n\"+\n     \"may be due to a slow or bad network connection. Possible fixes:\\n\"+\n     \"</p>\\n\"+\n     \"<ul>\\n\"+\n     \"<li>re-rerun `output_notebook()` to attempt to load from CDN again, or</li>\\n\"+\n     \"<li>use INLINE resources instead, as so:</li>\\n\"+\n     \"</ul>\\n\"+\n     \"<code>\\n\"+\n     \"from bokeh.resources import INLINE\\n\"+\n     \"output_notebook(resources=INLINE)\\n\"+\n     \"</code>\\n\"+\n     \"</div>\"}};\n\n  function display_loaded() {\n    var el = document.getElementById(\"1002\");\n    if (el != null) {\n      el.textContent = \"BokehJS is loading...\";\n    }\n    if (root.Bokeh !== undefined) {\n      if (el != null) {\n        el.textContent = \"BokehJS \" + root.Bokeh.version + \" successfully loaded.\";\n      }\n    } else if (Date.now() < root._bokeh_timeout) {\n      setTimeout(display_loaded, 100)\n    }\n  }\n\n\n  function run_callbacks() {\n    try {\n      root._bokeh_onload_callbacks.forEach(function(callback) {\n        if (callback != null)\n          callback();\n      });\n    } finally {\n      delete root._bokeh_onload_callbacks\n    }\n    console.debug(\"Bokeh: all callbacks have finished\");\n  }\n\n  function load_libs(css_urls, js_urls, callback) {\n    if (css_urls == null) css_urls = [];\n    if (js_urls == null) js_urls = [];\n\n    root._bokeh_onload_callbacks.push(callback);\n    if (root._bokeh_is_loading > 0) {\n      console.debug(\"Bokeh: BokehJS is being loaded, scheduling callback at\", now());\n      return null;\n    }\n    if (js_urls == null || js_urls.length === 0) {\n      run_callbacks();\n      return null;\n    }\n    console.debug(\"Bokeh: BokehJS not loaded, scheduling load and callback at\", now());\n    root._bokeh_is_loading = css_urls.length + js_urls.length;\n\n    function on_load() {\n      root._bokeh_is_loading--;\n      if (root._bokeh_is_loading === 0) {\n        console.debug(\"Bokeh: all BokehJS libraries/stylesheets loaded\");\n        run_callbacks()\n      }\n    }\n\n    function on_error() {\n      console.error(\"failed to load \" + url);\n    }\n\n    for (var i = 0; i < css_urls.length; i++) {\n      var url = css_urls[i];\n      const element = document.createElement(\"link\");\n      element.onload = on_load;\n      element.onerror = on_error;\n      element.rel = \"stylesheet\";\n      element.type = \"text/css\";\n      element.href = url;\n      console.debug(\"Bokeh: injecting link tag for BokehJS stylesheet: \", url);\n      document.body.appendChild(element);\n    }\n\n    for (var i = 0; i < js_urls.length; i++) {\n      var url = js_urls[i];\n      var element = document.createElement('script');\n      element.onload = on_load;\n      element.onerror = on_error;\n      element.async = false;\n      element.src = url;\n      console.debug(\"Bokeh: injecting script tag for BokehJS library: \", url);\n      document.head.appendChild(element);\n    }\n  };var element = document.getElementById(\"1002\");\n  if (element == null) {\n    console.error(\"Bokeh: ERROR: autoload.js configured with elementid '1002' but no matching script tag was found. \")\n    return false;\n  }\n\n  function inject_raw_css(css) {\n    const element = document.createElement(\"style\");\n    element.appendChild(document.createTextNode(css));\n    document.body.appendChild(element);\n  }\n\n  \n  var js_urls = [\"https://cdn.pydata.org/bokeh/release/bokeh-1.4.0.min.js\", \"https://cdn.pydata.org/bokeh/release/bokeh-widgets-1.4.0.min.js\", \"https://cdn.pydata.org/bokeh/release/bokeh-tables-1.4.0.min.js\", \"https://cdn.pydata.org/bokeh/release/bokeh-gl-1.4.0.min.js\"];\n  var css_urls = [];\n  \n\n  var inline_js = [\n    function(Bokeh) {\n      Bokeh.set_log_level(\"info\");\n    },\n    function(Bokeh) {\n    \n    \n    }\n  ];\n\n  function run_inline_js() {\n    \n    if (root.Bokeh !== undefined || force === true) {\n      \n    for (var i = 0; i < inline_js.length; i++) {\n      inline_js[i].call(root, root.Bokeh);\n    }\n    if (force === true) {\n        display_loaded();\n      }} else if (Date.now() < root._bokeh_timeout) {\n      setTimeout(run_inline_js, 100);\n    } else if (!root._bokeh_failed_load) {\n      console.log(\"Bokeh: BokehJS failed to load within specified timeout.\");\n      root._bokeh_failed_load = true;\n    } else if (force !== true) {\n      var cell = $(document.getElementById(\"1002\")).parents('.cell').data().cell;\n      cell.output_area.append_execute_result(NB_LOAD_WARNING)\n    }\n\n  }\n\n  if (root._bokeh_is_loading === 0) {\n    console.debug(\"Bokeh: BokehJS loaded, going straight to plotting\");\n    run_inline_js();\n  } else {\n    load_libs(css_urls, js_urls, function() {\n      console.debug(\"Bokeh: BokehJS plotting callback run at\", now());\n      run_inline_js();\n    });\n  }\n}(window));"
     },
     "metadata": {},
     "output_type": "display_data"
    }
   ],
   "source": [
    "from hail.plot import show\n",
    "from pprint import pprint\n",
    "from bokeh.layouts import gridplot\n",
    "hl.plot.output_notebook()\n",
    "\n",
    "\n",
    "import numpy as np\n",
    "import pandas as pd\n",
    "from functools import reduce\n",
    "from itertools import chain\n",
    "\n",
    "from bokeh.plotting import output_notebook, show, figure\n",
    "from bokeh.palettes import viridis\n",
    "\n",
    "output_notebook()"
   ]
  },
  {
   "cell_type": "code",
   "execution_count": 4,
   "metadata": {},
   "outputs": [],
   "source": [
    "files = !ls /net/archive/groups/plggneuromol/sportsmen-wgs/vcf-joint-gts/*gz"
   ]
  },
  {
   "cell_type": "code",
   "execution_count": 5,
   "metadata": {},
   "outputs": [],
   "source": [
    "names = []\n",
    "\n",
    "for i in files:\n",
    "    i = i.split('/')\n",
    "    i = i[7]\n",
    "    i = i.split('.v')\n",
    "    i = i[0]\n",
    "    names.append(i)"
   ]
  },
  {
   "cell_type": "code",
   "execution_count": null,
   "metadata": {},
   "outputs": [],
   "source": [
    "for idx, f in enumerate(files):\n",
    "    hl.import_vcf(f, reference_genome='GRCh38', \n",
    "                  #filter='chr9[ \\t]138334443', \n",
    "                  force_bgz = True, array_elements_required = False).write('/net/archive/groups/plggneuromol/sportsmen-wgs/mts/'+names[idx]+'.mt')"
   ]
  },
  {
   "cell_type": "code",
   "execution_count": 46,
   "metadata": {},
   "outputs": [],
   "source": [
    "mts = []\n",
    "for i in names:\n",
    "    i = hl.read_matrix_table('/net/archive/groups/plggneuromol/sportsmen-wgs/mts/'+i+'.mt')\n",
    "    mts.append(i)"
   ]
  },
  {
   "cell_type": "code",
   "execution_count": 10,
   "metadata": {},
   "outputs": [
    {
     "name": "stderr",
     "output_type": "stream",
     "text": [
      "2021-02-11 09:59:39 Hail: INFO: Reading table with no type imputation\n",
      "  Loading column 'f0' as type 'str' (user-specified)\n",
      "  Loading column 'f1' as type 'int32' (user-specified)\n",
      "  Loading column 'f2' as type 'int32' (user-specified)\n",
      "\n"
     ]
    }
   ],
   "source": [
    "rpmk = hl.import_bed('/net/archive/groups/plggneuromol/GTS-analysis/analysis/vcf_preprocessing/repeatmasker_all',\n",
    "                     reference_genome='GRCh38', skip_invalid_intervals=True)"
   ]
  },
  {
   "cell_type": "code",
   "execution_count": 11,
   "metadata": {},
   "outputs": [
    {
     "name": "stderr",
     "output_type": "stream",
     "text": [
      "2021-02-11 10:00:26 Hail: INFO: Ordering unsorted dataset with network shuffle\n",
      "2021-02-11 10:02:37 Hail: INFO: wrote table with 5520017 rows in 48 partitions to /net/archive/groups/plggneuromol/sportsmen-wgs/analysis/vcf_preprocessing/repeatmasker_all.ht\n"
     ]
    }
   ],
   "source": [
    "rpmk.write('/net/archive/groups/plggneuromol/sportsmen-wgs/analysis/vcf_preprocessing/repeatmasker_all.ht')"
   ]
  },
  {
   "cell_type": "code",
   "execution_count": 12,
   "metadata": {},
   "outputs": [],
   "source": [
    "rpmk = hl.read_table('/net/archive/groups/plggneuromol/sportsmen-wgs/analysis/vcf_preprocessing/repeatmasker_all.ht')\n",
    "\n",
    "for idx, mt in enumerate(mts):\n",
    "    print(mt.count())\n",
    "    mt = mt.filter_rows(hl.is_defined(rpmk[mt.locus]), keep = False)\n",
    "    mt.write('/net/archive/groups/plggneuromol/sportsmen-wgs/mts/rpkm-'+names[idx]+'.mt')\n",
    "    mts[idx] = hl.read_matrix_table('/net/archive/groups/plggneuromol/sportsmen-wgs/mts/rpkm-'+names[idx]+'.mt')"
   ]
  },
  {
   "cell_type": "code",
   "execution_count": 4,
   "metadata": {},
   "outputs": [
    {
     "name": "stderr",
     "output_type": "stream",
     "text": [
      "2021-02-11 15:23:40 Hail: INFO: Reading table to impute column types\n",
      "2021-02-11 15:28:37 Hail: INFO: Finished type imputation\n",
      "  Loading column 'locus' as type 'str' (imputed)\n",
      "  Loading column 'mean' as type 'float64' (imputed)\n",
      "  Loading column 'median' as type 'int32' (imputed)\n",
      "  Loading column 'over_1' as type 'float64' (imputed)\n",
      "  Loading column 'over_5' as type 'float64' (imputed)\n",
      "  Loading column 'over_10' as type 'float64' (imputed)\n",
      "  Loading column 'over_15' as type 'float64' (imputed)\n",
      "  Loading column 'over_20' as type 'float64' (imputed)\n",
      "  Loading column 'over_25' as type 'float64' (imputed)\n",
      "  Loading column 'over_30' as type 'float64' (imputed)\n",
      "  Loading column 'over_50' as type 'float64' (imputed)\n",
      "  Loading column 'over_100' as type 'float64' (imputed)\n"
     ]
    }
   ],
   "source": [
    "table = hl.import_table('/net/archive/groups/plggneuromol/GTS-analysis/analysis/vcf_preprocessing/gnomad.genomes.r3.0.coverage.summary.tsv.bgz', impute = True)"
   ]
  },
  {
   "cell_type": "code",
   "execution_count": 5,
   "metadata": {},
   "outputs": [],
   "source": [
    "mts = []\n",
    "for i in names:\n",
    "    i = hl.read_matrix_table('/net/archive/groups/plggneuromol/sportsmen-wgs/mts/rpkm-'+i+'.mt')\n",
    "    mts.append(i)"
   ]
  },
  {
   "cell_type": "code",
   "execution_count": 6,
   "metadata": {},
   "outputs": [],
   "source": [
    "table = table.select(table.locus, table.over_1)\n",
    "table = table.annotate(locus = hl.parse_locus(table.locus, reference_genome='GRCh38'))\n",
    "table = table.filter(table.over_1 >0.9)\n",
    "table = table.key_by(table.locus)"
   ]
  },
  {
   "cell_type": "code",
   "execution_count": null,
   "metadata": {
    "scrolled": true
   },
   "outputs": [
    {
     "name": "stdout",
     "output_type": "stream",
     "text": [
      "(275903, 287)\n"
     ]
    },
    {
     "name": "stderr",
     "output_type": "stream",
     "text": [
      "2021-02-11 15:41:54 Hail: INFO: Coerced sorted dataset\n",
      "2021-02-11 15:42:23 Hail: INFO: wrote matrix table with 258263 rows and 287 columns in 52 partitions to /net/archive/groups/plggneuromol/sportsmen-wgs/mts/cov-part016.mt\n"
     ]
    },
    {
     "name": "stdout",
     "output_type": "stream",
     "text": [
      "(279497, 287)\n"
     ]
    }
   ],
   "source": [
    "for idx, mt in enumerate(mts):\n",
    "    print(mt.count())\n",
    "    mt = mt.filter_rows(hl.is_defined(table[mt.locus]), keep = True)\n",
    "    mt.write('/net/archive/groups/plggneuromol/sportsmen-wgs/mts/cov-'+names[idx]+'.mt')\n",
    "    mts[idx] = hl.read_matrix_table('/net/archive/groups/plggneuromol/sportsmen-wgs/mts/cov-'+names[idx]+'.mt')"
   ]
  },
  {
   "cell_type": "code",
   "execution_count": 25,
   "metadata": {},
   "outputs": [],
   "source": [
    "gnomad = hl.read_table('/net/archive/groups/plggneuromol/GTS-analysis/analysis/gnomad/gnomad_selected_filtered.ht')"
   ]
  },
  {
   "cell_type": "code",
   "execution_count": 47,
   "metadata": {
    "scrolled": true
   },
   "outputs": [
    {
     "name": "stderr",
     "output_type": "stream",
     "text": [
      "2021-02-11 19:28:41 Hail: INFO: wrote matrix table with 905930 rows and 287 columns in 58 partitions to /net/archive/groups/plggneuromol/sportsmen-wgs/mts/gnmd-part002.mt\n",
      "2021-02-11 19:28:57 Hail: INFO: wrote matrix table with 685765 rows and 287 columns in 50 partitions to /net/archive/groups/plggneuromol/sportsmen-wgs/mts/gnmd-part003.mt\n",
      "2021-02-11 19:29:15 Hail: INFO: wrote matrix table with 751889 rows and 287 columns in 55 partitions to /net/archive/groups/plggneuromol/sportsmen-wgs/mts/gnmd-part004.mt\n",
      "2021-02-11 19:29:31 Hail: INFO: wrote matrix table with 791632 rows and 287 columns in 54 partitions to /net/archive/groups/plggneuromol/sportsmen-wgs/mts/gnmd-part005.mt\n",
      "2021-02-11 19:29:45 Hail: INFO: wrote matrix table with 657421 rows and 287 columns in 48 partitions to /net/archive/groups/plggneuromol/sportsmen-wgs/mts/gnmd-part006.mt\n",
      "2021-02-11 19:30:01 Hail: INFO: wrote matrix table with 736920 rows and 287 columns in 54 partitions to /net/archive/groups/plggneuromol/sportsmen-wgs/mts/gnmd-part007.mt\n",
      "2021-02-11 19:30:18 Hail: INFO: wrote matrix table with 772117 rows and 287 columns in 54 partitions to /net/archive/groups/plggneuromol/sportsmen-wgs/mts/gnmd-part008.mt\n",
      "2021-02-11 19:30:29 Hail: INFO: wrote matrix table with 649095 rows and 287 columns in 47 partitions to /net/archive/groups/plggneuromol/sportsmen-wgs/mts/gnmd-part009.mt\n",
      "2021-02-11 19:30:46 Hail: INFO: wrote matrix table with 811113 rows and 287 columns in 58 partitions to /net/archive/groups/plggneuromol/sportsmen-wgs/mts/gnmd-part010.mt\n",
      "2021-02-11 19:30:55 Hail: INFO: wrote matrix table with 153131 rows and 225 columns in 8 partitions to /net/archive/groups/plggneuromol/sportsmen-wgs/mts/gnmd-part01.1.mt\n",
      "2021-02-11 19:31:10 Hail: INFO: wrote matrix table with 673777 rows and 287 columns in 49 partitions to /net/archive/groups/plggneuromol/sportsmen-wgs/mts/gnmd-part011.mt\n",
      "2021-02-11 19:31:18 Hail: INFO: wrote matrix table with 159478 rows and 287 columns in 12 partitions to /net/archive/groups/plggneuromol/sportsmen-wgs/mts/gnmd-part01.2.mt\n",
      "2021-02-11 19:31:34 Hail: INFO: wrote matrix table with 772079 rows and 287 columns in 56 partitions to /net/archive/groups/plggneuromol/sportsmen-wgs/mts/gnmd-part012.mt\n",
      "2021-02-11 19:31:44 Hail: INFO: wrote matrix table with 139713 rows and 287 columns in 11 partitions to /net/archive/groups/plggneuromol/sportsmen-wgs/mts/gnmd-part01.3.mt\n",
      "2021-02-11 19:31:59 Hail: INFO: wrote matrix table with 707820 rows and 287 columns in 50 partitions to /net/archive/groups/plggneuromol/sportsmen-wgs/mts/gnmd-part013.mt\n",
      "2021-02-11 19:32:07 Hail: INFO: wrote matrix table with 131042 rows and 287 columns in 10 partitions to /net/archive/groups/plggneuromol/sportsmen-wgs/mts/gnmd-part01.4.mt\n",
      "2021-02-11 19:32:23 Hail: INFO: wrote matrix table with 713553 rows and 287 columns in 52 partitions to /net/archive/groups/plggneuromol/sportsmen-wgs/mts/gnmd-part014.mt\n",
      "2021-02-11 19:32:31 Hail: INFO: wrote matrix table with 126048 rows and 287 columns in 10 partitions to /net/archive/groups/plggneuromol/sportsmen-wgs/mts/gnmd-part01.5.mt\n",
      "2021-02-11 19:32:48 Hail: INFO: wrote matrix table with 794601 rows and 287 columns in 55 partitions to /net/archive/groups/plggneuromol/sportsmen-wgs/mts/gnmd-part015.mt\n",
      "2021-02-11 19:33:04 Hail: INFO: wrote matrix table with 710383 rows and 287 columns in 52 partitions to /net/archive/groups/plggneuromol/sportsmen-wgs/mts/gnmd-part016.mt\n",
      "2021-02-11 19:33:22 Hail: INFO: wrote matrix table with 833568 rows and 287 columns in 59 partitions to /net/archive/groups/plggneuromol/sportsmen-wgs/mts/gnmd-part017.mt\n",
      "2021-02-11 19:33:37 Hail: INFO: wrote matrix table with 702994 rows and 287 columns in 51 partitions to /net/archive/groups/plggneuromol/sportsmen-wgs/mts/gnmd-part018.mt\n",
      "2021-02-11 19:33:53 Hail: INFO: wrote matrix table with 803473 rows and 287 columns in 57 partitions to /net/archive/groups/plggneuromol/sportsmen-wgs/mts/gnmd-part019.mt\n",
      "2021-02-11 19:34:09 Hail: INFO: wrote matrix table with 694178 rows and 287 columns in 50 partitions to /net/archive/groups/plggneuromol/sportsmen-wgs/mts/gnmd-part020.mt\n",
      "2021-02-11 19:34:24 Hail: INFO: wrote matrix table with 697689 rows and 287 columns in 47 partitions to /net/archive/groups/plggneuromol/sportsmen-wgs/mts/gnmd-part021.mt\n",
      "2021-02-11 19:34:41 Hail: INFO: wrote matrix table with 764515 rows and 287 columns in 56 partitions to /net/archive/groups/plggneuromol/sportsmen-wgs/mts/gnmd-part022.mt\n",
      "2021-02-11 19:34:59 Hail: INFO: wrote matrix table with 832968 rows and 287 columns in 59 partitions to /net/archive/groups/plggneuromol/sportsmen-wgs/mts/gnmd-part023.mt\n",
      "2021-02-11 19:35:15 Hail: INFO: wrote matrix table with 746343 rows and 287 columns in 55 partitions to /net/archive/groups/plggneuromol/sportsmen-wgs/mts/gnmd-part024.mt\n",
      "2021-02-11 19:35:32 Hail: INFO: wrote matrix table with 805950 rows and 287 columns in 54 partitions to /net/archive/groups/plggneuromol/sportsmen-wgs/mts/gnmd-part025.mt\n",
      "2021-02-11 19:35:49 Hail: INFO: wrote matrix table with 821669 rows and 287 columns in 56 partitions to /net/archive/groups/plggneuromol/sportsmen-wgs/mts/gnmd-part026.mt\n",
      "2021-02-11 19:36:00 Hail: INFO: wrote matrix table with 643912 rows and 287 columns in 47 partitions to /net/archive/groups/plggneuromol/sportsmen-wgs/mts/gnmd-part027.mt\n",
      "2021-02-11 19:36:16 Hail: INFO: wrote matrix table with 840753 rows and 287 columns in 57 partitions to /net/archive/groups/plggneuromol/sportsmen-wgs/mts/gnmd-part028.mt\n",
      "2021-02-11 19:36:27 Hail: INFO: wrote matrix table with 572031 rows and 287 columns in 42 partitions to /net/archive/groups/plggneuromol/sportsmen-wgs/mts/gnmd-part029.mt\n",
      "2021-02-11 19:36:39 Hail: INFO: wrote matrix table with 570440 rows and 287 columns in 41 partitions to /net/archive/groups/plggneuromol/sportsmen-wgs/mts/gnmd-part030.mt\n",
      "2021-02-11 19:36:54 Hail: INFO: wrote matrix table with 740779 rows and 287 columns in 52 partitions to /net/archive/groups/plggneuromol/sportsmen-wgs/mts/gnmd-part031.mt\n",
      "2021-02-11 19:37:10 Hail: INFO: wrote matrix table with 715188 rows and 287 columns in 51 partitions to /net/archive/groups/plggneuromol/sportsmen-wgs/mts/gnmd-part032.mt\n",
      "2021-02-11 19:37:30 Hail: INFO: wrote matrix table with 837529 rows and 287 columns in 59 partitions to /net/archive/groups/plggneuromol/sportsmen-wgs/mts/gnmd-part033.mt\n",
      "2021-02-11 19:37:47 Hail: INFO: wrote matrix table with 784006 rows and 287 columns in 54 partitions to /net/archive/groups/plggneuromol/sportsmen-wgs/mts/gnmd-part034.mt\n",
      "2021-02-11 19:38:04 Hail: INFO: wrote matrix table with 823646 rows and 287 columns in 60 partitions to /net/archive/groups/plggneuromol/sportsmen-wgs/mts/gnmd-part035.mt\n",
      "2021-02-11 19:38:22 Hail: INFO: wrote matrix table with 871542 rows and 287 columns in 62 partitions to /net/archive/groups/plggneuromol/sportsmen-wgs/mts/gnmd-part036.mt\n",
      "2021-02-11 19:38:39 Hail: INFO: wrote matrix table with 719018 rows and 287 columns in 53 partitions to /net/archive/groups/plggneuromol/sportsmen-wgs/mts/gnmd-part037.mt\n",
      "2021-02-11 19:38:50 Hail: INFO: wrote matrix table with 649673 rows and 287 columns in 44 partitions to /net/archive/groups/plggneuromol/sportsmen-wgs/mts/gnmd-part038.mt\n",
      "2021-02-11 19:39:02 Hail: INFO: wrote matrix table with 571069 rows and 287 columns in 36 partitions to /net/archive/groups/plggneuromol/sportsmen-wgs/mts/gnmd-part039.mt\n",
      "2021-02-11 19:39:13 Hail: INFO: wrote matrix table with 272458 rows and 287 columns in 17 partitions to /net/archive/groups/plggneuromol/sportsmen-wgs/mts/gnmd-part040.mt\n"
     ]
    }
   ],
   "source": [
    "for idx, mt in enumerate(mts):\n",
    "    mts[idx] = hl.read_matrix_table('/net/archive/groups/plggneuromol/sportsmen-wgs/mts/cov-'+names[idx]+'.mt')\n",
    "    mt = mt.select_rows(mt.rsid, mt.info.AC, mt.info.AF, mt.info.AN)\n",
    "    mt = hl.split_multi_hts(mt)\n",
    "    mt = mt.annotate_rows(gnomad_v3 = gnomad[mt.row_key])\n",
    "    mt.write('/net/archive/groups/plggneuromol/sportsmen-wgs/mts/gnmd-'+names[idx]+'.mt')\n",
    "    mts[idx] = hl.read_matrix_table('/net/archive/groups/plggneuromol/sportsmen-wgs/mts/gnmd-'+names[idx]+'.mt')"
   ]
  },
  {
   "cell_type": "code",
   "execution_count": 21,
   "metadata": {},
   "outputs": [],
   "source": [
    "genes = hl.read_table('/net/archive/groups/plggneuromol/GTS-analysis/analysis/vcf_preprocessing/genecode_v32.ht')\n",
    "\n",
    "genes = genes.filter(hl.is_valid_contig(genes['hg38.knownGene.chrom'], reference_genome='GRCh38'))\n",
    "\n",
    "hpo = hl.import_table('/net/archive/groups/plggneuromol/GTS-analysis/analysis/vcf_preprocessing/hpo.tsv', impute = True, no_header=True)\n",
    "\n",
    "start = genes['hg38.knownGene.txStart']\n",
    "stop =  genes['hg38.knownGene.txEnd']\n",
    "\n",
    "genes = genes.transmute(interval = \n",
    "                        hl.locus_interval(genes['hg38.knownGene.chrom'], \n",
    "                                          start,\n",
    "                                          stop,\n",
    "                                          reference_genome='GRCh38', includes_start=False))\n",
    "\n",
    "genes = genes.key_by(genes['hg38.kgXref.geneSymbol'])\n",
    "\n",
    "hpo = hpo.key_by(hpo.f0)\n",
    "\n",
    "genes = genes.annotate(hpo = hpo.index(genes['hg38.kgXref.geneSymbol'], all_matches = True)['f1'])\n",
    "\n",
    "genes = genes.key_by(genes.interval)\n",
    "\n",
    "for idx, mt in enumerate(mts):\n",
    "    mts[idx] = hl.read_matrix_table('/net/archive/groups/plggneuromol/sportsmen-wgs/mts/gnmd-'+names[idx]+'.mt')\n",
    "    mt = mt.annotate_rows(within_gene = hl.array(hl.set(genes.index(mt.locus, all_matches=True)['hg38.kgXref.geneSymbol'])))\n",
    "    mt = mt.annotate_rows(hpo = hl.array(hl.set(genes.index(mt.locus, all_matches=True)['hpo'])))\n",
    "    mt.write('/net/archive/groups/plggneuromol/sportsmen-wgs/mts/hpo-final-'+names[idx]+'.mt')\n",
    "    mts[idx] = hl.read_matrix_table('/net/archive/groups/plggneuromol/sportsmen-wgs/mts/hpo-final'+names[idx]+'.mt')"
   ]
  },
  {
   "cell_type": "code",
   "execution_count": 18,
   "metadata": {},
   "outputs": [],
   "source": [
    "mts = []\n",
    "\n",
    "for m in names:\n",
    "    f = hl.read_matrix_table('/net/archive/groups/plggneuromol/sportsmen-wgs/mts/hpo-'+m+'.mt')\n",
    "    mts.append(f)"
   ]
  },
  {
   "cell_type": "code",
   "execution_count": 49,
   "metadata": {},
   "outputs": [],
   "source": [
    "mts = mts[0:9]+mts[10:]"
   ]
  },
  {
   "cell_type": "code",
   "execution_count": 50,
   "metadata": {},
   "outputs": [],
   "source": [
    "mt_full = hl.MatrixTable.union_rows(*mts)"
   ]
  },
  {
   "cell_type": "code",
   "execution_count": 54,
   "metadata": {
    "scrolled": true
   },
   "outputs": [
    {
     "name": "stderr",
     "output_type": "stream",
     "text": [
      "2021-02-11 19:48:32 Hail: INFO: wrote matrix table with 10751439 rows and 287 columns in 2054 partitions to /net/archive/groups/plggneuromol/sportsmen-wgs/mts/joint.mt\n"
     ]
    }
   ],
   "source": [
    "mt_full.write('/net/archive/groups/plggneuromol/sportsmen-wgs/mts/joint.mt')"
   ]
  },
  {
   "cell_type": "code",
   "execution_count": 8,
   "metadata": {},
   "outputs": [],
   "source": [
    "mt = hl.read_matrix_table('/net/archive/groups/plggneuromol/sportsmen-wgs/mts/joint.mt')"
   ]
  },
  {
   "cell_type": "code",
   "execution_count": 5,
   "metadata": {},
   "outputs": [
    {
     "data": {
      "text/plain": [
       "(10751439, 287)"
      ]
     },
     "execution_count": 5,
     "metadata": {},
     "output_type": "execute_result"
    }
   ],
   "source": [
    "mt.count()"
   ]
  },
  {
   "cell_type": "code",
   "execution_count": 57,
   "metadata": {},
   "outputs": [],
   "source": [
    "mt_subset = mt.sample_rows(0.001)"
   ]
  },
  {
   "cell_type": "code",
   "execution_count": 59,
   "metadata": {
    "scrolled": true
   },
   "outputs": [
    {
     "name": "stderr",
     "output_type": "stream",
     "text": [
      "2021-02-11 19:50:15 Hail: INFO: wrote matrix table with 10709 rows and 287 columns in 2054 partitions to /net/archive/groups/plggneuromol/sportsmen-wgs/mts/joint-subset.mt\n"
     ]
    }
   ],
   "source": [
    "mt_subset.write('/net/archive/groups/plggneuromol/sportsmen-wgs/mts/joint-subset.mt')"
   ]
  },
  {
   "cell_type": "code",
   "execution_count": 55,
   "metadata": {},
   "outputs": [],
   "source": [
    "mt_subset = hl.read_matrix_table('/net/archive/groups/plggneuromol/sportsmen-wgs/mts/joint-subset.mt')"
   ]
  },
  {
   "cell_type": "markdown",
   "metadata": {},
   "source": [
    "first lets perform PCA on all the samples"
   ]
  },
  {
   "cell_type": "code",
   "execution_count": null,
   "metadata": {},
   "outputs": [],
   "source": [
    "eigenvalues, pcs, _ = hl.hwe_normalized_pca(mt.GT)\n",
    "\n",
    "mt_subset = mt_subset.annotate_cols(group = hl.cond(mt_subset.s.contains(\"B\"), \"sport\", \"gts\"))\n",
    "\n",
    "mt_subset = mt_subset.annotate_cols(scores = pcs[mt_subset.s].scores)\n",
    "\n",
    "p = hl.plot.scatter(mt_subset.scores[0],\n",
    "                    mt_subset.scores[1],\n",
    "                    label=mt_subset.group,\n",
    "                    title='PCA', xlabel='PC1', ylabel='PC2')\n",
    "show(p)"
   ]
  },
  {
   "cell_type": "markdown",
   "metadata": {},
   "source": [
    "### Create a separate matrix with GTS"
   ]
  },
  {
   "cell_type": "code",
   "execution_count": 3,
   "metadata": {},
   "outputs": [],
   "source": [
    "to_keep = ['S_7156','WGS_108','WGS_113','WGS_122','WGS_139','WGS_13','WGS_141','WGS_149','WGS_154','WGS_15','WGS_168','WGS_171a','WGS_182a','WGS_183',\n",
    "           'WGS_196','WGS_200a','WGS_201','WGS_202a','WGS_22','WGS_57a','WGS_5','WGS_6827','WGS_6857','WGS_6880','WGS_6955','WGS_6958','WGS_7039','WGS_7050',\n",
    "           'WGS_7117','WGS_7168','WGS_7176','WGS_76','WGS_77','WGS_81','WGS_82','WGS_83','WGS_86','WGS_87','WGS_88','WGS_8']"
   ]
  },
  {
   "cell_type": "code",
   "execution_count": 8,
   "metadata": {},
   "outputs": [],
   "source": [
    "gts = mt.filter_cols(hl.set(to_keep).contains(mt.s), keep=True)"
   ]
  },
  {
   "cell_type": "code",
   "execution_count": 9,
   "metadata": {},
   "outputs": [
    {
     "data": {
      "text/plain": [
       "(10751439, 40)"
      ]
     },
     "execution_count": 9,
     "metadata": {},
     "output_type": "execute_result"
    }
   ],
   "source": [
    "gts.count()"
   ]
  },
  {
   "cell_type": "code",
   "execution_count": 10,
   "metadata": {},
   "outputs": [],
   "source": [
    "gts_subset = gts.sample_rows(0.001)"
   ]
  },
  {
   "cell_type": "code",
   "execution_count": 11,
   "metadata": {
    "scrolled": true
   },
   "outputs": [
    {
     "name": "stderr",
     "output_type": "stream",
     "text": [
      "2021-03-18 14:50:06 Hail: INFO: wrote matrix table with 10709 rows and 40 columns in 2054 partitions to /net/archive/groups/plggneuromol/sportsmen-wgs/mts/gts-subset.mt\n",
      "    Total size: 5.60 MiB\n",
      "    * Rows/entries: 5.60 MiB\n",
      "    * Columns: 224.00 B\n",
      "    * Globals: 11.00 B\n",
      "    * Smallest partition: 0 rows (20.00 B)\n",
      "    * Largest partition:  10 rows (8.52 KiB)\n"
     ]
    }
   ],
   "source": [
    "gts_subset.write('/net/archive/groups/plggneuromol/sportsmen-wgs/mts/gts-subset.mt')"
   ]
  },
  {
   "cell_type": "code",
   "execution_count": 12,
   "metadata": {},
   "outputs": [
    {
     "name": "stderr",
     "output_type": "stream",
     "text": [
      "2021-03-18 15:14:18 Hail: INFO: hwe_normalized_pca: running PCA using 6705 variants.\n",
      "2021-03-18 15:14:57 Hail: INFO: pca: running PCA with 1 components...\n",
      "2021-03-18 15:19:30 Hail: INFO: Wrote all 3 blocks of 10709 x 40 matrix with block size 4096.\n"
     ]
    }
   ],
   "source": [
    "pc_rel = hl.pc_relate(gts_subset.GT, 0.001, k=1, statistics='kin')"
   ]
  },
  {
   "cell_type": "code",
   "execution_count": 13,
   "metadata": {},
   "outputs": [],
   "source": [
    "pairs = pc_rel.filter(pc_rel['kin'] > 0.2)"
   ]
  },
  {
   "cell_type": "code",
   "execution_count": 14,
   "metadata": {},
   "outputs": [
    {
     "name": "stderr",
     "output_type": "stream",
     "text": [
      "2021-03-18 15:19:32 Hail: INFO: wrote matrix with 2 rows and 10709 columns as 3 blocks of size 4096 to /net/scratch/people/plggosborcz/pcrelate-write-read-ZWF7qwu8GTzQluXGpF5brR.bm\n",
      "2021-03-18 15:19:33 Hail: INFO: wrote matrix with 10709 rows and 40 columns as 3 blocks of size 4096 to /net/scratch/people/plggosborcz/pcrelate-write-read-G9Ly0ykYjQJVumF3Rx2IjR.bm\n",
      "2021-03-18 15:19:34 Hail: INFO: wrote matrix with 40 rows and 40 columns as 1 block of size 4096 to /net/scratch/people/plggosborcz/pcrelate-write-read-R9YPy0EzWVawPXnFZP77Zl.bm\n",
      "2021-03-18 15:19:34 Hail: INFO: wrote matrix with 40 rows and 40 columns as 1 block of size 4096 to /net/scratch/people/plggosborcz/pcrelate-write-read-CdQ9oinEgOBY8n76xKzODs.bm\n",
      "2021-03-18 15:19:34 Hail: INFO: wrote matrix with 40 rows and 40 columns as 1 block of size 4096 to /net/scratch/people/plggosborcz/pcrelate-write-read-9wQMv87M56K9NOnxGjAAyy.bm\n",
      "2021-03-18 15:19:34 Hail: INFO: Ordering unsorted dataset with network shuffle\n",
      "2021-03-18 15:19:35 Hail: INFO: wrote table with 0 rows in 1 partition to /net/scratch/people/plggosborcz/EH48oXkuNm6RnjfWUMXfMu\n",
      "    Total size: 32.00 B\n",
      "    * Rows: 21.00 B\n",
      "    * Globals: 11.00 B\n",
      "    * Smallest partition: 0 rows (21.00 B)\n",
      "    * Largest partition:  0 rows (21.00 B)\n"
     ]
    }
   ],
   "source": [
    "related_samples_to_remove = hl.maximal_independent_set(pairs.i, pairs.j,\n",
    "                                                       keep=False)"
   ]
  },
  {
   "cell_type": "code",
   "execution_count": 16,
   "metadata": {},
   "outputs": [
    {
     "data": {
      "text/html": [
       "<table><thead><tr><td style=\"white-space: nowrap; max-width: 500px; overflow: hidden; text-overflow: ellipsis; \" colspan=\"1\"><div style=\"text-align: left;\"></div></td></tr><tr><td style=\"white-space: nowrap; max-width: 500px; overflow: hidden; text-overflow: ellipsis; \" colspan=\"1\"><div style=\"text-align: left;border-bottom: solid 2px #000; padding-bottom: 5px\">node</div></td></tr><tr><td style=\"white-space: nowrap; max-width: 500px; overflow: hidden; text-overflow: ellipsis; text-align: left;\">str</td></tr>\n",
       "</thead><tbody></tbody></table>"
      ],
      "text/plain": [
       "+--------+\n",
       "| node.s |\n",
       "+--------+\n",
       "| str    |\n",
       "+--------+\n",
       "+--------+"
      ]
     },
     "metadata": {},
     "output_type": "display_data"
    }
   ],
   "source": [
    "related_samples_to_remove.show()"
   ]
  },
  {
   "cell_type": "markdown",
   "metadata": {},
   "source": [
    "#### There are no related samples in this GTS cohort"
   ]
  },
  {
   "cell_type": "code",
   "execution_count": 65,
   "metadata": {},
   "outputs": [
    {
     "data": {
      "text/plain": [
       "10751439"
      ]
     },
     "execution_count": 65,
     "metadata": {},
     "output_type": "execute_result"
    }
   ],
   "source": [
    "gts.count()"
   ]
  },
  {
   "cell_type": "code",
   "execution_count": 20,
   "metadata": {},
   "outputs": [
    {
     "name": "stderr",
     "output_type": "stream",
     "text": [
      "2021-03-18 16:11:30 Hail: INFO: wrote matrix table with 10751439 rows and 40 columns in 2054 partitions to /net/archive/groups/plggneuromol/sportsmen-wgs/mts/unrelated-gts-samples.mt\n",
      "    Total size: 3.14 GiB\n",
      "    * Rows/entries: 3.14 GiB\n",
      "    * Columns: 224.00 B\n",
      "    * Globals: 11.00 B\n",
      "    * Smallest partition: 0 rows (20.00 B)\n",
      "    * Largest partition:  6444 rows (5.47 MiB)\n",
      "2021-03-18 16:12:36 Hail: INFO: wrote matrix table with 10751439 rows and 40 columns in 2054 partitions to /net/archive/groups/plggneuromol/sportsmen-wgs/mts/unrelated-gts.mt\n",
      "    Total size: 3.14 GiB\n",
      "    * Rows/entries: 3.14 GiB\n",
      "    * Columns: 224.00 B\n",
      "    * Globals: 11.00 B\n",
      "    * Smallest partition: 0 rows (20.00 B)\n",
      "    * Largest partition:  6444 rows (5.47 MiB)\n"
     ]
    }
   ],
   "source": [
    "gts.write('/net/archive/groups/plggneuromol/sportsmen-wgs/mts/unrelated-gts.mt')"
   ]
  },
  {
   "cell_type": "markdown",
   "metadata": {},
   "source": [
    "### remove samples that are not controls"
   ]
  },
  {
   "cell_type": "code",
   "execution_count": 14,
   "metadata": {},
   "outputs": [],
   "source": [
    "mt = hl.read_matrix_table('/net/archive/groups/plggneuromol/sportsmen-wgs/mts/joint.mt')"
   ]
  },
  {
   "cell_type": "code",
   "execution_count": 15,
   "metadata": {},
   "outputs": [
    {
     "data": {
      "text/plain": [
       "(10751439, 287)"
      ]
     },
     "execution_count": 15,
     "metadata": {},
     "output_type": "execute_result"
    }
   ],
   "source": [
    "mt.count()"
   ]
  },
  {
   "cell_type": "code",
   "execution_count": 44,
   "metadata": {},
   "outputs": [],
   "source": [
    "controls_to_keep = ['S_7212','S_7213','S_7214','S_7227','S_7236','S_7255','S_7237','S_7239','S_7241','S_7245','S_7246',\n",
    "'S_7247','S_7229','S_7252','S_7254','WGS_147c','S_7261','S_7263','S_7269','S_7274','S_7291',\n",
    "'S_7294','S_7306','S_7307','WGS_37b','WGS_37c','WGS_85b','WGS_7118','WGS_7120','WGS_7142','WGS_7143',\n",
    "'WGS_7152','WGS_7153','WGS_163b','WGS_163d','S_7250','WGS_180b','WGS_6819','WGS_185c',\n",
    "'WGS_6812','WGS_6814','WGS_D6813','WGS_D6815','462','468','475','476','477','478','479','490','492','494']"
   ]
  },
  {
   "cell_type": "code",
   "execution_count": 45,
   "metadata": {},
   "outputs": [
    {
     "data": {
      "text/plain": [
       "53"
      ]
     },
     "execution_count": 45,
     "metadata": {},
     "output_type": "execute_result"
    }
   ],
   "source": [
    "len(controls_to_keep)"
   ]
  },
  {
   "cell_type": "code",
   "execution_count": 19,
   "metadata": {},
   "outputs": [],
   "source": [
    "sportsmen=['B102','B156','B24','B338','B382','B399','B427','B430','B431','B432','B433','B435','B436','B437','B438','B439','B441','B442','B443','B444','B445','B446','B448','B449','B450','B451','B452','B453','B454',\n",
    "'B455','B456','B457','B458','B459','B461','B462','B463','B464','B465','B466','B467','B468','B469','B470','B471','B472','B473','B474','B475','B476','B477','B478','B479','B480','B481','B482','B483','B485','B486','B487','B488',\n",
    "'B489','B490','B491','B492','B493','B494','B495','B496','B497','B498','B499','B501','B502','B503','B504','B505','B506','B507','B508','B509','B515','B518','B522','B523','B524','B525','B526','B527','B528','B529','B530','B531',\n",
    "'B532','B533','B534','B535','B536','B537','B538','B539','B81']"
   ]
  },
  {
   "cell_type": "code",
   "execution_count": 26,
   "metadata": {},
   "outputs": [],
   "source": [
    "to_keep = controls_to_keep + sportsmen"
   ]
  },
  {
   "cell_type": "code",
   "execution_count": 27,
   "metadata": {},
   "outputs": [],
   "source": [
    "mt = mt.filter_cols(hl.set(to_keep).contains(mt.s), keep=True)"
   ]
  },
  {
   "cell_type": "code",
   "execution_count": 28,
   "metadata": {},
   "outputs": [
    {
     "data": {
      "text/plain": [
       "(10751439, 155)"
      ]
     },
     "execution_count": 28,
     "metadata": {},
     "output_type": "execute_result"
    }
   ],
   "source": [
    "mt.count()"
   ]
  },
  {
   "cell_type": "code",
   "execution_count": 29,
   "metadata": {
    "scrolled": true
   },
   "outputs": [
    {
     "name": "stderr",
     "output_type": "stream",
     "text": [
      "2021-03-29 16:14:29 Hail: INFO: wrote matrix table with 10751439 rows and 155 columns in 2054 partitions to /net/archive/groups/plggneuromol/sportsmen-wgs/mts/joint-healthy.mt\n",
      "    Total size: 9.28 GiB\n",
      "    * Rows/entries: 9.28 GiB\n",
      "    * Columns: 691.00 B\n",
      "    * Globals: 11.00 B\n",
      "    * Smallest partition: 0 rows (20.00 B)\n",
      "    * Largest partition:  6444 rows (9.05 MiB)\n"
     ]
    }
   ],
   "source": [
    "mt.write('/net/archive/groups/plggneuromol/sportsmen-wgs/mts/joint-healthy.mt')"
   ]
  },
  {
   "cell_type": "markdown",
   "metadata": {},
   "source": [
    "## extra control of genotype quality"
   ]
  },
  {
   "cell_type": "code",
   "execution_count": 15,
   "metadata": {},
   "outputs": [],
   "source": [
    "mt = hl.read_matrix_table('/net/archive/groups/plggneuromol/sportsmen-wgs/mts/joint-healthy.mt')"
   ]
  },
  {
   "cell_type": "code",
   "execution_count": 29,
   "metadata": {},
   "outputs": [],
   "source": [
    "rpmk = hl.read_table('/net/archive/groups/plggneuromol/sportsmen-wgs/analysis/vcf_preprocessing/repeatmasker_all.ht')\n",
    "\n",
    "rpmk = rpmk.annotate(larger_int = hl.if_else(rpmk.interval.start.position == 1,\n",
    "                                             hl.locus(rpmk.interval.start.contig, (rpmk.interval.start.position), reference_genome='GRCh38'),\n",
    "                                            hl.locus(rpmk.interval.start.contig, (rpmk.interval.start.position-1), reference_genome='GRCh38')))\n",
    "                                        \n",
    "                     \n",
    "\n",
    "rpmk = rpmk.key_by(rpmk.larger_int)\n",
    "\n",
    "rpmk = rpmk.select()\n",
    "\n",
    "rpmk.write('/net/archive/groups/plggneuromol/sportsmen-wgs/analysis/vcf_preprocessing/repeatmasker_expanded.ht')\n",
    "\n",
    "rpmk = hl.read_table('/net/archive/groups/plggneuromol/sportsmen-wgs/analysis/vcf_preprocessing/repeatmasker_expanded.ht')\n",
    "\n",
    "mt = mt.filter_rows(hl.is_defined(rpmk[mt.locus]), keep = False)"
   ]
  },
  {
   "cell_type": "code",
   "execution_count": 36,
   "metadata": {},
   "outputs": [
    {
     "name": "stderr",
     "output_type": "stream",
     "text": [
      "2021-03-30 10:05:28 Hail: INFO: wrote matrix table with 9824949 rows and 155 columns in 2054 partitions to /net/archive/groups/plggneuromol/sportsmen-wgs/mts/joint-healthy-filtered.mt\n",
      "    Total size: 8.47 GiB\n",
      "    * Rows/entries: 8.47 GiB\n",
      "    * Columns: 691.00 B\n",
      "    * Globals: 11.00 B\n",
      "    * Smallest partition: 0 rows (20.00 B)\n",
      "    * Largest partition:  13167 rows (8.86 MiB)\n"
     ]
    }
   ],
   "source": [
    "mt.write('/net/archive/groups/plggneuromol/sportsmen-wgs/mts/joint-healthy-filtered.mt')"
   ]
  },
  {
   "cell_type": "code",
   "execution_count": 66,
   "metadata": {},
   "outputs": [],
   "source": [
    "mt = hl.read_matrix_table('/net/archive/groups/plggneuromol/sportsmen-wgs/mts/joint-healthy-filtered.mt')"
   ]
  },
  {
   "cell_type": "code",
   "execution_count": 67,
   "metadata": {},
   "outputs": [
    {
     "data": {
      "text/plain": [
       "(9824949, 155)"
      ]
     },
     "execution_count": 67,
     "metadata": {},
     "output_type": "execute_result"
    }
   ],
   "source": [
    "mt.count()"
   ]
  },
  {
   "cell_type": "code",
   "execution_count": 40,
   "metadata": {},
   "outputs": [
    {
     "name": "stderr",
     "output_type": "stream",
     "text": [
      "2021-03-30 10:09:44 Hail: INFO: wrote matrix table with 9843 rows and 155 columns in 2054 partitions to /net/archive/groups/plggneuromol/sportsmen-wgs/mts/joint-subset-healthy.mt\n",
      "    Total size: 11.55 MiB\n",
      "    * Rows/entries: 11.55 MiB\n",
      "    * Columns: 691.00 B\n",
      "    * Globals: 11.00 B\n",
      "    * Smallest partition: 0 rows (20.00 B)\n",
      "    * Largest partition:  15 rows (17.17 KiB)\n"
     ]
    }
   ],
   "source": [
    "mt_subset = mt.sample_rows(0.001)\n",
    "mt_subset.write('/net/archive/groups/plggneuromol/sportsmen-wgs/mts/joint-subset-healthy.mt')"
   ]
  },
  {
   "cell_type": "markdown",
   "metadata": {},
   "source": [
    "### At this time we realised there was a mistake in genotyping of some of the samples. These are replaced in the matrix table at this point"
   ]
  },
  {
   "cell_type": "code",
   "execution_count": 48,
   "metadata": {},
   "outputs": [],
   "source": [
    "mt_subset = hl.read_matrix_table('/net/archive/groups/plggneuromol/sportsmen-wgs/mts/joint-subset-healthy.mt')\n",
    "mt = hl.read_matrix_table('/net/archive/groups/plggneuromol/sportsmen-wgs/mts/joint-healthy-filtered.mt')"
   ]
  },
  {
   "cell_type": "code",
   "execution_count": 8,
   "metadata": {},
   "outputs": [],
   "source": [
    "samples_to_remove = hl.set([\"B522\", \"B506\", \"B507\", \"B508\", \"B509\",\n",
    "                            \"B523\", \"B478\", \"B449\"]) #sample B449 could not be corrected, thus it is permanently removed"
   ]
  },
  {
   "cell_type": "code",
   "execution_count": 9,
   "metadata": {},
   "outputs": [],
   "source": [
    "mt = mt.filter_cols(\n",
    "     samples_to_remove.contains(mt.s), keep=False)"
   ]
  },
  {
   "cell_type": "code",
   "execution_count": 10,
   "metadata": {},
   "outputs": [],
   "source": [
    "mt_subset = mt_subset.filter_cols(\n",
    "     samples_to_remove.contains(mt_subset.s), keep=False)"
   ]
  },
  {
   "cell_type": "code",
   "execution_count": 11,
   "metadata": {},
   "outputs": [
    {
     "name": "stderr",
     "output_type": "stream",
     "text": [
      "2021-04-15 13:02:25 Hail: INFO: wrote matrix table with 9824949 rows and 147 columns in 2054 partitions to /net/archive/groups/plggneuromol/sportsmen-wgs/mts/joint-incomplete-lists.mt\n",
      "    Total size: 8.03 GiB\n",
      "    * Rows/entries: 8.03 GiB\n",
      "    * Columns: 659.00 B\n",
      "    * Globals: 11.00 B\n",
      "    * Smallest partition: 0 rows (20.00 B)\n",
      "    * Largest partition:  13167 rows (8.43 MiB)\n",
      "2021-04-15 13:02:42 Hail: INFO: wrote matrix table with 9843 rows and 147 columns in 2054 partitions to /net/archive/groups/plggneuromol/sportsmen-wgs/mts/joint-incomplete-lists-subset.mt\n",
      "    Total size: 11.01 MiB\n",
      "    * Rows/entries: 11.01 MiB\n",
      "    * Columns: 659.00 B\n",
      "    * Globals: 11.00 B\n",
      "    * Smallest partition: 0 rows (20.00 B)\n",
      "    * Largest partition:  15 rows (16.21 KiB)\n"
     ]
    }
   ],
   "source": [
    "mt.write('/net/archive/groups/plggneuromol/sportsmen-wgs/mts/joint-incomplete-lists.mt')\n",
    "mt_subset.write('/net/archive/groups/plggneuromol/sportsmen-wgs/mts/joint-incomplete-lists-subset.mt')"
   ]
  },
  {
   "cell_type": "code",
   "execution_count": 6,
   "metadata": {},
   "outputs": [],
   "source": [
    "mt_subset = hl.read_matrix_table('/net/archive/groups/plggneuromol/sportsmen-wgs/mts/joint-incomplete-lists-subset.mt')\n",
    "mt = hl.read_matrix_table('/net/archive/groups/plggneuromol/sportsmen-wgs/mts/joint-incomplete-lists.mt')"
   ]
  },
  {
   "cell_type": "code",
   "execution_count": 7,
   "metadata": {},
   "outputs": [
    {
     "data": {
      "text/plain": [
       "(9824949, 147)"
      ]
     },
     "execution_count": 7,
     "metadata": {},
     "output_type": "execute_result"
    }
   ],
   "source": [
    "mt.count()"
   ]
  },
  {
   "cell_type": "code",
   "execution_count": null,
   "metadata": {
    "collapsed": true
   },
   "outputs": [
    {
     "name": "stderr",
     "output_type": "stream",
     "text": [
      "2021-04-21 22:34:37 Hail: INFO: Coerced sorted dataset\n",
      "2021-04-21 22:47:55 Hail: INFO: wrote matrix table with 3084456838 rows and 1 column in 147 partitions to /net/archive/groups/plggneuromol/sportsmen-wgs/mts/B478.mt\n",
      "    Total size: 52.06 GiB\n",
      "    * Rows/entries: 52.06 GiB\n",
      "    * Columns: 16.00 B\n",
      "    * Globals: 11.00 B\n",
      "    * Smallest partition: 19979803 rows (351.18 MiB)\n",
      "    * Largest partition:  27959649 rows (456.71 MiB)\n",
      "2021-04-21 23:19:21 Hail: INFO: wrote matrix table with 3084456838 rows and 1 column in 147 partitions to /net/archive/groups/plggneuromol/sportsmen-wgs/mts/B478-filtered.mt\n",
      "    Total size: 52.06 GiB\n",
      "    * Rows/entries: 52.06 GiB\n",
      "    * Columns: 16.00 B\n",
      "    * Globals: 11.00 B\n",
      "    * Smallest partition: 19979803 rows (351.18 MiB)\n",
      "    * Largest partition:  27959649 rows (456.71 MiB)\n",
      "2021-04-21 23:39:38 Hail: INFO: Coerced sorted dataset\n",
      "2021-04-21 23:52:16 Hail: INFO: wrote matrix table with 3084402782 rows and 1 column in 141 partitions to /net/archive/groups/plggneuromol/sportsmen-wgs/mts/B507.mt\n",
      "    Total size: 51.64 GiB\n",
      "    * Rows/entries: 51.64 GiB\n",
      "    * Columns: 16.00 B\n",
      "    * Globals: 11.00 B\n",
      "    * Smallest partition: 20232025 rows (350.84 MiB)\n",
      "    * Largest partition:  27979135 rows (456.98 MiB)\n",
      "2021-04-22 00:23:21 Hail: INFO: wrote matrix table with 3084402782 rows and 1 column in 141 partitions to /net/archive/groups/plggneuromol/sportsmen-wgs/mts/B507-filtered.mt\n",
      "    Total size: 51.64 GiB\n",
      "    * Rows/entries: 51.64 GiB\n",
      "    * Columns: 16.00 B\n",
      "    * Globals: 11.00 B\n",
      "    * Smallest partition: 20232025 rows (350.84 MiB)\n",
      "    * Largest partition:  27979135 rows (456.98 MiB)\n",
      "2021-04-22 00:43:43 Hail: INFO: Coerced sorted dataset\n",
      "2021-04-22 00:57:03 Hail: INFO: wrote matrix table with 3084455401 rows and 1 column in 146 partitions to /net/archive/groups/plggneuromol/sportsmen-wgs/mts/B508.mt\n",
      "    Total size: 52.01 GiB\n",
      "    * Rows/entries: 52.01 GiB\n",
      "    * Columns: 16.00 B\n",
      "    * Globals: 11.00 B\n",
      "    * Smallest partition: 19897481 rows (350.25 MiB)\n",
      "    * Largest partition:  27970995 rows (456.86 MiB)\n"
     ]
    }
   ],
   "source": [
    "for f in ['B506','B478', 'B507', 'B508', 'B509', 'B522', 'B523']:\n",
    "    hl.import_vcf('/net/archive/groups/plggneuromol/sportsmen-wgs/vcf/vcf-corrected/'+f+'.vcf.gz',\n",
    "                  reference_genome='GRCh38',\n",
    "                  force_bgz = True, array_elements_required = False).write('/net/archive/groups/plggneuromol/sportsmen-wgs/mts/'+f+'.mt')\n"
   ]
  },
  {
   "cell_type": "code",
   "execution_count": null,
   "metadata": {},
   "outputs": [],
   "source": [
    "for f in ['B506','B478', 'B507', 'B508', 'B509', 'B522', 'B523']:\n",
    "    sample = hl.read_matrix_table('/net/archive/groups/plggneuromol/sportsmen-wgs/mts/'+f+'.mt')\n",
    "    sample = sample.filter_rows(hl.is_defined(mt.index_rows(sample.row_key)), keep = True)\n",
    "    sample.write('/net/archive/groups/plggneuromol/sportsmen-wgs/mts/'+f+'-filtered.mt')"
   ]
  },
  {
   "cell_type": "code",
   "execution_count": 9,
   "metadata": {},
   "outputs": [],
   "source": [
    "mts = []\n",
    "\n",
    "for f in ['B506','B478', 'B507', 'B508', 'B509', 'B522', 'B523']:\n",
    "    mts.append(hl.read_matrix_table('/net/archive/groups/plggneuromol/sportsmen-wgs/mts/'+f+'-filtered.mt'))"
   ]
  },
  {
   "cell_type": "code",
   "execution_count": 59,
   "metadata": {},
   "outputs": [
    {
     "name": "stderr",
     "output_type": "stream",
     "text": [
      "2021-04-23 14:04:32 Hail: INFO: wrote matrix table with 9824949 rows and 148 columns in 2199 partitions to /net/archive/groups/plggneuromol/sportsmen-wgs/mts/to-delete0.mt\n",
      "    Total size: 10.29 GiB\n",
      "    * Rows/entries: 10.29 GiB\n",
      "    * Columns: 673.00 B\n",
      "    * Globals: 11.00 B\n",
      "    * Smallest partition: 0 rows (20.00 B)\n",
      "    * Largest partition:  13167 rows (10.49 MiB)\n",
      "2021-04-23 14:07:23 Hail: INFO: wrote matrix table with 9824949 rows and 149 columns in 2345 partitions to /net/archive/groups/plggneuromol/sportsmen-wgs/mts/to-delete1.mt\n",
      "    Total size: 10.31 GiB\n",
      "    * Rows/entries: 10.31 GiB\n",
      "    * Columns: 677.00 B\n",
      "    * Globals: 11.00 B\n",
      "    * Smallest partition: 0 rows (20.00 B)\n",
      "    * Largest partition:  13167 rows (10.49 MiB)\n",
      "2021-04-23 14:11:35 Hail: INFO: wrote matrix table with 9824949 rows and 150 columns in 2485 partitions to /net/archive/groups/plggneuromol/sportsmen-wgs/mts/to-delete2.mt\n",
      "    Total size: 10.33 GiB\n",
      "    * Rows/entries: 10.33 GiB\n",
      "    * Columns: 682.00 B\n",
      "    * Globals: 11.00 B\n",
      "    * Smallest partition: 0 rows (20.00 B)\n",
      "    * Largest partition:  13167 rows (10.53 MiB)\n",
      "2021-04-23 14:18:13 Hail: INFO: wrote matrix table with 9824949 rows and 151 columns in 2630 partitions to /net/archive/groups/plggneuromol/sportsmen-wgs/mts/to-delete3.mt\n",
      "    Total size: 10.35 GiB\n",
      "    * Rows/entries: 10.35 GiB\n",
      "    * Columns: 686.00 B\n",
      "    * Globals: 11.00 B\n",
      "    * Smallest partition: 0 rows (20.00 B)\n",
      "    * Largest partition:  13167 rows (10.56 MiB)\n"
     ]
    },
    {
     "ename": "FatalError",
     "evalue": "SparkException: Job aborted due to stage failure: Task 1116 in stage 14.0 failed 4 times, most recent failure: Lost task 1116.3 in stage 14.0 (TID 25871, 172.20.72.10, executor 2): ExecutorLostFailure (executor 2 exited caused by one of the running tasks) Reason: Remote RPC client disassociated. Likely due to containers exceeding thresholds, or network issues. Check driver logs for WARN messages.\nDriver stacktrace:\n\nJava stack trace:\norg.apache.spark.SparkException: Job aborted due to stage failure: Task 1116 in stage 14.0 failed 4 times, most recent failure: Lost task 1116.3 in stage 14.0 (TID 25871, 172.20.72.10, executor 2): ExecutorLostFailure (executor 2 exited caused by one of the running tasks) Reason: Remote RPC client disassociated. Likely due to containers exceeding thresholds, or network issues. Check driver logs for WARN messages.\nDriver stacktrace:\n\tat org.apache.spark.scheduler.DAGScheduler.org$apache$spark$scheduler$DAGScheduler$$failJobAndIndependentStages(DAGScheduler.scala:1889)\n\tat org.apache.spark.scheduler.DAGScheduler$$anonfun$abortStage$1.apply(DAGScheduler.scala:1877)\n\tat org.apache.spark.scheduler.DAGScheduler$$anonfun$abortStage$1.apply(DAGScheduler.scala:1876)\n\tat scala.collection.mutable.ResizableArray$class.foreach(ResizableArray.scala:59)\n\tat scala.collection.mutable.ArrayBuffer.foreach(ArrayBuffer.scala:48)\n\tat org.apache.spark.scheduler.DAGScheduler.abortStage(DAGScheduler.scala:1876)\n\tat org.apache.spark.scheduler.DAGScheduler$$anonfun$handleTaskSetFailed$1.apply(DAGScheduler.scala:926)\n\tat org.apache.spark.scheduler.DAGScheduler$$anonfun$handleTaskSetFailed$1.apply(DAGScheduler.scala:926)\n\tat scala.Option.foreach(Option.scala:257)\n\tat org.apache.spark.scheduler.DAGScheduler.handleTaskSetFailed(DAGScheduler.scala:926)\n\tat org.apache.spark.scheduler.DAGSchedulerEventProcessLoop.doOnReceive(DAGScheduler.scala:2110)\n\tat org.apache.spark.scheduler.DAGSchedulerEventProcessLoop.onReceive(DAGScheduler.scala:2059)\n\tat org.apache.spark.scheduler.DAGSchedulerEventProcessLoop.onReceive(DAGScheduler.scala:2048)\n\tat org.apache.spark.util.EventLoop$$anon$1.run(EventLoop.scala:49)\n\tat org.apache.spark.scheduler.DAGScheduler.runJob(DAGScheduler.scala:737)\n\tat org.apache.spark.SparkContext.runJob(SparkContext.scala:2061)\n\tat org.apache.spark.SparkContext.runJob(SparkContext.scala:2082)\n\tat org.apache.spark.SparkContext.runJob(SparkContext.scala:2101)\n\tat org.apache.spark.SparkContext.runJob(SparkContext.scala:2126)\n\tat org.apache.spark.rdd.RDD$$anonfun$collect$1.apply(RDD.scala:945)\n\tat org.apache.spark.rdd.RDDOperationScope$.withScope(RDDOperationScope.scala:151)\n\tat org.apache.spark.rdd.RDDOperationScope$.withScope(RDDOperationScope.scala:112)\n\tat org.apache.spark.rdd.RDD.withScope(RDD.scala:363)\n\tat org.apache.spark.rdd.RDD.collect(RDD.scala:944)\n\tat is.hail.sparkextras.ContextRDD.collect(ContextRDD.scala:176)\n\tat is.hail.rvd.RVD.writeRowsSplit(RVD.scala:953)\n\tat is.hail.expr.ir.MatrixValue.write(MatrixValue.scala:246)\n\tat is.hail.expr.ir.MatrixNativeWriter.apply(MatrixWriter.scala:61)\n\tat is.hail.expr.ir.WrappedMatrixWriter.apply(MatrixWriter.scala:40)\n\tat is.hail.expr.ir.Interpret$.run(Interpret.scala:825)\n\tat is.hail.expr.ir.Interpret$.alreadyLowered(Interpret.scala:53)\n\tat is.hail.expr.ir.InterpretNonCompilable$.interpretAndCoerce$1(InterpretNonCompilable.scala:16)\n\tat is.hail.expr.ir.InterpretNonCompilable$.is$hail$expr$ir$InterpretNonCompilable$$rewrite$1(InterpretNonCompilable.scala:53)\n\tat is.hail.expr.ir.InterpretNonCompilable$.apply(InterpretNonCompilable.scala:58)\n\tat is.hail.expr.ir.lowering.InterpretNonCompilablePass$.transform(LoweringPass.scala:67)\n\tat is.hail.expr.ir.lowering.LoweringPass$$anonfun$apply$3$$anonfun$1.apply(LoweringPass.scala:15)\n\tat is.hail.expr.ir.lowering.LoweringPass$$anonfun$apply$3$$anonfun$1.apply(LoweringPass.scala:15)\n\tat is.hail.utils.ExecutionTimer.time(ExecutionTimer.scala:81)\n\tat is.hail.expr.ir.lowering.LoweringPass$$anonfun$apply$3.apply(LoweringPass.scala:15)\n\tat is.hail.expr.ir.lowering.LoweringPass$$anonfun$apply$3.apply(LoweringPass.scala:13)\n\tat is.hail.utils.ExecutionTimer.time(ExecutionTimer.scala:81)\n\tat is.hail.expr.ir.lowering.LoweringPass$class.apply(LoweringPass.scala:13)\n\tat is.hail.expr.ir.lowering.InterpretNonCompilablePass$.apply(LoweringPass.scala:62)\n\tat is.hail.expr.ir.lowering.LoweringPipeline$$anonfun$apply$1.apply(LoweringPipeline.scala:14)\n\tat is.hail.expr.ir.lowering.LoweringPipeline$$anonfun$apply$1.apply(LoweringPipeline.scala:12)\n\tat scala.collection.IndexedSeqOptimized$class.foreach(IndexedSeqOptimized.scala:33)\n\tat scala.collection.mutable.WrappedArray.foreach(WrappedArray.scala:35)\n\tat is.hail.expr.ir.lowering.LoweringPipeline.apply(LoweringPipeline.scala:12)\n\tat is.hail.expr.ir.CompileAndEvaluate$._apply(CompileAndEvaluate.scala:28)\n\tat is.hail.backend.spark.SparkBackend.is$hail$backend$spark$SparkBackend$$_execute(SparkBackend.scala:360)\n\tat is.hail.backend.spark.SparkBackend$$anonfun$execute$1.apply(SparkBackend.scala:344)\n\tat is.hail.backend.spark.SparkBackend$$anonfun$execute$1.apply(SparkBackend.scala:341)\n\tat is.hail.expr.ir.ExecuteContext$$anonfun$scoped$1.apply(ExecuteContext.scala:25)\n\tat is.hail.expr.ir.ExecuteContext$$anonfun$scoped$1.apply(ExecuteContext.scala:23)\n\tat is.hail.utils.package$.using(package.scala:618)\n\tat is.hail.annotations.RegionPool$.scoped(RegionPool.scala:13)\n\tat is.hail.expr.ir.ExecuteContext$.scoped(ExecuteContext.scala:23)\n\tat is.hail.backend.spark.SparkBackend.withExecuteContext(SparkBackend.scala:254)\n\tat is.hail.backend.spark.SparkBackend.execute(SparkBackend.scala:341)\n\tat is.hail.backend.spark.SparkBackend$$anonfun$7.apply(SparkBackend.scala:385)\n\tat is.hail.backend.spark.SparkBackend$$anonfun$7.apply(SparkBackend.scala:383)\n\tat is.hail.utils.ExecutionTimer$.time(ExecutionTimer.scala:52)\n\tat is.hail.backend.spark.SparkBackend.executeJSON(SparkBackend.scala:383)\n\tat sun.reflect.GeneratedMethodAccessor55.invoke(Unknown Source)\n\tat sun.reflect.DelegatingMethodAccessorImpl.invoke(DelegatingMethodAccessorImpl.java:43)\n\tat java.lang.reflect.Method.invoke(Method.java:498)\n\tat py4j.reflection.MethodInvoker.invoke(MethodInvoker.java:244)\n\tat py4j.reflection.ReflectionEngine.invoke(ReflectionEngine.java:357)\n\tat py4j.Gateway.invoke(Gateway.java:282)\n\tat py4j.commands.AbstractCommand.invokeMethod(AbstractCommand.java:132)\n\tat py4j.commands.CallCommand.execute(CallCommand.java:79)\n\tat py4j.GatewayConnection.run(GatewayConnection.java:238)\n\tat java.lang.Thread.run(Thread.java:748)\n\n\n\nHail version: 0.2.62-84fa81b9ea3d\nError summary: SparkException: Job aborted due to stage failure: Task 1116 in stage 14.0 failed 4 times, most recent failure: Lost task 1116.3 in stage 14.0 (TID 25871, 172.20.72.10, executor 2): ExecutorLostFailure (executor 2 exited caused by one of the running tasks) Reason: Remote RPC client disassociated. Likely due to containers exceeding thresholds, or network issues. Check driver logs for WARN messages.\nDriver stacktrace:",
     "output_type": "error",
     "traceback": [
      "\u001b[0;31m---------------------------------------------------------------------------\u001b[0m",
      "\u001b[0;31mFatalError\u001b[0m                                Traceback (most recent call last)",
      "\u001b[0;32m<ipython-input-59-fc60e540931c>\u001b[0m in \u001b[0;36m<module>\u001b[0;34m()\u001b[0m\n\u001b[1;32m      3\u001b[0m \u001b[0;32mfor\u001b[0m \u001b[0midx\u001b[0m\u001b[0;34m,\u001b[0m \u001b[0mf\u001b[0m \u001b[0;32min\u001b[0m \u001b[0menumerate\u001b[0m\u001b[0;34m(\u001b[0m\u001b[0mmts\u001b[0m\u001b[0;34m)\u001b[0m\u001b[0;34m:\u001b[0m\u001b[0;34m\u001b[0m\u001b[0m\n\u001b[1;32m      4\u001b[0m     \u001b[0mfinal\u001b[0m \u001b[0;34m=\u001b[0m \u001b[0mfinal\u001b[0m\u001b[0;34m.\u001b[0m\u001b[0munion_cols\u001b[0m\u001b[0;34m(\u001b[0m\u001b[0mf\u001b[0m\u001b[0;34m,\u001b[0m \u001b[0mrow_join_type\u001b[0m \u001b[0;34m=\u001b[0m\u001b[0;34m'outer'\u001b[0m\u001b[0;34m)\u001b[0m\u001b[0;34m\u001b[0m\u001b[0m\n\u001b[0;32m----> 5\u001b[0;31m     \u001b[0mfinal\u001b[0m\u001b[0;34m.\u001b[0m\u001b[0mcheckpoint\u001b[0m\u001b[0;34m(\u001b[0m\u001b[0;34m'/net/archive/groups/plggneuromol/sportsmen-wgs/mts/to-delete'\u001b[0m\u001b[0;34m+\u001b[0m\u001b[0mstr\u001b[0m\u001b[0;34m(\u001b[0m\u001b[0midx\u001b[0m\u001b[0;34m)\u001b[0m\u001b[0;34m+\u001b[0m\u001b[0;34m'.mt'\u001b[0m\u001b[0;34m)\u001b[0m\u001b[0;34m\u001b[0m\u001b[0m\n\u001b[0m",
      "\u001b[0;32m<decorator-gen-1236>\u001b[0m in \u001b[0;36mcheckpoint\u001b[0;34m(self, output, overwrite, stage_locally, _codec_spec, _read_if_exists, _intervals, _filter_intervals, _drop_cols, _drop_rows)\u001b[0m\n",
      "\u001b[0;32m/net/software/local/python/3.6.5/lib/python3.6/site-packages/hail/typecheck/check.py\u001b[0m in \u001b[0;36mwrapper\u001b[0;34m(__original_func, *args, **kwargs)\u001b[0m\n\u001b[1;32m    575\u001b[0m     \u001b[0;32mdef\u001b[0m \u001b[0mwrapper\u001b[0m\u001b[0;34m(\u001b[0m\u001b[0m__original_func\u001b[0m\u001b[0;34m,\u001b[0m \u001b[0;34m*\u001b[0m\u001b[0margs\u001b[0m\u001b[0;34m,\u001b[0m \u001b[0;34m**\u001b[0m\u001b[0mkwargs\u001b[0m\u001b[0;34m)\u001b[0m\u001b[0;34m:\u001b[0m\u001b[0;34m\u001b[0m\u001b[0m\n\u001b[1;32m    576\u001b[0m         \u001b[0margs_\u001b[0m\u001b[0;34m,\u001b[0m \u001b[0mkwargs_\u001b[0m \u001b[0;34m=\u001b[0m \u001b[0mcheck_all\u001b[0m\u001b[0;34m(\u001b[0m\u001b[0m__original_func\u001b[0m\u001b[0;34m,\u001b[0m \u001b[0margs\u001b[0m\u001b[0;34m,\u001b[0m \u001b[0mkwargs\u001b[0m\u001b[0;34m,\u001b[0m \u001b[0mcheckers\u001b[0m\u001b[0;34m,\u001b[0m \u001b[0mis_method\u001b[0m\u001b[0;34m=\u001b[0m\u001b[0mis_method\u001b[0m\u001b[0;34m)\u001b[0m\u001b[0;34m\u001b[0m\u001b[0m\n\u001b[0;32m--> 577\u001b[0;31m         \u001b[0;32mreturn\u001b[0m \u001b[0m__original_func\u001b[0m\u001b[0;34m(\u001b[0m\u001b[0;34m*\u001b[0m\u001b[0margs_\u001b[0m\u001b[0;34m,\u001b[0m \u001b[0;34m**\u001b[0m\u001b[0mkwargs_\u001b[0m\u001b[0;34m)\u001b[0m\u001b[0;34m\u001b[0m\u001b[0m\n\u001b[0m\u001b[1;32m    578\u001b[0m \u001b[0;34m\u001b[0m\u001b[0m\n\u001b[1;32m    579\u001b[0m     \u001b[0;32mreturn\u001b[0m \u001b[0mwrapper\u001b[0m\u001b[0;34m\u001b[0m\u001b[0m\n",
      "\u001b[0;32m/net/software/local/python/3.6.5/lib/python3.6/site-packages/hail/matrixtable.py\u001b[0m in \u001b[0;36mcheckpoint\u001b[0;34m(self, output, overwrite, stage_locally, _codec_spec, _read_if_exists, _intervals, _filter_intervals, _drop_cols, _drop_rows)\u001b[0m\n\u001b[1;32m   2485\u001b[0m }\"\"\"\n\u001b[1;32m   2486\u001b[0m         \u001b[0;32mif\u001b[0m \u001b[0;32mnot\u001b[0m \u001b[0m_read_if_exists\u001b[0m \u001b[0;32mor\u001b[0m \u001b[0;32mnot\u001b[0m \u001b[0mhl\u001b[0m\u001b[0;34m.\u001b[0m\u001b[0mhadoop_exists\u001b[0m\u001b[0;34m(\u001b[0m\u001b[0;34mf'{output}/_SUCCESS'\u001b[0m\u001b[0;34m)\u001b[0m\u001b[0;34m:\u001b[0m\u001b[0;34m\u001b[0m\u001b[0m\n\u001b[0;32m-> 2487\u001b[0;31m             \u001b[0mself\u001b[0m\u001b[0;34m.\u001b[0m\u001b[0mwrite\u001b[0m\u001b[0;34m(\u001b[0m\u001b[0moutput\u001b[0m\u001b[0;34m=\u001b[0m\u001b[0moutput\u001b[0m\u001b[0;34m,\u001b[0m \u001b[0moverwrite\u001b[0m\u001b[0;34m=\u001b[0m\u001b[0moverwrite\u001b[0m\u001b[0;34m,\u001b[0m \u001b[0mstage_locally\u001b[0m\u001b[0;34m=\u001b[0m\u001b[0mstage_locally\u001b[0m\u001b[0;34m,\u001b[0m \u001b[0m_codec_spec\u001b[0m\u001b[0;34m=\u001b[0m\u001b[0m_codec_spec\u001b[0m\u001b[0;34m)\u001b[0m\u001b[0;34m\u001b[0m\u001b[0m\n\u001b[0m\u001b[1;32m   2488\u001b[0m         return hl.read_matrix_table(output, _intervals=_intervals, _filter_intervals=_filter_intervals,\n\u001b[1;32m   2489\u001b[0m                                     _drop_cols=_drop_cols, _drop_rows=_drop_rows)\n",
      "\u001b[0;32m<decorator-gen-1238>\u001b[0m in \u001b[0;36mwrite\u001b[0;34m(self, output, overwrite, stage_locally, _codec_spec, _partitions)\u001b[0m\n",
      "\u001b[0;32m/net/software/local/python/3.6.5/lib/python3.6/site-packages/hail/typecheck/check.py\u001b[0m in \u001b[0;36mwrapper\u001b[0;34m(__original_func, *args, **kwargs)\u001b[0m\n\u001b[1;32m    575\u001b[0m     \u001b[0;32mdef\u001b[0m \u001b[0mwrapper\u001b[0m\u001b[0;34m(\u001b[0m\u001b[0m__original_func\u001b[0m\u001b[0;34m,\u001b[0m \u001b[0;34m*\u001b[0m\u001b[0margs\u001b[0m\u001b[0;34m,\u001b[0m \u001b[0;34m**\u001b[0m\u001b[0mkwargs\u001b[0m\u001b[0;34m)\u001b[0m\u001b[0;34m:\u001b[0m\u001b[0;34m\u001b[0m\u001b[0m\n\u001b[1;32m    576\u001b[0m         \u001b[0margs_\u001b[0m\u001b[0;34m,\u001b[0m \u001b[0mkwargs_\u001b[0m \u001b[0;34m=\u001b[0m \u001b[0mcheck_all\u001b[0m\u001b[0;34m(\u001b[0m\u001b[0m__original_func\u001b[0m\u001b[0;34m,\u001b[0m \u001b[0margs\u001b[0m\u001b[0;34m,\u001b[0m \u001b[0mkwargs\u001b[0m\u001b[0;34m,\u001b[0m \u001b[0mcheckers\u001b[0m\u001b[0;34m,\u001b[0m \u001b[0mis_method\u001b[0m\u001b[0;34m=\u001b[0m\u001b[0mis_method\u001b[0m\u001b[0;34m)\u001b[0m\u001b[0;34m\u001b[0m\u001b[0m\n\u001b[0;32m--> 577\u001b[0;31m         \u001b[0;32mreturn\u001b[0m \u001b[0m__original_func\u001b[0m\u001b[0;34m(\u001b[0m\u001b[0;34m*\u001b[0m\u001b[0margs_\u001b[0m\u001b[0;34m,\u001b[0m \u001b[0;34m**\u001b[0m\u001b[0mkwargs_\u001b[0m\u001b[0;34m)\u001b[0m\u001b[0;34m\u001b[0m\u001b[0m\n\u001b[0m\u001b[1;32m    578\u001b[0m \u001b[0;34m\u001b[0m\u001b[0m\n\u001b[1;32m    579\u001b[0m     \u001b[0;32mreturn\u001b[0m \u001b[0mwrapper\u001b[0m\u001b[0;34m\u001b[0m\u001b[0m\n",
      "\u001b[0;32m/net/software/local/python/3.6.5/lib/python3.6/site-packages/hail/matrixtable.py\u001b[0m in \u001b[0;36mwrite\u001b[0;34m(self, output, overwrite, stage_locally, _codec_spec, _partitions)\u001b[0m\n\u001b[1;32m   2526\u001b[0m \u001b[0;34m\u001b[0m\u001b[0m\n\u001b[1;32m   2527\u001b[0m         \u001b[0mwriter\u001b[0m \u001b[0;34m=\u001b[0m \u001b[0mir\u001b[0m\u001b[0;34m.\u001b[0m\u001b[0mMatrixNativeWriter\u001b[0m\u001b[0;34m(\u001b[0m\u001b[0moutput\u001b[0m\u001b[0;34m,\u001b[0m \u001b[0moverwrite\u001b[0m\u001b[0;34m,\u001b[0m \u001b[0mstage_locally\u001b[0m\u001b[0;34m,\u001b[0m \u001b[0m_codec_spec\u001b[0m\u001b[0;34m,\u001b[0m \u001b[0m_partitions\u001b[0m\u001b[0;34m,\u001b[0m \u001b[0m_partitions_type\u001b[0m\u001b[0;34m)\u001b[0m\u001b[0;34m\u001b[0m\u001b[0m\n\u001b[0;32m-> 2528\u001b[0;31m         \u001b[0mEnv\u001b[0m\u001b[0;34m.\u001b[0m\u001b[0mbackend\u001b[0m\u001b[0;34m(\u001b[0m\u001b[0;34m)\u001b[0m\u001b[0;34m.\u001b[0m\u001b[0mexecute\u001b[0m\u001b[0;34m(\u001b[0m\u001b[0mir\u001b[0m\u001b[0;34m.\u001b[0m\u001b[0mMatrixWrite\u001b[0m\u001b[0;34m(\u001b[0m\u001b[0mself\u001b[0m\u001b[0;34m.\u001b[0m\u001b[0m_mir\u001b[0m\u001b[0;34m,\u001b[0m \u001b[0mwriter\u001b[0m\u001b[0;34m)\u001b[0m\u001b[0;34m)\u001b[0m\u001b[0;34m\u001b[0m\u001b[0m\n\u001b[0m\u001b[1;32m   2529\u001b[0m \u001b[0;34m\u001b[0m\u001b[0m\n\u001b[1;32m   2530\u001b[0m     \u001b[0;32mclass\u001b[0m \u001b[0m_Show\u001b[0m\u001b[0;34m:\u001b[0m\u001b[0;34m\u001b[0m\u001b[0m\n",
      "\u001b[0;32m/net/software/local/python/3.6.5/lib/python3.6/site-packages/hail/backend/py4j_backend.py\u001b[0m in \u001b[0;36mexecute\u001b[0;34m(self, ir, timed)\u001b[0m\n\u001b[1;32m     96\u001b[0m                 \u001b[0;32mraise\u001b[0m \u001b[0mHailUserError\u001b[0m\u001b[0;34m(\u001b[0m\u001b[0mmessage_and_trace\u001b[0m\u001b[0;34m)\u001b[0m \u001b[0;32mfrom\u001b[0m \u001b[0;32mNone\u001b[0m\u001b[0;34m\u001b[0m\u001b[0m\n\u001b[1;32m     97\u001b[0m \u001b[0;34m\u001b[0m\u001b[0m\n\u001b[0;32m---> 98\u001b[0;31m             \u001b[0;32mraise\u001b[0m \u001b[0me\u001b[0m\u001b[0;34m\u001b[0m\u001b[0m\n\u001b[0m",
      "\u001b[0;32m/net/software/local/python/3.6.5/lib/python3.6/site-packages/hail/backend/py4j_backend.py\u001b[0m in \u001b[0;36mexecute\u001b[0;34m(self, ir, timed)\u001b[0m\n\u001b[1;32m     72\u001b[0m         \u001b[0;31m# print(self._hail_package.expr.ir.Pretty.apply(jir, True, -1))\u001b[0m\u001b[0;34m\u001b[0m\u001b[0;34m\u001b[0m\u001b[0m\n\u001b[1;32m     73\u001b[0m         \u001b[0;32mtry\u001b[0m\u001b[0;34m:\u001b[0m\u001b[0;34m\u001b[0m\u001b[0m\n\u001b[0;32m---> 74\u001b[0;31m             \u001b[0mresult\u001b[0m \u001b[0;34m=\u001b[0m \u001b[0mjson\u001b[0m\u001b[0;34m.\u001b[0m\u001b[0mloads\u001b[0m\u001b[0;34m(\u001b[0m\u001b[0mself\u001b[0m\u001b[0;34m.\u001b[0m\u001b[0m_jhc\u001b[0m\u001b[0;34m.\u001b[0m\u001b[0mbackend\u001b[0m\u001b[0;34m(\u001b[0m\u001b[0;34m)\u001b[0m\u001b[0;34m.\u001b[0m\u001b[0mexecuteJSON\u001b[0m\u001b[0;34m(\u001b[0m\u001b[0mjir\u001b[0m\u001b[0;34m)\u001b[0m\u001b[0;34m)\u001b[0m\u001b[0;34m\u001b[0m\u001b[0m\n\u001b[0m\u001b[1;32m     75\u001b[0m             \u001b[0mvalue\u001b[0m \u001b[0;34m=\u001b[0m \u001b[0mir\u001b[0m\u001b[0;34m.\u001b[0m\u001b[0mtyp\u001b[0m\u001b[0;34m.\u001b[0m\u001b[0m_from_json\u001b[0m\u001b[0;34m(\u001b[0m\u001b[0mresult\u001b[0m\u001b[0;34m[\u001b[0m\u001b[0;34m'value'\u001b[0m\u001b[0;34m]\u001b[0m\u001b[0;34m)\u001b[0m\u001b[0;34m\u001b[0m\u001b[0m\n\u001b[1;32m     76\u001b[0m             \u001b[0mtimings\u001b[0m \u001b[0;34m=\u001b[0m \u001b[0mresult\u001b[0m\u001b[0;34m[\u001b[0m\u001b[0;34m'timings'\u001b[0m\u001b[0;34m]\u001b[0m\u001b[0;34m\u001b[0m\u001b[0m\n",
      "\u001b[0;32m/net/software/local/python/3.6.5/lib/python3.6/site-packages/py4j/java_gateway.py\u001b[0m in \u001b[0;36m__call__\u001b[0;34m(self, *args)\u001b[0m\n\u001b[1;32m   1255\u001b[0m         \u001b[0manswer\u001b[0m \u001b[0;34m=\u001b[0m \u001b[0mself\u001b[0m\u001b[0;34m.\u001b[0m\u001b[0mgateway_client\u001b[0m\u001b[0;34m.\u001b[0m\u001b[0msend_command\u001b[0m\u001b[0;34m(\u001b[0m\u001b[0mcommand\u001b[0m\u001b[0;34m)\u001b[0m\u001b[0;34m\u001b[0m\u001b[0m\n\u001b[1;32m   1256\u001b[0m         return_value = get_return_value(\n\u001b[0;32m-> 1257\u001b[0;31m             answer, self.gateway_client, self.target_id, self.name)\n\u001b[0m\u001b[1;32m   1258\u001b[0m \u001b[0;34m\u001b[0m\u001b[0m\n\u001b[1;32m   1259\u001b[0m         \u001b[0;32mfor\u001b[0m \u001b[0mtemp_arg\u001b[0m \u001b[0;32min\u001b[0m \u001b[0mtemp_args\u001b[0m\u001b[0;34m:\u001b[0m\u001b[0;34m\u001b[0m\u001b[0m\n",
      "\u001b[0;32m/net/software/local/python/3.6.5/lib/python3.6/site-packages/hail/backend/py4j_backend.py\u001b[0m in \u001b[0;36mdeco\u001b[0;34m(*args, **kwargs)\u001b[0m\n\u001b[1;32m     30\u001b[0m                 raise FatalError('%s\\n\\nJava stack trace:\\n%s\\n'\n\u001b[1;32m     31\u001b[0m                                  \u001b[0;34m'Hail version: %s\\n'\u001b[0m\u001b[0;34m\u001b[0m\u001b[0m\n\u001b[0;32m---> 32\u001b[0;31m                                  'Error summary: %s' % (deepest, full, hail.__version__, deepest), error_id) from None\n\u001b[0m\u001b[1;32m     33\u001b[0m         \u001b[0;32mexcept\u001b[0m \u001b[0mpyspark\u001b[0m\u001b[0;34m.\u001b[0m\u001b[0msql\u001b[0m\u001b[0;34m.\u001b[0m\u001b[0mutils\u001b[0m\u001b[0;34m.\u001b[0m\u001b[0mCapturedException\u001b[0m \u001b[0;32mas\u001b[0m \u001b[0me\u001b[0m\u001b[0;34m:\u001b[0m\u001b[0;34m\u001b[0m\u001b[0m\n\u001b[1;32m     34\u001b[0m             raise FatalError('%s\\n\\nJava stack trace:\\n%s\\n'\n",
      "\u001b[0;31mFatalError\u001b[0m: SparkException: Job aborted due to stage failure: Task 1116 in stage 14.0 failed 4 times, most recent failure: Lost task 1116.3 in stage 14.0 (TID 25871, 172.20.72.10, executor 2): ExecutorLostFailure (executor 2 exited caused by one of the running tasks) Reason: Remote RPC client disassociated. Likely due to containers exceeding thresholds, or network issues. Check driver logs for WARN messages.\nDriver stacktrace:\n\nJava stack trace:\norg.apache.spark.SparkException: Job aborted due to stage failure: Task 1116 in stage 14.0 failed 4 times, most recent failure: Lost task 1116.3 in stage 14.0 (TID 25871, 172.20.72.10, executor 2): ExecutorLostFailure (executor 2 exited caused by one of the running tasks) Reason: Remote RPC client disassociated. Likely due to containers exceeding thresholds, or network issues. Check driver logs for WARN messages.\nDriver stacktrace:\n\tat org.apache.spark.scheduler.DAGScheduler.org$apache$spark$scheduler$DAGScheduler$$failJobAndIndependentStages(DAGScheduler.scala:1889)\n\tat org.apache.spark.scheduler.DAGScheduler$$anonfun$abortStage$1.apply(DAGScheduler.scala:1877)\n\tat org.apache.spark.scheduler.DAGScheduler$$anonfun$abortStage$1.apply(DAGScheduler.scala:1876)\n\tat scala.collection.mutable.ResizableArray$class.foreach(ResizableArray.scala:59)\n\tat scala.collection.mutable.ArrayBuffer.foreach(ArrayBuffer.scala:48)\n\tat org.apache.spark.scheduler.DAGScheduler.abortStage(DAGScheduler.scala:1876)\n\tat org.apache.spark.scheduler.DAGScheduler$$anonfun$handleTaskSetFailed$1.apply(DAGScheduler.scala:926)\n\tat org.apache.spark.scheduler.DAGScheduler$$anonfun$handleTaskSetFailed$1.apply(DAGScheduler.scala:926)\n\tat scala.Option.foreach(Option.scala:257)\n\tat org.apache.spark.scheduler.DAGScheduler.handleTaskSetFailed(DAGScheduler.scala:926)\n\tat org.apache.spark.scheduler.DAGSchedulerEventProcessLoop.doOnReceive(DAGScheduler.scala:2110)\n\tat org.apache.spark.scheduler.DAGSchedulerEventProcessLoop.onReceive(DAGScheduler.scala:2059)\n\tat org.apache.spark.scheduler.DAGSchedulerEventProcessLoop.onReceive(DAGScheduler.scala:2048)\n\tat org.apache.spark.util.EventLoop$$anon$1.run(EventLoop.scala:49)\n\tat org.apache.spark.scheduler.DAGScheduler.runJob(DAGScheduler.scala:737)\n\tat org.apache.spark.SparkContext.runJob(SparkContext.scala:2061)\n\tat org.apache.spark.SparkContext.runJob(SparkContext.scala:2082)\n\tat org.apache.spark.SparkContext.runJob(SparkContext.scala:2101)\n\tat org.apache.spark.SparkContext.runJob(SparkContext.scala:2126)\n\tat org.apache.spark.rdd.RDD$$anonfun$collect$1.apply(RDD.scala:945)\n\tat org.apache.spark.rdd.RDDOperationScope$.withScope(RDDOperationScope.scala:151)\n\tat org.apache.spark.rdd.RDDOperationScope$.withScope(RDDOperationScope.scala:112)\n\tat org.apache.spark.rdd.RDD.withScope(RDD.scala:363)\n\tat org.apache.spark.rdd.RDD.collect(RDD.scala:944)\n\tat is.hail.sparkextras.ContextRDD.collect(ContextRDD.scala:176)\n\tat is.hail.rvd.RVD.writeRowsSplit(RVD.scala:953)\n\tat is.hail.expr.ir.MatrixValue.write(MatrixValue.scala:246)\n\tat is.hail.expr.ir.MatrixNativeWriter.apply(MatrixWriter.scala:61)\n\tat is.hail.expr.ir.WrappedMatrixWriter.apply(MatrixWriter.scala:40)\n\tat is.hail.expr.ir.Interpret$.run(Interpret.scala:825)\n\tat is.hail.expr.ir.Interpret$.alreadyLowered(Interpret.scala:53)\n\tat is.hail.expr.ir.InterpretNonCompilable$.interpretAndCoerce$1(InterpretNonCompilable.scala:16)\n\tat is.hail.expr.ir.InterpretNonCompilable$.is$hail$expr$ir$InterpretNonCompilable$$rewrite$1(InterpretNonCompilable.scala:53)\n\tat is.hail.expr.ir.InterpretNonCompilable$.apply(InterpretNonCompilable.scala:58)\n\tat is.hail.expr.ir.lowering.InterpretNonCompilablePass$.transform(LoweringPass.scala:67)\n\tat is.hail.expr.ir.lowering.LoweringPass$$anonfun$apply$3$$anonfun$1.apply(LoweringPass.scala:15)\n\tat is.hail.expr.ir.lowering.LoweringPass$$anonfun$apply$3$$anonfun$1.apply(LoweringPass.scala:15)\n\tat is.hail.utils.ExecutionTimer.time(ExecutionTimer.scala:81)\n\tat is.hail.expr.ir.lowering.LoweringPass$$anonfun$apply$3.apply(LoweringPass.scala:15)\n\tat is.hail.expr.ir.lowering.LoweringPass$$anonfun$apply$3.apply(LoweringPass.scala:13)\n\tat is.hail.utils.ExecutionTimer.time(ExecutionTimer.scala:81)\n\tat is.hail.expr.ir.lowering.LoweringPass$class.apply(LoweringPass.scala:13)\n\tat is.hail.expr.ir.lowering.InterpretNonCompilablePass$.apply(LoweringPass.scala:62)\n\tat is.hail.expr.ir.lowering.LoweringPipeline$$anonfun$apply$1.apply(LoweringPipeline.scala:14)\n\tat is.hail.expr.ir.lowering.LoweringPipeline$$anonfun$apply$1.apply(LoweringPipeline.scala:12)\n\tat scala.collection.IndexedSeqOptimized$class.foreach(IndexedSeqOptimized.scala:33)\n\tat scala.collection.mutable.WrappedArray.foreach(WrappedArray.scala:35)\n\tat is.hail.expr.ir.lowering.LoweringPipeline.apply(LoweringPipeline.scala:12)\n\tat is.hail.expr.ir.CompileAndEvaluate$._apply(CompileAndEvaluate.scala:28)\n\tat is.hail.backend.spark.SparkBackend.is$hail$backend$spark$SparkBackend$$_execute(SparkBackend.scala:360)\n\tat is.hail.backend.spark.SparkBackend$$anonfun$execute$1.apply(SparkBackend.scala:344)\n\tat is.hail.backend.spark.SparkBackend$$anonfun$execute$1.apply(SparkBackend.scala:341)\n\tat is.hail.expr.ir.ExecuteContext$$anonfun$scoped$1.apply(ExecuteContext.scala:25)\n\tat is.hail.expr.ir.ExecuteContext$$anonfun$scoped$1.apply(ExecuteContext.scala:23)\n\tat is.hail.utils.package$.using(package.scala:618)\n\tat is.hail.annotations.RegionPool$.scoped(RegionPool.scala:13)\n\tat is.hail.expr.ir.ExecuteContext$.scoped(ExecuteContext.scala:23)\n\tat is.hail.backend.spark.SparkBackend.withExecuteContext(SparkBackend.scala:254)\n\tat is.hail.backend.spark.SparkBackend.execute(SparkBackend.scala:341)\n\tat is.hail.backend.spark.SparkBackend$$anonfun$7.apply(SparkBackend.scala:385)\n\tat is.hail.backend.spark.SparkBackend$$anonfun$7.apply(SparkBackend.scala:383)\n\tat is.hail.utils.ExecutionTimer$.time(ExecutionTimer.scala:52)\n\tat is.hail.backend.spark.SparkBackend.executeJSON(SparkBackend.scala:383)\n\tat sun.reflect.GeneratedMethodAccessor55.invoke(Unknown Source)\n\tat sun.reflect.DelegatingMethodAccessorImpl.invoke(DelegatingMethodAccessorImpl.java:43)\n\tat java.lang.reflect.Method.invoke(Method.java:498)\n\tat py4j.reflection.MethodInvoker.invoke(MethodInvoker.java:244)\n\tat py4j.reflection.ReflectionEngine.invoke(ReflectionEngine.java:357)\n\tat py4j.Gateway.invoke(Gateway.java:282)\n\tat py4j.commands.AbstractCommand.invokeMethod(AbstractCommand.java:132)\n\tat py4j.commands.CallCommand.execute(CallCommand.java:79)\n\tat py4j.GatewayConnection.run(GatewayConnection.java:238)\n\tat java.lang.Thread.run(Thread.java:748)\n\n\n\nHail version: 0.2.62-84fa81b9ea3d\nError summary: SparkException: Job aborted due to stage failure: Task 1116 in stage 14.0 failed 4 times, most recent failure: Lost task 1116.3 in stage 14.0 (TID 25871, 172.20.72.10, executor 2): ExecutorLostFailure (executor 2 exited caused by one of the running tasks) Reason: Remote RPC client disassociated. Likely due to containers exceeding thresholds, or network issues. Check driver logs for WARN messages.\nDriver stacktrace:"
     ]
    }
   ],
   "source": [
    "final = mt\n",
    "\n",
    "for idx, f in enumerate(mts):\n",
    "    final = final.union_cols(f, row_join_type ='outer')\n",
    "    final.checkpoint('/net/archive/groups/plggneuromol/sportsmen-wgs/mts/to-delete'+str(idx)+'.mt')"
   ]
  },
  {
   "cell_type": "code",
   "execution_count": 11,
   "metadata": {},
   "outputs": [],
   "source": [
    "final = hl.read_matrix_table('/net/archive/groups/plggneuromol/sportsmen-wgs/mts/to-delete3.mt')"
   ]
  },
  {
   "cell_type": "code",
   "execution_count": 5,
   "metadata": {},
   "outputs": [
    {
     "data": {
      "text/plain": [
       "(9824949, 151)"
      ]
     },
     "execution_count": 5,
     "metadata": {},
     "output_type": "execute_result"
    }
   ],
   "source": [
    "final.count()"
   ]
  },
  {
   "cell_type": "code",
   "execution_count": 12,
   "metadata": {},
   "outputs": [
    {
     "name": "stderr",
     "output_type": "stream",
     "text": [
      "2021-04-23 14:31:14 Hail: INFO: wrote matrix table with 9824949 rows and 152 columns in 2776 partitions to /net/archive/groups/plggneuromol/sportsmen-wgs/mts/to-delete4.mt\n",
      "    Total size: 10.37 GiB\n",
      "    * Rows/entries: 10.37 GiB\n",
      "    * Columns: 690.00 B\n",
      "    * Globals: 11.00 B\n",
      "    * Smallest partition: 0 rows (20.00 B)\n",
      "    * Largest partition:  13167 rows (10.59 MiB)\n",
      "2021-04-23 14:34:19 Hail: INFO: wrote matrix table with 9824949 rows and 153 columns in 2918 partitions to /net/archive/groups/plggneuromol/sportsmen-wgs/mts/to-delete5.mt\n",
      "    Total size: 10.39 GiB\n",
      "    * Rows/entries: 10.39 GiB\n",
      "    * Columns: 693.00 B\n",
      "    * Globals: 11.00 B\n",
      "    * Smallest partition: 0 rows (20.00 B)\n",
      "    * Largest partition:  13167 rows (10.59 MiB)\n",
      "2021-04-23 14:38:53 Hail: INFO: wrote matrix table with 9824949 rows and 154 columns in 3061 partitions to /net/archive/groups/plggneuromol/sportsmen-wgs/mts/to-delete6.mt\n",
      "    Total size: 10.41 GiB\n",
      "    * Rows/entries: 10.41 GiB\n",
      "    * Columns: 697.00 B\n",
      "    * Globals: 11.00 B\n",
      "    * Smallest partition: 0 rows (20.00 B)\n",
      "    * Largest partition:  13167 rows (10.62 MiB)\n"
     ]
    }
   ],
   "source": [
    "for idx, f in enumerate(mts[4:]):\n",
    "    final = final.union_cols(f, row_join_type ='outer')\n",
    "    final.checkpoint('/net/archive/groups/plggneuromol/sportsmen-wgs/mts/to-delete'+str(idx+4)+'.mt')"
   ]
  },
  {
   "cell_type": "code",
   "execution_count": 13,
   "metadata": {},
   "outputs": [
    {
     "data": {
      "text/plain": [
       "(9824949, 154)"
      ]
     },
     "execution_count": 13,
     "metadata": {},
     "output_type": "execute_result"
    }
   ],
   "source": [
    "final.count()"
   ]
  },
  {
   "cell_type": "code",
   "execution_count": 14,
   "metadata": {},
   "outputs": [
    {
     "name": "stderr",
     "output_type": "stream",
     "text": [
      "2021-04-23 14:44:19 Hail: INFO: wrote matrix table with 9824949 rows and 154 columns in 3061 partitions to /net/archive/groups/plggneuromol/sportsmen-wgs/mts/sportsmen-with-corrected-samples.mt\n",
      "    Total size: 8.14 GiB\n",
      "    * Rows/entries: 8.14 GiB\n",
      "    * Columns: 676.00 B\n",
      "    * Globals: 11.00 B\n",
      "    * Smallest partition: 0 rows (20.00 B)\n",
      "    * Largest partition:  13167 rows (8.55 MiB)\n"
     ]
    }
   ],
   "source": [
    "final.write('/net/archive/groups/plggneuromol/sportsmen-wgs/mts/sportsmen-with-corrected-samples.mt')"
   ]
  },
  {
   "cell_type": "code",
   "execution_count": 4,
   "metadata": {},
   "outputs": [],
   "source": [
    "mt = hl.read_matrix_table('/net/archive/groups/plggneuromol/sportsmen-wgs/mts/sportsmen-with-corrected-samples.mt')"
   ]
  },
  {
   "cell_type": "code",
   "execution_count": 5,
   "metadata": {},
   "outputs": [
    {
     "data": {
      "text/plain": [
       "(9824949, 154)"
      ]
     },
     "execution_count": 5,
     "metadata": {},
     "output_type": "execute_result"
    }
   ],
   "source": [
    "mt.count()"
   ]
  },
  {
   "cell_type": "code",
   "execution_count": 17,
   "metadata": {},
   "outputs": [],
   "source": [
    "mt_subset = mt_subset = mt.sample_rows(0.001)"
   ]
  },
  {
   "cell_type": "code",
   "execution_count": 18,
   "metadata": {},
   "outputs": [
    {
     "name": "stderr",
     "output_type": "stream",
     "text": [
      "2021-04-23 14:44:56 Hail: INFO: wrote matrix table with 9941 rows and 154 columns in 3061 partitions to /net/archive/groups/plggneuromol/sportsmen-wgs/mts/sportsmen-with-corrected-samples-subset.mt\n",
      "    Total size: 13.80 MiB\n",
      "    * Rows/entries: 13.80 MiB\n",
      "    * Columns: 697.00 B\n",
      "    * Globals: 11.00 B\n",
      "    * Smallest partition: 0 rows (20.00 B)\n",
      "    * Largest partition:  15 rows (20.72 KiB)\n"
     ]
    },
    {
     "data": {
      "text/plain": [
       "<hail.matrixtable.MatrixTable at 0x2b476c1bc7f0>"
      ]
     },
     "execution_count": 18,
     "metadata": {},
     "output_type": "execute_result"
    }
   ],
   "source": [
    "mt_subset.checkpoint('/net/archive/groups/plggneuromol/sportsmen-wgs/mts/sportsmen-with-corrected-samples-subset.mt')"
   ]
  },
  {
   "cell_type": "code",
   "execution_count": 6,
   "metadata": {},
   "outputs": [],
   "source": [
    "mt_subset = hl.read_matrix_table('/net/archive/groups/plggneuromol/sportsmen-wgs/mts/sportsmen-with-corrected-samples-subset.mt')"
   ]
  },
  {
   "cell_type": "code",
   "execution_count": 20,
   "metadata": {},
   "outputs": [],
   "source": [
    "to_delete = ['476', '477', '478', 'WGS_6814', 'WGS_163d', 'S_7239', 'B461'] # this is to delete overly related samples + a sample that is outlier on PCA"
   ]
  },
  {
   "cell_type": "code",
   "execution_count": 21,
   "metadata": {},
   "outputs": [],
   "source": [
    "mt_subset = mt_subset.filter_cols(hl.set(to_delete).contains(mt_subset.s), keep=False)"
   ]
  },
  {
   "cell_type": "code",
   "execution_count": 22,
   "metadata": {},
   "outputs": [
    {
     "name": "stderr",
     "output_type": "stream",
     "text": [
      "2021-04-23 14:45:21 Hail: INFO: wrote matrix table with 9941 rows and 147 columns in 3061 partitions to /net/archive/groups/plggneuromol/sportsmen-wgs/mts/sportsmen-subset-unrelated.mt\n",
      "    Total size: 13.31 MiB\n",
      "    * Rows/entries: 13.31 MiB\n",
      "    * Columns: 669.00 B\n",
      "    * Globals: 11.00 B\n",
      "    * Smallest partition: 0 rows (20.00 B)\n",
      "    * Largest partition:  15 rows (19.79 KiB)\n"
     ]
    },
    {
     "data": {
      "text/plain": [
       "<hail.matrixtable.MatrixTable at 0x2b476c19e940>"
      ]
     },
     "execution_count": 22,
     "metadata": {},
     "output_type": "execute_result"
    }
   ],
   "source": [
    "mt_subset.checkpoint('/net/archive/groups/plggneuromol/sportsmen-wgs/mts/sportsmen-subset-unrelated.mt')"
   ]
  },
  {
   "cell_type": "code",
   "execution_count": 51,
   "metadata": {},
   "outputs": [
    {
     "name": "stderr",
     "output_type": "stream",
     "text": [
      "2021-04-23 11:51:02 Hail: INFO: hwe_normalized_pca: running PCA using 8353 variants.\n",
      "2021-04-23 11:51:07 Hail: INFO: pca: running PCA with 2 components...\n",
      "2021-04-23 12:18:26 Hail: INFO: Wrote all 3 blocks of 9841 x 143 matrix with block size 4096.\n"
     ]
    }
   ],
   "source": [
    "pc_rel = hl.pc_relate(mt_subset.GT, 0.001, k=2, statistics='kin')"
   ]
  },
  {
   "cell_type": "code",
   "execution_count": 52,
   "metadata": {},
   "outputs": [],
   "source": [
    "pairs = pc_rel.filter(pc_rel['kin'] > 0.23)"
   ]
  },
  {
   "cell_type": "code",
   "execution_count": 53,
   "metadata": {},
   "outputs": [
    {
     "name": "stderr",
     "output_type": "stream",
     "text": [
      "2021-04-23 12:18:27 Hail: INFO: wrote matrix with 3 rows and 9841 columns as 3 blocks of size 4096 to /net/scratch/people/plggosborcz/pcrelate-write-read-7XbZ9EKjjtNbhQgUjOTNCU.bm\n",
      "2021-04-23 12:18:27 Hail: INFO: wrote matrix with 9841 rows and 143 columns as 3 blocks of size 4096 to /net/scratch/people/plggosborcz/pcrelate-write-read-a4M9w8cThJnaI5rpH7eahB.bm\n",
      "2021-04-23 12:18:27 Hail: INFO: wrote matrix with 143 rows and 143 columns as 1 block of size 4096 to /net/scratch/people/plggosborcz/pcrelate-write-read-MyBeJitdWsK9CqeXWjD2ps.bm\n",
      "2021-04-23 12:18:27 Hail: INFO: wrote matrix with 143 rows and 143 columns as 1 block of size 4096 to /net/scratch/people/plggosborcz/pcrelate-write-read-cYECbxph3ZVrWhAr8G2QFh.bm\n",
      "2021-04-23 12:18:27 Hail: INFO: wrote matrix with 143 rows and 143 columns as 1 block of size 4096 to /net/scratch/people/plggosborcz/pcrelate-write-read-xuJ8pyBqqjFZDBRcSw9kx5.bm\n",
      "2021-04-23 12:18:27 Hail: INFO: Ordering unsorted dataset with network shuffle\n"
     ]
    },
    {
     "data": {
      "text/html": [
       "<table><thead><tr><td style=\"white-space: nowrap; max-width: 500px; overflow: hidden; text-overflow: ellipsis; \" colspan=\"1\"><div style=\"text-align: left;\"></div></td><td style=\"white-space: nowrap; max-width: 500px; overflow: hidden; text-overflow: ellipsis; \" colspan=\"1\"><div style=\"text-align: left;\"></div></td><td style=\"white-space: nowrap; max-width: 500px; overflow: hidden; text-overflow: ellipsis; \" colspan=\"1\"><div style=\"text-align: left;\"></div></td></tr><tr><td style=\"white-space: nowrap; max-width: 500px; overflow: hidden; text-overflow: ellipsis; \" colspan=\"1\"><div style=\"text-align: left;border-bottom: solid 2px #000; padding-bottom: 5px\">i</div></td><td style=\"white-space: nowrap; max-width: 500px; overflow: hidden; text-overflow: ellipsis; \" colspan=\"1\"><div style=\"text-align: left;border-bottom: solid 2px #000; padding-bottom: 5px\">j</div></td><td style=\"white-space: nowrap; max-width: 500px; overflow: hidden; text-overflow: ellipsis; \" colspan=\"1\"><div style=\"text-align: left;\"></div></td></tr><tr><td style=\"white-space: nowrap; max-width: 500px; overflow: hidden; text-overflow: ellipsis; \" colspan=\"1\"><div style=\"text-align: left;border-bottom: solid 2px #000; padding-bottom: 5px\">s</div></td><td style=\"white-space: nowrap; max-width: 500px; overflow: hidden; text-overflow: ellipsis; \" colspan=\"1\"><div style=\"text-align: left;border-bottom: solid 2px #000; padding-bottom: 5px\">s</div></td><td style=\"white-space: nowrap; max-width: 500px; overflow: hidden; text-overflow: ellipsis; \" colspan=\"1\"><div style=\"text-align: left;border-bottom: solid 2px #000; padding-bottom: 5px\">kin</div></td></tr><tr><td style=\"white-space: nowrap; max-width: 500px; overflow: hidden; text-overflow: ellipsis; text-align: left;\">str</td><td style=\"white-space: nowrap; max-width: 500px; overflow: hidden; text-overflow: ellipsis; text-align: left;\">str</td><td style=\"white-space: nowrap; max-width: 500px; overflow: hidden; text-overflow: ellipsis; text-align: left;\">float64</td></tr>\n",
       "</thead><tbody></tbody></table>"
      ],
      "text/plain": [
       "+-----+-----+---------+\n",
       "| i.s | j.s |     kin |\n",
       "+-----+-----+---------+\n",
       "| str | str | float64 |\n",
       "+-----+-----+---------+\n",
       "+-----+-----+---------+"
      ]
     },
     "metadata": {},
     "output_type": "display_data"
    }
   ],
   "source": [
    "pairs.show()"
   ]
  },
  {
   "cell_type": "code",
   "execution_count": 9,
   "metadata": {},
   "outputs": [],
   "source": [
    "mt = hl.read_matrix_table('/net/archive/groups/plggneuromol/sportsmen-wgs/mts/sportsmen-with-corrected-samples.mt')"
   ]
  },
  {
   "cell_type": "code",
   "execution_count": 10,
   "metadata": {},
   "outputs": [],
   "source": [
    "mt_subset = hl.read_matrix_table('/net/archive/groups/plggneuromol/sportsmen-wgs/mts/sportsmen-subset-unrelated.mt')"
   ]
  },
  {
   "cell_type": "code",
   "execution_count": null,
   "metadata": {},
   "outputs": [
    {
     "name": "stderr",
     "output_type": "stream",
     "text": [
      "2021-04-23 14:45:28 Hail: INFO: hwe_normalized_pca: running PCA using 8525 variants.\n",
      "2021-04-23 14:45:35 Hail: INFO: pca: running PCA with 10 components...\n"
     ]
    }
   ],
   "source": [
    "eigenvalues, pcs, _ = hl.hwe_normalized_pca(mt_subset.GT)\n",
    "\n",
    "mt_subset = mt_subset.annotate_cols(group = hl.cond(mt_subset.s.contains(\"B\"), \"sport\", \"gts\"))\n",
    "mt_subset = mt_subset.annotate_cols(scores = pcs[mt_subset.s].scores)"
   ]
  },
  {
   "cell_type": "code",
   "execution_count": null,
   "metadata": {},
   "outputs": [],
   "source": [
    "mt_subset.write('/net/archive/groups/plggneuromol/sportsmen-wgs/mts/subset-with-pca.mt')"
   ]
  },
  {
   "cell_type": "code",
   "execution_count": 25,
   "metadata": {
    "collapsed": true
   },
   "outputs": [
    {
     "ename": "FatalError",
     "evalue": "HailException: MatrixTable and Table files are directories; path '/net/archive/groups/plggneuromol/sportsmen-wgs/mts/subset-with-pca.mt' is not a directory\n\nJava stack trace:\nis.hail.utils.HailException: MatrixTable and Table files are directories; path '/net/archive/groups/plggneuromol/sportsmen-wgs/mts/subset-with-pca.mt' is not a directory\n\tat is.hail.utils.ErrorHandling$class.fatal(ErrorHandling.scala:11)\n\tat is.hail.utils.package$.fatal(package.scala:77)\n\tat is.hail.expr.ir.RelationalSpec$.readMetadata(AbstractMatrixTableSpec.scala:32)\n\tat is.hail.expr.ir.RelationalSpec$.readReferences(AbstractMatrixTableSpec.scala:66)\n\tat is.hail.variant.ReferenceGenome$.fromHailDataset(ReferenceGenome.scala:596)\n\tat is.hail.variant.ReferenceGenome.fromHailDataset(ReferenceGenome.scala)\n\tat sun.reflect.GeneratedMethodAccessor49.invoke(Unknown Source)\n\tat sun.reflect.DelegatingMethodAccessorImpl.invoke(DelegatingMethodAccessorImpl.java:43)\n\tat java.lang.reflect.Method.invoke(Method.java:498)\n\tat py4j.reflection.MethodInvoker.invoke(MethodInvoker.java:244)\n\tat py4j.reflection.ReflectionEngine.invoke(ReflectionEngine.java:357)\n\tat py4j.Gateway.invoke(Gateway.java:282)\n\tat py4j.commands.AbstractCommand.invokeMethod(AbstractCommand.java:132)\n\tat py4j.commands.CallCommand.execute(CallCommand.java:79)\n\tat py4j.GatewayConnection.run(GatewayConnection.java:238)\n\tat java.lang.Thread.run(Thread.java:748)\n\n\n\nHail version: 0.2.62-84fa81b9ea3d\nError summary: HailException: MatrixTable and Table files are directories; path '/net/archive/groups/plggneuromol/sportsmen-wgs/mts/subset-with-pca.mt' is not a directory",
     "output_type": "error",
     "traceback": [
      "\u001b[0;31m---------------------------------------------------------------------------\u001b[0m",
      "\u001b[0;31mFatalError\u001b[0m                                Traceback (most recent call last)",
      "\u001b[0;32m<ipython-input-25-a1a776855fdf>\u001b[0m in \u001b[0;36m<module>\u001b[0;34m()\u001b[0m\n\u001b[0;32m----> 1\u001b[0;31m \u001b[0mmt_subset\u001b[0m \u001b[0;34m=\u001b[0m \u001b[0mhl\u001b[0m\u001b[0;34m.\u001b[0m\u001b[0mread_matrix_table\u001b[0m\u001b[0;34m(\u001b[0m\u001b[0;34m'/net/archive/groups/plggneuromol/sportsmen-wgs/mts/subset-with-pca.mt'\u001b[0m\u001b[0;34m)\u001b[0m\u001b[0;34m\u001b[0m\u001b[0m\n\u001b[0m",
      "\u001b[0;32m<decorator-gen-1430>\u001b[0m in \u001b[0;36mread_matrix_table\u001b[0;34m(path, _intervals, _filter_intervals, _drop_cols, _drop_rows, _n_partitions)\u001b[0m\n",
      "\u001b[0;32m/net/software/local/python/3.6.5/lib/python3.6/site-packages/hail/typecheck/check.py\u001b[0m in \u001b[0;36mwrapper\u001b[0;34m(__original_func, *args, **kwargs)\u001b[0m\n\u001b[1;32m    575\u001b[0m     \u001b[0;32mdef\u001b[0m \u001b[0mwrapper\u001b[0m\u001b[0;34m(\u001b[0m\u001b[0m__original_func\u001b[0m\u001b[0;34m,\u001b[0m \u001b[0;34m*\u001b[0m\u001b[0margs\u001b[0m\u001b[0;34m,\u001b[0m \u001b[0;34m**\u001b[0m\u001b[0mkwargs\u001b[0m\u001b[0;34m)\u001b[0m\u001b[0;34m:\u001b[0m\u001b[0;34m\u001b[0m\u001b[0m\n\u001b[1;32m    576\u001b[0m         \u001b[0margs_\u001b[0m\u001b[0;34m,\u001b[0m \u001b[0mkwargs_\u001b[0m \u001b[0;34m=\u001b[0m \u001b[0mcheck_all\u001b[0m\u001b[0;34m(\u001b[0m\u001b[0m__original_func\u001b[0m\u001b[0;34m,\u001b[0m \u001b[0margs\u001b[0m\u001b[0;34m,\u001b[0m \u001b[0mkwargs\u001b[0m\u001b[0;34m,\u001b[0m \u001b[0mcheckers\u001b[0m\u001b[0;34m,\u001b[0m \u001b[0mis_method\u001b[0m\u001b[0;34m=\u001b[0m\u001b[0mis_method\u001b[0m\u001b[0;34m)\u001b[0m\u001b[0;34m\u001b[0m\u001b[0m\n\u001b[0;32m--> 577\u001b[0;31m         \u001b[0;32mreturn\u001b[0m \u001b[0m__original_func\u001b[0m\u001b[0;34m(\u001b[0m\u001b[0;34m*\u001b[0m\u001b[0margs_\u001b[0m\u001b[0;34m,\u001b[0m \u001b[0;34m**\u001b[0m\u001b[0mkwargs_\u001b[0m\u001b[0;34m)\u001b[0m\u001b[0;34m\u001b[0m\u001b[0m\n\u001b[0m\u001b[1;32m    578\u001b[0m \u001b[0;34m\u001b[0m\u001b[0m\n\u001b[1;32m    579\u001b[0m     \u001b[0;32mreturn\u001b[0m \u001b[0mwrapper\u001b[0m\u001b[0;34m\u001b[0m\u001b[0m\n",
      "\u001b[0;32m/net/software/local/python/3.6.5/lib/python3.6/site-packages/hail/methods/impex.py\u001b[0m in \u001b[0;36mread_matrix_table\u001b[0;34m(path, _intervals, _filter_intervals, _drop_cols, _drop_rows, _n_partitions)\u001b[0m\n\u001b[1;32m   2005\u001b[0m     \u001b[0;34m:\u001b[0m\u001b[0;32mclass\u001b[0m\u001b[0;34m:\u001b[0m\u001b[0;31m`\u001b[0m\u001b[0;34m.\u001b[0m\u001b[0mMatrixTable\u001b[0m\u001b[0;31m`\u001b[0m\u001b[0;34m\u001b[0m\u001b[0m\n\u001b[1;32m   2006\u001b[0m     \"\"\"\n\u001b[0;32m-> 2007\u001b[0;31m     \u001b[0;32mfor\u001b[0m \u001b[0mrg_config\u001b[0m \u001b[0;32min\u001b[0m \u001b[0mEnv\u001b[0m\u001b[0;34m.\u001b[0m\u001b[0mbackend\u001b[0m\u001b[0;34m(\u001b[0m\u001b[0;34m)\u001b[0m\u001b[0;34m.\u001b[0m\u001b[0mload_references_from_dataset\u001b[0m\u001b[0;34m(\u001b[0m\u001b[0mpath\u001b[0m\u001b[0;34m)\u001b[0m\u001b[0;34m:\u001b[0m\u001b[0;34m\u001b[0m\u001b[0m\n\u001b[0m\u001b[1;32m   2008\u001b[0m         \u001b[0mhl\u001b[0m\u001b[0;34m.\u001b[0m\u001b[0mReferenceGenome\u001b[0m\u001b[0;34m.\u001b[0m\u001b[0m_from_config\u001b[0m\u001b[0;34m(\u001b[0m\u001b[0mrg_config\u001b[0m\u001b[0;34m)\u001b[0m\u001b[0;34m\u001b[0m\u001b[0m\n\u001b[1;32m   2009\u001b[0m \u001b[0;34m\u001b[0m\u001b[0m\n",
      "\u001b[0;32m/net/software/local/python/3.6.5/lib/python3.6/site-packages/hail/backend/spark_backend.py\u001b[0m in \u001b[0;36mload_references_from_dataset\u001b[0;34m(self, path)\u001b[0m\n\u001b[1;32m    320\u001b[0m \u001b[0;34m\u001b[0m\u001b[0m\n\u001b[1;32m    321\u001b[0m     \u001b[0;32mdef\u001b[0m \u001b[0mload_references_from_dataset\u001b[0m\u001b[0;34m(\u001b[0m\u001b[0mself\u001b[0m\u001b[0;34m,\u001b[0m \u001b[0mpath\u001b[0m\u001b[0;34m)\u001b[0m\u001b[0;34m:\u001b[0m\u001b[0;34m\u001b[0m\u001b[0m\n\u001b[0;32m--> 322\u001b[0;31m         \u001b[0;32mreturn\u001b[0m \u001b[0mjson\u001b[0m\u001b[0;34m.\u001b[0m\u001b[0mloads\u001b[0m\u001b[0;34m(\u001b[0m\u001b[0mEnv\u001b[0m\u001b[0;34m.\u001b[0m\u001b[0mhail\u001b[0m\u001b[0;34m(\u001b[0m\u001b[0;34m)\u001b[0m\u001b[0;34m.\u001b[0m\u001b[0mvariant\u001b[0m\u001b[0;34m.\u001b[0m\u001b[0mReferenceGenome\u001b[0m\u001b[0;34m.\u001b[0m\u001b[0mfromHailDataset\u001b[0m\u001b[0;34m(\u001b[0m\u001b[0mself\u001b[0m\u001b[0;34m.\u001b[0m\u001b[0mfs\u001b[0m\u001b[0;34m.\u001b[0m\u001b[0m_jfs\u001b[0m\u001b[0;34m,\u001b[0m \u001b[0mpath\u001b[0m\u001b[0;34m)\u001b[0m\u001b[0;34m)\u001b[0m\u001b[0;34m\u001b[0m\u001b[0m\n\u001b[0m\u001b[1;32m    323\u001b[0m \u001b[0;34m\u001b[0m\u001b[0m\n\u001b[1;32m    324\u001b[0m     \u001b[0;32mdef\u001b[0m \u001b[0mfrom_fasta_file\u001b[0m\u001b[0;34m(\u001b[0m\u001b[0mself\u001b[0m\u001b[0;34m,\u001b[0m \u001b[0mname\u001b[0m\u001b[0;34m,\u001b[0m \u001b[0mfasta_file\u001b[0m\u001b[0;34m,\u001b[0m \u001b[0mindex_file\u001b[0m\u001b[0;34m,\u001b[0m \u001b[0mx_contigs\u001b[0m\u001b[0;34m,\u001b[0m \u001b[0my_contigs\u001b[0m\u001b[0;34m,\u001b[0m \u001b[0mmt_contigs\u001b[0m\u001b[0;34m,\u001b[0m \u001b[0mpar\u001b[0m\u001b[0;34m)\u001b[0m\u001b[0;34m:\u001b[0m\u001b[0;34m\u001b[0m\u001b[0m\n",
      "\u001b[0;32m/net/software/local/python/3.6.5/lib/python3.6/site-packages/py4j/java_gateway.py\u001b[0m in \u001b[0;36m__call__\u001b[0;34m(self, *args)\u001b[0m\n\u001b[1;32m   1255\u001b[0m         \u001b[0manswer\u001b[0m \u001b[0;34m=\u001b[0m \u001b[0mself\u001b[0m\u001b[0;34m.\u001b[0m\u001b[0mgateway_client\u001b[0m\u001b[0;34m.\u001b[0m\u001b[0msend_command\u001b[0m\u001b[0;34m(\u001b[0m\u001b[0mcommand\u001b[0m\u001b[0;34m)\u001b[0m\u001b[0;34m\u001b[0m\u001b[0m\n\u001b[1;32m   1256\u001b[0m         return_value = get_return_value(\n\u001b[0;32m-> 1257\u001b[0;31m             answer, self.gateway_client, self.target_id, self.name)\n\u001b[0m\u001b[1;32m   1258\u001b[0m \u001b[0;34m\u001b[0m\u001b[0m\n\u001b[1;32m   1259\u001b[0m         \u001b[0;32mfor\u001b[0m \u001b[0mtemp_arg\u001b[0m \u001b[0;32min\u001b[0m \u001b[0mtemp_args\u001b[0m\u001b[0;34m:\u001b[0m\u001b[0;34m\u001b[0m\u001b[0m\n",
      "\u001b[0;32m/net/software/local/python/3.6.5/lib/python3.6/site-packages/hail/backend/py4j_backend.py\u001b[0m in \u001b[0;36mdeco\u001b[0;34m(*args, **kwargs)\u001b[0m\n\u001b[1;32m     30\u001b[0m                 raise FatalError('%s\\n\\nJava stack trace:\\n%s\\n'\n\u001b[1;32m     31\u001b[0m                                  \u001b[0;34m'Hail version: %s\\n'\u001b[0m\u001b[0;34m\u001b[0m\u001b[0m\n\u001b[0;32m---> 32\u001b[0;31m                                  'Error summary: %s' % (deepest, full, hail.__version__, deepest), error_id) from None\n\u001b[0m\u001b[1;32m     33\u001b[0m         \u001b[0;32mexcept\u001b[0m \u001b[0mpyspark\u001b[0m\u001b[0;34m.\u001b[0m\u001b[0msql\u001b[0m\u001b[0;34m.\u001b[0m\u001b[0mutils\u001b[0m\u001b[0;34m.\u001b[0m\u001b[0mCapturedException\u001b[0m \u001b[0;32mas\u001b[0m \u001b[0me\u001b[0m\u001b[0;34m:\u001b[0m\u001b[0;34m\u001b[0m\u001b[0m\n\u001b[1;32m     34\u001b[0m             raise FatalError('%s\\n\\nJava stack trace:\\n%s\\n'\n",
      "\u001b[0;31mFatalError\u001b[0m: HailException: MatrixTable and Table files are directories; path '/net/archive/groups/plggneuromol/sportsmen-wgs/mts/subset-with-pca.mt' is not a directory\n\nJava stack trace:\nis.hail.utils.HailException: MatrixTable and Table files are directories; path '/net/archive/groups/plggneuromol/sportsmen-wgs/mts/subset-with-pca.mt' is not a directory\n\tat is.hail.utils.ErrorHandling$class.fatal(ErrorHandling.scala:11)\n\tat is.hail.utils.package$.fatal(package.scala:77)\n\tat is.hail.expr.ir.RelationalSpec$.readMetadata(AbstractMatrixTableSpec.scala:32)\n\tat is.hail.expr.ir.RelationalSpec$.readReferences(AbstractMatrixTableSpec.scala:66)\n\tat is.hail.variant.ReferenceGenome$.fromHailDataset(ReferenceGenome.scala:596)\n\tat is.hail.variant.ReferenceGenome.fromHailDataset(ReferenceGenome.scala)\n\tat sun.reflect.GeneratedMethodAccessor49.invoke(Unknown Source)\n\tat sun.reflect.DelegatingMethodAccessorImpl.invoke(DelegatingMethodAccessorImpl.java:43)\n\tat java.lang.reflect.Method.invoke(Method.java:498)\n\tat py4j.reflection.MethodInvoker.invoke(MethodInvoker.java:244)\n\tat py4j.reflection.ReflectionEngine.invoke(ReflectionEngine.java:357)\n\tat py4j.Gateway.invoke(Gateway.java:282)\n\tat py4j.commands.AbstractCommand.invokeMethod(AbstractCommand.java:132)\n\tat py4j.commands.CallCommand.execute(CallCommand.java:79)\n\tat py4j.GatewayConnection.run(GatewayConnection.java:238)\n\tat java.lang.Thread.run(Thread.java:748)\n\n\n\nHail version: 0.2.62-84fa81b9ea3d\nError summary: HailException: MatrixTable and Table files are directories; path '/net/archive/groups/plggneuromol/sportsmen-wgs/mts/subset-with-pca.mt' is not a directory"
     ]
    }
   ],
   "source": [
    "mt_subset = hl.read_matrix_table('/net/archive/groups/plggneuromol/sportsmen-wgs/mts/subset-with-pca.mt')"
   ]
  },
  {
   "cell_type": "code",
   "execution_count": null,
   "metadata": {},
   "outputs": [],
   "source": [
    "p = hl.plot.scatter(mt_subset.scores[0],\n",
    "                    mt_subset.scores[1],\n",
    "                    label=mt_subset.s,\n",
    "                    title='PCA', xlabel='PC1', ylabel='PC2')\n",
    "show(p)"
   ]
  },
  {
   "cell_type": "code",
   "execution_count": null,
   "metadata": {},
   "outputs": [],
   "source": [
    "# should we delete sample B461? \n",
    "pcs = mt_subset.scores[1].collect()\n",
    "samples = mt_subset.s.collect()\n",
    "\n",
    "np.std(pcs)*6\n",
    "\n",
    "\n",
    "\n",
    "#pcs[40]\n",
    "\n",
    "# Sample B461 extendes more than 6 SDs so we will delete it - deleted above and PCA repeated"
   ]
  },
  {
   "cell_type": "code",
   "execution_count": null,
   "metadata": {},
   "outputs": [],
   "source": [
    "mt.count()"
   ]
  },
  {
   "cell_type": "code",
   "execution_count": 11,
   "metadata": {},
   "outputs": [],
   "source": [
    "to_delete = ['476', '477', '478', 'WGS_6814', 'WGS_163d', 'S_7239', 'B461'] "
   ]
  },
  {
   "cell_type": "code",
   "execution_count": 12,
   "metadata": {},
   "outputs": [],
   "source": [
    "mt = mt.filter_cols(hl.set(to_delete).contains(mt.s), keep=False)"
   ]
  },
  {
   "cell_type": "code",
   "execution_count": 13,
   "metadata": {},
   "outputs": [
    {
     "name": "stderr",
     "output_type": "stream",
     "text": [
      "2021-04-23 15:31:57 Hail: INFO: wrote matrix table with 9824949 rows and 147 columns in 3061 partitions to /net/archive/groups/plggneuromol/sportsmen-wgs/mts/joint-unrelated-corrected.mt\n",
      "    Total size: 7.79 GiB\n",
      "    * Rows/entries: 7.79 GiB\n",
      "    * Columns: 648.00 B\n",
      "    * Globals: 11.00 B\n",
      "    * Smallest partition: 0 rows (20.00 B)\n",
      "    * Largest partition:  13167 rows (8.16 MiB)\n"
     ]
    }
   ],
   "source": [
    "mt.write('/net/archive/groups/plggneuromol/sportsmen-wgs/mts/joint-unrelated-corrected.mt')"
   ]
  },
  {
   "cell_type": "code",
   "execution_count": 14,
   "metadata": {},
   "outputs": [],
   "source": [
    "mt = hl.read_matrix_table('/net/archive/groups/plggneuromol/sportsmen-wgs/mts/joint-unrelated-corrected.mt')"
   ]
  },
  {
   "cell_type": "code",
   "execution_count": 15,
   "metadata": {},
   "outputs": [
    {
     "data": {
      "text/plain": [
       "(9824949, 147)"
      ]
     },
     "execution_count": 15,
     "metadata": {},
     "output_type": "execute_result"
    }
   ],
   "source": [
    "mt.count()"
   ]
  },
  {
   "cell_type": "markdown",
   "metadata": {},
   "source": [
    "## april 2021 analyses"
   ]
  },
  {
   "cell_type": "code",
   "execution_count": 16,
   "metadata": {},
   "outputs": [],
   "source": [
    "mt = hl.read_matrix_table('/net/archive/groups/plggneuromol/sportsmen-wgs/mts/joint-unrelated-corrected.mt')"
   ]
  },
  {
   "cell_type": "code",
   "execution_count": 17,
   "metadata": {},
   "outputs": [],
   "source": [
    "mt = mt.filter_rows(mt.gnomad_v3.v3_nfe.AF < 0.05)"
   ]
  },
  {
   "cell_type": "code",
   "execution_count": 18,
   "metadata": {},
   "outputs": [
    {
     "name": "stderr",
     "output_type": "stream",
     "text": [
      "2021-04-23 15:33:11 Hail: INFO: wrote matrix table with 4925533 rows and 147 columns in 3061 partitions to /net/archive/groups/plggneuromol/sportsmen-wgs/mts/sporstmen-005.mt\n",
      "    Total size: 3.38 GiB\n",
      "    * Rows/entries: 3.38 GiB\n",
      "    * Columns: 648.00 B\n",
      "    * Globals: 11.00 B\n",
      "    * Smallest partition: 0 rows (20.00 B)\n",
      "    * Largest partition:  4095 rows (3.74 MiB)\n"
     ]
    }
   ],
   "source": [
    "mt.write('/net/archive/groups/plggneuromol/sportsmen-wgs/mts/sporstmen-005.mt')"
   ]
  },
  {
   "cell_type": "code",
   "execution_count": 19,
   "metadata": {},
   "outputs": [],
   "source": [
    "mt = hl.read_matrix_table('/net/archive/groups/plggneuromol/sportsmen-wgs/mts/sporstmen-005.mt')"
   ]
  },
  {
   "cell_type": "code",
   "execution_count": 20,
   "metadata": {
    "scrolled": true
   },
   "outputs": [
    {
     "name": "stderr",
     "output_type": "stream",
     "text": [
      "2021-04-23 15:33:11 Hail: INFO: Reading table to impute column types\n",
      "2021-04-23 15:33:12 Hail: INFO: Finished type imputation\n",
      "  Loading field 'f0' as type str (imputed)\n",
      "  Loading field 'f1' as type str (imputed)\n",
      "2021-04-23 15:33:13 Hail: INFO: Ordering unsorted dataset with network shuffle\n",
      "2021-04-23 15:33:14 Hail: INFO: Ordering unsorted dataset with network shuffle\n",
      "2021-04-23 15:33:15 Hail: INFO: Ordering unsorted dataset with network shuffle\n",
      "2021-04-23 15:33:15 Hail: INFO: Ordering unsorted dataset with network shuffle\n",
      "2021-04-23 15:33:16 Hail: INFO: Ordering unsorted dataset with network shuffle\n",
      "2021-04-23 15:33:17 Hail: INFO: Ordering unsorted dataset with network shuffle\n",
      "2021-04-23 15:34:32 Hail: INFO: wrote matrix table with 4925533 rows and 147 columns in 3061 partitions to /net/archive/groups/plggneuromol/sportsmen-wgs/mts/sporstmen-005-genes.mt\n",
      "    Total size: 3.49 GiB\n",
      "    * Rows/entries: 3.49 GiB\n",
      "    * Columns: 648.00 B\n",
      "    * Globals: 11.00 B\n",
      "    * Smallest partition: 0 rows (20.00 B)\n",
      "    * Largest partition:  3186 rows (4.68 MiB)\n"
     ]
    }
   ],
   "source": [
    "genes = hl.read_table('/net/archive/groups/plggneuromol/GTS-analysis/analysis/vcf_preprocessing/genecode_v32.ht')\n",
    "\n",
    "genes = genes.filter(hl.is_valid_contig(genes['hg38.knownGene.chrom'], reference_genome='GRCh38'))\n",
    "\n",
    "hpo = hl.import_table('/net/archive/groups/plggneuromol/GTS-analysis/analysis/vcf_preprocessing/hpo.tsv', impute = True, no_header=True)\n",
    "\n",
    "start = genes['hg38.knownGene.txStart']\n",
    "stop =  genes['hg38.knownGene.txEnd']\n",
    "\n",
    "genes = genes.transmute(interval = \n",
    "                        hl.locus_interval(genes['hg38.knownGene.chrom'], \n",
    "                                          start,\n",
    "                                          stop,\n",
    "                                          reference_genome='GRCh38', includes_start=False))\n",
    "\n",
    "genes = genes.key_by(genes['hg38.kgXref.geneSymbol'])\n",
    "\n",
    "hpo = hpo.key_by(hpo.f0)\n",
    "\n",
    "genes = genes.annotate(hpo = hpo.index(genes['hg38.kgXref.geneSymbol'], all_matches = True)['f1'])\n",
    "\n",
    "genes = genes.key_by(genes.interval)\n",
    "\n",
    "mt = mt.annotate_rows(within_gene = hl.array(hl.set(genes.index(mt.locus, all_matches=True)['hg38.kgXref.geneSymbol'])))\n",
    "mt = mt.annotate_rows(hpo = hl.array(hl.set(genes.index(mt.locus, all_matches=True)['hpo'])))\n",
    "  \n",
    "    \n",
    "mt.write('/net/archive/groups/plggneuromol/sportsmen-wgs/mts/sporstmen-005-genes.mt')"
   ]
  },
  {
   "cell_type": "code",
   "execution_count": 21,
   "metadata": {},
   "outputs": [],
   "source": [
    "mt = hl.read_matrix_table('/net/archive/groups/plggneuromol/sportsmen-wgs/mts/sporstmen-005-genes.mt')"
   ]
  },
  {
   "cell_type": "code",
   "execution_count": 22,
   "metadata": {},
   "outputs": [
    {
     "data": {
      "text/plain": [
       "(4925533, 147)"
      ]
     },
     "execution_count": 22,
     "metadata": {},
     "output_type": "execute_result"
    }
   ],
   "source": [
    "mt.count()"
   ]
  },
  {
   "cell_type": "code",
   "execution_count": 23,
   "metadata": {},
   "outputs": [],
   "source": [
    "mt = mt.filter_rows(mt.within_gene == hl.empty_array(hl.tstr), keep = False)"
   ]
  },
  {
   "cell_type": "code",
   "execution_count": 24,
   "metadata": {},
   "outputs": [
    {
     "data": {
      "text/plain": [
       "(3191612, 147)"
      ]
     },
     "execution_count": 24,
     "metadata": {},
     "output_type": "execute_result"
    }
   ],
   "source": [
    "mt.count()"
   ]
  },
  {
   "cell_type": "code",
   "execution_count": 25,
   "metadata": {},
   "outputs": [
    {
     "name": "stderr",
     "output_type": "stream",
     "text": [
      "2021-04-23 15:35:23 Hail: INFO: wrote matrix table with 3191612 rows and 147 columns in 3061 partitions to /net/archive/groups/plggneuromol/sportsmen-wgs/mts/sporstmen-005-intragenic.mt\n",
      "    Total size: 2.39 GiB\n",
      "    * Rows/entries: 2.39 GiB\n",
      "    * Columns: 648.00 B\n",
      "    * Globals: 11.00 B\n",
      "    * Smallest partition: 0 rows (20.00 B)\n",
      "    * Largest partition:  3841 rows (4.51 MiB)\n"
     ]
    }
   ],
   "source": [
    "mt.write('/net/archive/groups/plggneuromol/sportsmen-wgs/mts/sporstmen-005-intragenic.mt')"
   ]
  },
  {
   "cell_type": "code",
   "execution_count": 66,
   "metadata": {},
   "outputs": [],
   "source": [
    "mt = hl.read_matrix_table('/net/archive/groups/plggneuromol/sportsmen-wgs/mts/sporstmen-005-intragenic.mt')"
   ]
  },
  {
   "cell_type": "code",
   "execution_count": 67,
   "metadata": {},
   "outputs": [
    {
     "data": {
      "text/plain": [
       "(3191612, 147)"
      ]
     },
     "execution_count": 67,
     "metadata": {},
     "output_type": "execute_result"
    }
   ],
   "source": [
    "mt.count()"
   ]
  },
  {
   "cell_type": "markdown",
   "metadata": {},
   "source": [
    "## lets further filter variants - higher quality qenotypes only"
   ]
  },
  {
   "cell_type": "code",
   "execution_count": 28,
   "metadata": {},
   "outputs": [],
   "source": [
    "rpmk = hl.read_table('/net/archive/groups/plggneuromol/sportsmen-wgs/analysis/vcf_preprocessing/repeatmasker_all.ht')\n",
    "\n",
    "contig_len = hl.contig_length(rpmk.interval.end.contig, reference_genome='GRCh38')\n",
    "end_pos = rpmk.interval.end.position\n",
    "start_pos = rpmk.interval.start.position\n",
    "contig = rpmk.interval.start.contig\n",
    "\n",
    "rpmk = rpmk.annotate(larger_int_start = hl.if_else(start_pos == 1,\n",
    "                                                   hl.locus(contig, start_pos, reference_genome='GRCh38'),\n",
    "                                                   hl.locus(contig, start_pos-1, reference_genome='GRCh38')),\n",
    "                     larger_int_end = hl.if_else(end_pos == contig_len,\n",
    "                                                 hl.locus(contig, end_pos, reference_genome='GRCh38'),\n",
    "                                                 hl.locus(contig, end_pos+1, reference_genome='GRCh38')),\n",
    "                     larger_int_start_2 = hl.if_else((start_pos == 1) | (start_pos == 2),\n",
    "                                                   hl.locus(contig, start_pos, reference_genome='GRCh38'),\n",
    "                                                   hl.locus(contig, start_pos-2, reference_genome='GRCh38')),\n",
    "                     larger_int_end_2 = hl.if_else((end_pos == contig_len) | (end_pos == (contig_len-1)),\n",
    "                                                 hl.locus(contig, end_pos, reference_genome='GRCh38'),\n",
    "                                                 hl.locus(contig, end_pos+2, reference_genome='GRCh38')))"
   ]
  },
  {
   "cell_type": "code",
   "execution_count": 25,
   "metadata": {},
   "outputs": [
    {
     "name": "stderr",
     "output_type": "stream",
     "text": [
      "2021-03-30 20:23:23 Hail: INFO: wrote table with 5520017 rows in 48 partitions to /net/archive/groups/plggneuromol/sportsmen-wgs/analysis/vcf_preprocessing/repeatmasker_anno.ht\n",
      "    Total size: 214.57 MiB\n",
      "    * Rows: 214.57 MiB\n",
      "    * Globals: 11.00 B\n",
      "    * Smallest partition: 51769 rows (2.42 MiB)\n",
      "    * Largest partition:  153107 rows (5.90 MiB)\n"
     ]
    }
   ],
   "source": [
    "rpmk.write('/net/archive/groups/plggneuromol/sportsmen-wgs/analysis/vcf_preprocessing/repeatmasker_anno.ht')"
   ]
  },
  {
   "cell_type": "code",
   "execution_count": null,
   "metadata": {},
   "outputs": [
    {
     "name": "stderr",
     "output_type": "stream",
     "text": [
      "2021-04-23 15:35:26 Hail: INFO: Coerced sorted dataset\n",
      "2021-04-23 15:36:08 Hail: INFO: wrote matrix table with 3191612 rows and 147 columns in 3061 partitions to /net/archive/groups/plggneuromol/sportsmen-wgs/mts/sporstmen-005-intragenic-filtered0.mt\n",
      "    Total size: 3.19 GiB\n",
      "    * Rows/entries: 3.19 GiB\n",
      "    * Columns: 669.00 B\n",
      "    * Globals: 11.00 B\n",
      "    * Smallest partition: 0 rows (20.00 B)\n",
      "    * Largest partition:  3841 rows (5.60 MiB)\n",
      "2021-04-23 15:36:11 Hail: INFO: Coerced sorted dataset\n",
      "2021-04-23 15:36:13 Hail: INFO: Ordering unsorted dataset with network shuffle\n"
     ]
    }
   ],
   "source": [
    "#for some reason a loop doesn't work here\n",
    "rpmk = hl.read_table('/net/archive/groups/plggneuromol/sportsmen-wgs/analysis/vcf_preprocessing/repeatmasker_anno.ht')\n",
    "temp = rpmk.key_by(rpmk['larger_int_start'])\n",
    "mt = mt.filter_rows(hl.is_defined(temp[mt.locus]), keep = False)\n",
    "mt.checkpoint('/net/archive/groups/plggneuromol/sportsmen-wgs/mts/sporstmen-005-intragenic-filtered0.mt')\n",
    "    \n",
    "rpmk = hl.read_table('/net/archive/groups/plggneuromol/sportsmen-wgs/analysis/vcf_preprocessing/repeatmasker_anno.ht')\n",
    "temp = rpmk.key_by(rpmk['larger_int_end'])\n",
    "mt = mt.filter_rows(hl.is_defined(temp[mt.locus]), keep = False)\n",
    "mt.checkpoint('/net/archive/groups/plggneuromol/sportsmen-wgs/mts/sporstmen-005-intragenic-filtered1.mt')\n",
    "\n",
    "rpmk = hl.read_table('/net/archive/groups/plggneuromol/sportsmen-wgs/analysis/vcf_preprocessing/repeatmasker_anno.ht')\n",
    "temp = rpmk.key_by(rpmk['larger_int_start_2'])\n",
    "mt = mt.filter_rows(hl.is_defined(temp[mt.locus]), keep = False)\n",
    "mt.checkpoint('/net/archive/groups/plggneuromol/sportsmen-wgs/mts/sporstmen-005-intragenic-filtered2.mt')\n",
    "\n"
   ]
  },
  {
   "cell_type": "code",
   "execution_count": null,
   "metadata": {},
   "outputs": [],
   "source": [
    "mt = hl.read_matrix_table('/net/archive/groups/plggneuromol/sportsmen-wgs/mts/sporstmen-005-intragenic-filtered2.mt')"
   ]
  },
  {
   "cell_type": "code",
   "execution_count": null,
   "metadata": {},
   "outputs": [],
   "source": [
    "rpmk = hl.read_table('/net/archive/groups/plggneuromol/sportsmen-wgs/analysis/vcf_preprocessing/repeatmasker_anno.ht')\n",
    "temp = rpmk.key_by(rpmk['larger_int_end_2'])\n",
    "mt = mt.filter_rows(hl.is_defined(temp[mt.locus]), keep = False)\n",
    "mt.checkpoint('/net/archive/groups/plggneuromol/sportsmen-wgs/mts/sporstmen-005-intragenic-filtered.mt')\n",
    "\n",
    "    "
   ]
  },
  {
   "cell_type": "code",
   "execution_count": 68,
   "metadata": {},
   "outputs": [],
   "source": [
    "mt = hl.read_matrix_table('/net/archive/groups/plggneuromol/sportsmen-wgs/mts/sporstmen-005-intragenic-filtered.mt')"
   ]
  },
  {
   "cell_type": "code",
   "execution_count": null,
   "metadata": {},
   "outputs": [],
   "source": [
    "mt = hl.variant_qc(mt)"
   ]
  },
  {
   "cell_type": "code",
   "execution_count": null,
   "metadata": {},
   "outputs": [],
   "source": [
    "mt = mt.annotate_cols(group = hl.if_else(mt.s.contains(\"B\"), \"sport\", \"control\"))"
   ]
  },
  {
   "cell_type": "code",
   "execution_count": null,
   "metadata": {},
   "outputs": [],
   "source": [
    "mt = mt.filter_rows(mt.variant_qc.dp_stats.mean > 3)"
   ]
  },
  {
   "cell_type": "code",
   "execution_count": null,
   "metadata": {},
   "outputs": [],
   "source": [
    "mt = mt.annotate_rows(controls_non_ref = hl.agg.filter((mt.group == 'control'), hl.agg.count_where(mt.GT.is_non_ref())),\n",
    "                      sports_non_ref = hl.agg.filter((mt.group == 'sport'), hl.agg.count_where(mt.GT.is_non_ref())))\n",
    "mt = mt.annotate_rows(controls_ref = hl.agg.filter((mt.group == 'control'), hl.agg.count_where(mt.GT.is_hom_ref())),\n",
    "                      sports_ref = hl.agg.filter((mt.group == 'sport'), hl.agg.count_where(mt.GT.is_hom_ref())))\n"
   ]
  },
  {
   "cell_type": "code",
   "execution_count": null,
   "metadata": {},
   "outputs": [],
   "source": [
    "mt.write('/net/archive/groups/plggneuromol/sportsmen-wgs/mts/sporstmen-005-intragenic-filtered-better.mt')"
   ]
  },
  {
   "cell_type": "markdown",
   "metadata": {},
   "source": [
    "## analysis of all protein coding genes"
   ]
  },
  {
   "cell_type": "code",
   "execution_count": 208,
   "metadata": {},
   "outputs": [],
   "source": [
    "mt = hl.read_matrix_table('/net/archive/groups/plggneuromol/sportsmen-wgs/mts/sporstmen-005-intragenic-filtered-better.mt')"
   ]
  },
  {
   "cell_type": "code",
   "execution_count": 209,
   "metadata": {},
   "outputs": [
    {
     "data": {
      "text/plain": [
       "(3154875, 147)"
      ]
     },
     "execution_count": 209,
     "metadata": {},
     "output_type": "execute_result"
    }
   ],
   "source": [
    "mt.count()"
   ]
  },
  {
   "cell_type": "code",
   "execution_count": 210,
   "metadata": {},
   "outputs": [],
   "source": [
    "mt = mt.filter_rows((mt.controls_non_ref == 0)|(mt.sports_non_ref == 0), keep=False)"
   ]
  },
  {
   "cell_type": "code",
   "execution_count": 211,
   "metadata": {},
   "outputs": [
    {
     "name": "stderr",
     "output_type": "stream",
     "text": [
      "2021-04-23 19:48:31 Hail: INFO: Reading table without type imputation\n",
      "  Loading field 'Gene stable ID' as type str (not specified)\n",
      "  Loading field 'UniProtKB Gene Name symbol' as type str (not specified)\n"
     ]
    }
   ],
   "source": [
    "go_genes = hl.import_table('/net/archive/groups/plggneuromol/GTS-analysis/analysis/gts_gene_lists/human-genes-with-GO-and-symbols')"
   ]
  },
  {
   "cell_type": "code",
   "execution_count": 212,
   "metadata": {},
   "outputs": [],
   "source": [
    "all_genes = go_genes['UniProtKB Gene Name symbol'].collect()"
   ]
  },
  {
   "cell_type": "code",
   "execution_count": 213,
   "metadata": {},
   "outputs": [
    {
     "data": {
      "text/plain": [
       "23804"
      ]
     },
     "execution_count": 213,
     "metadata": {},
     "output_type": "execute_result"
    }
   ],
   "source": [
    "len(all_genes)"
   ]
  },
  {
   "cell_type": "code",
   "execution_count": 214,
   "metadata": {},
   "outputs": [],
   "source": [
    "mt = mt.filter_rows(hl.any(lambda x: hl.literal(all_genes).contains(x), mt.within_gene))"
   ]
  },
  {
   "cell_type": "code",
   "execution_count": 215,
   "metadata": {},
   "outputs": [],
   "source": [
    "mt = mt.filter_rows(hl.is_snp(mt.alleles[0], mt.alleles[1]))"
   ]
  },
  {
   "cell_type": "code",
   "execution_count": null,
   "metadata": {},
   "outputs": [],
   "source": [
    "to_test = mt.rows()\n",
    "to_test = to_test.select(to_test.controls_non_ref, to_test.sports_non_ref, to_test.controls_ref, to_test.sports_ref)\n",
    "\n",
    "to_test.write('/net/archive/groups/plggneuromol/sportsmen-wgs/mts/to_test_005.ht')"
   ]
  },
  {
   "cell_type": "code",
   "execution_count": 216,
   "metadata": {},
   "outputs": [],
   "source": [
    "to_test = hl.read_table('/net/archive/groups/plggneuromol/sportsmen-wgs/mts/to_test_005.ht')"
   ]
  },
  {
   "cell_type": "code",
   "execution_count": 217,
   "metadata": {},
   "outputs": [
    {
     "data": {
      "text/plain": [
       "587838"
      ]
     },
     "execution_count": 217,
     "metadata": {},
     "output_type": "execute_result"
    }
   ],
   "source": [
    "to_test.count()"
   ]
  },
  {
   "cell_type": "code",
   "execution_count": 218,
   "metadata": {},
   "outputs": [
    {
     "data": {
      "text/plain": [
       "8.505744780024429e-08"
      ]
     },
     "execution_count": 218,
     "metadata": {},
     "output_type": "execute_result"
    }
   ],
   "source": [
    "0.05/to_test.count()"
   ]
  },
  {
   "cell_type": "code",
   "execution_count": 219,
   "metadata": {},
   "outputs": [],
   "source": [
    "to_test = to_test.annotate(fisher = hl.fisher_exact_test(hl.int32(to_test.controls_non_ref), \n",
    "                                                         hl.int32(to_test.controls_ref),\n",
    "                                                         hl.int32(to_test.sports_non_ref),\n",
    "                                                         hl.int32(to_test.sports_ref)))"
   ]
  },
  {
   "cell_type": "code",
   "execution_count": 220,
   "metadata": {},
   "outputs": [],
   "source": [
    "to_test = to_test.filter(to_test.fisher.p_value < 0.05/to_test.count())"
   ]
  },
  {
   "cell_type": "code",
   "execution_count": 221,
   "metadata": {},
   "outputs": [
    {
     "data": {
      "text/plain": [
       "16"
      ]
     },
     "execution_count": 221,
     "metadata": {},
     "output_type": "execute_result"
    }
   ],
   "source": [
    "to_test.count()"
   ]
  },
  {
   "cell_type": "code",
   "execution_count": 222,
   "metadata": {},
   "outputs": [],
   "source": [
    "mt = hl.read_matrix_table('/net/archive/groups/plggneuromol/sportsmen-wgs/mts/sporstmen-005-intragenic-filtered-better.mt')"
   ]
  },
  {
   "cell_type": "code",
   "execution_count": 223,
   "metadata": {},
   "outputs": [],
   "source": [
    "mt_test = mt.filter_rows(hl.is_defined(to_test[mt.row_key]), keep = True)\n",
    "mt_test = mt_test.annotate_rows(fisher = to_test[mt_test.row_key]['fisher'])"
   ]
  },
  {
   "cell_type": "code",
   "execution_count": 224,
   "metadata": {},
   "outputs": [],
   "source": [
    "mt_test = mt_test.select_rows(rsid = mt_test.gnomad_v3.rsid,\n",
    "                                 gnomAD_v3_1_allele_frequency = mt_test.gnomad_v3.v3_nfe.AF,\n",
    "                                 gnomAD_v3_1_homozygote_count = mt_test.gnomad_v3.v3_nfe.homozygote_count,\n",
    "                                 predicted_most_severe_consequence = mt_test.gnomad_v3.most_severe_consequence,\n",
    "                                 gene = mt_test.within_gene,\n",
    "                                 hpo = mt_test.hpo,\n",
    "                                 controls_non_ref = mt_test.controls_non_ref,\n",
    "                                 sports_non_ref = mt_test.sports_non_ref,\n",
    "                                 controls_ref = mt_test.controls_ref,\n",
    "                                 sports_ref = mt_test.sports_ref,\n",
    "                                 percent_controls_non_ref = mt_test.controls_non_ref/47*100,\n",
    "                                 percent_sports_non_ref = mt_test.sports_non_ref/100*100,\n",
    "                                 percent_controls_ref = mt_test.controls_ref/46*100,\n",
    "                                 percent_sports_ref = mt_test.sports_ref/100*100,\n",
    "                                 percent_sports_genotyped = (mt_test.sports_non_ref + mt_test.sports_ref)/100*100,\n",
    "                                 percent_controls_genotyped = (mt_test.controls_non_ref + mt_test.controls_ref)/47*100,\n",
    "                                 fisher = mt_test.fisher.p_value,\n",
    "                                 )"
   ]
  },
  {
   "cell_type": "code",
   "execution_count": 225,
   "metadata": {},
   "outputs": [],
   "source": [
    "mt_test = mt_test.annotate_rows(\n",
    "    samples_het = hl.agg.filter(mt_test.GT.is_het(), hl.agg.collect(mt_test.s)),\n",
    "    samples_hom_non_ref = hl.agg.filter(mt_test.GT.is_hom_var(), hl.agg.collect(mt_test.s)))"
   ]
  },
  {
   "cell_type": "code",
   "execution_count": 226,
   "metadata": {},
   "outputs": [
    {
     "data": {
      "text/plain": [
       "(16, 147)"
      ]
     },
     "execution_count": 226,
     "metadata": {},
     "output_type": "execute_result"
    }
   ],
   "source": [
    "mt_test.count()"
   ]
  },
  {
   "cell_type": "code",
   "execution_count": 227,
   "metadata": {},
   "outputs": [
    {
     "data": {
      "text/plain": [
       "{'control': 47, 'sport': 100}"
      ]
     },
     "execution_count": 227,
     "metadata": {},
     "output_type": "execute_result"
    }
   ],
   "source": [
    "mt_test.aggregate_cols(hl.agg.counter(mt_test.group))"
   ]
  },
  {
   "cell_type": "code",
   "execution_count": 228,
   "metadata": {},
   "outputs": [],
   "source": [
    "### annotate with frequency in GTS:\n",
    "\n",
    "gts = hl.read_matrix_table('/net/archive/groups/plggneuromol/sportsmen-wgs/mts/unrelated-gts.mt')\n",
    "\n",
    "gts = gts.annotate_rows(gts_non_ref = hl.agg.count_where(gts.GT.is_non_ref()),\n",
    "                        gts_ref = hl.agg.count_where(gts.GT.is_hom_ref()))\n",
    "\n",
    "gts = gts.rows()\n",
    "\n",
    "gts = gts.select(gts_non_ref = gts.gts_non_ref,\n",
    "                 gts_ref = gts.gts_ref,\n",
    "                 percent_gts_non_ref = gts.gts_non_ref/40*100,\n",
    "                 percent_gts_ref = gts.gts_ref/40*100,\n",
    "                 percent_gts_genotyped = (gts.gts_non_ref + gts.gts_ref)/40*100)\n",
    "\n",
    "mt_test = mt_test.annotate_rows(gts_non_ref = gts.index(mt_test.row_key).gts_non_ref,\n",
    "                                gts_ref = gts.index(mt_test.row_key).gts_ref,\n",
    "                                percent_gts_non_ref = gts.index(mt_test.row_key).percent_gts_non_ref,\n",
    "                                percent_gts_ref = gts.index(mt_test.row_key).percent_gts_ref,\n",
    "                                percent_gts_genotyped = gts.index(mt_test.row_key).percent_gts_genotyped)\n",
    "\n",
    "\n",
    "\n",
    "to_export = mt_test.rows()\n",
    "\n",
    "to_export = to_export.to_pandas()"
   ]
  },
  {
   "cell_type": "code",
   "execution_count": 229,
   "metadata": {},
   "outputs": [
    {
     "data": {
      "text/plain": [
       "Index(['locus.contig', 'locus.position', 'alleles', 'rsid',\n",
       "       'gnomAD_v3_1_allele_frequency', 'gnomAD_v3_1_homozygote_count',\n",
       "       'predicted_most_severe_consequence', 'gene', 'hpo', 'controls_non_ref',\n",
       "       'sports_non_ref', 'controls_ref', 'sports_ref',\n",
       "       'percent_controls_non_ref', 'percent_sports_non_ref',\n",
       "       'percent_controls_ref', 'percent_sports_ref',\n",
       "       'percent_sports_genotyped', 'percent_controls_genotyped', 'fisher',\n",
       "       'samples_het', 'samples_hom_non_ref', 'gts_non_ref', 'gts_ref',\n",
       "       'percent_gts_non_ref', 'percent_gts_ref', 'percent_gts_genotyped'],\n",
       "      dtype='object')"
      ]
     },
     "execution_count": 229,
     "metadata": {},
     "output_type": "execute_result"
    }
   ],
   "source": [
    "to_export.columns"
   ]
  },
  {
   "cell_type": "code",
   "execution_count": 230,
   "metadata": {},
   "outputs": [
    {
     "data": {
      "text/plain": [
       "(16, 27)"
      ]
     },
     "execution_count": 230,
     "metadata": {},
     "output_type": "execute_result"
    }
   ],
   "source": [
    "to_export.shape"
   ]
  },
  {
   "cell_type": "code",
   "execution_count": 231,
   "metadata": {},
   "outputs": [
    {
     "data": {
      "text/html": [
       "<div>\n",
       "<style scoped>\n",
       "    .dataframe tbody tr th:only-of-type {\n",
       "        vertical-align: middle;\n",
       "    }\n",
       "\n",
       "    .dataframe tbody tr th {\n",
       "        vertical-align: top;\n",
       "    }\n",
       "\n",
       "    .dataframe thead th {\n",
       "        text-align: right;\n",
       "    }\n",
       "</style>\n",
       "<table border=\"1\" class=\"dataframe\">\n",
       "  <thead>\n",
       "    <tr style=\"text-align: right;\">\n",
       "      <th></th>\n",
       "      <th>locus.contig</th>\n",
       "      <th>locus.position</th>\n",
       "      <th>alleles</th>\n",
       "      <th>rsid</th>\n",
       "      <th>gnomAD_v3_1_allele_frequency</th>\n",
       "      <th>gnomAD_v3_1_homozygote_count</th>\n",
       "      <th>predicted_most_severe_consequence</th>\n",
       "      <th>gene</th>\n",
       "      <th>hpo</th>\n",
       "      <th>controls_non_ref</th>\n",
       "      <th>...</th>\n",
       "      <th>percent_sports_genotyped</th>\n",
       "      <th>percent_controls_genotyped</th>\n",
       "      <th>fisher</th>\n",
       "      <th>samples_het</th>\n",
       "      <th>samples_hom_non_ref</th>\n",
       "      <th>gts_non_ref</th>\n",
       "      <th>gts_ref</th>\n",
       "      <th>percent_gts_non_ref</th>\n",
       "      <th>percent_gts_ref</th>\n",
       "      <th>percent_gts_genotyped</th>\n",
       "    </tr>\n",
       "  </thead>\n",
       "  <tbody>\n",
       "    <tr>\n",
       "      <th>0</th>\n",
       "      <td>chr1</td>\n",
       "      <td>237515763</td>\n",
       "      <td>[C, G]</td>\n",
       "      <td>rs1436318549</td>\n",
       "      <td>0.016573</td>\n",
       "      <td>2</td>\n",
       "      <td>intron_variant</td>\n",
       "      <td>[RYR2]</td>\n",
       "      <td>[[HP:0001699:Sudden death, HP:0011663:Right ve...</td>\n",
       "      <td>4</td>\n",
       "      <td>...</td>\n",
       "      <td>89.0</td>\n",
       "      <td>100.000000</td>\n",
       "      <td>1.721915e-08</td>\n",
       "      <td>[B338, B432, B433, B435, B436, B437, B442, B44...</td>\n",
       "      <td>[B102, B156, B439, B444, B448, B450, B453, B45...</td>\n",
       "      <td>3</td>\n",
       "      <td>36</td>\n",
       "      <td>7.500000</td>\n",
       "      <td>90.0</td>\n",
       "      <td>97.5</td>\n",
       "    </tr>\n",
       "    <tr>\n",
       "      <th>1</th>\n",
       "      <td>chr2</td>\n",
       "      <td>95935226</td>\n",
       "      <td>[T, C]</td>\n",
       "      <td>rs550694093</td>\n",
       "      <td>0.005094</td>\n",
       "      <td>0</td>\n",
       "      <td>intron_variant</td>\n",
       "      <td>[ANKRD36C]</td>\n",
       "      <td>[None]</td>\n",
       "      <td>5</td>\n",
       "      <td>...</td>\n",
       "      <td>98.0</td>\n",
       "      <td>100.000000</td>\n",
       "      <td>4.146488e-10</td>\n",
       "      <td>[492, B24, B338, B399, B427, B430, B431, B432,...</td>\n",
       "      <td>[]</td>\n",
       "      <td>0</td>\n",
       "      <td>39</td>\n",
       "      <td>0.000000</td>\n",
       "      <td>97.5</td>\n",
       "      <td>97.5</td>\n",
       "    </tr>\n",
       "    <tr>\n",
       "      <th>2</th>\n",
       "      <td>chr2</td>\n",
       "      <td>114871252</td>\n",
       "      <td>[G, C]</td>\n",
       "      <td>rs1438743709</td>\n",
       "      <td>0.004593</td>\n",
       "      <td>32</td>\n",
       "      <td>intron_variant</td>\n",
       "      <td>[DPP10]</td>\n",
       "      <td>[None]</td>\n",
       "      <td>19</td>\n",
       "      <td>...</td>\n",
       "      <td>94.0</td>\n",
       "      <td>100.000000</td>\n",
       "      <td>5.655587e-09</td>\n",
       "      <td>[B462, S_7213, S_7214, S_7227, S_7229, S_7241,...</td>\n",
       "      <td>[S_7237, WGS_37c]</td>\n",
       "      <td>10</td>\n",
       "      <td>28</td>\n",
       "      <td>25.000000</td>\n",
       "      <td>70.0</td>\n",
       "      <td>95.0</td>\n",
       "    </tr>\n",
       "    <tr>\n",
       "      <th>3</th>\n",
       "      <td>chr3</td>\n",
       "      <td>75686761</td>\n",
       "      <td>[C, G]</td>\n",
       "      <td>rs186911967</td>\n",
       "      <td>0.000016</td>\n",
       "      <td>0</td>\n",
       "      <td>intron_variant</td>\n",
       "      <td>[LINC00960, ZNF717]</td>\n",
       "      <td>[None]</td>\n",
       "      <td>1</td>\n",
       "      <td>...</td>\n",
       "      <td>97.0</td>\n",
       "      <td>100.000000</td>\n",
       "      <td>6.353729e-15</td>\n",
       "      <td>[479, B24, B382, B399, B427, B430, B431, B432,...</td>\n",
       "      <td>[]</td>\n",
       "      <td>1</td>\n",
       "      <td>38</td>\n",
       "      <td>2.500000</td>\n",
       "      <td>95.0</td>\n",
       "      <td>97.5</td>\n",
       "    </tr>\n",
       "    <tr>\n",
       "      <th>4</th>\n",
       "      <td>chr3</td>\n",
       "      <td>75686786</td>\n",
       "      <td>[C, A]</td>\n",
       "      <td>rs182818770</td>\n",
       "      <td>0.000034</td>\n",
       "      <td>0</td>\n",
       "      <td>intron_variant</td>\n",
       "      <td>[LINC00960, ZNF717]</td>\n",
       "      <td>[None]</td>\n",
       "      <td>1</td>\n",
       "      <td>...</td>\n",
       "      <td>94.0</td>\n",
       "      <td>100.000000</td>\n",
       "      <td>6.914127e-14</td>\n",
       "      <td>[479, B156, B24, B427, B431, B432, B433, B435,...</td>\n",
       "      <td>[]</td>\n",
       "      <td>1</td>\n",
       "      <td>38</td>\n",
       "      <td>2.500000</td>\n",
       "      <td>95.0</td>\n",
       "      <td>97.5</td>\n",
       "    </tr>\n",
       "    <tr>\n",
       "      <th>5</th>\n",
       "      <td>chr6</td>\n",
       "      <td>157314313</td>\n",
       "      <td>[C, G]</td>\n",
       "      <td>None</td>\n",
       "      <td>0.044423</td>\n",
       "      <td>0</td>\n",
       "      <td>intron_variant</td>\n",
       "      <td>[TMEM242]</td>\n",
       "      <td>[None]</td>\n",
       "      <td>27</td>\n",
       "      <td>...</td>\n",
       "      <td>93.0</td>\n",
       "      <td>100.000000</td>\n",
       "      <td>4.059197e-13</td>\n",
       "      <td>[468, 475, 490, B468, B471, B487, S_7212, S_72...</td>\n",
       "      <td>[]</td>\n",
       "      <td>16</td>\n",
       "      <td>23</td>\n",
       "      <td>40.000000</td>\n",
       "      <td>57.5</td>\n",
       "      <td>97.5</td>\n",
       "    </tr>\n",
       "    <tr>\n",
       "      <th>6</th>\n",
       "      <td>chr7</td>\n",
       "      <td>100956443</td>\n",
       "      <td>[C, A]</td>\n",
       "      <td>rs1235870137</td>\n",
       "      <td>0.025931</td>\n",
       "      <td>0</td>\n",
       "      <td>missense_variant</td>\n",
       "      <td>[MUC3A]</td>\n",
       "      <td>[None]</td>\n",
       "      <td>28</td>\n",
       "      <td>...</td>\n",
       "      <td>93.0</td>\n",
       "      <td>100.000000</td>\n",
       "      <td>2.150403e-10</td>\n",
       "      <td>[B427, B432, B439, B469, B474, B481, B483, B53...</td>\n",
       "      <td>[]</td>\n",
       "      <td>26</td>\n",
       "      <td>14</td>\n",
       "      <td>65.000000</td>\n",
       "      <td>35.0</td>\n",
       "      <td>100.0</td>\n",
       "    </tr>\n",
       "    <tr>\n",
       "      <th>7</th>\n",
       "      <td>chr10</td>\n",
       "      <td>125897078</td>\n",
       "      <td>[G, A]</td>\n",
       "      <td>None</td>\n",
       "      <td>0.025079</td>\n",
       "      <td>0</td>\n",
       "      <td>intron_variant</td>\n",
       "      <td>[FANK1]</td>\n",
       "      <td>[None]</td>\n",
       "      <td>1</td>\n",
       "      <td>...</td>\n",
       "      <td>97.0</td>\n",
       "      <td>100.000000</td>\n",
       "      <td>1.659989e-12</td>\n",
       "      <td>[B102, B156, B338, B382, B427, B430, B431, B43...</td>\n",
       "      <td>[]</td>\n",
       "      <td>1</td>\n",
       "      <td>38</td>\n",
       "      <td>2.500000</td>\n",
       "      <td>95.0</td>\n",
       "      <td>97.5</td>\n",
       "    </tr>\n",
       "    <tr>\n",
       "      <th>8</th>\n",
       "      <td>chr10</td>\n",
       "      <td>125902761</td>\n",
       "      <td>[G, A]</td>\n",
       "      <td>rs59428255</td>\n",
       "      <td>0.030375</td>\n",
       "      <td>0</td>\n",
       "      <td>intron_variant</td>\n",
       "      <td>[FANK1]</td>\n",
       "      <td>[None]</td>\n",
       "      <td>5</td>\n",
       "      <td>...</td>\n",
       "      <td>96.0</td>\n",
       "      <td>100.000000</td>\n",
       "      <td>2.696115e-08</td>\n",
       "      <td>[492, B102, B382, B399, B427, B430, B432, B433...</td>\n",
       "      <td>[]</td>\n",
       "      <td>0</td>\n",
       "      <td>39</td>\n",
       "      <td>0.000000</td>\n",
       "      <td>97.5</td>\n",
       "      <td>97.5</td>\n",
       "    </tr>\n",
       "    <tr>\n",
       "      <th>9</th>\n",
       "      <td>chr10</td>\n",
       "      <td>125924980</td>\n",
       "      <td>[G, A]</td>\n",
       "      <td>rs112222676</td>\n",
       "      <td>0.000492</td>\n",
       "      <td>0</td>\n",
       "      <td>intron_variant</td>\n",
       "      <td>[FANK1]</td>\n",
       "      <td>[None]</td>\n",
       "      <td>2</td>\n",
       "      <td>...</td>\n",
       "      <td>95.0</td>\n",
       "      <td>100.000000</td>\n",
       "      <td>1.505063e-08</td>\n",
       "      <td>[490, 492, B156, B24, B338, B382, B399, B427, ...</td>\n",
       "      <td>[]</td>\n",
       "      <td>0</td>\n",
       "      <td>39</td>\n",
       "      <td>0.000000</td>\n",
       "      <td>97.5</td>\n",
       "      <td>97.5</td>\n",
       "    </tr>\n",
       "    <tr>\n",
       "      <th>10</th>\n",
       "      <td>chr10</td>\n",
       "      <td>125924987</td>\n",
       "      <td>[G, C]</td>\n",
       "      <td>rs113151963</td>\n",
       "      <td>0.000285</td>\n",
       "      <td>0</td>\n",
       "      <td>intron_variant</td>\n",
       "      <td>[FANK1]</td>\n",
       "      <td>[None]</td>\n",
       "      <td>2</td>\n",
       "      <td>...</td>\n",
       "      <td>95.0</td>\n",
       "      <td>100.000000</td>\n",
       "      <td>1.505063e-08</td>\n",
       "      <td>[490, 492, B156, B24, B338, B382, B399, B427, ...</td>\n",
       "      <td>[]</td>\n",
       "      <td>0</td>\n",
       "      <td>39</td>\n",
       "      <td>0.000000</td>\n",
       "      <td>97.5</td>\n",
       "      <td>97.5</td>\n",
       "    </tr>\n",
       "    <tr>\n",
       "      <th>11</th>\n",
       "      <td>chr10</td>\n",
       "      <td>125924999</td>\n",
       "      <td>[A, T]</td>\n",
       "      <td>rs73368615</td>\n",
       "      <td>0.000449</td>\n",
       "      <td>0</td>\n",
       "      <td>intron_variant</td>\n",
       "      <td>[FANK1]</td>\n",
       "      <td>[None]</td>\n",
       "      <td>2</td>\n",
       "      <td>...</td>\n",
       "      <td>95.0</td>\n",
       "      <td>100.000000</td>\n",
       "      <td>6.436605e-09</td>\n",
       "      <td>[490, 492, B156, B24, B338, B382, B399, B427, ...</td>\n",
       "      <td>[]</td>\n",
       "      <td>0</td>\n",
       "      <td>39</td>\n",
       "      <td>0.000000</td>\n",
       "      <td>97.5</td>\n",
       "      <td>97.5</td>\n",
       "    </tr>\n",
       "    <tr>\n",
       "      <th>12</th>\n",
       "      <td>chr10</td>\n",
       "      <td>125925007</td>\n",
       "      <td>[G, T]</td>\n",
       "      <td>None</td>\n",
       "      <td>0.000412</td>\n",
       "      <td>0</td>\n",
       "      <td>intron_variant</td>\n",
       "      <td>[FANK1]</td>\n",
       "      <td>[None]</td>\n",
       "      <td>2</td>\n",
       "      <td>...</td>\n",
       "      <td>96.0</td>\n",
       "      <td>100.000000</td>\n",
       "      <td>1.666527e-08</td>\n",
       "      <td>[490, 492, B156, B24, B338, B382, B399, B427, ...</td>\n",
       "      <td>[]</td>\n",
       "      <td>0</td>\n",
       "      <td>39</td>\n",
       "      <td>0.000000</td>\n",
       "      <td>97.5</td>\n",
       "      <td>97.5</td>\n",
       "    </tr>\n",
       "    <tr>\n",
       "      <th>13</th>\n",
       "      <td>chr17</td>\n",
       "      <td>65139057</td>\n",
       "      <td>[A, G]</td>\n",
       "      <td>None</td>\n",
       "      <td>0.040370</td>\n",
       "      <td>182</td>\n",
       "      <td>intron_variant</td>\n",
       "      <td>[RGS9]</td>\n",
       "      <td>[[HP:0000613:Photophobia, HP:0000505:Visual im...</td>\n",
       "      <td>5</td>\n",
       "      <td>...</td>\n",
       "      <td>34.0</td>\n",
       "      <td>95.744682</td>\n",
       "      <td>3.981673e-09</td>\n",
       "      <td>[B477, S_7237, WGS_180b]</td>\n",
       "      <td>[B102, B156, B24, B382, B399, B427, B432, B437...</td>\n",
       "      <td>0</td>\n",
       "      <td>37</td>\n",
       "      <td>0.000000</td>\n",
       "      <td>92.5</td>\n",
       "      <td>92.5</td>\n",
       "    </tr>\n",
       "    <tr>\n",
       "      <th>14</th>\n",
       "      <td>chr19</td>\n",
       "      <td>7450677</td>\n",
       "      <td>[T, G]</td>\n",
       "      <td>rs12972526</td>\n",
       "      <td>0.046174</td>\n",
       "      <td>11</td>\n",
       "      <td>intron_variant</td>\n",
       "      <td>[AC008878.3, ARHGEF18]</td>\n",
       "      <td>[[HP:0000842:Hyperinsulinemia, HP:0000648:Opti...</td>\n",
       "      <td>1</td>\n",
       "      <td>...</td>\n",
       "      <td>33.0</td>\n",
       "      <td>85.106384</td>\n",
       "      <td>2.093702e-18</td>\n",
       "      <td>[B102, B427, B444, B452, B455, B466, B467, B47...</td>\n",
       "      <td>[B156, B445, B446, B448, B471, B486, B496, B52...</td>\n",
       "      <td>5</td>\n",
       "      <td>34</td>\n",
       "      <td>12.500000</td>\n",
       "      <td>85.0</td>\n",
       "      <td>97.5</td>\n",
       "    </tr>\n",
       "    <tr>\n",
       "      <th>15</th>\n",
       "      <td>chr19</td>\n",
       "      <td>8896098</td>\n",
       "      <td>[G, A]</td>\n",
       "      <td>rs773157828</td>\n",
       "      <td>0.010228</td>\n",
       "      <td>0</td>\n",
       "      <td>splice_region_variant</td>\n",
       "      <td>[MUC16]</td>\n",
       "      <td>[None]</td>\n",
       "      <td>28</td>\n",
       "      <td>...</td>\n",
       "      <td>93.0</td>\n",
       "      <td>97.872337</td>\n",
       "      <td>3.854200e-16</td>\n",
       "      <td>[B538, S_7212, S_7213, S_7214, S_7227, S_7236,...</td>\n",
       "      <td>[]</td>\n",
       "      <td>21</td>\n",
       "      <td>18</td>\n",
       "      <td>52.499996</td>\n",
       "      <td>45.0</td>\n",
       "      <td>97.5</td>\n",
       "    </tr>\n",
       "  </tbody>\n",
       "</table>\n",
       "<p>16 rows × 27 columns</p>\n",
       "</div>"
      ],
      "text/plain": [
       "   locus.contig  locus.position alleles          rsid  \\\n",
       "0          chr1       237515763  [C, G]  rs1436318549   \n",
       "1          chr2        95935226  [T, C]   rs550694093   \n",
       "2          chr2       114871252  [G, C]  rs1438743709   \n",
       "3          chr3        75686761  [C, G]   rs186911967   \n",
       "4          chr3        75686786  [C, A]   rs182818770   \n",
       "5          chr6       157314313  [C, G]          None   \n",
       "6          chr7       100956443  [C, A]  rs1235870137   \n",
       "7         chr10       125897078  [G, A]          None   \n",
       "8         chr10       125902761  [G, A]    rs59428255   \n",
       "9         chr10       125924980  [G, A]   rs112222676   \n",
       "10        chr10       125924987  [G, C]   rs113151963   \n",
       "11        chr10       125924999  [A, T]    rs73368615   \n",
       "12        chr10       125925007  [G, T]          None   \n",
       "13        chr17        65139057  [A, G]          None   \n",
       "14        chr19         7450677  [T, G]    rs12972526   \n",
       "15        chr19         8896098  [G, A]   rs773157828   \n",
       "\n",
       "    gnomAD_v3_1_allele_frequency  gnomAD_v3_1_homozygote_count  \\\n",
       "0                       0.016573                             2   \n",
       "1                       0.005094                             0   \n",
       "2                       0.004593                            32   \n",
       "3                       0.000016                             0   \n",
       "4                       0.000034                             0   \n",
       "5                       0.044423                             0   \n",
       "6                       0.025931                             0   \n",
       "7                       0.025079                             0   \n",
       "8                       0.030375                             0   \n",
       "9                       0.000492                             0   \n",
       "10                      0.000285                             0   \n",
       "11                      0.000449                             0   \n",
       "12                      0.000412                             0   \n",
       "13                      0.040370                           182   \n",
       "14                      0.046174                            11   \n",
       "15                      0.010228                             0   \n",
       "\n",
       "   predicted_most_severe_consequence                    gene  \\\n",
       "0                     intron_variant                  [RYR2]   \n",
       "1                     intron_variant              [ANKRD36C]   \n",
       "2                     intron_variant                 [DPP10]   \n",
       "3                     intron_variant     [LINC00960, ZNF717]   \n",
       "4                     intron_variant     [LINC00960, ZNF717]   \n",
       "5                     intron_variant               [TMEM242]   \n",
       "6                   missense_variant                 [MUC3A]   \n",
       "7                     intron_variant                 [FANK1]   \n",
       "8                     intron_variant                 [FANK1]   \n",
       "9                     intron_variant                 [FANK1]   \n",
       "10                    intron_variant                 [FANK1]   \n",
       "11                    intron_variant                 [FANK1]   \n",
       "12                    intron_variant                 [FANK1]   \n",
       "13                    intron_variant                  [RGS9]   \n",
       "14                    intron_variant  [AC008878.3, ARHGEF18]   \n",
       "15             splice_region_variant                 [MUC16]   \n",
       "\n",
       "                                                  hpo  controls_non_ref  ...  \\\n",
       "0   [[HP:0001699:Sudden death, HP:0011663:Right ve...                 4  ...   \n",
       "1                                              [None]                 5  ...   \n",
       "2                                              [None]                19  ...   \n",
       "3                                              [None]                 1  ...   \n",
       "4                                              [None]                 1  ...   \n",
       "5                                              [None]                27  ...   \n",
       "6                                              [None]                28  ...   \n",
       "7                                              [None]                 1  ...   \n",
       "8                                              [None]                 5  ...   \n",
       "9                                              [None]                 2  ...   \n",
       "10                                             [None]                 2  ...   \n",
       "11                                             [None]                 2  ...   \n",
       "12                                             [None]                 2  ...   \n",
       "13  [[HP:0000613:Photophobia, HP:0000505:Visual im...                 5  ...   \n",
       "14  [[HP:0000842:Hyperinsulinemia, HP:0000648:Opti...                 1  ...   \n",
       "15                                             [None]                28  ...   \n",
       "\n",
       "    percent_sports_genotyped  percent_controls_genotyped        fisher  \\\n",
       "0                       89.0                  100.000000  1.721915e-08   \n",
       "1                       98.0                  100.000000  4.146488e-10   \n",
       "2                       94.0                  100.000000  5.655587e-09   \n",
       "3                       97.0                  100.000000  6.353729e-15   \n",
       "4                       94.0                  100.000000  6.914127e-14   \n",
       "5                       93.0                  100.000000  4.059197e-13   \n",
       "6                       93.0                  100.000000  2.150403e-10   \n",
       "7                       97.0                  100.000000  1.659989e-12   \n",
       "8                       96.0                  100.000000  2.696115e-08   \n",
       "9                       95.0                  100.000000  1.505063e-08   \n",
       "10                      95.0                  100.000000  1.505063e-08   \n",
       "11                      95.0                  100.000000  6.436605e-09   \n",
       "12                      96.0                  100.000000  1.666527e-08   \n",
       "13                      34.0                   95.744682  3.981673e-09   \n",
       "14                      33.0                   85.106384  2.093702e-18   \n",
       "15                      93.0                   97.872337  3.854200e-16   \n",
       "\n",
       "                                          samples_het  \\\n",
       "0   [B338, B432, B433, B435, B436, B437, B442, B44...   \n",
       "1   [492, B24, B338, B399, B427, B430, B431, B432,...   \n",
       "2   [B462, S_7213, S_7214, S_7227, S_7229, S_7241,...   \n",
       "3   [479, B24, B382, B399, B427, B430, B431, B432,...   \n",
       "4   [479, B156, B24, B427, B431, B432, B433, B435,...   \n",
       "5   [468, 475, 490, B468, B471, B487, S_7212, S_72...   \n",
       "6   [B427, B432, B439, B469, B474, B481, B483, B53...   \n",
       "7   [B102, B156, B338, B382, B427, B430, B431, B43...   \n",
       "8   [492, B102, B382, B399, B427, B430, B432, B433...   \n",
       "9   [490, 492, B156, B24, B338, B382, B399, B427, ...   \n",
       "10  [490, 492, B156, B24, B338, B382, B399, B427, ...   \n",
       "11  [490, 492, B156, B24, B338, B382, B399, B427, ...   \n",
       "12  [490, 492, B156, B24, B338, B382, B399, B427, ...   \n",
       "13                           [B477, S_7237, WGS_180b]   \n",
       "14  [B102, B427, B444, B452, B455, B466, B467, B47...   \n",
       "15  [B538, S_7212, S_7213, S_7214, S_7227, S_7236,...   \n",
       "\n",
       "                                  samples_hom_non_ref  gts_non_ref  gts_ref  \\\n",
       "0   [B102, B156, B439, B444, B448, B450, B453, B45...            3       36   \n",
       "1                                                  []            0       39   \n",
       "2                                   [S_7237, WGS_37c]           10       28   \n",
       "3                                                  []            1       38   \n",
       "4                                                  []            1       38   \n",
       "5                                                  []           16       23   \n",
       "6                                                  []           26       14   \n",
       "7                                                  []            1       38   \n",
       "8                                                  []            0       39   \n",
       "9                                                  []            0       39   \n",
       "10                                                 []            0       39   \n",
       "11                                                 []            0       39   \n",
       "12                                                 []            0       39   \n",
       "13  [B102, B156, B24, B382, B399, B427, B432, B437...            0       37   \n",
       "14  [B156, B445, B446, B448, B471, B486, B496, B52...            5       34   \n",
       "15                                                 []           21       18   \n",
       "\n",
       "    percent_gts_non_ref  percent_gts_ref  percent_gts_genotyped  \n",
       "0              7.500000             90.0                   97.5  \n",
       "1              0.000000             97.5                   97.5  \n",
       "2             25.000000             70.0                   95.0  \n",
       "3              2.500000             95.0                   97.5  \n",
       "4              2.500000             95.0                   97.5  \n",
       "5             40.000000             57.5                   97.5  \n",
       "6             65.000000             35.0                  100.0  \n",
       "7              2.500000             95.0                   97.5  \n",
       "8              0.000000             97.5                   97.5  \n",
       "9              0.000000             97.5                   97.5  \n",
       "10             0.000000             97.5                   97.5  \n",
       "11             0.000000             97.5                   97.5  \n",
       "12             0.000000             97.5                   97.5  \n",
       "13             0.000000             92.5                   92.5  \n",
       "14            12.500000             85.0                   97.5  \n",
       "15            52.499996             45.0                   97.5  \n",
       "\n",
       "[16 rows x 27 columns]"
      ]
     },
     "execution_count": 231,
     "metadata": {},
     "output_type": "execute_result"
    }
   ],
   "source": [
    "to_export"
   ]
  },
  {
   "cell_type": "code",
   "execution_count": 232,
   "metadata": {},
   "outputs": [
    {
     "data": {
      "text/plain": [
       "(16, 27)"
      ]
     },
     "execution_count": 232,
     "metadata": {},
     "output_type": "execute_result"
    }
   ],
   "source": [
    "to_export.shape"
   ]
  },
  {
   "cell_type": "code",
   "execution_count": 233,
   "metadata": {},
   "outputs": [],
   "source": [
    "to_export.to_csv('filtered_variants_sportsmen_23_24_2020')"
   ]
  },
  {
   "cell_type": "markdown",
   "metadata": {},
   "source": [
    "### genes enriched in muscle: https://www.proteinatlas.org/search/tissue_category_rna%3Askeletal+muscle%3BTissue+enriched+AND+sort_by%3Atissue+specific+score+AND+show_columns%3Agroupenriched"
   ]
  },
  {
   "cell_type": "code",
   "execution_count": 234,
   "metadata": {},
   "outputs": [],
   "source": [
    "mt = hl.read_matrix_table('/net/archive/groups/plggneuromol/sportsmen-wgs/mts/sporstmen-005-intragenic-filtered-better.mt')"
   ]
  },
  {
   "cell_type": "code",
   "execution_count": 235,
   "metadata": {},
   "outputs": [
    {
     "data": {
      "text/plain": [
       "(3154875, 147)"
      ]
     },
     "execution_count": 235,
     "metadata": {},
     "output_type": "execute_result"
    }
   ],
   "source": [
    "mt.count()"
   ]
  },
  {
   "cell_type": "code",
   "execution_count": 236,
   "metadata": {},
   "outputs": [],
   "source": [
    "mt = mt.filter_rows((mt.controls_non_ref == 0)|(mt.sports_non_ref == 0), keep=False)"
   ]
  },
  {
   "cell_type": "code",
   "execution_count": 237,
   "metadata": {},
   "outputs": [
    {
     "name": "stderr",
     "output_type": "stream",
     "text": [
      "2021-04-23 19:50:03 Hail: INFO: Loading 292 fields. Counts by type:\n",
      "  str: 292\n"
     ]
    }
   ],
   "source": [
    "muscle_genes = hl.import_table('./gene-lists-and-results/tissue_category_rna_skeletal.tsv')"
   ]
  },
  {
   "cell_type": "code",
   "execution_count": 238,
   "metadata": {},
   "outputs": [],
   "source": [
    "genes = muscle_genes['Gene'].collect()"
   ]
  },
  {
   "cell_type": "code",
   "execution_count": 239,
   "metadata": {},
   "outputs": [
    {
     "data": {
      "text/plain": [
       "907"
      ]
     },
     "execution_count": 239,
     "metadata": {},
     "output_type": "execute_result"
    }
   ],
   "source": [
    "len(genes)"
   ]
  },
  {
   "cell_type": "code",
   "execution_count": 240,
   "metadata": {},
   "outputs": [],
   "source": [
    "mt = mt.filter_rows(hl.any(lambda x: hl.literal(genes).contains(x), mt.within_gene))"
   ]
  },
  {
   "cell_type": "code",
   "execution_count": 241,
   "metadata": {},
   "outputs": [],
   "source": [
    "mt = mt.filter_rows(hl.is_snp(mt.alleles[0], mt.alleles[1]))"
   ]
  },
  {
   "cell_type": "code",
   "execution_count": 84,
   "metadata": {},
   "outputs": [
    {
     "name": "stderr",
     "output_type": "stream",
     "text": [
      "2021-04-23 19:06:16 Hail: INFO: wrote table with 33484 rows in 3061 partitions to /net/archive/groups/plggneuromol/sportsmen-wgs/mts/to_test_muscle_005.ht\n",
      "    Total size: 712.53 KiB\n",
      "    * Rows: 712.52 KiB\n",
      "    * Globals: 11.00 B\n",
      "    * Smallest partition: 0 rows (21.00 B)\n",
      "    * Largest partition:  927 rows (15.40 KiB)\n"
     ]
    }
   ],
   "source": [
    "to_test = mt.rows()\n",
    "to_test = to_test.select(to_test.controls_non_ref, to_test.sports_non_ref, to_test.controls_ref, to_test.sports_ref)\n",
    "\n",
    "to_test.write('/net/archive/groups/plggneuromol/sportsmen-wgs/mts/to_test_muscle_005.ht')"
   ]
  },
  {
   "cell_type": "code",
   "execution_count": 242,
   "metadata": {},
   "outputs": [],
   "source": [
    "to_test = hl.read_table('/net/archive/groups/plggneuromol/sportsmen-wgs/mts/to_test_muscle_005.ht')"
   ]
  },
  {
   "cell_type": "code",
   "execution_count": 243,
   "metadata": {},
   "outputs": [
    {
     "data": {
      "text/plain": [
       "33484"
      ]
     },
     "execution_count": 243,
     "metadata": {},
     "output_type": "execute_result"
    }
   ],
   "source": [
    "to_test.count()"
   ]
  },
  {
   "cell_type": "code",
   "execution_count": 244,
   "metadata": {},
   "outputs": [
    {
     "data": {
      "text/plain": [
       "8.959503046231036e-06"
      ]
     },
     "execution_count": 244,
     "metadata": {},
     "output_type": "execute_result"
    }
   ],
   "source": [
    "0.3/to_test.count()"
   ]
  },
  {
   "cell_type": "code",
   "execution_count": 245,
   "metadata": {},
   "outputs": [],
   "source": [
    "to_test = to_test.annotate(fisher = hl.fisher_exact_test(hl.int32(to_test.controls_non_ref), \n",
    "                                                         hl.int32(to_test.controls_ref),\n",
    "                                                         hl.int32(to_test.sports_non_ref),\n",
    "                                                         hl.int32(to_test.sports_ref)))"
   ]
  },
  {
   "cell_type": "code",
   "execution_count": 246,
   "metadata": {},
   "outputs": [],
   "source": [
    "to_test = to_test.filter(to_test.fisher.p_value < 0.3/to_test.count())"
   ]
  },
  {
   "cell_type": "code",
   "execution_count": 247,
   "metadata": {},
   "outputs": [
    {
     "data": {
      "text/plain": [
       "0"
      ]
     },
     "execution_count": 247,
     "metadata": {},
     "output_type": "execute_result"
    }
   ],
   "source": [
    "to_test.count() #so I skip this"
   ]
  },
  {
   "cell_type": "markdown",
   "metadata": {},
   "source": [
    "### genes elevated in the brain: https://www.proteinatlas.org/search/tissue_category_rna%3Abrain%3BTissue+enriched%2CGroup+enriched%2CTissue+enhanced+AND+sort_by%3Atissue+specific+score+AND+show_columns%3Agroupenriched"
   ]
  },
  {
   "cell_type": "code",
   "execution_count": 248,
   "metadata": {},
   "outputs": [],
   "source": [
    "mt = hl.read_matrix_table('/net/archive/groups/plggneuromol/sportsmen-wgs/mts/sporstmen-005-intragenic-filtered-better.mt')"
   ]
  },
  {
   "cell_type": "code",
   "execution_count": 249,
   "metadata": {},
   "outputs": [
    {
     "data": {
      "text/plain": [
       "(3154875, 147)"
      ]
     },
     "execution_count": 249,
     "metadata": {},
     "output_type": "execute_result"
    }
   ],
   "source": [
    "mt.count()"
   ]
  },
  {
   "cell_type": "code",
   "execution_count": 250,
   "metadata": {},
   "outputs": [],
   "source": [
    "mt = mt.filter_rows((mt.controls_non_ref == 0)|(mt.sports_non_ref == 0), keep=False)"
   ]
  },
  {
   "cell_type": "code",
   "execution_count": 251,
   "metadata": {},
   "outputs": [
    {
     "name": "stderr",
     "output_type": "stream",
     "text": [
      "2021-04-23 19:50:10 Hail: INFO: Loading 292 fields. Counts by type:\n",
      "  str: 292\n"
     ]
    }
   ],
   "source": [
    "brain_genes = hl.import_table('./gene-lists-and-results/tissue_category_rna_brain_Tissue.tsv')"
   ]
  },
  {
   "cell_type": "code",
   "execution_count": 252,
   "metadata": {},
   "outputs": [],
   "source": [
    "genes = brain_genes['Gene'].collect()"
   ]
  },
  {
   "cell_type": "code",
   "execution_count": 253,
   "metadata": {},
   "outputs": [
    {
     "data": {
      "text/plain": [
       "2587"
      ]
     },
     "execution_count": 253,
     "metadata": {},
     "output_type": "execute_result"
    }
   ],
   "source": [
    "len(genes)"
   ]
  },
  {
   "cell_type": "code",
   "execution_count": 254,
   "metadata": {},
   "outputs": [],
   "source": [
    "mt = mt.filter_rows(hl.any(lambda x: hl.literal(genes).contains(x), mt.within_gene))"
   ]
  },
  {
   "cell_type": "code",
   "execution_count": 255,
   "metadata": {},
   "outputs": [],
   "source": [
    "mt = mt.filter_rows(hl.is_snp(mt.alleles[0], mt.alleles[1]))"
   ]
  },
  {
   "cell_type": "code",
   "execution_count": 131,
   "metadata": {},
   "outputs": [
    {
     "name": "stderr",
     "output_type": "stream",
     "text": [
      "2021-04-23 19:14:45 Hail: INFO: wrote table with 167346 rows in 3061 partitions to /net/archive/groups/plggneuromol/sportsmen-wgs/mts/to_test_brain_005.ht\n",
      "    Total size: 3.06 MiB\n",
      "    * Rows: 3.06 MiB\n",
      "    * Globals: 11.00 B\n",
      "    * Smallest partition: 0 rows (21.00 B)\n",
      "    * Largest partition:  1077 rows (17.62 KiB)\n"
     ]
    }
   ],
   "source": [
    "to_test = mt.rows()\n",
    "to_test = to_test.select(to_test.controls_non_ref, to_test.sports_non_ref, to_test.controls_ref, to_test.sports_ref)\n",
    "\n",
    "to_test.write('/net/archive/groups/plggneuromol/sportsmen-wgs/mts/to_test_brain_005.ht')"
   ]
  },
  {
   "cell_type": "code",
   "execution_count": 256,
   "metadata": {},
   "outputs": [],
   "source": [
    "to_test = hl.read_table('/net/archive/groups/plggneuromol/sportsmen-wgs/mts/to_test_brain_005.ht')"
   ]
  },
  {
   "cell_type": "code",
   "execution_count": 257,
   "metadata": {},
   "outputs": [
    {
     "data": {
      "text/plain": [
       "167346"
      ]
     },
     "execution_count": 257,
     "metadata": {},
     "output_type": "execute_result"
    }
   ],
   "source": [
    "to_test.count()"
   ]
  },
  {
   "cell_type": "code",
   "execution_count": 258,
   "metadata": {},
   "outputs": [
    {
     "data": {
      "text/plain": [
       "2.9878216389994386e-07"
      ]
     },
     "execution_count": 258,
     "metadata": {},
     "output_type": "execute_result"
    }
   ],
   "source": [
    "0.05/to_test.count()"
   ]
  },
  {
   "cell_type": "code",
   "execution_count": 259,
   "metadata": {},
   "outputs": [],
   "source": [
    "to_test = to_test.annotate(fisher = hl.fisher_exact_test(hl.int32(to_test.controls_non_ref), \n",
    "                                                         hl.int32(to_test.controls_ref),\n",
    "                                                         hl.int32(to_test.sports_non_ref),\n",
    "                                                         hl.int32(to_test.sports_ref)))"
   ]
  },
  {
   "cell_type": "code",
   "execution_count": 260,
   "metadata": {},
   "outputs": [],
   "source": [
    "to_test = to_test.filter(to_test.fisher.p_value < 0.05/to_test.count())"
   ]
  },
  {
   "cell_type": "code",
   "execution_count": 261,
   "metadata": {},
   "outputs": [
    {
     "data": {
      "text/plain": [
       "5"
      ]
     },
     "execution_count": 261,
     "metadata": {},
     "output_type": "execute_result"
    }
   ],
   "source": [
    "to_test.count()"
   ]
  },
  {
   "cell_type": "code",
   "execution_count": 262,
   "metadata": {},
   "outputs": [],
   "source": [
    "mt = hl.read_matrix_table('/net/archive/groups/plggneuromol/sportsmen-wgs/mts/sporstmen-005-intragenic-filtered-better.mt')"
   ]
  },
  {
   "cell_type": "code",
   "execution_count": 263,
   "metadata": {},
   "outputs": [],
   "source": [
    "mt_test = mt.filter_rows(hl.is_defined(to_test[mt.row_key]), keep = True)\n",
    "mt_test = mt_test.annotate_rows(fisher = to_test[mt_test.row_key]['fisher'])"
   ]
  },
  {
   "cell_type": "code",
   "execution_count": 264,
   "metadata": {},
   "outputs": [],
   "source": [
    "mt_test = mt_test.select_rows(rsid = mt_test.gnomad_v3.rsid,\n",
    "                                 gnomAD_v3_1_allele_frequency = mt_test.gnomad_v3.v3_nfe.AF,\n",
    "                                 gnomAD_v3_1_homozygote_count = mt_test.gnomad_v3.v3_nfe.homozygote_count,\n",
    "                                 predicted_most_severe_consequence = mt_test.gnomad_v3.most_severe_consequence,\n",
    "                                 gene = mt_test.within_gene,\n",
    "                                 hpo = mt_test.hpo,\n",
    "                                 controls_non_ref = mt_test.controls_non_ref,\n",
    "                                 sports_non_ref = mt_test.sports_non_ref,\n",
    "                                 controls_ref = mt_test.controls_ref,\n",
    "                                 sports_ref = mt_test.sports_ref,\n",
    "                                 percent_controls_non_ref = mt_test.controls_non_ref/47*100,\n",
    "                                 percent_sports_non_ref = mt_test.sports_non_ref/100*100,\n",
    "                                 percent_controls_ref = mt_test.controls_ref/47*100,\n",
    "                                 percent_sports_ref = mt_test.sports_ref/100*100,\n",
    "                                 percent_sports_genotyped = (mt_test.sports_non_ref + mt_test.sports_ref)/100*100,\n",
    "                                 percent_controls_genotyped = (mt_test.controls_non_ref + mt_test.controls_ref)/47*100,\n",
    "                                 fisher = mt_test.fisher.p_value,\n",
    "                                 )"
   ]
  },
  {
   "cell_type": "code",
   "execution_count": 265,
   "metadata": {},
   "outputs": [],
   "source": [
    "mt_test = mt_test.annotate_rows(\n",
    "    samples_het = hl.agg.filter(mt_test.GT.is_het(), hl.agg.collect(mt_test.s)),\n",
    "    samples_hom_non_ref = hl.agg.filter(mt_test.GT.is_hom_var(), hl.agg.collect(mt_test.s)))"
   ]
  },
  {
   "cell_type": "code",
   "execution_count": 266,
   "metadata": {},
   "outputs": [
    {
     "data": {
      "text/plain": [
       "(5, 147)"
      ]
     },
     "execution_count": 266,
     "metadata": {},
     "output_type": "execute_result"
    }
   ],
   "source": [
    "mt_test.count()"
   ]
  },
  {
   "cell_type": "code",
   "execution_count": 267,
   "metadata": {},
   "outputs": [
    {
     "data": {
      "text/plain": [
       "{'control': 47, 'sport': 100}"
      ]
     },
     "execution_count": 267,
     "metadata": {},
     "output_type": "execute_result"
    }
   ],
   "source": [
    "mt_test.aggregate_cols(hl.agg.counter(mt_test.group))"
   ]
  },
  {
   "cell_type": "code",
   "execution_count": 268,
   "metadata": {},
   "outputs": [],
   "source": [
    "### annotate with frequency in GTS:\n",
    "\n",
    "gts = hl.read_matrix_table('/net/archive/groups/plggneuromol/sportsmen-wgs/mts/unrelated-gts.mt')\n",
    "\n",
    "gts = gts.annotate_rows(gts_non_ref = hl.agg.count_where(gts.GT.is_non_ref()),\n",
    "                        gts_ref = hl.agg.count_where(gts.GT.is_hom_ref()))\n",
    "\n",
    "gts = gts.rows()\n",
    "\n",
    "gts = gts.select(gts_non_ref = gts.gts_non_ref,\n",
    "                 gts_ref = gts.gts_ref,\n",
    "                 percent_gts_non_ref = gts.gts_non_ref/40*100,\n",
    "                 percent_gts_ref = gts.gts_ref/40*100,\n",
    "                 percent_gts_genotyped = (gts.gts_non_ref + gts.gts_ref)/40*100)\n",
    "\n",
    "mt_test = mt_test.annotate_rows(gts_non_ref = gts.index(mt_test.row_key).gts_non_ref,\n",
    "                                gts_ref = gts.index(mt_test.row_key).gts_ref,\n",
    "                                percent_gts_non_ref = gts.index(mt_test.row_key).percent_gts_non_ref,\n",
    "                                percent_gts_ref = gts.index(mt_test.row_key).percent_gts_ref,\n",
    "                                percent_gts_genotyped = gts.index(mt_test.row_key).percent_gts_genotyped)"
   ]
  },
  {
   "cell_type": "code",
   "execution_count": 269,
   "metadata": {},
   "outputs": [],
   "source": [
    "to_export = mt_test.rows()\n",
    "\n",
    "to_export = to_export.to_pandas()"
   ]
  },
  {
   "cell_type": "code",
   "execution_count": 270,
   "metadata": {},
   "outputs": [
    {
     "data": {
      "text/plain": [
       "Index(['locus.contig', 'locus.position', 'alleles', 'rsid',\n",
       "       'gnomAD_v3_1_allele_frequency', 'gnomAD_v3_1_homozygote_count',\n",
       "       'predicted_most_severe_consequence', 'gene', 'hpo', 'controls_non_ref',\n",
       "       'sports_non_ref', 'controls_ref', 'sports_ref',\n",
       "       'percent_controls_non_ref', 'percent_sports_non_ref',\n",
       "       'percent_controls_ref', 'percent_sports_ref',\n",
       "       'percent_sports_genotyped', 'percent_controls_genotyped', 'fisher',\n",
       "       'samples_het', 'samples_hom_non_ref', 'gts_non_ref', 'gts_ref',\n",
       "       'percent_gts_non_ref', 'percent_gts_ref', 'percent_gts_genotyped'],\n",
       "      dtype='object')"
      ]
     },
     "execution_count": 270,
     "metadata": {},
     "output_type": "execute_result"
    }
   ],
   "source": [
    "to_export.columns"
   ]
  },
  {
   "cell_type": "code",
   "execution_count": 271,
   "metadata": {},
   "outputs": [
    {
     "data": {
      "text/plain": [
       "(5, 27)"
      ]
     },
     "execution_count": 271,
     "metadata": {},
     "output_type": "execute_result"
    }
   ],
   "source": [
    "to_export.shape"
   ]
  },
  {
   "cell_type": "code",
   "execution_count": 272,
   "metadata": {},
   "outputs": [
    {
     "data": {
      "text/html": [
       "<div>\n",
       "<style scoped>\n",
       "    .dataframe tbody tr th:only-of-type {\n",
       "        vertical-align: middle;\n",
       "    }\n",
       "\n",
       "    .dataframe tbody tr th {\n",
       "        vertical-align: top;\n",
       "    }\n",
       "\n",
       "    .dataframe thead th {\n",
       "        text-align: right;\n",
       "    }\n",
       "</style>\n",
       "<table border=\"1\" class=\"dataframe\">\n",
       "  <thead>\n",
       "    <tr style=\"text-align: right;\">\n",
       "      <th></th>\n",
       "      <th>locus.contig</th>\n",
       "      <th>locus.position</th>\n",
       "      <th>alleles</th>\n",
       "      <th>rsid</th>\n",
       "      <th>gnomAD_v3_1_allele_frequency</th>\n",
       "      <th>gnomAD_v3_1_homozygote_count</th>\n",
       "      <th>predicted_most_severe_consequence</th>\n",
       "      <th>gene</th>\n",
       "      <th>hpo</th>\n",
       "      <th>controls_non_ref</th>\n",
       "      <th>...</th>\n",
       "      <th>percent_sports_genotyped</th>\n",
       "      <th>percent_controls_genotyped</th>\n",
       "      <th>fisher</th>\n",
       "      <th>samples_het</th>\n",
       "      <th>samples_hom_non_ref</th>\n",
       "      <th>gts_non_ref</th>\n",
       "      <th>gts_ref</th>\n",
       "      <th>percent_gts_non_ref</th>\n",
       "      <th>percent_gts_ref</th>\n",
       "      <th>percent_gts_genotyped</th>\n",
       "    </tr>\n",
       "  </thead>\n",
       "  <tbody>\n",
       "    <tr>\n",
       "      <th>0</th>\n",
       "      <td>chr2</td>\n",
       "      <td>114871252</td>\n",
       "      <td>[G, C]</td>\n",
       "      <td>rs1438743709</td>\n",
       "      <td>0.004593</td>\n",
       "      <td>32</td>\n",
       "      <td>intron_variant</td>\n",
       "      <td>[DPP10]</td>\n",
       "      <td>[None]</td>\n",
       "      <td>19</td>\n",
       "      <td>...</td>\n",
       "      <td>94.0</td>\n",
       "      <td>100.000000</td>\n",
       "      <td>5.655587e-09</td>\n",
       "      <td>[B462, S_7213, S_7214, S_7227, S_7229, S_7241,...</td>\n",
       "      <td>[S_7237, WGS_37c]</td>\n",
       "      <td>10</td>\n",
       "      <td>28</td>\n",
       "      <td>25.0</td>\n",
       "      <td>70.0</td>\n",
       "      <td>95.0</td>\n",
       "    </tr>\n",
       "    <tr>\n",
       "      <th>1</th>\n",
       "      <td>chr17</td>\n",
       "      <td>65139057</td>\n",
       "      <td>[A, G]</td>\n",
       "      <td>None</td>\n",
       "      <td>0.040370</td>\n",
       "      <td>182</td>\n",
       "      <td>intron_variant</td>\n",
       "      <td>[RGS9]</td>\n",
       "      <td>[[HP:0000613:Photophobia, HP:0000505:Visual im...</td>\n",
       "      <td>5</td>\n",
       "      <td>...</td>\n",
       "      <td>34.0</td>\n",
       "      <td>95.744682</td>\n",
       "      <td>3.981673e-09</td>\n",
       "      <td>[B477, S_7237, WGS_180b]</td>\n",
       "      <td>[B102, B156, B24, B382, B399, B427, B432, B437...</td>\n",
       "      <td>0</td>\n",
       "      <td>37</td>\n",
       "      <td>0.0</td>\n",
       "      <td>92.5</td>\n",
       "      <td>92.5</td>\n",
       "    </tr>\n",
       "    <tr>\n",
       "      <th>2</th>\n",
       "      <td>chr20</td>\n",
       "      <td>25773860</td>\n",
       "      <td>[T, C]</td>\n",
       "      <td>rs201133036</td>\n",
       "      <td>0.010995</td>\n",
       "      <td>0</td>\n",
       "      <td>intron_variant</td>\n",
       "      <td>[FAM182B]</td>\n",
       "      <td>[None]</td>\n",
       "      <td>3</td>\n",
       "      <td>...</td>\n",
       "      <td>94.0</td>\n",
       "      <td>97.872337</td>\n",
       "      <td>1.585263e-07</td>\n",
       "      <td>[B102, B338, B382, B399, B430, B439, B441, B44...</td>\n",
       "      <td>[]</td>\n",
       "      <td>2</td>\n",
       "      <td>37</td>\n",
       "      <td>5.0</td>\n",
       "      <td>92.5</td>\n",
       "      <td>97.5</td>\n",
       "    </tr>\n",
       "    <tr>\n",
       "      <th>3</th>\n",
       "      <td>chr20</td>\n",
       "      <td>25776325</td>\n",
       "      <td>[A, T]</td>\n",
       "      <td>rs1198672321</td>\n",
       "      <td>0.040598</td>\n",
       "      <td>0</td>\n",
       "      <td>intron_variant</td>\n",
       "      <td>[FAM182B]</td>\n",
       "      <td>[None]</td>\n",
       "      <td>30</td>\n",
       "      <td>...</td>\n",
       "      <td>94.0</td>\n",
       "      <td>97.872337</td>\n",
       "      <td>1.359509e-07</td>\n",
       "      <td>[475, 479, 490, 492, B156, B24, B427, B439, B4...</td>\n",
       "      <td>[]</td>\n",
       "      <td>30</td>\n",
       "      <td>9</td>\n",
       "      <td>75.0</td>\n",
       "      <td>22.5</td>\n",
       "      <td>97.5</td>\n",
       "    </tr>\n",
       "    <tr>\n",
       "      <th>4</th>\n",
       "      <td>chr22</td>\n",
       "      <td>20255642</td>\n",
       "      <td>[A, C]</td>\n",
       "      <td>None</td>\n",
       "      <td>0.000214</td>\n",
       "      <td>0</td>\n",
       "      <td>intron_variant</td>\n",
       "      <td>[RTN4R]</td>\n",
       "      <td>[[HP:0000006:Autosomal dominant inheritance, H...</td>\n",
       "      <td>15</td>\n",
       "      <td>...</td>\n",
       "      <td>93.0</td>\n",
       "      <td>97.872337</td>\n",
       "      <td>1.284009e-07</td>\n",
       "      <td>[B472, S_7212, S_7213, S_7214, S_7229, S_7236,...</td>\n",
       "      <td>[]</td>\n",
       "      <td>0</td>\n",
       "      <td>38</td>\n",
       "      <td>0.0</td>\n",
       "      <td>95.0</td>\n",
       "      <td>95.0</td>\n",
       "    </tr>\n",
       "  </tbody>\n",
       "</table>\n",
       "<p>5 rows × 27 columns</p>\n",
       "</div>"
      ],
      "text/plain": [
       "  locus.contig  locus.position alleles          rsid  \\\n",
       "0         chr2       114871252  [G, C]  rs1438743709   \n",
       "1        chr17        65139057  [A, G]          None   \n",
       "2        chr20        25773860  [T, C]   rs201133036   \n",
       "3        chr20        25776325  [A, T]  rs1198672321   \n",
       "4        chr22        20255642  [A, C]          None   \n",
       "\n",
       "   gnomAD_v3_1_allele_frequency  gnomAD_v3_1_homozygote_count  \\\n",
       "0                      0.004593                            32   \n",
       "1                      0.040370                           182   \n",
       "2                      0.010995                             0   \n",
       "3                      0.040598                             0   \n",
       "4                      0.000214                             0   \n",
       "\n",
       "  predicted_most_severe_consequence       gene  \\\n",
       "0                    intron_variant    [DPP10]   \n",
       "1                    intron_variant     [RGS9]   \n",
       "2                    intron_variant  [FAM182B]   \n",
       "3                    intron_variant  [FAM182B]   \n",
       "4                    intron_variant    [RTN4R]   \n",
       "\n",
       "                                                 hpo  controls_non_ref  ...  \\\n",
       "0                                             [None]                19  ...   \n",
       "1  [[HP:0000613:Photophobia, HP:0000505:Visual im...                 5  ...   \n",
       "2                                             [None]                 3  ...   \n",
       "3                                             [None]                30  ...   \n",
       "4  [[HP:0000006:Autosomal dominant inheritance, H...                15  ...   \n",
       "\n",
       "   percent_sports_genotyped  percent_controls_genotyped        fisher  \\\n",
       "0                      94.0                  100.000000  5.655587e-09   \n",
       "1                      34.0                   95.744682  3.981673e-09   \n",
       "2                      94.0                   97.872337  1.585263e-07   \n",
       "3                      94.0                   97.872337  1.359509e-07   \n",
       "4                      93.0                   97.872337  1.284009e-07   \n",
       "\n",
       "                                         samples_het  \\\n",
       "0  [B462, S_7213, S_7214, S_7227, S_7229, S_7241,...   \n",
       "1                           [B477, S_7237, WGS_180b]   \n",
       "2  [B102, B338, B382, B399, B430, B439, B441, B44...   \n",
       "3  [475, 479, 490, 492, B156, B24, B427, B439, B4...   \n",
       "4  [B472, S_7212, S_7213, S_7214, S_7229, S_7236,...   \n",
       "\n",
       "                                 samples_hom_non_ref  gts_non_ref  gts_ref  \\\n",
       "0                                  [S_7237, WGS_37c]           10       28   \n",
       "1  [B102, B156, B24, B382, B399, B427, B432, B437...            0       37   \n",
       "2                                                 []            2       37   \n",
       "3                                                 []           30        9   \n",
       "4                                                 []            0       38   \n",
       "\n",
       "   percent_gts_non_ref  percent_gts_ref  percent_gts_genotyped  \n",
       "0                 25.0             70.0                   95.0  \n",
       "1                  0.0             92.5                   92.5  \n",
       "2                  5.0             92.5                   97.5  \n",
       "3                 75.0             22.5                   97.5  \n",
       "4                  0.0             95.0                   95.0  \n",
       "\n",
       "[5 rows x 27 columns]"
      ]
     },
     "execution_count": 272,
     "metadata": {},
     "output_type": "execute_result"
    }
   ],
   "source": [
    "to_export"
   ]
  },
  {
   "cell_type": "code",
   "execution_count": 273,
   "metadata": {},
   "outputs": [],
   "source": [
    "to_export.to_csv('brain_variants_sportsmen')"
   ]
  },
  {
   "cell_type": "markdown",
   "metadata": {},
   "source": [
    "### genes elevated in lungs: https://www.proteinatlas.org/search/tissue_category_rna%3Alung%3BTissue+enriched%2CGroup+enriched%2CTissue+enhanced+AND+sort_by%3Atissue+specific+score+AND+show_columns%3Agroupenriched"
   ]
  },
  {
   "cell_type": "code",
   "execution_count": 157,
   "metadata": {},
   "outputs": [],
   "source": [
    "mt = hl.read_matrix_table('/net/archive/groups/plggneuromol/sportsmen-wgs/mts/sporstmen-005-intragenic-filtered-better.mt')"
   ]
  },
  {
   "cell_type": "code",
   "execution_count": 158,
   "metadata": {},
   "outputs": [
    {
     "data": {
      "text/plain": [
       "(3154875, 147)"
      ]
     },
     "execution_count": 158,
     "metadata": {},
     "output_type": "execute_result"
    }
   ],
   "source": [
    "mt.count()"
   ]
  },
  {
   "cell_type": "code",
   "execution_count": 147,
   "metadata": {},
   "outputs": [],
   "source": [
    "mt = mt.filter_rows((mt.controls_non_ref == 0)|(mt.sports_non_ref == 0), keep=False)"
   ]
  },
  {
   "cell_type": "code",
   "execution_count": 159,
   "metadata": {},
   "outputs": [
    {
     "name": "stderr",
     "output_type": "stream",
     "text": [
      "2021-04-23 19:35:14 Hail: INFO: Loading 292 fields. Counts by type:\n",
      "  str: 292\n"
     ]
    }
   ],
   "source": [
    "lung_genes = hl.import_table('./gene-lists-and-results/tissue_category_rna_lung_Tissue.tsv')"
   ]
  },
  {
   "cell_type": "code",
   "execution_count": 178,
   "metadata": {},
   "outputs": [],
   "source": [
    "genes = lung_genes['Gene'].collect()"
   ]
  },
  {
   "cell_type": "code",
   "execution_count": 161,
   "metadata": {},
   "outputs": [
    {
     "data": {
      "text/plain": [
       "239"
      ]
     },
     "execution_count": 161,
     "metadata": {},
     "output_type": "execute_result"
    }
   ],
   "source": [
    "len(genes)"
   ]
  },
  {
   "cell_type": "code",
   "execution_count": 179,
   "metadata": {},
   "outputs": [],
   "source": [
    "mt = mt.filter_rows(hl.any(lambda x: hl.literal(genes).contains(x), mt.within_gene))"
   ]
  },
  {
   "cell_type": "code",
   "execution_count": 164,
   "metadata": {},
   "outputs": [
    {
     "name": "stderr",
     "output_type": "stream",
     "text": [
      "2021-04-23 19:36:35 Hail: INFO: wrote table with 25923 rows in 3061 partitions to /net/archive/groups/plggneuromol/sportsmen-wgs/mts/to_test_lung_005.ht\n",
      "    Total size: 538.17 KiB\n",
      "    * Rows: 538.16 KiB\n",
      "    * Globals: 11.00 B\n",
      "    * Smallest partition: 0 rows (21.00 B)\n",
      "    * Largest partition:  1146 rows (19.38 KiB)\n"
     ]
    }
   ],
   "source": [
    "to_test = mt.rows()\n",
    "to_test = to_test.select(to_test.controls_non_ref, to_test.sports_non_ref, to_test.controls_ref, to_test.sports_ref)\n",
    "\n",
    "to_test.write('/net/archive/groups/plggneuromol/sportsmen-wgs/mts/to_test_lung_005.ht')"
   ]
  },
  {
   "cell_type": "code",
   "execution_count": 180,
   "metadata": {},
   "outputs": [],
   "source": [
    "to_test = hl.read_table('/net/archive/groups/plggneuromol/sportsmen-wgs/mts/to_test_lung_005.ht')"
   ]
  },
  {
   "cell_type": "code",
   "execution_count": 181,
   "metadata": {},
   "outputs": [
    {
     "data": {
      "text/plain": [
       "25923"
      ]
     },
     "execution_count": 181,
     "metadata": {},
     "output_type": "execute_result"
    }
   ],
   "source": [
    "to_test.count()"
   ]
  },
  {
   "cell_type": "code",
   "execution_count": 167,
   "metadata": {},
   "outputs": [
    {
     "data": {
      "text/plain": [
       "1.1572734637194768e-05"
      ]
     },
     "execution_count": 167,
     "metadata": {},
     "output_type": "execute_result"
    }
   ],
   "source": [
    "0.3/to_test.count()"
   ]
  },
  {
   "cell_type": "code",
   "execution_count": 168,
   "metadata": {},
   "outputs": [],
   "source": [
    "to_test = to_test.annotate(fisher = hl.fisher_exact_test(hl.int32(to_test.controls_non_ref), \n",
    "                                                         hl.int32(to_test.controls_ref),\n",
    "                                                         hl.int32(to_test.sports_non_ref),\n",
    "                                                         hl.int32(to_test.sports_ref)))"
   ]
  },
  {
   "cell_type": "code",
   "execution_count": 170,
   "metadata": {},
   "outputs": [],
   "source": [
    "to_test = to_test.filter(to_test.fisher.p_value < 0.05/to_test.count())"
   ]
  },
  {
   "cell_type": "code",
   "execution_count": 171,
   "metadata": {},
   "outputs": [
    {
     "data": {
      "text/plain": [
       "21"
      ]
     },
     "execution_count": 171,
     "metadata": {},
     "output_type": "execute_result"
    }
   ],
   "source": [
    "to_test.count()"
   ]
  },
  {
   "cell_type": "code",
   "execution_count": 172,
   "metadata": {},
   "outputs": [],
   "source": [
    "mt = hl.read_matrix_table('/net/archive/groups/plggneuromol/sportsmen-wgs/mts/sporstmen-005-intragenic-filtered-better.mt')"
   ]
  },
  {
   "cell_type": "code",
   "execution_count": 173,
   "metadata": {},
   "outputs": [],
   "source": [
    "mt_test = mt.filter_rows(hl.is_defined(to_test[mt.row_key]), keep = True)\n",
    "mt_test = mt_test.annotate_rows(fisher = to_test[mt_test.row_key]['fisher'])"
   ]
  },
  {
   "cell_type": "code",
   "execution_count": 174,
   "metadata": {},
   "outputs": [],
   "source": [
    "mt_test = mt_test.select_rows(rsid = mt_test.gnomad_v3.rsid,\n",
    "                                 gnomAD_v3_1_allele_frequency = mt_test.gnomad_v3.v3_nfe.AF,\n",
    "                                 gnomAD_v3_1_homozygote_count = mt_test.gnomad_v3.v3_nfe.homozygote_count,\n",
    "                                 predicted_most_severe_consequence = mt_test.gnomad_v3.most_severe_consequence,\n",
    "                                 gene = mt_test.within_gene,\n",
    "                                 hpo = mt_test.hpo,\n",
    "                                 controls_non_ref = mt_test.controls_non_ref,\n",
    "                                 sports_non_ref = mt_test.sports_non_ref,\n",
    "                                 controls_ref = mt_test.controls_ref,\n",
    "                                 sports_ref = mt_test.sports_ref,\n",
    "                                 percent_controls_non_ref = mt_test.controls_non_ref/47*100,\n",
    "                                 percent_sports_non_ref = mt_test.sports_non_ref/100*100,\n",
    "                                 percent_controls_ref = mt_test.controls_ref/47*100,\n",
    "                                 percent_sports_ref = mt_test.sports_ref/100*100,\n",
    "                                 percent_sports_genotyped = (mt_test.sports_non_ref + mt_test.sports_ref)/100*100,\n",
    "                                 percent_controls_genotyped = (mt_test.controls_non_ref + mt_test.controls_ref)/47*100,\n",
    "                                 fisher = mt_test.fisher.p_value,\n",
    "                                 )"
   ]
  },
  {
   "cell_type": "code",
   "execution_count": 175,
   "metadata": {},
   "outputs": [],
   "source": [
    "mt_test = mt_test.filter_rows(hl.is_snp(mt_test.alleles[0], mt_test.alleles[1]))"
   ]
  },
  {
   "cell_type": "code",
   "execution_count": 176,
   "metadata": {},
   "outputs": [],
   "source": [
    "mt_test = mt_test.annotate_rows(\n",
    "    samples_het = hl.agg.filter(mt_test.GT.is_het(), hl.agg.collect(mt_test.s)),\n",
    "    samples_hom_non_ref = hl.agg.filter(mt_test.GT.is_hom_var(), hl.agg.collect(mt_test.s)))"
   ]
  },
  {
   "cell_type": "code",
   "execution_count": 177,
   "metadata": {},
   "outputs": [
    {
     "data": {
      "text/plain": [
       "(12, 147)"
      ]
     },
     "execution_count": 177,
     "metadata": {},
     "output_type": "execute_result"
    }
   ],
   "source": [
    "mt_test.count()"
   ]
  },
  {
   "cell_type": "code",
   "execution_count": 182,
   "metadata": {},
   "outputs": [],
   "source": [
    "### annotate with frequency in GTS:\n",
    "\n",
    "gts = hl.read_matrix_table('/net/archive/groups/plggneuromol/sportsmen-wgs/mts/unrelated-gts.mt')\n",
    "\n",
    "gts = gts.annotate_rows(gts_non_ref = hl.agg.count_where(gts.GT.is_non_ref()),\n",
    "                        gts_ref = hl.agg.count_where(gts.GT.is_hom_ref()))\n",
    "\n",
    "gts = gts.rows()\n",
    "\n",
    "gts = gts.select(gts_non_ref = gts.gts_non_ref,\n",
    "                 gts_ref = gts.gts_ref,\n",
    "                 percent_gts_non_ref = gts.gts_non_ref/40*100,\n",
    "                 percent_gts_ref = gts.gts_ref/40*100,\n",
    "                 percent_gts_genotyped = (gts.gts_non_ref + gts.gts_ref)/40*100)\n",
    "\n",
    "mt_test = mt_test.annotate_rows(gts_non_ref = gts.index(mt_test.row_key).gts_non_ref,\n",
    "                                gts_ref = gts.index(mt_test.row_key).gts_ref,\n",
    "                                percent_gts_non_ref = gts.index(mt_test.row_key).percent_gts_non_ref,\n",
    "                                percent_gts_ref = gts.index(mt_test.row_key).percent_gts_ref,\n",
    "                                percent_gts_genotyped = gts.index(mt_test.row_key).percent_gts_genotyped)"
   ]
  },
  {
   "cell_type": "code",
   "execution_count": 183,
   "metadata": {},
   "outputs": [],
   "source": [
    "to_export = mt_test.rows()\n",
    "\n",
    "to_export = to_export.to_pandas()"
   ]
  },
  {
   "cell_type": "code",
   "execution_count": 184,
   "metadata": {},
   "outputs": [
    {
     "data": {
      "text/plain": [
       "Index(['locus.contig', 'locus.position', 'alleles', 'rsid',\n",
       "       'gnomAD_v3_1_allele_frequency', 'gnomAD_v3_1_homozygote_count',\n",
       "       'predicted_most_severe_consequence', 'gene', 'hpo', 'controls_non_ref',\n",
       "       'sports_non_ref', 'controls_ref', 'sports_ref',\n",
       "       'percent_controls_non_ref', 'percent_sports_non_ref',\n",
       "       'percent_controls_ref', 'percent_sports_ref',\n",
       "       'percent_sports_genotyped', 'percent_controls_genotyped', 'fisher',\n",
       "       'samples_het', 'samples_hom_non_ref', 'gts_non_ref', 'gts_ref',\n",
       "       'percent_gts_non_ref', 'percent_gts_ref', 'percent_gts_genotyped'],\n",
       "      dtype='object')"
      ]
     },
     "execution_count": 184,
     "metadata": {},
     "output_type": "execute_result"
    }
   ],
   "source": [
    "to_export.columns"
   ]
  },
  {
   "cell_type": "code",
   "execution_count": 185,
   "metadata": {},
   "outputs": [
    {
     "data": {
      "text/plain": [
       "(12, 27)"
      ]
     },
     "execution_count": 185,
     "metadata": {},
     "output_type": "execute_result"
    }
   ],
   "source": [
    "to_export.shape"
   ]
  },
  {
   "cell_type": "code",
   "execution_count": 186,
   "metadata": {},
   "outputs": [
    {
     "data": {
      "text/html": [
       "<div>\n",
       "<style scoped>\n",
       "    .dataframe tbody tr th:only-of-type {\n",
       "        vertical-align: middle;\n",
       "    }\n",
       "\n",
       "    .dataframe tbody tr th {\n",
       "        vertical-align: top;\n",
       "    }\n",
       "\n",
       "    .dataframe thead th {\n",
       "        text-align: right;\n",
       "    }\n",
       "</style>\n",
       "<table border=\"1\" class=\"dataframe\">\n",
       "  <thead>\n",
       "    <tr style=\"text-align: right;\">\n",
       "      <th></th>\n",
       "      <th>locus.contig</th>\n",
       "      <th>locus.position</th>\n",
       "      <th>alleles</th>\n",
       "      <th>rsid</th>\n",
       "      <th>gnomAD_v3_1_allele_frequency</th>\n",
       "      <th>gnomAD_v3_1_homozygote_count</th>\n",
       "      <th>predicted_most_severe_consequence</th>\n",
       "      <th>gene</th>\n",
       "      <th>hpo</th>\n",
       "      <th>controls_non_ref</th>\n",
       "      <th>...</th>\n",
       "      <th>percent_sports_genotyped</th>\n",
       "      <th>percent_controls_genotyped</th>\n",
       "      <th>fisher</th>\n",
       "      <th>samples_het</th>\n",
       "      <th>samples_hom_non_ref</th>\n",
       "      <th>gts_non_ref</th>\n",
       "      <th>gts_ref</th>\n",
       "      <th>percent_gts_non_ref</th>\n",
       "      <th>percent_gts_ref</th>\n",
       "      <th>percent_gts_genotyped</th>\n",
       "    </tr>\n",
       "  </thead>\n",
       "  <tbody>\n",
       "    <tr>\n",
       "      <th>0</th>\n",
       "      <td>chr6</td>\n",
       "      <td>32525558</td>\n",
       "      <td>[A, C]</td>\n",
       "      <td>None</td>\n",
       "      <td>0.027921</td>\n",
       "      <td>0</td>\n",
       "      <td>intron_variant</td>\n",
       "      <td>[HLA-DRB5]</td>\n",
       "      <td>[None]</td>\n",
       "      <td>20</td>\n",
       "      <td>...</td>\n",
       "      <td>28.000000</td>\n",
       "      <td>85.106384</td>\n",
       "      <td>1.806750e-06</td>\n",
       "      <td>[S_7212, S_7229, S_7246, S_7252, S_7261, S_726...</td>\n",
       "      <td>[S_7245, S_7247, S_7255, S_7294, WGS_163b, WGS...</td>\n",
       "      <td>9</td>\n",
       "      <td>20</td>\n",
       "      <td>22.500000</td>\n",
       "      <td>50.000000</td>\n",
       "      <td>72.5</td>\n",
       "    </tr>\n",
       "    <tr>\n",
       "      <th>1</th>\n",
       "      <td>chr6</td>\n",
       "      <td>32525559</td>\n",
       "      <td>[T, C]</td>\n",
       "      <td>rs201618469</td>\n",
       "      <td>0.027942</td>\n",
       "      <td>0</td>\n",
       "      <td>intron_variant</td>\n",
       "      <td>[HLA-DRB5]</td>\n",
       "      <td>[None]</td>\n",
       "      <td>18</td>\n",
       "      <td>...</td>\n",
       "      <td>28.000000</td>\n",
       "      <td>85.106384</td>\n",
       "      <td>1.083374e-05</td>\n",
       "      <td>[S_7212, S_7229, S_7246, S_7252, S_7261, S_726...</td>\n",
       "      <td>[S_7245, S_7247, S_7255, S_7294, WGS_163b, WGS...</td>\n",
       "      <td>9</td>\n",
       "      <td>20</td>\n",
       "      <td>22.500000</td>\n",
       "      <td>50.000000</td>\n",
       "      <td>72.5</td>\n",
       "    </tr>\n",
       "    <tr>\n",
       "      <th>2</th>\n",
       "      <td>chr6</td>\n",
       "      <td>32529071</td>\n",
       "      <td>[C, T]</td>\n",
       "      <td>rs796985052</td>\n",
       "      <td>0.047066</td>\n",
       "      <td>0</td>\n",
       "      <td>intron_variant</td>\n",
       "      <td>[HLA-DRB5]</td>\n",
       "      <td>[None]</td>\n",
       "      <td>22</td>\n",
       "      <td>...</td>\n",
       "      <td>27.000002</td>\n",
       "      <td>89.361702</td>\n",
       "      <td>9.174138e-07</td>\n",
       "      <td>[S_7212, S_7213, S_7229, S_7245, S_7247, S_725...</td>\n",
       "      <td>[]</td>\n",
       "      <td>18</td>\n",
       "      <td>21</td>\n",
       "      <td>45.000000</td>\n",
       "      <td>52.499996</td>\n",
       "      <td>97.5</td>\n",
       "    </tr>\n",
       "    <tr>\n",
       "      <th>3</th>\n",
       "      <td>chr6</td>\n",
       "      <td>32529075</td>\n",
       "      <td>[C, A]</td>\n",
       "      <td>rs1019319406</td>\n",
       "      <td>0.014959</td>\n",
       "      <td>0</td>\n",
       "      <td>intron_variant</td>\n",
       "      <td>[HLA-DRB5]</td>\n",
       "      <td>[None]</td>\n",
       "      <td>22</td>\n",
       "      <td>...</td>\n",
       "      <td>27.000002</td>\n",
       "      <td>89.361702</td>\n",
       "      <td>9.174138e-07</td>\n",
       "      <td>[S_7212, S_7229, S_7236, S_7252, S_7255, S_726...</td>\n",
       "      <td>[]</td>\n",
       "      <td>21</td>\n",
       "      <td>18</td>\n",
       "      <td>52.499996</td>\n",
       "      <td>45.000000</td>\n",
       "      <td>97.5</td>\n",
       "    </tr>\n",
       "    <tr>\n",
       "      <th>4</th>\n",
       "      <td>chr6</td>\n",
       "      <td>32529084</td>\n",
       "      <td>[T, A]</td>\n",
       "      <td>rs965122936</td>\n",
       "      <td>0.016525</td>\n",
       "      <td>0</td>\n",
       "      <td>intron_variant</td>\n",
       "      <td>[HLA-DRB5]</td>\n",
       "      <td>[None]</td>\n",
       "      <td>23</td>\n",
       "      <td>...</td>\n",
       "      <td>27.000002</td>\n",
       "      <td>89.361702</td>\n",
       "      <td>5.866651e-07</td>\n",
       "      <td>[S_7212, S_7229, S_7236, S_7246, S_7252, S_725...</td>\n",
       "      <td>[]</td>\n",
       "      <td>20</td>\n",
       "      <td>19</td>\n",
       "      <td>50.000000</td>\n",
       "      <td>47.500000</td>\n",
       "      <td>97.5</td>\n",
       "    </tr>\n",
       "    <tr>\n",
       "      <th>5</th>\n",
       "      <td>chr6</td>\n",
       "      <td>32529099</td>\n",
       "      <td>[G, A]</td>\n",
       "      <td>None</td>\n",
       "      <td>0.015727</td>\n",
       "      <td>0</td>\n",
       "      <td>intron_variant</td>\n",
       "      <td>[HLA-DRB5]</td>\n",
       "      <td>[None]</td>\n",
       "      <td>24</td>\n",
       "      <td>...</td>\n",
       "      <td>26.000000</td>\n",
       "      <td>89.361702</td>\n",
       "      <td>2.528710e-07</td>\n",
       "      <td>[S_7212, S_7229, S_7236, S_7246, S_7252, S_725...</td>\n",
       "      <td>[]</td>\n",
       "      <td>21</td>\n",
       "      <td>18</td>\n",
       "      <td>52.499996</td>\n",
       "      <td>45.000000</td>\n",
       "      <td>97.5</td>\n",
       "    </tr>\n",
       "    <tr>\n",
       "      <th>6</th>\n",
       "      <td>chr6</td>\n",
       "      <td>32529948</td>\n",
       "      <td>[A, T]</td>\n",
       "      <td>rs114292540</td>\n",
       "      <td>0.005315</td>\n",
       "      <td>0</td>\n",
       "      <td>intron_variant</td>\n",
       "      <td>[HLA-DRB5]</td>\n",
       "      <td>[None]</td>\n",
       "      <td>22</td>\n",
       "      <td>...</td>\n",
       "      <td>38.000000</td>\n",
       "      <td>93.617020</td>\n",
       "      <td>6.675157e-08</td>\n",
       "      <td>[S_7212, S_7229, S_7246, S_7261, S_7263, S_727...</td>\n",
       "      <td>[]</td>\n",
       "      <td>20</td>\n",
       "      <td>20</td>\n",
       "      <td>50.000000</td>\n",
       "      <td>50.000000</td>\n",
       "      <td>100.0</td>\n",
       "    </tr>\n",
       "    <tr>\n",
       "      <th>7</th>\n",
       "      <td>chr6</td>\n",
       "      <td>32529983</td>\n",
       "      <td>[A, T]</td>\n",
       "      <td>rs115098928</td>\n",
       "      <td>0.003106</td>\n",
       "      <td>0</td>\n",
       "      <td>intron_variant</td>\n",
       "      <td>[HLA-DRB5]</td>\n",
       "      <td>[None]</td>\n",
       "      <td>19</td>\n",
       "      <td>...</td>\n",
       "      <td>44.000000</td>\n",
       "      <td>93.617020</td>\n",
       "      <td>3.162186e-07</td>\n",
       "      <td>[S_7212, S_7229, S_7246, S_7252, S_7261, S_726...</td>\n",
       "      <td>[]</td>\n",
       "      <td>18</td>\n",
       "      <td>22</td>\n",
       "      <td>45.000000</td>\n",
       "      <td>55.000000</td>\n",
       "      <td>100.0</td>\n",
       "    </tr>\n",
       "    <tr>\n",
       "      <th>8</th>\n",
       "      <td>chr6</td>\n",
       "      <td>32530090</td>\n",
       "      <td>[C, T]</td>\n",
       "      <td>rs752268643</td>\n",
       "      <td>0.034809</td>\n",
       "      <td>0</td>\n",
       "      <td>intron_variant</td>\n",
       "      <td>[HLA-DRB5]</td>\n",
       "      <td>[None]</td>\n",
       "      <td>19</td>\n",
       "      <td>...</td>\n",
       "      <td>46.000000</td>\n",
       "      <td>93.617020</td>\n",
       "      <td>9.810277e-08</td>\n",
       "      <td>[S_7212, S_7229, S_7246, S_7252, S_7255, S_726...</td>\n",
       "      <td>[]</td>\n",
       "      <td>12</td>\n",
       "      <td>24</td>\n",
       "      <td>30.000002</td>\n",
       "      <td>60.000004</td>\n",
       "      <td>90.0</td>\n",
       "    </tr>\n",
       "    <tr>\n",
       "      <th>9</th>\n",
       "      <td>chr6</td>\n",
       "      <td>32530133</td>\n",
       "      <td>[T, C]</td>\n",
       "      <td>rs139583918</td>\n",
       "      <td>0.025449</td>\n",
       "      <td>0</td>\n",
       "      <td>missense_variant</td>\n",
       "      <td>[HLA-DRB5]</td>\n",
       "      <td>[None]</td>\n",
       "      <td>19</td>\n",
       "      <td>...</td>\n",
       "      <td>44.000000</td>\n",
       "      <td>93.617020</td>\n",
       "      <td>3.162186e-07</td>\n",
       "      <td>[S_7212, S_7229, S_7246, S_7252, S_7255, S_726...</td>\n",
       "      <td>[]</td>\n",
       "      <td>12</td>\n",
       "      <td>25</td>\n",
       "      <td>30.000002</td>\n",
       "      <td>62.500000</td>\n",
       "      <td>92.5</td>\n",
       "    </tr>\n",
       "    <tr>\n",
       "      <th>10</th>\n",
       "      <td>chr6</td>\n",
       "      <td>32530136</td>\n",
       "      <td>[C, A]</td>\n",
       "      <td>rs146966122</td>\n",
       "      <td>0.008851</td>\n",
       "      <td>0</td>\n",
       "      <td>missense_variant</td>\n",
       "      <td>[HLA-DRB5]</td>\n",
       "      <td>[None]</td>\n",
       "      <td>18</td>\n",
       "      <td>...</td>\n",
       "      <td>43.000000</td>\n",
       "      <td>91.489365</td>\n",
       "      <td>7.974208e-07</td>\n",
       "      <td>[S_7212, S_7229, S_7246, S_7252, S_7255, S_726...</td>\n",
       "      <td>[]</td>\n",
       "      <td>12</td>\n",
       "      <td>25</td>\n",
       "      <td>30.000002</td>\n",
       "      <td>62.500000</td>\n",
       "      <td>92.5</td>\n",
       "    </tr>\n",
       "    <tr>\n",
       "      <th>11</th>\n",
       "      <td>chr16</td>\n",
       "      <td>10532959</td>\n",
       "      <td>[G, A]</td>\n",
       "      <td>rs767283646</td>\n",
       "      <td>0.000031</td>\n",
       "      <td>0</td>\n",
       "      <td>synonymous_variant</td>\n",
       "      <td>[EMP2]</td>\n",
       "      <td>[[HP:0012588:Steroid-resistant nephrotic syndr...</td>\n",
       "      <td>0</td>\n",
       "      <td>...</td>\n",
       "      <td>97.000000</td>\n",
       "      <td>97.872337</td>\n",
       "      <td>7.993277e-15</td>\n",
       "      <td>[B431, B432, B433, B435, B436, B438, B439, B44...</td>\n",
       "      <td>[]</td>\n",
       "      <td>0</td>\n",
       "      <td>40</td>\n",
       "      <td>0.000000</td>\n",
       "      <td>100.000000</td>\n",
       "      <td>100.0</td>\n",
       "    </tr>\n",
       "  </tbody>\n",
       "</table>\n",
       "<p>12 rows × 27 columns</p>\n",
       "</div>"
      ],
      "text/plain": [
       "   locus.contig  locus.position alleles          rsid  \\\n",
       "0          chr6        32525558  [A, C]          None   \n",
       "1          chr6        32525559  [T, C]   rs201618469   \n",
       "2          chr6        32529071  [C, T]   rs796985052   \n",
       "3          chr6        32529075  [C, A]  rs1019319406   \n",
       "4          chr6        32529084  [T, A]   rs965122936   \n",
       "5          chr6        32529099  [G, A]          None   \n",
       "6          chr6        32529948  [A, T]   rs114292540   \n",
       "7          chr6        32529983  [A, T]   rs115098928   \n",
       "8          chr6        32530090  [C, T]   rs752268643   \n",
       "9          chr6        32530133  [T, C]   rs139583918   \n",
       "10         chr6        32530136  [C, A]   rs146966122   \n",
       "11        chr16        10532959  [G, A]   rs767283646   \n",
       "\n",
       "    gnomAD_v3_1_allele_frequency  gnomAD_v3_1_homozygote_count  \\\n",
       "0                       0.027921                             0   \n",
       "1                       0.027942                             0   \n",
       "2                       0.047066                             0   \n",
       "3                       0.014959                             0   \n",
       "4                       0.016525                             0   \n",
       "5                       0.015727                             0   \n",
       "6                       0.005315                             0   \n",
       "7                       0.003106                             0   \n",
       "8                       0.034809                             0   \n",
       "9                       0.025449                             0   \n",
       "10                      0.008851                             0   \n",
       "11                      0.000031                             0   \n",
       "\n",
       "   predicted_most_severe_consequence        gene  \\\n",
       "0                     intron_variant  [HLA-DRB5]   \n",
       "1                     intron_variant  [HLA-DRB5]   \n",
       "2                     intron_variant  [HLA-DRB5]   \n",
       "3                     intron_variant  [HLA-DRB5]   \n",
       "4                     intron_variant  [HLA-DRB5]   \n",
       "5                     intron_variant  [HLA-DRB5]   \n",
       "6                     intron_variant  [HLA-DRB5]   \n",
       "7                     intron_variant  [HLA-DRB5]   \n",
       "8                     intron_variant  [HLA-DRB5]   \n",
       "9                   missense_variant  [HLA-DRB5]   \n",
       "10                  missense_variant  [HLA-DRB5]   \n",
       "11                synonymous_variant      [EMP2]   \n",
       "\n",
       "                                                  hpo  controls_non_ref  ...  \\\n",
       "0                                              [None]                20  ...   \n",
       "1                                              [None]                18  ...   \n",
       "2                                              [None]                22  ...   \n",
       "3                                              [None]                22  ...   \n",
       "4                                              [None]                23  ...   \n",
       "5                                              [None]                24  ...   \n",
       "6                                              [None]                22  ...   \n",
       "7                                              [None]                19  ...   \n",
       "8                                              [None]                19  ...   \n",
       "9                                              [None]                19  ...   \n",
       "10                                             [None]                18  ...   \n",
       "11  [[HP:0012588:Steroid-resistant nephrotic syndr...                 0  ...   \n",
       "\n",
       "    percent_sports_genotyped  percent_controls_genotyped        fisher  \\\n",
       "0                  28.000000                   85.106384  1.806750e-06   \n",
       "1                  28.000000                   85.106384  1.083374e-05   \n",
       "2                  27.000002                   89.361702  9.174138e-07   \n",
       "3                  27.000002                   89.361702  9.174138e-07   \n",
       "4                  27.000002                   89.361702  5.866651e-07   \n",
       "5                  26.000000                   89.361702  2.528710e-07   \n",
       "6                  38.000000                   93.617020  6.675157e-08   \n",
       "7                  44.000000                   93.617020  3.162186e-07   \n",
       "8                  46.000000                   93.617020  9.810277e-08   \n",
       "9                  44.000000                   93.617020  3.162186e-07   \n",
       "10                 43.000000                   91.489365  7.974208e-07   \n",
       "11                 97.000000                   97.872337  7.993277e-15   \n",
       "\n",
       "                                          samples_het  \\\n",
       "0   [S_7212, S_7229, S_7246, S_7252, S_7261, S_726...   \n",
       "1   [S_7212, S_7229, S_7246, S_7252, S_7261, S_726...   \n",
       "2   [S_7212, S_7213, S_7229, S_7245, S_7247, S_725...   \n",
       "3   [S_7212, S_7229, S_7236, S_7252, S_7255, S_726...   \n",
       "4   [S_7212, S_7229, S_7236, S_7246, S_7252, S_725...   \n",
       "5   [S_7212, S_7229, S_7236, S_7246, S_7252, S_725...   \n",
       "6   [S_7212, S_7229, S_7246, S_7261, S_7263, S_727...   \n",
       "7   [S_7212, S_7229, S_7246, S_7252, S_7261, S_726...   \n",
       "8   [S_7212, S_7229, S_7246, S_7252, S_7255, S_726...   \n",
       "9   [S_7212, S_7229, S_7246, S_7252, S_7255, S_726...   \n",
       "10  [S_7212, S_7229, S_7246, S_7252, S_7255, S_726...   \n",
       "11  [B431, B432, B433, B435, B436, B438, B439, B44...   \n",
       "\n",
       "                                  samples_hom_non_ref  gts_non_ref  gts_ref  \\\n",
       "0   [S_7245, S_7247, S_7255, S_7294, WGS_163b, WGS...            9       20   \n",
       "1   [S_7245, S_7247, S_7255, S_7294, WGS_163b, WGS...            9       20   \n",
       "2                                                  []           18       21   \n",
       "3                                                  []           21       18   \n",
       "4                                                  []           20       19   \n",
       "5                                                  []           21       18   \n",
       "6                                                  []           20       20   \n",
       "7                                                  []           18       22   \n",
       "8                                                  []           12       24   \n",
       "9                                                  []           12       25   \n",
       "10                                                 []           12       25   \n",
       "11                                                 []            0       40   \n",
       "\n",
       "    percent_gts_non_ref  percent_gts_ref  percent_gts_genotyped  \n",
       "0             22.500000        50.000000                   72.5  \n",
       "1             22.500000        50.000000                   72.5  \n",
       "2             45.000000        52.499996                   97.5  \n",
       "3             52.499996        45.000000                   97.5  \n",
       "4             50.000000        47.500000                   97.5  \n",
       "5             52.499996        45.000000                   97.5  \n",
       "6             50.000000        50.000000                  100.0  \n",
       "7             45.000000        55.000000                  100.0  \n",
       "8             30.000002        60.000004                   90.0  \n",
       "9             30.000002        62.500000                   92.5  \n",
       "10            30.000002        62.500000                   92.5  \n",
       "11             0.000000       100.000000                  100.0  \n",
       "\n",
       "[12 rows x 27 columns]"
      ]
     },
     "execution_count": 186,
     "metadata": {},
     "output_type": "execute_result"
    }
   ],
   "source": [
    "to_export"
   ]
  },
  {
   "cell_type": "markdown",
   "metadata": {},
   "source": [
    "## rare variants"
   ]
  },
  {
   "cell_type": "code",
   "execution_count": 274,
   "metadata": {},
   "outputs": [],
   "source": [
    "mt = hl.read_matrix_table('/net/archive/groups/plggneuromol/sportsmen-wgs/mts/sporstmen-005-intragenic-filtered-better.mt')"
   ]
  },
  {
   "cell_type": "code",
   "execution_count": 275,
   "metadata": {},
   "outputs": [],
   "source": [
    "mt = mt.filter_rows(hl.agg.any(mt.GT.is_non_ref()))"
   ]
  },
  {
   "cell_type": "code",
   "execution_count": 276,
   "metadata": {},
   "outputs": [],
   "source": [
    "mt = mt.filter_rows(hl.is_snp(mt.alleles[0], mt.alleles[1]))"
   ]
  },
  {
   "cell_type": "code",
   "execution_count": 277,
   "metadata": {},
   "outputs": [
    {
     "name": "stderr",
     "output_type": "stream",
     "text": [
      "/net/software/local/python/3.6.5/lib/python3.6/site-packages/ipykernel_launcher.py:1: DeprecationWarning: Call to deprecated function (or staticmethod) cond. (Replaced by hl.if_else) -- Deprecated since version 0.2.59.\n",
      "  \"\"\"Entry point for launching an IPython kernel.\n"
     ]
    }
   ],
   "source": [
    "mt = mt.annotate_cols(group = hl.cond(mt.s.contains(\"B\"), \"sport\", \"control\"))"
   ]
  },
  {
   "cell_type": "code",
   "execution_count": 278,
   "metadata": {},
   "outputs": [],
   "source": [
    "mt = mt.filter_rows((mt.gnomad_v3.v3_nfe.AF < 0.0001) & (mt.gnomad_v3.v3_nfe.AF > 0))"
   ]
  },
  {
   "cell_type": "code",
   "execution_count": 279,
   "metadata": {},
   "outputs": [],
   "source": [
    "mt = mt.annotate_rows(controls_non_ref = hl.agg.filter((mt.group == 'control'), hl.agg.count_where(mt.GT.is_non_ref())),\n",
    "                      sports_non_ref = hl.agg.filter((mt.group == 'sport'), hl.agg.count_where(mt.GT.is_non_ref())))"
   ]
  },
  {
   "cell_type": "code",
   "execution_count": 280,
   "metadata": {},
   "outputs": [],
   "source": [
    "mt = mt.select_rows(rsid = mt.gnomad_v3.rsid,\n",
    "                                 gnomAD_v3_1_allele_frequency = mt.gnomad_v3.v3_nfe.AF,\n",
    "                                 gnomAD_v3_1_homozygote_count = mt.gnomad_v3.v3_nfe.homozygote_count,\n",
    "                                 predicted_most_severe_consequence = mt.gnomad_v3.most_severe_consequence,\n",
    "                                 gene = mt.within_gene,\n",
    "                                 hpo = mt.hpo,\n",
    "                                 controls_non_ref = mt.controls_non_ref,\n",
    "                                 sports_non_ref = mt.sports_non_ref)\n",
    "\n",
    "mt = mt.annotate_rows(\n",
    "    samples_het = hl.agg.filter(mt.GT.is_het(), hl.agg.collect(mt.s)),\n",
    "    samples_hom_non_ref = hl.agg.filter(mt.GT.is_hom_var(), hl.agg.collect(mt.s)))"
   ]
  },
  {
   "cell_type": "code",
   "execution_count": 281,
   "metadata": {},
   "outputs": [],
   "source": [
    "mt = mt.filter_rows(mt.predicted_most_severe_consequence.contains('gain'))"
   ]
  },
  {
   "cell_type": "code",
   "execution_count": 282,
   "metadata": {},
   "outputs": [],
   "source": [
    "mt = mt.annotate_rows(gts_non_ref = gts.index(mt.row_key).gts_non_ref,\n",
    "                                gts_ref = gts.index(mt.row_key).gts_ref,\n",
    "                                percent_gts_non_ref = gts.index(mt.row_key).percent_gts_non_ref,\n",
    "                                percent_gts_ref = gts.index(mt.row_key).percent_gts_ref,\n",
    "                                percent_gts_genotyped = gts.index(mt.row_key).percent_gts_genotyped)"
   ]
  },
  {
   "cell_type": "code",
   "execution_count": 283,
   "metadata": {},
   "outputs": [],
   "source": [
    "mt = mt.filter_rows(mt.sports_non_ref > 1)"
   ]
  },
  {
   "cell_type": "code",
   "execution_count": 284,
   "metadata": {},
   "outputs": [
    {
     "data": {
      "text/plain": [
       "(2, 147)"
      ]
     },
     "execution_count": 284,
     "metadata": {},
     "output_type": "execute_result"
    }
   ],
   "source": [
    "mt.count()"
   ]
  },
  {
   "cell_type": "code",
   "execution_count": 285,
   "metadata": {},
   "outputs": [],
   "source": [
    "to_export = mt.rows()\n",
    "to_export = to_export.to_pandas()"
   ]
  },
  {
   "cell_type": "code",
   "execution_count": 286,
   "metadata": {
    "scrolled": false
   },
   "outputs": [
    {
     "data": {
      "text/plain": [
       "Index(['locus.contig', 'locus.position', 'alleles', 'rsid',\n",
       "       'gnomAD_v3_1_allele_frequency', 'gnomAD_v3_1_homozygote_count',\n",
       "       'predicted_most_severe_consequence', 'gene', 'hpo', 'controls_non_ref',\n",
       "       'sports_non_ref', 'samples_het', 'samples_hom_non_ref', 'gts_non_ref',\n",
       "       'gts_ref', 'percent_gts_non_ref', 'percent_gts_ref',\n",
       "       'percent_gts_genotyped'],\n",
       "      dtype='object')"
      ]
     },
     "execution_count": 286,
     "metadata": {},
     "output_type": "execute_result"
    }
   ],
   "source": [
    "to_export.columns"
   ]
  },
  {
   "cell_type": "code",
   "execution_count": 287,
   "metadata": {},
   "outputs": [],
   "source": [
    "to_export.to_csv('rare_variants_sportsmen')"
   ]
  },
  {
   "cell_type": "code",
   "execution_count": 288,
   "metadata": {},
   "outputs": [
    {
     "data": {
      "text/html": [
       "<div>\n",
       "<style scoped>\n",
       "    .dataframe tbody tr th:only-of-type {\n",
       "        vertical-align: middle;\n",
       "    }\n",
       "\n",
       "    .dataframe tbody tr th {\n",
       "        vertical-align: top;\n",
       "    }\n",
       "\n",
       "    .dataframe thead th {\n",
       "        text-align: right;\n",
       "    }\n",
       "</style>\n",
       "<table border=\"1\" class=\"dataframe\">\n",
       "  <thead>\n",
       "    <tr style=\"text-align: right;\">\n",
       "      <th></th>\n",
       "      <th>locus.contig</th>\n",
       "      <th>locus.position</th>\n",
       "      <th>alleles</th>\n",
       "      <th>rsid</th>\n",
       "      <th>gnomAD_v3_1_allele_frequency</th>\n",
       "      <th>gnomAD_v3_1_homozygote_count</th>\n",
       "      <th>predicted_most_severe_consequence</th>\n",
       "      <th>gene</th>\n",
       "      <th>hpo</th>\n",
       "      <th>controls_non_ref</th>\n",
       "      <th>sports_non_ref</th>\n",
       "      <th>samples_het</th>\n",
       "      <th>samples_hom_non_ref</th>\n",
       "      <th>gts_non_ref</th>\n",
       "      <th>gts_ref</th>\n",
       "      <th>percent_gts_non_ref</th>\n",
       "      <th>percent_gts_ref</th>\n",
       "      <th>percent_gts_genotyped</th>\n",
       "    </tr>\n",
       "  </thead>\n",
       "  <tbody>\n",
       "    <tr>\n",
       "      <th>0</th>\n",
       "      <td>chr15</td>\n",
       "      <td>89315318</td>\n",
       "      <td>[C, T]</td>\n",
       "      <td>rs121918164</td>\n",
       "      <td>0.000093</td>\n",
       "      <td>0</td>\n",
       "      <td>stop_gained</td>\n",
       "      <td>[FANCI, POLG]</td>\n",
       "      <td>[[HP:0000072:Hydroureter, HP:0001053:Hypopigme...</td>\n",
       "      <td>0</td>\n",
       "      <td>3</td>\n",
       "      <td>[B439, B480, B482]</td>\n",
       "      <td>[]</td>\n",
       "      <td>0</td>\n",
       "      <td>40</td>\n",
       "      <td>0.0</td>\n",
       "      <td>100.0</td>\n",
       "      <td>100.0</td>\n",
       "    </tr>\n",
       "    <tr>\n",
       "      <th>1</th>\n",
       "      <td>chr16</td>\n",
       "      <td>5239977</td>\n",
       "      <td>[G, T]</td>\n",
       "      <td>rs1472046975</td>\n",
       "      <td>0.000032</td>\n",
       "      <td>0</td>\n",
       "      <td>stop_gained</td>\n",
       "      <td>[RBFOX1]</td>\n",
       "      <td>[None]</td>\n",
       "      <td>2</td>\n",
       "      <td>3</td>\n",
       "      <td>[B382, B431, B533, S_7213, S_7241]</td>\n",
       "      <td>[]</td>\n",
       "      <td>1</td>\n",
       "      <td>38</td>\n",
       "      <td>2.5</td>\n",
       "      <td>95.0</td>\n",
       "      <td>97.5</td>\n",
       "    </tr>\n",
       "  </tbody>\n",
       "</table>\n",
       "</div>"
      ],
      "text/plain": [
       "  locus.contig  locus.position alleles          rsid  \\\n",
       "0        chr15        89315318  [C, T]   rs121918164   \n",
       "1        chr16         5239977  [G, T]  rs1472046975   \n",
       "\n",
       "   gnomAD_v3_1_allele_frequency  gnomAD_v3_1_homozygote_count  \\\n",
       "0                      0.000093                             0   \n",
       "1                      0.000032                             0   \n",
       "\n",
       "  predicted_most_severe_consequence           gene  \\\n",
       "0                       stop_gained  [FANCI, POLG]   \n",
       "1                       stop_gained       [RBFOX1]   \n",
       "\n",
       "                                                 hpo  controls_non_ref  \\\n",
       "0  [[HP:0000072:Hydroureter, HP:0001053:Hypopigme...                 0   \n",
       "1                                             [None]                 2   \n",
       "\n",
       "   sports_non_ref                         samples_het samples_hom_non_ref  \\\n",
       "0               3                  [B439, B480, B482]                  []   \n",
       "1               3  [B382, B431, B533, S_7213, S_7241]                  []   \n",
       "\n",
       "   gts_non_ref  gts_ref  percent_gts_non_ref  percent_gts_ref  \\\n",
       "0            0       40                  0.0            100.0   \n",
       "1            1       38                  2.5             95.0   \n",
       "\n",
       "   percent_gts_genotyped  \n",
       "0                  100.0  \n",
       "1                   97.5  "
      ]
     },
     "execution_count": 288,
     "metadata": {},
     "output_type": "execute_result"
    }
   ],
   "source": [
    "to_export"
   ]
  },
  {
   "cell_type": "markdown",
   "metadata": {},
   "source": [
    "### variant analysis in TTN (1 - filtering, 2 - fisher)"
   ]
  },
  {
   "cell_type": "code",
   "execution_count": 376,
   "metadata": {},
   "outputs": [],
   "source": [
    "mt = hl.read_matrix_table('/net/archive/groups/plggneuromol/sportsmen-wgs/mts/sporstmen-005-intragenic-filtered-better.mt')"
   ]
  },
  {
   "cell_type": "code",
   "execution_count": 377,
   "metadata": {},
   "outputs": [
    {
     "data": {
      "text/plain": [
       "(3154875, 147)"
      ]
     },
     "execution_count": 377,
     "metadata": {},
     "output_type": "execute_result"
    }
   ],
   "source": [
    "mt.count()"
   ]
  },
  {
   "cell_type": "code",
   "execution_count": 378,
   "metadata": {},
   "outputs": [],
   "source": [
    "mt = mt.filter_rows(mt.within_gene.contains('TTN'))"
   ]
  },
  {
   "cell_type": "code",
   "execution_count": 379,
   "metadata": {},
   "outputs": [],
   "source": [
    "mt = mt.filter_rows((mt.sports_non_ref == 0), keep=False)"
   ]
  },
  {
   "cell_type": "code",
   "execution_count": 383,
   "metadata": {},
   "outputs": [],
   "source": [
    "mt = mt.filter_rows(mt.gnomad_v3.v3_nfe.AF < 0.005)"
   ]
  },
  {
   "cell_type": "code",
   "execution_count": 384,
   "metadata": {},
   "outputs": [
    {
     "data": {
      "text/plain": [
       "(177, 147)"
      ]
     },
     "execution_count": 384,
     "metadata": {},
     "output_type": "execute_result"
    }
   ],
   "source": [
    "mt.count()"
   ]
  },
  {
   "cell_type": "code",
   "execution_count": 385,
   "metadata": {},
   "outputs": [
    {
     "data": {
      "text/plain": [
       "{'missense_variant': 112,\n",
       " 'splice_region_variant': 5,\n",
       " 'inframe_deletion': 3,\n",
       " 'synonymous_variant': 49,\n",
       " '3_prime_UTR_variant': 8}"
      ]
     },
     "execution_count": 385,
     "metadata": {},
     "output_type": "execute_result"
    }
   ],
   "source": [
    "#select impactful variants\n",
    "\n",
    "mt.aggregate_rows(hl.agg.counter(mt.gnomad_v3.most_severe_consequence))"
   ]
  },
  {
   "cell_type": "code",
   "execution_count": 386,
   "metadata": {},
   "outputs": [
    {
     "name": "stderr",
     "output_type": "stream",
     "text": [
      "2021-04-23 21:46:08 Hail: INFO: wrote table with 177 rows in 3061 partitions to /net/archive/groups/plggneuromol/sportsmen-wgs/mts/to_test_ttn.ht\n",
      "    Total size: 65.90 KiB\n",
      "    * Rows: 65.89 KiB\n",
      "    * Globals: 11.00 B\n",
      "    * Smallest partition: 0 rows (21.00 B)\n",
      "    * Largest partition:  92 rows (1.61 KiB)\n"
     ]
    }
   ],
   "source": [
    "to_test = mt.rows()\n",
    "to_test = to_test.select(to_test.controls_non_ref, to_test.sports_non_ref, to_test.controls_ref, to_test.sports_ref)\n",
    "\n",
    "to_test.write('/net/archive/groups/plggneuromol/sportsmen-wgs/mts/to_test_ttn.ht')"
   ]
  },
  {
   "cell_type": "code",
   "execution_count": 387,
   "metadata": {
    "scrolled": true
   },
   "outputs": [],
   "source": [
    "to_test = hl.read_table('/net/archive/groups/plggneuromol/sportsmen-wgs/mts/to_test_ttn.ht')"
   ]
  },
  {
   "cell_type": "code",
   "execution_count": 388,
   "metadata": {},
   "outputs": [
    {
     "data": {
      "text/plain": [
       "177"
      ]
     },
     "execution_count": 388,
     "metadata": {},
     "output_type": "execute_result"
    }
   ],
   "source": [
    "to_test.count()"
   ]
  },
  {
   "cell_type": "code",
   "execution_count": 389,
   "metadata": {},
   "outputs": [],
   "source": [
    "to_test = to_test.annotate(fisher = hl.fisher_exact_test(hl.int32(to_test.controls_non_ref), \n",
    "                                                         hl.int32(to_test.controls_ref),\n",
    "                                                         hl.int32(to_test.sports_non_ref),\n",
    "                                                         hl.int32(to_test.sports_ref)))"
   ]
  },
  {
   "cell_type": "code",
   "execution_count": 390,
   "metadata": {},
   "outputs": [],
   "source": [
    "mt = hl.read_matrix_table('/net/archive/groups/plggneuromol/sportsmen-wgs/mts/sporstmen-005-intragenic-filtered-better.mt')"
   ]
  },
  {
   "cell_type": "code",
   "execution_count": 391,
   "metadata": {},
   "outputs": [],
   "source": [
    "mt_test = mt.filter_rows(hl.is_defined(to_test[mt.row_key]), keep = True)"
   ]
  },
  {
   "cell_type": "code",
   "execution_count": 392,
   "metadata": {},
   "outputs": [],
   "source": [
    "mt_test = mt_test.annotate_rows(fisher = to_test[mt_test.row_key]['fisher'])"
   ]
  },
  {
   "cell_type": "code",
   "execution_count": 393,
   "metadata": {},
   "outputs": [],
   "source": [
    "mt_test = mt_test.select_rows(rsid = mt_test.gnomad_v3.rsid,\n",
    "                                 gnomAD_v3_1_allele_frequency = mt_test.gnomad_v3.v3_nfe.AF,\n",
    "                                 gnomAD_v3_1_homozygote_count = mt_test.gnomad_v3.v3_nfe.homozygote_count,\n",
    "                                 predicted_most_severe_consequence = mt_test.gnomad_v3.most_severe_consequence,\n",
    "                                 gene = mt_test.within_gene,\n",
    "                                 hpo = mt_test.hpo,\n",
    "                                 controls_non_ref = mt_test.controls_non_ref,\n",
    "                                 sports_non_ref = mt_test.sports_non_ref,\n",
    "                                 controls_ref = mt_test.controls_ref,\n",
    "                                 sports_ref = mt_test.sports_ref,\n",
    "                                 percent_controls_non_ref = mt_test.controls_non_ref/47*100,\n",
    "                                 percent_sports_non_ref = mt_test.sports_non_ref/100*100,\n",
    "                                 percent_controls_ref = mt_test.controls_ref/47*100,\n",
    "                                 percent_sports_ref = mt_test.sports_ref/100*100,\n",
    "                                 percent_sports_genotyped = (mt_test.sports_non_ref + mt_test.sports_ref)/100*100,\n",
    "                                 percent_controls_genotyped = (mt_test.controls_non_ref + mt_test.controls_ref)/47*100,\n",
    "                                 fisher = mt_test.fisher.p_value,\n",
    "                                 )"
   ]
  },
  {
   "cell_type": "code",
   "execution_count": 394,
   "metadata": {},
   "outputs": [],
   "source": [
    "mt_test = mt_test.filter_rows(hl.is_snp(mt_test.alleles[0], mt_test.alleles[1]))"
   ]
  },
  {
   "cell_type": "code",
   "execution_count": 395,
   "metadata": {},
   "outputs": [],
   "source": [
    "mt_test = mt_test.annotate_rows(\n",
    "    samples_het = hl.agg.filter(mt_test.GT.is_het(), hl.agg.collect(mt_test.s)),\n",
    "    samples_hom_non_ref = hl.agg.filter(mt_test.GT.is_hom_var(), hl.agg.collect(mt_test.s)))"
   ]
  },
  {
   "cell_type": "code",
   "execution_count": 396,
   "metadata": {},
   "outputs": [
    {
     "data": {
      "text/plain": [
       "(173, 147)"
      ]
     },
     "execution_count": 396,
     "metadata": {},
     "output_type": "execute_result"
    }
   ],
   "source": [
    "mt_test.count()"
   ]
  },
  {
   "cell_type": "code",
   "execution_count": 397,
   "metadata": {},
   "outputs": [],
   "source": [
    "### annotate with frequency in GTS:\n",
    "\n",
    "gts = hl.read_matrix_table('/net/archive/groups/plggneuromol/sportsmen-wgs/mts/unrelated-gts.mt')\n",
    "\n",
    "gts = gts.annotate_rows(gts_non_ref = hl.agg.count_where(gts.GT.is_non_ref()),\n",
    "                        gts_ref = hl.agg.count_where(gts.GT.is_hom_ref()))\n",
    "\n",
    "gts = gts.rows()\n",
    "\n",
    "gts = gts.select(gts_non_ref = gts.gts_non_ref,\n",
    "                 gts_ref = gts.gts_ref,\n",
    "                 percent_gts_non_ref = gts.gts_non_ref/40*100,\n",
    "                 percent_gts_ref = gts.gts_ref/40*100,\n",
    "                 percent_gts_genotyped = (gts.gts_non_ref + gts.gts_ref)/40*100)\n",
    "\n",
    "mt_test = mt_test.annotate_rows(gts_non_ref = gts.index(mt_test.row_key).gts_non_ref,\n",
    "                                gts_ref = gts.index(mt_test.row_key).gts_ref,\n",
    "                                percent_gts_non_ref = gts.index(mt_test.row_key).percent_gts_non_ref,\n",
    "                                percent_gts_ref = gts.index(mt_test.row_key).percent_gts_ref,\n",
    "                                percent_gts_genotyped = gts.index(mt_test.row_key).percent_gts_genotyped)"
   ]
  },
  {
   "cell_type": "code",
   "execution_count": 398,
   "metadata": {},
   "outputs": [],
   "source": [
    "to_export = mt_test.rows()\n",
    "\n",
    "to_export = to_export.to_pandas()"
   ]
  },
  {
   "cell_type": "code",
   "execution_count": 399,
   "metadata": {},
   "outputs": [
    {
     "data": {
      "text/plain": [
       "Index(['locus.contig', 'locus.position', 'alleles', 'rsid',\n",
       "       'gnomAD_v3_1_allele_frequency', 'gnomAD_v3_1_homozygote_count',\n",
       "       'predicted_most_severe_consequence', 'gene', 'hpo', 'controls_non_ref',\n",
       "       'sports_non_ref', 'controls_ref', 'sports_ref',\n",
       "       'percent_controls_non_ref', 'percent_sports_non_ref',\n",
       "       'percent_controls_ref', 'percent_sports_ref',\n",
       "       'percent_sports_genotyped', 'percent_controls_genotyped', 'fisher',\n",
       "       'samples_het', 'samples_hom_non_ref', 'gts_non_ref', 'gts_ref',\n",
       "       'percent_gts_non_ref', 'percent_gts_ref', 'percent_gts_genotyped'],\n",
       "      dtype='object')"
      ]
     },
     "execution_count": 399,
     "metadata": {},
     "output_type": "execute_result"
    }
   ],
   "source": [
    "to_export.columns"
   ]
  },
  {
   "cell_type": "code",
   "execution_count": 400,
   "metadata": {},
   "outputs": [
    {
     "data": {
      "text/plain": [
       "(173, 27)"
      ]
     },
     "execution_count": 400,
     "metadata": {},
     "output_type": "execute_result"
    }
   ],
   "source": [
    "to_export.shape"
   ]
  },
  {
   "cell_type": "code",
   "execution_count": 401,
   "metadata": {},
   "outputs": [
    {
     "data": {
      "text/html": [
       "<div>\n",
       "<style scoped>\n",
       "    .dataframe tbody tr th:only-of-type {\n",
       "        vertical-align: middle;\n",
       "    }\n",
       "\n",
       "    .dataframe tbody tr th {\n",
       "        vertical-align: top;\n",
       "    }\n",
       "\n",
       "    .dataframe thead th {\n",
       "        text-align: right;\n",
       "    }\n",
       "</style>\n",
       "<table border=\"1\" class=\"dataframe\">\n",
       "  <thead>\n",
       "    <tr style=\"text-align: right;\">\n",
       "      <th></th>\n",
       "      <th>locus.contig</th>\n",
       "      <th>locus.position</th>\n",
       "      <th>alleles</th>\n",
       "      <th>rsid</th>\n",
       "      <th>gnomAD_v3_1_allele_frequency</th>\n",
       "      <th>gnomAD_v3_1_homozygote_count</th>\n",
       "      <th>predicted_most_severe_consequence</th>\n",
       "      <th>gene</th>\n",
       "      <th>hpo</th>\n",
       "      <th>controls_non_ref</th>\n",
       "      <th>...</th>\n",
       "      <th>percent_sports_genotyped</th>\n",
       "      <th>percent_controls_genotyped</th>\n",
       "      <th>fisher</th>\n",
       "      <th>samples_het</th>\n",
       "      <th>samples_hom_non_ref</th>\n",
       "      <th>gts_non_ref</th>\n",
       "      <th>gts_ref</th>\n",
       "      <th>percent_gts_non_ref</th>\n",
       "      <th>percent_gts_ref</th>\n",
       "      <th>percent_gts_genotyped</th>\n",
       "    </tr>\n",
       "  </thead>\n",
       "  <tbody>\n",
       "    <tr>\n",
       "      <th>0</th>\n",
       "      <td>chr2</td>\n",
       "      <td>178525997</td>\n",
       "      <td>[T, C]</td>\n",
       "      <td>rs72629798</td>\n",
       "      <td>0.003082</td>\n",
       "      <td>0</td>\n",
       "      <td>3_prime_UTR_variant</td>\n",
       "      <td>[TTN, TTN-AS1]</td>\n",
       "      <td>[[HP:0003687:Centrally nucleated skeletal musc...</td>\n",
       "      <td>0</td>\n",
       "      <td>...</td>\n",
       "      <td>93.0</td>\n",
       "      <td>100.0</td>\n",
       "      <td>0.550771</td>\n",
       "      <td>[B459, B81]</td>\n",
       "      <td>[]</td>\n",
       "      <td>1</td>\n",
       "      <td>38</td>\n",
       "      <td>2.5</td>\n",
       "      <td>95.0</td>\n",
       "      <td>97.5</td>\n",
       "    </tr>\n",
       "    <tr>\n",
       "      <th>1</th>\n",
       "      <td>chr2</td>\n",
       "      <td>178526270</td>\n",
       "      <td>[T, C]</td>\n",
       "      <td>rs72629797</td>\n",
       "      <td>0.000093</td>\n",
       "      <td>0</td>\n",
       "      <td>3_prime_UTR_variant</td>\n",
       "      <td>[TTN, TTN-AS1]</td>\n",
       "      <td>[[HP:0003687:Centrally nucleated skeletal musc...</td>\n",
       "      <td>0</td>\n",
       "      <td>...</td>\n",
       "      <td>93.0</td>\n",
       "      <td>100.0</td>\n",
       "      <td>1.000000</td>\n",
       "      <td>[B457]</td>\n",
       "      <td>[]</td>\n",
       "      <td>0</td>\n",
       "      <td>39</td>\n",
       "      <td>0.0</td>\n",
       "      <td>97.5</td>\n",
       "      <td>97.5</td>\n",
       "    </tr>\n",
       "    <tr>\n",
       "      <th>2</th>\n",
       "      <td>chr2</td>\n",
       "      <td>178527006</td>\n",
       "      <td>[G, T]</td>\n",
       "      <td>None</td>\n",
       "      <td>0.000774</td>\n",
       "      <td>0</td>\n",
       "      <td>3_prime_UTR_variant</td>\n",
       "      <td>[TTN, TTN-AS1]</td>\n",
       "      <td>[[HP:0003687:Centrally nucleated skeletal musc...</td>\n",
       "      <td>1</td>\n",
       "      <td>...</td>\n",
       "      <td>93.0</td>\n",
       "      <td>100.0</td>\n",
       "      <td>1.000000</td>\n",
       "      <td>[B518, WGS_37b]</td>\n",
       "      <td>[]</td>\n",
       "      <td>0</td>\n",
       "      <td>40</td>\n",
       "      <td>0.0</td>\n",
       "      <td>100.0</td>\n",
       "      <td>100.0</td>\n",
       "    </tr>\n",
       "    <tr>\n",
       "      <th>3</th>\n",
       "      <td>chr2</td>\n",
       "      <td>178527288</td>\n",
       "      <td>[T, C]</td>\n",
       "      <td>rs55832587</td>\n",
       "      <td>0.001657</td>\n",
       "      <td>0</td>\n",
       "      <td>synonymous_variant</td>\n",
       "      <td>[TTN, TTN-AS1]</td>\n",
       "      <td>[[HP:0003687:Centrally nucleated skeletal musc...</td>\n",
       "      <td>0</td>\n",
       "      <td>...</td>\n",
       "      <td>93.0</td>\n",
       "      <td>100.0</td>\n",
       "      <td>0.550771</td>\n",
       "      <td>[B435, B505]</td>\n",
       "      <td>[]</td>\n",
       "      <td>0</td>\n",
       "      <td>39</td>\n",
       "      <td>0.0</td>\n",
       "      <td>97.5</td>\n",
       "      <td>97.5</td>\n",
       "    </tr>\n",
       "    <tr>\n",
       "      <th>4</th>\n",
       "      <td>chr2</td>\n",
       "      <td>178529113</td>\n",
       "      <td>[C, T]</td>\n",
       "      <td>rs56324602</td>\n",
       "      <td>0.001642</td>\n",
       "      <td>0</td>\n",
       "      <td>synonymous_variant</td>\n",
       "      <td>[TTN, TTN-AS1]</td>\n",
       "      <td>[[HP:0003687:Centrally nucleated skeletal musc...</td>\n",
       "      <td>0</td>\n",
       "      <td>...</td>\n",
       "      <td>93.0</td>\n",
       "      <td>100.0</td>\n",
       "      <td>0.550771</td>\n",
       "      <td>[B435, B505]</td>\n",
       "      <td>[]</td>\n",
       "      <td>0</td>\n",
       "      <td>40</td>\n",
       "      <td>0.0</td>\n",
       "      <td>100.0</td>\n",
       "      <td>100.0</td>\n",
       "    </tr>\n",
       "    <tr>\n",
       "      <th>...</th>\n",
       "      <td>...</td>\n",
       "      <td>...</td>\n",
       "      <td>...</td>\n",
       "      <td>...</td>\n",
       "      <td>...</td>\n",
       "      <td>...</td>\n",
       "      <td>...</td>\n",
       "      <td>...</td>\n",
       "      <td>...</td>\n",
       "      <td>...</td>\n",
       "      <td>...</td>\n",
       "      <td>...</td>\n",
       "      <td>...</td>\n",
       "      <td>...</td>\n",
       "      <td>...</td>\n",
       "      <td>...</td>\n",
       "      <td>...</td>\n",
       "      <td>...</td>\n",
       "      <td>...</td>\n",
       "      <td>...</td>\n",
       "      <td>...</td>\n",
       "    </tr>\n",
       "    <tr>\n",
       "      <th>168</th>\n",
       "      <td>chr2</td>\n",
       "      <td>178795088</td>\n",
       "      <td>[C, G]</td>\n",
       "      <td>rs56128843</td>\n",
       "      <td>0.001843</td>\n",
       "      <td>0</td>\n",
       "      <td>missense_variant</td>\n",
       "      <td>[TTN]</td>\n",
       "      <td>[[HP:0003687:Centrally nucleated skeletal musc...</td>\n",
       "      <td>0</td>\n",
       "      <td>...</td>\n",
       "      <td>93.0</td>\n",
       "      <td>100.0</td>\n",
       "      <td>0.550771</td>\n",
       "      <td>[B435, B505]</td>\n",
       "      <td>[]</td>\n",
       "      <td>0</td>\n",
       "      <td>39</td>\n",
       "      <td>0.0</td>\n",
       "      <td>97.5</td>\n",
       "      <td>97.5</td>\n",
       "    </tr>\n",
       "    <tr>\n",
       "      <th>169</th>\n",
       "      <td>chr2</td>\n",
       "      <td>178800552</td>\n",
       "      <td>[G, A]</td>\n",
       "      <td>None</td>\n",
       "      <td>0.001750</td>\n",
       "      <td>0</td>\n",
       "      <td>synonymous_variant</td>\n",
       "      <td>[TTN]</td>\n",
       "      <td>[[HP:0003687:Centrally nucleated skeletal musc...</td>\n",
       "      <td>0</td>\n",
       "      <td>...</td>\n",
       "      <td>93.0</td>\n",
       "      <td>100.0</td>\n",
       "      <td>0.550771</td>\n",
       "      <td>[B435, B505]</td>\n",
       "      <td>[]</td>\n",
       "      <td>0</td>\n",
       "      <td>39</td>\n",
       "      <td>0.0</td>\n",
       "      <td>97.5</td>\n",
       "      <td>97.5</td>\n",
       "    </tr>\n",
       "    <tr>\n",
       "      <th>170</th>\n",
       "      <td>chr2</td>\n",
       "      <td>178804577</td>\n",
       "      <td>[G, A]</td>\n",
       "      <td>rs143623862</td>\n",
       "      <td>0.000062</td>\n",
       "      <td>0</td>\n",
       "      <td>synonymous_variant</td>\n",
       "      <td>[TTN]</td>\n",
       "      <td>[[HP:0003687:Centrally nucleated skeletal musc...</td>\n",
       "      <td>0</td>\n",
       "      <td>...</td>\n",
       "      <td>93.0</td>\n",
       "      <td>100.0</td>\n",
       "      <td>1.000000</td>\n",
       "      <td>[B477]</td>\n",
       "      <td>[]</td>\n",
       "      <td>0</td>\n",
       "      <td>40</td>\n",
       "      <td>0.0</td>\n",
       "      <td>100.0</td>\n",
       "      <td>100.0</td>\n",
       "    </tr>\n",
       "    <tr>\n",
       "      <th>171</th>\n",
       "      <td>chr2</td>\n",
       "      <td>178830033</td>\n",
       "      <td>[C, T]</td>\n",
       "      <td>rs76671760</td>\n",
       "      <td>0.001858</td>\n",
       "      <td>0</td>\n",
       "      <td>3_prime_UTR_variant</td>\n",
       "      <td>[AC092640.1, CCDC141, TTN]</td>\n",
       "      <td>[[HP:0000771:Gynecomastia, HP:0000054:Micropen...</td>\n",
       "      <td>0</td>\n",
       "      <td>...</td>\n",
       "      <td>93.0</td>\n",
       "      <td>100.0</td>\n",
       "      <td>0.550771</td>\n",
       "      <td>[B435, B505]</td>\n",
       "      <td>[]</td>\n",
       "      <td>0</td>\n",
       "      <td>39</td>\n",
       "      <td>0.0</td>\n",
       "      <td>97.5</td>\n",
       "      <td>97.5</td>\n",
       "    </tr>\n",
       "    <tr>\n",
       "      <th>172</th>\n",
       "      <td>chr2</td>\n",
       "      <td>178830258</td>\n",
       "      <td>[C, T]</td>\n",
       "      <td>rs142202497</td>\n",
       "      <td>0.001765</td>\n",
       "      <td>0</td>\n",
       "      <td>3_prime_UTR_variant</td>\n",
       "      <td>[AC092640.1, CCDC141, TTN]</td>\n",
       "      <td>[[HP:0000771:Gynecomastia, HP:0000054:Micropen...</td>\n",
       "      <td>0</td>\n",
       "      <td>...</td>\n",
       "      <td>93.0</td>\n",
       "      <td>100.0</td>\n",
       "      <td>0.550771</td>\n",
       "      <td>[B435, B505]</td>\n",
       "      <td>[]</td>\n",
       "      <td>0</td>\n",
       "      <td>39</td>\n",
       "      <td>0.0</td>\n",
       "      <td>97.5</td>\n",
       "      <td>97.5</td>\n",
       "    </tr>\n",
       "  </tbody>\n",
       "</table>\n",
       "<p>173 rows × 27 columns</p>\n",
       "</div>"
      ],
      "text/plain": [
       "    locus.contig  locus.position alleles         rsid  \\\n",
       "0           chr2       178525997  [T, C]   rs72629798   \n",
       "1           chr2       178526270  [T, C]   rs72629797   \n",
       "2           chr2       178527006  [G, T]         None   \n",
       "3           chr2       178527288  [T, C]   rs55832587   \n",
       "4           chr2       178529113  [C, T]   rs56324602   \n",
       "..           ...             ...     ...          ...   \n",
       "168         chr2       178795088  [C, G]   rs56128843   \n",
       "169         chr2       178800552  [G, A]         None   \n",
       "170         chr2       178804577  [G, A]  rs143623862   \n",
       "171         chr2       178830033  [C, T]   rs76671760   \n",
       "172         chr2       178830258  [C, T]  rs142202497   \n",
       "\n",
       "     gnomAD_v3_1_allele_frequency  gnomAD_v3_1_homozygote_count  \\\n",
       "0                        0.003082                             0   \n",
       "1                        0.000093                             0   \n",
       "2                        0.000774                             0   \n",
       "3                        0.001657                             0   \n",
       "4                        0.001642                             0   \n",
       "..                            ...                           ...   \n",
       "168                      0.001843                             0   \n",
       "169                      0.001750                             0   \n",
       "170                      0.000062                             0   \n",
       "171                      0.001858                             0   \n",
       "172                      0.001765                             0   \n",
       "\n",
       "    predicted_most_severe_consequence                        gene  \\\n",
       "0                 3_prime_UTR_variant              [TTN, TTN-AS1]   \n",
       "1                 3_prime_UTR_variant              [TTN, TTN-AS1]   \n",
       "2                 3_prime_UTR_variant              [TTN, TTN-AS1]   \n",
       "3                  synonymous_variant              [TTN, TTN-AS1]   \n",
       "4                  synonymous_variant              [TTN, TTN-AS1]   \n",
       "..                                ...                         ...   \n",
       "168                  missense_variant                       [TTN]   \n",
       "169                synonymous_variant                       [TTN]   \n",
       "170                synonymous_variant                       [TTN]   \n",
       "171               3_prime_UTR_variant  [AC092640.1, CCDC141, TTN]   \n",
       "172               3_prime_UTR_variant  [AC092640.1, CCDC141, TTN]   \n",
       "\n",
       "                                                   hpo  controls_non_ref  ...  \\\n",
       "0    [[HP:0003687:Centrally nucleated skeletal musc...                 0  ...   \n",
       "1    [[HP:0003687:Centrally nucleated skeletal musc...                 0  ...   \n",
       "2    [[HP:0003687:Centrally nucleated skeletal musc...                 1  ...   \n",
       "3    [[HP:0003687:Centrally nucleated skeletal musc...                 0  ...   \n",
       "4    [[HP:0003687:Centrally nucleated skeletal musc...                 0  ...   \n",
       "..                                                 ...               ...  ...   \n",
       "168  [[HP:0003687:Centrally nucleated skeletal musc...                 0  ...   \n",
       "169  [[HP:0003687:Centrally nucleated skeletal musc...                 0  ...   \n",
       "170  [[HP:0003687:Centrally nucleated skeletal musc...                 0  ...   \n",
       "171  [[HP:0000771:Gynecomastia, HP:0000054:Micropen...                 0  ...   \n",
       "172  [[HP:0000771:Gynecomastia, HP:0000054:Micropen...                 0  ...   \n",
       "\n",
       "     percent_sports_genotyped  percent_controls_genotyped    fisher  \\\n",
       "0                        93.0                       100.0  0.550771   \n",
       "1                        93.0                       100.0  1.000000   \n",
       "2                        93.0                       100.0  1.000000   \n",
       "3                        93.0                       100.0  0.550771   \n",
       "4                        93.0                       100.0  0.550771   \n",
       "..                        ...                         ...       ...   \n",
       "168                      93.0                       100.0  0.550771   \n",
       "169                      93.0                       100.0  0.550771   \n",
       "170                      93.0                       100.0  1.000000   \n",
       "171                      93.0                       100.0  0.550771   \n",
       "172                      93.0                       100.0  0.550771   \n",
       "\n",
       "         samples_het  samples_hom_non_ref  gts_non_ref  gts_ref  \\\n",
       "0        [B459, B81]                   []            1       38   \n",
       "1             [B457]                   []            0       39   \n",
       "2    [B518, WGS_37b]                   []            0       40   \n",
       "3       [B435, B505]                   []            0       39   \n",
       "4       [B435, B505]                   []            0       40   \n",
       "..               ...                  ...          ...      ...   \n",
       "168     [B435, B505]                   []            0       39   \n",
       "169     [B435, B505]                   []            0       39   \n",
       "170           [B477]                   []            0       40   \n",
       "171     [B435, B505]                   []            0       39   \n",
       "172     [B435, B505]                   []            0       39   \n",
       "\n",
       "     percent_gts_non_ref  percent_gts_ref  percent_gts_genotyped  \n",
       "0                    2.5             95.0                   97.5  \n",
       "1                    0.0             97.5                   97.5  \n",
       "2                    0.0            100.0                  100.0  \n",
       "3                    0.0             97.5                   97.5  \n",
       "4                    0.0            100.0                  100.0  \n",
       "..                   ...              ...                    ...  \n",
       "168                  0.0             97.5                   97.5  \n",
       "169                  0.0             97.5                   97.5  \n",
       "170                  0.0            100.0                  100.0  \n",
       "171                  0.0             97.5                   97.5  \n",
       "172                  0.0             97.5                   97.5  \n",
       "\n",
       "[173 rows x 27 columns]"
      ]
     },
     "execution_count": 401,
     "metadata": {},
     "output_type": "execute_result"
    }
   ],
   "source": [
    "to_export"
   ]
  },
  {
   "cell_type": "code",
   "execution_count": 403,
   "metadata": {},
   "outputs": [],
   "source": [
    "to_export.to_csv('ttn')"
   ]
  },
  {
   "cell_type": "code",
   "execution_count": null,
   "metadata": {},
   "outputs": [],
   "source": []
  }
 ],
 "metadata": {
  "kernelspec": {
   "display_name": "Python 3",
   "language": "python",
   "name": "python3"
  },
  "language_info": {
   "codemirror_mode": {
    "name": "ipython",
    "version": 3
   },
   "file_extension": ".py",
   "mimetype": "text/x-python",
   "name": "python",
   "nbconvert_exporter": "python",
   "pygments_lexer": "ipython3",
   "version": "3.6.5"
  }
 },
 "nbformat": 4,
 "nbformat_minor": 2
}
